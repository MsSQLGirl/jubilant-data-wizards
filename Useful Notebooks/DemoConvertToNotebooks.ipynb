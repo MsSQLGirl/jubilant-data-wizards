{
    "metadata": {
        "kernelspec": {
            "name": ".net-powershell",
            "display_name": ".NET (PowerShell)",
            "language": "PowerShell"
        },
        "language_info": {
            "name": "PowerShell",
            "version": "7.0",
            "mimetype": "text/x-powershell",
            "file_extension": ".ps1",
            "pygments_lexer": "powershell"
        }
    },
    "nbformat_minor": 2,
    "nbformat": 4,
    "cells": [
        {
            "cell_type": "markdown",
            "source": [
                "# Simple example of Converting Existing Scripts to Notebooks\r\n",
                "\r\n",
                "Created by: Julie Koesmarno (@MsSQLGirl)\r\n",
                "\r\n",
                "This notebook provides an example of converting SQL and PowerShell files to Notebooks. Very simple example!\r\n",
                ""
            ],
            "metadata": {
                "azdata_cell_guid": "3d2b677e-2976-4326-9d5d-cc8cdbd1f049"
            }
        },
        {
            "cell_type": "markdown",
            "source": [
                "## Check if PowerShellNotebook module already exists."
            ],
            "metadata": {
                "azdata_cell_guid": "46dc9004-9d5e-42e5-8caa-0b33a3419876"
            }
        },
        {
            "cell_type": "code",
            "source": [
                "# Install-Module -Name PowerShellNotebook # may need ot be run as Admin\r\n",
                "Get-Module -ListAvailable | Where Name -Like *Notebook"
            ],
            "metadata": {
                "azdata_cell_guid": "70f9ab19-587c-4dab-813f-598fdc30de33"
            },
            "outputs": [],
            "execution_count": null
        },
        {
            "cell_type": "code",
            "source": [
                "mkdir \"c:\\temp\\RawFiles\"\r\n",
                "cd \"c:\\temp\\RawFiles\""
            ],
            "metadata": {
                "azdata_cell_guid": "937a93aa-1d24-4886-b160-6e302b7b7645",
                "tags": []
            },
            "outputs": [],
            "execution_count": null
        },
        {
            "cell_type": "markdown",
            "source": [
                "## Download Sample Files\n",
                "\n",
                "Download some files from Tiger Toolbox Github account.\n",
                "\n",
                "> **Tip**: You can also copy a PowerShell script from docs.microsoft.com like this: [https://docs.microsoft.com/en-us/azure/azure-sql/database/scripts/restore-database-powershell](https://docs.microsoft.com/en-us/azure/azure-sql/database/scripts/restore-database-powershell)"
            ],
            "metadata": {
                "azdata_cell_guid": "e4574da5-2122-4bda-b5c6-7b4c8f3d7cfa"
            }
        },
        {
            "cell_type": "code",
            "source": [
                "irm https://raw.githubusercontent.com/microsoft/tigertoolbox/master/SQL-Performance-Baseline/CREATECollectionJob.sql > '.\\CREATECollectionJob.sql'\r\n",
                "irm https://raw.githubusercontent.com/microsoft/tigertoolbox/master/SQL-Performance-Baseline/CREATEDATABASE.sql > '.\\CREATEDATABASE.sql'\r\n",
                "irm https://raw.githubusercontent.com/microsoft/tigertoolbox/master/SQL-Performance-Baseline/CREATEOBJECTS.sql > '.\\CREATEOBJECTS.sql'\r\n",
                "irm https://raw.githubusercontent.com/microsoft/tigertoolbox/master/SQL-Performance-Baseline/CreateSystemhealthDBAndSchema.sql > '.\\CreateSystemhealthDBAndSchema.sql'\r\n",
                "irm https://raw.githubusercontent.com/microsoft/tigertoolbox/master/SQL-Performance-Baseline/Get-SQLPerfCounters.ps1 > '.\\Get-SQLPerfCounters.ps1'\r\n",
                "irm https://raw.githubusercontent.com/microsoft/tigertoolbox/master/SQL-Performance-Baseline/Out-DataTable.ps1 > '.\\Out-DataTable.ps1'\r\n",
                "irm https://raw.githubusercontent.com/microsoft/tigertoolbox/master/SQL-Performance-Baseline/Write-DataTable.ps1 > '.\\Write-DataTable.ps1'\r\n",
                "\r\n",
                "Write-Output \"Downloaded a few files\""
            ],
            "metadata": {
                "azdata_cell_guid": "cc2b7752-5d16-4b74-9af5-ed250a0888a0"
            },
            "outputs": [],
            "execution_count": null
        },
        {
            "cell_type": "markdown",
            "source": [
                "Check to ensure that files are downloaded properly"
            ],
            "metadata": {
                "azdata_cell_guid": "13e566fb-8c03-4ee6-8d15-39d8c0e0c9ba"
            }
        },
        {
            "cell_type": "code",
            "source": [
                "Get-ChildItem -Path \"c:\\temp\\RawFiles\" | where {$_.extension -eq \".ps1\" -Or $_.extension -eq \".sql\"}\r\n",
                ""
            ],
            "metadata": {
                "azdata_cell_guid": "a40ad2e0-42b6-466a-8276-9f0b64b6f592",
                "tags": [
                    "hide_input"
                ]
            },
            "outputs": [],
            "execution_count": null
        },
        {
            "cell_type": "markdown",
            "source": [
                " Remove existing ipynb files if any."
            ],
            "metadata": {
                "azdata_cell_guid": "735b8455-f1fa-4b23-9ab1-3915261c2b2f"
            }
        },
        {
            "cell_type": "code",
            "source": [
                "cd \"c:\\temp\\RawFiles\"\r\n",
                "Remove-Item *.ipynb"
            ],
            "metadata": {
                "azdata_cell_guid": "fd8358b1-d864-4461-8035-db9d8b6410cf"
            },
            "outputs": [],
            "execution_count": null
        },
        {
            "cell_type": "code",
            "source": [
                "Get-ChildItem | where {$_.extension -eq \".ipynb\"}"
            ],
            "metadata": {
                "azdata_cell_guid": "640305dc-02fc-4b08-9cdb-0939a108bb47"
            },
            "outputs": [],
            "execution_count": null
        },
        {
            "cell_type": "markdown",
            "source": [
                "## Convert one file at a time\r\n",
                "\r\n",
                "This is an example of converting one at a time."
            ],
            "metadata": {
                "azdata_cell_guid": "596e8ef8-5cbf-4f59-a4ff-c41c6bfb6fc5"
            }
        },
        {
            "cell_type": "code",
            "source": [
                "ConvertTo-SQLNotebook \"c:\\temp\\RawFiles\\CREATECollectionJob.sql\" \"c:\\temp\\RawFiles\\CREATECollectionJob.ipynb\""
            ],
            "metadata": {
                "azdata_cell_guid": "619b779e-8692-447d-b580-82aa3e6cbc39"
            },
            "outputs": [],
            "execution_count": null
        },
        {
            "cell_type": "code",
            "source": [
                "ConvertTo-PowerShellNotebook -InputFileName  \"c:\\temp\\RawFiles\\Out-DataTable.ps1\" -OutputNotebookName \"c:\\temp\\RawFiles\\Out-DataTable.ipynb\""
            ],
            "metadata": {
                "azdata_cell_guid": "fa421ac7-5042-4aa1-a28e-34904aa540dd"
            },
            "outputs": [],
            "execution_count": null
        },
        {
            "cell_type": "markdown",
            "source": [
                "## Convert SQL files in bulk\r\n",
                "\r\n",
                "Convert SQL Files in the current directory to Notebook files."
            ],
            "metadata": {
                "azdata_cell_guid": "e2769da3-973c-4f82-b02c-c95586d04ff3"
            }
        },
        {
            "cell_type": "code",
            "source": [
                "$counter = 0\r\n",
                "\r\n",
                "Get-ChildItem -Recurse *.SQL | \r\n",
                "foreach {\r\n",
                "    Write-Output \"Converting $_\"\r\n",
                "    ConvertTo-SQLNoteBook -InputFileName $_.FullName -OutputNotebookName (Join-Path -Path (Split-Path -Path $_.FullName -Parent) -ChildPath ($_.Name -replace '.sql', '.ipynb' -replace \" \", \"-\" -replace \"_\", \"-\"))\r\n",
                "    $counter++\r\n",
                "}\r\n",
                "\r\n",
                "Write-Output \"DONE: Converted $counter notebooks\""
            ],
            "metadata": {
                "azdata_cell_guid": "e7b24ab8-25b9-4b22-a42e-e5fefc9149c3"
            },
            "outputs": [],
            "execution_count": null
        },
        {
            "cell_type": "markdown",
            "source": [
                "## Convert Powershell files in bulk\r\n",
                "\r\n",
                "Convert Powershell Files in the current directory to Notebook files."
            ],
            "metadata": {
                "azdata_cell_guid": "7233f912-1a7f-43a2-8954-0d57ee8a5917"
            }
        },
        {
            "cell_type": "code",
            "source": [
                "$counter = 0\r\n",
                "\r\n",
                "Get-ChildItem -Recurse *.ps1 | \r\n",
                "foreach {\r\n",
                "    Write-Output \"Converting $_\"\r\n",
                "    ConvertTo-PowershellNoteBook -InputFileName $_.FullName -OutputNotebookName (Join-Path -Path (Split-Path -Path $_.FullName -Parent) -ChildPath ($_.Name -replace '.ps1', '.ipynb' -replace \" \", \"-\" -replace \"_\", \"-\"))\r\n",
                "    $counter++\r\n",
                "}\r\n",
                "\r\n",
                "Write-Output \"DONE: Converted $counter notebooks\""
            ],
            "metadata": {
                "azdata_cell_guid": "278931c6-3fdd-47ef-a8ee-2f1c87131a94"
            },
            "outputs": [],
            "execution_count": null
        },
        {
            "cell_type": "markdown",
            "source": [
                "## Verify the conversions\r\n",
                "\r\n",
                "See the converted files. Now you can open them in Azure Data Studio"
            ],
            "metadata": {
                "azdata_cell_guid": "4002667f-9078-43a3-a968-5711b729ae93"
            }
        },
        {
            "cell_type": "code",
            "source": [
                "Get-ChildItem -Path \"c:\\temp\\RawFiles\" | where {$_.extension -eq \".ipynb\"}"
            ],
            "metadata": {
                "azdata_cell_guid": "062b77d7-a8d1-4b36-b80e-4cb047233e50"
            },
            "outputs": [],
            "execution_count": null
        }
    ]
}