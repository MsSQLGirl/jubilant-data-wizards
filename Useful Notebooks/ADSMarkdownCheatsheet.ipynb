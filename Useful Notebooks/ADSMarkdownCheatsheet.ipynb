{
    "metadata": {
        "kernelspec": {
            "name": "SQL",
            "display_name": "SQL",
            "language": "sql"
        },
        "language_info": {
            "name": "sql",
            "version": ""
        }
    },
    "nbformat_minor": 2,
    "nbformat": 4,
    "cells": [
        {
            "cell_type": "markdown",
            "source": [
                "# Markdown Cheatsheet\r\n",
                "\r\n",
                "I'm not sure who created this cheatsheet but it's been used quite a bit in my team :D \r\n",
                "\r\n",
                "![](../Simple%20Demo/Sample%20Notebooks%20-%20Data%20Analysis/images/markdown.png)\r\n",
                "\r\n",
                "\r\n",
                "\r\n",
                "> **Trivia**: Did you know that Content Writers of Microsoft Docs use markdown language all up to provide \r\n",
                "instructions to external customers on how to use products that we ship such as \r\n",
                "[SQL Server](https://docs.microsoft.com/sql/sql-server/what-s-new-in-sql-server-ver15), \r\n",
                "[Azure SQL](https://docs.microsoft.com/sql/azure-data-studio/what-is-azure-data-studio), and \r\n",
                "[Azure Data Studio](http://aka.ms/AzureDataStudio)?\r\n",
                "\r\n",
                "#### Additional useful markers:  \r\n",
                "\r\n",
                "| markdown code | what it looks like |\r\n",
                "| -- | -- |\r\n",
                "| `<u>underline</u>`  | <u>underline</u> |\r\n",
                "| `<mark>highlight</mark>` | <mark>highlight</mark> |\r\n",
                "\r\n",
                "#### Table creation\r\n",
                "This is a table example when using markdown. \r\n",
                "> **Tip**: Only two dashes ( `--` ) are needed to form a table. \r\n",
                "\r\n",
                "```\r\n",
                "| Tables   |      Are      |  Cool  |\r\n",
                "|----------|:-------------:|-------:|\r\n",
                "| col 1 is |  left-aligned | \\$1600 |\r\n",
                "| col 2 is |    centered   |   \\$12 |\r\n",
                "| col 3 is | right-aligned |    \\$1 |\r\n",
                "```\r\n",
                "\r\n",
                "Will look like this:\r\n",
                "\r\n",
                "| Tables   |      Are      |  Cool  |\r\n",
                "|----------|:-------------:|-------:|\r\n",
                "| col 1 is |  left-aligned | \\$1600 |\r\n",
                "| col 2 is |    centered   |   \\$12 |\r\n",
                "| col 3 is | right-aligned |    \\$1 |\r\n",
                "\r\n",
                "\r\n",
                "#### Complex list example\r\n",
                "1. First level part 1\r\n",
                "    1. sub ordered list item 1  \r\n",
                "        * hanging bullet level 1\r\n",
                "            * hanging bullet level 2\r\n",
                "    2. sub ordered list item 2\r\n",
                "        1. use number instead \r\n",
                "2. First level part 2\r\n",
                "\r\n",
                "\r\n",
                "> **Tip**: To break a paragraph into a new line, add two empty spaces `  `. You do not need this when breaking for a new ordered list item or a new unordered list item. \r\n",
                "\r\n",
                "Markdown with two empty spaces after \"Line 1\": \r\n",
                "```\r\n",
                "Line 1  \r\n",
                "Line 2\r\n",
                "```\r\n",
                "\r\n",
                "What it looks like:  \r\n",
                "Line 1  \r\n",
                "Line 2"
            ],
            "metadata": {
                "azdata_cell_guid": "229f7c5c-dba5-4453-9067-736799696f29"
            }
        }
    ]
}