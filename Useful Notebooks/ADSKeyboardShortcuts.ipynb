{
    "metadata": {
        "kernelspec": {
            "name": "SQL",
            "display_name": "SQL",
            "language": "sql"
        },
        "language_info": {
            "name": "sql",
            "version": ""
        }
    },
    "nbformat_minor": 2,
    "nbformat": 4,
    "cells": [
        {
            "cell_type": "markdown",
            "source": [
                "# Azure Data Studio Keyboard shortcuts  cheatsheet\r\n",
                "\r\n",
                "These are my favorite Azure Data Studio shortcuts :) \r\n",
                "\r\n",
                "#### Useful when Navigating ADS\r\n",
                "\r\n",
                "| Keyboard shortcuts | Description |\r\n",
                "| :-- | :-- |\r\n",
                "| `Ctrl` + `Shift` + `P` | To launch a command pallette to execute other commands, such as *Developer Reload Window* | \r\n",
                "| `Ctrl` + `P` | To quickly look up and open a file based on some characters in the file name that are on the folder opened |\r\n",
                "| `Ctrl` + `K` + `S` | Look up Keyboard shortcuts |\r\n",
                "| `Ctrl` + ` | Open terminal |\r\n",
                "\r\n",
                "#### Useful when Editing Notebooks\r\n",
                "\r\n",
                "| Keyboard shortcuts | Description |\r\n",
                "| :-- | :-- |\r\n",
                "| `Esc` | To quickly exit out of edited notebook |\r\n",
                "| `Alt` + `Z` | Toggle wordwrap when editing markdowon / query editor |\r\n",
                "| `Ctrl` + `S` | Save file |\r\n",
                "| `Ctrl` + `Z` | Undo, while on edit mode in notebook| \r\n",
                "| `Ctrl` + `Y` | Redo, While on edit mode in notebook | \r\n",
                "| `Ctrl` + `\\` | Split window |\r\n",
                "| `↑` or `↓` or `Home` or `End` | Go up and down Notebook |\r\n",
                "| `Ctrl` + `+` | Zoom in | \r\n",
                "| `Ctrl` + `-` | Zoom out | \r\n",
                "| `Ctrl` + `0` | Reset | \r\n",
                "\r\n",
                "#### Activity Bar shortcuts\r\n",
                "\r\n",
                "| Keyboard shortcuts | Description |\r\n",
                "| :-- | :-- |\r\n",
                "| `Ctrl` + `Shift` + `D` | To launch the **Connections Viewlet** where you can see browse ADX clusters and other SQL servers |\r\n",
                "| `Ctrl` + `Shift` + `F` | To launch the **Search Viewlet** where you can search for files |\r\n",
                "| `Ctrl` + `Shift` + `E` | To launch the **Explorer Viewlet** where you can see Opened Files, Folder / workspace file structure, and Timeline |\r\n",
                "| `Ctrl` + `Shift` + `G` | To launch the **Source Control Viewlet** where you can view list of files changed and do manual git actions (outside of SimplePR) |\r\n",
                "| `Ctrl` + `Shift` + `X` | To launch the **Extensions Viewlet** where you can view a list of extensions, install the from market gallery or install vsix files from your local folder |\r\n",
                "\r\n",
                "\r\n",
                "### Bonus: Where are my opened files?\r\n",
                "\r\n",
                "When you have many files opened, you can use \r\n",
                "* `Ctrl` + `P` to see all opened files.\r\n",
                "* `Ctrl` + `Shift` + `E` to launch the Explorer extension to see the **Opened Files** tab.\r\n",
                ""
            ],
            "metadata": {
                "azdata_cell_guid": "9ca7ac0f-e36c-4e7d-b3e9-c81166a60efc"
            }
        }
    ]
}