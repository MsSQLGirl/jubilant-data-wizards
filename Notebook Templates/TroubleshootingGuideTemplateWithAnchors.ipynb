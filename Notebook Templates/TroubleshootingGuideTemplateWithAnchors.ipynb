{
    "metadata": {
        "kernelspec": {
            "name": "SQL",
            "display_name": "SQL",
            "language": "sql"
        },
        "language_info": {
            "name": "sql",
            "version": ""
        }
    },
    "nbformat_minor": 2,
    "nbformat": 4,
    "cells": [
        {
            "cell_type": "markdown",
            "source": [
                "# Troubleshooting Guide Title\r\n",
                "_Last updated:_ \\\r\n",
                "_Author(s):_ \r\n",
                "\r\n",
                "Great troubleshooting guide must provide sufficient details for DBA / Data Engineers / Software Engineers / *technicians* to:\r\n",
                "* observe and identify symptoms,\r\n",
                "* mitigate, \r\n",
                "* understand potential impact to users / customers,\r\n",
                "* verify that the issue has been mitigated, and \r\n",
                "* communicate back to the stakeholders.\r\n",
                "\r\n",
                "## Table of contents\r\n",
                "\r\n",
                "Jump to - \r\n",
                "* [Overview](#Overview)\r\n",
                "* [Symptoms](#Symptoms)\r\n",
                "    * [How to identify symptoms](#How-to-identify-symptoms)\r\n",
                "* [Mitigation](#Mitigation)\r\n",
                "    * [Risk / Impact to Customers / Users (if any)](#Risk--Impact-to-Customers--Users-if-any)\r\n",
                "    * [1. Mitigation Step 1](#1-Mitigation-Step-1)\r\n",
                "    * [2. Mitigation Step (n)](#2-Mitigation-Step-n)\r\n",
                "* [Communication / Notification](#Communication--Notification)\r\n",
                "* [Appendix](#Appendix)\r\n",
                "    * [Reference](#some-ref) (this is an example of using \"a id\" HTML element to do a deep link)\r\n",
                "\r\n",
                "> **Tip**:  The above is an example on how to do deep linking / anchoring to certain parts of notebooks.\r\n",
                "\r\n",
                "\r\n",
                "\r\n",
                ""
            ],
            "metadata": {
                "azdata_cell_guid": "d7e06713-0170-469a-abfe-6961a27b25c9"
            }
        },
        {
            "cell_type": "markdown",
            "source": [
                "## Overview\r\n",
                "* Describe background / reference materials on the module(s) / component(s) and errors that occured related to this Troubleshooting Guide.\r\n",
                "* Describe component owners / teams for this area, especially if Root Cause Analysis and Prevention measures are needed as a follow up for this symptom. \r\n",
                "\r\n",
                "## Symptoms\r\n",
                "* Describe the symptoms that users / customers are experiencing. \r\n",
                "\r\n",
                "### How to identify symptoms\r\n",
                "* Describe how to verify the symptoms from event log, traces, etc. \r\n",
                "\r\n",
                ""
            ],
            "metadata": {
                "azdata_cell_guid": "0658b9b4-497e-482b-a6e3-61ec15087d56"
            }
        },
        {
            "cell_type": "code",
            "source": [
                "-- Insert the code to identify symptoms"
            ],
            "metadata": {
                "azdata_cell_guid": "881adad7-e782-4e9c-adaf-09200259d068"
            },
            "outputs": [],
            "execution_count": null
        },
        {
            "cell_type": "markdown",
            "source": [
                "\r\n",
                "## Mitigation\r\n",
                "* Overview of the mitigation needed.\r\n",
                "\r\n",
                "### Risk / Impact to Customers / Users (if any)\r\n",
                "* Describe the risk / impact to customers if / when the mitigation is performed\r\n",
                "\r\n",
                "\r\n",
                ""
            ],
            "metadata": {
                "azdata_cell_guid": "26862bc3-7ca7-4fa9-ac85-f781aa65b530"
            }
        },
        {
            "cell_type": "markdown",
            "source": [
                "\r\n",
                "### 1. Mitigation Step 1\r\n",
                "* Describe in detail step by step on how to mitigate"
            ],
            "metadata": {
                "azdata_cell_guid": "d30cfe4d-04bf-4d5b-8e40-9ca2fa2b0387"
            }
        },
        {
            "cell_type": "code",
            "source": [
                "-- Code to mitigate step (n)"
            ],
            "metadata": {
                "azdata_cell_guid": "0d10d448-9521-4555-a517-7bb2d68548ca"
            },
            "outputs": [],
            "execution_count": null
        },
        {
            "cell_type": "markdown",
            "source": [
                "### 2. Mitigation Step (n)\r\n",
                "* Describe in detail step by step on how to mitigate"
            ],
            "metadata": {
                "azdata_cell_guid": "02fc8ac4-bea8-4539-90fc-8ce8c737c6f2"
            }
        },
        {
            "cell_type": "markdown",
            "source": [
                "\r\n",
                "## Verification\r\n",
                "\r\n",
                ""
            ],
            "metadata": {
                "azdata_cell_guid": "d778fdd1-007d-4e96-aff9-8b42ea8097f1"
            }
        },
        {
            "cell_type": "code",
            "source": [
                "-- Code to verify that the mitigation steps are working"
            ],
            "metadata": {
                "azdata_cell_guid": "255e79db-84aa-4306-8953-8bf09018d436"
            },
            "outputs": [],
            "execution_count": null
        },
        {
            "cell_type": "markdown",
            "source": [
                "## Communication / Notification\r\n",
                "* Describe what / how to notify stakeholders / customers / users that the mitigiation has been done. \r\n",
                "* Where applicable, describe how to notify the stakeholders for Root Cause Analysis and Prevention. "
            ],
            "metadata": {
                "azdata_cell_guid": "d65cbde1-b111-4406-9ff6-32b144741c78"
            }
        },
        {
            "cell_type": "markdown",
            "source": [
                "# Appendix\n",
                "\n",
                "-   Provide additional details.\n",
                "-   This can also serve as <a id=some-ref>reference</a> areas too. This paragraph contains \"a id\" HTML element that you can link to. `<a id=some-ref>`\n",
                "\n",
                "  "
            ],
            "metadata": {
                "azdata_cell_guid": "f192c0e7-ae53-4342-af18-66760477b542"
            }
        }
    ]
}