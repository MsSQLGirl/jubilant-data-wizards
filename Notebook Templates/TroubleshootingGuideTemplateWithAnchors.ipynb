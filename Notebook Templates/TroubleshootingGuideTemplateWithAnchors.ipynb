{
    "metadata": {
        "kernelspec": {
            "name": "SQL",
            "display_name": "SQL",
            "language": "sql"
        },
        "language_info": {
            "name": "sql",
            "version": ""
        },
        "azdata_notebook_guid": "ff619852-d3a0-41a0-9741-92fc936f520d"
    },
    "nbformat_minor": 2,
    "nbformat": 4,
    "cells": [
        {
            "cell_type": "markdown",
            "source": [
                "# Troubleshooting Guide Title\r\n",
                "_Last updated:_ \\\r\n",
                "_Author(s):_ \r\n",
                "\r\n",
                "Great troubleshooting guide must provide sufficient details for DBA / Data Engineers / Software Engineers / *technicians* to:\r\n",
                "* observe and identify symptoms,\r\n",
                "* mitigate, \r\n",
                "* understand potential impact to users / customers,\r\n",
                "* verify that the issue has been mitigated, and \r\n",
                "* communicate back to the stakeholders.\r\n",
                "\r\n",
                "> **Tip**: On the top of this TSG, a metadata block has been placed for tracking purposes as part of the Azure Global Compliant Automated Touches effort. For more details on how to fill the Metadata block, see [Metadata Block for TSGs](MetadataBlockForTSGs.ipynb).\r\n",
                "\r\n",
                "\r\n",
                "Jump to - \r\n",
                "* [Overview](#Overview)\r\n",
                "* [Symptoms](#Symptoms)\r\n",
                "    * [How to identify symptoms](#How-to-identify-symptoms)\r\n",
                "* [Mitigation](#Mitigation)\r\n",
                "    * [Risk / Impact to Customers / Users (if any)](#Risk--Impact-to-Customers--Users-if-any)\r\n",
                "    * [1. Mitigation Step 1](#1-Mitigation-Step-1)\r\n",
                "    * [2. Mitigation Step (n)](#2-Mitigation-Step-n)\r\n",
                "* [Communication / Notification](#Communication--Notification)\r\n",
                "* [Appendix](#Appendix)\r\n",
                "    * [Reference](#some-ref) (this is an example of using \"a id\" HTML element to do a deep link)\r\n",
                "\r\n",
                "> **Tip**:  The above is an example on how to do deep linking / anchoring to certain parts of notebooks.\r\n",
                "\r\n",
                "\r\n",
                "\r\n",
                ""
            ],
            "metadata": {
                "azdata_cell_guid": "1e5ca23a-5122-4c35-8e06-4c6407baff15"
            }
        },
        {
            "cell_type": "markdown",
            "source": [
                "## Oveview\r\n",
                "* Describe background / reference materials on the module(s) / component(s) and errors that occured related to this Troubleshooting Guide.\r\n",
                "* Describe component owners / teams for this area, especially if Root Cause Analysis and Prevention measures are needed as a follow up for this symptom. \r\n",
                "\r\n",
                "## Symptoms\r\n",
                "* Describe the symptoms that users / customers are experiencing. \r\n",
                "\r\n",
                "### How to identify symptoms\r\n",
                "* Describe how to verify the symptoms from event log, traces, etc. \r\n",
                "\r\n",
                ""
            ],
            "metadata": {
                "azdata_cell_guid": "2907e1b9-89e4-4152-8a07-fe2551a0e104"
            }
        },
        {
            "cell_type": "code",
            "source": [
                "-- Insert the code to identify symptoms"
            ],
            "metadata": {
                "azdata_cell_guid": "881adad7-e782-4e9c-adaf-09200259d068"
            },
            "outputs": [],
            "execution_count": null
        },
        {
            "cell_type": "markdown",
            "source": [
                "\r\n",
                "## Mitigation\r\n",
                "* Overview of the mitigation needed.\r\n",
                "\r\n",
                "### Risk / Impact to Customers / Users (if any)\r\n",
                "* Describe the risk / impact to customers if / when the mitigation is performed\r\n",
                "\r\n",
                "\r\n",
                ""
            ],
            "metadata": {
                "azdata_cell_guid": "a1fc3d38-9808-4e38-b43f-3b972865381a"
            }
        },
        {
            "cell_type": "markdown",
            "source": [
                "\r\n",
                "### 1. Mitigation Step 1\r\n",
                "* Describe in detail step by step on how to mitigate"
            ],
            "metadata": {
                "azdata_cell_guid": "9ab3008c-713a-4675-ae55-062bfb361ecd"
            }
        },
        {
            "cell_type": "code",
            "source": [
                "-- Code to mitigate step (n)"
            ],
            "metadata": {
                "azdata_cell_guid": "f8f945f4-c7e9-461f-95b4-4c5aaa275d34"
            },
            "outputs": [],
            "execution_count": null
        },
        {
            "cell_type": "markdown",
            "source": [
                "### 2. Mitigation Step (n)\r\n",
                "* Describe in detail step by step on how to mitigate"
            ],
            "metadata": {
                "azdata_cell_guid": "2e925a96-2c85-4a8f-baa9-50d5d6341b8a"
            }
        },
        {
            "cell_type": "markdown",
            "source": [
                "\r\n",
                "## Verification\r\n",
                "\r\n",
                ""
            ],
            "metadata": {
                "azdata_cell_guid": "b32022b3-0987-439e-b2ad-52ce2e12d595"
            }
        },
        {
            "cell_type": "code",
            "source": [
                "-- Code to verify that the mitigation steps are working"
            ],
            "metadata": {
                "azdata_cell_guid": "255e79db-84aa-4306-8953-8bf09018d436"
            },
            "outputs": [],
            "execution_count": null
        },
        {
            "cell_type": "markdown",
            "source": [
                "## Communication / Notification\r\n",
                "* Describe what / how to notify stakeholders / customers / users that the mitigiation has been done. \r\n",
                "* Where applicable, describe how to notify the stakeholders for Root Cause Analysis and Prevention. "
            ],
            "metadata": {
                "azdata_cell_guid": "72df21bf-d182-4683-9bcb-51581be76e96"
            }
        },
        {
            "cell_type": "markdown",
            "source": [
                "# Appendix\n",
                "\n",
                "-   Provide additional details.\n",
                "-   This can also serve as <a id=some-ref>reference</a> areas too. This paragraph contains \"a id\" HTML element that you can link to. `<a id=some-ref>`\n",
                "\n",
                "  "
            ],
            "metadata": {
                "azdata_cell_guid": "89d9daf9-1a58-4f46-aa9d-9081ee97fa7a"
            }
        }
    ]
}