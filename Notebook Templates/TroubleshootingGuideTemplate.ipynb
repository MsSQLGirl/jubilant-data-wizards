{
    "metadata": {
        "kernelspec": {
            "name": "SQL",
            "display_name": "SQL",
            "language": "sql"
        },
        "language_info": {
            "name": "sql",
            "version": ""
        }
    },
    "nbformat_minor": 2,
    "nbformat": 4,
    "cells": [
        {
            "cell_type": "markdown",
            "source": [
                "# Troubleshooting Guide Title\n",
                "_Last updated:_ \\\n",
                "_Author(s):_ \n",
                "\n",
                "Great troubleshooting guide must provide sufficient details for DBA / Data Engineers / Software Engineers / *technicians* to:\n",
                "* observe and identify symptoms,\n",
                "* mitigate, \n",
                "* understand potential impact to users / customers,\n",
                "* verify that the issue has been mitigated, and \n",
                "* communicate back to the stakeholders.\n",
                "\n",
                "> **Tip**: On the top of this TSG, a metadata block has been placed for tracking purposes as part of the Azure Global Compliant Automated Touches effort. For more details on how to fill the Metadata block, see [Metadata Block for TSGs](MetadataBlockForTSGs.ipynb).\n",
                "\n",
                "\n",
                "Jump to  \n",
                "* [Overview](#overview)\n",
                "* [Symptoms](#symptoms)\n",
                "    * [How to identify symptoms](#how-to-identify-symptoms)\n",
                "* [Mitigation](#mitigation)\n",
                "    * [Risk / Impact to Customers / Users (if any)](#risk--impact-to-customers--users-if-any)\n",
                "    * [1. Mitigation Step 1](#1-mitigation-step-1)\n",
                "    * [2. Mitigation Step (n)](#2-mitigation-step-n)\n",
                "* [Communication / Notification](#communication--notification)\n",
                "* [Appendix](#appendix)\n",
                "    * [Reference](#some-ref) (this is an example of using \"a id\" HTML element to do a deep link)\n",
                "\n",
                "> **Tip**:  The above is an example on how to do deep linking / anchoring to certain parts of notebooks.\n",
                "\n",
                "\n",
                "\n",
                ""
            ],
            "metadata": {
                "azdata_cell_guid": "1e5ca23a-5122-4c35-8e06-4c6407baff15"
            }
        },
        {
            "cell_type": "markdown",
            "source": [
                "## Oveview\n",
                "* Describe background / reference materials on the module(s) / component(s) and errors that occured related to this Troubleshooting Guide.\n",
                "* Describe component owners / teams for this area, especially if Root Cause Analysis and Prevention measures are needed as a follow up for this symptom. \n",
                "\n",
                "## Symptoms\n",
                "* Describe the symptoms that users / customers are experiencing. \n",
                "\n",
                "### How to identify symptoms\n",
                "* Describe how to verify the symptoms from event log, traces, etc. \n",
                "\n"
            ],
            "metadata": {
                "azdata_cell_guid": "2907e1b9-89e4-4152-8a07-fe2551a0e104"
            }
        },
        {
            "cell_type": "code",
            "source": [
                "-- Insert the code to identify symptoms"
            ],
            "metadata": {
                "azdata_cell_guid": "881adad7-e782-4e9c-adaf-09200259d068"
            },
            "outputs": [],
            "execution_count": null
        },
        {
            "cell_type": "markdown",
            "source": [
                "\n",
                "## Mitigation\n",
                "* Overview of the mitigation needed.\n",
                "\n",
                "### Risk / Impact to Customers / Users (if any)\n",
                "* Describe the risk / impact to customers if / when the mitigation is performed\n",
                "\n",
                "\n"
            ],
            "metadata": {
                "azdata_cell_guid": "a1fc3d38-9808-4e38-b43f-3b972865381a"
            }
        },
        {
            "cell_type": "markdown",
            "source": [
                "\n",
                "### 1. Mitigation Step 1\n",
                "* Describe in detail step by step on how to mitigate"
            ],
            "metadata": {
                "azdata_cell_guid": "9ab3008c-713a-4675-ae55-062bfb361ecd"
            }
        },
        {
            "cell_type": "code",
            "source": [
                "-- Code to mitigate step (n)"
            ],
            "metadata": {
                "azdata_cell_guid": "f8f945f4-c7e9-461f-95b4-4c5aaa275d34"
            },
            "outputs": [],
            "execution_count": null
        },
        {
            "cell_type": "markdown",
            "source": [
                "### 2. Mitigation Step (n)\n",
                "* Describe in detail step by step on how to mitigate"
            ],
            "metadata": {
                "azdata_cell_guid": "2e925a96-2c85-4a8f-baa9-50d5d6341b8a"
            }
        },
        {
            "cell_type": "markdown",
            "source": [
                "\n",
                "## Verification\n",
                "\n"
            ],
            "metadata": {
                "azdata_cell_guid": "b32022b3-0987-439e-b2ad-52ce2e12d595"
            }
        },
        {
            "cell_type": "code",
            "source": [
                "-- Code to verify that the mitigation steps are working"
            ],
            "metadata": {
                "azdata_cell_guid": "255e79db-84aa-4306-8953-8bf09018d436"
            },
            "outputs": [],
            "execution_count": null
        },
        {
            "cell_type": "markdown",
            "source": [
                "## Communication / Notification\n",
                "* Describe what / how to notify stakeholders / customers / users that the mitigiation has been done. \n",
                "* Where applicable, describe how to notify the stakeholders for Root Cause Analysis and Prevention. "
            ],
            "metadata": {
                "azdata_cell_guid": "72df21bf-d182-4683-9bcb-51581be76e96"
            }
        },
        {
            "cell_type": "markdown",
            "source": [
                "# Appendix\n",
                "\n",
                "-   Provide additional details.\n",
                "-   This can also serve as <a id=some-ref>reference</a> areas too. This paragraph contains \"a id\" HTML element that you can link to. `<a id=some-ref>`\n",
                "\n",
                "\n",
                "![](../media/TemplatesmediaTroubleshootingGuideTemplate-image01.png)"
            ],
            "metadata": {
                "azdata_cell_guid": "89d9daf9-1a58-4f46-aa9d-9081ee97fa7a"
            }
        }
    ]
}
