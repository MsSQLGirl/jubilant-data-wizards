{
    "metadata": {
        "kernelspec": {
            "name": "SQL",
            "display_name": "SQL",
            "language": "sql"
        },
        "language_info": {
            "name": "sql",
            "version": ""
        }
    },
    "nbformat_minor": 2,
    "nbformat": 4,
    "cells": [
        {
            "cell_type": "markdown",
            "source": [
                "# A Sample Notebook\r\n",
                "## *Useful T-SQL snippets for beginner Modern Database Developers*\r\n",
                "\r\n",
                "This notebook illustrates how we can create a simple SQL Notebook and use it to share information with other users. \r\n",
                "> Note: this notebook does not contain comprehensive T-SQL snippets. It only serves as a __sample__ script to illustrate a Troubleshooting Guide (TSG) or Useful Scripts with your team. \r\n",
                "\r\n",
                "To open this file, please use Azure Data Studio. \r\n",
                "* [What is Azure Data Studio?](https://docs.microsoft.com/sql/azure-data-studio/what-is)\r\n",
                "* [Download](https://docs.microsoft.com/sql/azure-data-studio/download) Azure Data Studio\r\n",
                "* Supported SQL RDBMS - SQL Server (supported versions), Azure SQL DB, Azure SQL DW.\r\n",
                "\r\n",
                "<table>\r\n",
                "<tr><td>Author:</td><td>Julie Koesmarno | <a href=\"http://twitter.com/mssqlgirl\">@MsSQLGirl</a> | <a href = \"http://MsSQLGirl.com\">MsSQLGirl.com</a></td></tr>\r\n",
                "<tr><td>Last updated:</td><td>Jan 2, 2020</td></tr>\r\n",
                "<tr><td>Repo:</td><td><a href=\"https://github.com/MsSQLGirl/jubilant-data-wizards/blob/master/Simple%20Demo/Simple%20SQL%20Notebook.ipynb\">GitHub</a></td></tr>\r\n",
                "<tr><td>Script compatibility:</td><td>SQL Server 2017 and above, Azure SQL Database Edge. (Note: I haven't tested this on SQL Server 2016 and below; or Azure SQL services. It may work :)</td></tr>\r\n",
                "</table>\r\n",
                "\r\n",
                ""
            ],
            "metadata": {
                "azdata_cell_guid": "f97ae540-f592-4461-8c1b-281b3a9adadf"
            }
        },
        {
            "cell_type": "markdown",
            "source": [
                "## Get a list of databases"
            ],
            "metadata": {
                "azdata_cell_guid": "c563da3b-781a-4a1b-9963-4b9f73d92661"
            }
        },
        {
            "cell_type": "code",
            "source": [
                "SELECT \n",
                "     [database_id]\n",
                "    ,[name]\n",
                "    ,[create_date]\n",
                "    ,[compatibility_level]\n",
                "    ,[state_desc]\n",
                "    ,[recovery_model_desc]\n",
                "    ,[is_memory_optimized_enabled]\n",
                "FROM [sys].[databases]"
            ],
            "metadata": {
                "azdata_cell_guid": "d9cbe33e-f0aa-421b-975b-2a568159be13",
                "tags": []
            },
            "outputs": [
                {
                    "output_type": "display_data",
                    "data": {
                        "text/html": "(5 rows affected)"
                    },
                    "metadata": {}
                },
                {
                    "output_type": "display_data",
                    "data": {
                        "text/html": "Total execution time: 00:00:00.094"
                    },
                    "metadata": {}
                },
                {
                    "output_type": "execute_result",
                    "execution_count": 14,
                    "data": {
                        "application/vnd.dataresource+json": {
                            "schema": {
                                "fields": [
                                    {
                                        "name": "database_id"
                                    },
                                    {
                                        "name": "name"
                                    },
                                    {
                                        "name": "create_date"
                                    },
                                    {
                                        "name": "compatibility_level"
                                    },
                                    {
                                        "name": "state_desc"
                                    },
                                    {
                                        "name": "recovery_model_desc"
                                    },
                                    {
                                        "name": "is_memory_optimized_enabled"
                                    }
                                ]
                            },
                            "data": [
                                {
                                    "0": "1",
                                    "1": "master",
                                    "2": "2003-04-08 09:13:36.390",
                                    "3": "150",
                                    "4": "ONLINE",
                                    "5": "SIMPLE",
                                    "6": "1"
                                },
                                {
                                    "0": "2",
                                    "1": "tempdb",
                                    "2": "2019-11-01 14:41:01.663",
                                    "3": "150",
                                    "4": "ONLINE",
                                    "5": "SIMPLE",
                                    "6": "1"
                                },
                                {
                                    "0": "3",
                                    "1": "model",
                                    "2": "2003-04-08 09:13:36.390",
                                    "3": "150",
                                    "4": "ONLINE",
                                    "5": "FULL",
                                    "6": "1"
                                },
                                {
                                    "0": "4",
                                    "1": "msdb",
                                    "2": "2019-10-11 11:53:33.357",
                                    "3": "150",
                                    "4": "ONLINE",
                                    "5": "SIMPLE",
                                    "6": "1"
                                },
                                {
                                    "0": "5",
                                    "1": "IronOreSilicaPrediction",
                                    "2": "2019-10-31 05:12:25.617",
                                    "3": "150",
                                    "4": "ONLINE",
                                    "5": "FULL",
                                    "6": "1"
                                }
                            ]
                        },
                        "text/html": "<table><tr><th>database_id</th><th>name</th><th>create_date</th><th>compatibility_level</th><th>state_desc</th><th>recovery_model_desc</th><th>is_memory_optimized_enabled</th></tr><tr><td>1</td><td>master</td><td>2003-04-08 09:13:36.390</td><td>150</td><td>ONLINE</td><td>SIMPLE</td><td>1</td></tr><tr><td>2</td><td>tempdb</td><td>2019-11-01 14:41:01.663</td><td>150</td><td>ONLINE</td><td>SIMPLE</td><td>1</td></tr><tr><td>3</td><td>model</td><td>2003-04-08 09:13:36.390</td><td>150</td><td>ONLINE</td><td>FULL</td><td>1</td></tr><tr><td>4</td><td>msdb</td><td>2019-10-11 11:53:33.357</td><td>150</td><td>ONLINE</td><td>SIMPLE</td><td>1</td></tr><tr><td>5</td><td>IronOreSilicaPrediction</td><td>2019-10-31 05:12:25.617</td><td>150</td><td>ONLINE</td><td>FULL</td><td>1</td></tr></table>"
                    },
                    "metadata": {}
                }
            ],
            "execution_count": 14
        },
        {
            "cell_type": "markdown",
            "source": [
                "## Show SQL version"
            ],
            "metadata": {
                "azdata_cell_guid": "2f574b94-2ae3-491f-9aea-7f2697fd9657"
            }
        },
        {
            "cell_type": "code",
            "source": [
                "SELECT @@VERSION AS [SQLVersion]"
            ],
            "metadata": {
                "azdata_cell_guid": "2f004588-305b-4639-a66f-700dffd6880e"
            },
            "outputs": [
                {
                    "output_type": "display_data",
                    "data": {
                        "text/html": "(1 row affected)"
                    },
                    "metadata": {}
                },
                {
                    "output_type": "display_data",
                    "data": {
                        "text/html": "Total execution time: 00:00:00.068"
                    },
                    "metadata": {}
                },
                {
                    "output_type": "execute_result",
                    "execution_count": 15,
                    "data": {
                        "application/vnd.dataresource+json": {
                            "schema": {
                                "fields": [
                                    {
                                        "name": "SQLVersion"
                                    }
                                ]
                            },
                            "data": [
                                {
                                    "0": "Microsoft Azure SQL Database Edge (CTP) - 15.0.2000.55 (X64) \n\tOct 23 2019 16:32:50 \n\tCopyright (C) 2019 Microsoft Corporation\n\tDeveloper Edition (64-bit) on Linux (Ubuntu 16.04.6 LTS) <X64>"
                                }
                            ]
                        },
                        "text/html": "<table><tr><th>SQLVersion</th></tr><tr><td>Microsoft Azure SQL Database Edge (CTP) - 15.0.2000.55 (X64) \n\tOct 23 2019 16:32:50 \n\tCopyright (C) 2019 Microsoft Corporation\n\tDeveloper Edition (64-bit) on Linux (Ubuntu 16.04.6 LTS) &lt;X64&gt;</td></tr></table>"
                    },
                    "metadata": {}
                }
            ],
            "execution_count": 15
        },
        {
            "cell_type": "markdown",
            "source": [
                "## Show Server Configurations\r\n",
                "\r\n",
                "Only display the top <span style=\"background-color: #FFFF00\">10</span> rows.\r\n",
                "\r\n",
                "<a id=tip1></a>\r\n",
                "> **Tip**: You can expand and collapse code cells"
            ],
            "metadata": {
                "azdata_cell_guid": "8be76aea-f144-4eb1-901a-d105a890332e"
            }
        },
        {
            "cell_type": "code",
            "source": [
                "SELECT TOP 10 * \r\n",
                "FROM [sys].[configurations]"
            ],
            "metadata": {
                "azdata_cell_guid": "cbc02c2d-7354-4d39-b272-49c05ecb7392",
                "tags": []
            },
            "outputs": [
                {
                    "output_type": "display_data",
                    "data": {
                        "text/html": "(10 rows affected)"
                    },
                    "metadata": {}
                },
                {
                    "output_type": "display_data",
                    "data": {
                        "text/html": "Total execution time: 00:00:00.073"
                    },
                    "metadata": {}
                },
                {
                    "output_type": "execute_result",
                    "execution_count": 16,
                    "data": {
                        "application/vnd.dataresource+json": {
                            "schema": {
                                "fields": [
                                    {
                                        "name": "configuration_id"
                                    },
                                    {
                                        "name": "name"
                                    },
                                    {
                                        "name": "value"
                                    },
                                    {
                                        "name": "minimum"
                                    },
                                    {
                                        "name": "maximum"
                                    },
                                    {
                                        "name": "value_in_use"
                                    },
                                    {
                                        "name": "description"
                                    },
                                    {
                                        "name": "is_dynamic"
                                    },
                                    {
                                        "name": "is_advanced"
                                    }
                                ]
                            },
                            "data": [
                                {
                                    "0": "101",
                                    "1": "recovery interval (min)",
                                    "2": "0",
                                    "3": "0",
                                    "4": "32767",
                                    "5": "0",
                                    "6": "Maximum recovery interval in minutes",
                                    "7": "1",
                                    "8": "1"
                                },
                                {
                                    "0": "102",
                                    "1": "allow updates",
                                    "2": "0",
                                    "3": "0",
                                    "4": "1",
                                    "5": "0",
                                    "6": "Allow updates to system tables",
                                    "7": "1",
                                    "8": "0"
                                },
                                {
                                    "0": "103",
                                    "1": "user connections",
                                    "2": "0",
                                    "3": "0",
                                    "4": "32767",
                                    "5": "0",
                                    "6": "Number of user connections allowed",
                                    "7": "0",
                                    "8": "1"
                                },
                                {
                                    "0": "106",
                                    "1": "locks",
                                    "2": "0",
                                    "3": "5000",
                                    "4": "2147483647",
                                    "5": "0",
                                    "6": "Number of locks for all users",
                                    "7": "0",
                                    "8": "1"
                                },
                                {
                                    "0": "107",
                                    "1": "open objects",
                                    "2": "0",
                                    "3": "0",
                                    "4": "2147483647",
                                    "5": "0",
                                    "6": "Number of open database objects",
                                    "7": "0",
                                    "8": "1"
                                },
                                {
                                    "0": "109",
                                    "1": "fill factor (%)",
                                    "2": "0",
                                    "3": "0",
                                    "4": "100",
                                    "5": "0",
                                    "6": "Default fill factor percentage",
                                    "7": "0",
                                    "8": "1"
                                },
                                {
                                    "0": "114",
                                    "1": "disallow results from triggers",
                                    "2": "0",
                                    "3": "0",
                                    "4": "1",
                                    "5": "0",
                                    "6": "Disallow returning results from triggers",
                                    "7": "1",
                                    "8": "1"
                                },
                                {
                                    "0": "115",
                                    "1": "nested triggers",
                                    "2": "1",
                                    "3": "0",
                                    "4": "1",
                                    "5": "1",
                                    "6": "Allow triggers to be invoked within triggers",
                                    "7": "1",
                                    "8": "0"
                                },
                                {
                                    "0": "116",
                                    "1": "server trigger recursion",
                                    "2": "1",
                                    "3": "0",
                                    "4": "1",
                                    "5": "1",
                                    "6": "Allow recursion for server level triggers",
                                    "7": "1",
                                    "8": "0"
                                },
                                {
                                    "0": "117",
                                    "1": "remote access",
                                    "2": "1",
                                    "3": "0",
                                    "4": "1",
                                    "5": "0",
                                    "6": "Allow remote access",
                                    "7": "0",
                                    "8": "0"
                                }
                            ]
                        },
                        "text/html": "<table><tr><th>configuration_id</th><th>name</th><th>value</th><th>minimum</th><th>maximum</th><th>value_in_use</th><th>description</th><th>is_dynamic</th><th>is_advanced</th></tr><tr><td>101</td><td>recovery interval (min)</td><td>0</td><td>0</td><td>32767</td><td>0</td><td>Maximum recovery interval in minutes</td><td>1</td><td>1</td></tr><tr><td>102</td><td>allow updates</td><td>0</td><td>0</td><td>1</td><td>0</td><td>Allow updates to system tables</td><td>1</td><td>0</td></tr><tr><td>103</td><td>user connections</td><td>0</td><td>0</td><td>32767</td><td>0</td><td>Number of user connections allowed</td><td>0</td><td>1</td></tr><tr><td>106</td><td>locks</td><td>0</td><td>5000</td><td>2147483647</td><td>0</td><td>Number of locks for all users</td><td>0</td><td>1</td></tr><tr><td>107</td><td>open objects</td><td>0</td><td>0</td><td>2147483647</td><td>0</td><td>Number of open database objects</td><td>0</td><td>1</td></tr><tr><td>109</td><td>fill factor (%)</td><td>0</td><td>0</td><td>100</td><td>0</td><td>Default fill factor percentage</td><td>0</td><td>1</td></tr><tr><td>114</td><td>disallow results from triggers</td><td>0</td><td>0</td><td>1</td><td>0</td><td>Disallow returning results from triggers</td><td>1</td><td>1</td></tr><tr><td>115</td><td>nested triggers</td><td>1</td><td>0</td><td>1</td><td>1</td><td>Allow triggers to be invoked within triggers</td><td>1</td><td>0</td></tr><tr><td>116</td><td>server trigger recursion</td><td>1</td><td>0</td><td>1</td><td>1</td><td>Allow recursion for server level triggers</td><td>1</td><td>0</td></tr><tr><td>117</td><td>remote access</td><td>1</td><td>0</td><td>1</td><td>0</td><td>Allow remote access</td><td>0</td><td>0</td></tr></table>"
                    },
                    "metadata": {}
                }
            ],
            "execution_count": 16
        },
        {
            "cell_type": "markdown",
            "source": [
                "## More info about the OS"
            ],
            "metadata": {
                "azdata_cell_guid": "30b95f89-494a-425f-861f-343dc3f48b6c"
            }
        },
        {
            "cell_type": "code",
            "source": [
                "SELECT [physical_memory_kb], [container_type_desc]\r\n",
                "FROM [sys].[dm_os_sys_info]\r\n",
                "\r\n",
                "SELECT [host_platform], [host_distribution], [host_release], [os_language_version], [host_architecture]\r\n",
                "FROM [sys].[dm_os_host_info]"
            ],
            "metadata": {
                "azdata_cell_guid": "5adc55f9-d0a8-42a0-b87d-9c1b44be03ca",
                "tags": []
            },
            "outputs": [
                {
                    "output_type": "display_data",
                    "data": {
                        "text/html": "(1 row affected)"
                    },
                    "metadata": {}
                },
                {
                    "output_type": "display_data",
                    "data": {
                        "text/html": "(1 row affected)"
                    },
                    "metadata": {}
                },
                {
                    "output_type": "display_data",
                    "data": {
                        "text/html": "Total execution time: 00:00:00.076"
                    },
                    "metadata": {}
                },
                {
                    "output_type": "execute_result",
                    "execution_count": 17,
                    "data": {
                        "application/vnd.dataresource+json": {
                            "schema": {
                                "fields": [
                                    {
                                        "name": "physical_memory_kb"
                                    },
                                    {
                                        "name": "container_type_desc"
                                    }
                                ]
                            },
                            "data": [
                                {
                                    "0": "2820096",
                                    "1": "LINUX CONTAINER"
                                }
                            ]
                        },
                        "text/html": "<table><tr><th>physical_memory_kb</th><th>container_type_desc</th></tr><tr><td>2820096</td><td>LINUX CONTAINER</td></tr></table>"
                    },
                    "metadata": {}
                },
                {
                    "output_type": "execute_result",
                    "execution_count": 17,
                    "data": {
                        "application/vnd.dataresource+json": {
                            "schema": {
                                "fields": [
                                    {
                                        "name": "host_platform"
                                    },
                                    {
                                        "name": "host_distribution"
                                    },
                                    {
                                        "name": "host_release"
                                    },
                                    {
                                        "name": "os_language_version"
                                    },
                                    {
                                        "name": "host_architecture"
                                    }
                                ]
                            },
                            "data": [
                                {
                                    "0": "Linux",
                                    "1": "Ubuntu",
                                    "2": "16.04",
                                    "3": "1033",
                                    "4": "X64"
                                }
                            ]
                        },
                        "text/html": "<table><tr><th>host_platform</th><th>host_distribution</th><th>host_release</th><th>os_language_version</th><th>host_architecture</th></tr><tr><td>Linux</td><td>Ubuntu</td><td>16.04</td><td>1033</td><td>X64</td></tr></table>"
                    },
                    "metadata": {}
                }
            ],
            "execution_count": 17
        },
        {
            "cell_type": "markdown",
            "source": [
                "Below shows some simple formatting that you could use in ipynb files. Check out Adam Pritchard's Markdown Cheatsheet [here](https://github.com/adam-p/markdown-here/wiki/Markdown-Cheatsheet).\r\n",
                "\r\n",
                "---\r\n",
                "\r\n",
                "# Header 1\r\n",
                "## Header 2\r\n",
                "### Header 3\r\n",
                "\r\n",
                "> Block\r\n",
                "\r\n",
                ">> Double Block\r\n",
                "\r\n",
                "Some simple paragraph here.\r\n",
                "\r\n",
                "Some simple line by line text <br>\r\n",
                "Line #2 here\r\n",
                "\r\n",
                "Some bullet list:\r\n",
                "* Bullet 1\r\n",
                "* Bullet 2\r\n",
                "    * Bullet 2.1\r\n",
                "\r\n",
                "Some magical numbering\r\n",
                "1. Fancy numbering\r\n",
                "3. It gets reordered as #2, even though I put #1 :D\r\n",
                "    * Sub bullet\r\n",
                "2. Some numbered bullet\r\n",
                "    5. sub numbered bullet\r\n",
                "\r\n",
                "\r\n",
                "```sql\r\n",
                "SELECT * FROM [sys].[databases]\r\n",
                "```\r\n",
                "\r\n",
                "\r\n",
                "*Hey*, let's ~~scratch~~ this. Be __bold__. Or be colorful: <span style=\"background-color: #D66B67\">...</span><span style=\"background-color: #DE965D\">...</span><span style=\"background-color: #ECE788\">...</span><span style=\"background-color: #B5DB7F\">...</span><span style=\"background-color: #8ECDD2\">...</span><span style=\"background-color: #8F97CF\">...</span>\r\n",
                "\r\n",
                "<mark style=\"background-color:cyan\">CyaN</mark>\r\n",
                "\r\n",
                "Here's a sample of adding an image to Notebook :) <br>\r\n",
                "<img src=\"http://www.mssqlgirl.com/wp-content/uploads/2014/06/SQL_shaded_Banner_WithText.png\" />\r\n",
                "\r\n",
                "\r\n",
                ""
            ],
            "metadata": {
                "azdata_cell_guid": "d6c56afe-b11b-448e-b4e4-7b8502f20ca0"
            }
        }
    ]
}