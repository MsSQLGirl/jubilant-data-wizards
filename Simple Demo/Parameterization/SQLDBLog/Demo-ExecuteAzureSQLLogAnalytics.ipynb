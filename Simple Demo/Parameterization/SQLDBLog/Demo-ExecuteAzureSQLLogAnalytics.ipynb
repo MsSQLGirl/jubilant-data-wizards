{
    "metadata": {
        "kernelspec": {
            "name": "python3",
            "display_name": "Python 3",
            "language": "python"
        },
        "language_info": {
            "name": "python",
            "version": "3.6.6",
            "mimetype": "text/x-python",
            "codemirror_mode": {
                "name": "ipython",
                "version": 3
            },
            "pygments_lexer": "ipython3",
            "nbconvert_exporter": "python",
            "file_extension": ".py"
        }
    },
    "nbformat_minor": 2,
    "nbformat": 4,
    "cells": [
        {
            "cell_type": "markdown",
            "source": [
                "# Demo: Execute a parameterized notebook\n",
                "- Author: Julie Koesmarno ([@MsSQLGirl](http://twitter.com/MsSQLgirl))\n",
                "- Last updated: Mar 7, 2021\n",
                "This notebook provides a few options to execute a **parameterized** notebook.\n",
                "- [Option 1: Embedding a link in a text cell](.\\..........\\Users\\jukoesma\\AppData\\Local\\Programs\\Azure%20Data%20Studio\\resources\\app\\out\\vs\\code\\electron-browser\\workbench\\workbench.html)\n",
                "- [Option 2: Execute a local parameterized notebook in a code cell](.\\..........\\Users\\jukoesma\\AppData\\Local\\Programs\\Azure%20Data%20Studio\\resources\\app\\out\\vs\\code\\electron-browser\\workbench\\workbench.html)\n",
                "- [Option 3: Create a dynamic link to parameterized notebook in GitHub](.\\..........\\Users\\jukoesma\\AppData\\Local\\Programs\\Azure%20Data%20Studio\\resources\\app\\out\\vs\\code\\electron-browser\\workbench\\workbench.html)\n",
                "A few notes on the parameterized notebook that we will execute today:\n",
                "- [AzureSQLLogsAndMetricsWithLogAnalytics.ipynb](https://github.com/MsSQLGirl/jubilant-data-wizards/blob/main/Simple%20Demo/Parameterization/SQLDBLog/AzureSQLLogsAndMetricsWithLogAnalytics.ipynb) analyzes log data of an Azure SQL server.\n",
                "- If you have an existing Log Analytics workspace, you can use it when running / trying out this parameterized notebook execution demo. If you don't have it, it's OK, we will use a dummy GUID. The notebook should run but it won't provide any log data analysis.\n",
                "- Please review the Pre-requisites below.\n",
                "## Pre-requisites\n",
                "1. Azure Data Studio v1.26.1 Feb 2021 release. [http://aka.ms/getAzureDataStudio](http://aka.ms/getAzureDataStudio).\n",
                "2. Papermill package installed on your Python environment for Azure Data Studio.\n",
                "3. Kqlmagic package installed on your Python environment for Azure Data Studio.\n",
                "4. azcli installed as we will be relying on az login to connect to Azure Log Analytics workspace in [AzureSQLLogsAndMetricsWithLogAnalytics.ipynb](https://github.com/MsSQLGirl/jubilant-data-wizards/blob/main/Simple%20Demo/Parameterization/SQLDBLog/AzureSQLLogsAndMetricsWithLogAnalytics.ipynb)."
            ],
            "metadata": {
                "azdata_cell_guid": "510bb4d4-e013-4fd4-b894-c3dc15a59dd1"
            }
        },
        {
            "cell_ty[pe": "]c(https://docs.microsoft.com/en-us/cli/azure/install-azure-cli)ode",
            "source": [
                "## This is optional\n",
                "import sys\n",
                "!{sys.executable} -m pip install --upgrade pip\r\n",
                "!{sys.executable} -m pip install Kqlmagic --no-cache-dir --upgrade\n",
                "!{sys.executable} -m pip install papermill --no-cache-dir --upgrade"
            ],
            "metadata": {
                "azdata_cell_guid": "4777c74a-8d9b-4565-9f81-3b85125088a0"
            },
            "outputs": [
{
    "name": "stdout",
    "text": "Requirement already satisfied: pip in c:\\users\\jukoesma\\azuredatastudio-python\\0.0.1\\lib\\site-packages (21.0.1)\n",
    "output_type": "stream"
}, {
    "name": "stdout",
    "text": "Requirement already satisfied: Kqlmagic in c:\\users\\jukoesma\\appdata\\roaming\\python\\python36\\site-packages (0.1.113.post1)\nRequirement already satisfied: lxml>=4.2.5 in c:\\users\\jukoesma\\azuredatastudio-python\\0.0.1\\lib\\site-packages (from Kqlmagic) (4.5.0)\nRequirement already satisfied: plotly>=3.10.0 in c:\\users\\jukoesma\\azuredatastudio-python\\0.0.1\\lib\\site-packages (from Kqlmagic) (4.4.1)\nRequirement already satisfied: six>=1.11.0 in c:\\users\\jukoesma\\azuredatastudio-python\\0.0.1\\lib\\site-packages (from Kqlmagic) (1.13.0)\nRequirement already satisfied: psutil>=5.4.7 in c:\\users\\jukoesma\\azuredatastudio-python\\0.0.1\\lib\\site-packages (from Kqlmagic) (5.8.0)\nRequirement already satisfied: adal>=1.2.3 in c:\\users\\jukoesma\\azuredatastudio-python\\0.0.1\\lib\\site-packages (from Kqlmagic) (1.2.4)\nRequirement already satisfied: pytz>=2019.1 in c:\\users\\jukoesma\\azuredatastudio-python\\0.0.1\\lib\\site-packages (from Kqlmagic) (2019.3)\nRequirement already satisfied: python-dateutil>=2.7.5 in c:\\users\\jukoesma\\azuredatastudio-python\\0.0.1\\lib\\site-packages (from Kqlmagic) (2.8.1)\nRequirement already satisfied: ipykernel>=5.1.1 in c:\\users\\jukoesma\\azuredatastudio-python\\0.0.1\\lib\\site-packages (from Kqlmagic) (5.1.3)\nRequirement already satisfied: requests>=2.21.0 in c:\\users\\jukoesma\\azuredatastudio-python\\0.0.1\\lib\\site-packages (from Kqlmagic) (2.22.0)\nRequirement already satisfied: azure-cli-core>=2.6.0 in c:\\users\\jukoesma\\appdata\\roaming\\python\\python36\\site-packages (from Kqlmagic) (2.19.1)\nRequirement already satisfied: pyjwt>=1.7.1 in c:\\users\\jukoesma\\azuredatastudio-python\\0.0.1\\lib\\site-packages (from Kqlmagic) (1.7.1)\nRequirement already satisfied: msrestazure>=0.6.3 in c:\\users\\jukoesma\\azuredatastudio-python\\0.0.1\\lib\\site-packages (from Kqlmagic) (0.6.4)\nRequirement already satisfied: beautifulsoup4>=4.6.3 in c:\\users\\jukoesma\\azuredatastudio-python\\0.0.1\\lib\\site-packages (from Kqlmagic) (4.8.2)\nRequirement already satisfied: ipython>=7.1.1 in c:\\users\\jukoesma\\azuredatastudio-python\\0.0.1\\lib\\site-packages (from Kqlmagic) (7.11.1)\nRequirement already satisfied: flask>=1.1.1 in c:\\users\\jukoesma\\azuredatastudio-python\\0.0.1\\lib\\site-packages (from Kqlmagic) (1.1.1)\nRequirement already satisfied: isodate>=0.6.0 in c:\\users\\jukoesma\\azuredatastudio-python\\0.0.1\\lib\\site-packages (from Kqlmagic) (0.6.0)\nRequirement already satisfied: setuptools>=41.0.1 in c:\\users\\jukoesma\\azuredatastudio-python\\0.0.1\\lib\\site-packages (from Kqlmagic) (44.0.0)\nRequirement already satisfied: matplotlib>=3.0.0 in c:\\users\\jukoesma\\appdata\\roaming\\python\\python36\\site-packages (from Kqlmagic) (3.3.0rc1)\nRequirement already satisfied: traitlets>=4.3.2 in c:\\users\\jukoesma\\azuredatastudio-python\\0.0.1\\lib\\site-packages (from Kqlmagic) (4.3.3)\nRequirement already satisfied: pyperclip>=1.7.0 in c:\\users\\jukoesma\\azuredatastudio-python\\0.0.1\\lib\\site-packages (from Kqlmagic) (1.7.0)\nRequirement already satisfied: seaborn>=0.9.0 in c:\\users\\jukoesma\\azuredatastudio-python\\0.0.1\\lib\\site-packages (from Kqlmagic) (0.10.0)\nRequirement already satisfied: Pygments>=2.2.0 in c:\\users\\jukoesma\\azuredatastudio-python\\0.0.1\\lib\\site-packages (from Kqlmagic) (2.5.2)\nRequirement already satisfied: pandas>=0.23.4 in c:\\users\\jukoesma\\appdata\\roaming\\python\\python36\\site-packages (from Kqlmagic) (1.0.5)\nRequirement already satisfied: prettytable>=0.7.2 in c:\\users\\jukoesma\\azuredatastudio-python\\0.0.1\\lib\\site-packages (from Kqlmagic) (0.7.2)\nRequirement already satisfied: Markdown>=3.0.1 in c:\\users\\jukoesma\\azuredatastudio-python\\0.0.1\\lib\\site-packages (from Kqlmagic) (3.2.1)\nRequirement already satisfied: cryptography>=1.1.0 in c:\\users\\jukoesma\\azuredatastudio-python\\0.0.1\\lib\\site-packages (from adal>=1.2.3->Kqlmagic) (2.8)\nRequirement already satisfied: argcomplete~=1.8 in c:\\users\\jukoesma\\appdata\\roaming\\python\\python36\\site-packages (from azure-cli-core>=2.6.0->Kqlmagic) (1.11.1)\nRequirement already satisfied: jmespath in c:\\users\\jukoesma\\azuredatastudio-python\\0.0.1\\lib\\site-packages (from azure-cli-core>=2.6.0->Kqlmagic) (0.9.4)\nRequirement already satisfied: msal~=1.0.0 in c:\\users\\jukoesma\\appdata\\roaming\\python\\python36\\site-packages (from azure-cli-core>=2.6.0->Kqlmagic) (1.0.0)\nRequirement already satisfied: knack==0.8.0rc2 in c:\\users\\jukoesma\\appdata\\roaming\\python\\python36\\site-packages (from azure-cli-core>=2.6.0->Kqlmagic) (0.8.0rc2)\nRequirement already satisfied: paramiko<3.0.0,>=2.0.8 in c:\\users\\jukoesma\\appdata\\roaming\\python\\python36\\site-packages (from azure-cli-core>=2.6.0->Kqlmagic) (2.7.1)\nRequirement already satisfied: azure-cli-telemetry==1.0.6.* in c:\\users\\jukoesma\\appdata\\roaming\\python\\python36\\site-packages (from azure-cli-core>=2.6.0->Kqlmagic) (1.0.6)\nRequirement already satisfied: msal-extensions~=0.1.3 in c:\\users\\jukoesma\\appdata\\roaming\\python\\python36\\site-packages (from azure-cli-core>=2.6.0->Kqlmagic) (0.1.3)\nRequirement already satisfied: msrest>=0.5.0 in c:\\users\\jukoesma\\azuredatastudio-python\\0.0.1\\lib\\site-packages (from azure-cli-core>=2.6.0->Kqlmagic) (0.6.10)\nRequirement already satisfied: azure-mgmt-core<2.0.0,>=1.2.0 in c:\\users\\jukoesma\\appdata\\roaming\\python\\python36\\site-packages (from azure-cli-core>=2.6.0->Kqlmagic) (1.2.2)\nRequirement already satisfied: azure-common~=1.1 in c:\\users\\jukoesma\\azuredatastudio-python\\0.0.1\\lib\\site-packages (from azure-cli-core>=2.6.0->Kqlmagic) (1.1.23)\nRequirement already satisfied: colorama~=0.4.1 in c:\\users\\jukoesma\\azuredatastudio-python\\0.0.1\\lib\\site-packages (from azure-cli-core>=2.6.0->Kqlmagic) (0.4.3)\nRequirement already satisfied: pyopenssl>=17.1.0 in c:\\users\\jukoesma\\azuredatastudio-python\\0.0.1\\lib\\site-packages (from azure-cli-core>=2.6.0->Kqlmagic) (19.0.0)\nRequirement already satisfied: humanfriendly<10.0,>=4.7 in c:\\users\\jukoesma\\appdata\\roaming\\python\\python36\\site-packages (from azure-cli-core>=2.6.0->Kqlmagic) (8.2)\nRequirement already satisfied: pkginfo>=1.5.0.1 in c:\\users\\jukoesma\\appdata\\roaming\\python\\python36\\site-packages (from azure-cli-core>=2.6.0->Kqlmagic) (1.5.0.1)\nRequirement already satisfied: portalocker~=1.2 in c:\\users\\jukoesma\\appdata\\roaming\\python\\python36\\site-packages (from azure-cli-telemetry==1.0.6.*->azure-cli-core>=2.6.0->Kqlmagic) (1.7.0)\nRequirement already satisfied: applicationinsights<0.12,>=0.11.1 in c:\\users\\jukoesma\\azuredatastudio-python\\0.0.1\\lib\\site-packages (from azure-cli-telemetry==1.0.6.*->azure-cli-core>=2.6.0->Kqlmagic) (0.11.9)\nRequirement already satisfied: pyyaml in c:\\users\\jukoesma\\azuredatastudio-python\\0.0.1\\lib\\site-packages (from knack==0.8.0rc2->azure-cli-core>=2.6.0->Kqlmagic) (5.1.2)\nRequirement already satisfied: tabulate in c:\\users\\jukoesma\\appdata\\roaming\\python\\python36\\site-packages (from knack==0.8.0rc2->azure-cli-core>=2.6.0->Kqlmagic) (0.8.7)\nRequirement already satisfied: importlib-metadata<2,>=0.23 in c:\\users\\jukoesma\\azuredatastudio-python\\0.0.1\\lib\\site-packages (from argcomplete~=1.8->azure-cli-core>=2.6.0->Kqlmagic) (1.3.0)\nRequirement already satisfied: azure-core<2.0.0,>=1.9.0 in c:\\users\\jukoesma\\azuredatastudio-python\\0.0.1\\lib\\site-packages (from azure-mgmt-core<2.0.0,>=1.2.0->azure-cli-core>=2.6.0->Kqlmagic) (1.9.0)\nRequirement already satisfied: soupsieve>=1.2 in c:\\users\\jukoesma\\azuredatastudio-python\\0.0.1\\lib\\site-packages (from beautifulsoup4>=4.6.3->Kqlmagic) (2.0)\nRequirement already satisfied: cffi!=1.11.3,>=1.8 in c:\\users\\jukoesma\\azuredatastudio-python\\0.0.1\\lib\\site-packages (from cryptography>=1.1.0->adal>=1.2.3->Kqlmagic) (1.13.2)\nRequirement already satisfied: pycparser in c:\\users\\jukoesma\\azuredatastudio-python\\0.0.1\\lib\\site-packages (from cffi!=1.11.3,>=1.8->cryptography>=1.1.0->adal>=1.2.3->Kqlmagic) (2.19)\nRequirement already satisfied: click>=5.1 in c:\\users\\jukoesma\\azuredatastudio-python\\0.0.1\\lib\\site-packages (from flask>=1.1.1->Kqlmagic) (7.0)\nRequirement already satisfied: Werkzeug>=0.15 in c:\\users\\jukoesma\\azuredatastudio-python\\0.0.1\\lib\\site-packages (from flask>=1.1.1->Kqlmagic) (0.16.0)\nRequirement already satisfied: itsdangerous>=0.24 in c:\\users\\jukoesma\\azuredatastudio-python\\0.0.1\\lib\\site-packages (from flask>=1.1.1->Kqlmagic) (1.1.0)\nRequirement already satisfied: Jinja2>=2.10.1 in c:\\users\\jukoesma\\azuredatastudio-python\\0.0.1\\lib\\site-packages (from flask>=1.1.1->Kqlmagic) (2.10.3)\nRequirement already satisfied: pyreadline in c:\\users\\jukoesma\\appdata\\roaming\\python\\python36\\site-packages (from humanfriendly<10.0,>=4.7->azure-cli-core>=2.6.0->Kqlmagic) (2.1)\nRequirement already satisfied: zipp>=0.5 in c:\\users\\jukoesma\\azuredatastudio-python\\0.0.1\\lib\\site-packages (from importlib-metadata<2,>=0.23->argcomplete~=1.8->azure-cli-core>=2.6.0->Kqlmagic) (0.6.0)\nRequirement already satisfied: jupyter-client in c:\\users\\jukoesma\\appdata\\roaming\\python\\python36\\site-packages (from ipykernel>=5.1.1->Kqlmagic) (6.1.7)\nRequirement already satisfied: tornado>=4.2 in c:\\users\\jukoesma\\azuredatastudio-python\\0.0.1\\lib\\site-packages (from ipykernel>=5.1.1->Kqlmagic) (6.0.3)\nRequirement already satisfied: prompt-toolkit!=3.0.0,!=3.0.1,<3.1.0,>=2.0.0 in c:\\users\\jukoesma\\appdata\\roaming\\python\\python36\\site-packages (from ipython>=7.1.1->Kqlmagic) (2.0.10)\nRequirement already satisfied: jedi>=0.10 in c:\\users\\jukoesma\\azuredatastudio-python\\0.0.1\\lib\\site-packages (from ipython>=7.1.1->Kqlmagic) (0.15.2)\nRequirement already satisfied: pickleshare in c:\\users\\jukoesma\\azuredatastudio-python\\0.0.1\\lib\\site-packages (from ipython>=7.1.1->Kqlmagic) (0.7.5)\nRequirement already satisfied: decorator in c:\\users\\jukoesma\\azuredatastudio-python\\0.0.1\\lib\\site-packages (from ipython>=7.1.1->Kqlmagic) (4.4.1)\nRequirement already satisfied: backcall in c:\\users\\jukoesma\\azuredatastudio-python\\0.0.1\\lib\\site-packages (from ipython>=7.1.1->Kqlmagic) (0.1.0)\nRequirement already satisfied: parso>=0.5.2 in c:\\users\\jukoesma\\azuredatastudio-python\\0.0.1\\lib\\site-packages (from jedi>=0.10->ipython>=7.1.1->Kqlmagic) (0.5.2)\nRequirement already satisfied: MarkupSafe>=0.23 in c:\\users\\jukoesma\\azuredatastudio-python\\0.0.1\\lib\\site-packages (from Jinja2>=2.10.1->flask>=1.1.1->Kqlmagic) (1.1.1)\nRequirement already satisfied: pillow>=6.2.0 in c:\\users\\jukoesma\\azuredatastudio-python\\0.0.1\\lib\\site-packages (from matplotlib>=3.0.0->Kqlmagic) (7.0.0)\nRequirement already satisfied: cycler>=0.10 in c:\\users\\jukoesma\\azuredatastudio-python\\0.0.1\\lib\\site-packages (from matplotlib>=3.0.0->Kqlmagic) (0.10.0)\nRequirement already satisfied: numpy>=1.15 in c:\\users\\jukoesma\\azuredatastudio-python\\0.0.1\\lib\\site-packages (from matplotlib>=3.0.0->Kqlmagic) (1.18.1)\nRequirement already satisfied: kiwisolver>=1.0.1 in c:\\users\\jukoesma\\azuredatastudio-python\\0.0.1\\lib\\site-packages (from matplotlib>=3.0.0->Kqlmagic) (1.1.0)\nRequirement already satisfied: pyparsing!=2.0.4,!=2.1.2,!=2.1.6,>=2.0.3 in c:\\users\\jukoesma\\azuredatastudio-python\\0.0.1\\lib\\site-packages (from matplotlib>=3.0.0->Kqlmagic) (2.4.2)\nRequirement already satisfied: requests-oauthlib>=0.5.0 in c:\\users\\jukoesma\\azuredatastudio-python\\0.0.1\\lib\\site-packages (from msrest>=0.5.0->azure-cli-core>=2.6.0->Kqlmagic) (1.2.0)\nRequirement already satisfied: certifi>=2017.4.17 in c:\\users\\jukoesma\\azuredatastudio-python\\0.0.1\\lib\\site-packages (from msrest>=0.5.0->azure-cli-core>=2.6.0->Kqlmagic) (2019.11.28)\nRequirement already satisfied: bcrypt>=3.1.3 in c:\\users\\jukoesma\\appdata\\roaming\\python\\python36\\site-packages (from paramiko<3.0.0,>=2.0.8->azure-cli-core>=2.6.0->Kqlmagic) (3.1.7)\nRequirement already satisfied: pynacl>=1.0.1 in c:\\users\\jukoesma\\appdata\\roaming\\python\\python36\\site-packages (from paramiko<3.0.0,>=2.0.8->azure-cli-core>=2.6.0->Kqlmagic) (1.4.0)\nRequirement already satisfied: retrying>=1.3.3 in c:\\users\\jukoesma\\azuredatastudio-python\\0.0.1\\lib\\site-packages (from plotly>=3.10.0->Kqlmagic) (1.3.3)\nRequirement already satisfied: pywin32!=226 in c:\\users\\jukoesma\\azuredatastudio-python\\0.0.1\\lib\\site-packages (from portalocker~=1.2->azure-cli-telemetry==1.0.6.*->azure-cli-core>=2.6.0->Kqlmagic) (227)\nRequirement already satisfied: wcwidth in c:\\users\\jukoesma\\azuredatastudio-python\\0.0.1\\lib\\site-packages (from prompt-toolkit!=3.0.0,!=3.0.1,<3.1.0,>=2.0.0->ipython>=7.1.1->Kqlmagic) (0.1.8)\nRequirement already satisfied: chardet<3.1.0,>=3.0.2 in c:\\users\\jukoesma\\azuredatastudio-python\\0.0.1\\lib\\site-packages (from requests>=2.21.0->Kqlmagic) (3.0.4)\nRequirement already satisfied: idna<2.9,>=2.5 in c:\\users\\jukoesma\\azuredatastudio-python\\0.0.1\\lib\\site-packages (from requests>=2.21.0->Kqlmagic) (2.8)\nRequirement already satisfied: urllib3!=1.25.0,!=1.25.1,<1.26,>=1.21.1 in c:\\users\\jukoesma\\azuredatastudio-python\\0.0.1\\lib\\site-packages (from requests>=2.21.0->Kqlmagic) (1.25.7)\nRequirement already satisfied: oauthlib>=3.0.0 in c:\\users\\jukoesma\\azuredatastudio-python\\0.0.1\\lib\\site-packages (from requests-oauthlib>=0.5.0->msrest>=0.5.0->azure-cli-core>=2.6.0->Kqlmagic) (3.1.0)\nRequirement already satisfied: scipy>=1.0.1 in c:\\users\\jukoesma\\azuredatastudio-python\\0.0.1\\lib\\site-packages (from seaborn>=0.9.0->Kqlmagic) (1.1.0)\nRequirement already satisfied: ipython-genutils in c:\\users\\jukoesma\\azuredatastudio-python\\0.0.1\\lib\\site-packages (from traitlets>=4.3.2->Kqlmagic) (0.2.0)\nRequirement already satisfied: more-itertools in c:\\users\\jukoesma\\azuredatastudio-python\\0.0.1\\lib\\site-packages (from zipp>=0.5->importlib-metadata<2,>=0.23->argcomplete~=1.8->azure-cli-core>=2.6.0->Kqlmagic) (8.0.2)\nRequirement already satisfied: pyzmq>=13 in c:\\users\\jukoesma\\azuredatastudio-python\\0.0.1\\lib\\site-packages (from jupyter-client->ipykernel>=5.1.1->Kqlmagic) (18.1.1)\nRequirement already satisfied: jupyter-core>=4.6.0 in c:\\users\\jukoesma\\azuredatastudio-python\\0.0.1\\lib\\site-packages (from jupyter-client->ipykernel>=5.1.1->Kqlmagic) (4.6.1)\n",
    "output_type": "stream"
}, {
    "name": "stdout",
    "text": "Requirement already satisfied: papermill in c:\\users\\jukoesma\\appdata\\roaming\\python\\python36\\site-packages (2.2.2)\nCollecting papermill\n  Downloading papermill-2.3.2-py3-none-any.whl (35 kB)\nRequirement already satisfied: pyyaml in c:\\users\\jukoesma\\azuredatastudio-python\\0.0.1\\lib\\site-packages (from papermill) (5.1.2)\nRequirement already satisfied: tqdm>=4.32.2 in c:\\users\\jukoesma\\azuredatastudio-python\\0.0.1\\lib\\site-packages (from papermill) (4.43.0)\nRequirement already satisfied: ansiwrap in c:\\users\\jukoesma\\appdata\\roaming\\python\\python36\\site-packages (from papermill) (0.8.4)\nRequirement already satisfied: entrypoints in c:\\users\\jukoesma\\azuredatastudio-python\\0.0.1\\lib\\site-packages (from papermill) (0.3)\nRequirement already satisfied: click in c:\\users\\jukoesma\\azuredatastudio-python\\0.0.1\\lib\\site-packages (from papermill) (7.0)\nRequirement already satisfied: nbclient>=0.2.0 in c:\\users\\jukoesma\\appdata\\roaming\\python\\python36\\site-packages (from papermill) (0.5.1)\nRequirement already satisfied: tenacity in c:\\users\\jukoesma\\appdata\\roaming\\python\\python36\\site-packages (from papermill) (6.2.0)\nRequirement already satisfied: black in c:\\users\\jukoesma\\appdata\\roaming\\python\\python36\\site-packages (from papermill) (20.8b1)\nCollecting nbformat>=5.1.2\n  Downloading nbformat-5.1.2-py3-none-any.whl (113 kB)\nRequirement already satisfied: requests in c:\\users\\jukoesma\\azuredatastudio-python\\0.0.1\\lib\\site-packages (from papermill) (2.22.0)\nRequirement already satisfied: jupyter-client>=6.1.5 in c:\\users\\jukoesma\\appdata\\roaming\\python\\python36\\site-packages (from nbclient>=0.2.0->papermill) (6.1.7)\nRequirement already satisfied: traitlets>=4.2 in c:\\users\\jukoesma\\azuredatastudio-python\\0.0.1\\lib\\site-packages (from nbclient>=0.2.0->papermill) (4.3.3)\nRequirement already satisfied: async-generator in c:\\users\\jukoesma\\appdata\\roaming\\python\\python36\\site-packages (from nbclient>=0.2.0->papermill) (1.10)\nRequirement already satisfied: nest-asyncio in c:\\users\\jukoesma\\appdata\\roaming\\python\\python36\\site-packages (from nbclient>=0.2.0->papermill) (1.4.3)\nRequirement already satisfied: pyzmq>=13 in c:\\users\\jukoesma\\azuredatastudio-python\\0.0.1\\lib\\site-packages (from jupyter-client>=6.1.5->nbclient>=0.2.0->papermill) (18.1.1)\nRequirement already satisfied: tornado>=4.1 in c:\\users\\jukoesma\\azuredatastudio-python\\0.0.1\\lib\\site-packages (from jupyter-client>=6.1.5->nbclient>=0.2.0->papermill) (6.0.3)\nRequirement already satisfied: python-dateutil>=2.1 in c:\\users\\jukoesma\\azuredatastudio-python\\0.0.1\\lib\\site-packages (from jupyter-client>=6.1.5->nbclient>=0.2.0->papermill) (2.8.1)\nRequirement already satisfied: jupyter-core>=4.6.0 in c:\\users\\jukoesma\\azuredatastudio-python\\0.0.1\\lib\\site-packages (from jupyter-client>=6.1.5->nbclient>=0.2.0->papermill) (4.6.1)\nRequirement already satisfied: pywin32>=1.0 in c:\\users\\jukoesma\\azuredatastudio-python\\0.0.1\\lib\\site-packages (from jupyter-core>=4.6.0->jupyter-client>=6.1.5->nbclient>=0.2.0->papermill) (227)\nRequirement already satisfied: jsonschema!=2.5.0,>=2.4 in c:\\users\\jukoesma\\azuredatastudio-python\\0.0.1\\lib\\site-packages (from nbformat>=5.1.2->papermill) (3.2.0)\nRequirement already satisfied: ipython-genutils in c:\\users\\jukoesma\\azuredatastudio-python\\0.0.1\\lib\\site-packages (from nbformat>=5.1.2->papermill) (0.2.0)\nRequirement already satisfied: attrs>=17.4.0 in c:\\users\\jukoesma\\azuredatastudio-python\\0.0.1\\lib\\site-packages (from jsonschema!=2.5.0,>=2.4->nbformat>=5.1.2->papermill) (19.3.0)\nRequirement already satisfied: six>=1.11.0 in c:\\users\\jukoesma\\azuredatastudio-python\\0.0.1\\lib\\site-packages (from jsonschema!=2.5.0,>=2.4->nbformat>=5.1.2->papermill) (1.13.0)\nRequirement already satisfied: setuptools in c:\\users\\jukoesma\\azuredatastudio-python\\0.0.1\\lib\\site-packages (from jsonschema!=2.5.0,>=2.4->nbformat>=5.1.2->papermill) (44.0.0)\nRequirement already satisfied: importlib-metadata in c:\\users\\jukoesma\\azuredatastudio-python\\0.0.1\\lib\\site-packages (from jsonschema!=2.5.0,>=2.4->nbformat>=5.1.2->papermill) (1.3.0)\nRequirement already satisfied: pyrsistent>=0.14.0 in c:\\users\\jukoesma\\azuredatastudio-python\\0.0.1\\lib\\site-packages (from jsonschema!=2.5.0,>=2.4->nbformat>=5.1.2->papermill) (0.15.7)\nRequirement already satisfied: decorator in c:\\users\\jukoesma\\azuredatastudio-python\\0.0.1\\lib\\site-packages (from traitlets>=4.2->nbclient>=0.2.0->papermill) (4.4.1)\nRequirement already satisfied: textwrap3>=0.9.2 in c:\\users\\jukoesma\\appdata\\roaming\\python\\python36\\site-packages (from ansiwrap->papermill) (0.9.2)\nRequirement already satisfied: toml>=0.10.1 in c:\\users\\jukoesma\\appdata\\roaming\\python\\python36\\site-packages (from black->papermill) (0.10.2)\nRequirement already satisfied: typed-ast>=1.4.0 in c:\\users\\jukoesma\\appdata\\roaming\\python\\python36\\site-packages (from black->papermill) (1.4.1)\nCollecting click\n  Downloading click-7.1.2-py2.py3-none-any.whl (82 kB)\nRequirement already satisfied: mypy-extensions>=0.4.3 in c:\\users\\jukoesma\\appdata\\roaming\\python\\python36\\site-packages (from black->papermill) (0.4.3)\nRequirement already satisfied: regex>=2020.1.8 in c:\\users\\jukoesma\\appdata\\roaming\\python\\python36\\site-packages (from black->papermill) (2020.11.13)\nRequirement already satisfied: pathspec<1,>=0.6 in c:\\users\\jukoesma\\azuredatastudio-python\\0.0.1\\lib\\site-packages (from black->papermill) (0.6.0)\nRequirement already satisfied: typing-extensions>=3.7.4 in c:\\users\\jukoesma\\azuredatastudio-python\\0.0.1\\lib\\site-packages (from black->papermill) (3.7.4.1)\nRequirement already satisfied: appdirs in c:\\users\\jukoesma\\appdata\\roaming\\python\\python36\\site-packages (from black->papermill) (1.4.4)\nRequirement already satisfied: dataclasses>=0.6 in c:\\users\\jukoesma\\appdata\\roaming\\python\\python36\\site-packages (from black->papermill) (0.8)\nRequirement already satisfied: zipp>=0.5 in c:\\users\\jukoesma\\azuredatastudio-python\\0.0.1\\lib\\site-packages (from importlib-metadata->jsonschema!=2.5.0,>=2.4->nbformat>=5.1.2->papermill) (0.6.0)\nRequirement already satisfied: more-itertools in c:\\users\\jukoesma\\azuredatastudio-python\\0.0.1\\lib\\site-packages (from zipp>=0.5->importlib-metadata->jsonschema!=2.5.0,>=2.4->nbformat>=5.1.2->papermill) (8.0.2)\nRequirement already satisfied: urllib3!=1.25.0,!=1.25.1,<1.26,>=1.21.1 in c:\\users\\jukoesma\\azuredatastudio-python\\0.0.1\\lib\\site-packages (from requests->papermill) (1.25.7)\nRequirement already satisfied: certifi>=2017.4.17 in c:\\users\\jukoesma\\azuredatastudio-python\\0.0.1\\lib\\site-packages (from requests->papermill) (2019.11.28)\nRequirement already satisfied: idna<2.9,>=2.5 in c:\\users\\jukoesma\\azuredatastudio-python\\0.0.1\\lib\\site-packages (from requests->papermill) (2.8)\nRequirement already satisfied: chardet<3.1.0,>=3.0.2 in c:\\users\\jukoesma\\azuredatastudio-python\\0.0.1\\lib\\site-packages (from requests->papermill) (3.0.4)\nInstalling collected packages: nbformat, click, papermill\n  Attempting uninstall: nbformat\n    Found existing installation: nbformat 5.0.3\n    Uninstalling nbformat-5.0.3:\n      Successfully uninstalled nbformat-5.0.3\n  Attempting uninstall: click\n    Found existing installation: Click 7.0\n    Uninstalling Click-7.0:\n      Successfully uninstalled Click-7.0\n  Attempting uninstall: papermill\n    Found existing installation: papermill 2.2.2\n    Uninstalling papermill-2.2.2:\n      Successfully uninstalled papermill-2.2.2\nSuccessfully installed click-7.1.2 nbformat-5.1.2 papermill-2.3.2\n",
    "output_type": "stream"
}, {
    "name": "stderr",
    "text": "ERROR: pip's dependency resolver does not currently take into account all the packages that are installed. This behaviour is the source of the following dependency conflicts.\nmssql-cli 1.0.0 requires click<7.1,>=4.1, but you have click 7.1.2 which is incompatible.\nmssql-cli 1.0.0 requires sqlparse<0.3.0,>=0.2.2, but you have sqlparse 0.4.1 which is incompatible.\nazureml-defaults 1.0.72 requires flask==1.0.3, but you have flask 1.1.1 which is incompatible.\n",
    "output_type": "stream"
}
],
            "execution_count": null
        },
        {
            "cell_type": "markdown",
            "source": [
                "\r\n",
                "## Known Issues\r\n",
                "\r\n",
                "If you plan to create your own parameterized notebook like [AzureSQLLogsAndMetricsWithLogAnalytics.ipynb](https://github.com/MsSQLGirl/jubilant-data-wizards/blob/main/Simple%20Demo/Parameterization/SQLDBLog/AzureSQLLogsAndMetricsWithLogAnalytics.ipynb), please note the following known issues.\r\n",
                "\r\n",
                "- [Parameterized notebook errors on a line break after %%kql which is supposed to work](https://github.com/microsoft/azuredatastudio/issues/13305).\r\n",
                "    \r\n",
                "    > **Workaround**: ensure that there is a space next to `%%kql` to `%%kql` before a new line break."
            ],
            "metadata": {
                "azdata_cell_guid": "e5b8e83d-0b82-412f-9d46-04ccc8c7560d"
            }
        },
        {
            "cell_type": "markdown",
            "source": [
                "## Option 1: Embedding a link in a text cell\r\n",
                "You can also create a link like this to open the parameterized notebook with injected parameter. With this option, you the parameters passed in are static, i.e. built in as part of this Text Cell. \r\n",
                "\r\n",
                "URI with Injected Parameter cell Test: [azuredatastudio://microsoft.notebook/open?url=https://raw.githubusercontent.com/MsSQLGirl/jubilant-data-wizards/main/Simple%20Demo/Parameterization/SQLDBLog/AzureSQLLogsAndMetricsWithLogAnalytics.ipynb?workspaceID='<mark>658bf3c6-6099-4167-8084-58aca4529c30</mark>'](azuredatastudio://microsoft.notebook/open?url=https://raw.githubusercontent.com/MsSQLGirl/jubilant-data-wizards/main/Simple%20Demo/Parameterization/SQLDBLog/AzureSQLLogsAndMetricsWithLogAnalytics.ipynb?workspaceID='658bf3c6-6099-4167-8084-58aca4529c30') \r\n",
                "\r\n",
                "> **Tip**: I'm using a <mark>dummy workspace ID</mark> value. While the notebook runs, it might be saying that it cannot find the workspace ID in your environment. So you'll need to update <mark>this value</mark> both in the text and the underlying link."
            ],
            "metadata": {
                "azdata_cell_guid": "a6342cd2-6e0f-4f71-a315-164fc1e508b9"
            }
        },
        {
            "cell_type": "markdown",
            "source": [
                "## Option 2: Execute a local parameterized notebook in a code cell\r\n",
                "\r\n",
                "> **Tip**: ensure that you have [Pre-requisites](#Pre-requisites) are all satisfied before continuing. \r\n",
                "\r\n",
                "### What you need to provide for the next two cells to work:\r\n",
                "\r\n",
                "1. inputNotebook - this is the local path to the parameterized notebook that you want to execute. \r\n",
                "In the example below, I'm executing [AzureSQLLogsAndMetricsWithLogAnalytics.ipynb](https://github.com/MsSQLGirl/jubilant-data-wizards/blob/main/Simple%20Demo/Parameterization/SQLDBLog/AzureSQLLogsAndMetricsWithLogAnalytics.ipynb) that is downloaded to my local path.  \r\n",
                "2. outputNotebook - this is the local path to the output of the notebook once executed. \r\n",
                "3. parameters to the inputNotebook. \r\n",
                "    * workspaceID = this is the Workspace ID of the Azure Log Analytics.\r\n",
                "    \r\n",
                "This option is more **interactive / dynamic**. \r\n",
                "\r\n",
                "\r\n",
                "\r\n",
                "> **Tip**: Use this random guid `658bf3c6-6099-4167-8084-58aca4529c30` as an example. The notebook (inputNotebook) will still run, but it might not have the input you need. \r\n",
                ""
            ],
            "metadata": {
                "azdata_cell_guid": "7f074d17-22a4-40db-bfc5-6e72d4ffc4d7"
            }
        },
        {
            "cell_type": "code",
            "source": [
                "## Mask the Workspace ID input, and only print if running in debug mode\r\n",
                "\r\n",
                "import getpass\r\n",
                "inputWorkspaceID = getpass.getpass(\"Enter  Log Analytics Workspace ID\")\r\n",
                "\r\n",
                "isDebug = input (\"debug mode? Y/N\")\r\n",
                "\r\n",
                "if isDebug.lower() == \"y\":\r\n",
                "    print(inputWorkspaceID)"
            ],
            "metadata": {
                "azdata_cell_guid": "169d4f01-6908-482e-8d09-facd5d3f2bbc",
                "tags": []
            },
            "outputs": [],
            "execution_count": 15
        },
        {
            "cell_type": "markdown",
            "source": [
                "Now execute the parameterized notebook:"
            ],
            "metadata": {
                "azdata_cell_guid": "faefbb91-d526-4502-b3b9-0016d4dbdc86"
            }
        },
        {
            "cell_type": "code",
            "source": [
                "import papermill as pm\r\n",
                "\r\n",
                "inputNotebook = './AzureSQLLogsAndMetricsWithLogAnalytics.ipynb'\r\n",
                "outputNotebook = 'c:/temp/Output.ipynb'\r\n",
                "\r\n",
                "silent = pm.execute_notebook(\r\n",
                "   inputNotebook,\r\n",
                "   outputNotebook,\r\n",
                "   parameters = dict(workspaceID = inputWorkspaceID)\r\n",
                ")"
            ],
            "metadata": {
                "azdata_cell_guid": "9dff63fd-a8f2-4b1d-936d-02c07e24704d",
                "tags": []
            },
            "outputs": [
                {
                    "output_type": "stream",
                    "name": "stderr",
                    "text": "\rExecuting:   0%|          | 0/31 [00:00<?, ?cell/s]"
                },
                {
                    "output_type": "stream",
                    "name": "stderr",
                    "text": "\rExecuting:   3%|▎         | 1/31 [00:01<00:40,  1.34s/cell]"
                },
                {
                    "output_type": "stream",
                    "name": "stderr",
                    "text": "\rExecuting:  10%|▉         | 3/31 [00:07<00:50,  1.79s/cell]"
                },
                {
                    "output_type": "stream",
                    "name": "stderr",
                    "text": "\rExecuting:  19%|█▉        | 6/31 [00:07<00:31,  1.27s/cell]"
                },
                {
                    "output_type": "stream",
                    "name": "stderr",
                    "text": "\rExecuting:  26%|██▌       | 8/31 [00:07<00:22,  1.04cell/s]"
                },
                {
                    "output_type": "stream",
                    "name": "stderr",
                    "text": "\rExecuting:  32%|███▏      | 10/31 [00:07<00:14,  1.42cell/s]"
                },
                {
                    "output_type": "stream",
                    "name": "stderr",
                    "text": "\rExecuting:  42%|████▏     | 13/31 [00:08<00:09,  1.93cell/s]"
                },
                {
                    "output_type": "stream",
                    "name": "stderr",
                    "text": "\rExecuting:  48%|████▊     | 15/31 [00:08<00:06,  2.54cell/s]"
                },
                {
                    "output_type": "stream",
                    "name": "stderr",
                    "text": "\rExecuting:  55%|█████▍    | 17/31 [00:08<00:04,  3.24cell/s]"
                },
                {
                    "output_type": "stream",
                    "name": "stderr",
                    "text": "\rExecuting:  61%|██████▏   | 19/31 [00:08<00:02,  4.01cell/s]"
                },
                {
                    "output_type": "stream",
                    "name": "stderr",
                    "text": "\rExecuting:  68%|██████▊   | 21/31 [00:09<00:02,  4.75cell/s]"
                },
                {
                    "output_type": "stream",
                    "name": "stderr",
                    "text": "\rExecuting:  74%|███████▍  | 23/31 [00:09<00:01,  5.55cell/s]"
                },
                {
                    "output_type": "stream",
                    "name": "stderr",
                    "text": "\rExecuting:  81%|████████  | 25/31 [00:09<00:00,  6.28cell/s]"
                },
                {
                    "output_type": "stream",
                    "name": "stderr",
                    "text": "\rExecuting:  87%|████████▋ | 27/31 [00:09<00:00,  6.46cell/s]"
                },
                {
                    "output_type": "stream",
                    "name": "stderr",
                    "text": "\rExecuting:  94%|█████████▎| 29/31 [00:09<00:00,  6.93cell/s]"
                },
                {
                    "output_type": "stream",
                    "name": "stderr",
                    "text": "\rExecuting: 100%|██████████| 31/31 [00:10<00:00,  7.09cell/s]"
                },
                {
                    "output_type": "stream",
                    "name": "stderr",
                    "text": "\rExecuting: 100%|██████████| 31/31 [00:10<00:00,  2.87cell/s]"
                },
                {
                    "output_type": "stream",
                    "name": "stderr",
                    "text": "\n"
                }
            ],
            "execution_count": 8
        },
        {
            "cell_type": "markdown",
            "source": [
                "## Option 3: Create a dynamic link to parameterized notebook in GitHub\r\n",
                "\r\n",
                "### What you need to provide for the next two cells to work:\r\n",
                "WorkspaceID where the Azure SQL log emits data to.\n",
                "\n",
                "Once you supply the workspace ID value after running the folloiwng cell, you can click on the link which will launch the notebook with the injected parameter (workspace ID) and click Run All. \r\n",
                "\r\n",
                "This option is more **interactive / dynamic**. \r\n",
                "\r\n",
                "> **Tip**: Use this random guid `658bf3c6-6099-4167-8084-58aca4529c30` as an example. The notebook (inputNotebook) will still run, but it might not have the input you need. "
            ],
            "metadata": {
                "azdata_cell_guid": "ea9fa3ef-cd02-46f1-a763-925e46ab2f1d"
            }
        },
        {
            "cell_type": "code",
            "source": [
                "## Mask the Workspace ID input, and only print if running in debug mode\r\n",
                "\r\n",
                "import getpass\r\n",
                "\r\n",
                "if \"inputWorkspaceID\" not in locals():\r\n",
                "    inputWorkspaceIDForURL = getpass.getpass(\"Enter  Log Analytics Workspace ID\")\r\n",
                "else: \r\n",
                "    inputWorkspaceIDForURL = inputWorkspaceID\r\n",
                "\r\n",
                "isDebug = input (\"debug mode? Y/N\")\r\n",
                "\r\n",
                "if isDebug.lower() == \"y\":\r\n",
                "    print(inputWorkspaceIDForURL)"
            ],
            "metadata": {
                "azdata_cell_guid": "19b7ea62-2407-4339-8c87-93b323360cb3"
            },
            "outputs": [
                {
                    "output_type": "stream",
                    "name": "stdout",
                    "text": "658bf3c6-6099-4167-8084-58aca4529c30\n"
                }
            ],
            "execution_count": 4
        },
        {
            "cell_type": "code",
            "source": [
                "import re, os\r\n",
                "from IPython.display import *\r\n",
                "display(HTML(\"<h2><b><a href=\\\"azuredatastudio://microsoft.notebook/open?url=https://raw.githubusercontent.com/MsSQLGirl/jubilant-data-wizards/main/Simple%20Demo/Parameterization/SQLDBLog/AzureSQLLogsAndMetricsWithLogAnalytics.ipynb?workspaceID='\" + str(inputWorkspaceIDForURL)+ \"'\\\"><font size=\\\"3\\\">Click here to open parameterized notebook and press Run all</font></a></b></h2>\"))\r\n",
                ""
            ],
            "metadata": {
                "azdata_cell_guid": "922cdc47-ee3e-4c40-91b4-06dc48a0d258"
            },
            "outputs": [
                {
                    "output_type": "display_data",
                    "data": {
                        "text/plain": "<IPython.core.display.HTML object>",
                        "text/html": "<h2><b><a href=\"azuredatastudio://microsoft.notebook/open?url=https://raw.githubusercontent.com/MsSQLGirl/jubilant-data-wizards/main/Simple%20Demo/Parameterization/SQLDBLog/AzureSQLLogsAndMetricsWithLogAnalytics.ipynb?workspaceID='658bf3c6-6099-4167-8084-58aca4529c30'\"><font size=\"3\">Click here to open parameterized notebook and press Run all</font></a></b></h2>"
                    },
                    "metadata": {}
                }
            ],
            "execution_count": 6
        }
    ]
}