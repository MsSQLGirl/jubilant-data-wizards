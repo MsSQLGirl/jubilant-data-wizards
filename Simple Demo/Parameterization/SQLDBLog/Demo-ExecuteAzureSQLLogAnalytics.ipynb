{
    "metadata": {
        "kernelspec": {
            "name": "python3",
            "display_name": "Python 3",
            "language": "python"
        },
        "language_info": {
            "name": "python",
            "version": "3.6.6",
            "mimetype": "text/x-python",
            "codemirror_mode": {
                "name": "ipython",
                "version": 3
            },
            "pygments_lexer": "ipython3",
            "nbconvert_exporter": "python",
            "file_extension": ".py"
        }
    },
    "nbformat_minor": 2,
    "nbformat": 4,
    "cells": [
        {
            "cell_type": "markdown",
            "source": [
                "# Demo: Execute a parameterized notebook\r\n",
                "\r\n",
                "-   Author: Julie Koesmarno ([@MsSQLGirl](http://twitter.com/MsSQLgirl))\r\n",
                "-   Last updated: Mar 7, 2021\r\n",
                "\r\n",
                "This notebook provides a few options of executing a **parameterized** notebook.\r\n",
                "\r\n",
                "- [Option 1: Embedding a link in a text cell](#option-1-embedding-a-link-in-a-text-cell)\r\n",
                "- [Option 2: Execute a local parameterized notebook in a code cell](#option-2-execute-a-local-parameterized-notebook-in-a-code-cell)\r\n",
                "- [Option 3: Create a dynamic link to parameterized notebook in GitHub](#option-3-create-a-dynamic-link-to-parameterized-notebook-in-github)\r\n",
                "\r\n",
                "A few notes about the parameterized notebook that we will execute today:\r\n",
                "* [AzureSQLLogsAndMetricsWithLogAnalytics.ipynb](https://github.com/MsSQLGirl/jubilant-data-wizards/blob/main/Simple%20Demo/Parameterization/SQLDBLog/AzureSQLLogsAndMetricsWithLogAnalytics.ipynb) analyzes log data of an Azure SQL server.\r\n",
                "* If you have an existing Log Analytics workspace, you can use it when running / trying out this parameterized notebook execution demo. If you don't have it, it's OK, we will use a dummy GUID. The notebook should run but it won't provide any log data analysis. \r\n",
                "* Please review the Pre-requisites below. \r\n",
                "\r\n",
                "## Pre-requisites\r\n",
                "1. Azure Data Studio v1.26.1 Feb 2021 release. http://aka.ms/getAzureDataStudio.\r\n",
                "2. Papermill package installed on your Python environment for Azure Data Studio. \r\n",
                "3. Kqlmagic package installed on your Python environment for Azure Data Studio.\r\n",
                "4. [azcli](https://docs.microsoft.com/en-us/cli/azure/install-azure-cli) installed as we will be relying on Azure CLI login to connect to Azure Log Analytics workspace in [AzureSQLLogsAndMetricsWithLogAnalytics.ipynb](https://github.com/MsSQLGirl/jubilant-data-wizards/blob/main/Simple%20Demo/Parameterization/SQLDBLog/AzureSQLLogsAndMetricsWithLogAnalytics.ipynb).  \r\n",
                "\r\n",
                "\r\n",
                "\r\n",
                "\r\n",
                "\r\n",
                "\r\n",
                "\r\n",
                "\r\n",
                "\r\n",
                "\r\n",
                "\r\n",
                "\r\n",
                ""
            ],
            "metadata": {
                "azdata_cell_guid": "510bb4d4-e013-4fd4-b894-c3dc15a59dd1"
            }
        },
        {
            "cell_type": "code",
            "source": [
                "## This is optional\r\n",
                "import sys\r\n",
                "!{sys.executable} -m pip install --upgrade pip\r\n",
                "!{sys.executable} -m pip install Kqlmagic --no-cache-dir --upgrade\r\n",
                "!{sys.executable} -m pip install papermill --no-cache-dir --upgrade"
            ],
            "metadata": {
                "azdata_cell_guid": "ab685df7-08ef-471e-8d7e-d2b61d005f44"
            },
            "outputs": [],
            "execution_count": null
        },
        {
            "cell_type": "markdown",
            "source": [
                "## Known Issues\r\n",
                "If you plan to create your own parameterized notebook like [AzureSQLLogsAndMetricsWithLogAnalytics.ipynb](https://github.com/MsSQLGirl/jubilant-data-wizards/blob/main/Simple%20Demo/Parameterization/SQLDBLog/AzureSQLLogsAndMetricsWithLogAnalytics.ipynb), please note the following known issues.\r\n",
                "* [Parameterized notebook errors on a line break after %%kql which is supposed to work](https://github.com/microsoft/azuredatastudio/issues/13305). \r\n",
                "    > **Workaround**: ensure that there is a space next to `%%kql` to `%%kql ` before a new line break.\r\n",
                ""
            ],
            "metadata": {
                "azdata_cell_guid": "a7b77e75-8c8d-43c8-9f8e-be9e19a6bcf5"
            }
        },
        {
            "cell_type": "markdown",
            "source": [
                "## Option 1: Embedding a link in a text cell\r\n",
                "You can also create a link like this to open the parameterized notebook with injected parameter. With this option, you the parameters passed in are static, i.e. built in as part of this Text Cell. \r\n",
                "\r\n",
                "URI with Injected Parameter cell Test: [azuredatastudio://microsoft.notebook/open?url=https://raw.githubusercontent.com/MsSQLGirl/jubilant-data-wizards/main/Simple%20Demo/Parameterization/SQLDBLog/AzureSQLLogsAndMetricsWithLogAnalytics.ipynb?workspaceID='<mark>658bf3c6-6099-4167-8084-58aca4529c30</mark>'](azuredatastudio://microsoft.notebook/open?url=https://raw.githubusercontent.com/MsSQLGirl/jubilant-data-wizards/main/Simple%20Demo/Parameterization/SQLDBLog/AzureSQLLogsAndMetricsWithLogAnalytics.ipynb?workspaceID='658bf3c6-6099-4167-8084-58aca4529c30') \r\n",
                "\r\n",
                "> **Tip**: I'm using a <mark>dummy workspace ID</mark> value. While the notebook runs, it might be saying that it cannot find the workspace ID in your environment. So you'll need to update <mark>this value</mark> both in the text and the underlying link."
            ],
            "metadata": {
                "azdata_cell_guid": "a6342cd2-6e0f-4f71-a315-164fc1e508b9"
            }
        },
        {
            "cell_type": "markdown",
            "source": [
                "## Option 2: Execute a local parameterized notebook in a code cell\r\n",
                "\r\n",
                "> **Tip**: ensure that you have [Pre-requisites](#Pre-requisites) are all satisfied before continuing. \r\n",
                "\r\n",
                "### What you need to provide for the next two cells to work:\r\n",
                "\r\n",
                "1. inputNotebook - this is the local path to the parameterized notebook that you want to execute. \r\n",
                "In the example below, I'm executing [AzureSQLLogsAndMetricsWithLogAnalytics.ipynb](https://github.com/MsSQLGirl/jubilant-data-wizards/blob/main/Simple%20Demo/Parameterization/SQLDBLog/AzureSQLLogsAndMetricsWithLogAnalytics.ipynb) that is downloaded to my local path.  \r\n",
                "2. outputNotebook - this is the local path to the output of the notebook once executed. \r\n",
                "3. parameters to the inputNotebook. \r\n",
                "    * workspaceID = this is the Workspace ID of the Azure Log Analytics.\r\n",
                "    \r\n",
                "This option is more **interactive / dynamic**. \r\n",
                "\r\n",
                "\r\n",
                "\r\n",
                "> **Tip**: Use this random guid `658bf3c6-6099-4167-8084-58aca4529c30` as an example. The notebook (inputNotebook) will still run, but it might not have the input you need. \r\n",
                ""
            ],
            "metadata": {
                "azdata_cell_guid": "7f074d17-22a4-40db-bfc5-6e72d4ffc4d7"
            }
        },
        {
            "cell_type": "code",
            "source": [
                "## Mask the Workspace ID input, and only print if running in debug mode\r\n",
                "\r\n",
                "import getpass\r\n",
                "inputWorkspaceID = getpass.getpass(\"Enter  Log Analytics Workspace ID\")\r\n",
                "\r\n",
                "isDebug = input (\"debug mode? Y/N\")\r\n",
                "\r\n",
                "if isDebug.lower() == \"y\":\r\n",
                "    print(inputWorkspaceID)"
            ],
            "metadata": {
                "azdata_cell_guid": "169d4f01-6908-482e-8d09-facd5d3f2bbc",
                "tags": []
            },
            "outputs": [],
            "execution_count": 15
        },
        {
            "cell_type": "markdown",
            "source": [
                "Now execute the parameterized notebook:"
            ],
            "metadata": {
                "azdata_cell_guid": "faefbb91-d526-4502-b3b9-0016d4dbdc86"
            }
        },
        {
            "cell_type": "code",
            "source": [
                "import papermill as pm\r\n",
                "\r\n",
                "inputNotebook = './AzureSQLLogsAndMetricsWithLogAnalytics.ipynb'\r\n",
                "outputNotebook = 'c:/temp/Output.ipynb'\r\n",
                "\r\n",
                "silent = pm.execute_notebook(\r\n",
                "   inputNotebook,\r\n",
                "   outputNotebook,\r\n",
                "   parameters = dict(workspaceID = inputWorkspaceID)\r\n",
                ")"
            ],
            "metadata": {
                "azdata_cell_guid": "9dff63fd-a8f2-4b1d-936d-02c07e24704d",
                "tags": []
            },
            "outputs": [
                {
                    "output_type": "stream",
                    "name": "stderr",
                    "text": "\rExecuting:   0%|          | 0/31 [00:00<?, ?cell/s]"
                },
                {
                    "output_type": "stream",
                    "name": "stderr",
                    "text": "\rExecuting:   3%|▎         | 1/31 [00:01<00:40,  1.34s/cell]"
                },
                {
                    "output_type": "stream",
                    "name": "stderr",
                    "text": "\rExecuting:  10%|▉         | 3/31 [00:07<00:50,  1.79s/cell]"
                },
                {
                    "output_type": "stream",
                    "name": "stderr",
                    "text": "\rExecuting:  19%|█▉        | 6/31 [00:07<00:31,  1.27s/cell]"
                },
                {
                    "output_type": "stream",
                    "name": "stderr",
                    "text": "\rExecuting:  26%|██▌       | 8/31 [00:07<00:22,  1.04cell/s]"
                },
                {
                    "output_type": "stream",
                    "name": "stderr",
                    "text": "\rExecuting:  32%|███▏      | 10/31 [00:07<00:14,  1.42cell/s]"
                },
                {
                    "output_type": "stream",
                    "name": "stderr",
                    "text": "\rExecuting:  42%|████▏     | 13/31 [00:08<00:09,  1.93cell/s]"
                },
                {
                    "output_type": "stream",
                    "name": "stderr",
                    "text": "\rExecuting:  48%|████▊     | 15/31 [00:08<00:06,  2.54cell/s]"
                },
                {
                    "output_type": "stream",
                    "name": "stderr",
                    "text": "\rExecuting:  55%|█████▍    | 17/31 [00:08<00:04,  3.24cell/s]"
                },
                {
                    "output_type": "stream",
                    "name": "stderr",
                    "text": "\rExecuting:  61%|██████▏   | 19/31 [00:08<00:02,  4.01cell/s]"
                },
                {
                    "output_type": "stream",
                    "name": "stderr",
                    "text": "\rExecuting:  68%|██████▊   | 21/31 [00:09<00:02,  4.75cell/s]"
                },
                {
                    "output_type": "stream",
                    "name": "stderr",
                    "text": "\rExecuting:  74%|███████▍  | 23/31 [00:09<00:01,  5.55cell/s]"
                },
                {
                    "output_type": "stream",
                    "name": "stderr",
                    "text": "\rExecuting:  81%|████████  | 25/31 [00:09<00:00,  6.28cell/s]"
                },
                {
                    "output_type": "stream",
                    "name": "stderr",
                    "text": "\rExecuting:  87%|████████▋ | 27/31 [00:09<00:00,  6.46cell/s]"
                },
                {
                    "output_type": "stream",
                    "name": "stderr",
                    "text": "\rExecuting:  94%|█████████▎| 29/31 [00:09<00:00,  6.93cell/s]"
                },
                {
                    "output_type": "stream",
                    "name": "stderr",
                    "text": "\rExecuting: 100%|██████████| 31/31 [00:10<00:00,  7.09cell/s]"
                },
                {
                    "output_type": "stream",
                    "name": "stderr",
                    "text": "\rExecuting: 100%|██████████| 31/31 [00:10<00:00,  2.87cell/s]"
                },
                {
                    "output_type": "stream",
                    "name": "stderr",
                    "text": "\n"
                }
            ],
            "execution_count": 8
        },
        {
            "cell_type": "markdown",
            "source": [
                "## Option 3: Create a dynamic link to parameterized notebook in GitHub\r\n",
                "\r\n",
                "### What you need to provide for the next two cells to work:\r\n",
                "WorkspaceID. \r\n",
                "\r\n",
                "This option is more **interactive / dynamic**. \r\n",
                "\r\n",
                "> **Tip**: Use this random guid `658bf3c6-6099-4167-8084-58aca4529c30` as an example. The notebook (inputNotebook) will still run, but it might not have the input you need. "
            ],
            "metadata": {
                "azdata_cell_guid": "ea9fa3ef-cd02-46f1-a763-925e46ab2f1d"
            }
        },
        {
            "cell_type": "code",
            "source": [
                "## Mask the Workspace ID input, and only print if running in debug mode\r\n",
                "\r\n",
                "import getpass\r\n",
                "\r\n",
                "if \"inputWorkspaceID\" not in locals():\r\n",
                "    inputWorkspaceIDForURL = getpass.getpass(\"Enter  Log Analytics Workspace ID\")\r\n",
                "else: \r\n",
                "    inputWorkspaceIDForURL = inputWorkspaceID\r\n",
                "\r\n",
                "isDebug = input (\"debug mode? Y/N\")\r\n",
                "\r\n",
                "if isDebug.lower() == \"y\":\r\n",
                "    print(inputWorkspaceIDForURL)"
            ],
            "metadata": {
                "azdata_cell_guid": "19b7ea62-2407-4339-8c87-93b323360cb3"
            },
            "outputs": [
                {
                    "output_type": "stream",
                    "name": "stdout",
                    "text": "658bf3c6-6099-4167-8084-58aca4529c30\n"
                }
            ],
            "execution_count": 4
        },
        {
            "cell_type": "code",
            "source": [
                "import re, os\r\n",
                "from IPython.display import *\r\n",
                "display(HTML(\"<h2><b><a href=\\\"azuredatastudio://microsoft.notebook/open?url=https://raw.githubusercontent.com/MsSQLGirl/jubilant-data-wizards/main/Simple%20Demo/Parameterization/SQLDBLog/AzureSQLLogsAndMetricsWithLogAnalytics.ipynb?workspaceID='\" + str(inputWorkspaceIDForURL)+ \"'\\\"><font size=\\\"3\\\">Click here to open parameterized notebook and press Run all</font></a></b></h2>\"))\r\n",
                ""
            ],
            "metadata": {
                "azdata_cell_guid": "922cdc47-ee3e-4c40-91b4-06dc48a0d258"
            },
            "outputs": [
                {
                    "output_type": "display_data",
                    "data": {
                        "text/plain": "<IPython.core.display.HTML object>",
                        "text/html": "<h2><b><a href=\"azuredatastudio://microsoft.notebook/open?url=https://raw.githubusercontent.com/MsSQLGirl/jubilant-data-wizards/main/Simple%20Demo/Parameterization/SQLDBLog/AzureSQLLogsAndMetricsWithLogAnalytics.ipynb?workspaceID='658bf3c6-6099-4167-8084-58aca4529c30'\"><font size=\"3\">Click here to open parameterized notebook and press Run all</font></a></b></h2>"
                    },
                    "metadata": {}
                }
            ],
            "execution_count": 6
        }
    ]
}