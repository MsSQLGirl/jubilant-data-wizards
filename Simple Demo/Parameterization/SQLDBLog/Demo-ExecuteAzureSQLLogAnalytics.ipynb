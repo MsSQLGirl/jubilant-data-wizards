{
    "metadata": {
        "kernelspec": {
            "name": "python3",
            "display_name": "Python 3",
            "language": "python"
        },
        "language_info": {
            "name": "python",
            "version": "3.6.6",
            "mimetype": "text/x-python",
            "codemirror_mode": {
                "name": "ipython",
                "version": 3
            },
            "pygments_lexer": "ipython3",
            "nbconvert_exporter": "python",
            "file_extension": ".py"
        }
    },
    "nbformat_minor": 2,
    "nbformat": 4,
    "cells": [
        {
            "cell_type": "markdown",
            "source": [
                "# Demo: Execute a notebook using Papermill\r\n",
                "\r\n",
                "-   Author: Julie Koesmarno ([@MsSQLGirl](http://twitter.com/MsSQLgirl))\r\n",
                "-   Last updated: Mar 7, 2021\r\n",
                "\r\n",
                "This notebook provides an example of executing a **parameterized** notebook.\r\n",
                "\r\n",
                "## What you need to provide\r\n",
                "1. inputNotebook - this is the local path to the parameterized notebook that you want to execute. \r\n",
                "In the example below, I'm executing  [Demo-KqlmagicLogAnalyticsWithClientSecret.ipynb](https://github.com/MsSQLGirl/jubilant-data-wizards/blob/main/Simple%20Demo/KQL%20Notebooks/Demo-KqlmagicLogAnalyticsWithClientSecret.ipynb) that is downloaded to my local path.  \r\n",
                "2. outputNotebook - this is the local path to the output of the notebook once executed. \r\n",
                "3. parameters to the inputNotebook. \r\n",
                "    For more info about what the parameters mean, please go to [Demo-KqlmagicLogAnalyticsWithClientSecret.ipynb](https://github.com/MsSQLGirl/jubilant-data-wizards/blob/main/Simple%20Demo/KQL%20Notebooks/Demo-KqlmagicLogAnalyticsWithClientSecret.ipynb).\r\n",
                "\r\n",
                "## Pre-requisites\r\n",
                "1. Azure Data Studio v1.24.0 November release. http://aka.ms/getAzureDataStudio.\r\n",
                "2. Papermill package installed on your Python environment for Azure Data Studio. \r\n",
                "3. Kqlmagic package installed on your Python environment for Azure Data Studio.\r\n",
                "\r\n",
                "## Known Issues\r\n",
                "* [Parameterized notebook errors on a line break after %%kql which is supposed to work](https://github.com/microsoft/azuredatastudio/issues/13305)\r\n",
                "* [Parameterized notebook reorders column values when executed](https://github.com/microsoft/azuredatastudio/issues/13304)\r\n",
                "\r\n",
                "\r\n",
                "\r\n",
                "\r\n",
                "\r\n",
                "\r\n",
                "\r\n",
                "\r\n",
                "\r\n",
                "\r\n",
                ""
            ],
            "metadata": {
                "azdata_cell_guid": "510bb4d4-e013-4fd4-b894-c3dc15a59dd1"
            }
        },
        {
            "cell_type": "code",
            "source": [
                "import papermill as pm\r\n",
                "\r\n",
                "inputNotebook = './AzureSQLLogsAndMetricsWithLogAnalytics.ipynb'\r\n",
                "outputNotebook = 'c:/temp/Output.ipynb'\r\n",
                "\r\n",
                "silent = pm.execute_notebook(\r\n",
                "   inputNotebook,\r\n",
                "   outputNotebook,\r\n",
                "   parameters = dict(workspaceID = 'TODO: replace this with workspace ID of your Azure Log Analytics workspace')\r\n",
                ")"
            ],
            "metadata": {
                "azdata_cell_guid": "9dff63fd-a8f2-4b1d-936d-02c07e24704d"
            },
            "outputs": [
                {
                    "output_type": "stream",
                    "name": "stderr",
                    "text": "\n\n"
                },
                {
                    "output_type": "stream",
                    "name": "stderr",
                    "text": "\rExecuting:   0%|          | 0/31 [00:00<?, ?cell/s]"
                },
                {
                    "output_type": "stream",
                    "name": "stderr",
                    "text": "\u001b[A\u001b[A"
                },
                {
                    "output_type": "stream",
                    "name": "stderr",
                    "text": "\n\n"
                },
                {
                    "output_type": "stream",
                    "name": "stderr",
                    "text": "\rExecuting:   3%|▎         | 1/31 [00:01<00:56,  1.87s/cell]"
                },
                {
                    "output_type": "stream",
                    "name": "stderr",
                    "text": "\u001b[A\u001b[A"
                },
                {
                    "output_type": "stream",
                    "name": "stderr",
                    "text": "\n\n"
                },
                {
                    "output_type": "stream",
                    "name": "stderr",
                    "text": "\rExecuting:  10%|▉         | 3/31 [00:13<01:24,  3.01s/cell]"
                },
                {
                    "output_type": "stream",
                    "name": "stderr",
                    "text": "\u001b[A\u001b[A"
                },
                {
                    "output_type": "stream",
                    "name": "stderr",
                    "text": "\n\n"
                },
                {
                    "output_type": "stream",
                    "name": "stderr",
                    "text": "\rExecuting:  16%|█▌        | 5/31 [00:13<00:55,  2.12s/cell]"
                },
                {
                    "output_type": "stream",
                    "name": "stderr",
                    "text": "\u001b[A\u001b[A"
                },
                {
                    "output_type": "stream",
                    "name": "stderr",
                    "text": "\n\n"
                },
                {
                    "output_type": "stream",
                    "name": "stderr",
                    "text": "\rExecuting:  26%|██▌       | 8/31 [00:15<00:39,  1.72s/cell]"
                },
                {
                    "output_type": "stream",
                    "name": "stderr",
                    "text": "\u001b[A\u001b[A"
                },
                {
                    "output_type": "stream",
                    "name": "stderr",
                    "text": "\n\n"
                },
                {
                    "output_type": "stream",
                    "name": "stderr",
                    "text": "\rExecuting:  32%|███▏      | 10/31 [00:16<00:27,  1.30s/cell]"
                },
                {
                    "output_type": "stream",
                    "name": "stderr",
                    "text": "\u001b[A\u001b[A"
                },
                {
                    "output_type": "stream",
                    "name": "stderr",
                    "text": "\n\n"
                },
                {
                    "output_type": "stream",
                    "name": "stderr",
                    "text": "\rExecuting:  39%|███▊      | 12/31 [00:16<00:17,  1.08cell/s]"
                },
                {
                    "output_type": "stream",
                    "name": "stderr",
                    "text": "\u001b[A\u001b[A"
                },
                {
                    "output_type": "stream",
                    "name": "stderr",
                    "text": "\n\n"
                },
                {
                    "output_type": "stream",
                    "name": "stderr",
                    "text": "\rExecuting:  42%|████▏     | 13/31 [00:19<00:27,  1.54s/cell]"
                },
                {
                    "output_type": "stream",
                    "name": "stderr",
                    "text": "\u001b[A\u001b[A"
                },
                {
                    "output_type": "stream",
                    "name": "stderr",
                    "text": "\n\n"
                },
                {
                    "output_type": "stream",
                    "name": "stderr",
                    "text": "\rExecuting:  48%|████▊     | 15/31 [00:19<00:18,  1.13s/cell]"
                },
                {
                    "output_type": "stream",
                    "name": "stderr",
                    "text": "\u001b[A\u001b[A"
                },
                {
                    "output_type": "stream",
                    "name": "stderr",
                    "text": "\n\n"
                },
                {
                    "output_type": "stream",
                    "name": "stderr",
                    "text": "\rExecuting:  55%|█████▍    | 17/31 [00:21<00:14,  1.02s/cell]"
                },
                {
                    "output_type": "stream",
                    "name": "stderr",
                    "text": "\u001b[A\u001b[A"
                },
                {
                    "output_type": "stream",
                    "name": "stderr",
                    "text": "\rExecuting:   0%|          | 0/31 [01:56<?, ?cell/s]"
                },
                {
                    "output_type": "stream",
                    "name": "stderr",
                    "text": "\n\n\n"
                },
                {
                    "output_type": "stream",
                    "name": "stderr",
                    "text": "\rExecuting:  61%|██████▏   | 19/31 [00:22<00:09,  1.21cell/s]"
                },
                {
                    "output_type": "stream",
                    "name": "stderr",
                    "text": "\u001b[A\u001b[A"
                },
                {
                    "output_type": "stream",
                    "name": "stderr",
                    "text": "\n\n"
                },
                {
                    "output_type": "stream",
                    "name": "stderr",
                    "text": "\rExecuting:  65%|██████▍   | 20/31 [00:22<00:06,  1.62cell/s]"
                },
                {
                    "output_type": "stream",
                    "name": "stderr",
                    "text": "\u001b[A\u001b[A"
                },
                {
                    "output_type": "stream",
                    "name": "stderr",
                    "text": "\n\n"
                },
                {
                    "output_type": "stream",
                    "name": "stderr",
                    "text": "\rExecuting:  68%|██████▊   | 21/31 [00:22<00:05,  1.71cell/s]"
                },
                {
                    "output_type": "stream",
                    "name": "stderr",
                    "text": "\u001b[A\u001b[A"
                },
                {
                    "output_type": "stream",
                    "name": "stderr",
                    "text": "\n\n"
                },
                {
                    "output_type": "stream",
                    "name": "stderr",
                    "text": "\rExecuting:  71%|███████   | 22/31 [00:22<00:04,  2.21cell/s]"
                },
                {
                    "output_type": "stream",
                    "name": "stderr",
                    "text": "\u001b[A\u001b[A"
                },
                {
                    "output_type": "stream",
                    "name": "stderr",
                    "text": "\n\n"
                },
                {
                    "output_type": "stream",
                    "name": "stderr",
                    "text": "\rExecuting:  74%|███████▍  | 23/31 [00:23<00:03,  2.28cell/s]"
                },
                {
                    "output_type": "stream",
                    "name": "stderr",
                    "text": "\u001b[A\u001b[A"
                },
                {
                    "output_type": "stream",
                    "name": "stderr",
                    "text": "\n\n"
                },
                {
                    "output_type": "stream",
                    "name": "stderr",
                    "text": "\rExecuting:  77%|███████▋  | 24/31 [00:23<00:02,  2.86cell/s]"
                },
                {
                    "output_type": "stream",
                    "name": "stderr",
                    "text": "\u001b[A\u001b[A"
                },
                {
                    "output_type": "stream",
                    "name": "stderr",
                    "text": "\n\n"
                },
                {
                    "output_type": "stream",
                    "name": "stderr",
                    "text": "\rExecuting:  81%|████████  | 25/31 [00:23<00:02,  2.72cell/s]"
                },
                {
                    "output_type": "stream",
                    "name": "stderr",
                    "text": "\u001b[A\u001b[A"
                },
                {
                    "output_type": "stream",
                    "name": "stderr",
                    "text": "\n\n"
                },
                {
                    "output_type": "stream",
                    "name": "stderr",
                    "text": "\rExecuting:  84%|████████▍ | 26/31 [00:23<00:01,  3.31cell/s]"
                },
                {
                    "output_type": "stream",
                    "name": "stderr",
                    "text": "\u001b[A\u001b[A"
                },
                {
                    "output_type": "stream",
                    "name": "stderr",
                    "text": "\n\n"
                },
                {
                    "output_type": "stream",
                    "name": "stderr",
                    "text": "\rExecuting:  87%|████████▋ | 27/31 [00:24<00:01,  3.05cell/s]"
                },
                {
                    "output_type": "stream",
                    "name": "stderr",
                    "text": "\u001b[A\u001b[A"
                },
                {
                    "output_type": "stream",
                    "name": "stderr",
                    "text": "\n\n"
                },
                {
                    "output_type": "stream",
                    "name": "stderr",
                    "text": "\rExecuting:  90%|█████████ | 28/31 [00:24<00:00,  3.55cell/s]"
                },
                {
                    "output_type": "stream",
                    "name": "stderr",
                    "text": "\u001b[A\u001b[A"
                },
                {
                    "output_type": "stream",
                    "name": "stderr",
                    "text": "\n\n"
                },
                {
                    "output_type": "stream",
                    "name": "stderr",
                    "text": "\rExecuting:  94%|█████████▎| 29/31 [00:24<00:00,  3.20cell/s]"
                },
                {
                    "output_type": "stream",
                    "name": "stderr",
                    "text": "\u001b[A\u001b[A"
                },
                {
                    "output_type": "stream",
                    "name": "stderr",
                    "text": "\n\n"
                },
                {
                    "output_type": "stream",
                    "name": "stderr",
                    "text": "\rExecuting:  97%|█████████▋| 30/31 [00:25<00:00,  3.73cell/s]"
                },
                {
                    "output_type": "stream",
                    "name": "stderr",
                    "text": "\u001b[A\u001b[A"
                },
                {
                    "output_type": "stream",
                    "name": "stderr",
                    "text": "\n\n"
                },
                {
                    "output_type": "stream",
                    "name": "stderr",
                    "text": "\rExecuting: 100%|██████████| 31/31 [00:25<00:00,  2.81cell/s]"
                },
                {
                    "output_type": "stream",
                    "name": "stderr",
                    "text": "\u001b[A\u001b[A"
                },
                {
                    "output_type": "stream",
                    "name": "stderr",
                    "text": "\rExecuting: 100%|██████████| 31/31 [00:26<00:00,  1.19cell/s]"
                },
                {
                    "output_type": "stream",
                    "name": "stderr",
                    "text": "\n"
                }
            ],
            "execution_count": 3
        }
    ]
}