{
    "metadata": {
        "kernelspec": {
            "name": "python3",
            "display_name": "Python 3",
            "language": "python"
        },
        "language_info": {
            "name": "python",
            "version": "3.8.10",
            "mimetype": "text/x-python",
            "codemirror_mode": {
                "name": "ipython",
                "version": 3
            },
            "pygments_lexer": "ipython3",
            "nbconvert_exporter": "python",
            "file_extension": ".py"
        }
    },
    "nbformat_minor": 2,
    "nbformat": 4,
    "cells": [
        {
            "cell_type": "markdown",
            "source": [
                "# Using Kqlmagic to analyze Azure SQL logs and metrics\r\n",
                "\r\n",
                "There are two main tables in Azure Log Analytics (Azure Monitor Logs) workspace that capture Azure SQL events:\r\n",
                "1. AzureDiagnostics\r\n",
                "2. AzureMetric\r\n",
                ""
            ],
            "metadata": {
                "azdata_cell_guid": "2e215b87-477c-47c1-88fd-15701f9d849c"
            }
        },
        {
            "cell_type": "markdown",
            "source": [
                "## 1. Connect to Log Analytics workspace\r\n",
                "\r\n",
                "Workspace is similar to what a database is to SQL. You connect to Log Analytics workspace to start querying data. \r\n",
                "\r\n",
                "### 1.1 Load Kqlmagic\r\n",
                "Need to load Kqlmagic first before we can start writing queries."
            ],
            "metadata": {
                "azdata_cell_guid": "62a95fa9-3573-46fc-ba99-f8ea5ba0ea05"
            }
        },
        {
            "cell_type": "code",
            "source": [
                "%reload_ext Kqlmagic"
            ],
            "metadata": {
                "azdata_cell_guid": "63832e62-7f15-4a78-ad31-43a6d90f0817",
                "language": "markdown"
            },
            "outputs": [
                {
                    "output_type": "display_data",
                    "data": {
                        "text/plain": "<IPython.core.display.HTML object>",
                        "text/html": "<html>\n            <head>\n            <title>Kqlmagic - banner</title>\n            <style>\n            .kql-magic-banner {\n                display: flex; \n                background-color: #d9edf7;\n            }\n            .kql-magic-banner > div {\n                margin: 10px; \n                padding: 20px; \n                color: #3a87ad; \n                font-size: 13px;\n            }\n            </style>\n            </head>\n            <body>\n                <div class='kql-magic-banner'>\n                    <div><img src='data:image/png;base64,iVBORw0KGgoAAAANSUhEUgAAALsAAACcCAYAAAAnOdrkAAAQeklEQVR42u2di5MVxRXGe5cFFhEQQcGVx4KgLg8XLFCDCigqkvgCSVQqIgRNTP6R/AcmMRpjaWLQEEWRCGrEIKXIGxUMIvJUkKcisryWfB9zVm8w1Hbfnefe76vq6ru70zO9c3/Tc6bnnNM14347z0lSJahGp0AS7JIk2CVJsEuSYJckwS5Jgl2SBLskCXZJEuySJNglwS5Jgl2SBLskVQbsp0+fvgRVT8/Nv66qqtqp0y6Bm1pUdSi1HpsfR9kDdg5nBjs63A/Vb1DGeDZZjzZPotMb9XVXNOhVqKag3G3At6Z9KK+h3fNgpymrkf0ilInowI88/0luvwhFsFe2uqIMR7kD7PTy4OYIqt0EHiUz2Dt43oZaxG2r9V1XvDiyd0Tp7Ll9F5RO1k4PqJIk2CVJsEuCXZIEuyQJdkkS7JIk2CVJsEuSYJckwS5Jgl2SBLsk2CVJsEuSYJckwS5Jgl2SBLskCXZJEuySJNjbiSyJUA8XpZ1gFP7ZkfUnUI66KPHU1zpjFQ47gGG6htoymjYBoBMZwF1npT/KAKsvRunmorQl323uovwpe1E+R9ttqDehbEfZhb6fDDxuR49NT2G/3wr2fILeiOp6g8U33wgh4ii5Bu2XhkDThn72cVHCIGZVG41ymfWZo3oP9KGqlfZMIHSQ0Lso+dT7+N37/IymR1ppy2MywVVvj65+he1XYJ9LBXu+QCfkc1AmoVwY0JS5BJcZKCcT7iNzZI5FmYgyDmUojnlh6H7QpquZOkxFeA32exvqdShv4fObvHCxTfM5RnSC/gjKII9DMSPX+Wj3IfZ3ULDnA/RrUf0SZTq+lPMC225B9TZHxwT7180gu91AH45+dopr/9gXL6JLcJyrUV+H8jI+L8bvPz9r0442og/C38736Pdgu+N0KiobNe0MdJoBD6NMKwP09aj+iPIc2u5PqH8NqO60MhbH6ZzUucC+CeZUHPNK1JejnovfrdMDavsAfZTdkqf7jFRpgm5ZazmKz0D5iY2+qQjHasDxCX5f1E8V2eYW7P8L+v34Mi/IGegcvX+MMhtlcpwmSwDwvdCPGWZzV+Pnt10bk4QK9mxBfwBfYs/AtqtQ/QllbkKg05S6h6YV9n9TlueJJhP6w3zoTTaD87lgLxbojW0AfTmqP6C8iLaHEjJdOKI/iv3fGNM+Obd+quUBM/Quwe0NeF7Yi51/ymjBnjHofNibY6ZLKOjvGujz0PabhLo4AeWhtoCOfrJvfGH0mY3EnPI7ZibIefh7X/f9y6dLcayOHsB3R7tpbI/S3VXQW/SagoI+FNUslPtC56bTAN36dz/KrWW2/xLVGpT3UFaibDHQObKfdN8n8+eDOB8+ebwxaMepxsbWZqLw9wE2wh/B51rBnm/QOaI/aNNreQOdo+VdNGHKmVq0Ps5H+RfKx60smrXfRv4VaPcGQecFhs+c8RnWCvB9ZLMXA/SZodN3KZku1ESUe3GM/oH9I9QLOStE0ENXhsP2vBu8zjecqD9C/QDqSfi9nP2KBnsRQMdxhtjsy3VlmC0voDyN/q1o46zLF9jfX8zGP0BzJfQFm2DPFnS+qp6d8xGdok/O+Nact87q3yEbzR9Hsw1xdML8ejjK00uxGfX0JN/WCvb4QKc58HOWPIOOY9Fb8WYc57LAplzu8Nm4QD8L+mV8iYSPnGO/N+QiFOzpg05PvpkumsLrn1fQTfTLGRvYR3pY/hX9W5lUp+gegONw1oazVjcL9vyC/iDNF3xhg/MMuvmk04QZEtBmB6q/26xL0uIxON04sIw7j2BPCfQ5oV9OBiM6Rc/Ca3xe6lgfGSTCqcKFrQVYxDS6H8MhX8fHRtSPVOoMTY1Ab3N/+cqevuOXBzTj9OCr6OOmtM4rjrUFfV3kIl/6UYI9e9BpDtA77xdlgE5PPnovzk9xRKf4LEHf9N4BbeiXszKDU8xpzXdwrkZU4uhekyPQe6H6GcosfBFDAtsy/Oz3KAvQtinlrvN5oiGgr5z/Xo5+bkv7HDNaCcd/Cx/pgTlcsGcHOt/40RW2oQzQH0N5JYOMANVmvtQFNNuKsiHD081opdWCPVvQ+eB0VVFAN12EcoXzi85v0acouzI85Uy3sRrnjr47vQS7QPcV564H4/jVnn2mv8snLnLgykQ8V+gH7yw7UQR7SqDTB/2+AoNOXRxowhDyzSk/QJ9rdKc51SjYk1VHCwC+02z0UNDXuiiULmvQKQZPhASOfGmgZS1mEtuMc3k8i5jYSoGdxxvoouk6ugCMLmMfvP1uzBp0S61HX52QTAZ7sjRhSsRAEEY/HbK7k2BP6LZ/B0dEwFruiw1OS47kCI99nM7w3HUxmzfEfXYfStYmDO12ekJ+4aIMaII9oZPMKJ7b27iPK/FF0Wf8Y5dg5i5P2Hta7XMnOI7qgIsy7+ZBe/Nw4VXEA2obxZciG5i9FvDvyagP9A/vHuA2e8zMhqacnMPDVgR7nsVESACdD7j0MflbRt3oGGjCEPavrM6DmgR7cYC/iikhUBiUvLYAsNOM+SaNNNgBsH8l2ItlznwA4LcDogMpH7uDC0sydDJHo/p3F59gL87o3hugM20F3wjOy2Bkry0w7MwsRj/3Zt83wII9RvF1Ok58t0DgmRxoqpkzH6U8sncKhL0pR6e75eI76Qqcc72QsANWho5xiZRRgDZ0enKSmTM7UlxMq8qFZcJtNrDyNLIfFezpg97i68J58/FcggXQevttYNu+ls6NI/uCFGEJgbeD81uoK03YT9lFKJs9JdAZG8nAi1fMI4+xmUygPyAwYSmXl7kH7TalFO5G0ENWjyPoXXL03bdcfNWCPXnI+aqf6d4YSrewxdeFadzwp5ddFFwwNWB0r0a7yS5K/bYrhUDm0AfODq68ZSqT/O675Oxu0/5g5wwAR3Ib0Rf9Hx8Xxme+xPWAQiKXsG0/Pqy6aHZmUcL/xonAkb0mZ7CfudP4ZkQQ7G0D/TGc6MXngPa0mTMjmBEscI0k5lm8G+3oN/5pgv8KZ1ZClkjkQyCXeemEfh3PyXdfMemqsxrZOeL+7lyglwDP4GCmbh6BMiVgdKe//BQzZ55gzpSE/g+O6vtxjGOeeRQJFtd74rZ5gP3MxSfYkxvVd9uo/qZnk/fNnLk8JLUGtq0vmZ1ZkiTsVvvAXuolmQeflDOObII9OdHrb6uvf4jNzvAOMNIyWYW8nr/RZme2oF3s0UFM2YF90+PyiPOIVrIH6F45mpHp5sKirAR7GWoOhGorIHnJZmduCmhXyxUozJz5c0KRTQyAoDNVP8/tmQSqR06++94a2fMpprV7kWmhuR5QAPBDSmZnliXQL8aUhjignVl8F2V9Ds5pX9nsORSg/RbQvmbmzOzA1G032uzMZ3zoTcAs2xkIOy/ANxgal9X5xPFpwvTXyJ5f4D+x2RmaM+MC2nG6j3GvH6J+Jua4VY7qjNLnqnNdPbZnUqUGq/dkeDppq9eHLnsv2NPVUpSXuewM/WECgG+wuNWNLkruGdcF+DX2y30ynrOrx/bVtn5rXcawX+oCcskL9mxGd8K1wEb3BwObT7SH1W22slxc2uyihEP1ntufyY7gonVOsxLzyQ8Q7PkHnsBy7r2BvuwB7Xpa3Crn3uOMW+W0Jt2Lx/sEQWCbgdj2epQlSUyJetjrtNXpNNdPsBdDSzi644urD8mLTrdhmjNxxq0yuwH2t8JGd9/lcOjSMNplkx2MCydcV4mLiRU1u8ABM2doDvw0sPkke1iNM251nd0xfGGn3X4L+rAafdiR4qheZ///MFeBKnJ2gTVmztAzcmRAu97mSsC593/EaLdzRYtxPmmgzX+H0NEd4pkUTxuXmJlQSZ6O7QJ2E0P5RtgqcN0DgB9j5sx/4ohbtfcAXOaGSy9O9mzTYLGzDDZZnsKoztH8DrsbOsFevNF9d4ln5J2BzW+12Zm44lZpyizC/hoDpkVvQdmGNnu5wFeCoNNNYRovxEpe+Lc9LCLFh0O6EgxlHsiACyXWuFVzDOOdhi+8pnu26cZET/jIh9ynkkjlh/12N9AfCF0hXLDnb3RvtjjWlkCPrgHNOQV3d4xxq/R5WWCr0V3p2X8uxstVvI+jfg4/fxEj6PSfv9dFCycPcxWudrE8IL7InSVxq5MD2rXErW6II27VIqw4ujeGXHhmvz+Kj91Rz8XPG2MAfYCN6DPLzIMv2HOs91DmmzkzOADQ/iXmzOIYLrwd2B9neRhscldAu6Fo9yt8rEPNZd6XlXPx2SLEfNlG94hplbx8e7uF3ZYsX2TmzMOBy6dwSo6zM5/GFLdKd+I+2F9v7C/EaY3PEQ+5aLnJhTbDQxProAfkdOqiK8INLsqBPz40u5pgLxbwW0o8IycEtOtkcat82fRkW+NWzZyhSzJdFM4LWWXELtIJaDfcZmtW4jNnevi2lS7FjF9lcqNq+/74AErHLq5NdQ3K1dhHndBu57CXjKrzLdCjXwBk9SUvm5bEcOEdMXOmC+pfhy5mbG4Qt9KPxkVBIvSsZMwrM+8yrJF5aBjix+Up6TLcVyN5hcFukP3TRYEeswLnlW+w2ZlY4lbNreEFA56m1dAy9sEc8PXO36vS17ZnIAtXy6sX7MUG/mN8mS+6yAfk2hCwzopbPRlDX/ji61mOxpxiDMlhmZRsec3X7WGYd4RawV5sLTVzhp6RfQJnRVoCPZbFdPExB87T+HiQD6D4eUKGoNOP/gmUVbyLuXxlFhbsZQJ2CF/sqy5yJZgR2HyCje5b4nrJg/0wodJztL05p++iV/e9UoScD7ac3eFd5hV7wD3hKkjteWQnYOtpzligx+iAdqVxq8/GFbdKlwIXvWGlW+8nZjKNCgwgLwf0bag4O8Tnh6VMv2dB13pAbWd6yx5W60NSYPP1uqXh4HqrK2K+CNdh38xKsJojPD4zA8IVcS+tjv3ut77zDvca9r9ZszHli6nf+MbQd5aBMxypLlpl5gNdCQahvs15BEabmOqC89VclW9d3MlI2S8XBY/zYZHpAMfhM6OI+GLo0nLXOcI+aINzJP/InjlouqxNMOdlOaL5xNW+P0N/B3lsz7SJnH49niXsvB3P5cn03J5urKmPLviiV+GkPu6iIOcLAi9mjsCnE+wbB4Dt6N+/XeRiwGeMRvM/b8ntwunHH6SXtozIXCqG5tEh+z74AopBIR/QVDLTKW/mJT1E37UffcIqmXVthc+b5MRgx8EPo9PPO//8hU0JpaHz6es7FisaaiocTWPtUhxjn412y83/vM5gp1suXxr1NDub4FfZKHfYID9gF+VWXjgxZ09I6v/lm2Eu2uwTNXWKATKZ2+wGQiFWSrZb+bEC9JN+7SwMPawywDkX3rkEjmb7X5rsgizczIrddVK781TCA2rRZ5RoQh2xIgl2SRLskiTYJcEuSYJdkgS7JAl2SRLskiTYJUmwS5JglyTBLkmCXRLskiTYJUmwS5JglyTBLkmCXZIEuyQJdkkS7JIk2KUfiEmWmFZuo2cKOi5ewERMxwS7VCjZgmvMA8ncmz4pAbndeqYCF+xSEYHn+lFcA9aHg1Nxpe4W7FKW0FfE6huCXdIDqiQJdkkS7JIk2CVJsEuSYJckwS5Jgl2SBLskCXZJsEuSYJckwS5JxdB/ASH5FI/5dHZAAAAAAElFTkSuQmCC'></div>\n                    <div>\n                        <p>Kql Query Language, aka kql, is the query language for advanced analytics on Azure Monitor resources. The current supported data sources are \n                        Azure Data Explorer (Kusto), Log Analytics and Application Insights. To get more information execute '%kql --help \"kql\"'</p>\n                        <p>   \n                          &bull; \n                kql reference: Click on 'Help' tab > and Select 'kql reference' or execute '%kql --help \"kql\"'<br>\n                          &bull; \n                Kqlmagic configuration: execute '%config Kqlmagic'<br>\n                          &bull; \n                Kqlmagic usage: execute '%kql --usage'<br>\n                          &bull; \n                To report bug/issue: execute '%kql --bug-report'<br>                \n                        </p> \n                    </div>\n                </div>\n            </body>\n            </html>"
                    },
                    "metadata": {}
                },
                {
                    "output_type": "display_data",
                    "data": {
                        "text/plain": "<IPython.core.display.HTML object>",
                        "text/html": "<html>\n        <head>\n            \n            \n        </head>\n        <body>\n            <div><p style=' padding: 10px; color: #3a87ad; background-color: #d9edf7; border-color: #bce9f1'>Kqlmagic&nbsp;package&nbsp;is&nbsp;updated&nbsp;frequently.&nbsp;Run&nbsp;&apos;!pip&nbsp;install&nbsp;Kqlmagic&nbsp;--no-cache-dir&nbsp;--upgrade&apos;&nbsp;to&nbsp;use&nbsp;the&nbsp;latest&nbsp;version.<br>Kqlmagic&nbsp;version:&nbsp;0.1.114.post2,&nbsp;source:&nbsp;https://github.com/Microsoft/jupyter-Kqlmagic</p></div>\n        </body>\n        </html>"
                    },
                    "metadata": {}
                },
                {
                    "output_type": "display_data",
                    "data": {
                        "text/plain": "<IPython.core.display.HTML object>",
                        "text/html": "<!DOCTYPE html>\n            <html><body>\n            <div style='padding: 10px; color: #3a87ad; background-color: #d9edf7; border-color: #bce9f1'>\n            Click&nbsp;to&nbsp;find&nbsp;out&nbsp;what's&nbsp;new&nbsp;in&nbsp;Kqlmagic&nbsp;&nbsp;<a href='http://127.0.0.1:60211/webbrowser?url=http%3A//127.0.0.1%3A60211/files/.kqlmagic/temp_files/30e65a98-c717-402c-9cc2-1805c4b34b0d/popup_what_new_history.html%3Fkernelid%3D30e65a98-c717-402c-9cc2-1805c4b34b0d&kernelid=30e65a98-c717-402c-9cc2-1805c4b34b0d' style='padding: 2px 6px 2px 6px; color: #333333; background-color: #EEEEEE; border-top: 1px solid #CCCCCC; border-right: 1px solid #333333; border-bottom: 1px solid #333333; border-left: 1px solid #CCCCCC' target='popup_what_new_history'>What's New? </a>\n            </div>\n            </body></html>"
                    },
                    "metadata": {}
                }
            ],
            "execution_count": 2
        },
        {
            "cell_type": "markdown",
            "source": [
                "### 1.2 Connect to the desired Log Analytics workspace"
            ],
            "metadata": {
                "azdata_cell_guid": "1ccf6cc8-49df-4c8c-8cf4-08b36776ec78"
            }
        },
        {
            "cell_type": "code",
            "source": [
                "# Initialize workspace ID to connect to, to analyze Azure SQL log data\r\n",
                "\r\n",
                "workspaceID = ''"
            ],
            "metadata": {
                "azdata_cell_guid": "9e1a945d-2fc0-41e3-ab04-7456a2e25ac5",
                "tags": [
                    "parameters",
                    "hide_input"
                ]
            },
            "outputs": [],
            "execution_count": 3
        },
        {
            "cell_type": "code",
            "source": [
                "if (workspaceID == ''):\r\n",
                "    workspaceID = input(\"Enter Log Analytics Workspace ID (guid)\")\r\n",
                "    #print(workspaceID)\r\n",
                "    print(\"workspaceID is set\") "
            ],
            "metadata": {
                "azdata_cell_guid": "659b6d8e-ec72-4cb6-a765-310aa2938ecf",
                "tags": [
                    "hide_input"
                ]
            },
            "outputs": [],
            "execution_count": 18
        },
        {
            "cell_type": "code",
            "source": [
                "%kql loganalytics://code;workspace=workspaceID;alias=\"myMonLog\"  -try-azcli-login-by-profile"
            ],
            "metadata": {
                "azdata_cell_guid": "b9207105-293b-416c-ae3a-616a8526c135"
            },
            "outputs": [
                {
                    "output_type": "display_data",
                    "data": {
                        "text/plain": "<IPython.core.display.HTML object>",
                        "text/html": "<!DOCTYPE html>\n            <html><body>\n            <div style=''>\n            <a href='http://127.0.0.1:60211/webbrowser?url=http%3A//127.0.0.1%3A60211/files/.kqlmagic/temp_files/30e65a98-c717-402c-9cc2-1805c4b34b0d/popup__myMonLog_at_loganalytics_schema.html%3Fkernelid%3D30e65a98-c717-402c-9cc2-1805c4b34b0d&kernelid=30e65a98-c717-402c-9cc2-1805c4b34b0d' style='padding: 2px 6px 2px 6px; color: #333333; background-color: #EEEEEE; border-top: 1px solid #CCCCCC; border-right: 1px solid #333333; border-bottom: 1px solid #333333; border-left: 1px solid #CCCCCC' target='popup__myMonLog_at_loganalytics_schema'>popup schema myMonLog@loganalytics</a>\n            </div>\n            </body></html>"
                    },
                    "metadata": {}
                }
            ],
            "execution_count": 5
        },
        {
            "cell_type": "markdown",
            "source": [
                "## 2. Analyze events by Diagnostic Settings\n",
                "\n",
                "Let's do a simple query first to analyze the number of events by Operation Name. \n",
                "\n",
                "> **Note**: Each row in AzureDiagnostic represents an event for specific Operation or category. Some SQL actions may result in generating multiple events of different types.\n",
                "\n",
                ""
            ],
            "metadata": {
                "azdata_cell_guid": "eb6417a2-3f1d-4d21-9c2d-1ccd9f65f935"
            }
        },
        {
            "cell_type": "code",
            "source": [
                "%%kql \r\n",
                "AzureDiagnostics\r\n",
                "| summarize count() by OperationName"
            ],
            "metadata": {
                "azdata_cell_guid": "e0d388fb-3ba1-4579-81d4-e46b41063738"
            },
            "outputs": [
                {
                    "output_type": "display_data",
                    "data": {
                        "text/plain": "<IPython.core.display.HTML object>",
                        "text/html": "<html>\n        <head>\n            \n            \n        </head>\n        <body>\n            <div><p style=' padding: 10px; color: #3a87ad; background-color: #d9edf7; border-color: #bce9f1'>&nbsp;*&nbsp;myMonLog@loganalytics</p></div>\n        </body>\n        </html>"
                    },
                    "metadata": {}
                },
                {
                    "output_type": "display_data",
                    "data": {
                        "text/plain": "                          OperationName  count_\n0                            AuditEvent    4156\n1            DatabaseWaitStatistcsEvent      57\n2      QueryStoreRuntimeStatisticsEvent     117\n3                            ErrorEvent     108\n4                         DeadlockEvent       2\n5                          TimeoutEvent       4\n6  AutomaticTuningSettingsSnapshotEvent       4",
                        "text/html": "<div>\n<style scoped>\n    .dataframe tbody tr th:only-of-type {\n        vertical-align: middle;\n    }\n\n    .dataframe tbody tr th {\n        vertical-align: top;\n    }\n\n    .dataframe thead th {\n        text-align: right;\n    }\n</style>\n<table border=\"1\" class=\"dataframe\">\n  <thead>\n    <tr style=\"text-align: right;\">\n      <th></th>\n      <th>OperationName</th>\n      <th>count_</th>\n    </tr>\n  </thead>\n  <tbody>\n    <tr>\n      <th>0</th>\n      <td>AuditEvent</td>\n      <td>4156</td>\n    </tr>\n    <tr>\n      <th>1</th>\n      <td>DatabaseWaitStatistcsEvent</td>\n      <td>57</td>\n    </tr>\n    <tr>\n      <th>2</th>\n      <td>QueryStoreRuntimeStatisticsEvent</td>\n      <td>117</td>\n    </tr>\n    <tr>\n      <th>3</th>\n      <td>ErrorEvent</td>\n      <td>108</td>\n    </tr>\n    <tr>\n      <th>4</th>\n      <td>DeadlockEvent</td>\n      <td>2</td>\n    </tr>\n    <tr>\n      <th>5</th>\n      <td>TimeoutEvent</td>\n      <td>4</td>\n    </tr>\n    <tr>\n      <th>6</th>\n      <td>AutomaticTuningSettingsSnapshotEvent</td>\n      <td>4</td>\n    </tr>\n  </tbody>\n</table>\n</div>",
                        "application/vnd.dataresource+json": {
                            "schema": {
                                "fields": [
                                    {
                                        "name": "OperationName",
                                        "type": "string"
                                    },
                                    {
                                        "name": "count_",
                                        "type": "integer"
                                    }
                                ],
                                "kqmagic_version": "0.1.114.post2"
                            },
                            "data": [
                                {
                                    "OperationName": "AuditEvent",
                                    "count_": 4156
                                },
                                {
                                    "OperationName": "DatabaseWaitStatistcsEvent",
                                    "count_": 57
                                },
                                {
                                    "OperationName": "QueryStoreRuntimeStatisticsEvent",
                                    "count_": 117
                                },
                                {
                                    "OperationName": "ErrorEvent",
                                    "count_": 108
                                },
                                {
                                    "OperationName": "DeadlockEvent",
                                    "count_": 2
                                },
                                {
                                    "OperationName": "TimeoutEvent",
                                    "count_": 4
                                },
                                {
                                    "OperationName": "AutomaticTuningSettingsSnapshotEvent",
                                    "count_": 4
                                }
                            ]
                        }
                    },
                    "metadata": {}
                },
                {
                    "output_type": "display_data",
                    "data": {
                        "text/plain": "<IPython.core.display.HTML object>",
                        "text/html": "<html>\n        <head>\n            \n            \n        </head>\n        <body>\n            <div><p style=' padding: 10px; color: #3a87ad; background-color: #d9edf7; border-color: #bce9f1'>Done&nbsp;(00:04.293):&nbsp;7&nbsp;records</p></div>\n        </body>\n        </html>"
                    },
                    "metadata": {}
                },
                {
                    "output_type": "execute_result",
                    "execution_count": 19,
                    "data": {
                        "text/plain": "[{'OperationName': 'AuditEvent', 'count_': 4156},\n {'OperationName': 'DatabaseWaitStatistcsEvent', 'count_': 57},\n {'OperationName': 'QueryStoreRuntimeStatisticsEvent', 'count_': 117},\n {'OperationName': 'ErrorEvent', 'count_': 108},\n {'OperationName': 'DeadlockEvent', 'count_': 2},\n {'OperationName': 'TimeoutEvent', 'count_': 4},\n {'OperationName': 'AutomaticTuningSettingsSnapshotEvent', 'count_': 4}]",
                        "text/html": ""
                    },
                    "metadata": {}
                }
            ],
            "execution_count": 19
        },
        {
            "cell_type": "markdown",
            "source": [
                "\r\n",
                "The above query's equivalent in SQL is:\r\n",
                "```\r\n",
                "SELECT COUNT(*) AS [count_]\r\n",
                "FROM AzureDiagnostics\r\n",
                "GROUP BY OperationName\r\n",
                "```\r\n",
                ""
            ],
            "metadata": {
                "azdata_cell_guid": "70c58547-b1b4-4724-b20b-a5bfc11d4dc4"
            }
        },
        {
            "cell_type": "markdown",
            "source": [
                "Count my Azure SQL DB events by category / diagnostic settings."
            ],
            "metadata": {
                "azdata_cell_guid": "8303ed68-ca14-4063-8464-9492f9304121"
            }
        },
        {
            "cell_type": "code",
            "source": [
                "%%kql \r\n",
                "AzureDiagnostics\r\n",
                "| where LogicalServerName_s == \"jukoesmasqldb\"\r\n",
                "| where TimeGenerated >= ago(5d)\r\n",
                "| summarize count() by Category\r\n",
                "| render barchart with (title = \"Azure SQL DB Diagnostic Category\")"
            ],
            "metadata": {
                "azdata_cell_guid": "6eaa8a7b-0b34-4a5a-b49b-80f9286539b2"
            },
            "outputs": [
                {
                    "output_type": "display_data",
                    "data": {
                        "text/plain": "<IPython.core.display.HTML object>",
                        "text/html": "<html>\n        <head>\n            \n            \n        </head>\n        <body>\n            <div><p style=' padding: 10px; color: #3a87ad; background-color: #d9edf7; border-color: #bce9f1'>&nbsp;*&nbsp;myMonLog@loganalytics</p></div>\n        </body>\n        </html>"
                    },
                    "metadata": {}
                },
                {
                    "output_type": "display_data",
                    "data": {
                        "application/vnd.plotly.v1+json": {
                            "config": {
                                "plotlyServerURL": "https://plot.ly"
                            },
                            "data": [
                                {
                                    "marker": {
                                        "color": "rgb(31, 118, 179)"
                                    },
                                    "name": "count_",
                                    "orientation": "h",
                                    "type": "bar",
                                    "x": [
                                        45
                                    ],
                                    "y": [
                                        "QueryStoreRuntimeStatistics"
                                    ]
                                }
                            ],
                            "layout": {
                                "showlegend": true,
                                "template": {
                                    "data": {
                                        "bar": [
                                            {
                                                "error_x": {
                                                    "color": "#2a3f5f"
                                                },
                                                "error_y": {
                                                    "color": "#2a3f5f"
                                                },
                                                "marker": {
                                                    "line": {
                                                        "color": "#E5ECF6",
                                                        "width": 0.5
                                                    },
                                                    "pattern": {
                                                        "fillmode": "overlay",
                                                        "size": 10,
                                                        "solidity": 0.2
                                                    }
                                                },
                                                "type": "bar"
                                            }
                                        ],
                                        "barpolar": [
                                            {
                                                "marker": {
                                                    "line": {
                                                        "color": "#E5ECF6",
                                                        "width": 0.5
                                                    },
                                                    "pattern": {
                                                        "fillmode": "overlay",
                                                        "size": 10,
                                                        "solidity": 0.2
                                                    }
                                                },
                                                "type": "barpolar"
                                            }
                                        ],
                                        "carpet": [
                                            {
                                                "aaxis": {
                                                    "endlinecolor": "#2a3f5f",
                                                    "gridcolor": "white",
                                                    "linecolor": "white",
                                                    "minorgridcolor": "white",
                                                    "startlinecolor": "#2a3f5f"
                                                },
                                                "baxis": {
                                                    "endlinecolor": "#2a3f5f",
                                                    "gridcolor": "white",
                                                    "linecolor": "white",
                                                    "minorgridcolor": "white",
                                                    "startlinecolor": "#2a3f5f"
                                                },
                                                "type": "carpet"
                                            }
                                        ],
                                        "choropleth": [
                                            {
                                                "colorbar": {
                                                    "outlinewidth": 0,
                                                    "ticks": ""
                                                },
                                                "type": "choropleth"
                                            }
                                        ],
                                        "contour": [
                                            {
                                                "colorbar": {
                                                    "outlinewidth": 0,
                                                    "ticks": ""
                                                },
                                                "colorscale": [
                                                    [
                                                        0,
                                                        "#0d0887"
                                                    ],
                                                    [
                                                        0.1111111111111111,
                                                        "#46039f"
                                                    ],
                                                    [
                                                        0.2222222222222222,
                                                        "#7201a8"
                                                    ],
                                                    [
                                                        0.3333333333333333,
                                                        "#9c179e"
                                                    ],
                                                    [
                                                        0.4444444444444444,
                                                        "#bd3786"
                                                    ],
                                                    [
                                                        0.5555555555555556,
                                                        "#d8576b"
                                                    ],
                                                    [
                                                        0.6666666666666666,
                                                        "#ed7953"
                                                    ],
                                                    [
                                                        0.7777777777777778,
                                                        "#fb9f3a"
                                                    ],
                                                    [
                                                        0.8888888888888888,
                                                        "#fdca26"
                                                    ],
                                                    [
                                                        1,
                                                        "#f0f921"
                                                    ]
                                                ],
                                                "type": "contour"
                                            }
                                        ],
                                        "contourcarpet": [
                                            {
                                                "colorbar": {
                                                    "outlinewidth": 0,
                                                    "ticks": ""
                                                },
                                                "type": "contourcarpet"
                                            }
                                        ],
                                        "heatmap": [
                                            {
                                                "colorbar": {
                                                    "outlinewidth": 0,
                                                    "ticks": ""
                                                },
                                                "colorscale": [
                                                    [
                                                        0,
                                                        "#0d0887"
                                                    ],
                                                    [
                                                        0.1111111111111111,
                                                        "#46039f"
                                                    ],
                                                    [
                                                        0.2222222222222222,
                                                        "#7201a8"
                                                    ],
                                                    [
                                                        0.3333333333333333,
                                                        "#9c179e"
                                                    ],
                                                    [
                                                        0.4444444444444444,
                                                        "#bd3786"
                                                    ],
                                                    [
                                                        0.5555555555555556,
                                                        "#d8576b"
                                                    ],
                                                    [
                                                        0.6666666666666666,
                                                        "#ed7953"
                                                    ],
                                                    [
                                                        0.7777777777777778,
                                                        "#fb9f3a"
                                                    ],
                                                    [
                                                        0.8888888888888888,
                                                        "#fdca26"
                                                    ],
                                                    [
                                                        1,
                                                        "#f0f921"
                                                    ]
                                                ],
                                                "type": "heatmap"
                                            }
                                        ],
                                        "heatmapgl": [
                                            {
                                                "colorbar": {
                                                    "outlinewidth": 0,
                                                    "ticks": ""
                                                },
                                                "colorscale": [
                                                    [
                                                        0,
                                                        "#0d0887"
                                                    ],
                                                    [
                                                        0.1111111111111111,
                                                        "#46039f"
                                                    ],
                                                    [
                                                        0.2222222222222222,
                                                        "#7201a8"
                                                    ],
                                                    [
                                                        0.3333333333333333,
                                                        "#9c179e"
                                                    ],
                                                    [
                                                        0.4444444444444444,
                                                        "#bd3786"
                                                    ],
                                                    [
                                                        0.5555555555555556,
                                                        "#d8576b"
                                                    ],
                                                    [
                                                        0.6666666666666666,
                                                        "#ed7953"
                                                    ],
                                                    [
                                                        0.7777777777777778,
                                                        "#fb9f3a"
                                                    ],
                                                    [
                                                        0.8888888888888888,
                                                        "#fdca26"
                                                    ],
                                                    [
                                                        1,
                                                        "#f0f921"
                                                    ]
                                                ],
                                                "type": "heatmapgl"
                                            }
                                        ],
                                        "histogram": [
                                            {
                                                "marker": {
                                                    "pattern": {
                                                        "fillmode": "overlay",
                                                        "size": 10,
                                                        "solidity": 0.2
                                                    }
                                                },
                                                "type": "histogram"
                                            }
                                        ],
                                        "histogram2d": [
                                            {
                                                "colorbar": {
                                                    "outlinewidth": 0,
                                                    "ticks": ""
                                                },
                                                "colorscale": [
                                                    [
                                                        0,
                                                        "#0d0887"
                                                    ],
                                                    [
                                                        0.1111111111111111,
                                                        "#46039f"
                                                    ],
                                                    [
                                                        0.2222222222222222,
                                                        "#7201a8"
                                                    ],
                                                    [
                                                        0.3333333333333333,
                                                        "#9c179e"
                                                    ],
                                                    [
                                                        0.4444444444444444,
                                                        "#bd3786"
                                                    ],
                                                    [
                                                        0.5555555555555556,
                                                        "#d8576b"
                                                    ],
                                                    [
                                                        0.6666666666666666,
                                                        "#ed7953"
                                                    ],
                                                    [
                                                        0.7777777777777778,
                                                        "#fb9f3a"
                                                    ],
                                                    [
                                                        0.8888888888888888,
                                                        "#fdca26"
                                                    ],
                                                    [
                                                        1,
                                                        "#f0f921"
                                                    ]
                                                ],
                                                "type": "histogram2d"
                                            }
                                        ],
                                        "histogram2dcontour": [
                                            {
                                                "colorbar": {
                                                    "outlinewidth": 0,
                                                    "ticks": ""
                                                },
                                                "colorscale": [
                                                    [
                                                        0,
                                                        "#0d0887"
                                                    ],
                                                    [
                                                        0.1111111111111111,
                                                        "#46039f"
                                                    ],
                                                    [
                                                        0.2222222222222222,
                                                        "#7201a8"
                                                    ],
                                                    [
                                                        0.3333333333333333,
                                                        "#9c179e"
                                                    ],
                                                    [
                                                        0.4444444444444444,
                                                        "#bd3786"
                                                    ],
                                                    [
                                                        0.5555555555555556,
                                                        "#d8576b"
                                                    ],
                                                    [
                                                        0.6666666666666666,
                                                        "#ed7953"
                                                    ],
                                                    [
                                                        0.7777777777777778,
                                                        "#fb9f3a"
                                                    ],
                                                    [
                                                        0.8888888888888888,
                                                        "#fdca26"
                                                    ],
                                                    [
                                                        1,
                                                        "#f0f921"
                                                    ]
                                                ],
                                                "type": "histogram2dcontour"
                                            }
                                        ],
                                        "mesh3d": [
                                            {
                                                "colorbar": {
                                                    "outlinewidth": 0,
                                                    "ticks": ""
                                                },
                                                "type": "mesh3d"
                                            }
                                        ],
                                        "parcoords": [
                                            {
                                                "line": {
                                                    "colorbar": {
                                                        "outlinewidth": 0,
                                                        "ticks": ""
                                                    }
                                                },
                                                "type": "parcoords"
                                            }
                                        ],
                                        "pie": [
                                            {
                                                "automargin": true,
                                                "type": "pie"
                                            }
                                        ],
                                        "scatter": [
                                            {
                                                "marker": {
                                                    "colorbar": {
                                                        "outlinewidth": 0,
                                                        "ticks": ""
                                                    }
                                                },
                                                "type": "scatter"
                                            }
                                        ],
                                        "scatter3d": [
                                            {
                                                "line": {
                                                    "colorbar": {
                                                        "outlinewidth": 0,
                                                        "ticks": ""
                                                    }
                                                },
                                                "marker": {
                                                    "colorbar": {
                                                        "outlinewidth": 0,
                                                        "ticks": ""
                                                    }
                                                },
                                                "type": "scatter3d"
                                            }
                                        ],
                                        "scattercarpet": [
                                            {
                                                "marker": {
                                                    "colorbar": {
                                                        "outlinewidth": 0,
                                                        "ticks": ""
                                                    }
                                                },
                                                "type": "scattercarpet"
                                            }
                                        ],
                                        "scattergeo": [
                                            {
                                                "marker": {
                                                    "colorbar": {
                                                        "outlinewidth": 0,
                                                        "ticks": ""
                                                    }
                                                },
                                                "type": "scattergeo"
                                            }
                                        ],
                                        "scattergl": [
                                            {
                                                "marker": {
                                                    "colorbar": {
                                                        "outlinewidth": 0,
                                                        "ticks": ""
                                                    }
                                                },
                                                "type": "scattergl"
                                            }
                                        ],
                                        "scattermapbox": [
                                            {
                                                "marker": {
                                                    "colorbar": {
                                                        "outlinewidth": 0,
                                                        "ticks": ""
                                                    }
                                                },
                                                "type": "scattermapbox"
                                            }
                                        ],
                                        "scatterpolar": [
                                            {
                                                "marker": {
                                                    "colorbar": {
                                                        "outlinewidth": 0,
                                                        "ticks": ""
                                                    }
                                                },
                                                "type": "scatterpolar"
                                            }
                                        ],
                                        "scatterpolargl": [
                                            {
                                                "marker": {
                                                    "colorbar": {
                                                        "outlinewidth": 0,
                                                        "ticks": ""
                                                    }
                                                },
                                                "type": "scatterpolargl"
                                            }
                                        ],
                                        "scatterternary": [
                                            {
                                                "marker": {
                                                    "colorbar": {
                                                        "outlinewidth": 0,
                                                        "ticks": ""
                                                    }
                                                },
                                                "type": "scatterternary"
                                            }
                                        ],
                                        "surface": [
                                            {
                                                "colorbar": {
                                                    "outlinewidth": 0,
                                                    "ticks": ""
                                                },
                                                "colorscale": [
                                                    [
                                                        0,
                                                        "#0d0887"
                                                    ],
                                                    [
                                                        0.1111111111111111,
                                                        "#46039f"
                                                    ],
                                                    [
                                                        0.2222222222222222,
                                                        "#7201a8"
                                                    ],
                                                    [
                                                        0.3333333333333333,
                                                        "#9c179e"
                                                    ],
                                                    [
                                                        0.4444444444444444,
                                                        "#bd3786"
                                                    ],
                                                    [
                                                        0.5555555555555556,
                                                        "#d8576b"
                                                    ],
                                                    [
                                                        0.6666666666666666,
                                                        "#ed7953"
                                                    ],
                                                    [
                                                        0.7777777777777778,
                                                        "#fb9f3a"
                                                    ],
                                                    [
                                                        0.8888888888888888,
                                                        "#fdca26"
                                                    ],
                                                    [
                                                        1,
                                                        "#f0f921"
                                                    ]
                                                ],
                                                "type": "surface"
                                            }
                                        ],
                                        "table": [
                                            {
                                                "cells": {
                                                    "fill": {
                                                        "color": "#EBF0F8"
                                                    },
                                                    "line": {
                                                        "color": "white"
                                                    }
                                                },
                                                "header": {
                                                    "fill": {
                                                        "color": "#C8D4E3"
                                                    },
                                                    "line": {
                                                        "color": "white"
                                                    }
                                                },
                                                "type": "table"
                                            }
                                        ]
                                    },
                                    "layout": {
                                        "annotationdefaults": {
                                            "arrowcolor": "#2a3f5f",
                                            "arrowhead": 0,
                                            "arrowwidth": 1
                                        },
                                        "autotypenumbers": "strict",
                                        "coloraxis": {
                                            "colorbar": {
                                                "outlinewidth": 0,
                                                "ticks": ""
                                            }
                                        },
                                        "colorscale": {
                                            "diverging": [
                                                [
                                                    0,
                                                    "#8e0152"
                                                ],
                                                [
                                                    0.1,
                                                    "#c51b7d"
                                                ],
                                                [
                                                    0.2,
                                                    "#de77ae"
                                                ],
                                                [
                                                    0.3,
                                                    "#f1b6da"
                                                ],
                                                [
                                                    0.4,
                                                    "#fde0ef"
                                                ],
                                                [
                                                    0.5,
                                                    "#f7f7f7"
                                                ],
                                                [
                                                    0.6,
                                                    "#e6f5d0"
                                                ],
                                                [
                                                    0.7,
                                                    "#b8e186"
                                                ],
                                                [
                                                    0.8,
                                                    "#7fbc41"
                                                ],
                                                [
                                                    0.9,
                                                    "#4d9221"
                                                ],
                                                [
                                                    1,
                                                    "#276419"
                                                ]
                                            ],
                                            "sequential": [
                                                [
                                                    0,
                                                    "#0d0887"
                                                ],
                                                [
                                                    0.1111111111111111,
                                                    "#46039f"
                                                ],
                                                [
                                                    0.2222222222222222,
                                                    "#7201a8"
                                                ],
                                                [
                                                    0.3333333333333333,
                                                    "#9c179e"
                                                ],
                                                [
                                                    0.4444444444444444,
                                                    "#bd3786"
                                                ],
                                                [
                                                    0.5555555555555556,
                                                    "#d8576b"
                                                ],
                                                [
                                                    0.6666666666666666,
                                                    "#ed7953"
                                                ],
                                                [
                                                    0.7777777777777778,
                                                    "#fb9f3a"
                                                ],
                                                [
                                                    0.8888888888888888,
                                                    "#fdca26"
                                                ],
                                                [
                                                    1,
                                                    "#f0f921"
                                                ]
                                            ],
                                            "sequentialminus": [
                                                [
                                                    0,
                                                    "#0d0887"
                                                ],
                                                [
                                                    0.1111111111111111,
                                                    "#46039f"
                                                ],
                                                [
                                                    0.2222222222222222,
                                                    "#7201a8"
                                                ],
                                                [
                                                    0.3333333333333333,
                                                    "#9c179e"
                                                ],
                                                [
                                                    0.4444444444444444,
                                                    "#bd3786"
                                                ],
                                                [
                                                    0.5555555555555556,
                                                    "#d8576b"
                                                ],
                                                [
                                                    0.6666666666666666,
                                                    "#ed7953"
                                                ],
                                                [
                                                    0.7777777777777778,
                                                    "#fb9f3a"
                                                ],
                                                [
                                                    0.8888888888888888,
                                                    "#fdca26"
                                                ],
                                                [
                                                    1,
                                                    "#f0f921"
                                                ]
                                            ]
                                        },
                                        "colorway": [
                                            "#636efa",
                                            "#EF553B",
                                            "#00cc96",
                                            "#ab63fa",
                                            "#FFA15A",
                                            "#19d3f3",
                                            "#FF6692",
                                            "#B6E880",
                                            "#FF97FF",
                                            "#FECB52"
                                        ],
                                        "font": {
                                            "color": "#2a3f5f"
                                        },
                                        "geo": {
                                            "bgcolor": "white",
                                            "lakecolor": "white",
                                            "landcolor": "#E5ECF6",
                                            "showlakes": true,
                                            "showland": true,
                                            "subunitcolor": "white"
                                        },
                                        "hoverlabel": {
                                            "align": "left"
                                        },
                                        "hovermode": "closest",
                                        "mapbox": {
                                            "style": "light"
                                        },
                                        "paper_bgcolor": "white",
                                        "plot_bgcolor": "#E5ECF6",
                                        "polar": {
                                            "angularaxis": {
                                                "gridcolor": "white",
                                                "linecolor": "white",
                                                "ticks": ""
                                            },
                                            "bgcolor": "#E5ECF6",
                                            "radialaxis": {
                                                "gridcolor": "white",
                                                "linecolor": "white",
                                                "ticks": ""
                                            }
                                        },
                                        "scene": {
                                            "xaxis": {
                                                "backgroundcolor": "#E5ECF6",
                                                "gridcolor": "white",
                                                "gridwidth": 2,
                                                "linecolor": "white",
                                                "showbackground": true,
                                                "ticks": "",
                                                "zerolinecolor": "white"
                                            },
                                            "yaxis": {
                                                "backgroundcolor": "#E5ECF6",
                                                "gridcolor": "white",
                                                "gridwidth": 2,
                                                "linecolor": "white",
                                                "showbackground": true,
                                                "ticks": "",
                                                "zerolinecolor": "white"
                                            },
                                            "zaxis": {
                                                "backgroundcolor": "#E5ECF6",
                                                "gridcolor": "white",
                                                "gridwidth": 2,
                                                "linecolor": "white",
                                                "showbackground": true,
                                                "ticks": "",
                                                "zerolinecolor": "white"
                                            }
                                        },
                                        "shapedefaults": {
                                            "line": {
                                                "color": "#2a3f5f"
                                            }
                                        },
                                        "ternary": {
                                            "aaxis": {
                                                "gridcolor": "white",
                                                "linecolor": "white",
                                                "ticks": ""
                                            },
                                            "baxis": {
                                                "gridcolor": "white",
                                                "linecolor": "white",
                                                "ticks": ""
                                            },
                                            "bgcolor": "#E5ECF6",
                                            "caxis": {
                                                "gridcolor": "white",
                                                "linecolor": "white",
                                                "ticks": ""
                                            }
                                        },
                                        "title": {
                                            "x": 0.05
                                        },
                                        "xaxis": {
                                            "automargin": true,
                                            "gridcolor": "white",
                                            "linecolor": "white",
                                            "ticks": "",
                                            "title": {
                                                "standoff": 15
                                            },
                                            "zerolinecolor": "white",
                                            "zerolinewidth": 2
                                        },
                                        "yaxis": {
                                            "automargin": true,
                                            "gridcolor": "white",
                                            "linecolor": "white",
                                            "ticks": "",
                                            "title": {
                                                "standoff": 15
                                            },
                                            "zerolinecolor": "white",
                                            "zerolinewidth": 2
                                        }
                                    }
                                },
                                "title": {
                                    "text": "Azure SQL DB Diagnostic Category"
                                },
                                "xaxis": {
                                    "ticksuffix": "",
                                    "title": {
                                        "text": "count_"
                                    },
                                    "type": "linear"
                                },
                                "yaxis": {
                                    "title": {
                                        "text": "Category"
                                    },
                                    "type": "category"
                                }
                            }
                        }
                    },
                    "metadata": {}
                },
                {
                    "output_type": "display_data",
                    "data": {
                        "text/plain": "<IPython.core.display.HTML object>",
                        "text/html": "<html>\n        <head>\n            \n            \n        </head>\n        <body>\n            <div><p style=' padding: 10px; color: #3a87ad; background-color: #d9edf7; border-color: #bce9f1'>Done&nbsp;(00:00.396):&nbsp;1&nbsp;records</p></div>\n        </body>\n        </html>"
                    },
                    "metadata": {}
                },
                {
                    "output_type": "execute_result",
                    "execution_count": 7,
                    "data": {
                        "text/plain": "[{'Category': 'QueryStoreRuntimeStatistics', 'count_': 45}]",
                        "text/html": ""
                    },
                    "metadata": {}
                }
            ],
            "execution_count": 7
        },
        {
            "cell_type": "markdown",
            "source": [
                "## 3. Performance troubleshooting Query (from Azure Portal)\n",
                "\n",
                "Potentially a query or deadlock on the system that could lead to poor performance. The following is a query suggested by Azure Portal."
            ],
            "metadata": {
                "azdata_cell_guid": "3e2e80b4-88b4-494e-931e-15a4139389d7"
            }
        },
        {
            "cell_type": "code",
            "source": [
                "%%kql \r\n",
                "AzureMetrics\r\n",
                "| where ResourceProvider == \"MICROSOFT.SQL\"\r\n",
                "| where TimeGenerated >=ago(112d)\r\n",
                "| where MetricName in ('deadlock')\r\n",
                "| parse _ResourceId with * \"/microsoft.sql/servers/\" Resource // subtract Resource name for _ResourceId\r\n",
                "| summarize Deadlock_max_60Mins = max(Maximum) by Resource, MetricName"
            ],
            "metadata": {
                "azdata_cell_guid": "d7bc7a1e-c348-448b-af47-b310a0fe55e7"
            },
            "outputs": [
                {
                    "output_type": "display_data",
                    "data": {
                        "text/plain": "<IPython.core.display.HTML object>",
                        "text/html": "<html>\n        <head>\n            \n            \n        </head>\n        <body>\n            <div><p style=' padding: 10px; color: #3a87ad; background-color: #d9edf7; border-color: #bce9f1'>&nbsp;*&nbsp;myMonLog@loganalytics</p></div>\n        </body>\n        </html>"
                    },
                    "metadata": {}
                },
                {
                    "output_type": "display_data",
                    "data": {
                        "text/plain": "                                 Resource MetricName  Deadlock_max_60Mins\n0  jukoesmasqldb/databases/adventureworks   deadlock                  1.0",
                        "text/html": "<div>\n<style scoped>\n    .dataframe tbody tr th:only-of-type {\n        vertical-align: middle;\n    }\n\n    .dataframe tbody tr th {\n        vertical-align: top;\n    }\n\n    .dataframe thead th {\n        text-align: right;\n    }\n</style>\n<table border=\"1\" class=\"dataframe\">\n  <thead>\n    <tr style=\"text-align: right;\">\n      <th></th>\n      <th>Resource</th>\n      <th>MetricName</th>\n      <th>Deadlock_max_60Mins</th>\n    </tr>\n  </thead>\n  <tbody>\n    <tr>\n      <th>0</th>\n      <td>jukoesmasqldb/databases/adventureworks</td>\n      <td>deadlock</td>\n      <td>1.0</td>\n    </tr>\n  </tbody>\n</table>\n</div>",
                        "application/vnd.dataresource+json": {
                            "schema": {
                                "fields": [
                                    {
                                        "name": "Resource",
                                        "type": "string"
                                    },
                                    {
                                        "name": "MetricName",
                                        "type": "string"
                                    },
                                    {
                                        "name": "Deadlock_max_60Mins",
                                        "type": "number"
                                    }
                                ],
                                "kqmagic_version": "0.1.114.post2"
                            },
                            "data": [
                                {
                                    "Resource": "jukoesmasqldb/databases/adventureworks",
                                    "MetricName": "deadlock",
                                    "Deadlock_max_60Mins": 1
                                }
                            ]
                        }
                    },
                    "metadata": {}
                },
                {
                    "output_type": "display_data",
                    "data": {
                        "text/plain": "<IPython.core.display.HTML object>",
                        "text/html": "<html>\n        <head>\n            \n            \n        </head>\n        <body>\n            <div><p style=' padding: 10px; color: #3a87ad; background-color: #d9edf7; border-color: #bce9f1'>Done&nbsp;(00:01.935):&nbsp;1&nbsp;records</p></div>\n        </body>\n        </html>"
                    },
                    "metadata": {}
                },
                {
                    "output_type": "execute_result",
                    "execution_count": 22,
                    "data": {
                        "text/plain": "[{'Resource': 'jukoesmasqldb/databases/adventureworks', 'MetricName': 'deadlock', 'Deadlock_max_60Mins': 1}]",
                        "text/html": ""
                    },
                    "metadata": {}
                }
            ],
            "execution_count": 22
        },
        {
            "cell_type": "markdown",
            "source": [
                "# AzureMetrics\r\n",
                "\r\n",
                "This is a sample query to dig into AzureMetrics"
            ],
            "metadata": {
                "azdata_cell_guid": "188a4592-423d-44b6-ad47-902101257761"
            }
        },
        {
            "cell_type": "code",
            "source": [
                "%%kql \r\n",
                "AzureMetrics\r\n",
                "| project-away TenantId, ResourceId, SubscriptionId, _ResourceId, ResourceGroup // Don't show sensitive columns :) \r\n",
                "| project TimeGenerated, MetricName, Total, Count, UnitName\r\n",
                "| take 10\r\n",
                ""
            ],
            "metadata": {
                "azdata_cell_guid": "1ac3f92f-b292-4c74-8020-47de93aebb6f"
            },
            "outputs": [
                {
                    "output_type": "display_data",
                    "data": {
                        "text/plain": "<IPython.core.display.HTML object>",
                        "text/html": "<html>\n        <head>\n            \n            \n        </head>\n        <body>\n            <div><p style=' padding: 10px; color: #3a87ad; background-color: #d9edf7; border-color: #bce9f1'>&nbsp;*&nbsp;myMonLog@loganalytics</p></div>\n        </body>\n        </html>"
                    },
                    "metadata": {}
                },
                {
                    "output_type": "display_data",
                    "data": {
                        "text/plain": "              TimeGenerated                  MetricName         Total  Count  \\\n0 2021-07-28 01:24:00+00:00             storage_percent  0.000000e+00    2.0   \n1 2021-07-28 01:24:00+00:00           log_write_percent  0.000000e+00    4.0   \n2 2021-07-28 01:24:00+00:00                     storage  1.414660e+09    2.0   \n3 2021-07-28 01:24:00+00:00  physical_data_read_percent  0.000000e+00    4.0   \n4 2021-07-28 01:24:00+00:00            sessions_percent  0.000000e+00    4.0   \n5 2021-07-28 01:24:00+00:00     dtu_consumption_percent  0.000000e+00    4.0   \n6 2021-07-28 01:24:00+00:00  physical_data_read_percent  0.000000e+00    4.0   \n7 2021-07-28 01:24:00+00:00                 cpu_percent  0.000000e+00    4.0   \n8 2021-07-28 01:24:00+00:00                    dtu_used  0.000000e+00    1.0   \n9 2021-07-28 01:24:00+00:00                 cpu_percent  0.000000e+00    4.0   \n\n  UnitName  \n0  Percent  \n1  Percent  \n2    Bytes  \n3  Percent  \n4  Percent  \n5  Percent  \n6  Percent  \n7  Percent  \n8    Count  \n9  Percent  ",
                        "text/html": "<div>\n<style scoped>\n    .dataframe tbody tr th:only-of-type {\n        vertical-align: middle;\n    }\n\n    .dataframe tbody tr th {\n        vertical-align: top;\n    }\n\n    .dataframe thead th {\n        text-align: right;\n    }\n</style>\n<table border=\"1\" class=\"dataframe\">\n  <thead>\n    <tr style=\"text-align: right;\">\n      <th></th>\n      <th>TimeGenerated</th>\n      <th>MetricName</th>\n      <th>Total</th>\n      <th>Count</th>\n      <th>UnitName</th>\n    </tr>\n  </thead>\n  <tbody>\n    <tr>\n      <th>0</th>\n      <td>2021-07-28 01:24:00+00:00</td>\n      <td>storage_percent</td>\n      <td>0.000000e+00</td>\n      <td>2.0</td>\n      <td>Percent</td>\n    </tr>\n    <tr>\n      <th>1</th>\n      <td>2021-07-28 01:24:00+00:00</td>\n      <td>log_write_percent</td>\n      <td>0.000000e+00</td>\n      <td>4.0</td>\n      <td>Percent</td>\n    </tr>\n    <tr>\n      <th>2</th>\n      <td>2021-07-28 01:24:00+00:00</td>\n      <td>storage</td>\n      <td>1.414660e+09</td>\n      <td>2.0</td>\n      <td>Bytes</td>\n    </tr>\n    <tr>\n      <th>3</th>\n      <td>2021-07-28 01:24:00+00:00</td>\n      <td>physical_data_read_percent</td>\n      <td>0.000000e+00</td>\n      <td>4.0</td>\n      <td>Percent</td>\n    </tr>\n    <tr>\n      <th>4</th>\n      <td>2021-07-28 01:24:00+00:00</td>\n      <td>sessions_percent</td>\n      <td>0.000000e+00</td>\n      <td>4.0</td>\n      <td>Percent</td>\n    </tr>\n    <tr>\n      <th>5</th>\n      <td>2021-07-28 01:24:00+00:00</td>\n      <td>dtu_consumption_percent</td>\n      <td>0.000000e+00</td>\n      <td>4.0</td>\n      <td>Percent</td>\n    </tr>\n    <tr>\n      <th>6</th>\n      <td>2021-07-28 01:24:00+00:00</td>\n      <td>physical_data_read_percent</td>\n      <td>0.000000e+00</td>\n      <td>4.0</td>\n      <td>Percent</td>\n    </tr>\n    <tr>\n      <th>7</th>\n      <td>2021-07-28 01:24:00+00:00</td>\n      <td>cpu_percent</td>\n      <td>0.000000e+00</td>\n      <td>4.0</td>\n      <td>Percent</td>\n    </tr>\n    <tr>\n      <th>8</th>\n      <td>2021-07-28 01:24:00+00:00</td>\n      <td>dtu_used</td>\n      <td>0.000000e+00</td>\n      <td>1.0</td>\n      <td>Count</td>\n    </tr>\n    <tr>\n      <th>9</th>\n      <td>2021-07-28 01:24:00+00:00</td>\n      <td>cpu_percent</td>\n      <td>0.000000e+00</td>\n      <td>4.0</td>\n      <td>Percent</td>\n    </tr>\n  </tbody>\n</table>\n</div>",
                        "application/vnd.dataresource+json": {
                            "schema": {
                                "fields": [
                                    {
                                        "name": "TimeGenerated",
                                        "type": "datetime",
                                        "tz": "UTC"
                                    },
                                    {
                                        "name": "MetricName",
                                        "type": "string"
                                    },
                                    {
                                        "name": "Total",
                                        "type": "number"
                                    },
                                    {
                                        "name": "Count",
                                        "type": "number"
                                    },
                                    {
                                        "name": "UnitName",
                                        "type": "string"
                                    }
                                ],
                                "kqmagic_version": "0.1.114.post2"
                            },
                            "data": [
                                {
                                    "TimeGenerated": "2021-07-28T01:24:00.000Z",
                                    "MetricName": "storage_percent",
                                    "Total": 0,
                                    "Count": 2,
                                    "UnitName": "Percent"
                                },
                                {
                                    "TimeGenerated": "2021-07-28T01:24:00.000Z",
                                    "MetricName": "log_write_percent",
                                    "Total": 0,
                                    "Count": 4,
                                    "UnitName": "Percent"
                                },
                                {
                                    "TimeGenerated": "2021-07-28T01:24:00.000Z",
                                    "MetricName": "storage",
                                    "Total": 1414660096,
                                    "Count": 2,
                                    "UnitName": "Bytes"
                                },
                                {
                                    "TimeGenerated": "2021-07-28T01:24:00.000Z",
                                    "MetricName": "physical_data_read_percent",
                                    "Total": 0,
                                    "Count": 4,
                                    "UnitName": "Percent"
                                },
                                {
                                    "TimeGenerated": "2021-07-28T01:24:00.000Z",
                                    "MetricName": "sessions_percent",
                                    "Total": 0,
                                    "Count": 4,
                                    "UnitName": "Percent"
                                },
                                {
                                    "TimeGenerated": "2021-07-28T01:24:00.000Z",
                                    "MetricName": "dtu_consumption_percent",
                                    "Total": 0,
                                    "Count": 4,
                                    "UnitName": "Percent"
                                },
                                {
                                    "TimeGenerated": "2021-07-28T01:24:00.000Z",
                                    "MetricName": "physical_data_read_percent",
                                    "Total": 0,
                                    "Count": 4,
                                    "UnitName": "Percent"
                                },
                                {
                                    "TimeGenerated": "2021-07-28T01:24:00.000Z",
                                    "MetricName": "cpu_percent",
                                    "Total": 0,
                                    "Count": 4,
                                    "UnitName": "Percent"
                                },
                                {
                                    "TimeGenerated": "2021-07-28T01:24:00.000Z",
                                    "MetricName": "dtu_used",
                                    "Total": 0,
                                    "Count": 1,
                                    "UnitName": "Count"
                                },
                                {
                                    "TimeGenerated": "2021-07-28T01:24:00.000Z",
                                    "MetricName": "cpu_percent",
                                    "Total": 0,
                                    "Count": 4,
                                    "UnitName": "Percent"
                                }
                            ]
                        }
                    },
                    "metadata": {}
                },
                {
                    "output_type": "display_data",
                    "data": {
                        "text/plain": "<IPython.core.display.HTML object>",
                        "text/html": "<html>\n        <head>\n            \n            \n        </head>\n        <body>\n            <div><p style=' padding: 10px; color: #3a87ad; background-color: #d9edf7; border-color: #bce9f1'>Done&nbsp;(00:00.874):&nbsp;10&nbsp;records</p></div>\n        </body>\n        </html>"
                    },
                    "metadata": {}
                },
                {
                    "output_type": "execute_result",
                    "execution_count": 9,
                    "data": {
                        "text/plain": "[{'TimeGenerated': datetime.datetime(2021, 7, 28, 1, 24, tzinfo=tzutc()), 'MetricName': 'storage_percent', 'Total': 0, 'Count': 2, 'UnitName': 'Percent'},\n {'TimeGenerated': datetime.datetime(2021, 7, 28, 1, 24, tzinfo=tzutc()), 'MetricName': 'log_write_percent', 'Total': 0, 'Count': 4, 'UnitName': 'Percent'},\n {'TimeGenerated': datetime.datetime(2021, 7, 28, 1, 24, tzinfo=tzutc()), 'MetricName': 'storage', 'Total': 1414660096, 'Count': 2, 'UnitName': 'Bytes'},\n {'TimeGenerated': datetime.datetime(2021, 7, 28, 1, 24, tzinfo=tzutc()), 'MetricName': 'physical_data_read_percent', 'Total': 0, 'Count': 4, 'UnitName': 'Percent'},\n {'TimeGenerated': datetime.datetime(2021, 7, 28, 1, 24, tzinfo=tzutc()), 'MetricName': 'sessions_percent', 'Total': 0, 'Count': 4, 'UnitName': 'Percent'},\n {'TimeGenerated': datetime.datetime(2021, 7, 28, 1, 24, tzinfo=tzutc()), 'MetricName': 'dtu_consumption_percent', 'Total': 0, 'Count': 4, 'UnitName': 'Percent'},\n {'TimeGenerated': datetime.datetime(2021, 7, 28, 1, 24, tzinfo=tzutc()), 'MetricName': 'physical_data_read_percent', 'Total': 0, 'Count': 4, 'UnitName': 'Percent'},\n {'TimeGenerated': datetime.datetime(2021, 7, 28, 1, 24, tzinfo=tzutc()), 'MetricName': 'cpu_percent', 'Total': 0, 'Count': 4, 'UnitName': 'Percent'},\n {'TimeGenerated': datetime.datetime(2021, 7, 28, 1, 24, tzinfo=tzutc()), 'MetricName': 'dtu_used', 'Total': 0, 'Count': 1, 'UnitName': 'Count'},\n {'TimeGenerated': datetime.datetime(2021, 7, 28, 1, 24, tzinfo=tzutc()), 'MetricName': 'cpu_percent', 'Total': 0, 'Count': 4, 'UnitName': 'Percent'}]",
                        "text/html": ""
                    },
                    "metadata": {}
                }
            ],
            "execution_count": 9
        },
        {
            "cell_type": "markdown",
            "source": [
                "# AzureDiagnostics\n",
                "\n",
                "This is a sample query to dig into AzureDiagnostics. This table tends to have more details than AzureMetrics."
            ],
            "metadata": {
                "azdata_cell_guid": "b7d842a1-4228-48c8-ab44-126adf65d1ed"
            }
        },
        {
            "cell_type": "code",
            "source": [
                "%%kql \r\n",
                "AzureDiagnostics\r\n",
                "| project-away TenantId, ResourceId, SubscriptionId, ResourceGroup, _ResourceId // Don't show sensitive columns :) \r\n",
                "| project TimeGenerated, Category, Resource, ResourceType, OperationName\r\n",
                "| take 10"
            ],
            "metadata": {
                "azdata_cell_guid": "310413ed-93a0-4f80-ad80-9f7cd3e862da"
            },
            "outputs": [
                {
                    "output_type": "display_data",
                    "data": {
                        "text/plain": "<IPython.core.display.HTML object>",
                        "text/html": "<html>\n        <head>\n            \n            \n        </head>\n        <body>\n            <div><p style=' padding: 10px; color: #3a87ad; background-color: #d9edf7; border-color: #bce9f1'>&nbsp;*&nbsp;myMonLog@loganalytics</p></div>\n        </body>\n        </html>"
                    },
                    "metadata": {}
                },
                {
                    "output_type": "display_data",
                    "data": {
                        "text/plain": "                     TimeGenerated                     Category  \\\n0 2021-07-06 09:54:07.783000+00:00  QueryStoreRuntimeStatistics   \n1 2021-07-07 20:53:59.956000+00:00       SQLSecurityAuditEvents   \n2 2021-07-07 20:53:59.956000+00:00       SQLSecurityAuditEvents   \n3 2021-07-07 20:53:59.956000+00:00       SQLSecurityAuditEvents   \n4 2021-07-07 20:53:59.956000+00:00       SQLSecurityAuditEvents   \n5 2021-07-07 20:53:59.956000+00:00       SQLSecurityAuditEvents   \n6 2021-07-07 20:53:59.956000+00:00       SQLSecurityAuditEvents   \n7 2021-07-07 20:53:59.956000+00:00       SQLSecurityAuditEvents   \n8 2021-07-07 20:53:59.956000+00:00       SQLSecurityAuditEvents   \n9 2021-07-07 20:53:59.956000+00:00       SQLSecurityAuditEvents   \n\n         Resource       ResourceType                     OperationName  \n0  ADVENTUREWORKS  SERVERS/DATABASES  QueryStoreRuntimeStatisticsEvent  \n1          MASTER  SERVERS/DATABASES                        AuditEvent  \n2          MASTER  SERVERS/DATABASES                        AuditEvent  \n3          MASTER  SERVERS/DATABASES                        AuditEvent  \n4          MASTER  SERVERS/DATABASES                        AuditEvent  \n5          MASTER  SERVERS/DATABASES                        AuditEvent  \n6          MASTER  SERVERS/DATABASES                        AuditEvent  \n7          MASTER  SERVERS/DATABASES                        AuditEvent  \n8          MASTER  SERVERS/DATABASES                        AuditEvent  \n9          MASTER  SERVERS/DATABASES                        AuditEvent  ",
                        "text/html": "<div>\n<style scoped>\n    .dataframe tbody tr th:only-of-type {\n        vertical-align: middle;\n    }\n\n    .dataframe tbody tr th {\n        vertical-align: top;\n    }\n\n    .dataframe thead th {\n        text-align: right;\n    }\n</style>\n<table border=\"1\" class=\"dataframe\">\n  <thead>\n    <tr style=\"text-align: right;\">\n      <th></th>\n      <th>TimeGenerated</th>\n      <th>Category</th>\n      <th>Resource</th>\n      <th>ResourceType</th>\n      <th>OperationName</th>\n    </tr>\n  </thead>\n  <tbody>\n    <tr>\n      <th>0</th>\n      <td>2021-07-06 09:54:07.783000+00:00</td>\n      <td>QueryStoreRuntimeStatistics</td>\n      <td>ADVENTUREWORKS</td>\n      <td>SERVERS/DATABASES</td>\n      <td>QueryStoreRuntimeStatisticsEvent</td>\n    </tr>\n    <tr>\n      <th>1</th>\n      <td>2021-07-07 20:53:59.956000+00:00</td>\n      <td>SQLSecurityAuditEvents</td>\n      <td>MASTER</td>\n      <td>SERVERS/DATABASES</td>\n      <td>AuditEvent</td>\n    </tr>\n    <tr>\n      <th>2</th>\n      <td>2021-07-07 20:53:59.956000+00:00</td>\n      <td>SQLSecurityAuditEvents</td>\n      <td>MASTER</td>\n      <td>SERVERS/DATABASES</td>\n      <td>AuditEvent</td>\n    </tr>\n    <tr>\n      <th>3</th>\n      <td>2021-07-07 20:53:59.956000+00:00</td>\n      <td>SQLSecurityAuditEvents</td>\n      <td>MASTER</td>\n      <td>SERVERS/DATABASES</td>\n      <td>AuditEvent</td>\n    </tr>\n    <tr>\n      <th>4</th>\n      <td>2021-07-07 20:53:59.956000+00:00</td>\n      <td>SQLSecurityAuditEvents</td>\n      <td>MASTER</td>\n      <td>SERVERS/DATABASES</td>\n      <td>AuditEvent</td>\n    </tr>\n    <tr>\n      <th>5</th>\n      <td>2021-07-07 20:53:59.956000+00:00</td>\n      <td>SQLSecurityAuditEvents</td>\n      <td>MASTER</td>\n      <td>SERVERS/DATABASES</td>\n      <td>AuditEvent</td>\n    </tr>\n    <tr>\n      <th>6</th>\n      <td>2021-07-07 20:53:59.956000+00:00</td>\n      <td>SQLSecurityAuditEvents</td>\n      <td>MASTER</td>\n      <td>SERVERS/DATABASES</td>\n      <td>AuditEvent</td>\n    </tr>\n    <tr>\n      <th>7</th>\n      <td>2021-07-07 20:53:59.956000+00:00</td>\n      <td>SQLSecurityAuditEvents</td>\n      <td>MASTER</td>\n      <td>SERVERS/DATABASES</td>\n      <td>AuditEvent</td>\n    </tr>\n    <tr>\n      <th>8</th>\n      <td>2021-07-07 20:53:59.956000+00:00</td>\n      <td>SQLSecurityAuditEvents</td>\n      <td>MASTER</td>\n      <td>SERVERS/DATABASES</td>\n      <td>AuditEvent</td>\n    </tr>\n    <tr>\n      <th>9</th>\n      <td>2021-07-07 20:53:59.956000+00:00</td>\n      <td>SQLSecurityAuditEvents</td>\n      <td>MASTER</td>\n      <td>SERVERS/DATABASES</td>\n      <td>AuditEvent</td>\n    </tr>\n  </tbody>\n</table>\n</div>",
                        "application/vnd.dataresource+json": {
                            "schema": {
                                "fields": [
                                    {
                                        "name": "TimeGenerated",
                                        "type": "datetime",
                                        "tz": "UTC"
                                    },
                                    {
                                        "name": "Category",
                                        "type": "string"
                                    },
                                    {
                                        "name": "Resource",
                                        "type": "string"
                                    },
                                    {
                                        "name": "ResourceType",
                                        "type": "string"
                                    },
                                    {
                                        "name": "OperationName",
                                        "type": "string"
                                    }
                                ],
                                "kqmagic_version": "0.1.114.post2"
                            },
                            "data": [
                                {
                                    "TimeGenerated": "2021-07-06T09:54:07.783Z",
                                    "Category": "QueryStoreRuntimeStatistics",
                                    "Resource": "ADVENTUREWORKS",
                                    "ResourceType": "SERVERS/DATABASES",
                                    "OperationName": "QueryStoreRuntimeStatisticsEvent"
                                },
                                {
                                    "TimeGenerated": "2021-07-07T20:53:59.956Z",
                                    "Category": "SQLSecurityAuditEvents",
                                    "Resource": "MASTER",
                                    "ResourceType": "SERVERS/DATABASES",
                                    "OperationName": "AuditEvent"
                                },
                                {
                                    "TimeGenerated": "2021-07-07T20:53:59.956Z",
                                    "Category": "SQLSecurityAuditEvents",
                                    "Resource": "MASTER",
                                    "ResourceType": "SERVERS/DATABASES",
                                    "OperationName": "AuditEvent"
                                },
                                {
                                    "TimeGenerated": "2021-07-07T20:53:59.956Z",
                                    "Category": "SQLSecurityAuditEvents",
                                    "Resource": "MASTER",
                                    "ResourceType": "SERVERS/DATABASES",
                                    "OperationName": "AuditEvent"
                                },
                                {
                                    "TimeGenerated": "2021-07-07T20:53:59.956Z",
                                    "Category": "SQLSecurityAuditEvents",
                                    "Resource": "MASTER",
                                    "ResourceType": "SERVERS/DATABASES",
                                    "OperationName": "AuditEvent"
                                },
                                {
                                    "TimeGenerated": "2021-07-07T20:53:59.956Z",
                                    "Category": "SQLSecurityAuditEvents",
                                    "Resource": "MASTER",
                                    "ResourceType": "SERVERS/DATABASES",
                                    "OperationName": "AuditEvent"
                                },
                                {
                                    "TimeGenerated": "2021-07-07T20:53:59.956Z",
                                    "Category": "SQLSecurityAuditEvents",
                                    "Resource": "MASTER",
                                    "ResourceType": "SERVERS/DATABASES",
                                    "OperationName": "AuditEvent"
                                },
                                {
                                    "TimeGenerated": "2021-07-07T20:53:59.956Z",
                                    "Category": "SQLSecurityAuditEvents",
                                    "Resource": "MASTER",
                                    "ResourceType": "SERVERS/DATABASES",
                                    "OperationName": "AuditEvent"
                                },
                                {
                                    "TimeGenerated": "2021-07-07T20:53:59.956Z",
                                    "Category": "SQLSecurityAuditEvents",
                                    "Resource": "MASTER",
                                    "ResourceType": "SERVERS/DATABASES",
                                    "OperationName": "AuditEvent"
                                },
                                {
                                    "TimeGenerated": "2021-07-07T20:53:59.956Z",
                                    "Category": "SQLSecurityAuditEvents",
                                    "Resource": "MASTER",
                                    "ResourceType": "SERVERS/DATABASES",
                                    "OperationName": "AuditEvent"
                                }
                            ]
                        }
                    },
                    "metadata": {}
                },
                {
                    "output_type": "display_data",
                    "data": {
                        "text/plain": "<IPython.core.display.HTML object>",
                        "text/html": "<html>\n        <head>\n            \n            \n        </head>\n        <body>\n            <div><p style=' padding: 10px; color: #3a87ad; background-color: #d9edf7; border-color: #bce9f1'>Done&nbsp;(00:00.791):&nbsp;10&nbsp;records</p></div>\n        </body>\n        </html>"
                    },
                    "metadata": {}
                },
                {
                    "output_type": "execute_result",
                    "execution_count": 10,
                    "data": {
                        "text/plain": "[{'TimeGenerated': datetime.datetime(2021, 7, 6, 9, 54, 7, 783000, tzinfo=tzutc()), 'Category': 'QueryStoreRuntimeStatistics', 'Resource': 'ADVENTUREWORKS', 'ResourceType': 'SERVERS/DATABASES', 'OperationName': 'QueryStoreRuntimeStatisticsEvent'},\n {'TimeGenerated': datetime.datetime(2021, 7, 7, 20, 53, 59, 956000, tzinfo=tzutc()), 'Category': 'SQLSecurityAuditEvents', 'Resource': 'MASTER', 'ResourceType': 'SERVERS/DATABASES', 'OperationName': 'AuditEvent'},\n {'TimeGenerated': datetime.datetime(2021, 7, 7, 20, 53, 59, 956000, tzinfo=tzutc()), 'Category': 'SQLSecurityAuditEvents', 'Resource': 'MASTER', 'ResourceType': 'SERVERS/DATABASES', 'OperationName': 'AuditEvent'},\n {'TimeGenerated': datetime.datetime(2021, 7, 7, 20, 53, 59, 956000, tzinfo=tzutc()), 'Category': 'SQLSecurityAuditEvents', 'Resource': 'MASTER', 'ResourceType': 'SERVERS/DATABASES', 'OperationName': 'AuditEvent'},\n {'TimeGenerated': datetime.datetime(2021, 7, 7, 20, 53, 59, 956000, tzinfo=tzutc()), 'Category': 'SQLSecurityAuditEvents', 'Resource': 'MASTER', 'ResourceType': 'SERVERS/DATABASES', 'OperationName': 'AuditEvent'},\n {'TimeGenerated': datetime.datetime(2021, 7, 7, 20, 53, 59, 956000, tzinfo=tzutc()), 'Category': 'SQLSecurityAuditEvents', 'Resource': 'MASTER', 'ResourceType': 'SERVERS/DATABASES', 'OperationName': 'AuditEvent'},\n {'TimeGenerated': datetime.datetime(2021, 7, 7, 20, 53, 59, 956000, tzinfo=tzutc()), 'Category': 'SQLSecurityAuditEvents', 'Resource': 'MASTER', 'ResourceType': 'SERVERS/DATABASES', 'OperationName': 'AuditEvent'},\n {'TimeGenerated': datetime.datetime(2021, 7, 7, 20, 53, 59, 956000, tzinfo=tzutc()), 'Category': 'SQLSecurityAuditEvents', 'Resource': 'MASTER', 'ResourceType': 'SERVERS/DATABASES', 'OperationName': 'AuditEvent'},\n {'TimeGenerated': datetime.datetime(2021, 7, 7, 20, 53, 59, 956000, tzinfo=tzutc()), 'Category': 'SQLSecurityAuditEvents', 'Resource': 'MASTER', 'ResourceType': 'SERVERS/DATABASES', 'OperationName': 'AuditEvent'},\n {'TimeGenerated': datetime.datetime(2021, 7, 7, 20, 53, 59, 956000, tzinfo=tzutc()), 'Category': 'SQLSecurityAuditEvents', 'Resource': 'MASTER', 'ResourceType': 'SERVERS/DATABASES', 'OperationName': 'AuditEvent'}]",
                        "text/html": ""
                    },
                    "metadata": {}
                }
            ],
            "execution_count": 10
        },
        {
            "cell_type": "markdown",
            "source": [
                "## Analyze (non-audit) Events"
            ],
            "metadata": {
                "azdata_cell_guid": "19ee8932-d9da-4d77-ad62-005f38918138"
            }
        },
        {
            "cell_type": "code",
            "source": [
                "%%kql \r\n",
                "AzureDiagnostics\r\n",
                "| summarize event_count=count() by bin(TimeGenerated, 2d), OperationName\r\n",
                "| where OperationName <> \"AuditEvent\"\r\n",
                "| render timechart "
            ],
            "metadata": {
                "azdata_cell_guid": "b0794fb8-5a03-47c1-90ea-1639a07d665b",
                "tags": []
            },
            "outputs": [
                {
                    "output_type": "display_data",
                    "data": {
                        "text/plain": "<IPython.core.display.HTML object>",
                        "text/html": "<html>\n        <head>\n            \n            \n        </head>\n        <body>\n            <div><p style=' padding: 10px; color: #3a87ad; background-color: #d9edf7; border-color: #bce9f1'>&nbsp;*&nbsp;myMonLog@loganalytics</p></div>\n        </body>\n        </html>"
                    },
                    "metadata": {}
                },
                {
                    "output_type": "display_data",
                    "data": {
                        "application/vnd.plotly.v1+json": {
                            "config": {
                                "plotlyServerURL": "https://plot.ly"
                            },
                            "data": [
                                {
                                    "line": {
                                        "color": "rgb(31, 118, 179)",
                                        "width": 1
                                    },
                                    "name": "QueryStoreRuntimeStatisticsEvent:event_count",
                                    "opacity": 0.8,
                                    "type": "scatter",
                                    "x": [
                                        "2021-06-30T00:00:00+00:00",
                                        "2021-07-02T00:00:00+00:00",
                                        "2021-07-06T00:00:00+00:00",
                                        "2021-07-08T00:00:00+00:00",
                                        "2021-07-14T00:00:00+00:00",
                                        "2021-07-16T00:00:00+00:00",
                                        "2021-07-18T00:00:00+00:00",
                                        "2021-07-20T00:00:00+00:00",
                                        "2021-07-22T00:00:00+00:00",
                                        "2021-07-26T00:00:00+00:00"
                                    ],
                                    "y": [
                                        2,
                                        2,
                                        1,
                                        2,
                                        9,
                                        4,
                                        11,
                                        38,
                                        39,
                                        7
                                    ]
                                },
                                {
                                    "line": {
                                        "color": "rgb(254, 127, 14)",
                                        "width": 1
                                    },
                                    "name": "DatabaseWaitStatistcsEvent:event_count",
                                    "opacity": 0.8,
                                    "type": "scatter",
                                    "x": [
                                        "2021-06-30T00:00:00+00:00",
                                        "2021-07-02T00:00:00+00:00",
                                        "2021-07-06T00:00:00+00:00",
                                        "2021-07-08T00:00:00+00:00",
                                        "2021-07-14T00:00:00+00:00",
                                        "2021-07-16T00:00:00+00:00",
                                        "2021-07-18T00:00:00+00:00",
                                        "2021-07-20T00:00:00+00:00",
                                        "2021-07-22T00:00:00+00:00",
                                        "2021-07-26T00:00:00+00:00"
                                    ],
                                    "y": [
                                        1,
                                        null,
                                        null,
                                        null,
                                        4,
                                        null,
                                        4,
                                        32,
                                        null,
                                        null
                                    ]
                                },
                                {
                                    "line": {
                                        "color": "rgb(44, 160, 44)",
                                        "width": 1
                                    },
                                    "name": "ErrorEvent:event_count",
                                    "opacity": 0.8,
                                    "type": "scatter",
                                    "x": [
                                        "2021-06-30T00:00:00+00:00",
                                        "2021-07-02T00:00:00+00:00",
                                        "2021-07-06T00:00:00+00:00",
                                        "2021-07-08T00:00:00+00:00",
                                        "2021-07-14T00:00:00+00:00",
                                        "2021-07-16T00:00:00+00:00",
                                        "2021-07-18T00:00:00+00:00",
                                        "2021-07-20T00:00:00+00:00",
                                        "2021-07-22T00:00:00+00:00",
                                        "2021-07-26T00:00:00+00:00"
                                    ],
                                    "y": [
                                        2,
                                        null,
                                        null,
                                        null,
                                        null,
                                        28,
                                        21,
                                        57,
                                        null,
                                        null
                                    ]
                                },
                                {
                                    "line": {
                                        "color": "rgb(214, 39, 39)",
                                        "width": 1
                                    },
                                    "name": "DeadlockEvent:event_count",
                                    "opacity": 0.8,
                                    "type": "scatter",
                                    "x": [
                                        "2021-06-30T00:00:00+00:00",
                                        "2021-07-02T00:00:00+00:00",
                                        "2021-07-06T00:00:00+00:00",
                                        "2021-07-08T00:00:00+00:00",
                                        "2021-07-14T00:00:00+00:00",
                                        "2021-07-16T00:00:00+00:00",
                                        "2021-07-18T00:00:00+00:00",
                                        "2021-07-20T00:00:00+00:00",
                                        "2021-07-22T00:00:00+00:00",
                                        "2021-07-26T00:00:00+00:00"
                                    ],
                                    "y": [
                                        null,
                                        null,
                                        null,
                                        null,
                                        null,
                                        1,
                                        1,
                                        null,
                                        null,
                                        null
                                    ]
                                },
                                {
                                    "line": {
                                        "color": "rgb(147, 102, 189)",
                                        "width": 1
                                    },
                                    "name": "TimeoutEvent:event_count",
                                    "opacity": 0.8,
                                    "type": "scatter",
                                    "x": [
                                        "2021-06-30T00:00:00+00:00",
                                        "2021-07-02T00:00:00+00:00",
                                        "2021-07-06T00:00:00+00:00",
                                        "2021-07-08T00:00:00+00:00",
                                        "2021-07-14T00:00:00+00:00",
                                        "2021-07-16T00:00:00+00:00",
                                        "2021-07-18T00:00:00+00:00",
                                        "2021-07-20T00:00:00+00:00",
                                        "2021-07-22T00:00:00+00:00",
                                        "2021-07-26T00:00:00+00:00"
                                    ],
                                    "y": [
                                        null,
                                        null,
                                        null,
                                        null,
                                        null,
                                        null,
                                        null,
                                        4,
                                        null,
                                        null
                                    ]
                                },
                                {
                                    "line": {
                                        "color": "rgb(140, 86, 74)",
                                        "width": 1
                                    },
                                    "name": "AutomaticTuningSettingsSnapshotEvent:event_count",
                                    "opacity": 0.8,
                                    "type": "scatter",
                                    "x": [
                                        "2021-06-30T00:00:00+00:00",
                                        "2021-07-02T00:00:00+00:00",
                                        "2021-07-06T00:00:00+00:00",
                                        "2021-07-08T00:00:00+00:00",
                                        "2021-07-14T00:00:00+00:00",
                                        "2021-07-16T00:00:00+00:00",
                                        "2021-07-18T00:00:00+00:00",
                                        "2021-07-20T00:00:00+00:00",
                                        "2021-07-22T00:00:00+00:00",
                                        "2021-07-26T00:00:00+00:00"
                                    ],
                                    "y": [
                                        null,
                                        null,
                                        null,
                                        null,
                                        null,
                                        null,
                                        null,
                                        4,
                                        null,
                                        null
                                    ]
                                }
                            ],
                            "layout": {
                                "showlegend": true,
                                "template": {
                                    "data": {
                                        "bar": [
                                            {
                                                "error_x": {
                                                    "color": "#2a3f5f"
                                                },
                                                "error_y": {
                                                    "color": "#2a3f5f"
                                                },
                                                "marker": {
                                                    "line": {
                                                        "color": "#E5ECF6",
                                                        "width": 0.5
                                                    },
                                                    "pattern": {
                                                        "fillmode": "overlay",
                                                        "size": 10,
                                                        "solidity": 0.2
                                                    }
                                                },
                                                "type": "bar"
                                            }
                                        ],
                                        "barpolar": [
                                            {
                                                "marker": {
                                                    "line": {
                                                        "color": "#E5ECF6",
                                                        "width": 0.5
                                                    },
                                                    "pattern": {
                                                        "fillmode": "overlay",
                                                        "size": 10,
                                                        "solidity": 0.2
                                                    }
                                                },
                                                "type": "barpolar"
                                            }
                                        ],
                                        "carpet": [
                                            {
                                                "aaxis": {
                                                    "endlinecolor": "#2a3f5f",
                                                    "gridcolor": "white",
                                                    "linecolor": "white",
                                                    "minorgridcolor": "white",
                                                    "startlinecolor": "#2a3f5f"
                                                },
                                                "baxis": {
                                                    "endlinecolor": "#2a3f5f",
                                                    "gridcolor": "white",
                                                    "linecolor": "white",
                                                    "minorgridcolor": "white",
                                                    "startlinecolor": "#2a3f5f"
                                                },
                                                "type": "carpet"
                                            }
                                        ],
                                        "choropleth": [
                                            {
                                                "colorbar": {
                                                    "outlinewidth": 0,
                                                    "ticks": ""
                                                },
                                                "type": "choropleth"
                                            }
                                        ],
                                        "contour": [
                                            {
                                                "colorbar": {
                                                    "outlinewidth": 0,
                                                    "ticks": ""
                                                },
                                                "colorscale": [
                                                    [
                                                        0,
                                                        "#0d0887"
                                                    ],
                                                    [
                                                        0.1111111111111111,
                                                        "#46039f"
                                                    ],
                                                    [
                                                        0.2222222222222222,
                                                        "#7201a8"
                                                    ],
                                                    [
                                                        0.3333333333333333,
                                                        "#9c179e"
                                                    ],
                                                    [
                                                        0.4444444444444444,
                                                        "#bd3786"
                                                    ],
                                                    [
                                                        0.5555555555555556,
                                                        "#d8576b"
                                                    ],
                                                    [
                                                        0.6666666666666666,
                                                        "#ed7953"
                                                    ],
                                                    [
                                                        0.7777777777777778,
                                                        "#fb9f3a"
                                                    ],
                                                    [
                                                        0.8888888888888888,
                                                        "#fdca26"
                                                    ],
                                                    [
                                                        1,
                                                        "#f0f921"
                                                    ]
                                                ],
                                                "type": "contour"
                                            }
                                        ],
                                        "contourcarpet": [
                                            {
                                                "colorbar": {
                                                    "outlinewidth": 0,
                                                    "ticks": ""
                                                },
                                                "type": "contourcarpet"
                                            }
                                        ],
                                        "heatmap": [
                                            {
                                                "colorbar": {
                                                    "outlinewidth": 0,
                                                    "ticks": ""
                                                },
                                                "colorscale": [
                                                    [
                                                        0,
                                                        "#0d0887"
                                                    ],
                                                    [
                                                        0.1111111111111111,
                                                        "#46039f"
                                                    ],
                                                    [
                                                        0.2222222222222222,
                                                        "#7201a8"
                                                    ],
                                                    [
                                                        0.3333333333333333,
                                                        "#9c179e"
                                                    ],
                                                    [
                                                        0.4444444444444444,
                                                        "#bd3786"
                                                    ],
                                                    [
                                                        0.5555555555555556,
                                                        "#d8576b"
                                                    ],
                                                    [
                                                        0.6666666666666666,
                                                        "#ed7953"
                                                    ],
                                                    [
                                                        0.7777777777777778,
                                                        "#fb9f3a"
                                                    ],
                                                    [
                                                        0.8888888888888888,
                                                        "#fdca26"
                                                    ],
                                                    [
                                                        1,
                                                        "#f0f921"
                                                    ]
                                                ],
                                                "type": "heatmap"
                                            }
                                        ],
                                        "heatmapgl": [
                                            {
                                                "colorbar": {
                                                    "outlinewidth": 0,
                                                    "ticks": ""
                                                },
                                                "colorscale": [
                                                    [
                                                        0,
                                                        "#0d0887"
                                                    ],
                                                    [
                                                        0.1111111111111111,
                                                        "#46039f"
                                                    ],
                                                    [
                                                        0.2222222222222222,
                                                        "#7201a8"
                                                    ],
                                                    [
                                                        0.3333333333333333,
                                                        "#9c179e"
                                                    ],
                                                    [
                                                        0.4444444444444444,
                                                        "#bd3786"
                                                    ],
                                                    [
                                                        0.5555555555555556,
                                                        "#d8576b"
                                                    ],
                                                    [
                                                        0.6666666666666666,
                                                        "#ed7953"
                                                    ],
                                                    [
                                                        0.7777777777777778,
                                                        "#fb9f3a"
                                                    ],
                                                    [
                                                        0.8888888888888888,
                                                        "#fdca26"
                                                    ],
                                                    [
                                                        1,
                                                        "#f0f921"
                                                    ]
                                                ],
                                                "type": "heatmapgl"
                                            }
                                        ],
                                        "histogram": [
                                            {
                                                "marker": {
                                                    "pattern": {
                                                        "fillmode": "overlay",
                                                        "size": 10,
                                                        "solidity": 0.2
                                                    }
                                                },
                                                "type": "histogram"
                                            }
                                        ],
                                        "histogram2d": [
                                            {
                                                "colorbar": {
                                                    "outlinewidth": 0,
                                                    "ticks": ""
                                                },
                                                "colorscale": [
                                                    [
                                                        0,
                                                        "#0d0887"
                                                    ],
                                                    [
                                                        0.1111111111111111,
                                                        "#46039f"
                                                    ],
                                                    [
                                                        0.2222222222222222,
                                                        "#7201a8"
                                                    ],
                                                    [
                                                        0.3333333333333333,
                                                        "#9c179e"
                                                    ],
                                                    [
                                                        0.4444444444444444,
                                                        "#bd3786"
                                                    ],
                                                    [
                                                        0.5555555555555556,
                                                        "#d8576b"
                                                    ],
                                                    [
                                                        0.6666666666666666,
                                                        "#ed7953"
                                                    ],
                                                    [
                                                        0.7777777777777778,
                                                        "#fb9f3a"
                                                    ],
                                                    [
                                                        0.8888888888888888,
                                                        "#fdca26"
                                                    ],
                                                    [
                                                        1,
                                                        "#f0f921"
                                                    ]
                                                ],
                                                "type": "histogram2d"
                                            }
                                        ],
                                        "histogram2dcontour": [
                                            {
                                                "colorbar": {
                                                    "outlinewidth": 0,
                                                    "ticks": ""
                                                },
                                                "colorscale": [
                                                    [
                                                        0,
                                                        "#0d0887"
                                                    ],
                                                    [
                                                        0.1111111111111111,
                                                        "#46039f"
                                                    ],
                                                    [
                                                        0.2222222222222222,
                                                        "#7201a8"
                                                    ],
                                                    [
                                                        0.3333333333333333,
                                                        "#9c179e"
                                                    ],
                                                    [
                                                        0.4444444444444444,
                                                        "#bd3786"
                                                    ],
                                                    [
                                                        0.5555555555555556,
                                                        "#d8576b"
                                                    ],
                                                    [
                                                        0.6666666666666666,
                                                        "#ed7953"
                                                    ],
                                                    [
                                                        0.7777777777777778,
                                                        "#fb9f3a"
                                                    ],
                                                    [
                                                        0.8888888888888888,
                                                        "#fdca26"
                                                    ],
                                                    [
                                                        1,
                                                        "#f0f921"
                                                    ]
                                                ],
                                                "type": "histogram2dcontour"
                                            }
                                        ],
                                        "mesh3d": [
                                            {
                                                "colorbar": {
                                                    "outlinewidth": 0,
                                                    "ticks": ""
                                                },
                                                "type": "mesh3d"
                                            }
                                        ],
                                        "parcoords": [
                                            {
                                                "line": {
                                                    "colorbar": {
                                                        "outlinewidth": 0,
                                                        "ticks": ""
                                                    }
                                                },
                                                "type": "parcoords"
                                            }
                                        ],
                                        "pie": [
                                            {
                                                "automargin": true,
                                                "type": "pie"
                                            }
                                        ],
                                        "scatter": [
                                            {
                                                "marker": {
                                                    "colorbar": {
                                                        "outlinewidth": 0,
                                                        "ticks": ""
                                                    }
                                                },
                                                "type": "scatter"
                                            }
                                        ],
                                        "scatter3d": [
                                            {
                                                "line": {
                                                    "colorbar": {
                                                        "outlinewidth": 0,
                                                        "ticks": ""
                                                    }
                                                },
                                                "marker": {
                                                    "colorbar": {
                                                        "outlinewidth": 0,
                                                        "ticks": ""
                                                    }
                                                },
                                                "type": "scatter3d"
                                            }
                                        ],
                                        "scattercarpet": [
                                            {
                                                "marker": {
                                                    "colorbar": {
                                                        "outlinewidth": 0,
                                                        "ticks": ""
                                                    }
                                                },
                                                "type": "scattercarpet"
                                            }
                                        ],
                                        "scattergeo": [
                                            {
                                                "marker": {
                                                    "colorbar": {
                                                        "outlinewidth": 0,
                                                        "ticks": ""
                                                    }
                                                },
                                                "type": "scattergeo"
                                            }
                                        ],
                                        "scattergl": [
                                            {
                                                "marker": {
                                                    "colorbar": {
                                                        "outlinewidth": 0,
                                                        "ticks": ""
                                                    }
                                                },
                                                "type": "scattergl"
                                            }
                                        ],
                                        "scattermapbox": [
                                            {
                                                "marker": {
                                                    "colorbar": {
                                                        "outlinewidth": 0,
                                                        "ticks": ""
                                                    }
                                                },
                                                "type": "scattermapbox"
                                            }
                                        ],
                                        "scatterpolar": [
                                            {
                                                "marker": {
                                                    "colorbar": {
                                                        "outlinewidth": 0,
                                                        "ticks": ""
                                                    }
                                                },
                                                "type": "scatterpolar"
                                            }
                                        ],
                                        "scatterpolargl": [
                                            {
                                                "marker": {
                                                    "colorbar": {
                                                        "outlinewidth": 0,
                                                        "ticks": ""
                                                    }
                                                },
                                                "type": "scatterpolargl"
                                            }
                                        ],
                                        "scatterternary": [
                                            {
                                                "marker": {
                                                    "colorbar": {
                                                        "outlinewidth": 0,
                                                        "ticks": ""
                                                    }
                                                },
                                                "type": "scatterternary"
                                            }
                                        ],
                                        "surface": [
                                            {
                                                "colorbar": {
                                                    "outlinewidth": 0,
                                                    "ticks": ""
                                                },
                                                "colorscale": [
                                                    [
                                                        0,
                                                        "#0d0887"
                                                    ],
                                                    [
                                                        0.1111111111111111,
                                                        "#46039f"
                                                    ],
                                                    [
                                                        0.2222222222222222,
                                                        "#7201a8"
                                                    ],
                                                    [
                                                        0.3333333333333333,
                                                        "#9c179e"
                                                    ],
                                                    [
                                                        0.4444444444444444,
                                                        "#bd3786"
                                                    ],
                                                    [
                                                        0.5555555555555556,
                                                        "#d8576b"
                                                    ],
                                                    [
                                                        0.6666666666666666,
                                                        "#ed7953"
                                                    ],
                                                    [
                                                        0.7777777777777778,
                                                        "#fb9f3a"
                                                    ],
                                                    [
                                                        0.8888888888888888,
                                                        "#fdca26"
                                                    ],
                                                    [
                                                        1,
                                                        "#f0f921"
                                                    ]
                                                ],
                                                "type": "surface"
                                            }
                                        ],
                                        "table": [
                                            {
                                                "cells": {
                                                    "fill": {
                                                        "color": "#EBF0F8"
                                                    },
                                                    "line": {
                                                        "color": "white"
                                                    }
                                                },
                                                "header": {
                                                    "fill": {
                                                        "color": "#C8D4E3"
                                                    },
                                                    "line": {
                                                        "color": "white"
                                                    }
                                                },
                                                "type": "table"
                                            }
                                        ]
                                    },
                                    "layout": {
                                        "annotationdefaults": {
                                            "arrowcolor": "#2a3f5f",
                                            "arrowhead": 0,
                                            "arrowwidth": 1
                                        },
                                        "autotypenumbers": "strict",
                                        "coloraxis": {
                                            "colorbar": {
                                                "outlinewidth": 0,
                                                "ticks": ""
                                            }
                                        },
                                        "colorscale": {
                                            "diverging": [
                                                [
                                                    0,
                                                    "#8e0152"
                                                ],
                                                [
                                                    0.1,
                                                    "#c51b7d"
                                                ],
                                                [
                                                    0.2,
                                                    "#de77ae"
                                                ],
                                                [
                                                    0.3,
                                                    "#f1b6da"
                                                ],
                                                [
                                                    0.4,
                                                    "#fde0ef"
                                                ],
                                                [
                                                    0.5,
                                                    "#f7f7f7"
                                                ],
                                                [
                                                    0.6,
                                                    "#e6f5d0"
                                                ],
                                                [
                                                    0.7,
                                                    "#b8e186"
                                                ],
                                                [
                                                    0.8,
                                                    "#7fbc41"
                                                ],
                                                [
                                                    0.9,
                                                    "#4d9221"
                                                ],
                                                [
                                                    1,
                                                    "#276419"
                                                ]
                                            ],
                                            "sequential": [
                                                [
                                                    0,
                                                    "#0d0887"
                                                ],
                                                [
                                                    0.1111111111111111,
                                                    "#46039f"
                                                ],
                                                [
                                                    0.2222222222222222,
                                                    "#7201a8"
                                                ],
                                                [
                                                    0.3333333333333333,
                                                    "#9c179e"
                                                ],
                                                [
                                                    0.4444444444444444,
                                                    "#bd3786"
                                                ],
                                                [
                                                    0.5555555555555556,
                                                    "#d8576b"
                                                ],
                                                [
                                                    0.6666666666666666,
                                                    "#ed7953"
                                                ],
                                                [
                                                    0.7777777777777778,
                                                    "#fb9f3a"
                                                ],
                                                [
                                                    0.8888888888888888,
                                                    "#fdca26"
                                                ],
                                                [
                                                    1,
                                                    "#f0f921"
                                                ]
                                            ],
                                            "sequentialminus": [
                                                [
                                                    0,
                                                    "#0d0887"
                                                ],
                                                [
                                                    0.1111111111111111,
                                                    "#46039f"
                                                ],
                                                [
                                                    0.2222222222222222,
                                                    "#7201a8"
                                                ],
                                                [
                                                    0.3333333333333333,
                                                    "#9c179e"
                                                ],
                                                [
                                                    0.4444444444444444,
                                                    "#bd3786"
                                                ],
                                                [
                                                    0.5555555555555556,
                                                    "#d8576b"
                                                ],
                                                [
                                                    0.6666666666666666,
                                                    "#ed7953"
                                                ],
                                                [
                                                    0.7777777777777778,
                                                    "#fb9f3a"
                                                ],
                                                [
                                                    0.8888888888888888,
                                                    "#fdca26"
                                                ],
                                                [
                                                    1,
                                                    "#f0f921"
                                                ]
                                            ]
                                        },
                                        "colorway": [
                                            "#636efa",
                                            "#EF553B",
                                            "#00cc96",
                                            "#ab63fa",
                                            "#FFA15A",
                                            "#19d3f3",
                                            "#FF6692",
                                            "#B6E880",
                                            "#FF97FF",
                                            "#FECB52"
                                        ],
                                        "font": {
                                            "color": "#2a3f5f"
                                        },
                                        "geo": {
                                            "bgcolor": "white",
                                            "lakecolor": "white",
                                            "landcolor": "#E5ECF6",
                                            "showlakes": true,
                                            "showland": true,
                                            "subunitcolor": "white"
                                        },
                                        "hoverlabel": {
                                            "align": "left"
                                        },
                                        "hovermode": "closest",
                                        "mapbox": {
                                            "style": "light"
                                        },
                                        "paper_bgcolor": "white",
                                        "plot_bgcolor": "#E5ECF6",
                                        "polar": {
                                            "angularaxis": {
                                                "gridcolor": "white",
                                                "linecolor": "white",
                                                "ticks": ""
                                            },
                                            "bgcolor": "#E5ECF6",
                                            "radialaxis": {
                                                "gridcolor": "white",
                                                "linecolor": "white",
                                                "ticks": ""
                                            }
                                        },
                                        "scene": {
                                            "xaxis": {
                                                "backgroundcolor": "#E5ECF6",
                                                "gridcolor": "white",
                                                "gridwidth": 2,
                                                "linecolor": "white",
                                                "showbackground": true,
                                                "ticks": "",
                                                "zerolinecolor": "white"
                                            },
                                            "yaxis": {
                                                "backgroundcolor": "#E5ECF6",
                                                "gridcolor": "white",
                                                "gridwidth": 2,
                                                "linecolor": "white",
                                                "showbackground": true,
                                                "ticks": "",
                                                "zerolinecolor": "white"
                                            },
                                            "zaxis": {
                                                "backgroundcolor": "#E5ECF6",
                                                "gridcolor": "white",
                                                "gridwidth": 2,
                                                "linecolor": "white",
                                                "showbackground": true,
                                                "ticks": "",
                                                "zerolinecolor": "white"
                                            }
                                        },
                                        "shapedefaults": {
                                            "line": {
                                                "color": "#2a3f5f"
                                            }
                                        },
                                        "ternary": {
                                            "aaxis": {
                                                "gridcolor": "white",
                                                "linecolor": "white",
                                                "ticks": ""
                                            },
                                            "baxis": {
                                                "gridcolor": "white",
                                                "linecolor": "white",
                                                "ticks": ""
                                            },
                                            "bgcolor": "#E5ECF6",
                                            "caxis": {
                                                "gridcolor": "white",
                                                "linecolor": "white",
                                                "ticks": ""
                                            }
                                        },
                                        "title": {
                                            "x": 0.05
                                        },
                                        "xaxis": {
                                            "automargin": true,
                                            "gridcolor": "white",
                                            "linecolor": "white",
                                            "ticks": "",
                                            "title": {
                                                "standoff": 15
                                            },
                                            "zerolinecolor": "white",
                                            "zerolinewidth": 2
                                        },
                                        "yaxis": {
                                            "automargin": true,
                                            "gridcolor": "white",
                                            "linecolor": "white",
                                            "ticks": "",
                                            "title": {
                                                "standoff": 15
                                            },
                                            "zerolinecolor": "white",
                                            "zerolinewidth": 2
                                        }
                                    }
                                },
                                "title": {
                                    "text": "timechart"
                                },
                                "xaxis": {
                                    "autorange": true,
                                    "title": {
                                        "text": "TimeGenerated"
                                    },
                                    "type": "date"
                                },
                                "yaxis": {
                                    "ticksuffix": "",
                                    "title": {
                                        "text": "event_count"
                                    },
                                    "type": "linear"
                                }
                            }
                        }
                    },
                    "metadata": {}
                },
                {
                    "output_type": "display_data",
                    "data": {
                        "text/plain": "<IPython.core.display.HTML object>",
                        "text/html": "<html>\n        <head>\n            \n            \n        </head>\n        <body>\n            <div><p style=' padding: 10px; color: #3a87ad; background-color: #d9edf7; border-color: #bce9f1'>Done&nbsp;(00:00.379):&nbsp;22&nbsp;records</p></div>\n        </body>\n        </html>"
                    },
                    "metadata": {}
                },
                {
                    "output_type": "execute_result",
                    "execution_count": 11,
                    "data": {
                        "text/plain": "[{'TimeGenerated': datetime.datetime(2021, 7, 6, 0, 0, tzinfo=tzutc()), 'OperationName': 'QueryStoreRuntimeStatisticsEvent', 'event_count': 1},\n {'TimeGenerated': datetime.datetime(2021, 7, 20, 0, 0, tzinfo=tzutc()), 'OperationName': 'DatabaseWaitStatistcsEvent', 'event_count': 32},\n {'TimeGenerated': datetime.datetime(2021, 7, 20, 0, 0, tzinfo=tzutc()), 'OperationName': 'QueryStoreRuntimeStatisticsEvent', 'event_count': 38},\n {'TimeGenerated': datetime.datetime(2021, 7, 20, 0, 0, tzinfo=tzutc()), 'OperationName': 'ErrorEvent', 'event_count': 57},\n {'TimeGenerated': datetime.datetime(2021, 7, 18, 0, 0, tzinfo=tzutc()), 'OperationName': 'DatabaseWaitStatistcsEvent', 'event_count': 4},\n {'TimeGenerated': datetime.datetime(2021, 7, 18, 0, 0, tzinfo=tzutc()), 'OperationName': 'ErrorEvent', 'event_count': 21},\n {'TimeGenerated': datetime.datetime(2021, 7, 18, 0, 0, tzinfo=tzutc()), 'OperationName': 'QueryStoreRuntimeStatisticsEvent', 'event_count': 11},\n {'TimeGenerated': datetime.datetime(2021, 7, 18, 0, 0, tzinfo=tzutc()), 'OperationName': 'DeadlockEvent', 'event_count': 1},\n {'TimeGenerated': datetime.datetime(2021, 7, 20, 0, 0, tzinfo=tzutc()), 'OperationName': 'TimeoutEvent', 'event_count': 4},\n {'TimeGenerated': datetime.datetime(2021, 7, 20, 0, 0, tzinfo=tzutc()), 'OperationName': 'AutomaticTuningSettingsSnapshotEvent', 'event_count': 4},\n {'TimeGenerated': datetime.datetime(2021, 7, 22, 0, 0, tzinfo=tzutc()), 'OperationName': 'QueryStoreRuntimeStatisticsEvent', 'event_count': 39},\n {'TimeGenerated': datetime.datetime(2021, 7, 26, 0, 0, tzinfo=tzutc()), 'OperationName': 'QueryStoreRuntimeStatisticsEvent', 'event_count': 7},\n {'TimeGenerated': datetime.datetime(2021, 6, 30, 0, 0, tzinfo=tzutc()), 'OperationName': 'QueryStoreRuntimeStatisticsEvent', 'event_count': 2},\n {'TimeGenerated': datetime.datetime(2021, 6, 30, 0, 0, tzinfo=tzutc()), 'OperationName': 'DatabaseWaitStatistcsEvent', 'event_count': 1},\n {'TimeGenerated': datetime.datetime(2021, 6, 30, 0, 0, tzinfo=tzutc()), 'OperationName': 'ErrorEvent', 'event_count': 2},\n {'TimeGenerated': datetime.datetime(2021, 7, 2, 0, 0, tzinfo=tzutc()), 'OperationName': 'QueryStoreRuntimeStatisticsEvent', 'event_count': 2},\n {'TimeGenerated': datetime.datetime(2021, 7, 16, 0, 0, tzinfo=tzutc()), 'OperationName': 'QueryStoreRuntimeStatisticsEvent', 'event_count': 4},\n {'TimeGenerated': datetime.datetime(2021, 7, 14, 0, 0, tzinfo=tzutc()), 'OperationName': 'QueryStoreRuntimeStatisticsEvent', 'event_count': 9},\n {'TimeGenerated': datetime.datetime(2021, 7, 14, 0, 0, tzinfo=tzutc()), 'OperationName': 'DatabaseWaitStatistcsEvent', 'event_count': 4},\n {'TimeGenerated': datetime.datetime(2021, 7, 8, 0, 0, tzinfo=tzutc()), 'OperationName': 'QueryStoreRuntimeStatisticsEvent', 'event_count': 2},\n {'TimeGenerated': datetime.datetime(2021, 7, 16, 0, 0, tzinfo=tzutc()), 'OperationName': 'ErrorEvent', 'event_count': 28},\n {'TimeGenerated': datetime.datetime(2021, 7, 16, 0, 0, tzinfo=tzutc()), 'OperationName': 'DeadlockEvent', 'event_count': 1}]",
                        "text/html": ""
                    },
                    "metadata": {}
                }
            ],
            "execution_count": 11
        },
        {
            "cell_type": "markdown",
            "source": [
                "## Deadlock Analysis"
            ],
            "metadata": {
                "azdata_cell_guid": "a1661835-fcb5-4af9-a353-4e7a0c70cb56"
            }
        },
        {
            "cell_type": "code",
            "source": [
                "%%kql \r\n",
                "AzureDiagnostics\r\n",
                "| where OperationName == \"DeadlockEvent\"\r\n",
                "| project TimeGenerated, Category, Resource, OperationName, Type, deadlock_xml_s\r\n",
                "| sort by TimeGenerated desc\r\n",
                "| take 50"
            ],
            "metadata": {
                "azdata_cell_guid": "60a7b4cb-076c-4222-a80f-a6e11cf51a4e"
            },
            "outputs": [
                {
                    "output_type": "display_data",
                    "data": {
                        "text/plain": "<IPython.core.display.HTML object>",
                        "text/html": "<html>\n        <head>\n            \n            \n        </head>\n        <body>\n            <div><p style=' padding: 10px; color: #3a87ad; background-color: #d9edf7; border-color: #bce9f1'>&nbsp;*&nbsp;myMonLog@loganalytics</p></div>\n        </body>\n        </html>"
                    },
                    "metadata": {}
                },
                {
                    "output_type": "display_data",
                    "data": {
                        "text/plain": "                     TimeGenerated   Category        Resource  OperationName  \\\n0 2021-07-19 13:55:22.268000+00:00  Deadlocks  ADVENTUREWORKS  DeadlockEvent   \n1 2021-07-17 23:13:34.608000+00:00  Deadlocks  ADVENTUREWORKS  DeadlockEvent   \n\n               Type                                     deadlock_xml_s  \n0  AzureDiagnostics  <deadlock>   <victim-list>    <victimProcess i...  \n1  AzureDiagnostics  <deadlock>   <victim-list>    <victimProcess i...  ",
                        "text/html": "<div>\n<style scoped>\n    .dataframe tbody tr th:only-of-type {\n        vertical-align: middle;\n    }\n\n    .dataframe tbody tr th {\n        vertical-align: top;\n    }\n\n    .dataframe thead th {\n        text-align: right;\n    }\n</style>\n<table border=\"1\" class=\"dataframe\">\n  <thead>\n    <tr style=\"text-align: right;\">\n      <th></th>\n      <th>TimeGenerated</th>\n      <th>Category</th>\n      <th>Resource</th>\n      <th>OperationName</th>\n      <th>Type</th>\n      <th>deadlock_xml_s</th>\n    </tr>\n  </thead>\n  <tbody>\n    <tr>\n      <th>0</th>\n      <td>2021-07-19 13:55:22.268000+00:00</td>\n      <td>Deadlocks</td>\n      <td>ADVENTUREWORKS</td>\n      <td>DeadlockEvent</td>\n      <td>AzureDiagnostics</td>\n      <td>&lt;deadlock&gt;   &lt;victim-list&gt;    &lt;victimProcess i...</td>\n    </tr>\n    <tr>\n      <th>1</th>\n      <td>2021-07-17 23:13:34.608000+00:00</td>\n      <td>Deadlocks</td>\n      <td>ADVENTUREWORKS</td>\n      <td>DeadlockEvent</td>\n      <td>AzureDiagnostics</td>\n      <td>&lt;deadlock&gt;   &lt;victim-list&gt;    &lt;victimProcess i...</td>\n    </tr>\n  </tbody>\n</table>\n</div>",
                        "application/vnd.dataresource+json": {
                            "schema": {
                                "fields": [
                                    {
                                        "name": "TimeGenerated",
                                        "type": "datetime",
                                        "tz": "UTC"
                                    },
                                    {
                                        "name": "Category",
                                        "type": "string"
                                    },
                                    {
                                        "name": "Resource",
                                        "type": "string"
                                    },
                                    {
                                        "name": "OperationName",
                                        "type": "string"
                                    },
                                    {
                                        "name": "Type",
                                        "type": "string"
                                    },
                                    {
                                        "name": "deadlock_xml_s",
                                        "type": "string"
                                    }
                                ],
                                "kqmagic_version": "0.1.114.post2"
                            },
                            "data": [
                                {
                                    "TimeGenerated": "2021-07-19T13:55:22.268Z",
                                    "Category": "Deadlocks",
                                    "Resource": "ADVENTUREWORKS",
                                    "OperationName": "DeadlockEvent",
                                    "Type": "AzureDiagnostics",
                                    "deadlock_xml_s": "<deadlock>   <victim-list>    <victimProcess id='process1e9a7b324e8'/>   </victim-list>   <process-list>    <process id='process1e9a7b324e8' taskpriority='0' logused='388' waitresource='KEY: 5:72057594047037440 (5495ec521809)' waittime='15032' ownerId='28766101' transactionname='user_transaction' lasttranstarted='2021-07-19T13:55:07.217' XDES='0x1e9b5d20428' lockMode='U' schedulerid='2' kpid='64416' status='suspended' spid='92' sbid='0' ecid='0' priority='0' trancount='2' lastbatchstarted='2021-07-19T13:55:07.213' lastbatchcompleted='2021-07-19T13:55:07.167' lastattention='1900-01-01T00:00:00.167' clientapp='azdata-Query' hostname='filtered' hostpid='25504' loginname='filtered' isolationlevel='read committed (2)' xactid='28766101' currentdb='5' currentdbname='AdventureWorks' lockTimeout='4294967295' clientoption1='671156320' clientoption2='128056'>     <executionStack>      <frame procname='unknown' queryhash='0xfb56c41f149be1bf' queryplanhash='0x61108d8e53ae0281' line='7' stmtstart='236' stmtend='398' sqlhandle='0x0200000076fe5d1c0c6a574e5832f3b8ff93e633e3a1d6ae0000000000000000000000000000000000000000'>  unknown    </frame>      <frame procname='unknown' queryhash='0xfb56c41f149be1bf' queryplanhash='0x61108d8e53ae0281' line='7' stmtstart='236' stmtend='398' sqlhandle='0x0200000005a1aa314a4b357187cf390d3dc4890a0bd7a7c10000000000000000000000000000000000000000'>  unknown    </frame>     </executionStack>     <inputbuf>  filtered   </inputbuf>    </process>    <process id='process1e9b60d8ca8' taskpriority='0' logused='572' waitresource='KEY: 5:72057594046971904 (8194443284a0)' waittime='4252' ownerId='28765868' transactionname='user_transaction' lasttranstarted='2021-07-19T13:55:03' XDES='0x1e9c6b24428' lockMode='U' schedulerid='2' kpid='35836' status='suspended' spid='86' sbid='0' ecid='0' priority='0' trancount='2' lastbatchstarted='2021-07-19T13:55:03' lastbatchcompleted='2021-07-19T13:55:00.540' lastattention='1900-01-01T00:00:00.540' clientapp='azdata-Query' hostname='filtered' hostpid='25504' loginname='filtered' isolationlevel='read committed (2)' xactid='28765868' currentdb='5' currentdbname='AdventureWorks' lockTimeout='4294967295' clientoption1='671156320' clientoption2='128056'>     <executionStack>      <frame procname='unknown' queryhash='0xa57159d12cb813fb' queryplanhash='0x10cbf3310dab2eb5' line='9' stmtstart='58' stmtend='186' sqlhandle='0x020000009897910214549261257b982dc5f67c7e4f562ee10000000000000000000000000000000000000000'>  unknown    </frame>      <frame procname='unknown' queryhash='0xa57159d12cb813fb' queryplanhash='0x10cbf3310dab2eb5' line='9' stmtstart='382' stmtend='520' sqlhandle='0x020000003cbaf1075f6082bedf3e15172fe9ecb6c23b78160000000000000000000000000000000000000000'>  unknown    </frame>     </executionStack>     <inputbuf>  filtered   </inputbuf>    </process>   </process-list>   <resource-list>    <keylock hobtid='72057594047037440' dbid='5' objectname='filtered' indexname='filtered' id='lock1e9cd44b080' mode='X' associatedObjectId='72057594047037440'>     <owner-list>      <owner id='process1e9b60d8ca8' mode='X'/>     </owner-list>     <waiter-list>      <waiter id='process1e9a7b324e8' mode='U' requestType='wait'/>     </waiter-list>    </keylock>    <keylock hobtid='72057594046971904' dbid='5' objectname='filtered' indexname='filtered' id='lock1e9befe6880' mode='X' associatedObjectId='72057594046971904'>     <owner-list>      <owner id='process1e9a7b324e8' mode='X'/>     </owner-list>     <waiter-list>      <waiter id='process1e9b60d8ca8' mode='U' requestType='wait'/>     </waiter-list>    </keylock>   </resource-list>  </deadlock>  "
                                },
                                {
                                    "TimeGenerated": "2021-07-17T23:13:34.608Z",
                                    "Category": "Deadlocks",
                                    "Resource": "ADVENTUREWORKS",
                                    "OperationName": "DeadlockEvent",
                                    "Type": "AzureDiagnostics",
                                    "deadlock_xml_s": "<deadlock>   <victim-list>    <victimProcess id='process1e9a7b32ca8'/>   </victim-list>   <process-list>    <process id='process1e9a7b32ca8' taskpriority='0' logused='384' waitresource='KEY: 5:72057594046906368 (5495ec521809)' waittime='7965' ownerId='27265362' transactionname='user_transaction' lasttranstarted='2021-07-17T23:13:26.637' XDES='0x1e9b5d20428' lockMode='U' schedulerid='2' kpid='230632' status='suspended' spid='101' sbid='0' ecid='0' priority='0' trancount='2' lastbatchstarted='2021-07-17T23:13:26.633' lastbatchcompleted='2021-07-17T23:13:26.520' lastattention='1900-01-01T00:00:00.520' clientapp='azdata-Query' hostname='filtered' hostpid='19600' loginname='filtered' isolationlevel='read committed (2)' xactid='27265362' currentdb='5' currentdbname='AdventureWorks' lockTimeout='4294967295' clientoption1='671156320' clientoption2='128056'>     <executionStack>      <frame procname='unknown' queryhash='0xfb56c41f149be1bf' queryplanhash='0x61108d8e53ae0281' line='7' stmtstart='236' stmtend='398' sqlhandle='0x0200000076fe5d1c0c6a574e5832f3b8ff93e633e3a1d6ae0000000000000000000000000000000000000000'>  unknown    </frame>      <frame procname='unknown' queryhash='0xfb56c41f149be1bf' queryplanhash='0x61108d8e53ae0281' line='7' stmtstart='236' stmtend='398' sqlhandle='0x0200000005a1aa314a4b357187cf390d3dc4890a0bd7a7c10000000000000000000000000000000000000000'>  unknown    </frame>     </executionStack>     <inputbuf>  filtered   </inputbuf>    </process>    <process id='process1e9a7b33468' taskpriority='0' logused='572' waitresource='KEY: 5:72057594046840832 (8194443284a0)' waittime='4138' ownerId='27264855' transactionname='user_transaction' lasttranstarted='2021-07-17T23:13:15.467' XDES='0x1e9c6b24428' lockMode='U' schedulerid='2' kpid='109220' status='suspended' spid='97' sbid='0' ecid='0' priority='0' trancount='2' lastbatchstarted='2021-07-17T23:13:15.453' lastbatchcompleted='2021-07-17T23:13:08.453' lastattention='1900-01-01T00:00:00.453' clientapp='azdata-Query' hostname='filtered' hostpid='19600' loginname='filtered' isolationlevel='read committed (2)' xactid='27264855' currentdb='5' currentdbname='AdventureWorks' lockTimeout='4294967295' clientoption1='671156320' clientoption2='128056'>     <executionStack>      <frame procname='unknown' queryhash='0xa57159d12cb813fb' queryplanhash='0x10cbf3310dab2eb5' line='9' stmtstart='58' stmtend='186' sqlhandle='0x020000009897910214549261257b982dc5f67c7e4f562ee10000000000000000000000000000000000000000'>  unknown    </frame>      <frame procname='unknown' queryhash='0xa57159d12cb813fb' queryplanhash='0x10cbf3310dab2eb5' line='9' stmtstart='382' stmtend='520' sqlhandle='0x020000003cbaf1075f6082bedf3e15172fe9ecb6c23b78160000000000000000000000000000000000000000'>  unknown    </frame>     </executionStack>     <inputbuf>  filtered   </inputbuf>    </process>   </process-list>   <resource-list>    <keylock hobtid='72057594046906368' dbid='5' objectname='filtered' indexname='filtered' id='lock1e9cd45bb80' mode='X' associatedObjectId='72057594046906368'>     <owner-list>      <owner id='process1e9a7b33468' mode='X'/>     </owner-list>     <waiter-list>      <waiter id='process1e9a7b32ca8' mode='U' requestType='wait'/>     </waiter-list>    </keylock>    <keylock hobtid='72057594046840832' dbid='5' objectname='filtered' indexname='filtered' id='lock1e9cd455600' mode='X' associatedObjectId='72057594046840832'>     <owner-list>      <owner id='process1e9a7b32ca8' mode='X'/>     </owner-list>     <waiter-list>      <waiter id='process1e9a7b33468' mode='U' requestType='wait'/>     </waiter-list>    </keylock>   </resource-list>  </deadlock>  "
                                }
                            ]
                        }
                    },
                    "metadata": {}
                },
                {
                    "output_type": "display_data",
                    "data": {
                        "text/plain": "<IPython.core.display.HTML object>",
                        "text/html": "<html>\n        <head>\n            \n            \n        </head>\n        <body>\n            <div><p style=' padding: 10px; color: #3a87ad; background-color: #d9edf7; border-color: #bce9f1'>Done&nbsp;(00:01.625):&nbsp;2&nbsp;records</p></div>\n        </body>\n        </html>"
                    },
                    "metadata": {}
                },
                {
                    "output_type": "execute_result",
                    "execution_count": 12,
                    "data": {
                        "text/plain": "[{'TimeGenerated': datetime.datetime(2021, 7, 19, 13, 55, 22, 268000, tzinfo=tzutc()), 'Category': 'Deadlocks', 'Resource': 'ADVENTUREWORKS', 'OperationName': 'DeadlockEvent', 'Type': 'AzureDiagnostics', 'deadlock_xml_s': \"<deadlock>   <victim-list>    <victimProcess id='process1e9a7b324e8'/>   </victim-list>   <process-list>    <process id='process1e9a7b324e8' taskpriority='0' logused='388' waitresource='KEY: 5:72057594047037440 (5495ec521809)' waittime='15032' ownerId='28766101' transactionname='user_transaction' lasttranstarted='2021-07-19T13:55:07.217' XDES='0x1e9b5d20428' lockMode='U' schedulerid='2' kpid='64416' status='suspended' spid='92' sbid='0' ecid='0' priority='0' trancount='2' lastbatchstarted='2021-07-19T13:55:07.213' lastbatchcompleted='2021-07-19T13:55:07.167' lastattention='1900-01-01T00:00:00.167' clientapp='azdata-Query' hostname='filtered' hostpid='25504' loginname='filtered' isolationlevel='read committed (2)' xactid='28766101' currentdb='5' currentdbname='AdventureWorks' lockTimeout='4294967295' clientoption1='671156320' clientoption2='128056'>     <executionStack>      <frame procname='unknown' queryhash='0xfb56c41f149be1bf' queryplanhash='0x61108d8e53ae0281' line='7' stmtstart='236' stmtend='398' sqlhandle='0x0200000076fe5d1c0c6a574e5832f3b8ff93e633e3a1d6ae0000000000000000000000000000000000000000'>  unknown    </frame>      <frame procname='unknown' queryhash='0xfb56c41f149be1bf' queryplanhash='0x61108d8e53ae0281' line='7' stmtstart='236' stmtend='398' sqlhandle='0x0200000005a1aa314a4b357187cf390d3dc4890a0bd7a7c10000000000000000000000000000000000000000'>  unknown    </frame>     </executionStack>     <inputbuf>  filtered   </inputbuf>    </process>    <process id='process1e9b60d8ca8' taskpriority='0' logused='572' waitresource='KEY: 5:72057594046971904 (8194443284a0)' waittime='4252' ownerId='28765868' transactionname='user_transaction' lasttranstarted='2021-07-19T13:55:03' XDES='0x1e9c6b24428' lockMode='U' schedulerid='2' kpid='35836' status='suspended' spid='86' sbid='0' ecid='0' priority='0' trancount='2' lastbatchstarted='2021-07-19T13:55:03' lastbatchcompleted='2021-07-19T13:55:00.540' lastattention='1900-01-01T00:00:00.540' clientapp='azdata-Query' hostname='filtered' hostpid='25504' loginname='filtered' isolationlevel='read committed (2)' xactid='28765868' currentdb='5' currentdbname='AdventureWorks' lockTimeout='4294967295' clientoption1='671156320' clientoption2='128056'>     <executionStack>      <frame procname='unknown' queryhash='0xa57159d12cb813fb' queryplanhash='0x10cbf3310dab2eb5' line='9' stmtstart='58' stmtend='186' sqlhandle='0x020000009897910214549261257b982dc5f67c7e4f562ee10000000000000000000000000000000000000000'>  unknown    </frame>      <frame procname='unknown' queryhash='0xa57159d12cb813fb' queryplanhash='0x10cbf3310dab2eb5' line='9' stmtstart='382' stmtend='520' sqlhandle='0x020000003cbaf1075f6082bedf3e15172fe9ecb6c23b78160000000000000000000000000000000000000000'>  unknown    </frame>     </executionStack>     <inputbuf>  filtered   </inputbuf>    </process>   </process-list>   <resource-list>    <keylock hobtid='72057594047037440' dbid='5' objectname='filtered' indexname='filtered' id='lock1e9cd44b080' mode='X' associatedObjectId='72057594047037440'>     <owner-list>      <owner id='process1e9b60d8ca8' mode='X'/>     </owner-list>     <waiter-list>      <waiter id='process1e9a7b324e8' mode='U' requestType='wait'/>     </waiter-list>    </keylock>    <keylock hobtid='72057594046971904' dbid='5' objectname='filtered' indexname='filtered' id='lock1e9befe6880' mode='X' associatedObjectId='72057594046971904'>     <owner-list>      <owner id='process1e9a7b324e8' mode='X'/>     </owner-list>     <waiter-list>      <waiter id='process1e9b60d8ca8' mode='U' requestType='wait'/>     </waiter-list>    </keylock>   </resource-list>  </deadlock>  \"},\n {'TimeGenerated': datetime.datetime(2021, 7, 17, 23, 13, 34, 608000, tzinfo=tzutc()), 'Category': 'Deadlocks', 'Resource': 'ADVENTUREWORKS', 'OperationName': 'DeadlockEvent', 'Type': 'AzureDiagnostics', 'deadlock_xml_s': \"<deadlock>   <victim-list>    <victimProcess id='process1e9a7b32ca8'/>   </victim-list>   <process-list>    <process id='process1e9a7b32ca8' taskpriority='0' logused='384' waitresource='KEY: 5:72057594046906368 (5495ec521809)' waittime='7965' ownerId='27265362' transactionname='user_transaction' lasttranstarted='2021-07-17T23:13:26.637' XDES='0x1e9b5d20428' lockMode='U' schedulerid='2' kpid='230632' status='suspended' spid='101' sbid='0' ecid='0' priority='0' trancount='2' lastbatchstarted='2021-07-17T23:13:26.633' lastbatchcompleted='2021-07-17T23:13:26.520' lastattention='1900-01-01T00:00:00.520' clientapp='azdata-Query' hostname='filtered' hostpid='19600' loginname='filtered' isolationlevel='read committed (2)' xactid='27265362' currentdb='5' currentdbname='AdventureWorks' lockTimeout='4294967295' clientoption1='671156320' clientoption2='128056'>     <executionStack>      <frame procname='unknown' queryhash='0xfb56c41f149be1bf' queryplanhash='0x61108d8e53ae0281' line='7' stmtstart='236' stmtend='398' sqlhandle='0x0200000076fe5d1c0c6a574e5832f3b8ff93e633e3a1d6ae0000000000000000000000000000000000000000'>  unknown    </frame>      <frame procname='unknown' queryhash='0xfb56c41f149be1bf' queryplanhash='0x61108d8e53ae0281' line='7' stmtstart='236' stmtend='398' sqlhandle='0x0200000005a1aa314a4b357187cf390d3dc4890a0bd7a7c10000000000000000000000000000000000000000'>  unknown    </frame>     </executionStack>     <inputbuf>  filtered   </inputbuf>    </process>    <process id='process1e9a7b33468' taskpriority='0' logused='572' waitresource='KEY: 5:72057594046840832 (8194443284a0)' waittime='4138' ownerId='27264855' transactionname='user_transaction' lasttranstarted='2021-07-17T23:13:15.467' XDES='0x1e9c6b24428' lockMode='U' schedulerid='2' kpid='109220' status='suspended' spid='97' sbid='0' ecid='0' priority='0' trancount='2' lastbatchstarted='2021-07-17T23:13:15.453' lastbatchcompleted='2021-07-17T23:13:08.453' lastattention='1900-01-01T00:00:00.453' clientapp='azdata-Query' hostname='filtered' hostpid='19600' loginname='filtered' isolationlevel='read committed (2)' xactid='27264855' currentdb='5' currentdbname='AdventureWorks' lockTimeout='4294967295' clientoption1='671156320' clientoption2='128056'>     <executionStack>      <frame procname='unknown' queryhash='0xa57159d12cb813fb' queryplanhash='0x10cbf3310dab2eb5' line='9' stmtstart='58' stmtend='186' sqlhandle='0x020000009897910214549261257b982dc5f67c7e4f562ee10000000000000000000000000000000000000000'>  unknown    </frame>      <frame procname='unknown' queryhash='0xa57159d12cb813fb' queryplanhash='0x10cbf3310dab2eb5' line='9' stmtstart='382' stmtend='520' sqlhandle='0x020000003cbaf1075f6082bedf3e15172fe9ecb6c23b78160000000000000000000000000000000000000000'>  unknown    </frame>     </executionStack>     <inputbuf>  filtered   </inputbuf>    </process>   </process-list>   <resource-list>    <keylock hobtid='72057594046906368' dbid='5' objectname='filtered' indexname='filtered' id='lock1e9cd45bb80' mode='X' associatedObjectId='72057594046906368'>     <owner-list>      <owner id='process1e9a7b33468' mode='X'/>     </owner-list>     <waiter-list>      <waiter id='process1e9a7b32ca8' mode='U' requestType='wait'/>     </waiter-list>    </keylock>    <keylock hobtid='72057594046840832' dbid='5' objectname='filtered' indexname='filtered' id='lock1e9cd455600' mode='X' associatedObjectId='72057594046840832'>     <owner-list>      <owner id='process1e9a7b32ca8' mode='X'/>     </owner-list>     <waiter-list>      <waiter id='process1e9a7b33468' mode='U' requestType='wait'/>     </waiter-list>    </keylock>   </resource-list>  </deadlock>  \"}]",
                        "text/html": ""
                    },
                    "metadata": {}
                }
            ],
            "execution_count": 12
        },
        {
            "cell_type": "markdown",
            "source": [
                "Find the deadlock query plan"
            ],
            "metadata": {
                "azdata_cell_guid": "af8b22fa-3396-4e95-b1d6-1a96fa400f03"
            }
        },
        {
            "cell_type": "code",
            "source": [
                "%%kql \r\n",
                "AzureDiagnostics\r\n",
                "| where OperationName == \"DeadlockEvent\"\r\n",
                "| extend d = parse_xml(deadlock_xml_s)\r\n",
                "| project TimeGenerated, QuerhPlanHash = d.deadlock.[\"process-list\"].process[0].executionStack.frame[0][\"@queryplanhash\"], QueryHash = d.deadlock.[\"process-list\"].process[0].executionStack.frame[0][\"@queryhash\"]\r\n",
                "//| sort by TimeGenerated desc\r\n",
                "| take 50"
            ],
            "metadata": {
                "azdata_cell_guid": "9b024cd2-768f-4ad4-9031-19f22dee9ecd",
                "tags": []
            },
            "outputs": [
                {
                    "output_type": "display_data",
                    "data": {
                        "text/plain": "<IPython.core.display.HTML object>",
                        "text/html": "<html>\n        <head>\n            \n            \n        </head>\n        <body>\n            <div><p style=' padding: 10px; color: #3a87ad; background-color: #d9edf7; border-color: #bce9f1'>&nbsp;*&nbsp;myMonLog@loganalytics</p></div>\n        </body>\n        </html>"
                    },
                    "metadata": {}
                },
                {
                    "output_type": "display_data",
                    "data": {
                        "text/plain": "                     TimeGenerated       QuerhPlanHash           QueryHash\n0 2021-07-19 13:55:22.268000+00:00  0x61108d8e53ae0281  0xfb56c41f149be1bf\n1 2021-07-17 23:13:34.608000+00:00  0x61108d8e53ae0281  0xfb56c41f149be1bf",
                        "text/html": "<div>\n<style scoped>\n    .dataframe tbody tr th:only-of-type {\n        vertical-align: middle;\n    }\n\n    .dataframe tbody tr th {\n        vertical-align: top;\n    }\n\n    .dataframe thead th {\n        text-align: right;\n    }\n</style>\n<table border=\"1\" class=\"dataframe\">\n  <thead>\n    <tr style=\"text-align: right;\">\n      <th></th>\n      <th>TimeGenerated</th>\n      <th>QuerhPlanHash</th>\n      <th>QueryHash</th>\n    </tr>\n  </thead>\n  <tbody>\n    <tr>\n      <th>0</th>\n      <td>2021-07-19 13:55:22.268000+00:00</td>\n      <td>0x61108d8e53ae0281</td>\n      <td>0xfb56c41f149be1bf</td>\n    </tr>\n    <tr>\n      <th>1</th>\n      <td>2021-07-17 23:13:34.608000+00:00</td>\n      <td>0x61108d8e53ae0281</td>\n      <td>0xfb56c41f149be1bf</td>\n    </tr>\n  </tbody>\n</table>\n</div>",
                        "application/vnd.dataresource+json": {
                            "schema": {
                                "fields": [
                                    {
                                        "name": "TimeGenerated",
                                        "type": "datetime",
                                        "tz": "UTC"
                                    },
                                    {
                                        "name": "QuerhPlanHash",
                                        "type": "string"
                                    },
                                    {
                                        "name": "QueryHash",
                                        "type": "string"
                                    }
                                ],
                                "kqmagic_version": "0.1.114.post2"
                            },
                            "data": [
                                {
                                    "TimeGenerated": "2021-07-19T13:55:22.268Z",
                                    "QuerhPlanHash": "0x61108d8e53ae0281",
                                    "QueryHash": "0xfb56c41f149be1bf"
                                },
                                {
                                    "TimeGenerated": "2021-07-17T23:13:34.608Z",
                                    "QuerhPlanHash": "0x61108d8e53ae0281",
                                    "QueryHash": "0xfb56c41f149be1bf"
                                }
                            ]
                        }
                    },
                    "metadata": {}
                },
                {
                    "output_type": "display_data",
                    "data": {
                        "text/plain": "<IPython.core.display.HTML object>",
                        "text/html": "<html>\n        <head>\n            \n            \n        </head>\n        <body>\n            <div><p style=' padding: 10px; color: #3a87ad; background-color: #d9edf7; border-color: #bce9f1'>Done&nbsp;(00:01.537):&nbsp;2&nbsp;records</p></div>\n        </body>\n        </html>"
                    },
                    "metadata": {}
                },
                {
                    "output_type": "execute_result",
                    "execution_count": 13,
                    "data": {
                        "text/plain": "[{'TimeGenerated': datetime.datetime(2021, 7, 19, 13, 55, 22, 268000, tzinfo=tzutc()), 'QuerhPlanHash': '0x61108d8e53ae0281', 'QueryHash': '0xfb56c41f149be1bf'},\n {'TimeGenerated': datetime.datetime(2021, 7, 17, 23, 13, 34, 608000, tzinfo=tzutc()), 'QuerhPlanHash': '0x61108d8e53ae0281', 'QueryHash': '0xfb56c41f149be1bf'}]",
                        "text/html": ""
                    },
                    "metadata": {}
                }
            ],
            "execution_count": 13
        },
        {
            "cell_type": "markdown",
            "source": [
                "## Query Store Runtime Statistics Events"
            ],
            "metadata": {
                "azdata_cell_guid": "c793f2df-65ec-455a-8ec1-bd152d842158"
            }
        },
        {
            "cell_type": "code",
            "source": [
                "%%kql \r\n",
                "AzureDiagnostics\r\n",
                "| where OperationName == \"QueryStoreRuntimeStatisticsEvent\"\r\n",
                "| project TimeGenerated, query_hash_s, statement_sql_handle_s, query_plan_hash_s\r\n",
                "| take 10"
            ],
            "metadata": {
                "azdata_cell_guid": "f99877c9-38ab-4907-b939-f2d8207fbc71"
            },
            "outputs": [
                {
                    "output_type": "display_data",
                    "data": {
                        "text/plain": "<IPython.core.display.HTML object>",
                        "text/html": "<html>\n        <head>\n            \n            \n        </head>\n        <body>\n            <div><p style=' padding: 10px; color: #3a87ad; background-color: #d9edf7; border-color: #bce9f1'>&nbsp;*&nbsp;myMonLog@loganalytics</p></div>\n        </body>\n        </html>"
                    },
                    "metadata": {}
                },
                {
                    "output_type": "display_data",
                    "data": {
                        "text/plain": "                     TimeGenerated        query_hash_s  \\\n0 2021-07-23 03:39:13.619000+00:00  0xD0B172EC3AC90AB2   \n1 2021-07-23 08:59:06.678000+00:00  0x6B4B44D6B25ADD20   \n2 2021-07-23 08:59:06.678000+00:00  0xA2130AA67E367881   \n3 2021-07-23 08:59:06.678000+00:00  0x828133C52F90EB6D   \n4 2021-07-23 08:59:06.678000+00:00  0xD0B172EC3AC90AB2   \n5 2021-07-23 08:59:06.678000+00:00  0x09FAA9C7FB0B074F   \n6 2021-07-23 08:59:06.678000+00:00  0x58A8C7A925C12FA6   \n7 2021-07-23 08:59:06.678000+00:00  0x12EC62308821AB40   \n8 2021-07-23 05:44:03.888000+00:00  0xD0B172EC3AC90AB2   \n9 2021-07-23 05:44:03.888000+00:00  0x09FAA9C7FB0B074F   \n\n                              statement_sql_handle_s   query_plan_hash_s  \n0  0x0900F0816A25DA2ADDAACB957F82B882EC1600000000...  0x2B9A3A3B55B4B6CB  \n1  0x090077EE742616D2343B59A6A7DD4F1BCDD100000000...  0x083AA300570224D3  \n2  0x090051874822F6B5B22CD377965CB73C87C600000000...  0x208410BECFEC3EF3  \n3  0x090013440DCE3264CE77F7337FB744CEDA5100000000...  0x168E4ED332FE0208  \n4  0x0900F0816A25DA2ADDAACB957F82B882EC1600000000...  0xA9B21A725D50B14E  \n5  0x0900FCDAB7B20133B0ECE39573A89245BA3200000000...  0x16B3C73492EFCB4D  \n6  0x09003088040C0034FCFF27D5BDCCEA98D46F00000000...  0x7A983A35BE23B580  \n7  0x09008297434DEFF2513E39B4B0DDE8F916EB00000000...  0xB189351EDDF42C85  \n8  0x0900F0816A25DA2ADDAACB957F82B882EC1600000000...  0xA9B21A725D50B14E  \n9  0x0900FCDAB7B20133B0ECE39573A89245BA3200000000...  0x16B3C73492EFCB4D  ",
                        "text/html": "<div>\n<style scoped>\n    .dataframe tbody tr th:only-of-type {\n        vertical-align: middle;\n    }\n\n    .dataframe tbody tr th {\n        vertical-align: top;\n    }\n\n    .dataframe thead th {\n        text-align: right;\n    }\n</style>\n<table border=\"1\" class=\"dataframe\">\n  <thead>\n    <tr style=\"text-align: right;\">\n      <th></th>\n      <th>TimeGenerated</th>\n      <th>query_hash_s</th>\n      <th>statement_sql_handle_s</th>\n      <th>query_plan_hash_s</th>\n    </tr>\n  </thead>\n  <tbody>\n    <tr>\n      <th>0</th>\n      <td>2021-07-23 03:39:13.619000+00:00</td>\n      <td>0xD0B172EC3AC90AB2</td>\n      <td>0x0900F0816A25DA2ADDAACB957F82B882EC1600000000...</td>\n      <td>0x2B9A3A3B55B4B6CB</td>\n    </tr>\n    <tr>\n      <th>1</th>\n      <td>2021-07-23 08:59:06.678000+00:00</td>\n      <td>0x6B4B44D6B25ADD20</td>\n      <td>0x090077EE742616D2343B59A6A7DD4F1BCDD100000000...</td>\n      <td>0x083AA300570224D3</td>\n    </tr>\n    <tr>\n      <th>2</th>\n      <td>2021-07-23 08:59:06.678000+00:00</td>\n      <td>0xA2130AA67E367881</td>\n      <td>0x090051874822F6B5B22CD377965CB73C87C600000000...</td>\n      <td>0x208410BECFEC3EF3</td>\n    </tr>\n    <tr>\n      <th>3</th>\n      <td>2021-07-23 08:59:06.678000+00:00</td>\n      <td>0x828133C52F90EB6D</td>\n      <td>0x090013440DCE3264CE77F7337FB744CEDA5100000000...</td>\n      <td>0x168E4ED332FE0208</td>\n    </tr>\n    <tr>\n      <th>4</th>\n      <td>2021-07-23 08:59:06.678000+00:00</td>\n      <td>0xD0B172EC3AC90AB2</td>\n      <td>0x0900F0816A25DA2ADDAACB957F82B882EC1600000000...</td>\n      <td>0xA9B21A725D50B14E</td>\n    </tr>\n    <tr>\n      <th>5</th>\n      <td>2021-07-23 08:59:06.678000+00:00</td>\n      <td>0x09FAA9C7FB0B074F</td>\n      <td>0x0900FCDAB7B20133B0ECE39573A89245BA3200000000...</td>\n      <td>0x16B3C73492EFCB4D</td>\n    </tr>\n    <tr>\n      <th>6</th>\n      <td>2021-07-23 08:59:06.678000+00:00</td>\n      <td>0x58A8C7A925C12FA6</td>\n      <td>0x09003088040C0034FCFF27D5BDCCEA98D46F00000000...</td>\n      <td>0x7A983A35BE23B580</td>\n    </tr>\n    <tr>\n      <th>7</th>\n      <td>2021-07-23 08:59:06.678000+00:00</td>\n      <td>0x12EC62308821AB40</td>\n      <td>0x09008297434DEFF2513E39B4B0DDE8F916EB00000000...</td>\n      <td>0xB189351EDDF42C85</td>\n    </tr>\n    <tr>\n      <th>8</th>\n      <td>2021-07-23 05:44:03.888000+00:00</td>\n      <td>0xD0B172EC3AC90AB2</td>\n      <td>0x0900F0816A25DA2ADDAACB957F82B882EC1600000000...</td>\n      <td>0xA9B21A725D50B14E</td>\n    </tr>\n    <tr>\n      <th>9</th>\n      <td>2021-07-23 05:44:03.888000+00:00</td>\n      <td>0x09FAA9C7FB0B074F</td>\n      <td>0x0900FCDAB7B20133B0ECE39573A89245BA3200000000...</td>\n      <td>0x16B3C73492EFCB4D</td>\n    </tr>\n  </tbody>\n</table>\n</div>",
                        "application/vnd.dataresource+json": {
                            "schema": {
                                "fields": [
                                    {
                                        "name": "TimeGenerated",
                                        "type": "datetime",
                                        "tz": "UTC"
                                    },
                                    {
                                        "name": "query_hash_s",
                                        "type": "string"
                                    },
                                    {
                                        "name": "statement_sql_handle_s",
                                        "type": "string"
                                    },
                                    {
                                        "name": "query_plan_hash_s",
                                        "type": "string"
                                    }
                                ],
                                "kqmagic_version": "0.1.114.post2"
                            },
                            "data": [
                                {
                                    "TimeGenerated": "2021-07-23T03:39:13.619Z",
                                    "query_hash_s": "0xD0B172EC3AC90AB2",
                                    "statement_sql_handle_s": "0x0900F0816A25DA2ADDAACB957F82B882EC160000000000000000000000000000000000000000000000000000",
                                    "query_plan_hash_s": "0x2B9A3A3B55B4B6CB"
                                },
                                {
                                    "TimeGenerated": "2021-07-23T08:59:06.678Z",
                                    "query_hash_s": "0x6B4B44D6B25ADD20",
                                    "statement_sql_handle_s": "0x090077EE742616D2343B59A6A7DD4F1BCDD10000000000000000000000000000000000000000000000000000",
                                    "query_plan_hash_s": "0x083AA300570224D3"
                                },
                                {
                                    "TimeGenerated": "2021-07-23T08:59:06.678Z",
                                    "query_hash_s": "0xA2130AA67E367881",
                                    "statement_sql_handle_s": "0x090051874822F6B5B22CD377965CB73C87C60000000000000000000000000000000000000000000000000000",
                                    "query_plan_hash_s": "0x208410BECFEC3EF3"
                                },
                                {
                                    "TimeGenerated": "2021-07-23T08:59:06.678Z",
                                    "query_hash_s": "0x828133C52F90EB6D",
                                    "statement_sql_handle_s": "0x090013440DCE3264CE77F7337FB744CEDA510000000000000000000000000000000000000000000000000000",
                                    "query_plan_hash_s": "0x168E4ED332FE0208"
                                },
                                {
                                    "TimeGenerated": "2021-07-23T08:59:06.678Z",
                                    "query_hash_s": "0xD0B172EC3AC90AB2",
                                    "statement_sql_handle_s": "0x0900F0816A25DA2ADDAACB957F82B882EC160000000000000000000000000000000000000000000000000000",
                                    "query_plan_hash_s": "0xA9B21A725D50B14E"
                                },
                                {
                                    "TimeGenerated": "2021-07-23T08:59:06.678Z",
                                    "query_hash_s": "0x09FAA9C7FB0B074F",
                                    "statement_sql_handle_s": "0x0900FCDAB7B20133B0ECE39573A89245BA320000000000000000000000000000000000000000000000000000",
                                    "query_plan_hash_s": "0x16B3C73492EFCB4D"
                                },
                                {
                                    "TimeGenerated": "2021-07-23T08:59:06.678Z",
                                    "query_hash_s": "0x58A8C7A925C12FA6",
                                    "statement_sql_handle_s": "0x09003088040C0034FCFF27D5BDCCEA98D46F0000000000000000000000000000000000000000000000000000",
                                    "query_plan_hash_s": "0x7A983A35BE23B580"
                                },
                                {
                                    "TimeGenerated": "2021-07-23T08:59:06.678Z",
                                    "query_hash_s": "0x12EC62308821AB40",
                                    "statement_sql_handle_s": "0x09008297434DEFF2513E39B4B0DDE8F916EB0000000000000000000000000000000000000000000000000000",
                                    "query_plan_hash_s": "0xB189351EDDF42C85"
                                },
                                {
                                    "TimeGenerated": "2021-07-23T05:44:03.888Z",
                                    "query_hash_s": "0xD0B172EC3AC90AB2",
                                    "statement_sql_handle_s": "0x0900F0816A25DA2ADDAACB957F82B882EC160000000000000000000000000000000000000000000000000000",
                                    "query_plan_hash_s": "0xA9B21A725D50B14E"
                                },
                                {
                                    "TimeGenerated": "2021-07-23T05:44:03.888Z",
                                    "query_hash_s": "0x09FAA9C7FB0B074F",
                                    "statement_sql_handle_s": "0x0900FCDAB7B20133B0ECE39573A89245BA320000000000000000000000000000000000000000000000000000",
                                    "query_plan_hash_s": "0x16B3C73492EFCB4D"
                                }
                            ]
                        }
                    },
                    "metadata": {}
                },
                {
                    "output_type": "display_data",
                    "data": {
                        "text/plain": "<IPython.core.display.HTML object>",
                        "text/html": "<html>\n        <head>\n            \n            \n        </head>\n        <body>\n            <div><p style=' padding: 10px; color: #3a87ad; background-color: #d9edf7; border-color: #bce9f1'>Done&nbsp;(00:00.784):&nbsp;10&nbsp;records</p></div>\n        </body>\n        </html>"
                    },
                    "metadata": {}
                },
                {
                    "output_type": "execute_result",
                    "execution_count": 14,
                    "data": {
                        "text/plain": "[{'TimeGenerated': datetime.datetime(2021, 7, 23, 3, 39, 13, 619000, tzinfo=tzutc()), 'query_hash_s': '0xD0B172EC3AC90AB2', 'statement_sql_handle_s': '0x0900F0816A25DA2ADDAACB957F82B882EC160000000000000000000000000000000000000000000000000000', 'query_plan_hash_s': '0x2B9A3A3B55B4B6CB'},\n {'TimeGenerated': datetime.datetime(2021, 7, 23, 8, 59, 6, 678000, tzinfo=tzutc()), 'query_hash_s': '0x6B4B44D6B25ADD20', 'statement_sql_handle_s': '0x090077EE742616D2343B59A6A7DD4F1BCDD10000000000000000000000000000000000000000000000000000', 'query_plan_hash_s': '0x083AA300570224D3'},\n {'TimeGenerated': datetime.datetime(2021, 7, 23, 8, 59, 6, 678000, tzinfo=tzutc()), 'query_hash_s': '0xA2130AA67E367881', 'statement_sql_handle_s': '0x090051874822F6B5B22CD377965CB73C87C60000000000000000000000000000000000000000000000000000', 'query_plan_hash_s': '0x208410BECFEC3EF3'},\n {'TimeGenerated': datetime.datetime(2021, 7, 23, 8, 59, 6, 678000, tzinfo=tzutc()), 'query_hash_s': '0x828133C52F90EB6D', 'statement_sql_handle_s': '0x090013440DCE3264CE77F7337FB744CEDA510000000000000000000000000000000000000000000000000000', 'query_plan_hash_s': '0x168E4ED332FE0208'},\n {'TimeGenerated': datetime.datetime(2021, 7, 23, 8, 59, 6, 678000, tzinfo=tzutc()), 'query_hash_s': '0xD0B172EC3AC90AB2', 'statement_sql_handle_s': '0x0900F0816A25DA2ADDAACB957F82B882EC160000000000000000000000000000000000000000000000000000', 'query_plan_hash_s': '0xA9B21A725D50B14E'},\n {'TimeGenerated': datetime.datetime(2021, 7, 23, 8, 59, 6, 678000, tzinfo=tzutc()), 'query_hash_s': '0x09FAA9C7FB0B074F', 'statement_sql_handle_s': '0x0900FCDAB7B20133B0ECE39573A89245BA320000000000000000000000000000000000000000000000000000', 'query_plan_hash_s': '0x16B3C73492EFCB4D'},\n {'TimeGenerated': datetime.datetime(2021, 7, 23, 8, 59, 6, 678000, tzinfo=tzutc()), 'query_hash_s': '0x58A8C7A925C12FA6', 'statement_sql_handle_s': '0x09003088040C0034FCFF27D5BDCCEA98D46F0000000000000000000000000000000000000000000000000000', 'query_plan_hash_s': '0x7A983A35BE23B580'},\n {'TimeGenerated': datetime.datetime(2021, 7, 23, 8, 59, 6, 678000, tzinfo=tzutc()), 'query_hash_s': '0x12EC62308821AB40', 'statement_sql_handle_s': '0x09008297434DEFF2513E39B4B0DDE8F916EB0000000000000000000000000000000000000000000000000000', 'query_plan_hash_s': '0xB189351EDDF42C85'},\n {'TimeGenerated': datetime.datetime(2021, 7, 23, 5, 44, 3, 888000, tzinfo=tzutc()), 'query_hash_s': '0xD0B172EC3AC90AB2', 'statement_sql_handle_s': '0x0900F0816A25DA2ADDAACB957F82B882EC160000000000000000000000000000000000000000000000000000', 'query_plan_hash_s': '0xA9B21A725D50B14E'},\n {'TimeGenerated': datetime.datetime(2021, 7, 23, 5, 44, 3, 888000, tzinfo=tzutc()), 'query_hash_s': '0x09FAA9C7FB0B074F', 'statement_sql_handle_s': '0x0900FCDAB7B20133B0ECE39573A89245BA320000000000000000000000000000000000000000000000000000', 'query_plan_hash_s': '0x16B3C73492EFCB4D'}]",
                        "text/html": ""
                    },
                    "metadata": {}
                }
            ],
            "execution_count": 14
        },
        {
            "cell_type": "markdown",
            "source": [
                "## Analyze Errors"
            ],
            "metadata": {
                "azdata_cell_guid": "92c68e36-87a2-4355-8d4b-56d001462d1e"
            }
        },
        {
            "cell_type": "code",
            "source": [
                "%%kql \r\n",
                "AzureDiagnostics\r\n",
                "| where OperationName == \"ErrorEvent\"\r\n",
                "| extend ErrorNumber =  tostring(error_number_d) \r\n",
                "| summarize event_count=count() by EventTime = bin(TimeGenerated, 2d), ErrorNumber\r\n",
                "| render timechart "
            ],
            "metadata": {
                "azdata_cell_guid": "229543f7-f24c-48c1-a9d5-0a3d0d708e25"
            },
            "outputs": [
                {
                    "output_type": "display_data",
                    "data": {
                        "text/plain": "<IPython.core.display.HTML object>",
                        "text/html": "<html>\n        <head>\n            \n            \n        </head>\n        <body>\n            <div><p style=' padding: 10px; color: #3a87ad; background-color: #d9edf7; border-color: #bce9f1'>&nbsp;*&nbsp;myMonLog@loganalytics</p></div>\n        </body>\n        </html>"
                    },
                    "metadata": {}
                },
                {
                    "output_type": "display_data",
                    "data": {
                        "application/vnd.plotly.v1+json": {
                            "config": {
                                "plotlyServerURL": "https://plot.ly"
                            },
                            "data": [
                                {
                                    "line": {
                                        "color": "rgb(31, 118, 179)",
                                        "width": 1
                                    },
                                    "name": "208.0:event_count",
                                    "opacity": 0.8,
                                    "type": "scatter",
                                    "x": [
                                        "2021-06-30T00:00:00+00:00",
                                        "2021-07-16T00:00:00+00:00",
                                        "2021-07-18T00:00:00+00:00",
                                        "2021-07-20T00:00:00+00:00"
                                    ],
                                    "y": [
                                        2,
                                        27,
                                        20,
                                        47
                                    ]
                                },
                                {
                                    "line": {
                                        "color": "rgb(254, 127, 14)",
                                        "width": 1
                                    },
                                    "name": "3902.0:event_count",
                                    "opacity": 0.8,
                                    "type": "scatter",
                                    "x": [
                                        "2021-06-30T00:00:00+00:00",
                                        "2021-07-16T00:00:00+00:00",
                                        "2021-07-18T00:00:00+00:00",
                                        "2021-07-20T00:00:00+00:00"
                                    ],
                                    "y": [
                                        null,
                                        1,
                                        1,
                                        1
                                    ]
                                },
                                {
                                    "line": {
                                        "color": "rgb(44, 160, 44)",
                                        "width": 1
                                    },
                                    "name": "2714.0:event_count",
                                    "opacity": 0.8,
                                    "type": "scatter",
                                    "x": [
                                        "2021-06-30T00:00:00+00:00",
                                        "2021-07-16T00:00:00+00:00",
                                        "2021-07-18T00:00:00+00:00",
                                        "2021-07-20T00:00:00+00:00"
                                    ],
                                    "y": [
                                        null,
                                        null,
                                        null,
                                        1
                                    ]
                                },
                                {
                                    "line": {
                                        "color": "rgb(214, 39, 39)",
                                        "width": 1
                                    },
                                    "name": "1222.0:event_count",
                                    "opacity": 0.8,
                                    "type": "scatter",
                                    "x": [
                                        "2021-06-30T00:00:00+00:00",
                                        "2021-07-16T00:00:00+00:00",
                                        "2021-07-18T00:00:00+00:00",
                                        "2021-07-20T00:00:00+00:00"
                                    ],
                                    "y": [
                                        null,
                                        null,
                                        null,
                                        8
                                    ]
                                }
                            ],
                            "layout": {
                                "showlegend": true,
                                "template": {
                                    "data": {
                                        "bar": [
                                            {
                                                "error_x": {
                                                    "color": "#2a3f5f"
                                                },
                                                "error_y": {
                                                    "color": "#2a3f5f"
                                                },
                                                "marker": {
                                                    "line": {
                                                        "color": "#E5ECF6",
                                                        "width": 0.5
                                                    },
                                                    "pattern": {
                                                        "fillmode": "overlay",
                                                        "size": 10,
                                                        "solidity": 0.2
                                                    }
                                                },
                                                "type": "bar"
                                            }
                                        ],
                                        "barpolar": [
                                            {
                                                "marker": {
                                                    "line": {
                                                        "color": "#E5ECF6",
                                                        "width": 0.5
                                                    },
                                                    "pattern": {
                                                        "fillmode": "overlay",
                                                        "size": 10,
                                                        "solidity": 0.2
                                                    }
                                                },
                                                "type": "barpolar"
                                            }
                                        ],
                                        "carpet": [
                                            {
                                                "aaxis": {
                                                    "endlinecolor": "#2a3f5f",
                                                    "gridcolor": "white",
                                                    "linecolor": "white",
                                                    "minorgridcolor": "white",
                                                    "startlinecolor": "#2a3f5f"
                                                },
                                                "baxis": {
                                                    "endlinecolor": "#2a3f5f",
                                                    "gridcolor": "white",
                                                    "linecolor": "white",
                                                    "minorgridcolor": "white",
                                                    "startlinecolor": "#2a3f5f"
                                                },
                                                "type": "carpet"
                                            }
                                        ],
                                        "choropleth": [
                                            {
                                                "colorbar": {
                                                    "outlinewidth": 0,
                                                    "ticks": ""
                                                },
                                                "type": "choropleth"
                                            }
                                        ],
                                        "contour": [
                                            {
                                                "colorbar": {
                                                    "outlinewidth": 0,
                                                    "ticks": ""
                                                },
                                                "colorscale": [
                                                    [
                                                        0,
                                                        "#0d0887"
                                                    ],
                                                    [
                                                        0.1111111111111111,
                                                        "#46039f"
                                                    ],
                                                    [
                                                        0.2222222222222222,
                                                        "#7201a8"
                                                    ],
                                                    [
                                                        0.3333333333333333,
                                                        "#9c179e"
                                                    ],
                                                    [
                                                        0.4444444444444444,
                                                        "#bd3786"
                                                    ],
                                                    [
                                                        0.5555555555555556,
                                                        "#d8576b"
                                                    ],
                                                    [
                                                        0.6666666666666666,
                                                        "#ed7953"
                                                    ],
                                                    [
                                                        0.7777777777777778,
                                                        "#fb9f3a"
                                                    ],
                                                    [
                                                        0.8888888888888888,
                                                        "#fdca26"
                                                    ],
                                                    [
                                                        1,
                                                        "#f0f921"
                                                    ]
                                                ],
                                                "type": "contour"
                                            }
                                        ],
                                        "contourcarpet": [
                                            {
                                                "colorbar": {
                                                    "outlinewidth": 0,
                                                    "ticks": ""
                                                },
                                                "type": "contourcarpet"
                                            }
                                        ],
                                        "heatmap": [
                                            {
                                                "colorbar": {
                                                    "outlinewidth": 0,
                                                    "ticks": ""
                                                },
                                                "colorscale": [
                                                    [
                                                        0,
                                                        "#0d0887"
                                                    ],
                                                    [
                                                        0.1111111111111111,
                                                        "#46039f"
                                                    ],
                                                    [
                                                        0.2222222222222222,
                                                        "#7201a8"
                                                    ],
                                                    [
                                                        0.3333333333333333,
                                                        "#9c179e"
                                                    ],
                                                    [
                                                        0.4444444444444444,
                                                        "#bd3786"
                                                    ],
                                                    [
                                                        0.5555555555555556,
                                                        "#d8576b"
                                                    ],
                                                    [
                                                        0.6666666666666666,
                                                        "#ed7953"
                                                    ],
                                                    [
                                                        0.7777777777777778,
                                                        "#fb9f3a"
                                                    ],
                                                    [
                                                        0.8888888888888888,
                                                        "#fdca26"
                                                    ],
                                                    [
                                                        1,
                                                        "#f0f921"
                                                    ]
                                                ],
                                                "type": "heatmap"
                                            }
                                        ],
                                        "heatmapgl": [
                                            {
                                                "colorbar": {
                                                    "outlinewidth": 0,
                                                    "ticks": ""
                                                },
                                                "colorscale": [
                                                    [
                                                        0,
                                                        "#0d0887"
                                                    ],
                                                    [
                                                        0.1111111111111111,
                                                        "#46039f"
                                                    ],
                                                    [
                                                        0.2222222222222222,
                                                        "#7201a8"
                                                    ],
                                                    [
                                                        0.3333333333333333,
                                                        "#9c179e"
                                                    ],
                                                    [
                                                        0.4444444444444444,
                                                        "#bd3786"
                                                    ],
                                                    [
                                                        0.5555555555555556,
                                                        "#d8576b"
                                                    ],
                                                    [
                                                        0.6666666666666666,
                                                        "#ed7953"
                                                    ],
                                                    [
                                                        0.7777777777777778,
                                                        "#fb9f3a"
                                                    ],
                                                    [
                                                        0.8888888888888888,
                                                        "#fdca26"
                                                    ],
                                                    [
                                                        1,
                                                        "#f0f921"
                                                    ]
                                                ],
                                                "type": "heatmapgl"
                                            }
                                        ],
                                        "histogram": [
                                            {
                                                "marker": {
                                                    "pattern": {
                                                        "fillmode": "overlay",
                                                        "size": 10,
                                                        "solidity": 0.2
                                                    }
                                                },
                                                "type": "histogram"
                                            }
                                        ],
                                        "histogram2d": [
                                            {
                                                "colorbar": {
                                                    "outlinewidth": 0,
                                                    "ticks": ""
                                                },
                                                "colorscale": [
                                                    [
                                                        0,
                                                        "#0d0887"
                                                    ],
                                                    [
                                                        0.1111111111111111,
                                                        "#46039f"
                                                    ],
                                                    [
                                                        0.2222222222222222,
                                                        "#7201a8"
                                                    ],
                                                    [
                                                        0.3333333333333333,
                                                        "#9c179e"
                                                    ],
                                                    [
                                                        0.4444444444444444,
                                                        "#bd3786"
                                                    ],
                                                    [
                                                        0.5555555555555556,
                                                        "#d8576b"
                                                    ],
                                                    [
                                                        0.6666666666666666,
                                                        "#ed7953"
                                                    ],
                                                    [
                                                        0.7777777777777778,
                                                        "#fb9f3a"
                                                    ],
                                                    [
                                                        0.8888888888888888,
                                                        "#fdca26"
                                                    ],
                                                    [
                                                        1,
                                                        "#f0f921"
                                                    ]
                                                ],
                                                "type": "histogram2d"
                                            }
                                        ],
                                        "histogram2dcontour": [
                                            {
                                                "colorbar": {
                                                    "outlinewidth": 0,
                                                    "ticks": ""
                                                },
                                                "colorscale": [
                                                    [
                                                        0,
                                                        "#0d0887"
                                                    ],
                                                    [
                                                        0.1111111111111111,
                                                        "#46039f"
                                                    ],
                                                    [
                                                        0.2222222222222222,
                                                        "#7201a8"
                                                    ],
                                                    [
                                                        0.3333333333333333,
                                                        "#9c179e"
                                                    ],
                                                    [
                                                        0.4444444444444444,
                                                        "#bd3786"
                                                    ],
                                                    [
                                                        0.5555555555555556,
                                                        "#d8576b"
                                                    ],
                                                    [
                                                        0.6666666666666666,
                                                        "#ed7953"
                                                    ],
                                                    [
                                                        0.7777777777777778,
                                                        "#fb9f3a"
                                                    ],
                                                    [
                                                        0.8888888888888888,
                                                        "#fdca26"
                                                    ],
                                                    [
                                                        1,
                                                        "#f0f921"
                                                    ]
                                                ],
                                                "type": "histogram2dcontour"
                                            }
                                        ],
                                        "mesh3d": [
                                            {
                                                "colorbar": {
                                                    "outlinewidth": 0,
                                                    "ticks": ""
                                                },
                                                "type": "mesh3d"
                                            }
                                        ],
                                        "parcoords": [
                                            {
                                                "line": {
                                                    "colorbar": {
                                                        "outlinewidth": 0,
                                                        "ticks": ""
                                                    }
                                                },
                                                "type": "parcoords"
                                            }
                                        ],
                                        "pie": [
                                            {
                                                "automargin": true,
                                                "type": "pie"
                                            }
                                        ],
                                        "scatter": [
                                            {
                                                "marker": {
                                                    "colorbar": {
                                                        "outlinewidth": 0,
                                                        "ticks": ""
                                                    }
                                                },
                                                "type": "scatter"
                                            }
                                        ],
                                        "scatter3d": [
                                            {
                                                "line": {
                                                    "colorbar": {
                                                        "outlinewidth": 0,
                                                        "ticks": ""
                                                    }
                                                },
                                                "marker": {
                                                    "colorbar": {
                                                        "outlinewidth": 0,
                                                        "ticks": ""
                                                    }
                                                },
                                                "type": "scatter3d"
                                            }
                                        ],
                                        "scattercarpet": [
                                            {
                                                "marker": {
                                                    "colorbar": {
                                                        "outlinewidth": 0,
                                                        "ticks": ""
                                                    }
                                                },
                                                "type": "scattercarpet"
                                            }
                                        ],
                                        "scattergeo": [
                                            {
                                                "marker": {
                                                    "colorbar": {
                                                        "outlinewidth": 0,
                                                        "ticks": ""
                                                    }
                                                },
                                                "type": "scattergeo"
                                            }
                                        ],
                                        "scattergl": [
                                            {
                                                "marker": {
                                                    "colorbar": {
                                                        "outlinewidth": 0,
                                                        "ticks": ""
                                                    }
                                                },
                                                "type": "scattergl"
                                            }
                                        ],
                                        "scattermapbox": [
                                            {
                                                "marker": {
                                                    "colorbar": {
                                                        "outlinewidth": 0,
                                                        "ticks": ""
                                                    }
                                                },
                                                "type": "scattermapbox"
                                            }
                                        ],
                                        "scatterpolar": [
                                            {
                                                "marker": {
                                                    "colorbar": {
                                                        "outlinewidth": 0,
                                                        "ticks": ""
                                                    }
                                                },
                                                "type": "scatterpolar"
                                            }
                                        ],
                                        "scatterpolargl": [
                                            {
                                                "marker": {
                                                    "colorbar": {
                                                        "outlinewidth": 0,
                                                        "ticks": ""
                                                    }
                                                },
                                                "type": "scatterpolargl"
                                            }
                                        ],
                                        "scatterternary": [
                                            {
                                                "marker": {
                                                    "colorbar": {
                                                        "outlinewidth": 0,
                                                        "ticks": ""
                                                    }
                                                },
                                                "type": "scatterternary"
                                            }
                                        ],
                                        "surface": [
                                            {
                                                "colorbar": {
                                                    "outlinewidth": 0,
                                                    "ticks": ""
                                                },
                                                "colorscale": [
                                                    [
                                                        0,
                                                        "#0d0887"
                                                    ],
                                                    [
                                                        0.1111111111111111,
                                                        "#46039f"
                                                    ],
                                                    [
                                                        0.2222222222222222,
                                                        "#7201a8"
                                                    ],
                                                    [
                                                        0.3333333333333333,
                                                        "#9c179e"
                                                    ],
                                                    [
                                                        0.4444444444444444,
                                                        "#bd3786"
                                                    ],
                                                    [
                                                        0.5555555555555556,
                                                        "#d8576b"
                                                    ],
                                                    [
                                                        0.6666666666666666,
                                                        "#ed7953"
                                                    ],
                                                    [
                                                        0.7777777777777778,
                                                        "#fb9f3a"
                                                    ],
                                                    [
                                                        0.8888888888888888,
                                                        "#fdca26"
                                                    ],
                                                    [
                                                        1,
                                                        "#f0f921"
                                                    ]
                                                ],
                                                "type": "surface"
                                            }
                                        ],
                                        "table": [
                                            {
                                                "cells": {
                                                    "fill": {
                                                        "color": "#EBF0F8"
                                                    },
                                                    "line": {
                                                        "color": "white"
                                                    }
                                                },
                                                "header": {
                                                    "fill": {
                                                        "color": "#C8D4E3"
                                                    },
                                                    "line": {
                                                        "color": "white"
                                                    }
                                                },
                                                "type": "table"
                                            }
                                        ]
                                    },
                                    "layout": {
                                        "annotationdefaults": {
                                            "arrowcolor": "#2a3f5f",
                                            "arrowhead": 0,
                                            "arrowwidth": 1
                                        },
                                        "autotypenumbers": "strict",
                                        "coloraxis": {
                                            "colorbar": {
                                                "outlinewidth": 0,
                                                "ticks": ""
                                            }
                                        },
                                        "colorscale": {
                                            "diverging": [
                                                [
                                                    0,
                                                    "#8e0152"
                                                ],
                                                [
                                                    0.1,
                                                    "#c51b7d"
                                                ],
                                                [
                                                    0.2,
                                                    "#de77ae"
                                                ],
                                                [
                                                    0.3,
                                                    "#f1b6da"
                                                ],
                                                [
                                                    0.4,
                                                    "#fde0ef"
                                                ],
                                                [
                                                    0.5,
                                                    "#f7f7f7"
                                                ],
                                                [
                                                    0.6,
                                                    "#e6f5d0"
                                                ],
                                                [
                                                    0.7,
                                                    "#b8e186"
                                                ],
                                                [
                                                    0.8,
                                                    "#7fbc41"
                                                ],
                                                [
                                                    0.9,
                                                    "#4d9221"
                                                ],
                                                [
                                                    1,
                                                    "#276419"
                                                ]
                                            ],
                                            "sequential": [
                                                [
                                                    0,
                                                    "#0d0887"
                                                ],
                                                [
                                                    0.1111111111111111,
                                                    "#46039f"
                                                ],
                                                [
                                                    0.2222222222222222,
                                                    "#7201a8"
                                                ],
                                                [
                                                    0.3333333333333333,
                                                    "#9c179e"
                                                ],
                                                [
                                                    0.4444444444444444,
                                                    "#bd3786"
                                                ],
                                                [
                                                    0.5555555555555556,
                                                    "#d8576b"
                                                ],
                                                [
                                                    0.6666666666666666,
                                                    "#ed7953"
                                                ],
                                                [
                                                    0.7777777777777778,
                                                    "#fb9f3a"
                                                ],
                                                [
                                                    0.8888888888888888,
                                                    "#fdca26"
                                                ],
                                                [
                                                    1,
                                                    "#f0f921"
                                                ]
                                            ],
                                            "sequentialminus": [
                                                [
                                                    0,
                                                    "#0d0887"
                                                ],
                                                [
                                                    0.1111111111111111,
                                                    "#46039f"
                                                ],
                                                [
                                                    0.2222222222222222,
                                                    "#7201a8"
                                                ],
                                                [
                                                    0.3333333333333333,
                                                    "#9c179e"
                                                ],
                                                [
                                                    0.4444444444444444,
                                                    "#bd3786"
                                                ],
                                                [
                                                    0.5555555555555556,
                                                    "#d8576b"
                                                ],
                                                [
                                                    0.6666666666666666,
                                                    "#ed7953"
                                                ],
                                                [
                                                    0.7777777777777778,
                                                    "#fb9f3a"
                                                ],
                                                [
                                                    0.8888888888888888,
                                                    "#fdca26"
                                                ],
                                                [
                                                    1,
                                                    "#f0f921"
                                                ]
                                            ]
                                        },
                                        "colorway": [
                                            "#636efa",
                                            "#EF553B",
                                            "#00cc96",
                                            "#ab63fa",
                                            "#FFA15A",
                                            "#19d3f3",
                                            "#FF6692",
                                            "#B6E880",
                                            "#FF97FF",
                                            "#FECB52"
                                        ],
                                        "font": {
                                            "color": "#2a3f5f"
                                        },
                                        "geo": {
                                            "bgcolor": "white",
                                            "lakecolor": "white",
                                            "landcolor": "#E5ECF6",
                                            "showlakes": true,
                                            "showland": true,
                                            "subunitcolor": "white"
                                        },
                                        "hoverlabel": {
                                            "align": "left"
                                        },
                                        "hovermode": "closest",
                                        "mapbox": {
                                            "style": "light"
                                        },
                                        "paper_bgcolor": "white",
                                        "plot_bgcolor": "#E5ECF6",
                                        "polar": {
                                            "angularaxis": {
                                                "gridcolor": "white",
                                                "linecolor": "white",
                                                "ticks": ""
                                            },
                                            "bgcolor": "#E5ECF6",
                                            "radialaxis": {
                                                "gridcolor": "white",
                                                "linecolor": "white",
                                                "ticks": ""
                                            }
                                        },
                                        "scene": {
                                            "xaxis": {
                                                "backgroundcolor": "#E5ECF6",
                                                "gridcolor": "white",
                                                "gridwidth": 2,
                                                "linecolor": "white",
                                                "showbackground": true,
                                                "ticks": "",
                                                "zerolinecolor": "white"
                                            },
                                            "yaxis": {
                                                "backgroundcolor": "#E5ECF6",
                                                "gridcolor": "white",
                                                "gridwidth": 2,
                                                "linecolor": "white",
                                                "showbackground": true,
                                                "ticks": "",
                                                "zerolinecolor": "white"
                                            },
                                            "zaxis": {
                                                "backgroundcolor": "#E5ECF6",
                                                "gridcolor": "white",
                                                "gridwidth": 2,
                                                "linecolor": "white",
                                                "showbackground": true,
                                                "ticks": "",
                                                "zerolinecolor": "white"
                                            }
                                        },
                                        "shapedefaults": {
                                            "line": {
                                                "color": "#2a3f5f"
                                            }
                                        },
                                        "ternary": {
                                            "aaxis": {
                                                "gridcolor": "white",
                                                "linecolor": "white",
                                                "ticks": ""
                                            },
                                            "baxis": {
                                                "gridcolor": "white",
                                                "linecolor": "white",
                                                "ticks": ""
                                            },
                                            "bgcolor": "#E5ECF6",
                                            "caxis": {
                                                "gridcolor": "white",
                                                "linecolor": "white",
                                                "ticks": ""
                                            }
                                        },
                                        "title": {
                                            "x": 0.05
                                        },
                                        "xaxis": {
                                            "automargin": true,
                                            "gridcolor": "white",
                                            "linecolor": "white",
                                            "ticks": "",
                                            "title": {
                                                "standoff": 15
                                            },
                                            "zerolinecolor": "white",
                                            "zerolinewidth": 2
                                        },
                                        "yaxis": {
                                            "automargin": true,
                                            "gridcolor": "white",
                                            "linecolor": "white",
                                            "ticks": "",
                                            "title": {
                                                "standoff": 15
                                            },
                                            "zerolinecolor": "white",
                                            "zerolinewidth": 2
                                        }
                                    }
                                },
                                "title": {
                                    "text": "timechart"
                                },
                                "xaxis": {
                                    "autorange": true,
                                    "title": {
                                        "text": "EventTime"
                                    },
                                    "type": "date"
                                },
                                "yaxis": {
                                    "ticksuffix": "",
                                    "title": {
                                        "text": "event_count"
                                    },
                                    "type": "linear"
                                }
                            }
                        }
                    },
                    "metadata": {}
                },
                {
                    "output_type": "display_data",
                    "data": {
                        "text/plain": "<IPython.core.display.HTML object>",
                        "text/html": "<html>\n        <head>\n            \n            \n        </head>\n        <body>\n            <div><p style=' padding: 10px; color: #3a87ad; background-color: #d9edf7; border-color: #bce9f1'>Done&nbsp;(00:00.874):&nbsp;9&nbsp;records</p></div>\n        </body>\n        </html>"
                    },
                    "metadata": {}
                },
                {
                    "output_type": "execute_result",
                    "execution_count": 15,
                    "data": {
                        "text/plain": "[{'EventTime': datetime.datetime(2021, 6, 30, 0, 0, tzinfo=tzutc()), 'ErrorNumber': '208.0', 'event_count': 2},\n {'EventTime': datetime.datetime(2021, 7, 20, 0, 0, tzinfo=tzutc()), 'ErrorNumber': '208.0', 'event_count': 47},\n {'EventTime': datetime.datetime(2021, 7, 18, 0, 0, tzinfo=tzutc()), 'ErrorNumber': '208.0', 'event_count': 20},\n {'EventTime': datetime.datetime(2021, 7, 18, 0, 0, tzinfo=tzutc()), 'ErrorNumber': '3902.0', 'event_count': 1},\n {'EventTime': datetime.datetime(2021, 7, 20, 0, 0, tzinfo=tzutc()), 'ErrorNumber': '2714.0', 'event_count': 1},\n {'EventTime': datetime.datetime(2021, 7, 20, 0, 0, tzinfo=tzutc()), 'ErrorNumber': '1222.0', 'event_count': 8},\n {'EventTime': datetime.datetime(2021, 7, 20, 0, 0, tzinfo=tzutc()), 'ErrorNumber': '3902.0', 'event_count': 1},\n {'EventTime': datetime.datetime(2021, 7, 16, 0, 0, tzinfo=tzutc()), 'ErrorNumber': '208.0', 'event_count': 27},\n {'EventTime': datetime.datetime(2021, 7, 16, 0, 0, tzinfo=tzutc()), 'ErrorNumber': '3902.0', 'event_count': 1}]",
                        "text/html": ""
                    },
                    "metadata": {}
                }
            ],
            "execution_count": 15
        },
        {
            "cell_type": "markdown",
            "source": [
                "## Find Deleted table"
            ],
            "metadata": {
                "azdata_cell_guid": "6d450c21-8628-459c-b8c1-c37c8aba8d6d"
            }
        },
        {
            "cell_type": "code",
            "source": [
                "%%kql \r\n",
                "AzureDiagnostics\r\n",
                "| where action_name_s in ('BATCH COMPLETED')\r\n",
                "| project TimeGenerated, Category, action_name_s, statement_s\r\n",
                "| where statement_s contains \"DROP TABLE\"\r\n",
                "| sort by TimeGenerated desc \r\n",
                "| take 10\r\n",
                "\r\n",
                ""
            ],
            "metadata": {
                "azdata_cell_guid": "3b6d232d-a2f4-441e-81f2-33ef59fdb4c6",
                "tags": []
            },
            "outputs": [
                {
                    "output_type": "display_data",
                    "data": {
                        "text/plain": "<IPython.core.display.HTML object>",
                        "text/html": "<html>\n        <head>\n            \n            \n        </head>\n        <body>\n            <div><p style=' padding: 10px; color: #3a87ad; background-color: #d9edf7; border-color: #bce9f1'>&nbsp;*&nbsp;myMonLog@loganalytics</p></div>\n        </body>\n        </html>"
                    },
                    "metadata": {}
                },
                {
                    "output_type": "display_data",
                    "data": {
                        "text/plain": "                     TimeGenerated                Category    action_name_s  \\\n0 2021-07-21 02:26:55.404000+00:00  SQLSecurityAuditEvents  BATCH COMPLETED   \n1 2021-07-21 02:26:55.404000+00:00  SQLSecurityAuditEvents  BATCH COMPLETED   \n2 2021-07-21 02:26:15.388000+00:00  SQLSecurityAuditEvents  BATCH COMPLETED   \n3 2021-07-21 02:26:15.388000+00:00  SQLSecurityAuditEvents  BATCH COMPLETED   \n4 2021-07-21 02:24:17.308000+00:00  SQLSecurityAuditEvents  BATCH COMPLETED   \n5 2021-07-21 02:24:17.308000+00:00  SQLSecurityAuditEvents  BATCH COMPLETED   \n6 2021-07-21 02:22:25.275000+00:00  SQLSecurityAuditEvents  BATCH COMPLETED   \n7 2021-07-21 02:22:25.275000+00:00  SQLSecurityAuditEvents  BATCH COMPLETED   \n8 2021-07-19 13:55:35.845000+00:00  SQLSecurityAuditEvents  BATCH COMPLETED   \n9 2021-07-19 13:55:35.845000+00:00  SQLSecurityAuditEvents  BATCH COMPLETED   \n\n                                         statement_s  \n0  DROP TABLE [dbo].[Person]\\r\\nDROP TABLE [dbo]....  \n1  DROP TABLE [dbo].[Person]\\r\\nDROP TABLE [dbo]....  \n2  DROP TABLE [dbo].[Person]\\r\\nDROP TABLE [dbo]....  \n3  DROP TABLE [dbo].[Person]\\r\\nDROP TABLE [dbo]....  \n4  DROP TABLE [dbo].[Person]\\r\\nDROP TABLE [dbo]....  \n5  DROP TABLE [dbo].[Person]\\r\\nDROP TABLE [dbo]....  \n6  DROP TABLE [dbo].[Person]\\r\\nDROP TABLE [dbo]....  \n7  DROP TABLE [dbo].[Person]\\r\\nDROP TABLE [dbo]....  \n8  DROP TABLE [dbo].[Person]\\r\\nDROP TABLE [dbo]....  \n9  DROP TABLE [dbo].[Person]\\r\\nDROP TABLE [dbo]....  ",
                        "text/html": "<div>\n<style scoped>\n    .dataframe tbody tr th:only-of-type {\n        vertical-align: middle;\n    }\n\n    .dataframe tbody tr th {\n        vertical-align: top;\n    }\n\n    .dataframe thead th {\n        text-align: right;\n    }\n</style>\n<table border=\"1\" class=\"dataframe\">\n  <thead>\n    <tr style=\"text-align: right;\">\n      <th></th>\n      <th>TimeGenerated</th>\n      <th>Category</th>\n      <th>action_name_s</th>\n      <th>statement_s</th>\n    </tr>\n  </thead>\n  <tbody>\n    <tr>\n      <th>0</th>\n      <td>2021-07-21 02:26:55.404000+00:00</td>\n      <td>SQLSecurityAuditEvents</td>\n      <td>BATCH COMPLETED</td>\n      <td>DROP TABLE [dbo].[Person]\\r\\nDROP TABLE [dbo]....</td>\n    </tr>\n    <tr>\n      <th>1</th>\n      <td>2021-07-21 02:26:55.404000+00:00</td>\n      <td>SQLSecurityAuditEvents</td>\n      <td>BATCH COMPLETED</td>\n      <td>DROP TABLE [dbo].[Person]\\r\\nDROP TABLE [dbo]....</td>\n    </tr>\n    <tr>\n      <th>2</th>\n      <td>2021-07-21 02:26:15.388000+00:00</td>\n      <td>SQLSecurityAuditEvents</td>\n      <td>BATCH COMPLETED</td>\n      <td>DROP TABLE [dbo].[Person]\\r\\nDROP TABLE [dbo]....</td>\n    </tr>\n    <tr>\n      <th>3</th>\n      <td>2021-07-21 02:26:15.388000+00:00</td>\n      <td>SQLSecurityAuditEvents</td>\n      <td>BATCH COMPLETED</td>\n      <td>DROP TABLE [dbo].[Person]\\r\\nDROP TABLE [dbo]....</td>\n    </tr>\n    <tr>\n      <th>4</th>\n      <td>2021-07-21 02:24:17.308000+00:00</td>\n      <td>SQLSecurityAuditEvents</td>\n      <td>BATCH COMPLETED</td>\n      <td>DROP TABLE [dbo].[Person]\\r\\nDROP TABLE [dbo]....</td>\n    </tr>\n    <tr>\n      <th>5</th>\n      <td>2021-07-21 02:24:17.308000+00:00</td>\n      <td>SQLSecurityAuditEvents</td>\n      <td>BATCH COMPLETED</td>\n      <td>DROP TABLE [dbo].[Person]\\r\\nDROP TABLE [dbo]....</td>\n    </tr>\n    <tr>\n      <th>6</th>\n      <td>2021-07-21 02:22:25.275000+00:00</td>\n      <td>SQLSecurityAuditEvents</td>\n      <td>BATCH COMPLETED</td>\n      <td>DROP TABLE [dbo].[Person]\\r\\nDROP TABLE [dbo]....</td>\n    </tr>\n    <tr>\n      <th>7</th>\n      <td>2021-07-21 02:22:25.275000+00:00</td>\n      <td>SQLSecurityAuditEvents</td>\n      <td>BATCH COMPLETED</td>\n      <td>DROP TABLE [dbo].[Person]\\r\\nDROP TABLE [dbo]....</td>\n    </tr>\n    <tr>\n      <th>8</th>\n      <td>2021-07-19 13:55:35.845000+00:00</td>\n      <td>SQLSecurityAuditEvents</td>\n      <td>BATCH COMPLETED</td>\n      <td>DROP TABLE [dbo].[Person]\\r\\nDROP TABLE [dbo]....</td>\n    </tr>\n    <tr>\n      <th>9</th>\n      <td>2021-07-19 13:55:35.845000+00:00</td>\n      <td>SQLSecurityAuditEvents</td>\n      <td>BATCH COMPLETED</td>\n      <td>DROP TABLE [dbo].[Person]\\r\\nDROP TABLE [dbo]....</td>\n    </tr>\n  </tbody>\n</table>\n</div>",
                        "application/vnd.dataresource+json": {
                            "schema": {
                                "fields": [
                                    {
                                        "name": "TimeGenerated",
                                        "type": "datetime",
                                        "tz": "UTC"
                                    },
                                    {
                                        "name": "Category",
                                        "type": "string"
                                    },
                                    {
                                        "name": "action_name_s",
                                        "type": "string"
                                    },
                                    {
                                        "name": "statement_s",
                                        "type": "string"
                                    }
                                ],
                                "kqmagic_version": "0.1.114.post2"
                            },
                            "data": [
                                {
                                    "TimeGenerated": "2021-07-21T02:26:55.404Z",
                                    "Category": "SQLSecurityAuditEvents",
                                    "action_name_s": "BATCH COMPLETED",
                                    "statement_s": "DROP TABLE [dbo].[Person]\r\nDROP TABLE [dbo].[PersonPhone]"
                                },
                                {
                                    "TimeGenerated": "2021-07-21T02:26:55.404Z",
                                    "Category": "SQLSecurityAuditEvents",
                                    "action_name_s": "BATCH COMPLETED",
                                    "statement_s": "DROP TABLE [dbo].[Person]\r\nDROP TABLE [dbo].[PersonPhone]"
                                },
                                {
                                    "TimeGenerated": "2021-07-21T02:26:15.388Z",
                                    "Category": "SQLSecurityAuditEvents",
                                    "action_name_s": "BATCH COMPLETED",
                                    "statement_s": "DROP TABLE [dbo].[Person]\r\nDROP TABLE [dbo].[PersonPhone]"
                                },
                                {
                                    "TimeGenerated": "2021-07-21T02:26:15.388Z",
                                    "Category": "SQLSecurityAuditEvents",
                                    "action_name_s": "BATCH COMPLETED",
                                    "statement_s": "DROP TABLE [dbo].[Person]\r\nDROP TABLE [dbo].[PersonPhone]"
                                },
                                {
                                    "TimeGenerated": "2021-07-21T02:24:17.308Z",
                                    "Category": "SQLSecurityAuditEvents",
                                    "action_name_s": "BATCH COMPLETED",
                                    "statement_s": "DROP TABLE [dbo].[Person]\r\nDROP TABLE [dbo].[PersonPhone]"
                                },
                                {
                                    "TimeGenerated": "2021-07-21T02:24:17.308Z",
                                    "Category": "SQLSecurityAuditEvents",
                                    "action_name_s": "BATCH COMPLETED",
                                    "statement_s": "DROP TABLE [dbo].[Person]\r\nDROP TABLE [dbo].[PersonPhone]"
                                },
                                {
                                    "TimeGenerated": "2021-07-21T02:22:25.275Z",
                                    "Category": "SQLSecurityAuditEvents",
                                    "action_name_s": "BATCH COMPLETED",
                                    "statement_s": "DROP TABLE [dbo].[Person]\r\nDROP TABLE [dbo].[PersonPhone]"
                                },
                                {
                                    "TimeGenerated": "2021-07-21T02:22:25.275Z",
                                    "Category": "SQLSecurityAuditEvents",
                                    "action_name_s": "BATCH COMPLETED",
                                    "statement_s": "DROP TABLE [dbo].[Person]\r\nDROP TABLE [dbo].[PersonPhone]"
                                },
                                {
                                    "TimeGenerated": "2021-07-19T13:55:35.845Z",
                                    "Category": "SQLSecurityAuditEvents",
                                    "action_name_s": "BATCH COMPLETED",
                                    "statement_s": "DROP TABLE [dbo].[Person]\r\nDROP TABLE [dbo].[PersonPhone]"
                                },
                                {
                                    "TimeGenerated": "2021-07-19T13:55:35.845Z",
                                    "Category": "SQLSecurityAuditEvents",
                                    "action_name_s": "BATCH COMPLETED",
                                    "statement_s": "DROP TABLE [dbo].[Person]\r\nDROP TABLE [dbo].[PersonPhone]"
                                }
                            ]
                        }
                    },
                    "metadata": {}
                },
                {
                    "output_type": "display_data",
                    "data": {
                        "text/plain": "<IPython.core.display.HTML object>",
                        "text/html": "<html>\n        <head>\n            \n            \n        </head>\n        <body>\n            <div><p style=' padding: 10px; color: #3a87ad; background-color: #d9edf7; border-color: #bce9f1'>Done&nbsp;(00:01.032):&nbsp;10&nbsp;records</p></div>\n        </body>\n        </html>"
                    },
                    "metadata": {}
                },
                {
                    "output_type": "execute_result",
                    "execution_count": 16,
                    "data": {
                        "text/plain": "[{'TimeGenerated': datetime.datetime(2021, 7, 21, 2, 26, 55, 404000, tzinfo=tzutc()), 'Category': 'SQLSecurityAuditEvents', 'action_name_s': 'BATCH COMPLETED', 'statement_s': 'DROP TABLE [dbo].[Person]\\r\\nDROP TABLE [dbo].[PersonPhone]'},\n {'TimeGenerated': datetime.datetime(2021, 7, 21, 2, 26, 55, 404000, tzinfo=tzutc()), 'Category': 'SQLSecurityAuditEvents', 'action_name_s': 'BATCH COMPLETED', 'statement_s': 'DROP TABLE [dbo].[Person]\\r\\nDROP TABLE [dbo].[PersonPhone]'},\n {'TimeGenerated': datetime.datetime(2021, 7, 21, 2, 26, 15, 388000, tzinfo=tzutc()), 'Category': 'SQLSecurityAuditEvents', 'action_name_s': 'BATCH COMPLETED', 'statement_s': 'DROP TABLE [dbo].[Person]\\r\\nDROP TABLE [dbo].[PersonPhone]'},\n {'TimeGenerated': datetime.datetime(2021, 7, 21, 2, 26, 15, 388000, tzinfo=tzutc()), 'Category': 'SQLSecurityAuditEvents', 'action_name_s': 'BATCH COMPLETED', 'statement_s': 'DROP TABLE [dbo].[Person]\\r\\nDROP TABLE [dbo].[PersonPhone]'},\n {'TimeGenerated': datetime.datetime(2021, 7, 21, 2, 24, 17, 308000, tzinfo=tzutc()), 'Category': 'SQLSecurityAuditEvents', 'action_name_s': 'BATCH COMPLETED', 'statement_s': 'DROP TABLE [dbo].[Person]\\r\\nDROP TABLE [dbo].[PersonPhone]'},\n {'TimeGenerated': datetime.datetime(2021, 7, 21, 2, 24, 17, 308000, tzinfo=tzutc()), 'Category': 'SQLSecurityAuditEvents', 'action_name_s': 'BATCH COMPLETED', 'statement_s': 'DROP TABLE [dbo].[Person]\\r\\nDROP TABLE [dbo].[PersonPhone]'},\n {'TimeGenerated': datetime.datetime(2021, 7, 21, 2, 22, 25, 275000, tzinfo=tzutc()), 'Category': 'SQLSecurityAuditEvents', 'action_name_s': 'BATCH COMPLETED', 'statement_s': 'DROP TABLE [dbo].[Person]\\r\\nDROP TABLE [dbo].[PersonPhone]'},\n {'TimeGenerated': datetime.datetime(2021, 7, 21, 2, 22, 25, 275000, tzinfo=tzutc()), 'Category': 'SQLSecurityAuditEvents', 'action_name_s': 'BATCH COMPLETED', 'statement_s': 'DROP TABLE [dbo].[Person]\\r\\nDROP TABLE [dbo].[PersonPhone]'},\n {'TimeGenerated': datetime.datetime(2021, 7, 19, 13, 55, 35, 845000, tzinfo=tzutc()), 'Category': 'SQLSecurityAuditEvents', 'action_name_s': 'BATCH COMPLETED', 'statement_s': 'DROP TABLE [dbo].[Person]\\r\\nDROP TABLE [dbo].[PersonPhone]'},\n {'TimeGenerated': datetime.datetime(2021, 7, 19, 13, 55, 35, 845000, tzinfo=tzutc()), 'Category': 'SQLSecurityAuditEvents', 'action_name_s': 'BATCH COMPLETED', 'statement_s': 'DROP TABLE [dbo].[Person]\\r\\nDROP TABLE [dbo].[PersonPhone]'}]",
                        "text/html": ""
                    },
                    "metadata": {}
                }
            ],
            "execution_count": 16
        }
    ]
}