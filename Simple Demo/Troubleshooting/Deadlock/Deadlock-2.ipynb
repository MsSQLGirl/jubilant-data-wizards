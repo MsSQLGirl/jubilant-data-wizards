{
    "metadata": {
        "kernelspec": {
            "name": "SQL",
            "display_name": "SQL",
            "language": "sql"
        },
        "language_info": {
            "name": "sql",
            "version": ""
        }
    },
    "nbformat_minor": 2,
    "nbformat": 4,
    "cells": [
        {
            "cell_type": "markdown",
            "source": [
                "# This is the second part of Deadlock simulation\r\n",
                "\r\n",
                "> **Note:** You'll need to have run [Deadlock-1.ipynb](./Deadlock-1.ipynb#step-2-start-deadlock-simulation) as part of this deadlock simluation before.\r\n",
                "\r\n",
                "## Step 3. Run this quickly after Step 2 is done"
            ],
            "metadata": {
                "azdata_cell_guid": "b57dad6d-77cf-4bb7-a104-0e5cae7a90dc"
            }
        },
        {
            "cell_type": "code",
            "source": [
                "\r\n",
                "BEGIN TRANSACTION\r\n",
                "\r\n",
                "UPDATE [Person] SET [FirstName] = 'Chris' WHERE [BusinessEntityID] = 1\r\n",
                "\r\n",
                "UPDATE [PersonPhone] SET PhoneNumber = '999-555-1212' WHERE [BusinessEntityID] = 1\r\n",
                "\r\n",
                "WAITFOR DELAY '00:00:03'\r\n",
                "\r\n",
                "ROLLBACK TRANSACTION\r\n",
                ""
            ],
            "metadata": {
                "azdata_cell_guid": "19ce1fd5-b95c-4a65-a2dc-546ad8e8f227"
            },
            "outputs": [],
            "execution_count": null
        }
    ]
}