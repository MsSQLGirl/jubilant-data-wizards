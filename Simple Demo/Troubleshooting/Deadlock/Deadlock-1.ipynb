{
    "metadata": {
        "kernelspec": {
            "name": "SQL",
            "display_name": "SQL",
            "language": "sql"
        },
        "language_info": {
            "name": "sql",
            "version": ""
        }
    },
    "nbformat_minor": 2,
    "nbformat": 4,
    "cells": [
        {
            "cell_type": "markdown",
            "source": [
                "# Simulating a deadlock in Azure SQL database\r\n",
                "\r\n",
                "Change Kernel to \"SQL\" and attach to an Azure SQL database. \r\n",
                "\r\n",
                "> **Note:** You'll need [Deadlock-2.ipynb](./Deadlock-2.ipynb) as part of this deadlock simluation.\r\n",
                "\r\n",
                "There are three steps:\r\n",
                "1. [Create tables used for deadlock simulation](#step-1-create-tables-used-for-deadlock-simulation)\r\n",
                "2. [Start deadlock simulation](#step-2-start-deadlock-simulation)\r\n",
                "3. In parallel, quickly start the code cell in [Deadlock-2.ipynb](./Deadlock-2.ipynb#step-3-run-this-quickly-after-step-2-is-done)\r\n",
                "4. [Clean up the tables](#step-4-clean-up-tables)\r\n",
                "\r\n",
                "\r\n",
                ""
            ],
            "metadata": {
                "azdata_cell_guid": "ec35dcc5-444e-4f5e-85b7-ced9a3e4e3f5"
            }
        },
        {
            "cell_type": "markdown",
            "source": [
                "## Step 1. Create tables used for deadlock simulation"
            ],
            "metadata": {
                "azdata_cell_guid": "bb860ada-c696-4961-9585-5748c32e566d"
            }
        },
        {
            "cell_type": "code",
            "source": [
                "-- ==================================\r\n",
                "-- Create the tables.\r\n",
                "-- ==================================\r\n",
                "\r\n",
                "CREATE TABLE [dbo].[Person](\r\n",
                "    [Id]                INT  IDENTITY(1,1)  NOT NULL,\r\n",
                "    [FirstName]         VARCHAR(20)         NOT NULL,\r\n",
                "    [BusinessEntityID]  INT                 NOT NULL,\r\n",
                "    CONSTRAINT [PK_Person] PRIMARY KEY CLUSTERED\r\n",
                "    (\r\n",
                "        [Id] ASC\r\n",
                "    )\r\n",
                ")\r\n",
                "\r\n",
                "CREATE TABLE [dbo].[PersonPhone](\r\n",
                "    [PhoneNumber]       VARCHAR(50) NOT NULL,\r\n",
                "    [BusinessEntityID]  INT         NOT NULL,\r\n",
                "    CONSTRAINT [PK_PersonPhone] PRIMARY KEY CLUSTERED\r\n",
                "    (\r\n",
                "        [PhoneNumber] ASC\r\n",
                "))\r\n",
                "\r\n",
                "-- ==================================\r\n",
                "-- Add some rows\r\n",
                "-- ==================================\r\n",
                "\r\n",
                "INSERT INTO [PersonPhone] VALUES ( '999-555-1212',1);\r\n",
                "INSERT INTO [Person] VALUES ( 'Chris',1);\r\n",
                "\r\n",
                "-- =================================="
            ],
            "metadata": {
                "azdata_cell_guid": "b107e24d-69fd-4489-ae5a-2c590fc90d75"
            },
            "outputs": [],
            "execution_count": null
        },
        {
            "cell_type": "markdown",
            "source": [
                "## Step 2. Start deadlock simulation\r\n",
                "> Quickly jump to [Deadlock-2.ipynb](./Deadlock-2.ipynb) and run it"
            ],
            "metadata": {
                "azdata_cell_guid": "48300021-4344-45d9-a2da-e5e89f013411"
            }
        },
        {
            "cell_type": "code",
            "source": [
                "SELECT GETDATE() AS [Query1Start] \r\n",
                "\r\n",
                "BEGIN TRANSACTION\r\n",
                "\r\n",
                "UPDATE [PersonPhone] SET PhoneNumber = '999-555-1212' WHERE [BusinessEntityID] = 1\r\n",
                "WAITFOR DELAY '00:00:05'\r\n",
                "UPDATE [Person] SET [FirstName] = 'Chris' WHERE [BusinessEntityID] = 1\r\n",
                "\r\n",
                "ROLLBACK TRANSACTION\r\n",
                "\r\n",
                "SELECT GETDATE() AS [Query1End] "
            ],
            "metadata": {
                "azdata_cell_guid": "b05efdce-ccad-444b-9990-21f70583aba7"
            },
            "outputs": [
                {
                    "output_type": "display_data",
                    "data": {
                        "text/html": "(1 row affected)"
                    },
                    "metadata": {}
                },
                {
                    "output_type": "display_data",
                    "data": {
                        "text/html": "(1 row affected)"
                    },
                    "metadata": {}
                },
                {
                    "output_type": "display_data",
                    "data": {
                        "text/html": "(1 row affected)"
                    },
                    "metadata": {}
                },
                {
                    "output_type": "display_data",
                    "data": {
                        "text/html": "(1 row affected)"
                    },
                    "metadata": {}
                },
                {
                    "output_type": "display_data",
                    "data": {
                        "text/html": "Total execution time: 00:00:07.656"
                    },
                    "metadata": {}
                },
                {
                    "output_type": "execute_result",
                    "execution_count": 3,
                    "data": {
                        "application/vnd.dataresource+json": {
                            "schema": {
                                "fields": [
                                    {
                                        "name": "Query1Start"
                                    }
                                ]
                            },
                            "data": [
                                {
                                    "0": "2021-01-31 23:17:03.573"
                                }
                            ]
                        },
                        "text/html": "<table><tr><th>Query1Start</th></tr><tr><td>2021-01-31 23:17:03.573</td></tr></table>"
                    },
                    "metadata": {
                        "resultSet": {
                            "id": 0,
                            "batchId": 0,
                            "rowCount": 1,
                            "complete": true,
                            "columnInfo": [
                                {
                                    "isBytes": false,
                                    "isChars": false,
                                    "isSqlVariant": false,
                                    "isUdt": false,
                                    "isXml": false,
                                    "isJson": false,
                                    "sqlDbType": 4,
                                    "isHierarchyId": false,
                                    "isSqlXmlType": false,
                                    "isUnknownType": false,
                                    "isUpdatable": false,
                                    "allowDBNull": false,
                                    "baseCatalogName": null,
                                    "baseColumnName": null,
                                    "baseSchemaName": null,
                                    "baseServerName": null,
                                    "baseTableName": null,
                                    "columnName": "Query1Start",
                                    "columnOrdinal": 0,
                                    "columnSize": 8,
                                    "isAliased": null,
                                    "isAutoIncrement": false,
                                    "isExpression": null,
                                    "isHidden": null,
                                    "isIdentity": false,
                                    "isKey": null,
                                    "isLong": false,
                                    "isReadOnly": true,
                                    "isUnique": false,
                                    "numericPrecision": 23,
                                    "numericScale": 3,
                                    "udtAssemblyQualifiedName": null,
                                    "dataType": "System.DateTime, System.Private.CoreLib, Version=4.0.0.0, Culture=neutral, PublicKeyToken=7cec85d7bea7798e",
                                    "dataTypeName": "datetime"
                                }
                            ],
                            "specialAction": {
                                "none": true,
                                "expectYukonXMLShowPlan": false
                            }
                        }
                    }
                },
                {
                    "output_type": "execute_result",
                    "execution_count": 3,
                    "data": {
                        "application/vnd.dataresource+json": {
                            "schema": {
                                "fields": [
                                    {
                                        "name": "Query1End"
                                    }
                                ]
                            },
                            "data": [
                                {
                                    "0": "2021-01-31 23:17:10.997"
                                }
                            ]
                        },
                        "text/html": "<table><tr><th>Query1End</th></tr><tr><td>2021-01-31 23:17:10.997</td></tr></table>"
                    },
                    "metadata": {
                        "resultSet": {
                            "id": 1,
                            "batchId": 0,
                            "rowCount": 1,
                            "complete": true,
                            "columnInfo": [
                                {
                                    "isBytes": false,
                                    "isChars": false,
                                    "isSqlVariant": false,
                                    "isUdt": false,
                                    "isXml": false,
                                    "isJson": false,
                                    "sqlDbType": 4,
                                    "isHierarchyId": false,
                                    "isSqlXmlType": false,
                                    "isUnknownType": false,
                                    "isUpdatable": false,
                                    "allowDBNull": false,
                                    "baseCatalogName": null,
                                    "baseColumnName": null,
                                    "baseSchemaName": null,
                                    "baseServerName": null,
                                    "baseTableName": null,
                                    "columnName": "Query1End",
                                    "columnOrdinal": 0,
                                    "columnSize": 8,
                                    "isAliased": null,
                                    "isAutoIncrement": false,
                                    "isExpression": null,
                                    "isHidden": null,
                                    "isIdentity": false,
                                    "isKey": null,
                                    "isLong": false,
                                    "isReadOnly": true,
                                    "isUnique": false,
                                    "numericPrecision": 23,
                                    "numericScale": 3,
                                    "udtAssemblyQualifiedName": null,
                                    "dataType": "System.DateTime, System.Private.CoreLib, Version=4.0.0.0, Culture=neutral, PublicKeyToken=7cec85d7bea7798e",
                                    "dataTypeName": "datetime"
                                }
                            ],
                            "specialAction": {
                                "none": true,
                                "expectYukonXMLShowPlan": false
                            }
                        }
                    }
                }
            ],
            "execution_count": 3
        },
        {
            "cell_type": "markdown",
            "source": [
                "## Step 4. Clean up tables"
            ],
            "metadata": {
                "azdata_cell_guid": "8a80c19b-54d9-4c3b-b8ba-5924d9fee30b"
            }
        },
        {
            "cell_type": "code",
            "source": [
                "DROP TABLE [dbo].[Person]\r\n",
                "DROP TABLE [dbo].[PersonPhone]"
            ],
            "metadata": {
                "azdata_cell_guid": "a68e2330-3682-4dfb-bce6-118611b1aee3"
            },
            "outputs": [],
            "execution_count": null
        }
    ]
}