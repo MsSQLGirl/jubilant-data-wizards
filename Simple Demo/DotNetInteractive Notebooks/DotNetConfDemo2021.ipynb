{
  "cells": [
    {
      "cell_type": "markdown",
      "metadata": {},
      "source": [
        "# Welcome to Polyglot .net interactive demo \n",
        "\n",
        "* Author: Julie Koesmarno [@MsSQLGirl](http://twitter.com/mssqlgirl) / [MsSQLGirl.com](http://MsSQLGirl.com), Alan Yu [@AlanYuSQL](http://twitter.com/AlanYuSQL)\n",
        "* Date last updated: Nov 9, 2021\n",
        "\n",
        "This is a demo notebook for \"What's the latest in .net interactive\" at Dot Net Conference 2021.\n",
        "\n",
        "Let's get the party started 🎉👩🏻‍💻👨🏻‍💻💻\n",
        "* Hello Data!\n",
        "* Let's talk..\n",
        "* We're back, the Sequel!"
      ]
    },
    {
      "cell_type": "markdown",
      "metadata": {},
      "source": [
        "# Setup\n",
        "\n",
        "* VSCode v1.62.1\n",
        "* VSCode extensions:\n",
        "    * .net Interactive extension v1.0.2559020\n",
        "    * Install Data Table extension v1.8.0\n",
        "    * Install Jupyter extension in VSCode v2021.10.1001414422\n",
        "* Nuget package: \n",
        "    * KQL 1.0.0-beta.21558.1\n",
        "    * SQL 1.0.0-beta.21559.2 \n",
        "\n",
        "<hr/>"
      ]
    },
    {
      "cell_type": "markdown",
      "metadata": {},
      "source": [
        "# KQL Demo\n",
        "\n",
        "Load the latest KQL Extension for .NET interactive (Version 1.0.0-beta.21558.1)"
      ]
    },
    {
      "cell_type": "code",
      "execution_count": null,
      "metadata": {
        "dotnet_interactive": {
          "language": "csharp"
        }
      },
      "outputs": [
        {
          "data": {
            "text/html": [
              "<div><div></div><div></div><div><strong>Installed Packages</strong><ul><li><span>Microsoft.DotNet.Interactive.Kql, 1.0.0-beta.21558.1</span></li></ul></div></div>"
            ]
          },
          "metadata": {},
          "output_type": "display_data"
        },
        {
          "data": {
            "text/markdown": [
              "Loading extensions from `Microsoft.DotNet.Interactive.Kql.dll`"
            ]
          },
          "metadata": {},
          "output_type": "display_data"
        },
        {
          "data": {
            "text/html": [
              "<details><summary>Query Microsoft Kusto Server databases.</summary>\r\n",
              "    <p>This extension adds support for connecting to Microsoft Kusto Server databases using the <code>#!connect kql</code> magic command. For more information, run a cell using the <code>#!kql</code> magic command.</p>\r\n",
              "    </details>"
            ]
          },
          "metadata": {},
          "output_type": "display_data"
        }
      ],
      "source": [
        "#r \"nuget:Microsoft.DotNet.Interactive.Kql, 1.0.0-beta.21558.1\" "
      ]
    },
    {
      "cell_type": "markdown",
      "metadata": {},
      "source": [
        "## Connect to ADX cluster\n",
        "\n",
        "Connecting to Samples database. "
      ]
    },
    {
      "cell_type": "code",
      "execution_count": null,
      "metadata": {
        "dotnet_interactive": {
          "language": "kql"
        }
      },
      "outputs": [
        {
          "data": {
            "text/plain": [
              "Kernel added: #!kql-KustoHelp"
            ]
          },
          "metadata": {},
          "output_type": "display_data"
        }
      ],
      "source": [
        "#!connect kql --kernel-name KustoHelp --cluster \"https://help.kusto.windows.net\" --database \"Samples\""
      ]
    },
    {
      "cell_type": "markdown",
      "metadata": {},
      "source": [
        "## Analyze StormEvents data"
      ]
    },
    {
      "cell_type": "code",
      "execution_count": null,
      "metadata": {
        "dotnet_interactive": {
          "language": "kql"
        }
      },
      "outputs": [],
      "source": [
        "#!kql-KustoHelp --name weatherData\n",
        "StormEvents \n",
        "| summarize count() by bin(StartTime, 1d), State\n",
        "| limit 10\n"
      ]
    },
    {
      "cell_type": "markdown",
      "metadata": {},
      "source": [
        "## Share KQL data to C# \n",
        "\n",
        "weatherData shows as TabularDataResource type in C#"
      ]
    },
    {
      "cell_type": "code",
      "execution_count": null,
      "metadata": {
        "dotnet_interactive": {
          "language": "csharp"
        }
      },
      "outputs": [],
      "source": [
        "#!share --from kql-KustoHelp weatherData\n",
        "weatherData[0].Display();\n",
        "// weatherData[0].GetType().Display();"
      ]
    },
    {
      "cell_type": "code",
      "execution_count": null,
      "metadata": {
        "dotnet_interactive": {
          "language": "kql"
        }
      },
      "outputs": [],
      "source": [
        "#!kql-KustoHelp\n",
        "StormEvents \n",
        "| summarize EventCount = count() by EventType, State, MonthNumber = getmonth(StartTime)\n",
        "| where EventType in (\"Hail\", \"Flash Flood\", \"Drought\", \"Winter Weather\", \"Winter Storm\")\n",
        "| where State in (\"WASHINGTON\", \"CALIFORNIA\", \"TEXAS\")\n",
        "\n"
      ]
    },
    {
      "cell_type": "markdown",
      "metadata": {},
      "source": [
        "# Let's try conneting to SQL Server!"
      ]
    },
    {
      "cell_type": "code",
      "execution_count": null,
      "metadata": {
        "dotnet_interactive": {
          "language": "csharp"
        }
      },
      "outputs": [
        {
          "data": {
            "text/html": [
              "<div><div></div><div></div><div><strong>Installed Packages</strong><ul><li><span>Microsoft.DotNet.Interactive.SqlServer, 1.0.0-beta.21559.2</span></li></ul></div></div>"
            ]
          },
          "metadata": {},
          "output_type": "display_data"
        },
        {
          "data": {
            "text/markdown": [
              "Loading extensions from `Microsoft.DotNet.Interactive.SqlServer.dll`"
            ]
          },
          "metadata": {},
          "output_type": "display_data"
        },
        {
          "data": {
            "text/html": [
              "<details><summary>Query Microsoft SQL Server databases.</summary>\r\n",
              "    <p>This extension adds support for connecting to Microsoft SQL Server databases using the <code>#!connect mssql</code> magic command. For more information, run a cell using the <code>#!sql</code> magic command.</p>\r\n",
              "    </details>"
            ]
          },
          "metadata": {},
          "output_type": "display_data"
        }
      ],
      "source": [
        "#r \"nuget:Microsoft.DotNet.Interactive.SqlServer, *-*\""
      ]
    },
    {
      "cell_type": "code",
      "execution_count": null,
      "metadata": {
        "dotnet_interactive": {
          "language": "csharp"
        }
      },
      "outputs": [],
      "source": [
        "#!connect mssql -h"
      ]
    },
    {
      "cell_type": "markdown",
      "metadata": {},
      "source": [
        "## Connect to a SQL Server instance"
      ]
    },
    {
      "cell_type": "code",
      "execution_count": null,
      "metadata": {
        "dotnet_interactive": {
          "language": "csharp"
        }
      },
      "outputs": [],
      "source": [
        "#!connect mssql --kernel-name retailData \"Server=SQLTOOLS2019-3;Database=keep_WideWorldImporters;Trusted_Connection=Yes;\""
      ]
    },
    {
      "cell_type": "code",
      "execution_count": null,
      "metadata": {
        "dotnet_interactive": {
          "language": "csharp"
        }
      },
      "outputs": [],
      "source": [
        "#!sql-retailData\n",
        "\n",
        "SELECT TOP 10\n",
        "     i.InvoiceDate\n",
        "    ,i.InvoiceID\n",
        "    ,si.StockItemName\n",
        "    ,gr.StockGroupName\n",
        "    ,il.ExtendedPrice AS Revenue\n",
        "    ,il.LineProfit AS Profit\n",
        "    ,il.Quantity\n",
        "    ,il.LineProfit * 100.0 / il.ExtendedPrice AS [Margin%]    \n",
        "FROM Sales.InvoiceLines il\n",
        "    INNER JOIN Sales.Invoices i\n",
        "        ON i.InvoiceID = il.InvoiceID\n",
        "    INNER JOIN Warehouse.StockItems_Archive si\n",
        "        ON si.StockItemID = il.StockItemID \n",
        "        AND i.InvoiceDate BETWEEN si.ValidFrom AND si.ValidTo    \n",
        "    INNER JOIN Warehouse.StockItemStockGroups sg\n",
        "        ON sg.StockItemID = si.StockItemID        \n",
        "    INNER JOIN Warehouse.StockGroups gr\n",
        "        ON gr.StockGroupID = sg.StockGroupID\n",
        "        AND i.InvoiceDate BETWEEN gr.ValidFrom AND gr.ValidTo\n",
        "WHERE i.InvoiceDate >= '20160101'\n",
        "AND  i.InvoiceDate < '20160201'\n",
        "ORDER BY i.InvoiceID, i.InvoiceDate, si.StockItemName"
      ]
    },
    {
      "cell_type": "markdown",
      "metadata": {},
      "source": [
        "## Interactive experience in .net interactive\n",
        "\n",
        "Get input from users (in C#)"
      ]
    },
    {
      "cell_type": "code",
      "execution_count": null,
      "metadata": {
        "dotnet_interactive": {
          "language": "csharp"
        }
      },
      "outputs": [],
      "source": [
        "var inputStockGroup = await GetInputAsync();\n",
        "System.Console.WriteLine(inputStockGroup);\n"
      ]
    },
    {
      "cell_type": "markdown",
      "metadata": {},
      "source": [
        "Pass the input parameter from C# to SQL!"
      ]
    },
    {
      "cell_type": "code",
      "execution_count": null,
      "metadata": {
        "dotnet_interactive": {
          "language": "sql"
        }
      },
      "outputs": [],
      "source": [
        "#!sql-retailData\n",
        "#!share --from csharp inputStockGroup\n",
        "\n",
        "SELECT \n",
        "     gr.StockGroupName\n",
        "    ,SUM(il.Quantity) AS TotalQuantity\n",
        "    ,SUM(il.LineProfit) * 100.0 / SUM(il.ExtendedPrice) AS [Margin%]    \n",
        "FROM Sales.InvoiceLines il\n",
        "    INNER JOIN Sales.Invoices i\n",
        "        ON i.InvoiceID = il.InvoiceID\n",
        "    INNER JOIN Warehouse.StockItems_Archive si\n",
        "        ON si.StockItemID = il.StockItemID \n",
        "        AND i.InvoiceDate BETWEEN si.ValidFrom AND si.ValidTo    \n",
        "    INNER JOIN Warehouse.StockItemStockGroups sg\n",
        "        ON sg.StockItemID = si.StockItemID        \n",
        "    INNER JOIN Warehouse.StockGroups gr\n",
        "        ON gr.StockGroupID = sg.StockGroupID\n",
        "        AND i.InvoiceDate BETWEEN gr.ValidFrom AND gr.ValidTo\n",
        "WHERE gr.StockGroupName = @inputStockGroup\n",
        "GROUP BY gr.StockGroupName\n"
      ]
    }
  ],
  "metadata": {
    "kernelspec": {
      "display_name": ".NET (C#)",
      "language": "C#",
      "name": ".net-csharp"
    },
    "language_info": {
      "file_extension": ".cs",
      "mimetype": "text/x-csharp",
      "name": "C#",
      "pygments_lexer": "csharp",
      "version": "8.0"
    }
  },
  "nbformat": 4,
  "nbformat_minor": 4
}
