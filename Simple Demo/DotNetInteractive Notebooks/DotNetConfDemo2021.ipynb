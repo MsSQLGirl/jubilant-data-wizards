{
  "cells": [
    {
      "cell_type": "markdown",
      "metadata": {},
      "source": [
        "# Welcome to Polyglot .net interactive demo \n",
        "\n",
        "* Author: Julie Koesmarno [@MsSQLGirl](http://twitter.com/mssqlgirl) / [MsSQLGirl.com](http://MsSQLGirl.com), Alan Yu [@AlanYuSQL](http://twitter.com/AlanYuSQL)\n",
        "* Date last updated: Nov 9, 2021\n",
        "\n",
        "This notebook is used to demo what's the latest in .net interactive in Jupyter Notebooks. "
      ]
    },
    {
      "cell_type": "markdown",
      "metadata": {},
      "source": [
        "# Setup\n",
        "\n",
        "* Install .net Interactive extension in VSCode\n",
        "* Install Data Table extension in VSCode\n",
        "* Install Jupyter extension in VSCode"
      ]
    },
    {
      "cell_type": "markdown",
      "metadata": {},
      "source": [
        "# KQL Demo\n",
        "\n",
        "Load the latest KQL Extension for .NET interactive (Version 1.0.0-beta.21477.2)"
      ]
    },
    {
      "cell_type": "code",
      "execution_count": null,
      "metadata": {
        "dotnet_interactive": {
          "language": "csharp"
        }
      },
      "outputs": [
        {
          "data": {
            "text/html": [
              "<div><div></div><div></div><div><strong>Installed Packages</strong><ul><li><span>Microsoft.DotNet.Interactive.Kql, 1.0.0-beta.21558.1</span></li></ul></div></div>"
            ]
          },
          "metadata": {},
          "output_type": "display_data"
        },
        {
          "data": {
            "text/markdown": [
              "Loading extensions from `Microsoft.DotNet.Interactive.Kql.dll`"
            ]
          },
          "metadata": {},
          "output_type": "display_data"
        },
        {
          "data": {
            "text/html": [
              "<details><summary>Query Microsoft Kusto Server databases.</summary>\r\n",
              "    <p>This extension adds support for connecting to Microsoft Kusto Server databases using the <code>#!connect kql</code> magic command. For more information, run a cell using the <code>#!kql</code> magic command.</p>\r\n",
              "    </details>"
            ]
          },
          "metadata": {},
          "output_type": "display_data"
        }
      ],
      "source": [
        "#r \"nuget:Microsoft.DotNet.Interactive.Kql, 1.0.0-beta.21558.1\" "
      ]
    },
    {
      "cell_type": "markdown",
      "metadata": {},
      "source": [
        "## Connect to ADX cluster\n",
        "\n",
        "Connecting to Samples database. "
      ]
    },
    {
      "cell_type": "code",
      "execution_count": null,
      "metadata": {
        "dotnet_interactive": {
          "language": "kql"
        }
      },
      "outputs": [
        {
          "data": {
            "text/plain": [
              "Kernel added: #!kql-KustoHelp"
            ]
          },
          "metadata": {},
          "output_type": "display_data"
        }
      ],
      "source": [
        "#!connect kql --kernel-name KustoHelp --cluster \"https://help.kusto.windows.net\" --database \"Samples\""
      ]
    },
    {
      "cell_type": "markdown",
      "metadata": {},
      "source": [
        "## Analyze StormEvents data"
      ]
    },
    {
      "cell_type": "code",
      "execution_count": null,
      "metadata": {
        "dotnet_interactive": {
          "language": "kql"
        }
      },
      "outputs": [
        {
          "data": {
            "text/plain": [
              "Commands completed successfully."
            ]
          },
          "metadata": {},
          "output_type": "display_data"
        },
        {
          "data": {
            "text/csv": [
              "StartTime,State,count_\r\n",
              "2007-09-29T00:00:00.0000000,ATLANTIC SOUTH,2\r\n",
              "2007-09-18T00:00:00.0000000,FLORIDA,1\r\n",
              "2007-09-20T00:00:00.0000000,FLORIDA,14\r\n",
              "2007-12-30T00:00:00.0000000,GEORGIA,2\r\n",
              "2007-12-20T00:00:00.0000000,MISSISSIPPI,14\r\n",
              "2007-12-28T00:00:00.0000000,MISSISSIPPI,21\r\n",
              "2007-12-07T00:00:00.0000000,AMERICAN SAMOA,1\r\n",
              "2007-12-13T00:00:00.0000000,KENTUCKY,14\r\n",
              "2007-12-23T00:00:00.0000000,OHIO,37\r\n",
              "2007-12-11T00:00:00.0000000,KANSAS,5\r\n"
            ],
            "text/html": [
              "<table><thead><tr><td><span>StartTime</span></td><td><span>State</span></td><td><span>count_</span></td></tr></thead><tbody><tr><td><span>2007-09-29 00:00:00Z</span></td><td>ATLANTIC SOUTH</td><td><div class=\"dni-plaintext\">2</div></td></tr><tr><td><span>2007-09-18 00:00:00Z</span></td><td>FLORIDA</td><td><div class=\"dni-plaintext\">1</div></td></tr><tr><td><span>2007-09-20 00:00:00Z</span></td><td>FLORIDA</td><td><div class=\"dni-plaintext\">14</div></td></tr><tr><td><span>2007-12-30 00:00:00Z</span></td><td>GEORGIA</td><td><div class=\"dni-plaintext\">2</div></td></tr><tr><td><span>2007-12-20 00:00:00Z</span></td><td>MISSISSIPPI</td><td><div class=\"dni-plaintext\">14</div></td></tr><tr><td><span>2007-12-28 00:00:00Z</span></td><td>MISSISSIPPI</td><td><div class=\"dni-plaintext\">21</div></td></tr><tr><td><span>2007-12-07 00:00:00Z</span></td><td>AMERICAN SAMOA</td><td><div class=\"dni-plaintext\">1</div></td></tr><tr><td><span>2007-12-13 00:00:00Z</span></td><td>KENTUCKY</td><td><div class=\"dni-plaintext\">14</div></td></tr><tr><td><span>2007-12-23 00:00:00Z</span></td><td>OHIO</td><td><div class=\"dni-plaintext\">37</div></td></tr><tr><td><span>2007-12-11 00:00:00Z</span></td><td>KANSAS</td><td><div class=\"dni-plaintext\">5</div></td></tr></tbody></table>"
            ]
          },
          "metadata": {},
          "output_type": "display_data"
        }
      ],
      "source": [
        "#!kql-KustoHelp --name myData\n",
        "StormEvents \n",
        "| summarize count() by bin(StartTime, 1d), State\n",
        "| limit 10\n"
      ]
    },
    {
      "cell_type": "markdown",
      "metadata": {},
      "source": [
        "myData shows as TabularDataResource type in C#"
      ]
    },
    {
      "cell_type": "code",
      "execution_count": null,
      "metadata": {
        "dotnet_interactive": {
          "language": "csharp"
        }
      },
      "outputs": [
        {
          "data": {
            "text/html": [
              "<span><a href=\"https://docs.microsoft.com/dotnet/api/microsoft.dotnet.interactive.formatting.tabulardata.tabulardataresource?view=net-5.0\">Microsoft.DotNet.Interactive.Formatting.TabularData.TabularDataResource</a></span>"
            ]
          },
          "metadata": {},
          "output_type": "display_data"
        }
      ],
      "source": [
        "#!share --from kql-KustoHelp myData\n",
        "// myData[0].Display();\n",
        "myData[0].GetType().Display();"
      ]
    },
    {
      "cell_type": "code",
      "execution_count": null,
      "metadata": {
        "dotnet_interactive": {
          "language": "kql"
        }
      },
      "outputs": [
        {
          "data": {
            "text/plain": [
              "Commands completed successfully."
            ]
          },
          "metadata": {},
          "output_type": "display_data"
        },
        {
          "data": {
            "text/csv": [
              "EventType,State,MonthNumber,EventCount\r\n",
              "Flash Flood,CALIFORNIA,12,2\r\n",
              "Hail,TEXAS,12,6\r\n",
              "Flash Flood,TEXAS,1,41\r\n",
              "Hail,TEXAS,2,8\r\n",
              "Hail,CALIFORNIA,8,3\r\n",
              "Flash Flood,TEXAS,8,89\r\n",
              "Flash Flood,CALIFORNIA,8,12\r\n",
              "Hail,CALIFORNIA,2,2\r\n",
              "Flash Flood,TEXAS,6,220\r\n",
              "Hail,TEXAS,6,253\r\n",
              "Flash Flood,TEXAS,3,156\r\n",
              "Hail,TEXAS,3,266\r\n",
              "Flash Flood,TEXAS,2,4\r\n",
              "Hail,TEXAS,4,293\r\n",
              "Hail,WASHINGTON,3,1\r\n",
              "Flash Flood,TEXAS,4,43\r\n",
              "Hail,TEXAS,5,357\r\n",
              "Hail,TEXAS,8,27\r\n",
              "Flash Flood,TEXAS,5,247\r\n",
              "Hail,WASHINGTON,5,1\r\n",
              "Hail,TEXAS,7,21\r\n",
              "Flash Flood,TEXAS,7,335\r\n",
              "Hail,WASHINGTON,6,3\r\n",
              "Hail,CALIFORNIA,7,2\r\n",
              "Flash Flood,CALIFORNIA,7,5\r\n",
              "Hail,WASHINGTON,8,3\r\n",
              "Flash Flood,CALIFORNIA,9,17\r\n",
              "Hail,CALIFORNIA,10,11\r\n",
              "Hail,TEXAS,10,54\r\n",
              "Flash Flood,CALIFORNIA,10,3\r\n",
              "Flash Flood,TEXAS,9,46\r\n",
              "Hail,CALIFORNIA,9,3\r\n",
              "Hail,WASHINGTON,10,1\r\n",
              "Hail,TEXAS,9,33\r\n",
              "Flash Flood,TEXAS,10,11\r\n",
              "Hail,TEXAS,11,8\r\n",
              "Flash Flood,TEXAS,12,1\r\n",
              "Flash Flood,TEXAS,11,6\r\n",
              "Flash Flood,CALIFORNIA,11,2\r\n",
              "Winter Storm,TEXAS,1,53\r\n",
              "Winter Weather,TEXAS,1,56\r\n",
              "Winter Weather,WASHINGTON,1,4\r\n",
              "Winter Weather,WASHINGTON,12,2\r\n",
              "Winter Weather,TEXAS,12,27\r\n",
              "Winter Weather,TEXAS,2,41\r\n",
              "Drought,TEXAS,1,27\r\n",
              "Winter Storm,CALIFORNIA,1,1\r\n",
              "Winter Weather,CALIFORNIA,1,2\r\n",
              "Winter Storm,CALIFORNIA,2,8\r\n",
              "Drought,TEXAS,2,20\r\n",
              "Winter Storm,WASHINGTON,1,1\r\n",
              "Winter Weather,WASHINGTON,2,2\r\n",
              "Winter Storm,CALIFORNIA,3,1\r\n",
              "Winter Weather,TEXAS,4,33\r\n",
              "Drought,TEXAS,3,15\r\n",
              "Winter Weather,WASHINGTON,5,2\r\n",
              "Winter Storm,TEXAS,4,16\r\n",
              "Drought,CALIFORNIA,6,11\r\n",
              "Drought,CALIFORNIA,7,11\r\n",
              "Drought,CALIFORNIA,10,11\r\n",
              "Drought,CALIFORNIA,8,11\r\n",
              "Drought,CALIFORNIA,9,11\r\n",
              "Winter Weather,CALIFORNIA,9,2\r\n",
              "Winter Storm,TEXAS,12,6\r\n",
              "Drought,CALIFORNIA,12,11\r\n",
              "Winter Storm,WASHINGTON,12,1\r\n",
              "Winter Weather,TEXAS,11,19\r\n",
              "Drought,CALIFORNIA,11,11\r\n",
              "Winter Weather,CALIFORNIA,12,2\r\n",
              "Winter Storm,CALIFORNIA,12,4\r\n",
              "Winter Weather,CALIFORNIA,11,1\r\n"
            ],
            "text/html": [
              "<table><thead><tr><td><span>EventType</span></td><td><span>State</span></td><td><span>MonthNumber</span></td><td><span>EventCount</span></td></tr></thead><tbody><tr><td>Flash Flood</td><td>CALIFORNIA</td><td><div class=\"dni-plaintext\">12</div></td><td><div class=\"dni-plaintext\">2</div></td></tr><tr><td>Hail</td><td>TEXAS</td><td><div class=\"dni-plaintext\">12</div></td><td><div class=\"dni-plaintext\">6</div></td></tr><tr><td>Flash Flood</td><td>TEXAS</td><td><div class=\"dni-plaintext\">1</div></td><td><div class=\"dni-plaintext\">41</div></td></tr><tr><td>Hail</td><td>TEXAS</td><td><div class=\"dni-plaintext\">2</div></td><td><div class=\"dni-plaintext\">8</div></td></tr><tr><td>Hail</td><td>CALIFORNIA</td><td><div class=\"dni-plaintext\">8</div></td><td><div class=\"dni-plaintext\">3</div></td></tr><tr><td>Flash Flood</td><td>TEXAS</td><td><div class=\"dni-plaintext\">8</div></td><td><div class=\"dni-plaintext\">89</div></td></tr><tr><td>Flash Flood</td><td>CALIFORNIA</td><td><div class=\"dni-plaintext\">8</div></td><td><div class=\"dni-plaintext\">12</div></td></tr><tr><td>Hail</td><td>CALIFORNIA</td><td><div class=\"dni-plaintext\">2</div></td><td><div class=\"dni-plaintext\">2</div></td></tr><tr><td>Flash Flood</td><td>TEXAS</td><td><div class=\"dni-plaintext\">6</div></td><td><div class=\"dni-plaintext\">220</div></td></tr><tr><td>Hail</td><td>TEXAS</td><td><div class=\"dni-plaintext\">6</div></td><td><div class=\"dni-plaintext\">253</div></td></tr><tr><td>Flash Flood</td><td>TEXAS</td><td><div class=\"dni-plaintext\">3</div></td><td><div class=\"dni-plaintext\">156</div></td></tr><tr><td>Hail</td><td>TEXAS</td><td><div class=\"dni-plaintext\">3</div></td><td><div class=\"dni-plaintext\">266</div></td></tr><tr><td>Flash Flood</td><td>TEXAS</td><td><div class=\"dni-plaintext\">2</div></td><td><div class=\"dni-plaintext\">4</div></td></tr><tr><td>Hail</td><td>TEXAS</td><td><div class=\"dni-plaintext\">4</div></td><td><div class=\"dni-plaintext\">293</div></td></tr><tr><td>Hail</td><td>WASHINGTON</td><td><div class=\"dni-plaintext\">3</div></td><td><div class=\"dni-plaintext\">1</div></td></tr><tr><td>Flash Flood</td><td>TEXAS</td><td><div class=\"dni-plaintext\">4</div></td><td><div class=\"dni-plaintext\">43</div></td></tr><tr><td>Hail</td><td>TEXAS</td><td><div class=\"dni-plaintext\">5</div></td><td><div class=\"dni-plaintext\">357</div></td></tr><tr><td>Hail</td><td>TEXAS</td><td><div class=\"dni-plaintext\">8</div></td><td><div class=\"dni-plaintext\">27</div></td></tr><tr><td>Flash Flood</td><td>TEXAS</td><td><div class=\"dni-plaintext\">5</div></td><td><div class=\"dni-plaintext\">247</div></td></tr><tr><td>Hail</td><td>WASHINGTON</td><td><div class=\"dni-plaintext\">5</div></td><td><div class=\"dni-plaintext\">1</div></td></tr><tr><td>Hail</td><td>TEXAS</td><td><div class=\"dni-plaintext\">7</div></td><td><div class=\"dni-plaintext\">21</div></td></tr><tr><td>Flash Flood</td><td>TEXAS</td><td><div class=\"dni-plaintext\">7</div></td><td><div class=\"dni-plaintext\">335</div></td></tr><tr><td>Hail</td><td>WASHINGTON</td><td><div class=\"dni-plaintext\">6</div></td><td><div class=\"dni-plaintext\">3</div></td></tr><tr><td>Hail</td><td>CALIFORNIA</td><td><div class=\"dni-plaintext\">7</div></td><td><div class=\"dni-plaintext\">2</div></td></tr><tr><td>Flash Flood</td><td>CALIFORNIA</td><td><div class=\"dni-plaintext\">7</div></td><td><div class=\"dni-plaintext\">5</div></td></tr><tr><td>Hail</td><td>WASHINGTON</td><td><div class=\"dni-plaintext\">8</div></td><td><div class=\"dni-plaintext\">3</div></td></tr><tr><td>Flash Flood</td><td>CALIFORNIA</td><td><div class=\"dni-plaintext\">9</div></td><td><div class=\"dni-plaintext\">17</div></td></tr><tr><td>Hail</td><td>CALIFORNIA</td><td><div class=\"dni-plaintext\">10</div></td><td><div class=\"dni-plaintext\">11</div></td></tr><tr><td>Hail</td><td>TEXAS</td><td><div class=\"dni-plaintext\">10</div></td><td><div class=\"dni-plaintext\">54</div></td></tr><tr><td>Flash Flood</td><td>CALIFORNIA</td><td><div class=\"dni-plaintext\">10</div></td><td><div class=\"dni-plaintext\">3</div></td></tr><tr><td>Flash Flood</td><td>TEXAS</td><td><div class=\"dni-plaintext\">9</div></td><td><div class=\"dni-plaintext\">46</div></td></tr><tr><td>Hail</td><td>CALIFORNIA</td><td><div class=\"dni-plaintext\">9</div></td><td><div class=\"dni-plaintext\">3</div></td></tr><tr><td>Hail</td><td>WASHINGTON</td><td><div class=\"dni-plaintext\">10</div></td><td><div class=\"dni-plaintext\">1</div></td></tr><tr><td>Hail</td><td>TEXAS</td><td><div class=\"dni-plaintext\">9</div></td><td><div class=\"dni-plaintext\">33</div></td></tr><tr><td>Flash Flood</td><td>TEXAS</td><td><div class=\"dni-plaintext\">10</div></td><td><div class=\"dni-plaintext\">11</div></td></tr><tr><td>Hail</td><td>TEXAS</td><td><div class=\"dni-plaintext\">11</div></td><td><div class=\"dni-plaintext\">8</div></td></tr><tr><td>Flash Flood</td><td>TEXAS</td><td><div class=\"dni-plaintext\">12</div></td><td><div class=\"dni-plaintext\">1</div></td></tr><tr><td>Flash Flood</td><td>TEXAS</td><td><div class=\"dni-plaintext\">11</div></td><td><div class=\"dni-plaintext\">6</div></td></tr><tr><td>Flash Flood</td><td>CALIFORNIA</td><td><div class=\"dni-plaintext\">11</div></td><td><div class=\"dni-plaintext\">2</div></td></tr><tr><td>Winter Storm</td><td>TEXAS</td><td><div class=\"dni-plaintext\">1</div></td><td><div class=\"dni-plaintext\">53</div></td></tr><tr><td>Winter Weather</td><td>TEXAS</td><td><div class=\"dni-plaintext\">1</div></td><td><div class=\"dni-plaintext\">56</div></td></tr><tr><td>Winter Weather</td><td>WASHINGTON</td><td><div class=\"dni-plaintext\">1</div></td><td><div class=\"dni-plaintext\">4</div></td></tr><tr><td>Winter Weather</td><td>WASHINGTON</td><td><div class=\"dni-plaintext\">12</div></td><td><div class=\"dni-plaintext\">2</div></td></tr><tr><td>Winter Weather</td><td>TEXAS</td><td><div class=\"dni-plaintext\">12</div></td><td><div class=\"dni-plaintext\">27</div></td></tr><tr><td>Winter Weather</td><td>TEXAS</td><td><div class=\"dni-plaintext\">2</div></td><td><div class=\"dni-plaintext\">41</div></td></tr><tr><td>Drought</td><td>TEXAS</td><td><div class=\"dni-plaintext\">1</div></td><td><div class=\"dni-plaintext\">27</div></td></tr><tr><td>Winter Storm</td><td>CALIFORNIA</td><td><div class=\"dni-plaintext\">1</div></td><td><div class=\"dni-plaintext\">1</div></td></tr><tr><td>Winter Weather</td><td>CALIFORNIA</td><td><div class=\"dni-plaintext\">1</div></td><td><div class=\"dni-plaintext\">2</div></td></tr><tr><td>Winter Storm</td><td>CALIFORNIA</td><td><div class=\"dni-plaintext\">2</div></td><td><div class=\"dni-plaintext\">8</div></td></tr><tr><td>Drought</td><td>TEXAS</td><td><div class=\"dni-plaintext\">2</div></td><td><div class=\"dni-plaintext\">20</div></td></tr><tr><td>Winter Storm</td><td>WASHINGTON</td><td><div class=\"dni-plaintext\">1</div></td><td><div class=\"dni-plaintext\">1</div></td></tr><tr><td>Winter Weather</td><td>WASHINGTON</td><td><div class=\"dni-plaintext\">2</div></td><td><div class=\"dni-plaintext\">2</div></td></tr><tr><td>Winter Storm</td><td>CALIFORNIA</td><td><div class=\"dni-plaintext\">3</div></td><td><div class=\"dni-plaintext\">1</div></td></tr><tr><td>Winter Weather</td><td>TEXAS</td><td><div class=\"dni-plaintext\">4</div></td><td><div class=\"dni-plaintext\">33</div></td></tr><tr><td>Drought</td><td>TEXAS</td><td><div class=\"dni-plaintext\">3</div></td><td><div class=\"dni-plaintext\">15</div></td></tr><tr><td>Winter Weather</td><td>WASHINGTON</td><td><div class=\"dni-plaintext\">5</div></td><td><div class=\"dni-plaintext\">2</div></td></tr><tr><td>Winter Storm</td><td>TEXAS</td><td><div class=\"dni-plaintext\">4</div></td><td><div class=\"dni-plaintext\">16</div></td></tr><tr><td>Drought</td><td>CALIFORNIA</td><td><div class=\"dni-plaintext\">6</div></td><td><div class=\"dni-plaintext\">11</div></td></tr><tr><td>Drought</td><td>CALIFORNIA</td><td><div class=\"dni-plaintext\">7</div></td><td><div class=\"dni-plaintext\">11</div></td></tr><tr><td>Drought</td><td>CALIFORNIA</td><td><div class=\"dni-plaintext\">10</div></td><td><div class=\"dni-plaintext\">11</div></td></tr><tr><td>Drought</td><td>CALIFORNIA</td><td><div class=\"dni-plaintext\">8</div></td><td><div class=\"dni-plaintext\">11</div></td></tr><tr><td>Drought</td><td>CALIFORNIA</td><td><div class=\"dni-plaintext\">9</div></td><td><div class=\"dni-plaintext\">11</div></td></tr><tr><td>Winter Weather</td><td>CALIFORNIA</td><td><div class=\"dni-plaintext\">9</div></td><td><div class=\"dni-plaintext\">2</div></td></tr><tr><td>Winter Storm</td><td>TEXAS</td><td><div class=\"dni-plaintext\">12</div></td><td><div class=\"dni-plaintext\">6</div></td></tr><tr><td>Drought</td><td>CALIFORNIA</td><td><div class=\"dni-plaintext\">12</div></td><td><div class=\"dni-plaintext\">11</div></td></tr><tr><td>Winter Storm</td><td>WASHINGTON</td><td><div class=\"dni-plaintext\">12</div></td><td><div class=\"dni-plaintext\">1</div></td></tr><tr><td>Winter Weather</td><td>TEXAS</td><td><div class=\"dni-plaintext\">11</div></td><td><div class=\"dni-plaintext\">19</div></td></tr><tr><td>Drought</td><td>CALIFORNIA</td><td><div class=\"dni-plaintext\">11</div></td><td><div class=\"dni-plaintext\">11</div></td></tr><tr><td>Winter Weather</td><td>CALIFORNIA</td><td><div class=\"dni-plaintext\">12</div></td><td><div class=\"dni-plaintext\">2</div></td></tr><tr><td>Winter Storm</td><td>CALIFORNIA</td><td><div class=\"dni-plaintext\">12</div></td><td><div class=\"dni-plaintext\">4</div></td></tr><tr><td>Winter Weather</td><td>CALIFORNIA</td><td><div class=\"dni-plaintext\">11</div></td><td><div class=\"dni-plaintext\">1</div></td></tr></tbody></table>"
            ]
          },
          "metadata": {},
          "output_type": "display_data"
        }
      ],
      "source": [
        "#!kql-KustoHelp\n",
        "StormEvents \n",
        "| summarize EventCount = count() by EventType, State, MonthNumber = getmonth(StartTime)\n",
        "| where EventType in (\"Hail\", \"Flash Flood\", \"Drought\", \"Winter Weather\", \"Winter Storm\")\n",
        "| where State in (\"WASHINGTON\", \"CALIFORNIA\", \"TEXAS\")\n"
      ]
    },
    {
      "cell_type": "markdown",
      "metadata": {},
      "source": [
        "# Let's try conneting to SQL Server!"
      ]
    },
    {
      "cell_type": "code",
      "execution_count": null,
      "metadata": {
        "dotnet_interactive": {
          "language": "csharp"
        }
      },
      "outputs": [
        {
          "data": {
            "text/html": [
              "<div><div></div><div></div><div><strong>Installed Packages</strong><ul><li><span>Microsoft.DotNet.Interactive.SqlServer, 1.0.0-beta.21559.2</span></li></ul></div></div>"
            ]
          },
          "metadata": {},
          "output_type": "display_data"
        },
        {
          "data": {
            "text/markdown": [
              "Loading extensions from `Microsoft.DotNet.Interactive.SqlServer.dll`"
            ]
          },
          "metadata": {},
          "output_type": "display_data"
        },
        {
          "data": {
            "text/html": [
              "<details><summary>Query Microsoft SQL Server databases.</summary>\r\n",
              "    <p>This extension adds support for connecting to Microsoft SQL Server databases using the <code>#!connect mssql</code> magic command. For more information, run a cell using the <code>#!sql</code> magic command.</p>\r\n",
              "    </details>"
            ]
          },
          "metadata": {},
          "output_type": "display_data"
        }
      ],
      "source": [
        "#r \"nuget:Microsoft.DotNet.Interactive.SqlServer, *-*\""
      ]
    },
    {
      "cell_type": "code",
      "execution_count": null,
      "metadata": {
        "dotnet_interactive": {
          "language": "csharp"
        }
      },
      "outputs": [],
      "source": [
        "#!connect mssql -h"
      ]
    },
    {
      "cell_type": "markdown",
      "metadata": {},
      "source": [
        "## Connect to a SQL Server instance"
      ]
    },
    {
      "cell_type": "code",
      "execution_count": null,
      "metadata": {
        "dotnet_interactive": {
          "language": "csharp"
        }
      },
      "outputs": [
        {
          "data": {
            "text/plain": [
              "Kernel added: #!sql-SQLData"
            ]
          },
          "metadata": {},
          "output_type": "display_data"
        }
      ],
      "source": [
        "#!connect mssql --kernel-name SQLData \"Server=SQLTOOLS2019-3;Database=keep_WideWorldImporters;Trusted_Connection=Yes;\""
      ]
    },
    {
      "cell_type": "code",
      "execution_count": null,
      "metadata": {
        "dotnet_interactive": {
          "language": "csharp"
        }
      },
      "outputs": [
        {
          "data": {
            "text/plain": [
              "(10 rows affected)"
            ]
          },
          "metadata": {},
          "output_type": "display_data"
        },
        {
          "data": {
            "text/csv": [
              "InvoiceDate,InvoiceID,StockItemName,StockGroupName,Revenue,Profit,Quantity,Margin%\r\n",
              "2016-01-01T00:00:00.0000000,61321,\"The Gu\" red shirt XML tag t-shirt (White) XXS,Clothing,1490.40,792.00,72,53.1400966183574879\r\n",
              "2016-01-01T00:00:00.0000000,61321,\"The Gu\" red shirt XML tag t-shirt (White) XXS,T-Shirts,1490.40,792.00,72,53.1400966183574879\r\n",
              "2016-01-01T00:00:00.0000000,61321,\"The Gu\" red shirt XML tag t-shirt (White) XXS,Computing Novelties,1490.40,792.00,72,53.1400966183574879\r\n",
              "2016-01-01T00:00:00.0000000,61322,Tape dispenser (Red),Packaging Materials,1840.00,750.00,50,40.7608695652173913\r\n",
              "2016-01-01T00:00:00.0000000,61323,\"The Gu\" red shirt XML tag t-shirt (White) XS,Clothing,1242.00,660.00,60,53.1400966183574879\r\n",
              "2016-01-01T00:00:00.0000000,61323,\"The Gu\" red shirt XML tag t-shirt (White) XS,T-Shirts,1242.00,660.00,60,53.1400966183574879\r\n",
              "2016-01-01T00:00:00.0000000,61323,\"The Gu\" red shirt XML tag t-shirt (White) XS,Computing Novelties,1242.00,660.00,60,53.1400966183574879\r\n",
              "2016-01-01T00:00:00.0000000,61324,Black and orange glass with care despatch tape 48mmx75m,Packaging Materials,510.60,252.00,120,49.3537015276145710\r\n",
              "2016-01-01T00:00:00.0000000,61325,Shipping carton (Brown) 305x305x305mm,Packaging Materials,503.13,200.00,125,39.7511577524695406\r\n",
              "2016-01-01T00:00:00.0000000,61326,\"The Gu\" red shirt XML tag t-shirt (White) 5XL,Clothing,745.20,360.00,36,48.3091787439613526\r\n"
            ],
            "text/html": [
              "<table><thead><tr><td><span>InvoiceDate</span></td><td><span>InvoiceID</span></td><td><span>StockItemName</span></td><td><span>StockGroupName</span></td><td><span>Revenue</span></td><td><span>Profit</span></td><td><span>Quantity</span></td><td><span>Margin%</span></td></tr></thead><tbody><tr><td><span>2016-01-01 00:00:00Z</span></td><td><div class=\"dni-plaintext\">61321</div></td><td>&quot;The Gu&quot; red shirt XML tag t-shirt (White) XXS</td><td>Clothing</td><td><div class=\"dni-plaintext\">1490.40</div></td><td><div class=\"dni-plaintext\">792.00</div></td><td><div class=\"dni-plaintext\">72</div></td><td><div class=\"dni-plaintext\">53.1400966183574879</div></td></tr><tr><td><span>2016-01-01 00:00:00Z</span></td><td><div class=\"dni-plaintext\">61321</div></td><td>&quot;The Gu&quot; red shirt XML tag t-shirt (White) XXS</td><td>T-Shirts</td><td><div class=\"dni-plaintext\">1490.40</div></td><td><div class=\"dni-plaintext\">792.00</div></td><td><div class=\"dni-plaintext\">72</div></td><td><div class=\"dni-plaintext\">53.1400966183574879</div></td></tr><tr><td><span>2016-01-01 00:00:00Z</span></td><td><div class=\"dni-plaintext\">61321</div></td><td>&quot;The Gu&quot; red shirt XML tag t-shirt (White) XXS</td><td>Computing Novelties</td><td><div class=\"dni-plaintext\">1490.40</div></td><td><div class=\"dni-plaintext\">792.00</div></td><td><div class=\"dni-plaintext\">72</div></td><td><div class=\"dni-plaintext\">53.1400966183574879</div></td></tr><tr><td><span>2016-01-01 00:00:00Z</span></td><td><div class=\"dni-plaintext\">61322</div></td><td>Tape dispenser (Red)</td><td>Packaging Materials</td><td><div class=\"dni-plaintext\">1840.00</div></td><td><div class=\"dni-plaintext\">750.00</div></td><td><div class=\"dni-plaintext\">50</div></td><td><div class=\"dni-plaintext\">40.7608695652173913</div></td></tr><tr><td><span>2016-01-01 00:00:00Z</span></td><td><div class=\"dni-plaintext\">61323</div></td><td>&quot;The Gu&quot; red shirt XML tag t-shirt (White) XS</td><td>Clothing</td><td><div class=\"dni-plaintext\">1242.00</div></td><td><div class=\"dni-plaintext\">660.00</div></td><td><div class=\"dni-plaintext\">60</div></td><td><div class=\"dni-plaintext\">53.1400966183574879</div></td></tr><tr><td><span>2016-01-01 00:00:00Z</span></td><td><div class=\"dni-plaintext\">61323</div></td><td>&quot;The Gu&quot; red shirt XML tag t-shirt (White) XS</td><td>T-Shirts</td><td><div class=\"dni-plaintext\">1242.00</div></td><td><div class=\"dni-plaintext\">660.00</div></td><td><div class=\"dni-plaintext\">60</div></td><td><div class=\"dni-plaintext\">53.1400966183574879</div></td></tr><tr><td><span>2016-01-01 00:00:00Z</span></td><td><div class=\"dni-plaintext\">61323</div></td><td>&quot;The Gu&quot; red shirt XML tag t-shirt (White) XS</td><td>Computing Novelties</td><td><div class=\"dni-plaintext\">1242.00</div></td><td><div class=\"dni-plaintext\">660.00</div></td><td><div class=\"dni-plaintext\">60</div></td><td><div class=\"dni-plaintext\">53.1400966183574879</div></td></tr><tr><td><span>2016-01-01 00:00:00Z</span></td><td><div class=\"dni-plaintext\">61324</div></td><td>Black and orange glass with care despatch tape 48mmx75m</td><td>Packaging Materials</td><td><div class=\"dni-plaintext\">510.60</div></td><td><div class=\"dni-plaintext\">252.00</div></td><td><div class=\"dni-plaintext\">120</div></td><td><div class=\"dni-plaintext\">49.3537015276145710</div></td></tr><tr><td><span>2016-01-01 00:00:00Z</span></td><td><div class=\"dni-plaintext\">61325</div></td><td>Shipping carton (Brown) 305x305x305mm</td><td>Packaging Materials</td><td><div class=\"dni-plaintext\">503.13</div></td><td><div class=\"dni-plaintext\">200.00</div></td><td><div class=\"dni-plaintext\">125</div></td><td><div class=\"dni-plaintext\">39.7511577524695406</div></td></tr><tr><td><span>2016-01-01 00:00:00Z</span></td><td><div class=\"dni-plaintext\">61326</div></td><td>&quot;The Gu&quot; red shirt XML tag t-shirt (White) 5XL</td><td>Clothing</td><td><div class=\"dni-plaintext\">745.20</div></td><td><div class=\"dni-plaintext\">360.00</div></td><td><div class=\"dni-plaintext\">36</div></td><td><div class=\"dni-plaintext\">48.3091787439613526</div></td></tr></tbody></table>"
            ]
          },
          "metadata": {},
          "output_type": "display_data"
        }
      ],
      "source": [
        "#!sql-SQLData\n",
        "\n",
        "SELECT TOP 10\n",
        "     i.InvoiceDate\n",
        "    ,i.InvoiceID\n",
        "    ,si.StockItemName\n",
        "    ,gr.StockGroupName\n",
        "    ,il.ExtendedPrice AS Revenue\n",
        "    ,il.LineProfit AS Profit\n",
        "    ,il.Quantity\n",
        "    ,il.LineProfit * 100.0 / il.ExtendedPrice AS [Margin%]    \n",
        "FROM Sales.InvoiceLines il\n",
        "    INNER JOIN Sales.Invoices i\n",
        "        ON i.InvoiceID = il.InvoiceID\n",
        "    INNER JOIN Warehouse.StockItems_Archive si\n",
        "        ON si.StockItemID = il.StockItemID \n",
        "        AND i.InvoiceDate BETWEEN si.ValidFrom AND si.ValidTo    \n",
        "    INNER JOIN Warehouse.StockItemStockGroups sg\n",
        "        ON sg.StockItemID = si.StockItemID        \n",
        "    INNER JOIN Warehouse.StockGroups gr\n",
        "        ON gr.StockGroupID = sg.StockGroupID\n",
        "        AND i.InvoiceDate BETWEEN gr.ValidFrom AND gr.ValidTo\n",
        "WHERE i.InvoiceDate >= '20160101'\n",
        "AND  i.InvoiceDate < '20160201'\n",
        "ORDER BY i.InvoiceID, i.InvoiceDate, si.StockItemName"
      ]
    },
    {
      "cell_type": "markdown",
      "metadata": {},
      "source": [
        "## Interactive experience in .net interactive\n",
        "\n",
        "Get input from users (in C#)"
      ]
    },
    {
      "cell_type": "code",
      "execution_count": null,
      "metadata": {
        "dotnet_interactive": {
          "language": "csharp"
        }
      },
      "outputs": [
        {
          "name": "stdout",
          "output_type": "stream",
          "text": [
            "\r\n"
          ]
        }
      ],
      "source": [
        "var inputStockGroup = await GetInputAsync();\n",
        "System.Console.WriteLine(inputStockGroup);\n"
      ]
    },
    {
      "cell_type": "markdown",
      "metadata": {},
      "source": [
        "Pass the input parameter from C# to SQL!"
      ]
    },
    {
      "cell_type": "code",
      "execution_count": null,
      "metadata": {
        "dotnet_interactive": {
          "language": "sql"
        }
      },
      "outputs": [
        {
          "data": {
            "text/plain": [
              "Adding shared variable declaration statement : DECLARE @inputStockGroup NVarChar(8) = N'Clothing';"
            ]
          },
          "metadata": {},
          "output_type": "display_data"
        },
        {
          "data": {
            "text/plain": [
              "(1 row affected)"
            ]
          },
          "metadata": {},
          "output_type": "display_data"
        },
        {
          "data": {
            "text/csv": [
              "StockGroupName,TotalQuantity,Margin%\r\n",
              "Clothing,2624338,41.060639\r\n"
            ],
            "text/html": [
              "<table><thead><tr><td><span>StockGroupName</span></td><td><span>TotalQuantity</span></td><td><span>Margin%</span></td></tr></thead><tbody><tr><td>Clothing</td><td><div class=\"dni-plaintext\">2624338</div></td><td><div class=\"dni-plaintext\">41.060639</div></td></tr></tbody></table>"
            ]
          },
          "metadata": {},
          "output_type": "display_data"
        }
      ],
      "source": [
        "#!sql-SQLData\n",
        "#!share --from csharp inputStockGroup\n",
        "\n",
        "SELECT \n",
        "     gr.StockGroupName\n",
        "    ,SUM(il.Quantity) AS TotalQuantity\n",
        "    ,SUM(il.LineProfit) * 100.0 / SUM(il.ExtendedPrice) AS [Margin%]    \n",
        "FROM Sales.InvoiceLines il\n",
        "    INNER JOIN Sales.Invoices i\n",
        "        ON i.InvoiceID = il.InvoiceID\n",
        "    INNER JOIN Warehouse.StockItems_Archive si\n",
        "        ON si.StockItemID = il.StockItemID \n",
        "        AND i.InvoiceDate BETWEEN si.ValidFrom AND si.ValidTo    \n",
        "    INNER JOIN Warehouse.StockItemStockGroups sg\n",
        "        ON sg.StockItemID = si.StockItemID        \n",
        "    INNER JOIN Warehouse.StockGroups gr\n",
        "        ON gr.StockGroupID = sg.StockGroupID\n",
        "        AND i.InvoiceDate BETWEEN gr.ValidFrom AND gr.ValidTo\n",
        "WHERE gr.StockGroupName = @inputStockGroup\n",
        "GROUP BY gr.StockGroupName\n"
      ]
    }
  ],
  "metadata": {
    "kernelspec": {
      "display_name": ".NET (C#)",
      "language": "C#",
      "name": ".net-csharp"
    },
    "language_info": {
      "file_extension": ".cs",
      "mimetype": "text/x-csharp",
      "name": "C#",
      "pygments_lexer": "csharp",
      "version": "8.0"
    }
  },
  "nbformat": 4,
  "nbformat_minor": 4
}
