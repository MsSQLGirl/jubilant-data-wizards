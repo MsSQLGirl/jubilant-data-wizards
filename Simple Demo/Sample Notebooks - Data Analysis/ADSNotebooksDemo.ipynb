{
    "metadata": {
        "kernelspec": {
            "name": "powershell",
            "display_name": "PowerShell",
            "language": "powershell"
        },
        "language_info": {
            "name": "powershell",
            "codemirror_mode": "shell",
            "mimetype": "text/x-sh",
            "file_extension": ".ps1"
        }
    },
    "nbformat_minor": 2,
    "nbformat": 4,
    "cells": [
        {
            "cell_type": "markdown",
            "source": [
                "# Notebooks 101 in Azure Data Studio\r\n",
                "\r\n",
                "Prepared by: Julie Koesmarno (twitter: [@MsSQLGirl](http://twitter.com/MsSQLGirl))\r\n",
                "\r\n",
                "[![Azure Data Studio](./images/ADSHeartNotebooks.png)](./images/ADSHeartNotebooks.png \"ADS loves Notebooks\")\r\n",
                "\r\n",
                "**http://aka.ms/AzureDataStudio** to learn more about Azure Data Studio and to download it.\r\n",
                ""
            ],
            "metadata": {
                "azdata_cell_guid": "57461731-0312-4c1f-b882-5e2106b83442"
            }
        },
        {
            "cell_type": "markdown",
            "source": [
                "## Table of Contents\r\n",
                "\r\n",
                "1. [What is a notebook? And why?](#what-is-a-notebook-and-why)\r\n",
                "2. [Fun facts about Notebooks in Azure Data Studio](#fun-facts-about-notebooks-in-azure-data-studio)\r\n",
                "3. [More notebook users](#more-notebook-users)\r\n",
                "4. [Examples](#examples)\r\n",
                "5. [Anatomy](#anatomy)\r\n",
                "6. [Markdown cheatsheet](#markdown-cheatsheet)\r\n",
                "7. [Linking to other parts of notebooks](#linking-to-other-parts-of-notebooks)\r\n",
                "8. [Demo](#demo)\r\n",
                "9. [Notebook use cases](#notebook-use-cases)  \r\n",
                "  1. [Exploratory / Academic / Collaborative - *original intention*](#exploratory--academic--collaborative---original-intention)\r\n",
                "  2. [Broader analysis - *app operations*](#broader-analysis---app-operations)  \r\n",
                "  3. [DBA Scenarios / examples - *data, automation and DevOps use cases*](#dba-scenarios--examples---data-automation-and-devops-use-cases)  \r\n",
                "10. [Useful links for getting started with Notebooks in Azure Data Studio!](#useful-links-for-getting-started-with-notebooks-in-azure-data-studio)\r\n",
                ""
            ],
            "metadata": {
                "azdata_cell_guid": "f9cc3506-d091-4df2-9529-ca6d6d8d32bb"
            }
        },
        {
            "cell_type": "markdown",
            "source": [
                "\r\n",
                "## What is a notebook? And why?\r\n",
                "A *Jupyter* notebook is a tool for interactively developing and presenting Data Science projects ([source](https://towardsdatascience.com/a-beginners-tutorial-to-jupyter-notebooks-1b2f8705888a)). Project *Jupyter* is open source.\r\n",
                "\r\n",
                "More use cases have landed since then! Most importantly because:\r\n",
                "* **documentation** + **code** + **results** + **visualization** can now be in **one place**, and\r\n",
                "* the **reproducible framework** around notebooks is beneficial beyond data science.\r\n",
                "\r\n",
                "More open source contributors developing all sorts of wonderful things that support the operational / workflow side of this! \r\n",
                "\r\n",
                "**SQL People** can benefit the reproducible data exploratory aspect of notebooks today using Azure Data Studio!\r\n",
                "\r\n",
                "\r\n",
                "\r\n",
                "## Fun facts about Notebooks in Azure Data Studio: \r\n",
                "* Sep 2018: Notebook first introduced in Azure Data Studio\r\n",
                "* Mar 2019: SQL Notebooks\r\n",
                "* Nov 2019: Jupyter Book & PowerShell Notebooks\r\n",
                "* Apr 2020: Kqlmagic for Kusto queries in Python notebook\r\n",
                ""
            ],
            "metadata": {
                "azdata_cell_guid": "52dbef4b-99cf-481d-8b1c-d9e2faa63a1b"
            }
        },
        {
            "cell_type": "markdown",
            "source": [
                "## Meet Notebook users \r\n",
                "\r\n",
                "| Data Scientist | Data Analyst | Data Engineer | DBA |\r\n",
                "| --- | --- | --- | --- |\r\n",
                "| [![Azure Data Studio](./images/DataScientist.png)](./images/DataScientist.png \"Data Scientist\") | [![Azure Data Studio](./images/DataAnalyst.png)](./images/DataAnalyst.png \"Data Analyst\") | [![Azure Data Studio](./images/DataEngineer.png)](./images/DataEngineer.png \"Data Engineer\") |  [![Azure Data Studio](./images/DBA.png)](./images/DBA.png \"DBA\") |\r\n",
                "| **Typical kernels:** | | | |\r\n",
                "| Python, R, SQL | SQL, Python, R | Spark, Python, SQL | SQL, PowerShell | \r\n",
                "\r\n",
                "<br />\r\n",
                ""
            ],
            "metadata": {
                "azdata_cell_guid": "6350949c-ab2d-441f-b754-c34320c7c864"
            }
        },
        {
            "cell_type": "markdown",
            "source": [
                "\r\n",
                "## Examples\r\n",
                "Simple Reproducible Research example - [click here](azuredatastudio://microsoft.notebook/open?url=https://raw.githubusercontent.com/MsSQLGirl/jubilant-data-wizards/master/Simple%20Demo/Sample%20Notebooks%20-%20Data%20Analysis/ReproducibleResearch.ipynb) to display it in Azure Data Studio. \r\n",
                "\r\n",
                "\r\n",
                "[![SQL Notebook example](./images/SQLNotebookExample3.gif)](./images/SQLNotebookExample3.gif)"
            ],
            "metadata": {
                "azdata_cell_guid": "030f362a-9da0-4dfb-8f27-a92cb3e24608"
            }
        },
        {
            "cell_type": "markdown",
            "source": [
                "\r\n",
                "## Anatomy \r\n",
                "* Text Cell - Plain text, markdown, HTML, code snippets and more!\r\n",
                "    * Plain Text **and** *simple* markdown ***formatting***\r\n",
                "    * HTML support for <mark>advanced</mark> ~~complex~~ formatting\r\n",
                "    * Code format\r\n",
                "~~~SQL\r\n",
                "SELECT TOP 10 * FROM [sys].[databases]\r\n",
                "~~~\r\n",
                "    * Multimedia / Image as shown above.\r\n",
                "\r\n",
                "\r\n",
                "* Execution Cell - Code and output\r\n",
                "    * Visualizations / graphics \r\n",
                "\r\n",
                "> **tip**: \\\r\n",
                "> If you are sharing Notebooks to others publicly, ensure that the results don't include sensitive information. \r\n",
                ""
            ],
            "metadata": {
                "azdata_cell_guid": "7034c892-5280-405a-8b53-452640841c5c"
            }
        },
        {
            "cell_type": "markdown",
            "source": [
                "\r\n",
                "## Markdown Cheatsheet\r\n",
                "![](./images/markdown.png)\r\n",
                ""
            ],
            "metadata": {
                "azdata_cell_guid": "05cdd04e-6b86-4964-a296-7d13f652279a"
            }
        },
        {
            "cell_type": "markdown",
            "source": [
                "## Linking to other parts of notebooks\r\n",
                "\r\n",
                "Github Flavored Markdown (GFM) which is what Azure Data Studio adopts, extends the standard Markdown standard so that all Markdown-rendered headers automatically get IDs, which can be linked to, except in comments. Below is a useful description from the [Gitlab](https://docs.gitlab.com/ee/user/markdown.html#header-ids-and-links) page.\r\n",
                "\r\n",
                "On hover, a link to those IDs becomes visible to make it easier to copy the link to the header to use it somewhere else.\r\n",
                "\r\n",
                "The IDs are generated from the content of the header according to the following rules:\r\n",
                "\r\n",
                "1. All text is converted to lowercase.\r\n",
                "2. All non-word text (such as punctuation or HTML) is removed.\r\n",
                "3. All spaces are converted to hyphens.\r\n",
                "4. Two or more hyphens in a row are converted to one.\r\n",
                "5. If a header with the same ID has already been generated, a unique incrementing number is appended, starting at 1.\r\n",
                "\r\n",
                "Example:\r\n",
                "\r\n",
                "```\r\n",
                "# This header has spaces in it\r\n",
                "## This header has a :thumbsup: in it\r\n",
                "# This header has Unicode in it: 한글\r\n",
                "## This header has spaces in it\r\n",
                "### This header has spaces in it\r\n",
                "## This header has 3.5 in it (and parentheses)\r\n",
                "\r\n",
                "```\r\n",
                "\r\n",
                "Would generate the following link IDs:\r\n",
                "\r\n",
                "1. `this-header-has-spaces-in-it`\r\n",
                "2. `this-header-has-a-in-it`\r\n",
                "3. `this-header-has-unicode-in-it-한글`\r\n",
                "4. `this-header-has-spaces-in-it-1`\r\n",
                "5. `this-header-has-spaces-in-it-2`\r\n",
                "6. `this-header-has-3-5-in-it-and-parentheses`\r\n",
                "\r\n",
                "Note that the emoji processing happens before the header IDs are generated, so the emoji is converted to an image which is then removed from the ID.\r\n",
                "\r\n",
                "### Cross Referencing examples\r\n",
                "This includes linking to Headers in this notebook, generic parts within this notebook (with `<a id>` reference) and other notebook's parts.\r\n",
                "\r\n",
                "Here's an example of linking to other parts of this notebook:\r\n",
                "1. [Heading: Demo](#demo), which is located immediately below this text cell.\r\n",
                "2. [Heading: Notebooks Use Cases](#notebooks-use-cases), which is located below the Demo text cell.\r\n",
                "3. [Anchor with ID: The Ops Side](#the-ops-side), which is located as part of the Notebook Use Cases text cell. \r\n",
                "4. [Heading: Markdown](#markdown-cheatsheet), which is located above this text cell. \r\n",
                "5. [Top of this notebook](#notebooks-101-in-azure-data-studio), which is located on top of this notebook.\r\n",
                "\r\n",
                "Here's an example of linking to other part of another notebook ([SimpleSQLNotebook.ipynb](../SimpleSQLNotebook.ipynb)):\r\n",
                "1. [Heading: Get a list of databases](../SimpleSQLNotebook.ipynb#get-a-list-of-databases)\r\n",
                "1. [Anchor with ID: SELECT statement in a text cell](../SimpleSQLNotebook.ipynb#code-format)\r\n",
                "1. [Another option for launching Azure Data Studio to open SimpleSQLNotebook.ipynb copy on GitHub](azuredatastudio://microsoft.notebook/open?url=https://raw.githubusercontent.com/MsSQLGirl/jubilant-data-wizards/main/Simple%20Demo/SimpleSQLNotebook.ipynb#get-a-list-of-databases)"
            ],
            "metadata": {
                "azdata_cell_guid": "d38425fa-3895-4868-925e-97f2d2034b12"
            }
        },
        {
            "cell_type": "markdown",
            "source": [
                "## Demo \r\n",
                "1. Navigating the controls in Azure Data Studio. \\\r\n",
                "Anatomy, Toolbar, Markdown Toolbar, Notebook Viewlet.\r\n",
                "2. Creating a SQL notebook \\\r\n",
                "Text, Code, Results, Charting\r\n",
                "3. Creating a Powershell notebook\r\n",
                "4. Creating a book \\\r\n",
                "Create a book and searching\r\n",
                "5. Container deployment notebook \r\n",
                ""
            ],
            "metadata": {
                "azdata_cell_guid": "e778fd34-e439-4b99-82d1-270f4b34a506"
            }
        },
        {
            "cell_type": "markdown",
            "source": [
                "\r\n",
                "## Notebooks Use Cases \r\n",
                "\r\n",
                "Notebook journey starts with **Exploratory / Academic / Collaborative / Reproducible** nature, then it's used for **broader analysis for app operations**. We are now seeing more adoption of Notebook in **DBA and data work (management / analysis / visualization)**.\r\n",
                "\r\n",
                "### Exploratory / Academic / Collaborative - *original intention*\r\n",
                "* [Simple Reproducible Research example on Github](https://github.com/MsSQLGirl/jubilant-data-wizards/blob/master/Simple%20Demo/Sample%20Notebooks%20-%20Data%20Analysis/ReproducibleResearch.ipynb)\r\n",
                "* [Typical Data Science example on GitHub](https://github.com/rhiever/Data-Analysis-and-Machine-Learning-Projects/blob/master/example-data-science-notebook/Example%20Machine%20Learning%20Notebook.ipynb) | [View this in Azure Data Studio](azuredatastudio://microsoft.notebook/open?url=https://raw.githubusercontent.com/rhiever/Data-Analysis-and-Machine-Learning-Projects/master/example-data-science-notebook/Example%20Machine%20Learning%20Notebook.ipynb)\r\n",
                "* [NBA Games in Notebooks](https://github.com/DunderData/Tutorials/blob/master/Data%20Analysis%20and%20Visualization%20Tutorials/Matplotlib%20Tutorials/NBA%20Full%20Game%20Animation.ipynb)\r\n",
                "\r\n",
                "### Broader analysis - *app operations*\r\n",
                "* [Malicious detection](https://hub.gke.mybinder.org/user/johnlatwc-shared-psdjmbbn/notebooks/notebooks/Malware%20Decode%20Demo.ipynb)\r\n",
                "* [Malware Powershell shellcode analysis by @JohnLaTwC](https://github.com/JohnLaTwC/Shared/blob/master/notebooks/Malware%20PowerShell%20shellcode%20analysis.ipynb)  | [View this in Azure Data Studio](azuredatastudio://microsoft.notebook/open?url=https://raw.githubusercontent.com/JohnLaTwC/Shared/master/notebooks/Malware%20PowerShell%20shellcode%20analysis.ipynb)\r\n",
                "\r\n",
                "\r\n",
                "### DBA Scenarios / examples - *data, automation and DevOps use cases*\r\n",
                "* Runbooks: [SQL Assessment](https://github.com/microsoft/sql-server-samples/blob/master/samples/manage/sql-assessment-api/notebooks/SQLAssessmentAPIQuickStartNotebook.ipynb)\r\n",
                "* Troubleshooting: \r\n",
                "    * Jupyter Book created based on Glenn Berry's Diagnostic Queries - check out his [blog](https://glennsqlperformance.com/resources/) or from [dbatools GitHub](https://github.com/sqlcollaborative/dbatools/tree/development/bin/diagnosticquery).\r\n",
                "        * Here's an example for [SQL Server 2019 Diagnostic Query in SQL](https://www.dropbox.com/s/k1vauzxxhyh1fnb/SQL%20Server%202019%20Diagnostic%20Information%20Queries.sql?dl=0)\r\n",
                "    * **SQL Server 2019 Guide Jupyter Book** -> From Command Palette (Ctrl + Shift + P), type \"Jupyter Books: SQL Server 2019 Guide\".\r\n",
                "    * Your own!\r\n",
                "* Notebooks for **deploying SQL Server containers** -> From Command Palette (Ctrl + Shift + P), type \"Deployment: New Deployment...\" \r\n",
                "* Change Management workflow\r\n",
                "\r\n",
                "> <a id=\"the-ops-side\"></a>The \"Ops\" side of DevOps\r\n",
                "    > * Runbook automation\r\n",
                "    > * Ops Excellence ~ Software Engineering Excellence (version control, code review and more!)\r\n",
                "    > * Incident Response Auditing"
            ],
            "metadata": {
                "azdata_cell_guid": "36c66662-d2be-4c0d-972d-f057dc96e5c5"
            }
        },
        {
            "cell_type": "markdown",
            "source": [
                "## Useful links for getting started with Notebooks in Azure Data Studio!\n",
                "\n",
                "* Azure Data Studio Notebook Overview https://docs.microsoft.com/sql/big-data-cluster/notebooks-guidance\n",
                "* Rob Sewell - Incident Response Index https://sqldbawithabeard.com/2019/11/21/dynamically-creating-azure-data-studio-notebooks-with-powershell-for-an-incident-response-index-notebook/\n",
                "* Emanuele Meazzo - SQL Diagnostic Jupyter Book https://tsql.tech/the-sql-diagnostic-jupyter-book/\n",
                "* Azure Data Studio Release Notes: https://docs.microsoft.com/sql/azure-data-studio/release-notes-azure-data-studio\n",
                "* Simplify DevOps with Jupyter Notebook: https://dev.to/amit1rrr/simplify-devops-with-jupyter-notebook-e33 \n",
                "* Useful samples:\n",
                "    * SQL Assessment API on GitHub: https://github.com/microsoft/sql-server-samples/tree/master/samples/manage/sql-assessment-api/notebooks\n",
                "    \n",
                ""
            ],
            "metadata": {
                "azdata_cell_guid": "472bec77-ca9a-4448-a891-100cfcb5508b"
            }
        }
    ]
}