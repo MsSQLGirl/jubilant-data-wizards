{
    "metadata": {
        "kernelspec": {
            "name": "python3",
            "display_name": "Python 3",
            "language": "python"
        },
        "language_info": {
            "name": "python",
            "version": "3.6.6",
            "mimetype": "text/x-python",
            "codemirror_mode": {
                "name": "ipython",
                "version": 3
            },
            "pygments_lexer": "ipython3",
            "nbconvert_exporter": "python",
            "file_extension": ".py"
        }
    },
    "nbformat_minor": 2,
    "nbformat": 4,
    "cells": [
        {
            "cell_type": "markdown",
            "source": [
                "# Using Kqlmagic to analyze Azure SQL logs and metrics\r\n",
                "\r\n",
                "There are two main tables in Azure Log Analytics (Azure Monitor Logs) workspace that capture Azure SQL events:\r\n",
                "1. AzureDiagnostics\r\n",
                "2. AzureMetric\r\n",
                ""
            ],
            "metadata": {
                "azdata_cell_guid": "2e215b87-477c-47c1-88fd-15701f9d849c"
            }
        },
        {
            "cell_type": "markdown",
            "source": [
                "## 1. Connect to Log Analytics workspace\r\n",
                "\r\n",
                "Workspace is similar to what a database is to SQL. You connect to Log Analytics workspace to start querying data. \r\n",
                "\r\n",
                "### 1.1 Load Kqlmagic\r\n",
                "Need to load Kqlmagic first before we can start writing queries."
            ],
            "metadata": {
                "azdata_cell_guid": "62a95fa9-3573-46fc-ba99-f8ea5ba0ea05"
            }
        },
        {
            "cell_type": "code",
            "source": [
                "%reload_ext Kqlmagic"
            ],
            "metadata": {
                "azdata_cell_guid": "63832e62-7f15-4a78-ad31-43a6d90f0817",
                "language": "markdown"
            },
            "outputs": [
                {
                    "data": {
                        "text/plain": "<IPython.core.display.HTML object>",
                        "text/html": "<html>\n            <head>\n            <title>Kqlmagic - banner</title>\n            <style>\n            .kql-magic-banner {\n                display: flex; \n                background-color: #d9edf7;\n            }\n            .kql-magic-banner > div {\n                margin: 10px; \n                padding: 20px; \n                color: #3a87ad; \n                font-size: 13px;\n            }\n            </style>\n            </head>\n            <body>\n                <div class='kql-magic-banner'>\n                    <div><img src='data:image/png;base64,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'></div>\n                    <div>\n                        <p>Kql Query Language, aka kql, is the query language for advanced analytics on Azure Monitor resources. The current supported data sources are \n                        Azure Data Explorer (Kusto), Log Analytics and Application Insights. To get more information execute '%kql --help \"kql\"'</p>\n                        <p>   \n                          &bull; \n                kql reference: Click on 'Help' tab > and Select 'kql reference' or execute '%kql --help \"kql\"'<br>\n                          &bull; \n                Kqlmagic configuration: execute '%config Kqlmagic'<br>\n                          &bull; \n                Kqlmagic usage: execute '%kql --usage'<br>\n                        </p> \n                    </div>\n                </div>\n            </body>\n            </html>"
                    },
                    "metadata": {},
                    "output_type": "display_data"
                },
                {
                    "data": {
                        "text/plain": "<IPython.core.display.HTML object>",
                        "text/html": "<html>\n        <head>\n            \n            \n        </head>\n        <body>\n            <div><p style='padding: 10px; color: #3a87ad; background-color: #d9edf7; border-color: #bce9f1'>Kqlmagic&nbsp;package&nbsp;is&nbsp;updated&nbsp;frequently.&nbsp;Run&nbsp;&apos;!pip&nbsp;install&nbsp;Kqlmagic&nbsp;--no-cache-dir&nbsp;--upgrade&apos;&nbsp;to&nbsp;use&nbsp;the&nbsp;latest&nbsp;version.<br>Kqlmagic&nbsp;version:&nbsp;0.1.113.post1,&nbsp;source:&nbsp;https://github.com/Microsoft/jupyter-Kqlmagic</p></div>\n        </body>\n        </html>"
                    },
                    "metadata": {},
                    "output_type": "display_data"
                },
                {
                    "data": {
                        "text/plain": "<IPython.core.display.HTML object>",
                        "text/html": "<!DOCTYPE html>\n            <html><body>\n            <div style='padding: 10px; color: #3a87ad; background-color: #d9edf7; border-color: #bce9f1'>\n            Click&nbsp;to&nbsp;find&nbsp;out&nbsp;what's&nbsp;new&nbsp;in&nbsp;Kqlmagic&nbsp;&nbsp;<a href='http://127.0.0.1:51337/webbrowser?url=http%3A//127.0.0.1%3A51337/files/.kqlmagic/temp_files/2de4b9aa-6cf9-4662-aade-0a73417843fc/popup_what_new_history.html%3Fkernelid%3D2de4b9aa-6cf9-4662-aade-0a73417843fc&kernelid=2de4b9aa-6cf9-4662-aade-0a73417843fc' style='padding: 2px 6px 2px 6px; color: #333333; background-color: #EEEEEE; border-top: 1px solid #CCCCCC; border-right: 1px solid #333333; border-bottom: 1px solid #333333; border-left: 1px solid #CCCCCC' target='popup_what_new_history'>What's New? </a>\n            </div>\n            </body></html>"
                    },
                    "metadata": {},
                    "output_type": "display_data"
                }
            ],
            "execution_count": 1
        },
        {
            "cell_type": "markdown",
            "source": [
                "### 1.2 Connect to the desired Log Analytics workspace"
            ],
            "metadata": {
                "azdata_cell_guid": "1ccf6cc8-49df-4c8c-8cf4-08b36776ec78"
            }
        },
        {
            "cell_type": "code",
            "source": [
                "tenantID = input(\"Enter Log Analytics Workspace ID (guid)\")\r\n",
                "print(tenantID)"
            ],
            "metadata": {
                "azdata_cell_guid": "659b6d8e-ec72-4cb6-a765-310aa2938ecf",
                "tags": []
            },
            "outputs": [],
            "execution_count": null
        },
        {
            "cell_type": "code",
            "source": [
                "%kql loganalytics://code;workspace=tenantID;alias=\"myLogAnalyticsWorkspace\" -try-azcli_login //-!se"
            ],
            "metadata": {
                "azdata_cell_guid": "0d81236a-753a-4cf0-991c-a5f0a57493cd"
            },
            "outputs": [
                {
                    "data": {
                        "text/plain": "<IPython.core.display.HTML object>",
                        "text/html": "<!DOCTYPE html>\n            <html><body>\n            <div style=''>\n            <a href='http://127.0.0.1:51337/webbrowser?url=http%3A//127.0.0.1%3A51337/files/.kqlmagic/temp_files/2de4b9aa-6cf9-4662-aade-0a73417843fc/popup__myLogAnalyticsWorkspace_at_loganalytics_schema.html%3Fkernelid%3D2de4b9aa-6cf9-4662-aade-0a73417843fc&kernelid=2de4b9aa-6cf9-4662-aade-0a73417843fc' style='padding: 2px 6px 2px 6px; color: #333333; background-color: #EEEEEE; border-top: 1px solid #CCCCCC; border-right: 1px solid #333333; border-bottom: 1px solid #333333; border-left: 1px solid #CCCCCC' target='popup__myLogAnalyticsWorkspace_at_loganalytics_schema'>popup schema myLogAnalyticsWorkspace@loganalytics</a>\n            </div>\n            </body></html>"
                    },
                    "metadata": {},
                    "output_type": "display_data"
                }
            ],
            "execution_count": 3
        },
        {
            "cell_type": "markdown",
            "source": [
                "## 2. Analyze events by Diagnostic Settings\n",
                "\n",
                "Let's do a simple query first to analyze the number of events by Operation Name. \n",
                "\n",
                "> **Note**: Each row in AzureDiagnostic represents an event for specific Operation or category. Some SQL actions may result in generating multiple events of different types.\n",
                "\n",
                ""
            ],
            "metadata": {
                "azdata_cell_guid": "eb6417a2-3f1d-4d21-9c2d-1ccd9f65f935"
            }
        },
        {
            "cell_type": "code",
            "source": [
                "%%kql AzureDiagnostics\r\n",
                "| summarize count() by OperationName"
            ],
            "metadata": {
                "azdata_cell_guid": "e0d388fb-3ba1-4579-81d4-e46b41063738"
            },
            "outputs": [
                {
                    "data": {
                        "text/plain": "<IPython.core.display.HTML object>",
                        "text/html": "<html>\n        <head>\n            \n            \n        </head>\n        <body>\n            <div><p style='padding: 10px; color: #3a87ad; background-color: #d9edf7; border-color: #bce9f1'>&nbsp;*&nbsp;myLogAnalyticsWorkspace@loganalytics</p></div>\n        </body>\n        </html>"
                    },
                    "metadata": {},
                    "output_type": "display_data"
                },
                {
                    "data": {
                        "text/plain": "                      OperationName  count_\n0                        AuditEvent    3456\n1                     DeadlockEvent       5\n2                        ErrorEvent     143\n3  QueryStoreRuntimeStatisticsEvent       8\n4                      TimeoutEvent       1",
                        "text/html": "<div>\n<style scoped>\n    .dataframe tbody tr th:only-of-type {\n        vertical-align: middle;\n    }\n\n    .dataframe tbody tr th {\n        vertical-align: top;\n    }\n\n    .dataframe thead th {\n        text-align: right;\n    }\n</style>\n<table border=\"1\" class=\"dataframe\">\n  <thead>\n    <tr style=\"text-align: right;\">\n      <th></th>\n      <th>OperationName</th>\n      <th>count_</th>\n    </tr>\n  </thead>\n  <tbody>\n    <tr>\n      <th>0</th>\n      <td>AuditEvent</td>\n      <td>3456</td>\n    </tr>\n    <tr>\n      <th>1</th>\n      <td>DeadlockEvent</td>\n      <td>5</td>\n    </tr>\n    <tr>\n      <th>2</th>\n      <td>ErrorEvent</td>\n      <td>143</td>\n    </tr>\n    <tr>\n      <th>3</th>\n      <td>QueryStoreRuntimeStatisticsEvent</td>\n      <td>8</td>\n    </tr>\n    <tr>\n      <th>4</th>\n      <td>TimeoutEvent</td>\n      <td>1</td>\n    </tr>\n  </tbody>\n</table>\n</div>",
                        "application/vnd.dataresource+json": {
                            "schema": {
                                "fields": [
                                    {
                                        "name": "OperationName",
                                        "type": "string"
                                    },
                                    {
                                        "name": "count_",
                                        "type": "integer"
                                    }
                                ],
                                "kqmagic_version": "0.1.113.post1"
                            },
                            "data": [
                                {
                                    "OperationName": "AuditEvent",
                                    "count_": 3456
                                },
                                {
                                    "OperationName": "DeadlockEvent",
                                    "count_": 5
                                },
                                {
                                    "OperationName": "ErrorEvent",
                                    "count_": 143
                                },
                                {
                                    "OperationName": "QueryStoreRuntimeStatisticsEvent",
                                    "count_": 8
                                },
                                {
                                    "OperationName": "TimeoutEvent",
                                    "count_": 1
                                }
                            ]
                        }
                    },
                    "metadata": {},
                    "output_type": "display_data"
                },
                {
                    "data": {
                        "text/plain": "<IPython.core.display.HTML object>",
                        "text/html": "<html>\n        <head>\n            \n            \n        </head>\n        <body>\n            <div><p style='padding: 10px; color: #3a87ad; background-color: #d9edf7; border-color: #bce9f1'>Done&nbsp;(00:00.478):&nbsp;5&nbsp;records</p></div>\n        </body>\n        </html>"
                    },
                    "metadata": {},
                    "output_type": "display_data"
                },
                {
                    "data": {
                        "text/plain": "[{'OperationName': 'AuditEvent', 'count_': 3456},\n {'OperationName': 'DeadlockEvent', 'count_': 5},\n {'OperationName': 'ErrorEvent', 'count_': 143},\n {'OperationName': 'QueryStoreRuntimeStatisticsEvent', 'count_': 8},\n {'OperationName': 'TimeoutEvent', 'count_': 1}]",
                        "text/html": ""
                    },
                    "metadata": {},
                    "execution_count": 4,
                    "output_type": "execute_result"
                }
            ],
            "execution_count": 4
        },
        {
            "cell_type": "markdown",
            "source": [
                "\r\n",
                "The above query's equivalent in SQL is:\r\n",
                "```\r\n",
                "SELECT COUNT(*) AS [count_]\r\n",
                "FROM AzureDiagnostics\r\n",
                "GROUP BY OperationName\r\n",
                "```\r\n",
                ""
            ],
            "metadata": {
                "azdata_cell_guid": "70c58547-b1b4-4724-b20b-a5bfc11d4dc4"
            }
        },
        {
            "cell_type": "markdown",
            "source": [
                "Count my Azure SQL DB events by category / diagnostic settings."
            ],
            "metadata": {
                "azdata_cell_guid": "8303ed68-ca14-4063-8464-9492f9304121"
            }
        },
        {
            "cell_type": "code",
            "source": [
                "%%kql AzureDiagnostics\r\n",
                "| where LogicalServerName_s == \"jukoesmasqldb\"\r\n",
                "| where TimeGenerated >= ago(5d)\r\n",
                "| summarize count() by Category\r\n",
                "| render barchart with (title = \"Azure SQL DB Diagnostic Category\")"
            ],
            "metadata": {
                "azdata_cell_guid": "6eaa8a7b-0b34-4a5a-b49b-80f9286539b2"
            },
            "outputs": [
                {
                    "data": {
                        "text/plain": "<IPython.core.display.HTML object>",
                        "text/html": "<html>\n        <head>\n            \n            \n        </head>\n        <body>\n            <div><p style='padding: 10px; color: #3a87ad; background-color: #d9edf7; border-color: #bce9f1'>&nbsp;*&nbsp;myLogAnalyticsWorkspace@loganalytics</p></div>\n        </body>\n        </html>"
                    },
                    "metadata": {},
                    "output_type": "display_data"
                },
                {
                    "data": {
                        "application/vnd.plotly.v1+json": {
                            "config": {
                                "plotlyServerURL": "https://plot.ly"
                            },
                            "data": [
                                {
                                    "marker": {
                                        "color": "rgb(31, 118, 179)"
                                    },
                                    "name": "count_",
                                    "orientation": "h",
                                    "type": "bar",
                                    "x": [
                                        1751,
                                        8,
                                        66,
                                        5,
                                        1
                                    ],
                                    "y": [
                                        "SQLSecurityAuditEvents",
                                        "QueryStoreRuntimeStatistics",
                                        "Errors",
                                        "Deadlocks",
                                        "Timeouts"
                                    ]
                                }
                            ],
                            "layout": {
                                "showlegend": true,
                                "template": {
                                    "data": {
                                        "bar": [
                                            {
                                                "error_x": {
                                                    "color": "#2a3f5f"
                                                },
                                                "error_y": {
                                                    "color": "#2a3f5f"
                                                },
                                                "marker": {
                                                    "line": {
                                                        "color": "#E5ECF6",
                                                        "width": 0.5
                                                    }
                                                },
                                                "type": "bar"
                                            }
                                        ],
                                        "barpolar": [
                                            {
                                                "marker": {
                                                    "line": {
                                                        "color": "#E5ECF6",
                                                        "width": 0.5
                                                    }
                                                },
                                                "type": "barpolar"
                                            }
                                        ],
                                        "carpet": [
                                            {
                                                "aaxis": {
                                                    "endlinecolor": "#2a3f5f",
                                                    "gridcolor": "white",
                                                    "linecolor": "white",
                                                    "minorgridcolor": "white",
                                                    "startlinecolor": "#2a3f5f"
                                                },
                                                "baxis": {
                                                    "endlinecolor": "#2a3f5f",
                                                    "gridcolor": "white",
                                                    "linecolor": "white",
                                                    "minorgridcolor": "white",
                                                    "startlinecolor": "#2a3f5f"
                                                },
                                                "type": "carpet"
                                            }
                                        ],
                                        "choropleth": [
                                            {
                                                "colorbar": {
                                                    "outlinewidth": 0,
                                                    "ticks": ""
                                                },
                                                "type": "choropleth"
                                            }
                                        ],
                                        "contour": [
                                            {
                                                "colorbar": {
                                                    "outlinewidth": 0,
                                                    "ticks": ""
                                                },
                                                "colorscale": [
                                                    [
                                                        0,
                                                        "#0d0887"
                                                    ],
                                                    [
                                                        0.1111111111111111,
                                                        "#46039f"
                                                    ],
                                                    [
                                                        0.2222222222222222,
                                                        "#7201a8"
                                                    ],
                                                    [
                                                        0.3333333333333333,
                                                        "#9c179e"
                                                    ],
                                                    [
                                                        0.4444444444444444,
                                                        "#bd3786"
                                                    ],
                                                    [
                                                        0.5555555555555556,
                                                        "#d8576b"
                                                    ],
                                                    [
                                                        0.6666666666666666,
                                                        "#ed7953"
                                                    ],
                                                    [
                                                        0.7777777777777778,
                                                        "#fb9f3a"
                                                    ],
                                                    [
                                                        0.8888888888888888,
                                                        "#fdca26"
                                                    ],
                                                    [
                                                        1,
                                                        "#f0f921"
                                                    ]
                                                ],
                                                "type": "contour"
                                            }
                                        ],
                                        "contourcarpet": [
                                            {
                                                "colorbar": {
                                                    "outlinewidth": 0,
                                                    "ticks": ""
                                                },
                                                "type": "contourcarpet"
                                            }
                                        ],
                                        "heatmap": [
                                            {
                                                "colorbar": {
                                                    "outlinewidth": 0,
                                                    "ticks": ""
                                                },
                                                "colorscale": [
                                                    [
                                                        0,
                                                        "#0d0887"
                                                    ],
                                                    [
                                                        0.1111111111111111,
                                                        "#46039f"
                                                    ],
                                                    [
                                                        0.2222222222222222,
                                                        "#7201a8"
                                                    ],
                                                    [
                                                        0.3333333333333333,
                                                        "#9c179e"
                                                    ],
                                                    [
                                                        0.4444444444444444,
                                                        "#bd3786"
                                                    ],
                                                    [
                                                        0.5555555555555556,
                                                        "#d8576b"
                                                    ],
                                                    [
                                                        0.6666666666666666,
                                                        "#ed7953"
                                                    ],
                                                    [
                                                        0.7777777777777778,
                                                        "#fb9f3a"
                                                    ],
                                                    [
                                                        0.8888888888888888,
                                                        "#fdca26"
                                                    ],
                                                    [
                                                        1,
                                                        "#f0f921"
                                                    ]
                                                ],
                                                "type": "heatmap"
                                            }
                                        ],
                                        "heatmapgl": [
                                            {
                                                "colorbar": {
                                                    "outlinewidth": 0,
                                                    "ticks": ""
                                                },
                                                "colorscale": [
                                                    [
                                                        0,
                                                        "#0d0887"
                                                    ],
                                                    [
                                                        0.1111111111111111,
                                                        "#46039f"
                                                    ],
                                                    [
                                                        0.2222222222222222,
                                                        "#7201a8"
                                                    ],
                                                    [
                                                        0.3333333333333333,
                                                        "#9c179e"
                                                    ],
                                                    [
                                                        0.4444444444444444,
                                                        "#bd3786"
                                                    ],
                                                    [
                                                        0.5555555555555556,
                                                        "#d8576b"
                                                    ],
                                                    [
                                                        0.6666666666666666,
                                                        "#ed7953"
                                                    ],
                                                    [
                                                        0.7777777777777778,
                                                        "#fb9f3a"
                                                    ],
                                                    [
                                                        0.8888888888888888,
                                                        "#fdca26"
                                                    ],
                                                    [
                                                        1,
                                                        "#f0f921"
                                                    ]
                                                ],
                                                "type": "heatmapgl"
                                            }
                                        ],
                                        "histogram": [
                                            {
                                                "marker": {
                                                    "colorbar": {
                                                        "outlinewidth": 0,
                                                        "ticks": ""
                                                    }
                                                },
                                                "type": "histogram"
                                            }
                                        ],
                                        "histogram2d": [
                                            {
                                                "colorbar": {
                                                    "outlinewidth": 0,
                                                    "ticks": ""
                                                },
                                                "colorscale": [
                                                    [
                                                        0,
                                                        "#0d0887"
                                                    ],
                                                    [
                                                        0.1111111111111111,
                                                        "#46039f"
                                                    ],
                                                    [
                                                        0.2222222222222222,
                                                        "#7201a8"
                                                    ],
                                                    [
                                                        0.3333333333333333,
                                                        "#9c179e"
                                                    ],
                                                    [
                                                        0.4444444444444444,
                                                        "#bd3786"
                                                    ],
                                                    [
                                                        0.5555555555555556,
                                                        "#d8576b"
                                                    ],
                                                    [
                                                        0.6666666666666666,
                                                        "#ed7953"
                                                    ],
                                                    [
                                                        0.7777777777777778,
                                                        "#fb9f3a"
                                                    ],
                                                    [
                                                        0.8888888888888888,
                                                        "#fdca26"
                                                    ],
                                                    [
                                                        1,
                                                        "#f0f921"
                                                    ]
                                                ],
                                                "type": "histogram2d"
                                            }
                                        ],
                                        "histogram2dcontour": [
                                            {
                                                "colorbar": {
                                                    "outlinewidth": 0,
                                                    "ticks": ""
                                                },
                                                "colorscale": [
                                                    [
                                                        0,
                                                        "#0d0887"
                                                    ],
                                                    [
                                                        0.1111111111111111,
                                                        "#46039f"
                                                    ],
                                                    [
                                                        0.2222222222222222,
                                                        "#7201a8"
                                                    ],
                                                    [
                                                        0.3333333333333333,
                                                        "#9c179e"
                                                    ],
                                                    [
                                                        0.4444444444444444,
                                                        "#bd3786"
                                                    ],
                                                    [
                                                        0.5555555555555556,
                                                        "#d8576b"
                                                    ],
                                                    [
                                                        0.6666666666666666,
                                                        "#ed7953"
                                                    ],
                                                    [
                                                        0.7777777777777778,
                                                        "#fb9f3a"
                                                    ],
                                                    [
                                                        0.8888888888888888,
                                                        "#fdca26"
                                                    ],
                                                    [
                                                        1,
                                                        "#f0f921"
                                                    ]
                                                ],
                                                "type": "histogram2dcontour"
                                            }
                                        ],
                                        "mesh3d": [
                                            {
                                                "colorbar": {
                                                    "outlinewidth": 0,
                                                    "ticks": ""
                                                },
                                                "type": "mesh3d"
                                            }
                                        ],
                                        "parcoords": [
                                            {
                                                "line": {
                                                    "colorbar": {
                                                        "outlinewidth": 0,
                                                        "ticks": ""
                                                    }
                                                },
                                                "type": "parcoords"
                                            }
                                        ],
                                        "pie": [
                                            {
                                                "automargin": true,
                                                "type": "pie"
                                            }
                                        ],
                                        "scatter": [
                                            {
                                                "marker": {
                                                    "colorbar": {
                                                        "outlinewidth": 0,
                                                        "ticks": ""
                                                    }
                                                },
                                                "type": "scatter"
                                            }
                                        ],
                                        "scatter3d": [
                                            {
                                                "line": {
                                                    "colorbar": {
                                                        "outlinewidth": 0,
                                                        "ticks": ""
                                                    }
                                                },
                                                "marker": {
                                                    "colorbar": {
                                                        "outlinewidth": 0,
                                                        "ticks": ""
                                                    }
                                                },
                                                "type": "scatter3d"
                                            }
                                        ],
                                        "scattercarpet": [
                                            {
                                                "marker": {
                                                    "colorbar": {
                                                        "outlinewidth": 0,
                                                        "ticks": ""
                                                    }
                                                },
                                                "type": "scattercarpet"
                                            }
                                        ],
                                        "scattergeo": [
                                            {
                                                "marker": {
                                                    "colorbar": {
                                                        "outlinewidth": 0,
                                                        "ticks": ""
                                                    }
                                                },
                                                "type": "scattergeo"
                                            }
                                        ],
                                        "scattergl": [
                                            {
                                                "marker": {
                                                    "colorbar": {
                                                        "outlinewidth": 0,
                                                        "ticks": ""
                                                    }
                                                },
                                                "type": "scattergl"
                                            }
                                        ],
                                        "scattermapbox": [
                                            {
                                                "marker": {
                                                    "colorbar": {
                                                        "outlinewidth": 0,
                                                        "ticks": ""
                                                    }
                                                },
                                                "type": "scattermapbox"
                                            }
                                        ],
                                        "scatterpolar": [
                                            {
                                                "marker": {
                                                    "colorbar": {
                                                        "outlinewidth": 0,
                                                        "ticks": ""
                                                    }
                                                },
                                                "type": "scatterpolar"
                                            }
                                        ],
                                        "scatterpolargl": [
                                            {
                                                "marker": {
                                                    "colorbar": {
                                                        "outlinewidth": 0,
                                                        "ticks": ""
                                                    }
                                                },
                                                "type": "scatterpolargl"
                                            }
                                        ],
                                        "scatterternary": [
                                            {
                                                "marker": {
                                                    "colorbar": {
                                                        "outlinewidth": 0,
                                                        "ticks": ""
                                                    }
                                                },
                                                "type": "scatterternary"
                                            }
                                        ],
                                        "surface": [
                                            {
                                                "colorbar": {
                                                    "outlinewidth": 0,
                                                    "ticks": ""
                                                },
                                                "colorscale": [
                                                    [
                                                        0,
                                                        "#0d0887"
                                                    ],
                                                    [
                                                        0.1111111111111111,
                                                        "#46039f"
                                                    ],
                                                    [
                                                        0.2222222222222222,
                                                        "#7201a8"
                                                    ],
                                                    [
                                                        0.3333333333333333,
                                                        "#9c179e"
                                                    ],
                                                    [
                                                        0.4444444444444444,
                                                        "#bd3786"
                                                    ],
                                                    [
                                                        0.5555555555555556,
                                                        "#d8576b"
                                                    ],
                                                    [
                                                        0.6666666666666666,
                                                        "#ed7953"
                                                    ],
                                                    [
                                                        0.7777777777777778,
                                                        "#fb9f3a"
                                                    ],
                                                    [
                                                        0.8888888888888888,
                                                        "#fdca26"
                                                    ],
                                                    [
                                                        1,
                                                        "#f0f921"
                                                    ]
                                                ],
                                                "type": "surface"
                                            }
                                        ],
                                        "table": [
                                            {
                                                "cells": {
                                                    "fill": {
                                                        "color": "#EBF0F8"
                                                    },
                                                    "line": {
                                                        "color": "white"
                                                    }
                                                },
                                                "header": {
                                                    "fill": {
                                                        "color": "#C8D4E3"
                                                    },
                                                    "line": {
                                                        "color": "white"
                                                    }
                                                },
                                                "type": "table"
                                            }
                                        ]
                                    },
                                    "layout": {
                                        "annotationdefaults": {
                                            "arrowcolor": "#2a3f5f",
                                            "arrowhead": 0,
                                            "arrowwidth": 1
                                        },
                                        "coloraxis": {
                                            "colorbar": {
                                                "outlinewidth": 0,
                                                "ticks": ""
                                            }
                                        },
                                        "colorscale": {
                                            "diverging": [
                                                [
                                                    0,
                                                    "#8e0152"
                                                ],
                                                [
                                                    0.1,
                                                    "#c51b7d"
                                                ],
                                                [
                                                    0.2,
                                                    "#de77ae"
                                                ],
                                                [
                                                    0.3,
                                                    "#f1b6da"
                                                ],
                                                [
                                                    0.4,
                                                    "#fde0ef"
                                                ],
                                                [
                                                    0.5,
                                                    "#f7f7f7"
                                                ],
                                                [
                                                    0.6,
                                                    "#e6f5d0"
                                                ],
                                                [
                                                    0.7,
                                                    "#b8e186"
                                                ],
                                                [
                                                    0.8,
                                                    "#7fbc41"
                                                ],
                                                [
                                                    0.9,
                                                    "#4d9221"
                                                ],
                                                [
                                                    1,
                                                    "#276419"
                                                ]
                                            ],
                                            "sequential": [
                                                [
                                                    0,
                                                    "#0d0887"
                                                ],
                                                [
                                                    0.1111111111111111,
                                                    "#46039f"
                                                ],
                                                [
                                                    0.2222222222222222,
                                                    "#7201a8"
                                                ],
                                                [
                                                    0.3333333333333333,
                                                    "#9c179e"
                                                ],
                                                [
                                                    0.4444444444444444,
                                                    "#bd3786"
                                                ],
                                                [
                                                    0.5555555555555556,
                                                    "#d8576b"
                                                ],
                                                [
                                                    0.6666666666666666,
                                                    "#ed7953"
                                                ],
                                                [
                                                    0.7777777777777778,
                                                    "#fb9f3a"
                                                ],
                                                [
                                                    0.8888888888888888,
                                                    "#fdca26"
                                                ],
                                                [
                                                    1,
                                                    "#f0f921"
                                                ]
                                            ],
                                            "sequentialminus": [
                                                [
                                                    0,
                                                    "#0d0887"
                                                ],
                                                [
                                                    0.1111111111111111,
                                                    "#46039f"
                                                ],
                                                [
                                                    0.2222222222222222,
                                                    "#7201a8"
                                                ],
                                                [
                                                    0.3333333333333333,
                                                    "#9c179e"
                                                ],
                                                [
                                                    0.4444444444444444,
                                                    "#bd3786"
                                                ],
                                                [
                                                    0.5555555555555556,
                                                    "#d8576b"
                                                ],
                                                [
                                                    0.6666666666666666,
                                                    "#ed7953"
                                                ],
                                                [
                                                    0.7777777777777778,
                                                    "#fb9f3a"
                                                ],
                                                [
                                                    0.8888888888888888,
                                                    "#fdca26"
                                                ],
                                                [
                                                    1,
                                                    "#f0f921"
                                                ]
                                            ]
                                        },
                                        "colorway": [
                                            "#636efa",
                                            "#EF553B",
                                            "#00cc96",
                                            "#ab63fa",
                                            "#FFA15A",
                                            "#19d3f3",
                                            "#FF6692",
                                            "#B6E880",
                                            "#FF97FF",
                                            "#FECB52"
                                        ],
                                        "font": {
                                            "color": "#2a3f5f"
                                        },
                                        "geo": {
                                            "bgcolor": "white",
                                            "lakecolor": "white",
                                            "landcolor": "#E5ECF6",
                                            "showlakes": true,
                                            "showland": true,
                                            "subunitcolor": "white"
                                        },
                                        "hoverlabel": {
                                            "align": "left"
                                        },
                                        "hovermode": "closest",
                                        "mapbox": {
                                            "style": "light"
                                        },
                                        "paper_bgcolor": "white",
                                        "plot_bgcolor": "#E5ECF6",
                                        "polar": {
                                            "angularaxis": {
                                                "gridcolor": "white",
                                                "linecolor": "white",
                                                "ticks": ""
                                            },
                                            "bgcolor": "#E5ECF6",
                                            "radialaxis": {
                                                "gridcolor": "white",
                                                "linecolor": "white",
                                                "ticks": ""
                                            }
                                        },
                                        "scene": {
                                            "xaxis": {
                                                "backgroundcolor": "#E5ECF6",
                                                "gridcolor": "white",
                                                "gridwidth": 2,
                                                "linecolor": "white",
                                                "showbackground": true,
                                                "ticks": "",
                                                "zerolinecolor": "white"
                                            },
                                            "yaxis": {
                                                "backgroundcolor": "#E5ECF6",
                                                "gridcolor": "white",
                                                "gridwidth": 2,
                                                "linecolor": "white",
                                                "showbackground": true,
                                                "ticks": "",
                                                "zerolinecolor": "white"
                                            },
                                            "zaxis": {
                                                "backgroundcolor": "#E5ECF6",
                                                "gridcolor": "white",
                                                "gridwidth": 2,
                                                "linecolor": "white",
                                                "showbackground": true,
                                                "ticks": "",
                                                "zerolinecolor": "white"
                                            }
                                        },
                                        "shapedefaults": {
                                            "line": {
                                                "color": "#2a3f5f"
                                            }
                                        },
                                        "ternary": {
                                            "aaxis": {
                                                "gridcolor": "white",
                                                "linecolor": "white",
                                                "ticks": ""
                                            },
                                            "baxis": {
                                                "gridcolor": "white",
                                                "linecolor": "white",
                                                "ticks": ""
                                            },
                                            "bgcolor": "#E5ECF6",
                                            "caxis": {
                                                "gridcolor": "white",
                                                "linecolor": "white",
                                                "ticks": ""
                                            }
                                        },
                                        "title": {
                                            "x": 0.05
                                        },
                                        "xaxis": {
                                            "automargin": true,
                                            "gridcolor": "white",
                                            "linecolor": "white",
                                            "ticks": "",
                                            "title": {
                                                "standoff": 15
                                            },
                                            "zerolinecolor": "white",
                                            "zerolinewidth": 2
                                        },
                                        "yaxis": {
                                            "automargin": true,
                                            "gridcolor": "white",
                                            "linecolor": "white",
                                            "ticks": "",
                                            "title": {
                                                "standoff": 15
                                            },
                                            "zerolinecolor": "white",
                                            "zerolinewidth": 2
                                        }
                                    }
                                },
                                "title": {
                                    "text": "Azure SQL DB Diagnostic Category"
                                },
                                "xaxis": {
                                    "ticksuffix": "",
                                    "title": {
                                        "text": "count_"
                                    },
                                    "type": "linear"
                                },
                                "yaxis": {
                                    "title": {
                                        "text": "Category"
                                    },
                                    "type": "category"
                                }
                            }
                        }
                    },
                    "metadata": {},
                    "output_type": "display_data"
                },
                {
                    "data": {
                        "text/plain": "<IPython.core.display.HTML object>",
                        "text/html": "<html>\n        <head>\n            \n            \n        </head>\n        <body>\n            <div><p style='padding: 10px; color: #3a87ad; background-color: #d9edf7; border-color: #bce9f1'>Done&nbsp;(00:00.259):&nbsp;5&nbsp;records</p></div>\n        </body>\n        </html>"
                    },
                    "metadata": {},
                    "output_type": "display_data"
                },
                {
                    "data": {
                        "text/plain": "[{'Category': 'SQLSecurityAuditEvents', 'count_': 1751},\n {'Category': 'QueryStoreRuntimeStatistics', 'count_': 8},\n {'Category': 'Errors', 'count_': 66},\n {'Category': 'Deadlocks', 'count_': 5},\n {'Category': 'Timeouts', 'count_': 1}]",
                        "text/html": ""
                    },
                    "metadata": {},
                    "execution_count": 5,
                    "output_type": "execute_result"
                }
            ],
            "execution_count": 5
        },
        {
            "cell_type": "markdown",
            "source": [
                "## 3. Performance troubleshooting Query (from Azure Portal)\n",
                "\n",
                "Potentially a query or deadlock on the system that could lead to poor performance. The following is a query suggested by Azure Portal."
            ],
            "metadata": {
                "azdata_cell_guid": "3e2e80b4-88b4-494e-931e-15a4139389d7"
            }
        },
        {
            "cell_type": "code",
            "source": [
                "%%kql \r\n",
                "AzureMetrics\r\n",
                "| where ResourceProvider == \"MICROSOFT.SQL\"\r\n",
                "| where TimeGenerated >=ago(60min)\r\n",
                "| where MetricName in ('deadlock')\r\n",
                "| parse _ResourceId with * \"/microsoft.sql/servers/\" Resource // subtract Resource name for _ResourceId\r\n",
                "| summarize Deadlock_max_60Mins = max(Maximum) by Resource, MetricName"
            ],
            "metadata": {
                "azdata_cell_guid": "d7bc7a1e-c348-448b-af47-b310a0fe55e7"
            },
            "outputs": [
                {
                    "data": {
                        "text/plain": "<IPython.core.display.HTML object>",
                        "text/html": "<html>\n        <head>\n            \n            \n        </head>\n        <body>\n            <div><p style='padding: 10px; color: #3a87ad; background-color: #d9edf7; border-color: #bce9f1'>&nbsp;*&nbsp;myLogAnalyticsWorkspace@loganalytics</p></div>\n        </body>\n        </html>"
                    },
                    "metadata": {},
                    "output_type": "display_data"
                },
                {
                    "data": {
                        "text/plain": "Empty DataFrame\nColumns: [Resource, MetricName, Deadlock_max_60Mins]\nIndex: []",
                        "text/html": "<div>\n<style scoped>\n    .dataframe tbody tr th:only-of-type {\n        vertical-align: middle;\n    }\n\n    .dataframe tbody tr th {\n        vertical-align: top;\n    }\n\n    .dataframe thead th {\n        text-align: right;\n    }\n</style>\n<table border=\"1\" class=\"dataframe\">\n  <thead>\n    <tr style=\"text-align: right;\">\n      <th></th>\n      <th>Resource</th>\n      <th>MetricName</th>\n      <th>Deadlock_max_60Mins</th>\n    </tr>\n  </thead>\n  <tbody>\n  </tbody>\n</table>\n</div>",
                        "application/vnd.dataresource+json": {
                            "schema": {
                                "fields": [
                                    {
                                        "name": "Resource",
                                        "type": "string"
                                    },
                                    {
                                        "name": "MetricName",
                                        "type": "string"
                                    },
                                    {
                                        "name": "Deadlock_max_60Mins",
                                        "type": "number"
                                    }
                                ],
                                "kqmagic_version": "0.1.113.post1"
                            },
                            "data": []
                        }
                    },
                    "metadata": {},
                    "output_type": "display_data"
                },
                {
                    "data": {
                        "text/plain": "<IPython.core.display.HTML object>",
                        "text/html": "<html>\n        <head>\n            \n            \n        </head>\n        <body>\n            <div><p style='padding: 10px; color: #3a87ad; background-color: #d9edf7; border-color: #bce9f1'>Done&nbsp;(00:00.442):&nbsp;0&nbsp;records</p></div>\n        </body>\n        </html>"
                    },
                    "metadata": {},
                    "output_type": "display_data"
                },
                {
                    "data": {
                        "text/plain": "[]",
                        "text/html": ""
                    },
                    "metadata": {},
                    "execution_count": 6,
                    "output_type": "execute_result"
                }
            ],
            "execution_count": 6
        },
        {
            "cell_type": "markdown",
            "source": [
                "# AzureMetrics\r\n",
                "\r\n",
                "This is a sample query to dig into AzureMetrics"
            ],
            "metadata": {
                "azdata_cell_guid": "188a4592-423d-44b6-ad47-902101257761"
            }
        },
        {
            "cell_type": "code",
            "source": [
                "%%kql\r\n",
                "AzureMetrics\r\n",
                "| project-away TenantId, ResourceId, SubscriptionId, _ResourceId, ResourceGroup // Don't show sensitive columns :) \r\n",
                "| project TimeGenerated, MetricName, Total, Count, UnitName\r\n",
                "| take 10\r\n",
                ""
            ],
            "metadata": {
                "azdata_cell_guid": "1ac3f92f-b292-4c74-8020-47de93aebb6f"
            },
            "outputs": [
                {
                    "data": {
                        "text/plain": "<IPython.core.display.HTML object>",
                        "text/html": "<html>\n        <head>\n            \n            \n        </head>\n        <body>\n            <div><p style='padding: 10px; color: #3a87ad; background-color: #d9edf7; border-color: #bce9f1'>&nbsp;*&nbsp;myLogAnalyticsWorkspace@loganalytics</p></div>\n        </body>\n        </html>"
                    },
                    "metadata": {},
                    "output_type": "display_data"
                },
                {
                    "data": {
                        "text/plain": "              TimeGenerated                  MetricName       Total  Count  \\\n0 2021-02-03 16:18:00+00:00            sessions_percent         0.0    4.0   \n1 2021-02-03 16:18:00+00:00                 cpu_percent         0.0    4.0   \n2 2021-02-03 16:18:00+00:00           log_write_percent         0.0    4.0   \n3 2021-02-03 16:18:00+00:00  physical_data_read_percent         0.0    4.0   \n4 2021-02-03 16:18:00+00:00                    cpu_used         0.0    1.0   \n5 2021-02-03 16:18:00+00:00                   cpu_limit        10.0    5.0   \n6 2021-02-03 16:18:00+00:00                     storage  29229056.0    1.0   \n7 2021-02-03 16:18:00+00:00             storage_percent         0.0    1.0   \n8 2021-02-03 16:18:00+00:00         xtp_storage_percent         0.0    4.0   \n9 2021-02-03 16:18:00+00:00             workers_percent         0.0    4.0   \n\n  UnitName  \n0  Percent  \n1  Percent  \n2  Percent  \n3  Percent  \n4    Count  \n5    Count  \n6    Bytes  \n7  Percent  \n8  Percent  \n9  Percent  ",
                        "text/html": "<div>\n<style scoped>\n    .dataframe tbody tr th:only-of-type {\n        vertical-align: middle;\n    }\n\n    .dataframe tbody tr th {\n        vertical-align: top;\n    }\n\n    .dataframe thead th {\n        text-align: right;\n    }\n</style>\n<table border=\"1\" class=\"dataframe\">\n  <thead>\n    <tr style=\"text-align: right;\">\n      <th></th>\n      <th>TimeGenerated</th>\n      <th>MetricName</th>\n      <th>Total</th>\n      <th>Count</th>\n      <th>UnitName</th>\n    </tr>\n  </thead>\n  <tbody>\n    <tr>\n      <th>0</th>\n      <td>2021-02-03 16:18:00+00:00</td>\n      <td>sessions_percent</td>\n      <td>0.0</td>\n      <td>4.0</td>\n      <td>Percent</td>\n    </tr>\n    <tr>\n      <th>1</th>\n      <td>2021-02-03 16:18:00+00:00</td>\n      <td>cpu_percent</td>\n      <td>0.0</td>\n      <td>4.0</td>\n      <td>Percent</td>\n    </tr>\n    <tr>\n      <th>2</th>\n      <td>2021-02-03 16:18:00+00:00</td>\n      <td>log_write_percent</td>\n      <td>0.0</td>\n      <td>4.0</td>\n      <td>Percent</td>\n    </tr>\n    <tr>\n      <th>3</th>\n      <td>2021-02-03 16:18:00+00:00</td>\n      <td>physical_data_read_percent</td>\n      <td>0.0</td>\n      <td>4.0</td>\n      <td>Percent</td>\n    </tr>\n    <tr>\n      <th>4</th>\n      <td>2021-02-03 16:18:00+00:00</td>\n      <td>cpu_used</td>\n      <td>0.0</td>\n      <td>1.0</td>\n      <td>Count</td>\n    </tr>\n    <tr>\n      <th>5</th>\n      <td>2021-02-03 16:18:00+00:00</td>\n      <td>cpu_limit</td>\n      <td>10.0</td>\n      <td>5.0</td>\n      <td>Count</td>\n    </tr>\n    <tr>\n      <th>6</th>\n      <td>2021-02-03 16:18:00+00:00</td>\n      <td>storage</td>\n      <td>29229056.0</td>\n      <td>1.0</td>\n      <td>Bytes</td>\n    </tr>\n    <tr>\n      <th>7</th>\n      <td>2021-02-03 16:18:00+00:00</td>\n      <td>storage_percent</td>\n      <td>0.0</td>\n      <td>1.0</td>\n      <td>Percent</td>\n    </tr>\n    <tr>\n      <th>8</th>\n      <td>2021-02-03 16:18:00+00:00</td>\n      <td>xtp_storage_percent</td>\n      <td>0.0</td>\n      <td>4.0</td>\n      <td>Percent</td>\n    </tr>\n    <tr>\n      <th>9</th>\n      <td>2021-02-03 16:18:00+00:00</td>\n      <td>workers_percent</td>\n      <td>0.0</td>\n      <td>4.0</td>\n      <td>Percent</td>\n    </tr>\n  </tbody>\n</table>\n</div>",
                        "application/vnd.dataresource+json": {
                            "schema": {
                                "fields": [
                                    {
                                        "name": "TimeGenerated",
                                        "type": "datetime",
                                        "tz": "UTC"
                                    },
                                    {
                                        "name": "MetricName",
                                        "type": "string"
                                    },
                                    {
                                        "name": "Total",
                                        "type": "number"
                                    },
                                    {
                                        "name": "Count",
                                        "type": "number"
                                    },
                                    {
                                        "name": "UnitName",
                                        "type": "string"
                                    }
                                ],
                                "kqmagic_version": "0.1.113.post1"
                            },
                            "data": [
                                {
                                    "TimeGenerated": "2021-02-03T16:18:00.000Z",
                                    "MetricName": "sessions_percent",
                                    "Total": 0,
                                    "Count": 4,
                                    "UnitName": "Percent"
                                },
                                {
                                    "TimeGenerated": "2021-02-03T16:18:00.000Z",
                                    "MetricName": "cpu_percent",
                                    "Total": 0,
                                    "Count": 4,
                                    "UnitName": "Percent"
                                },
                                {
                                    "TimeGenerated": "2021-02-03T16:18:00.000Z",
                                    "MetricName": "log_write_percent",
                                    "Total": 0,
                                    "Count": 4,
                                    "UnitName": "Percent"
                                },
                                {
                                    "TimeGenerated": "2021-02-03T16:18:00.000Z",
                                    "MetricName": "physical_data_read_percent",
                                    "Total": 0,
                                    "Count": 4,
                                    "UnitName": "Percent"
                                },
                                {
                                    "TimeGenerated": "2021-02-03T16:18:00.000Z",
                                    "MetricName": "cpu_used",
                                    "Total": 0,
                                    "Count": 1,
                                    "UnitName": "Count"
                                },
                                {
                                    "TimeGenerated": "2021-02-03T16:18:00.000Z",
                                    "MetricName": "cpu_limit",
                                    "Total": 10,
                                    "Count": 5,
                                    "UnitName": "Count"
                                },
                                {
                                    "TimeGenerated": "2021-02-03T16:18:00.000Z",
                                    "MetricName": "storage",
                                    "Total": 29229056,
                                    "Count": 1,
                                    "UnitName": "Bytes"
                                },
                                {
                                    "TimeGenerated": "2021-02-03T16:18:00.000Z",
                                    "MetricName": "storage_percent",
                                    "Total": 0,
                                    "Count": 1,
                                    "UnitName": "Percent"
                                },
                                {
                                    "TimeGenerated": "2021-02-03T16:18:00.000Z",
                                    "MetricName": "xtp_storage_percent",
                                    "Total": 0,
                                    "Count": 4,
                                    "UnitName": "Percent"
                                },
                                {
                                    "TimeGenerated": "2021-02-03T16:18:00.000Z",
                                    "MetricName": "workers_percent",
                                    "Total": 0,
                                    "Count": 4,
                                    "UnitName": "Percent"
                                }
                            ]
                        }
                    },
                    "metadata": {},
                    "output_type": "display_data"
                },
                {
                    "data": {
                        "text/plain": "<IPython.core.display.HTML object>",
                        "text/html": "<html>\n        <head>\n            \n            \n        </head>\n        <body>\n            <div><p style='padding: 10px; color: #3a87ad; background-color: #d9edf7; border-color: #bce9f1'>Done&nbsp;(00:00.329):&nbsp;10&nbsp;records</p></div>\n        </body>\n        </html>"
                    },
                    "metadata": {},
                    "output_type": "display_data"
                },
                {
                    "data": {
                        "text/plain": "[{'TimeGenerated': datetime.datetime(2021, 2, 3, 16, 18, tzinfo=tzutc()), 'MetricName': 'sessions_percent', 'Total': 0, 'Count': 4, 'UnitName': 'Percent'},\n {'TimeGenerated': datetime.datetime(2021, 2, 3, 16, 18, tzinfo=tzutc()), 'MetricName': 'cpu_percent', 'Total': 0, 'Count': 4, 'UnitName': 'Percent'},\n {'TimeGenerated': datetime.datetime(2021, 2, 3, 16, 18, tzinfo=tzutc()), 'MetricName': 'log_write_percent', 'Total': 0, 'Count': 4, 'UnitName': 'Percent'},\n {'TimeGenerated': datetime.datetime(2021, 2, 3, 16, 18, tzinfo=tzutc()), 'MetricName': 'physical_data_read_percent', 'Total': 0, 'Count': 4, 'UnitName': 'Percent'},\n {'TimeGenerated': datetime.datetime(2021, 2, 3, 16, 18, tzinfo=tzutc()), 'MetricName': 'cpu_used', 'Total': 0, 'Count': 1, 'UnitName': 'Count'},\n {'TimeGenerated': datetime.datetime(2021, 2, 3, 16, 18, tzinfo=tzutc()), 'MetricName': 'cpu_limit', 'Total': 10, 'Count': 5, 'UnitName': 'Count'},\n {'TimeGenerated': datetime.datetime(2021, 2, 3, 16, 18, tzinfo=tzutc()), 'MetricName': 'storage', 'Total': 29229056, 'Count': 1, 'UnitName': 'Bytes'},\n {'TimeGenerated': datetime.datetime(2021, 2, 3, 16, 18, tzinfo=tzutc()), 'MetricName': 'storage_percent', 'Total': 0, 'Count': 1, 'UnitName': 'Percent'},\n {'TimeGenerated': datetime.datetime(2021, 2, 3, 16, 18, tzinfo=tzutc()), 'MetricName': 'xtp_storage_percent', 'Total': 0, 'Count': 4, 'UnitName': 'Percent'},\n {'TimeGenerated': datetime.datetime(2021, 2, 3, 16, 18, tzinfo=tzutc()), 'MetricName': 'workers_percent', 'Total': 0, 'Count': 4, 'UnitName': 'Percent'}]",
                        "text/html": ""
                    },
                    "metadata": {},
                    "execution_count": 7,
                    "output_type": "execute_result"
                }
            ],
            "execution_count": 7
        },
        {
            "cell_type": "markdown",
            "source": [
                "# AzureDiagnostics\n",
                "\n",
                "This is a sample query to dig into AzureDiagnostics. This table tends to have more details than AzureMetrics."
            ],
            "metadata": {
                "azdata_cell_guid": "b7d842a1-4228-48c8-ab44-126adf65d1ed"
            }
        },
        {
            "cell_type": "code",
            "source": [
                "%%kql\r\n",
                "AzureDiagnostics\r\n",
                "| project-away TenantId, ResourceId, SubscriptionId, ResourceGroup, _ResourceId // Don't show sensitive columns :) \r\n",
                "| take 10"
            ],
            "metadata": {
                "azdata_cell_guid": "310413ed-93a0-4f80-ad80-9f7cd3e862da"
            },
            "outputs": [],
            "execution_count": null
        },
        {
            "cell_type": "markdown",
            "source": [
                "## Analyze (non-audit) Events"
            ],
            "metadata": {
                "azdata_cell_guid": "19ee8932-d9da-4d77-ad62-005f38918138"
            }
        },
        {
            "cell_type": "code",
            "source": [
                "%%kql \r\n",
                "AzureDiagnostics\r\n",
                "| summarize event_count=count() by bin(TimeGenerated, 2d), OperationName\r\n",
                "| where OperationName <> \"AuditEvent\"\r\n",
                "| render timechart "
            ],
            "metadata": {
                "azdata_cell_guid": "b0794fb8-5a03-47c1-90ea-1639a07d665b",
                "tags": []
            },
            "outputs": [
                {
                    "data": {
                        "text/plain": "<IPython.core.display.HTML object>",
                        "text/html": "<html>\n        <head>\n            \n            \n        </head>\n        <body>\n            <div><p style='padding: 10px; color: #3a87ad; background-color: #d9edf7; border-color: #bce9f1'>&nbsp;*&nbsp;myLogAnalyticsWorkspace@loganalytics</p></div>\n        </body>\n        </html>"
                    },
                    "metadata": {},
                    "output_type": "display_data"
                },
                {
                    "data": {
                        "application/vnd.plotly.v1+json": {
                            "config": {
                                "plotlyServerURL": "https://plot.ly"
                            },
                            "data": [
                                {
                                    "line": {
                                        "color": "rgb(31, 118, 179)",
                                        "width": 1
                                    },
                                    "name": "ErrorEvent:event_count",
                                    "opacity": 0.8,
                                    "type": "scatter",
                                    "x": [
                                        "2021-01-23T00:00:00+00:00",
                                        "2021-01-31T00:00:00+00:00",
                                        "2021-02-02T00:00:00+00:00"
                                    ],
                                    "y": [
                                        77,
                                        43,
                                        23
                                    ]
                                },
                                {
                                    "line": {
                                        "color": "rgb(254, 127, 14)",
                                        "width": 1
                                    },
                                    "name": "TimeoutEvent:event_count",
                                    "opacity": 0.8,
                                    "type": "scatter",
                                    "x": [
                                        "2021-01-23T00:00:00+00:00",
                                        "2021-01-31T00:00:00+00:00",
                                        "2021-02-02T00:00:00+00:00"
                                    ],
                                    "y": [
                                        null,
                                        1,
                                        null
                                    ]
                                },
                                {
                                    "line": {
                                        "color": "rgb(44, 160, 44)",
                                        "width": 1
                                    },
                                    "name": "DeadlockEvent:event_count",
                                    "opacity": 0.8,
                                    "type": "scatter",
                                    "x": [
                                        "2021-01-23T00:00:00+00:00",
                                        "2021-01-31T00:00:00+00:00",
                                        "2021-02-02T00:00:00+00:00"
                                    ],
                                    "y": [
                                        null,
                                        4,
                                        1
                                    ]
                                },
                                {
                                    "line": {
                                        "color": "rgb(214, 39, 39)",
                                        "width": 1
                                    },
                                    "name": "QueryStoreRuntimeStatisticsEvent:event_count",
                                    "opacity": 0.8,
                                    "type": "scatter",
                                    "x": [
                                        "2021-01-23T00:00:00+00:00",
                                        "2021-01-31T00:00:00+00:00",
                                        "2021-02-02T00:00:00+00:00"
                                    ],
                                    "y": [
                                        null,
                                        3,
                                        5
                                    ]
                                }
                            ],
                            "layout": {
                                "showlegend": true,
                                "template": {
                                    "data": {
                                        "bar": [
                                            {
                                                "error_x": {
                                                    "color": "#2a3f5f"
                                                },
                                                "error_y": {
                                                    "color": "#2a3f5f"
                                                },
                                                "marker": {
                                                    "line": {
                                                        "color": "#E5ECF6",
                                                        "width": 0.5
                                                    }
                                                },
                                                "type": "bar"
                                            }
                                        ],
                                        "barpolar": [
                                            {
                                                "marker": {
                                                    "line": {
                                                        "color": "#E5ECF6",
                                                        "width": 0.5
                                                    }
                                                },
                                                "type": "barpolar"
                                            }
                                        ],
                                        "carpet": [
                                            {
                                                "aaxis": {
                                                    "endlinecolor": "#2a3f5f",
                                                    "gridcolor": "white",
                                                    "linecolor": "white",
                                                    "minorgridcolor": "white",
                                                    "startlinecolor": "#2a3f5f"
                                                },
                                                "baxis": {
                                                    "endlinecolor": "#2a3f5f",
                                                    "gridcolor": "white",
                                                    "linecolor": "white",
                                                    "minorgridcolor": "white",
                                                    "startlinecolor": "#2a3f5f"
                                                },
                                                "type": "carpet"
                                            }
                                        ],
                                        "choropleth": [
                                            {
                                                "colorbar": {
                                                    "outlinewidth": 0,
                                                    "ticks": ""
                                                },
                                                "type": "choropleth"
                                            }
                                        ],
                                        "contour": [
                                            {
                                                "colorbar": {
                                                    "outlinewidth": 0,
                                                    "ticks": ""
                                                },
                                                "colorscale": [
                                                    [
                                                        0,
                                                        "#0d0887"
                                                    ],
                                                    [
                                                        0.1111111111111111,
                                                        "#46039f"
                                                    ],
                                                    [
                                                        0.2222222222222222,
                                                        "#7201a8"
                                                    ],
                                                    [
                                                        0.3333333333333333,
                                                        "#9c179e"
                                                    ],
                                                    [
                                                        0.4444444444444444,
                                                        "#bd3786"
                                                    ],
                                                    [
                                                        0.5555555555555556,
                                                        "#d8576b"
                                                    ],
                                                    [
                                                        0.6666666666666666,
                                                        "#ed7953"
                                                    ],
                                                    [
                                                        0.7777777777777778,
                                                        "#fb9f3a"
                                                    ],
                                                    [
                                                        0.8888888888888888,
                                                        "#fdca26"
                                                    ],
                                                    [
                                                        1,
                                                        "#f0f921"
                                                    ]
                                                ],
                                                "type": "contour"
                                            }
                                        ],
                                        "contourcarpet": [
                                            {
                                                "colorbar": {
                                                    "outlinewidth": 0,
                                                    "ticks": ""
                                                },
                                                "type": "contourcarpet"
                                            }
                                        ],
                                        "heatmap": [
                                            {
                                                "colorbar": {
                                                    "outlinewidth": 0,
                                                    "ticks": ""
                                                },
                                                "colorscale": [
                                                    [
                                                        0,
                                                        "#0d0887"
                                                    ],
                                                    [
                                                        0.1111111111111111,
                                                        "#46039f"
                                                    ],
                                                    [
                                                        0.2222222222222222,
                                                        "#7201a8"
                                                    ],
                                                    [
                                                        0.3333333333333333,
                                                        "#9c179e"
                                                    ],
                                                    [
                                                        0.4444444444444444,
                                                        "#bd3786"
                                                    ],
                                                    [
                                                        0.5555555555555556,
                                                        "#d8576b"
                                                    ],
                                                    [
                                                        0.6666666666666666,
                                                        "#ed7953"
                                                    ],
                                                    [
                                                        0.7777777777777778,
                                                        "#fb9f3a"
                                                    ],
                                                    [
                                                        0.8888888888888888,
                                                        "#fdca26"
                                                    ],
                                                    [
                                                        1,
                                                        "#f0f921"
                                                    ]
                                                ],
                                                "type": "heatmap"
                                            }
                                        ],
                                        "heatmapgl": [
                                            {
                                                "colorbar": {
                                                    "outlinewidth": 0,
                                                    "ticks": ""
                                                },
                                                "colorscale": [
                                                    [
                                                        0,
                                                        "#0d0887"
                                                    ],
                                                    [
                                                        0.1111111111111111,
                                                        "#46039f"
                                                    ],
                                                    [
                                                        0.2222222222222222,
                                                        "#7201a8"
                                                    ],
                                                    [
                                                        0.3333333333333333,
                                                        "#9c179e"
                                                    ],
                                                    [
                                                        0.4444444444444444,
                                                        "#bd3786"
                                                    ],
                                                    [
                                                        0.5555555555555556,
                                                        "#d8576b"
                                                    ],
                                                    [
                                                        0.6666666666666666,
                                                        "#ed7953"
                                                    ],
                                                    [
                                                        0.7777777777777778,
                                                        "#fb9f3a"
                                                    ],
                                                    [
                                                        0.8888888888888888,
                                                        "#fdca26"
                                                    ],
                                                    [
                                                        1,
                                                        "#f0f921"
                                                    ]
                                                ],
                                                "type": "heatmapgl"
                                            }
                                        ],
                                        "histogram": [
                                            {
                                                "marker": {
                                                    "colorbar": {
                                                        "outlinewidth": 0,
                                                        "ticks": ""
                                                    }
                                                },
                                                "type": "histogram"
                                            }
                                        ],
                                        "histogram2d": [
                                            {
                                                "colorbar": {
                                                    "outlinewidth": 0,
                                                    "ticks": ""
                                                },
                                                "colorscale": [
                                                    [
                                                        0,
                                                        "#0d0887"
                                                    ],
                                                    [
                                                        0.1111111111111111,
                                                        "#46039f"
                                                    ],
                                                    [
                                                        0.2222222222222222,
                                                        "#7201a8"
                                                    ],
                                                    [
                                                        0.3333333333333333,
                                                        "#9c179e"
                                                    ],
                                                    [
                                                        0.4444444444444444,
                                                        "#bd3786"
                                                    ],
                                                    [
                                                        0.5555555555555556,
                                                        "#d8576b"
                                                    ],
                                                    [
                                                        0.6666666666666666,
                                                        "#ed7953"
                                                    ],
                                                    [
                                                        0.7777777777777778,
                                                        "#fb9f3a"
                                                    ],
                                                    [
                                                        0.8888888888888888,
                                                        "#fdca26"
                                                    ],
                                                    [
                                                        1,
                                                        "#f0f921"
                                                    ]
                                                ],
                                                "type": "histogram2d"
                                            }
                                        ],
                                        "histogram2dcontour": [
                                            {
                                                "colorbar": {
                                                    "outlinewidth": 0,
                                                    "ticks": ""
                                                },
                                                "colorscale": [
                                                    [
                                                        0,
                                                        "#0d0887"
                                                    ],
                                                    [
                                                        0.1111111111111111,
                                                        "#46039f"
                                                    ],
                                                    [
                                                        0.2222222222222222,
                                                        "#7201a8"
                                                    ],
                                                    [
                                                        0.3333333333333333,
                                                        "#9c179e"
                                                    ],
                                                    [
                                                        0.4444444444444444,
                                                        "#bd3786"
                                                    ],
                                                    [
                                                        0.5555555555555556,
                                                        "#d8576b"
                                                    ],
                                                    [
                                                        0.6666666666666666,
                                                        "#ed7953"
                                                    ],
                                                    [
                                                        0.7777777777777778,
                                                        "#fb9f3a"
                                                    ],
                                                    [
                                                        0.8888888888888888,
                                                        "#fdca26"
                                                    ],
                                                    [
                                                        1,
                                                        "#f0f921"
                                                    ]
                                                ],
                                                "type": "histogram2dcontour"
                                            }
                                        ],
                                        "mesh3d": [
                                            {
                                                "colorbar": {
                                                    "outlinewidth": 0,
                                                    "ticks": ""
                                                },
                                                "type": "mesh3d"
                                            }
                                        ],
                                        "parcoords": [
                                            {
                                                "line": {
                                                    "colorbar": {
                                                        "outlinewidth": 0,
                                                        "ticks": ""
                                                    }
                                                },
                                                "type": "parcoords"
                                            }
                                        ],
                                        "pie": [
                                            {
                                                "automargin": true,
                                                "type": "pie"
                                            }
                                        ],
                                        "scatter": [
                                            {
                                                "marker": {
                                                    "colorbar": {
                                                        "outlinewidth": 0,
                                                        "ticks": ""
                                                    }
                                                },
                                                "type": "scatter"
                                            }
                                        ],
                                        "scatter3d": [
                                            {
                                                "line": {
                                                    "colorbar": {
                                                        "outlinewidth": 0,
                                                        "ticks": ""
                                                    }
                                                },
                                                "marker": {
                                                    "colorbar": {
                                                        "outlinewidth": 0,
                                                        "ticks": ""
                                                    }
                                                },
                                                "type": "scatter3d"
                                            }
                                        ],
                                        "scattercarpet": [
                                            {
                                                "marker": {
                                                    "colorbar": {
                                                        "outlinewidth": 0,
                                                        "ticks": ""
                                                    }
                                                },
                                                "type": "scattercarpet"
                                            }
                                        ],
                                        "scattergeo": [
                                            {
                                                "marker": {
                                                    "colorbar": {
                                                        "outlinewidth": 0,
                                                        "ticks": ""
                                                    }
                                                },
                                                "type": "scattergeo"
                                            }
                                        ],
                                        "scattergl": [
                                            {
                                                "marker": {
                                                    "colorbar": {
                                                        "outlinewidth": 0,
                                                        "ticks": ""
                                                    }
                                                },
                                                "type": "scattergl"
                                            }
                                        ],
                                        "scattermapbox": [
                                            {
                                                "marker": {
                                                    "colorbar": {
                                                        "outlinewidth": 0,
                                                        "ticks": ""
                                                    }
                                                },
                                                "type": "scattermapbox"
                                            }
                                        ],
                                        "scatterpolar": [
                                            {
                                                "marker": {
                                                    "colorbar": {
                                                        "outlinewidth": 0,
                                                        "ticks": ""
                                                    }
                                                },
                                                "type": "scatterpolar"
                                            }
                                        ],
                                        "scatterpolargl": [
                                            {
                                                "marker": {
                                                    "colorbar": {
                                                        "outlinewidth": 0,
                                                        "ticks": ""
                                                    }
                                                },
                                                "type": "scatterpolargl"
                                            }
                                        ],
                                        "scatterternary": [
                                            {
                                                "marker": {
                                                    "colorbar": {
                                                        "outlinewidth": 0,
                                                        "ticks": ""
                                                    }
                                                },
                                                "type": "scatterternary"
                                            }
                                        ],
                                        "surface": [
                                            {
                                                "colorbar": {
                                                    "outlinewidth": 0,
                                                    "ticks": ""
                                                },
                                                "colorscale": [
                                                    [
                                                        0,
                                                        "#0d0887"
                                                    ],
                                                    [
                                                        0.1111111111111111,
                                                        "#46039f"
                                                    ],
                                                    [
                                                        0.2222222222222222,
                                                        "#7201a8"
                                                    ],
                                                    [
                                                        0.3333333333333333,
                                                        "#9c179e"
                                                    ],
                                                    [
                                                        0.4444444444444444,
                                                        "#bd3786"
                                                    ],
                                                    [
                                                        0.5555555555555556,
                                                        "#d8576b"
                                                    ],
                                                    [
                                                        0.6666666666666666,
                                                        "#ed7953"
                                                    ],
                                                    [
                                                        0.7777777777777778,
                                                        "#fb9f3a"
                                                    ],
                                                    [
                                                        0.8888888888888888,
                                                        "#fdca26"
                                                    ],
                                                    [
                                                        1,
                                                        "#f0f921"
                                                    ]
                                                ],
                                                "type": "surface"
                                            }
                                        ],
                                        "table": [
                                            {
                                                "cells": {
                                                    "fill": {
                                                        "color": "#EBF0F8"
                                                    },
                                                    "line": {
                                                        "color": "white"
                                                    }
                                                },
                                                "header": {
                                                    "fill": {
                                                        "color": "#C8D4E3"
                                                    },
                                                    "line": {
                                                        "color": "white"
                                                    }
                                                },
                                                "type": "table"
                                            }
                                        ]
                                    },
                                    "layout": {
                                        "annotationdefaults": {
                                            "arrowcolor": "#2a3f5f",
                                            "arrowhead": 0,
                                            "arrowwidth": 1
                                        },
                                        "coloraxis": {
                                            "colorbar": {
                                                "outlinewidth": 0,
                                                "ticks": ""
                                            }
                                        },
                                        "colorscale": {
                                            "diverging": [
                                                [
                                                    0,
                                                    "#8e0152"
                                                ],
                                                [
                                                    0.1,
                                                    "#c51b7d"
                                                ],
                                                [
                                                    0.2,
                                                    "#de77ae"
                                                ],
                                                [
                                                    0.3,
                                                    "#f1b6da"
                                                ],
                                                [
                                                    0.4,
                                                    "#fde0ef"
                                                ],
                                                [
                                                    0.5,
                                                    "#f7f7f7"
                                                ],
                                                [
                                                    0.6,
                                                    "#e6f5d0"
                                                ],
                                                [
                                                    0.7,
                                                    "#b8e186"
                                                ],
                                                [
                                                    0.8,
                                                    "#7fbc41"
                                                ],
                                                [
                                                    0.9,
                                                    "#4d9221"
                                                ],
                                                [
                                                    1,
                                                    "#276419"
                                                ]
                                            ],
                                            "sequential": [
                                                [
                                                    0,
                                                    "#0d0887"
                                                ],
                                                [
                                                    0.1111111111111111,
                                                    "#46039f"
                                                ],
                                                [
                                                    0.2222222222222222,
                                                    "#7201a8"
                                                ],
                                                [
                                                    0.3333333333333333,
                                                    "#9c179e"
                                                ],
                                                [
                                                    0.4444444444444444,
                                                    "#bd3786"
                                                ],
                                                [
                                                    0.5555555555555556,
                                                    "#d8576b"
                                                ],
                                                [
                                                    0.6666666666666666,
                                                    "#ed7953"
                                                ],
                                                [
                                                    0.7777777777777778,
                                                    "#fb9f3a"
                                                ],
                                                [
                                                    0.8888888888888888,
                                                    "#fdca26"
                                                ],
                                                [
                                                    1,
                                                    "#f0f921"
                                                ]
                                            ],
                                            "sequentialminus": [
                                                [
                                                    0,
                                                    "#0d0887"
                                                ],
                                                [
                                                    0.1111111111111111,
                                                    "#46039f"
                                                ],
                                                [
                                                    0.2222222222222222,
                                                    "#7201a8"
                                                ],
                                                [
                                                    0.3333333333333333,
                                                    "#9c179e"
                                                ],
                                                [
                                                    0.4444444444444444,
                                                    "#bd3786"
                                                ],
                                                [
                                                    0.5555555555555556,
                                                    "#d8576b"
                                                ],
                                                [
                                                    0.6666666666666666,
                                                    "#ed7953"
                                                ],
                                                [
                                                    0.7777777777777778,
                                                    "#fb9f3a"
                                                ],
                                                [
                                                    0.8888888888888888,
                                                    "#fdca26"
                                                ],
                                                [
                                                    1,
                                                    "#f0f921"
                                                ]
                                            ]
                                        },
                                        "colorway": [
                                            "#636efa",
                                            "#EF553B",
                                            "#00cc96",
                                            "#ab63fa",
                                            "#FFA15A",
                                            "#19d3f3",
                                            "#FF6692",
                                            "#B6E880",
                                            "#FF97FF",
                                            "#FECB52"
                                        ],
                                        "font": {
                                            "color": "#2a3f5f"
                                        },
                                        "geo": {
                                            "bgcolor": "white",
                                            "lakecolor": "white",
                                            "landcolor": "#E5ECF6",
                                            "showlakes": true,
                                            "showland": true,
                                            "subunitcolor": "white"
                                        },
                                        "hoverlabel": {
                                            "align": "left"
                                        },
                                        "hovermode": "closest",
                                        "mapbox": {
                                            "style": "light"
                                        },
                                        "paper_bgcolor": "white",
                                        "plot_bgcolor": "#E5ECF6",
                                        "polar": {
                                            "angularaxis": {
                                                "gridcolor": "white",
                                                "linecolor": "white",
                                                "ticks": ""
                                            },
                                            "bgcolor": "#E5ECF6",
                                            "radialaxis": {
                                                "gridcolor": "white",
                                                "linecolor": "white",
                                                "ticks": ""
                                            }
                                        },
                                        "scene": {
                                            "xaxis": {
                                                "backgroundcolor": "#E5ECF6",
                                                "gridcolor": "white",
                                                "gridwidth": 2,
                                                "linecolor": "white",
                                                "showbackground": true,
                                                "ticks": "",
                                                "zerolinecolor": "white"
                                            },
                                            "yaxis": {
                                                "backgroundcolor": "#E5ECF6",
                                                "gridcolor": "white",
                                                "gridwidth": 2,
                                                "linecolor": "white",
                                                "showbackground": true,
                                                "ticks": "",
                                                "zerolinecolor": "white"
                                            },
                                            "zaxis": {
                                                "backgroundcolor": "#E5ECF6",
                                                "gridcolor": "white",
                                                "gridwidth": 2,
                                                "linecolor": "white",
                                                "showbackground": true,
                                                "ticks": "",
                                                "zerolinecolor": "white"
                                            }
                                        },
                                        "shapedefaults": {
                                            "line": {
                                                "color": "#2a3f5f"
                                            }
                                        },
                                        "ternary": {
                                            "aaxis": {
                                                "gridcolor": "white",
                                                "linecolor": "white",
                                                "ticks": ""
                                            },
                                            "baxis": {
                                                "gridcolor": "white",
                                                "linecolor": "white",
                                                "ticks": ""
                                            },
                                            "bgcolor": "#E5ECF6",
                                            "caxis": {
                                                "gridcolor": "white",
                                                "linecolor": "white",
                                                "ticks": ""
                                            }
                                        },
                                        "title": {
                                            "x": 0.05
                                        },
                                        "xaxis": {
                                            "automargin": true,
                                            "gridcolor": "white",
                                            "linecolor": "white",
                                            "ticks": "",
                                            "title": {
                                                "standoff": 15
                                            },
                                            "zerolinecolor": "white",
                                            "zerolinewidth": 2
                                        },
                                        "yaxis": {
                                            "automargin": true,
                                            "gridcolor": "white",
                                            "linecolor": "white",
                                            "ticks": "",
                                            "title": {
                                                "standoff": 15
                                            },
                                            "zerolinecolor": "white",
                                            "zerolinewidth": 2
                                        }
                                    }
                                },
                                "title": {
                                    "text": "timechart"
                                },
                                "xaxis": {
                                    "autorange": true,
                                    "title": {
                                        "text": "TimeGenerated"
                                    },
                                    "type": "date"
                                },
                                "yaxis": {
                                    "ticksuffix": "",
                                    "title": {
                                        "text": "event_count"
                                    },
                                    "type": "linear"
                                }
                            }
                        }
                    },
                    "metadata": {},
                    "output_type": "display_data"
                },
                {
                    "data": {
                        "text/plain": "<IPython.core.display.HTML object>",
                        "text/html": "<html>\n        <head>\n            \n            \n        </head>\n        <body>\n            <div><p style='padding: 10px; color: #3a87ad; background-color: #d9edf7; border-color: #bce9f1'>Done&nbsp;(00:00.289):&nbsp;8&nbsp;records</p></div>\n        </body>\n        </html>"
                    },
                    "metadata": {},
                    "output_type": "display_data"
                },
                {
                    "data": {
                        "text/plain": "[{'TimeGenerated': datetime.datetime(2021, 2, 2, 0, 0, tzinfo=tzutc()), 'OperationName': 'DeadlockEvent', 'event_count': 1},\n {'TimeGenerated': datetime.datetime(2021, 2, 2, 0, 0, tzinfo=tzutc()), 'OperationName': 'ErrorEvent', 'event_count': 23},\n {'TimeGenerated': datetime.datetime(2021, 2, 2, 0, 0, tzinfo=tzutc()), 'OperationName': 'QueryStoreRuntimeStatisticsEvent', 'event_count': 5},\n {'TimeGenerated': datetime.datetime(2021, 1, 31, 0, 0, tzinfo=tzutc()), 'OperationName': 'TimeoutEvent', 'event_count': 1},\n {'TimeGenerated': datetime.datetime(2021, 1, 31, 0, 0, tzinfo=tzutc()), 'OperationName': 'ErrorEvent', 'event_count': 43},\n {'TimeGenerated': datetime.datetime(2021, 1, 31, 0, 0, tzinfo=tzutc()), 'OperationName': 'DeadlockEvent', 'event_count': 4},\n {'TimeGenerated': datetime.datetime(2021, 1, 31, 0, 0, tzinfo=tzutc()), 'OperationName': 'QueryStoreRuntimeStatisticsEvent', 'event_count': 3},\n {'TimeGenerated': datetime.datetime(2021, 1, 23, 0, 0, tzinfo=tzutc()), 'OperationName': 'ErrorEvent', 'event_count': 77}]",
                        "text/html": ""
                    },
                    "metadata": {},
                    "execution_count": 9,
                    "output_type": "execute_result"
                }
            ],
            "execution_count": 9
        },
        {
            "cell_type": "markdown",
            "source": [
                "## Deadlock Analysis"
            ],
            "metadata": {
                "azdata_cell_guid": "a1661835-fcb5-4af9-a353-4e7a0c70cb56"
            }
        },
        {
            "cell_type": "code",
            "source": [
                "%%kql\r\n",
                "AzureDiagnostics\r\n",
                "| where OperationName == \"DeadlockEvent\"\r\n",
                "| project TimeGenerated, Category, Resource, OperationName, Type, deadlock_xml_s\r\n",
                "| sort by TimeGenerated desc\r\n",
                "| take 50"
            ],
            "metadata": {
                "azdata_cell_guid": "60a7b4cb-076c-4222-a80f-a6e11cf51a4e"
            },
            "outputs": [
                {
                    "data": {
                        "text/plain": "<IPython.core.display.HTML object>",
                        "text/html": "<html>\n        <head>\n            \n            \n        </head>\n        <body>\n            <div><p style='padding: 10px; color: #3a87ad; background-color: #d9edf7; border-color: #bce9f1'>&nbsp;*&nbsp;myLogAnalyticsWorkspace@loganalytics</p></div>\n        </body>\n        </html>"
                    },
                    "metadata": {},
                    "output_type": "display_data"
                },
                {
                    "data": {
                        "text/plain": "                     TimeGenerated   Category        Resource  OperationName  \\\n0 2021-02-03 07:14:30.857000+00:00  Deadlocks  ADVENTUREWORKS  DeadlockEvent   \n1 2021-01-31 23:17:10.991000+00:00  Deadlocks  ADVENTUREWORKS  DeadlockEvent   \n2 2021-01-31 17:52:44.755000+00:00  Deadlocks  ADVENTUREWORKS  DeadlockEvent   \n3 2021-01-31 17:49:57.021000+00:00  Deadlocks  ADVENTUREWORKS  DeadlockEvent   \n4 2021-01-31 17:41:58.653000+00:00  Deadlocks  ADVENTUREWORKS  DeadlockEvent   \n\n               Type                                     deadlock_xml_s  \n0  AzureDiagnostics  <deadlock>   <victim-list>    <victimProcess i...  \n1  AzureDiagnostics  <deadlock>   <victim-list>    <victimProcess i...  \n2  AzureDiagnostics  <deadlock>   <victim-list>    <victimProcess i...  \n3  AzureDiagnostics  <deadlock>   <victim-list>    <victimProcess i...  \n4  AzureDiagnostics  <deadlock>   <victim-list>    <victimProcess i...  ",
                        "text/html": "<div>\n<style scoped>\n    .dataframe tbody tr th:only-of-type {\n        vertical-align: middle;\n    }\n\n    .dataframe tbody tr th {\n        vertical-align: top;\n    }\n\n    .dataframe thead th {\n        text-align: right;\n    }\n</style>\n<table border=\"1\" class=\"dataframe\">\n  <thead>\n    <tr style=\"text-align: right;\">\n      <th></th>\n      <th>TimeGenerated</th>\n      <th>Category</th>\n      <th>Resource</th>\n      <th>OperationName</th>\n      <th>Type</th>\n      <th>deadlock_xml_s</th>\n    </tr>\n  </thead>\n  <tbody>\n    <tr>\n      <th>0</th>\n      <td>2021-02-03 07:14:30.857000+00:00</td>\n      <td>Deadlocks</td>\n      <td>ADVENTUREWORKS</td>\n      <td>DeadlockEvent</td>\n      <td>AzureDiagnostics</td>\n      <td>&lt;deadlock&gt;   &lt;victim-list&gt;    &lt;victimProcess i...</td>\n    </tr>\n    <tr>\n      <th>1</th>\n      <td>2021-01-31 23:17:10.991000+00:00</td>\n      <td>Deadlocks</td>\n      <td>ADVENTUREWORKS</td>\n      <td>DeadlockEvent</td>\n      <td>AzureDiagnostics</td>\n      <td>&lt;deadlock&gt;   &lt;victim-list&gt;    &lt;victimProcess i...</td>\n    </tr>\n    <tr>\n      <th>2</th>\n      <td>2021-01-31 17:52:44.755000+00:00</td>\n      <td>Deadlocks</td>\n      <td>ADVENTUREWORKS</td>\n      <td>DeadlockEvent</td>\n      <td>AzureDiagnostics</td>\n      <td>&lt;deadlock&gt;   &lt;victim-list&gt;    &lt;victimProcess i...</td>\n    </tr>\n    <tr>\n      <th>3</th>\n      <td>2021-01-31 17:49:57.021000+00:00</td>\n      <td>Deadlocks</td>\n      <td>ADVENTUREWORKS</td>\n      <td>DeadlockEvent</td>\n      <td>AzureDiagnostics</td>\n      <td>&lt;deadlock&gt;   &lt;victim-list&gt;    &lt;victimProcess i...</td>\n    </tr>\n    <tr>\n      <th>4</th>\n      <td>2021-01-31 17:41:58.653000+00:00</td>\n      <td>Deadlocks</td>\n      <td>ADVENTUREWORKS</td>\n      <td>DeadlockEvent</td>\n      <td>AzureDiagnostics</td>\n      <td>&lt;deadlock&gt;   &lt;victim-list&gt;    &lt;victimProcess i...</td>\n    </tr>\n  </tbody>\n</table>\n</div>",
                        "application/vnd.dataresource+json": {
                            "schema": {
                                "fields": [
                                    {
                                        "name": "TimeGenerated",
                                        "type": "datetime",
                                        "tz": "UTC"
                                    },
                                    {
                                        "name": "Category",
                                        "type": "string"
                                    },
                                    {
                                        "name": "Resource",
                                        "type": "string"
                                    },
                                    {
                                        "name": "OperationName",
                                        "type": "string"
                                    },
                                    {
                                        "name": "Type",
                                        "type": "string"
                                    },
                                    {
                                        "name": "deadlock_xml_s",
                                        "type": "string"
                                    }
                                ],
                                "kqmagic_version": "0.1.113.post1"
                            },
                            "data": [
                                {
                                    "TimeGenerated": "2021-02-03T07:14:30.857Z",
                                    "Category": "Deadlocks",
                                    "Resource": "ADVENTUREWORKS",
                                    "OperationName": "DeadlockEvent",
                                    "Type": "AzureDiagnostics",
                                    "deadlock_xml_s": "<deadlock>   <victim-list>    <victimProcess id='process1e29c477c28'/>   </victim-list>   <process-list>    <process id='process1e29c477c28' taskpriority='0' logused='280' waitresource='KEY: 5:72057594046447616 (5495ec521809)' waittime='2155' ownerId='6175817' transactionname='user_transaction' lasttranstarted='2021-02-03T07:14:28.693' XDES='0x1e2b1a68428' lockMode='U' schedulerid='2' kpid='40564' status='suspended' spid='77' sbid='0' ecid='0' priority='0' trancount='2' lastbatchstarted='2021-02-03T07:14:28.693' lastbatchcompleted='2021-02-03T07:14:28.650' lastattention='1900-01-01T00:00:00.650' clientapp='azdata-Query' hostname='filtered' hostpid='13868' loginname='filtered' isolationlevel='read committed (2)' xactid='6175817' currentdb='5' currentdbname='AdventureWorks' lockTimeout='5000' clientoption1='671156320' clientoption2='128056'>     <executionStack>      <frame procname='unknown' queryhash='0xfb56c41f149be1bf' queryplanhash='0x61108d8e53ae0281' line='7' stmtstart='260' stmtend='422' sqlhandle='0x0200000076fe5d1c0c6a574e5832f3b8ff93e633e3a1d6ae0000000000000000000000000000000000000000'>  unknown    </frame>      <frame procname='unknown' queryhash='0xfb56c41f149be1bf' queryplanhash='0x61108d8e53ae0281' line='7' stmtstart='260' stmtend='422' sqlhandle='0x0200000014799916228558ae6887fa2c71b2a218bc79a3ef0000000000000000000000000000000000000000'>  unknown    </frame>     </executionStack>     <inputbuf>  filtered   </inputbuf>    </process>    <process id='process1e2a7202ca8' taskpriority='0' logused='524' waitresource='KEY: 5:72057594046382080 (8194443284a0)' waittime='1423' ownerId='6175703' transactionname='user_transaction' lasttranstarted='2021-02-03T07:14:24.417' XDES='0x1e2b1a1c428' lockMode='U' schedulerid='2' kpid='66832' status='suspended' spid='76' sbid='0' ecid='0' priority='0' trancount='2' lastbatchstarted='2021-02-03T07:14:24.417' lastbatchcompleted='2021-02-03T07:14:19.200' lastattention='1900-01-01T00:00:00.200' clientapp='azdata-Query' hostname='filtered' hostpid='13868' loginname='filtered' isolationlevel='read committed (2)' xactid='6175703' currentdb='5' currentdbname='AdventureWorks' lockTimeout='5000' clientoption1='671156320' clientoption2='128056'>     <executionStack>      <frame procname='unknown' queryhash='0xa57159d12cb813fb' queryplanhash='0x10cbf3310dab2eb5' line='9' stmtstart='58' stmtend='186' sqlhandle='0x020000009897910214549261257b982dc5f67c7e4f562ee10000000000000000000000000000000000000000'>  unknown    </frame>      <frame procname='unknown' queryhash='0xa57159d12cb813fb' queryplanhash='0x10cbf3310dab2eb5' line='9' stmtstart='346' stmtend='484' sqlhandle='0x0200000074621c16aec77e463588eac0b82c197e790a52ba0000000000000000000000000000000000000000'>  unknown    </frame>     </executionStack>     <inputbuf>  filtered   </inputbuf>    </process>   </process-list>   <resource-list>    <keylock hobtid='72057594046447616' dbid='5' objectname='filtered' indexname='filtered' id='lock1e2b8466680' mode='X' associatedObjectId='72057594046447616'>     <owner-list>      <owner id='process1e2a7202ca8' mode='X'/>     </owner-list>     <waiter-list>      <waiter id='process1e29c477c28' mode='U' requestType='wait'/>     </waiter-list>    </keylock>    <keylock hobtid='72057594046382080' dbid='5' objectname='filtered' indexname='filtered' id='lock1e2a52b6080' mode='X' associatedObjectId='72057594046382080'>     <owner-list>      <owner id='process1e29c477c28' mode='X'/>     </owner-list>     <waiter-list>      <waiter id='process1e2a7202ca8' mode='U' requestType='wait'/>     </waiter-list>    </keylock>   </resource-list>  </deadlock>  "
                                },
                                {
                                    "TimeGenerated": "2021-01-31T23:17:10.991Z",
                                    "Category": "Deadlocks",
                                    "Resource": "ADVENTUREWORKS",
                                    "OperationName": "DeadlockEvent",
                                    "Type": "AzureDiagnostics",
                                    "deadlock_xml_s": "<deadlock>   <victim-list>    <victimProcess id='process1e2a5f1b848'/>   </victim-list>   <process-list>    <process id='process1e2a5f1b848' taskpriority='0' logused='280' waitresource='KEY: 5:72057594046447616 (5495ec521809)' waittime='4120' ownerId='4118899' transactionname='user_transaction' lasttranstarted='2021-01-31T23:17:06.863' XDES='0x1e2b1a68428' lockMode='U' schedulerid='2' kpid='28192' status='suspended' spid='101' sbid='0' ecid='0' priority='0' trancount='2' lastbatchstarted='2021-01-31T23:17:06.863' lastbatchcompleted='2021-01-31T23:16:55.913' lastattention='1900-01-01T00:00:00.913' clientapp='azdata-Query' hostname='filtered' hostpid='23864' loginname='filtered' isolationlevel='read committed (2)' xactid='4118899' currentdb='5' currentdbname='AdventureWorks' lockTimeout='5000' clientoption1='671156320' clientoption2='128056'>     <executionStack>      <frame procname='unknown' queryhash='0xfb56c41f149be1bf' queryplanhash='0x61108d8e53ae0281' line='7' stmtstart='264' stmtend='426' sqlhandle='0x0200000076fe5d1c0c6a574e5832f3b8ff93e633e3a1d6ae0000000000000000000000000000000000000000'>  unknown    </frame>      <frame procname='unknown' queryhash='0xfb56c41f149be1bf' queryplanhash='0x61108d8e53ae0281' line='7' stmtstart='264' stmtend='426' sqlhandle='0x0200000061c2cb19645e5b95bac21e642ae5c3d3db37e4800000000000000000000000000000000000000000'>  unknown    </frame>     </executionStack>     <inputbuf>  filtered   </inputbuf>    </process>    <process id='process1e2a5639c28' taskpriority='0' logused='524' waitresource='KEY: 5:72057594046382080 (8194443284a0)' waittime='2407' ownerId='4118895' transactionname='user_transaction' lasttranstarted='2021-01-31T23:17:03.573' XDES='0x1e2aa214428' lockMode='U' schedulerid='1' kpid='69652' status='suspended' spid='98' sbid='0' ecid='0' priority='0' trancount='2' lastbatchstarted='2021-01-31T23:17:03.573' lastbatchcompleted='2021-01-31T23:16:51.760' lastattention='1900-01-01T00:00:00.760' clientapp='azdata-Query' hostname='filtered' hostpid='23864' loginname='filtered' isolationlevel='read committed (2)' xactid='4118895' currentdb='5' currentdbname='AdventureWorks' lockTimeout='5000' clientoption1='671156320' clientoption2='128056'>     <executionStack>      <frame procname='unknown' queryhash='0xa57159d12cb813fb' queryplanhash='0x10cbf3310dab2eb5' line='9' stmtstart='58' stmtend='186' sqlhandle='0x020000009897910214549261257b982dc5f67c7e4f562ee10000000000000000000000000000000000000000'>  unknown    </frame>      <frame procname='unknown' queryhash='0xa57159d12cb813fb' queryplanhash='0x10cbf3310dab2eb5' line='9' stmtstart='346' stmtend='484' sqlhandle='0x0200000074621c16aec77e463588eac0b82c197e790a52ba0000000000000000000000000000000000000000'>  unknown    </frame>     </executionStack>     <inputbuf>  filtered   </inputbuf>    </process>   </process-list>   <resource-list>    <keylock hobtid='72057594046447616' dbid='5' objectname='filtered' indexname='filtered' id='lock1e2b8460e00' mode='X' associatedObjectId='72057594046447616'>     <owner-list>      <owner id='process1e2a5639c28' mode='X'/>     </owner-list>     <waiter-list>      <waiter id='process1e2a5f1b848' mode='U' requestType='wait'/>     </waiter-list>    </keylock>    <keylock hobtid='72057594046382080' dbid='5' objectname='filtered' indexname='filtered' id='lock1e2a52c6b00' mode='X' associatedObjectId='72057594046382080'>     <owner-list>      <owner id='process1e2a5f1b848' mode='X'/>     </owner-list>     <waiter-list>      <waiter id='process1e2a5639c28' mode='U' requestType='wait'/>     </waiter-list>    </keylock>   </resource-list>  </deadlock>  "
                                },
                                {
                                    "TimeGenerated": "2021-01-31T17:52:44.755Z",
                                    "Category": "Deadlocks",
                                    "Resource": "ADVENTUREWORKS",
                                    "OperationName": "DeadlockEvent",
                                    "Type": "AzureDiagnostics",
                                    "deadlock_xml_s": "<deadlock>   <victim-list>    <victimProcess id='process1e2a5639468'/>   </victim-list>   <process-list>    <process id='process1e2a5639468' taskpriority='0' logused='280' waitresource='KEY: 5:72057594046447616 (5495ec521809)' waittime='9481' ownerId='3893462' transactionname='user_transaction' lasttranstarted='2021-01-31T17:52:35.270' XDES='0x1e2aa214428' lockMode='U' schedulerid='1' kpid='55800' status='suspended' spid='106' sbid='0' ecid='0' priority='0' trancount='2' lastbatchstarted='2021-01-31T17:52:35.270' lastbatchcompleted='2021-01-31T17:52:34.847' lastattention='1900-01-01T00:00:00.847' clientapp='azdata-Query' hostname='filtered' hostpid='30132' loginname='filtered' isolationlevel='read committed (2)' xactid='3893462' currentdb='5' currentdbname='AdventureWorks' lockTimeout='4294967295' clientoption1='671156320' clientoption2='390200'>     <executionStack>      <frame procname='unknown' queryhash='0xfb56c41f149be1bf' queryplanhash='0x61108d8e53ae0281' line='6' stmtstart='194' stmtend='356' sqlhandle='0x0200000076fe5d1c0c6a574e5832f3b8ff93e633e3a1d6ae0000000000000000000000000000000000000000'>  unknown    </frame>      <frame procname='unknown' queryhash='0xfb56c41f149be1bf' queryplanhash='0x61108d8e53ae0281' line='6' stmtstart='194' stmtend='356' sqlhandle='0x020000000df1110986de8e95f385d65ef83110141c59d4800000000000000000000000000000000000000000'>  unknown    </frame>     </executionStack>     <inputbuf>  filtered   </inputbuf>    </process>    <process id='process1e29e0d7c28' taskpriority='0' logused='524' waitresource='KEY: 5:72057594046382080 (8194443284a0)' waittime='4470' ownerId='3893464' transactionname='user_transaction' lasttranstarted='2021-01-31T17:52:35.270' XDES='0x1e2b1a20428' lockMode='U' schedulerid='2' kpid='58920' status='suspended' spid='99' sbid='0' ecid='0' priority='0' trancount='2' lastbatchstarted='2021-01-31T17:52:35.270' lastbatchcompleted='2021-01-31T17:52:34.847' lastattention='2021-01-31T17:49:38.033' clientapp='azdata-Query' hostname='filtered' hostpid='30132' loginname='filtered' isolationlevel='read committed (2)' xactid='3893464' currentdb='5' currentdbname='AdventureWorks' lockTimeout='4294967295' clientoption1='671156320' clientoption2='390200'>     <executionStack>      <frame procname='unknown' queryhash='0xa57159d12cb813fb' queryplanhash='0x10cbf3310dab2eb5' line='8' stmtstart='58' stmtend='186' sqlhandle='0x020000009897910214549261257b982dc5f67c7e4f562ee10000000000000000000000000000000000000000'>  unknown    </frame>      <frame procname='unknown' queryhash='0xa57159d12cb813fb' queryplanhash='0x10cbf3310dab2eb5' line='8' stmtstart='274' stmtend='412' sqlhandle='0x0200000097c0ba25141e65dbe8b66da5a6d53b0fb9435de90000000000000000000000000000000000000000'>  unknown    </frame>     </executionStack>     <inputbuf>  filtered   </inputbuf>    </process>   </process-list>   <resource-list>    <keylock hobtid='72057594046447616' dbid='5' objectname='filtered' indexname='filtered' id='lock1e2b8428380' mode='X' associatedObjectId='72057594046447616'>     <owner-list>      <owner id='process1e29e0d7c28' mode='X'/>     </owner-list>     <waiter-list>      <waiter id='process1e2a5639468' mode='U' requestType='wait'/>     </waiter-list>    </keylock>    <keylock hobtid='72057594046382080' dbid='5' objectname='filtered' indexname='filtered' id='lock1e2b842f000' mode='X' associatedObjectId='72057594046382080'>     <owner-list>      <owner id='process1e2a5639468' mode='X'/>     </owner-list>     <waiter-list>      <waiter id='process1e29e0d7c28' mode='U' requestType='wait'/>     </waiter-list>    </keylock>   </resource-list>  </deadlock>  "
                                },
                                {
                                    "TimeGenerated": "2021-01-31T17:49:57.021Z",
                                    "Category": "Deadlocks",
                                    "Resource": "ADVENTUREWORKS",
                                    "OperationName": "DeadlockEvent",
                                    "Type": "AzureDiagnostics",
                                    "deadlock_xml_s": "<deadlock>   <victim-list>    <victimProcess id='process1e298f13848'/>   </victim-list>   <process-list>    <process id='process1e298f13848' taskpriority='0' logused='280' waitresource='KEY: 5:72057594046447616 (5495ec521809)' waittime='6427' ownerId='3892244' transactionname='user_transaction' lasttranstarted='2021-01-31T17:49:50.583' XDES='0x1e2aa214428' lockMode='U' schedulerid='1' kpid='73884' status='suspended' spid='106' sbid='0' ecid='0' priority='0' trancount='2' lastbatchstarted='2021-01-31T17:49:50.580' lastbatchcompleted='2021-01-31T17:49:50.150' lastattention='1900-01-01T00:00:00.150' clientapp='azdata-Query' hostname='filtered' hostpid='30132' loginname='filtered' isolationlevel='read committed (2)' xactid='3892244' currentdb='5' currentdbname='AdventureWorks' lockTimeout='4294967295' clientoption1='671156320' clientoption2='390200'>     <executionStack>      <frame procname='unknown' queryhash='0xfb56c41f149be1bf' queryplanhash='0x61108d8e53ae0281' line='6' stmtstart='194' stmtend='356' sqlhandle='0x0200000076fe5d1c0c6a574e5832f3b8ff93e633e3a1d6ae0000000000000000000000000000000000000000'>  unknown    </frame>      <frame procname='unknown' queryhash='0xfb56c41f149be1bf' queryplanhash='0x61108d8e53ae0281' line='6' stmtstart='194' stmtend='356' sqlhandle='0x020000000df1110986de8e95f385d65ef83110141c59d4800000000000000000000000000000000000000000'>  unknown    </frame>     </executionStack>     <inputbuf>  filtered   </inputbuf>    </process>    <process id='process1e29c4764e8' taskpriority='0' logused='848' waitresource='KEY: 5:72057594046382080 (8194443284a0)' waittime='2455' ownerId='3891323' transactionname='user_transaction' lasttranstarted='2021-01-31T17:49:25.457' XDES='0x1e2b1a20428' lockMode='U' schedulerid='2' kpid='49644' status='suspended' spid='99' sbid='0' ecid='0' priority='0' trancount='3' lastbatchstarted='2021-01-31T17:49:49.533' lastbatchcompleted='2021-01-31T17:49:49.117' lastattention='2021-01-31T17:49:38.033' clientapp='azdata-Query' hostname='filtered' hostpid='30132' loginname='filtered' isolationlevel='read committed (2)' xactid='3891323' currentdb='5' currentdbname='AdventureWorks' lockTimeout='4294967295' clientoption1='671156320' clientoption2='390200'>     <executionStack>      <frame procname='unknown' queryhash='0xa57159d12cb813fb' queryplanhash='0x10cbf3310dab2eb5' line='8' stmtstart='58' stmtend='186' sqlhandle='0x020000009897910214549261257b982dc5f67c7e4f562ee10000000000000000000000000000000000000000'>  unknown    </frame>      <frame procname='unknown' queryhash='0xa57159d12cb813fb' queryplanhash='0x10cbf3310dab2eb5' line='8' stmtstart='274' stmtend='412' sqlhandle='0x0200000097c0ba25141e65dbe8b66da5a6d53b0fb9435de90000000000000000000000000000000000000000'>  unknown    </frame>     </executionStack>     <inputbuf>  filtered   </inputbuf>    </process>   </process-list>   <resource-list>    <keylock hobtid='72057594046447616' dbid='5' objectname='filtered' indexname='filtered' id='lock1e2a52c8400' mode='X' associatedObjectId='72057594046447616'>     <owner-list>      <owner id='process1e29c4764e8' mode='X'/>     </owner-list>     <waiter-list>      <waiter id='process1e298f13848' mode='U' requestType='wait'/>     </waiter-list>    </keylock>    <keylock hobtid='72057594046382080' dbid='5' objectname='filtered' indexname='filtered' id='lock1e2b842f480' mode='X' associatedObjectId='72057594046382080'>     <owner-list>      <owner id='process1e298f13848' mode='X'/>     </owner-list>     <waiter-list>      <waiter id='process1e29c4764e8' mode='U' requestType='wait'/>     </waiter-list>    </keylock>   </resource-list>  </deadlock>  "
                                },
                                {
                                    "TimeGenerated": "2021-01-31T17:41:58.653Z",
                                    "Category": "Deadlocks",
                                    "Resource": "ADVENTUREWORKS",
                                    "OperationName": "DeadlockEvent",
                                    "Type": "AzureDiagnostics",
                                    "deadlock_xml_s": "<deadlock>   <victim-list>    <victimProcess id='process1e298f128c8'/>   </victim-list>   <process-list>    <process id='process1e298f128c8' taskpriority='0' logused='384' waitresource='KEY: 5:72057594046447616 (5495ec521809)' waittime='54780' ownerId='3884006' transactionname='user_transaction' lasttranstarted='2021-01-31T17:41:03.853' XDES='0x1e2aa21c428' lockMode='U' schedulerid='1' kpid='57492' status='suspended' spid='106' sbid='0' ecid='0' priority='0' trancount='2' lastbatchstarted='2021-01-31T17:41:03.827' lastbatchcompleted='2021-01-31T17:41:02.987' lastattention='1900-01-01T00:00:00.987' clientapp='azdata-Query' hostname='filtered' hostpid='30132' loginname='filtered' isolationlevel='read committed (2)' xactid='0' currentdb='5' currentdbname='AdventureWorks' lockTimeout='4294967295' clientoption1='671156320' clientoption2='390200'>     <executionStack>      <frame procname='unknown' queryhash='0xfb56c41f149be1bf' queryplanhash='0x61108d8e53ae0281' line='6' stmtstart='194' stmtend='356' sqlhandle='0x0200000076fe5d1c0c6a574e5832f3b8ff93e633e3a1d6ae0000000000000000000000000000000000000000'>  unknown    </frame>      <frame procname='unknown' queryhash='0xfb56c41f149be1bf' queryplanhash='0x61108d8e53ae0281' line='6' stmtstart='194' stmtend='356' sqlhandle='0x02000000bcbc6d06ee7254b8fa360aef243c3cd785054d440000000000000000000000000000000000000000'>  unknown    </frame>     </executionStack>     <inputbuf>  filtered   </inputbuf>    </process>    <process id='process1e29e0d6ca8' taskpriority='0' logused='628' waitresource='KEY: 5:72057594046382080 (8194443284a0)' waittime='4776' ownerId='3881310' transactionname='user_transaction' lasttranstarted='2021-01-31T17:37:20.030' XDES='0x1e2aa214428' lockMode='U' schedulerid='2' kpid='18980' status='suspended' spid='99' sbid='0' ecid='0' priority='0' trancount='3' lastbatchstarted='2021-01-31T17:41:03.833' lastbatchcompleted='2021-01-31T17:40:39.953' lastattention='1900-01-01T00:00:00.953' clientapp='azdata-Query' hostname='filtered' hostpid='30132' loginname='filtered' isolationlevel='read committed (2)' xactid='0' currentdb='5' currentdbname='AdventureWorks' lockTimeout='4294967295' clientoption1='671156320' clientoption2='390200'>     <executionStack>      <frame procname='unknown' queryhash='0xa57159d12cb813fb' queryplanhash='0x10cbf3310dab2eb5' line='8' stmtstart='58' stmtend='186' sqlhandle='0x020000009897910214549261257b982dc5f67c7e4f562ee10000000000000000000000000000000000000000'>  unknown    </frame>      <frame procname='unknown' queryhash='0xa57159d12cb813fb' queryplanhash='0x10cbf3310dab2eb5' line='8' stmtstart='274' stmtend='412' sqlhandle='0x0200000078bd6c09d507568a60bc156bb797a23ff6e3eea10000000000000000000000000000000000000000'>  unknown    </frame>     </executionStack>     <inputbuf>  filtered   </inputbuf>    </process>   </process-list>   <resource-list>    <keylock hobtid='72057594046447616' dbid='5' objectname='filtered' indexname='filtered' id='lock1e2b842a080' mode='X' associatedObjectId='72057594046447616'>     <owner-list>      <owner id='process1e29e0d6ca8' mode='X'/>     </owner-list>     <waiter-list>      <waiter id='process1e298f128c8' mode='U' requestType='wait'/>     </waiter-list>    </keylock>    <keylock hobtid='72057594046382080' dbid='5' objectname='filtered' indexname='filtered' id='lock1e2b842ee80' mode='X' associatedObjectId='72057594046382080'>     <owner-list>      <owner id='process1e298f128c8' mode='X'/>     </owner-list>     <waiter-list>      <waiter id='process1e29e0d6ca8' mode='U' requestType='wait'/>     </waiter-list>    </keylock>   </resource-list>  </deadlock>  "
                                }
                            ]
                        }
                    },
                    "metadata": {},
                    "output_type": "display_data"
                },
                {
                    "data": {
                        "text/plain": "<IPython.core.display.HTML object>",
                        "text/html": "<html>\n        <head>\n            \n            \n        </head>\n        <body>\n            <div><p style='padding: 10px; color: #3a87ad; background-color: #d9edf7; border-color: #bce9f1'>Done&nbsp;(00:00.546):&nbsp;5&nbsp;records</p></div>\n        </body>\n        </html>"
                    },
                    "metadata": {},
                    "output_type": "display_data"
                },
                {
                    "data": {
                        "text/plain": "[{'TimeGenerated': datetime.datetime(2021, 2, 3, 7, 14, 30, 857000, tzinfo=tzutc()), 'Category': 'Deadlocks', 'Resource': 'ADVENTUREWORKS', 'OperationName': 'DeadlockEvent', 'Type': 'AzureDiagnostics', 'deadlock_xml_s': \"<deadlock>   <victim-list>    <victimProcess id='process1e29c477c28'/>   </victim-list>   <process-list>    <process id='process1e29c477c28' taskpriority='0' logused='280' waitresource='KEY: 5:72057594046447616 (5495ec521809)' waittime='2155' ownerId='6175817' transactionname='user_transaction' lasttranstarted='2021-02-03T07:14:28.693' XDES='0x1e2b1a68428' lockMode='U' schedulerid='2' kpid='40564' status='suspended' spid='77' sbid='0' ecid='0' priority='0' trancount='2' lastbatchstarted='2021-02-03T07:14:28.693' lastbatchcompleted='2021-02-03T07:14:28.650' lastattention='1900-01-01T00:00:00.650' clientapp='azdata-Query' hostname='filtered' hostpid='13868' loginname='filtered' isolationlevel='read committed (2)' xactid='6175817' currentdb='5' currentdbname='AdventureWorks' lockTimeout='5000' clientoption1='671156320' clientoption2='128056'>     <executionStack>      <frame procname='unknown' queryhash='0xfb56c41f149be1bf' queryplanhash='0x61108d8e53ae0281' line='7' stmtstart='260' stmtend='422' sqlhandle='0x0200000076fe5d1c0c6a574e5832f3b8ff93e633e3a1d6ae0000000000000000000000000000000000000000'>  unknown    </frame>      <frame procname='unknown' queryhash='0xfb56c41f149be1bf' queryplanhash='0x61108d8e53ae0281' line='7' stmtstart='260' stmtend='422' sqlhandle='0x0200000014799916228558ae6887fa2c71b2a218bc79a3ef0000000000000000000000000000000000000000'>  unknown    </frame>     </executionStack>     <inputbuf>  filtered   </inputbuf>    </process>    <process id='process1e2a7202ca8' taskpriority='0' logused='524' waitresource='KEY: 5:72057594046382080 (8194443284a0)' waittime='1423' ownerId='6175703' transactionname='user_transaction' lasttranstarted='2021-02-03T07:14:24.417' XDES='0x1e2b1a1c428' lockMode='U' schedulerid='2' kpid='66832' status='suspended' spid='76' sbid='0' ecid='0' priority='0' trancount='2' lastbatchstarted='2021-02-03T07:14:24.417' lastbatchcompleted='2021-02-03T07:14:19.200' lastattention='1900-01-01T00:00:00.200' clientapp='azdata-Query' hostname='filtered' hostpid='13868' loginname='filtered' isolationlevel='read committed (2)' xactid='6175703' currentdb='5' currentdbname='AdventureWorks' lockTimeout='5000' clientoption1='671156320' clientoption2='128056'>     <executionStack>      <frame procname='unknown' queryhash='0xa57159d12cb813fb' queryplanhash='0x10cbf3310dab2eb5' line='9' stmtstart='58' stmtend='186' sqlhandle='0x020000009897910214549261257b982dc5f67c7e4f562ee10000000000000000000000000000000000000000'>  unknown    </frame>      <frame procname='unknown' queryhash='0xa57159d12cb813fb' queryplanhash='0x10cbf3310dab2eb5' line='9' stmtstart='346' stmtend='484' sqlhandle='0x0200000074621c16aec77e463588eac0b82c197e790a52ba0000000000000000000000000000000000000000'>  unknown    </frame>     </executionStack>     <inputbuf>  filtered   </inputbuf>    </process>   </process-list>   <resource-list>    <keylock hobtid='72057594046447616' dbid='5' objectname='filtered' indexname='filtered' id='lock1e2b8466680' mode='X' associatedObjectId='72057594046447616'>     <owner-list>      <owner id='process1e2a7202ca8' mode='X'/>     </owner-list>     <waiter-list>      <waiter id='process1e29c477c28' mode='U' requestType='wait'/>     </waiter-list>    </keylock>    <keylock hobtid='72057594046382080' dbid='5' objectname='filtered' indexname='filtered' id='lock1e2a52b6080' mode='X' associatedObjectId='72057594046382080'>     <owner-list>      <owner id='process1e29c477c28' mode='X'/>     </owner-list>     <waiter-list>      <waiter id='process1e2a7202ca8' mode='U' requestType='wait'/>     </waiter-list>    </keylock>   </resource-list>  </deadlock>  \"},\n {'TimeGenerated': datetime.datetime(2021, 1, 31, 23, 17, 10, 991000, tzinfo=tzutc()), 'Category': 'Deadlocks', 'Resource': 'ADVENTUREWORKS', 'OperationName': 'DeadlockEvent', 'Type': 'AzureDiagnostics', 'deadlock_xml_s': \"<deadlock>   <victim-list>    <victimProcess id='process1e2a5f1b848'/>   </victim-list>   <process-list>    <process id='process1e2a5f1b848' taskpriority='0' logused='280' waitresource='KEY: 5:72057594046447616 (5495ec521809)' waittime='4120' ownerId='4118899' transactionname='user_transaction' lasttranstarted='2021-01-31T23:17:06.863' XDES='0x1e2b1a68428' lockMode='U' schedulerid='2' kpid='28192' status='suspended' spid='101' sbid='0' ecid='0' priority='0' trancount='2' lastbatchstarted='2021-01-31T23:17:06.863' lastbatchcompleted='2021-01-31T23:16:55.913' lastattention='1900-01-01T00:00:00.913' clientapp='azdata-Query' hostname='filtered' hostpid='23864' loginname='filtered' isolationlevel='read committed (2)' xactid='4118899' currentdb='5' currentdbname='AdventureWorks' lockTimeout='5000' clientoption1='671156320' clientoption2='128056'>     <executionStack>      <frame procname='unknown' queryhash='0xfb56c41f149be1bf' queryplanhash='0x61108d8e53ae0281' line='7' stmtstart='264' stmtend='426' sqlhandle='0x0200000076fe5d1c0c6a574e5832f3b8ff93e633e3a1d6ae0000000000000000000000000000000000000000'>  unknown    </frame>      <frame procname='unknown' queryhash='0xfb56c41f149be1bf' queryplanhash='0x61108d8e53ae0281' line='7' stmtstart='264' stmtend='426' sqlhandle='0x0200000061c2cb19645e5b95bac21e642ae5c3d3db37e4800000000000000000000000000000000000000000'>  unknown    </frame>     </executionStack>     <inputbuf>  filtered   </inputbuf>    </process>    <process id='process1e2a5639c28' taskpriority='0' logused='524' waitresource='KEY: 5:72057594046382080 (8194443284a0)' waittime='2407' ownerId='4118895' transactionname='user_transaction' lasttranstarted='2021-01-31T23:17:03.573' XDES='0x1e2aa214428' lockMode='U' schedulerid='1' kpid='69652' status='suspended' spid='98' sbid='0' ecid='0' priority='0' trancount='2' lastbatchstarted='2021-01-31T23:17:03.573' lastbatchcompleted='2021-01-31T23:16:51.760' lastattention='1900-01-01T00:00:00.760' clientapp='azdata-Query' hostname='filtered' hostpid='23864' loginname='filtered' isolationlevel='read committed (2)' xactid='4118895' currentdb='5' currentdbname='AdventureWorks' lockTimeout='5000' clientoption1='671156320' clientoption2='128056'>     <executionStack>      <frame procname='unknown' queryhash='0xa57159d12cb813fb' queryplanhash='0x10cbf3310dab2eb5' line='9' stmtstart='58' stmtend='186' sqlhandle='0x020000009897910214549261257b982dc5f67c7e4f562ee10000000000000000000000000000000000000000'>  unknown    </frame>      <frame procname='unknown' queryhash='0xa57159d12cb813fb' queryplanhash='0x10cbf3310dab2eb5' line='9' stmtstart='346' stmtend='484' sqlhandle='0x0200000074621c16aec77e463588eac0b82c197e790a52ba0000000000000000000000000000000000000000'>  unknown    </frame>     </executionStack>     <inputbuf>  filtered   </inputbuf>    </process>   </process-list>   <resource-list>    <keylock hobtid='72057594046447616' dbid='5' objectname='filtered' indexname='filtered' id='lock1e2b8460e00' mode='X' associatedObjectId='72057594046447616'>     <owner-list>      <owner id='process1e2a5639c28' mode='X'/>     </owner-list>     <waiter-list>      <waiter id='process1e2a5f1b848' mode='U' requestType='wait'/>     </waiter-list>    </keylock>    <keylock hobtid='72057594046382080' dbid='5' objectname='filtered' indexname='filtered' id='lock1e2a52c6b00' mode='X' associatedObjectId='72057594046382080'>     <owner-list>      <owner id='process1e2a5f1b848' mode='X'/>     </owner-list>     <waiter-list>      <waiter id='process1e2a5639c28' mode='U' requestType='wait'/>     </waiter-list>    </keylock>   </resource-list>  </deadlock>  \"},\n {'TimeGenerated': datetime.datetime(2021, 1, 31, 17, 52, 44, 755000, tzinfo=tzutc()), 'Category': 'Deadlocks', 'Resource': 'ADVENTUREWORKS', 'OperationName': 'DeadlockEvent', 'Type': 'AzureDiagnostics', 'deadlock_xml_s': \"<deadlock>   <victim-list>    <victimProcess id='process1e2a5639468'/>   </victim-list>   <process-list>    <process id='process1e2a5639468' taskpriority='0' logused='280' waitresource='KEY: 5:72057594046447616 (5495ec521809)' waittime='9481' ownerId='3893462' transactionname='user_transaction' lasttranstarted='2021-01-31T17:52:35.270' XDES='0x1e2aa214428' lockMode='U' schedulerid='1' kpid='55800' status='suspended' spid='106' sbid='0' ecid='0' priority='0' trancount='2' lastbatchstarted='2021-01-31T17:52:35.270' lastbatchcompleted='2021-01-31T17:52:34.847' lastattention='1900-01-01T00:00:00.847' clientapp='azdata-Query' hostname='filtered' hostpid='30132' loginname='filtered' isolationlevel='read committed (2)' xactid='3893462' currentdb='5' currentdbname='AdventureWorks' lockTimeout='4294967295' clientoption1='671156320' clientoption2='390200'>     <executionStack>      <frame procname='unknown' queryhash='0xfb56c41f149be1bf' queryplanhash='0x61108d8e53ae0281' line='6' stmtstart='194' stmtend='356' sqlhandle='0x0200000076fe5d1c0c6a574e5832f3b8ff93e633e3a1d6ae0000000000000000000000000000000000000000'>  unknown    </frame>      <frame procname='unknown' queryhash='0xfb56c41f149be1bf' queryplanhash='0x61108d8e53ae0281' line='6' stmtstart='194' stmtend='356' sqlhandle='0x020000000df1110986de8e95f385d65ef83110141c59d4800000000000000000000000000000000000000000'>  unknown    </frame>     </executionStack>     <inputbuf>  filtered   </inputbuf>    </process>    <process id='process1e29e0d7c28' taskpriority='0' logused='524' waitresource='KEY: 5:72057594046382080 (8194443284a0)' waittime='4470' ownerId='3893464' transactionname='user_transaction' lasttranstarted='2021-01-31T17:52:35.270' XDES='0x1e2b1a20428' lockMode='U' schedulerid='2' kpid='58920' status='suspended' spid='99' sbid='0' ecid='0' priority='0' trancount='2' lastbatchstarted='2021-01-31T17:52:35.270' lastbatchcompleted='2021-01-31T17:52:34.847' lastattention='2021-01-31T17:49:38.033' clientapp='azdata-Query' hostname='filtered' hostpid='30132' loginname='filtered' isolationlevel='read committed (2)' xactid='3893464' currentdb='5' currentdbname='AdventureWorks' lockTimeout='4294967295' clientoption1='671156320' clientoption2='390200'>     <executionStack>      <frame procname='unknown' queryhash='0xa57159d12cb813fb' queryplanhash='0x10cbf3310dab2eb5' line='8' stmtstart='58' stmtend='186' sqlhandle='0x020000009897910214549261257b982dc5f67c7e4f562ee10000000000000000000000000000000000000000'>  unknown    </frame>      <frame procname='unknown' queryhash='0xa57159d12cb813fb' queryplanhash='0x10cbf3310dab2eb5' line='8' stmtstart='274' stmtend='412' sqlhandle='0x0200000097c0ba25141e65dbe8b66da5a6d53b0fb9435de90000000000000000000000000000000000000000'>  unknown    </frame>     </executionStack>     <inputbuf>  filtered   </inputbuf>    </process>   </process-list>   <resource-list>    <keylock hobtid='72057594046447616' dbid='5' objectname='filtered' indexname='filtered' id='lock1e2b8428380' mode='X' associatedObjectId='72057594046447616'>     <owner-list>      <owner id='process1e29e0d7c28' mode='X'/>     </owner-list>     <waiter-list>      <waiter id='process1e2a5639468' mode='U' requestType='wait'/>     </waiter-list>    </keylock>    <keylock hobtid='72057594046382080' dbid='5' objectname='filtered' indexname='filtered' id='lock1e2b842f000' mode='X' associatedObjectId='72057594046382080'>     <owner-list>      <owner id='process1e2a5639468' mode='X'/>     </owner-list>     <waiter-list>      <waiter id='process1e29e0d7c28' mode='U' requestType='wait'/>     </waiter-list>    </keylock>   </resource-list>  </deadlock>  \"},\n {'TimeGenerated': datetime.datetime(2021, 1, 31, 17, 49, 57, 21000, tzinfo=tzutc()), 'Category': 'Deadlocks', 'Resource': 'ADVENTUREWORKS', 'OperationName': 'DeadlockEvent', 'Type': 'AzureDiagnostics', 'deadlock_xml_s': \"<deadlock>   <victim-list>    <victimProcess id='process1e298f13848'/>   </victim-list>   <process-list>    <process id='process1e298f13848' taskpriority='0' logused='280' waitresource='KEY: 5:72057594046447616 (5495ec521809)' waittime='6427' ownerId='3892244' transactionname='user_transaction' lasttranstarted='2021-01-31T17:49:50.583' XDES='0x1e2aa214428' lockMode='U' schedulerid='1' kpid='73884' status='suspended' spid='106' sbid='0' ecid='0' priority='0' trancount='2' lastbatchstarted='2021-01-31T17:49:50.580' lastbatchcompleted='2021-01-31T17:49:50.150' lastattention='1900-01-01T00:00:00.150' clientapp='azdata-Query' hostname='filtered' hostpid='30132' loginname='filtered' isolationlevel='read committed (2)' xactid='3892244' currentdb='5' currentdbname='AdventureWorks' lockTimeout='4294967295' clientoption1='671156320' clientoption2='390200'>     <executionStack>      <frame procname='unknown' queryhash='0xfb56c41f149be1bf' queryplanhash='0x61108d8e53ae0281' line='6' stmtstart='194' stmtend='356' sqlhandle='0x0200000076fe5d1c0c6a574e5832f3b8ff93e633e3a1d6ae0000000000000000000000000000000000000000'>  unknown    </frame>      <frame procname='unknown' queryhash='0xfb56c41f149be1bf' queryplanhash='0x61108d8e53ae0281' line='6' stmtstart='194' stmtend='356' sqlhandle='0x020000000df1110986de8e95f385d65ef83110141c59d4800000000000000000000000000000000000000000'>  unknown    </frame>     </executionStack>     <inputbuf>  filtered   </inputbuf>    </process>    <process id='process1e29c4764e8' taskpriority='0' logused='848' waitresource='KEY: 5:72057594046382080 (8194443284a0)' waittime='2455' ownerId='3891323' transactionname='user_transaction' lasttranstarted='2021-01-31T17:49:25.457' XDES='0x1e2b1a20428' lockMode='U' schedulerid='2' kpid='49644' status='suspended' spid='99' sbid='0' ecid='0' priority='0' trancount='3' lastbatchstarted='2021-01-31T17:49:49.533' lastbatchcompleted='2021-01-31T17:49:49.117' lastattention='2021-01-31T17:49:38.033' clientapp='azdata-Query' hostname='filtered' hostpid='30132' loginname='filtered' isolationlevel='read committed (2)' xactid='3891323' currentdb='5' currentdbname='AdventureWorks' lockTimeout='4294967295' clientoption1='671156320' clientoption2='390200'>     <executionStack>      <frame procname='unknown' queryhash='0xa57159d12cb813fb' queryplanhash='0x10cbf3310dab2eb5' line='8' stmtstart='58' stmtend='186' sqlhandle='0x020000009897910214549261257b982dc5f67c7e4f562ee10000000000000000000000000000000000000000'>  unknown    </frame>      <frame procname='unknown' queryhash='0xa57159d12cb813fb' queryplanhash='0x10cbf3310dab2eb5' line='8' stmtstart='274' stmtend='412' sqlhandle='0x0200000097c0ba25141e65dbe8b66da5a6d53b0fb9435de90000000000000000000000000000000000000000'>  unknown    </frame>     </executionStack>     <inputbuf>  filtered   </inputbuf>    </process>   </process-list>   <resource-list>    <keylock hobtid='72057594046447616' dbid='5' objectname='filtered' indexname='filtered' id='lock1e2a52c8400' mode='X' associatedObjectId='72057594046447616'>     <owner-list>      <owner id='process1e29c4764e8' mode='X'/>     </owner-list>     <waiter-list>      <waiter id='process1e298f13848' mode='U' requestType='wait'/>     </waiter-list>    </keylock>    <keylock hobtid='72057594046382080' dbid='5' objectname='filtered' indexname='filtered' id='lock1e2b842f480' mode='X' associatedObjectId='72057594046382080'>     <owner-list>      <owner id='process1e298f13848' mode='X'/>     </owner-list>     <waiter-list>      <waiter id='process1e29c4764e8' mode='U' requestType='wait'/>     </waiter-list>    </keylock>   </resource-list>  </deadlock>  \"},\n {'TimeGenerated': datetime.datetime(2021, 1, 31, 17, 41, 58, 653000, tzinfo=tzutc()), 'Category': 'Deadlocks', 'Resource': 'ADVENTUREWORKS', 'OperationName': 'DeadlockEvent', 'Type': 'AzureDiagnostics', 'deadlock_xml_s': \"<deadlock>   <victim-list>    <victimProcess id='process1e298f128c8'/>   </victim-list>   <process-list>    <process id='process1e298f128c8' taskpriority='0' logused='384' waitresource='KEY: 5:72057594046447616 (5495ec521809)' waittime='54780' ownerId='3884006' transactionname='user_transaction' lasttranstarted='2021-01-31T17:41:03.853' XDES='0x1e2aa21c428' lockMode='U' schedulerid='1' kpid='57492' status='suspended' spid='106' sbid='0' ecid='0' priority='0' trancount='2' lastbatchstarted='2021-01-31T17:41:03.827' lastbatchcompleted='2021-01-31T17:41:02.987' lastattention='1900-01-01T00:00:00.987' clientapp='azdata-Query' hostname='filtered' hostpid='30132' loginname='filtered' isolationlevel='read committed (2)' xactid='0' currentdb='5' currentdbname='AdventureWorks' lockTimeout='4294967295' clientoption1='671156320' clientoption2='390200'>     <executionStack>      <frame procname='unknown' queryhash='0xfb56c41f149be1bf' queryplanhash='0x61108d8e53ae0281' line='6' stmtstart='194' stmtend='356' sqlhandle='0x0200000076fe5d1c0c6a574e5832f3b8ff93e633e3a1d6ae0000000000000000000000000000000000000000'>  unknown    </frame>      <frame procname='unknown' queryhash='0xfb56c41f149be1bf' queryplanhash='0x61108d8e53ae0281' line='6' stmtstart='194' stmtend='356' sqlhandle='0x02000000bcbc6d06ee7254b8fa360aef243c3cd785054d440000000000000000000000000000000000000000'>  unknown    </frame>     </executionStack>     <inputbuf>  filtered   </inputbuf>    </process>    <process id='process1e29e0d6ca8' taskpriority='0' logused='628' waitresource='KEY: 5:72057594046382080 (8194443284a0)' waittime='4776' ownerId='3881310' transactionname='user_transaction' lasttranstarted='2021-01-31T17:37:20.030' XDES='0x1e2aa214428' lockMode='U' schedulerid='2' kpid='18980' status='suspended' spid='99' sbid='0' ecid='0' priority='0' trancount='3' lastbatchstarted='2021-01-31T17:41:03.833' lastbatchcompleted='2021-01-31T17:40:39.953' lastattention='1900-01-01T00:00:00.953' clientapp='azdata-Query' hostname='filtered' hostpid='30132' loginname='filtered' isolationlevel='read committed (2)' xactid='0' currentdb='5' currentdbname='AdventureWorks' lockTimeout='4294967295' clientoption1='671156320' clientoption2='390200'>     <executionStack>      <frame procname='unknown' queryhash='0xa57159d12cb813fb' queryplanhash='0x10cbf3310dab2eb5' line='8' stmtstart='58' stmtend='186' sqlhandle='0x020000009897910214549261257b982dc5f67c7e4f562ee10000000000000000000000000000000000000000'>  unknown    </frame>      <frame procname='unknown' queryhash='0xa57159d12cb813fb' queryplanhash='0x10cbf3310dab2eb5' line='8' stmtstart='274' stmtend='412' sqlhandle='0x0200000078bd6c09d507568a60bc156bb797a23ff6e3eea10000000000000000000000000000000000000000'>  unknown    </frame>     </executionStack>     <inputbuf>  filtered   </inputbuf>    </process>   </process-list>   <resource-list>    <keylock hobtid='72057594046447616' dbid='5' objectname='filtered' indexname='filtered' id='lock1e2b842a080' mode='X' associatedObjectId='72057594046447616'>     <owner-list>      <owner id='process1e29e0d6ca8' mode='X'/>     </owner-list>     <waiter-list>      <waiter id='process1e298f128c8' mode='U' requestType='wait'/>     </waiter-list>    </keylock>    <keylock hobtid='72057594046382080' dbid='5' objectname='filtered' indexname='filtered' id='lock1e2b842ee80' mode='X' associatedObjectId='72057594046382080'>     <owner-list>      <owner id='process1e298f128c8' mode='X'/>     </owner-list>     <waiter-list>      <waiter id='process1e29e0d6ca8' mode='U' requestType='wait'/>     </waiter-list>    </keylock>   </resource-list>  </deadlock>  \"}]",
                        "text/html": ""
                    },
                    "metadata": {},
                    "execution_count": 10,
                    "output_type": "execute_result"
                }
            ],
            "execution_count": 10
        },
        {
            "cell_type": "markdown",
            "source": [
                "Find the deadlock query plan"
            ],
            "metadata": {
                "azdata_cell_guid": "af8b22fa-3396-4e95-b1d6-1a96fa400f03"
            }
        },
        {
            "cell_type": "code",
            "source": [
                "%%kql\r\n",
                "AzureDiagnostics\r\n",
                "| where OperationName == \"DeadlockEvent\"\r\n",
                "| extend d = parse_xml(deadlock_xml_s)\r\n",
                "| project TimeGenerated, QuerhPlanHash = d.deadlock.[\"process-list\"].process[0].executionStack.frame[0][\"@queryplanhash\"], QueryHash = d.deadlock.[\"process-list\"].process[0].executionStack.frame[0][\"@queryhash\"]\r\n",
                "//| sort by TimeGenerated desc\r\n",
                "| take 50"
            ],
            "metadata": {
                "azdata_cell_guid": "9b024cd2-768f-4ad4-9031-19f22dee9ecd",
                "tags": []
            },
            "outputs": [
                {
                    "data": {
                        "text/plain": "<IPython.core.display.HTML object>",
                        "text/html": "<html>\n        <head>\n            \n            \n        </head>\n        <body>\n            <div><p style='padding: 10px; color: #3a87ad; background-color: #d9edf7; border-color: #bce9f1'>&nbsp;*&nbsp;myLogAnalyticsWorkspace@loganalytics</p></div>\n        </body>\n        </html>"
                    },
                    "metadata": {},
                    "output_type": "display_data"
                },
                {
                    "data": {
                        "text/plain": "                     TimeGenerated       QuerhPlanHash           QueryHash\n0 2021-01-31 17:41:58.653000+00:00  0x61108d8e53ae0281  0xfb56c41f149be1bf\n1 2021-02-03 07:14:30.857000+00:00  0x61108d8e53ae0281  0xfb56c41f149be1bf\n2 2021-01-31 23:17:10.991000+00:00  0x61108d8e53ae0281  0xfb56c41f149be1bf\n3 2021-01-31 17:49:57.021000+00:00  0x61108d8e53ae0281  0xfb56c41f149be1bf\n4 2021-01-31 17:52:44.755000+00:00  0x61108d8e53ae0281  0xfb56c41f149be1bf",
                        "text/html": "<div>\n<style scoped>\n    .dataframe tbody tr th:only-of-type {\n        vertical-align: middle;\n    }\n\n    .dataframe tbody tr th {\n        vertical-align: top;\n    }\n\n    .dataframe thead th {\n        text-align: right;\n    }\n</style>\n<table border=\"1\" class=\"dataframe\">\n  <thead>\n    <tr style=\"text-align: right;\">\n      <th></th>\n      <th>TimeGenerated</th>\n      <th>QuerhPlanHash</th>\n      <th>QueryHash</th>\n    </tr>\n  </thead>\n  <tbody>\n    <tr>\n      <th>0</th>\n      <td>2021-01-31 17:41:58.653000+00:00</td>\n      <td>0x61108d8e53ae0281</td>\n      <td>0xfb56c41f149be1bf</td>\n    </tr>\n    <tr>\n      <th>1</th>\n      <td>2021-02-03 07:14:30.857000+00:00</td>\n      <td>0x61108d8e53ae0281</td>\n      <td>0xfb56c41f149be1bf</td>\n    </tr>\n    <tr>\n      <th>2</th>\n      <td>2021-01-31 23:17:10.991000+00:00</td>\n      <td>0x61108d8e53ae0281</td>\n      <td>0xfb56c41f149be1bf</td>\n    </tr>\n    <tr>\n      <th>3</th>\n      <td>2021-01-31 17:49:57.021000+00:00</td>\n      <td>0x61108d8e53ae0281</td>\n      <td>0xfb56c41f149be1bf</td>\n    </tr>\n    <tr>\n      <th>4</th>\n      <td>2021-01-31 17:52:44.755000+00:00</td>\n      <td>0x61108d8e53ae0281</td>\n      <td>0xfb56c41f149be1bf</td>\n    </tr>\n  </tbody>\n</table>\n</div>",
                        "application/vnd.dataresource+json": {
                            "schema": {
                                "fields": [
                                    {
                                        "name": "TimeGenerated",
                                        "type": "datetime",
                                        "tz": "UTC"
                                    },
                                    {
                                        "name": "QuerhPlanHash",
                                        "type": "string"
                                    },
                                    {
                                        "name": "QueryHash",
                                        "type": "string"
                                    }
                                ],
                                "kqmagic_version": "0.1.113.post1"
                            },
                            "data": [
                                {
                                    "TimeGenerated": "2021-01-31T17:41:58.653Z",
                                    "QuerhPlanHash": "0x61108d8e53ae0281",
                                    "QueryHash": "0xfb56c41f149be1bf"
                                },
                                {
                                    "TimeGenerated": "2021-02-03T07:14:30.857Z",
                                    "QuerhPlanHash": "0x61108d8e53ae0281",
                                    "QueryHash": "0xfb56c41f149be1bf"
                                },
                                {
                                    "TimeGenerated": "2021-01-31T23:17:10.991Z",
                                    "QuerhPlanHash": "0x61108d8e53ae0281",
                                    "QueryHash": "0xfb56c41f149be1bf"
                                },
                                {
                                    "TimeGenerated": "2021-01-31T17:49:57.021Z",
                                    "QuerhPlanHash": "0x61108d8e53ae0281",
                                    "QueryHash": "0xfb56c41f149be1bf"
                                },
                                {
                                    "TimeGenerated": "2021-01-31T17:52:44.755Z",
                                    "QuerhPlanHash": "0x61108d8e53ae0281",
                                    "QueryHash": "0xfb56c41f149be1bf"
                                }
                            ]
                        }
                    },
                    "metadata": {},
                    "output_type": "display_data"
                },
                {
                    "data": {
                        "text/plain": "<IPython.core.display.HTML object>",
                        "text/html": "<html>\n        <head>\n            \n            \n        </head>\n        <body>\n            <div><p style='padding: 10px; color: #3a87ad; background-color: #d9edf7; border-color: #bce9f1'>Done&nbsp;(00:00.330):&nbsp;5&nbsp;records</p></div>\n        </body>\n        </html>"
                    },
                    "metadata": {},
                    "output_type": "display_data"
                },
                {
                    "data": {
                        "text/plain": "[{'TimeGenerated': datetime.datetime(2021, 1, 31, 17, 41, 58, 653000, tzinfo=tzutc()), 'QuerhPlanHash': '0x61108d8e53ae0281', 'QueryHash': '0xfb56c41f149be1bf'},\n {'TimeGenerated': datetime.datetime(2021, 2, 3, 7, 14, 30, 857000, tzinfo=tzutc()), 'QuerhPlanHash': '0x61108d8e53ae0281', 'QueryHash': '0xfb56c41f149be1bf'},\n {'TimeGenerated': datetime.datetime(2021, 1, 31, 23, 17, 10, 991000, tzinfo=tzutc()), 'QuerhPlanHash': '0x61108d8e53ae0281', 'QueryHash': '0xfb56c41f149be1bf'},\n {'TimeGenerated': datetime.datetime(2021, 1, 31, 17, 49, 57, 21000, tzinfo=tzutc()), 'QuerhPlanHash': '0x61108d8e53ae0281', 'QueryHash': '0xfb56c41f149be1bf'},\n {'TimeGenerated': datetime.datetime(2021, 1, 31, 17, 52, 44, 755000, tzinfo=tzutc()), 'QuerhPlanHash': '0x61108d8e53ae0281', 'QueryHash': '0xfb56c41f149be1bf'}]",
                        "text/html": ""
                    },
                    "metadata": {},
                    "execution_count": 11,
                    "output_type": "execute_result"
                }
            ],
            "execution_count": 11
        },
        {
            "cell_type": "markdown",
            "source": [
                "## Query Store Runtime Statistics Events"
            ],
            "metadata": {
                "azdata_cell_guid": "c793f2df-65ec-455a-8ec1-bd152d842158"
            }
        },
        {
            "cell_type": "code",
            "source": [
                "%%kql\r\n",
                "AzureDiagnostics\r\n",
                "| where OperationName == \"QueryStoreRuntimeStatisticsEvent\"\r\n",
                "| project TimeGenerated, query_hash_s, statement_sql_handle_s, query_plan_hash_s\r\n",
                "| take 50"
            ],
            "metadata": {
                "azdata_cell_guid": "f99877c9-38ab-4907-b939-f2d8207fbc71"
            },
            "outputs": [
                {
                    "data": {
                        "text/plain": "<IPython.core.display.HTML object>",
                        "text/html": "<html>\n        <head>\n            \n            \n        </head>\n        <body>\n            <div><p style='padding: 10px; color: #3a87ad; background-color: #d9edf7; border-color: #bce9f1'>&nbsp;*&nbsp;myLogAnalyticsWorkspace@loganalytics</p></div>\n        </body>\n        </html>"
                    },
                    "metadata": {},
                    "output_type": "display_data"
                },
                {
                    "data": {
                        "text/plain": "                     TimeGenerated        query_hash_s  \\\n0 2021-01-31 23:28:11.744000+00:00  0xE8E6F7DC2D2909FE   \n1 2021-01-31 23:28:11.744000+00:00  0xD47FA8AE1E407243   \n2 2021-01-31 23:43:11.998000+00:00  0xE8E6F7DC2D2909FE   \n3 2021-02-03 07:29:05.360000+00:00  0xE8E6F7DC2D2909FE   \n4 2021-02-03 04:29:02.416000+00:00  0xE8E6F7DC2D2909FE   \n5 2021-02-03 04:29:02.416000+00:00  0xD9BFE0AEB1B674BF   \n6 2021-02-03 04:29:02.416000+00:00  0x4E8C0B5AF78C4ED1   \n7 2021-02-03 15:29:12.968000+00:00  0xE8E6F7DC2D2909FE   \n\n                              statement_sql_handle_s   query_plan_hash_s  \n0  0x0900B90F6497028D7C84720EFD387ECE8C2F00000000...  0x037E2E7A34FBE1AD  \n1  0x0900B10677BE63CAE65A693887D6502113BC00000000...  0xFA26A5F6A84C8679  \n2  0x0900B90F6497028D7C84720EFD387ECE8C2F00000000...  0x037E2E7A34FBE1AD  \n3  0x0900B90F6497028D7C84720EFD387ECE8C2F00000000...  0x037E2E7A34FBE1AD  \n4  0x0900B90F6497028D7C84720EFD387ECE8C2F00000000...  0x037E2E7A34FBE1AD  \n5  0x0900769CEE691C933F258772430BD1146CFF00000000...  0xEB919DD1DFFE113C  \n6  0x0900C6D4FC50EF5B4E298DBE4E3A7EA7911F00000000...  0xB44B4BF819B82F62  \n7  0x0900B90F6497028D7C84720EFD387ECE8C2F00000000...  0x037E2E7A34FBE1AD  ",
                        "text/html": "<div>\n<style scoped>\n    .dataframe tbody tr th:only-of-type {\n        vertical-align: middle;\n    }\n\n    .dataframe tbody tr th {\n        vertical-align: top;\n    }\n\n    .dataframe thead th {\n        text-align: right;\n    }\n</style>\n<table border=\"1\" class=\"dataframe\">\n  <thead>\n    <tr style=\"text-align: right;\">\n      <th></th>\n      <th>TimeGenerated</th>\n      <th>query_hash_s</th>\n      <th>statement_sql_handle_s</th>\n      <th>query_plan_hash_s</th>\n    </tr>\n  </thead>\n  <tbody>\n    <tr>\n      <th>0</th>\n      <td>2021-01-31 23:28:11.744000+00:00</td>\n      <td>0xE8E6F7DC2D2909FE</td>\n      <td>0x0900B90F6497028D7C84720EFD387ECE8C2F00000000...</td>\n      <td>0x037E2E7A34FBE1AD</td>\n    </tr>\n    <tr>\n      <th>1</th>\n      <td>2021-01-31 23:28:11.744000+00:00</td>\n      <td>0xD47FA8AE1E407243</td>\n      <td>0x0900B10677BE63CAE65A693887D6502113BC00000000...</td>\n      <td>0xFA26A5F6A84C8679</td>\n    </tr>\n    <tr>\n      <th>2</th>\n      <td>2021-01-31 23:43:11.998000+00:00</td>\n      <td>0xE8E6F7DC2D2909FE</td>\n      <td>0x0900B90F6497028D7C84720EFD387ECE8C2F00000000...</td>\n      <td>0x037E2E7A34FBE1AD</td>\n    </tr>\n    <tr>\n      <th>3</th>\n      <td>2021-02-03 07:29:05.360000+00:00</td>\n      <td>0xE8E6F7DC2D2909FE</td>\n      <td>0x0900B90F6497028D7C84720EFD387ECE8C2F00000000...</td>\n      <td>0x037E2E7A34FBE1AD</td>\n    </tr>\n    <tr>\n      <th>4</th>\n      <td>2021-02-03 04:29:02.416000+00:00</td>\n      <td>0xE8E6F7DC2D2909FE</td>\n      <td>0x0900B90F6497028D7C84720EFD387ECE8C2F00000000...</td>\n      <td>0x037E2E7A34FBE1AD</td>\n    </tr>\n    <tr>\n      <th>5</th>\n      <td>2021-02-03 04:29:02.416000+00:00</td>\n      <td>0xD9BFE0AEB1B674BF</td>\n      <td>0x0900769CEE691C933F258772430BD1146CFF00000000...</td>\n      <td>0xEB919DD1DFFE113C</td>\n    </tr>\n    <tr>\n      <th>6</th>\n      <td>2021-02-03 04:29:02.416000+00:00</td>\n      <td>0x4E8C0B5AF78C4ED1</td>\n      <td>0x0900C6D4FC50EF5B4E298DBE4E3A7EA7911F00000000...</td>\n      <td>0xB44B4BF819B82F62</td>\n    </tr>\n    <tr>\n      <th>7</th>\n      <td>2021-02-03 15:29:12.968000+00:00</td>\n      <td>0xE8E6F7DC2D2909FE</td>\n      <td>0x0900B90F6497028D7C84720EFD387ECE8C2F00000000...</td>\n      <td>0x037E2E7A34FBE1AD</td>\n    </tr>\n  </tbody>\n</table>\n</div>",
                        "application/vnd.dataresource+json": {
                            "schema": {
                                "fields": [
                                    {
                                        "name": "TimeGenerated",
                                        "type": "datetime",
                                        "tz": "UTC"
                                    },
                                    {
                                        "name": "query_hash_s",
                                        "type": "string"
                                    },
                                    {
                                        "name": "statement_sql_handle_s",
                                        "type": "string"
                                    },
                                    {
                                        "name": "query_plan_hash_s",
                                        "type": "string"
                                    }
                                ],
                                "kqmagic_version": "0.1.113.post1"
                            },
                            "data": [
                                {
                                    "TimeGenerated": "2021-01-31T23:28:11.744Z",
                                    "query_hash_s": "0xE8E6F7DC2D2909FE",
                                    "statement_sql_handle_s": "0x0900B90F6497028D7C84720EFD387ECE8C2F0000000000000000000000000000000000000000000000000000",
                                    "query_plan_hash_s": "0x037E2E7A34FBE1AD"
                                },
                                {
                                    "TimeGenerated": "2021-01-31T23:28:11.744Z",
                                    "query_hash_s": "0xD47FA8AE1E407243",
                                    "statement_sql_handle_s": "0x0900B10677BE63CAE65A693887D6502113BC0000000000000000000000000000000000000000000000000000",
                                    "query_plan_hash_s": "0xFA26A5F6A84C8679"
                                },
                                {
                                    "TimeGenerated": "2021-01-31T23:43:11.998Z",
                                    "query_hash_s": "0xE8E6F7DC2D2909FE",
                                    "statement_sql_handle_s": "0x0900B90F6497028D7C84720EFD387ECE8C2F0000000000000000000000000000000000000000000000000000",
                                    "query_plan_hash_s": "0x037E2E7A34FBE1AD"
                                },
                                {
                                    "TimeGenerated": "2021-02-03T07:29:05.360Z",
                                    "query_hash_s": "0xE8E6F7DC2D2909FE",
                                    "statement_sql_handle_s": "0x0900B90F6497028D7C84720EFD387ECE8C2F0000000000000000000000000000000000000000000000000000",
                                    "query_plan_hash_s": "0x037E2E7A34FBE1AD"
                                },
                                {
                                    "TimeGenerated": "2021-02-03T04:29:02.416Z",
                                    "query_hash_s": "0xE8E6F7DC2D2909FE",
                                    "statement_sql_handle_s": "0x0900B90F6497028D7C84720EFD387ECE8C2F0000000000000000000000000000000000000000000000000000",
                                    "query_plan_hash_s": "0x037E2E7A34FBE1AD"
                                },
                                {
                                    "TimeGenerated": "2021-02-03T04:29:02.416Z",
                                    "query_hash_s": "0xD9BFE0AEB1B674BF",
                                    "statement_sql_handle_s": "0x0900769CEE691C933F258772430BD1146CFF0000000000000000000000000000000000000000000000000000",
                                    "query_plan_hash_s": "0xEB919DD1DFFE113C"
                                },
                                {
                                    "TimeGenerated": "2021-02-03T04:29:02.416Z",
                                    "query_hash_s": "0x4E8C0B5AF78C4ED1",
                                    "statement_sql_handle_s": "0x0900C6D4FC50EF5B4E298DBE4E3A7EA7911F0000000000000000000000000000000000000000000000000000",
                                    "query_plan_hash_s": "0xB44B4BF819B82F62"
                                },
                                {
                                    "TimeGenerated": "2021-02-03T15:29:12.968Z",
                                    "query_hash_s": "0xE8E6F7DC2D2909FE",
                                    "statement_sql_handle_s": "0x0900B90F6497028D7C84720EFD387ECE8C2F0000000000000000000000000000000000000000000000000000",
                                    "query_plan_hash_s": "0x037E2E7A34FBE1AD"
                                }
                            ]
                        }
                    },
                    "metadata": {},
                    "output_type": "display_data"
                },
                {
                    "data": {
                        "text/plain": "<IPython.core.display.HTML object>",
                        "text/html": "<html>\n        <head>\n            \n            \n        </head>\n        <body>\n            <div><p style='padding: 10px; color: #3a87ad; background-color: #d9edf7; border-color: #bce9f1'>Done&nbsp;(00:00.307):&nbsp;8&nbsp;records</p></div>\n        </body>\n        </html>"
                    },
                    "metadata": {},
                    "output_type": "display_data"
                },
                {
                    "data": {
                        "text/plain": "[{'TimeGenerated': datetime.datetime(2021, 1, 31, 23, 28, 11, 744000, tzinfo=tzutc()), 'query_hash_s': '0xE8E6F7DC2D2909FE', 'statement_sql_handle_s': '0x0900B90F6497028D7C84720EFD387ECE8C2F0000000000000000000000000000000000000000000000000000', 'query_plan_hash_s': '0x037E2E7A34FBE1AD'},\n {'TimeGenerated': datetime.datetime(2021, 1, 31, 23, 28, 11, 744000, tzinfo=tzutc()), 'query_hash_s': '0xD47FA8AE1E407243', 'statement_sql_handle_s': '0x0900B10677BE63CAE65A693887D6502113BC0000000000000000000000000000000000000000000000000000', 'query_plan_hash_s': '0xFA26A5F6A84C8679'},\n {'TimeGenerated': datetime.datetime(2021, 1, 31, 23, 43, 11, 998000, tzinfo=tzutc()), 'query_hash_s': '0xE8E6F7DC2D2909FE', 'statement_sql_handle_s': '0x0900B90F6497028D7C84720EFD387ECE8C2F0000000000000000000000000000000000000000000000000000', 'query_plan_hash_s': '0x037E2E7A34FBE1AD'},\n {'TimeGenerated': datetime.datetime(2021, 2, 3, 7, 29, 5, 360000, tzinfo=tzutc()), 'query_hash_s': '0xE8E6F7DC2D2909FE', 'statement_sql_handle_s': '0x0900B90F6497028D7C84720EFD387ECE8C2F0000000000000000000000000000000000000000000000000000', 'query_plan_hash_s': '0x037E2E7A34FBE1AD'},\n {'TimeGenerated': datetime.datetime(2021, 2, 3, 4, 29, 2, 416000, tzinfo=tzutc()), 'query_hash_s': '0xE8E6F7DC2D2909FE', 'statement_sql_handle_s': '0x0900B90F6497028D7C84720EFD387ECE8C2F0000000000000000000000000000000000000000000000000000', 'query_plan_hash_s': '0x037E2E7A34FBE1AD'},\n {'TimeGenerated': datetime.datetime(2021, 2, 3, 4, 29, 2, 416000, tzinfo=tzutc()), 'query_hash_s': '0xD9BFE0AEB1B674BF', 'statement_sql_handle_s': '0x0900769CEE691C933F258772430BD1146CFF0000000000000000000000000000000000000000000000000000', 'query_plan_hash_s': '0xEB919DD1DFFE113C'},\n {'TimeGenerated': datetime.datetime(2021, 2, 3, 4, 29, 2, 416000, tzinfo=tzutc()), 'query_hash_s': '0x4E8C0B5AF78C4ED1', 'statement_sql_handle_s': '0x0900C6D4FC50EF5B4E298DBE4E3A7EA7911F0000000000000000000000000000000000000000000000000000', 'query_plan_hash_s': '0xB44B4BF819B82F62'},\n {'TimeGenerated': datetime.datetime(2021, 2, 3, 15, 29, 12, 968000, tzinfo=tzutc()), 'query_hash_s': '0xE8E6F7DC2D2909FE', 'statement_sql_handle_s': '0x0900B90F6497028D7C84720EFD387ECE8C2F0000000000000000000000000000000000000000000000000000', 'query_plan_hash_s': '0x037E2E7A34FBE1AD'}]",
                        "text/html": ""
                    },
                    "metadata": {},
                    "execution_count": 12,
                    "output_type": "execute_result"
                }
            ],
            "execution_count": 12
        },
        {
            "cell_type": "markdown",
            "source": [
                "## Analyze Errors"
            ],
            "metadata": {
                "azdata_cell_guid": "92c68e36-87a2-4355-8d4b-56d001462d1e"
            }
        },
        {
            "cell_type": "code",
            "source": [
                "%%kql \r\n",
                "AzureDiagnostics\r\n",
                "| where OperationName == \"ErrorEvent\"\r\n",
                "| extend ErrorNumber =  tostring(error_number_d) \r\n",
                "| summarize event_count=count() by EventTime = bin(TimeGenerated, 2d), ErrorNumber\r\n",
                "| render timechart "
            ],
            "metadata": {
                "azdata_cell_guid": "229543f7-f24c-48c1-a9d5-0a3d0d708e25"
            },
            "outputs": [
                {
                    "data": {
                        "text/plain": "<IPython.core.display.HTML object>",
                        "text/html": "<html>\n        <head>\n            \n            \n        </head>\n        <body>\n            <div><p style='padding: 10px; color: #3a87ad; background-color: #d9edf7; border-color: #bce9f1'>&nbsp;*&nbsp;myLogAnalyticsWorkspace@loganalytics</p></div>\n        </body>\n        </html>"
                    },
                    "metadata": {},
                    "output_type": "display_data"
                },
                {
                    "data": {
                        "application/vnd.plotly.v1+json": {
                            "config": {
                                "plotlyServerURL": "https://plot.ly"
                            },
                            "data": [
                                {
                                    "line": {
                                        "color": "rgb(31, 118, 179)",
                                        "width": 1
                                    },
                                    "name": "208.0:event_count",
                                    "opacity": 0.8,
                                    "type": "scatter",
                                    "x": [
                                        "2021-01-23T00:00:00+00:00",
                                        "2021-01-31T00:00:00+00:00",
                                        "2021-02-02T00:00:00+00:00"
                                    ],
                                    "y": [
                                        71,
                                        32,
                                        19
                                    ]
                                },
                                {
                                    "line": {
                                        "color": "rgb(254, 127, 14)",
                                        "width": 1
                                    },
                                    "name": "1222.0:event_count",
                                    "opacity": 0.8,
                                    "type": "scatter",
                                    "x": [
                                        "2021-01-23T00:00:00+00:00",
                                        "2021-01-31T00:00:00+00:00",
                                        "2021-02-02T00:00:00+00:00"
                                    ],
                                    "y": [
                                        4,
                                        2,
                                        4
                                    ]
                                },
                                {
                                    "line": {
                                        "color": "rgb(44, 160, 44)",
                                        "width": 1
                                    },
                                    "name": "3903.0:event_count",
                                    "opacity": 0.8,
                                    "type": "scatter",
                                    "x": [
                                        "2021-01-23T00:00:00+00:00",
                                        "2021-01-31T00:00:00+00:00",
                                        "2021-02-02T00:00:00+00:00"
                                    ],
                                    "y": [
                                        1,
                                        null,
                                        null
                                    ]
                                },
                                {
                                    "line": {
                                        "color": "rgb(214, 39, 39)",
                                        "width": 1
                                    },
                                    "name": "2714.0:event_count",
                                    "opacity": 0.8,
                                    "type": "scatter",
                                    "x": [
                                        "2021-01-23T00:00:00+00:00",
                                        "2021-01-31T00:00:00+00:00",
                                        "2021-02-02T00:00:00+00:00"
                                    ],
                                    "y": [
                                        1,
                                        null,
                                        null
                                    ]
                                },
                                {
                                    "line": {
                                        "color": "rgb(147, 102, 189)",
                                        "width": 1
                                    },
                                    "name": "8134.0:event_count",
                                    "opacity": 0.8,
                                    "type": "scatter",
                                    "x": [
                                        "2021-01-23T00:00:00+00:00",
                                        "2021-01-31T00:00:00+00:00",
                                        "2021-02-02T00:00:00+00:00"
                                    ],
                                    "y": [
                                        null,
                                        2,
                                        null
                                    ]
                                },
                                {
                                    "line": {
                                        "color": "rgb(140, 86, 74)",
                                        "width": 1
                                    },
                                    "name": "12413.0:event_count",
                                    "opacity": 0.8,
                                    "type": "scatter",
                                    "x": [
                                        "2021-01-23T00:00:00+00:00",
                                        "2021-01-31T00:00:00+00:00",
                                        "2021-02-02T00:00:00+00:00"
                                    ],
                                    "y": [
                                        null,
                                        3,
                                        null
                                    ]
                                },
                                {
                                    "line": {
                                        "color": "rgb(227, 119, 193)",
                                        "width": 1
                                    },
                                    "name": "257.0:event_count",
                                    "opacity": 0.8,
                                    "type": "scatter",
                                    "x": [
                                        "2021-01-23T00:00:00+00:00",
                                        "2021-01-31T00:00:00+00:00",
                                        "2021-02-02T00:00:00+00:00"
                                    ],
                                    "y": [
                                        null,
                                        2,
                                        null
                                    ]
                                },
                                {
                                    "line": {
                                        "color": "rgb(127, 127, 127)",
                                        "width": 1
                                    },
                                    "name": "2809.0:event_count",
                                    "opacity": 0.8,
                                    "type": "scatter",
                                    "x": [
                                        "2021-01-23T00:00:00+00:00",
                                        "2021-01-31T00:00:00+00:00",
                                        "2021-02-02T00:00:00+00:00"
                                    ],
                                    "y": [
                                        null,
                                        1,
                                        null
                                    ]
                                },
                                {
                                    "line": {
                                        "color": "rgb(188, 189, 33)",
                                        "width": 1
                                    },
                                    "name": "215.0:event_count",
                                    "opacity": 0.8,
                                    "type": "scatter",
                                    "x": [
                                        "2021-01-23T00:00:00+00:00",
                                        "2021-01-31T00:00:00+00:00",
                                        "2021-02-02T00:00:00+00:00"
                                    ],
                                    "y": [
                                        null,
                                        1,
                                        null
                                    ]
                                }
                            ],
                            "layout": {
                                "showlegend": true,
                                "template": {
                                    "data": {
                                        "bar": [
                                            {
                                                "error_x": {
                                                    "color": "#2a3f5f"
                                                },
                                                "error_y": {
                                                    "color": "#2a3f5f"
                                                },
                                                "marker": {
                                                    "line": {
                                                        "color": "#E5ECF6",
                                                        "width": 0.5
                                                    }
                                                },
                                                "type": "bar"
                                            }
                                        ],
                                        "barpolar": [
                                            {
                                                "marker": {
                                                    "line": {
                                                        "color": "#E5ECF6",
                                                        "width": 0.5
                                                    }
                                                },
                                                "type": "barpolar"
                                            }
                                        ],
                                        "carpet": [
                                            {
                                                "aaxis": {
                                                    "endlinecolor": "#2a3f5f",
                                                    "gridcolor": "white",
                                                    "linecolor": "white",
                                                    "minorgridcolor": "white",
                                                    "startlinecolor": "#2a3f5f"
                                                },
                                                "baxis": {
                                                    "endlinecolor": "#2a3f5f",
                                                    "gridcolor": "white",
                                                    "linecolor": "white",
                                                    "minorgridcolor": "white",
                                                    "startlinecolor": "#2a3f5f"
                                                },
                                                "type": "carpet"
                                            }
                                        ],
                                        "choropleth": [
                                            {
                                                "colorbar": {
                                                    "outlinewidth": 0,
                                                    "ticks": ""
                                                },
                                                "type": "choropleth"
                                            }
                                        ],
                                        "contour": [
                                            {
                                                "colorbar": {
                                                    "outlinewidth": 0,
                                                    "ticks": ""
                                                },
                                                "colorscale": [
                                                    [
                                                        0,
                                                        "#0d0887"
                                                    ],
                                                    [
                                                        0.1111111111111111,
                                                        "#46039f"
                                                    ],
                                                    [
                                                        0.2222222222222222,
                                                        "#7201a8"
                                                    ],
                                                    [
                                                        0.3333333333333333,
                                                        "#9c179e"
                                                    ],
                                                    [
                                                        0.4444444444444444,
                                                        "#bd3786"
                                                    ],
                                                    [
                                                        0.5555555555555556,
                                                        "#d8576b"
                                                    ],
                                                    [
                                                        0.6666666666666666,
                                                        "#ed7953"
                                                    ],
                                                    [
                                                        0.7777777777777778,
                                                        "#fb9f3a"
                                                    ],
                                                    [
                                                        0.8888888888888888,
                                                        "#fdca26"
                                                    ],
                                                    [
                                                        1,
                                                        "#f0f921"
                                                    ]
                                                ],
                                                "type": "contour"
                                            }
                                        ],
                                        "contourcarpet": [
                                            {
                                                "colorbar": {
                                                    "outlinewidth": 0,
                                                    "ticks": ""
                                                },
                                                "type": "contourcarpet"
                                            }
                                        ],
                                        "heatmap": [
                                            {
                                                "colorbar": {
                                                    "outlinewidth": 0,
                                                    "ticks": ""
                                                },
                                                "colorscale": [
                                                    [
                                                        0,
                                                        "#0d0887"
                                                    ],
                                                    [
                                                        0.1111111111111111,
                                                        "#46039f"
                                                    ],
                                                    [
                                                        0.2222222222222222,
                                                        "#7201a8"
                                                    ],
                                                    [
                                                        0.3333333333333333,
                                                        "#9c179e"
                                                    ],
                                                    [
                                                        0.4444444444444444,
                                                        "#bd3786"
                                                    ],
                                                    [
                                                        0.5555555555555556,
                                                        "#d8576b"
                                                    ],
                                                    [
                                                        0.6666666666666666,
                                                        "#ed7953"
                                                    ],
                                                    [
                                                        0.7777777777777778,
                                                        "#fb9f3a"
                                                    ],
                                                    [
                                                        0.8888888888888888,
                                                        "#fdca26"
                                                    ],
                                                    [
                                                        1,
                                                        "#f0f921"
                                                    ]
                                                ],
                                                "type": "heatmap"
                                            }
                                        ],
                                        "heatmapgl": [
                                            {
                                                "colorbar": {
                                                    "outlinewidth": 0,
                                                    "ticks": ""
                                                },
                                                "colorscale": [
                                                    [
                                                        0,
                                                        "#0d0887"
                                                    ],
                                                    [
                                                        0.1111111111111111,
                                                        "#46039f"
                                                    ],
                                                    [
                                                        0.2222222222222222,
                                                        "#7201a8"
                                                    ],
                                                    [
                                                        0.3333333333333333,
                                                        "#9c179e"
                                                    ],
                                                    [
                                                        0.4444444444444444,
                                                        "#bd3786"
                                                    ],
                                                    [
                                                        0.5555555555555556,
                                                        "#d8576b"
                                                    ],
                                                    [
                                                        0.6666666666666666,
                                                        "#ed7953"
                                                    ],
                                                    [
                                                        0.7777777777777778,
                                                        "#fb9f3a"
                                                    ],
                                                    [
                                                        0.8888888888888888,
                                                        "#fdca26"
                                                    ],
                                                    [
                                                        1,
                                                        "#f0f921"
                                                    ]
                                                ],
                                                "type": "heatmapgl"
                                            }
                                        ],
                                        "histogram": [
                                            {
                                                "marker": {
                                                    "colorbar": {
                                                        "outlinewidth": 0,
                                                        "ticks": ""
                                                    }
                                                },
                                                "type": "histogram"
                                            }
                                        ],
                                        "histogram2d": [
                                            {
                                                "colorbar": {
                                                    "outlinewidth": 0,
                                                    "ticks": ""
                                                },
                                                "colorscale": [
                                                    [
                                                        0,
                                                        "#0d0887"
                                                    ],
                                                    [
                                                        0.1111111111111111,
                                                        "#46039f"
                                                    ],
                                                    [
                                                        0.2222222222222222,
                                                        "#7201a8"
                                                    ],
                                                    [
                                                        0.3333333333333333,
                                                        "#9c179e"
                                                    ],
                                                    [
                                                        0.4444444444444444,
                                                        "#bd3786"
                                                    ],
                                                    [
                                                        0.5555555555555556,
                                                        "#d8576b"
                                                    ],
                                                    [
                                                        0.6666666666666666,
                                                        "#ed7953"
                                                    ],
                                                    [
                                                        0.7777777777777778,
                                                        "#fb9f3a"
                                                    ],
                                                    [
                                                        0.8888888888888888,
                                                        "#fdca26"
                                                    ],
                                                    [
                                                        1,
                                                        "#f0f921"
                                                    ]
                                                ],
                                                "type": "histogram2d"
                                            }
                                        ],
                                        "histogram2dcontour": [
                                            {
                                                "colorbar": {
                                                    "outlinewidth": 0,
                                                    "ticks": ""
                                                },
                                                "colorscale": [
                                                    [
                                                        0,
                                                        "#0d0887"
                                                    ],
                                                    [
                                                        0.1111111111111111,
                                                        "#46039f"
                                                    ],
                                                    [
                                                        0.2222222222222222,
                                                        "#7201a8"
                                                    ],
                                                    [
                                                        0.3333333333333333,
                                                        "#9c179e"
                                                    ],
                                                    [
                                                        0.4444444444444444,
                                                        "#bd3786"
                                                    ],
                                                    [
                                                        0.5555555555555556,
                                                        "#d8576b"
                                                    ],
                                                    [
                                                        0.6666666666666666,
                                                        "#ed7953"
                                                    ],
                                                    [
                                                        0.7777777777777778,
                                                        "#fb9f3a"
                                                    ],
                                                    [
                                                        0.8888888888888888,
                                                        "#fdca26"
                                                    ],
                                                    [
                                                        1,
                                                        "#f0f921"
                                                    ]
                                                ],
                                                "type": "histogram2dcontour"
                                            }
                                        ],
                                        "mesh3d": [
                                            {
                                                "colorbar": {
                                                    "outlinewidth": 0,
                                                    "ticks": ""
                                                },
                                                "type": "mesh3d"
                                            }
                                        ],
                                        "parcoords": [
                                            {
                                                "line": {
                                                    "colorbar": {
                                                        "outlinewidth": 0,
                                                        "ticks": ""
                                                    }
                                                },
                                                "type": "parcoords"
                                            }
                                        ],
                                        "pie": [
                                            {
                                                "automargin": true,
                                                "type": "pie"
                                            }
                                        ],
                                        "scatter": [
                                            {
                                                "marker": {
                                                    "colorbar": {
                                                        "outlinewidth": 0,
                                                        "ticks": ""
                                                    }
                                                },
                                                "type": "scatter"
                                            }
                                        ],
                                        "scatter3d": [
                                            {
                                                "line": {
                                                    "colorbar": {
                                                        "outlinewidth": 0,
                                                        "ticks": ""
                                                    }
                                                },
                                                "marker": {
                                                    "colorbar": {
                                                        "outlinewidth": 0,
                                                        "ticks": ""
                                                    }
                                                },
                                                "type": "scatter3d"
                                            }
                                        ],
                                        "scattercarpet": [
                                            {
                                                "marker": {
                                                    "colorbar": {
                                                        "outlinewidth": 0,
                                                        "ticks": ""
                                                    }
                                                },
                                                "type": "scattercarpet"
                                            }
                                        ],
                                        "scattergeo": [
                                            {
                                                "marker": {
                                                    "colorbar": {
                                                        "outlinewidth": 0,
                                                        "ticks": ""
                                                    }
                                                },
                                                "type": "scattergeo"
                                            }
                                        ],
                                        "scattergl": [
                                            {
                                                "marker": {
                                                    "colorbar": {
                                                        "outlinewidth": 0,
                                                        "ticks": ""
                                                    }
                                                },
                                                "type": "scattergl"
                                            }
                                        ],
                                        "scattermapbox": [
                                            {
                                                "marker": {
                                                    "colorbar": {
                                                        "outlinewidth": 0,
                                                        "ticks": ""
                                                    }
                                                },
                                                "type": "scattermapbox"
                                            }
                                        ],
                                        "scatterpolar": [
                                            {
                                                "marker": {
                                                    "colorbar": {
                                                        "outlinewidth": 0,
                                                        "ticks": ""
                                                    }
                                                },
                                                "type": "scatterpolar"
                                            }
                                        ],
                                        "scatterpolargl": [
                                            {
                                                "marker": {
                                                    "colorbar": {
                                                        "outlinewidth": 0,
                                                        "ticks": ""
                                                    }
                                                },
                                                "type": "scatterpolargl"
                                            }
                                        ],
                                        "scatterternary": [
                                            {
                                                "marker": {
                                                    "colorbar": {
                                                        "outlinewidth": 0,
                                                        "ticks": ""
                                                    }
                                                },
                                                "type": "scatterternary"
                                            }
                                        ],
                                        "surface": [
                                            {
                                                "colorbar": {
                                                    "outlinewidth": 0,
                                                    "ticks": ""
                                                },
                                                "colorscale": [
                                                    [
                                                        0,
                                                        "#0d0887"
                                                    ],
                                                    [
                                                        0.1111111111111111,
                                                        "#46039f"
                                                    ],
                                                    [
                                                        0.2222222222222222,
                                                        "#7201a8"
                                                    ],
                                                    [
                                                        0.3333333333333333,
                                                        "#9c179e"
                                                    ],
                                                    [
                                                        0.4444444444444444,
                                                        "#bd3786"
                                                    ],
                                                    [
                                                        0.5555555555555556,
                                                        "#d8576b"
                                                    ],
                                                    [
                                                        0.6666666666666666,
                                                        "#ed7953"
                                                    ],
                                                    [
                                                        0.7777777777777778,
                                                        "#fb9f3a"
                                                    ],
                                                    [
                                                        0.8888888888888888,
                                                        "#fdca26"
                                                    ],
                                                    [
                                                        1,
                                                        "#f0f921"
                                                    ]
                                                ],
                                                "type": "surface"
                                            }
                                        ],
                                        "table": [
                                            {
                                                "cells": {
                                                    "fill": {
                                                        "color": "#EBF0F8"
                                                    },
                                                    "line": {
                                                        "color": "white"
                                                    }
                                                },
                                                "header": {
                                                    "fill": {
                                                        "color": "#C8D4E3"
                                                    },
                                                    "line": {
                                                        "color": "white"
                                                    }
                                                },
                                                "type": "table"
                                            }
                                        ]
                                    },
                                    "layout": {
                                        "annotationdefaults": {
                                            "arrowcolor": "#2a3f5f",
                                            "arrowhead": 0,
                                            "arrowwidth": 1
                                        },
                                        "coloraxis": {
                                            "colorbar": {
                                                "outlinewidth": 0,
                                                "ticks": ""
                                            }
                                        },
                                        "colorscale": {
                                            "diverging": [
                                                [
                                                    0,
                                                    "#8e0152"
                                                ],
                                                [
                                                    0.1,
                                                    "#c51b7d"
                                                ],
                                                [
                                                    0.2,
                                                    "#de77ae"
                                                ],
                                                [
                                                    0.3,
                                                    "#f1b6da"
                                                ],
                                                [
                                                    0.4,
                                                    "#fde0ef"
                                                ],
                                                [
                                                    0.5,
                                                    "#f7f7f7"
                                                ],
                                                [
                                                    0.6,
                                                    "#e6f5d0"
                                                ],
                                                [
                                                    0.7,
                                                    "#b8e186"
                                                ],
                                                [
                                                    0.8,
                                                    "#7fbc41"
                                                ],
                                                [
                                                    0.9,
                                                    "#4d9221"
                                                ],
                                                [
                                                    1,
                                                    "#276419"
                                                ]
                                            ],
                                            "sequential": [
                                                [
                                                    0,
                                                    "#0d0887"
                                                ],
                                                [
                                                    0.1111111111111111,
                                                    "#46039f"
                                                ],
                                                [
                                                    0.2222222222222222,
                                                    "#7201a8"
                                                ],
                                                [
                                                    0.3333333333333333,
                                                    "#9c179e"
                                                ],
                                                [
                                                    0.4444444444444444,
                                                    "#bd3786"
                                                ],
                                                [
                                                    0.5555555555555556,
                                                    "#d8576b"
                                                ],
                                                [
                                                    0.6666666666666666,
                                                    "#ed7953"
                                                ],
                                                [
                                                    0.7777777777777778,
                                                    "#fb9f3a"
                                                ],
                                                [
                                                    0.8888888888888888,
                                                    "#fdca26"
                                                ],
                                                [
                                                    1,
                                                    "#f0f921"
                                                ]
                                            ],
                                            "sequentialminus": [
                                                [
                                                    0,
                                                    "#0d0887"
                                                ],
                                                [
                                                    0.1111111111111111,
                                                    "#46039f"
                                                ],
                                                [
                                                    0.2222222222222222,
                                                    "#7201a8"
                                                ],
                                                [
                                                    0.3333333333333333,
                                                    "#9c179e"
                                                ],
                                                [
                                                    0.4444444444444444,
                                                    "#bd3786"
                                                ],
                                                [
                                                    0.5555555555555556,
                                                    "#d8576b"
                                                ],
                                                [
                                                    0.6666666666666666,
                                                    "#ed7953"
                                                ],
                                                [
                                                    0.7777777777777778,
                                                    "#fb9f3a"
                                                ],
                                                [
                                                    0.8888888888888888,
                                                    "#fdca26"
                                                ],
                                                [
                                                    1,
                                                    "#f0f921"
                                                ]
                                            ]
                                        },
                                        "colorway": [
                                            "#636efa",
                                            "#EF553B",
                                            "#00cc96",
                                            "#ab63fa",
                                            "#FFA15A",
                                            "#19d3f3",
                                            "#FF6692",
                                            "#B6E880",
                                            "#FF97FF",
                                            "#FECB52"
                                        ],
                                        "font": {
                                            "color": "#2a3f5f"
                                        },
                                        "geo": {
                                            "bgcolor": "white",
                                            "lakecolor": "white",
                                            "landcolor": "#E5ECF6",
                                            "showlakes": true,
                                            "showland": true,
                                            "subunitcolor": "white"
                                        },
                                        "hoverlabel": {
                                            "align": "left"
                                        },
                                        "hovermode": "closest",
                                        "mapbox": {
                                            "style": "light"
                                        },
                                        "paper_bgcolor": "white",
                                        "plot_bgcolor": "#E5ECF6",
                                        "polar": {
                                            "angularaxis": {
                                                "gridcolor": "white",
                                                "linecolor": "white",
                                                "ticks": ""
                                            },
                                            "bgcolor": "#E5ECF6",
                                            "radialaxis": {
                                                "gridcolor": "white",
                                                "linecolor": "white",
                                                "ticks": ""
                                            }
                                        },
                                        "scene": {
                                            "xaxis": {
                                                "backgroundcolor": "#E5ECF6",
                                                "gridcolor": "white",
                                                "gridwidth": 2,
                                                "linecolor": "white",
                                                "showbackground": true,
                                                "ticks": "",
                                                "zerolinecolor": "white"
                                            },
                                            "yaxis": {
                                                "backgroundcolor": "#E5ECF6",
                                                "gridcolor": "white",
                                                "gridwidth": 2,
                                                "linecolor": "white",
                                                "showbackground": true,
                                                "ticks": "",
                                                "zerolinecolor": "white"
                                            },
                                            "zaxis": {
                                                "backgroundcolor": "#E5ECF6",
                                                "gridcolor": "white",
                                                "gridwidth": 2,
                                                "linecolor": "white",
                                                "showbackground": true,
                                                "ticks": "",
                                                "zerolinecolor": "white"
                                            }
                                        },
                                        "shapedefaults": {
                                            "line": {
                                                "color": "#2a3f5f"
                                            }
                                        },
                                        "ternary": {
                                            "aaxis": {
                                                "gridcolor": "white",
                                                "linecolor": "white",
                                                "ticks": ""
                                            },
                                            "baxis": {
                                                "gridcolor": "white",
                                                "linecolor": "white",
                                                "ticks": ""
                                            },
                                            "bgcolor": "#E5ECF6",
                                            "caxis": {
                                                "gridcolor": "white",
                                                "linecolor": "white",
                                                "ticks": ""
                                            }
                                        },
                                        "title": {
                                            "x": 0.05
                                        },
                                        "xaxis": {
                                            "automargin": true,
                                            "gridcolor": "white",
                                            "linecolor": "white",
                                            "ticks": "",
                                            "title": {
                                                "standoff": 15
                                            },
                                            "zerolinecolor": "white",
                                            "zerolinewidth": 2
                                        },
                                        "yaxis": {
                                            "automargin": true,
                                            "gridcolor": "white",
                                            "linecolor": "white",
                                            "ticks": "",
                                            "title": {
                                                "standoff": 15
                                            },
                                            "zerolinecolor": "white",
                                            "zerolinewidth": 2
                                        }
                                    }
                                },
                                "title": {
                                    "text": "timechart"
                                },
                                "xaxis": {
                                    "autorange": true,
                                    "title": {
                                        "text": "EventTime"
                                    },
                                    "type": "date"
                                },
                                "yaxis": {
                                    "ticksuffix": "",
                                    "title": {
                                        "text": "event_count"
                                    },
                                    "type": "linear"
                                }
                            }
                        }
                    },
                    "metadata": {},
                    "output_type": "display_data"
                },
                {
                    "data": {
                        "text/plain": "<IPython.core.display.HTML object>",
                        "text/html": "<html>\n        <head>\n            \n            \n        </head>\n        <body>\n            <div><p style='padding: 10px; color: #3a87ad; background-color: #d9edf7; border-color: #bce9f1'>Done&nbsp;(00:00.266):&nbsp;13&nbsp;records</p></div>\n        </body>\n        </html>"
                    },
                    "metadata": {},
                    "output_type": "display_data"
                },
                {
                    "data": {
                        "text/plain": "[{'EventTime': datetime.datetime(2021, 2, 2, 0, 0, tzinfo=tzutc()), 'ErrorNumber': '208.0', 'event_count': 19},\n {'EventTime': datetime.datetime(2021, 2, 2, 0, 0, tzinfo=tzutc()), 'ErrorNumber': '1222.0', 'event_count': 4},\n {'EventTime': datetime.datetime(2021, 1, 23, 0, 0, tzinfo=tzutc()), 'ErrorNumber': '208.0', 'event_count': 71},\n {'EventTime': datetime.datetime(2021, 1, 23, 0, 0, tzinfo=tzutc()), 'ErrorNumber': '1222.0', 'event_count': 4},\n {'EventTime': datetime.datetime(2021, 1, 23, 0, 0, tzinfo=tzutc()), 'ErrorNumber': '3903.0', 'event_count': 1},\n {'EventTime': datetime.datetime(2021, 1, 23, 0, 0, tzinfo=tzutc()), 'ErrorNumber': '2714.0', 'event_count': 1},\n {'EventTime': datetime.datetime(2021, 1, 31, 0, 0, tzinfo=tzutc()), 'ErrorNumber': '208.0', 'event_count': 32},\n {'EventTime': datetime.datetime(2021, 1, 31, 0, 0, tzinfo=tzutc()), 'ErrorNumber': '8134.0', 'event_count': 2},\n {'EventTime': datetime.datetime(2021, 1, 31, 0, 0, tzinfo=tzutc()), 'ErrorNumber': '12413.0', 'event_count': 3},\n {'EventTime': datetime.datetime(2021, 1, 31, 0, 0, tzinfo=tzutc()), 'ErrorNumber': '257.0', 'event_count': 2},\n {'EventTime': datetime.datetime(2021, 1, 31, 0, 0, tzinfo=tzutc()), 'ErrorNumber': '1222.0', 'event_count': 2},\n {'EventTime': datetime.datetime(2021, 1, 31, 0, 0, tzinfo=tzutc()), 'ErrorNumber': '2809.0', 'event_count': 1},\n {'EventTime': datetime.datetime(2021, 1, 31, 0, 0, tzinfo=tzutc()), 'ErrorNumber': '215.0', 'event_count': 1}]",
                        "text/html": ""
                    },
                    "metadata": {},
                    "execution_count": 13,
                    "output_type": "execute_result"
                }
            ],
            "execution_count": 13
        },
        {
            "cell_type": "markdown",
            "source": [
                "## Find Deleted table"
            ],
            "metadata": {
                "azdata_cell_guid": "6d450c21-8628-459c-b8c1-c37c8aba8d6d"
            }
        },
        {
            "cell_type": "code",
            "source": [
                "%%kql \r\n",
                "AzureDiagnostics\r\n",
                "| where action_name_s in ('BATCH COMPLETED')\r\n",
                "| project TimeGenerated, Category, action_name_s, statement_s\r\n",
                "| where statement_s contains \"DROP TABLE\"\r\n",
                "| sort by TimeGenerated desc \r\n",
                "| take 10\r\n",
                "\r\n",
                ""
            ],
            "metadata": {
                "azdata_cell_guid": "3b6d232d-a2f4-441e-81f2-33ef59fdb4c6",
                "tags": []
            },
            "outputs": [
                {
                    "data": {
                        "text/plain": "<IPython.core.display.HTML object>",
                        "text/html": "<html>\n        <head>\n            \n            \n        </head>\n        <body>\n            <div><p style='padding: 10px; color: #3a87ad; background-color: #d9edf7; border-color: #bce9f1'>&nbsp;*&nbsp;myLogAnalyticsWorkspace@loganalytics</p></div>\n        </body>\n        </html>"
                    },
                    "metadata": {},
                    "output_type": "display_data"
                },
                {
                    "data": {
                        "text/plain": "                     TimeGenerated                Category    action_name_s  \\\n0 2021-01-24 03:13:41.751000+00:00  SQLSecurityAuditEvents  BATCH COMPLETED   \n1 2021-01-24 03:13:41.751000+00:00  SQLSecurityAuditEvents  BATCH COMPLETED   \n2 2021-01-24 03:09:53.703000+00:00  SQLSecurityAuditEvents  BATCH COMPLETED   \n3 2021-01-24 03:09:53.703000+00:00  SQLSecurityAuditEvents  BATCH COMPLETED   \n\n                                         statement_s  \n0  DROP TABLE dbo.Suppliers\\r\\nDROP TABLE dbo.Emp...  \n1  DROP TABLE dbo.Suppliers\\r\\nDROP TABLE dbo.Emp...  \n2  DROP TABLE dbo.Suppliers\\r\\nDROP TABLE dbo.Emp...  \n3  DROP TABLE dbo.Suppliers\\r\\nDROP TABLE dbo.Emp...  ",
                        "text/html": "<div>\n<style scoped>\n    .dataframe tbody tr th:only-of-type {\n        vertical-align: middle;\n    }\n\n    .dataframe tbody tr th {\n        vertical-align: top;\n    }\n\n    .dataframe thead th {\n        text-align: right;\n    }\n</style>\n<table border=\"1\" class=\"dataframe\">\n  <thead>\n    <tr style=\"text-align: right;\">\n      <th></th>\n      <th>TimeGenerated</th>\n      <th>Category</th>\n      <th>action_name_s</th>\n      <th>statement_s</th>\n    </tr>\n  </thead>\n  <tbody>\n    <tr>\n      <th>0</th>\n      <td>2021-01-24 03:13:41.751000+00:00</td>\n      <td>SQLSecurityAuditEvents</td>\n      <td>BATCH COMPLETED</td>\n      <td>DROP TABLE dbo.Suppliers\\r\\nDROP TABLE dbo.Emp...</td>\n    </tr>\n    <tr>\n      <th>1</th>\n      <td>2021-01-24 03:13:41.751000+00:00</td>\n      <td>SQLSecurityAuditEvents</td>\n      <td>BATCH COMPLETED</td>\n      <td>DROP TABLE dbo.Suppliers\\r\\nDROP TABLE dbo.Emp...</td>\n    </tr>\n    <tr>\n      <th>2</th>\n      <td>2021-01-24 03:09:53.703000+00:00</td>\n      <td>SQLSecurityAuditEvents</td>\n      <td>BATCH COMPLETED</td>\n      <td>DROP TABLE dbo.Suppliers\\r\\nDROP TABLE dbo.Emp...</td>\n    </tr>\n    <tr>\n      <th>3</th>\n      <td>2021-01-24 03:09:53.703000+00:00</td>\n      <td>SQLSecurityAuditEvents</td>\n      <td>BATCH COMPLETED</td>\n      <td>DROP TABLE dbo.Suppliers\\r\\nDROP TABLE dbo.Emp...</td>\n    </tr>\n  </tbody>\n</table>\n</div>",
                        "application/vnd.dataresource+json": {
                            "schema": {
                                "fields": [
                                    {
                                        "name": "TimeGenerated",
                                        "type": "datetime",
                                        "tz": "UTC"
                                    },
                                    {
                                        "name": "Category",
                                        "type": "string"
                                    },
                                    {
                                        "name": "action_name_s",
                                        "type": "string"
                                    },
                                    {
                                        "name": "statement_s",
                                        "type": "string"
                                    }
                                ],
                                "kqmagic_version": "0.1.113.post1"
                            },
                            "data": [
                                {
                                    "TimeGenerated": "2021-01-24T03:13:41.751Z",
                                    "Category": "SQLSecurityAuditEvents",
                                    "action_name_s": "BATCH COMPLETED",
                                    "statement_s": "DROP TABLE dbo.Suppliers\r\nDROP TABLE dbo.Employees"
                                },
                                {
                                    "TimeGenerated": "2021-01-24T03:13:41.751Z",
                                    "Category": "SQLSecurityAuditEvents",
                                    "action_name_s": "BATCH COMPLETED",
                                    "statement_s": "DROP TABLE dbo.Suppliers\r\nDROP TABLE dbo.Employees"
                                },
                                {
                                    "TimeGenerated": "2021-01-24T03:09:53.703Z",
                                    "Category": "SQLSecurityAuditEvents",
                                    "action_name_s": "BATCH COMPLETED",
                                    "statement_s": "DROP TABLE dbo.Suppliers\r\nDROP TABLE dbo.Employees"
                                },
                                {
                                    "TimeGenerated": "2021-01-24T03:09:53.703Z",
                                    "Category": "SQLSecurityAuditEvents",
                                    "action_name_s": "BATCH COMPLETED",
                                    "statement_s": "DROP TABLE dbo.Suppliers\r\nDROP TABLE dbo.Employees"
                                }
                            ]
                        }
                    },
                    "metadata": {},
                    "output_type": "display_data"
                },
                {
                    "data": {
                        "text/plain": "<IPython.core.display.HTML object>",
                        "text/html": "<html>\n        <head>\n            \n            \n        </head>\n        <body>\n            <div><p style='padding: 10px; color: #3a87ad; background-color: #d9edf7; border-color: #bce9f1'>Done&nbsp;(00:00.994):&nbsp;4&nbsp;records</p></div>\n        </body>\n        </html>"
                    },
                    "metadata": {},
                    "output_type": "display_data"
                },
                {
                    "data": {
                        "text/plain": "[{'TimeGenerated': datetime.datetime(2021, 1, 24, 3, 13, 41, 751000, tzinfo=tzutc()), 'Category': 'SQLSecurityAuditEvents', 'action_name_s': 'BATCH COMPLETED', 'statement_s': 'DROP TABLE dbo.Suppliers\\r\\nDROP TABLE dbo.Employees'},\n {'TimeGenerated': datetime.datetime(2021, 1, 24, 3, 13, 41, 751000, tzinfo=tzutc()), 'Category': 'SQLSecurityAuditEvents', 'action_name_s': 'BATCH COMPLETED', 'statement_s': 'DROP TABLE dbo.Suppliers\\r\\nDROP TABLE dbo.Employees'},\n {'TimeGenerated': datetime.datetime(2021, 1, 24, 3, 9, 53, 703000, tzinfo=tzutc()), 'Category': 'SQLSecurityAuditEvents', 'action_name_s': 'BATCH COMPLETED', 'statement_s': 'DROP TABLE dbo.Suppliers\\r\\nDROP TABLE dbo.Employees'},\n {'TimeGenerated': datetime.datetime(2021, 1, 24, 3, 9, 53, 703000, tzinfo=tzutc()), 'Category': 'SQLSecurityAuditEvents', 'action_name_s': 'BATCH COMPLETED', 'statement_s': 'DROP TABLE dbo.Suppliers\\r\\nDROP TABLE dbo.Employees'}]",
                        "text/html": ""
                    },
                    "metadata": {},
                    "execution_count": 14,
                    "output_type": "execute_result"
                }
            ],
            "execution_count": 14
        }
    ]
}