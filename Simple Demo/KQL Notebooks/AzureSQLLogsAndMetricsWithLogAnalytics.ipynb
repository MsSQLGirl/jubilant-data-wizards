{
    "metadata": {
        "kernelspec": {
            "name": "python3",
            "display_name": "Python 3",
            "language": "python"
        },
        "language_info": {
            "name": "python",
            "version": "3.6.6",
            "mimetype": "text/x-python",
            "codemirror_mode": {
                "name": "ipython",
                "version": 3
            },
            "pygments_lexer": "ipython3",
            "nbconvert_exporter": "python",
            "file_extension": ".py"
        }
    },
    "nbformat_minor": 2,
    "nbformat": 4,
    "cells": [
        {
            "cell_type": "markdown",
            "source": [
                "# Using Kqlmagic to analyze Azure SQL logs and metrics\r\n",
                "\r\n",
                "There are two main tables in Azure Log Analytics (Azure Monitor Logs) workspace that capture Azure SQL events:\r\n",
                "1. AzureDiagnostics\r\n",
                "2. AzureMetric\r\n",
                ""
            ],
            "metadata": {
                "azdata_cell_guid": "2e215b87-477c-47c1-88fd-15701f9d849c"
            }
        },
        {
            "cell_type": "markdown",
            "source": [
                "## 1. Connect to Log Analytics workspace\r\n",
                "\r\n",
                "Workspace is similar to what a database is to SQL. You connect to Log Analytics workspace to start querying data. \r\n",
                "\r\n",
                "### 1.1 Load Kqlmagic\r\n",
                "Need to load Kqlmagic first before we can start writing queries."
            ],
            "metadata": {
                "azdata_cell_guid": "62a95fa9-3573-46fc-ba99-f8ea5ba0ea05"
            }
        },
        {
            "cell_type": "code",
            "source": [
                "%reload_ext Kqlmagic"
            ],
            "metadata": {
                "azdata_cell_guid": "63832e62-7f15-4a78-ad31-43a6d90f0817",
                "language": "markdown"
            },
            "outputs": [
                {
                    "output_type": "display_data",
                    "data": {
                        "text/plain": "<IPython.core.display.HTML object>",
                        "text/html": "<html>\n            <head>\n            <title>Kqlmagic - banner</title>\n            <style>\n            .kql-magic-banner {\n                display: flex; \n                background-color: #d9edf7;\n            }\n            .kql-magic-banner > div {\n                margin: 10px; \n                padding: 20px; \n                color: #3a87ad; \n                font-size: 13px;\n            }\n            </style>\n            </head>\n            <body>\n                <div class='kql-magic-banner'>\n                    <div><img src='data:image/png;base64,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'></div>\n                    <div>\n                        <p>Kql Query Language, aka kql, is the query language for advanced analytics on Azure Monitor resources. The current supported data sources are \n                        Azure Data Explorer (Kusto), Log Analytics and Application Insights. To get more information execute '%kql --help \"kql\"'</p>\n                        <p>   \n                          &bull; \n                kql reference: Click on 'Help' tab > and Select 'kql reference' or execute '%kql --help \"kql\"'<br>\n                          &bull; \n                Kqlmagic configuration: execute '%config Kqlmagic'<br>\n                          &bull; \n                Kqlmagic usage: execute '%kql --usage'<br>\n                        </p> \n                    </div>\n                </div>\n            </body>\n            </html>"
                    },
                    "metadata": {}
                },
                {
                    "output_type": "display_data",
                    "data": {
                        "text/plain": "<IPython.core.display.HTML object>",
                        "text/html": "<html>\n        <head>\n            \n            \n        </head>\n        <body>\n            <div><p style='padding: 10px; color: #3a87ad; background-color: #d9edf7; border-color: #bce9f1'>Kqlmagic&nbsp;package&nbsp;is&nbsp;updated&nbsp;frequently.&nbsp;Run&nbsp;&apos;!pip&nbsp;install&nbsp;Kqlmagic&nbsp;--no-cache-dir&nbsp;--upgrade&apos;&nbsp;to&nbsp;use&nbsp;the&nbsp;latest&nbsp;version.<br>Kqlmagic&nbsp;version:&nbsp;0.1.113.post1,&nbsp;source:&nbsp;https://github.com/Microsoft/jupyter-Kqlmagic</p></div>\n        </body>\n        </html>"
                    },
                    "metadata": {}
                },
                {
                    "output_type": "display_data",
                    "data": {
                        "text/plain": "<IPython.core.display.HTML object>",
                        "text/html": "<!DOCTYPE html>\n            <html><body>\n            <div style='padding: 10px; color: #3a87ad; background-color: #d9edf7; border-color: #bce9f1'>\n            Click&nbsp;to&nbsp;find&nbsp;out&nbsp;what's&nbsp;new&nbsp;in&nbsp;Kqlmagic&nbsp;&nbsp;<a href='http://127.0.0.1:52467/webbrowser?url=http%3A//127.0.0.1%3A52467/files/.kqlmagic/temp_files/2ab3324e-5acd-4d8b-bbb6-7951832fbfd5/popup_what_new_history.html%3Fkernelid%3D2ab3324e-5acd-4d8b-bbb6-7951832fbfd5&kernelid=2ab3324e-5acd-4d8b-bbb6-7951832fbfd5' style='padding: 2px 6px 2px 6px; color: #333333; background-color: #EEEEEE; border-top: 1px solid #CCCCCC; border-right: 1px solid #333333; border-bottom: 1px solid #333333; border-left: 1px solid #CCCCCC' target='popup_what_new_history'>What's New? </a>\n            </div>\n            </body></html>"
                    },
                    "metadata": {}
                }
            ],
            "execution_count": 1
        },
        {
            "cell_type": "markdown",
            "source": [
                "### 1.2 Connect to the desired Log Analytics workspace"
            ],
            "metadata": {
                "azdata_cell_guid": "1ccf6cc8-49df-4c8c-8cf4-08b36776ec78"
            }
        },
        {
            "cell_type": "code",
            "source": [
                "tenantID = input(\"Enter Log Analytics Workspace ID (guid)\")\r\n",
                "print(tenantID)"
            ],
            "metadata": {
                "azdata_cell_guid": "659b6d8e-ec72-4cb6-a765-310aa2938ecf",
                "tags": [
                    "hide_input"
                ]
            },
            "outputs": [],
            "execution_count": null
        },
        {
            "cell_type": "code",
            "source": [
                "%kql loganalytics://code;workspace=tenantID;alias=\"myLogAnalyticsWorkspace\" -try-azcli_login //-!se"
            ],
            "metadata": {
                "azdata_cell_guid": "0d81236a-753a-4cf0-991c-a5f0a57493cd"
            },
            "outputs": [
                {
                    "output_type": "display_data",
                    "data": {
                        "text/plain": "<IPython.core.display.HTML object>",
                        "text/html": "<!DOCTYPE html>\n            <html><body>\n            <div style=''>\n            <b>FKB629YCF</b>&nbsp;<a href='http://127.0.0.1:52467/webbrowser?url=http%3A//127.0.0.1%3A52467/files/.kqlmagic/temp_files/2ab3324e-5acd-4d8b-bbb6-7951832fbfd5/popup_devicelogin.html%3Fkernelid%3D2ab3324e-5acd-4d8b-bbb6-7951832fbfd5&kernelid=2ab3324e-5acd-4d8b-bbb6-7951832fbfd5' style='padding: 2px 6px 2px 6px; color: #333333; background-color: #EEEEEE; border-top: 1px solid #CCCCCC; border-right: 1px solid #333333; border-bottom: 1px solid #333333; border-left: 1px solid #CCCCCC' target='popup_verification_url'>Copy code to clipboard and authenticate</a>\n            </div>\n            </body></html>"
                    },
                    "metadata": {}
                },
                {
                    "output_type": "display_data",
                    "data": {
                        "text/plain": "<IPython.core.display.HTML object>",
                        "text/html": "<!DOCTYPE html>\n                            <html><body><script>\n\n                                // close authentication window\n                                if (kql_MagicUserCodeAuthWindow && kql_MagicUserCodeAuthWindow.opener != null && !kql_MagicUserCodeAuthWindow.closed) {\n                                    kql_MagicUserCodeAuthWindow.close()\n                                }\n                                // TODO: make sure, you clear the right cell. BTW, not sure it is a must to do any clearing\n\n                                // clear output cell\n                                Jupyter.notebook.clear_output(Jupyter.notebook.get_selected_index())\n\n                                // TODO: if in run all mode, move to last cell, otherwise move to next cell\n                                // move to next cell\n\n                            </script></body></html>"
                    },
                    "metadata": {}
                },
                {
                    "output_type": "display_data",
                    "data": {
                        "text/plain": "<IPython.core.display.HTML object>",
                        "text/html": "<!DOCTYPE html>\n            <html><body>\n            <div style=''>\n            <a href='http://127.0.0.1:52467/webbrowser?url=http%3A//127.0.0.1%3A52467/files/.kqlmagic/temp_files/2ab3324e-5acd-4d8b-bbb6-7951832fbfd5/popup__myLogAnalyticsWorkspace_at_loganalytics_schema.html%3Fkernelid%3D2ab3324e-5acd-4d8b-bbb6-7951832fbfd5&kernelid=2ab3324e-5acd-4d8b-bbb6-7951832fbfd5' style='padding: 2px 6px 2px 6px; color: #333333; background-color: #EEEEEE; border-top: 1px solid #CCCCCC; border-right: 1px solid #333333; border-bottom: 1px solid #333333; border-left: 1px solid #CCCCCC' target='popup__myLogAnalyticsWorkspace_at_loganalytics_schema'>popup schema myLogAnalyticsWorkspace@loganalytics</a>\n            </div>\n            </body></html>"
                    },
                    "metadata": {}
                }
            ],
            "execution_count": 3
        },
        {
            "cell_type": "markdown",
            "source": [
                "## 2. Analyze events by Diagnostic Settings\n",
                "\n",
                "Let's do a simple query first to analyze the number of events by Operation Name. \n",
                "\n",
                "> **Note**: Each row in AzureDiagnostic represents an event for specific Operation or category. Some SQL actions may result in generating multiple events of different types.\n",
                "\n",
                ""
            ],
            "metadata": {
                "azdata_cell_guid": "eb6417a2-3f1d-4d21-9c2d-1ccd9f65f935"
            }
        },
        {
            "cell_type": "code",
            "source": [
                "%%kql AzureDiagnostics\r\n",
                "| summarize count() by OperationName"
            ],
            "metadata": {
                "azdata_cell_guid": "e0d388fb-3ba1-4579-81d4-e46b41063738"
            },
            "outputs": [
                {
                    "output_type": "display_data",
                    "data": {
                        "text/plain": "<IPython.core.display.HTML object>",
                        "text/html": "<html>\n        <head>\n            \n            \n        </head>\n        <body>\n            <div><p style='padding: 10px; color: #3a87ad; background-color: #d9edf7; border-color: #bce9f1'>&nbsp;*&nbsp;myLogAnalyticsWorkspace@loganalytics</p></div>\n        </body>\n        </html>"
                    },
                    "metadata": {}
                },
                {
                    "output_type": "display_data",
                    "data": {
                        "text/plain": "                      OperationName  count_\n0                        AuditEvent    3404\n1                     DeadlockEvent       5\n2                        ErrorEvent     139\n3  QueryStoreRuntimeStatisticsEvent       7\n4                      TimeoutEvent       1",
                        "text/html": "<div>\n<style scoped>\n    .dataframe tbody tr th:only-of-type {\n        vertical-align: middle;\n    }\n\n    .dataframe tbody tr th {\n        vertical-align: top;\n    }\n\n    .dataframe thead th {\n        text-align: right;\n    }\n</style>\n<table border=\"1\" class=\"dataframe\">\n  <thead>\n    <tr style=\"text-align: right;\">\n      <th></th>\n      <th>OperationName</th>\n      <th>count_</th>\n    </tr>\n  </thead>\n  <tbody>\n    <tr>\n      <th>0</th>\n      <td>AuditEvent</td>\n      <td>3404</td>\n    </tr>\n    <tr>\n      <th>1</th>\n      <td>DeadlockEvent</td>\n      <td>5</td>\n    </tr>\n    <tr>\n      <th>2</th>\n      <td>ErrorEvent</td>\n      <td>139</td>\n    </tr>\n    <tr>\n      <th>3</th>\n      <td>QueryStoreRuntimeStatisticsEvent</td>\n      <td>7</td>\n    </tr>\n    <tr>\n      <th>4</th>\n      <td>TimeoutEvent</td>\n      <td>1</td>\n    </tr>\n  </tbody>\n</table>\n</div>",
                        "application/vnd.dataresource+json": {
                            "schema": {
                                "fields": [
                                    {
                                        "name": "OperationName",
                                        "type": "string"
                                    },
                                    {
                                        "name": "count_",
                                        "type": "integer"
                                    }
                                ],
                                "kqmagic_version": "0.1.113.post1"
                            },
                            "data": [
                                {
                                    "OperationName": "AuditEvent",
                                    "count_": 3404
                                },
                                {
                                    "OperationName": "DeadlockEvent",
                                    "count_": 5
                                },
                                {
                                    "OperationName": "ErrorEvent",
                                    "count_": 139
                                },
                                {
                                    "OperationName": "QueryStoreRuntimeStatisticsEvent",
                                    "count_": 7
                                },
                                {
                                    "OperationName": "TimeoutEvent",
                                    "count_": 1
                                }
                            ]
                        }
                    },
                    "metadata": {}
                },
                {
                    "output_type": "display_data",
                    "data": {
                        "text/plain": "<IPython.core.display.HTML object>",
                        "text/html": "<html>\n        <head>\n            \n            \n        </head>\n        <body>\n            <div><p style='padding: 10px; color: #3a87ad; background-color: #d9edf7; border-color: #bce9f1'>Done&nbsp;(00:02.490):&nbsp;5&nbsp;records</p></div>\n        </body>\n        </html>"
                    },
                    "metadata": {}
                },
                {
                    "output_type": "execute_result",
                    "execution_count": 19,
                    "data": {
                        "text/plain": "[{'OperationName': 'AuditEvent', 'count_': 3404},\n {'OperationName': 'DeadlockEvent', 'count_': 5},\n {'OperationName': 'ErrorEvent', 'count_': 139},\n {'OperationName': 'QueryStoreRuntimeStatisticsEvent', 'count_': 7},\n {'OperationName': 'TimeoutEvent', 'count_': 1}]",
                        "text/html": ""
                    },
                    "metadata": {}
                }
            ],
            "execution_count": 19
        },
        {
            "cell_type": "markdown",
            "source": [
                "\r\n",
                "The above query's equivalent in SQL is:\r\n",
                "```\r\n",
                "SELECT COUNT(*) AS [count_]\r\n",
                "FROM AzureDiagnostics\r\n",
                "GROUP BY OperationName\r\n",
                "```\r\n",
                ""
            ],
            "metadata": {
                "azdata_cell_guid": "70c58547-b1b4-4724-b20b-a5bfc11d4dc4"
            }
        },
        {
            "cell_type": "markdown",
            "source": [
                "Count my Azure SQL DB events by category / diagnostic settings."
            ],
            "metadata": {
                "azdata_cell_guid": "8303ed68-ca14-4063-8464-9492f9304121"
            }
        },
        {
            "cell_type": "code",
            "source": [
                "%%kql AzureDiagnostics\r\n",
                "| where LogicalServerName_s == \"jukoesmasqldb\"\r\n",
                "| where TimeGenerated >= ago(5d)\r\n",
                "| summarize count() by Category\r\n",
                "| render barchart with (title = \"Azure SQL DB Diagnostic Category\")"
            ],
            "metadata": {
                "azdata_cell_guid": "6eaa8a7b-0b34-4a5a-b49b-80f9286539b2"
            },
            "outputs": [
                {
                    "output_type": "display_data",
                    "data": {
                        "text/plain": "<IPython.core.display.HTML object>",
                        "text/html": "<html>\n        <head>\n            \n            \n        </head>\n        <body>\n            <div><p style='padding: 10px; color: #3a87ad; background-color: #d9edf7; border-color: #bce9f1'>&nbsp;*&nbsp;myLogAnalyticsWorkspace@loganalytics</p></div>\n        </body>\n        </html>"
                    },
                    "metadata": {}
                },
                {
                    "output_type": "display_data",
                    "data": {
                        "application/vnd.plotly.v1+json": {
                            "config": {
                                "plotlyServerURL": "https://plot.ly"
                            },
                            "data": [
                                {
                                    "marker": {
                                        "color": "rgb(31, 118, 179)"
                                    },
                                    "name": "count_",
                                    "orientation": "h",
                                    "type": "bar",
                                    "x": [
                                        56,
                                        6,
                                        1539,
                                        4,
                                        1
                                    ],
                                    "y": [
                                        "Errors",
                                        "QueryStoreRuntimeStatistics",
                                        "SQLSecurityAuditEvents",
                                        "Deadlocks",
                                        "Timeouts"
                                    ]
                                }
                            ],
                            "layout": {
                                "showlegend": true,
                                "template": {
                                    "data": {
                                        "bar": [
                                            {
                                                "error_x": {
                                                    "color": "#2a3f5f"
                                                },
                                                "error_y": {
                                                    "color": "#2a3f5f"
                                                },
                                                "marker": {
                                                    "line": {
                                                        "color": "#E5ECF6",
                                                        "width": 0.5
                                                    }
                                                },
                                                "type": "bar"
                                            }
                                        ],
                                        "barpolar": [
                                            {
                                                "marker": {
                                                    "line": {
                                                        "color": "#E5ECF6",
                                                        "width": 0.5
                                                    }
                                                },
                                                "type": "barpolar"
                                            }
                                        ],
                                        "carpet": [
                                            {
                                                "aaxis": {
                                                    "endlinecolor": "#2a3f5f",
                                                    "gridcolor": "white",
                                                    "linecolor": "white",
                                                    "minorgridcolor": "white",
                                                    "startlinecolor": "#2a3f5f"
                                                },
                                                "baxis": {
                                                    "endlinecolor": "#2a3f5f",
                                                    "gridcolor": "white",
                                                    "linecolor": "white",
                                                    "minorgridcolor": "white",
                                                    "startlinecolor": "#2a3f5f"
                                                },
                                                "type": "carpet"
                                            }
                                        ],
                                        "choropleth": [
                                            {
                                                "colorbar": {
                                                    "outlinewidth": 0,
                                                    "ticks": ""
                                                },
                                                "type": "choropleth"
                                            }
                                        ],
                                        "contour": [
                                            {
                                                "colorbar": {
                                                    "outlinewidth": 0,
                                                    "ticks": ""
                                                },
                                                "colorscale": [
                                                    [
                                                        0,
                                                        "#0d0887"
                                                    ],
                                                    [
                                                        0.1111111111111111,
                                                        "#46039f"
                                                    ],
                                                    [
                                                        0.2222222222222222,
                                                        "#7201a8"
                                                    ],
                                                    [
                                                        0.3333333333333333,
                                                        "#9c179e"
                                                    ],
                                                    [
                                                        0.4444444444444444,
                                                        "#bd3786"
                                                    ],
                                                    [
                                                        0.5555555555555556,
                                                        "#d8576b"
                                                    ],
                                                    [
                                                        0.6666666666666666,
                                                        "#ed7953"
                                                    ],
                                                    [
                                                        0.7777777777777778,
                                                        "#fb9f3a"
                                                    ],
                                                    [
                                                        0.8888888888888888,
                                                        "#fdca26"
                                                    ],
                                                    [
                                                        1,
                                                        "#f0f921"
                                                    ]
                                                ],
                                                "type": "contour"
                                            }
                                        ],
                                        "contourcarpet": [
                                            {
                                                "colorbar": {
                                                    "outlinewidth": 0,
                                                    "ticks": ""
                                                },
                                                "type": "contourcarpet"
                                            }
                                        ],
                                        "heatmap": [
                                            {
                                                "colorbar": {
                                                    "outlinewidth": 0,
                                                    "ticks": ""
                                                },
                                                "colorscale": [
                                                    [
                                                        0,
                                                        "#0d0887"
                                                    ],
                                                    [
                                                        0.1111111111111111,
                                                        "#46039f"
                                                    ],
                                                    [
                                                        0.2222222222222222,
                                                        "#7201a8"
                                                    ],
                                                    [
                                                        0.3333333333333333,
                                                        "#9c179e"
                                                    ],
                                                    [
                                                        0.4444444444444444,
                                                        "#bd3786"
                                                    ],
                                                    [
                                                        0.5555555555555556,
                                                        "#d8576b"
                                                    ],
                                                    [
                                                        0.6666666666666666,
                                                        "#ed7953"
                                                    ],
                                                    [
                                                        0.7777777777777778,
                                                        "#fb9f3a"
                                                    ],
                                                    [
                                                        0.8888888888888888,
                                                        "#fdca26"
                                                    ],
                                                    [
                                                        1,
                                                        "#f0f921"
                                                    ]
                                                ],
                                                "type": "heatmap"
                                            }
                                        ],
                                        "heatmapgl": [
                                            {
                                                "colorbar": {
                                                    "outlinewidth": 0,
                                                    "ticks": ""
                                                },
                                                "colorscale": [
                                                    [
                                                        0,
                                                        "#0d0887"
                                                    ],
                                                    [
                                                        0.1111111111111111,
                                                        "#46039f"
                                                    ],
                                                    [
                                                        0.2222222222222222,
                                                        "#7201a8"
                                                    ],
                                                    [
                                                        0.3333333333333333,
                                                        "#9c179e"
                                                    ],
                                                    [
                                                        0.4444444444444444,
                                                        "#bd3786"
                                                    ],
                                                    [
                                                        0.5555555555555556,
                                                        "#d8576b"
                                                    ],
                                                    [
                                                        0.6666666666666666,
                                                        "#ed7953"
                                                    ],
                                                    [
                                                        0.7777777777777778,
                                                        "#fb9f3a"
                                                    ],
                                                    [
                                                        0.8888888888888888,
                                                        "#fdca26"
                                                    ],
                                                    [
                                                        1,
                                                        "#f0f921"
                                                    ]
                                                ],
                                                "type": "heatmapgl"
                                            }
                                        ],
                                        "histogram": [
                                            {
                                                "marker": {
                                                    "colorbar": {
                                                        "outlinewidth": 0,
                                                        "ticks": ""
                                                    }
                                                },
                                                "type": "histogram"
                                            }
                                        ],
                                        "histogram2d": [
                                            {
                                                "colorbar": {
                                                    "outlinewidth": 0,
                                                    "ticks": ""
                                                },
                                                "colorscale": [
                                                    [
                                                        0,
                                                        "#0d0887"
                                                    ],
                                                    [
                                                        0.1111111111111111,
                                                        "#46039f"
                                                    ],
                                                    [
                                                        0.2222222222222222,
                                                        "#7201a8"
                                                    ],
                                                    [
                                                        0.3333333333333333,
                                                        "#9c179e"
                                                    ],
                                                    [
                                                        0.4444444444444444,
                                                        "#bd3786"
                                                    ],
                                                    [
                                                        0.5555555555555556,
                                                        "#d8576b"
                                                    ],
                                                    [
                                                        0.6666666666666666,
                                                        "#ed7953"
                                                    ],
                                                    [
                                                        0.7777777777777778,
                                                        "#fb9f3a"
                                                    ],
                                                    [
                                                        0.8888888888888888,
                                                        "#fdca26"
                                                    ],
                                                    [
                                                        1,
                                                        "#f0f921"
                                                    ]
                                                ],
                                                "type": "histogram2d"
                                            }
                                        ],
                                        "histogram2dcontour": [
                                            {
                                                "colorbar": {
                                                    "outlinewidth": 0,
                                                    "ticks": ""
                                                },
                                                "colorscale": [
                                                    [
                                                        0,
                                                        "#0d0887"
                                                    ],
                                                    [
                                                        0.1111111111111111,
                                                        "#46039f"
                                                    ],
                                                    [
                                                        0.2222222222222222,
                                                        "#7201a8"
                                                    ],
                                                    [
                                                        0.3333333333333333,
                                                        "#9c179e"
                                                    ],
                                                    [
                                                        0.4444444444444444,
                                                        "#bd3786"
                                                    ],
                                                    [
                                                        0.5555555555555556,
                                                        "#d8576b"
                                                    ],
                                                    [
                                                        0.6666666666666666,
                                                        "#ed7953"
                                                    ],
                                                    [
                                                        0.7777777777777778,
                                                        "#fb9f3a"
                                                    ],
                                                    [
                                                        0.8888888888888888,
                                                        "#fdca26"
                                                    ],
                                                    [
                                                        1,
                                                        "#f0f921"
                                                    ]
                                                ],
                                                "type": "histogram2dcontour"
                                            }
                                        ],
                                        "mesh3d": [
                                            {
                                                "colorbar": {
                                                    "outlinewidth": 0,
                                                    "ticks": ""
                                                },
                                                "type": "mesh3d"
                                            }
                                        ],
                                        "parcoords": [
                                            {
                                                "line": {
                                                    "colorbar": {
                                                        "outlinewidth": 0,
                                                        "ticks": ""
                                                    }
                                                },
                                                "type": "parcoords"
                                            }
                                        ],
                                        "pie": [
                                            {
                                                "automargin": true,
                                                "type": "pie"
                                            }
                                        ],
                                        "scatter": [
                                            {
                                                "marker": {
                                                    "colorbar": {
                                                        "outlinewidth": 0,
                                                        "ticks": ""
                                                    }
                                                },
                                                "type": "scatter"
                                            }
                                        ],
                                        "scatter3d": [
                                            {
                                                "line": {
                                                    "colorbar": {
                                                        "outlinewidth": 0,
                                                        "ticks": ""
                                                    }
                                                },
                                                "marker": {
                                                    "colorbar": {
                                                        "outlinewidth": 0,
                                                        "ticks": ""
                                                    }
                                                },
                                                "type": "scatter3d"
                                            }
                                        ],
                                        "scattercarpet": [
                                            {
                                                "marker": {
                                                    "colorbar": {
                                                        "outlinewidth": 0,
                                                        "ticks": ""
                                                    }
                                                },
                                                "type": "scattercarpet"
                                            }
                                        ],
                                        "scattergeo": [
                                            {
                                                "marker": {
                                                    "colorbar": {
                                                        "outlinewidth": 0,
                                                        "ticks": ""
                                                    }
                                                },
                                                "type": "scattergeo"
                                            }
                                        ],
                                        "scattergl": [
                                            {
                                                "marker": {
                                                    "colorbar": {
                                                        "outlinewidth": 0,
                                                        "ticks": ""
                                                    }
                                                },
                                                "type": "scattergl"
                                            }
                                        ],
                                        "scattermapbox": [
                                            {
                                                "marker": {
                                                    "colorbar": {
                                                        "outlinewidth": 0,
                                                        "ticks": ""
                                                    }
                                                },
                                                "type": "scattermapbox"
                                            }
                                        ],
                                        "scatterpolar": [
                                            {
                                                "marker": {
                                                    "colorbar": {
                                                        "outlinewidth": 0,
                                                        "ticks": ""
                                                    }
                                                },
                                                "type": "scatterpolar"
                                            }
                                        ],
                                        "scatterpolargl": [
                                            {
                                                "marker": {
                                                    "colorbar": {
                                                        "outlinewidth": 0,
                                                        "ticks": ""
                                                    }
                                                },
                                                "type": "scatterpolargl"
                                            }
                                        ],
                                        "scatterternary": [
                                            {
                                                "marker": {
                                                    "colorbar": {
                                                        "outlinewidth": 0,
                                                        "ticks": ""
                                                    }
                                                },
                                                "type": "scatterternary"
                                            }
                                        ],
                                        "surface": [
                                            {
                                                "colorbar": {
                                                    "outlinewidth": 0,
                                                    "ticks": ""
                                                },
                                                "colorscale": [
                                                    [
                                                        0,
                                                        "#0d0887"
                                                    ],
                                                    [
                                                        0.1111111111111111,
                                                        "#46039f"
                                                    ],
                                                    [
                                                        0.2222222222222222,
                                                        "#7201a8"
                                                    ],
                                                    [
                                                        0.3333333333333333,
                                                        "#9c179e"
                                                    ],
                                                    [
                                                        0.4444444444444444,
                                                        "#bd3786"
                                                    ],
                                                    [
                                                        0.5555555555555556,
                                                        "#d8576b"
                                                    ],
                                                    [
                                                        0.6666666666666666,
                                                        "#ed7953"
                                                    ],
                                                    [
                                                        0.7777777777777778,
                                                        "#fb9f3a"
                                                    ],
                                                    [
                                                        0.8888888888888888,
                                                        "#fdca26"
                                                    ],
                                                    [
                                                        1,
                                                        "#f0f921"
                                                    ]
                                                ],
                                                "type": "surface"
                                            }
                                        ],
                                        "table": [
                                            {
                                                "cells": {
                                                    "fill": {
                                                        "color": "#EBF0F8"
                                                    },
                                                    "line": {
                                                        "color": "white"
                                                    }
                                                },
                                                "header": {
                                                    "fill": {
                                                        "color": "#C8D4E3"
                                                    },
                                                    "line": {
                                                        "color": "white"
                                                    }
                                                },
                                                "type": "table"
                                            }
                                        ]
                                    },
                                    "layout": {
                                        "annotationdefaults": {
                                            "arrowcolor": "#2a3f5f",
                                            "arrowhead": 0,
                                            "arrowwidth": 1
                                        },
                                        "coloraxis": {
                                            "colorbar": {
                                                "outlinewidth": 0,
                                                "ticks": ""
                                            }
                                        },
                                        "colorscale": {
                                            "diverging": [
                                                [
                                                    0,
                                                    "#8e0152"
                                                ],
                                                [
                                                    0.1,
                                                    "#c51b7d"
                                                ],
                                                [
                                                    0.2,
                                                    "#de77ae"
                                                ],
                                                [
                                                    0.3,
                                                    "#f1b6da"
                                                ],
                                                [
                                                    0.4,
                                                    "#fde0ef"
                                                ],
                                                [
                                                    0.5,
                                                    "#f7f7f7"
                                                ],
                                                [
                                                    0.6,
                                                    "#e6f5d0"
                                                ],
                                                [
                                                    0.7,
                                                    "#b8e186"
                                                ],
                                                [
                                                    0.8,
                                                    "#7fbc41"
                                                ],
                                                [
                                                    0.9,
                                                    "#4d9221"
                                                ],
                                                [
                                                    1,
                                                    "#276419"
                                                ]
                                            ],
                                            "sequential": [
                                                [
                                                    0,
                                                    "#0d0887"
                                                ],
                                                [
                                                    0.1111111111111111,
                                                    "#46039f"
                                                ],
                                                [
                                                    0.2222222222222222,
                                                    "#7201a8"
                                                ],
                                                [
                                                    0.3333333333333333,
                                                    "#9c179e"
                                                ],
                                                [
                                                    0.4444444444444444,
                                                    "#bd3786"
                                                ],
                                                [
                                                    0.5555555555555556,
                                                    "#d8576b"
                                                ],
                                                [
                                                    0.6666666666666666,
                                                    "#ed7953"
                                                ],
                                                [
                                                    0.7777777777777778,
                                                    "#fb9f3a"
                                                ],
                                                [
                                                    0.8888888888888888,
                                                    "#fdca26"
                                                ],
                                                [
                                                    1,
                                                    "#f0f921"
                                                ]
                                            ],
                                            "sequentialminus": [
                                                [
                                                    0,
                                                    "#0d0887"
                                                ],
                                                [
                                                    0.1111111111111111,
                                                    "#46039f"
                                                ],
                                                [
                                                    0.2222222222222222,
                                                    "#7201a8"
                                                ],
                                                [
                                                    0.3333333333333333,
                                                    "#9c179e"
                                                ],
                                                [
                                                    0.4444444444444444,
                                                    "#bd3786"
                                                ],
                                                [
                                                    0.5555555555555556,
                                                    "#d8576b"
                                                ],
                                                [
                                                    0.6666666666666666,
                                                    "#ed7953"
                                                ],
                                                [
                                                    0.7777777777777778,
                                                    "#fb9f3a"
                                                ],
                                                [
                                                    0.8888888888888888,
                                                    "#fdca26"
                                                ],
                                                [
                                                    1,
                                                    "#f0f921"
                                                ]
                                            ]
                                        },
                                        "colorway": [
                                            "#636efa",
                                            "#EF553B",
                                            "#00cc96",
                                            "#ab63fa",
                                            "#FFA15A",
                                            "#19d3f3",
                                            "#FF6692",
                                            "#B6E880",
                                            "#FF97FF",
                                            "#FECB52"
                                        ],
                                        "font": {
                                            "color": "#2a3f5f"
                                        },
                                        "geo": {
                                            "bgcolor": "white",
                                            "lakecolor": "white",
                                            "landcolor": "#E5ECF6",
                                            "showlakes": true,
                                            "showland": true,
                                            "subunitcolor": "white"
                                        },
                                        "hoverlabel": {
                                            "align": "left"
                                        },
                                        "hovermode": "closest",
                                        "mapbox": {
                                            "style": "light"
                                        },
                                        "paper_bgcolor": "white",
                                        "plot_bgcolor": "#E5ECF6",
                                        "polar": {
                                            "angularaxis": {
                                                "gridcolor": "white",
                                                "linecolor": "white",
                                                "ticks": ""
                                            },
                                            "bgcolor": "#E5ECF6",
                                            "radialaxis": {
                                                "gridcolor": "white",
                                                "linecolor": "white",
                                                "ticks": ""
                                            }
                                        },
                                        "scene": {
                                            "xaxis": {
                                                "backgroundcolor": "#E5ECF6",
                                                "gridcolor": "white",
                                                "gridwidth": 2,
                                                "linecolor": "white",
                                                "showbackground": true,
                                                "ticks": "",
                                                "zerolinecolor": "white"
                                            },
                                            "yaxis": {
                                                "backgroundcolor": "#E5ECF6",
                                                "gridcolor": "white",
                                                "gridwidth": 2,
                                                "linecolor": "white",
                                                "showbackground": true,
                                                "ticks": "",
                                                "zerolinecolor": "white"
                                            },
                                            "zaxis": {
                                                "backgroundcolor": "#E5ECF6",
                                                "gridcolor": "white",
                                                "gridwidth": 2,
                                                "linecolor": "white",
                                                "showbackground": true,
                                                "ticks": "",
                                                "zerolinecolor": "white"
                                            }
                                        },
                                        "shapedefaults": {
                                            "line": {
                                                "color": "#2a3f5f"
                                            }
                                        },
                                        "ternary": {
                                            "aaxis": {
                                                "gridcolor": "white",
                                                "linecolor": "white",
                                                "ticks": ""
                                            },
                                            "baxis": {
                                                "gridcolor": "white",
                                                "linecolor": "white",
                                                "ticks": ""
                                            },
                                            "bgcolor": "#E5ECF6",
                                            "caxis": {
                                                "gridcolor": "white",
                                                "linecolor": "white",
                                                "ticks": ""
                                            }
                                        },
                                        "title": {
                                            "x": 0.05
                                        },
                                        "xaxis": {
                                            "automargin": true,
                                            "gridcolor": "white",
                                            "linecolor": "white",
                                            "ticks": "",
                                            "title": {
                                                "standoff": 15
                                            },
                                            "zerolinecolor": "white",
                                            "zerolinewidth": 2
                                        },
                                        "yaxis": {
                                            "automargin": true,
                                            "gridcolor": "white",
                                            "linecolor": "white",
                                            "ticks": "",
                                            "title": {
                                                "standoff": 15
                                            },
                                            "zerolinecolor": "white",
                                            "zerolinewidth": 2
                                        }
                                    }
                                },
                                "title": {
                                    "text": "Azure SQL DB Diagnostic Category"
                                },
                                "xaxis": {
                                    "ticksuffix": "",
                                    "title": {
                                        "text": "count_"
                                    },
                                    "type": "linear"
                                },
                                "yaxis": {
                                    "title": {
                                        "text": "Category"
                                    },
                                    "type": "category"
                                }
                            }
                        }
                    },
                    "metadata": {}
                },
                {
                    "output_type": "display_data",
                    "data": {
                        "text/plain": "<IPython.core.display.HTML object>",
                        "text/html": "<html>\n        <head>\n            \n            \n        </head>\n        <body>\n            <div><p style='padding: 10px; color: #3a87ad; background-color: #d9edf7; border-color: #bce9f1'>Done&nbsp;(00:00.311):&nbsp;5&nbsp;records</p></div>\n        </body>\n        </html>"
                    },
                    "metadata": {}
                },
                {
                    "output_type": "execute_result",
                    "execution_count": 9,
                    "data": {
                        "text/plain": "[{'Category': 'Errors', 'count_': 56},\n {'Category': 'QueryStoreRuntimeStatistics', 'count_': 6},\n {'Category': 'SQLSecurityAuditEvents', 'count_': 1539},\n {'Category': 'Deadlocks', 'count_': 4},\n {'Category': 'Timeouts', 'count_': 1}]",
                        "text/html": ""
                    },
                    "metadata": {}
                }
            ],
            "execution_count": 9
        },
        {
            "cell_type": "markdown",
            "source": [
                "## 3. Performance troubleshooting Query (from Azure Portal)\n",
                "\n",
                "Potentially a query or deadlock on the system that could lead to poor performance. The following is a query suggested by Azure Portal."
            ],
            "metadata": {
                "azdata_cell_guid": "3e2e80b4-88b4-494e-931e-15a4139389d7"
            }
        },
        {
            "cell_type": "code",
            "source": [
                "%%kql \r\n",
                "AzureMetrics\r\n",
                "| where ResourceProvider == \"MICROSOFT.SQL\"\r\n",
                "| where TimeGenerated >=ago(60min)\r\n",
                "| where MetricName in ('deadlock')\r\n",
                "| parse _ResourceId with * \"/microsoft.sql/servers/\" Resource // subtract Resource name for _ResourceId\r\n",
                "| summarize Deadlock_max_60Mins = max(Maximum) by Resource, MetricName"
            ],
            "metadata": {
                "azdata_cell_guid": "d7bc7a1e-c348-448b-af47-b310a0fe55e7"
            },
            "outputs": [
                {
                    "output_type": "display_data",
                    "data": {
                        "text/plain": "<IPython.core.display.HTML object>",
                        "text/html": "<html>\n        <head>\n            \n            \n        </head>\n        <body>\n            <div><p style='padding: 10px; color: #3a87ad; background-color: #d9edf7; border-color: #bce9f1'>&nbsp;*&nbsp;myLogAnalyticsWorkspace@loganalytics</p></div>\n        </body>\n        </html>"
                    },
                    "metadata": {}
                },
                {
                    "output_type": "display_data",
                    "data": {
                        "text/plain": "                                 Resource MetricName  Deadlock_max_60Mins\n0  jukoesmasqldb/databases/adventureworks   deadlock                  1.0",
                        "text/html": "<div>\n<style scoped>\n    .dataframe tbody tr th:only-of-type {\n        vertical-align: middle;\n    }\n\n    .dataframe tbody tr th {\n        vertical-align: top;\n    }\n\n    .dataframe thead th {\n        text-align: right;\n    }\n</style>\n<table border=\"1\" class=\"dataframe\">\n  <thead>\n    <tr style=\"text-align: right;\">\n      <th></th>\n      <th>Resource</th>\n      <th>MetricName</th>\n      <th>Deadlock_max_60Mins</th>\n    </tr>\n  </thead>\n  <tbody>\n    <tr>\n      <th>0</th>\n      <td>jukoesmasqldb/databases/adventureworks</td>\n      <td>deadlock</td>\n      <td>1.0</td>\n    </tr>\n  </tbody>\n</table>\n</div>",
                        "application/vnd.dataresource+json": {
                            "schema": {
                                "fields": [
                                    {
                                        "name": "Resource",
                                        "type": "string"
                                    },
                                    {
                                        "name": "MetricName",
                                        "type": "string"
                                    },
                                    {
                                        "name": "Deadlock_max_60Mins",
                                        "type": "number"
                                    }
                                ],
                                "kqmagic_version": "0.1.113.post1"
                            },
                            "data": [
                                {
                                    "Resource": "jukoesmasqldb/databases/adventureworks",
                                    "MetricName": "deadlock",
                                    "Deadlock_max_60Mins": 1
                                }
                            ]
                        }
                    },
                    "metadata": {}
                },
                {
                    "output_type": "display_data",
                    "data": {
                        "text/plain": "<IPython.core.display.HTML object>",
                        "text/html": "<html>\n        <head>\n            \n            \n        </head>\n        <body>\n            <div><p style='padding: 10px; color: #3a87ad; background-color: #d9edf7; border-color: #bce9f1'>Done&nbsp;(00:00.522):&nbsp;1&nbsp;records</p></div>\n        </body>\n        </html>"
                    },
                    "metadata": {}
                },
                {
                    "output_type": "execute_result",
                    "execution_count": 20,
                    "data": {
                        "text/plain": "[{'Resource': 'jukoesmasqldb/databases/adventureworks', 'MetricName': 'deadlock', 'Deadlock_max_60Mins': 1}]",
                        "text/html": ""
                    },
                    "metadata": {}
                }
            ],
            "execution_count": 20
        },
        {
            "cell_type": "markdown",
            "source": [
                "# AzureMetrics\r\n",
                "\r\n",
                "This is a sample query to dig into AzureMetrics"
            ],
            "metadata": {
                "azdata_cell_guid": "188a4592-423d-44b6-ad47-902101257761"
            }
        },
        {
            "cell_type": "code",
            "source": [
                "%%kql\r\n",
                "AzureMetrics\r\n",
                "| project-away TenantId, ResourceId, SubscriptionId, _ResourceId, ResourceGroup // Don't show sensitive columns :) \r\n",
                "| project TimeGenerated, MetricName, Total, Count, UnitName\r\n",
                "| take 10\r\n",
                ""
            ],
            "metadata": {
                "azdata_cell_guid": "1ac3f92f-b292-4c74-8020-47de93aebb6f"
            },
            "outputs": [
                {
                    "output_type": "display_data",
                    "data": {
                        "text/plain": "<IPython.core.display.HTML object>",
                        "text/html": "<html>\n        <head>\n            \n            \n        </head>\n        <body>\n            <div><p style='padding: 10px; color: #3a87ad; background-color: #d9edf7; border-color: #bce9f1'>&nbsp;*&nbsp;myLogAnalyticsWorkspace@loganalytics</p></div>\n        </body>\n        </html>"
                    },
                    "metadata": {}
                },
                {
                    "output_type": "display_data",
                    "data": {
                        "text/plain": "              TimeGenerated                  MetricName       Total  Count  \\\n0 2021-02-03 04:39:00+00:00                     storage  58458112.0    2.0   \n1 2021-02-03 04:39:00+00:00  physical_data_read_percent         0.0    4.0   \n2 2021-02-03 04:39:00+00:00             storage_percent         0.0    2.0   \n3 2021-02-03 04:39:00+00:00            sessions_percent         0.0    4.0   \n4 2021-02-03 04:39:00+00:00                 cpu_percent         0.0    4.0   \n5 2021-02-03 04:39:00+00:00      allocated_data_storage  67108864.0    2.0   \n6 2021-02-03 04:39:00+00:00             workers_percent         0.0    4.0   \n7 2021-02-03 04:39:00+00:00           log_write_percent         0.0    4.0   \n8 2021-02-03 04:39:00+00:00                   cpu_limit        12.0    6.0   \n9 2021-02-03 04:39:00+00:00         xtp_storage_percent         0.0    4.0   \n\n  UnitName  \n0    Bytes  \n1  Percent  \n2  Percent  \n3  Percent  \n4  Percent  \n5    Bytes  \n6  Percent  \n7  Percent  \n8    Count  \n9  Percent  ",
                        "text/html": "<div>\n<style scoped>\n    .dataframe tbody tr th:only-of-type {\n        vertical-align: middle;\n    }\n\n    .dataframe tbody tr th {\n        vertical-align: top;\n    }\n\n    .dataframe thead th {\n        text-align: right;\n    }\n</style>\n<table border=\"1\" class=\"dataframe\">\n  <thead>\n    <tr style=\"text-align: right;\">\n      <th></th>\n      <th>TimeGenerated</th>\n      <th>MetricName</th>\n      <th>Total</th>\n      <th>Count</th>\n      <th>UnitName</th>\n    </tr>\n  </thead>\n  <tbody>\n    <tr>\n      <th>0</th>\n      <td>2021-02-03 04:39:00+00:00</td>\n      <td>storage</td>\n      <td>58458112.0</td>\n      <td>2.0</td>\n      <td>Bytes</td>\n    </tr>\n    <tr>\n      <th>1</th>\n      <td>2021-02-03 04:39:00+00:00</td>\n      <td>physical_data_read_percent</td>\n      <td>0.0</td>\n      <td>4.0</td>\n      <td>Percent</td>\n    </tr>\n    <tr>\n      <th>2</th>\n      <td>2021-02-03 04:39:00+00:00</td>\n      <td>storage_percent</td>\n      <td>0.0</td>\n      <td>2.0</td>\n      <td>Percent</td>\n    </tr>\n    <tr>\n      <th>3</th>\n      <td>2021-02-03 04:39:00+00:00</td>\n      <td>sessions_percent</td>\n      <td>0.0</td>\n      <td>4.0</td>\n      <td>Percent</td>\n    </tr>\n    <tr>\n      <th>4</th>\n      <td>2021-02-03 04:39:00+00:00</td>\n      <td>cpu_percent</td>\n      <td>0.0</td>\n      <td>4.0</td>\n      <td>Percent</td>\n    </tr>\n    <tr>\n      <th>5</th>\n      <td>2021-02-03 04:39:00+00:00</td>\n      <td>allocated_data_storage</td>\n      <td>67108864.0</td>\n      <td>2.0</td>\n      <td>Bytes</td>\n    </tr>\n    <tr>\n      <th>6</th>\n      <td>2021-02-03 04:39:00+00:00</td>\n      <td>workers_percent</td>\n      <td>0.0</td>\n      <td>4.0</td>\n      <td>Percent</td>\n    </tr>\n    <tr>\n      <th>7</th>\n      <td>2021-02-03 04:39:00+00:00</td>\n      <td>log_write_percent</td>\n      <td>0.0</td>\n      <td>4.0</td>\n      <td>Percent</td>\n    </tr>\n    <tr>\n      <th>8</th>\n      <td>2021-02-03 04:39:00+00:00</td>\n      <td>cpu_limit</td>\n      <td>12.0</td>\n      <td>6.0</td>\n      <td>Count</td>\n    </tr>\n    <tr>\n      <th>9</th>\n      <td>2021-02-03 04:39:00+00:00</td>\n      <td>xtp_storage_percent</td>\n      <td>0.0</td>\n      <td>4.0</td>\n      <td>Percent</td>\n    </tr>\n  </tbody>\n</table>\n</div>",
                        "application/vnd.dataresource+json": {
                            "schema": {
                                "fields": [
                                    {
                                        "name": "TimeGenerated",
                                        "type": "datetime",
                                        "tz": "UTC"
                                    },
                                    {
                                        "name": "MetricName",
                                        "type": "string"
                                    },
                                    {
                                        "name": "Total",
                                        "type": "number"
                                    },
                                    {
                                        "name": "Count",
                                        "type": "number"
                                    },
                                    {
                                        "name": "UnitName",
                                        "type": "string"
                                    }
                                ],
                                "kqmagic_version": "0.1.113.post1"
                            },
                            "data": [
                                {
                                    "TimeGenerated": "2021-02-03T04:39:00.000Z",
                                    "MetricName": "storage",
                                    "Total": 58458112,
                                    "Count": 2,
                                    "UnitName": "Bytes"
                                },
                                {
                                    "TimeGenerated": "2021-02-03T04:39:00.000Z",
                                    "MetricName": "physical_data_read_percent",
                                    "Total": 0,
                                    "Count": 4,
                                    "UnitName": "Percent"
                                },
                                {
                                    "TimeGenerated": "2021-02-03T04:39:00.000Z",
                                    "MetricName": "storage_percent",
                                    "Total": 0,
                                    "Count": 2,
                                    "UnitName": "Percent"
                                },
                                {
                                    "TimeGenerated": "2021-02-03T04:39:00.000Z",
                                    "MetricName": "sessions_percent",
                                    "Total": 0,
                                    "Count": 4,
                                    "UnitName": "Percent"
                                },
                                {
                                    "TimeGenerated": "2021-02-03T04:39:00.000Z",
                                    "MetricName": "cpu_percent",
                                    "Total": 0,
                                    "Count": 4,
                                    "UnitName": "Percent"
                                },
                                {
                                    "TimeGenerated": "2021-02-03T04:39:00.000Z",
                                    "MetricName": "allocated_data_storage",
                                    "Total": 67108864,
                                    "Count": 2,
                                    "UnitName": "Bytes"
                                },
                                {
                                    "TimeGenerated": "2021-02-03T04:39:00.000Z",
                                    "MetricName": "workers_percent",
                                    "Total": 0,
                                    "Count": 4,
                                    "UnitName": "Percent"
                                },
                                {
                                    "TimeGenerated": "2021-02-03T04:39:00.000Z",
                                    "MetricName": "log_write_percent",
                                    "Total": 0,
                                    "Count": 4,
                                    "UnitName": "Percent"
                                },
                                {
                                    "TimeGenerated": "2021-02-03T04:39:00.000Z",
                                    "MetricName": "cpu_limit",
                                    "Total": 12,
                                    "Count": 6,
                                    "UnitName": "Count"
                                },
                                {
                                    "TimeGenerated": "2021-02-03T04:39:00.000Z",
                                    "MetricName": "xtp_storage_percent",
                                    "Total": 0,
                                    "Count": 4,
                                    "UnitName": "Percent"
                                }
                            ]
                        }
                    },
                    "metadata": {}
                },
                {
                    "output_type": "display_data",
                    "data": {
                        "text/plain": "<IPython.core.display.HTML object>",
                        "text/html": "<html>\n        <head>\n            \n            \n        </head>\n        <body>\n            <div><p style='padding: 10px; color: #3a87ad; background-color: #d9edf7; border-color: #bce9f1'>Done&nbsp;(00:00.548):&nbsp;10&nbsp;records</p></div>\n        </body>\n        </html>"
                    },
                    "metadata": {}
                },
                {
                    "output_type": "execute_result",
                    "execution_count": 21,
                    "data": {
                        "text/plain": "[{'TimeGenerated': datetime.datetime(2021, 2, 3, 4, 39, tzinfo=tzutc()), 'MetricName': 'storage', 'Total': 58458112, 'Count': 2, 'UnitName': 'Bytes'},\n {'TimeGenerated': datetime.datetime(2021, 2, 3, 4, 39, tzinfo=tzutc()), 'MetricName': 'physical_data_read_percent', 'Total': 0, 'Count': 4, 'UnitName': 'Percent'},\n {'TimeGenerated': datetime.datetime(2021, 2, 3, 4, 39, tzinfo=tzutc()), 'MetricName': 'storage_percent', 'Total': 0, 'Count': 2, 'UnitName': 'Percent'},\n {'TimeGenerated': datetime.datetime(2021, 2, 3, 4, 39, tzinfo=tzutc()), 'MetricName': 'sessions_percent', 'Total': 0, 'Count': 4, 'UnitName': 'Percent'},\n {'TimeGenerated': datetime.datetime(2021, 2, 3, 4, 39, tzinfo=tzutc()), 'MetricName': 'cpu_percent', 'Total': 0, 'Count': 4, 'UnitName': 'Percent'},\n {'TimeGenerated': datetime.datetime(2021, 2, 3, 4, 39, tzinfo=tzutc()), 'MetricName': 'allocated_data_storage', 'Total': 67108864, 'Count': 2, 'UnitName': 'Bytes'},\n {'TimeGenerated': datetime.datetime(2021, 2, 3, 4, 39, tzinfo=tzutc()), 'MetricName': 'workers_percent', 'Total': 0, 'Count': 4, 'UnitName': 'Percent'},\n {'TimeGenerated': datetime.datetime(2021, 2, 3, 4, 39, tzinfo=tzutc()), 'MetricName': 'log_write_percent', 'Total': 0, 'Count': 4, 'UnitName': 'Percent'},\n {'TimeGenerated': datetime.datetime(2021, 2, 3, 4, 39, tzinfo=tzutc()), 'MetricName': 'cpu_limit', 'Total': 12, 'Count': 6, 'UnitName': 'Count'},\n {'TimeGenerated': datetime.datetime(2021, 2, 3, 4, 39, tzinfo=tzutc()), 'MetricName': 'xtp_storage_percent', 'Total': 0, 'Count': 4, 'UnitName': 'Percent'}]",
                        "text/html": ""
                    },
                    "metadata": {}
                }
            ],
            "execution_count": 21
        },
        {
            "cell_type": "markdown",
            "source": [
                "# AzureDiagnostics\n",
                "\n",
                "This is a sample query to dig into AzureDiagnostics. This table tends to have more details than AzureMetrics."
            ],
            "metadata": {
                "azdata_cell_guid": "b7d842a1-4228-48c8-ab44-126adf65d1ed"
            }
        },
        {
            "cell_type": "code",
            "source": [
                "%%kql\r\n",
                "AzureDiagnostics\r\n",
                "| project-away TenantId, ResourceId, SubscriptionId, ResourceGroup, _ResourceId // Don't show sensitive columns :) \r\n",
                "| take 10"
            ],
            "metadata": {
                "azdata_cell_guid": "310413ed-93a0-4f80-ad80-9f7cd3e862da"
            },
            "outputs": [
                {
                    "output_type": "display_data",
                    "data": {
                        "text/plain": "<IPython.core.display.HTML object>",
                        "text/html": "<html>\n        <head>\n            \n            \n        </head>\n        <body>\n            <div><p style='padding: 10px; color: #3a87ad; background-color: #d9edf7; border-color: #bce9f1'>&nbsp;*&nbsp;myLogAnalyticsWorkspace@loganalytics</p></div>\n        </body>\n        </html>"
                    },
                    "metadata": {}
                },
                {
                    "output_type": "display_data",
                    "data": {
                        "text/plain": "                     TimeGenerated                Category ResourceProvider  \\\n0 2021-02-03 04:22:13.290000+00:00  SQLSecurityAuditEvents    MICROSOFT.SQL   \n1 2021-02-03 04:22:13.290000+00:00  SQLSecurityAuditEvents    MICROSOFT.SQL   \n2 2021-02-03 04:22:13.290000+00:00  SQLSecurityAuditEvents    MICROSOFT.SQL   \n3 2021-02-03 04:22:14.290000+00:00  SQLSecurityAuditEvents    MICROSOFT.SQL   \n4 2021-02-03 04:22:14.290000+00:00  SQLSecurityAuditEvents    MICROSOFT.SQL   \n5 2021-02-03 04:22:14.290000+00:00  SQLSecurityAuditEvents    MICROSOFT.SQL   \n6 2021-02-03 04:22:14.290000+00:00  SQLSecurityAuditEvents    MICROSOFT.SQL   \n7 2021-02-03 04:22:14.290000+00:00  SQLSecurityAuditEvents    MICROSOFT.SQL   \n8 2021-02-03 04:22:14.290000+00:00  SQLSecurityAuditEvents    MICROSOFT.SQL   \n9 2021-02-03 04:22:14.290000+00:00  SQLSecurityAuditEvents    MICROSOFT.SQL   \n\n  Resource       ResourceType OperationName ResultType CorrelationId  \\\n0   MASTER  SERVERS/DATABASES    AuditEvent                            \n1   MASTER  SERVERS/DATABASES    AuditEvent                            \n2   MASTER  SERVERS/DATABASES    AuditEvent                            \n3   MASTER  SERVERS/DATABASES    AuditEvent                            \n4   MASTER  SERVERS/DATABASES    AuditEvent                            \n5   MASTER  SERVERS/DATABASES    AuditEvent                            \n6   MASTER  SERVERS/DATABASES    AuditEvent                            \n7   MASTER  SERVERS/DATABASES    AuditEvent                            \n8   MASTER  SERVERS/DATABASES    AuditEvent                            \n9   MASTER  SERVERS/DATABASES    AuditEvent                            \n\n  ResultDescription Tenant_g JobId_g RunbookName_s StreamType_s Caller_s  \\\n0                                                                          \n1                                                                          \n2                                                                          \n3                                                                          \n4                                                                          \n5                                                                          \n6                                                                          \n7                                                                          \n8                                                                          \n9                                                                          \n\n  requestUri_s Level  DurationMs CallerIPAddress OperationVersion  \\\n0                            NaN                                    \n1                            NaN                                    \n2                            NaN                                    \n3                            NaN                                    \n4                            NaN                                    \n5                            NaN                                    \n6                            NaN                                    \n7                            NaN                                    \n8                            NaN                                    \n9                            NaN                                    \n\n  ResultSignature id_s status_s LogicalServerName_s Message clientInfo_s  \\\n0                                     jukoesmasqldb                        \n1                                     jukoesmasqldb                        \n2                                     jukoesmasqldb                        \n3                                     jukoesmasqldb                        \n4                                     jukoesmasqldb                        \n5                                     jukoesmasqldb                        \n6                                     jukoesmasqldb                        \n7                                     jukoesmasqldb                        \n8                                     jukoesmasqldb                        \n9                                     jukoesmasqldb                        \n\n   httpStatusCode_d identity_claim_appid_g  \\\n0               NaN                          \n1               NaN                          \n2               NaN                          \n3               NaN                          \n4               NaN                          \n5               NaN                          \n6               NaN                          \n7               NaN                          \n8               NaN                          \n9               NaN                          \n\n  identity_claim_http_schemas_microsoft_com_identity_claims_objectidentifier_g  \\\n0                                                                                \n1                                                                                \n2                                                                                \n3                                                                                \n4                                                                                \n5                                                                                \n6                                                                                \n7                                                                                \n8                                                                                \n9                                                                                \n\n  userAgent_s ruleName_s  \\\n0                          \n1                          \n2                          \n3                          \n4                          \n5                          \n6                          \n7                          \n8                          \n9                          \n\n  identity_claim_http_schemas_xmlsoap_org_ws_2005_05_identity_claims_upn_s  \\\n0                                                                            \n1                                                                            \n2                                                                            \n3                                                                            \n4                                                                            \n5                                                                            \n6                                                                            \n7                                                                            \n8                                                                            \n9                                                                            \n\n  systemId_g isAccessPolicyMatch_b EventName_s httpMethod_s subnetId_s type_s  \\\n0                             None                                              \n1                             None                                              \n2                             None                                              \n3                             None                                              \n4                             None                                              \n5                             None                                              \n6                             None                                              \n7                             None                                              \n8                             None                                              \n9                             None                                              \n\n  instanceId_s macAddress_s vnetResourceGuid_g direction_s subnetPrefix_s  \\\n0                                                                           \n1                                                                           \n2                                                                           \n3                                                                           \n4                                                                           \n5                                                                           \n6                                                                           \n7                                                                           \n8                                                                           \n9                                                                           \n\n  primaryIPv4Address_s conditions_sourcePortRange_s  priority_d  \\\n0                                                           NaN   \n1                                                           NaN   \n2                                                           NaN   \n3                                                           NaN   \n4                                                           NaN   \n5                                                           NaN   \n6                                                           NaN   \n7                                                           NaN   \n8                                                           NaN   \n9                                                           NaN   \n\n  conditions_destinationPortRange_s conditions_destinationIP_s  \\\n0                                                                \n1                                                                \n2                                                                \n3                                                                \n4                                                                \n5                                                                \n6                                                                \n7                                                                \n8                                                                \n9                                                                \n\n  conditions_None_s conditions_sourceIP_s httpVersion_s  matchedConnections_d  \\\n0                                                                         NaN   \n1                                                                         NaN   \n2                                                                         NaN   \n3                                                                         NaN   \n4                                                                         NaN   \n5                                                                         NaN   \n6                                                                         NaN   \n7                                                                         NaN   \n8                                                                         NaN   \n9                                                                         NaN   \n\n  startTime_t endTime_t DatabaseName_s clientIP_s host_s requestQuery_s  \\\n0         NaT       NaT                                                   \n1         NaT       NaT                                                   \n2         NaT       NaT                                                   \n3         NaT       NaT                                                   \n4         NaT       NaT                                                   \n5         NaT       NaT                                                   \n6         NaT       NaT                                                   \n7         NaT       NaT                                                   \n8         NaT       NaT                                                   \n9         NaT       NaT                                                   \n\n  sslEnabled_s  clientPort_d  httpStatus_d  receivedBytes_d  sentBytes_d  \\\n0                        NaN           NaN              NaN          NaN   \n1                        NaN           NaN              NaN          NaN   \n2                        NaN           NaN              NaN          NaN   \n3                        NaN           NaN              NaN          NaN   \n4                        NaN           NaN              NaN          NaN   \n5                        NaN           NaN              NaN          NaN   \n6                        NaN           NaN              NaN          NaN   \n7                        NaN           NaN              NaN          NaN   \n8                        NaN           NaN              NaN          NaN   \n9                        NaN           NaN              NaN          NaN   \n\n   timeTaken_d resultDescription_ErrorJobs_s resultDescription_ChildJobs_s  \\\n0          NaN                                                               \n1          NaN                                                               \n2          NaN                                                               \n3          NaN                                                               \n4          NaN                                                               \n5          NaN                                                               \n6          NaN                                                               \n7          NaN                                                               \n8          NaN                                                               \n9          NaN                                                               \n\n  identity_claim_http_schemas_microsoft_com_identity_claims_scope_s  \\\n0                                                                     \n1                                                                     \n2                                                                     \n3                                                                     \n4                                                                     \n5                                                                     \n6                                                                     \n7                                                                     \n8                                                                     \n9                                                                     \n\n  workflowId_s resource_location_s resource_workflowId_g  \\\n0                                                          \n1                                                          \n2                                                          \n3                                                          \n4                                                          \n5                                                          \n6                                                          \n7                                                          \n8                                                          \n9                                                          \n\n  resource_resourceGroupName_s resource_subscriptionId_g resource_runId_s  \\\n0                                                                           \n1                                                                           \n2                                                                           \n3                                                                           \n4                                                                           \n5                                                                           \n6                                                                           \n7                                                                           \n8                                                                           \n9                                                                           \n\n  resource_workflowName_s _schema_s correlation_clientTrackingId_s  \\\n0                                                                    \n1                                                                    \n2                                                                    \n3                                                                    \n4                                                                    \n5                                                                    \n6                                                                    \n7                                                                    \n8                                                                    \n9                                                                    \n\n  properties_sku_Family_s properties_sku_Name_s properties_tenantId_g  \\\n0                                                                       \n1                                                                       \n2                                                                       \n3                                                                       \n4                                                                       \n5                                                                       \n6                                                                       \n7                                                                       \n8                                                                       \n9                                                                       \n\n  properties_enabledForDeployment_b code_s  \\\n0                              None          \n1                              None          \n2                              None          \n3                              None          \n4                              None          \n5                              None          \n6                              None          \n7                              None          \n8                              None          \n9                              None          \n\n  resultDescription_Summary_MachineId_s  \\\n0                                         \n1                                         \n2                                         \n3                                         \n4                                         \n5                                         \n6                                         \n7                                         \n8                                         \n9                                         \n\n  resultDescription_Summary_ScheduleName_s resultDescription_Summary_Status_s  \\\n0                                                                               \n1                                                                               \n2                                                                               \n3                                                                               \n4                                                                               \n5                                                                               \n6                                                                               \n7                                                                               \n8                                                                               \n9                                                                               \n\n  resultDescription_Summary_StatusDescription_s  \\\n0                                                 \n1                                                 \n2                                                 \n3                                                 \n4                                                 \n5                                                 \n6                                                 \n7                                                 \n8                                                 \n9                                                 \n\n  resultDescription_Summary_MachineName_s  \\\n0                                           \n1                                           \n2                                           \n3                                           \n4                                           \n5                                           \n6                                           \n7                                           \n8                                           \n9                                           \n\n   resultDescription_Summary_TotalUpdatesInstalled_d  \\\n0                                                NaN   \n1                                                NaN   \n2                                                NaN   \n3                                                NaN   \n4                                                NaN   \n5                                                NaN   \n6                                                NaN   \n7                                                NaN   \n8                                                NaN   \n9                                                NaN   \n\n  resultDescription_Summary_RebootRequired_b  \\\n0                                       None   \n1                                       None   \n2                                       None   \n3                                       None   \n4                                       None   \n5                                       None   \n6                                       None   \n7                                       None   \n8                                       None   \n9                                       None   \n\n   resultDescription_Summary_TotalUpdatesFailed_d  \\\n0                                             NaN   \n1                                             NaN   \n2                                             NaN   \n3                                             NaN   \n4                                             NaN   \n5                                             NaN   \n6                                             NaN   \n7                                             NaN   \n8                                             NaN   \n9                                             NaN   \n\n   resultDescription_Summary_InstallPercentage_d  \\\n0                                            NaN   \n1                                            NaN   \n2                                            NaN   \n3                                            NaN   \n4                                            NaN   \n5                                            NaN   \n6                                            NaN   \n7                                            NaN   \n8                                            NaN   \n9                                            NaN   \n\n  resultDescription_Summary_StartDateTimeUtc_t resource_triggerName_s  \\\n0                                          NaT                          \n1                                          NaT                          \n2                                          NaT                          \n3                                          NaT                          \n4                                          NaT                          \n5                                          NaT                          \n6                                          NaT                          \n7                                          NaT                          \n8                                          NaT                          \n9                                          NaT                          \n\n   resultDescription_Summary_InitialRequiredUpdatesCount_d  \\\n0                                                NaN         \n1                                                NaN         \n2                                                NaN         \n3                                                NaN         \n4                                                NaN         \n5                                                NaN         \n6                                                NaN         \n7                                                NaN         \n8                                                NaN         \n9                                                NaN         \n\n  properties_enabledForTemplateDeployment_b  \\\n0                                      None   \n1                                      None   \n2                                      None   \n3                                      None   \n4                                      None   \n5                                      None   \n6                                      None   \n7                                      None   \n8                                      None   \n9                                      None   \n\n  resultDescription_Summary_EndDateTimeUtc_s  \\\n0                                              \n1                                              \n2                                              \n3                                              \n4                                              \n5                                              \n6                                              \n7                                              \n8                                              \n9                                              \n\n  resultDescription_Summary_DurationInMinutes_s resource_originRunId_s  \\\n0                                                                        \n1                                                                        \n2                                                                        \n3                                                                        \n4                                                                        \n5                                                                        \n6                                                                        \n7                                                                        \n8                                                                        \n9                                                                        \n\n  properties_enabledForDiskEncryption_b resource_actionName_s  \\\n0                                  None                         \n1                                  None                         \n2                                  None                         \n3                                  None                         \n4                                  None                         \n5                                  None                         \n6                                  None                         \n7                                  None                         \n8                                  None                         \n9                                  None                         \n\n  correlation_actionTrackingId_g resultDescription_Summary_EndDateTimeUtc_t  \\\n0                                                                       NaT   \n1                                                                       NaT   \n2                                                                       NaT   \n3                                                                       NaT   \n4                                                                       NaT   \n5                                                                       NaT   \n6                                                                       NaT   \n7                                                                       NaT   \n8                                                                       NaT   \n9                                                                       NaT   \n\n   resultDescription_Summary_DurationInMinutes_d conditions_protocols_s  \\\n0                                            NaN                          \n1                                            NaN                          \n2                                            NaN                          \n3                                            NaN                          \n4                                            NaN                          \n5                                            NaN                          \n6                                            NaN                          \n7                                            NaN                          \n8                                            NaN                          \n9                                            NaN                          \n\n  identity_claim_ipaddr_s ElasticPoolName_s  \\\n0                                             \n1                                             \n2                                             \n3                                             \n4                                             \n5                                             \n6                                             \n7                                             \n8                                             \n9                                             \n\n  identity_claim_http_schemas_microsoft_com_claims_authnmethodsreferences_s  \\\n0                                                                             \n1                                                                             \n2                                                                             \n3                                                                             \n4                                                                             \n5                                                                             \n6                                                                             \n7                                                                             \n8                                                                             \n9                                                                             \n\n  RunOn_s query_hash_s SourceSystem MG ManagementGroupName Computer RawData  \\\n0                             Azure                                           \n1                             Azure                                           \n2                             Azure                                           \n3                             Azure                                           \n4                             Azure                                           \n5                             Azure                                           \n6                             Azure                                           \n7                             Azure                                           \n8                             Azure                                           \n9                             Azure                                           \n\n   interval_start_time_d  interval_end_time_d  logical_io_writes_d  \\\n0                    NaN                  NaN                  NaN   \n1                    NaN                  NaN                  NaN   \n2                    NaN                  NaN                  NaN   \n3                    NaN                  NaN                  NaN   \n4                    NaN                  NaN                  NaN   \n5                    NaN                  NaN                  NaN   \n6                    NaN                  NaN                  NaN   \n7                    NaN                  NaN                  NaN   \n8                    NaN                  NaN                  NaN   \n9                    NaN                  NaN                  NaN   \n\n   max_logical_io_writes_d  physical_io_reads_d  max_physical_io_reads_d  \\\n0                      NaN                  NaN                      NaN   \n1                      NaN                  NaN                      NaN   \n2                      NaN                  NaN                      NaN   \n3                      NaN                  NaN                      NaN   \n4                      NaN                  NaN                      NaN   \n5                      NaN                  NaN                      NaN   \n6                      NaN                  NaN                      NaN   \n7                      NaN                  NaN                      NaN   \n8                      NaN                  NaN                      NaN   \n9                      NaN                  NaN                      NaN   \n\n   logical_io_reads_d  max_logical_io_reads_d  execution_type_d  \\\n0                 NaN                     NaN               NaN   \n1                 NaN                     NaN               NaN   \n2                 NaN                     NaN               NaN   \n3                 NaN                     NaN               NaN   \n4                 NaN                     NaN               NaN   \n5                 NaN                     NaN               NaN   \n6                 NaN                     NaN               NaN   \n7                 NaN                     NaN               NaN   \n8                 NaN                     NaN               NaN   \n9                 NaN                     NaN               NaN   \n\n   count_executions_d  cpu_time_d  max_cpu_time_d  dop_d  max_dop_d  \\\n0                 NaN         NaN             NaN    NaN        NaN   \n1                 NaN         NaN             NaN    NaN        NaN   \n2                 NaN         NaN             NaN    NaN        NaN   \n3                 NaN         NaN             NaN    NaN        NaN   \n4                 NaN         NaN             NaN    NaN        NaN   \n5                 NaN         NaN             NaN    NaN        NaN   \n6                 NaN         NaN             NaN    NaN        NaN   \n7                 NaN         NaN             NaN    NaN        NaN   \n8                 NaN         NaN             NaN    NaN        NaN   \n9                 NaN         NaN             NaN    NaN        NaN   \n\n   rowcount_d  max_rowcount_d  query_max_used_memory_d  \\\n0         NaN             NaN                      NaN   \n1         NaN             NaN                      NaN   \n2         NaN             NaN                      NaN   \n3         NaN             NaN                      NaN   \n4         NaN             NaN                      NaN   \n5         NaN             NaN                      NaN   \n6         NaN             NaN                      NaN   \n7         NaN             NaN                      NaN   \n8         NaN             NaN                      NaN   \n9         NaN             NaN                      NaN   \n\n   max_query_max_used_memory_d  duration_d  max_duration_d  \\\n0                          NaN         NaN             NaN   \n1                          NaN         NaN             NaN   \n2                          NaN         NaN             NaN   \n3                          NaN         NaN             NaN   \n4                          NaN         NaN             NaN   \n5                          NaN         NaN             NaN   \n6                          NaN         NaN             NaN   \n7                          NaN         NaN             NaN   \n8                          NaN         NaN             NaN   \n9                          NaN         NaN             NaN   \n\n   num_physical_io_reads_d  max_num_physical_io_reads_d  log_bytes_used_d  \\\n0                      NaN                          NaN               NaN   \n1                      NaN                          NaN               NaN   \n2                      NaN                          NaN               NaN   \n3                      NaN                          NaN               NaN   \n4                      NaN                          NaN               NaN   \n5                      NaN                          NaN               NaN   \n6                      NaN                          NaN               NaN   \n7                      NaN                          NaN               NaN   \n8                      NaN                          NaN               NaN   \n9                      NaN                          NaN               NaN   \n\n   max_log_bytes_used_d  query_id_d  plan_id_d statement_sql_handle_s  \\\n0                   NaN         NaN        NaN                          \n1                   NaN         NaN        NaN                          \n2                   NaN         NaN        NaN                          \n3                   NaN         NaN        NaN                          \n4                   NaN         NaN        NaN                          \n5                   NaN         NaN        NaN                          \n6                   NaN         NaN        NaN                          \n7                   NaN         NaN        NaN                          \n8                   NaN         NaN        NaN                          \n9                   NaN         NaN        NaN                          \n\n   error_state_d deadlock_xml_s query_plan_hash_s  error_number_d  Severity  \\\n0            NaN                                              NaN       NaN   \n1            NaN                                              NaN       NaN   \n2            NaN                                              NaN       NaN   \n3            NaN                                              NaN       NaN   \n4            NaN                                              NaN       NaN   \n5            NaN                                              NaN       NaN   \n6            NaN                                              NaN       NaN   \n7            NaN                                              NaN       NaN   \n8            NaN                                              NaN       NaN   \n9            NaN                                              NaN       NaN   \n\n  user_defined_b  state_d package_s              event_s  \\\n0           None      NaN  SecAudit  audit_event_shoebox   \n1           None      NaN  SecAudit  audit_event_shoebox   \n2           None      NaN  SecAudit  audit_event_shoebox   \n3           None      NaN  SecAudit  audit_event_shoebox   \n4           None      NaN  SecAudit  audit_event_shoebox   \n5           None      NaN  SecAudit  audit_event_shoebox   \n6           None      NaN  SecAudit  audit_event_shoebox   \n7           None      NaN  SecAudit  audit_event_shoebox   \n8           None      NaN  SecAudit  audit_event_shoebox   \n9           None      NaN  SecAudit  audit_event_shoebox   \n\n               sessionName_s         originalEventTimestamp_t  \\\n0  audit_session_for_shoebox 2021-02-03 04:22:13.289000+00:00   \n1  audit_session_for_shoebox 2021-02-03 04:22:13.289000+00:00   \n2  audit_session_for_shoebox 2021-02-03 04:22:13.289000+00:00   \n3  audit_session_for_shoebox 2021-02-03 04:22:14.285000+00:00   \n4  audit_session_for_shoebox 2021-02-03 04:22:14.285000+00:00   \n5  audit_session_for_shoebox 2021-02-03 04:22:14.285000+00:00   \n6  audit_session_for_shoebox 2021-02-03 04:22:14.285000+00:00   \n7  audit_session_for_shoebox 2021-02-03 04:22:14.285000+00:00   \n8  audit_session_for_shoebox 2021-02-03 04:22:14.285000+00:00   \n9  audit_session_for_shoebox 2021-02-03 04:22:14.285000+00:00   \n\n   audit_schema_version_d                     event_time_t  sequence_number_d  \\\n0                     1.0 2021-02-03 04:22:13.024000+00:00                1.0   \n1                     1.0 2021-02-03 04:22:13.180000+00:00                1.0   \n2                     1.0 2021-02-03 04:22:13.259000+00:00                1.0   \n3                     1.0 2021-02-03 04:22:13.290000+00:00                1.0   \n4                     1.0 2021-02-03 04:22:13.305000+00:00                1.0   \n5                     1.0 2021-02-03 04:22:13.337000+00:00                1.0   \n6                     1.0 2021-02-03 04:22:13.352000+00:00                1.0   \n7                     1.0 2021-02-03 04:22:13.384000+00:00                1.0   \n8                     1.0 2021-02-03 04:22:13.399000+00:00                1.0   \n9                     1.0 2021-02-03 04:22:13.430000+00:00                1.0   \n\n  action_id_s                      action_name_s succeeded_s  \\\n0        DBAS  DATABASE AUTHENTICATION SUCCEEDED        true   \n1        BCM                     BATCH COMPLETED        true   \n2        BCM                     BATCH COMPLETED        true   \n3        BCM                     BATCH COMPLETED        true   \n4        BCM                     BATCH COMPLETED        true   \n5        BCM                     BATCH COMPLETED        true   \n6        BCM                     BATCH COMPLETED        true   \n7        BCM                     BATCH COMPLETED        true   \n8        BCM                     BATCH COMPLETED        true   \n9        BCM                     BATCH COMPLETED        true   \n\n  is_column_permission_s  session_id_d  server_principal_id_d  \\\n0                  false          99.0                    0.0   \n1                  false          99.0                    0.0   \n2                  false          99.0                    0.0   \n3                  false          99.0                    0.0   \n4                  false          99.0                    0.0   \n5                  false          99.0                    0.0   \n6                  false          99.0                    0.0   \n7                  false          99.0                    0.0   \n8                  false          99.0                    0.0   \n9                  false          99.0                    0.0   \n\n   database_principal_id_d  target_server_principal_id_d  \\\n0                      1.0                           0.0   \n1                      1.0                           0.0   \n2                      1.0                           0.0   \n3                      1.0                           0.0   \n4                      1.0                           0.0   \n5                      1.0                           0.0   \n6                      1.0                           0.0   \n7                      1.0                           0.0   \n8                      1.0                           0.0   \n9                      1.0                           0.0   \n\n   target_database_principal_id_d  object_id_d  user_defined_event_id_d  \\\n0                             0.0          5.0                      0.0   \n1                             0.0          5.0                      0.0   \n2                             0.0          5.0                      0.0   \n3                             0.0          5.0                      0.0   \n4                             0.0          5.0                      0.0   \n5                             0.0          5.0                      0.0   \n6                             0.0          5.0                      0.0   \n7                             0.0          5.0                      0.0   \n8                             0.0          5.0                      0.0   \n9                             0.0          5.0                      0.0   \n\n   transaction_id_d class_type_s class_type_description_s  \\\n0               0.0           DB                 DATABASE   \n1               0.0           DB                 DATABASE   \n2               0.0           DB                 DATABASE   \n3               0.0           DB                 DATABASE   \n4               0.0           DB                 DATABASE   \n5               0.0           DB                 DATABASE   \n6               0.0           DB                 DATABASE   \n7               0.0           DB                 DATABASE   \n8               0.0           DB                 DATABASE   \n9               0.0           DB                 DATABASE   \n\n  securable_class_type_s  duration_milliseconds_d  response_rows_d  \\\n0               DATABASE                      0.0              0.0   \n1               DATABASE                     61.0              1.0   \n2               DATABASE                      0.0              1.0   \n3               DATABASE                      0.0              1.0   \n4               DATABASE                      0.0              1.0   \n5               DATABASE                      0.0              1.0   \n6               DATABASE                      0.0              1.0   \n7               DATABASE                      0.0              1.0   \n8               DATABASE                      0.0              0.0   \n9               DATABASE                      0.0              0.0   \n\n   affected_rows_d      client_ip_s                  permission_bitmask_g  \\\n0              0.0  131.107.174.142  00000000-0000-0000-0000-000000000000   \n1              1.0  131.107.174.142  00000000-0000-0000-0000-000000000000   \n2              1.0  131.107.174.142  00000000-0000-0000-0000-000000000000   \n3              1.0  131.107.174.142  00000000-0000-0000-0000-000000000000   \n4              1.0  131.107.174.142  00000000-0000-0000-0000-000000000000   \n5              1.0  131.107.174.142  00000000-0000-0000-0000-000000000000   \n6              1.0  131.107.174.142  00000000-0000-0000-0000-000000000000   \n7              1.0  131.107.174.142  00000000-0000-0000-0000-000000000000   \n8              0.0  131.107.174.142  00000000-0000-0000-0000-000000000000   \n9              0.0  131.107.174.142  00000000-0000-0000-0000-000000000000   \n\n                    sequence_group_id_g session_server_principal_name_s  \\\n0  64ec90b3-f5f4-496e-ab72-75595f06a6f2                     adslivesite   \n1  e687a6dd-2190-412f-ae83-11ce041878b7                     adslivesite   \n2  bea05548-107f-4e8a-8f86-b9b3fcef8888                     adslivesite   \n3  3ae1aaaf-c1bc-4965-a895-7c0c921b66f5                     adslivesite   \n4  35a0e915-9e87-4ae2-b1eb-dab303d3879e                     adslivesite   \n5  82be3fad-8051-48c7-8827-f77c409862cf                     adslivesite   \n6  95fac0fa-208b-4192-b50a-6f57017251c4                     adslivesite   \n7  e1340822-f73f-47dc-be3e-7217a80fc204                     adslivesite   \n8  54ed3e99-a9af-43c9-80c0-a1d8c08858c8                     adslivesite   \n9  cc15a3f9-017a-4384-b195-87bdc2d53378                     adslivesite   \n\n  server_principal_name_s                             server_principal_sid_s  \\\n0             adslivesite  01060000000001640000000000000000cef04990da1423...   \n1             adslivesite  01060000000001640000000000000000cef04990da1423...   \n2             adslivesite  01060000000001640000000000000000cef04990da1423...   \n3             adslivesite  01060000000001640000000000000000cef04990da1423...   \n4             adslivesite  01060000000001640000000000000000cef04990da1423...   \n5             adslivesite  01060000000001640000000000000000cef04990da1423...   \n6             adslivesite  01060000000001640000000000000000cef04990da1423...   \n7             adslivesite  01060000000001640000000000000000cef04990da1423...   \n8             adslivesite  01060000000001640000000000000000cef04990da1423...   \n9             adslivesite  01060000000001640000000000000000cef04990da1423...   \n\n  database_principal_name_s target_server_principal_name_s  \\\n0                       dbo                                  \n1                       dbo                                  \n2                       dbo                                  \n3                       dbo                                  \n4                       dbo                                  \n5                       dbo                                  \n6                       dbo                                  \n7                       dbo                                  \n8                       dbo                                  \n9                       dbo                                  \n\n  target_server_principal_sid_s target_database_principal_name_s  \\\n0                                                                  \n1                                                                  \n2                                                                  \n3                                                                  \n4                                                                  \n5                                                                  \n6                                                                  \n7                                                                  \n8                                                                  \n9                                                                  \n\n  server_instance_name_s database_name_s schema_name_s   object_name_s  \\\n0          jukoesmasqldb  AdventureWorks                AdventureWorks   \n1          jukoesmasqldb  AdventureWorks                AdventureWorks   \n2          jukoesmasqldb  AdventureWorks                AdventureWorks   \n3          jukoesmasqldb  AdventureWorks                AdventureWorks   \n4          jukoesmasqldb  AdventureWorks                AdventureWorks   \n5          jukoesmasqldb  AdventureWorks                AdventureWorks   \n6          jukoesmasqldb  AdventureWorks                AdventureWorks   \n7          jukoesmasqldb  AdventureWorks                AdventureWorks   \n8          jukoesmasqldb  AdventureWorks                AdventureWorks   \n9          jukoesmasqldb  AdventureWorks                AdventureWorks   \n\n                                         statement_s additional_information_s  \\\n0                                                                               \n1  SELECT SERVERPROPERTY('EngineEdition'), SERVER...                            \n2  SELECT ISNULL(SESSIONPROPERTY ('ANSI_NULLS'), ...                            \n3  SELECT SERVERPROPERTY('EngineEdition'), SERVER...                            \n4  SELECT ISNULL(SESSIONPROPERTY ('ANSI_NULLS'), ...                            \n5       SELECT CONVERT(NVARCHAR(36), CONTEXT_INFO())                            \n6  SELECT ISNULL(SESSIONPROPERTY ('ANSI_NULLS'), ...                            \n7       SELECT CONVERT(NVARCHAR(36), CONTEXT_INFO())                            \n8                              set LOCK_TIMEOUT 5000                            \n9  SET ANSI_NULLS, ANSI_PADDING, ANSI_WARNINGS, A...                            \n\n  user_defined_information_s        application_name_s  \\\n0                             azdata-GeneralConnection   \n1                             azdata-GeneralConnection   \n2                             azdata-GeneralConnection   \n3                             azdata-GeneralConnection   \n4                             azdata-GeneralConnection   \n5                             azdata-GeneralConnection   \n6                             azdata-GeneralConnection   \n7                             azdata-GeneralConnection   \n8                             azdata-GeneralConnection   \n9                             azdata-GeneralConnection   \n\n                        connection_id_g data_sensitivity_information_s  \\\n0  b40baaea-b083-427f-ac02-6fd367e02a5f                                  \n1  b40baaea-b083-427f-ac02-6fd367e02a5f                                  \n2  b40baaea-b083-427f-ac02-6fd367e02a5f                                  \n3  b40baaea-b083-427f-ac02-6fd367e02a5f                                  \n4  b40baaea-b083-427f-ac02-6fd367e02a5f                                  \n5  b40baaea-b083-427f-ac02-6fd367e02a5f                                  \n6  b40baaea-b083-427f-ac02-6fd367e02a5f                                  \n7  b40baaea-b083-427f-ac02-6fd367e02a5f                                  \n8  b40baaea-b083-427f-ac02-6fd367e02a5f                                  \n9  b40baaea-b083-427f-ac02-6fd367e02a5f                                  \n\n    host_name_s session_context_s is_server_level_audit_s  \\\n0  MSSQLGIRL-01                                      true   \n1  MSSQLGIRL-01                                      true   \n2  MSSQLGIRL-01                                      true   \n3  MSSQLGIRL-01                                      true   \n4  MSSQLGIRL-01                                      true   \n5  MSSQLGIRL-01                                      true   \n6  MSSQLGIRL-01                                      true   \n7  MSSQLGIRL-01                                      true   \n8  MSSQLGIRL-01                                      true   \n9  MSSQLGIRL-01                                      true   \n\n                             event_id_g AdditionalFields              Type  \n0  21fb301b-8f69-4543-b40d-fdd92c8dd825             None  AzureDiagnostics  \n1  b903d7fc-82ef-4579-b09a-4b1e1b08cc93             None  AzureDiagnostics  \n2  035a19e4-0949-4e33-a258-e443706b8960             None  AzureDiagnostics  \n3  56b83ff2-759f-408a-91bd-ffcd95d63308             None  AzureDiagnostics  \n4  d85b82df-a271-4116-bb4e-a1e53370f7d7             None  AzureDiagnostics  \n5  a8bc2dd8-7bb0-4a91-8097-1ecbdaf22f82             None  AzureDiagnostics  \n6  362067bc-d00d-4ad0-8c9b-851b85644e9e             None  AzureDiagnostics  \n7  a9dc4216-43c8-4d07-ace7-c0c4782594a5             None  AzureDiagnostics  \n8  7c0a1b81-e9e3-4a0f-962d-7b76860f1f6c             None  AzureDiagnostics  \n9  fa4f9388-c09e-44cd-9ee4-4ca7fd4f7941             None  AzureDiagnostics  ",
                        "text/html": "<div>\n<style scoped>\n    .dataframe tbody tr th:only-of-type {\n        vertical-align: middle;\n    }\n\n    .dataframe tbody tr th {\n        vertical-align: top;\n    }\n\n    .dataframe thead th {\n        text-align: right;\n    }\n</style>\n<table border=\"1\" class=\"dataframe\">\n  <thead>\n    <tr style=\"text-align: right;\">\n      <th></th>\n      <th>TimeGenerated</th>\n      <th>Category</th>\n      <th>ResourceProvider</th>\n      <th>Resource</th>\n      <th>ResourceType</th>\n      <th>OperationName</th>\n      <th>ResultType</th>\n      <th>CorrelationId</th>\n      <th>ResultDescription</th>\n      <th>Tenant_g</th>\n      <th>JobId_g</th>\n      <th>RunbookName_s</th>\n      <th>StreamType_s</th>\n      <th>Caller_s</th>\n      <th>requestUri_s</th>\n      <th>Level</th>\n      <th>DurationMs</th>\n      <th>CallerIPAddress</th>\n      <th>OperationVersion</th>\n      <th>ResultSignature</th>\n      <th>id_s</th>\n      <th>status_s</th>\n      <th>LogicalServerName_s</th>\n      <th>Message</th>\n      <th>clientInfo_s</th>\n      <th>httpStatusCode_d</th>\n      <th>identity_claim_appid_g</th>\n      <th>identity_claim_http_schemas_microsoft_com_identity_claims_objectidentifier_g</th>\n      <th>userAgent_s</th>\n      <th>ruleName_s</th>\n      <th>identity_claim_http_schemas_xmlsoap_org_ws_2005_05_identity_claims_upn_s</th>\n      <th>systemId_g</th>\n      <th>isAccessPolicyMatch_b</th>\n      <th>EventName_s</th>\n      <th>httpMethod_s</th>\n      <th>subnetId_s</th>\n      <th>type_s</th>\n      <th>instanceId_s</th>\n      <th>macAddress_s</th>\n      <th>vnetResourceGuid_g</th>\n      <th>direction_s</th>\n      <th>subnetPrefix_s</th>\n      <th>primaryIPv4Address_s</th>\n      <th>conditions_sourcePortRange_s</th>\n      <th>priority_d</th>\n      <th>conditions_destinationPortRange_s</th>\n      <th>conditions_destinationIP_s</th>\n      <th>conditions_None_s</th>\n      <th>conditions_sourceIP_s</th>\n      <th>httpVersion_s</th>\n      <th>matchedConnections_d</th>\n      <th>startTime_t</th>\n      <th>endTime_t</th>\n      <th>DatabaseName_s</th>\n      <th>clientIP_s</th>\n      <th>host_s</th>\n      <th>requestQuery_s</th>\n      <th>sslEnabled_s</th>\n      <th>clientPort_d</th>\n      <th>httpStatus_d</th>\n      <th>receivedBytes_d</th>\n      <th>sentBytes_d</th>\n      <th>timeTaken_d</th>\n      <th>resultDescription_ErrorJobs_s</th>\n      <th>resultDescription_ChildJobs_s</th>\n      <th>identity_claim_http_schemas_microsoft_com_identity_claims_scope_s</th>\n      <th>workflowId_s</th>\n      <th>resource_location_s</th>\n      <th>resource_workflowId_g</th>\n      <th>resource_resourceGroupName_s</th>\n      <th>resource_subscriptionId_g</th>\n      <th>resource_runId_s</th>\n      <th>resource_workflowName_s</th>\n      <th>_schema_s</th>\n      <th>correlation_clientTrackingId_s</th>\n      <th>properties_sku_Family_s</th>\n      <th>properties_sku_Name_s</th>\n      <th>properties_tenantId_g</th>\n      <th>properties_enabledForDeployment_b</th>\n      <th>code_s</th>\n      <th>resultDescription_Summary_MachineId_s</th>\n      <th>resultDescription_Summary_ScheduleName_s</th>\n      <th>resultDescription_Summary_Status_s</th>\n      <th>resultDescription_Summary_StatusDescription_s</th>\n      <th>resultDescription_Summary_MachineName_s</th>\n      <th>resultDescription_Summary_TotalUpdatesInstalled_d</th>\n      <th>resultDescription_Summary_RebootRequired_b</th>\n      <th>resultDescription_Summary_TotalUpdatesFailed_d</th>\n      <th>resultDescription_Summary_InstallPercentage_d</th>\n      <th>resultDescription_Summary_StartDateTimeUtc_t</th>\n      <th>resource_triggerName_s</th>\n      <th>resultDescription_Summary_InitialRequiredUpdatesCount_d</th>\n      <th>properties_enabledForTemplateDeployment_b</th>\n      <th>resultDescription_Summary_EndDateTimeUtc_s</th>\n      <th>resultDescription_Summary_DurationInMinutes_s</th>\n      <th>resource_originRunId_s</th>\n      <th>properties_enabledForDiskEncryption_b</th>\n      <th>resource_actionName_s</th>\n      <th>correlation_actionTrackingId_g</th>\n      <th>resultDescription_Summary_EndDateTimeUtc_t</th>\n      <th>resultDescription_Summary_DurationInMinutes_d</th>\n      <th>conditions_protocols_s</th>\n      <th>identity_claim_ipaddr_s</th>\n      <th>ElasticPoolName_s</th>\n      <th>identity_claim_http_schemas_microsoft_com_claims_authnmethodsreferences_s</th>\n      <th>RunOn_s</th>\n      <th>query_hash_s</th>\n      <th>SourceSystem</th>\n      <th>MG</th>\n      <th>ManagementGroupName</th>\n      <th>Computer</th>\n      <th>RawData</th>\n      <th>interval_start_time_d</th>\n      <th>interval_end_time_d</th>\n      <th>logical_io_writes_d</th>\n      <th>max_logical_io_writes_d</th>\n      <th>physical_io_reads_d</th>\n      <th>max_physical_io_reads_d</th>\n      <th>logical_io_reads_d</th>\n      <th>max_logical_io_reads_d</th>\n      <th>execution_type_d</th>\n      <th>count_executions_d</th>\n      <th>cpu_time_d</th>\n      <th>max_cpu_time_d</th>\n      <th>dop_d</th>\n      <th>max_dop_d</th>\n      <th>rowcount_d</th>\n      <th>max_rowcount_d</th>\n      <th>query_max_used_memory_d</th>\n      <th>max_query_max_used_memory_d</th>\n      <th>duration_d</th>\n      <th>max_duration_d</th>\n      <th>num_physical_io_reads_d</th>\n      <th>max_num_physical_io_reads_d</th>\n      <th>log_bytes_used_d</th>\n      <th>max_log_bytes_used_d</th>\n      <th>query_id_d</th>\n      <th>plan_id_d</th>\n      <th>statement_sql_handle_s</th>\n      <th>error_state_d</th>\n      <th>deadlock_xml_s</th>\n      <th>query_plan_hash_s</th>\n      <th>error_number_d</th>\n      <th>Severity</th>\n      <th>user_defined_b</th>\n      <th>state_d</th>\n      <th>package_s</th>\n      <th>event_s</th>\n      <th>sessionName_s</th>\n      <th>originalEventTimestamp_t</th>\n      <th>audit_schema_version_d</th>\n      <th>event_time_t</th>\n      <th>sequence_number_d</th>\n      <th>action_id_s</th>\n      <th>action_name_s</th>\n      <th>succeeded_s</th>\n      <th>is_column_permission_s</th>\n      <th>session_id_d</th>\n      <th>server_principal_id_d</th>\n      <th>database_principal_id_d</th>\n      <th>target_server_principal_id_d</th>\n      <th>target_database_principal_id_d</th>\n      <th>object_id_d</th>\n      <th>user_defined_event_id_d</th>\n      <th>transaction_id_d</th>\n      <th>class_type_s</th>\n      <th>class_type_description_s</th>\n      <th>securable_class_type_s</th>\n      <th>duration_milliseconds_d</th>\n      <th>response_rows_d</th>\n      <th>affected_rows_d</th>\n      <th>client_ip_s</th>\n      <th>permission_bitmask_g</th>\n      <th>sequence_group_id_g</th>\n      <th>session_server_principal_name_s</th>\n      <th>server_principal_name_s</th>\n      <th>server_principal_sid_s</th>\n      <th>database_principal_name_s</th>\n      <th>target_server_principal_name_s</th>\n      <th>target_server_principal_sid_s</th>\n      <th>target_database_principal_name_s</th>\n      <th>server_instance_name_s</th>\n      <th>database_name_s</th>\n      <th>schema_name_s</th>\n      <th>object_name_s</th>\n      <th>statement_s</th>\n      <th>additional_information_s</th>\n      <th>user_defined_information_s</th>\n      <th>application_name_s</th>\n      <th>connection_id_g</th>\n      <th>data_sensitivity_information_s</th>\n      <th>host_name_s</th>\n      <th>session_context_s</th>\n      <th>is_server_level_audit_s</th>\n      <th>event_id_g</th>\n      <th>AdditionalFields</th>\n      <th>Type</th>\n    </tr>\n  </thead>\n  <tbody>\n    <tr>\n      <th>0</th>\n      <td>2021-02-03 04:22:13.290000+00:00</td>\n      <td>SQLSecurityAuditEvents</td>\n      <td>MICROSOFT.SQL</td>\n      <td>MASTER</td>\n      <td>SERVERS/DATABASES</td>\n      <td>AuditEvent</td>\n      <td></td>\n      <td></td>\n      <td></td>\n      <td></td>\n      <td></td>\n      <td></td>\n      <td></td>\n      <td></td>\n      <td></td>\n      <td></td>\n      <td>NaN</td>\n      <td></td>\n      <td></td>\n      <td></td>\n      <td></td>\n      <td></td>\n      <td>jukoesmasqldb</td>\n      <td></td>\n      <td></td>\n      <td>NaN</td>\n      <td></td>\n      <td></td>\n      <td></td>\n      <td></td>\n      <td></td>\n      <td></td>\n      <td>None</td>\n      <td></td>\n      <td></td>\n      <td></td>\n      <td></td>\n      <td></td>\n      <td></td>\n      <td></td>\n      <td></td>\n      <td></td>\n      <td></td>\n      <td></td>\n      <td>NaN</td>\n      <td></td>\n      <td></td>\n      <td></td>\n      <td></td>\n      <td></td>\n      <td>NaN</td>\n      <td>NaT</td>\n      <td>NaT</td>\n      <td></td>\n      <td></td>\n      <td></td>\n      <td></td>\n      <td></td>\n      <td>NaN</td>\n      <td>NaN</td>\n      <td>NaN</td>\n      <td>NaN</td>\n      <td>NaN</td>\n      <td></td>\n      <td></td>\n      <td></td>\n      <td></td>\n      <td></td>\n      <td></td>\n      <td></td>\n      <td></td>\n      <td></td>\n      <td></td>\n      <td></td>\n      <td></td>\n      <td></td>\n      <td></td>\n      <td></td>\n      <td>None</td>\n      <td></td>\n      <td></td>\n      <td></td>\n      <td></td>\n      <td></td>\n      <td></td>\n      <td>NaN</td>\n      <td>None</td>\n      <td>NaN</td>\n      <td>NaN</td>\n      <td>NaT</td>\n      <td></td>\n      <td>NaN</td>\n      <td>None</td>\n      <td></td>\n      <td></td>\n      <td></td>\n      <td>None</td>\n      <td></td>\n      <td></td>\n      <td>NaT</td>\n      <td>NaN</td>\n      <td></td>\n      <td></td>\n      <td></td>\n      <td></td>\n      <td></td>\n      <td></td>\n      <td>Azure</td>\n      <td></td>\n      <td></td>\n      <td></td>\n      <td></td>\n      <td>NaN</td>\n      <td>NaN</td>\n      <td>NaN</td>\n      <td>NaN</td>\n      <td>NaN</td>\n      <td>NaN</td>\n      <td>NaN</td>\n      <td>NaN</td>\n      <td>NaN</td>\n      <td>NaN</td>\n      <td>NaN</td>\n      <td>NaN</td>\n      <td>NaN</td>\n      <td>NaN</td>\n      <td>NaN</td>\n      <td>NaN</td>\n      <td>NaN</td>\n      <td>NaN</td>\n      <td>NaN</td>\n      <td>NaN</td>\n      <td>NaN</td>\n      <td>NaN</td>\n      <td>NaN</td>\n      <td>NaN</td>\n      <td>NaN</td>\n      <td>NaN</td>\n      <td></td>\n      <td>NaN</td>\n      <td></td>\n      <td></td>\n      <td>NaN</td>\n      <td>NaN</td>\n      <td>None</td>\n      <td>NaN</td>\n      <td>SecAudit</td>\n      <td>audit_event_shoebox</td>\n      <td>audit_session_for_shoebox</td>\n      <td>2021-02-03 04:22:13.289000+00:00</td>\n      <td>1.0</td>\n      <td>2021-02-03 04:22:13.024000+00:00</td>\n      <td>1.0</td>\n      <td>DBAS</td>\n      <td>DATABASE AUTHENTICATION SUCCEEDED</td>\n      <td>true</td>\n      <td>false</td>\n      <td>99.0</td>\n      <td>0.0</td>\n      <td>1.0</td>\n      <td>0.0</td>\n      <td>0.0</td>\n      <td>5.0</td>\n      <td>0.0</td>\n      <td>0.0</td>\n      <td>DB</td>\n      <td>DATABASE</td>\n      <td>DATABASE</td>\n      <td>0.0</td>\n      <td>0.0</td>\n      <td>0.0</td>\n      <td>131.107.174.142</td>\n      <td>00000000-0000-0000-0000-000000000000</td>\n      <td>64ec90b3-f5f4-496e-ab72-75595f06a6f2</td>\n      <td>adslivesite</td>\n      <td>adslivesite</td>\n      <td>01060000000001640000000000000000cef04990da1423...</td>\n      <td>dbo</td>\n      <td></td>\n      <td></td>\n      <td></td>\n      <td>jukoesmasqldb</td>\n      <td>AdventureWorks</td>\n      <td></td>\n      <td>AdventureWorks</td>\n      <td></td>\n      <td></td>\n      <td></td>\n      <td>azdata-GeneralConnection</td>\n      <td>b40baaea-b083-427f-ac02-6fd367e02a5f</td>\n      <td></td>\n      <td>MSSQLGIRL-01</td>\n      <td></td>\n      <td>true</td>\n      <td>21fb301b-8f69-4543-b40d-fdd92c8dd825</td>\n      <td>None</td>\n      <td>AzureDiagnostics</td>\n    </tr>\n    <tr>\n      <th>1</th>\n      <td>2021-02-03 04:22:13.290000+00:00</td>\n      <td>SQLSecurityAuditEvents</td>\n      <td>MICROSOFT.SQL</td>\n      <td>MASTER</td>\n      <td>SERVERS/DATABASES</td>\n      <td>AuditEvent</td>\n      <td></td>\n      <td></td>\n      <td></td>\n      <td></td>\n      <td></td>\n      <td></td>\n      <td></td>\n      <td></td>\n      <td></td>\n      <td></td>\n      <td>NaN</td>\n      <td></td>\n      <td></td>\n      <td></td>\n      <td></td>\n      <td></td>\n      <td>jukoesmasqldb</td>\n      <td></td>\n      <td></td>\n      <td>NaN</td>\n      <td></td>\n      <td></td>\n      <td></td>\n      <td></td>\n      <td></td>\n      <td></td>\n      <td>None</td>\n      <td></td>\n      <td></td>\n      <td></td>\n      <td></td>\n      <td></td>\n      <td></td>\n      <td></td>\n      <td></td>\n      <td></td>\n      <td></td>\n      <td></td>\n      <td>NaN</td>\n      <td></td>\n      <td></td>\n      <td></td>\n      <td></td>\n      <td></td>\n      <td>NaN</td>\n      <td>NaT</td>\n      <td>NaT</td>\n      <td></td>\n      <td></td>\n      <td></td>\n      <td></td>\n      <td></td>\n      <td>NaN</td>\n      <td>NaN</td>\n      <td>NaN</td>\n      <td>NaN</td>\n      <td>NaN</td>\n      <td></td>\n      <td></td>\n      <td></td>\n      <td></td>\n      <td></td>\n      <td></td>\n      <td></td>\n      <td></td>\n      <td></td>\n      <td></td>\n      <td></td>\n      <td></td>\n      <td></td>\n      <td></td>\n      <td></td>\n      <td>None</td>\n      <td></td>\n      <td></td>\n      <td></td>\n      <td></td>\n      <td></td>\n      <td></td>\n      <td>NaN</td>\n      <td>None</td>\n      <td>NaN</td>\n      <td>NaN</td>\n      <td>NaT</td>\n      <td></td>\n      <td>NaN</td>\n      <td>None</td>\n      <td></td>\n      <td></td>\n      <td></td>\n      <td>None</td>\n      <td></td>\n      <td></td>\n      <td>NaT</td>\n      <td>NaN</td>\n      <td></td>\n      <td></td>\n      <td></td>\n      <td></td>\n      <td></td>\n      <td></td>\n      <td>Azure</td>\n      <td></td>\n      <td></td>\n      <td></td>\n      <td></td>\n      <td>NaN</td>\n      <td>NaN</td>\n      <td>NaN</td>\n      <td>NaN</td>\n      <td>NaN</td>\n      <td>NaN</td>\n      <td>NaN</td>\n      <td>NaN</td>\n      <td>NaN</td>\n      <td>NaN</td>\n      <td>NaN</td>\n      <td>NaN</td>\n      <td>NaN</td>\n      <td>NaN</td>\n      <td>NaN</td>\n      <td>NaN</td>\n      <td>NaN</td>\n      <td>NaN</td>\n      <td>NaN</td>\n      <td>NaN</td>\n      <td>NaN</td>\n      <td>NaN</td>\n      <td>NaN</td>\n      <td>NaN</td>\n      <td>NaN</td>\n      <td>NaN</td>\n      <td></td>\n      <td>NaN</td>\n      <td></td>\n      <td></td>\n      <td>NaN</td>\n      <td>NaN</td>\n      <td>None</td>\n      <td>NaN</td>\n      <td>SecAudit</td>\n      <td>audit_event_shoebox</td>\n      <td>audit_session_for_shoebox</td>\n      <td>2021-02-03 04:22:13.289000+00:00</td>\n      <td>1.0</td>\n      <td>2021-02-03 04:22:13.180000+00:00</td>\n      <td>1.0</td>\n      <td>BCM</td>\n      <td>BATCH COMPLETED</td>\n      <td>true</td>\n      <td>false</td>\n      <td>99.0</td>\n      <td>0.0</td>\n      <td>1.0</td>\n      <td>0.0</td>\n      <td>0.0</td>\n      <td>5.0</td>\n      <td>0.0</td>\n      <td>0.0</td>\n      <td>DB</td>\n      <td>DATABASE</td>\n      <td>DATABASE</td>\n      <td>61.0</td>\n      <td>1.0</td>\n      <td>1.0</td>\n      <td>131.107.174.142</td>\n      <td>00000000-0000-0000-0000-000000000000</td>\n      <td>e687a6dd-2190-412f-ae83-11ce041878b7</td>\n      <td>adslivesite</td>\n      <td>adslivesite</td>\n      <td>01060000000001640000000000000000cef04990da1423...</td>\n      <td>dbo</td>\n      <td></td>\n      <td></td>\n      <td></td>\n      <td>jukoesmasqldb</td>\n      <td>AdventureWorks</td>\n      <td></td>\n      <td>AdventureWorks</td>\n      <td>SELECT SERVERPROPERTY('EngineEdition'), SERVER...</td>\n      <td></td>\n      <td></td>\n      <td>azdata-GeneralConnection</td>\n      <td>b40baaea-b083-427f-ac02-6fd367e02a5f</td>\n      <td></td>\n      <td>MSSQLGIRL-01</td>\n      <td></td>\n      <td>true</td>\n      <td>b903d7fc-82ef-4579-b09a-4b1e1b08cc93</td>\n      <td>None</td>\n      <td>AzureDiagnostics</td>\n    </tr>\n    <tr>\n      <th>2</th>\n      <td>2021-02-03 04:22:13.290000+00:00</td>\n      <td>SQLSecurityAuditEvents</td>\n      <td>MICROSOFT.SQL</td>\n      <td>MASTER</td>\n      <td>SERVERS/DATABASES</td>\n      <td>AuditEvent</td>\n      <td></td>\n      <td></td>\n      <td></td>\n      <td></td>\n      <td></td>\n      <td></td>\n      <td></td>\n      <td></td>\n      <td></td>\n      <td></td>\n      <td>NaN</td>\n      <td></td>\n      <td></td>\n      <td></td>\n      <td></td>\n      <td></td>\n      <td>jukoesmasqldb</td>\n      <td></td>\n      <td></td>\n      <td>NaN</td>\n      <td></td>\n      <td></td>\n      <td></td>\n      <td></td>\n      <td></td>\n      <td></td>\n      <td>None</td>\n      <td></td>\n      <td></td>\n      <td></td>\n      <td></td>\n      <td></td>\n      <td></td>\n      <td></td>\n      <td></td>\n      <td></td>\n      <td></td>\n      <td></td>\n      <td>NaN</td>\n      <td></td>\n      <td></td>\n      <td></td>\n      <td></td>\n      <td></td>\n      <td>NaN</td>\n      <td>NaT</td>\n      <td>NaT</td>\n      <td></td>\n      <td></td>\n      <td></td>\n      <td></td>\n      <td></td>\n      <td>NaN</td>\n      <td>NaN</td>\n      <td>NaN</td>\n      <td>NaN</td>\n      <td>NaN</td>\n      <td></td>\n      <td></td>\n      <td></td>\n      <td></td>\n      <td></td>\n      <td></td>\n      <td></td>\n      <td></td>\n      <td></td>\n      <td></td>\n      <td></td>\n      <td></td>\n      <td></td>\n      <td></td>\n      <td></td>\n      <td>None</td>\n      <td></td>\n      <td></td>\n      <td></td>\n      <td></td>\n      <td></td>\n      <td></td>\n      <td>NaN</td>\n      <td>None</td>\n      <td>NaN</td>\n      <td>NaN</td>\n      <td>NaT</td>\n      <td></td>\n      <td>NaN</td>\n      <td>None</td>\n      <td></td>\n      <td></td>\n      <td></td>\n      <td>None</td>\n      <td></td>\n      <td></td>\n      <td>NaT</td>\n      <td>NaN</td>\n      <td></td>\n      <td></td>\n      <td></td>\n      <td></td>\n      <td></td>\n      <td></td>\n      <td>Azure</td>\n      <td></td>\n      <td></td>\n      <td></td>\n      <td></td>\n      <td>NaN</td>\n      <td>NaN</td>\n      <td>NaN</td>\n      <td>NaN</td>\n      <td>NaN</td>\n      <td>NaN</td>\n      <td>NaN</td>\n      <td>NaN</td>\n      <td>NaN</td>\n      <td>NaN</td>\n      <td>NaN</td>\n      <td>NaN</td>\n      <td>NaN</td>\n      <td>NaN</td>\n      <td>NaN</td>\n      <td>NaN</td>\n      <td>NaN</td>\n      <td>NaN</td>\n      <td>NaN</td>\n      <td>NaN</td>\n      <td>NaN</td>\n      <td>NaN</td>\n      <td>NaN</td>\n      <td>NaN</td>\n      <td>NaN</td>\n      <td>NaN</td>\n      <td></td>\n      <td>NaN</td>\n      <td></td>\n      <td></td>\n      <td>NaN</td>\n      <td>NaN</td>\n      <td>None</td>\n      <td>NaN</td>\n      <td>SecAudit</td>\n      <td>audit_event_shoebox</td>\n      <td>audit_session_for_shoebox</td>\n      <td>2021-02-03 04:22:13.289000+00:00</td>\n      <td>1.0</td>\n      <td>2021-02-03 04:22:13.259000+00:00</td>\n      <td>1.0</td>\n      <td>BCM</td>\n      <td>BATCH COMPLETED</td>\n      <td>true</td>\n      <td>false</td>\n      <td>99.0</td>\n      <td>0.0</td>\n      <td>1.0</td>\n      <td>0.0</td>\n      <td>0.0</td>\n      <td>5.0</td>\n      <td>0.0</td>\n      <td>0.0</td>\n      <td>DB</td>\n      <td>DATABASE</td>\n      <td>DATABASE</td>\n      <td>0.0</td>\n      <td>1.0</td>\n      <td>1.0</td>\n      <td>131.107.174.142</td>\n      <td>00000000-0000-0000-0000-000000000000</td>\n      <td>bea05548-107f-4e8a-8f86-b9b3fcef8888</td>\n      <td>adslivesite</td>\n      <td>adslivesite</td>\n      <td>01060000000001640000000000000000cef04990da1423...</td>\n      <td>dbo</td>\n      <td></td>\n      <td></td>\n      <td></td>\n      <td>jukoesmasqldb</td>\n      <td>AdventureWorks</td>\n      <td></td>\n      <td>AdventureWorks</td>\n      <td>SELECT ISNULL(SESSIONPROPERTY ('ANSI_NULLS'), ...</td>\n      <td></td>\n      <td></td>\n      <td>azdata-GeneralConnection</td>\n      <td>b40baaea-b083-427f-ac02-6fd367e02a5f</td>\n      <td></td>\n      <td>MSSQLGIRL-01</td>\n      <td></td>\n      <td>true</td>\n      <td>035a19e4-0949-4e33-a258-e443706b8960</td>\n      <td>None</td>\n      <td>AzureDiagnostics</td>\n    </tr>\n    <tr>\n      <th>3</th>\n      <td>2021-02-03 04:22:14.290000+00:00</td>\n      <td>SQLSecurityAuditEvents</td>\n      <td>MICROSOFT.SQL</td>\n      <td>MASTER</td>\n      <td>SERVERS/DATABASES</td>\n      <td>AuditEvent</td>\n      <td></td>\n      <td></td>\n      <td></td>\n      <td></td>\n      <td></td>\n      <td></td>\n      <td></td>\n      <td></td>\n      <td></td>\n      <td></td>\n      <td>NaN</td>\n      <td></td>\n      <td></td>\n      <td></td>\n      <td></td>\n      <td></td>\n      <td>jukoesmasqldb</td>\n      <td></td>\n      <td></td>\n      <td>NaN</td>\n      <td></td>\n      <td></td>\n      <td></td>\n      <td></td>\n      <td></td>\n      <td></td>\n      <td>None</td>\n      <td></td>\n      <td></td>\n      <td></td>\n      <td></td>\n      <td></td>\n      <td></td>\n      <td></td>\n      <td></td>\n      <td></td>\n      <td></td>\n      <td></td>\n      <td>NaN</td>\n      <td></td>\n      <td></td>\n      <td></td>\n      <td></td>\n      <td></td>\n      <td>NaN</td>\n      <td>NaT</td>\n      <td>NaT</td>\n      <td></td>\n      <td></td>\n      <td></td>\n      <td></td>\n      <td></td>\n      <td>NaN</td>\n      <td>NaN</td>\n      <td>NaN</td>\n      <td>NaN</td>\n      <td>NaN</td>\n      <td></td>\n      <td></td>\n      <td></td>\n      <td></td>\n      <td></td>\n      <td></td>\n      <td></td>\n      <td></td>\n      <td></td>\n      <td></td>\n      <td></td>\n      <td></td>\n      <td></td>\n      <td></td>\n      <td></td>\n      <td>None</td>\n      <td></td>\n      <td></td>\n      <td></td>\n      <td></td>\n      <td></td>\n      <td></td>\n      <td>NaN</td>\n      <td>None</td>\n      <td>NaN</td>\n      <td>NaN</td>\n      <td>NaT</td>\n      <td></td>\n      <td>NaN</td>\n      <td>None</td>\n      <td></td>\n      <td></td>\n      <td></td>\n      <td>None</td>\n      <td></td>\n      <td></td>\n      <td>NaT</td>\n      <td>NaN</td>\n      <td></td>\n      <td></td>\n      <td></td>\n      <td></td>\n      <td></td>\n      <td></td>\n      <td>Azure</td>\n      <td></td>\n      <td></td>\n      <td></td>\n      <td></td>\n      <td>NaN</td>\n      <td>NaN</td>\n      <td>NaN</td>\n      <td>NaN</td>\n      <td>NaN</td>\n      <td>NaN</td>\n      <td>NaN</td>\n      <td>NaN</td>\n      <td>NaN</td>\n      <td>NaN</td>\n      <td>NaN</td>\n      <td>NaN</td>\n      <td>NaN</td>\n      <td>NaN</td>\n      <td>NaN</td>\n      <td>NaN</td>\n      <td>NaN</td>\n      <td>NaN</td>\n      <td>NaN</td>\n      <td>NaN</td>\n      <td>NaN</td>\n      <td>NaN</td>\n      <td>NaN</td>\n      <td>NaN</td>\n      <td>NaN</td>\n      <td>NaN</td>\n      <td></td>\n      <td>NaN</td>\n      <td></td>\n      <td></td>\n      <td>NaN</td>\n      <td>NaN</td>\n      <td>None</td>\n      <td>NaN</td>\n      <td>SecAudit</td>\n      <td>audit_event_shoebox</td>\n      <td>audit_session_for_shoebox</td>\n      <td>2021-02-03 04:22:14.285000+00:00</td>\n      <td>1.0</td>\n      <td>2021-02-03 04:22:13.290000+00:00</td>\n      <td>1.0</td>\n      <td>BCM</td>\n      <td>BATCH COMPLETED</td>\n      <td>true</td>\n      <td>false</td>\n      <td>99.0</td>\n      <td>0.0</td>\n      <td>1.0</td>\n      <td>0.0</td>\n      <td>0.0</td>\n      <td>5.0</td>\n      <td>0.0</td>\n      <td>0.0</td>\n      <td>DB</td>\n      <td>DATABASE</td>\n      <td>DATABASE</td>\n      <td>0.0</td>\n      <td>1.0</td>\n      <td>1.0</td>\n      <td>131.107.174.142</td>\n      <td>00000000-0000-0000-0000-000000000000</td>\n      <td>3ae1aaaf-c1bc-4965-a895-7c0c921b66f5</td>\n      <td>adslivesite</td>\n      <td>adslivesite</td>\n      <td>01060000000001640000000000000000cef04990da1423...</td>\n      <td>dbo</td>\n      <td></td>\n      <td></td>\n      <td></td>\n      <td>jukoesmasqldb</td>\n      <td>AdventureWorks</td>\n      <td></td>\n      <td>AdventureWorks</td>\n      <td>SELECT SERVERPROPERTY('EngineEdition'), SERVER...</td>\n      <td></td>\n      <td></td>\n      <td>azdata-GeneralConnection</td>\n      <td>b40baaea-b083-427f-ac02-6fd367e02a5f</td>\n      <td></td>\n      <td>MSSQLGIRL-01</td>\n      <td></td>\n      <td>true</td>\n      <td>56b83ff2-759f-408a-91bd-ffcd95d63308</td>\n      <td>None</td>\n      <td>AzureDiagnostics</td>\n    </tr>\n    <tr>\n      <th>4</th>\n      <td>2021-02-03 04:22:14.290000+00:00</td>\n      <td>SQLSecurityAuditEvents</td>\n      <td>MICROSOFT.SQL</td>\n      <td>MASTER</td>\n      <td>SERVERS/DATABASES</td>\n      <td>AuditEvent</td>\n      <td></td>\n      <td></td>\n      <td></td>\n      <td></td>\n      <td></td>\n      <td></td>\n      <td></td>\n      <td></td>\n      <td></td>\n      <td></td>\n      <td>NaN</td>\n      <td></td>\n      <td></td>\n      <td></td>\n      <td></td>\n      <td></td>\n      <td>jukoesmasqldb</td>\n      <td></td>\n      <td></td>\n      <td>NaN</td>\n      <td></td>\n      <td></td>\n      <td></td>\n      <td></td>\n      <td></td>\n      <td></td>\n      <td>None</td>\n      <td></td>\n      <td></td>\n      <td></td>\n      <td></td>\n      <td></td>\n      <td></td>\n      <td></td>\n      <td></td>\n      <td></td>\n      <td></td>\n      <td></td>\n      <td>NaN</td>\n      <td></td>\n      <td></td>\n      <td></td>\n      <td></td>\n      <td></td>\n      <td>NaN</td>\n      <td>NaT</td>\n      <td>NaT</td>\n      <td></td>\n      <td></td>\n      <td></td>\n      <td></td>\n      <td></td>\n      <td>NaN</td>\n      <td>NaN</td>\n      <td>NaN</td>\n      <td>NaN</td>\n      <td>NaN</td>\n      <td></td>\n      <td></td>\n      <td></td>\n      <td></td>\n      <td></td>\n      <td></td>\n      <td></td>\n      <td></td>\n      <td></td>\n      <td></td>\n      <td></td>\n      <td></td>\n      <td></td>\n      <td></td>\n      <td></td>\n      <td>None</td>\n      <td></td>\n      <td></td>\n      <td></td>\n      <td></td>\n      <td></td>\n      <td></td>\n      <td>NaN</td>\n      <td>None</td>\n      <td>NaN</td>\n      <td>NaN</td>\n      <td>NaT</td>\n      <td></td>\n      <td>NaN</td>\n      <td>None</td>\n      <td></td>\n      <td></td>\n      <td></td>\n      <td>None</td>\n      <td></td>\n      <td></td>\n      <td>NaT</td>\n      <td>NaN</td>\n      <td></td>\n      <td></td>\n      <td></td>\n      <td></td>\n      <td></td>\n      <td></td>\n      <td>Azure</td>\n      <td></td>\n      <td></td>\n      <td></td>\n      <td></td>\n      <td>NaN</td>\n      <td>NaN</td>\n      <td>NaN</td>\n      <td>NaN</td>\n      <td>NaN</td>\n      <td>NaN</td>\n      <td>NaN</td>\n      <td>NaN</td>\n      <td>NaN</td>\n      <td>NaN</td>\n      <td>NaN</td>\n      <td>NaN</td>\n      <td>NaN</td>\n      <td>NaN</td>\n      <td>NaN</td>\n      <td>NaN</td>\n      <td>NaN</td>\n      <td>NaN</td>\n      <td>NaN</td>\n      <td>NaN</td>\n      <td>NaN</td>\n      <td>NaN</td>\n      <td>NaN</td>\n      <td>NaN</td>\n      <td>NaN</td>\n      <td>NaN</td>\n      <td></td>\n      <td>NaN</td>\n      <td></td>\n      <td></td>\n      <td>NaN</td>\n      <td>NaN</td>\n      <td>None</td>\n      <td>NaN</td>\n      <td>SecAudit</td>\n      <td>audit_event_shoebox</td>\n      <td>audit_session_for_shoebox</td>\n      <td>2021-02-03 04:22:14.285000+00:00</td>\n      <td>1.0</td>\n      <td>2021-02-03 04:22:13.305000+00:00</td>\n      <td>1.0</td>\n      <td>BCM</td>\n      <td>BATCH COMPLETED</td>\n      <td>true</td>\n      <td>false</td>\n      <td>99.0</td>\n      <td>0.0</td>\n      <td>1.0</td>\n      <td>0.0</td>\n      <td>0.0</td>\n      <td>5.0</td>\n      <td>0.0</td>\n      <td>0.0</td>\n      <td>DB</td>\n      <td>DATABASE</td>\n      <td>DATABASE</td>\n      <td>0.0</td>\n      <td>1.0</td>\n      <td>1.0</td>\n      <td>131.107.174.142</td>\n      <td>00000000-0000-0000-0000-000000000000</td>\n      <td>35a0e915-9e87-4ae2-b1eb-dab303d3879e</td>\n      <td>adslivesite</td>\n      <td>adslivesite</td>\n      <td>01060000000001640000000000000000cef04990da1423...</td>\n      <td>dbo</td>\n      <td></td>\n      <td></td>\n      <td></td>\n      <td>jukoesmasqldb</td>\n      <td>AdventureWorks</td>\n      <td></td>\n      <td>AdventureWorks</td>\n      <td>SELECT ISNULL(SESSIONPROPERTY ('ANSI_NULLS'), ...</td>\n      <td></td>\n      <td></td>\n      <td>azdata-GeneralConnection</td>\n      <td>b40baaea-b083-427f-ac02-6fd367e02a5f</td>\n      <td></td>\n      <td>MSSQLGIRL-01</td>\n      <td></td>\n      <td>true</td>\n      <td>d85b82df-a271-4116-bb4e-a1e53370f7d7</td>\n      <td>None</td>\n      <td>AzureDiagnostics</td>\n    </tr>\n    <tr>\n      <th>5</th>\n      <td>2021-02-03 04:22:14.290000+00:00</td>\n      <td>SQLSecurityAuditEvents</td>\n      <td>MICROSOFT.SQL</td>\n      <td>MASTER</td>\n      <td>SERVERS/DATABASES</td>\n      <td>AuditEvent</td>\n      <td></td>\n      <td></td>\n      <td></td>\n      <td></td>\n      <td></td>\n      <td></td>\n      <td></td>\n      <td></td>\n      <td></td>\n      <td></td>\n      <td>NaN</td>\n      <td></td>\n      <td></td>\n      <td></td>\n      <td></td>\n      <td></td>\n      <td>jukoesmasqldb</td>\n      <td></td>\n      <td></td>\n      <td>NaN</td>\n      <td></td>\n      <td></td>\n      <td></td>\n      <td></td>\n      <td></td>\n      <td></td>\n      <td>None</td>\n      <td></td>\n      <td></td>\n      <td></td>\n      <td></td>\n      <td></td>\n      <td></td>\n      <td></td>\n      <td></td>\n      <td></td>\n      <td></td>\n      <td></td>\n      <td>NaN</td>\n      <td></td>\n      <td></td>\n      <td></td>\n      <td></td>\n      <td></td>\n      <td>NaN</td>\n      <td>NaT</td>\n      <td>NaT</td>\n      <td></td>\n      <td></td>\n      <td></td>\n      <td></td>\n      <td></td>\n      <td>NaN</td>\n      <td>NaN</td>\n      <td>NaN</td>\n      <td>NaN</td>\n      <td>NaN</td>\n      <td></td>\n      <td></td>\n      <td></td>\n      <td></td>\n      <td></td>\n      <td></td>\n      <td></td>\n      <td></td>\n      <td></td>\n      <td></td>\n      <td></td>\n      <td></td>\n      <td></td>\n      <td></td>\n      <td></td>\n      <td>None</td>\n      <td></td>\n      <td></td>\n      <td></td>\n      <td></td>\n      <td></td>\n      <td></td>\n      <td>NaN</td>\n      <td>None</td>\n      <td>NaN</td>\n      <td>NaN</td>\n      <td>NaT</td>\n      <td></td>\n      <td>NaN</td>\n      <td>None</td>\n      <td></td>\n      <td></td>\n      <td></td>\n      <td>None</td>\n      <td></td>\n      <td></td>\n      <td>NaT</td>\n      <td>NaN</td>\n      <td></td>\n      <td></td>\n      <td></td>\n      <td></td>\n      <td></td>\n      <td></td>\n      <td>Azure</td>\n      <td></td>\n      <td></td>\n      <td></td>\n      <td></td>\n      <td>NaN</td>\n      <td>NaN</td>\n      <td>NaN</td>\n      <td>NaN</td>\n      <td>NaN</td>\n      <td>NaN</td>\n      <td>NaN</td>\n      <td>NaN</td>\n      <td>NaN</td>\n      <td>NaN</td>\n      <td>NaN</td>\n      <td>NaN</td>\n      <td>NaN</td>\n      <td>NaN</td>\n      <td>NaN</td>\n      <td>NaN</td>\n      <td>NaN</td>\n      <td>NaN</td>\n      <td>NaN</td>\n      <td>NaN</td>\n      <td>NaN</td>\n      <td>NaN</td>\n      <td>NaN</td>\n      <td>NaN</td>\n      <td>NaN</td>\n      <td>NaN</td>\n      <td></td>\n      <td>NaN</td>\n      <td></td>\n      <td></td>\n      <td>NaN</td>\n      <td>NaN</td>\n      <td>None</td>\n      <td>NaN</td>\n      <td>SecAudit</td>\n      <td>audit_event_shoebox</td>\n      <td>audit_session_for_shoebox</td>\n      <td>2021-02-03 04:22:14.285000+00:00</td>\n      <td>1.0</td>\n      <td>2021-02-03 04:22:13.337000+00:00</td>\n      <td>1.0</td>\n      <td>BCM</td>\n      <td>BATCH COMPLETED</td>\n      <td>true</td>\n      <td>false</td>\n      <td>99.0</td>\n      <td>0.0</td>\n      <td>1.0</td>\n      <td>0.0</td>\n      <td>0.0</td>\n      <td>5.0</td>\n      <td>0.0</td>\n      <td>0.0</td>\n      <td>DB</td>\n      <td>DATABASE</td>\n      <td>DATABASE</td>\n      <td>0.0</td>\n      <td>1.0</td>\n      <td>1.0</td>\n      <td>131.107.174.142</td>\n      <td>00000000-0000-0000-0000-000000000000</td>\n      <td>82be3fad-8051-48c7-8827-f77c409862cf</td>\n      <td>adslivesite</td>\n      <td>adslivesite</td>\n      <td>01060000000001640000000000000000cef04990da1423...</td>\n      <td>dbo</td>\n      <td></td>\n      <td></td>\n      <td></td>\n      <td>jukoesmasqldb</td>\n      <td>AdventureWorks</td>\n      <td></td>\n      <td>AdventureWorks</td>\n      <td>SELECT CONVERT(NVARCHAR(36), CONTEXT_INFO())</td>\n      <td></td>\n      <td></td>\n      <td>azdata-GeneralConnection</td>\n      <td>b40baaea-b083-427f-ac02-6fd367e02a5f</td>\n      <td></td>\n      <td>MSSQLGIRL-01</td>\n      <td></td>\n      <td>true</td>\n      <td>a8bc2dd8-7bb0-4a91-8097-1ecbdaf22f82</td>\n      <td>None</td>\n      <td>AzureDiagnostics</td>\n    </tr>\n    <tr>\n      <th>6</th>\n      <td>2021-02-03 04:22:14.290000+00:00</td>\n      <td>SQLSecurityAuditEvents</td>\n      <td>MICROSOFT.SQL</td>\n      <td>MASTER</td>\n      <td>SERVERS/DATABASES</td>\n      <td>AuditEvent</td>\n      <td></td>\n      <td></td>\n      <td></td>\n      <td></td>\n      <td></td>\n      <td></td>\n      <td></td>\n      <td></td>\n      <td></td>\n      <td></td>\n      <td>NaN</td>\n      <td></td>\n      <td></td>\n      <td></td>\n      <td></td>\n      <td></td>\n      <td>jukoesmasqldb</td>\n      <td></td>\n      <td></td>\n      <td>NaN</td>\n      <td></td>\n      <td></td>\n      <td></td>\n      <td></td>\n      <td></td>\n      <td></td>\n      <td>None</td>\n      <td></td>\n      <td></td>\n      <td></td>\n      <td></td>\n      <td></td>\n      <td></td>\n      <td></td>\n      <td></td>\n      <td></td>\n      <td></td>\n      <td></td>\n      <td>NaN</td>\n      <td></td>\n      <td></td>\n      <td></td>\n      <td></td>\n      <td></td>\n      <td>NaN</td>\n      <td>NaT</td>\n      <td>NaT</td>\n      <td></td>\n      <td></td>\n      <td></td>\n      <td></td>\n      <td></td>\n      <td>NaN</td>\n      <td>NaN</td>\n      <td>NaN</td>\n      <td>NaN</td>\n      <td>NaN</td>\n      <td></td>\n      <td></td>\n      <td></td>\n      <td></td>\n      <td></td>\n      <td></td>\n      <td></td>\n      <td></td>\n      <td></td>\n      <td></td>\n      <td></td>\n      <td></td>\n      <td></td>\n      <td></td>\n      <td></td>\n      <td>None</td>\n      <td></td>\n      <td></td>\n      <td></td>\n      <td></td>\n      <td></td>\n      <td></td>\n      <td>NaN</td>\n      <td>None</td>\n      <td>NaN</td>\n      <td>NaN</td>\n      <td>NaT</td>\n      <td></td>\n      <td>NaN</td>\n      <td>None</td>\n      <td></td>\n      <td></td>\n      <td></td>\n      <td>None</td>\n      <td></td>\n      <td></td>\n      <td>NaT</td>\n      <td>NaN</td>\n      <td></td>\n      <td></td>\n      <td></td>\n      <td></td>\n      <td></td>\n      <td></td>\n      <td>Azure</td>\n      <td></td>\n      <td></td>\n      <td></td>\n      <td></td>\n      <td>NaN</td>\n      <td>NaN</td>\n      <td>NaN</td>\n      <td>NaN</td>\n      <td>NaN</td>\n      <td>NaN</td>\n      <td>NaN</td>\n      <td>NaN</td>\n      <td>NaN</td>\n      <td>NaN</td>\n      <td>NaN</td>\n      <td>NaN</td>\n      <td>NaN</td>\n      <td>NaN</td>\n      <td>NaN</td>\n      <td>NaN</td>\n      <td>NaN</td>\n      <td>NaN</td>\n      <td>NaN</td>\n      <td>NaN</td>\n      <td>NaN</td>\n      <td>NaN</td>\n      <td>NaN</td>\n      <td>NaN</td>\n      <td>NaN</td>\n      <td>NaN</td>\n      <td></td>\n      <td>NaN</td>\n      <td></td>\n      <td></td>\n      <td>NaN</td>\n      <td>NaN</td>\n      <td>None</td>\n      <td>NaN</td>\n      <td>SecAudit</td>\n      <td>audit_event_shoebox</td>\n      <td>audit_session_for_shoebox</td>\n      <td>2021-02-03 04:22:14.285000+00:00</td>\n      <td>1.0</td>\n      <td>2021-02-03 04:22:13.352000+00:00</td>\n      <td>1.0</td>\n      <td>BCM</td>\n      <td>BATCH COMPLETED</td>\n      <td>true</td>\n      <td>false</td>\n      <td>99.0</td>\n      <td>0.0</td>\n      <td>1.0</td>\n      <td>0.0</td>\n      <td>0.0</td>\n      <td>5.0</td>\n      <td>0.0</td>\n      <td>0.0</td>\n      <td>DB</td>\n      <td>DATABASE</td>\n      <td>DATABASE</td>\n      <td>0.0</td>\n      <td>1.0</td>\n      <td>1.0</td>\n      <td>131.107.174.142</td>\n      <td>00000000-0000-0000-0000-000000000000</td>\n      <td>95fac0fa-208b-4192-b50a-6f57017251c4</td>\n      <td>adslivesite</td>\n      <td>adslivesite</td>\n      <td>01060000000001640000000000000000cef04990da1423...</td>\n      <td>dbo</td>\n      <td></td>\n      <td></td>\n      <td></td>\n      <td>jukoesmasqldb</td>\n      <td>AdventureWorks</td>\n      <td></td>\n      <td>AdventureWorks</td>\n      <td>SELECT ISNULL(SESSIONPROPERTY ('ANSI_NULLS'), ...</td>\n      <td></td>\n      <td></td>\n      <td>azdata-GeneralConnection</td>\n      <td>b40baaea-b083-427f-ac02-6fd367e02a5f</td>\n      <td></td>\n      <td>MSSQLGIRL-01</td>\n      <td></td>\n      <td>true</td>\n      <td>362067bc-d00d-4ad0-8c9b-851b85644e9e</td>\n      <td>None</td>\n      <td>AzureDiagnostics</td>\n    </tr>\n    <tr>\n      <th>7</th>\n      <td>2021-02-03 04:22:14.290000+00:00</td>\n      <td>SQLSecurityAuditEvents</td>\n      <td>MICROSOFT.SQL</td>\n      <td>MASTER</td>\n      <td>SERVERS/DATABASES</td>\n      <td>AuditEvent</td>\n      <td></td>\n      <td></td>\n      <td></td>\n      <td></td>\n      <td></td>\n      <td></td>\n      <td></td>\n      <td></td>\n      <td></td>\n      <td></td>\n      <td>NaN</td>\n      <td></td>\n      <td></td>\n      <td></td>\n      <td></td>\n      <td></td>\n      <td>jukoesmasqldb</td>\n      <td></td>\n      <td></td>\n      <td>NaN</td>\n      <td></td>\n      <td></td>\n      <td></td>\n      <td></td>\n      <td></td>\n      <td></td>\n      <td>None</td>\n      <td></td>\n      <td></td>\n      <td></td>\n      <td></td>\n      <td></td>\n      <td></td>\n      <td></td>\n      <td></td>\n      <td></td>\n      <td></td>\n      <td></td>\n      <td>NaN</td>\n      <td></td>\n      <td></td>\n      <td></td>\n      <td></td>\n      <td></td>\n      <td>NaN</td>\n      <td>NaT</td>\n      <td>NaT</td>\n      <td></td>\n      <td></td>\n      <td></td>\n      <td></td>\n      <td></td>\n      <td>NaN</td>\n      <td>NaN</td>\n      <td>NaN</td>\n      <td>NaN</td>\n      <td>NaN</td>\n      <td></td>\n      <td></td>\n      <td></td>\n      <td></td>\n      <td></td>\n      <td></td>\n      <td></td>\n      <td></td>\n      <td></td>\n      <td></td>\n      <td></td>\n      <td></td>\n      <td></td>\n      <td></td>\n      <td></td>\n      <td>None</td>\n      <td></td>\n      <td></td>\n      <td></td>\n      <td></td>\n      <td></td>\n      <td></td>\n      <td>NaN</td>\n      <td>None</td>\n      <td>NaN</td>\n      <td>NaN</td>\n      <td>NaT</td>\n      <td></td>\n      <td>NaN</td>\n      <td>None</td>\n      <td></td>\n      <td></td>\n      <td></td>\n      <td>None</td>\n      <td></td>\n      <td></td>\n      <td>NaT</td>\n      <td>NaN</td>\n      <td></td>\n      <td></td>\n      <td></td>\n      <td></td>\n      <td></td>\n      <td></td>\n      <td>Azure</td>\n      <td></td>\n      <td></td>\n      <td></td>\n      <td></td>\n      <td>NaN</td>\n      <td>NaN</td>\n      <td>NaN</td>\n      <td>NaN</td>\n      <td>NaN</td>\n      <td>NaN</td>\n      <td>NaN</td>\n      <td>NaN</td>\n      <td>NaN</td>\n      <td>NaN</td>\n      <td>NaN</td>\n      <td>NaN</td>\n      <td>NaN</td>\n      <td>NaN</td>\n      <td>NaN</td>\n      <td>NaN</td>\n      <td>NaN</td>\n      <td>NaN</td>\n      <td>NaN</td>\n      <td>NaN</td>\n      <td>NaN</td>\n      <td>NaN</td>\n      <td>NaN</td>\n      <td>NaN</td>\n      <td>NaN</td>\n      <td>NaN</td>\n      <td></td>\n      <td>NaN</td>\n      <td></td>\n      <td></td>\n      <td>NaN</td>\n      <td>NaN</td>\n      <td>None</td>\n      <td>NaN</td>\n      <td>SecAudit</td>\n      <td>audit_event_shoebox</td>\n      <td>audit_session_for_shoebox</td>\n      <td>2021-02-03 04:22:14.285000+00:00</td>\n      <td>1.0</td>\n      <td>2021-02-03 04:22:13.384000+00:00</td>\n      <td>1.0</td>\n      <td>BCM</td>\n      <td>BATCH COMPLETED</td>\n      <td>true</td>\n      <td>false</td>\n      <td>99.0</td>\n      <td>0.0</td>\n      <td>1.0</td>\n      <td>0.0</td>\n      <td>0.0</td>\n      <td>5.0</td>\n      <td>0.0</td>\n      <td>0.0</td>\n      <td>DB</td>\n      <td>DATABASE</td>\n      <td>DATABASE</td>\n      <td>0.0</td>\n      <td>1.0</td>\n      <td>1.0</td>\n      <td>131.107.174.142</td>\n      <td>00000000-0000-0000-0000-000000000000</td>\n      <td>e1340822-f73f-47dc-be3e-7217a80fc204</td>\n      <td>adslivesite</td>\n      <td>adslivesite</td>\n      <td>01060000000001640000000000000000cef04990da1423...</td>\n      <td>dbo</td>\n      <td></td>\n      <td></td>\n      <td></td>\n      <td>jukoesmasqldb</td>\n      <td>AdventureWorks</td>\n      <td></td>\n      <td>AdventureWorks</td>\n      <td>SELECT CONVERT(NVARCHAR(36), CONTEXT_INFO())</td>\n      <td></td>\n      <td></td>\n      <td>azdata-GeneralConnection</td>\n      <td>b40baaea-b083-427f-ac02-6fd367e02a5f</td>\n      <td></td>\n      <td>MSSQLGIRL-01</td>\n      <td></td>\n      <td>true</td>\n      <td>a9dc4216-43c8-4d07-ace7-c0c4782594a5</td>\n      <td>None</td>\n      <td>AzureDiagnostics</td>\n    </tr>\n    <tr>\n      <th>8</th>\n      <td>2021-02-03 04:22:14.290000+00:00</td>\n      <td>SQLSecurityAuditEvents</td>\n      <td>MICROSOFT.SQL</td>\n      <td>MASTER</td>\n      <td>SERVERS/DATABASES</td>\n      <td>AuditEvent</td>\n      <td></td>\n      <td></td>\n      <td></td>\n      <td></td>\n      <td></td>\n      <td></td>\n      <td></td>\n      <td></td>\n      <td></td>\n      <td></td>\n      <td>NaN</td>\n      <td></td>\n      <td></td>\n      <td></td>\n      <td></td>\n      <td></td>\n      <td>jukoesmasqldb</td>\n      <td></td>\n      <td></td>\n      <td>NaN</td>\n      <td></td>\n      <td></td>\n      <td></td>\n      <td></td>\n      <td></td>\n      <td></td>\n      <td>None</td>\n      <td></td>\n      <td></td>\n      <td></td>\n      <td></td>\n      <td></td>\n      <td></td>\n      <td></td>\n      <td></td>\n      <td></td>\n      <td></td>\n      <td></td>\n      <td>NaN</td>\n      <td></td>\n      <td></td>\n      <td></td>\n      <td></td>\n      <td></td>\n      <td>NaN</td>\n      <td>NaT</td>\n      <td>NaT</td>\n      <td></td>\n      <td></td>\n      <td></td>\n      <td></td>\n      <td></td>\n      <td>NaN</td>\n      <td>NaN</td>\n      <td>NaN</td>\n      <td>NaN</td>\n      <td>NaN</td>\n      <td></td>\n      <td></td>\n      <td></td>\n      <td></td>\n      <td></td>\n      <td></td>\n      <td></td>\n      <td></td>\n      <td></td>\n      <td></td>\n      <td></td>\n      <td></td>\n      <td></td>\n      <td></td>\n      <td></td>\n      <td>None</td>\n      <td></td>\n      <td></td>\n      <td></td>\n      <td></td>\n      <td></td>\n      <td></td>\n      <td>NaN</td>\n      <td>None</td>\n      <td>NaN</td>\n      <td>NaN</td>\n      <td>NaT</td>\n      <td></td>\n      <td>NaN</td>\n      <td>None</td>\n      <td></td>\n      <td></td>\n      <td></td>\n      <td>None</td>\n      <td></td>\n      <td></td>\n      <td>NaT</td>\n      <td>NaN</td>\n      <td></td>\n      <td></td>\n      <td></td>\n      <td></td>\n      <td></td>\n      <td></td>\n      <td>Azure</td>\n      <td></td>\n      <td></td>\n      <td></td>\n      <td></td>\n      <td>NaN</td>\n      <td>NaN</td>\n      <td>NaN</td>\n      <td>NaN</td>\n      <td>NaN</td>\n      <td>NaN</td>\n      <td>NaN</td>\n      <td>NaN</td>\n      <td>NaN</td>\n      <td>NaN</td>\n      <td>NaN</td>\n      <td>NaN</td>\n      <td>NaN</td>\n      <td>NaN</td>\n      <td>NaN</td>\n      <td>NaN</td>\n      <td>NaN</td>\n      <td>NaN</td>\n      <td>NaN</td>\n      <td>NaN</td>\n      <td>NaN</td>\n      <td>NaN</td>\n      <td>NaN</td>\n      <td>NaN</td>\n      <td>NaN</td>\n      <td>NaN</td>\n      <td></td>\n      <td>NaN</td>\n      <td></td>\n      <td></td>\n      <td>NaN</td>\n      <td>NaN</td>\n      <td>None</td>\n      <td>NaN</td>\n      <td>SecAudit</td>\n      <td>audit_event_shoebox</td>\n      <td>audit_session_for_shoebox</td>\n      <td>2021-02-03 04:22:14.285000+00:00</td>\n      <td>1.0</td>\n      <td>2021-02-03 04:22:13.399000+00:00</td>\n      <td>1.0</td>\n      <td>BCM</td>\n      <td>BATCH COMPLETED</td>\n      <td>true</td>\n      <td>false</td>\n      <td>99.0</td>\n      <td>0.0</td>\n      <td>1.0</td>\n      <td>0.0</td>\n      <td>0.0</td>\n      <td>5.0</td>\n      <td>0.0</td>\n      <td>0.0</td>\n      <td>DB</td>\n      <td>DATABASE</td>\n      <td>DATABASE</td>\n      <td>0.0</td>\n      <td>0.0</td>\n      <td>0.0</td>\n      <td>131.107.174.142</td>\n      <td>00000000-0000-0000-0000-000000000000</td>\n      <td>54ed3e99-a9af-43c9-80c0-a1d8c08858c8</td>\n      <td>adslivesite</td>\n      <td>adslivesite</td>\n      <td>01060000000001640000000000000000cef04990da1423...</td>\n      <td>dbo</td>\n      <td></td>\n      <td></td>\n      <td></td>\n      <td>jukoesmasqldb</td>\n      <td>AdventureWorks</td>\n      <td></td>\n      <td>AdventureWorks</td>\n      <td>set LOCK_TIMEOUT 5000</td>\n      <td></td>\n      <td></td>\n      <td>azdata-GeneralConnection</td>\n      <td>b40baaea-b083-427f-ac02-6fd367e02a5f</td>\n      <td></td>\n      <td>MSSQLGIRL-01</td>\n      <td></td>\n      <td>true</td>\n      <td>7c0a1b81-e9e3-4a0f-962d-7b76860f1f6c</td>\n      <td>None</td>\n      <td>AzureDiagnostics</td>\n    </tr>\n    <tr>\n      <th>9</th>\n      <td>2021-02-03 04:22:14.290000+00:00</td>\n      <td>SQLSecurityAuditEvents</td>\n      <td>MICROSOFT.SQL</td>\n      <td>MASTER</td>\n      <td>SERVERS/DATABASES</td>\n      <td>AuditEvent</td>\n      <td></td>\n      <td></td>\n      <td></td>\n      <td></td>\n      <td></td>\n      <td></td>\n      <td></td>\n      <td></td>\n      <td></td>\n      <td></td>\n      <td>NaN</td>\n      <td></td>\n      <td></td>\n      <td></td>\n      <td></td>\n      <td></td>\n      <td>jukoesmasqldb</td>\n      <td></td>\n      <td></td>\n      <td>NaN</td>\n      <td></td>\n      <td></td>\n      <td></td>\n      <td></td>\n      <td></td>\n      <td></td>\n      <td>None</td>\n      <td></td>\n      <td></td>\n      <td></td>\n      <td></td>\n      <td></td>\n      <td></td>\n      <td></td>\n      <td></td>\n      <td></td>\n      <td></td>\n      <td></td>\n      <td>NaN</td>\n      <td></td>\n      <td></td>\n      <td></td>\n      <td></td>\n      <td></td>\n      <td>NaN</td>\n      <td>NaT</td>\n      <td>NaT</td>\n      <td></td>\n      <td></td>\n      <td></td>\n      <td></td>\n      <td></td>\n      <td>NaN</td>\n      <td>NaN</td>\n      <td>NaN</td>\n      <td>NaN</td>\n      <td>NaN</td>\n      <td></td>\n      <td></td>\n      <td></td>\n      <td></td>\n      <td></td>\n      <td></td>\n      <td></td>\n      <td></td>\n      <td></td>\n      <td></td>\n      <td></td>\n      <td></td>\n      <td></td>\n      <td></td>\n      <td></td>\n      <td>None</td>\n      <td></td>\n      <td></td>\n      <td></td>\n      <td></td>\n      <td></td>\n      <td></td>\n      <td>NaN</td>\n      <td>None</td>\n      <td>NaN</td>\n      <td>NaN</td>\n      <td>NaT</td>\n      <td></td>\n      <td>NaN</td>\n      <td>None</td>\n      <td></td>\n      <td></td>\n      <td></td>\n      <td>None</td>\n      <td></td>\n      <td></td>\n      <td>NaT</td>\n      <td>NaN</td>\n      <td></td>\n      <td></td>\n      <td></td>\n      <td></td>\n      <td></td>\n      <td></td>\n      <td>Azure</td>\n      <td></td>\n      <td></td>\n      <td></td>\n      <td></td>\n      <td>NaN</td>\n      <td>NaN</td>\n      <td>NaN</td>\n      <td>NaN</td>\n      <td>NaN</td>\n      <td>NaN</td>\n      <td>NaN</td>\n      <td>NaN</td>\n      <td>NaN</td>\n      <td>NaN</td>\n      <td>NaN</td>\n      <td>NaN</td>\n      <td>NaN</td>\n      <td>NaN</td>\n      <td>NaN</td>\n      <td>NaN</td>\n      <td>NaN</td>\n      <td>NaN</td>\n      <td>NaN</td>\n      <td>NaN</td>\n      <td>NaN</td>\n      <td>NaN</td>\n      <td>NaN</td>\n      <td>NaN</td>\n      <td>NaN</td>\n      <td>NaN</td>\n      <td></td>\n      <td>NaN</td>\n      <td></td>\n      <td></td>\n      <td>NaN</td>\n      <td>NaN</td>\n      <td>None</td>\n      <td>NaN</td>\n      <td>SecAudit</td>\n      <td>audit_event_shoebox</td>\n      <td>audit_session_for_shoebox</td>\n      <td>2021-02-03 04:22:14.285000+00:00</td>\n      <td>1.0</td>\n      <td>2021-02-03 04:22:13.430000+00:00</td>\n      <td>1.0</td>\n      <td>BCM</td>\n      <td>BATCH COMPLETED</td>\n      <td>true</td>\n      <td>false</td>\n      <td>99.0</td>\n      <td>0.0</td>\n      <td>1.0</td>\n      <td>0.0</td>\n      <td>0.0</td>\n      <td>5.0</td>\n      <td>0.0</td>\n      <td>0.0</td>\n      <td>DB</td>\n      <td>DATABASE</td>\n      <td>DATABASE</td>\n      <td>0.0</td>\n      <td>0.0</td>\n      <td>0.0</td>\n      <td>131.107.174.142</td>\n      <td>00000000-0000-0000-0000-000000000000</td>\n      <td>cc15a3f9-017a-4384-b195-87bdc2d53378</td>\n      <td>adslivesite</td>\n      <td>adslivesite</td>\n      <td>01060000000001640000000000000000cef04990da1423...</td>\n      <td>dbo</td>\n      <td></td>\n      <td></td>\n      <td></td>\n      <td>jukoesmasqldb</td>\n      <td>AdventureWorks</td>\n      <td></td>\n      <td>AdventureWorks</td>\n      <td>SET ANSI_NULLS, ANSI_PADDING, ANSI_WARNINGS, A...</td>\n      <td></td>\n      <td></td>\n      <td>azdata-GeneralConnection</td>\n      <td>b40baaea-b083-427f-ac02-6fd367e02a5f</td>\n      <td></td>\n      <td>MSSQLGIRL-01</td>\n      <td></td>\n      <td>true</td>\n      <td>fa4f9388-c09e-44cd-9ee4-4ca7fd4f7941</td>\n      <td>None</td>\n      <td>AzureDiagnostics</td>\n    </tr>\n  </tbody>\n</table>\n</div>",
                        "application/vnd.dataresource+json": {
                            "schema": {
                                "fields": [
                                    {
                                        "name": "TimeGenerated",
                                        "type": "datetime",
                                        "tz": "UTC"
                                    },
                                    {
                                        "name": "Category",
                                        "type": "string"
                                    },
                                    {
                                        "name": "ResourceProvider",
                                        "type": "string"
                                    },
                                    {
                                        "name": "Resource",
                                        "type": "string"
                                    },
                                    {
                                        "name": "ResourceType",
                                        "type": "string"
                                    },
                                    {
                                        "name": "OperationName",
                                        "type": "string"
                                    },
                                    {
                                        "name": "ResultType",
                                        "type": "string"
                                    },
                                    {
                                        "name": "CorrelationId",
                                        "type": "string"
                                    },
                                    {
                                        "name": "ResultDescription",
                                        "type": "string"
                                    },
                                    {
                                        "name": "Tenant_g",
                                        "type": "string"
                                    },
                                    {
                                        "name": "JobId_g",
                                        "type": "string"
                                    },
                                    {
                                        "name": "RunbookName_s",
                                        "type": "string"
                                    },
                                    {
                                        "name": "StreamType_s",
                                        "type": "string"
                                    },
                                    {
                                        "name": "Caller_s",
                                        "type": "string"
                                    },
                                    {
                                        "name": "requestUri_s",
                                        "type": "string"
                                    },
                                    {
                                        "name": "Level",
                                        "type": "string"
                                    },
                                    {
                                        "name": "DurationMs",
                                        "type": "number"
                                    },
                                    {
                                        "name": "CallerIPAddress",
                                        "type": "string"
                                    },
                                    {
                                        "name": "OperationVersion",
                                        "type": "string"
                                    },
                                    {
                                        "name": "ResultSignature",
                                        "type": "string"
                                    },
                                    {
                                        "name": "id_s",
                                        "type": "string"
                                    },
                                    {
                                        "name": "status_s",
                                        "type": "string"
                                    },
                                    {
                                        "name": "LogicalServerName_s",
                                        "type": "string"
                                    },
                                    {
                                        "name": "Message",
                                        "type": "string"
                                    },
                                    {
                                        "name": "clientInfo_s",
                                        "type": "string"
                                    },
                                    {
                                        "name": "httpStatusCode_d",
                                        "type": "number"
                                    },
                                    {
                                        "name": "identity_claim_appid_g",
                                        "type": "string"
                                    },
                                    {
                                        "name": "identity_claim_http_schemas_microsoft_com_identity_claims_objectidentifier_g",
                                        "type": "string"
                                    },
                                    {
                                        "name": "userAgent_s",
                                        "type": "string"
                                    },
                                    {
                                        "name": "ruleName_s",
                                        "type": "string"
                                    },
                                    {
                                        "name": "identity_claim_http_schemas_xmlsoap_org_ws_2005_05_identity_claims_upn_s",
                                        "type": "string"
                                    },
                                    {
                                        "name": "systemId_g",
                                        "type": "string"
                                    },
                                    {
                                        "name": "isAccessPolicyMatch_b",
                                        "type": "string"
                                    },
                                    {
                                        "name": "EventName_s",
                                        "type": "string"
                                    },
                                    {
                                        "name": "httpMethod_s",
                                        "type": "string"
                                    },
                                    {
                                        "name": "subnetId_s",
                                        "type": "string"
                                    },
                                    {
                                        "name": "type_s",
                                        "type": "string"
                                    },
                                    {
                                        "name": "instanceId_s",
                                        "type": "string"
                                    },
                                    {
                                        "name": "macAddress_s",
                                        "type": "string"
                                    },
                                    {
                                        "name": "vnetResourceGuid_g",
                                        "type": "string"
                                    },
                                    {
                                        "name": "direction_s",
                                        "type": "string"
                                    },
                                    {
                                        "name": "subnetPrefix_s",
                                        "type": "string"
                                    },
                                    {
                                        "name": "primaryIPv4Address_s",
                                        "type": "string"
                                    },
                                    {
                                        "name": "conditions_sourcePortRange_s",
                                        "type": "string"
                                    },
                                    {
                                        "name": "priority_d",
                                        "type": "number"
                                    },
                                    {
                                        "name": "conditions_destinationPortRange_s",
                                        "type": "string"
                                    },
                                    {
                                        "name": "conditions_destinationIP_s",
                                        "type": "string"
                                    },
                                    {
                                        "name": "conditions_None_s",
                                        "type": "string"
                                    },
                                    {
                                        "name": "conditions_sourceIP_s",
                                        "type": "string"
                                    },
                                    {
                                        "name": "httpVersion_s",
                                        "type": "string"
                                    },
                                    {
                                        "name": "matchedConnections_d",
                                        "type": "number"
                                    },
                                    {
                                        "name": "startTime_t",
                                        "type": "datetime"
                                    },
                                    {
                                        "name": "endTime_t",
                                        "type": "datetime"
                                    },
                                    {
                                        "name": "DatabaseName_s",
                                        "type": "string"
                                    },
                                    {
                                        "name": "clientIP_s",
                                        "type": "string"
                                    },
                                    {
                                        "name": "host_s",
                                        "type": "string"
                                    },
                                    {
                                        "name": "requestQuery_s",
                                        "type": "string"
                                    },
                                    {
                                        "name": "sslEnabled_s",
                                        "type": "string"
                                    },
                                    {
                                        "name": "clientPort_d",
                                        "type": "number"
                                    },
                                    {
                                        "name": "httpStatus_d",
                                        "type": "number"
                                    },
                                    {
                                        "name": "receivedBytes_d",
                                        "type": "number"
                                    },
                                    {
                                        "name": "sentBytes_d",
                                        "type": "number"
                                    },
                                    {
                                        "name": "timeTaken_d",
                                        "type": "number"
                                    },
                                    {
                                        "name": "resultDescription_ErrorJobs_s",
                                        "type": "string"
                                    },
                                    {
                                        "name": "resultDescription_ChildJobs_s",
                                        "type": "string"
                                    },
                                    {
                                        "name": "identity_claim_http_schemas_microsoft_com_identity_claims_scope_s",
                                        "type": "string"
                                    },
                                    {
                                        "name": "workflowId_s",
                                        "type": "string"
                                    },
                                    {
                                        "name": "resource_location_s",
                                        "type": "string"
                                    },
                                    {
                                        "name": "resource_workflowId_g",
                                        "type": "string"
                                    },
                                    {
                                        "name": "resource_resourceGroupName_s",
                                        "type": "string"
                                    },
                                    {
                                        "name": "resource_subscriptionId_g",
                                        "type": "string"
                                    },
                                    {
                                        "name": "resource_runId_s",
                                        "type": "string"
                                    },
                                    {
                                        "name": "resource_workflowName_s",
                                        "type": "string"
                                    },
                                    {
                                        "name": "_schema_s",
                                        "type": "string"
                                    },
                                    {
                                        "name": "correlation_clientTrackingId_s",
                                        "type": "string"
                                    },
                                    {
                                        "name": "properties_sku_Family_s",
                                        "type": "string"
                                    },
                                    {
                                        "name": "properties_sku_Name_s",
                                        "type": "string"
                                    },
                                    {
                                        "name": "properties_tenantId_g",
                                        "type": "string"
                                    },
                                    {
                                        "name": "properties_enabledForDeployment_b",
                                        "type": "string"
                                    },
                                    {
                                        "name": "code_s",
                                        "type": "string"
                                    },
                                    {
                                        "name": "resultDescription_Summary_MachineId_s",
                                        "type": "string"
                                    },
                                    {
                                        "name": "resultDescription_Summary_ScheduleName_s",
                                        "type": "string"
                                    },
                                    {
                                        "name": "resultDescription_Summary_Status_s",
                                        "type": "string"
                                    },
                                    {
                                        "name": "resultDescription_Summary_StatusDescription_s",
                                        "type": "string"
                                    },
                                    {
                                        "name": "resultDescription_Summary_MachineName_s",
                                        "type": "string"
                                    },
                                    {
                                        "name": "resultDescription_Summary_TotalUpdatesInstalled_d",
                                        "type": "number"
                                    },
                                    {
                                        "name": "resultDescription_Summary_RebootRequired_b",
                                        "type": "string"
                                    },
                                    {
                                        "name": "resultDescription_Summary_TotalUpdatesFailed_d",
                                        "type": "number"
                                    },
                                    {
                                        "name": "resultDescription_Summary_InstallPercentage_d",
                                        "type": "number"
                                    },
                                    {
                                        "name": "resultDescription_Summary_StartDateTimeUtc_t",
                                        "type": "datetime"
                                    },
                                    {
                                        "name": "resource_triggerName_s",
                                        "type": "string"
                                    },
                                    {
                                        "name": "resultDescription_Summary_InitialRequiredUpdatesCount_d",
                                        "type": "number"
                                    },
                                    {
                                        "name": "properties_enabledForTemplateDeployment_b",
                                        "type": "string"
                                    },
                                    {
                                        "name": "resultDescription_Summary_EndDateTimeUtc_s",
                                        "type": "string"
                                    },
                                    {
                                        "name": "resultDescription_Summary_DurationInMinutes_s",
                                        "type": "string"
                                    },
                                    {
                                        "name": "resource_originRunId_s",
                                        "type": "string"
                                    },
                                    {
                                        "name": "properties_enabledForDiskEncryption_b",
                                        "type": "string"
                                    },
                                    {
                                        "name": "resource_actionName_s",
                                        "type": "string"
                                    },
                                    {
                                        "name": "correlation_actionTrackingId_g",
                                        "type": "string"
                                    },
                                    {
                                        "name": "resultDescription_Summary_EndDateTimeUtc_t",
                                        "type": "datetime"
                                    },
                                    {
                                        "name": "resultDescription_Summary_DurationInMinutes_d",
                                        "type": "number"
                                    },
                                    {
                                        "name": "conditions_protocols_s",
                                        "type": "string"
                                    },
                                    {
                                        "name": "identity_claim_ipaddr_s",
                                        "type": "string"
                                    },
                                    {
                                        "name": "ElasticPoolName_s",
                                        "type": "string"
                                    },
                                    {
                                        "name": "identity_claim_http_schemas_microsoft_com_claims_authnmethodsreferences_s",
                                        "type": "string"
                                    },
                                    {
                                        "name": "RunOn_s",
                                        "type": "string"
                                    },
                                    {
                                        "name": "query_hash_s",
                                        "type": "string"
                                    },
                                    {
                                        "name": "SourceSystem",
                                        "type": "string"
                                    },
                                    {
                                        "name": "MG",
                                        "type": "string"
                                    },
                                    {
                                        "name": "ManagementGroupName",
                                        "type": "string"
                                    },
                                    {
                                        "name": "Computer",
                                        "type": "string"
                                    },
                                    {
                                        "name": "RawData",
                                        "type": "string"
                                    },
                                    {
                                        "name": "interval_start_time_d",
                                        "type": "number"
                                    },
                                    {
                                        "name": "interval_end_time_d",
                                        "type": "number"
                                    },
                                    {
                                        "name": "logical_io_writes_d",
                                        "type": "number"
                                    },
                                    {
                                        "name": "max_logical_io_writes_d",
                                        "type": "number"
                                    },
                                    {
                                        "name": "physical_io_reads_d",
                                        "type": "number"
                                    },
                                    {
                                        "name": "max_physical_io_reads_d",
                                        "type": "number"
                                    },
                                    {
                                        "name": "logical_io_reads_d",
                                        "type": "number"
                                    },
                                    {
                                        "name": "max_logical_io_reads_d",
                                        "type": "number"
                                    },
                                    {
                                        "name": "execution_type_d",
                                        "type": "number"
                                    },
                                    {
                                        "name": "count_executions_d",
                                        "type": "number"
                                    },
                                    {
                                        "name": "cpu_time_d",
                                        "type": "number"
                                    },
                                    {
                                        "name": "max_cpu_time_d",
                                        "type": "number"
                                    },
                                    {
                                        "name": "dop_d",
                                        "type": "number"
                                    },
                                    {
                                        "name": "max_dop_d",
                                        "type": "number"
                                    },
                                    {
                                        "name": "rowcount_d",
                                        "type": "number"
                                    },
                                    {
                                        "name": "max_rowcount_d",
                                        "type": "number"
                                    },
                                    {
                                        "name": "query_max_used_memory_d",
                                        "type": "number"
                                    },
                                    {
                                        "name": "max_query_max_used_memory_d",
                                        "type": "number"
                                    },
                                    {
                                        "name": "duration_d",
                                        "type": "number"
                                    },
                                    {
                                        "name": "max_duration_d",
                                        "type": "number"
                                    },
                                    {
                                        "name": "num_physical_io_reads_d",
                                        "type": "number"
                                    },
                                    {
                                        "name": "max_num_physical_io_reads_d",
                                        "type": "number"
                                    },
                                    {
                                        "name": "log_bytes_used_d",
                                        "type": "number"
                                    },
                                    {
                                        "name": "max_log_bytes_used_d",
                                        "type": "number"
                                    },
                                    {
                                        "name": "query_id_d",
                                        "type": "number"
                                    },
                                    {
                                        "name": "plan_id_d",
                                        "type": "number"
                                    },
                                    {
                                        "name": "statement_sql_handle_s",
                                        "type": "string"
                                    },
                                    {
                                        "name": "error_state_d",
                                        "type": "number"
                                    },
                                    {
                                        "name": "deadlock_xml_s",
                                        "type": "string"
                                    },
                                    {
                                        "name": "query_plan_hash_s",
                                        "type": "string"
                                    },
                                    {
                                        "name": "error_number_d",
                                        "type": "number"
                                    },
                                    {
                                        "name": "Severity",
                                        "type": "number"
                                    },
                                    {
                                        "name": "user_defined_b",
                                        "type": "string"
                                    },
                                    {
                                        "name": "state_d",
                                        "type": "number"
                                    },
                                    {
                                        "name": "package_s",
                                        "type": "string"
                                    },
                                    {
                                        "name": "event_s",
                                        "type": "string"
                                    },
                                    {
                                        "name": "sessionName_s",
                                        "type": "string"
                                    },
                                    {
                                        "name": "originalEventTimestamp_t",
                                        "type": "datetime",
                                        "tz": "UTC"
                                    },
                                    {
                                        "name": "audit_schema_version_d",
                                        "type": "number"
                                    },
                                    {
                                        "name": "event_time_t",
                                        "type": "datetime",
                                        "tz": "UTC"
                                    },
                                    {
                                        "name": "sequence_number_d",
                                        "type": "number"
                                    },
                                    {
                                        "name": "action_id_s",
                                        "type": "string"
                                    },
                                    {
                                        "name": "action_name_s",
                                        "type": "string"
                                    },
                                    {
                                        "name": "succeeded_s",
                                        "type": "string"
                                    },
                                    {
                                        "name": "is_column_permission_s",
                                        "type": "string"
                                    },
                                    {
                                        "name": "session_id_d",
                                        "type": "number"
                                    },
                                    {
                                        "name": "server_principal_id_d",
                                        "type": "number"
                                    },
                                    {
                                        "name": "database_principal_id_d",
                                        "type": "number"
                                    },
                                    {
                                        "name": "target_server_principal_id_d",
                                        "type": "number"
                                    },
                                    {
                                        "name": "target_database_principal_id_d",
                                        "type": "number"
                                    },
                                    {
                                        "name": "object_id_d",
                                        "type": "number"
                                    },
                                    {
                                        "name": "user_defined_event_id_d",
                                        "type": "number"
                                    },
                                    {
                                        "name": "transaction_id_d",
                                        "type": "number"
                                    },
                                    {
                                        "name": "class_type_s",
                                        "type": "string"
                                    },
                                    {
                                        "name": "class_type_description_s",
                                        "type": "string"
                                    },
                                    {
                                        "name": "securable_class_type_s",
                                        "type": "string"
                                    },
                                    {
                                        "name": "duration_milliseconds_d",
                                        "type": "number"
                                    },
                                    {
                                        "name": "response_rows_d",
                                        "type": "number"
                                    },
                                    {
                                        "name": "affected_rows_d",
                                        "type": "number"
                                    },
                                    {
                                        "name": "client_ip_s",
                                        "type": "string"
                                    },
                                    {
                                        "name": "permission_bitmask_g",
                                        "type": "string"
                                    },
                                    {
                                        "name": "sequence_group_id_g",
                                        "type": "string"
                                    },
                                    {
                                        "name": "session_server_principal_name_s",
                                        "type": "string"
                                    },
                                    {
                                        "name": "server_principal_name_s",
                                        "type": "string"
                                    },
                                    {
                                        "name": "server_principal_sid_s",
                                        "type": "string"
                                    },
                                    {
                                        "name": "database_principal_name_s",
                                        "type": "string"
                                    },
                                    {
                                        "name": "target_server_principal_name_s",
                                        "type": "string"
                                    },
                                    {
                                        "name": "target_server_principal_sid_s",
                                        "type": "string"
                                    },
                                    {
                                        "name": "target_database_principal_name_s",
                                        "type": "string"
                                    },
                                    {
                                        "name": "server_instance_name_s",
                                        "type": "string"
                                    },
                                    {
                                        "name": "database_name_s",
                                        "type": "string"
                                    },
                                    {
                                        "name": "schema_name_s",
                                        "type": "string"
                                    },
                                    {
                                        "name": "object_name_s",
                                        "type": "string"
                                    },
                                    {
                                        "name": "statement_s",
                                        "type": "string"
                                    },
                                    {
                                        "name": "additional_information_s",
                                        "type": "string"
                                    },
                                    {
                                        "name": "user_defined_information_s",
                                        "type": "string"
                                    },
                                    {
                                        "name": "application_name_s",
                                        "type": "string"
                                    },
                                    {
                                        "name": "connection_id_g",
                                        "type": "string"
                                    },
                                    {
                                        "name": "data_sensitivity_information_s",
                                        "type": "string"
                                    },
                                    {
                                        "name": "host_name_s",
                                        "type": "string"
                                    },
                                    {
                                        "name": "session_context_s",
                                        "type": "string"
                                    },
                                    {
                                        "name": "is_server_level_audit_s",
                                        "type": "string"
                                    },
                                    {
                                        "name": "event_id_g",
                                        "type": "string"
                                    },
                                    {
                                        "name": "AdditionalFields",
                                        "type": "string"
                                    },
                                    {
                                        "name": "Type",
                                        "type": "string"
                                    }
                                ],
                                "kqmagic_version": "0.1.113.post1"
                            },
                            "data": [
                                {
                                    "TimeGenerated": "2021-02-03T04:22:13.290Z",
                                    "Category": "SQLSecurityAuditEvents",
                                    "ResourceProvider": "MICROSOFT.SQL",
                                    "Resource": "MASTER",
                                    "ResourceType": "SERVERS/DATABASES",
                                    "OperationName": "AuditEvent",
                                    "ResultType": "",
                                    "CorrelationId": "",
                                    "ResultDescription": "",
                                    "Tenant_g": "",
                                    "JobId_g": "",
                                    "RunbookName_s": "",
                                    "StreamType_s": "",
                                    "Caller_s": "",
                                    "requestUri_s": "",
                                    "Level": "",
                                    "DurationMs": null,
                                    "CallerIPAddress": "",
                                    "OperationVersion": "",
                                    "ResultSignature": "",
                                    "id_s": "",
                                    "status_s": "",
                                    "LogicalServerName_s": "jukoesmasqldb",
                                    "Message": "",
                                    "clientInfo_s": "",
                                    "httpStatusCode_d": null,
                                    "identity_claim_appid_g": "",
                                    "identity_claim_http_schemas_microsoft_com_identity_claims_objectidentifier_g": "",
                                    "userAgent_s": "",
                                    "ruleName_s": "",
                                    "identity_claim_http_schemas_xmlsoap_org_ws_2005_05_identity_claims_upn_s": "",
                                    "systemId_g": "",
                                    "isAccessPolicyMatch_b": null,
                                    "EventName_s": "",
                                    "httpMethod_s": "",
                                    "subnetId_s": "",
                                    "type_s": "",
                                    "instanceId_s": "",
                                    "macAddress_s": "",
                                    "vnetResourceGuid_g": "",
                                    "direction_s": "",
                                    "subnetPrefix_s": "",
                                    "primaryIPv4Address_s": "",
                                    "conditions_sourcePortRange_s": "",
                                    "priority_d": null,
                                    "conditions_destinationPortRange_s": "",
                                    "conditions_destinationIP_s": "",
                                    "conditions_None_s": "",
                                    "conditions_sourceIP_s": "",
                                    "httpVersion_s": "",
                                    "matchedConnections_d": null,
                                    "startTime_t": null,
                                    "endTime_t": null,
                                    "DatabaseName_s": "",
                                    "clientIP_s": "",
                                    "host_s": "",
                                    "requestQuery_s": "",
                                    "sslEnabled_s": "",
                                    "clientPort_d": null,
                                    "httpStatus_d": null,
                                    "receivedBytes_d": null,
                                    "sentBytes_d": null,
                                    "timeTaken_d": null,
                                    "resultDescription_ErrorJobs_s": "",
                                    "resultDescription_ChildJobs_s": "",
                                    "identity_claim_http_schemas_microsoft_com_identity_claims_scope_s": "",
                                    "workflowId_s": "",
                                    "resource_location_s": "",
                                    "resource_workflowId_g": "",
                                    "resource_resourceGroupName_s": "",
                                    "resource_subscriptionId_g": "",
                                    "resource_runId_s": "",
                                    "resource_workflowName_s": "",
                                    "_schema_s": "",
                                    "correlation_clientTrackingId_s": "",
                                    "properties_sku_Family_s": "",
                                    "properties_sku_Name_s": "",
                                    "properties_tenantId_g": "",
                                    "properties_enabledForDeployment_b": null,
                                    "code_s": "",
                                    "resultDescription_Summary_MachineId_s": "",
                                    "resultDescription_Summary_ScheduleName_s": "",
                                    "resultDescription_Summary_Status_s": "",
                                    "resultDescription_Summary_StatusDescription_s": "",
                                    "resultDescription_Summary_MachineName_s": "",
                                    "resultDescription_Summary_TotalUpdatesInstalled_d": null,
                                    "resultDescription_Summary_RebootRequired_b": null,
                                    "resultDescription_Summary_TotalUpdatesFailed_d": null,
                                    "resultDescription_Summary_InstallPercentage_d": null,
                                    "resultDescription_Summary_StartDateTimeUtc_t": null,
                                    "resource_triggerName_s": "",
                                    "resultDescription_Summary_InitialRequiredUpdatesCount_d": null,
                                    "properties_enabledForTemplateDeployment_b": null,
                                    "resultDescription_Summary_EndDateTimeUtc_s": "",
                                    "resultDescription_Summary_DurationInMinutes_s": "",
                                    "resource_originRunId_s": "",
                                    "properties_enabledForDiskEncryption_b": null,
                                    "resource_actionName_s": "",
                                    "correlation_actionTrackingId_g": "",
                                    "resultDescription_Summary_EndDateTimeUtc_t": null,
                                    "resultDescription_Summary_DurationInMinutes_d": null,
                                    "conditions_protocols_s": "",
                                    "identity_claim_ipaddr_s": "",
                                    "ElasticPoolName_s": "",
                                    "identity_claim_http_schemas_microsoft_com_claims_authnmethodsreferences_s": "",
                                    "RunOn_s": "",
                                    "query_hash_s": "",
                                    "SourceSystem": "Azure",
                                    "MG": "",
                                    "ManagementGroupName": "",
                                    "Computer": "",
                                    "RawData": "",
                                    "interval_start_time_d": null,
                                    "interval_end_time_d": null,
                                    "logical_io_writes_d": null,
                                    "max_logical_io_writes_d": null,
                                    "physical_io_reads_d": null,
                                    "max_physical_io_reads_d": null,
                                    "logical_io_reads_d": null,
                                    "max_logical_io_reads_d": null,
                                    "execution_type_d": null,
                                    "count_executions_d": null,
                                    "cpu_time_d": null,
                                    "max_cpu_time_d": null,
                                    "dop_d": null,
                                    "max_dop_d": null,
                                    "rowcount_d": null,
                                    "max_rowcount_d": null,
                                    "query_max_used_memory_d": null,
                                    "max_query_max_used_memory_d": null,
                                    "duration_d": null,
                                    "max_duration_d": null,
                                    "num_physical_io_reads_d": null,
                                    "max_num_physical_io_reads_d": null,
                                    "log_bytes_used_d": null,
                                    "max_log_bytes_used_d": null,
                                    "query_id_d": null,
                                    "plan_id_d": null,
                                    "statement_sql_handle_s": "",
                                    "error_state_d": null,
                                    "deadlock_xml_s": "",
                                    "query_plan_hash_s": "",
                                    "error_number_d": null,
                                    "Severity": null,
                                    "user_defined_b": null,
                                    "state_d": null,
                                    "package_s": "SecAudit",
                                    "event_s": "audit_event_shoebox",
                                    "sessionName_s": "audit_session_for_shoebox",
                                    "originalEventTimestamp_t": "2021-02-03T04:22:13.289Z",
                                    "audit_schema_version_d": 1,
                                    "event_time_t": "2021-02-03T04:22:13.024Z",
                                    "sequence_number_d": 1,
                                    "action_id_s": "DBAS",
                                    "action_name_s": "DATABASE AUTHENTICATION SUCCEEDED",
                                    "succeeded_s": "true",
                                    "is_column_permission_s": "false",
                                    "session_id_d": 99,
                                    "server_principal_id_d": 0,
                                    "database_principal_id_d": 1,
                                    "target_server_principal_id_d": 0,
                                    "target_database_principal_id_d": 0,
                                    "object_id_d": 5,
                                    "user_defined_event_id_d": 0,
                                    "transaction_id_d": 0,
                                    "class_type_s": "DB",
                                    "class_type_description_s": "DATABASE",
                                    "securable_class_type_s": "DATABASE",
                                    "duration_milliseconds_d": 0,
                                    "response_rows_d": 0,
                                    "affected_rows_d": 0,
                                    "client_ip_s": "131.107.174.142",
                                    "permission_bitmask_g": "00000000-0000-0000-0000-000000000000",
                                    "sequence_group_id_g": "64ec90b3-f5f4-496e-ab72-75595f06a6f2",
                                    "session_server_principal_name_s": "adslivesite",
                                    "server_principal_name_s": "adslivesite",
                                    "server_principal_sid_s": "01060000000001640000000000000000cef04990da142347be1357149f87e7c1",
                                    "database_principal_name_s": "dbo",
                                    "target_server_principal_name_s": "",
                                    "target_server_principal_sid_s": "",
                                    "target_database_principal_name_s": "",
                                    "server_instance_name_s": "jukoesmasqldb",
                                    "database_name_s": "AdventureWorks",
                                    "schema_name_s": "",
                                    "object_name_s": "AdventureWorks",
                                    "statement_s": "",
                                    "additional_information_s": "",
                                    "user_defined_information_s": "",
                                    "application_name_s": "azdata-GeneralConnection",
                                    "connection_id_g": "b40baaea-b083-427f-ac02-6fd367e02a5f",
                                    "data_sensitivity_information_s": "",
                                    "host_name_s": "MSSQLGIRL-01",
                                    "session_context_s": "",
                                    "is_server_level_audit_s": "true",
                                    "event_id_g": "21fb301b-8f69-4543-b40d-fdd92c8dd825",
                                    "AdditionalFields": "None",
                                    "Type": "AzureDiagnostics"
                                },
                                {
                                    "TimeGenerated": "2021-02-03T04:22:13.290Z",
                                    "Category": "SQLSecurityAuditEvents",
                                    "ResourceProvider": "MICROSOFT.SQL",
                                    "Resource": "MASTER",
                                    "ResourceType": "SERVERS/DATABASES",
                                    "OperationName": "AuditEvent",
                                    "ResultType": "",
                                    "CorrelationId": "",
                                    "ResultDescription": "",
                                    "Tenant_g": "",
                                    "JobId_g": "",
                                    "RunbookName_s": "",
                                    "StreamType_s": "",
                                    "Caller_s": "",
                                    "requestUri_s": "",
                                    "Level": "",
                                    "DurationMs": null,
                                    "CallerIPAddress": "",
                                    "OperationVersion": "",
                                    "ResultSignature": "",
                                    "id_s": "",
                                    "status_s": "",
                                    "LogicalServerName_s": "jukoesmasqldb",
                                    "Message": "",
                                    "clientInfo_s": "",
                                    "httpStatusCode_d": null,
                                    "identity_claim_appid_g": "",
                                    "identity_claim_http_schemas_microsoft_com_identity_claims_objectidentifier_g": "",
                                    "userAgent_s": "",
                                    "ruleName_s": "",
                                    "identity_claim_http_schemas_xmlsoap_org_ws_2005_05_identity_claims_upn_s": "",
                                    "systemId_g": "",
                                    "isAccessPolicyMatch_b": null,
                                    "EventName_s": "",
                                    "httpMethod_s": "",
                                    "subnetId_s": "",
                                    "type_s": "",
                                    "instanceId_s": "",
                                    "macAddress_s": "",
                                    "vnetResourceGuid_g": "",
                                    "direction_s": "",
                                    "subnetPrefix_s": "",
                                    "primaryIPv4Address_s": "",
                                    "conditions_sourcePortRange_s": "",
                                    "priority_d": null,
                                    "conditions_destinationPortRange_s": "",
                                    "conditions_destinationIP_s": "",
                                    "conditions_None_s": "",
                                    "conditions_sourceIP_s": "",
                                    "httpVersion_s": "",
                                    "matchedConnections_d": null,
                                    "startTime_t": null,
                                    "endTime_t": null,
                                    "DatabaseName_s": "",
                                    "clientIP_s": "",
                                    "host_s": "",
                                    "requestQuery_s": "",
                                    "sslEnabled_s": "",
                                    "clientPort_d": null,
                                    "httpStatus_d": null,
                                    "receivedBytes_d": null,
                                    "sentBytes_d": null,
                                    "timeTaken_d": null,
                                    "resultDescription_ErrorJobs_s": "",
                                    "resultDescription_ChildJobs_s": "",
                                    "identity_claim_http_schemas_microsoft_com_identity_claims_scope_s": "",
                                    "workflowId_s": "",
                                    "resource_location_s": "",
                                    "resource_workflowId_g": "",
                                    "resource_resourceGroupName_s": "",
                                    "resource_subscriptionId_g": "",
                                    "resource_runId_s": "",
                                    "resource_workflowName_s": "",
                                    "_schema_s": "",
                                    "correlation_clientTrackingId_s": "",
                                    "properties_sku_Family_s": "",
                                    "properties_sku_Name_s": "",
                                    "properties_tenantId_g": "",
                                    "properties_enabledForDeployment_b": null,
                                    "code_s": "",
                                    "resultDescription_Summary_MachineId_s": "",
                                    "resultDescription_Summary_ScheduleName_s": "",
                                    "resultDescription_Summary_Status_s": "",
                                    "resultDescription_Summary_StatusDescription_s": "",
                                    "resultDescription_Summary_MachineName_s": "",
                                    "resultDescription_Summary_TotalUpdatesInstalled_d": null,
                                    "resultDescription_Summary_RebootRequired_b": null,
                                    "resultDescription_Summary_TotalUpdatesFailed_d": null,
                                    "resultDescription_Summary_InstallPercentage_d": null,
                                    "resultDescription_Summary_StartDateTimeUtc_t": null,
                                    "resource_triggerName_s": "",
                                    "resultDescription_Summary_InitialRequiredUpdatesCount_d": null,
                                    "properties_enabledForTemplateDeployment_b": null,
                                    "resultDescription_Summary_EndDateTimeUtc_s": "",
                                    "resultDescription_Summary_DurationInMinutes_s": "",
                                    "resource_originRunId_s": "",
                                    "properties_enabledForDiskEncryption_b": null,
                                    "resource_actionName_s": "",
                                    "correlation_actionTrackingId_g": "",
                                    "resultDescription_Summary_EndDateTimeUtc_t": null,
                                    "resultDescription_Summary_DurationInMinutes_d": null,
                                    "conditions_protocols_s": "",
                                    "identity_claim_ipaddr_s": "",
                                    "ElasticPoolName_s": "",
                                    "identity_claim_http_schemas_microsoft_com_claims_authnmethodsreferences_s": "",
                                    "RunOn_s": "",
                                    "query_hash_s": "",
                                    "SourceSystem": "Azure",
                                    "MG": "",
                                    "ManagementGroupName": "",
                                    "Computer": "",
                                    "RawData": "",
                                    "interval_start_time_d": null,
                                    "interval_end_time_d": null,
                                    "logical_io_writes_d": null,
                                    "max_logical_io_writes_d": null,
                                    "physical_io_reads_d": null,
                                    "max_physical_io_reads_d": null,
                                    "logical_io_reads_d": null,
                                    "max_logical_io_reads_d": null,
                                    "execution_type_d": null,
                                    "count_executions_d": null,
                                    "cpu_time_d": null,
                                    "max_cpu_time_d": null,
                                    "dop_d": null,
                                    "max_dop_d": null,
                                    "rowcount_d": null,
                                    "max_rowcount_d": null,
                                    "query_max_used_memory_d": null,
                                    "max_query_max_used_memory_d": null,
                                    "duration_d": null,
                                    "max_duration_d": null,
                                    "num_physical_io_reads_d": null,
                                    "max_num_physical_io_reads_d": null,
                                    "log_bytes_used_d": null,
                                    "max_log_bytes_used_d": null,
                                    "query_id_d": null,
                                    "plan_id_d": null,
                                    "statement_sql_handle_s": "",
                                    "error_state_d": null,
                                    "deadlock_xml_s": "",
                                    "query_plan_hash_s": "",
                                    "error_number_d": null,
                                    "Severity": null,
                                    "user_defined_b": null,
                                    "state_d": null,
                                    "package_s": "SecAudit",
                                    "event_s": "audit_event_shoebox",
                                    "sessionName_s": "audit_session_for_shoebox",
                                    "originalEventTimestamp_t": "2021-02-03T04:22:13.289Z",
                                    "audit_schema_version_d": 1,
                                    "event_time_t": "2021-02-03T04:22:13.180Z",
                                    "sequence_number_d": 1,
                                    "action_id_s": "BCM ",
                                    "action_name_s": "BATCH COMPLETED",
                                    "succeeded_s": "true",
                                    "is_column_permission_s": "false",
                                    "session_id_d": 99,
                                    "server_principal_id_d": 0,
                                    "database_principal_id_d": 1,
                                    "target_server_principal_id_d": 0,
                                    "target_database_principal_id_d": 0,
                                    "object_id_d": 5,
                                    "user_defined_event_id_d": 0,
                                    "transaction_id_d": 0,
                                    "class_type_s": "DB",
                                    "class_type_description_s": "DATABASE",
                                    "securable_class_type_s": "DATABASE",
                                    "duration_milliseconds_d": 61,
                                    "response_rows_d": 1,
                                    "affected_rows_d": 1,
                                    "client_ip_s": "131.107.174.142",
                                    "permission_bitmask_g": "00000000-0000-0000-0000-000000000000",
                                    "sequence_group_id_g": "e687a6dd-2190-412f-ae83-11ce041878b7",
                                    "session_server_principal_name_s": "adslivesite",
                                    "server_principal_name_s": "adslivesite",
                                    "server_principal_sid_s": "01060000000001640000000000000000cef04990da142347be1357149f87e7c1",
                                    "database_principal_name_s": "dbo",
                                    "target_server_principal_name_s": "",
                                    "target_server_principal_sid_s": "",
                                    "target_database_principal_name_s": "",
                                    "server_instance_name_s": "jukoesmasqldb",
                                    "database_name_s": "AdventureWorks",
                                    "schema_name_s": "",
                                    "object_name_s": "AdventureWorks",
                                    "statement_s": "SELECT SERVERPROPERTY('EngineEdition'), SERVERPROPERTY('productversion'), SERVERPROPERTY ('productlevel'), SERVERPROPERTY ('edition'), SERVERPROPERTY ('MachineName'), SERVERPROPERTY ('ServerName'), (SELECT CASE WHEN EXISTS (SELECT TOP 1 1 from [sys].[all_columns] WITH (NOLOCK) WHERE name = N'xml_index_type' AND OBJECT_ID(N'sys.xml_indexes') = object_id) THEN 1 ELSE 0 END AS SXI_PRESENT)",
                                    "additional_information_s": "",
                                    "user_defined_information_s": "",
                                    "application_name_s": "azdata-GeneralConnection",
                                    "connection_id_g": "b40baaea-b083-427f-ac02-6fd367e02a5f",
                                    "data_sensitivity_information_s": "",
                                    "host_name_s": "MSSQLGIRL-01",
                                    "session_context_s": "",
                                    "is_server_level_audit_s": "true",
                                    "event_id_g": "b903d7fc-82ef-4579-b09a-4b1e1b08cc93",
                                    "AdditionalFields": "None",
                                    "Type": "AzureDiagnostics"
                                },
                                {
                                    "TimeGenerated": "2021-02-03T04:22:13.290Z",
                                    "Category": "SQLSecurityAuditEvents",
                                    "ResourceProvider": "MICROSOFT.SQL",
                                    "Resource": "MASTER",
                                    "ResourceType": "SERVERS/DATABASES",
                                    "OperationName": "AuditEvent",
                                    "ResultType": "",
                                    "CorrelationId": "",
                                    "ResultDescription": "",
                                    "Tenant_g": "",
                                    "JobId_g": "",
                                    "RunbookName_s": "",
                                    "StreamType_s": "",
                                    "Caller_s": "",
                                    "requestUri_s": "",
                                    "Level": "",
                                    "DurationMs": null,
                                    "CallerIPAddress": "",
                                    "OperationVersion": "",
                                    "ResultSignature": "",
                                    "id_s": "",
                                    "status_s": "",
                                    "LogicalServerName_s": "jukoesmasqldb",
                                    "Message": "",
                                    "clientInfo_s": "",
                                    "httpStatusCode_d": null,
                                    "identity_claim_appid_g": "",
                                    "identity_claim_http_schemas_microsoft_com_identity_claims_objectidentifier_g": "",
                                    "userAgent_s": "",
                                    "ruleName_s": "",
                                    "identity_claim_http_schemas_xmlsoap_org_ws_2005_05_identity_claims_upn_s": "",
                                    "systemId_g": "",
                                    "isAccessPolicyMatch_b": null,
                                    "EventName_s": "",
                                    "httpMethod_s": "",
                                    "subnetId_s": "",
                                    "type_s": "",
                                    "instanceId_s": "",
                                    "macAddress_s": "",
                                    "vnetResourceGuid_g": "",
                                    "direction_s": "",
                                    "subnetPrefix_s": "",
                                    "primaryIPv4Address_s": "",
                                    "conditions_sourcePortRange_s": "",
                                    "priority_d": null,
                                    "conditions_destinationPortRange_s": "",
                                    "conditions_destinationIP_s": "",
                                    "conditions_None_s": "",
                                    "conditions_sourceIP_s": "",
                                    "httpVersion_s": "",
                                    "matchedConnections_d": null,
                                    "startTime_t": null,
                                    "endTime_t": null,
                                    "DatabaseName_s": "",
                                    "clientIP_s": "",
                                    "host_s": "",
                                    "requestQuery_s": "",
                                    "sslEnabled_s": "",
                                    "clientPort_d": null,
                                    "httpStatus_d": null,
                                    "receivedBytes_d": null,
                                    "sentBytes_d": null,
                                    "timeTaken_d": null,
                                    "resultDescription_ErrorJobs_s": "",
                                    "resultDescription_ChildJobs_s": "",
                                    "identity_claim_http_schemas_microsoft_com_identity_claims_scope_s": "",
                                    "workflowId_s": "",
                                    "resource_location_s": "",
                                    "resource_workflowId_g": "",
                                    "resource_resourceGroupName_s": "",
                                    "resource_subscriptionId_g": "",
                                    "resource_runId_s": "",
                                    "resource_workflowName_s": "",
                                    "_schema_s": "",
                                    "correlation_clientTrackingId_s": "",
                                    "properties_sku_Family_s": "",
                                    "properties_sku_Name_s": "",
                                    "properties_tenantId_g": "",
                                    "properties_enabledForDeployment_b": null,
                                    "code_s": "",
                                    "resultDescription_Summary_MachineId_s": "",
                                    "resultDescription_Summary_ScheduleName_s": "",
                                    "resultDescription_Summary_Status_s": "",
                                    "resultDescription_Summary_StatusDescription_s": "",
                                    "resultDescription_Summary_MachineName_s": "",
                                    "resultDescription_Summary_TotalUpdatesInstalled_d": null,
                                    "resultDescription_Summary_RebootRequired_b": null,
                                    "resultDescription_Summary_TotalUpdatesFailed_d": null,
                                    "resultDescription_Summary_InstallPercentage_d": null,
                                    "resultDescription_Summary_StartDateTimeUtc_t": null,
                                    "resource_triggerName_s": "",
                                    "resultDescription_Summary_InitialRequiredUpdatesCount_d": null,
                                    "properties_enabledForTemplateDeployment_b": null,
                                    "resultDescription_Summary_EndDateTimeUtc_s": "",
                                    "resultDescription_Summary_DurationInMinutes_s": "",
                                    "resource_originRunId_s": "",
                                    "properties_enabledForDiskEncryption_b": null,
                                    "resource_actionName_s": "",
                                    "correlation_actionTrackingId_g": "",
                                    "resultDescription_Summary_EndDateTimeUtc_t": null,
                                    "resultDescription_Summary_DurationInMinutes_d": null,
                                    "conditions_protocols_s": "",
                                    "identity_claim_ipaddr_s": "",
                                    "ElasticPoolName_s": "",
                                    "identity_claim_http_schemas_microsoft_com_claims_authnmethodsreferences_s": "",
                                    "RunOn_s": "",
                                    "query_hash_s": "",
                                    "SourceSystem": "Azure",
                                    "MG": "",
                                    "ManagementGroupName": "",
                                    "Computer": "",
                                    "RawData": "",
                                    "interval_start_time_d": null,
                                    "interval_end_time_d": null,
                                    "logical_io_writes_d": null,
                                    "max_logical_io_writes_d": null,
                                    "physical_io_reads_d": null,
                                    "max_physical_io_reads_d": null,
                                    "logical_io_reads_d": null,
                                    "max_logical_io_reads_d": null,
                                    "execution_type_d": null,
                                    "count_executions_d": null,
                                    "cpu_time_d": null,
                                    "max_cpu_time_d": null,
                                    "dop_d": null,
                                    "max_dop_d": null,
                                    "rowcount_d": null,
                                    "max_rowcount_d": null,
                                    "query_max_used_memory_d": null,
                                    "max_query_max_used_memory_d": null,
                                    "duration_d": null,
                                    "max_duration_d": null,
                                    "num_physical_io_reads_d": null,
                                    "max_num_physical_io_reads_d": null,
                                    "log_bytes_used_d": null,
                                    "max_log_bytes_used_d": null,
                                    "query_id_d": null,
                                    "plan_id_d": null,
                                    "statement_sql_handle_s": "",
                                    "error_state_d": null,
                                    "deadlock_xml_s": "",
                                    "query_plan_hash_s": "",
                                    "error_number_d": null,
                                    "Severity": null,
                                    "user_defined_b": null,
                                    "state_d": null,
                                    "package_s": "SecAudit",
                                    "event_s": "audit_event_shoebox",
                                    "sessionName_s": "audit_session_for_shoebox",
                                    "originalEventTimestamp_t": "2021-02-03T04:22:13.289Z",
                                    "audit_schema_version_d": 1,
                                    "event_time_t": "2021-02-03T04:22:13.259Z",
                                    "sequence_number_d": 1,
                                    "action_id_s": "BCM ",
                                    "action_name_s": "BATCH COMPLETED",
                                    "succeeded_s": "true",
                                    "is_column_permission_s": "false",
                                    "session_id_d": 99,
                                    "server_principal_id_d": 0,
                                    "database_principal_id_d": 1,
                                    "target_server_principal_id_d": 0,
                                    "target_database_principal_id_d": 0,
                                    "object_id_d": 5,
                                    "user_defined_event_id_d": 0,
                                    "transaction_id_d": 0,
                                    "class_type_s": "DB",
                                    "class_type_description_s": "DATABASE",
                                    "securable_class_type_s": "DATABASE",
                                    "duration_milliseconds_d": 0,
                                    "response_rows_d": 1,
                                    "affected_rows_d": 1,
                                    "client_ip_s": "131.107.174.142",
                                    "permission_bitmask_g": "00000000-0000-0000-0000-000000000000",
                                    "sequence_group_id_g": "bea05548-107f-4e8a-8f86-b9b3fcef8888",
                                    "session_server_principal_name_s": "adslivesite",
                                    "server_principal_name_s": "adslivesite",
                                    "server_principal_sid_s": "01060000000001640000000000000000cef04990da142347be1357149f87e7c1",
                                    "database_principal_name_s": "dbo",
                                    "target_server_principal_name_s": "",
                                    "target_server_principal_sid_s": "",
                                    "target_database_principal_name_s": "",
                                    "server_instance_name_s": "jukoesmasqldb",
                                    "database_name_s": "AdventureWorks",
                                    "schema_name_s": "",
                                    "object_name_s": "AdventureWorks",
                                    "statement_s": "SELECT ISNULL(SESSIONPROPERTY ('ANSI_NULLS'), 0), ISNULL(SESSIONPROPERTY ('QUOTED_IDENTIFIER'), 1)",
                                    "additional_information_s": "",
                                    "user_defined_information_s": "",
                                    "application_name_s": "azdata-GeneralConnection",
                                    "connection_id_g": "b40baaea-b083-427f-ac02-6fd367e02a5f",
                                    "data_sensitivity_information_s": "",
                                    "host_name_s": "MSSQLGIRL-01",
                                    "session_context_s": "",
                                    "is_server_level_audit_s": "true",
                                    "event_id_g": "035a19e4-0949-4e33-a258-e443706b8960",
                                    "AdditionalFields": "None",
                                    "Type": "AzureDiagnostics"
                                },
                                {
                                    "TimeGenerated": "2021-02-03T04:22:14.290Z",
                                    "Category": "SQLSecurityAuditEvents",
                                    "ResourceProvider": "MICROSOFT.SQL",
                                    "Resource": "MASTER",
                                    "ResourceType": "SERVERS/DATABASES",
                                    "OperationName": "AuditEvent",
                                    "ResultType": "",
                                    "CorrelationId": "",
                                    "ResultDescription": "",
                                    "Tenant_g": "",
                                    "JobId_g": "",
                                    "RunbookName_s": "",
                                    "StreamType_s": "",
                                    "Caller_s": "",
                                    "requestUri_s": "",
                                    "Level": "",
                                    "DurationMs": null,
                                    "CallerIPAddress": "",
                                    "OperationVersion": "",
                                    "ResultSignature": "",
                                    "id_s": "",
                                    "status_s": "",
                                    "LogicalServerName_s": "jukoesmasqldb",
                                    "Message": "",
                                    "clientInfo_s": "",
                                    "httpStatusCode_d": null,
                                    "identity_claim_appid_g": "",
                                    "identity_claim_http_schemas_microsoft_com_identity_claims_objectidentifier_g": "",
                                    "userAgent_s": "",
                                    "ruleName_s": "",
                                    "identity_claim_http_schemas_xmlsoap_org_ws_2005_05_identity_claims_upn_s": "",
                                    "systemId_g": "",
                                    "isAccessPolicyMatch_b": null,
                                    "EventName_s": "",
                                    "httpMethod_s": "",
                                    "subnetId_s": "",
                                    "type_s": "",
                                    "instanceId_s": "",
                                    "macAddress_s": "",
                                    "vnetResourceGuid_g": "",
                                    "direction_s": "",
                                    "subnetPrefix_s": "",
                                    "primaryIPv4Address_s": "",
                                    "conditions_sourcePortRange_s": "",
                                    "priority_d": null,
                                    "conditions_destinationPortRange_s": "",
                                    "conditions_destinationIP_s": "",
                                    "conditions_None_s": "",
                                    "conditions_sourceIP_s": "",
                                    "httpVersion_s": "",
                                    "matchedConnections_d": null,
                                    "startTime_t": null,
                                    "endTime_t": null,
                                    "DatabaseName_s": "",
                                    "clientIP_s": "",
                                    "host_s": "",
                                    "requestQuery_s": "",
                                    "sslEnabled_s": "",
                                    "clientPort_d": null,
                                    "httpStatus_d": null,
                                    "receivedBytes_d": null,
                                    "sentBytes_d": null,
                                    "timeTaken_d": null,
                                    "resultDescription_ErrorJobs_s": "",
                                    "resultDescription_ChildJobs_s": "",
                                    "identity_claim_http_schemas_microsoft_com_identity_claims_scope_s": "",
                                    "workflowId_s": "",
                                    "resource_location_s": "",
                                    "resource_workflowId_g": "",
                                    "resource_resourceGroupName_s": "",
                                    "resource_subscriptionId_g": "",
                                    "resource_runId_s": "",
                                    "resource_workflowName_s": "",
                                    "_schema_s": "",
                                    "correlation_clientTrackingId_s": "",
                                    "properties_sku_Family_s": "",
                                    "properties_sku_Name_s": "",
                                    "properties_tenantId_g": "",
                                    "properties_enabledForDeployment_b": null,
                                    "code_s": "",
                                    "resultDescription_Summary_MachineId_s": "",
                                    "resultDescription_Summary_ScheduleName_s": "",
                                    "resultDescription_Summary_Status_s": "",
                                    "resultDescription_Summary_StatusDescription_s": "",
                                    "resultDescription_Summary_MachineName_s": "",
                                    "resultDescription_Summary_TotalUpdatesInstalled_d": null,
                                    "resultDescription_Summary_RebootRequired_b": null,
                                    "resultDescription_Summary_TotalUpdatesFailed_d": null,
                                    "resultDescription_Summary_InstallPercentage_d": null,
                                    "resultDescription_Summary_StartDateTimeUtc_t": null,
                                    "resource_triggerName_s": "",
                                    "resultDescription_Summary_InitialRequiredUpdatesCount_d": null,
                                    "properties_enabledForTemplateDeployment_b": null,
                                    "resultDescription_Summary_EndDateTimeUtc_s": "",
                                    "resultDescription_Summary_DurationInMinutes_s": "",
                                    "resource_originRunId_s": "",
                                    "properties_enabledForDiskEncryption_b": null,
                                    "resource_actionName_s": "",
                                    "correlation_actionTrackingId_g": "",
                                    "resultDescription_Summary_EndDateTimeUtc_t": null,
                                    "resultDescription_Summary_DurationInMinutes_d": null,
                                    "conditions_protocols_s": "",
                                    "identity_claim_ipaddr_s": "",
                                    "ElasticPoolName_s": "",
                                    "identity_claim_http_schemas_microsoft_com_claims_authnmethodsreferences_s": "",
                                    "RunOn_s": "",
                                    "query_hash_s": "",
                                    "SourceSystem": "Azure",
                                    "MG": "",
                                    "ManagementGroupName": "",
                                    "Computer": "",
                                    "RawData": "",
                                    "interval_start_time_d": null,
                                    "interval_end_time_d": null,
                                    "logical_io_writes_d": null,
                                    "max_logical_io_writes_d": null,
                                    "physical_io_reads_d": null,
                                    "max_physical_io_reads_d": null,
                                    "logical_io_reads_d": null,
                                    "max_logical_io_reads_d": null,
                                    "execution_type_d": null,
                                    "count_executions_d": null,
                                    "cpu_time_d": null,
                                    "max_cpu_time_d": null,
                                    "dop_d": null,
                                    "max_dop_d": null,
                                    "rowcount_d": null,
                                    "max_rowcount_d": null,
                                    "query_max_used_memory_d": null,
                                    "max_query_max_used_memory_d": null,
                                    "duration_d": null,
                                    "max_duration_d": null,
                                    "num_physical_io_reads_d": null,
                                    "max_num_physical_io_reads_d": null,
                                    "log_bytes_used_d": null,
                                    "max_log_bytes_used_d": null,
                                    "query_id_d": null,
                                    "plan_id_d": null,
                                    "statement_sql_handle_s": "",
                                    "error_state_d": null,
                                    "deadlock_xml_s": "",
                                    "query_plan_hash_s": "",
                                    "error_number_d": null,
                                    "Severity": null,
                                    "user_defined_b": null,
                                    "state_d": null,
                                    "package_s": "SecAudit",
                                    "event_s": "audit_event_shoebox",
                                    "sessionName_s": "audit_session_for_shoebox",
                                    "originalEventTimestamp_t": "2021-02-03T04:22:14.285Z",
                                    "audit_schema_version_d": 1,
                                    "event_time_t": "2021-02-03T04:22:13.290Z",
                                    "sequence_number_d": 1,
                                    "action_id_s": "BCM ",
                                    "action_name_s": "BATCH COMPLETED",
                                    "succeeded_s": "true",
                                    "is_column_permission_s": "false",
                                    "session_id_d": 99,
                                    "server_principal_id_d": 0,
                                    "database_principal_id_d": 1,
                                    "target_server_principal_id_d": 0,
                                    "target_database_principal_id_d": 0,
                                    "object_id_d": 5,
                                    "user_defined_event_id_d": 0,
                                    "transaction_id_d": 0,
                                    "class_type_s": "DB",
                                    "class_type_description_s": "DATABASE",
                                    "securable_class_type_s": "DATABASE",
                                    "duration_milliseconds_d": 0,
                                    "response_rows_d": 1,
                                    "affected_rows_d": 1,
                                    "client_ip_s": "131.107.174.142",
                                    "permission_bitmask_g": "00000000-0000-0000-0000-000000000000",
                                    "sequence_group_id_g": "3ae1aaaf-c1bc-4965-a895-7c0c921b66f5",
                                    "session_server_principal_name_s": "adslivesite",
                                    "server_principal_name_s": "adslivesite",
                                    "server_principal_sid_s": "01060000000001640000000000000000cef04990da142347be1357149f87e7c1",
                                    "database_principal_name_s": "dbo",
                                    "target_server_principal_name_s": "",
                                    "target_server_principal_sid_s": "",
                                    "target_database_principal_name_s": "",
                                    "server_instance_name_s": "jukoesmasqldb",
                                    "database_name_s": "AdventureWorks",
                                    "schema_name_s": "",
                                    "object_name_s": "AdventureWorks",
                                    "statement_s": "SELECT SERVERPROPERTY('EngineEdition'), SERVERPROPERTY('productversion'), SERVERPROPERTY ('productlevel'), SERVERPROPERTY ('edition'), SERVERPROPERTY ('MachineName'), SERVERPROPERTY ('ServerName'), (SELECT CASE WHEN EXISTS (SELECT TOP 1 1 from [sys].[all_columns] WITH (NOLOCK) WHERE name = N'xml_index_type' AND OBJECT_ID(N'sys.xml_indexes') = object_id) THEN 1 ELSE 0 END AS SXI_PRESENT)",
                                    "additional_information_s": "",
                                    "user_defined_information_s": "",
                                    "application_name_s": "azdata-GeneralConnection",
                                    "connection_id_g": "b40baaea-b083-427f-ac02-6fd367e02a5f",
                                    "data_sensitivity_information_s": "",
                                    "host_name_s": "MSSQLGIRL-01",
                                    "session_context_s": "",
                                    "is_server_level_audit_s": "true",
                                    "event_id_g": "56b83ff2-759f-408a-91bd-ffcd95d63308",
                                    "AdditionalFields": "None",
                                    "Type": "AzureDiagnostics"
                                },
                                {
                                    "TimeGenerated": "2021-02-03T04:22:14.290Z",
                                    "Category": "SQLSecurityAuditEvents",
                                    "ResourceProvider": "MICROSOFT.SQL",
                                    "Resource": "MASTER",
                                    "ResourceType": "SERVERS/DATABASES",
                                    "OperationName": "AuditEvent",
                                    "ResultType": "",
                                    "CorrelationId": "",
                                    "ResultDescription": "",
                                    "Tenant_g": "",
                                    "JobId_g": "",
                                    "RunbookName_s": "",
                                    "StreamType_s": "",
                                    "Caller_s": "",
                                    "requestUri_s": "",
                                    "Level": "",
                                    "DurationMs": null,
                                    "CallerIPAddress": "",
                                    "OperationVersion": "",
                                    "ResultSignature": "",
                                    "id_s": "",
                                    "status_s": "",
                                    "LogicalServerName_s": "jukoesmasqldb",
                                    "Message": "",
                                    "clientInfo_s": "",
                                    "httpStatusCode_d": null,
                                    "identity_claim_appid_g": "",
                                    "identity_claim_http_schemas_microsoft_com_identity_claims_objectidentifier_g": "",
                                    "userAgent_s": "",
                                    "ruleName_s": "",
                                    "identity_claim_http_schemas_xmlsoap_org_ws_2005_05_identity_claims_upn_s": "",
                                    "systemId_g": "",
                                    "isAccessPolicyMatch_b": null,
                                    "EventName_s": "",
                                    "httpMethod_s": "",
                                    "subnetId_s": "",
                                    "type_s": "",
                                    "instanceId_s": "",
                                    "macAddress_s": "",
                                    "vnetResourceGuid_g": "",
                                    "direction_s": "",
                                    "subnetPrefix_s": "",
                                    "primaryIPv4Address_s": "",
                                    "conditions_sourcePortRange_s": "",
                                    "priority_d": null,
                                    "conditions_destinationPortRange_s": "",
                                    "conditions_destinationIP_s": "",
                                    "conditions_None_s": "",
                                    "conditions_sourceIP_s": "",
                                    "httpVersion_s": "",
                                    "matchedConnections_d": null,
                                    "startTime_t": null,
                                    "endTime_t": null,
                                    "DatabaseName_s": "",
                                    "clientIP_s": "",
                                    "host_s": "",
                                    "requestQuery_s": "",
                                    "sslEnabled_s": "",
                                    "clientPort_d": null,
                                    "httpStatus_d": null,
                                    "receivedBytes_d": null,
                                    "sentBytes_d": null,
                                    "timeTaken_d": null,
                                    "resultDescription_ErrorJobs_s": "",
                                    "resultDescription_ChildJobs_s": "",
                                    "identity_claim_http_schemas_microsoft_com_identity_claims_scope_s": "",
                                    "workflowId_s": "",
                                    "resource_location_s": "",
                                    "resource_workflowId_g": "",
                                    "resource_resourceGroupName_s": "",
                                    "resource_subscriptionId_g": "",
                                    "resource_runId_s": "",
                                    "resource_workflowName_s": "",
                                    "_schema_s": "",
                                    "correlation_clientTrackingId_s": "",
                                    "properties_sku_Family_s": "",
                                    "properties_sku_Name_s": "",
                                    "properties_tenantId_g": "",
                                    "properties_enabledForDeployment_b": null,
                                    "code_s": "",
                                    "resultDescription_Summary_MachineId_s": "",
                                    "resultDescription_Summary_ScheduleName_s": "",
                                    "resultDescription_Summary_Status_s": "",
                                    "resultDescription_Summary_StatusDescription_s": "",
                                    "resultDescription_Summary_MachineName_s": "",
                                    "resultDescription_Summary_TotalUpdatesInstalled_d": null,
                                    "resultDescription_Summary_RebootRequired_b": null,
                                    "resultDescription_Summary_TotalUpdatesFailed_d": null,
                                    "resultDescription_Summary_InstallPercentage_d": null,
                                    "resultDescription_Summary_StartDateTimeUtc_t": null,
                                    "resource_triggerName_s": "",
                                    "resultDescription_Summary_InitialRequiredUpdatesCount_d": null,
                                    "properties_enabledForTemplateDeployment_b": null,
                                    "resultDescription_Summary_EndDateTimeUtc_s": "",
                                    "resultDescription_Summary_DurationInMinutes_s": "",
                                    "resource_originRunId_s": "",
                                    "properties_enabledForDiskEncryption_b": null,
                                    "resource_actionName_s": "",
                                    "correlation_actionTrackingId_g": "",
                                    "resultDescription_Summary_EndDateTimeUtc_t": null,
                                    "resultDescription_Summary_DurationInMinutes_d": null,
                                    "conditions_protocols_s": "",
                                    "identity_claim_ipaddr_s": "",
                                    "ElasticPoolName_s": "",
                                    "identity_claim_http_schemas_microsoft_com_claims_authnmethodsreferences_s": "",
                                    "RunOn_s": "",
                                    "query_hash_s": "",
                                    "SourceSystem": "Azure",
                                    "MG": "",
                                    "ManagementGroupName": "",
                                    "Computer": "",
                                    "RawData": "",
                                    "interval_start_time_d": null,
                                    "interval_end_time_d": null,
                                    "logical_io_writes_d": null,
                                    "max_logical_io_writes_d": null,
                                    "physical_io_reads_d": null,
                                    "max_physical_io_reads_d": null,
                                    "logical_io_reads_d": null,
                                    "max_logical_io_reads_d": null,
                                    "execution_type_d": null,
                                    "count_executions_d": null,
                                    "cpu_time_d": null,
                                    "max_cpu_time_d": null,
                                    "dop_d": null,
                                    "max_dop_d": null,
                                    "rowcount_d": null,
                                    "max_rowcount_d": null,
                                    "query_max_used_memory_d": null,
                                    "max_query_max_used_memory_d": null,
                                    "duration_d": null,
                                    "max_duration_d": null,
                                    "num_physical_io_reads_d": null,
                                    "max_num_physical_io_reads_d": null,
                                    "log_bytes_used_d": null,
                                    "max_log_bytes_used_d": null,
                                    "query_id_d": null,
                                    "plan_id_d": null,
                                    "statement_sql_handle_s": "",
                                    "error_state_d": null,
                                    "deadlock_xml_s": "",
                                    "query_plan_hash_s": "",
                                    "error_number_d": null,
                                    "Severity": null,
                                    "user_defined_b": null,
                                    "state_d": null,
                                    "package_s": "SecAudit",
                                    "event_s": "audit_event_shoebox",
                                    "sessionName_s": "audit_session_for_shoebox",
                                    "originalEventTimestamp_t": "2021-02-03T04:22:14.285Z",
                                    "audit_schema_version_d": 1,
                                    "event_time_t": "2021-02-03T04:22:13.305Z",
                                    "sequence_number_d": 1,
                                    "action_id_s": "BCM ",
                                    "action_name_s": "BATCH COMPLETED",
                                    "succeeded_s": "true",
                                    "is_column_permission_s": "false",
                                    "session_id_d": 99,
                                    "server_principal_id_d": 0,
                                    "database_principal_id_d": 1,
                                    "target_server_principal_id_d": 0,
                                    "target_database_principal_id_d": 0,
                                    "object_id_d": 5,
                                    "user_defined_event_id_d": 0,
                                    "transaction_id_d": 0,
                                    "class_type_s": "DB",
                                    "class_type_description_s": "DATABASE",
                                    "securable_class_type_s": "DATABASE",
                                    "duration_milliseconds_d": 0,
                                    "response_rows_d": 1,
                                    "affected_rows_d": 1,
                                    "client_ip_s": "131.107.174.142",
                                    "permission_bitmask_g": "00000000-0000-0000-0000-000000000000",
                                    "sequence_group_id_g": "35a0e915-9e87-4ae2-b1eb-dab303d3879e",
                                    "session_server_principal_name_s": "adslivesite",
                                    "server_principal_name_s": "adslivesite",
                                    "server_principal_sid_s": "01060000000001640000000000000000cef04990da142347be1357149f87e7c1",
                                    "database_principal_name_s": "dbo",
                                    "target_server_principal_name_s": "",
                                    "target_server_principal_sid_s": "",
                                    "target_database_principal_name_s": "",
                                    "server_instance_name_s": "jukoesmasqldb",
                                    "database_name_s": "AdventureWorks",
                                    "schema_name_s": "",
                                    "object_name_s": "AdventureWorks",
                                    "statement_s": "SELECT ISNULL(SESSIONPROPERTY ('ANSI_NULLS'), 0), ISNULL(SESSIONPROPERTY ('QUOTED_IDENTIFIER'), 1)",
                                    "additional_information_s": "",
                                    "user_defined_information_s": "",
                                    "application_name_s": "azdata-GeneralConnection",
                                    "connection_id_g": "b40baaea-b083-427f-ac02-6fd367e02a5f",
                                    "data_sensitivity_information_s": "",
                                    "host_name_s": "MSSQLGIRL-01",
                                    "session_context_s": "",
                                    "is_server_level_audit_s": "true",
                                    "event_id_g": "d85b82df-a271-4116-bb4e-a1e53370f7d7",
                                    "AdditionalFields": "None",
                                    "Type": "AzureDiagnostics"
                                },
                                {
                                    "TimeGenerated": "2021-02-03T04:22:14.290Z",
                                    "Category": "SQLSecurityAuditEvents",
                                    "ResourceProvider": "MICROSOFT.SQL",
                                    "Resource": "MASTER",
                                    "ResourceType": "SERVERS/DATABASES",
                                    "OperationName": "AuditEvent",
                                    "ResultType": "",
                                    "CorrelationId": "",
                                    "ResultDescription": "",
                                    "Tenant_g": "",
                                    "JobId_g": "",
                                    "RunbookName_s": "",
                                    "StreamType_s": "",
                                    "Caller_s": "",
                                    "requestUri_s": "",
                                    "Level": "",
                                    "DurationMs": null,
                                    "CallerIPAddress": "",
                                    "OperationVersion": "",
                                    "ResultSignature": "",
                                    "id_s": "",
                                    "status_s": "",
                                    "LogicalServerName_s": "jukoesmasqldb",
                                    "Message": "",
                                    "clientInfo_s": "",
                                    "httpStatusCode_d": null,
                                    "identity_claim_appid_g": "",
                                    "identity_claim_http_schemas_microsoft_com_identity_claims_objectidentifier_g": "",
                                    "userAgent_s": "",
                                    "ruleName_s": "",
                                    "identity_claim_http_schemas_xmlsoap_org_ws_2005_05_identity_claims_upn_s": "",
                                    "systemId_g": "",
                                    "isAccessPolicyMatch_b": null,
                                    "EventName_s": "",
                                    "httpMethod_s": "",
                                    "subnetId_s": "",
                                    "type_s": "",
                                    "instanceId_s": "",
                                    "macAddress_s": "",
                                    "vnetResourceGuid_g": "",
                                    "direction_s": "",
                                    "subnetPrefix_s": "",
                                    "primaryIPv4Address_s": "",
                                    "conditions_sourcePortRange_s": "",
                                    "priority_d": null,
                                    "conditions_destinationPortRange_s": "",
                                    "conditions_destinationIP_s": "",
                                    "conditions_None_s": "",
                                    "conditions_sourceIP_s": "",
                                    "httpVersion_s": "",
                                    "matchedConnections_d": null,
                                    "startTime_t": null,
                                    "endTime_t": null,
                                    "DatabaseName_s": "",
                                    "clientIP_s": "",
                                    "host_s": "",
                                    "requestQuery_s": "",
                                    "sslEnabled_s": "",
                                    "clientPort_d": null,
                                    "httpStatus_d": null,
                                    "receivedBytes_d": null,
                                    "sentBytes_d": null,
                                    "timeTaken_d": null,
                                    "resultDescription_ErrorJobs_s": "",
                                    "resultDescription_ChildJobs_s": "",
                                    "identity_claim_http_schemas_microsoft_com_identity_claims_scope_s": "",
                                    "workflowId_s": "",
                                    "resource_location_s": "",
                                    "resource_workflowId_g": "",
                                    "resource_resourceGroupName_s": "",
                                    "resource_subscriptionId_g": "",
                                    "resource_runId_s": "",
                                    "resource_workflowName_s": "",
                                    "_schema_s": "",
                                    "correlation_clientTrackingId_s": "",
                                    "properties_sku_Family_s": "",
                                    "properties_sku_Name_s": "",
                                    "properties_tenantId_g": "",
                                    "properties_enabledForDeployment_b": null,
                                    "code_s": "",
                                    "resultDescription_Summary_MachineId_s": "",
                                    "resultDescription_Summary_ScheduleName_s": "",
                                    "resultDescription_Summary_Status_s": "",
                                    "resultDescription_Summary_StatusDescription_s": "",
                                    "resultDescription_Summary_MachineName_s": "",
                                    "resultDescription_Summary_TotalUpdatesInstalled_d": null,
                                    "resultDescription_Summary_RebootRequired_b": null,
                                    "resultDescription_Summary_TotalUpdatesFailed_d": null,
                                    "resultDescription_Summary_InstallPercentage_d": null,
                                    "resultDescription_Summary_StartDateTimeUtc_t": null,
                                    "resource_triggerName_s": "",
                                    "resultDescription_Summary_InitialRequiredUpdatesCount_d": null,
                                    "properties_enabledForTemplateDeployment_b": null,
                                    "resultDescription_Summary_EndDateTimeUtc_s": "",
                                    "resultDescription_Summary_DurationInMinutes_s": "",
                                    "resource_originRunId_s": "",
                                    "properties_enabledForDiskEncryption_b": null,
                                    "resource_actionName_s": "",
                                    "correlation_actionTrackingId_g": "",
                                    "resultDescription_Summary_EndDateTimeUtc_t": null,
                                    "resultDescription_Summary_DurationInMinutes_d": null,
                                    "conditions_protocols_s": "",
                                    "identity_claim_ipaddr_s": "",
                                    "ElasticPoolName_s": "",
                                    "identity_claim_http_schemas_microsoft_com_claims_authnmethodsreferences_s": "",
                                    "RunOn_s": "",
                                    "query_hash_s": "",
                                    "SourceSystem": "Azure",
                                    "MG": "",
                                    "ManagementGroupName": "",
                                    "Computer": "",
                                    "RawData": "",
                                    "interval_start_time_d": null,
                                    "interval_end_time_d": null,
                                    "logical_io_writes_d": null,
                                    "max_logical_io_writes_d": null,
                                    "physical_io_reads_d": null,
                                    "max_physical_io_reads_d": null,
                                    "logical_io_reads_d": null,
                                    "max_logical_io_reads_d": null,
                                    "execution_type_d": null,
                                    "count_executions_d": null,
                                    "cpu_time_d": null,
                                    "max_cpu_time_d": null,
                                    "dop_d": null,
                                    "max_dop_d": null,
                                    "rowcount_d": null,
                                    "max_rowcount_d": null,
                                    "query_max_used_memory_d": null,
                                    "max_query_max_used_memory_d": null,
                                    "duration_d": null,
                                    "max_duration_d": null,
                                    "num_physical_io_reads_d": null,
                                    "max_num_physical_io_reads_d": null,
                                    "log_bytes_used_d": null,
                                    "max_log_bytes_used_d": null,
                                    "query_id_d": null,
                                    "plan_id_d": null,
                                    "statement_sql_handle_s": "",
                                    "error_state_d": null,
                                    "deadlock_xml_s": "",
                                    "query_plan_hash_s": "",
                                    "error_number_d": null,
                                    "Severity": null,
                                    "user_defined_b": null,
                                    "state_d": null,
                                    "package_s": "SecAudit",
                                    "event_s": "audit_event_shoebox",
                                    "sessionName_s": "audit_session_for_shoebox",
                                    "originalEventTimestamp_t": "2021-02-03T04:22:14.285Z",
                                    "audit_schema_version_d": 1,
                                    "event_time_t": "2021-02-03T04:22:13.337Z",
                                    "sequence_number_d": 1,
                                    "action_id_s": "BCM ",
                                    "action_name_s": "BATCH COMPLETED",
                                    "succeeded_s": "true",
                                    "is_column_permission_s": "false",
                                    "session_id_d": 99,
                                    "server_principal_id_d": 0,
                                    "database_principal_id_d": 1,
                                    "target_server_principal_id_d": 0,
                                    "target_database_principal_id_d": 0,
                                    "object_id_d": 5,
                                    "user_defined_event_id_d": 0,
                                    "transaction_id_d": 0,
                                    "class_type_s": "DB",
                                    "class_type_description_s": "DATABASE",
                                    "securable_class_type_s": "DATABASE",
                                    "duration_milliseconds_d": 0,
                                    "response_rows_d": 1,
                                    "affected_rows_d": 1,
                                    "client_ip_s": "131.107.174.142",
                                    "permission_bitmask_g": "00000000-0000-0000-0000-000000000000",
                                    "sequence_group_id_g": "82be3fad-8051-48c7-8827-f77c409862cf",
                                    "session_server_principal_name_s": "adslivesite",
                                    "server_principal_name_s": "adslivesite",
                                    "server_principal_sid_s": "01060000000001640000000000000000cef04990da142347be1357149f87e7c1",
                                    "database_principal_name_s": "dbo",
                                    "target_server_principal_name_s": "",
                                    "target_server_principal_sid_s": "",
                                    "target_database_principal_name_s": "",
                                    "server_instance_name_s": "jukoesmasqldb",
                                    "database_name_s": "AdventureWorks",
                                    "schema_name_s": "",
                                    "object_name_s": "AdventureWorks",
                                    "statement_s": "SELECT CONVERT(NVARCHAR(36), CONTEXT_INFO())",
                                    "additional_information_s": "",
                                    "user_defined_information_s": "",
                                    "application_name_s": "azdata-GeneralConnection",
                                    "connection_id_g": "b40baaea-b083-427f-ac02-6fd367e02a5f",
                                    "data_sensitivity_information_s": "",
                                    "host_name_s": "MSSQLGIRL-01",
                                    "session_context_s": "",
                                    "is_server_level_audit_s": "true",
                                    "event_id_g": "a8bc2dd8-7bb0-4a91-8097-1ecbdaf22f82",
                                    "AdditionalFields": "None",
                                    "Type": "AzureDiagnostics"
                                },
                                {
                                    "TimeGenerated": "2021-02-03T04:22:14.290Z",
                                    "Category": "SQLSecurityAuditEvents",
                                    "ResourceProvider": "MICROSOFT.SQL",
                                    "Resource": "MASTER",
                                    "ResourceType": "SERVERS/DATABASES",
                                    "OperationName": "AuditEvent",
                                    "ResultType": "",
                                    "CorrelationId": "",
                                    "ResultDescription": "",
                                    "Tenant_g": "",
                                    "JobId_g": "",
                                    "RunbookName_s": "",
                                    "StreamType_s": "",
                                    "Caller_s": "",
                                    "requestUri_s": "",
                                    "Level": "",
                                    "DurationMs": null,
                                    "CallerIPAddress": "",
                                    "OperationVersion": "",
                                    "ResultSignature": "",
                                    "id_s": "",
                                    "status_s": "",
                                    "LogicalServerName_s": "jukoesmasqldb",
                                    "Message": "",
                                    "clientInfo_s": "",
                                    "httpStatusCode_d": null,
                                    "identity_claim_appid_g": "",
                                    "identity_claim_http_schemas_microsoft_com_identity_claims_objectidentifier_g": "",
                                    "userAgent_s": "",
                                    "ruleName_s": "",
                                    "identity_claim_http_schemas_xmlsoap_org_ws_2005_05_identity_claims_upn_s": "",
                                    "systemId_g": "",
                                    "isAccessPolicyMatch_b": null,
                                    "EventName_s": "",
                                    "httpMethod_s": "",
                                    "subnetId_s": "",
                                    "type_s": "",
                                    "instanceId_s": "",
                                    "macAddress_s": "",
                                    "vnetResourceGuid_g": "",
                                    "direction_s": "",
                                    "subnetPrefix_s": "",
                                    "primaryIPv4Address_s": "",
                                    "conditions_sourcePortRange_s": "",
                                    "priority_d": null,
                                    "conditions_destinationPortRange_s": "",
                                    "conditions_destinationIP_s": "",
                                    "conditions_None_s": "",
                                    "conditions_sourceIP_s": "",
                                    "httpVersion_s": "",
                                    "matchedConnections_d": null,
                                    "startTime_t": null,
                                    "endTime_t": null,
                                    "DatabaseName_s": "",
                                    "clientIP_s": "",
                                    "host_s": "",
                                    "requestQuery_s": "",
                                    "sslEnabled_s": "",
                                    "clientPort_d": null,
                                    "httpStatus_d": null,
                                    "receivedBytes_d": null,
                                    "sentBytes_d": null,
                                    "timeTaken_d": null,
                                    "resultDescription_ErrorJobs_s": "",
                                    "resultDescription_ChildJobs_s": "",
                                    "identity_claim_http_schemas_microsoft_com_identity_claims_scope_s": "",
                                    "workflowId_s": "",
                                    "resource_location_s": "",
                                    "resource_workflowId_g": "",
                                    "resource_resourceGroupName_s": "",
                                    "resource_subscriptionId_g": "",
                                    "resource_runId_s": "",
                                    "resource_workflowName_s": "",
                                    "_schema_s": "",
                                    "correlation_clientTrackingId_s": "",
                                    "properties_sku_Family_s": "",
                                    "properties_sku_Name_s": "",
                                    "properties_tenantId_g": "",
                                    "properties_enabledForDeployment_b": null,
                                    "code_s": "",
                                    "resultDescription_Summary_MachineId_s": "",
                                    "resultDescription_Summary_ScheduleName_s": "",
                                    "resultDescription_Summary_Status_s": "",
                                    "resultDescription_Summary_StatusDescription_s": "",
                                    "resultDescription_Summary_MachineName_s": "",
                                    "resultDescription_Summary_TotalUpdatesInstalled_d": null,
                                    "resultDescription_Summary_RebootRequired_b": null,
                                    "resultDescription_Summary_TotalUpdatesFailed_d": null,
                                    "resultDescription_Summary_InstallPercentage_d": null,
                                    "resultDescription_Summary_StartDateTimeUtc_t": null,
                                    "resource_triggerName_s": "",
                                    "resultDescription_Summary_InitialRequiredUpdatesCount_d": null,
                                    "properties_enabledForTemplateDeployment_b": null,
                                    "resultDescription_Summary_EndDateTimeUtc_s": "",
                                    "resultDescription_Summary_DurationInMinutes_s": "",
                                    "resource_originRunId_s": "",
                                    "properties_enabledForDiskEncryption_b": null,
                                    "resource_actionName_s": "",
                                    "correlation_actionTrackingId_g": "",
                                    "resultDescription_Summary_EndDateTimeUtc_t": null,
                                    "resultDescription_Summary_DurationInMinutes_d": null,
                                    "conditions_protocols_s": "",
                                    "identity_claim_ipaddr_s": "",
                                    "ElasticPoolName_s": "",
                                    "identity_claim_http_schemas_microsoft_com_claims_authnmethodsreferences_s": "",
                                    "RunOn_s": "",
                                    "query_hash_s": "",
                                    "SourceSystem": "Azure",
                                    "MG": "",
                                    "ManagementGroupName": "",
                                    "Computer": "",
                                    "RawData": "",
                                    "interval_start_time_d": null,
                                    "interval_end_time_d": null,
                                    "logical_io_writes_d": null,
                                    "max_logical_io_writes_d": null,
                                    "physical_io_reads_d": null,
                                    "max_physical_io_reads_d": null,
                                    "logical_io_reads_d": null,
                                    "max_logical_io_reads_d": null,
                                    "execution_type_d": null,
                                    "count_executions_d": null,
                                    "cpu_time_d": null,
                                    "max_cpu_time_d": null,
                                    "dop_d": null,
                                    "max_dop_d": null,
                                    "rowcount_d": null,
                                    "max_rowcount_d": null,
                                    "query_max_used_memory_d": null,
                                    "max_query_max_used_memory_d": null,
                                    "duration_d": null,
                                    "max_duration_d": null,
                                    "num_physical_io_reads_d": null,
                                    "max_num_physical_io_reads_d": null,
                                    "log_bytes_used_d": null,
                                    "max_log_bytes_used_d": null,
                                    "query_id_d": null,
                                    "plan_id_d": null,
                                    "statement_sql_handle_s": "",
                                    "error_state_d": null,
                                    "deadlock_xml_s": "",
                                    "query_plan_hash_s": "",
                                    "error_number_d": null,
                                    "Severity": null,
                                    "user_defined_b": null,
                                    "state_d": null,
                                    "package_s": "SecAudit",
                                    "event_s": "audit_event_shoebox",
                                    "sessionName_s": "audit_session_for_shoebox",
                                    "originalEventTimestamp_t": "2021-02-03T04:22:14.285Z",
                                    "audit_schema_version_d": 1,
                                    "event_time_t": "2021-02-03T04:22:13.352Z",
                                    "sequence_number_d": 1,
                                    "action_id_s": "BCM ",
                                    "action_name_s": "BATCH COMPLETED",
                                    "succeeded_s": "true",
                                    "is_column_permission_s": "false",
                                    "session_id_d": 99,
                                    "server_principal_id_d": 0,
                                    "database_principal_id_d": 1,
                                    "target_server_principal_id_d": 0,
                                    "target_database_principal_id_d": 0,
                                    "object_id_d": 5,
                                    "user_defined_event_id_d": 0,
                                    "transaction_id_d": 0,
                                    "class_type_s": "DB",
                                    "class_type_description_s": "DATABASE",
                                    "securable_class_type_s": "DATABASE",
                                    "duration_milliseconds_d": 0,
                                    "response_rows_d": 1,
                                    "affected_rows_d": 1,
                                    "client_ip_s": "131.107.174.142",
                                    "permission_bitmask_g": "00000000-0000-0000-0000-000000000000",
                                    "sequence_group_id_g": "95fac0fa-208b-4192-b50a-6f57017251c4",
                                    "session_server_principal_name_s": "adslivesite",
                                    "server_principal_name_s": "adslivesite",
                                    "server_principal_sid_s": "01060000000001640000000000000000cef04990da142347be1357149f87e7c1",
                                    "database_principal_name_s": "dbo",
                                    "target_server_principal_name_s": "",
                                    "target_server_principal_sid_s": "",
                                    "target_database_principal_name_s": "",
                                    "server_instance_name_s": "jukoesmasqldb",
                                    "database_name_s": "AdventureWorks",
                                    "schema_name_s": "",
                                    "object_name_s": "AdventureWorks",
                                    "statement_s": "SELECT ISNULL(SESSIONPROPERTY ('ANSI_NULLS'), 0), ISNULL(SESSIONPROPERTY ('QUOTED_IDENTIFIER'), 1)",
                                    "additional_information_s": "",
                                    "user_defined_information_s": "",
                                    "application_name_s": "azdata-GeneralConnection",
                                    "connection_id_g": "b40baaea-b083-427f-ac02-6fd367e02a5f",
                                    "data_sensitivity_information_s": "",
                                    "host_name_s": "MSSQLGIRL-01",
                                    "session_context_s": "",
                                    "is_server_level_audit_s": "true",
                                    "event_id_g": "362067bc-d00d-4ad0-8c9b-851b85644e9e",
                                    "AdditionalFields": "None",
                                    "Type": "AzureDiagnostics"
                                },
                                {
                                    "TimeGenerated": "2021-02-03T04:22:14.290Z",
                                    "Category": "SQLSecurityAuditEvents",
                                    "ResourceProvider": "MICROSOFT.SQL",
                                    "Resource": "MASTER",
                                    "ResourceType": "SERVERS/DATABASES",
                                    "OperationName": "AuditEvent",
                                    "ResultType": "",
                                    "CorrelationId": "",
                                    "ResultDescription": "",
                                    "Tenant_g": "",
                                    "JobId_g": "",
                                    "RunbookName_s": "",
                                    "StreamType_s": "",
                                    "Caller_s": "",
                                    "requestUri_s": "",
                                    "Level": "",
                                    "DurationMs": null,
                                    "CallerIPAddress": "",
                                    "OperationVersion": "",
                                    "ResultSignature": "",
                                    "id_s": "",
                                    "status_s": "",
                                    "LogicalServerName_s": "jukoesmasqldb",
                                    "Message": "",
                                    "clientInfo_s": "",
                                    "httpStatusCode_d": null,
                                    "identity_claim_appid_g": "",
                                    "identity_claim_http_schemas_microsoft_com_identity_claims_objectidentifier_g": "",
                                    "userAgent_s": "",
                                    "ruleName_s": "",
                                    "identity_claim_http_schemas_xmlsoap_org_ws_2005_05_identity_claims_upn_s": "",
                                    "systemId_g": "",
                                    "isAccessPolicyMatch_b": null,
                                    "EventName_s": "",
                                    "httpMethod_s": "",
                                    "subnetId_s": "",
                                    "type_s": "",
                                    "instanceId_s": "",
                                    "macAddress_s": "",
                                    "vnetResourceGuid_g": "",
                                    "direction_s": "",
                                    "subnetPrefix_s": "",
                                    "primaryIPv4Address_s": "",
                                    "conditions_sourcePortRange_s": "",
                                    "priority_d": null,
                                    "conditions_destinationPortRange_s": "",
                                    "conditions_destinationIP_s": "",
                                    "conditions_None_s": "",
                                    "conditions_sourceIP_s": "",
                                    "httpVersion_s": "",
                                    "matchedConnections_d": null,
                                    "startTime_t": null,
                                    "endTime_t": null,
                                    "DatabaseName_s": "",
                                    "clientIP_s": "",
                                    "host_s": "",
                                    "requestQuery_s": "",
                                    "sslEnabled_s": "",
                                    "clientPort_d": null,
                                    "httpStatus_d": null,
                                    "receivedBytes_d": null,
                                    "sentBytes_d": null,
                                    "timeTaken_d": null,
                                    "resultDescription_ErrorJobs_s": "",
                                    "resultDescription_ChildJobs_s": "",
                                    "identity_claim_http_schemas_microsoft_com_identity_claims_scope_s": "",
                                    "workflowId_s": "",
                                    "resource_location_s": "",
                                    "resource_workflowId_g": "",
                                    "resource_resourceGroupName_s": "",
                                    "resource_subscriptionId_g": "",
                                    "resource_runId_s": "",
                                    "resource_workflowName_s": "",
                                    "_schema_s": "",
                                    "correlation_clientTrackingId_s": "",
                                    "properties_sku_Family_s": "",
                                    "properties_sku_Name_s": "",
                                    "properties_tenantId_g": "",
                                    "properties_enabledForDeployment_b": null,
                                    "code_s": "",
                                    "resultDescription_Summary_MachineId_s": "",
                                    "resultDescription_Summary_ScheduleName_s": "",
                                    "resultDescription_Summary_Status_s": "",
                                    "resultDescription_Summary_StatusDescription_s": "",
                                    "resultDescription_Summary_MachineName_s": "",
                                    "resultDescription_Summary_TotalUpdatesInstalled_d": null,
                                    "resultDescription_Summary_RebootRequired_b": null,
                                    "resultDescription_Summary_TotalUpdatesFailed_d": null,
                                    "resultDescription_Summary_InstallPercentage_d": null,
                                    "resultDescription_Summary_StartDateTimeUtc_t": null,
                                    "resource_triggerName_s": "",
                                    "resultDescription_Summary_InitialRequiredUpdatesCount_d": null,
                                    "properties_enabledForTemplateDeployment_b": null,
                                    "resultDescription_Summary_EndDateTimeUtc_s": "",
                                    "resultDescription_Summary_DurationInMinutes_s": "",
                                    "resource_originRunId_s": "",
                                    "properties_enabledForDiskEncryption_b": null,
                                    "resource_actionName_s": "",
                                    "correlation_actionTrackingId_g": "",
                                    "resultDescription_Summary_EndDateTimeUtc_t": null,
                                    "resultDescription_Summary_DurationInMinutes_d": null,
                                    "conditions_protocols_s": "",
                                    "identity_claim_ipaddr_s": "",
                                    "ElasticPoolName_s": "",
                                    "identity_claim_http_schemas_microsoft_com_claims_authnmethodsreferences_s": "",
                                    "RunOn_s": "",
                                    "query_hash_s": "",
                                    "SourceSystem": "Azure",
                                    "MG": "",
                                    "ManagementGroupName": "",
                                    "Computer": "",
                                    "RawData": "",
                                    "interval_start_time_d": null,
                                    "interval_end_time_d": null,
                                    "logical_io_writes_d": null,
                                    "max_logical_io_writes_d": null,
                                    "physical_io_reads_d": null,
                                    "max_physical_io_reads_d": null,
                                    "logical_io_reads_d": null,
                                    "max_logical_io_reads_d": null,
                                    "execution_type_d": null,
                                    "count_executions_d": null,
                                    "cpu_time_d": null,
                                    "max_cpu_time_d": null,
                                    "dop_d": null,
                                    "max_dop_d": null,
                                    "rowcount_d": null,
                                    "max_rowcount_d": null,
                                    "query_max_used_memory_d": null,
                                    "max_query_max_used_memory_d": null,
                                    "duration_d": null,
                                    "max_duration_d": null,
                                    "num_physical_io_reads_d": null,
                                    "max_num_physical_io_reads_d": null,
                                    "log_bytes_used_d": null,
                                    "max_log_bytes_used_d": null,
                                    "query_id_d": null,
                                    "plan_id_d": null,
                                    "statement_sql_handle_s": "",
                                    "error_state_d": null,
                                    "deadlock_xml_s": "",
                                    "query_plan_hash_s": "",
                                    "error_number_d": null,
                                    "Severity": null,
                                    "user_defined_b": null,
                                    "state_d": null,
                                    "package_s": "SecAudit",
                                    "event_s": "audit_event_shoebox",
                                    "sessionName_s": "audit_session_for_shoebox",
                                    "originalEventTimestamp_t": "2021-02-03T04:22:14.285Z",
                                    "audit_schema_version_d": 1,
                                    "event_time_t": "2021-02-03T04:22:13.384Z",
                                    "sequence_number_d": 1,
                                    "action_id_s": "BCM ",
                                    "action_name_s": "BATCH COMPLETED",
                                    "succeeded_s": "true",
                                    "is_column_permission_s": "false",
                                    "session_id_d": 99,
                                    "server_principal_id_d": 0,
                                    "database_principal_id_d": 1,
                                    "target_server_principal_id_d": 0,
                                    "target_database_principal_id_d": 0,
                                    "object_id_d": 5,
                                    "user_defined_event_id_d": 0,
                                    "transaction_id_d": 0,
                                    "class_type_s": "DB",
                                    "class_type_description_s": "DATABASE",
                                    "securable_class_type_s": "DATABASE",
                                    "duration_milliseconds_d": 0,
                                    "response_rows_d": 1,
                                    "affected_rows_d": 1,
                                    "client_ip_s": "131.107.174.142",
                                    "permission_bitmask_g": "00000000-0000-0000-0000-000000000000",
                                    "sequence_group_id_g": "e1340822-f73f-47dc-be3e-7217a80fc204",
                                    "session_server_principal_name_s": "adslivesite",
                                    "server_principal_name_s": "adslivesite",
                                    "server_principal_sid_s": "01060000000001640000000000000000cef04990da142347be1357149f87e7c1",
                                    "database_principal_name_s": "dbo",
                                    "target_server_principal_name_s": "",
                                    "target_server_principal_sid_s": "",
                                    "target_database_principal_name_s": "",
                                    "server_instance_name_s": "jukoesmasqldb",
                                    "database_name_s": "AdventureWorks",
                                    "schema_name_s": "",
                                    "object_name_s": "AdventureWorks",
                                    "statement_s": "SELECT CONVERT(NVARCHAR(36), CONTEXT_INFO())",
                                    "additional_information_s": "",
                                    "user_defined_information_s": "",
                                    "application_name_s": "azdata-GeneralConnection",
                                    "connection_id_g": "b40baaea-b083-427f-ac02-6fd367e02a5f",
                                    "data_sensitivity_information_s": "",
                                    "host_name_s": "MSSQLGIRL-01",
                                    "session_context_s": "",
                                    "is_server_level_audit_s": "true",
                                    "event_id_g": "a9dc4216-43c8-4d07-ace7-c0c4782594a5",
                                    "AdditionalFields": "None",
                                    "Type": "AzureDiagnostics"
                                },
                                {
                                    "TimeGenerated": "2021-02-03T04:22:14.290Z",
                                    "Category": "SQLSecurityAuditEvents",
                                    "ResourceProvider": "MICROSOFT.SQL",
                                    "Resource": "MASTER",
                                    "ResourceType": "SERVERS/DATABASES",
                                    "OperationName": "AuditEvent",
                                    "ResultType": "",
                                    "CorrelationId": "",
                                    "ResultDescription": "",
                                    "Tenant_g": "",
                                    "JobId_g": "",
                                    "RunbookName_s": "",
                                    "StreamType_s": "",
                                    "Caller_s": "",
                                    "requestUri_s": "",
                                    "Level": "",
                                    "DurationMs": null,
                                    "CallerIPAddress": "",
                                    "OperationVersion": "",
                                    "ResultSignature": "",
                                    "id_s": "",
                                    "status_s": "",
                                    "LogicalServerName_s": "jukoesmasqldb",
                                    "Message": "",
                                    "clientInfo_s": "",
                                    "httpStatusCode_d": null,
                                    "identity_claim_appid_g": "",
                                    "identity_claim_http_schemas_microsoft_com_identity_claims_objectidentifier_g": "",
                                    "userAgent_s": "",
                                    "ruleName_s": "",
                                    "identity_claim_http_schemas_xmlsoap_org_ws_2005_05_identity_claims_upn_s": "",
                                    "systemId_g": "",
                                    "isAccessPolicyMatch_b": null,
                                    "EventName_s": "",
                                    "httpMethod_s": "",
                                    "subnetId_s": "",
                                    "type_s": "",
                                    "instanceId_s": "",
                                    "macAddress_s": "",
                                    "vnetResourceGuid_g": "",
                                    "direction_s": "",
                                    "subnetPrefix_s": "",
                                    "primaryIPv4Address_s": "",
                                    "conditions_sourcePortRange_s": "",
                                    "priority_d": null,
                                    "conditions_destinationPortRange_s": "",
                                    "conditions_destinationIP_s": "",
                                    "conditions_None_s": "",
                                    "conditions_sourceIP_s": "",
                                    "httpVersion_s": "",
                                    "matchedConnections_d": null,
                                    "startTime_t": null,
                                    "endTime_t": null,
                                    "DatabaseName_s": "",
                                    "clientIP_s": "",
                                    "host_s": "",
                                    "requestQuery_s": "",
                                    "sslEnabled_s": "",
                                    "clientPort_d": null,
                                    "httpStatus_d": null,
                                    "receivedBytes_d": null,
                                    "sentBytes_d": null,
                                    "timeTaken_d": null,
                                    "resultDescription_ErrorJobs_s": "",
                                    "resultDescription_ChildJobs_s": "",
                                    "identity_claim_http_schemas_microsoft_com_identity_claims_scope_s": "",
                                    "workflowId_s": "",
                                    "resource_location_s": "",
                                    "resource_workflowId_g": "",
                                    "resource_resourceGroupName_s": "",
                                    "resource_subscriptionId_g": "",
                                    "resource_runId_s": "",
                                    "resource_workflowName_s": "",
                                    "_schema_s": "",
                                    "correlation_clientTrackingId_s": "",
                                    "properties_sku_Family_s": "",
                                    "properties_sku_Name_s": "",
                                    "properties_tenantId_g": "",
                                    "properties_enabledForDeployment_b": null,
                                    "code_s": "",
                                    "resultDescription_Summary_MachineId_s": "",
                                    "resultDescription_Summary_ScheduleName_s": "",
                                    "resultDescription_Summary_Status_s": "",
                                    "resultDescription_Summary_StatusDescription_s": "",
                                    "resultDescription_Summary_MachineName_s": "",
                                    "resultDescription_Summary_TotalUpdatesInstalled_d": null,
                                    "resultDescription_Summary_RebootRequired_b": null,
                                    "resultDescription_Summary_TotalUpdatesFailed_d": null,
                                    "resultDescription_Summary_InstallPercentage_d": null,
                                    "resultDescription_Summary_StartDateTimeUtc_t": null,
                                    "resource_triggerName_s": "",
                                    "resultDescription_Summary_InitialRequiredUpdatesCount_d": null,
                                    "properties_enabledForTemplateDeployment_b": null,
                                    "resultDescription_Summary_EndDateTimeUtc_s": "",
                                    "resultDescription_Summary_DurationInMinutes_s": "",
                                    "resource_originRunId_s": "",
                                    "properties_enabledForDiskEncryption_b": null,
                                    "resource_actionName_s": "",
                                    "correlation_actionTrackingId_g": "",
                                    "resultDescription_Summary_EndDateTimeUtc_t": null,
                                    "resultDescription_Summary_DurationInMinutes_d": null,
                                    "conditions_protocols_s": "",
                                    "identity_claim_ipaddr_s": "",
                                    "ElasticPoolName_s": "",
                                    "identity_claim_http_schemas_microsoft_com_claims_authnmethodsreferences_s": "",
                                    "RunOn_s": "",
                                    "query_hash_s": "",
                                    "SourceSystem": "Azure",
                                    "MG": "",
                                    "ManagementGroupName": "",
                                    "Computer": "",
                                    "RawData": "",
                                    "interval_start_time_d": null,
                                    "interval_end_time_d": null,
                                    "logical_io_writes_d": null,
                                    "max_logical_io_writes_d": null,
                                    "physical_io_reads_d": null,
                                    "max_physical_io_reads_d": null,
                                    "logical_io_reads_d": null,
                                    "max_logical_io_reads_d": null,
                                    "execution_type_d": null,
                                    "count_executions_d": null,
                                    "cpu_time_d": null,
                                    "max_cpu_time_d": null,
                                    "dop_d": null,
                                    "max_dop_d": null,
                                    "rowcount_d": null,
                                    "max_rowcount_d": null,
                                    "query_max_used_memory_d": null,
                                    "max_query_max_used_memory_d": null,
                                    "duration_d": null,
                                    "max_duration_d": null,
                                    "num_physical_io_reads_d": null,
                                    "max_num_physical_io_reads_d": null,
                                    "log_bytes_used_d": null,
                                    "max_log_bytes_used_d": null,
                                    "query_id_d": null,
                                    "plan_id_d": null,
                                    "statement_sql_handle_s": "",
                                    "error_state_d": null,
                                    "deadlock_xml_s": "",
                                    "query_plan_hash_s": "",
                                    "error_number_d": null,
                                    "Severity": null,
                                    "user_defined_b": null,
                                    "state_d": null,
                                    "package_s": "SecAudit",
                                    "event_s": "audit_event_shoebox",
                                    "sessionName_s": "audit_session_for_shoebox",
                                    "originalEventTimestamp_t": "2021-02-03T04:22:14.285Z",
                                    "audit_schema_version_d": 1,
                                    "event_time_t": "2021-02-03T04:22:13.399Z",
                                    "sequence_number_d": 1,
                                    "action_id_s": "BCM ",
                                    "action_name_s": "BATCH COMPLETED",
                                    "succeeded_s": "true",
                                    "is_column_permission_s": "false",
                                    "session_id_d": 99,
                                    "server_principal_id_d": 0,
                                    "database_principal_id_d": 1,
                                    "target_server_principal_id_d": 0,
                                    "target_database_principal_id_d": 0,
                                    "object_id_d": 5,
                                    "user_defined_event_id_d": 0,
                                    "transaction_id_d": 0,
                                    "class_type_s": "DB",
                                    "class_type_description_s": "DATABASE",
                                    "securable_class_type_s": "DATABASE",
                                    "duration_milliseconds_d": 0,
                                    "response_rows_d": 0,
                                    "affected_rows_d": 0,
                                    "client_ip_s": "131.107.174.142",
                                    "permission_bitmask_g": "00000000-0000-0000-0000-000000000000",
                                    "sequence_group_id_g": "54ed3e99-a9af-43c9-80c0-a1d8c08858c8",
                                    "session_server_principal_name_s": "adslivesite",
                                    "server_principal_name_s": "adslivesite",
                                    "server_principal_sid_s": "01060000000001640000000000000000cef04990da142347be1357149f87e7c1",
                                    "database_principal_name_s": "dbo",
                                    "target_server_principal_name_s": "",
                                    "target_server_principal_sid_s": "",
                                    "target_database_principal_name_s": "",
                                    "server_instance_name_s": "jukoesmasqldb",
                                    "database_name_s": "AdventureWorks",
                                    "schema_name_s": "",
                                    "object_name_s": "AdventureWorks",
                                    "statement_s": "set LOCK_TIMEOUT 5000",
                                    "additional_information_s": "",
                                    "user_defined_information_s": "",
                                    "application_name_s": "azdata-GeneralConnection",
                                    "connection_id_g": "b40baaea-b083-427f-ac02-6fd367e02a5f",
                                    "data_sensitivity_information_s": "",
                                    "host_name_s": "MSSQLGIRL-01",
                                    "session_context_s": "",
                                    "is_server_level_audit_s": "true",
                                    "event_id_g": "7c0a1b81-e9e3-4a0f-962d-7b76860f1f6c",
                                    "AdditionalFields": "None",
                                    "Type": "AzureDiagnostics"
                                },
                                {
                                    "TimeGenerated": "2021-02-03T04:22:14.290Z",
                                    "Category": "SQLSecurityAuditEvents",
                                    "ResourceProvider": "MICROSOFT.SQL",
                                    "Resource": "MASTER",
                                    "ResourceType": "SERVERS/DATABASES",
                                    "OperationName": "AuditEvent",
                                    "ResultType": "",
                                    "CorrelationId": "",
                                    "ResultDescription": "",
                                    "Tenant_g": "",
                                    "JobId_g": "",
                                    "RunbookName_s": "",
                                    "StreamType_s": "",
                                    "Caller_s": "",
                                    "requestUri_s": "",
                                    "Level": "",
                                    "DurationMs": null,
                                    "CallerIPAddress": "",
                                    "OperationVersion": "",
                                    "ResultSignature": "",
                                    "id_s": "",
                                    "status_s": "",
                                    "LogicalServerName_s": "jukoesmasqldb",
                                    "Message": "",
                                    "clientInfo_s": "",
                                    "httpStatusCode_d": null,
                                    "identity_claim_appid_g": "",
                                    "identity_claim_http_schemas_microsoft_com_identity_claims_objectidentifier_g": "",
                                    "userAgent_s": "",
                                    "ruleName_s": "",
                                    "identity_claim_http_schemas_xmlsoap_org_ws_2005_05_identity_claims_upn_s": "",
                                    "systemId_g": "",
                                    "isAccessPolicyMatch_b": null,
                                    "EventName_s": "",
                                    "httpMethod_s": "",
                                    "subnetId_s": "",
                                    "type_s": "",
                                    "instanceId_s": "",
                                    "macAddress_s": "",
                                    "vnetResourceGuid_g": "",
                                    "direction_s": "",
                                    "subnetPrefix_s": "",
                                    "primaryIPv4Address_s": "",
                                    "conditions_sourcePortRange_s": "",
                                    "priority_d": null,
                                    "conditions_destinationPortRange_s": "",
                                    "conditions_destinationIP_s": "",
                                    "conditions_None_s": "",
                                    "conditions_sourceIP_s": "",
                                    "httpVersion_s": "",
                                    "matchedConnections_d": null,
                                    "startTime_t": null,
                                    "endTime_t": null,
                                    "DatabaseName_s": "",
                                    "clientIP_s": "",
                                    "host_s": "",
                                    "requestQuery_s": "",
                                    "sslEnabled_s": "",
                                    "clientPort_d": null,
                                    "httpStatus_d": null,
                                    "receivedBytes_d": null,
                                    "sentBytes_d": null,
                                    "timeTaken_d": null,
                                    "resultDescription_ErrorJobs_s": "",
                                    "resultDescription_ChildJobs_s": "",
                                    "identity_claim_http_schemas_microsoft_com_identity_claims_scope_s": "",
                                    "workflowId_s": "",
                                    "resource_location_s": "",
                                    "resource_workflowId_g": "",
                                    "resource_resourceGroupName_s": "",
                                    "resource_subscriptionId_g": "",
                                    "resource_runId_s": "",
                                    "resource_workflowName_s": "",
                                    "_schema_s": "",
                                    "correlation_clientTrackingId_s": "",
                                    "properties_sku_Family_s": "",
                                    "properties_sku_Name_s": "",
                                    "properties_tenantId_g": "",
                                    "properties_enabledForDeployment_b": null,
                                    "code_s": "",
                                    "resultDescription_Summary_MachineId_s": "",
                                    "resultDescription_Summary_ScheduleName_s": "",
                                    "resultDescription_Summary_Status_s": "",
                                    "resultDescription_Summary_StatusDescription_s": "",
                                    "resultDescription_Summary_MachineName_s": "",
                                    "resultDescription_Summary_TotalUpdatesInstalled_d": null,
                                    "resultDescription_Summary_RebootRequired_b": null,
                                    "resultDescription_Summary_TotalUpdatesFailed_d": null,
                                    "resultDescription_Summary_InstallPercentage_d": null,
                                    "resultDescription_Summary_StartDateTimeUtc_t": null,
                                    "resource_triggerName_s": "",
                                    "resultDescription_Summary_InitialRequiredUpdatesCount_d": null,
                                    "properties_enabledForTemplateDeployment_b": null,
                                    "resultDescription_Summary_EndDateTimeUtc_s": "",
                                    "resultDescription_Summary_DurationInMinutes_s": "",
                                    "resource_originRunId_s": "",
                                    "properties_enabledForDiskEncryption_b": null,
                                    "resource_actionName_s": "",
                                    "correlation_actionTrackingId_g": "",
                                    "resultDescription_Summary_EndDateTimeUtc_t": null,
                                    "resultDescription_Summary_DurationInMinutes_d": null,
                                    "conditions_protocols_s": "",
                                    "identity_claim_ipaddr_s": "",
                                    "ElasticPoolName_s": "",
                                    "identity_claim_http_schemas_microsoft_com_claims_authnmethodsreferences_s": "",
                                    "RunOn_s": "",
                                    "query_hash_s": "",
                                    "SourceSystem": "Azure",
                                    "MG": "",
                                    "ManagementGroupName": "",
                                    "Computer": "",
                                    "RawData": "",
                                    "interval_start_time_d": null,
                                    "interval_end_time_d": null,
                                    "logical_io_writes_d": null,
                                    "max_logical_io_writes_d": null,
                                    "physical_io_reads_d": null,
                                    "max_physical_io_reads_d": null,
                                    "logical_io_reads_d": null,
                                    "max_logical_io_reads_d": null,
                                    "execution_type_d": null,
                                    "count_executions_d": null,
                                    "cpu_time_d": null,
                                    "max_cpu_time_d": null,
                                    "dop_d": null,
                                    "max_dop_d": null,
                                    "rowcount_d": null,
                                    "max_rowcount_d": null,
                                    "query_max_used_memory_d": null,
                                    "max_query_max_used_memory_d": null,
                                    "duration_d": null,
                                    "max_duration_d": null,
                                    "num_physical_io_reads_d": null,
                                    "max_num_physical_io_reads_d": null,
                                    "log_bytes_used_d": null,
                                    "max_log_bytes_used_d": null,
                                    "query_id_d": null,
                                    "plan_id_d": null,
                                    "statement_sql_handle_s": "",
                                    "error_state_d": null,
                                    "deadlock_xml_s": "",
                                    "query_plan_hash_s": "",
                                    "error_number_d": null,
                                    "Severity": null,
                                    "user_defined_b": null,
                                    "state_d": null,
                                    "package_s": "SecAudit",
                                    "event_s": "audit_event_shoebox",
                                    "sessionName_s": "audit_session_for_shoebox",
                                    "originalEventTimestamp_t": "2021-02-03T04:22:14.285Z",
                                    "audit_schema_version_d": 1,
                                    "event_time_t": "2021-02-03T04:22:13.430Z",
                                    "sequence_number_d": 1,
                                    "action_id_s": "BCM ",
                                    "action_name_s": "BATCH COMPLETED",
                                    "succeeded_s": "true",
                                    "is_column_permission_s": "false",
                                    "session_id_d": 99,
                                    "server_principal_id_d": 0,
                                    "database_principal_id_d": 1,
                                    "target_server_principal_id_d": 0,
                                    "target_database_principal_id_d": 0,
                                    "object_id_d": 5,
                                    "user_defined_event_id_d": 0,
                                    "transaction_id_d": 0,
                                    "class_type_s": "DB",
                                    "class_type_description_s": "DATABASE",
                                    "securable_class_type_s": "DATABASE",
                                    "duration_milliseconds_d": 0,
                                    "response_rows_d": 0,
                                    "affected_rows_d": 0,
                                    "client_ip_s": "131.107.174.142",
                                    "permission_bitmask_g": "00000000-0000-0000-0000-000000000000",
                                    "sequence_group_id_g": "cc15a3f9-017a-4384-b195-87bdc2d53378",
                                    "session_server_principal_name_s": "adslivesite",
                                    "server_principal_name_s": "adslivesite",
                                    "server_principal_sid_s": "01060000000001640000000000000000cef04990da142347be1357149f87e7c1",
                                    "database_principal_name_s": "dbo",
                                    "target_server_principal_name_s": "",
                                    "target_server_principal_sid_s": "",
                                    "target_database_principal_name_s": "",
                                    "server_instance_name_s": "jukoesmasqldb",
                                    "database_name_s": "AdventureWorks",
                                    "schema_name_s": "",
                                    "object_name_s": "AdventureWorks",
                                    "statement_s": "SET ANSI_NULLS, ANSI_PADDING, ANSI_WARNINGS, ARITHABORT, CONCAT_NULL_YIELDS_NULL, QUOTED_IDENTIFIER ON;\r\nSET NUMERIC_ROUNDABORT OFF;",
                                    "additional_information_s": "",
                                    "user_defined_information_s": "",
                                    "application_name_s": "azdata-GeneralConnection",
                                    "connection_id_g": "b40baaea-b083-427f-ac02-6fd367e02a5f",
                                    "data_sensitivity_information_s": "",
                                    "host_name_s": "MSSQLGIRL-01",
                                    "session_context_s": "",
                                    "is_server_level_audit_s": "true",
                                    "event_id_g": "fa4f9388-c09e-44cd-9ee4-4ca7fd4f7941",
                                    "AdditionalFields": "None",
                                    "Type": "AzureDiagnostics"
                                }
                            ]
                        }
                    },
                    "metadata": {}
                },
                {
                    "output_type": "display_data",
                    "data": {
                        "text/plain": "<IPython.core.display.HTML object>",
                        "text/html": "<html>\n        <head>\n            \n            \n        </head>\n        <body>\n            <div><p style='padding: 10px; color: #3a87ad; background-color: #d9edf7; border-color: #bce9f1'>Done&nbsp;(00:00.384):&nbsp;10&nbsp;records</p></div>\n        </body>\n        </html>"
                    },
                    "metadata": {}
                },
                {
                    "output_type": "execute_result",
                    "execution_count": 22,
                    "data": {
                        "text/plain": "[{'TimeGenerated': datetime.datetime(2021, 2, 3, 4, 22, 13, 290000, tzinfo=tzutc()), 'Category': 'SQLSecurityAuditEvents', 'ResourceProvider': 'MICROSOFT.SQL', 'Resource': 'MASTER', 'ResourceType': 'SERVERS/DATABASES', 'OperationName': 'AuditEvent', 'ResultType': '', 'CorrelationId': '', 'ResultDescription': '', 'Tenant_g': '', 'JobId_g': '', 'RunbookName_s': '', 'StreamType_s': '', 'Caller_s': '', 'requestUri_s': '', 'Level': '', 'DurationMs': None, 'CallerIPAddress': '', 'OperationVersion': '', 'ResultSignature': '', 'id_s': '', 'status_s': '', 'LogicalServerName_s': 'jukoesmasqldb', 'Message': '', 'clientInfo_s': '', 'httpStatusCode_d': None, 'identity_claim_appid_g': '', 'identity_claim_http_schemas_microsoft_com_identity_claims_objectidentifier_g': '', 'userAgent_s': '', 'ruleName_s': '', 'identity_claim_http_schemas_xmlsoap_org_ws_2005_05_identity_claims_upn_s': '', 'systemId_g': '', 'isAccessPolicyMatch_b': None, 'EventName_s': '', 'httpMethod_s': '', 'subnetId_s': '', 'type_s': '', 'instanceId_s': '', 'macAddress_s': '', 'vnetResourceGuid_g': '', 'direction_s': '', 'subnetPrefix_s': '', 'primaryIPv4Address_s': '', 'conditions_sourcePortRange_s': '', 'priority_d': None, 'conditions_destinationPortRange_s': '', 'conditions_destinationIP_s': '', 'conditions_None_s': '', 'conditions_sourceIP_s': '', 'httpVersion_s': '', 'matchedConnections_d': None, 'startTime_t': None, 'endTime_t': None, 'DatabaseName_s': '', 'clientIP_s': '', 'host_s': '', 'requestQuery_s': '', 'sslEnabled_s': '', 'clientPort_d': None, 'httpStatus_d': None, 'receivedBytes_d': None, 'sentBytes_d': None, 'timeTaken_d': None, 'resultDescription_ErrorJobs_s': '', 'resultDescription_ChildJobs_s': '', 'identity_claim_http_schemas_microsoft_com_identity_claims_scope_s': '', 'workflowId_s': '', 'resource_location_s': '', 'resource_workflowId_g': '', 'resource_resourceGroupName_s': '', 'resource_subscriptionId_g': '', 'resource_runId_s': '', 'resource_workflowName_s': '', '_schema_s': '', 'correlation_clientTrackingId_s': '', 'properties_sku_Family_s': '', 'properties_sku_Name_s': '', 'properties_tenantId_g': '', 'properties_enabledForDeployment_b': None, 'code_s': '', 'resultDescription_Summary_MachineId_s': '', 'resultDescription_Summary_ScheduleName_s': '', 'resultDescription_Summary_Status_s': '', 'resultDescription_Summary_StatusDescription_s': '', 'resultDescription_Summary_MachineName_s': '', 'resultDescription_Summary_TotalUpdatesInstalled_d': None, 'resultDescription_Summary_RebootRequired_b': None, 'resultDescription_Summary_TotalUpdatesFailed_d': None, 'resultDescription_Summary_InstallPercentage_d': None, 'resultDescription_Summary_StartDateTimeUtc_t': None, 'resource_triggerName_s': '', 'resultDescription_Summary_InitialRequiredUpdatesCount_d': None, 'properties_enabledForTemplateDeployment_b': None, 'resultDescription_Summary_EndDateTimeUtc_s': '', 'resultDescription_Summary_DurationInMinutes_s': '', 'resource_originRunId_s': '', 'properties_enabledForDiskEncryption_b': None, 'resource_actionName_s': '', 'correlation_actionTrackingId_g': '', 'resultDescription_Summary_EndDateTimeUtc_t': None, 'resultDescription_Summary_DurationInMinutes_d': None, 'conditions_protocols_s': '', 'identity_claim_ipaddr_s': '', 'ElasticPoolName_s': '', 'identity_claim_http_schemas_microsoft_com_claims_authnmethodsreferences_s': '', 'RunOn_s': '', 'query_hash_s': '', 'SourceSystem': 'Azure', 'MG': '', 'ManagementGroupName': '', 'Computer': '', 'RawData': '', 'interval_start_time_d': None, 'interval_end_time_d': None, 'logical_io_writes_d': None, 'max_logical_io_writes_d': None, 'physical_io_reads_d': None, 'max_physical_io_reads_d': None, 'logical_io_reads_d': None, 'max_logical_io_reads_d': None, 'execution_type_d': None, 'count_executions_d': None, 'cpu_time_d': None, 'max_cpu_time_d': None, 'dop_d': None, 'max_dop_d': None, 'rowcount_d': None, 'max_rowcount_d': None, 'query_max_used_memory_d': None, 'max_query_max_used_memory_d': None, 'duration_d': None, 'max_duration_d': None, 'num_physical_io_reads_d': None, 'max_num_physical_io_reads_d': None, 'log_bytes_used_d': None, 'max_log_bytes_used_d': None, 'query_id_d': None, 'plan_id_d': None, 'statement_sql_handle_s': '', 'error_state_d': None, 'deadlock_xml_s': '', 'query_plan_hash_s': '', 'error_number_d': None, 'Severity': None, 'user_defined_b': None, 'state_d': None, 'package_s': 'SecAudit', 'event_s': 'audit_event_shoebox', 'sessionName_s': 'audit_session_for_shoebox', 'originalEventTimestamp_t': datetime.datetime(2021, 2, 3, 4, 22, 13, 289000, tzinfo=tzutc()), 'audit_schema_version_d': 1, 'event_time_t': datetime.datetime(2021, 2, 3, 4, 22, 13, 24000, tzinfo=tzutc()), 'sequence_number_d': 1, 'action_id_s': 'DBAS', 'action_name_s': 'DATABASE AUTHENTICATION SUCCEEDED', 'succeeded_s': 'true', 'is_column_permission_s': 'false', 'session_id_d': 99, 'server_principal_id_d': 0, 'database_principal_id_d': 1, 'target_server_principal_id_d': 0, 'target_database_principal_id_d': 0, 'object_id_d': 5, 'user_defined_event_id_d': 0, 'transaction_id_d': 0, 'class_type_s': 'DB', 'class_type_description_s': 'DATABASE', 'securable_class_type_s': 'DATABASE', 'duration_milliseconds_d': 0, 'response_rows_d': 0, 'affected_rows_d': 0, 'client_ip_s': '131.107.174.142', 'permission_bitmask_g': '00000000-0000-0000-0000-000000000000', 'sequence_group_id_g': '64ec90b3-f5f4-496e-ab72-75595f06a6f2', 'session_server_principal_name_s': 'adslivesite', 'server_principal_name_s': 'adslivesite', 'server_principal_sid_s': '01060000000001640000000000000000cef04990da142347be1357149f87e7c1', 'database_principal_name_s': 'dbo', 'target_server_principal_name_s': '', 'target_server_principal_sid_s': '', 'target_database_principal_name_s': '', 'server_instance_name_s': 'jukoesmasqldb', 'database_name_s': 'AdventureWorks', 'schema_name_s': '', 'object_name_s': 'AdventureWorks', 'statement_s': '', 'additional_information_s': '', 'user_defined_information_s': '', 'application_name_s': 'azdata-GeneralConnection', 'connection_id_g': 'b40baaea-b083-427f-ac02-6fd367e02a5f', 'data_sensitivity_information_s': '', 'host_name_s': 'MSSQLGIRL-01', 'session_context_s': '', 'is_server_level_audit_s': 'true', 'event_id_g': '21fb301b-8f69-4543-b40d-fdd92c8dd825', 'AdditionalFields': None, 'Type': 'AzureDiagnostics'},\n {'TimeGenerated': datetime.datetime(2021, 2, 3, 4, 22, 13, 290000, tzinfo=tzutc()), 'Category': 'SQLSecurityAuditEvents', 'ResourceProvider': 'MICROSOFT.SQL', 'Resource': 'MASTER', 'ResourceType': 'SERVERS/DATABASES', 'OperationName': 'AuditEvent', 'ResultType': '', 'CorrelationId': '', 'ResultDescription': '', 'Tenant_g': '', 'JobId_g': '', 'RunbookName_s': '', 'StreamType_s': '', 'Caller_s': '', 'requestUri_s': '', 'Level': '', 'DurationMs': None, 'CallerIPAddress': '', 'OperationVersion': '', 'ResultSignature': '', 'id_s': '', 'status_s': '', 'LogicalServerName_s': 'jukoesmasqldb', 'Message': '', 'clientInfo_s': '', 'httpStatusCode_d': None, 'identity_claim_appid_g': '', 'identity_claim_http_schemas_microsoft_com_identity_claims_objectidentifier_g': '', 'userAgent_s': '', 'ruleName_s': '', 'identity_claim_http_schemas_xmlsoap_org_ws_2005_05_identity_claims_upn_s': '', 'systemId_g': '', 'isAccessPolicyMatch_b': None, 'EventName_s': '', 'httpMethod_s': '', 'subnetId_s': '', 'type_s': '', 'instanceId_s': '', 'macAddress_s': '', 'vnetResourceGuid_g': '', 'direction_s': '', 'subnetPrefix_s': '', 'primaryIPv4Address_s': '', 'conditions_sourcePortRange_s': '', 'priority_d': None, 'conditions_destinationPortRange_s': '', 'conditions_destinationIP_s': '', 'conditions_None_s': '', 'conditions_sourceIP_s': '', 'httpVersion_s': '', 'matchedConnections_d': None, 'startTime_t': None, 'endTime_t': None, 'DatabaseName_s': '', 'clientIP_s': '', 'host_s': '', 'requestQuery_s': '', 'sslEnabled_s': '', 'clientPort_d': None, 'httpStatus_d': None, 'receivedBytes_d': None, 'sentBytes_d': None, 'timeTaken_d': None, 'resultDescription_ErrorJobs_s': '', 'resultDescription_ChildJobs_s': '', 'identity_claim_http_schemas_microsoft_com_identity_claims_scope_s': '', 'workflowId_s': '', 'resource_location_s': '', 'resource_workflowId_g': '', 'resource_resourceGroupName_s': '', 'resource_subscriptionId_g': '', 'resource_runId_s': '', 'resource_workflowName_s': '', '_schema_s': '', 'correlation_clientTrackingId_s': '', 'properties_sku_Family_s': '', 'properties_sku_Name_s': '', 'properties_tenantId_g': '', 'properties_enabledForDeployment_b': None, 'code_s': '', 'resultDescription_Summary_MachineId_s': '', 'resultDescription_Summary_ScheduleName_s': '', 'resultDescription_Summary_Status_s': '', 'resultDescription_Summary_StatusDescription_s': '', 'resultDescription_Summary_MachineName_s': '', 'resultDescription_Summary_TotalUpdatesInstalled_d': None, 'resultDescription_Summary_RebootRequired_b': None, 'resultDescription_Summary_TotalUpdatesFailed_d': None, 'resultDescription_Summary_InstallPercentage_d': None, 'resultDescription_Summary_StartDateTimeUtc_t': None, 'resource_triggerName_s': '', 'resultDescription_Summary_InitialRequiredUpdatesCount_d': None, 'properties_enabledForTemplateDeployment_b': None, 'resultDescription_Summary_EndDateTimeUtc_s': '', 'resultDescription_Summary_DurationInMinutes_s': '', 'resource_originRunId_s': '', 'properties_enabledForDiskEncryption_b': None, 'resource_actionName_s': '', 'correlation_actionTrackingId_g': '', 'resultDescription_Summary_EndDateTimeUtc_t': None, 'resultDescription_Summary_DurationInMinutes_d': None, 'conditions_protocols_s': '', 'identity_claim_ipaddr_s': '', 'ElasticPoolName_s': '', 'identity_claim_http_schemas_microsoft_com_claims_authnmethodsreferences_s': '', 'RunOn_s': '', 'query_hash_s': '', 'SourceSystem': 'Azure', 'MG': '', 'ManagementGroupName': '', 'Computer': '', 'RawData': '', 'interval_start_time_d': None, 'interval_end_time_d': None, 'logical_io_writes_d': None, 'max_logical_io_writes_d': None, 'physical_io_reads_d': None, 'max_physical_io_reads_d': None, 'logical_io_reads_d': None, 'max_logical_io_reads_d': None, 'execution_type_d': None, 'count_executions_d': None, 'cpu_time_d': None, 'max_cpu_time_d': None, 'dop_d': None, 'max_dop_d': None, 'rowcount_d': None, 'max_rowcount_d': None, 'query_max_used_memory_d': None, 'max_query_max_used_memory_d': None, 'duration_d': None, 'max_duration_d': None, 'num_physical_io_reads_d': None, 'max_num_physical_io_reads_d': None, 'log_bytes_used_d': None, 'max_log_bytes_used_d': None, 'query_id_d': None, 'plan_id_d': None, 'statement_sql_handle_s': '', 'error_state_d': None, 'deadlock_xml_s': '', 'query_plan_hash_s': '', 'error_number_d': None, 'Severity': None, 'user_defined_b': None, 'state_d': None, 'package_s': 'SecAudit', 'event_s': 'audit_event_shoebox', 'sessionName_s': 'audit_session_for_shoebox', 'originalEventTimestamp_t': datetime.datetime(2021, 2, 3, 4, 22, 13, 289000, tzinfo=tzutc()), 'audit_schema_version_d': 1, 'event_time_t': datetime.datetime(2021, 2, 3, 4, 22, 13, 180000, tzinfo=tzutc()), 'sequence_number_d': 1, 'action_id_s': 'BCM ', 'action_name_s': 'BATCH COMPLETED', 'succeeded_s': 'true', 'is_column_permission_s': 'false', 'session_id_d': 99, 'server_principal_id_d': 0, 'database_principal_id_d': 1, 'target_server_principal_id_d': 0, 'target_database_principal_id_d': 0, 'object_id_d': 5, 'user_defined_event_id_d': 0, 'transaction_id_d': 0, 'class_type_s': 'DB', 'class_type_description_s': 'DATABASE', 'securable_class_type_s': 'DATABASE', 'duration_milliseconds_d': 61, 'response_rows_d': 1, 'affected_rows_d': 1, 'client_ip_s': '131.107.174.142', 'permission_bitmask_g': '00000000-0000-0000-0000-000000000000', 'sequence_group_id_g': 'e687a6dd-2190-412f-ae83-11ce041878b7', 'session_server_principal_name_s': 'adslivesite', 'server_principal_name_s': 'adslivesite', 'server_principal_sid_s': '01060000000001640000000000000000cef04990da142347be1357149f87e7c1', 'database_principal_name_s': 'dbo', 'target_server_principal_name_s': '', 'target_server_principal_sid_s': '', 'target_database_principal_name_s': '', 'server_instance_name_s': 'jukoesmasqldb', 'database_name_s': 'AdventureWorks', 'schema_name_s': '', 'object_name_s': 'AdventureWorks', 'statement_s': \"SELECT SERVERPROPERTY('EngineEdition'), SERVERPROPERTY('productversion'), SERVERPROPERTY ('productlevel'), SERVERPROPERTY ('edition'), SERVERPROPERTY ('MachineName'), SERVERPROPERTY ('ServerName'), (SELECT CASE WHEN EXISTS (SELECT TOP 1 1 from [sys].[all_columns] WITH (NOLOCK) WHERE name = N'xml_index_type' AND OBJECT_ID(N'sys.xml_indexes') = object_id) THEN 1 ELSE 0 END AS SXI_PRESENT)\", 'additional_information_s': '', 'user_defined_information_s': '', 'application_name_s': 'azdata-GeneralConnection', 'connection_id_g': 'b40baaea-b083-427f-ac02-6fd367e02a5f', 'data_sensitivity_information_s': '', 'host_name_s': 'MSSQLGIRL-01', 'session_context_s': '', 'is_server_level_audit_s': 'true', 'event_id_g': 'b903d7fc-82ef-4579-b09a-4b1e1b08cc93', 'AdditionalFields': None, 'Type': 'AzureDiagnostics'},\n {'TimeGenerated': datetime.datetime(2021, 2, 3, 4, 22, 13, 290000, tzinfo=tzutc()), 'Category': 'SQLSecurityAuditEvents', 'ResourceProvider': 'MICROSOFT.SQL', 'Resource': 'MASTER', 'ResourceType': 'SERVERS/DATABASES', 'OperationName': 'AuditEvent', 'ResultType': '', 'CorrelationId': '', 'ResultDescription': '', 'Tenant_g': '', 'JobId_g': '', 'RunbookName_s': '', 'StreamType_s': '', 'Caller_s': '', 'requestUri_s': '', 'Level': '', 'DurationMs': None, 'CallerIPAddress': '', 'OperationVersion': '', 'ResultSignature': '', 'id_s': '', 'status_s': '', 'LogicalServerName_s': 'jukoesmasqldb', 'Message': '', 'clientInfo_s': '', 'httpStatusCode_d': None, 'identity_claim_appid_g': '', 'identity_claim_http_schemas_microsoft_com_identity_claims_objectidentifier_g': '', 'userAgent_s': '', 'ruleName_s': '', 'identity_claim_http_schemas_xmlsoap_org_ws_2005_05_identity_claims_upn_s': '', 'systemId_g': '', 'isAccessPolicyMatch_b': None, 'EventName_s': '', 'httpMethod_s': '', 'subnetId_s': '', 'type_s': '', 'instanceId_s': '', 'macAddress_s': '', 'vnetResourceGuid_g': '', 'direction_s': '', 'subnetPrefix_s': '', 'primaryIPv4Address_s': '', 'conditions_sourcePortRange_s': '', 'priority_d': None, 'conditions_destinationPortRange_s': '', 'conditions_destinationIP_s': '', 'conditions_None_s': '', 'conditions_sourceIP_s': '', 'httpVersion_s': '', 'matchedConnections_d': None, 'startTime_t': None, 'endTime_t': None, 'DatabaseName_s': '', 'clientIP_s': '', 'host_s': '', 'requestQuery_s': '', 'sslEnabled_s': '', 'clientPort_d': None, 'httpStatus_d': None, 'receivedBytes_d': None, 'sentBytes_d': None, 'timeTaken_d': None, 'resultDescription_ErrorJobs_s': '', 'resultDescription_ChildJobs_s': '', 'identity_claim_http_schemas_microsoft_com_identity_claims_scope_s': '', 'workflowId_s': '', 'resource_location_s': '', 'resource_workflowId_g': '', 'resource_resourceGroupName_s': '', 'resource_subscriptionId_g': '', 'resource_runId_s': '', 'resource_workflowName_s': '', '_schema_s': '', 'correlation_clientTrackingId_s': '', 'properties_sku_Family_s': '', 'properties_sku_Name_s': '', 'properties_tenantId_g': '', 'properties_enabledForDeployment_b': None, 'code_s': '', 'resultDescription_Summary_MachineId_s': '', 'resultDescription_Summary_ScheduleName_s': '', 'resultDescription_Summary_Status_s': '', 'resultDescription_Summary_StatusDescription_s': '', 'resultDescription_Summary_MachineName_s': '', 'resultDescription_Summary_TotalUpdatesInstalled_d': None, 'resultDescription_Summary_RebootRequired_b': None, 'resultDescription_Summary_TotalUpdatesFailed_d': None, 'resultDescription_Summary_InstallPercentage_d': None, 'resultDescription_Summary_StartDateTimeUtc_t': None, 'resource_triggerName_s': '', 'resultDescription_Summary_InitialRequiredUpdatesCount_d': None, 'properties_enabledForTemplateDeployment_b': None, 'resultDescription_Summary_EndDateTimeUtc_s': '', 'resultDescription_Summary_DurationInMinutes_s': '', 'resource_originRunId_s': '', 'properties_enabledForDiskEncryption_b': None, 'resource_actionName_s': '', 'correlation_actionTrackingId_g': '', 'resultDescription_Summary_EndDateTimeUtc_t': None, 'resultDescription_Summary_DurationInMinutes_d': None, 'conditions_protocols_s': '', 'identity_claim_ipaddr_s': '', 'ElasticPoolName_s': '', 'identity_claim_http_schemas_microsoft_com_claims_authnmethodsreferences_s': '', 'RunOn_s': '', 'query_hash_s': '', 'SourceSystem': 'Azure', 'MG': '', 'ManagementGroupName': '', 'Computer': '', 'RawData': '', 'interval_start_time_d': None, 'interval_end_time_d': None, 'logical_io_writes_d': None, 'max_logical_io_writes_d': None, 'physical_io_reads_d': None, 'max_physical_io_reads_d': None, 'logical_io_reads_d': None, 'max_logical_io_reads_d': None, 'execution_type_d': None, 'count_executions_d': None, 'cpu_time_d': None, 'max_cpu_time_d': None, 'dop_d': None, 'max_dop_d': None, 'rowcount_d': None, 'max_rowcount_d': None, 'query_max_used_memory_d': None, 'max_query_max_used_memory_d': None, 'duration_d': None, 'max_duration_d': None, 'num_physical_io_reads_d': None, 'max_num_physical_io_reads_d': None, 'log_bytes_used_d': None, 'max_log_bytes_used_d': None, 'query_id_d': None, 'plan_id_d': None, 'statement_sql_handle_s': '', 'error_state_d': None, 'deadlock_xml_s': '', 'query_plan_hash_s': '', 'error_number_d': None, 'Severity': None, 'user_defined_b': None, 'state_d': None, 'package_s': 'SecAudit', 'event_s': 'audit_event_shoebox', 'sessionName_s': 'audit_session_for_shoebox', 'originalEventTimestamp_t': datetime.datetime(2021, 2, 3, 4, 22, 13, 289000, tzinfo=tzutc()), 'audit_schema_version_d': 1, 'event_time_t': datetime.datetime(2021, 2, 3, 4, 22, 13, 259000, tzinfo=tzutc()), 'sequence_number_d': 1, 'action_id_s': 'BCM ', 'action_name_s': 'BATCH COMPLETED', 'succeeded_s': 'true', 'is_column_permission_s': 'false', 'session_id_d': 99, 'server_principal_id_d': 0, 'database_principal_id_d': 1, 'target_server_principal_id_d': 0, 'target_database_principal_id_d': 0, 'object_id_d': 5, 'user_defined_event_id_d': 0, 'transaction_id_d': 0, 'class_type_s': 'DB', 'class_type_description_s': 'DATABASE', 'securable_class_type_s': 'DATABASE', 'duration_milliseconds_d': 0, 'response_rows_d': 1, 'affected_rows_d': 1, 'client_ip_s': '131.107.174.142', 'permission_bitmask_g': '00000000-0000-0000-0000-000000000000', 'sequence_group_id_g': 'bea05548-107f-4e8a-8f86-b9b3fcef8888', 'session_server_principal_name_s': 'adslivesite', 'server_principal_name_s': 'adslivesite', 'server_principal_sid_s': '01060000000001640000000000000000cef04990da142347be1357149f87e7c1', 'database_principal_name_s': 'dbo', 'target_server_principal_name_s': '', 'target_server_principal_sid_s': '', 'target_database_principal_name_s': '', 'server_instance_name_s': 'jukoesmasqldb', 'database_name_s': 'AdventureWorks', 'schema_name_s': '', 'object_name_s': 'AdventureWorks', 'statement_s': \"SELECT ISNULL(SESSIONPROPERTY ('ANSI_NULLS'), 0), ISNULL(SESSIONPROPERTY ('QUOTED_IDENTIFIER'), 1)\", 'additional_information_s': '', 'user_defined_information_s': '', 'application_name_s': 'azdata-GeneralConnection', 'connection_id_g': 'b40baaea-b083-427f-ac02-6fd367e02a5f', 'data_sensitivity_information_s': '', 'host_name_s': 'MSSQLGIRL-01', 'session_context_s': '', 'is_server_level_audit_s': 'true', 'event_id_g': '035a19e4-0949-4e33-a258-e443706b8960', 'AdditionalFields': None, 'Type': 'AzureDiagnostics'},\n {'TimeGenerated': datetime.datetime(2021, 2, 3, 4, 22, 14, 290000, tzinfo=tzutc()), 'Category': 'SQLSecurityAuditEvents', 'ResourceProvider': 'MICROSOFT.SQL', 'Resource': 'MASTER', 'ResourceType': 'SERVERS/DATABASES', 'OperationName': 'AuditEvent', 'ResultType': '', 'CorrelationId': '', 'ResultDescription': '', 'Tenant_g': '', 'JobId_g': '', 'RunbookName_s': '', 'StreamType_s': '', 'Caller_s': '', 'requestUri_s': '', 'Level': '', 'DurationMs': None, 'CallerIPAddress': '', 'OperationVersion': '', 'ResultSignature': '', 'id_s': '', 'status_s': '', 'LogicalServerName_s': 'jukoesmasqldb', 'Message': '', 'clientInfo_s': '', 'httpStatusCode_d': None, 'identity_claim_appid_g': '', 'identity_claim_http_schemas_microsoft_com_identity_claims_objectidentifier_g': '', 'userAgent_s': '', 'ruleName_s': '', 'identity_claim_http_schemas_xmlsoap_org_ws_2005_05_identity_claims_upn_s': '', 'systemId_g': '', 'isAccessPolicyMatch_b': None, 'EventName_s': '', 'httpMethod_s': '', 'subnetId_s': '', 'type_s': '', 'instanceId_s': '', 'macAddress_s': '', 'vnetResourceGuid_g': '', 'direction_s': '', 'subnetPrefix_s': '', 'primaryIPv4Address_s': '', 'conditions_sourcePortRange_s': '', 'priority_d': None, 'conditions_destinationPortRange_s': '', 'conditions_destinationIP_s': '', 'conditions_None_s': '', 'conditions_sourceIP_s': '', 'httpVersion_s': '', 'matchedConnections_d': None, 'startTime_t': None, 'endTime_t': None, 'DatabaseName_s': '', 'clientIP_s': '', 'host_s': '', 'requestQuery_s': '', 'sslEnabled_s': '', 'clientPort_d': None, 'httpStatus_d': None, 'receivedBytes_d': None, 'sentBytes_d': None, 'timeTaken_d': None, 'resultDescription_ErrorJobs_s': '', 'resultDescription_ChildJobs_s': '', 'identity_claim_http_schemas_microsoft_com_identity_claims_scope_s': '', 'workflowId_s': '', 'resource_location_s': '', 'resource_workflowId_g': '', 'resource_resourceGroupName_s': '', 'resource_subscriptionId_g': '', 'resource_runId_s': '', 'resource_workflowName_s': '', '_schema_s': '', 'correlation_clientTrackingId_s': '', 'properties_sku_Family_s': '', 'properties_sku_Name_s': '', 'properties_tenantId_g': '', 'properties_enabledForDeployment_b': None, 'code_s': '', 'resultDescription_Summary_MachineId_s': '', 'resultDescription_Summary_ScheduleName_s': '', 'resultDescription_Summary_Status_s': '', 'resultDescription_Summary_StatusDescription_s': '', 'resultDescription_Summary_MachineName_s': '', 'resultDescription_Summary_TotalUpdatesInstalled_d': None, 'resultDescription_Summary_RebootRequired_b': None, 'resultDescription_Summary_TotalUpdatesFailed_d': None, 'resultDescription_Summary_InstallPercentage_d': None, 'resultDescription_Summary_StartDateTimeUtc_t': None, 'resource_triggerName_s': '', 'resultDescription_Summary_InitialRequiredUpdatesCount_d': None, 'properties_enabledForTemplateDeployment_b': None, 'resultDescription_Summary_EndDateTimeUtc_s': '', 'resultDescription_Summary_DurationInMinutes_s': '', 'resource_originRunId_s': '', 'properties_enabledForDiskEncryption_b': None, 'resource_actionName_s': '', 'correlation_actionTrackingId_g': '', 'resultDescription_Summary_EndDateTimeUtc_t': None, 'resultDescription_Summary_DurationInMinutes_d': None, 'conditions_protocols_s': '', 'identity_claim_ipaddr_s': '', 'ElasticPoolName_s': '', 'identity_claim_http_schemas_microsoft_com_claims_authnmethodsreferences_s': '', 'RunOn_s': '', 'query_hash_s': '', 'SourceSystem': 'Azure', 'MG': '', 'ManagementGroupName': '', 'Computer': '', 'RawData': '', 'interval_start_time_d': None, 'interval_end_time_d': None, 'logical_io_writes_d': None, 'max_logical_io_writes_d': None, 'physical_io_reads_d': None, 'max_physical_io_reads_d': None, 'logical_io_reads_d': None, 'max_logical_io_reads_d': None, 'execution_type_d': None, 'count_executions_d': None, 'cpu_time_d': None, 'max_cpu_time_d': None, 'dop_d': None, 'max_dop_d': None, 'rowcount_d': None, 'max_rowcount_d': None, 'query_max_used_memory_d': None, 'max_query_max_used_memory_d': None, 'duration_d': None, 'max_duration_d': None, 'num_physical_io_reads_d': None, 'max_num_physical_io_reads_d': None, 'log_bytes_used_d': None, 'max_log_bytes_used_d': None, 'query_id_d': None, 'plan_id_d': None, 'statement_sql_handle_s': '', 'error_state_d': None, 'deadlock_xml_s': '', 'query_plan_hash_s': '', 'error_number_d': None, 'Severity': None, 'user_defined_b': None, 'state_d': None, 'package_s': 'SecAudit', 'event_s': 'audit_event_shoebox', 'sessionName_s': 'audit_session_for_shoebox', 'originalEventTimestamp_t': datetime.datetime(2021, 2, 3, 4, 22, 14, 285000, tzinfo=tzutc()), 'audit_schema_version_d': 1, 'event_time_t': datetime.datetime(2021, 2, 3, 4, 22, 13, 290000, tzinfo=tzutc()), 'sequence_number_d': 1, 'action_id_s': 'BCM ', 'action_name_s': 'BATCH COMPLETED', 'succeeded_s': 'true', 'is_column_permission_s': 'false', 'session_id_d': 99, 'server_principal_id_d': 0, 'database_principal_id_d': 1, 'target_server_principal_id_d': 0, 'target_database_principal_id_d': 0, 'object_id_d': 5, 'user_defined_event_id_d': 0, 'transaction_id_d': 0, 'class_type_s': 'DB', 'class_type_description_s': 'DATABASE', 'securable_class_type_s': 'DATABASE', 'duration_milliseconds_d': 0, 'response_rows_d': 1, 'affected_rows_d': 1, 'client_ip_s': '131.107.174.142', 'permission_bitmask_g': '00000000-0000-0000-0000-000000000000', 'sequence_group_id_g': '3ae1aaaf-c1bc-4965-a895-7c0c921b66f5', 'session_server_principal_name_s': 'adslivesite', 'server_principal_name_s': 'adslivesite', 'server_principal_sid_s': '01060000000001640000000000000000cef04990da142347be1357149f87e7c1', 'database_principal_name_s': 'dbo', 'target_server_principal_name_s': '', 'target_server_principal_sid_s': '', 'target_database_principal_name_s': '', 'server_instance_name_s': 'jukoesmasqldb', 'database_name_s': 'AdventureWorks', 'schema_name_s': '', 'object_name_s': 'AdventureWorks', 'statement_s': \"SELECT SERVERPROPERTY('EngineEdition'), SERVERPROPERTY('productversion'), SERVERPROPERTY ('productlevel'), SERVERPROPERTY ('edition'), SERVERPROPERTY ('MachineName'), SERVERPROPERTY ('ServerName'), (SELECT CASE WHEN EXISTS (SELECT TOP 1 1 from [sys].[all_columns] WITH (NOLOCK) WHERE name = N'xml_index_type' AND OBJECT_ID(N'sys.xml_indexes') = object_id) THEN 1 ELSE 0 END AS SXI_PRESENT)\", 'additional_information_s': '', 'user_defined_information_s': '', 'application_name_s': 'azdata-GeneralConnection', 'connection_id_g': 'b40baaea-b083-427f-ac02-6fd367e02a5f', 'data_sensitivity_information_s': '', 'host_name_s': 'MSSQLGIRL-01', 'session_context_s': '', 'is_server_level_audit_s': 'true', 'event_id_g': '56b83ff2-759f-408a-91bd-ffcd95d63308', 'AdditionalFields': None, 'Type': 'AzureDiagnostics'},\n {'TimeGenerated': datetime.datetime(2021, 2, 3, 4, 22, 14, 290000, tzinfo=tzutc()), 'Category': 'SQLSecurityAuditEvents', 'ResourceProvider': 'MICROSOFT.SQL', 'Resource': 'MASTER', 'ResourceType': 'SERVERS/DATABASES', 'OperationName': 'AuditEvent', 'ResultType': '', 'CorrelationId': '', 'ResultDescription': '', 'Tenant_g': '', 'JobId_g': '', 'RunbookName_s': '', 'StreamType_s': '', 'Caller_s': '', 'requestUri_s': '', 'Level': '', 'DurationMs': None, 'CallerIPAddress': '', 'OperationVersion': '', 'ResultSignature': '', 'id_s': '', 'status_s': '', 'LogicalServerName_s': 'jukoesmasqldb', 'Message': '', 'clientInfo_s': '', 'httpStatusCode_d': None, 'identity_claim_appid_g': '', 'identity_claim_http_schemas_microsoft_com_identity_claims_objectidentifier_g': '', 'userAgent_s': '', 'ruleName_s': '', 'identity_claim_http_schemas_xmlsoap_org_ws_2005_05_identity_claims_upn_s': '', 'systemId_g': '', 'isAccessPolicyMatch_b': None, 'EventName_s': '', 'httpMethod_s': '', 'subnetId_s': '', 'type_s': '', 'instanceId_s': '', 'macAddress_s': '', 'vnetResourceGuid_g': '', 'direction_s': '', 'subnetPrefix_s': '', 'primaryIPv4Address_s': '', 'conditions_sourcePortRange_s': '', 'priority_d': None, 'conditions_destinationPortRange_s': '', 'conditions_destinationIP_s': '', 'conditions_None_s': '', 'conditions_sourceIP_s': '', 'httpVersion_s': '', 'matchedConnections_d': None, 'startTime_t': None, 'endTime_t': None, 'DatabaseName_s': '', 'clientIP_s': '', 'host_s': '', 'requestQuery_s': '', 'sslEnabled_s': '', 'clientPort_d': None, 'httpStatus_d': None, 'receivedBytes_d': None, 'sentBytes_d': None, 'timeTaken_d': None, 'resultDescription_ErrorJobs_s': '', 'resultDescription_ChildJobs_s': '', 'identity_claim_http_schemas_microsoft_com_identity_claims_scope_s': '', 'workflowId_s': '', 'resource_location_s': '', 'resource_workflowId_g': '', 'resource_resourceGroupName_s': '', 'resource_subscriptionId_g': '', 'resource_runId_s': '', 'resource_workflowName_s': '', '_schema_s': '', 'correlation_clientTrackingId_s': '', 'properties_sku_Family_s': '', 'properties_sku_Name_s': '', 'properties_tenantId_g': '', 'properties_enabledForDeployment_b': None, 'code_s': '', 'resultDescription_Summary_MachineId_s': '', 'resultDescription_Summary_ScheduleName_s': '', 'resultDescription_Summary_Status_s': '', 'resultDescription_Summary_StatusDescription_s': '', 'resultDescription_Summary_MachineName_s': '', 'resultDescription_Summary_TotalUpdatesInstalled_d': None, 'resultDescription_Summary_RebootRequired_b': None, 'resultDescription_Summary_TotalUpdatesFailed_d': None, 'resultDescription_Summary_InstallPercentage_d': None, 'resultDescription_Summary_StartDateTimeUtc_t': None, 'resource_triggerName_s': '', 'resultDescription_Summary_InitialRequiredUpdatesCount_d': None, 'properties_enabledForTemplateDeployment_b': None, 'resultDescription_Summary_EndDateTimeUtc_s': '', 'resultDescription_Summary_DurationInMinutes_s': '', 'resource_originRunId_s': '', 'properties_enabledForDiskEncryption_b': None, 'resource_actionName_s': '', 'correlation_actionTrackingId_g': '', 'resultDescription_Summary_EndDateTimeUtc_t': None, 'resultDescription_Summary_DurationInMinutes_d': None, 'conditions_protocols_s': '', 'identity_claim_ipaddr_s': '', 'ElasticPoolName_s': '', 'identity_claim_http_schemas_microsoft_com_claims_authnmethodsreferences_s': '', 'RunOn_s': '', 'query_hash_s': '', 'SourceSystem': 'Azure', 'MG': '', 'ManagementGroupName': '', 'Computer': '', 'RawData': '', 'interval_start_time_d': None, 'interval_end_time_d': None, 'logical_io_writes_d': None, 'max_logical_io_writes_d': None, 'physical_io_reads_d': None, 'max_physical_io_reads_d': None, 'logical_io_reads_d': None, 'max_logical_io_reads_d': None, 'execution_type_d': None, 'count_executions_d': None, 'cpu_time_d': None, 'max_cpu_time_d': None, 'dop_d': None, 'max_dop_d': None, 'rowcount_d': None, 'max_rowcount_d': None, 'query_max_used_memory_d': None, 'max_query_max_used_memory_d': None, 'duration_d': None, 'max_duration_d': None, 'num_physical_io_reads_d': None, 'max_num_physical_io_reads_d': None, 'log_bytes_used_d': None, 'max_log_bytes_used_d': None, 'query_id_d': None, 'plan_id_d': None, 'statement_sql_handle_s': '', 'error_state_d': None, 'deadlock_xml_s': '', 'query_plan_hash_s': '', 'error_number_d': None, 'Severity': None, 'user_defined_b': None, 'state_d': None, 'package_s': 'SecAudit', 'event_s': 'audit_event_shoebox', 'sessionName_s': 'audit_session_for_shoebox', 'originalEventTimestamp_t': datetime.datetime(2021, 2, 3, 4, 22, 14, 285000, tzinfo=tzutc()), 'audit_schema_version_d': 1, 'event_time_t': datetime.datetime(2021, 2, 3, 4, 22, 13, 305000, tzinfo=tzutc()), 'sequence_number_d': 1, 'action_id_s': 'BCM ', 'action_name_s': 'BATCH COMPLETED', 'succeeded_s': 'true', 'is_column_permission_s': 'false', 'session_id_d': 99, 'server_principal_id_d': 0, 'database_principal_id_d': 1, 'target_server_principal_id_d': 0, 'target_database_principal_id_d': 0, 'object_id_d': 5, 'user_defined_event_id_d': 0, 'transaction_id_d': 0, 'class_type_s': 'DB', 'class_type_description_s': 'DATABASE', 'securable_class_type_s': 'DATABASE', 'duration_milliseconds_d': 0, 'response_rows_d': 1, 'affected_rows_d': 1, 'client_ip_s': '131.107.174.142', 'permission_bitmask_g': '00000000-0000-0000-0000-000000000000', 'sequence_group_id_g': '35a0e915-9e87-4ae2-b1eb-dab303d3879e', 'session_server_principal_name_s': 'adslivesite', 'server_principal_name_s': 'adslivesite', 'server_principal_sid_s': '01060000000001640000000000000000cef04990da142347be1357149f87e7c1', 'database_principal_name_s': 'dbo', 'target_server_principal_name_s': '', 'target_server_principal_sid_s': '', 'target_database_principal_name_s': '', 'server_instance_name_s': 'jukoesmasqldb', 'database_name_s': 'AdventureWorks', 'schema_name_s': '', 'object_name_s': 'AdventureWorks', 'statement_s': \"SELECT ISNULL(SESSIONPROPERTY ('ANSI_NULLS'), 0), ISNULL(SESSIONPROPERTY ('QUOTED_IDENTIFIER'), 1)\", 'additional_information_s': '', 'user_defined_information_s': '', 'application_name_s': 'azdata-GeneralConnection', 'connection_id_g': 'b40baaea-b083-427f-ac02-6fd367e02a5f', 'data_sensitivity_information_s': '', 'host_name_s': 'MSSQLGIRL-01', 'session_context_s': '', 'is_server_level_audit_s': 'true', 'event_id_g': 'd85b82df-a271-4116-bb4e-a1e53370f7d7', 'AdditionalFields': None, 'Type': 'AzureDiagnostics'},\n {'TimeGenerated': datetime.datetime(2021, 2, 3, 4, 22, 14, 290000, tzinfo=tzutc()), 'Category': 'SQLSecurityAuditEvents', 'ResourceProvider': 'MICROSOFT.SQL', 'Resource': 'MASTER', 'ResourceType': 'SERVERS/DATABASES', 'OperationName': 'AuditEvent', 'ResultType': '', 'CorrelationId': '', 'ResultDescription': '', 'Tenant_g': '', 'JobId_g': '', 'RunbookName_s': '', 'StreamType_s': '', 'Caller_s': '', 'requestUri_s': '', 'Level': '', 'DurationMs': None, 'CallerIPAddress': '', 'OperationVersion': '', 'ResultSignature': '', 'id_s': '', 'status_s': '', 'LogicalServerName_s': 'jukoesmasqldb', 'Message': '', 'clientInfo_s': '', 'httpStatusCode_d': None, 'identity_claim_appid_g': '', 'identity_claim_http_schemas_microsoft_com_identity_claims_objectidentifier_g': '', 'userAgent_s': '', 'ruleName_s': '', 'identity_claim_http_schemas_xmlsoap_org_ws_2005_05_identity_claims_upn_s': '', 'systemId_g': '', 'isAccessPolicyMatch_b': None, 'EventName_s': '', 'httpMethod_s': '', 'subnetId_s': '', 'type_s': '', 'instanceId_s': '', 'macAddress_s': '', 'vnetResourceGuid_g': '', 'direction_s': '', 'subnetPrefix_s': '', 'primaryIPv4Address_s': '', 'conditions_sourcePortRange_s': '', 'priority_d': None, 'conditions_destinationPortRange_s': '', 'conditions_destinationIP_s': '', 'conditions_None_s': '', 'conditions_sourceIP_s': '', 'httpVersion_s': '', 'matchedConnections_d': None, 'startTime_t': None, 'endTime_t': None, 'DatabaseName_s': '', 'clientIP_s': '', 'host_s': '', 'requestQuery_s': '', 'sslEnabled_s': '', 'clientPort_d': None, 'httpStatus_d': None, 'receivedBytes_d': None, 'sentBytes_d': None, 'timeTaken_d': None, 'resultDescription_ErrorJobs_s': '', 'resultDescription_ChildJobs_s': '', 'identity_claim_http_schemas_microsoft_com_identity_claims_scope_s': '', 'workflowId_s': '', 'resource_location_s': '', 'resource_workflowId_g': '', 'resource_resourceGroupName_s': '', 'resource_subscriptionId_g': '', 'resource_runId_s': '', 'resource_workflowName_s': '', '_schema_s': '', 'correlation_clientTrackingId_s': '', 'properties_sku_Family_s': '', 'properties_sku_Name_s': '', 'properties_tenantId_g': '', 'properties_enabledForDeployment_b': None, 'code_s': '', 'resultDescription_Summary_MachineId_s': '', 'resultDescription_Summary_ScheduleName_s': '', 'resultDescription_Summary_Status_s': '', 'resultDescription_Summary_StatusDescription_s': '', 'resultDescription_Summary_MachineName_s': '', 'resultDescription_Summary_TotalUpdatesInstalled_d': None, 'resultDescription_Summary_RebootRequired_b': None, 'resultDescription_Summary_TotalUpdatesFailed_d': None, 'resultDescription_Summary_InstallPercentage_d': None, 'resultDescription_Summary_StartDateTimeUtc_t': None, 'resource_triggerName_s': '', 'resultDescription_Summary_InitialRequiredUpdatesCount_d': None, 'properties_enabledForTemplateDeployment_b': None, 'resultDescription_Summary_EndDateTimeUtc_s': '', 'resultDescription_Summary_DurationInMinutes_s': '', 'resource_originRunId_s': '', 'properties_enabledForDiskEncryption_b': None, 'resource_actionName_s': '', 'correlation_actionTrackingId_g': '', 'resultDescription_Summary_EndDateTimeUtc_t': None, 'resultDescription_Summary_DurationInMinutes_d': None, 'conditions_protocols_s': '', 'identity_claim_ipaddr_s': '', 'ElasticPoolName_s': '', 'identity_claim_http_schemas_microsoft_com_claims_authnmethodsreferences_s': '', 'RunOn_s': '', 'query_hash_s': '', 'SourceSystem': 'Azure', 'MG': '', 'ManagementGroupName': '', 'Computer': '', 'RawData': '', 'interval_start_time_d': None, 'interval_end_time_d': None, 'logical_io_writes_d': None, 'max_logical_io_writes_d': None, 'physical_io_reads_d': None, 'max_physical_io_reads_d': None, 'logical_io_reads_d': None, 'max_logical_io_reads_d': None, 'execution_type_d': None, 'count_executions_d': None, 'cpu_time_d': None, 'max_cpu_time_d': None, 'dop_d': None, 'max_dop_d': None, 'rowcount_d': None, 'max_rowcount_d': None, 'query_max_used_memory_d': None, 'max_query_max_used_memory_d': None, 'duration_d': None, 'max_duration_d': None, 'num_physical_io_reads_d': None, 'max_num_physical_io_reads_d': None, 'log_bytes_used_d': None, 'max_log_bytes_used_d': None, 'query_id_d': None, 'plan_id_d': None, 'statement_sql_handle_s': '', 'error_state_d': None, 'deadlock_xml_s': '', 'query_plan_hash_s': '', 'error_number_d': None, 'Severity': None, 'user_defined_b': None, 'state_d': None, 'package_s': 'SecAudit', 'event_s': 'audit_event_shoebox', 'sessionName_s': 'audit_session_for_shoebox', 'originalEventTimestamp_t': datetime.datetime(2021, 2, 3, 4, 22, 14, 285000, tzinfo=tzutc()), 'audit_schema_version_d': 1, 'event_time_t': datetime.datetime(2021, 2, 3, 4, 22, 13, 337000, tzinfo=tzutc()), 'sequence_number_d': 1, 'action_id_s': 'BCM ', 'action_name_s': 'BATCH COMPLETED', 'succeeded_s': 'true', 'is_column_permission_s': 'false', 'session_id_d': 99, 'server_principal_id_d': 0, 'database_principal_id_d': 1, 'target_server_principal_id_d': 0, 'target_database_principal_id_d': 0, 'object_id_d': 5, 'user_defined_event_id_d': 0, 'transaction_id_d': 0, 'class_type_s': 'DB', 'class_type_description_s': 'DATABASE', 'securable_class_type_s': 'DATABASE', 'duration_milliseconds_d': 0, 'response_rows_d': 1, 'affected_rows_d': 1, 'client_ip_s': '131.107.174.142', 'permission_bitmask_g': '00000000-0000-0000-0000-000000000000', 'sequence_group_id_g': '82be3fad-8051-48c7-8827-f77c409862cf', 'session_server_principal_name_s': 'adslivesite', 'server_principal_name_s': 'adslivesite', 'server_principal_sid_s': '01060000000001640000000000000000cef04990da142347be1357149f87e7c1', 'database_principal_name_s': 'dbo', 'target_server_principal_name_s': '', 'target_server_principal_sid_s': '', 'target_database_principal_name_s': '', 'server_instance_name_s': 'jukoesmasqldb', 'database_name_s': 'AdventureWorks', 'schema_name_s': '', 'object_name_s': 'AdventureWorks', 'statement_s': 'SELECT CONVERT(NVARCHAR(36), CONTEXT_INFO())', 'additional_information_s': '', 'user_defined_information_s': '', 'application_name_s': 'azdata-GeneralConnection', 'connection_id_g': 'b40baaea-b083-427f-ac02-6fd367e02a5f', 'data_sensitivity_information_s': '', 'host_name_s': 'MSSQLGIRL-01', 'session_context_s': '', 'is_server_level_audit_s': 'true', 'event_id_g': 'a8bc2dd8-7bb0-4a91-8097-1ecbdaf22f82', 'AdditionalFields': None, 'Type': 'AzureDiagnostics'},\n {'TimeGenerated': datetime.datetime(2021, 2, 3, 4, 22, 14, 290000, tzinfo=tzutc()), 'Category': 'SQLSecurityAuditEvents', 'ResourceProvider': 'MICROSOFT.SQL', 'Resource': 'MASTER', 'ResourceType': 'SERVERS/DATABASES', 'OperationName': 'AuditEvent', 'ResultType': '', 'CorrelationId': '', 'ResultDescription': '', 'Tenant_g': '', 'JobId_g': '', 'RunbookName_s': '', 'StreamType_s': '', 'Caller_s': '', 'requestUri_s': '', 'Level': '', 'DurationMs': None, 'CallerIPAddress': '', 'OperationVersion': '', 'ResultSignature': '', 'id_s': '', 'status_s': '', 'LogicalServerName_s': 'jukoesmasqldb', 'Message': '', 'clientInfo_s': '', 'httpStatusCode_d': None, 'identity_claim_appid_g': '', 'identity_claim_http_schemas_microsoft_com_identity_claims_objectidentifier_g': '', 'userAgent_s': '', 'ruleName_s': '', 'identity_claim_http_schemas_xmlsoap_org_ws_2005_05_identity_claims_upn_s': '', 'systemId_g': '', 'isAccessPolicyMatch_b': None, 'EventName_s': '', 'httpMethod_s': '', 'subnetId_s': '', 'type_s': '', 'instanceId_s': '', 'macAddress_s': '', 'vnetResourceGuid_g': '', 'direction_s': '', 'subnetPrefix_s': '', 'primaryIPv4Address_s': '', 'conditions_sourcePortRange_s': '', 'priority_d': None, 'conditions_destinationPortRange_s': '', 'conditions_destinationIP_s': '', 'conditions_None_s': '', 'conditions_sourceIP_s': '', 'httpVersion_s': '', 'matchedConnections_d': None, 'startTime_t': None, 'endTime_t': None, 'DatabaseName_s': '', 'clientIP_s': '', 'host_s': '', 'requestQuery_s': '', 'sslEnabled_s': '', 'clientPort_d': None, 'httpStatus_d': None, 'receivedBytes_d': None, 'sentBytes_d': None, 'timeTaken_d': None, 'resultDescription_ErrorJobs_s': '', 'resultDescription_ChildJobs_s': '', 'identity_claim_http_schemas_microsoft_com_identity_claims_scope_s': '', 'workflowId_s': '', 'resource_location_s': '', 'resource_workflowId_g': '', 'resource_resourceGroupName_s': '', 'resource_subscriptionId_g': '', 'resource_runId_s': '', 'resource_workflowName_s': '', '_schema_s': '', 'correlation_clientTrackingId_s': '', 'properties_sku_Family_s': '', 'properties_sku_Name_s': '', 'properties_tenantId_g': '', 'properties_enabledForDeployment_b': None, 'code_s': '', 'resultDescription_Summary_MachineId_s': '', 'resultDescription_Summary_ScheduleName_s': '', 'resultDescription_Summary_Status_s': '', 'resultDescription_Summary_StatusDescription_s': '', 'resultDescription_Summary_MachineName_s': '', 'resultDescription_Summary_TotalUpdatesInstalled_d': None, 'resultDescription_Summary_RebootRequired_b': None, 'resultDescription_Summary_TotalUpdatesFailed_d': None, 'resultDescription_Summary_InstallPercentage_d': None, 'resultDescription_Summary_StartDateTimeUtc_t': None, 'resource_triggerName_s': '', 'resultDescription_Summary_InitialRequiredUpdatesCount_d': None, 'properties_enabledForTemplateDeployment_b': None, 'resultDescription_Summary_EndDateTimeUtc_s': '', 'resultDescription_Summary_DurationInMinutes_s': '', 'resource_originRunId_s': '', 'properties_enabledForDiskEncryption_b': None, 'resource_actionName_s': '', 'correlation_actionTrackingId_g': '', 'resultDescription_Summary_EndDateTimeUtc_t': None, 'resultDescription_Summary_DurationInMinutes_d': None, 'conditions_protocols_s': '', 'identity_claim_ipaddr_s': '', 'ElasticPoolName_s': '', 'identity_claim_http_schemas_microsoft_com_claims_authnmethodsreferences_s': '', 'RunOn_s': '', 'query_hash_s': '', 'SourceSystem': 'Azure', 'MG': '', 'ManagementGroupName': '', 'Computer': '', 'RawData': '', 'interval_start_time_d': None, 'interval_end_time_d': None, 'logical_io_writes_d': None, 'max_logical_io_writes_d': None, 'physical_io_reads_d': None, 'max_physical_io_reads_d': None, 'logical_io_reads_d': None, 'max_logical_io_reads_d': None, 'execution_type_d': None, 'count_executions_d': None, 'cpu_time_d': None, 'max_cpu_time_d': None, 'dop_d': None, 'max_dop_d': None, 'rowcount_d': None, 'max_rowcount_d': None, 'query_max_used_memory_d': None, 'max_query_max_used_memory_d': None, 'duration_d': None, 'max_duration_d': None, 'num_physical_io_reads_d': None, 'max_num_physical_io_reads_d': None, 'log_bytes_used_d': None, 'max_log_bytes_used_d': None, 'query_id_d': None, 'plan_id_d': None, 'statement_sql_handle_s': '', 'error_state_d': None, 'deadlock_xml_s': '', 'query_plan_hash_s': '', 'error_number_d': None, 'Severity': None, 'user_defined_b': None, 'state_d': None, 'package_s': 'SecAudit', 'event_s': 'audit_event_shoebox', 'sessionName_s': 'audit_session_for_shoebox', 'originalEventTimestamp_t': datetime.datetime(2021, 2, 3, 4, 22, 14, 285000, tzinfo=tzutc()), 'audit_schema_version_d': 1, 'event_time_t': datetime.datetime(2021, 2, 3, 4, 22, 13, 352000, tzinfo=tzutc()), 'sequence_number_d': 1, 'action_id_s': 'BCM ', 'action_name_s': 'BATCH COMPLETED', 'succeeded_s': 'true', 'is_column_permission_s': 'false', 'session_id_d': 99, 'server_principal_id_d': 0, 'database_principal_id_d': 1, 'target_server_principal_id_d': 0, 'target_database_principal_id_d': 0, 'object_id_d': 5, 'user_defined_event_id_d': 0, 'transaction_id_d': 0, 'class_type_s': 'DB', 'class_type_description_s': 'DATABASE', 'securable_class_type_s': 'DATABASE', 'duration_milliseconds_d': 0, 'response_rows_d': 1, 'affected_rows_d': 1, 'client_ip_s': '131.107.174.142', 'permission_bitmask_g': '00000000-0000-0000-0000-000000000000', 'sequence_group_id_g': '95fac0fa-208b-4192-b50a-6f57017251c4', 'session_server_principal_name_s': 'adslivesite', 'server_principal_name_s': 'adslivesite', 'server_principal_sid_s': '01060000000001640000000000000000cef04990da142347be1357149f87e7c1', 'database_principal_name_s': 'dbo', 'target_server_principal_name_s': '', 'target_server_principal_sid_s': '', 'target_database_principal_name_s': '', 'server_instance_name_s': 'jukoesmasqldb', 'database_name_s': 'AdventureWorks', 'schema_name_s': '', 'object_name_s': 'AdventureWorks', 'statement_s': \"SELECT ISNULL(SESSIONPROPERTY ('ANSI_NULLS'), 0), ISNULL(SESSIONPROPERTY ('QUOTED_IDENTIFIER'), 1)\", 'additional_information_s': '', 'user_defined_information_s': '', 'application_name_s': 'azdata-GeneralConnection', 'connection_id_g': 'b40baaea-b083-427f-ac02-6fd367e02a5f', 'data_sensitivity_information_s': '', 'host_name_s': 'MSSQLGIRL-01', 'session_context_s': '', 'is_server_level_audit_s': 'true', 'event_id_g': '362067bc-d00d-4ad0-8c9b-851b85644e9e', 'AdditionalFields': None, 'Type': 'AzureDiagnostics'},\n {'TimeGenerated': datetime.datetime(2021, 2, 3, 4, 22, 14, 290000, tzinfo=tzutc()), 'Category': 'SQLSecurityAuditEvents', 'ResourceProvider': 'MICROSOFT.SQL', 'Resource': 'MASTER', 'ResourceType': 'SERVERS/DATABASES', 'OperationName': 'AuditEvent', 'ResultType': '', 'CorrelationId': '', 'ResultDescription': '', 'Tenant_g': '', 'JobId_g': '', 'RunbookName_s': '', 'StreamType_s': '', 'Caller_s': '', 'requestUri_s': '', 'Level': '', 'DurationMs': None, 'CallerIPAddress': '', 'OperationVersion': '', 'ResultSignature': '', 'id_s': '', 'status_s': '', 'LogicalServerName_s': 'jukoesmasqldb', 'Message': '', 'clientInfo_s': '', 'httpStatusCode_d': None, 'identity_claim_appid_g': '', 'identity_claim_http_schemas_microsoft_com_identity_claims_objectidentifier_g': '', 'userAgent_s': '', 'ruleName_s': '', 'identity_claim_http_schemas_xmlsoap_org_ws_2005_05_identity_claims_upn_s': '', 'systemId_g': '', 'isAccessPolicyMatch_b': None, 'EventName_s': '', 'httpMethod_s': '', 'subnetId_s': '', 'type_s': '', 'instanceId_s': '', 'macAddress_s': '', 'vnetResourceGuid_g': '', 'direction_s': '', 'subnetPrefix_s': '', 'primaryIPv4Address_s': '', 'conditions_sourcePortRange_s': '', 'priority_d': None, 'conditions_destinationPortRange_s': '', 'conditions_destinationIP_s': '', 'conditions_None_s': '', 'conditions_sourceIP_s': '', 'httpVersion_s': '', 'matchedConnections_d': None, 'startTime_t': None, 'endTime_t': None, 'DatabaseName_s': '', 'clientIP_s': '', 'host_s': '', 'requestQuery_s': '', 'sslEnabled_s': '', 'clientPort_d': None, 'httpStatus_d': None, 'receivedBytes_d': None, 'sentBytes_d': None, 'timeTaken_d': None, 'resultDescription_ErrorJobs_s': '', 'resultDescription_ChildJobs_s': '', 'identity_claim_http_schemas_microsoft_com_identity_claims_scope_s': '', 'workflowId_s': '', 'resource_location_s': '', 'resource_workflowId_g': '', 'resource_resourceGroupName_s': '', 'resource_subscriptionId_g': '', 'resource_runId_s': '', 'resource_workflowName_s': '', '_schema_s': '', 'correlation_clientTrackingId_s': '', 'properties_sku_Family_s': '', 'properties_sku_Name_s': '', 'properties_tenantId_g': '', 'properties_enabledForDeployment_b': None, 'code_s': '', 'resultDescription_Summary_MachineId_s': '', 'resultDescription_Summary_ScheduleName_s': '', 'resultDescription_Summary_Status_s': '', 'resultDescription_Summary_StatusDescription_s': '', 'resultDescription_Summary_MachineName_s': '', 'resultDescription_Summary_TotalUpdatesInstalled_d': None, 'resultDescription_Summary_RebootRequired_b': None, 'resultDescription_Summary_TotalUpdatesFailed_d': None, 'resultDescription_Summary_InstallPercentage_d': None, 'resultDescription_Summary_StartDateTimeUtc_t': None, 'resource_triggerName_s': '', 'resultDescription_Summary_InitialRequiredUpdatesCount_d': None, 'properties_enabledForTemplateDeployment_b': None, 'resultDescription_Summary_EndDateTimeUtc_s': '', 'resultDescription_Summary_DurationInMinutes_s': '', 'resource_originRunId_s': '', 'properties_enabledForDiskEncryption_b': None, 'resource_actionName_s': '', 'correlation_actionTrackingId_g': '', 'resultDescription_Summary_EndDateTimeUtc_t': None, 'resultDescription_Summary_DurationInMinutes_d': None, 'conditions_protocols_s': '', 'identity_claim_ipaddr_s': '', 'ElasticPoolName_s': '', 'identity_claim_http_schemas_microsoft_com_claims_authnmethodsreferences_s': '', 'RunOn_s': '', 'query_hash_s': '', 'SourceSystem': 'Azure', 'MG': '', 'ManagementGroupName': '', 'Computer': '', 'RawData': '', 'interval_start_time_d': None, 'interval_end_time_d': None, 'logical_io_writes_d': None, 'max_logical_io_writes_d': None, 'physical_io_reads_d': None, 'max_physical_io_reads_d': None, 'logical_io_reads_d': None, 'max_logical_io_reads_d': None, 'execution_type_d': None, 'count_executions_d': None, 'cpu_time_d': None, 'max_cpu_time_d': None, 'dop_d': None, 'max_dop_d': None, 'rowcount_d': None, 'max_rowcount_d': None, 'query_max_used_memory_d': None, 'max_query_max_used_memory_d': None, 'duration_d': None, 'max_duration_d': None, 'num_physical_io_reads_d': None, 'max_num_physical_io_reads_d': None, 'log_bytes_used_d': None, 'max_log_bytes_used_d': None, 'query_id_d': None, 'plan_id_d': None, 'statement_sql_handle_s': '', 'error_state_d': None, 'deadlock_xml_s': '', 'query_plan_hash_s': '', 'error_number_d': None, 'Severity': None, 'user_defined_b': None, 'state_d': None, 'package_s': 'SecAudit', 'event_s': 'audit_event_shoebox', 'sessionName_s': 'audit_session_for_shoebox', 'originalEventTimestamp_t': datetime.datetime(2021, 2, 3, 4, 22, 14, 285000, tzinfo=tzutc()), 'audit_schema_version_d': 1, 'event_time_t': datetime.datetime(2021, 2, 3, 4, 22, 13, 384000, tzinfo=tzutc()), 'sequence_number_d': 1, 'action_id_s': 'BCM ', 'action_name_s': 'BATCH COMPLETED', 'succeeded_s': 'true', 'is_column_permission_s': 'false', 'session_id_d': 99, 'server_principal_id_d': 0, 'database_principal_id_d': 1, 'target_server_principal_id_d': 0, 'target_database_principal_id_d': 0, 'object_id_d': 5, 'user_defined_event_id_d': 0, 'transaction_id_d': 0, 'class_type_s': 'DB', 'class_type_description_s': 'DATABASE', 'securable_class_type_s': 'DATABASE', 'duration_milliseconds_d': 0, 'response_rows_d': 1, 'affected_rows_d': 1, 'client_ip_s': '131.107.174.142', 'permission_bitmask_g': '00000000-0000-0000-0000-000000000000', 'sequence_group_id_g': 'e1340822-f73f-47dc-be3e-7217a80fc204', 'session_server_principal_name_s': 'adslivesite', 'server_principal_name_s': 'adslivesite', 'server_principal_sid_s': '01060000000001640000000000000000cef04990da142347be1357149f87e7c1', 'database_principal_name_s': 'dbo', 'target_server_principal_name_s': '', 'target_server_principal_sid_s': '', 'target_database_principal_name_s': '', 'server_instance_name_s': 'jukoesmasqldb', 'database_name_s': 'AdventureWorks', 'schema_name_s': '', 'object_name_s': 'AdventureWorks', 'statement_s': 'SELECT CONVERT(NVARCHAR(36), CONTEXT_INFO())', 'additional_information_s': '', 'user_defined_information_s': '', 'application_name_s': 'azdata-GeneralConnection', 'connection_id_g': 'b40baaea-b083-427f-ac02-6fd367e02a5f', 'data_sensitivity_information_s': '', 'host_name_s': 'MSSQLGIRL-01', 'session_context_s': '', 'is_server_level_audit_s': 'true', 'event_id_g': 'a9dc4216-43c8-4d07-ace7-c0c4782594a5', 'AdditionalFields': None, 'Type': 'AzureDiagnostics'},\n {'TimeGenerated': datetime.datetime(2021, 2, 3, 4, 22, 14, 290000, tzinfo=tzutc()), 'Category': 'SQLSecurityAuditEvents', 'ResourceProvider': 'MICROSOFT.SQL', 'Resource': 'MASTER', 'ResourceType': 'SERVERS/DATABASES', 'OperationName': 'AuditEvent', 'ResultType': '', 'CorrelationId': '', 'ResultDescription': '', 'Tenant_g': '', 'JobId_g': '', 'RunbookName_s': '', 'StreamType_s': '', 'Caller_s': '', 'requestUri_s': '', 'Level': '', 'DurationMs': None, 'CallerIPAddress': '', 'OperationVersion': '', 'ResultSignature': '', 'id_s': '', 'status_s': '', 'LogicalServerName_s': 'jukoesmasqldb', 'Message': '', 'clientInfo_s': '', 'httpStatusCode_d': None, 'identity_claim_appid_g': '', 'identity_claim_http_schemas_microsoft_com_identity_claims_objectidentifier_g': '', 'userAgent_s': '', 'ruleName_s': '', 'identity_claim_http_schemas_xmlsoap_org_ws_2005_05_identity_claims_upn_s': '', 'systemId_g': '', 'isAccessPolicyMatch_b': None, 'EventName_s': '', 'httpMethod_s': '', 'subnetId_s': '', 'type_s': '', 'instanceId_s': '', 'macAddress_s': '', 'vnetResourceGuid_g': '', 'direction_s': '', 'subnetPrefix_s': '', 'primaryIPv4Address_s': '', 'conditions_sourcePortRange_s': '', 'priority_d': None, 'conditions_destinationPortRange_s': '', 'conditions_destinationIP_s': '', 'conditions_None_s': '', 'conditions_sourceIP_s': '', 'httpVersion_s': '', 'matchedConnections_d': None, 'startTime_t': None, 'endTime_t': None, 'DatabaseName_s': '', 'clientIP_s': '', 'host_s': '', 'requestQuery_s': '', 'sslEnabled_s': '', 'clientPort_d': None, 'httpStatus_d': None, 'receivedBytes_d': None, 'sentBytes_d': None, 'timeTaken_d': None, 'resultDescription_ErrorJobs_s': '', 'resultDescription_ChildJobs_s': '', 'identity_claim_http_schemas_microsoft_com_identity_claims_scope_s': '', 'workflowId_s': '', 'resource_location_s': '', 'resource_workflowId_g': '', 'resource_resourceGroupName_s': '', 'resource_subscriptionId_g': '', 'resource_runId_s': '', 'resource_workflowName_s': '', '_schema_s': '', 'correlation_clientTrackingId_s': '', 'properties_sku_Family_s': '', 'properties_sku_Name_s': '', 'properties_tenantId_g': '', 'properties_enabledForDeployment_b': None, 'code_s': '', 'resultDescription_Summary_MachineId_s': '', 'resultDescription_Summary_ScheduleName_s': '', 'resultDescription_Summary_Status_s': '', 'resultDescription_Summary_StatusDescription_s': '', 'resultDescription_Summary_MachineName_s': '', 'resultDescription_Summary_TotalUpdatesInstalled_d': None, 'resultDescription_Summary_RebootRequired_b': None, 'resultDescription_Summary_TotalUpdatesFailed_d': None, 'resultDescription_Summary_InstallPercentage_d': None, 'resultDescription_Summary_StartDateTimeUtc_t': None, 'resource_triggerName_s': '', 'resultDescription_Summary_InitialRequiredUpdatesCount_d': None, 'properties_enabledForTemplateDeployment_b': None, 'resultDescription_Summary_EndDateTimeUtc_s': '', 'resultDescription_Summary_DurationInMinutes_s': '', 'resource_originRunId_s': '', 'properties_enabledForDiskEncryption_b': None, 'resource_actionName_s': '', 'correlation_actionTrackingId_g': '', 'resultDescription_Summary_EndDateTimeUtc_t': None, 'resultDescription_Summary_DurationInMinutes_d': None, 'conditions_protocols_s': '', 'identity_claim_ipaddr_s': '', 'ElasticPoolName_s': '', 'identity_claim_http_schemas_microsoft_com_claims_authnmethodsreferences_s': '', 'RunOn_s': '', 'query_hash_s': '', 'SourceSystem': 'Azure', 'MG': '', 'ManagementGroupName': '', 'Computer': '', 'RawData': '', 'interval_start_time_d': None, 'interval_end_time_d': None, 'logical_io_writes_d': None, 'max_logical_io_writes_d': None, 'physical_io_reads_d': None, 'max_physical_io_reads_d': None, 'logical_io_reads_d': None, 'max_logical_io_reads_d': None, 'execution_type_d': None, 'count_executions_d': None, 'cpu_time_d': None, 'max_cpu_time_d': None, 'dop_d': None, 'max_dop_d': None, 'rowcount_d': None, 'max_rowcount_d': None, 'query_max_used_memory_d': None, 'max_query_max_used_memory_d': None, 'duration_d': None, 'max_duration_d': None, 'num_physical_io_reads_d': None, 'max_num_physical_io_reads_d': None, 'log_bytes_used_d': None, 'max_log_bytes_used_d': None, 'query_id_d': None, 'plan_id_d': None, 'statement_sql_handle_s': '', 'error_state_d': None, 'deadlock_xml_s': '', 'query_plan_hash_s': '', 'error_number_d': None, 'Severity': None, 'user_defined_b': None, 'state_d': None, 'package_s': 'SecAudit', 'event_s': 'audit_event_shoebox', 'sessionName_s': 'audit_session_for_shoebox', 'originalEventTimestamp_t': datetime.datetime(2021, 2, 3, 4, 22, 14, 285000, tzinfo=tzutc()), 'audit_schema_version_d': 1, 'event_time_t': datetime.datetime(2021, 2, 3, 4, 22, 13, 399000, tzinfo=tzutc()), 'sequence_number_d': 1, 'action_id_s': 'BCM ', 'action_name_s': 'BATCH COMPLETED', 'succeeded_s': 'true', 'is_column_permission_s': 'false', 'session_id_d': 99, 'server_principal_id_d': 0, 'database_principal_id_d': 1, 'target_server_principal_id_d': 0, 'target_database_principal_id_d': 0, 'object_id_d': 5, 'user_defined_event_id_d': 0, 'transaction_id_d': 0, 'class_type_s': 'DB', 'class_type_description_s': 'DATABASE', 'securable_class_type_s': 'DATABASE', 'duration_milliseconds_d': 0, 'response_rows_d': 0, 'affected_rows_d': 0, 'client_ip_s': '131.107.174.142', 'permission_bitmask_g': '00000000-0000-0000-0000-000000000000', 'sequence_group_id_g': '54ed3e99-a9af-43c9-80c0-a1d8c08858c8', 'session_server_principal_name_s': 'adslivesite', 'server_principal_name_s': 'adslivesite', 'server_principal_sid_s': '01060000000001640000000000000000cef04990da142347be1357149f87e7c1', 'database_principal_name_s': 'dbo', 'target_server_principal_name_s': '', 'target_server_principal_sid_s': '', 'target_database_principal_name_s': '', 'server_instance_name_s': 'jukoesmasqldb', 'database_name_s': 'AdventureWorks', 'schema_name_s': '', 'object_name_s': 'AdventureWorks', 'statement_s': 'set LOCK_TIMEOUT 5000', 'additional_information_s': '', 'user_defined_information_s': '', 'application_name_s': 'azdata-GeneralConnection', 'connection_id_g': 'b40baaea-b083-427f-ac02-6fd367e02a5f', 'data_sensitivity_information_s': '', 'host_name_s': 'MSSQLGIRL-01', 'session_context_s': '', 'is_server_level_audit_s': 'true', 'event_id_g': '7c0a1b81-e9e3-4a0f-962d-7b76860f1f6c', 'AdditionalFields': None, 'Type': 'AzureDiagnostics'},\n {'TimeGenerated': datetime.datetime(2021, 2, 3, 4, 22, 14, 290000, tzinfo=tzutc()), 'Category': 'SQLSecurityAuditEvents', 'ResourceProvider': 'MICROSOFT.SQL', 'Resource': 'MASTER', 'ResourceType': 'SERVERS/DATABASES', 'OperationName': 'AuditEvent', 'ResultType': '', 'CorrelationId': '', 'ResultDescription': '', 'Tenant_g': '', 'JobId_g': '', 'RunbookName_s': '', 'StreamType_s': '', 'Caller_s': '', 'requestUri_s': '', 'Level': '', 'DurationMs': None, 'CallerIPAddress': '', 'OperationVersion': '', 'ResultSignature': '', 'id_s': '', 'status_s': '', 'LogicalServerName_s': 'jukoesmasqldb', 'Message': '', 'clientInfo_s': '', 'httpStatusCode_d': None, 'identity_claim_appid_g': '', 'identity_claim_http_schemas_microsoft_com_identity_claims_objectidentifier_g': '', 'userAgent_s': '', 'ruleName_s': '', 'identity_claim_http_schemas_xmlsoap_org_ws_2005_05_identity_claims_upn_s': '', 'systemId_g': '', 'isAccessPolicyMatch_b': None, 'EventName_s': '', 'httpMethod_s': '', 'subnetId_s': '', 'type_s': '', 'instanceId_s': '', 'macAddress_s': '', 'vnetResourceGuid_g': '', 'direction_s': '', 'subnetPrefix_s': '', 'primaryIPv4Address_s': '', 'conditions_sourcePortRange_s': '', 'priority_d': None, 'conditions_destinationPortRange_s': '', 'conditions_destinationIP_s': '', 'conditions_None_s': '', 'conditions_sourceIP_s': '', 'httpVersion_s': '', 'matchedConnections_d': None, 'startTime_t': None, 'endTime_t': None, 'DatabaseName_s': '', 'clientIP_s': '', 'host_s': '', 'requestQuery_s': '', 'sslEnabled_s': '', 'clientPort_d': None, 'httpStatus_d': None, 'receivedBytes_d': None, 'sentBytes_d': None, 'timeTaken_d': None, 'resultDescription_ErrorJobs_s': '', 'resultDescription_ChildJobs_s': '', 'identity_claim_http_schemas_microsoft_com_identity_claims_scope_s': '', 'workflowId_s': '', 'resource_location_s': '', 'resource_workflowId_g': '', 'resource_resourceGroupName_s': '', 'resource_subscriptionId_g': '', 'resource_runId_s': '', 'resource_workflowName_s': '', '_schema_s': '', 'correlation_clientTrackingId_s': '', 'properties_sku_Family_s': '', 'properties_sku_Name_s': '', 'properties_tenantId_g': '', 'properties_enabledForDeployment_b': None, 'code_s': '', 'resultDescription_Summary_MachineId_s': '', 'resultDescription_Summary_ScheduleName_s': '', 'resultDescription_Summary_Status_s': '', 'resultDescription_Summary_StatusDescription_s': '', 'resultDescription_Summary_MachineName_s': '', 'resultDescription_Summary_TotalUpdatesInstalled_d': None, 'resultDescription_Summary_RebootRequired_b': None, 'resultDescription_Summary_TotalUpdatesFailed_d': None, 'resultDescription_Summary_InstallPercentage_d': None, 'resultDescription_Summary_StartDateTimeUtc_t': None, 'resource_triggerName_s': '', 'resultDescription_Summary_InitialRequiredUpdatesCount_d': None, 'properties_enabledForTemplateDeployment_b': None, 'resultDescription_Summary_EndDateTimeUtc_s': '', 'resultDescription_Summary_DurationInMinutes_s': '', 'resource_originRunId_s': '', 'properties_enabledForDiskEncryption_b': None, 'resource_actionName_s': '', 'correlation_actionTrackingId_g': '', 'resultDescription_Summary_EndDateTimeUtc_t': None, 'resultDescription_Summary_DurationInMinutes_d': None, 'conditions_protocols_s': '', 'identity_claim_ipaddr_s': '', 'ElasticPoolName_s': '', 'identity_claim_http_schemas_microsoft_com_claims_authnmethodsreferences_s': '', 'RunOn_s': '', 'query_hash_s': '', 'SourceSystem': 'Azure', 'MG': '', 'ManagementGroupName': '', 'Computer': '', 'RawData': '', 'interval_start_time_d': None, 'interval_end_time_d': None, 'logical_io_writes_d': None, 'max_logical_io_writes_d': None, 'physical_io_reads_d': None, 'max_physical_io_reads_d': None, 'logical_io_reads_d': None, 'max_logical_io_reads_d': None, 'execution_type_d': None, 'count_executions_d': None, 'cpu_time_d': None, 'max_cpu_time_d': None, 'dop_d': None, 'max_dop_d': None, 'rowcount_d': None, 'max_rowcount_d': None, 'query_max_used_memory_d': None, 'max_query_max_used_memory_d': None, 'duration_d': None, 'max_duration_d': None, 'num_physical_io_reads_d': None, 'max_num_physical_io_reads_d': None, 'log_bytes_used_d': None, 'max_log_bytes_used_d': None, 'query_id_d': None, 'plan_id_d': None, 'statement_sql_handle_s': '', 'error_state_d': None, 'deadlock_xml_s': '', 'query_plan_hash_s': '', 'error_number_d': None, 'Severity': None, 'user_defined_b': None, 'state_d': None, 'package_s': 'SecAudit', 'event_s': 'audit_event_shoebox', 'sessionName_s': 'audit_session_for_shoebox', 'originalEventTimestamp_t': datetime.datetime(2021, 2, 3, 4, 22, 14, 285000, tzinfo=tzutc()), 'audit_schema_version_d': 1, 'event_time_t': datetime.datetime(2021, 2, 3, 4, 22, 13, 430000, tzinfo=tzutc()), 'sequence_number_d': 1, 'action_id_s': 'BCM ', 'action_name_s': 'BATCH COMPLETED', 'succeeded_s': 'true', 'is_column_permission_s': 'false', 'session_id_d': 99, 'server_principal_id_d': 0, 'database_principal_id_d': 1, 'target_server_principal_id_d': 0, 'target_database_principal_id_d': 0, 'object_id_d': 5, 'user_defined_event_id_d': 0, 'transaction_id_d': 0, 'class_type_s': 'DB', 'class_type_description_s': 'DATABASE', 'securable_class_type_s': 'DATABASE', 'duration_milliseconds_d': 0, 'response_rows_d': 0, 'affected_rows_d': 0, 'client_ip_s': '131.107.174.142', 'permission_bitmask_g': '00000000-0000-0000-0000-000000000000', 'sequence_group_id_g': 'cc15a3f9-017a-4384-b195-87bdc2d53378', 'session_server_principal_name_s': 'adslivesite', 'server_principal_name_s': 'adslivesite', 'server_principal_sid_s': '01060000000001640000000000000000cef04990da142347be1357149f87e7c1', 'database_principal_name_s': 'dbo', 'target_server_principal_name_s': '', 'target_server_principal_sid_s': '', 'target_database_principal_name_s': '', 'server_instance_name_s': 'jukoesmasqldb', 'database_name_s': 'AdventureWorks', 'schema_name_s': '', 'object_name_s': 'AdventureWorks', 'statement_s': 'SET ANSI_NULLS, ANSI_PADDING, ANSI_WARNINGS, ARITHABORT, CONCAT_NULL_YIELDS_NULL, QUOTED_IDENTIFIER ON;\\r\\nSET NUMERIC_ROUNDABORT OFF;', 'additional_information_s': '', 'user_defined_information_s': '', 'application_name_s': 'azdata-GeneralConnection', 'connection_id_g': 'b40baaea-b083-427f-ac02-6fd367e02a5f', 'data_sensitivity_information_s': '', 'host_name_s': 'MSSQLGIRL-01', 'session_context_s': '', 'is_server_level_audit_s': 'true', 'event_id_g': 'fa4f9388-c09e-44cd-9ee4-4ca7fd4f7941', 'AdditionalFields': None, 'Type': 'AzureDiagnostics'}]",
                        "text/html": ""
                    },
                    "metadata": {}
                }
            ],
            "execution_count": 22
        },
        {
            "cell_type": "markdown",
            "source": [
                "## Analyze (non-audit) Events"
            ],
            "metadata": {
                "azdata_cell_guid": "19ee8932-d9da-4d77-ad62-005f38918138"
            }
        },
        {
            "cell_type": "code",
            "source": [
                "%%kql \r\n",
                "AzureDiagnostics\r\n",
                "| summarize event_count=count() by bin(TimeGenerated, 10m), OperationName\r\n",
                "| where OperationName <> \"AuditEvent\"\r\n",
                "| render timechart "
            ],
            "metadata": {
                "azdata_cell_guid": "b0794fb8-5a03-47c1-90ea-1639a07d665b",
                "tags": []
            },
            "outputs": [
                {
                    "output_type": "display_data",
                    "data": {
                        "text/plain": "<IPython.core.display.HTML object>",
                        "text/html": "<html>\n        <head>\n            \n            \n        </head>\n        <body>\n            <div><p style='padding: 10px; color: #3a87ad; background-color: #d9edf7; border-color: #bce9f1'>&nbsp;*&nbsp;myLogAnalyticsWorkspace@loganalytics</p></div>\n        </body>\n        </html>"
                    },
                    "metadata": {}
                },
                {
                    "output_type": "display_data",
                    "data": {
                        "application/vnd.plotly.v1+json": {
                            "config": {
                                "plotlyServerURL": "https://plot.ly"
                            },
                            "data": [
                                {
                                    "line": {
                                        "color": "rgb(31, 118, 179)",
                                        "width": 1
                                    },
                                    "name": "ErrorEvent:event_count",
                                    "opacity": 0.8,
                                    "type": "scatter",
                                    "x": [
                                        "2021-01-24T02:50:00+00:00",
                                        "2021-01-24T03:00:00+00:00",
                                        "2021-01-24T03:10:00+00:00",
                                        "2021-01-24T03:20:00+00:00",
                                        "2021-01-31T17:10:00+00:00",
                                        "2021-01-31T17:30:00+00:00",
                                        "2021-01-31T17:40:00+00:00",
                                        "2021-01-31T17:50:00+00:00",
                                        "2021-01-31T18:00:00+00:00",
                                        "2021-01-31T19:50:00+00:00",
                                        "2021-01-31T23:10:00+00:00",
                                        "2021-01-31T23:20:00+00:00",
                                        "2021-01-31T23:30:00+00:00",
                                        "2021-01-31T23:40:00+00:00",
                                        "2021-01-31T23:50:00+00:00",
                                        "2021-02-03T04:20:00+00:00",
                                        "2021-02-03T07:10:00+00:00",
                                        "2021-02-03T07:20:00+00:00"
                                    ],
                                    "y": [
                                        1,
                                        37,
                                        31,
                                        8,
                                        5,
                                        9,
                                        1,
                                        4,
                                        1,
                                        16,
                                        1,
                                        null,
                                        2,
                                        null,
                                        4,
                                        13,
                                        6,
                                        null
                                    ]
                                },
                                {
                                    "line": {
                                        "color": "rgb(254, 127, 14)",
                                        "width": 1
                                    },
                                    "name": "DeadlockEvent:event_count",
                                    "opacity": 0.8,
                                    "type": "scatter",
                                    "x": [
                                        "2021-01-24T02:50:00+00:00",
                                        "2021-01-24T03:00:00+00:00",
                                        "2021-01-24T03:10:00+00:00",
                                        "2021-01-24T03:20:00+00:00",
                                        "2021-01-31T17:10:00+00:00",
                                        "2021-01-31T17:30:00+00:00",
                                        "2021-01-31T17:40:00+00:00",
                                        "2021-01-31T17:50:00+00:00",
                                        "2021-01-31T18:00:00+00:00",
                                        "2021-01-31T19:50:00+00:00",
                                        "2021-01-31T23:10:00+00:00",
                                        "2021-01-31T23:20:00+00:00",
                                        "2021-01-31T23:30:00+00:00",
                                        "2021-01-31T23:40:00+00:00",
                                        "2021-01-31T23:50:00+00:00",
                                        "2021-02-03T04:20:00+00:00",
                                        "2021-02-03T07:10:00+00:00",
                                        "2021-02-03T07:20:00+00:00"
                                    ],
                                    "y": [
                                        null,
                                        null,
                                        null,
                                        null,
                                        null,
                                        null,
                                        2,
                                        1,
                                        null,
                                        null,
                                        1,
                                        null,
                                        null,
                                        null,
                                        null,
                                        null,
                                        1,
                                        null
                                    ]
                                },
                                {
                                    "line": {
                                        "color": "rgb(44, 160, 44)",
                                        "width": 1
                                    },
                                    "name": "TimeoutEvent:event_count",
                                    "opacity": 0.8,
                                    "type": "scatter",
                                    "x": [
                                        "2021-01-24T02:50:00+00:00",
                                        "2021-01-24T03:00:00+00:00",
                                        "2021-01-24T03:10:00+00:00",
                                        "2021-01-24T03:20:00+00:00",
                                        "2021-01-31T17:10:00+00:00",
                                        "2021-01-31T17:30:00+00:00",
                                        "2021-01-31T17:40:00+00:00",
                                        "2021-01-31T17:50:00+00:00",
                                        "2021-01-31T18:00:00+00:00",
                                        "2021-01-31T19:50:00+00:00",
                                        "2021-01-31T23:10:00+00:00",
                                        "2021-01-31T23:20:00+00:00",
                                        "2021-01-31T23:30:00+00:00",
                                        "2021-01-31T23:40:00+00:00",
                                        "2021-01-31T23:50:00+00:00",
                                        "2021-02-03T04:20:00+00:00",
                                        "2021-02-03T07:10:00+00:00",
                                        "2021-02-03T07:20:00+00:00"
                                    ],
                                    "y": [
                                        null,
                                        null,
                                        null,
                                        null,
                                        null,
                                        null,
                                        1,
                                        null,
                                        null,
                                        null,
                                        null,
                                        null,
                                        null,
                                        null,
                                        null,
                                        null,
                                        null,
                                        null
                                    ]
                                },
                                {
                                    "line": {
                                        "color": "rgb(214, 39, 39)",
                                        "width": 1
                                    },
                                    "name": "QueryStoreRuntimeStatisticsEvent:event_count",
                                    "opacity": 0.8,
                                    "type": "scatter",
                                    "x": [
                                        "2021-01-24T02:50:00+00:00",
                                        "2021-01-24T03:00:00+00:00",
                                        "2021-01-24T03:10:00+00:00",
                                        "2021-01-24T03:20:00+00:00",
                                        "2021-01-31T17:10:00+00:00",
                                        "2021-01-31T17:30:00+00:00",
                                        "2021-01-31T17:40:00+00:00",
                                        "2021-01-31T17:50:00+00:00",
                                        "2021-01-31T18:00:00+00:00",
                                        "2021-01-31T19:50:00+00:00",
                                        "2021-01-31T23:10:00+00:00",
                                        "2021-01-31T23:20:00+00:00",
                                        "2021-01-31T23:30:00+00:00",
                                        "2021-01-31T23:40:00+00:00",
                                        "2021-01-31T23:50:00+00:00",
                                        "2021-02-03T04:20:00+00:00",
                                        "2021-02-03T07:10:00+00:00",
                                        "2021-02-03T07:20:00+00:00"
                                    ],
                                    "y": [
                                        null,
                                        null,
                                        null,
                                        null,
                                        null,
                                        null,
                                        null,
                                        null,
                                        null,
                                        null,
                                        null,
                                        2,
                                        null,
                                        1,
                                        null,
                                        3,
                                        null,
                                        1
                                    ]
                                }
                            ],
                            "layout": {
                                "showlegend": true,
                                "template": {
                                    "data": {
                                        "bar": [
                                            {
                                                "error_x": {
                                                    "color": "#2a3f5f"
                                                },
                                                "error_y": {
                                                    "color": "#2a3f5f"
                                                },
                                                "marker": {
                                                    "line": {
                                                        "color": "#E5ECF6",
                                                        "width": 0.5
                                                    }
                                                },
                                                "type": "bar"
                                            }
                                        ],
                                        "barpolar": [
                                            {
                                                "marker": {
                                                    "line": {
                                                        "color": "#E5ECF6",
                                                        "width": 0.5
                                                    }
                                                },
                                                "type": "barpolar"
                                            }
                                        ],
                                        "carpet": [
                                            {
                                                "aaxis": {
                                                    "endlinecolor": "#2a3f5f",
                                                    "gridcolor": "white",
                                                    "linecolor": "white",
                                                    "minorgridcolor": "white",
                                                    "startlinecolor": "#2a3f5f"
                                                },
                                                "baxis": {
                                                    "endlinecolor": "#2a3f5f",
                                                    "gridcolor": "white",
                                                    "linecolor": "white",
                                                    "minorgridcolor": "white",
                                                    "startlinecolor": "#2a3f5f"
                                                },
                                                "type": "carpet"
                                            }
                                        ],
                                        "choropleth": [
                                            {
                                                "colorbar": {
                                                    "outlinewidth": 0,
                                                    "ticks": ""
                                                },
                                                "type": "choropleth"
                                            }
                                        ],
                                        "contour": [
                                            {
                                                "colorbar": {
                                                    "outlinewidth": 0,
                                                    "ticks": ""
                                                },
                                                "colorscale": [
                                                    [
                                                        0,
                                                        "#0d0887"
                                                    ],
                                                    [
                                                        0.1111111111111111,
                                                        "#46039f"
                                                    ],
                                                    [
                                                        0.2222222222222222,
                                                        "#7201a8"
                                                    ],
                                                    [
                                                        0.3333333333333333,
                                                        "#9c179e"
                                                    ],
                                                    [
                                                        0.4444444444444444,
                                                        "#bd3786"
                                                    ],
                                                    [
                                                        0.5555555555555556,
                                                        "#d8576b"
                                                    ],
                                                    [
                                                        0.6666666666666666,
                                                        "#ed7953"
                                                    ],
                                                    [
                                                        0.7777777777777778,
                                                        "#fb9f3a"
                                                    ],
                                                    [
                                                        0.8888888888888888,
                                                        "#fdca26"
                                                    ],
                                                    [
                                                        1,
                                                        "#f0f921"
                                                    ]
                                                ],
                                                "type": "contour"
                                            }
                                        ],
                                        "contourcarpet": [
                                            {
                                                "colorbar": {
                                                    "outlinewidth": 0,
                                                    "ticks": ""
                                                },
                                                "type": "contourcarpet"
                                            }
                                        ],
                                        "heatmap": [
                                            {
                                                "colorbar": {
                                                    "outlinewidth": 0,
                                                    "ticks": ""
                                                },
                                                "colorscale": [
                                                    [
                                                        0,
                                                        "#0d0887"
                                                    ],
                                                    [
                                                        0.1111111111111111,
                                                        "#46039f"
                                                    ],
                                                    [
                                                        0.2222222222222222,
                                                        "#7201a8"
                                                    ],
                                                    [
                                                        0.3333333333333333,
                                                        "#9c179e"
                                                    ],
                                                    [
                                                        0.4444444444444444,
                                                        "#bd3786"
                                                    ],
                                                    [
                                                        0.5555555555555556,
                                                        "#d8576b"
                                                    ],
                                                    [
                                                        0.6666666666666666,
                                                        "#ed7953"
                                                    ],
                                                    [
                                                        0.7777777777777778,
                                                        "#fb9f3a"
                                                    ],
                                                    [
                                                        0.8888888888888888,
                                                        "#fdca26"
                                                    ],
                                                    [
                                                        1,
                                                        "#f0f921"
                                                    ]
                                                ],
                                                "type": "heatmap"
                                            }
                                        ],
                                        "heatmapgl": [
                                            {
                                                "colorbar": {
                                                    "outlinewidth": 0,
                                                    "ticks": ""
                                                },
                                                "colorscale": [
                                                    [
                                                        0,
                                                        "#0d0887"
                                                    ],
                                                    [
                                                        0.1111111111111111,
                                                        "#46039f"
                                                    ],
                                                    [
                                                        0.2222222222222222,
                                                        "#7201a8"
                                                    ],
                                                    [
                                                        0.3333333333333333,
                                                        "#9c179e"
                                                    ],
                                                    [
                                                        0.4444444444444444,
                                                        "#bd3786"
                                                    ],
                                                    [
                                                        0.5555555555555556,
                                                        "#d8576b"
                                                    ],
                                                    [
                                                        0.6666666666666666,
                                                        "#ed7953"
                                                    ],
                                                    [
                                                        0.7777777777777778,
                                                        "#fb9f3a"
                                                    ],
                                                    [
                                                        0.8888888888888888,
                                                        "#fdca26"
                                                    ],
                                                    [
                                                        1,
                                                        "#f0f921"
                                                    ]
                                                ],
                                                "type": "heatmapgl"
                                            }
                                        ],
                                        "histogram": [
                                            {
                                                "marker": {
                                                    "colorbar": {
                                                        "outlinewidth": 0,
                                                        "ticks": ""
                                                    }
                                                },
                                                "type": "histogram"
                                            }
                                        ],
                                        "histogram2d": [
                                            {
                                                "colorbar": {
                                                    "outlinewidth": 0,
                                                    "ticks": ""
                                                },
                                                "colorscale": [
                                                    [
                                                        0,
                                                        "#0d0887"
                                                    ],
                                                    [
                                                        0.1111111111111111,
                                                        "#46039f"
                                                    ],
                                                    [
                                                        0.2222222222222222,
                                                        "#7201a8"
                                                    ],
                                                    [
                                                        0.3333333333333333,
                                                        "#9c179e"
                                                    ],
                                                    [
                                                        0.4444444444444444,
                                                        "#bd3786"
                                                    ],
                                                    [
                                                        0.5555555555555556,
                                                        "#d8576b"
                                                    ],
                                                    [
                                                        0.6666666666666666,
                                                        "#ed7953"
                                                    ],
                                                    [
                                                        0.7777777777777778,
                                                        "#fb9f3a"
                                                    ],
                                                    [
                                                        0.8888888888888888,
                                                        "#fdca26"
                                                    ],
                                                    [
                                                        1,
                                                        "#f0f921"
                                                    ]
                                                ],
                                                "type": "histogram2d"
                                            }
                                        ],
                                        "histogram2dcontour": [
                                            {
                                                "colorbar": {
                                                    "outlinewidth": 0,
                                                    "ticks": ""
                                                },
                                                "colorscale": [
                                                    [
                                                        0,
                                                        "#0d0887"
                                                    ],
                                                    [
                                                        0.1111111111111111,
                                                        "#46039f"
                                                    ],
                                                    [
                                                        0.2222222222222222,
                                                        "#7201a8"
                                                    ],
                                                    [
                                                        0.3333333333333333,
                                                        "#9c179e"
                                                    ],
                                                    [
                                                        0.4444444444444444,
                                                        "#bd3786"
                                                    ],
                                                    [
                                                        0.5555555555555556,
                                                        "#d8576b"
                                                    ],
                                                    [
                                                        0.6666666666666666,
                                                        "#ed7953"
                                                    ],
                                                    [
                                                        0.7777777777777778,
                                                        "#fb9f3a"
                                                    ],
                                                    [
                                                        0.8888888888888888,
                                                        "#fdca26"
                                                    ],
                                                    [
                                                        1,
                                                        "#f0f921"
                                                    ]
                                                ],
                                                "type": "histogram2dcontour"
                                            }
                                        ],
                                        "mesh3d": [
                                            {
                                                "colorbar": {
                                                    "outlinewidth": 0,
                                                    "ticks": ""
                                                },
                                                "type": "mesh3d"
                                            }
                                        ],
                                        "parcoords": [
                                            {
                                                "line": {
                                                    "colorbar": {
                                                        "outlinewidth": 0,
                                                        "ticks": ""
                                                    }
                                                },
                                                "type": "parcoords"
                                            }
                                        ],
                                        "pie": [
                                            {
                                                "automargin": true,
                                                "type": "pie"
                                            }
                                        ],
                                        "scatter": [
                                            {
                                                "marker": {
                                                    "colorbar": {
                                                        "outlinewidth": 0,
                                                        "ticks": ""
                                                    }
                                                },
                                                "type": "scatter"
                                            }
                                        ],
                                        "scatter3d": [
                                            {
                                                "line": {
                                                    "colorbar": {
                                                        "outlinewidth": 0,
                                                        "ticks": ""
                                                    }
                                                },
                                                "marker": {
                                                    "colorbar": {
                                                        "outlinewidth": 0,
                                                        "ticks": ""
                                                    }
                                                },
                                                "type": "scatter3d"
                                            }
                                        ],
                                        "scattercarpet": [
                                            {
                                                "marker": {
                                                    "colorbar": {
                                                        "outlinewidth": 0,
                                                        "ticks": ""
                                                    }
                                                },
                                                "type": "scattercarpet"
                                            }
                                        ],
                                        "scattergeo": [
                                            {
                                                "marker": {
                                                    "colorbar": {
                                                        "outlinewidth": 0,
                                                        "ticks": ""
                                                    }
                                                },
                                                "type": "scattergeo"
                                            }
                                        ],
                                        "scattergl": [
                                            {
                                                "marker": {
                                                    "colorbar": {
                                                        "outlinewidth": 0,
                                                        "ticks": ""
                                                    }
                                                },
                                                "type": "scattergl"
                                            }
                                        ],
                                        "scattermapbox": [
                                            {
                                                "marker": {
                                                    "colorbar": {
                                                        "outlinewidth": 0,
                                                        "ticks": ""
                                                    }
                                                },
                                                "type": "scattermapbox"
                                            }
                                        ],
                                        "scatterpolar": [
                                            {
                                                "marker": {
                                                    "colorbar": {
                                                        "outlinewidth": 0,
                                                        "ticks": ""
                                                    }
                                                },
                                                "type": "scatterpolar"
                                            }
                                        ],
                                        "scatterpolargl": [
                                            {
                                                "marker": {
                                                    "colorbar": {
                                                        "outlinewidth": 0,
                                                        "ticks": ""
                                                    }
                                                },
                                                "type": "scatterpolargl"
                                            }
                                        ],
                                        "scatterternary": [
                                            {
                                                "marker": {
                                                    "colorbar": {
                                                        "outlinewidth": 0,
                                                        "ticks": ""
                                                    }
                                                },
                                                "type": "scatterternary"
                                            }
                                        ],
                                        "surface": [
                                            {
                                                "colorbar": {
                                                    "outlinewidth": 0,
                                                    "ticks": ""
                                                },
                                                "colorscale": [
                                                    [
                                                        0,
                                                        "#0d0887"
                                                    ],
                                                    [
                                                        0.1111111111111111,
                                                        "#46039f"
                                                    ],
                                                    [
                                                        0.2222222222222222,
                                                        "#7201a8"
                                                    ],
                                                    [
                                                        0.3333333333333333,
                                                        "#9c179e"
                                                    ],
                                                    [
                                                        0.4444444444444444,
                                                        "#bd3786"
                                                    ],
                                                    [
                                                        0.5555555555555556,
                                                        "#d8576b"
                                                    ],
                                                    [
                                                        0.6666666666666666,
                                                        "#ed7953"
                                                    ],
                                                    [
                                                        0.7777777777777778,
                                                        "#fb9f3a"
                                                    ],
                                                    [
                                                        0.8888888888888888,
                                                        "#fdca26"
                                                    ],
                                                    [
                                                        1,
                                                        "#f0f921"
                                                    ]
                                                ],
                                                "type": "surface"
                                            }
                                        ],
                                        "table": [
                                            {
                                                "cells": {
                                                    "fill": {
                                                        "color": "#EBF0F8"
                                                    },
                                                    "line": {
                                                        "color": "white"
                                                    }
                                                },
                                                "header": {
                                                    "fill": {
                                                        "color": "#C8D4E3"
                                                    },
                                                    "line": {
                                                        "color": "white"
                                                    }
                                                },
                                                "type": "table"
                                            }
                                        ]
                                    },
                                    "layout": {
                                        "annotationdefaults": {
                                            "arrowcolor": "#2a3f5f",
                                            "arrowhead": 0,
                                            "arrowwidth": 1
                                        },
                                        "coloraxis": {
                                            "colorbar": {
                                                "outlinewidth": 0,
                                                "ticks": ""
                                            }
                                        },
                                        "colorscale": {
                                            "diverging": [
                                                [
                                                    0,
                                                    "#8e0152"
                                                ],
                                                [
                                                    0.1,
                                                    "#c51b7d"
                                                ],
                                                [
                                                    0.2,
                                                    "#de77ae"
                                                ],
                                                [
                                                    0.3,
                                                    "#f1b6da"
                                                ],
                                                [
                                                    0.4,
                                                    "#fde0ef"
                                                ],
                                                [
                                                    0.5,
                                                    "#f7f7f7"
                                                ],
                                                [
                                                    0.6,
                                                    "#e6f5d0"
                                                ],
                                                [
                                                    0.7,
                                                    "#b8e186"
                                                ],
                                                [
                                                    0.8,
                                                    "#7fbc41"
                                                ],
                                                [
                                                    0.9,
                                                    "#4d9221"
                                                ],
                                                [
                                                    1,
                                                    "#276419"
                                                ]
                                            ],
                                            "sequential": [
                                                [
                                                    0,
                                                    "#0d0887"
                                                ],
                                                [
                                                    0.1111111111111111,
                                                    "#46039f"
                                                ],
                                                [
                                                    0.2222222222222222,
                                                    "#7201a8"
                                                ],
                                                [
                                                    0.3333333333333333,
                                                    "#9c179e"
                                                ],
                                                [
                                                    0.4444444444444444,
                                                    "#bd3786"
                                                ],
                                                [
                                                    0.5555555555555556,
                                                    "#d8576b"
                                                ],
                                                [
                                                    0.6666666666666666,
                                                    "#ed7953"
                                                ],
                                                [
                                                    0.7777777777777778,
                                                    "#fb9f3a"
                                                ],
                                                [
                                                    0.8888888888888888,
                                                    "#fdca26"
                                                ],
                                                [
                                                    1,
                                                    "#f0f921"
                                                ]
                                            ],
                                            "sequentialminus": [
                                                [
                                                    0,
                                                    "#0d0887"
                                                ],
                                                [
                                                    0.1111111111111111,
                                                    "#46039f"
                                                ],
                                                [
                                                    0.2222222222222222,
                                                    "#7201a8"
                                                ],
                                                [
                                                    0.3333333333333333,
                                                    "#9c179e"
                                                ],
                                                [
                                                    0.4444444444444444,
                                                    "#bd3786"
                                                ],
                                                [
                                                    0.5555555555555556,
                                                    "#d8576b"
                                                ],
                                                [
                                                    0.6666666666666666,
                                                    "#ed7953"
                                                ],
                                                [
                                                    0.7777777777777778,
                                                    "#fb9f3a"
                                                ],
                                                [
                                                    0.8888888888888888,
                                                    "#fdca26"
                                                ],
                                                [
                                                    1,
                                                    "#f0f921"
                                                ]
                                            ]
                                        },
                                        "colorway": [
                                            "#636efa",
                                            "#EF553B",
                                            "#00cc96",
                                            "#ab63fa",
                                            "#FFA15A",
                                            "#19d3f3",
                                            "#FF6692",
                                            "#B6E880",
                                            "#FF97FF",
                                            "#FECB52"
                                        ],
                                        "font": {
                                            "color": "#2a3f5f"
                                        },
                                        "geo": {
                                            "bgcolor": "white",
                                            "lakecolor": "white",
                                            "landcolor": "#E5ECF6",
                                            "showlakes": true,
                                            "showland": true,
                                            "subunitcolor": "white"
                                        },
                                        "hoverlabel": {
                                            "align": "left"
                                        },
                                        "hovermode": "closest",
                                        "mapbox": {
                                            "style": "light"
                                        },
                                        "paper_bgcolor": "white",
                                        "plot_bgcolor": "#E5ECF6",
                                        "polar": {
                                            "angularaxis": {
                                                "gridcolor": "white",
                                                "linecolor": "white",
                                                "ticks": ""
                                            },
                                            "bgcolor": "#E5ECF6",
                                            "radialaxis": {
                                                "gridcolor": "white",
                                                "linecolor": "white",
                                                "ticks": ""
                                            }
                                        },
                                        "scene": {
                                            "xaxis": {
                                                "backgroundcolor": "#E5ECF6",
                                                "gridcolor": "white",
                                                "gridwidth": 2,
                                                "linecolor": "white",
                                                "showbackground": true,
                                                "ticks": "",
                                                "zerolinecolor": "white"
                                            },
                                            "yaxis": {
                                                "backgroundcolor": "#E5ECF6",
                                                "gridcolor": "white",
                                                "gridwidth": 2,
                                                "linecolor": "white",
                                                "showbackground": true,
                                                "ticks": "",
                                                "zerolinecolor": "white"
                                            },
                                            "zaxis": {
                                                "backgroundcolor": "#E5ECF6",
                                                "gridcolor": "white",
                                                "gridwidth": 2,
                                                "linecolor": "white",
                                                "showbackground": true,
                                                "ticks": "",
                                                "zerolinecolor": "white"
                                            }
                                        },
                                        "shapedefaults": {
                                            "line": {
                                                "color": "#2a3f5f"
                                            }
                                        },
                                        "ternary": {
                                            "aaxis": {
                                                "gridcolor": "white",
                                                "linecolor": "white",
                                                "ticks": ""
                                            },
                                            "baxis": {
                                                "gridcolor": "white",
                                                "linecolor": "white",
                                                "ticks": ""
                                            },
                                            "bgcolor": "#E5ECF6",
                                            "caxis": {
                                                "gridcolor": "white",
                                                "linecolor": "white",
                                                "ticks": ""
                                            }
                                        },
                                        "title": {
                                            "x": 0.05
                                        },
                                        "xaxis": {
                                            "automargin": true,
                                            "gridcolor": "white",
                                            "linecolor": "white",
                                            "ticks": "",
                                            "title": {
                                                "standoff": 15
                                            },
                                            "zerolinecolor": "white",
                                            "zerolinewidth": 2
                                        },
                                        "yaxis": {
                                            "automargin": true,
                                            "gridcolor": "white",
                                            "linecolor": "white",
                                            "ticks": "",
                                            "title": {
                                                "standoff": 15
                                            },
                                            "zerolinecolor": "white",
                                            "zerolinewidth": 2
                                        }
                                    }
                                },
                                "title": {
                                    "text": "timechart"
                                },
                                "xaxis": {
                                    "autorange": true,
                                    "title": {
                                        "text": "TimeGenerated"
                                    },
                                    "type": "date"
                                },
                                "yaxis": {
                                    "ticksuffix": "",
                                    "title": {
                                        "text": "event_count"
                                    },
                                    "type": "linear"
                                }
                            }
                        }
                    },
                    "metadata": {}
                },
                {
                    "output_type": "display_data",
                    "data": {
                        "text/plain": "<IPython.core.display.HTML object>",
                        "text/html": "<html>\n        <head>\n            \n            \n        </head>\n        <body>\n            <div><p style='padding: 10px; color: #3a87ad; background-color: #d9edf7; border-color: #bce9f1'>Done&nbsp;(00:00.650):&nbsp;24&nbsp;records</p></div>\n        </body>\n        </html>"
                    },
                    "metadata": {}
                },
                {
                    "output_type": "execute_result",
                    "execution_count": 23,
                    "data": {
                        "text/plain": "[{'TimeGenerated': datetime.datetime(2021, 2, 3, 4, 20, tzinfo=tzutc()), 'OperationName': 'ErrorEvent', 'event_count': 13},\n {'TimeGenerated': datetime.datetime(2021, 2, 3, 4, 20, tzinfo=tzutc()), 'OperationName': 'QueryStoreRuntimeStatisticsEvent', 'event_count': 3},\n {'TimeGenerated': datetime.datetime(2021, 2, 3, 7, 10, tzinfo=tzutc()), 'OperationName': 'DeadlockEvent', 'event_count': 1},\n {'TimeGenerated': datetime.datetime(2021, 2, 3, 7, 10, tzinfo=tzutc()), 'OperationName': 'ErrorEvent', 'event_count': 6},\n {'TimeGenerated': datetime.datetime(2021, 2, 3, 7, 20, tzinfo=tzutc()), 'OperationName': 'QueryStoreRuntimeStatisticsEvent', 'event_count': 1},\n {'TimeGenerated': datetime.datetime(2021, 1, 31, 23, 10, tzinfo=tzutc()), 'OperationName': 'DeadlockEvent', 'event_count': 1},\n {'TimeGenerated': datetime.datetime(2021, 1, 31, 23, 30, tzinfo=tzutc()), 'OperationName': 'ErrorEvent', 'event_count': 2},\n {'TimeGenerated': datetime.datetime(2021, 1, 31, 17, 10, tzinfo=tzutc()), 'OperationName': 'ErrorEvent', 'event_count': 5},\n {'TimeGenerated': datetime.datetime(2021, 1, 31, 17, 30, tzinfo=tzutc()), 'OperationName': 'ErrorEvent', 'event_count': 9},\n {'TimeGenerated': datetime.datetime(2021, 1, 31, 18, 0, tzinfo=tzutc()), 'OperationName': 'ErrorEvent', 'event_count': 1},\n {'TimeGenerated': datetime.datetime(2021, 1, 31, 23, 10, tzinfo=tzutc()), 'OperationName': 'ErrorEvent', 'event_count': 1},\n {'TimeGenerated': datetime.datetime(2021, 1, 31, 23, 40, tzinfo=tzutc()), 'OperationName': 'QueryStoreRuntimeStatisticsEvent', 'event_count': 1},\n {'TimeGenerated': datetime.datetime(2021, 1, 31, 23, 50, tzinfo=tzutc()), 'OperationName': 'ErrorEvent', 'event_count': 4},\n {'TimeGenerated': datetime.datetime(2021, 1, 31, 17, 40, tzinfo=tzutc()), 'OperationName': 'ErrorEvent', 'event_count': 1},\n {'TimeGenerated': datetime.datetime(2021, 1, 31, 17, 40, tzinfo=tzutc()), 'OperationName': 'DeadlockEvent', 'event_count': 2},\n {'TimeGenerated': datetime.datetime(2021, 1, 31, 17, 50, tzinfo=tzutc()), 'OperationName': 'DeadlockEvent', 'event_count': 1},\n {'TimeGenerated': datetime.datetime(2021, 1, 31, 17, 50, tzinfo=tzutc()), 'OperationName': 'ErrorEvent', 'event_count': 4},\n {'TimeGenerated': datetime.datetime(2021, 1, 31, 19, 50, tzinfo=tzutc()), 'OperationName': 'ErrorEvent', 'event_count': 16},\n {'TimeGenerated': datetime.datetime(2021, 1, 31, 17, 40, tzinfo=tzutc()), 'OperationName': 'TimeoutEvent', 'event_count': 1},\n {'TimeGenerated': datetime.datetime(2021, 1, 31, 23, 20, tzinfo=tzutc()), 'OperationName': 'QueryStoreRuntimeStatisticsEvent', 'event_count': 2},\n {'TimeGenerated': datetime.datetime(2021, 1, 24, 2, 50, tzinfo=tzutc()), 'OperationName': 'ErrorEvent', 'event_count': 1},\n {'TimeGenerated': datetime.datetime(2021, 1, 24, 3, 0, tzinfo=tzutc()), 'OperationName': 'ErrorEvent', 'event_count': 37},\n {'TimeGenerated': datetime.datetime(2021, 1, 24, 3, 10, tzinfo=tzutc()), 'OperationName': 'ErrorEvent', 'event_count': 31},\n {'TimeGenerated': datetime.datetime(2021, 1, 24, 3, 20, tzinfo=tzutc()), 'OperationName': 'ErrorEvent', 'event_count': 8}]",
                        "text/html": ""
                    },
                    "metadata": {}
                }
            ],
            "execution_count": 23
        },
        {
            "cell_type": "markdown",
            "source": [
                "## Deadlock Analysis"
            ],
            "metadata": {
                "azdata_cell_guid": "a1661835-fcb5-4af9-a353-4e7a0c70cb56"
            }
        },
        {
            "cell_type": "code",
            "source": [
                "%%kql\r\n",
                "AzureDiagnostics\r\n",
                "| where OperationName == \"DeadlockEvent\"\r\n",
                "| project TimeGenerated, Category, Resource, OperationName, Type, deadlock_xml_s\r\n",
                "| sort by TimeGenerated desc\r\n",
                "| take 50"
            ],
            "metadata": {
                "azdata_cell_guid": "60a7b4cb-076c-4222-a80f-a6e11cf51a4e"
            },
            "outputs": [
                {
                    "output_type": "display_data",
                    "data": {
                        "text/plain": "<IPython.core.display.HTML object>",
                        "text/html": "<html>\n        <head>\n            \n            \n        </head>\n        <body>\n            <div><p style='padding: 10px; color: #3a87ad; background-color: #d9edf7; border-color: #bce9f1'>&nbsp;*&nbsp;myLogAnalyticsWorkspace@loganalytics</p></div>\n        </body>\n        </html>"
                    },
                    "metadata": {}
                },
                {
                    "output_type": "display_data",
                    "data": {
                        "text/plain": "                     TimeGenerated   Category        Resource  OperationName  \\\n0 2021-02-03 07:14:30.857000+00:00  Deadlocks  ADVENTUREWORKS  DeadlockEvent   \n1 2021-01-31 23:17:10.991000+00:00  Deadlocks  ADVENTUREWORKS  DeadlockEvent   \n2 2021-01-31 17:52:44.755000+00:00  Deadlocks  ADVENTUREWORKS  DeadlockEvent   \n3 2021-01-31 17:49:57.021000+00:00  Deadlocks  ADVENTUREWORKS  DeadlockEvent   \n4 2021-01-31 17:41:58.653000+00:00  Deadlocks  ADVENTUREWORKS  DeadlockEvent   \n\n               Type                                     deadlock_xml_s  \n0  AzureDiagnostics  <deadlock>   <victim-list>    <victimProcess i...  \n1  AzureDiagnostics  <deadlock>   <victim-list>    <victimProcess i...  \n2  AzureDiagnostics  <deadlock>   <victim-list>    <victimProcess i...  \n3  AzureDiagnostics  <deadlock>   <victim-list>    <victimProcess i...  \n4  AzureDiagnostics  <deadlock>   <victim-list>    <victimProcess i...  ",
                        "text/html": "<div>\n<style scoped>\n    .dataframe tbody tr th:only-of-type {\n        vertical-align: middle;\n    }\n\n    .dataframe tbody tr th {\n        vertical-align: top;\n    }\n\n    .dataframe thead th {\n        text-align: right;\n    }\n</style>\n<table border=\"1\" class=\"dataframe\">\n  <thead>\n    <tr style=\"text-align: right;\">\n      <th></th>\n      <th>TimeGenerated</th>\n      <th>Category</th>\n      <th>Resource</th>\n      <th>OperationName</th>\n      <th>Type</th>\n      <th>deadlock_xml_s</th>\n    </tr>\n  </thead>\n  <tbody>\n    <tr>\n      <th>0</th>\n      <td>2021-02-03 07:14:30.857000+00:00</td>\n      <td>Deadlocks</td>\n      <td>ADVENTUREWORKS</td>\n      <td>DeadlockEvent</td>\n      <td>AzureDiagnostics</td>\n      <td>&lt;deadlock&gt;   &lt;victim-list&gt;    &lt;victimProcess i...</td>\n    </tr>\n    <tr>\n      <th>1</th>\n      <td>2021-01-31 23:17:10.991000+00:00</td>\n      <td>Deadlocks</td>\n      <td>ADVENTUREWORKS</td>\n      <td>DeadlockEvent</td>\n      <td>AzureDiagnostics</td>\n      <td>&lt;deadlock&gt;   &lt;victim-list&gt;    &lt;victimProcess i...</td>\n    </tr>\n    <tr>\n      <th>2</th>\n      <td>2021-01-31 17:52:44.755000+00:00</td>\n      <td>Deadlocks</td>\n      <td>ADVENTUREWORKS</td>\n      <td>DeadlockEvent</td>\n      <td>AzureDiagnostics</td>\n      <td>&lt;deadlock&gt;   &lt;victim-list&gt;    &lt;victimProcess i...</td>\n    </tr>\n    <tr>\n      <th>3</th>\n      <td>2021-01-31 17:49:57.021000+00:00</td>\n      <td>Deadlocks</td>\n      <td>ADVENTUREWORKS</td>\n      <td>DeadlockEvent</td>\n      <td>AzureDiagnostics</td>\n      <td>&lt;deadlock&gt;   &lt;victim-list&gt;    &lt;victimProcess i...</td>\n    </tr>\n    <tr>\n      <th>4</th>\n      <td>2021-01-31 17:41:58.653000+00:00</td>\n      <td>Deadlocks</td>\n      <td>ADVENTUREWORKS</td>\n      <td>DeadlockEvent</td>\n      <td>AzureDiagnostics</td>\n      <td>&lt;deadlock&gt;   &lt;victim-list&gt;    &lt;victimProcess i...</td>\n    </tr>\n  </tbody>\n</table>\n</div>",
                        "application/vnd.dataresource+json": {
                            "schema": {
                                "fields": [
                                    {
                                        "name": "TimeGenerated",
                                        "type": "datetime",
                                        "tz": "UTC"
                                    },
                                    {
                                        "name": "Category",
                                        "type": "string"
                                    },
                                    {
                                        "name": "Resource",
                                        "type": "string"
                                    },
                                    {
                                        "name": "OperationName",
                                        "type": "string"
                                    },
                                    {
                                        "name": "Type",
                                        "type": "string"
                                    },
                                    {
                                        "name": "deadlock_xml_s",
                                        "type": "string"
                                    }
                                ],
                                "kqmagic_version": "0.1.113.post1"
                            },
                            "data": [
                                {
                                    "TimeGenerated": "2021-02-03T07:14:30.857Z",
                                    "Category": "Deadlocks",
                                    "Resource": "ADVENTUREWORKS",
                                    "OperationName": "DeadlockEvent",
                                    "Type": "AzureDiagnostics",
                                    "deadlock_xml_s": "<deadlock>   <victim-list>    <victimProcess id='process1e29c477c28'/>   </victim-list>   <process-list>    <process id='process1e29c477c28' taskpriority='0' logused='280' waitresource='KEY: 5:72057594046447616 (5495ec521809)' waittime='2155' ownerId='6175817' transactionname='user_transaction' lasttranstarted='2021-02-03T07:14:28.693' XDES='0x1e2b1a68428' lockMode='U' schedulerid='2' kpid='40564' status='suspended' spid='77' sbid='0' ecid='0' priority='0' trancount='2' lastbatchstarted='2021-02-03T07:14:28.693' lastbatchcompleted='2021-02-03T07:14:28.650' lastattention='1900-01-01T00:00:00.650' clientapp='azdata-Query' hostname='filtered' hostpid='13868' loginname='filtered' isolationlevel='read committed (2)' xactid='6175817' currentdb='5' currentdbname='AdventureWorks' lockTimeout='5000' clientoption1='671156320' clientoption2='128056'>     <executionStack>      <frame procname='unknown' queryhash='0xfb56c41f149be1bf' queryplanhash='0x61108d8e53ae0281' line='7' stmtstart='260' stmtend='422' sqlhandle='0x0200000076fe5d1c0c6a574e5832f3b8ff93e633e3a1d6ae0000000000000000000000000000000000000000'>  unknown    </frame>      <frame procname='unknown' queryhash='0xfb56c41f149be1bf' queryplanhash='0x61108d8e53ae0281' line='7' stmtstart='260' stmtend='422' sqlhandle='0x0200000014799916228558ae6887fa2c71b2a218bc79a3ef0000000000000000000000000000000000000000'>  unknown    </frame>     </executionStack>     <inputbuf>  filtered   </inputbuf>    </process>    <process id='process1e2a7202ca8' taskpriority='0' logused='524' waitresource='KEY: 5:72057594046382080 (8194443284a0)' waittime='1423' ownerId='6175703' transactionname='user_transaction' lasttranstarted='2021-02-03T07:14:24.417' XDES='0x1e2b1a1c428' lockMode='U' schedulerid='2' kpid='66832' status='suspended' spid='76' sbid='0' ecid='0' priority='0' trancount='2' lastbatchstarted='2021-02-03T07:14:24.417' lastbatchcompleted='2021-02-03T07:14:19.200' lastattention='1900-01-01T00:00:00.200' clientapp='azdata-Query' hostname='filtered' hostpid='13868' loginname='filtered' isolationlevel='read committed (2)' xactid='6175703' currentdb='5' currentdbname='AdventureWorks' lockTimeout='5000' clientoption1='671156320' clientoption2='128056'>     <executionStack>      <frame procname='unknown' queryhash='0xa57159d12cb813fb' queryplanhash='0x10cbf3310dab2eb5' line='9' stmtstart='58' stmtend='186' sqlhandle='0x020000009897910214549261257b982dc5f67c7e4f562ee10000000000000000000000000000000000000000'>  unknown    </frame>      <frame procname='unknown' queryhash='0xa57159d12cb813fb' queryplanhash='0x10cbf3310dab2eb5' line='9' stmtstart='346' stmtend='484' sqlhandle='0x0200000074621c16aec77e463588eac0b82c197e790a52ba0000000000000000000000000000000000000000'>  unknown    </frame>     </executionStack>     <inputbuf>  filtered   </inputbuf>    </process>   </process-list>   <resource-list>    <keylock hobtid='72057594046447616' dbid='5' objectname='filtered' indexname='filtered' id='lock1e2b8466680' mode='X' associatedObjectId='72057594046447616'>     <owner-list>      <owner id='process1e2a7202ca8' mode='X'/>     </owner-list>     <waiter-list>      <waiter id='process1e29c477c28' mode='U' requestType='wait'/>     </waiter-list>    </keylock>    <keylock hobtid='72057594046382080' dbid='5' objectname='filtered' indexname='filtered' id='lock1e2a52b6080' mode='X' associatedObjectId='72057594046382080'>     <owner-list>      <owner id='process1e29c477c28' mode='X'/>     </owner-list>     <waiter-list>      <waiter id='process1e2a7202ca8' mode='U' requestType='wait'/>     </waiter-list>    </keylock>   </resource-list>  </deadlock>  "
                                },
                                {
                                    "TimeGenerated": "2021-01-31T23:17:10.991Z",
                                    "Category": "Deadlocks",
                                    "Resource": "ADVENTUREWORKS",
                                    "OperationName": "DeadlockEvent",
                                    "Type": "AzureDiagnostics",
                                    "deadlock_xml_s": "<deadlock>   <victim-list>    <victimProcess id='process1e2a5f1b848'/>   </victim-list>   <process-list>    <process id='process1e2a5f1b848' taskpriority='0' logused='280' waitresource='KEY: 5:72057594046447616 (5495ec521809)' waittime='4120' ownerId='4118899' transactionname='user_transaction' lasttranstarted='2021-01-31T23:17:06.863' XDES='0x1e2b1a68428' lockMode='U' schedulerid='2' kpid='28192' status='suspended' spid='101' sbid='0' ecid='0' priority='0' trancount='2' lastbatchstarted='2021-01-31T23:17:06.863' lastbatchcompleted='2021-01-31T23:16:55.913' lastattention='1900-01-01T00:00:00.913' clientapp='azdata-Query' hostname='filtered' hostpid='23864' loginname='filtered' isolationlevel='read committed (2)' xactid='4118899' currentdb='5' currentdbname='AdventureWorks' lockTimeout='5000' clientoption1='671156320' clientoption2='128056'>     <executionStack>      <frame procname='unknown' queryhash='0xfb56c41f149be1bf' queryplanhash='0x61108d8e53ae0281' line='7' stmtstart='264' stmtend='426' sqlhandle='0x0200000076fe5d1c0c6a574e5832f3b8ff93e633e3a1d6ae0000000000000000000000000000000000000000'>  unknown    </frame>      <frame procname='unknown' queryhash='0xfb56c41f149be1bf' queryplanhash='0x61108d8e53ae0281' line='7' stmtstart='264' stmtend='426' sqlhandle='0x0200000061c2cb19645e5b95bac21e642ae5c3d3db37e4800000000000000000000000000000000000000000'>  unknown    </frame>     </executionStack>     <inputbuf>  filtered   </inputbuf>    </process>    <process id='process1e2a5639c28' taskpriority='0' logused='524' waitresource='KEY: 5:72057594046382080 (8194443284a0)' waittime='2407' ownerId='4118895' transactionname='user_transaction' lasttranstarted='2021-01-31T23:17:03.573' XDES='0x1e2aa214428' lockMode='U' schedulerid='1' kpid='69652' status='suspended' spid='98' sbid='0' ecid='0' priority='0' trancount='2' lastbatchstarted='2021-01-31T23:17:03.573' lastbatchcompleted='2021-01-31T23:16:51.760' lastattention='1900-01-01T00:00:00.760' clientapp='azdata-Query' hostname='filtered' hostpid='23864' loginname='filtered' isolationlevel='read committed (2)' xactid='4118895' currentdb='5' currentdbname='AdventureWorks' lockTimeout='5000' clientoption1='671156320' clientoption2='128056'>     <executionStack>      <frame procname='unknown' queryhash='0xa57159d12cb813fb' queryplanhash='0x10cbf3310dab2eb5' line='9' stmtstart='58' stmtend='186' sqlhandle='0x020000009897910214549261257b982dc5f67c7e4f562ee10000000000000000000000000000000000000000'>  unknown    </frame>      <frame procname='unknown' queryhash='0xa57159d12cb813fb' queryplanhash='0x10cbf3310dab2eb5' line='9' stmtstart='346' stmtend='484' sqlhandle='0x0200000074621c16aec77e463588eac0b82c197e790a52ba0000000000000000000000000000000000000000'>  unknown    </frame>     </executionStack>     <inputbuf>  filtered   </inputbuf>    </process>   </process-list>   <resource-list>    <keylock hobtid='72057594046447616' dbid='5' objectname='filtered' indexname='filtered' id='lock1e2b8460e00' mode='X' associatedObjectId='72057594046447616'>     <owner-list>      <owner id='process1e2a5639c28' mode='X'/>     </owner-list>     <waiter-list>      <waiter id='process1e2a5f1b848' mode='U' requestType='wait'/>     </waiter-list>    </keylock>    <keylock hobtid='72057594046382080' dbid='5' objectname='filtered' indexname='filtered' id='lock1e2a52c6b00' mode='X' associatedObjectId='72057594046382080'>     <owner-list>      <owner id='process1e2a5f1b848' mode='X'/>     </owner-list>     <waiter-list>      <waiter id='process1e2a5639c28' mode='U' requestType='wait'/>     </waiter-list>    </keylock>   </resource-list>  </deadlock>  "
                                },
                                {
                                    "TimeGenerated": "2021-01-31T17:52:44.755Z",
                                    "Category": "Deadlocks",
                                    "Resource": "ADVENTUREWORKS",
                                    "OperationName": "DeadlockEvent",
                                    "Type": "AzureDiagnostics",
                                    "deadlock_xml_s": "<deadlock>   <victim-list>    <victimProcess id='process1e2a5639468'/>   </victim-list>   <process-list>    <process id='process1e2a5639468' taskpriority='0' logused='280' waitresource='KEY: 5:72057594046447616 (5495ec521809)' waittime='9481' ownerId='3893462' transactionname='user_transaction' lasttranstarted='2021-01-31T17:52:35.270' XDES='0x1e2aa214428' lockMode='U' schedulerid='1' kpid='55800' status='suspended' spid='106' sbid='0' ecid='0' priority='0' trancount='2' lastbatchstarted='2021-01-31T17:52:35.270' lastbatchcompleted='2021-01-31T17:52:34.847' lastattention='1900-01-01T00:00:00.847' clientapp='azdata-Query' hostname='filtered' hostpid='30132' loginname='filtered' isolationlevel='read committed (2)' xactid='3893462' currentdb='5' currentdbname='AdventureWorks' lockTimeout='4294967295' clientoption1='671156320' clientoption2='390200'>     <executionStack>      <frame procname='unknown' queryhash='0xfb56c41f149be1bf' queryplanhash='0x61108d8e53ae0281' line='6' stmtstart='194' stmtend='356' sqlhandle='0x0200000076fe5d1c0c6a574e5832f3b8ff93e633e3a1d6ae0000000000000000000000000000000000000000'>  unknown    </frame>      <frame procname='unknown' queryhash='0xfb56c41f149be1bf' queryplanhash='0x61108d8e53ae0281' line='6' stmtstart='194' stmtend='356' sqlhandle='0x020000000df1110986de8e95f385d65ef83110141c59d4800000000000000000000000000000000000000000'>  unknown    </frame>     </executionStack>     <inputbuf>  filtered   </inputbuf>    </process>    <process id='process1e29e0d7c28' taskpriority='0' logused='524' waitresource='KEY: 5:72057594046382080 (8194443284a0)' waittime='4470' ownerId='3893464' transactionname='user_transaction' lasttranstarted='2021-01-31T17:52:35.270' XDES='0x1e2b1a20428' lockMode='U' schedulerid='2' kpid='58920' status='suspended' spid='99' sbid='0' ecid='0' priority='0' trancount='2' lastbatchstarted='2021-01-31T17:52:35.270' lastbatchcompleted='2021-01-31T17:52:34.847' lastattention='2021-01-31T17:49:38.033' clientapp='azdata-Query' hostname='filtered' hostpid='30132' loginname='filtered' isolationlevel='read committed (2)' xactid='3893464' currentdb='5' currentdbname='AdventureWorks' lockTimeout='4294967295' clientoption1='671156320' clientoption2='390200'>     <executionStack>      <frame procname='unknown' queryhash='0xa57159d12cb813fb' queryplanhash='0x10cbf3310dab2eb5' line='8' stmtstart='58' stmtend='186' sqlhandle='0x020000009897910214549261257b982dc5f67c7e4f562ee10000000000000000000000000000000000000000'>  unknown    </frame>      <frame procname='unknown' queryhash='0xa57159d12cb813fb' queryplanhash='0x10cbf3310dab2eb5' line='8' stmtstart='274' stmtend='412' sqlhandle='0x0200000097c0ba25141e65dbe8b66da5a6d53b0fb9435de90000000000000000000000000000000000000000'>  unknown    </frame>     </executionStack>     <inputbuf>  filtered   </inputbuf>    </process>   </process-list>   <resource-list>    <keylock hobtid='72057594046447616' dbid='5' objectname='filtered' indexname='filtered' id='lock1e2b8428380' mode='X' associatedObjectId='72057594046447616'>     <owner-list>      <owner id='process1e29e0d7c28' mode='X'/>     </owner-list>     <waiter-list>      <waiter id='process1e2a5639468' mode='U' requestType='wait'/>     </waiter-list>    </keylock>    <keylock hobtid='72057594046382080' dbid='5' objectname='filtered' indexname='filtered' id='lock1e2b842f000' mode='X' associatedObjectId='72057594046382080'>     <owner-list>      <owner id='process1e2a5639468' mode='X'/>     </owner-list>     <waiter-list>      <waiter id='process1e29e0d7c28' mode='U' requestType='wait'/>     </waiter-list>    </keylock>   </resource-list>  </deadlock>  "
                                },
                                {
                                    "TimeGenerated": "2021-01-31T17:49:57.021Z",
                                    "Category": "Deadlocks",
                                    "Resource": "ADVENTUREWORKS",
                                    "OperationName": "DeadlockEvent",
                                    "Type": "AzureDiagnostics",
                                    "deadlock_xml_s": "<deadlock>   <victim-list>    <victimProcess id='process1e298f13848'/>   </victim-list>   <process-list>    <process id='process1e298f13848' taskpriority='0' logused='280' waitresource='KEY: 5:72057594046447616 (5495ec521809)' waittime='6427' ownerId='3892244' transactionname='user_transaction' lasttranstarted='2021-01-31T17:49:50.583' XDES='0x1e2aa214428' lockMode='U' schedulerid='1' kpid='73884' status='suspended' spid='106' sbid='0' ecid='0' priority='0' trancount='2' lastbatchstarted='2021-01-31T17:49:50.580' lastbatchcompleted='2021-01-31T17:49:50.150' lastattention='1900-01-01T00:00:00.150' clientapp='azdata-Query' hostname='filtered' hostpid='30132' loginname='filtered' isolationlevel='read committed (2)' xactid='3892244' currentdb='5' currentdbname='AdventureWorks' lockTimeout='4294967295' clientoption1='671156320' clientoption2='390200'>     <executionStack>      <frame procname='unknown' queryhash='0xfb56c41f149be1bf' queryplanhash='0x61108d8e53ae0281' line='6' stmtstart='194' stmtend='356' sqlhandle='0x0200000076fe5d1c0c6a574e5832f3b8ff93e633e3a1d6ae0000000000000000000000000000000000000000'>  unknown    </frame>      <frame procname='unknown' queryhash='0xfb56c41f149be1bf' queryplanhash='0x61108d8e53ae0281' line='6' stmtstart='194' stmtend='356' sqlhandle='0x020000000df1110986de8e95f385d65ef83110141c59d4800000000000000000000000000000000000000000'>  unknown    </frame>     </executionStack>     <inputbuf>  filtered   </inputbuf>    </process>    <process id='process1e29c4764e8' taskpriority='0' logused='848' waitresource='KEY: 5:72057594046382080 (8194443284a0)' waittime='2455' ownerId='3891323' transactionname='user_transaction' lasttranstarted='2021-01-31T17:49:25.457' XDES='0x1e2b1a20428' lockMode='U' schedulerid='2' kpid='49644' status='suspended' spid='99' sbid='0' ecid='0' priority='0' trancount='3' lastbatchstarted='2021-01-31T17:49:49.533' lastbatchcompleted='2021-01-31T17:49:49.117' lastattention='2021-01-31T17:49:38.033' clientapp='azdata-Query' hostname='filtered' hostpid='30132' loginname='filtered' isolationlevel='read committed (2)' xactid='3891323' currentdb='5' currentdbname='AdventureWorks' lockTimeout='4294967295' clientoption1='671156320' clientoption2='390200'>     <executionStack>      <frame procname='unknown' queryhash='0xa57159d12cb813fb' queryplanhash='0x10cbf3310dab2eb5' line='8' stmtstart='58' stmtend='186' sqlhandle='0x020000009897910214549261257b982dc5f67c7e4f562ee10000000000000000000000000000000000000000'>  unknown    </frame>      <frame procname='unknown' queryhash='0xa57159d12cb813fb' queryplanhash='0x10cbf3310dab2eb5' line='8' stmtstart='274' stmtend='412' sqlhandle='0x0200000097c0ba25141e65dbe8b66da5a6d53b0fb9435de90000000000000000000000000000000000000000'>  unknown    </frame>     </executionStack>     <inputbuf>  filtered   </inputbuf>    </process>   </process-list>   <resource-list>    <keylock hobtid='72057594046447616' dbid='5' objectname='filtered' indexname='filtered' id='lock1e2a52c8400' mode='X' associatedObjectId='72057594046447616'>     <owner-list>      <owner id='process1e29c4764e8' mode='X'/>     </owner-list>     <waiter-list>      <waiter id='process1e298f13848' mode='U' requestType='wait'/>     </waiter-list>    </keylock>    <keylock hobtid='72057594046382080' dbid='5' objectname='filtered' indexname='filtered' id='lock1e2b842f480' mode='X' associatedObjectId='72057594046382080'>     <owner-list>      <owner id='process1e298f13848' mode='X'/>     </owner-list>     <waiter-list>      <waiter id='process1e29c4764e8' mode='U' requestType='wait'/>     </waiter-list>    </keylock>   </resource-list>  </deadlock>  "
                                },
                                {
                                    "TimeGenerated": "2021-01-31T17:41:58.653Z",
                                    "Category": "Deadlocks",
                                    "Resource": "ADVENTUREWORKS",
                                    "OperationName": "DeadlockEvent",
                                    "Type": "AzureDiagnostics",
                                    "deadlock_xml_s": "<deadlock>   <victim-list>    <victimProcess id='process1e298f128c8'/>   </victim-list>   <process-list>    <process id='process1e298f128c8' taskpriority='0' logused='384' waitresource='KEY: 5:72057594046447616 (5495ec521809)' waittime='54780' ownerId='3884006' transactionname='user_transaction' lasttranstarted='2021-01-31T17:41:03.853' XDES='0x1e2aa21c428' lockMode='U' schedulerid='1' kpid='57492' status='suspended' spid='106' sbid='0' ecid='0' priority='0' trancount='2' lastbatchstarted='2021-01-31T17:41:03.827' lastbatchcompleted='2021-01-31T17:41:02.987' lastattention='1900-01-01T00:00:00.987' clientapp='azdata-Query' hostname='filtered' hostpid='30132' loginname='filtered' isolationlevel='read committed (2)' xactid='0' currentdb='5' currentdbname='AdventureWorks' lockTimeout='4294967295' clientoption1='671156320' clientoption2='390200'>     <executionStack>      <frame procname='unknown' queryhash='0xfb56c41f149be1bf' queryplanhash='0x61108d8e53ae0281' line='6' stmtstart='194' stmtend='356' sqlhandle='0x0200000076fe5d1c0c6a574e5832f3b8ff93e633e3a1d6ae0000000000000000000000000000000000000000'>  unknown    </frame>      <frame procname='unknown' queryhash='0xfb56c41f149be1bf' queryplanhash='0x61108d8e53ae0281' line='6' stmtstart='194' stmtend='356' sqlhandle='0x02000000bcbc6d06ee7254b8fa360aef243c3cd785054d440000000000000000000000000000000000000000'>  unknown    </frame>     </executionStack>     <inputbuf>  filtered   </inputbuf>    </process>    <process id='process1e29e0d6ca8' taskpriority='0' logused='628' waitresource='KEY: 5:72057594046382080 (8194443284a0)' waittime='4776' ownerId='3881310' transactionname='user_transaction' lasttranstarted='2021-01-31T17:37:20.030' XDES='0x1e2aa214428' lockMode='U' schedulerid='2' kpid='18980' status='suspended' spid='99' sbid='0' ecid='0' priority='0' trancount='3' lastbatchstarted='2021-01-31T17:41:03.833' lastbatchcompleted='2021-01-31T17:40:39.953' lastattention='1900-01-01T00:00:00.953' clientapp='azdata-Query' hostname='filtered' hostpid='30132' loginname='filtered' isolationlevel='read committed (2)' xactid='0' currentdb='5' currentdbname='AdventureWorks' lockTimeout='4294967295' clientoption1='671156320' clientoption2='390200'>     <executionStack>      <frame procname='unknown' queryhash='0xa57159d12cb813fb' queryplanhash='0x10cbf3310dab2eb5' line='8' stmtstart='58' stmtend='186' sqlhandle='0x020000009897910214549261257b982dc5f67c7e4f562ee10000000000000000000000000000000000000000'>  unknown    </frame>      <frame procname='unknown' queryhash='0xa57159d12cb813fb' queryplanhash='0x10cbf3310dab2eb5' line='8' stmtstart='274' stmtend='412' sqlhandle='0x0200000078bd6c09d507568a60bc156bb797a23ff6e3eea10000000000000000000000000000000000000000'>  unknown    </frame>     </executionStack>     <inputbuf>  filtered   </inputbuf>    </process>   </process-list>   <resource-list>    <keylock hobtid='72057594046447616' dbid='5' objectname='filtered' indexname='filtered' id='lock1e2b842a080' mode='X' associatedObjectId='72057594046447616'>     <owner-list>      <owner id='process1e29e0d6ca8' mode='X'/>     </owner-list>     <waiter-list>      <waiter id='process1e298f128c8' mode='U' requestType='wait'/>     </waiter-list>    </keylock>    <keylock hobtid='72057594046382080' dbid='5' objectname='filtered' indexname='filtered' id='lock1e2b842ee80' mode='X' associatedObjectId='72057594046382080'>     <owner-list>      <owner id='process1e298f128c8' mode='X'/>     </owner-list>     <waiter-list>      <waiter id='process1e29e0d6ca8' mode='U' requestType='wait'/>     </waiter-list>    </keylock>   </resource-list>  </deadlock>  "
                                }
                            ]
                        }
                    },
                    "metadata": {}
                },
                {
                    "output_type": "display_data",
                    "data": {
                        "text/plain": "<IPython.core.display.HTML object>",
                        "text/html": "<html>\n        <head>\n            \n            \n        </head>\n        <body>\n            <div><p style='padding: 10px; color: #3a87ad; background-color: #d9edf7; border-color: #bce9f1'>Done&nbsp;(00:00.361):&nbsp;5&nbsp;records</p></div>\n        </body>\n        </html>"
                    },
                    "metadata": {}
                },
                {
                    "output_type": "execute_result",
                    "execution_count": 24,
                    "data": {
                        "text/plain": "[{'TimeGenerated': datetime.datetime(2021, 2, 3, 7, 14, 30, 857000, tzinfo=tzutc()), 'Category': 'Deadlocks', 'Resource': 'ADVENTUREWORKS', 'OperationName': 'DeadlockEvent', 'Type': 'AzureDiagnostics', 'deadlock_xml_s': \"<deadlock>   <victim-list>    <victimProcess id='process1e29c477c28'/>   </victim-list>   <process-list>    <process id='process1e29c477c28' taskpriority='0' logused='280' waitresource='KEY: 5:72057594046447616 (5495ec521809)' waittime='2155' ownerId='6175817' transactionname='user_transaction' lasttranstarted='2021-02-03T07:14:28.693' XDES='0x1e2b1a68428' lockMode='U' schedulerid='2' kpid='40564' status='suspended' spid='77' sbid='0' ecid='0' priority='0' trancount='2' lastbatchstarted='2021-02-03T07:14:28.693' lastbatchcompleted='2021-02-03T07:14:28.650' lastattention='1900-01-01T00:00:00.650' clientapp='azdata-Query' hostname='filtered' hostpid='13868' loginname='filtered' isolationlevel='read committed (2)' xactid='6175817' currentdb='5' currentdbname='AdventureWorks' lockTimeout='5000' clientoption1='671156320' clientoption2='128056'>     <executionStack>      <frame procname='unknown' queryhash='0xfb56c41f149be1bf' queryplanhash='0x61108d8e53ae0281' line='7' stmtstart='260' stmtend='422' sqlhandle='0x0200000076fe5d1c0c6a574e5832f3b8ff93e633e3a1d6ae0000000000000000000000000000000000000000'>  unknown    </frame>      <frame procname='unknown' queryhash='0xfb56c41f149be1bf' queryplanhash='0x61108d8e53ae0281' line='7' stmtstart='260' stmtend='422' sqlhandle='0x0200000014799916228558ae6887fa2c71b2a218bc79a3ef0000000000000000000000000000000000000000'>  unknown    </frame>     </executionStack>     <inputbuf>  filtered   </inputbuf>    </process>    <process id='process1e2a7202ca8' taskpriority='0' logused='524' waitresource='KEY: 5:72057594046382080 (8194443284a0)' waittime='1423' ownerId='6175703' transactionname='user_transaction' lasttranstarted='2021-02-03T07:14:24.417' XDES='0x1e2b1a1c428' lockMode='U' schedulerid='2' kpid='66832' status='suspended' spid='76' sbid='0' ecid='0' priority='0' trancount='2' lastbatchstarted='2021-02-03T07:14:24.417' lastbatchcompleted='2021-02-03T07:14:19.200' lastattention='1900-01-01T00:00:00.200' clientapp='azdata-Query' hostname='filtered' hostpid='13868' loginname='filtered' isolationlevel='read committed (2)' xactid='6175703' currentdb='5' currentdbname='AdventureWorks' lockTimeout='5000' clientoption1='671156320' clientoption2='128056'>     <executionStack>      <frame procname='unknown' queryhash='0xa57159d12cb813fb' queryplanhash='0x10cbf3310dab2eb5' line='9' stmtstart='58' stmtend='186' sqlhandle='0x020000009897910214549261257b982dc5f67c7e4f562ee10000000000000000000000000000000000000000'>  unknown    </frame>      <frame procname='unknown' queryhash='0xa57159d12cb813fb' queryplanhash='0x10cbf3310dab2eb5' line='9' stmtstart='346' stmtend='484' sqlhandle='0x0200000074621c16aec77e463588eac0b82c197e790a52ba0000000000000000000000000000000000000000'>  unknown    </frame>     </executionStack>     <inputbuf>  filtered   </inputbuf>    </process>   </process-list>   <resource-list>    <keylock hobtid='72057594046447616' dbid='5' objectname='filtered' indexname='filtered' id='lock1e2b8466680' mode='X' associatedObjectId='72057594046447616'>     <owner-list>      <owner id='process1e2a7202ca8' mode='X'/>     </owner-list>     <waiter-list>      <waiter id='process1e29c477c28' mode='U' requestType='wait'/>     </waiter-list>    </keylock>    <keylock hobtid='72057594046382080' dbid='5' objectname='filtered' indexname='filtered' id='lock1e2a52b6080' mode='X' associatedObjectId='72057594046382080'>     <owner-list>      <owner id='process1e29c477c28' mode='X'/>     </owner-list>     <waiter-list>      <waiter id='process1e2a7202ca8' mode='U' requestType='wait'/>     </waiter-list>    </keylock>   </resource-list>  </deadlock>  \"},\n {'TimeGenerated': datetime.datetime(2021, 1, 31, 23, 17, 10, 991000, tzinfo=tzutc()), 'Category': 'Deadlocks', 'Resource': 'ADVENTUREWORKS', 'OperationName': 'DeadlockEvent', 'Type': 'AzureDiagnostics', 'deadlock_xml_s': \"<deadlock>   <victim-list>    <victimProcess id='process1e2a5f1b848'/>   </victim-list>   <process-list>    <process id='process1e2a5f1b848' taskpriority='0' logused='280' waitresource='KEY: 5:72057594046447616 (5495ec521809)' waittime='4120' ownerId='4118899' transactionname='user_transaction' lasttranstarted='2021-01-31T23:17:06.863' XDES='0x1e2b1a68428' lockMode='U' schedulerid='2' kpid='28192' status='suspended' spid='101' sbid='0' ecid='0' priority='0' trancount='2' lastbatchstarted='2021-01-31T23:17:06.863' lastbatchcompleted='2021-01-31T23:16:55.913' lastattention='1900-01-01T00:00:00.913' clientapp='azdata-Query' hostname='filtered' hostpid='23864' loginname='filtered' isolationlevel='read committed (2)' xactid='4118899' currentdb='5' currentdbname='AdventureWorks' lockTimeout='5000' clientoption1='671156320' clientoption2='128056'>     <executionStack>      <frame procname='unknown' queryhash='0xfb56c41f149be1bf' queryplanhash='0x61108d8e53ae0281' line='7' stmtstart='264' stmtend='426' sqlhandle='0x0200000076fe5d1c0c6a574e5832f3b8ff93e633e3a1d6ae0000000000000000000000000000000000000000'>  unknown    </frame>      <frame procname='unknown' queryhash='0xfb56c41f149be1bf' queryplanhash='0x61108d8e53ae0281' line='7' stmtstart='264' stmtend='426' sqlhandle='0x0200000061c2cb19645e5b95bac21e642ae5c3d3db37e4800000000000000000000000000000000000000000'>  unknown    </frame>     </executionStack>     <inputbuf>  filtered   </inputbuf>    </process>    <process id='process1e2a5639c28' taskpriority='0' logused='524' waitresource='KEY: 5:72057594046382080 (8194443284a0)' waittime='2407' ownerId='4118895' transactionname='user_transaction' lasttranstarted='2021-01-31T23:17:03.573' XDES='0x1e2aa214428' lockMode='U' schedulerid='1' kpid='69652' status='suspended' spid='98' sbid='0' ecid='0' priority='0' trancount='2' lastbatchstarted='2021-01-31T23:17:03.573' lastbatchcompleted='2021-01-31T23:16:51.760' lastattention='1900-01-01T00:00:00.760' clientapp='azdata-Query' hostname='filtered' hostpid='23864' loginname='filtered' isolationlevel='read committed (2)' xactid='4118895' currentdb='5' currentdbname='AdventureWorks' lockTimeout='5000' clientoption1='671156320' clientoption2='128056'>     <executionStack>      <frame procname='unknown' queryhash='0xa57159d12cb813fb' queryplanhash='0x10cbf3310dab2eb5' line='9' stmtstart='58' stmtend='186' sqlhandle='0x020000009897910214549261257b982dc5f67c7e4f562ee10000000000000000000000000000000000000000'>  unknown    </frame>      <frame procname='unknown' queryhash='0xa57159d12cb813fb' queryplanhash='0x10cbf3310dab2eb5' line='9' stmtstart='346' stmtend='484' sqlhandle='0x0200000074621c16aec77e463588eac0b82c197e790a52ba0000000000000000000000000000000000000000'>  unknown    </frame>     </executionStack>     <inputbuf>  filtered   </inputbuf>    </process>   </process-list>   <resource-list>    <keylock hobtid='72057594046447616' dbid='5' objectname='filtered' indexname='filtered' id='lock1e2b8460e00' mode='X' associatedObjectId='72057594046447616'>     <owner-list>      <owner id='process1e2a5639c28' mode='X'/>     </owner-list>     <waiter-list>      <waiter id='process1e2a5f1b848' mode='U' requestType='wait'/>     </waiter-list>    </keylock>    <keylock hobtid='72057594046382080' dbid='5' objectname='filtered' indexname='filtered' id='lock1e2a52c6b00' mode='X' associatedObjectId='72057594046382080'>     <owner-list>      <owner id='process1e2a5f1b848' mode='X'/>     </owner-list>     <waiter-list>      <waiter id='process1e2a5639c28' mode='U' requestType='wait'/>     </waiter-list>    </keylock>   </resource-list>  </deadlock>  \"},\n {'TimeGenerated': datetime.datetime(2021, 1, 31, 17, 52, 44, 755000, tzinfo=tzutc()), 'Category': 'Deadlocks', 'Resource': 'ADVENTUREWORKS', 'OperationName': 'DeadlockEvent', 'Type': 'AzureDiagnostics', 'deadlock_xml_s': \"<deadlock>   <victim-list>    <victimProcess id='process1e2a5639468'/>   </victim-list>   <process-list>    <process id='process1e2a5639468' taskpriority='0' logused='280' waitresource='KEY: 5:72057594046447616 (5495ec521809)' waittime='9481' ownerId='3893462' transactionname='user_transaction' lasttranstarted='2021-01-31T17:52:35.270' XDES='0x1e2aa214428' lockMode='U' schedulerid='1' kpid='55800' status='suspended' spid='106' sbid='0' ecid='0' priority='0' trancount='2' lastbatchstarted='2021-01-31T17:52:35.270' lastbatchcompleted='2021-01-31T17:52:34.847' lastattention='1900-01-01T00:00:00.847' clientapp='azdata-Query' hostname='filtered' hostpid='30132' loginname='filtered' isolationlevel='read committed (2)' xactid='3893462' currentdb='5' currentdbname='AdventureWorks' lockTimeout='4294967295' clientoption1='671156320' clientoption2='390200'>     <executionStack>      <frame procname='unknown' queryhash='0xfb56c41f149be1bf' queryplanhash='0x61108d8e53ae0281' line='6' stmtstart='194' stmtend='356' sqlhandle='0x0200000076fe5d1c0c6a574e5832f3b8ff93e633e3a1d6ae0000000000000000000000000000000000000000'>  unknown    </frame>      <frame procname='unknown' queryhash='0xfb56c41f149be1bf' queryplanhash='0x61108d8e53ae0281' line='6' stmtstart='194' stmtend='356' sqlhandle='0x020000000df1110986de8e95f385d65ef83110141c59d4800000000000000000000000000000000000000000'>  unknown    </frame>     </executionStack>     <inputbuf>  filtered   </inputbuf>    </process>    <process id='process1e29e0d7c28' taskpriority='0' logused='524' waitresource='KEY: 5:72057594046382080 (8194443284a0)' waittime='4470' ownerId='3893464' transactionname='user_transaction' lasttranstarted='2021-01-31T17:52:35.270' XDES='0x1e2b1a20428' lockMode='U' schedulerid='2' kpid='58920' status='suspended' spid='99' sbid='0' ecid='0' priority='0' trancount='2' lastbatchstarted='2021-01-31T17:52:35.270' lastbatchcompleted='2021-01-31T17:52:34.847' lastattention='2021-01-31T17:49:38.033' clientapp='azdata-Query' hostname='filtered' hostpid='30132' loginname='filtered' isolationlevel='read committed (2)' xactid='3893464' currentdb='5' currentdbname='AdventureWorks' lockTimeout='4294967295' clientoption1='671156320' clientoption2='390200'>     <executionStack>      <frame procname='unknown' queryhash='0xa57159d12cb813fb' queryplanhash='0x10cbf3310dab2eb5' line='8' stmtstart='58' stmtend='186' sqlhandle='0x020000009897910214549261257b982dc5f67c7e4f562ee10000000000000000000000000000000000000000'>  unknown    </frame>      <frame procname='unknown' queryhash='0xa57159d12cb813fb' queryplanhash='0x10cbf3310dab2eb5' line='8' stmtstart='274' stmtend='412' sqlhandle='0x0200000097c0ba25141e65dbe8b66da5a6d53b0fb9435de90000000000000000000000000000000000000000'>  unknown    </frame>     </executionStack>     <inputbuf>  filtered   </inputbuf>    </process>   </process-list>   <resource-list>    <keylock hobtid='72057594046447616' dbid='5' objectname='filtered' indexname='filtered' id='lock1e2b8428380' mode='X' associatedObjectId='72057594046447616'>     <owner-list>      <owner id='process1e29e0d7c28' mode='X'/>     </owner-list>     <waiter-list>      <waiter id='process1e2a5639468' mode='U' requestType='wait'/>     </waiter-list>    </keylock>    <keylock hobtid='72057594046382080' dbid='5' objectname='filtered' indexname='filtered' id='lock1e2b842f000' mode='X' associatedObjectId='72057594046382080'>     <owner-list>      <owner id='process1e2a5639468' mode='X'/>     </owner-list>     <waiter-list>      <waiter id='process1e29e0d7c28' mode='U' requestType='wait'/>     </waiter-list>    </keylock>   </resource-list>  </deadlock>  \"},\n {'TimeGenerated': datetime.datetime(2021, 1, 31, 17, 49, 57, 21000, tzinfo=tzutc()), 'Category': 'Deadlocks', 'Resource': 'ADVENTUREWORKS', 'OperationName': 'DeadlockEvent', 'Type': 'AzureDiagnostics', 'deadlock_xml_s': \"<deadlock>   <victim-list>    <victimProcess id='process1e298f13848'/>   </victim-list>   <process-list>    <process id='process1e298f13848' taskpriority='0' logused='280' waitresource='KEY: 5:72057594046447616 (5495ec521809)' waittime='6427' ownerId='3892244' transactionname='user_transaction' lasttranstarted='2021-01-31T17:49:50.583' XDES='0x1e2aa214428' lockMode='U' schedulerid='1' kpid='73884' status='suspended' spid='106' sbid='0' ecid='0' priority='0' trancount='2' lastbatchstarted='2021-01-31T17:49:50.580' lastbatchcompleted='2021-01-31T17:49:50.150' lastattention='1900-01-01T00:00:00.150' clientapp='azdata-Query' hostname='filtered' hostpid='30132' loginname='filtered' isolationlevel='read committed (2)' xactid='3892244' currentdb='5' currentdbname='AdventureWorks' lockTimeout='4294967295' clientoption1='671156320' clientoption2='390200'>     <executionStack>      <frame procname='unknown' queryhash='0xfb56c41f149be1bf' queryplanhash='0x61108d8e53ae0281' line='6' stmtstart='194' stmtend='356' sqlhandle='0x0200000076fe5d1c0c6a574e5832f3b8ff93e633e3a1d6ae0000000000000000000000000000000000000000'>  unknown    </frame>      <frame procname='unknown' queryhash='0xfb56c41f149be1bf' queryplanhash='0x61108d8e53ae0281' line='6' stmtstart='194' stmtend='356' sqlhandle='0x020000000df1110986de8e95f385d65ef83110141c59d4800000000000000000000000000000000000000000'>  unknown    </frame>     </executionStack>     <inputbuf>  filtered   </inputbuf>    </process>    <process id='process1e29c4764e8' taskpriority='0' logused='848' waitresource='KEY: 5:72057594046382080 (8194443284a0)' waittime='2455' ownerId='3891323' transactionname='user_transaction' lasttranstarted='2021-01-31T17:49:25.457' XDES='0x1e2b1a20428' lockMode='U' schedulerid='2' kpid='49644' status='suspended' spid='99' sbid='0' ecid='0' priority='0' trancount='3' lastbatchstarted='2021-01-31T17:49:49.533' lastbatchcompleted='2021-01-31T17:49:49.117' lastattention='2021-01-31T17:49:38.033' clientapp='azdata-Query' hostname='filtered' hostpid='30132' loginname='filtered' isolationlevel='read committed (2)' xactid='3891323' currentdb='5' currentdbname='AdventureWorks' lockTimeout='4294967295' clientoption1='671156320' clientoption2='390200'>     <executionStack>      <frame procname='unknown' queryhash='0xa57159d12cb813fb' queryplanhash='0x10cbf3310dab2eb5' line='8' stmtstart='58' stmtend='186' sqlhandle='0x020000009897910214549261257b982dc5f67c7e4f562ee10000000000000000000000000000000000000000'>  unknown    </frame>      <frame procname='unknown' queryhash='0xa57159d12cb813fb' queryplanhash='0x10cbf3310dab2eb5' line='8' stmtstart='274' stmtend='412' sqlhandle='0x0200000097c0ba25141e65dbe8b66da5a6d53b0fb9435de90000000000000000000000000000000000000000'>  unknown    </frame>     </executionStack>     <inputbuf>  filtered   </inputbuf>    </process>   </process-list>   <resource-list>    <keylock hobtid='72057594046447616' dbid='5' objectname='filtered' indexname='filtered' id='lock1e2a52c8400' mode='X' associatedObjectId='72057594046447616'>     <owner-list>      <owner id='process1e29c4764e8' mode='X'/>     </owner-list>     <waiter-list>      <waiter id='process1e298f13848' mode='U' requestType='wait'/>     </waiter-list>    </keylock>    <keylock hobtid='72057594046382080' dbid='5' objectname='filtered' indexname='filtered' id='lock1e2b842f480' mode='X' associatedObjectId='72057594046382080'>     <owner-list>      <owner id='process1e298f13848' mode='X'/>     </owner-list>     <waiter-list>      <waiter id='process1e29c4764e8' mode='U' requestType='wait'/>     </waiter-list>    </keylock>   </resource-list>  </deadlock>  \"},\n {'TimeGenerated': datetime.datetime(2021, 1, 31, 17, 41, 58, 653000, tzinfo=tzutc()), 'Category': 'Deadlocks', 'Resource': 'ADVENTUREWORKS', 'OperationName': 'DeadlockEvent', 'Type': 'AzureDiagnostics', 'deadlock_xml_s': \"<deadlock>   <victim-list>    <victimProcess id='process1e298f128c8'/>   </victim-list>   <process-list>    <process id='process1e298f128c8' taskpriority='0' logused='384' waitresource='KEY: 5:72057594046447616 (5495ec521809)' waittime='54780' ownerId='3884006' transactionname='user_transaction' lasttranstarted='2021-01-31T17:41:03.853' XDES='0x1e2aa21c428' lockMode='U' schedulerid='1' kpid='57492' status='suspended' spid='106' sbid='0' ecid='0' priority='0' trancount='2' lastbatchstarted='2021-01-31T17:41:03.827' lastbatchcompleted='2021-01-31T17:41:02.987' lastattention='1900-01-01T00:00:00.987' clientapp='azdata-Query' hostname='filtered' hostpid='30132' loginname='filtered' isolationlevel='read committed (2)' xactid='0' currentdb='5' currentdbname='AdventureWorks' lockTimeout='4294967295' clientoption1='671156320' clientoption2='390200'>     <executionStack>      <frame procname='unknown' queryhash='0xfb56c41f149be1bf' queryplanhash='0x61108d8e53ae0281' line='6' stmtstart='194' stmtend='356' sqlhandle='0x0200000076fe5d1c0c6a574e5832f3b8ff93e633e3a1d6ae0000000000000000000000000000000000000000'>  unknown    </frame>      <frame procname='unknown' queryhash='0xfb56c41f149be1bf' queryplanhash='0x61108d8e53ae0281' line='6' stmtstart='194' stmtend='356' sqlhandle='0x02000000bcbc6d06ee7254b8fa360aef243c3cd785054d440000000000000000000000000000000000000000'>  unknown    </frame>     </executionStack>     <inputbuf>  filtered   </inputbuf>    </process>    <process id='process1e29e0d6ca8' taskpriority='0' logused='628' waitresource='KEY: 5:72057594046382080 (8194443284a0)' waittime='4776' ownerId='3881310' transactionname='user_transaction' lasttranstarted='2021-01-31T17:37:20.030' XDES='0x1e2aa214428' lockMode='U' schedulerid='2' kpid='18980' status='suspended' spid='99' sbid='0' ecid='0' priority='0' trancount='3' lastbatchstarted='2021-01-31T17:41:03.833' lastbatchcompleted='2021-01-31T17:40:39.953' lastattention='1900-01-01T00:00:00.953' clientapp='azdata-Query' hostname='filtered' hostpid='30132' loginname='filtered' isolationlevel='read committed (2)' xactid='0' currentdb='5' currentdbname='AdventureWorks' lockTimeout='4294967295' clientoption1='671156320' clientoption2='390200'>     <executionStack>      <frame procname='unknown' queryhash='0xa57159d12cb813fb' queryplanhash='0x10cbf3310dab2eb5' line='8' stmtstart='58' stmtend='186' sqlhandle='0x020000009897910214549261257b982dc5f67c7e4f562ee10000000000000000000000000000000000000000'>  unknown    </frame>      <frame procname='unknown' queryhash='0xa57159d12cb813fb' queryplanhash='0x10cbf3310dab2eb5' line='8' stmtstart='274' stmtend='412' sqlhandle='0x0200000078bd6c09d507568a60bc156bb797a23ff6e3eea10000000000000000000000000000000000000000'>  unknown    </frame>     </executionStack>     <inputbuf>  filtered   </inputbuf>    </process>   </process-list>   <resource-list>    <keylock hobtid='72057594046447616' dbid='5' objectname='filtered' indexname='filtered' id='lock1e2b842a080' mode='X' associatedObjectId='72057594046447616'>     <owner-list>      <owner id='process1e29e0d6ca8' mode='X'/>     </owner-list>     <waiter-list>      <waiter id='process1e298f128c8' mode='U' requestType='wait'/>     </waiter-list>    </keylock>    <keylock hobtid='72057594046382080' dbid='5' objectname='filtered' indexname='filtered' id='lock1e2b842ee80' mode='X' associatedObjectId='72057594046382080'>     <owner-list>      <owner id='process1e298f128c8' mode='X'/>     </owner-list>     <waiter-list>      <waiter id='process1e29e0d6ca8' mode='U' requestType='wait'/>     </waiter-list>    </keylock>   </resource-list>  </deadlock>  \"}]",
                        "text/html": ""
                    },
                    "metadata": {}
                }
            ],
            "execution_count": 24
        },
        {
            "cell_type": "markdown",
            "source": [
                "Find the deadlock query plan"
            ],
            "metadata": {
                "azdata_cell_guid": "af8b22fa-3396-4e95-b1d6-1a96fa400f03"
            }
        },
        {
            "cell_type": "code",
            "source": [
                "%%kql\r\n",
                "AzureDiagnostics\r\n",
                "| where OperationName == \"DeadlockEvent\"\r\n",
                "| extend d = parse_xml(deadlock_xml_s)\r\n",
                "| project TimeGenerated, QuerhPlanHash = d.deadlock.[\"process-list\"].process[0].executionStack.frame[0][\"@queryplanhash\"], QueryHash = d.deadlock.[\"process-list\"].process[0].executionStack.frame[0][\"@queryhash\"]\r\n",
                "//| sort by TimeGenerated desc\r\n",
                "| take 50"
            ],
            "metadata": {
                "azdata_cell_guid": "9b024cd2-768f-4ad4-9031-19f22dee9ecd",
                "tags": []
            },
            "outputs": [
                {
                    "output_type": "display_data",
                    "data": {
                        "text/plain": "<IPython.core.display.HTML object>",
                        "text/html": "<html>\n        <head>\n            \n            \n        </head>\n        <body>\n            <div><p style='padding: 10px; color: #3a87ad; background-color: #d9edf7; border-color: #bce9f1'>&nbsp;*&nbsp;myLogAnalyticsWorkspace@loganalytics</p></div>\n        </body>\n        </html>"
                    },
                    "metadata": {}
                },
                {
                    "output_type": "display_data",
                    "data": {
                        "text/plain": "                     TimeGenerated       QuerhPlanHash           QueryHash\n0 2021-02-03 07:14:30.857000+00:00  0x61108d8e53ae0281  0xfb56c41f149be1bf\n1 2021-01-31 23:17:10.991000+00:00  0x61108d8e53ae0281  0xfb56c41f149be1bf\n2 2021-01-31 17:49:57.021000+00:00  0x61108d8e53ae0281  0xfb56c41f149be1bf\n3 2021-01-31 17:52:44.755000+00:00  0x61108d8e53ae0281  0xfb56c41f149be1bf\n4 2021-01-31 17:41:58.653000+00:00  0x61108d8e53ae0281  0xfb56c41f149be1bf",
                        "text/html": "<div>\n<style scoped>\n    .dataframe tbody tr th:only-of-type {\n        vertical-align: middle;\n    }\n\n    .dataframe tbody tr th {\n        vertical-align: top;\n    }\n\n    .dataframe thead th {\n        text-align: right;\n    }\n</style>\n<table border=\"1\" class=\"dataframe\">\n  <thead>\n    <tr style=\"text-align: right;\">\n      <th></th>\n      <th>TimeGenerated</th>\n      <th>QuerhPlanHash</th>\n      <th>QueryHash</th>\n    </tr>\n  </thead>\n  <tbody>\n    <tr>\n      <th>0</th>\n      <td>2021-02-03 07:14:30.857000+00:00</td>\n      <td>0x61108d8e53ae0281</td>\n      <td>0xfb56c41f149be1bf</td>\n    </tr>\n    <tr>\n      <th>1</th>\n      <td>2021-01-31 23:17:10.991000+00:00</td>\n      <td>0x61108d8e53ae0281</td>\n      <td>0xfb56c41f149be1bf</td>\n    </tr>\n    <tr>\n      <th>2</th>\n      <td>2021-01-31 17:49:57.021000+00:00</td>\n      <td>0x61108d8e53ae0281</td>\n      <td>0xfb56c41f149be1bf</td>\n    </tr>\n    <tr>\n      <th>3</th>\n      <td>2021-01-31 17:52:44.755000+00:00</td>\n      <td>0x61108d8e53ae0281</td>\n      <td>0xfb56c41f149be1bf</td>\n    </tr>\n    <tr>\n      <th>4</th>\n      <td>2021-01-31 17:41:58.653000+00:00</td>\n      <td>0x61108d8e53ae0281</td>\n      <td>0xfb56c41f149be1bf</td>\n    </tr>\n  </tbody>\n</table>\n</div>",
                        "application/vnd.dataresource+json": {
                            "schema": {
                                "fields": [
                                    {
                                        "name": "TimeGenerated",
                                        "type": "datetime",
                                        "tz": "UTC"
                                    },
                                    {
                                        "name": "QuerhPlanHash",
                                        "type": "string"
                                    },
                                    {
                                        "name": "QueryHash",
                                        "type": "string"
                                    }
                                ],
                                "kqmagic_version": "0.1.113.post1"
                            },
                            "data": [
                                {
                                    "TimeGenerated": "2021-02-03T07:14:30.857Z",
                                    "QuerhPlanHash": "0x61108d8e53ae0281",
                                    "QueryHash": "0xfb56c41f149be1bf"
                                },
                                {
                                    "TimeGenerated": "2021-01-31T23:17:10.991Z",
                                    "QuerhPlanHash": "0x61108d8e53ae0281",
                                    "QueryHash": "0xfb56c41f149be1bf"
                                },
                                {
                                    "TimeGenerated": "2021-01-31T17:49:57.021Z",
                                    "QuerhPlanHash": "0x61108d8e53ae0281",
                                    "QueryHash": "0xfb56c41f149be1bf"
                                },
                                {
                                    "TimeGenerated": "2021-01-31T17:52:44.755Z",
                                    "QuerhPlanHash": "0x61108d8e53ae0281",
                                    "QueryHash": "0xfb56c41f149be1bf"
                                },
                                {
                                    "TimeGenerated": "2021-01-31T17:41:58.653Z",
                                    "QuerhPlanHash": "0x61108d8e53ae0281",
                                    "QueryHash": "0xfb56c41f149be1bf"
                                }
                            ]
                        }
                    },
                    "metadata": {}
                },
                {
                    "output_type": "display_data",
                    "data": {
                        "text/plain": "<IPython.core.display.HTML object>",
                        "text/html": "<html>\n        <head>\n            \n            \n        </head>\n        <body>\n            <div><p style='padding: 10px; color: #3a87ad; background-color: #d9edf7; border-color: #bce9f1'>Done&nbsp;(00:00.442):&nbsp;5&nbsp;records</p></div>\n        </body>\n        </html>"
                    },
                    "metadata": {}
                },
                {
                    "output_type": "execute_result",
                    "execution_count": 25,
                    "data": {
                        "text/plain": "[{'TimeGenerated': datetime.datetime(2021, 2, 3, 7, 14, 30, 857000, tzinfo=tzutc()), 'QuerhPlanHash': '0x61108d8e53ae0281', 'QueryHash': '0xfb56c41f149be1bf'},\n {'TimeGenerated': datetime.datetime(2021, 1, 31, 23, 17, 10, 991000, tzinfo=tzutc()), 'QuerhPlanHash': '0x61108d8e53ae0281', 'QueryHash': '0xfb56c41f149be1bf'},\n {'TimeGenerated': datetime.datetime(2021, 1, 31, 17, 49, 57, 21000, tzinfo=tzutc()), 'QuerhPlanHash': '0x61108d8e53ae0281', 'QueryHash': '0xfb56c41f149be1bf'},\n {'TimeGenerated': datetime.datetime(2021, 1, 31, 17, 52, 44, 755000, tzinfo=tzutc()), 'QuerhPlanHash': '0x61108d8e53ae0281', 'QueryHash': '0xfb56c41f149be1bf'},\n {'TimeGenerated': datetime.datetime(2021, 1, 31, 17, 41, 58, 653000, tzinfo=tzutc()), 'QuerhPlanHash': '0x61108d8e53ae0281', 'QueryHash': '0xfb56c41f149be1bf'}]",
                        "text/html": ""
                    },
                    "metadata": {}
                }
            ],
            "execution_count": 25
        },
        {
            "cell_type": "markdown",
            "source": [
                "## Query Store Runtime Statistics Events"
            ],
            "metadata": {
                "azdata_cell_guid": "c793f2df-65ec-455a-8ec1-bd152d842158"
            }
        },
        {
            "cell_type": "code",
            "source": [
                "%%kql\r\n",
                "AzureDiagnostics\r\n",
                "| where OperationName == \"QueryStoreRuntimeStatisticsEvent\"\r\n",
                "| project TimeGenerated, query_hash_s, statement_sql_handle_s, query_plan_hash_s\r\n",
                "| take 50"
            ],
            "metadata": {
                "azdata_cell_guid": "f99877c9-38ab-4907-b939-f2d8207fbc71"
            },
            "outputs": [
                {
                    "output_type": "display_data",
                    "data": {
                        "text/plain": "<IPython.core.display.HTML object>",
                        "text/html": "<html>\n        <head>\n            \n            \n        </head>\n        <body>\n            <div><p style='padding: 10px; color: #3a87ad; background-color: #d9edf7; border-color: #bce9f1'>&nbsp;*&nbsp;myLogAnalyticsWorkspace@loganalytics</p></div>\n        </body>\n        </html>"
                    },
                    "metadata": {}
                },
                {
                    "output_type": "display_data",
                    "data": {
                        "text/plain": "                     TimeGenerated        query_hash_s  \\\n0 2021-01-31 23:28:11.744000+00:00  0xE8E6F7DC2D2909FE   \n1 2021-01-31 23:28:11.744000+00:00  0xD47FA8AE1E407243   \n2 2021-01-31 23:43:11.998000+00:00  0xE8E6F7DC2D2909FE   \n3 2021-02-03 04:29:02.416000+00:00  0xE8E6F7DC2D2909FE   \n4 2021-02-03 04:29:02.416000+00:00  0xD9BFE0AEB1B674BF   \n5 2021-02-03 04:29:02.416000+00:00  0x4E8C0B5AF78C4ED1   \n6 2021-02-03 07:29:05.360000+00:00  0xE8E6F7DC2D2909FE   \n\n                              statement_sql_handle_s   query_plan_hash_s  \n0  0x0900B90F6497028D7C84720EFD387ECE8C2F00000000...  0x037E2E7A34FBE1AD  \n1  0x0900B10677BE63CAE65A693887D6502113BC00000000...  0xFA26A5F6A84C8679  \n2  0x0900B90F6497028D7C84720EFD387ECE8C2F00000000...  0x037E2E7A34FBE1AD  \n3  0x0900B90F6497028D7C84720EFD387ECE8C2F00000000...  0x037E2E7A34FBE1AD  \n4  0x0900769CEE691C933F258772430BD1146CFF00000000...  0xEB919DD1DFFE113C  \n5  0x0900C6D4FC50EF5B4E298DBE4E3A7EA7911F00000000...  0xB44B4BF819B82F62  \n6  0x0900B90F6497028D7C84720EFD387ECE8C2F00000000...  0x037E2E7A34FBE1AD  ",
                        "text/html": "<div>\n<style scoped>\n    .dataframe tbody tr th:only-of-type {\n        vertical-align: middle;\n    }\n\n    .dataframe tbody tr th {\n        vertical-align: top;\n    }\n\n    .dataframe thead th {\n        text-align: right;\n    }\n</style>\n<table border=\"1\" class=\"dataframe\">\n  <thead>\n    <tr style=\"text-align: right;\">\n      <th></th>\n      <th>TimeGenerated</th>\n      <th>query_hash_s</th>\n      <th>statement_sql_handle_s</th>\n      <th>query_plan_hash_s</th>\n    </tr>\n  </thead>\n  <tbody>\n    <tr>\n      <th>0</th>\n      <td>2021-01-31 23:28:11.744000+00:00</td>\n      <td>0xE8E6F7DC2D2909FE</td>\n      <td>0x0900B90F6497028D7C84720EFD387ECE8C2F00000000...</td>\n      <td>0x037E2E7A34FBE1AD</td>\n    </tr>\n    <tr>\n      <th>1</th>\n      <td>2021-01-31 23:28:11.744000+00:00</td>\n      <td>0xD47FA8AE1E407243</td>\n      <td>0x0900B10677BE63CAE65A693887D6502113BC00000000...</td>\n      <td>0xFA26A5F6A84C8679</td>\n    </tr>\n    <tr>\n      <th>2</th>\n      <td>2021-01-31 23:43:11.998000+00:00</td>\n      <td>0xE8E6F7DC2D2909FE</td>\n      <td>0x0900B90F6497028D7C84720EFD387ECE8C2F00000000...</td>\n      <td>0x037E2E7A34FBE1AD</td>\n    </tr>\n    <tr>\n      <th>3</th>\n      <td>2021-02-03 04:29:02.416000+00:00</td>\n      <td>0xE8E6F7DC2D2909FE</td>\n      <td>0x0900B90F6497028D7C84720EFD387ECE8C2F00000000...</td>\n      <td>0x037E2E7A34FBE1AD</td>\n    </tr>\n    <tr>\n      <th>4</th>\n      <td>2021-02-03 04:29:02.416000+00:00</td>\n      <td>0xD9BFE0AEB1B674BF</td>\n      <td>0x0900769CEE691C933F258772430BD1146CFF00000000...</td>\n      <td>0xEB919DD1DFFE113C</td>\n    </tr>\n    <tr>\n      <th>5</th>\n      <td>2021-02-03 04:29:02.416000+00:00</td>\n      <td>0x4E8C0B5AF78C4ED1</td>\n      <td>0x0900C6D4FC50EF5B4E298DBE4E3A7EA7911F00000000...</td>\n      <td>0xB44B4BF819B82F62</td>\n    </tr>\n    <tr>\n      <th>6</th>\n      <td>2021-02-03 07:29:05.360000+00:00</td>\n      <td>0xE8E6F7DC2D2909FE</td>\n      <td>0x0900B90F6497028D7C84720EFD387ECE8C2F00000000...</td>\n      <td>0x037E2E7A34FBE1AD</td>\n    </tr>\n  </tbody>\n</table>\n</div>",
                        "application/vnd.dataresource+json": {
                            "schema": {
                                "fields": [
                                    {
                                        "name": "TimeGenerated",
                                        "type": "datetime",
                                        "tz": "UTC"
                                    },
                                    {
                                        "name": "query_hash_s",
                                        "type": "string"
                                    },
                                    {
                                        "name": "statement_sql_handle_s",
                                        "type": "string"
                                    },
                                    {
                                        "name": "query_plan_hash_s",
                                        "type": "string"
                                    }
                                ],
                                "kqmagic_version": "0.1.113.post1"
                            },
                            "data": [
                                {
                                    "TimeGenerated": "2021-01-31T23:28:11.744Z",
                                    "query_hash_s": "0xE8E6F7DC2D2909FE",
                                    "statement_sql_handle_s": "0x0900B90F6497028D7C84720EFD387ECE8C2F0000000000000000000000000000000000000000000000000000",
                                    "query_plan_hash_s": "0x037E2E7A34FBE1AD"
                                },
                                {
                                    "TimeGenerated": "2021-01-31T23:28:11.744Z",
                                    "query_hash_s": "0xD47FA8AE1E407243",
                                    "statement_sql_handle_s": "0x0900B10677BE63CAE65A693887D6502113BC0000000000000000000000000000000000000000000000000000",
                                    "query_plan_hash_s": "0xFA26A5F6A84C8679"
                                },
                                {
                                    "TimeGenerated": "2021-01-31T23:43:11.998Z",
                                    "query_hash_s": "0xE8E6F7DC2D2909FE",
                                    "statement_sql_handle_s": "0x0900B90F6497028D7C84720EFD387ECE8C2F0000000000000000000000000000000000000000000000000000",
                                    "query_plan_hash_s": "0x037E2E7A34FBE1AD"
                                },
                                {
                                    "TimeGenerated": "2021-02-03T04:29:02.416Z",
                                    "query_hash_s": "0xE8E6F7DC2D2909FE",
                                    "statement_sql_handle_s": "0x0900B90F6497028D7C84720EFD387ECE8C2F0000000000000000000000000000000000000000000000000000",
                                    "query_plan_hash_s": "0x037E2E7A34FBE1AD"
                                },
                                {
                                    "TimeGenerated": "2021-02-03T04:29:02.416Z",
                                    "query_hash_s": "0xD9BFE0AEB1B674BF",
                                    "statement_sql_handle_s": "0x0900769CEE691C933F258772430BD1146CFF0000000000000000000000000000000000000000000000000000",
                                    "query_plan_hash_s": "0xEB919DD1DFFE113C"
                                },
                                {
                                    "TimeGenerated": "2021-02-03T04:29:02.416Z",
                                    "query_hash_s": "0x4E8C0B5AF78C4ED1",
                                    "statement_sql_handle_s": "0x0900C6D4FC50EF5B4E298DBE4E3A7EA7911F0000000000000000000000000000000000000000000000000000",
                                    "query_plan_hash_s": "0xB44B4BF819B82F62"
                                },
                                {
                                    "TimeGenerated": "2021-02-03T07:29:05.360Z",
                                    "query_hash_s": "0xE8E6F7DC2D2909FE",
                                    "statement_sql_handle_s": "0x0900B90F6497028D7C84720EFD387ECE8C2F0000000000000000000000000000000000000000000000000000",
                                    "query_plan_hash_s": "0x037E2E7A34FBE1AD"
                                }
                            ]
                        }
                    },
                    "metadata": {}
                },
                {
                    "output_type": "display_data",
                    "data": {
                        "text/plain": "<IPython.core.display.HTML object>",
                        "text/html": "<html>\n        <head>\n            \n            \n        </head>\n        <body>\n            <div><p style='padding: 10px; color: #3a87ad; background-color: #d9edf7; border-color: #bce9f1'>Done&nbsp;(00:00.313):&nbsp;7&nbsp;records</p></div>\n        </body>\n        </html>"
                    },
                    "metadata": {}
                },
                {
                    "output_type": "execute_result",
                    "execution_count": 26,
                    "data": {
                        "text/plain": "[{'TimeGenerated': datetime.datetime(2021, 1, 31, 23, 28, 11, 744000, tzinfo=tzutc()), 'query_hash_s': '0xE8E6F7DC2D2909FE', 'statement_sql_handle_s': '0x0900B90F6497028D7C84720EFD387ECE8C2F0000000000000000000000000000000000000000000000000000', 'query_plan_hash_s': '0x037E2E7A34FBE1AD'},\n {'TimeGenerated': datetime.datetime(2021, 1, 31, 23, 28, 11, 744000, tzinfo=tzutc()), 'query_hash_s': '0xD47FA8AE1E407243', 'statement_sql_handle_s': '0x0900B10677BE63CAE65A693887D6502113BC0000000000000000000000000000000000000000000000000000', 'query_plan_hash_s': '0xFA26A5F6A84C8679'},\n {'TimeGenerated': datetime.datetime(2021, 1, 31, 23, 43, 11, 998000, tzinfo=tzutc()), 'query_hash_s': '0xE8E6F7DC2D2909FE', 'statement_sql_handle_s': '0x0900B90F6497028D7C84720EFD387ECE8C2F0000000000000000000000000000000000000000000000000000', 'query_plan_hash_s': '0x037E2E7A34FBE1AD'},\n {'TimeGenerated': datetime.datetime(2021, 2, 3, 4, 29, 2, 416000, tzinfo=tzutc()), 'query_hash_s': '0xE8E6F7DC2D2909FE', 'statement_sql_handle_s': '0x0900B90F6497028D7C84720EFD387ECE8C2F0000000000000000000000000000000000000000000000000000', 'query_plan_hash_s': '0x037E2E7A34FBE1AD'},\n {'TimeGenerated': datetime.datetime(2021, 2, 3, 4, 29, 2, 416000, tzinfo=tzutc()), 'query_hash_s': '0xD9BFE0AEB1B674BF', 'statement_sql_handle_s': '0x0900769CEE691C933F258772430BD1146CFF0000000000000000000000000000000000000000000000000000', 'query_plan_hash_s': '0xEB919DD1DFFE113C'},\n {'TimeGenerated': datetime.datetime(2021, 2, 3, 4, 29, 2, 416000, tzinfo=tzutc()), 'query_hash_s': '0x4E8C0B5AF78C4ED1', 'statement_sql_handle_s': '0x0900C6D4FC50EF5B4E298DBE4E3A7EA7911F0000000000000000000000000000000000000000000000000000', 'query_plan_hash_s': '0xB44B4BF819B82F62'},\n {'TimeGenerated': datetime.datetime(2021, 2, 3, 7, 29, 5, 360000, tzinfo=tzutc()), 'query_hash_s': '0xE8E6F7DC2D2909FE', 'statement_sql_handle_s': '0x0900B90F6497028D7C84720EFD387ECE8C2F0000000000000000000000000000000000000000000000000000', 'query_plan_hash_s': '0x037E2E7A34FBE1AD'}]",
                        "text/html": ""
                    },
                    "metadata": {}
                }
            ],
            "execution_count": 26
        },
        {
            "cell_type": "markdown",
            "source": [
                "## Analyze Errors"
            ],
            "metadata": {
                "azdata_cell_guid": "92c68e36-87a2-4355-8d4b-56d001462d1e"
            }
        },
        {
            "cell_type": "code",
            "source": [
                "%%kql \r\n",
                "AzureDiagnostics\r\n",
                "| where OperationName == \"ErrorEvent\"\r\n",
                "| extend ErrorNumber =  tostring(error_number_d) \r\n",
                "| summarize event_count=count() by EventTime = bin(TimeGenerated, 10m), ErrorNumber\r\n",
                "| render timechart "
            ],
            "metadata": {
                "azdata_cell_guid": "229543f7-f24c-48c1-a9d5-0a3d0d708e25"
            },
            "outputs": [
                {
                    "output_type": "display_data",
                    "data": {
                        "text/plain": "<IPython.core.display.HTML object>",
                        "text/html": "<html>\n        <head>\n            \n            \n        </head>\n        <body>\n            <div><p style='padding: 10px; color: #3a87ad; background-color: #d9edf7; border-color: #bce9f1'>&nbsp;*&nbsp;myLogAnalyticsWorkspace@loganalytics</p></div>\n        </body>\n        </html>"
                    },
                    "metadata": {}
                },
                {
                    "output_type": "display_data",
                    "data": {
                        "application/vnd.plotly.v1+json": {
                            "config": {
                                "plotlyServerURL": "https://plot.ly"
                            },
                            "data": [
                                {
                                    "line": {
                                        "color": "rgb(31, 118, 179)",
                                        "width": 1
                                    },
                                    "name": "208.0:event_count",
                                    "opacity": 0.8,
                                    "type": "scatter",
                                    "x": [
                                        "2021-01-24T02:50:00+00:00",
                                        "2021-01-24T03:00:00+00:00",
                                        "2021-01-24T03:10:00+00:00",
                                        "2021-01-24T03:20:00+00:00",
                                        "2021-01-31T17:10:00+00:00",
                                        "2021-01-31T17:30:00+00:00",
                                        "2021-01-31T17:40:00+00:00",
                                        "2021-01-31T17:50:00+00:00",
                                        "2021-01-31T18:00:00+00:00",
                                        "2021-01-31T19:50:00+00:00",
                                        "2021-01-31T23:10:00+00:00",
                                        "2021-01-31T23:30:00+00:00",
                                        "2021-01-31T23:50:00+00:00",
                                        "2021-02-03T04:20:00+00:00",
                                        "2021-02-03T07:10:00+00:00"
                                    ],
                                    "y": [
                                        1,
                                        37,
                                        28,
                                        5,
                                        5,
                                        9,
                                        1,
                                        3,
                                        null,
                                        12,
                                        1,
                                        1,
                                        null,
                                        11,
                                        6
                                    ]
                                },
                                {
                                    "line": {
                                        "color": "rgb(254, 127, 14)",
                                        "width": 1
                                    },
                                    "name": "1222.0:event_count",
                                    "opacity": 0.8,
                                    "type": "scatter",
                                    "x": [
                                        "2021-01-24T02:50:00+00:00",
                                        "2021-01-24T03:00:00+00:00",
                                        "2021-01-24T03:10:00+00:00",
                                        "2021-01-24T03:20:00+00:00",
                                        "2021-01-31T17:10:00+00:00",
                                        "2021-01-31T17:30:00+00:00",
                                        "2021-01-31T17:40:00+00:00",
                                        "2021-01-31T17:50:00+00:00",
                                        "2021-01-31T18:00:00+00:00",
                                        "2021-01-31T19:50:00+00:00",
                                        "2021-01-31T23:10:00+00:00",
                                        "2021-01-31T23:30:00+00:00",
                                        "2021-01-31T23:50:00+00:00",
                                        "2021-02-03T04:20:00+00:00",
                                        "2021-02-03T07:10:00+00:00"
                                    ],
                                    "y": [
                                        null,
                                        null,
                                        2,
                                        2,
                                        null,
                                        null,
                                        null,
                                        null,
                                        null,
                                        2,
                                        null,
                                        null,
                                        null,
                                        2,
                                        null
                                    ]
                                },
                                {
                                    "line": {
                                        "color": "rgb(44, 160, 44)",
                                        "width": 1
                                    },
                                    "name": "2714.0:event_count",
                                    "opacity": 0.8,
                                    "type": "scatter",
                                    "x": [
                                        "2021-01-24T02:50:00+00:00",
                                        "2021-01-24T03:00:00+00:00",
                                        "2021-01-24T03:10:00+00:00",
                                        "2021-01-24T03:20:00+00:00",
                                        "2021-01-31T17:10:00+00:00",
                                        "2021-01-31T17:30:00+00:00",
                                        "2021-01-31T17:40:00+00:00",
                                        "2021-01-31T17:50:00+00:00",
                                        "2021-01-31T18:00:00+00:00",
                                        "2021-01-31T19:50:00+00:00",
                                        "2021-01-31T23:10:00+00:00",
                                        "2021-01-31T23:30:00+00:00",
                                        "2021-01-31T23:50:00+00:00",
                                        "2021-02-03T04:20:00+00:00",
                                        "2021-02-03T07:10:00+00:00"
                                    ],
                                    "y": [
                                        null,
                                        null,
                                        1,
                                        null,
                                        null,
                                        null,
                                        null,
                                        null,
                                        null,
                                        null,
                                        null,
                                        null,
                                        null,
                                        null,
                                        null
                                    ]
                                },
                                {
                                    "line": {
                                        "color": "rgb(214, 39, 39)",
                                        "width": 1
                                    },
                                    "name": "3903.0:event_count",
                                    "opacity": 0.8,
                                    "type": "scatter",
                                    "x": [
                                        "2021-01-24T02:50:00+00:00",
                                        "2021-01-24T03:00:00+00:00",
                                        "2021-01-24T03:10:00+00:00",
                                        "2021-01-24T03:20:00+00:00",
                                        "2021-01-31T17:10:00+00:00",
                                        "2021-01-31T17:30:00+00:00",
                                        "2021-01-31T17:40:00+00:00",
                                        "2021-01-31T17:50:00+00:00",
                                        "2021-01-31T18:00:00+00:00",
                                        "2021-01-31T19:50:00+00:00",
                                        "2021-01-31T23:10:00+00:00",
                                        "2021-01-31T23:30:00+00:00",
                                        "2021-01-31T23:50:00+00:00",
                                        "2021-02-03T04:20:00+00:00",
                                        "2021-02-03T07:10:00+00:00"
                                    ],
                                    "y": [
                                        null,
                                        null,
                                        null,
                                        1,
                                        null,
                                        null,
                                        null,
                                        null,
                                        null,
                                        null,
                                        null,
                                        null,
                                        null,
                                        null,
                                        null
                                    ]
                                },
                                {
                                    "line": {
                                        "color": "rgb(147, 102, 189)",
                                        "width": 1
                                    },
                                    "name": "8134.0:event_count",
                                    "opacity": 0.8,
                                    "type": "scatter",
                                    "x": [
                                        "2021-01-24T02:50:00+00:00",
                                        "2021-01-24T03:00:00+00:00",
                                        "2021-01-24T03:10:00+00:00",
                                        "2021-01-24T03:20:00+00:00",
                                        "2021-01-31T17:10:00+00:00",
                                        "2021-01-31T17:30:00+00:00",
                                        "2021-01-31T17:40:00+00:00",
                                        "2021-01-31T17:50:00+00:00",
                                        "2021-01-31T18:00:00+00:00",
                                        "2021-01-31T19:50:00+00:00",
                                        "2021-01-31T23:10:00+00:00",
                                        "2021-01-31T23:30:00+00:00",
                                        "2021-01-31T23:50:00+00:00",
                                        "2021-02-03T04:20:00+00:00",
                                        "2021-02-03T07:10:00+00:00"
                                    ],
                                    "y": [
                                        null,
                                        null,
                                        null,
                                        null,
                                        null,
                                        null,
                                        null,
                                        1,
                                        1,
                                        null,
                                        null,
                                        null,
                                        null,
                                        null,
                                        null
                                    ]
                                },
                                {
                                    "line": {
                                        "color": "rgb(140, 86, 74)",
                                        "width": 1
                                    },
                                    "name": "257.0:event_count",
                                    "opacity": 0.8,
                                    "type": "scatter",
                                    "x": [
                                        "2021-01-24T02:50:00+00:00",
                                        "2021-01-24T03:00:00+00:00",
                                        "2021-01-24T03:10:00+00:00",
                                        "2021-01-24T03:20:00+00:00",
                                        "2021-01-31T17:10:00+00:00",
                                        "2021-01-31T17:30:00+00:00",
                                        "2021-01-31T17:40:00+00:00",
                                        "2021-01-31T17:50:00+00:00",
                                        "2021-01-31T18:00:00+00:00",
                                        "2021-01-31T19:50:00+00:00",
                                        "2021-01-31T23:10:00+00:00",
                                        "2021-01-31T23:30:00+00:00",
                                        "2021-01-31T23:50:00+00:00",
                                        "2021-02-03T04:20:00+00:00",
                                        "2021-02-03T07:10:00+00:00"
                                    ],
                                    "y": [
                                        null,
                                        null,
                                        null,
                                        null,
                                        null,
                                        null,
                                        null,
                                        null,
                                        null,
                                        2,
                                        null,
                                        null,
                                        null,
                                        null,
                                        null
                                    ]
                                },
                                {
                                    "line": {
                                        "color": "rgb(227, 119, 193)",
                                        "width": 1
                                    },
                                    "name": "2809.0:event_count",
                                    "opacity": 0.8,
                                    "type": "scatter",
                                    "x": [
                                        "2021-01-24T02:50:00+00:00",
                                        "2021-01-24T03:00:00+00:00",
                                        "2021-01-24T03:10:00+00:00",
                                        "2021-01-24T03:20:00+00:00",
                                        "2021-01-31T17:10:00+00:00",
                                        "2021-01-31T17:30:00+00:00",
                                        "2021-01-31T17:40:00+00:00",
                                        "2021-01-31T17:50:00+00:00",
                                        "2021-01-31T18:00:00+00:00",
                                        "2021-01-31T19:50:00+00:00",
                                        "2021-01-31T23:10:00+00:00",
                                        "2021-01-31T23:30:00+00:00",
                                        "2021-01-31T23:50:00+00:00",
                                        "2021-02-03T04:20:00+00:00",
                                        "2021-02-03T07:10:00+00:00"
                                    ],
                                    "y": [
                                        null,
                                        null,
                                        null,
                                        null,
                                        null,
                                        null,
                                        null,
                                        null,
                                        null,
                                        null,
                                        null,
                                        1,
                                        null,
                                        null,
                                        null
                                    ]
                                },
                                {
                                    "line": {
                                        "color": "rgb(127, 127, 127)",
                                        "width": 1
                                    },
                                    "name": "12413.0:event_count",
                                    "opacity": 0.8,
                                    "type": "scatter",
                                    "x": [
                                        "2021-01-24T02:50:00+00:00",
                                        "2021-01-24T03:00:00+00:00",
                                        "2021-01-24T03:10:00+00:00",
                                        "2021-01-24T03:20:00+00:00",
                                        "2021-01-31T17:10:00+00:00",
                                        "2021-01-31T17:30:00+00:00",
                                        "2021-01-31T17:40:00+00:00",
                                        "2021-01-31T17:50:00+00:00",
                                        "2021-01-31T18:00:00+00:00",
                                        "2021-01-31T19:50:00+00:00",
                                        "2021-01-31T23:10:00+00:00",
                                        "2021-01-31T23:30:00+00:00",
                                        "2021-01-31T23:50:00+00:00",
                                        "2021-02-03T04:20:00+00:00",
                                        "2021-02-03T07:10:00+00:00"
                                    ],
                                    "y": [
                                        null,
                                        null,
                                        null,
                                        null,
                                        null,
                                        null,
                                        null,
                                        null,
                                        null,
                                        null,
                                        null,
                                        null,
                                        3,
                                        null,
                                        null
                                    ]
                                },
                                {
                                    "line": {
                                        "color": "rgb(188, 189, 33)",
                                        "width": 1
                                    },
                                    "name": "215.0:event_count",
                                    "opacity": 0.8,
                                    "type": "scatter",
                                    "x": [
                                        "2021-01-24T02:50:00+00:00",
                                        "2021-01-24T03:00:00+00:00",
                                        "2021-01-24T03:10:00+00:00",
                                        "2021-01-24T03:20:00+00:00",
                                        "2021-01-31T17:10:00+00:00",
                                        "2021-01-31T17:30:00+00:00",
                                        "2021-01-31T17:40:00+00:00",
                                        "2021-01-31T17:50:00+00:00",
                                        "2021-01-31T18:00:00+00:00",
                                        "2021-01-31T19:50:00+00:00",
                                        "2021-01-31T23:10:00+00:00",
                                        "2021-01-31T23:30:00+00:00",
                                        "2021-01-31T23:50:00+00:00",
                                        "2021-02-03T04:20:00+00:00",
                                        "2021-02-03T07:10:00+00:00"
                                    ],
                                    "y": [
                                        null,
                                        null,
                                        null,
                                        null,
                                        null,
                                        null,
                                        null,
                                        null,
                                        null,
                                        null,
                                        null,
                                        null,
                                        1,
                                        null,
                                        null
                                    ]
                                }
                            ],
                            "layout": {
                                "showlegend": true,
                                "template": {
                                    "data": {
                                        "bar": [
                                            {
                                                "error_x": {
                                                    "color": "#2a3f5f"
                                                },
                                                "error_y": {
                                                    "color": "#2a3f5f"
                                                },
                                                "marker": {
                                                    "line": {
                                                        "color": "#E5ECF6",
                                                        "width": 0.5
                                                    }
                                                },
                                                "type": "bar"
                                            }
                                        ],
                                        "barpolar": [
                                            {
                                                "marker": {
                                                    "line": {
                                                        "color": "#E5ECF6",
                                                        "width": 0.5
                                                    }
                                                },
                                                "type": "barpolar"
                                            }
                                        ],
                                        "carpet": [
                                            {
                                                "aaxis": {
                                                    "endlinecolor": "#2a3f5f",
                                                    "gridcolor": "white",
                                                    "linecolor": "white",
                                                    "minorgridcolor": "white",
                                                    "startlinecolor": "#2a3f5f"
                                                },
                                                "baxis": {
                                                    "endlinecolor": "#2a3f5f",
                                                    "gridcolor": "white",
                                                    "linecolor": "white",
                                                    "minorgridcolor": "white",
                                                    "startlinecolor": "#2a3f5f"
                                                },
                                                "type": "carpet"
                                            }
                                        ],
                                        "choropleth": [
                                            {
                                                "colorbar": {
                                                    "outlinewidth": 0,
                                                    "ticks": ""
                                                },
                                                "type": "choropleth"
                                            }
                                        ],
                                        "contour": [
                                            {
                                                "colorbar": {
                                                    "outlinewidth": 0,
                                                    "ticks": ""
                                                },
                                                "colorscale": [
                                                    [
                                                        0,
                                                        "#0d0887"
                                                    ],
                                                    [
                                                        0.1111111111111111,
                                                        "#46039f"
                                                    ],
                                                    [
                                                        0.2222222222222222,
                                                        "#7201a8"
                                                    ],
                                                    [
                                                        0.3333333333333333,
                                                        "#9c179e"
                                                    ],
                                                    [
                                                        0.4444444444444444,
                                                        "#bd3786"
                                                    ],
                                                    [
                                                        0.5555555555555556,
                                                        "#d8576b"
                                                    ],
                                                    [
                                                        0.6666666666666666,
                                                        "#ed7953"
                                                    ],
                                                    [
                                                        0.7777777777777778,
                                                        "#fb9f3a"
                                                    ],
                                                    [
                                                        0.8888888888888888,
                                                        "#fdca26"
                                                    ],
                                                    [
                                                        1,
                                                        "#f0f921"
                                                    ]
                                                ],
                                                "type": "contour"
                                            }
                                        ],
                                        "contourcarpet": [
                                            {
                                                "colorbar": {
                                                    "outlinewidth": 0,
                                                    "ticks": ""
                                                },
                                                "type": "contourcarpet"
                                            }
                                        ],
                                        "heatmap": [
                                            {
                                                "colorbar": {
                                                    "outlinewidth": 0,
                                                    "ticks": ""
                                                },
                                                "colorscale": [
                                                    [
                                                        0,
                                                        "#0d0887"
                                                    ],
                                                    [
                                                        0.1111111111111111,
                                                        "#46039f"
                                                    ],
                                                    [
                                                        0.2222222222222222,
                                                        "#7201a8"
                                                    ],
                                                    [
                                                        0.3333333333333333,
                                                        "#9c179e"
                                                    ],
                                                    [
                                                        0.4444444444444444,
                                                        "#bd3786"
                                                    ],
                                                    [
                                                        0.5555555555555556,
                                                        "#d8576b"
                                                    ],
                                                    [
                                                        0.6666666666666666,
                                                        "#ed7953"
                                                    ],
                                                    [
                                                        0.7777777777777778,
                                                        "#fb9f3a"
                                                    ],
                                                    [
                                                        0.8888888888888888,
                                                        "#fdca26"
                                                    ],
                                                    [
                                                        1,
                                                        "#f0f921"
                                                    ]
                                                ],
                                                "type": "heatmap"
                                            }
                                        ],
                                        "heatmapgl": [
                                            {
                                                "colorbar": {
                                                    "outlinewidth": 0,
                                                    "ticks": ""
                                                },
                                                "colorscale": [
                                                    [
                                                        0,
                                                        "#0d0887"
                                                    ],
                                                    [
                                                        0.1111111111111111,
                                                        "#46039f"
                                                    ],
                                                    [
                                                        0.2222222222222222,
                                                        "#7201a8"
                                                    ],
                                                    [
                                                        0.3333333333333333,
                                                        "#9c179e"
                                                    ],
                                                    [
                                                        0.4444444444444444,
                                                        "#bd3786"
                                                    ],
                                                    [
                                                        0.5555555555555556,
                                                        "#d8576b"
                                                    ],
                                                    [
                                                        0.6666666666666666,
                                                        "#ed7953"
                                                    ],
                                                    [
                                                        0.7777777777777778,
                                                        "#fb9f3a"
                                                    ],
                                                    [
                                                        0.8888888888888888,
                                                        "#fdca26"
                                                    ],
                                                    [
                                                        1,
                                                        "#f0f921"
                                                    ]
                                                ],
                                                "type": "heatmapgl"
                                            }
                                        ],
                                        "histogram": [
                                            {
                                                "marker": {
                                                    "colorbar": {
                                                        "outlinewidth": 0,
                                                        "ticks": ""
                                                    }
                                                },
                                                "type": "histogram"
                                            }
                                        ],
                                        "histogram2d": [
                                            {
                                                "colorbar": {
                                                    "outlinewidth": 0,
                                                    "ticks": ""
                                                },
                                                "colorscale": [
                                                    [
                                                        0,
                                                        "#0d0887"
                                                    ],
                                                    [
                                                        0.1111111111111111,
                                                        "#46039f"
                                                    ],
                                                    [
                                                        0.2222222222222222,
                                                        "#7201a8"
                                                    ],
                                                    [
                                                        0.3333333333333333,
                                                        "#9c179e"
                                                    ],
                                                    [
                                                        0.4444444444444444,
                                                        "#bd3786"
                                                    ],
                                                    [
                                                        0.5555555555555556,
                                                        "#d8576b"
                                                    ],
                                                    [
                                                        0.6666666666666666,
                                                        "#ed7953"
                                                    ],
                                                    [
                                                        0.7777777777777778,
                                                        "#fb9f3a"
                                                    ],
                                                    [
                                                        0.8888888888888888,
                                                        "#fdca26"
                                                    ],
                                                    [
                                                        1,
                                                        "#f0f921"
                                                    ]
                                                ],
                                                "type": "histogram2d"
                                            }
                                        ],
                                        "histogram2dcontour": [
                                            {
                                                "colorbar": {
                                                    "outlinewidth": 0,
                                                    "ticks": ""
                                                },
                                                "colorscale": [
                                                    [
                                                        0,
                                                        "#0d0887"
                                                    ],
                                                    [
                                                        0.1111111111111111,
                                                        "#46039f"
                                                    ],
                                                    [
                                                        0.2222222222222222,
                                                        "#7201a8"
                                                    ],
                                                    [
                                                        0.3333333333333333,
                                                        "#9c179e"
                                                    ],
                                                    [
                                                        0.4444444444444444,
                                                        "#bd3786"
                                                    ],
                                                    [
                                                        0.5555555555555556,
                                                        "#d8576b"
                                                    ],
                                                    [
                                                        0.6666666666666666,
                                                        "#ed7953"
                                                    ],
                                                    [
                                                        0.7777777777777778,
                                                        "#fb9f3a"
                                                    ],
                                                    [
                                                        0.8888888888888888,
                                                        "#fdca26"
                                                    ],
                                                    [
                                                        1,
                                                        "#f0f921"
                                                    ]
                                                ],
                                                "type": "histogram2dcontour"
                                            }
                                        ],
                                        "mesh3d": [
                                            {
                                                "colorbar": {
                                                    "outlinewidth": 0,
                                                    "ticks": ""
                                                },
                                                "type": "mesh3d"
                                            }
                                        ],
                                        "parcoords": [
                                            {
                                                "line": {
                                                    "colorbar": {
                                                        "outlinewidth": 0,
                                                        "ticks": ""
                                                    }
                                                },
                                                "type": "parcoords"
                                            }
                                        ],
                                        "pie": [
                                            {
                                                "automargin": true,
                                                "type": "pie"
                                            }
                                        ],
                                        "scatter": [
                                            {
                                                "marker": {
                                                    "colorbar": {
                                                        "outlinewidth": 0,
                                                        "ticks": ""
                                                    }
                                                },
                                                "type": "scatter"
                                            }
                                        ],
                                        "scatter3d": [
                                            {
                                                "line": {
                                                    "colorbar": {
                                                        "outlinewidth": 0,
                                                        "ticks": ""
                                                    }
                                                },
                                                "marker": {
                                                    "colorbar": {
                                                        "outlinewidth": 0,
                                                        "ticks": ""
                                                    }
                                                },
                                                "type": "scatter3d"
                                            }
                                        ],
                                        "scattercarpet": [
                                            {
                                                "marker": {
                                                    "colorbar": {
                                                        "outlinewidth": 0,
                                                        "ticks": ""
                                                    }
                                                },
                                                "type": "scattercarpet"
                                            }
                                        ],
                                        "scattergeo": [
                                            {
                                                "marker": {
                                                    "colorbar": {
                                                        "outlinewidth": 0,
                                                        "ticks": ""
                                                    }
                                                },
                                                "type": "scattergeo"
                                            }
                                        ],
                                        "scattergl": [
                                            {
                                                "marker": {
                                                    "colorbar": {
                                                        "outlinewidth": 0,
                                                        "ticks": ""
                                                    }
                                                },
                                                "type": "scattergl"
                                            }
                                        ],
                                        "scattermapbox": [
                                            {
                                                "marker": {
                                                    "colorbar": {
                                                        "outlinewidth": 0,
                                                        "ticks": ""
                                                    }
                                                },
                                                "type": "scattermapbox"
                                            }
                                        ],
                                        "scatterpolar": [
                                            {
                                                "marker": {
                                                    "colorbar": {
                                                        "outlinewidth": 0,
                                                        "ticks": ""
                                                    }
                                                },
                                                "type": "scatterpolar"
                                            }
                                        ],
                                        "scatterpolargl": [
                                            {
                                                "marker": {
                                                    "colorbar": {
                                                        "outlinewidth": 0,
                                                        "ticks": ""
                                                    }
                                                },
                                                "type": "scatterpolargl"
                                            }
                                        ],
                                        "scatterternary": [
                                            {
                                                "marker": {
                                                    "colorbar": {
                                                        "outlinewidth": 0,
                                                        "ticks": ""
                                                    }
                                                },
                                                "type": "scatterternary"
                                            }
                                        ],
                                        "surface": [
                                            {
                                                "colorbar": {
                                                    "outlinewidth": 0,
                                                    "ticks": ""
                                                },
                                                "colorscale": [
                                                    [
                                                        0,
                                                        "#0d0887"
                                                    ],
                                                    [
                                                        0.1111111111111111,
                                                        "#46039f"
                                                    ],
                                                    [
                                                        0.2222222222222222,
                                                        "#7201a8"
                                                    ],
                                                    [
                                                        0.3333333333333333,
                                                        "#9c179e"
                                                    ],
                                                    [
                                                        0.4444444444444444,
                                                        "#bd3786"
                                                    ],
                                                    [
                                                        0.5555555555555556,
                                                        "#d8576b"
                                                    ],
                                                    [
                                                        0.6666666666666666,
                                                        "#ed7953"
                                                    ],
                                                    [
                                                        0.7777777777777778,
                                                        "#fb9f3a"
                                                    ],
                                                    [
                                                        0.8888888888888888,
                                                        "#fdca26"
                                                    ],
                                                    [
                                                        1,
                                                        "#f0f921"
                                                    ]
                                                ],
                                                "type": "surface"
                                            }
                                        ],
                                        "table": [
                                            {
                                                "cells": {
                                                    "fill": {
                                                        "color": "#EBF0F8"
                                                    },
                                                    "line": {
                                                        "color": "white"
                                                    }
                                                },
                                                "header": {
                                                    "fill": {
                                                        "color": "#C8D4E3"
                                                    },
                                                    "line": {
                                                        "color": "white"
                                                    }
                                                },
                                                "type": "table"
                                            }
                                        ]
                                    },
                                    "layout": {
                                        "annotationdefaults": {
                                            "arrowcolor": "#2a3f5f",
                                            "arrowhead": 0,
                                            "arrowwidth": 1
                                        },
                                        "coloraxis": {
                                            "colorbar": {
                                                "outlinewidth": 0,
                                                "ticks": ""
                                            }
                                        },
                                        "colorscale": {
                                            "diverging": [
                                                [
                                                    0,
                                                    "#8e0152"
                                                ],
                                                [
                                                    0.1,
                                                    "#c51b7d"
                                                ],
                                                [
                                                    0.2,
                                                    "#de77ae"
                                                ],
                                                [
                                                    0.3,
                                                    "#f1b6da"
                                                ],
                                                [
                                                    0.4,
                                                    "#fde0ef"
                                                ],
                                                [
                                                    0.5,
                                                    "#f7f7f7"
                                                ],
                                                [
                                                    0.6,
                                                    "#e6f5d0"
                                                ],
                                                [
                                                    0.7,
                                                    "#b8e186"
                                                ],
                                                [
                                                    0.8,
                                                    "#7fbc41"
                                                ],
                                                [
                                                    0.9,
                                                    "#4d9221"
                                                ],
                                                [
                                                    1,
                                                    "#276419"
                                                ]
                                            ],
                                            "sequential": [
                                                [
                                                    0,
                                                    "#0d0887"
                                                ],
                                                [
                                                    0.1111111111111111,
                                                    "#46039f"
                                                ],
                                                [
                                                    0.2222222222222222,
                                                    "#7201a8"
                                                ],
                                                [
                                                    0.3333333333333333,
                                                    "#9c179e"
                                                ],
                                                [
                                                    0.4444444444444444,
                                                    "#bd3786"
                                                ],
                                                [
                                                    0.5555555555555556,
                                                    "#d8576b"
                                                ],
                                                [
                                                    0.6666666666666666,
                                                    "#ed7953"
                                                ],
                                                [
                                                    0.7777777777777778,
                                                    "#fb9f3a"
                                                ],
                                                [
                                                    0.8888888888888888,
                                                    "#fdca26"
                                                ],
                                                [
                                                    1,
                                                    "#f0f921"
                                                ]
                                            ],
                                            "sequentialminus": [
                                                [
                                                    0,
                                                    "#0d0887"
                                                ],
                                                [
                                                    0.1111111111111111,
                                                    "#46039f"
                                                ],
                                                [
                                                    0.2222222222222222,
                                                    "#7201a8"
                                                ],
                                                [
                                                    0.3333333333333333,
                                                    "#9c179e"
                                                ],
                                                [
                                                    0.4444444444444444,
                                                    "#bd3786"
                                                ],
                                                [
                                                    0.5555555555555556,
                                                    "#d8576b"
                                                ],
                                                [
                                                    0.6666666666666666,
                                                    "#ed7953"
                                                ],
                                                [
                                                    0.7777777777777778,
                                                    "#fb9f3a"
                                                ],
                                                [
                                                    0.8888888888888888,
                                                    "#fdca26"
                                                ],
                                                [
                                                    1,
                                                    "#f0f921"
                                                ]
                                            ]
                                        },
                                        "colorway": [
                                            "#636efa",
                                            "#EF553B",
                                            "#00cc96",
                                            "#ab63fa",
                                            "#FFA15A",
                                            "#19d3f3",
                                            "#FF6692",
                                            "#B6E880",
                                            "#FF97FF",
                                            "#FECB52"
                                        ],
                                        "font": {
                                            "color": "#2a3f5f"
                                        },
                                        "geo": {
                                            "bgcolor": "white",
                                            "lakecolor": "white",
                                            "landcolor": "#E5ECF6",
                                            "showlakes": true,
                                            "showland": true,
                                            "subunitcolor": "white"
                                        },
                                        "hoverlabel": {
                                            "align": "left"
                                        },
                                        "hovermode": "closest",
                                        "mapbox": {
                                            "style": "light"
                                        },
                                        "paper_bgcolor": "white",
                                        "plot_bgcolor": "#E5ECF6",
                                        "polar": {
                                            "angularaxis": {
                                                "gridcolor": "white",
                                                "linecolor": "white",
                                                "ticks": ""
                                            },
                                            "bgcolor": "#E5ECF6",
                                            "radialaxis": {
                                                "gridcolor": "white",
                                                "linecolor": "white",
                                                "ticks": ""
                                            }
                                        },
                                        "scene": {
                                            "xaxis": {
                                                "backgroundcolor": "#E5ECF6",
                                                "gridcolor": "white",
                                                "gridwidth": 2,
                                                "linecolor": "white",
                                                "showbackground": true,
                                                "ticks": "",
                                                "zerolinecolor": "white"
                                            },
                                            "yaxis": {
                                                "backgroundcolor": "#E5ECF6",
                                                "gridcolor": "white",
                                                "gridwidth": 2,
                                                "linecolor": "white",
                                                "showbackground": true,
                                                "ticks": "",
                                                "zerolinecolor": "white"
                                            },
                                            "zaxis": {
                                                "backgroundcolor": "#E5ECF6",
                                                "gridcolor": "white",
                                                "gridwidth": 2,
                                                "linecolor": "white",
                                                "showbackground": true,
                                                "ticks": "",
                                                "zerolinecolor": "white"
                                            }
                                        },
                                        "shapedefaults": {
                                            "line": {
                                                "color": "#2a3f5f"
                                            }
                                        },
                                        "ternary": {
                                            "aaxis": {
                                                "gridcolor": "white",
                                                "linecolor": "white",
                                                "ticks": ""
                                            },
                                            "baxis": {
                                                "gridcolor": "white",
                                                "linecolor": "white",
                                                "ticks": ""
                                            },
                                            "bgcolor": "#E5ECF6",
                                            "caxis": {
                                                "gridcolor": "white",
                                                "linecolor": "white",
                                                "ticks": ""
                                            }
                                        },
                                        "title": {
                                            "x": 0.05
                                        },
                                        "xaxis": {
                                            "automargin": true,
                                            "gridcolor": "white",
                                            "linecolor": "white",
                                            "ticks": "",
                                            "title": {
                                                "standoff": 15
                                            },
                                            "zerolinecolor": "white",
                                            "zerolinewidth": 2
                                        },
                                        "yaxis": {
                                            "automargin": true,
                                            "gridcolor": "white",
                                            "linecolor": "white",
                                            "ticks": "",
                                            "title": {
                                                "standoff": 15
                                            },
                                            "zerolinecolor": "white",
                                            "zerolinewidth": 2
                                        }
                                    }
                                },
                                "title": {
                                    "text": "timechart"
                                },
                                "xaxis": {
                                    "autorange": true,
                                    "title": {
                                        "text": "EventTime"
                                    },
                                    "type": "date"
                                },
                                "yaxis": {
                                    "ticksuffix": "",
                                    "title": {
                                        "text": "event_count"
                                    },
                                    "type": "linear"
                                }
                            }
                        }
                    },
                    "metadata": {}
                },
                {
                    "output_type": "display_data",
                    "data": {
                        "text/plain": "<IPython.core.display.HTML object>",
                        "text/html": "<html>\n        <head>\n            \n            \n        </head>\n        <body>\n            <div><p style='padding: 10px; color: #3a87ad; background-color: #d9edf7; border-color: #bce9f1'>Done&nbsp;(00:00.351):&nbsp;25&nbsp;records</p></div>\n        </body>\n        </html>"
                    },
                    "metadata": {}
                },
                {
                    "output_type": "execute_result",
                    "execution_count": 27,
                    "data": {
                        "text/plain": "[{'EventTime': datetime.datetime(2021, 2, 3, 4, 20, tzinfo=tzutc()), 'ErrorNumber': '208.0', 'event_count': 11},\n {'EventTime': datetime.datetime(2021, 2, 3, 4, 20, tzinfo=tzutc()), 'ErrorNumber': '1222.0', 'event_count': 2},\n {'EventTime': datetime.datetime(2021, 2, 3, 7, 10, tzinfo=tzutc()), 'ErrorNumber': '208.0', 'event_count': 6},\n {'EventTime': datetime.datetime(2021, 1, 31, 17, 10, tzinfo=tzutc()), 'ErrorNumber': '208.0', 'event_count': 5},\n {'EventTime': datetime.datetime(2021, 1, 24, 2, 50, tzinfo=tzutc()), 'ErrorNumber': '208.0', 'event_count': 1},\n {'EventTime': datetime.datetime(2021, 1, 24, 3, 0, tzinfo=tzutc()), 'ErrorNumber': '208.0', 'event_count': 37},\n {'EventTime': datetime.datetime(2021, 1, 24, 3, 10, tzinfo=tzutc()), 'ErrorNumber': '208.0', 'event_count': 28},\n {'EventTime': datetime.datetime(2021, 1, 24, 3, 10, tzinfo=tzutc()), 'ErrorNumber': '1222.0', 'event_count': 2},\n {'EventTime': datetime.datetime(2021, 1, 24, 3, 20, tzinfo=tzutc()), 'ErrorNumber': '208.0', 'event_count': 5},\n {'EventTime': datetime.datetime(2021, 1, 24, 3, 20, tzinfo=tzutc()), 'ErrorNumber': '3903.0', 'event_count': 1},\n {'EventTime': datetime.datetime(2021, 1, 24, 3, 20, tzinfo=tzutc()), 'ErrorNumber': '1222.0', 'event_count': 2},\n {'EventTime': datetime.datetime(2021, 1, 24, 3, 10, tzinfo=tzutc()), 'ErrorNumber': '2714.0', 'event_count': 1},\n {'EventTime': datetime.datetime(2021, 1, 31, 23, 30, tzinfo=tzutc()), 'ErrorNumber': '208.0', 'event_count': 1},\n {'EventTime': datetime.datetime(2021, 1, 31, 17, 30, tzinfo=tzutc()), 'ErrorNumber': '208.0', 'event_count': 9},\n {'EventTime': datetime.datetime(2021, 1, 31, 18, 0, tzinfo=tzutc()), 'ErrorNumber': '8134.0', 'event_count': 1},\n {'EventTime': datetime.datetime(2021, 1, 31, 23, 10, tzinfo=tzutc()), 'ErrorNumber': '208.0', 'event_count': 1},\n {'EventTime': datetime.datetime(2021, 1, 31, 23, 50, tzinfo=tzutc()), 'ErrorNumber': '12413.0', 'event_count': 3},\n {'EventTime': datetime.datetime(2021, 1, 31, 17, 40, tzinfo=tzutc()), 'ErrorNumber': '208.0', 'event_count': 1},\n {'EventTime': datetime.datetime(2021, 1, 31, 17, 50, tzinfo=tzutc()), 'ErrorNumber': '208.0', 'event_count': 3},\n {'EventTime': datetime.datetime(2021, 1, 31, 17, 50, tzinfo=tzutc()), 'ErrorNumber': '8134.0', 'event_count': 1},\n {'EventTime': datetime.datetime(2021, 1, 31, 19, 50, tzinfo=tzutc()), 'ErrorNumber': '257.0', 'event_count': 2},\n {'EventTime': datetime.datetime(2021, 1, 31, 19, 50, tzinfo=tzutc()), 'ErrorNumber': '208.0', 'event_count': 12},\n {'EventTime': datetime.datetime(2021, 1, 31, 19, 50, tzinfo=tzutc()), 'ErrorNumber': '1222.0', 'event_count': 2},\n {'EventTime': datetime.datetime(2021, 1, 31, 23, 30, tzinfo=tzutc()), 'ErrorNumber': '2809.0', 'event_count': 1},\n {'EventTime': datetime.datetime(2021, 1, 31, 23, 50, tzinfo=tzutc()), 'ErrorNumber': '215.0', 'event_count': 1}]",
                        "text/html": ""
                    },
                    "metadata": {}
                }
            ],
            "execution_count": 27
        },
        {
            "cell_type": "markdown",
            "source": [
                "## Find Deleted table"
            ],
            "metadata": {
                "azdata_cell_guid": "6d450c21-8628-459c-b8c1-c37c8aba8d6d"
            }
        },
        {
            "cell_type": "code",
            "source": [
                "%%kql \r\n",
                "AzureDiagnostics\r\n",
                "| where action_name_s in ('BATCH COMPLETED')\r\n",
                "| project TimeGenerated, Category, action_name_s, statement_s\r\n",
                "| where statement_s contains \"DROP TABLE\"\r\n",
                "| sort by TimeGenerated desc \r\n",
                "| take 10\r\n",
                "\r\n",
                ""
            ],
            "metadata": {
                "azdata_cell_guid": "3b6d232d-a2f4-441e-81f2-33ef59fdb4c6",
                "tags": []
            },
            "outputs": [
                {
                    "output_type": "display_data",
                    "data": {
                        "text/plain": "<IPython.core.display.HTML object>",
                        "text/html": "<html>\n        <head>\n            \n            \n        </head>\n        <body>\n            <div><p style='padding: 10px; color: #3a87ad; background-color: #d9edf7; border-color: #bce9f1'>&nbsp;*&nbsp;myLogAnalyticsWorkspace@loganalytics</p></div>\n        </body>\n        </html>"
                    },
                    "metadata": {}
                },
                {
                    "output_type": "display_data",
                    "data": {
                        "text/plain": "                     TimeGenerated                Category    action_name_s  \\\n0 2021-01-24 03:13:41.751000+00:00  SQLSecurityAuditEvents  BATCH COMPLETED   \n1 2021-01-24 03:13:41.751000+00:00  SQLSecurityAuditEvents  BATCH COMPLETED   \n2 2021-01-24 03:09:53.703000+00:00  SQLSecurityAuditEvents  BATCH COMPLETED   \n3 2021-01-24 03:09:53.703000+00:00  SQLSecurityAuditEvents  BATCH COMPLETED   \n\n                                         statement_s  \n0  DROP TABLE dbo.Suppliers\\r\\nDROP TABLE dbo.Emp...  \n1  DROP TABLE dbo.Suppliers\\r\\nDROP TABLE dbo.Emp...  \n2  DROP TABLE dbo.Suppliers\\r\\nDROP TABLE dbo.Emp...  \n3  DROP TABLE dbo.Suppliers\\r\\nDROP TABLE dbo.Emp...  ",
                        "text/html": "<div>\n<style scoped>\n    .dataframe tbody tr th:only-of-type {\n        vertical-align: middle;\n    }\n\n    .dataframe tbody tr th {\n        vertical-align: top;\n    }\n\n    .dataframe thead th {\n        text-align: right;\n    }\n</style>\n<table border=\"1\" class=\"dataframe\">\n  <thead>\n    <tr style=\"text-align: right;\">\n      <th></th>\n      <th>TimeGenerated</th>\n      <th>Category</th>\n      <th>action_name_s</th>\n      <th>statement_s</th>\n    </tr>\n  </thead>\n  <tbody>\n    <tr>\n      <th>0</th>\n      <td>2021-01-24 03:13:41.751000+00:00</td>\n      <td>SQLSecurityAuditEvents</td>\n      <td>BATCH COMPLETED</td>\n      <td>DROP TABLE dbo.Suppliers\\r\\nDROP TABLE dbo.Emp...</td>\n    </tr>\n    <tr>\n      <th>1</th>\n      <td>2021-01-24 03:13:41.751000+00:00</td>\n      <td>SQLSecurityAuditEvents</td>\n      <td>BATCH COMPLETED</td>\n      <td>DROP TABLE dbo.Suppliers\\r\\nDROP TABLE dbo.Emp...</td>\n    </tr>\n    <tr>\n      <th>2</th>\n      <td>2021-01-24 03:09:53.703000+00:00</td>\n      <td>SQLSecurityAuditEvents</td>\n      <td>BATCH COMPLETED</td>\n      <td>DROP TABLE dbo.Suppliers\\r\\nDROP TABLE dbo.Emp...</td>\n    </tr>\n    <tr>\n      <th>3</th>\n      <td>2021-01-24 03:09:53.703000+00:00</td>\n      <td>SQLSecurityAuditEvents</td>\n      <td>BATCH COMPLETED</td>\n      <td>DROP TABLE dbo.Suppliers\\r\\nDROP TABLE dbo.Emp...</td>\n    </tr>\n  </tbody>\n</table>\n</div>",
                        "application/vnd.dataresource+json": {
                            "schema": {
                                "fields": [
                                    {
                                        "name": "TimeGenerated",
                                        "type": "datetime",
                                        "tz": "UTC"
                                    },
                                    {
                                        "name": "Category",
                                        "type": "string"
                                    },
                                    {
                                        "name": "action_name_s",
                                        "type": "string"
                                    },
                                    {
                                        "name": "statement_s",
                                        "type": "string"
                                    }
                                ],
                                "kqmagic_version": "0.1.113.post1"
                            },
                            "data": [
                                {
                                    "TimeGenerated": "2021-01-24T03:13:41.751Z",
                                    "Category": "SQLSecurityAuditEvents",
                                    "action_name_s": "BATCH COMPLETED",
                                    "statement_s": "DROP TABLE dbo.Suppliers\r\nDROP TABLE dbo.Employees"
                                },
                                {
                                    "TimeGenerated": "2021-01-24T03:13:41.751Z",
                                    "Category": "SQLSecurityAuditEvents",
                                    "action_name_s": "BATCH COMPLETED",
                                    "statement_s": "DROP TABLE dbo.Suppliers\r\nDROP TABLE dbo.Employees"
                                },
                                {
                                    "TimeGenerated": "2021-01-24T03:09:53.703Z",
                                    "Category": "SQLSecurityAuditEvents",
                                    "action_name_s": "BATCH COMPLETED",
                                    "statement_s": "DROP TABLE dbo.Suppliers\r\nDROP TABLE dbo.Employees"
                                },
                                {
                                    "TimeGenerated": "2021-01-24T03:09:53.703Z",
                                    "Category": "SQLSecurityAuditEvents",
                                    "action_name_s": "BATCH COMPLETED",
                                    "statement_s": "DROP TABLE dbo.Suppliers\r\nDROP TABLE dbo.Employees"
                                }
                            ]
                        }
                    },
                    "metadata": {}
                },
                {
                    "output_type": "display_data",
                    "data": {
                        "text/plain": "<IPython.core.display.HTML object>",
                        "text/html": "<html>\n        <head>\n            \n            \n        </head>\n        <body>\n            <div><p style='padding: 10px; color: #3a87ad; background-color: #d9edf7; border-color: #bce9f1'>Done&nbsp;(00:00.534):&nbsp;4&nbsp;records</p></div>\n        </body>\n        </html>"
                    },
                    "metadata": {}
                },
                {
                    "output_type": "execute_result",
                    "execution_count": 28,
                    "data": {
                        "text/plain": "[{'TimeGenerated': datetime.datetime(2021, 1, 24, 3, 13, 41, 751000, tzinfo=tzutc()), 'Category': 'SQLSecurityAuditEvents', 'action_name_s': 'BATCH COMPLETED', 'statement_s': 'DROP TABLE dbo.Suppliers\\r\\nDROP TABLE dbo.Employees'},\n {'TimeGenerated': datetime.datetime(2021, 1, 24, 3, 13, 41, 751000, tzinfo=tzutc()), 'Category': 'SQLSecurityAuditEvents', 'action_name_s': 'BATCH COMPLETED', 'statement_s': 'DROP TABLE dbo.Suppliers\\r\\nDROP TABLE dbo.Employees'},\n {'TimeGenerated': datetime.datetime(2021, 1, 24, 3, 9, 53, 703000, tzinfo=tzutc()), 'Category': 'SQLSecurityAuditEvents', 'action_name_s': 'BATCH COMPLETED', 'statement_s': 'DROP TABLE dbo.Suppliers\\r\\nDROP TABLE dbo.Employees'},\n {'TimeGenerated': datetime.datetime(2021, 1, 24, 3, 9, 53, 703000, tzinfo=tzutc()), 'Category': 'SQLSecurityAuditEvents', 'action_name_s': 'BATCH COMPLETED', 'statement_s': 'DROP TABLE dbo.Suppliers\\r\\nDROP TABLE dbo.Employees'}]",
                        "text/html": ""
                    },
                    "metadata": {}
                }
            ],
            "execution_count": 28
        }
    ]
}