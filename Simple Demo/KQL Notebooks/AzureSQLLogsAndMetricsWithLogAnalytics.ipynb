{
    "metadata": {
        "kernelspec": {
            "name": "python3",
            "display_name": "Python 3",
            "language": "python"
        },
        "language_info": {
            "name": "python",
            "version": "3.6.6",
            "mimetype": "text/x-python",
            "codemirror_mode": {
                "name": "ipython",
                "version": 3
            },
            "pygments_lexer": "ipython3",
            "nbconvert_exporter": "python",
            "file_extension": ".py"
        }
    },
    "nbformat_minor": 2,
    "nbformat": 4,
    "cells": [
        {
            "cell_type": "code",
            "source": [
                "%reload_ext Kqlmagic"
            ],
            "metadata": {
                "azdata_cell_guid": "63832e62-7f15-4a78-ad31-43a6d90f0817",
                "language": "markdown"
            },
            "outputs": [
                {
                    "data": {
                        "text/plain": "<IPython.core.display.HTML object>",
                        "text/html": "<html>\n            <head>\n            <title>Kqlmagic - banner</title>\n            <style>\n            .kql-magic-banner {\n                display: flex; \n                background-color: #d9edf7;\n            }\n            .kql-magic-banner > div {\n                margin: 10px; \n                padding: 20px; \n                color: #3a87ad; \n                font-size: 13px;\n            }\n            </style>\n            </head>\n            <body>\n                <div class='kql-magic-banner'>\n                    <div><img src='data:image/png;base64,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'></div>\n                    <div>\n                        <p>Kql Query Language, aka kql, is the query language for advanced analytics on Azure Monitor resources. The current supported data sources are \n                        Azure Data Explorer (Kusto), Log Analytics and Application Insights. To get more information execute '%kql --help \"kql\"'</p>\n                        <p>   \n                          &bull; \n                kql reference: Click on 'Help' tab > and Select 'kql reference' or execute '%kql --help \"kql\"'<br>\n                          &bull; \n                Kqlmagic configuration: execute '%config Kqlmagic'<br>\n                          &bull; \n                Kqlmagic usage: execute '%kql --usage'<br>\n                        </p> \n                    </div>\n                </div>\n            </body>\n            </html>"
                    },
                    "metadata": {},
                    "output_type": "display_data"
                },
                {
                    "data": {
                        "text/plain": "<IPython.core.display.HTML object>",
                        "text/html": "<html>\n        <head>\n            \n            \n        </head>\n        <body>\n            <div><p style='padding: 10px; color: #3a87ad; background-color: #d9edf7; border-color: #bce9f1'>Kqlmagic&nbsp;package&nbsp;is&nbsp;updated&nbsp;frequently.&nbsp;Run&nbsp;&apos;!pip&nbsp;install&nbsp;Kqlmagic&nbsp;--no-cache-dir&nbsp;--upgrade&apos;&nbsp;to&nbsp;use&nbsp;the&nbsp;latest&nbsp;version.<br>Kqlmagic&nbsp;version:&nbsp;0.1.113.post1,&nbsp;source:&nbsp;https://github.com/Microsoft/jupyter-Kqlmagic</p></div>\n        </body>\n        </html>"
                    },
                    "metadata": {},
                    "output_type": "display_data"
                },
                {
                    "data": {
                        "text/plain": "<IPython.core.display.HTML object>",
                        "text/html": "<!DOCTYPE html>\n            <html><body>\n            <div style='padding: 10px; color: #3a87ad; background-color: #d9edf7; border-color: #bce9f1'>\n            Click&nbsp;to&nbsp;find&nbsp;out&nbsp;what's&nbsp;new&nbsp;in&nbsp;Kqlmagic&nbsp;&nbsp;<a href='http://127.0.0.1:63448/webbrowser?url=http%3A//127.0.0.1%3A63448/files/.kqlmagic/temp_files/ea87156a-318d-4b57-abcb-3102ffd3c3c3/popup_what_new_history.html%3Fkernelid%3Dea87156a-318d-4b57-abcb-3102ffd3c3c3&kernelid=ea87156a-318d-4b57-abcb-3102ffd3c3c3' style='padding: 2px 6px 2px 6px; color: #333333; background-color: #EEEEEE; border-top: 1px solid #CCCCCC; border-right: 1px solid #333333; border-bottom: 1px solid #333333; border-left: 1px solid #CCCCCC' target='popup_what_new_history'>What's New? </a>\n            </div>\n            </body></html>"
                    },
                    "metadata": {},
                    "output_type": "display_data"
                }
            ],
            "execution_count": 1
        },
        {
            "cell_type": "code",
            "source": [
                "%kql loganalytics://code;workspace=\"c3de7517-0d7c-45df-90c1-a4e43fc03131\";alias=\"myLogAnalyticsWorkspace\" -try-azcli_login //-!se"
            ],
            "metadata": {
                "azdata_cell_guid": "0d81236a-753a-4cf0-991c-a5f0a57493cd"
            },
            "outputs": [
                {
                    "data": {
                        "text/plain": "<IPython.core.display.HTML object>",
                        "text/html": "<!DOCTYPE html>\n            <html><body>\n            <div style=''>\n            <b>RR2G3A4PV</b>&nbsp;<a href='http://127.0.0.1:63448/webbrowser?url=http%3A//127.0.0.1%3A63448/files/.kqlmagic/temp_files/ea87156a-318d-4b57-abcb-3102ffd3c3c3/popup_devicelogin.html%3Fkernelid%3Dea87156a-318d-4b57-abcb-3102ffd3c3c3&kernelid=ea87156a-318d-4b57-abcb-3102ffd3c3c3' style='padding: 2px 6px 2px 6px; color: #333333; background-color: #EEEEEE; border-top: 1px solid #CCCCCC; border-right: 1px solid #333333; border-bottom: 1px solid #333333; border-left: 1px solid #CCCCCC' target='popup_verification_url'>Copy code to clipboard and authenticate</a>\n            </div>\n            </body></html>"
                    },
                    "metadata": {},
                    "output_type": "display_data"
                },
                {
                    "data": {
                        "text/plain": "<IPython.core.display.HTML object>",
                        "text/html": "<!DOCTYPE html>\n                            <html><body><script>\n\n                                // close authentication window\n                                if (kql_MagicUserCodeAuthWindow && kql_MagicUserCodeAuthWindow.opener != null && !kql_MagicUserCodeAuthWindow.closed) {\n                                    kql_MagicUserCodeAuthWindow.close()\n                                }\n                                // TODO: make sure, you clear the right cell. BTW, not sure it is a must to do any clearing\n\n                                // clear output cell\n                                Jupyter.notebook.clear_output(Jupyter.notebook.get_selected_index())\n\n                                // TODO: if in run all mode, move to last cell, otherwise move to next cell\n                                // move to next cell\n\n                            </script></body></html>"
                    },
                    "metadata": {},
                    "output_type": "display_data"
                },
                {
                    "data": {
                        "text/plain": "<IPython.core.display.HTML object>",
                        "text/html": "<!DOCTYPE html>\n            <html><body>\n            <div style=''>\n            <a href='http://127.0.0.1:63448/webbrowser?url=http%3A//127.0.0.1%3A63448/files/.kqlmagic/temp_files/ea87156a-318d-4b57-abcb-3102ffd3c3c3/popup__myLogAnalyticsWorkspace_at_loganalytics_schema.html%3Fkernelid%3Dea87156a-318d-4b57-abcb-3102ffd3c3c3&kernelid=ea87156a-318d-4b57-abcb-3102ffd3c3c3' style='padding: 2px 6px 2px 6px; color: #333333; background-color: #EEEEEE; border-top: 1px solid #CCCCCC; border-right: 1px solid #333333; border-bottom: 1px solid #333333; border-left: 1px solid #CCCCCC' target='popup__myLogAnalyticsWorkspace_at_loganalytics_schema'>popup schema myLogAnalyticsWorkspace@loganalytics</a>\n            </div>\n            </body></html>"
                    },
                    "metadata": {},
                    "output_type": "display_data"
                }
            ],
            "execution_count": 2
        },
        {
            "cell_type": "code",
            "source": [
                "%kql loganalytics://workspace='DEMO_WORKSPACE';appkey='DEMO_KEY';alias='myworkspace'"
            ],
            "metadata": {
                "azdata_cell_guid": "31b1d6cf-8717-40fc-966a-6d2ef0f8d423"
            },
            "outputs": [],
            "execution_count": null
        },
        {
            "cell_type": "code",
            "source": [
                "%%kql AzureDiagnostics\r\n",
                "| summarize count() by OperationName"
            ],
            "metadata": {
                "azdata_cell_guid": "e0d388fb-3ba1-4579-81d4-e46b41063738"
            },
            "outputs": [
                {
                    "data": {
                        "text/plain": "<IPython.core.display.HTML object>",
                        "text/html": "<html>\n        <head>\n            \n            \n        </head>\n        <body>\n            <div><p style='padding: 10px; color: #3a87ad; background-color: #d9edf7; border-color: #bce9f1'>&nbsp;*&nbsp;myLogAnalyticsWorkspace@loganalytics</p></div>\n        </body>\n        </html>"
                    },
                    "metadata": {},
                    "output_type": "display_data"
                },
                {
                    "data": {
                        "text/plain": "                      OperationName  count_\n0                        ErrorEvent     120\n1                        AuditEvent    3207\n2  QueryStoreRuntimeStatisticsEvent       3\n3                     DeadlockEvent       4\n4                      TimeoutEvent       1",
                        "text/html": "<div>\n<style scoped>\n    .dataframe tbody tr th:only-of-type {\n        vertical-align: middle;\n    }\n\n    .dataframe tbody tr th {\n        vertical-align: top;\n    }\n\n    .dataframe thead th {\n        text-align: right;\n    }\n</style>\n<table border=\"1\" class=\"dataframe\">\n  <thead>\n    <tr style=\"text-align: right;\">\n      <th></th>\n      <th>OperationName</th>\n      <th>count_</th>\n    </tr>\n  </thead>\n  <tbody>\n    <tr>\n      <th>0</th>\n      <td>ErrorEvent</td>\n      <td>120</td>\n    </tr>\n    <tr>\n      <th>1</th>\n      <td>AuditEvent</td>\n      <td>3207</td>\n    </tr>\n    <tr>\n      <th>2</th>\n      <td>QueryStoreRuntimeStatisticsEvent</td>\n      <td>3</td>\n    </tr>\n    <tr>\n      <th>3</th>\n      <td>DeadlockEvent</td>\n      <td>4</td>\n    </tr>\n    <tr>\n      <th>4</th>\n      <td>TimeoutEvent</td>\n      <td>1</td>\n    </tr>\n  </tbody>\n</table>\n</div>",
                        "application/vnd.dataresource+json": {
                            "schema": {
                                "fields": [
                                    {
                                        "name": "OperationName",
                                        "type": "string"
                                    },
                                    {
                                        "name": "count_",
                                        "type": "integer"
                                    }
                                ],
                                "kqmagic_version": "0.1.113.post1"
                            },
                            "data": [
                                {
                                    "OperationName": "ErrorEvent",
                                    "count_": 120
                                },
                                {
                                    "OperationName": "AuditEvent",
                                    "count_": 3207
                                },
                                {
                                    "OperationName": "QueryStoreRuntimeStatisticsEvent",
                                    "count_": 3
                                },
                                {
                                    "OperationName": "DeadlockEvent",
                                    "count_": 4
                                },
                                {
                                    "OperationName": "TimeoutEvent",
                                    "count_": 1
                                }
                            ]
                        }
                    },
                    "metadata": {},
                    "output_type": "display_data"
                },
                {
                    "data": {
                        "text/plain": "<IPython.core.display.HTML object>",
                        "text/html": "<html>\n        <head>\n            \n            \n        </head>\n        <body>\n            <div><p style='padding: 10px; color: #3a87ad; background-color: #d9edf7; border-color: #bce9f1'>Done&nbsp;(00:04.418):&nbsp;5&nbsp;records</p></div>\n        </body>\n        </html>"
                    },
                    "metadata": {},
                    "output_type": "display_data"
                },
                {
                    "data": {
                        "text/plain": "[{'OperationName': 'ErrorEvent', 'count_': 120},\n {'OperationName': 'AuditEvent', 'count_': 3207},\n {'OperationName': 'QueryStoreRuntimeStatisticsEvent', 'count_': 3},\n {'OperationName': 'DeadlockEvent', 'count_': 4},\n {'OperationName': 'TimeoutEvent', 'count_': 1}]",
                        "text/html": ""
                    },
                    "metadata": {},
                    "execution_count": 3,
                    "output_type": "execute_result"
                }
            ],
            "execution_count": 3
        },
        {
            "cell_type": "markdown",
            "source": [
                "## Performance troubleshooting\n",
                "\n",
                "Potentially a query or deadlock on the system that could lead to poor performance. The following is a query suggested by Azure Portal."
            ],
            "metadata": {
                "azdata_cell_guid": "3e2e80b4-88b4-494e-931e-15a4139389d7"
            }
        },
        {
            "cell_type": "code",
            "source": [
                "%%kql \r\n",
                "AzureMetrics\r\n",
                "| where ResourceProvider == \"MICROSOFT.SQL\"\r\n",
                "| where TimeGenerated >=ago(60min)\r\n",
                "| where MetricName in ('deadlock')\r\n",
                "| parse _ResourceId with * \"/microsoft.sql/servers/\" Resource // subtract Resource name for _ResourceId\r\n",
                "| summarize Deadlock_max_60Mins = max(Maximum) by Resource, MetricName"
            ],
            "metadata": {
                "azdata_cell_guid": "d7bc7a1e-c348-448b-af47-b310a0fe55e7"
            },
            "outputs": [
                {
                    "data": {
                        "text/plain": "<IPython.core.display.HTML object>",
                        "text/html": "<html>\n        <head>\n            \n            \n        </head>\n        <body>\n            <div><p style='padding: 10px; color: #3a87ad; background-color: #d9edf7; border-color: #bce9f1'>&nbsp;*&nbsp;myLogAnalyticsWorkspace@loganalytics</p></div>\n        </body>\n        </html>"
                    },
                    "metadata": {},
                    "output_type": "display_data"
                },
                {
                    "data": {
                        "text/plain": "Empty DataFrame\nColumns: [Resource, MetricName, Deadlock_max_60Mins]\nIndex: []",
                        "text/html": "<div>\n<style scoped>\n    .dataframe tbody tr th:only-of-type {\n        vertical-align: middle;\n    }\n\n    .dataframe tbody tr th {\n        vertical-align: top;\n    }\n\n    .dataframe thead th {\n        text-align: right;\n    }\n</style>\n<table border=\"1\" class=\"dataframe\">\n  <thead>\n    <tr style=\"text-align: right;\">\n      <th></th>\n      <th>Resource</th>\n      <th>MetricName</th>\n      <th>Deadlock_max_60Mins</th>\n    </tr>\n  </thead>\n  <tbody>\n  </tbody>\n</table>\n</div>",
                        "application/vnd.dataresource+json": {
                            "schema": {
                                "fields": [
                                    {
                                        "name": "Resource",
                                        "type": "string"
                                    },
                                    {
                                        "name": "MetricName",
                                        "type": "string"
                                    },
                                    {
                                        "name": "Deadlock_max_60Mins",
                                        "type": "number"
                                    }
                                ],
                                "kqmagic_version": "0.1.113.post1"
                            },
                            "data": []
                        }
                    },
                    "metadata": {},
                    "output_type": "display_data"
                },
                {
                    "data": {
                        "text/plain": "<IPython.core.display.HTML object>",
                        "text/html": "<html>\n        <head>\n            \n            \n        </head>\n        <body>\n            <div><p style='padding: 10px; color: #3a87ad; background-color: #d9edf7; border-color: #bce9f1'>Done&nbsp;(00:03.935):&nbsp;0&nbsp;records</p></div>\n        </body>\n        </html>"
                    },
                    "metadata": {},
                    "output_type": "display_data"
                },
                {
                    "data": {
                        "text/plain": "[]",
                        "text/html": ""
                    },
                    "metadata": {},
                    "execution_count": 4,
                    "output_type": "execute_result"
                }
            ],
            "execution_count": 4
        },
        {
            "cell_type": "markdown",
            "source": [
                "# AzureMetrics\r\n",
                "\r\n",
                "This is a sample query to dig into AzureMetrics"
            ],
            "metadata": {
                "azdata_cell_guid": "188a4592-423d-44b6-ad47-902101257761"
            }
        },
        {
            "cell_type": "code",
            "source": [
                "%%kql\r\n",
                "AzureMetrics\r\n",
                "| project-away TenantId, ResourceId, SubscriptionId, _ResourceId, ResourceGroup // Don't show sensitive columns :) \r\n",
                "| take 10\r\n",
                ""
            ],
            "metadata": {
                "azdata_cell_guid": "1ac3f92f-b292-4c74-8020-47de93aebb6f"
            },
            "outputs": [
                {
                    "data": {
                        "text/plain": "<IPython.core.display.HTML object>",
                        "text/html": "<html>\n        <head>\n            \n            \n        </head>\n        <body>\n            <div><p style='padding: 10px; color: #3a87ad; background-color: #d9edf7; border-color: #bce9f1'>&nbsp;*&nbsp;myLogAnalyticsWorkspace@loganalytics</p></div>\n        </body>\n        </html>"
                    },
                    "metadata": {},
                    "output_type": "display_data"
                },
                {
                    "data": {
                        "text/plain": "  SourceSystem             TimeGenerated OperationName OperationVersion  \\\n0        Azure 2021-01-31 23:09:00+00:00                                  \n1        Azure 2021-01-31 23:09:00+00:00                                  \n2        Azure 2021-01-31 23:09:00+00:00                                  \n3        Azure 2021-01-31 23:09:00+00:00                                  \n4        Azure 2021-01-31 23:09:00+00:00                                  \n5        Azure 2021-01-31 23:09:00+00:00                                  \n6        Azure 2021-01-31 23:09:00+00:00                                  \n7        Azure 2021-01-31 23:09:00+00:00                                  \n8        Azure 2021-01-31 23:09:00+00:00                                  \n9        Azure 2021-01-31 23:09:00+00:00                                  \n\n  Category ResultType ResultSignature ResultDescription  DurationMs  \\\n0                                                               NaN   \n1                                                               NaN   \n2                                                               NaN   \n3                                                               NaN   \n4                                                               NaN   \n5                                                               NaN   \n6                                                               NaN   \n7                                                               NaN   \n8                                                               NaN   \n9                                                               NaN   \n\n  CallerIpAddress CorrelationId        Resource ResourceProvider  \\\n0                                ADVENTUREWORKS    MICROSOFT.SQL   \n1                                ADVENTUREWORKS    MICROSOFT.SQL   \n2                                ADVENTUREWORKS    MICROSOFT.SQL   \n3                                ADVENTUREWORKS    MICROSOFT.SQL   \n4                                ADVENTUREWORKS    MICROSOFT.SQL   \n5                                ADVENTUREWORKS    MICROSOFT.SQL   \n6                                ADVENTUREWORKS    MICROSOFT.SQL   \n7                                ADVENTUREWORKS    MICROSOFT.SQL   \n8                                ADVENTUREWORKS    MICROSOFT.SQL   \n9                                ADVENTUREWORKS    MICROSOFT.SQL   \n\n                   MetricName       Total  Count     Maximum     Minimum  \\\n0             storage_percent         0.0    1.0         0.0         0.0   \n1                 cpu_percent         0.0    4.0         0.0         0.0   \n2  physical_data_read_percent         0.0    4.0         0.0         0.0   \n3         xtp_storage_percent         0.0    4.0         0.0         0.0   \n4                     storage  29229056.0    1.0  29229056.0  29229056.0   \n5           log_write_percent         0.0    4.0         0.0         0.0   \n6                   cpu_limit        10.0    5.0         2.0         2.0   \n7             workers_percent         0.0    4.0         0.0         0.0   \n8                    cpu_used         0.0    1.0         0.0         0.0   \n9            sessions_percent         0.0    4.0         0.0         0.0   \n\n      Average TimeGrain UnitName RemoteIPCountry  RemoteIPLatitude  \\\n0         0.0      PT1M  Percent                               NaN   \n1         0.0      PT1M  Percent                               NaN   \n2         0.0      PT1M  Percent                               NaN   \n3         0.0      PT1M  Percent                               NaN   \n4  29229056.0      PT1M    Bytes                               NaN   \n5         0.0      PT1M  Percent                               NaN   \n6         2.0      PT1M    Count                               NaN   \n7         0.0      PT1M  Percent                               NaN   \n8         0.0      PT1M    Count                               NaN   \n9         0.0      PT1M  Percent                               NaN   \n\n   RemoteIPLongitude MaliciousIP IndicatorThreatType Description TLPLevel  \\\n0                NaN                                                        \n1                NaN                                                        \n2                NaN                                                        \n3                NaN                                                        \n4                NaN                                                        \n5                NaN                                                        \n6                NaN                                                        \n7                NaN                                                        \n8                NaN                                                        \n9                NaN                                                        \n\n  Confidence  Severity FirstReportedDateTime LastReportedDateTime IsActive  \\\n0                  NaN                                                       \n1                  NaN                                                       \n2                  NaN                                                       \n3                  NaN                                                       \n4                  NaN                                                       \n5                  NaN                                                       \n6                  NaN                                                       \n7                  NaN                                                       \n8                  NaN                                                       \n9                  NaN                                                       \n\n  ReportReferenceLink AdditionalInformation          Type  \n0                                            AzureMetrics  \n1                                            AzureMetrics  \n2                                            AzureMetrics  \n3                                            AzureMetrics  \n4                                            AzureMetrics  \n5                                            AzureMetrics  \n6                                            AzureMetrics  \n7                                            AzureMetrics  \n8                                            AzureMetrics  \n9                                            AzureMetrics  ",
                        "text/html": "<div>\n<style scoped>\n    .dataframe tbody tr th:only-of-type {\n        vertical-align: middle;\n    }\n\n    .dataframe tbody tr th {\n        vertical-align: top;\n    }\n\n    .dataframe thead th {\n        text-align: right;\n    }\n</style>\n<table border=\"1\" class=\"dataframe\">\n  <thead>\n    <tr style=\"text-align: right;\">\n      <th></th>\n      <th>SourceSystem</th>\n      <th>TimeGenerated</th>\n      <th>OperationName</th>\n      <th>OperationVersion</th>\n      <th>Category</th>\n      <th>ResultType</th>\n      <th>ResultSignature</th>\n      <th>ResultDescription</th>\n      <th>DurationMs</th>\n      <th>CallerIpAddress</th>\n      <th>CorrelationId</th>\n      <th>Resource</th>\n      <th>ResourceProvider</th>\n      <th>MetricName</th>\n      <th>Total</th>\n      <th>Count</th>\n      <th>Maximum</th>\n      <th>Minimum</th>\n      <th>Average</th>\n      <th>TimeGrain</th>\n      <th>UnitName</th>\n      <th>RemoteIPCountry</th>\n      <th>RemoteIPLatitude</th>\n      <th>RemoteIPLongitude</th>\n      <th>MaliciousIP</th>\n      <th>IndicatorThreatType</th>\n      <th>Description</th>\n      <th>TLPLevel</th>\n      <th>Confidence</th>\n      <th>Severity</th>\n      <th>FirstReportedDateTime</th>\n      <th>LastReportedDateTime</th>\n      <th>IsActive</th>\n      <th>ReportReferenceLink</th>\n      <th>AdditionalInformation</th>\n      <th>Type</th>\n    </tr>\n  </thead>\n  <tbody>\n    <tr>\n      <th>0</th>\n      <td>Azure</td>\n      <td>2021-01-31 23:09:00+00:00</td>\n      <td></td>\n      <td></td>\n      <td></td>\n      <td></td>\n      <td></td>\n      <td></td>\n      <td>NaN</td>\n      <td></td>\n      <td></td>\n      <td>ADVENTUREWORKS</td>\n      <td>MICROSOFT.SQL</td>\n      <td>storage_percent</td>\n      <td>0.0</td>\n      <td>1.0</td>\n      <td>0.0</td>\n      <td>0.0</td>\n      <td>0.0</td>\n      <td>PT1M</td>\n      <td>Percent</td>\n      <td></td>\n      <td>NaN</td>\n      <td>NaN</td>\n      <td></td>\n      <td></td>\n      <td></td>\n      <td></td>\n      <td></td>\n      <td>NaN</td>\n      <td></td>\n      <td></td>\n      <td></td>\n      <td></td>\n      <td></td>\n      <td>AzureMetrics</td>\n    </tr>\n    <tr>\n      <th>1</th>\n      <td>Azure</td>\n      <td>2021-01-31 23:09:00+00:00</td>\n      <td></td>\n      <td></td>\n      <td></td>\n      <td></td>\n      <td></td>\n      <td></td>\n      <td>NaN</td>\n      <td></td>\n      <td></td>\n      <td>ADVENTUREWORKS</td>\n      <td>MICROSOFT.SQL</td>\n      <td>cpu_percent</td>\n      <td>0.0</td>\n      <td>4.0</td>\n      <td>0.0</td>\n      <td>0.0</td>\n      <td>0.0</td>\n      <td>PT1M</td>\n      <td>Percent</td>\n      <td></td>\n      <td>NaN</td>\n      <td>NaN</td>\n      <td></td>\n      <td></td>\n      <td></td>\n      <td></td>\n      <td></td>\n      <td>NaN</td>\n      <td></td>\n      <td></td>\n      <td></td>\n      <td></td>\n      <td></td>\n      <td>AzureMetrics</td>\n    </tr>\n    <tr>\n      <th>2</th>\n      <td>Azure</td>\n      <td>2021-01-31 23:09:00+00:00</td>\n      <td></td>\n      <td></td>\n      <td></td>\n      <td></td>\n      <td></td>\n      <td></td>\n      <td>NaN</td>\n      <td></td>\n      <td></td>\n      <td>ADVENTUREWORKS</td>\n      <td>MICROSOFT.SQL</td>\n      <td>physical_data_read_percent</td>\n      <td>0.0</td>\n      <td>4.0</td>\n      <td>0.0</td>\n      <td>0.0</td>\n      <td>0.0</td>\n      <td>PT1M</td>\n      <td>Percent</td>\n      <td></td>\n      <td>NaN</td>\n      <td>NaN</td>\n      <td></td>\n      <td></td>\n      <td></td>\n      <td></td>\n      <td></td>\n      <td>NaN</td>\n      <td></td>\n      <td></td>\n      <td></td>\n      <td></td>\n      <td></td>\n      <td>AzureMetrics</td>\n    </tr>\n    <tr>\n      <th>3</th>\n      <td>Azure</td>\n      <td>2021-01-31 23:09:00+00:00</td>\n      <td></td>\n      <td></td>\n      <td></td>\n      <td></td>\n      <td></td>\n      <td></td>\n      <td>NaN</td>\n      <td></td>\n      <td></td>\n      <td>ADVENTUREWORKS</td>\n      <td>MICROSOFT.SQL</td>\n      <td>xtp_storage_percent</td>\n      <td>0.0</td>\n      <td>4.0</td>\n      <td>0.0</td>\n      <td>0.0</td>\n      <td>0.0</td>\n      <td>PT1M</td>\n      <td>Percent</td>\n      <td></td>\n      <td>NaN</td>\n      <td>NaN</td>\n      <td></td>\n      <td></td>\n      <td></td>\n      <td></td>\n      <td></td>\n      <td>NaN</td>\n      <td></td>\n      <td></td>\n      <td></td>\n      <td></td>\n      <td></td>\n      <td>AzureMetrics</td>\n    </tr>\n    <tr>\n      <th>4</th>\n      <td>Azure</td>\n      <td>2021-01-31 23:09:00+00:00</td>\n      <td></td>\n      <td></td>\n      <td></td>\n      <td></td>\n      <td></td>\n      <td></td>\n      <td>NaN</td>\n      <td></td>\n      <td></td>\n      <td>ADVENTUREWORKS</td>\n      <td>MICROSOFT.SQL</td>\n      <td>storage</td>\n      <td>29229056.0</td>\n      <td>1.0</td>\n      <td>29229056.0</td>\n      <td>29229056.0</td>\n      <td>29229056.0</td>\n      <td>PT1M</td>\n      <td>Bytes</td>\n      <td></td>\n      <td>NaN</td>\n      <td>NaN</td>\n      <td></td>\n      <td></td>\n      <td></td>\n      <td></td>\n      <td></td>\n      <td>NaN</td>\n      <td></td>\n      <td></td>\n      <td></td>\n      <td></td>\n      <td></td>\n      <td>AzureMetrics</td>\n    </tr>\n    <tr>\n      <th>5</th>\n      <td>Azure</td>\n      <td>2021-01-31 23:09:00+00:00</td>\n      <td></td>\n      <td></td>\n      <td></td>\n      <td></td>\n      <td></td>\n      <td></td>\n      <td>NaN</td>\n      <td></td>\n      <td></td>\n      <td>ADVENTUREWORKS</td>\n      <td>MICROSOFT.SQL</td>\n      <td>log_write_percent</td>\n      <td>0.0</td>\n      <td>4.0</td>\n      <td>0.0</td>\n      <td>0.0</td>\n      <td>0.0</td>\n      <td>PT1M</td>\n      <td>Percent</td>\n      <td></td>\n      <td>NaN</td>\n      <td>NaN</td>\n      <td></td>\n      <td></td>\n      <td></td>\n      <td></td>\n      <td></td>\n      <td>NaN</td>\n      <td></td>\n      <td></td>\n      <td></td>\n      <td></td>\n      <td></td>\n      <td>AzureMetrics</td>\n    </tr>\n    <tr>\n      <th>6</th>\n      <td>Azure</td>\n      <td>2021-01-31 23:09:00+00:00</td>\n      <td></td>\n      <td></td>\n      <td></td>\n      <td></td>\n      <td></td>\n      <td></td>\n      <td>NaN</td>\n      <td></td>\n      <td></td>\n      <td>ADVENTUREWORKS</td>\n      <td>MICROSOFT.SQL</td>\n      <td>cpu_limit</td>\n      <td>10.0</td>\n      <td>5.0</td>\n      <td>2.0</td>\n      <td>2.0</td>\n      <td>2.0</td>\n      <td>PT1M</td>\n      <td>Count</td>\n      <td></td>\n      <td>NaN</td>\n      <td>NaN</td>\n      <td></td>\n      <td></td>\n      <td></td>\n      <td></td>\n      <td></td>\n      <td>NaN</td>\n      <td></td>\n      <td></td>\n      <td></td>\n      <td></td>\n      <td></td>\n      <td>AzureMetrics</td>\n    </tr>\n    <tr>\n      <th>7</th>\n      <td>Azure</td>\n      <td>2021-01-31 23:09:00+00:00</td>\n      <td></td>\n      <td></td>\n      <td></td>\n      <td></td>\n      <td></td>\n      <td></td>\n      <td>NaN</td>\n      <td></td>\n      <td></td>\n      <td>ADVENTUREWORKS</td>\n      <td>MICROSOFT.SQL</td>\n      <td>workers_percent</td>\n      <td>0.0</td>\n      <td>4.0</td>\n      <td>0.0</td>\n      <td>0.0</td>\n      <td>0.0</td>\n      <td>PT1M</td>\n      <td>Percent</td>\n      <td></td>\n      <td>NaN</td>\n      <td>NaN</td>\n      <td></td>\n      <td></td>\n      <td></td>\n      <td></td>\n      <td></td>\n      <td>NaN</td>\n      <td></td>\n      <td></td>\n      <td></td>\n      <td></td>\n      <td></td>\n      <td>AzureMetrics</td>\n    </tr>\n    <tr>\n      <th>8</th>\n      <td>Azure</td>\n      <td>2021-01-31 23:09:00+00:00</td>\n      <td></td>\n      <td></td>\n      <td></td>\n      <td></td>\n      <td></td>\n      <td></td>\n      <td>NaN</td>\n      <td></td>\n      <td></td>\n      <td>ADVENTUREWORKS</td>\n      <td>MICROSOFT.SQL</td>\n      <td>cpu_used</td>\n      <td>0.0</td>\n      <td>1.0</td>\n      <td>0.0</td>\n      <td>0.0</td>\n      <td>0.0</td>\n      <td>PT1M</td>\n      <td>Count</td>\n      <td></td>\n      <td>NaN</td>\n      <td>NaN</td>\n      <td></td>\n      <td></td>\n      <td></td>\n      <td></td>\n      <td></td>\n      <td>NaN</td>\n      <td></td>\n      <td></td>\n      <td></td>\n      <td></td>\n      <td></td>\n      <td>AzureMetrics</td>\n    </tr>\n    <tr>\n      <th>9</th>\n      <td>Azure</td>\n      <td>2021-01-31 23:09:00+00:00</td>\n      <td></td>\n      <td></td>\n      <td></td>\n      <td></td>\n      <td></td>\n      <td></td>\n      <td>NaN</td>\n      <td></td>\n      <td></td>\n      <td>ADVENTUREWORKS</td>\n      <td>MICROSOFT.SQL</td>\n      <td>sessions_percent</td>\n      <td>0.0</td>\n      <td>4.0</td>\n      <td>0.0</td>\n      <td>0.0</td>\n      <td>0.0</td>\n      <td>PT1M</td>\n      <td>Percent</td>\n      <td></td>\n      <td>NaN</td>\n      <td>NaN</td>\n      <td></td>\n      <td></td>\n      <td></td>\n      <td></td>\n      <td></td>\n      <td>NaN</td>\n      <td></td>\n      <td></td>\n      <td></td>\n      <td></td>\n      <td></td>\n      <td>AzureMetrics</td>\n    </tr>\n  </tbody>\n</table>\n</div>",
                        "application/vnd.dataresource+json": {
                            "schema": {
                                "fields": [
                                    {
                                        "name": "SourceSystem",
                                        "type": "string"
                                    },
                                    {
                                        "name": "TimeGenerated",
                                        "type": "datetime",
                                        "tz": "UTC"
                                    },
                                    {
                                        "name": "OperationName",
                                        "type": "string"
                                    },
                                    {
                                        "name": "OperationVersion",
                                        "type": "string"
                                    },
                                    {
                                        "name": "Category",
                                        "type": "string"
                                    },
                                    {
                                        "name": "ResultType",
                                        "type": "string"
                                    },
                                    {
                                        "name": "ResultSignature",
                                        "type": "string"
                                    },
                                    {
                                        "name": "ResultDescription",
                                        "type": "string"
                                    },
                                    {
                                        "name": "DurationMs",
                                        "type": "number"
                                    },
                                    {
                                        "name": "CallerIpAddress",
                                        "type": "string"
                                    },
                                    {
                                        "name": "CorrelationId",
                                        "type": "string"
                                    },
                                    {
                                        "name": "Resource",
                                        "type": "string"
                                    },
                                    {
                                        "name": "ResourceProvider",
                                        "type": "string"
                                    },
                                    {
                                        "name": "MetricName",
                                        "type": "string"
                                    },
                                    {
                                        "name": "Total",
                                        "type": "number"
                                    },
                                    {
                                        "name": "Count",
                                        "type": "number"
                                    },
                                    {
                                        "name": "Maximum",
                                        "type": "number"
                                    },
                                    {
                                        "name": "Minimum",
                                        "type": "number"
                                    },
                                    {
                                        "name": "Average",
                                        "type": "number"
                                    },
                                    {
                                        "name": "TimeGrain",
                                        "type": "string"
                                    },
                                    {
                                        "name": "UnitName",
                                        "type": "string"
                                    },
                                    {
                                        "name": "RemoteIPCountry",
                                        "type": "string"
                                    },
                                    {
                                        "name": "RemoteIPLatitude",
                                        "type": "number"
                                    },
                                    {
                                        "name": "RemoteIPLongitude",
                                        "type": "number"
                                    },
                                    {
                                        "name": "MaliciousIP",
                                        "type": "string"
                                    },
                                    {
                                        "name": "IndicatorThreatType",
                                        "type": "string"
                                    },
                                    {
                                        "name": "Description",
                                        "type": "string"
                                    },
                                    {
                                        "name": "TLPLevel",
                                        "type": "string"
                                    },
                                    {
                                        "name": "Confidence",
                                        "type": "string"
                                    },
                                    {
                                        "name": "Severity",
                                        "type": "number"
                                    },
                                    {
                                        "name": "FirstReportedDateTime",
                                        "type": "string"
                                    },
                                    {
                                        "name": "LastReportedDateTime",
                                        "type": "string"
                                    },
                                    {
                                        "name": "IsActive",
                                        "type": "string"
                                    },
                                    {
                                        "name": "ReportReferenceLink",
                                        "type": "string"
                                    },
                                    {
                                        "name": "AdditionalInformation",
                                        "type": "string"
                                    },
                                    {
                                        "name": "Type",
                                        "type": "string"
                                    }
                                ],
                                "kqmagic_version": "0.1.113.post1"
                            },
                            "data": [
                                {
                                    "SourceSystem": "Azure",
                                    "TimeGenerated": "2021-01-31T23:09:00.000Z",
                                    "OperationName": "",
                                    "OperationVersion": "",
                                    "Category": "",
                                    "ResultType": "",
                                    "ResultSignature": "",
                                    "ResultDescription": "",
                                    "DurationMs": null,
                                    "CallerIpAddress": "",
                                    "CorrelationId": "",
                                    "Resource": "ADVENTUREWORKS",
                                    "ResourceProvider": "MICROSOFT.SQL",
                                    "MetricName": "storage_percent",
                                    "Total": 0,
                                    "Count": 1,
                                    "Maximum": 0,
                                    "Minimum": 0,
                                    "Average": 0,
                                    "TimeGrain": "PT1M",
                                    "UnitName": "Percent",
                                    "RemoteIPCountry": "",
                                    "RemoteIPLatitude": null,
                                    "RemoteIPLongitude": null,
                                    "MaliciousIP": "",
                                    "IndicatorThreatType": "",
                                    "Description": "",
                                    "TLPLevel": "",
                                    "Confidence": "",
                                    "Severity": null,
                                    "FirstReportedDateTime": "",
                                    "LastReportedDateTime": "",
                                    "IsActive": "",
                                    "ReportReferenceLink": "",
                                    "AdditionalInformation": "",
                                    "Type": "AzureMetrics"
                                },
                                {
                                    "SourceSystem": "Azure",
                                    "TimeGenerated": "2021-01-31T23:09:00.000Z",
                                    "OperationName": "",
                                    "OperationVersion": "",
                                    "Category": "",
                                    "ResultType": "",
                                    "ResultSignature": "",
                                    "ResultDescription": "",
                                    "DurationMs": null,
                                    "CallerIpAddress": "",
                                    "CorrelationId": "",
                                    "Resource": "ADVENTUREWORKS",
                                    "ResourceProvider": "MICROSOFT.SQL",
                                    "MetricName": "cpu_percent",
                                    "Total": 0,
                                    "Count": 4,
                                    "Maximum": 0,
                                    "Minimum": 0,
                                    "Average": 0,
                                    "TimeGrain": "PT1M",
                                    "UnitName": "Percent",
                                    "RemoteIPCountry": "",
                                    "RemoteIPLatitude": null,
                                    "RemoteIPLongitude": null,
                                    "MaliciousIP": "",
                                    "IndicatorThreatType": "",
                                    "Description": "",
                                    "TLPLevel": "",
                                    "Confidence": "",
                                    "Severity": null,
                                    "FirstReportedDateTime": "",
                                    "LastReportedDateTime": "",
                                    "IsActive": "",
                                    "ReportReferenceLink": "",
                                    "AdditionalInformation": "",
                                    "Type": "AzureMetrics"
                                },
                                {
                                    "SourceSystem": "Azure",
                                    "TimeGenerated": "2021-01-31T23:09:00.000Z",
                                    "OperationName": "",
                                    "OperationVersion": "",
                                    "Category": "",
                                    "ResultType": "",
                                    "ResultSignature": "",
                                    "ResultDescription": "",
                                    "DurationMs": null,
                                    "CallerIpAddress": "",
                                    "CorrelationId": "",
                                    "Resource": "ADVENTUREWORKS",
                                    "ResourceProvider": "MICROSOFT.SQL",
                                    "MetricName": "physical_data_read_percent",
                                    "Total": 0,
                                    "Count": 4,
                                    "Maximum": 0,
                                    "Minimum": 0,
                                    "Average": 0,
                                    "TimeGrain": "PT1M",
                                    "UnitName": "Percent",
                                    "RemoteIPCountry": "",
                                    "RemoteIPLatitude": null,
                                    "RemoteIPLongitude": null,
                                    "MaliciousIP": "",
                                    "IndicatorThreatType": "",
                                    "Description": "",
                                    "TLPLevel": "",
                                    "Confidence": "",
                                    "Severity": null,
                                    "FirstReportedDateTime": "",
                                    "LastReportedDateTime": "",
                                    "IsActive": "",
                                    "ReportReferenceLink": "",
                                    "AdditionalInformation": "",
                                    "Type": "AzureMetrics"
                                },
                                {
                                    "SourceSystem": "Azure",
                                    "TimeGenerated": "2021-01-31T23:09:00.000Z",
                                    "OperationName": "",
                                    "OperationVersion": "",
                                    "Category": "",
                                    "ResultType": "",
                                    "ResultSignature": "",
                                    "ResultDescription": "",
                                    "DurationMs": null,
                                    "CallerIpAddress": "",
                                    "CorrelationId": "",
                                    "Resource": "ADVENTUREWORKS",
                                    "ResourceProvider": "MICROSOFT.SQL",
                                    "MetricName": "xtp_storage_percent",
                                    "Total": 0,
                                    "Count": 4,
                                    "Maximum": 0,
                                    "Minimum": 0,
                                    "Average": 0,
                                    "TimeGrain": "PT1M",
                                    "UnitName": "Percent",
                                    "RemoteIPCountry": "",
                                    "RemoteIPLatitude": null,
                                    "RemoteIPLongitude": null,
                                    "MaliciousIP": "",
                                    "IndicatorThreatType": "",
                                    "Description": "",
                                    "TLPLevel": "",
                                    "Confidence": "",
                                    "Severity": null,
                                    "FirstReportedDateTime": "",
                                    "LastReportedDateTime": "",
                                    "IsActive": "",
                                    "ReportReferenceLink": "",
                                    "AdditionalInformation": "",
                                    "Type": "AzureMetrics"
                                },
                                {
                                    "SourceSystem": "Azure",
                                    "TimeGenerated": "2021-01-31T23:09:00.000Z",
                                    "OperationName": "",
                                    "OperationVersion": "",
                                    "Category": "",
                                    "ResultType": "",
                                    "ResultSignature": "",
                                    "ResultDescription": "",
                                    "DurationMs": null,
                                    "CallerIpAddress": "",
                                    "CorrelationId": "",
                                    "Resource": "ADVENTUREWORKS",
                                    "ResourceProvider": "MICROSOFT.SQL",
                                    "MetricName": "storage",
                                    "Total": 29229056,
                                    "Count": 1,
                                    "Maximum": 29229056,
                                    "Minimum": 29229056,
                                    "Average": 29229056,
                                    "TimeGrain": "PT1M",
                                    "UnitName": "Bytes",
                                    "RemoteIPCountry": "",
                                    "RemoteIPLatitude": null,
                                    "RemoteIPLongitude": null,
                                    "MaliciousIP": "",
                                    "IndicatorThreatType": "",
                                    "Description": "",
                                    "TLPLevel": "",
                                    "Confidence": "",
                                    "Severity": null,
                                    "FirstReportedDateTime": "",
                                    "LastReportedDateTime": "",
                                    "IsActive": "",
                                    "ReportReferenceLink": "",
                                    "AdditionalInformation": "",
                                    "Type": "AzureMetrics"
                                },
                                {
                                    "SourceSystem": "Azure",
                                    "TimeGenerated": "2021-01-31T23:09:00.000Z",
                                    "OperationName": "",
                                    "OperationVersion": "",
                                    "Category": "",
                                    "ResultType": "",
                                    "ResultSignature": "",
                                    "ResultDescription": "",
                                    "DurationMs": null,
                                    "CallerIpAddress": "",
                                    "CorrelationId": "",
                                    "Resource": "ADVENTUREWORKS",
                                    "ResourceProvider": "MICROSOFT.SQL",
                                    "MetricName": "log_write_percent",
                                    "Total": 0,
                                    "Count": 4,
                                    "Maximum": 0,
                                    "Minimum": 0,
                                    "Average": 0,
                                    "TimeGrain": "PT1M",
                                    "UnitName": "Percent",
                                    "RemoteIPCountry": "",
                                    "RemoteIPLatitude": null,
                                    "RemoteIPLongitude": null,
                                    "MaliciousIP": "",
                                    "IndicatorThreatType": "",
                                    "Description": "",
                                    "TLPLevel": "",
                                    "Confidence": "",
                                    "Severity": null,
                                    "FirstReportedDateTime": "",
                                    "LastReportedDateTime": "",
                                    "IsActive": "",
                                    "ReportReferenceLink": "",
                                    "AdditionalInformation": "",
                                    "Type": "AzureMetrics"
                                },
                                {
                                    "SourceSystem": "Azure",
                                    "TimeGenerated": "2021-01-31T23:09:00.000Z",
                                    "OperationName": "",
                                    "OperationVersion": "",
                                    "Category": "",
                                    "ResultType": "",
                                    "ResultSignature": "",
                                    "ResultDescription": "",
                                    "DurationMs": null,
                                    "CallerIpAddress": "",
                                    "CorrelationId": "",
                                    "Resource": "ADVENTUREWORKS",
                                    "ResourceProvider": "MICROSOFT.SQL",
                                    "MetricName": "cpu_limit",
                                    "Total": 10,
                                    "Count": 5,
                                    "Maximum": 2,
                                    "Minimum": 2,
                                    "Average": 2,
                                    "TimeGrain": "PT1M",
                                    "UnitName": "Count",
                                    "RemoteIPCountry": "",
                                    "RemoteIPLatitude": null,
                                    "RemoteIPLongitude": null,
                                    "MaliciousIP": "",
                                    "IndicatorThreatType": "",
                                    "Description": "",
                                    "TLPLevel": "",
                                    "Confidence": "",
                                    "Severity": null,
                                    "FirstReportedDateTime": "",
                                    "LastReportedDateTime": "",
                                    "IsActive": "",
                                    "ReportReferenceLink": "",
                                    "AdditionalInformation": "",
                                    "Type": "AzureMetrics"
                                },
                                {
                                    "SourceSystem": "Azure",
                                    "TimeGenerated": "2021-01-31T23:09:00.000Z",
                                    "OperationName": "",
                                    "OperationVersion": "",
                                    "Category": "",
                                    "ResultType": "",
                                    "ResultSignature": "",
                                    "ResultDescription": "",
                                    "DurationMs": null,
                                    "CallerIpAddress": "",
                                    "CorrelationId": "",
                                    "Resource": "ADVENTUREWORKS",
                                    "ResourceProvider": "MICROSOFT.SQL",
                                    "MetricName": "workers_percent",
                                    "Total": 0,
                                    "Count": 4,
                                    "Maximum": 0,
                                    "Minimum": 0,
                                    "Average": 0,
                                    "TimeGrain": "PT1M",
                                    "UnitName": "Percent",
                                    "RemoteIPCountry": "",
                                    "RemoteIPLatitude": null,
                                    "RemoteIPLongitude": null,
                                    "MaliciousIP": "",
                                    "IndicatorThreatType": "",
                                    "Description": "",
                                    "TLPLevel": "",
                                    "Confidence": "",
                                    "Severity": null,
                                    "FirstReportedDateTime": "",
                                    "LastReportedDateTime": "",
                                    "IsActive": "",
                                    "ReportReferenceLink": "",
                                    "AdditionalInformation": "",
                                    "Type": "AzureMetrics"
                                },
                                {
                                    "SourceSystem": "Azure",
                                    "TimeGenerated": "2021-01-31T23:09:00.000Z",
                                    "OperationName": "",
                                    "OperationVersion": "",
                                    "Category": "",
                                    "ResultType": "",
                                    "ResultSignature": "",
                                    "ResultDescription": "",
                                    "DurationMs": null,
                                    "CallerIpAddress": "",
                                    "CorrelationId": "",
                                    "Resource": "ADVENTUREWORKS",
                                    "ResourceProvider": "MICROSOFT.SQL",
                                    "MetricName": "cpu_used",
                                    "Total": 0,
                                    "Count": 1,
                                    "Maximum": 0,
                                    "Minimum": 0,
                                    "Average": 0,
                                    "TimeGrain": "PT1M",
                                    "UnitName": "Count",
                                    "RemoteIPCountry": "",
                                    "RemoteIPLatitude": null,
                                    "RemoteIPLongitude": null,
                                    "MaliciousIP": "",
                                    "IndicatorThreatType": "",
                                    "Description": "",
                                    "TLPLevel": "",
                                    "Confidence": "",
                                    "Severity": null,
                                    "FirstReportedDateTime": "",
                                    "LastReportedDateTime": "",
                                    "IsActive": "",
                                    "ReportReferenceLink": "",
                                    "AdditionalInformation": "",
                                    "Type": "AzureMetrics"
                                },
                                {
                                    "SourceSystem": "Azure",
                                    "TimeGenerated": "2021-01-31T23:09:00.000Z",
                                    "OperationName": "",
                                    "OperationVersion": "",
                                    "Category": "",
                                    "ResultType": "",
                                    "ResultSignature": "",
                                    "ResultDescription": "",
                                    "DurationMs": null,
                                    "CallerIpAddress": "",
                                    "CorrelationId": "",
                                    "Resource": "ADVENTUREWORKS",
                                    "ResourceProvider": "MICROSOFT.SQL",
                                    "MetricName": "sessions_percent",
                                    "Total": 0,
                                    "Count": 4,
                                    "Maximum": 0,
                                    "Minimum": 0,
                                    "Average": 0,
                                    "TimeGrain": "PT1M",
                                    "UnitName": "Percent",
                                    "RemoteIPCountry": "",
                                    "RemoteIPLatitude": null,
                                    "RemoteIPLongitude": null,
                                    "MaliciousIP": "",
                                    "IndicatorThreatType": "",
                                    "Description": "",
                                    "TLPLevel": "",
                                    "Confidence": "",
                                    "Severity": null,
                                    "FirstReportedDateTime": "",
                                    "LastReportedDateTime": "",
                                    "IsActive": "",
                                    "ReportReferenceLink": "",
                                    "AdditionalInformation": "",
                                    "Type": "AzureMetrics"
                                }
                            ]
                        }
                    },
                    "metadata": {},
                    "output_type": "display_data"
                },
                {
                    "data": {
                        "text/plain": "<IPython.core.display.HTML object>",
                        "text/html": "<html>\n        <head>\n            \n            \n        </head>\n        <body>\n            <div><p style='padding: 10px; color: #3a87ad; background-color: #d9edf7; border-color: #bce9f1'>Done&nbsp;(00:06.367):&nbsp;10&nbsp;records</p></div>\n        </body>\n        </html>"
                    },
                    "metadata": {},
                    "output_type": "display_data"
                },
                {
                    "data": {
                        "text/plain": "[{'SourceSystem': 'Azure', 'TimeGenerated': datetime.datetime(2021, 1, 31, 23, 9, tzinfo=tzutc()), 'OperationName': '', 'OperationVersion': '', 'Category': '', 'ResultType': '', 'ResultSignature': '', 'ResultDescription': '', 'DurationMs': None, 'CallerIpAddress': '', 'CorrelationId': '', 'Resource': 'ADVENTUREWORKS', 'ResourceProvider': 'MICROSOFT.SQL', 'MetricName': 'storage_percent', 'Total': 0, 'Count': 1, 'Maximum': 0, 'Minimum': 0, 'Average': 0, 'TimeGrain': 'PT1M', 'UnitName': 'Percent', 'RemoteIPCountry': '', 'RemoteIPLatitude': None, 'RemoteIPLongitude': None, 'MaliciousIP': '', 'IndicatorThreatType': '', 'Description': '', 'TLPLevel': '', 'Confidence': '', 'Severity': None, 'FirstReportedDateTime': '', 'LastReportedDateTime': '', 'IsActive': '', 'ReportReferenceLink': '', 'AdditionalInformation': '', 'Type': 'AzureMetrics'},\n {'SourceSystem': 'Azure', 'TimeGenerated': datetime.datetime(2021, 1, 31, 23, 9, tzinfo=tzutc()), 'OperationName': '', 'OperationVersion': '', 'Category': '', 'ResultType': '', 'ResultSignature': '', 'ResultDescription': '', 'DurationMs': None, 'CallerIpAddress': '', 'CorrelationId': '', 'Resource': 'ADVENTUREWORKS', 'ResourceProvider': 'MICROSOFT.SQL', 'MetricName': 'cpu_percent', 'Total': 0, 'Count': 4, 'Maximum': 0, 'Minimum': 0, 'Average': 0, 'TimeGrain': 'PT1M', 'UnitName': 'Percent', 'RemoteIPCountry': '', 'RemoteIPLatitude': None, 'RemoteIPLongitude': None, 'MaliciousIP': '', 'IndicatorThreatType': '', 'Description': '', 'TLPLevel': '', 'Confidence': '', 'Severity': None, 'FirstReportedDateTime': '', 'LastReportedDateTime': '', 'IsActive': '', 'ReportReferenceLink': '', 'AdditionalInformation': '', 'Type': 'AzureMetrics'},\n {'SourceSystem': 'Azure', 'TimeGenerated': datetime.datetime(2021, 1, 31, 23, 9, tzinfo=tzutc()), 'OperationName': '', 'OperationVersion': '', 'Category': '', 'ResultType': '', 'ResultSignature': '', 'ResultDescription': '', 'DurationMs': None, 'CallerIpAddress': '', 'CorrelationId': '', 'Resource': 'ADVENTUREWORKS', 'ResourceProvider': 'MICROSOFT.SQL', 'MetricName': 'physical_data_read_percent', 'Total': 0, 'Count': 4, 'Maximum': 0, 'Minimum': 0, 'Average': 0, 'TimeGrain': 'PT1M', 'UnitName': 'Percent', 'RemoteIPCountry': '', 'RemoteIPLatitude': None, 'RemoteIPLongitude': None, 'MaliciousIP': '', 'IndicatorThreatType': '', 'Description': '', 'TLPLevel': '', 'Confidence': '', 'Severity': None, 'FirstReportedDateTime': '', 'LastReportedDateTime': '', 'IsActive': '', 'ReportReferenceLink': '', 'AdditionalInformation': '', 'Type': 'AzureMetrics'},\n {'SourceSystem': 'Azure', 'TimeGenerated': datetime.datetime(2021, 1, 31, 23, 9, tzinfo=tzutc()), 'OperationName': '', 'OperationVersion': '', 'Category': '', 'ResultType': '', 'ResultSignature': '', 'ResultDescription': '', 'DurationMs': None, 'CallerIpAddress': '', 'CorrelationId': '', 'Resource': 'ADVENTUREWORKS', 'ResourceProvider': 'MICROSOFT.SQL', 'MetricName': 'xtp_storage_percent', 'Total': 0, 'Count': 4, 'Maximum': 0, 'Minimum': 0, 'Average': 0, 'TimeGrain': 'PT1M', 'UnitName': 'Percent', 'RemoteIPCountry': '', 'RemoteIPLatitude': None, 'RemoteIPLongitude': None, 'MaliciousIP': '', 'IndicatorThreatType': '', 'Description': '', 'TLPLevel': '', 'Confidence': '', 'Severity': None, 'FirstReportedDateTime': '', 'LastReportedDateTime': '', 'IsActive': '', 'ReportReferenceLink': '', 'AdditionalInformation': '', 'Type': 'AzureMetrics'},\n {'SourceSystem': 'Azure', 'TimeGenerated': datetime.datetime(2021, 1, 31, 23, 9, tzinfo=tzutc()), 'OperationName': '', 'OperationVersion': '', 'Category': '', 'ResultType': '', 'ResultSignature': '', 'ResultDescription': '', 'DurationMs': None, 'CallerIpAddress': '', 'CorrelationId': '', 'Resource': 'ADVENTUREWORKS', 'ResourceProvider': 'MICROSOFT.SQL', 'MetricName': 'storage', 'Total': 29229056, 'Count': 1, 'Maximum': 29229056, 'Minimum': 29229056, 'Average': 29229056, 'TimeGrain': 'PT1M', 'UnitName': 'Bytes', 'RemoteIPCountry': '', 'RemoteIPLatitude': None, 'RemoteIPLongitude': None, 'MaliciousIP': '', 'IndicatorThreatType': '', 'Description': '', 'TLPLevel': '', 'Confidence': '', 'Severity': None, 'FirstReportedDateTime': '', 'LastReportedDateTime': '', 'IsActive': '', 'ReportReferenceLink': '', 'AdditionalInformation': '', 'Type': 'AzureMetrics'},\n {'SourceSystem': 'Azure', 'TimeGenerated': datetime.datetime(2021, 1, 31, 23, 9, tzinfo=tzutc()), 'OperationName': '', 'OperationVersion': '', 'Category': '', 'ResultType': '', 'ResultSignature': '', 'ResultDescription': '', 'DurationMs': None, 'CallerIpAddress': '', 'CorrelationId': '', 'Resource': 'ADVENTUREWORKS', 'ResourceProvider': 'MICROSOFT.SQL', 'MetricName': 'log_write_percent', 'Total': 0, 'Count': 4, 'Maximum': 0, 'Minimum': 0, 'Average': 0, 'TimeGrain': 'PT1M', 'UnitName': 'Percent', 'RemoteIPCountry': '', 'RemoteIPLatitude': None, 'RemoteIPLongitude': None, 'MaliciousIP': '', 'IndicatorThreatType': '', 'Description': '', 'TLPLevel': '', 'Confidence': '', 'Severity': None, 'FirstReportedDateTime': '', 'LastReportedDateTime': '', 'IsActive': '', 'ReportReferenceLink': '', 'AdditionalInformation': '', 'Type': 'AzureMetrics'},\n {'SourceSystem': 'Azure', 'TimeGenerated': datetime.datetime(2021, 1, 31, 23, 9, tzinfo=tzutc()), 'OperationName': '', 'OperationVersion': '', 'Category': '', 'ResultType': '', 'ResultSignature': '', 'ResultDescription': '', 'DurationMs': None, 'CallerIpAddress': '', 'CorrelationId': '', 'Resource': 'ADVENTUREWORKS', 'ResourceProvider': 'MICROSOFT.SQL', 'MetricName': 'cpu_limit', 'Total': 10, 'Count': 5, 'Maximum': 2, 'Minimum': 2, 'Average': 2, 'TimeGrain': 'PT1M', 'UnitName': 'Count', 'RemoteIPCountry': '', 'RemoteIPLatitude': None, 'RemoteIPLongitude': None, 'MaliciousIP': '', 'IndicatorThreatType': '', 'Description': '', 'TLPLevel': '', 'Confidence': '', 'Severity': None, 'FirstReportedDateTime': '', 'LastReportedDateTime': '', 'IsActive': '', 'ReportReferenceLink': '', 'AdditionalInformation': '', 'Type': 'AzureMetrics'},\n {'SourceSystem': 'Azure', 'TimeGenerated': datetime.datetime(2021, 1, 31, 23, 9, tzinfo=tzutc()), 'OperationName': '', 'OperationVersion': '', 'Category': '', 'ResultType': '', 'ResultSignature': '', 'ResultDescription': '', 'DurationMs': None, 'CallerIpAddress': '', 'CorrelationId': '', 'Resource': 'ADVENTUREWORKS', 'ResourceProvider': 'MICROSOFT.SQL', 'MetricName': 'workers_percent', 'Total': 0, 'Count': 4, 'Maximum': 0, 'Minimum': 0, 'Average': 0, 'TimeGrain': 'PT1M', 'UnitName': 'Percent', 'RemoteIPCountry': '', 'RemoteIPLatitude': None, 'RemoteIPLongitude': None, 'MaliciousIP': '', 'IndicatorThreatType': '', 'Description': '', 'TLPLevel': '', 'Confidence': '', 'Severity': None, 'FirstReportedDateTime': '', 'LastReportedDateTime': '', 'IsActive': '', 'ReportReferenceLink': '', 'AdditionalInformation': '', 'Type': 'AzureMetrics'},\n {'SourceSystem': 'Azure', 'TimeGenerated': datetime.datetime(2021, 1, 31, 23, 9, tzinfo=tzutc()), 'OperationName': '', 'OperationVersion': '', 'Category': '', 'ResultType': '', 'ResultSignature': '', 'ResultDescription': '', 'DurationMs': None, 'CallerIpAddress': '', 'CorrelationId': '', 'Resource': 'ADVENTUREWORKS', 'ResourceProvider': 'MICROSOFT.SQL', 'MetricName': 'cpu_used', 'Total': 0, 'Count': 1, 'Maximum': 0, 'Minimum': 0, 'Average': 0, 'TimeGrain': 'PT1M', 'UnitName': 'Count', 'RemoteIPCountry': '', 'RemoteIPLatitude': None, 'RemoteIPLongitude': None, 'MaliciousIP': '', 'IndicatorThreatType': '', 'Description': '', 'TLPLevel': '', 'Confidence': '', 'Severity': None, 'FirstReportedDateTime': '', 'LastReportedDateTime': '', 'IsActive': '', 'ReportReferenceLink': '', 'AdditionalInformation': '', 'Type': 'AzureMetrics'},\n {'SourceSystem': 'Azure', 'TimeGenerated': datetime.datetime(2021, 1, 31, 23, 9, tzinfo=tzutc()), 'OperationName': '', 'OperationVersion': '', 'Category': '', 'ResultType': '', 'ResultSignature': '', 'ResultDescription': '', 'DurationMs': None, 'CallerIpAddress': '', 'CorrelationId': '', 'Resource': 'ADVENTUREWORKS', 'ResourceProvider': 'MICROSOFT.SQL', 'MetricName': 'sessions_percent', 'Total': 0, 'Count': 4, 'Maximum': 0, 'Minimum': 0, 'Average': 0, 'TimeGrain': 'PT1M', 'UnitName': 'Percent', 'RemoteIPCountry': '', 'RemoteIPLatitude': None, 'RemoteIPLongitude': None, 'MaliciousIP': '', 'IndicatorThreatType': '', 'Description': '', 'TLPLevel': '', 'Confidence': '', 'Severity': None, 'FirstReportedDateTime': '', 'LastReportedDateTime': '', 'IsActive': '', 'ReportReferenceLink': '', 'AdditionalInformation': '', 'Type': 'AzureMetrics'}]",
                        "text/html": ""
                    },
                    "metadata": {},
                    "execution_count": 5,
                    "output_type": "execute_result"
                }
            ],
            "execution_count": 5
        },
        {
            "cell_type": "markdown",
            "source": [
                "# AzureDiagnostics\r\n",
                "\r\n",
                "This is a sample query to dig into AzureDiagnostics"
            ],
            "metadata": {
                "azdata_cell_guid": "b7d842a1-4228-48c8-ab44-126adf65d1ed"
            }
        },
        {
            "cell_type": "code",
            "source": [
                "%%kql\r\n",
                "AzureDiagnostics\r\n",
                "| project-away TenantId, ResourceId, SubscriptionId, ResourceGroup, _ResourceId // Don't show sensitive columns :) \r\n",
                "| take 10"
            ],
            "metadata": {
                "azdata_cell_guid": "310413ed-93a0-4f80-ad80-9f7cd3e862da"
            },
            "outputs": [
                {
                    "data": {
                        "text/plain": "<IPython.core.display.HTML object>",
                        "text/html": "<html>\n        <head>\n            \n            \n        </head>\n        <body>\n            <div><p style='padding: 10px; color: #3a87ad; background-color: #d9edf7; border-color: #bce9f1'>&nbsp;*&nbsp;myLogAnalyticsWorkspace@loganalytics</p></div>\n        </body>\n        </html>"
                    },
                    "metadata": {},
                    "output_type": "display_data"
                },
                {
                    "data": {
                        "text/plain": "                     TimeGenerated                Category ResourceProvider  \\\n0 2021-01-31 17:14:07.326000+00:00  SQLSecurityAuditEvents    MICROSOFT.SQL   \n1 2021-01-31 17:14:20.326000+00:00  SQLSecurityAuditEvents    MICROSOFT.SQL   \n2 2021-01-31 17:14:20.326000+00:00  SQLSecurityAuditEvents    MICROSOFT.SQL   \n3 2021-01-31 17:14:20.326000+00:00  SQLSecurityAuditEvents    MICROSOFT.SQL   \n4 2021-01-31 17:14:20.326000+00:00  SQLSecurityAuditEvents    MICROSOFT.SQL   \n5 2021-01-31 17:14:21.326000+00:00  SQLSecurityAuditEvents    MICROSOFT.SQL   \n6 2021-01-31 17:14:21.326000+00:00  SQLSecurityAuditEvents    MICROSOFT.SQL   \n7 2021-01-31 17:14:25.327000+00:00  SQLSecurityAuditEvents    MICROSOFT.SQL   \n8 2021-01-31 17:14:25.327000+00:00  SQLSecurityAuditEvents    MICROSOFT.SQL   \n9 2021-01-31 17:14:26.327000+00:00  SQLSecurityAuditEvents    MICROSOFT.SQL   \n\n  Resource       ResourceType OperationName ResultType CorrelationId  \\\n0   MASTER  SERVERS/DATABASES    AuditEvent                            \n1   MASTER  SERVERS/DATABASES    AuditEvent                            \n2   MASTER  SERVERS/DATABASES    AuditEvent                            \n3   MASTER  SERVERS/DATABASES    AuditEvent                            \n4   MASTER  SERVERS/DATABASES    AuditEvent                            \n5   MASTER  SERVERS/DATABASES    AuditEvent                            \n6   MASTER  SERVERS/DATABASES    AuditEvent                            \n7   MASTER  SERVERS/DATABASES    AuditEvent                            \n8   MASTER  SERVERS/DATABASES    AuditEvent                            \n9   MASTER  SERVERS/DATABASES    AuditEvent                            \n\n  ResultDescription Tenant_g JobId_g RunbookName_s StreamType_s Caller_s  \\\n0                                                                          \n1                                                                          \n2                                                                          \n3                                                                          \n4                                                                          \n5                                                                          \n6                                                                          \n7                                                                          \n8                                                                          \n9                                                                          \n\n  requestUri_s Level  DurationMs CallerIPAddress OperationVersion  \\\n0                            NaN                                    \n1                            NaN                                    \n2                            NaN                                    \n3                            NaN                                    \n4                            NaN                                    \n5                            NaN                                    \n6                            NaN                                    \n7                            NaN                                    \n8                            NaN                                    \n9                            NaN                                    \n\n  ResultSignature id_s status_s LogicalServerName_s Message clientInfo_s  \\\n0                                     jukoesmasqldb                        \n1                                     jukoesmasqldb                        \n2                                     jukoesmasqldb                        \n3                                     jukoesmasqldb                        \n4                                     jukoesmasqldb                        \n5                                     jukoesmasqldb                        \n6                                     jukoesmasqldb                        \n7                                     jukoesmasqldb                        \n8                                     jukoesmasqldb                        \n9                                     jukoesmasqldb                        \n\n   httpStatusCode_d identity_claim_appid_g  \\\n0               NaN                          \n1               NaN                          \n2               NaN                          \n3               NaN                          \n4               NaN                          \n5               NaN                          \n6               NaN                          \n7               NaN                          \n8               NaN                          \n9               NaN                          \n\n  identity_claim_http_schemas_microsoft_com_identity_claims_objectidentifier_g  \\\n0                                                                                \n1                                                                                \n2                                                                                \n3                                                                                \n4                                                                                \n5                                                                                \n6                                                                                \n7                                                                                \n8                                                                                \n9                                                                                \n\n  userAgent_s ruleName_s  \\\n0                          \n1                          \n2                          \n3                          \n4                          \n5                          \n6                          \n7                          \n8                          \n9                          \n\n  identity_claim_http_schemas_xmlsoap_org_ws_2005_05_identity_claims_upn_s  \\\n0                                                                            \n1                                                                            \n2                                                                            \n3                                                                            \n4                                                                            \n5                                                                            \n6                                                                            \n7                                                                            \n8                                                                            \n9                                                                            \n\n  systemId_g isAccessPolicyMatch_b EventName_s httpMethod_s subnetId_s type_s  \\\n0                             None                                              \n1                             None                                              \n2                             None                                              \n3                             None                                              \n4                             None                                              \n5                             None                                              \n6                             None                                              \n7                             None                                              \n8                             None                                              \n9                             None                                              \n\n  instanceId_s macAddress_s vnetResourceGuid_g direction_s subnetPrefix_s  \\\n0                                                                           \n1                                                                           \n2                                                                           \n3                                                                           \n4                                                                           \n5                                                                           \n6                                                                           \n7                                                                           \n8                                                                           \n9                                                                           \n\n  primaryIPv4Address_s conditions_sourcePortRange_s  priority_d  \\\n0                                                           NaN   \n1                                                           NaN   \n2                                                           NaN   \n3                                                           NaN   \n4                                                           NaN   \n5                                                           NaN   \n6                                                           NaN   \n7                                                           NaN   \n8                                                           NaN   \n9                                                           NaN   \n\n  conditions_destinationPortRange_s conditions_destinationIP_s  \\\n0                                                                \n1                                                                \n2                                                                \n3                                                                \n4                                                                \n5                                                                \n6                                                                \n7                                                                \n8                                                                \n9                                                                \n\n  conditions_None_s conditions_sourceIP_s httpVersion_s  matchedConnections_d  \\\n0                                                                         NaN   \n1                                                                         NaN   \n2                                                                         NaN   \n3                                                                         NaN   \n4                                                                         NaN   \n5                                                                         NaN   \n6                                                                         NaN   \n7                                                                         NaN   \n8                                                                         NaN   \n9                                                                         NaN   \n\n  startTime_t endTime_t DatabaseName_s clientIP_s host_s requestQuery_s  \\\n0         NaT       NaT                                                   \n1         NaT       NaT                                                   \n2         NaT       NaT                                                   \n3         NaT       NaT                                                   \n4         NaT       NaT                                                   \n5         NaT       NaT                                                   \n6         NaT       NaT                                                   \n7         NaT       NaT                                                   \n8         NaT       NaT                                                   \n9         NaT       NaT                                                   \n\n  sslEnabled_s  clientPort_d  httpStatus_d  receivedBytes_d  sentBytes_d  \\\n0                        NaN           NaN              NaN          NaN   \n1                        NaN           NaN              NaN          NaN   \n2                        NaN           NaN              NaN          NaN   \n3                        NaN           NaN              NaN          NaN   \n4                        NaN           NaN              NaN          NaN   \n5                        NaN           NaN              NaN          NaN   \n6                        NaN           NaN              NaN          NaN   \n7                        NaN           NaN              NaN          NaN   \n8                        NaN           NaN              NaN          NaN   \n9                        NaN           NaN              NaN          NaN   \n\n   timeTaken_d resultDescription_ErrorJobs_s resultDescription_ChildJobs_s  \\\n0          NaN                                                               \n1          NaN                                                               \n2          NaN                                                               \n3          NaN                                                               \n4          NaN                                                               \n5          NaN                                                               \n6          NaN                                                               \n7          NaN                                                               \n8          NaN                                                               \n9          NaN                                                               \n\n  identity_claim_http_schemas_microsoft_com_identity_claims_scope_s  \\\n0                                                                     \n1                                                                     \n2                                                                     \n3                                                                     \n4                                                                     \n5                                                                     \n6                                                                     \n7                                                                     \n8                                                                     \n9                                                                     \n\n  workflowId_s resource_location_s resource_workflowId_g  \\\n0                                                          \n1                                                          \n2                                                          \n3                                                          \n4                                                          \n5                                                          \n6                                                          \n7                                                          \n8                                                          \n9                                                          \n\n  resource_resourceGroupName_s resource_subscriptionId_g resource_runId_s  \\\n0                                                                           \n1                                                                           \n2                                                                           \n3                                                                           \n4                                                                           \n5                                                                           \n6                                                                           \n7                                                                           \n8                                                                           \n9                                                                           \n\n  resource_workflowName_s _schema_s correlation_clientTrackingId_s  \\\n0                                                                    \n1                                                                    \n2                                                                    \n3                                                                    \n4                                                                    \n5                                                                    \n6                                                                    \n7                                                                    \n8                                                                    \n9                                                                    \n\n  properties_sku_Family_s properties_sku_Name_s properties_tenantId_g  \\\n0                                                                       \n1                                                                       \n2                                                                       \n3                                                                       \n4                                                                       \n5                                                                       \n6                                                                       \n7                                                                       \n8                                                                       \n9                                                                       \n\n  properties_enabledForDeployment_b code_s  \\\n0                              None          \n1                              None          \n2                              None          \n3                              None          \n4                              None          \n5                              None          \n6                              None          \n7                              None          \n8                              None          \n9                              None          \n\n  resultDescription_Summary_MachineId_s  \\\n0                                         \n1                                         \n2                                         \n3                                         \n4                                         \n5                                         \n6                                         \n7                                         \n8                                         \n9                                         \n\n  resultDescription_Summary_ScheduleName_s resultDescription_Summary_Status_s  \\\n0                                                                               \n1                                                                               \n2                                                                               \n3                                                                               \n4                                                                               \n5                                                                               \n6                                                                               \n7                                                                               \n8                                                                               \n9                                                                               \n\n  resultDescription_Summary_StatusDescription_s  \\\n0                                                 \n1                                                 \n2                                                 \n3                                                 \n4                                                 \n5                                                 \n6                                                 \n7                                                 \n8                                                 \n9                                                 \n\n  resultDescription_Summary_MachineName_s  \\\n0                                           \n1                                           \n2                                           \n3                                           \n4                                           \n5                                           \n6                                           \n7                                           \n8                                           \n9                                           \n\n   resultDescription_Summary_TotalUpdatesInstalled_d  \\\n0                                                NaN   \n1                                                NaN   \n2                                                NaN   \n3                                                NaN   \n4                                                NaN   \n5                                                NaN   \n6                                                NaN   \n7                                                NaN   \n8                                                NaN   \n9                                                NaN   \n\n  resultDescription_Summary_RebootRequired_b  \\\n0                                       None   \n1                                       None   \n2                                       None   \n3                                       None   \n4                                       None   \n5                                       None   \n6                                       None   \n7                                       None   \n8                                       None   \n9                                       None   \n\n   resultDescription_Summary_TotalUpdatesFailed_d  \\\n0                                             NaN   \n1                                             NaN   \n2                                             NaN   \n3                                             NaN   \n4                                             NaN   \n5                                             NaN   \n6                                             NaN   \n7                                             NaN   \n8                                             NaN   \n9                                             NaN   \n\n   resultDescription_Summary_InstallPercentage_d  \\\n0                                            NaN   \n1                                            NaN   \n2                                            NaN   \n3                                            NaN   \n4                                            NaN   \n5                                            NaN   \n6                                            NaN   \n7                                            NaN   \n8                                            NaN   \n9                                            NaN   \n\n  resultDescription_Summary_StartDateTimeUtc_t resource_triggerName_s  \\\n0                                          NaT                          \n1                                          NaT                          \n2                                          NaT                          \n3                                          NaT                          \n4                                          NaT                          \n5                                          NaT                          \n6                                          NaT                          \n7                                          NaT                          \n8                                          NaT                          \n9                                          NaT                          \n\n   resultDescription_Summary_InitialRequiredUpdatesCount_d  \\\n0                                                NaN         \n1                                                NaN         \n2                                                NaN         \n3                                                NaN         \n4                                                NaN         \n5                                                NaN         \n6                                                NaN         \n7                                                NaN         \n8                                                NaN         \n9                                                NaN         \n\n  properties_enabledForTemplateDeployment_b  \\\n0                                      None   \n1                                      None   \n2                                      None   \n3                                      None   \n4                                      None   \n5                                      None   \n6                                      None   \n7                                      None   \n8                                      None   \n9                                      None   \n\n  resultDescription_Summary_EndDateTimeUtc_s  \\\n0                                              \n1                                              \n2                                              \n3                                              \n4                                              \n5                                              \n6                                              \n7                                              \n8                                              \n9                                              \n\n  resultDescription_Summary_DurationInMinutes_s resource_originRunId_s  \\\n0                                                                        \n1                                                                        \n2                                                                        \n3                                                                        \n4                                                                        \n5                                                                        \n6                                                                        \n7                                                                        \n8                                                                        \n9                                                                        \n\n  properties_enabledForDiskEncryption_b resource_actionName_s  \\\n0                                  None                         \n1                                  None                         \n2                                  None                         \n3                                  None                         \n4                                  None                         \n5                                  None                         \n6                                  None                         \n7                                  None                         \n8                                  None                         \n9                                  None                         \n\n  correlation_actionTrackingId_g resultDescription_Summary_EndDateTimeUtc_t  \\\n0                                                                       NaT   \n1                                                                       NaT   \n2                                                                       NaT   \n3                                                                       NaT   \n4                                                                       NaT   \n5                                                                       NaT   \n6                                                                       NaT   \n7                                                                       NaT   \n8                                                                       NaT   \n9                                                                       NaT   \n\n   resultDescription_Summary_DurationInMinutes_d conditions_protocols_s  \\\n0                                            NaN                          \n1                                            NaN                          \n2                                            NaN                          \n3                                            NaN                          \n4                                            NaN                          \n5                                            NaN                          \n6                                            NaN                          \n7                                            NaN                          \n8                                            NaN                          \n9                                            NaN                          \n\n  identity_claim_ipaddr_s ElasticPoolName_s  \\\n0                                             \n1                                             \n2                                             \n3                                             \n4                                             \n5                                             \n6                                             \n7                                             \n8                                             \n9                                             \n\n  identity_claim_http_schemas_microsoft_com_claims_authnmethodsreferences_s  \\\n0                                                                             \n1                                                                             \n2                                                                             \n3                                                                             \n4                                                                             \n5                                                                             \n6                                                                             \n7                                                                             \n8                                                                             \n9                                                                             \n\n  RunOn_s query_hash_s SourceSystem MG ManagementGroupName Computer RawData  \\\n0                             Azure                                           \n1                             Azure                                           \n2                             Azure                                           \n3                             Azure                                           \n4                             Azure                                           \n5                             Azure                                           \n6                             Azure                                           \n7                             Azure                                           \n8                             Azure                                           \n9                             Azure                                           \n\n   error_state_d deadlock_xml_s query_plan_hash_s  error_number_d  Severity  \\\n0            NaN                                              NaN       NaN   \n1            NaN                                              NaN       NaN   \n2            NaN                                              NaN       NaN   \n3            NaN                                              NaN       NaN   \n4            NaN                                              NaN       NaN   \n5            NaN                                              NaN       NaN   \n6            NaN                                              NaN       NaN   \n7            NaN                                              NaN       NaN   \n8            NaN                                              NaN       NaN   \n9            NaN                                              NaN       NaN   \n\n  user_defined_b  state_d package_s              event_s  \\\n0           None      NaN  SecAudit  audit_event_shoebox   \n1           None      NaN  SecAudit  audit_event_shoebox   \n2           None      NaN  SecAudit  audit_event_shoebox   \n3           None      NaN  SecAudit  audit_event_shoebox   \n4           None      NaN  SecAudit  audit_event_shoebox   \n5           None      NaN  SecAudit  audit_event_shoebox   \n6           None      NaN  SecAudit  audit_event_shoebox   \n7           None      NaN  SecAudit  audit_event_shoebox   \n8           None      NaN  SecAudit  audit_event_shoebox   \n9           None      NaN  SecAudit  audit_event_shoebox   \n\n               sessionName_s         originalEventTimestamp_t  \\\n0  audit_session_for_shoebox 2021-01-31 17:14:07.325000+00:00   \n1  audit_session_for_shoebox 2021-01-31 17:14:20.322000+00:00   \n2  audit_session_for_shoebox 2021-01-31 17:14:20.322000+00:00   \n3  audit_session_for_shoebox 2021-01-31 17:14:20.322000+00:00   \n4  audit_session_for_shoebox 2021-01-31 17:14:20.322000+00:00   \n5  audit_session_for_shoebox 2021-01-31 17:14:21.320000+00:00   \n6  audit_session_for_shoebox 2021-01-31 17:14:21.320000+00:00   \n7  audit_session_for_shoebox 2021-01-31 17:14:25.315000+00:00   \n8  audit_session_for_shoebox 2021-01-31 17:14:25.315000+00:00   \n9  audit_session_for_shoebox 2021-01-31 17:14:26.319000+00:00   \n\n   audit_schema_version_d                     event_time_t  sequence_number_d  \\\n0                     1.0 2021-01-31 17:14:06.420000+00:00                1.0   \n1                     1.0 2021-01-31 17:14:19.561000+00:00                1.0   \n2                     1.0 2021-01-31 17:14:19.951000+00:00                1.0   \n3                     1.0 2021-01-31 17:14:20.045000+00:00                1.0   \n4                     1.0 2021-01-31 17:14:20.154000+00:00                1.0   \n5                     1.0 2021-01-31 17:14:20.561000+00:00                1.0   \n6                     1.0 2021-01-31 17:14:21.170000+00:00                1.0   \n7                     1.0 2021-01-31 17:14:25.061000+00:00                1.0   \n8                     1.0 2021-01-31 17:14:25.170000+00:00                1.0   \n9                     1.0 2021-01-31 17:14:25.889000+00:00                1.0   \n\n  action_id_s                      action_name_s succeeded_s  \\\n0        DBAS  DATABASE AUTHENTICATION SUCCEEDED        true   \n1        BCM                     BATCH COMPLETED        true   \n2        BCM                     BATCH COMPLETED        true   \n3        BCM                     BATCH COMPLETED        true   \n4        BCM                     BATCH COMPLETED        true   \n5        BCM                     BATCH COMPLETED        true   \n6        BCM                     BATCH COMPLETED        true   \n7        BCM                     BATCH COMPLETED        true   \n8        BCM                     BATCH COMPLETED        true   \n9        BCM                     BATCH COMPLETED        true   \n\n  is_column_permission_s  session_id_d  server_principal_id_d  \\\n0                  false          61.0                    0.0   \n1                  false          61.0                    0.0   \n2                  false          61.0                    0.0   \n3                  false          61.0                    0.0   \n4                  false          61.0                    0.0   \n5                  false          61.0                    0.0   \n6                  false          61.0                    0.0   \n7                  false          61.0                    0.0   \n8                  false          61.0                    0.0   \n9                  false          61.0                    0.0   \n\n   database_principal_id_d  target_server_principal_id_d  \\\n0                      5.0                           0.0   \n1                      5.0                           0.0   \n2                      5.0                           0.0   \n3                      5.0                           0.0   \n4                      5.0                           0.0   \n5                      5.0                           0.0   \n6                      5.0                           0.0   \n7                      5.0                           0.0   \n8                      5.0                           0.0   \n9                      5.0                           0.0   \n\n   target_database_principal_id_d  object_id_d  user_defined_event_id_d  \\\n0                             0.0          5.0                      0.0   \n1                             0.0          5.0                      0.0   \n2                             0.0          5.0                      0.0   \n3                             0.0          5.0                      0.0   \n4                             0.0          5.0                      0.0   \n5                             0.0          5.0                      0.0   \n6                             0.0          5.0                      0.0   \n7                             0.0          5.0                      0.0   \n8                             0.0          5.0                      0.0   \n9                             0.0          5.0                      0.0   \n\n   transaction_id_d class_type_s class_type_description_s  \\\n0               0.0           DB                 DATABASE   \n1               0.0           DB                 DATABASE   \n2               0.0           DB                 DATABASE   \n3               0.0           DB                 DATABASE   \n4               0.0           DB                 DATABASE   \n5               0.0           DB                 DATABASE   \n6               0.0           DB                 DATABASE   \n7               0.0           DB                 DATABASE   \n8               0.0           DB                 DATABASE   \n9               0.0           DB                 DATABASE   \n\n  securable_class_type_s  duration_milliseconds_d  response_rows_d  \\\n0               DATABASE                      0.0              0.0   \n1               DATABASE                     35.0              1.0   \n2               DATABASE                      0.0              1.0   \n3               DATABASE                      1.0              1.0   \n4               DATABASE                      0.0              1.0   \n5               DATABASE                      0.0              1.0   \n6               DATABASE                      0.0              1.0   \n7               DATABASE                      0.0              1.0   \n8               DATABASE                      0.0              0.0   \n9               DATABASE                      0.0              0.0   \n\n   affected_rows_d      client_ip_s                  permission_bitmask_g  \\\n0              0.0  131.107.174.142  00000000-0000-0000-0000-000000000000   \n1              1.0  131.107.174.142  00000000-0000-0000-0000-000000000000   \n2              1.0  131.107.174.142  00000000-0000-0000-0000-000000000000   \n3              1.0  131.107.174.142  00000000-0000-0000-0000-000000000000   \n4              1.0  131.107.174.142  00000000-0000-0000-0000-000000000000   \n5              1.0  131.107.174.142  00000000-0000-0000-0000-000000000000   \n6              1.0  131.107.174.142  00000000-0000-0000-0000-000000000000   \n7              1.0  131.107.174.142  00000000-0000-0000-0000-000000000000   \n8              0.0  131.107.174.142  00000000-0000-0000-0000-000000000000   \n9              0.0  131.107.174.142  00000000-0000-0000-0000-000000000000   \n\n                    sequence_group_id_g session_server_principal_name_s  \\\n0  f2eaa417-f826-46f6-abe7-c258359014e5                     adslivesite   \n1  3cce1817-7aa2-44de-b7d7-5ded01f58f01                     adslivesite   \n2  df15b53b-19fa-4b1f-bb35-078a750ba0f3                     adslivesite   \n3  9ccbde6d-7423-4e0a-bcea-ca6abbe44aa9                     adslivesite   \n4  a12ef4f2-6268-44a8-9cf0-23b2b0b79bee                     adslivesite   \n5  0f4a9b7e-5351-41c4-9ca0-89f6fd94f101                     adslivesite   \n6  13bcac03-040f-4cc5-9a34-db7ce3cefa9b                     adslivesite   \n7  288dd012-0f63-422f-b178-c1b9c46b18ca                     adslivesite   \n8  9f4665c9-7a38-448e-99fc-93fa7abe51d0                     adslivesite   \n9  620f1339-15e5-48d4-9e4c-52d42875d01b                     adslivesite   \n\n  server_principal_name_s                             server_principal_sid_s  \\\n0             adslivesite  01060000000001640000000000000000cef04990da1423...   \n1             adslivesite  01060000000001640000000000000000cef04990da1423...   \n2             adslivesite  01060000000001640000000000000000cef04990da1423...   \n3             adslivesite  01060000000001640000000000000000cef04990da1423...   \n4             adslivesite  01060000000001640000000000000000cef04990da1423...   \n5             adslivesite  01060000000001640000000000000000cef04990da1423...   \n6             adslivesite  01060000000001640000000000000000cef04990da1423...   \n7             adslivesite  01060000000001640000000000000000cef04990da1423...   \n8             adslivesite  01060000000001640000000000000000cef04990da1423...   \n9             adslivesite  01060000000001640000000000000000cef04990da1423...   \n\n  database_principal_name_s target_server_principal_name_s  \\\n0               adslivesite                                  \n1               adslivesite                                  \n2               adslivesite                                  \n3               adslivesite                                  \n4               adslivesite                                  \n5               adslivesite                                  \n6               adslivesite                                  \n7               adslivesite                                  \n8               adslivesite                                  \n9               adslivesite                                  \n\n  target_server_principal_sid_s target_database_principal_name_s  \\\n0                                                                  \n1                                                                  \n2                                                                  \n3                                                                  \n4                                                                  \n5                                                                  \n6                                                                  \n7                                                                  \n8                                                                  \n9                                                                  \n\n  server_instance_name_s database_name_s schema_name_s object_name_s  \\\n0          jukoesmasqldb          master                      master   \n1          jukoesmasqldb          master                      master   \n2          jukoesmasqldb          master                      master   \n3          jukoesmasqldb          master                      master   \n4          jukoesmasqldb          master                      master   \n5          jukoesmasqldb          master                      master   \n6          jukoesmasqldb          master                      master   \n7          jukoesmasqldb          master                      master   \n8          jukoesmasqldb          master                      master   \n9          jukoesmasqldb          master                      master   \n\n                                         statement_s additional_information_s  \\\n0                                                                               \n1  SELECT SERVERPROPERTY('EngineEdition'), SERVER...                            \n2  SELECT ISNULL(SESSIONPROPERTY ('ANSI_NULLS'), ...                            \n3  SELECT SERVERPROPERTY('EngineEdition'), SERVER...                            \n4  SELECT ISNULL(SESSIONPROPERTY ('ANSI_NULLS'), ...                            \n5       SELECT CONVERT(NVARCHAR(36), CONTEXT_INFO())                            \n6  SELECT ISNULL(SESSIONPROPERTY ('ANSI_NULLS'), ...                            \n7       SELECT CONVERT(NVARCHAR(36), CONTEXT_INFO())                            \n8                              set LOCK_TIMEOUT 5000                            \n9  SET ANSI_NULLS, ANSI_PADDING, ANSI_WARNINGS, A...                            \n\n  user_defined_information_s        application_name_s  \\\n0                             azdata-GeneralConnection   \n1                             azdata-GeneralConnection   \n2                             azdata-GeneralConnection   \n3                             azdata-GeneralConnection   \n4                             azdata-GeneralConnection   \n5                             azdata-GeneralConnection   \n6                             azdata-GeneralConnection   \n7                             azdata-GeneralConnection   \n8                             azdata-GeneralConnection   \n9                             azdata-GeneralConnection   \n\n                        connection_id_g data_sensitivity_information_s  \\\n0  3662a6c0-16da-4948-9ce5-743e7fabeec4                                  \n1  3662a6c0-16da-4948-9ce5-743e7fabeec4                                  \n2  3662a6c0-16da-4948-9ce5-743e7fabeec4                                  \n3  3662a6c0-16da-4948-9ce5-743e7fabeec4                                  \n4  3662a6c0-16da-4948-9ce5-743e7fabeec4                                  \n5  3662a6c0-16da-4948-9ce5-743e7fabeec4                                  \n6  3662a6c0-16da-4948-9ce5-743e7fabeec4                                  \n7  3662a6c0-16da-4948-9ce5-743e7fabeec4                                  \n8  3662a6c0-16da-4948-9ce5-743e7fabeec4                                  \n9  3662a6c0-16da-4948-9ce5-743e7fabeec4                                  \n\n    host_name_s session_context_s is_server_level_audit_s  \\\n0  MSSQLGIRL-01                                      true   \n1  MSSQLGIRL-01                                      true   \n2  MSSQLGIRL-01                                      true   \n3  MSSQLGIRL-01                                      true   \n4  MSSQLGIRL-01                                      true   \n5  MSSQLGIRL-01                                      true   \n6  MSSQLGIRL-01                                      true   \n7  MSSQLGIRL-01                                      true   \n8  MSSQLGIRL-01                                      true   \n9  MSSQLGIRL-01                                      true   \n\n                             event_id_g AdditionalFields              Type  \n0  93069c52-03da-4b4d-8f17-190e35c7b7ed             None  AzureDiagnostics  \n1  fa7d5951-a849-4e8b-b407-a3dd5427362c             None  AzureDiagnostics  \n2  e677f992-7263-483f-b6ee-c3ac3659b3a0             None  AzureDiagnostics  \n3  5ec4a5aa-2bea-47ca-a5a4-f17d3cda43b1             None  AzureDiagnostics  \n4  9ab63513-2564-418b-9ff2-c7fed837a7e3             None  AzureDiagnostics  \n5  f7fda07f-4a2f-4509-afff-5e2062761c2c             None  AzureDiagnostics  \n6  ff25e791-7b44-4dbf-8289-90e9e6fe351f             None  AzureDiagnostics  \n7  4a8600ef-ee42-4197-80cc-6b4824da1043             None  AzureDiagnostics  \n8  59dac3f7-2033-4b04-9851-d7fd19afeb1a             None  AzureDiagnostics  \n9  9b180e35-0a5a-4fb2-b688-8a7f2ecd8ed0             None  AzureDiagnostics  ",
                        "text/html": "<div>\n<style scoped>\n    .dataframe tbody tr th:only-of-type {\n        vertical-align: middle;\n    }\n\n    .dataframe tbody tr th {\n        vertical-align: top;\n    }\n\n    .dataframe thead th {\n        text-align: right;\n    }\n</style>\n<table border=\"1\" class=\"dataframe\">\n  <thead>\n    <tr style=\"text-align: right;\">\n      <th></th>\n      <th>TimeGenerated</th>\n      <th>Category</th>\n      <th>ResourceProvider</th>\n      <th>Resource</th>\n      <th>ResourceType</th>\n      <th>OperationName</th>\n      <th>ResultType</th>\n      <th>CorrelationId</th>\n      <th>ResultDescription</th>\n      <th>Tenant_g</th>\n      <th>JobId_g</th>\n      <th>RunbookName_s</th>\n      <th>StreamType_s</th>\n      <th>Caller_s</th>\n      <th>requestUri_s</th>\n      <th>Level</th>\n      <th>DurationMs</th>\n      <th>CallerIPAddress</th>\n      <th>OperationVersion</th>\n      <th>ResultSignature</th>\n      <th>id_s</th>\n      <th>status_s</th>\n      <th>LogicalServerName_s</th>\n      <th>Message</th>\n      <th>clientInfo_s</th>\n      <th>httpStatusCode_d</th>\n      <th>identity_claim_appid_g</th>\n      <th>identity_claim_http_schemas_microsoft_com_identity_claims_objectidentifier_g</th>\n      <th>userAgent_s</th>\n      <th>ruleName_s</th>\n      <th>identity_claim_http_schemas_xmlsoap_org_ws_2005_05_identity_claims_upn_s</th>\n      <th>systemId_g</th>\n      <th>isAccessPolicyMatch_b</th>\n      <th>EventName_s</th>\n      <th>httpMethod_s</th>\n      <th>subnetId_s</th>\n      <th>type_s</th>\n      <th>instanceId_s</th>\n      <th>macAddress_s</th>\n      <th>vnetResourceGuid_g</th>\n      <th>direction_s</th>\n      <th>subnetPrefix_s</th>\n      <th>primaryIPv4Address_s</th>\n      <th>conditions_sourcePortRange_s</th>\n      <th>priority_d</th>\n      <th>conditions_destinationPortRange_s</th>\n      <th>conditions_destinationIP_s</th>\n      <th>conditions_None_s</th>\n      <th>conditions_sourceIP_s</th>\n      <th>httpVersion_s</th>\n      <th>matchedConnections_d</th>\n      <th>startTime_t</th>\n      <th>endTime_t</th>\n      <th>DatabaseName_s</th>\n      <th>clientIP_s</th>\n      <th>host_s</th>\n      <th>requestQuery_s</th>\n      <th>sslEnabled_s</th>\n      <th>clientPort_d</th>\n      <th>httpStatus_d</th>\n      <th>receivedBytes_d</th>\n      <th>sentBytes_d</th>\n      <th>timeTaken_d</th>\n      <th>resultDescription_ErrorJobs_s</th>\n      <th>resultDescription_ChildJobs_s</th>\n      <th>identity_claim_http_schemas_microsoft_com_identity_claims_scope_s</th>\n      <th>workflowId_s</th>\n      <th>resource_location_s</th>\n      <th>resource_workflowId_g</th>\n      <th>resource_resourceGroupName_s</th>\n      <th>resource_subscriptionId_g</th>\n      <th>resource_runId_s</th>\n      <th>resource_workflowName_s</th>\n      <th>_schema_s</th>\n      <th>correlation_clientTrackingId_s</th>\n      <th>properties_sku_Family_s</th>\n      <th>properties_sku_Name_s</th>\n      <th>properties_tenantId_g</th>\n      <th>properties_enabledForDeployment_b</th>\n      <th>code_s</th>\n      <th>resultDescription_Summary_MachineId_s</th>\n      <th>resultDescription_Summary_ScheduleName_s</th>\n      <th>resultDescription_Summary_Status_s</th>\n      <th>resultDescription_Summary_StatusDescription_s</th>\n      <th>resultDescription_Summary_MachineName_s</th>\n      <th>resultDescription_Summary_TotalUpdatesInstalled_d</th>\n      <th>resultDescription_Summary_RebootRequired_b</th>\n      <th>resultDescription_Summary_TotalUpdatesFailed_d</th>\n      <th>resultDescription_Summary_InstallPercentage_d</th>\n      <th>resultDescription_Summary_StartDateTimeUtc_t</th>\n      <th>resource_triggerName_s</th>\n      <th>resultDescription_Summary_InitialRequiredUpdatesCount_d</th>\n      <th>properties_enabledForTemplateDeployment_b</th>\n      <th>resultDescription_Summary_EndDateTimeUtc_s</th>\n      <th>resultDescription_Summary_DurationInMinutes_s</th>\n      <th>resource_originRunId_s</th>\n      <th>properties_enabledForDiskEncryption_b</th>\n      <th>resource_actionName_s</th>\n      <th>correlation_actionTrackingId_g</th>\n      <th>resultDescription_Summary_EndDateTimeUtc_t</th>\n      <th>resultDescription_Summary_DurationInMinutes_d</th>\n      <th>conditions_protocols_s</th>\n      <th>identity_claim_ipaddr_s</th>\n      <th>ElasticPoolName_s</th>\n      <th>identity_claim_http_schemas_microsoft_com_claims_authnmethodsreferences_s</th>\n      <th>RunOn_s</th>\n      <th>query_hash_s</th>\n      <th>SourceSystem</th>\n      <th>MG</th>\n      <th>ManagementGroupName</th>\n      <th>Computer</th>\n      <th>RawData</th>\n      <th>error_state_d</th>\n      <th>deadlock_xml_s</th>\n      <th>query_plan_hash_s</th>\n      <th>error_number_d</th>\n      <th>Severity</th>\n      <th>user_defined_b</th>\n      <th>state_d</th>\n      <th>package_s</th>\n      <th>event_s</th>\n      <th>sessionName_s</th>\n      <th>originalEventTimestamp_t</th>\n      <th>audit_schema_version_d</th>\n      <th>event_time_t</th>\n      <th>sequence_number_d</th>\n      <th>action_id_s</th>\n      <th>action_name_s</th>\n      <th>succeeded_s</th>\n      <th>is_column_permission_s</th>\n      <th>session_id_d</th>\n      <th>server_principal_id_d</th>\n      <th>database_principal_id_d</th>\n      <th>target_server_principal_id_d</th>\n      <th>target_database_principal_id_d</th>\n      <th>object_id_d</th>\n      <th>user_defined_event_id_d</th>\n      <th>transaction_id_d</th>\n      <th>class_type_s</th>\n      <th>class_type_description_s</th>\n      <th>securable_class_type_s</th>\n      <th>duration_milliseconds_d</th>\n      <th>response_rows_d</th>\n      <th>affected_rows_d</th>\n      <th>client_ip_s</th>\n      <th>permission_bitmask_g</th>\n      <th>sequence_group_id_g</th>\n      <th>session_server_principal_name_s</th>\n      <th>server_principal_name_s</th>\n      <th>server_principal_sid_s</th>\n      <th>database_principal_name_s</th>\n      <th>target_server_principal_name_s</th>\n      <th>target_server_principal_sid_s</th>\n      <th>target_database_principal_name_s</th>\n      <th>server_instance_name_s</th>\n      <th>database_name_s</th>\n      <th>schema_name_s</th>\n      <th>object_name_s</th>\n      <th>statement_s</th>\n      <th>additional_information_s</th>\n      <th>user_defined_information_s</th>\n      <th>application_name_s</th>\n      <th>connection_id_g</th>\n      <th>data_sensitivity_information_s</th>\n      <th>host_name_s</th>\n      <th>session_context_s</th>\n      <th>is_server_level_audit_s</th>\n      <th>event_id_g</th>\n      <th>AdditionalFields</th>\n      <th>Type</th>\n    </tr>\n  </thead>\n  <tbody>\n    <tr>\n      <th>0</th>\n      <td>2021-01-31 17:14:07.326000+00:00</td>\n      <td>SQLSecurityAuditEvents</td>\n      <td>MICROSOFT.SQL</td>\n      <td>MASTER</td>\n      <td>SERVERS/DATABASES</td>\n      <td>AuditEvent</td>\n      <td></td>\n      <td></td>\n      <td></td>\n      <td></td>\n      <td></td>\n      <td></td>\n      <td></td>\n      <td></td>\n      <td></td>\n      <td></td>\n      <td>NaN</td>\n      <td></td>\n      <td></td>\n      <td></td>\n      <td></td>\n      <td></td>\n      <td>jukoesmasqldb</td>\n      <td></td>\n      <td></td>\n      <td>NaN</td>\n      <td></td>\n      <td></td>\n      <td></td>\n      <td></td>\n      <td></td>\n      <td></td>\n      <td>None</td>\n      <td></td>\n      <td></td>\n      <td></td>\n      <td></td>\n      <td></td>\n      <td></td>\n      <td></td>\n      <td></td>\n      <td></td>\n      <td></td>\n      <td></td>\n      <td>NaN</td>\n      <td></td>\n      <td></td>\n      <td></td>\n      <td></td>\n      <td></td>\n      <td>NaN</td>\n      <td>NaT</td>\n      <td>NaT</td>\n      <td></td>\n      <td></td>\n      <td></td>\n      <td></td>\n      <td></td>\n      <td>NaN</td>\n      <td>NaN</td>\n      <td>NaN</td>\n      <td>NaN</td>\n      <td>NaN</td>\n      <td></td>\n      <td></td>\n      <td></td>\n      <td></td>\n      <td></td>\n      <td></td>\n      <td></td>\n      <td></td>\n      <td></td>\n      <td></td>\n      <td></td>\n      <td></td>\n      <td></td>\n      <td></td>\n      <td></td>\n      <td>None</td>\n      <td></td>\n      <td></td>\n      <td></td>\n      <td></td>\n      <td></td>\n      <td></td>\n      <td>NaN</td>\n      <td>None</td>\n      <td>NaN</td>\n      <td>NaN</td>\n      <td>NaT</td>\n      <td></td>\n      <td>NaN</td>\n      <td>None</td>\n      <td></td>\n      <td></td>\n      <td></td>\n      <td>None</td>\n      <td></td>\n      <td></td>\n      <td>NaT</td>\n      <td>NaN</td>\n      <td></td>\n      <td></td>\n      <td></td>\n      <td></td>\n      <td></td>\n      <td></td>\n      <td>Azure</td>\n      <td></td>\n      <td></td>\n      <td></td>\n      <td></td>\n      <td>NaN</td>\n      <td></td>\n      <td></td>\n      <td>NaN</td>\n      <td>NaN</td>\n      <td>None</td>\n      <td>NaN</td>\n      <td>SecAudit</td>\n      <td>audit_event_shoebox</td>\n      <td>audit_session_for_shoebox</td>\n      <td>2021-01-31 17:14:07.325000+00:00</td>\n      <td>1.0</td>\n      <td>2021-01-31 17:14:06.420000+00:00</td>\n      <td>1.0</td>\n      <td>DBAS</td>\n      <td>DATABASE AUTHENTICATION SUCCEEDED</td>\n      <td>true</td>\n      <td>false</td>\n      <td>61.0</td>\n      <td>0.0</td>\n      <td>5.0</td>\n      <td>0.0</td>\n      <td>0.0</td>\n      <td>5.0</td>\n      <td>0.0</td>\n      <td>0.0</td>\n      <td>DB</td>\n      <td>DATABASE</td>\n      <td>DATABASE</td>\n      <td>0.0</td>\n      <td>0.0</td>\n      <td>0.0</td>\n      <td>131.107.174.142</td>\n      <td>00000000-0000-0000-0000-000000000000</td>\n      <td>f2eaa417-f826-46f6-abe7-c258359014e5</td>\n      <td>adslivesite</td>\n      <td>adslivesite</td>\n      <td>01060000000001640000000000000000cef04990da1423...</td>\n      <td>adslivesite</td>\n      <td></td>\n      <td></td>\n      <td></td>\n      <td>jukoesmasqldb</td>\n      <td>master</td>\n      <td></td>\n      <td>master</td>\n      <td></td>\n      <td></td>\n      <td></td>\n      <td>azdata-GeneralConnection</td>\n      <td>3662a6c0-16da-4948-9ce5-743e7fabeec4</td>\n      <td></td>\n      <td>MSSQLGIRL-01</td>\n      <td></td>\n      <td>true</td>\n      <td>93069c52-03da-4b4d-8f17-190e35c7b7ed</td>\n      <td>None</td>\n      <td>AzureDiagnostics</td>\n    </tr>\n    <tr>\n      <th>1</th>\n      <td>2021-01-31 17:14:20.326000+00:00</td>\n      <td>SQLSecurityAuditEvents</td>\n      <td>MICROSOFT.SQL</td>\n      <td>MASTER</td>\n      <td>SERVERS/DATABASES</td>\n      <td>AuditEvent</td>\n      <td></td>\n      <td></td>\n      <td></td>\n      <td></td>\n      <td></td>\n      <td></td>\n      <td></td>\n      <td></td>\n      <td></td>\n      <td></td>\n      <td>NaN</td>\n      <td></td>\n      <td></td>\n      <td></td>\n      <td></td>\n      <td></td>\n      <td>jukoesmasqldb</td>\n      <td></td>\n      <td></td>\n      <td>NaN</td>\n      <td></td>\n      <td></td>\n      <td></td>\n      <td></td>\n      <td></td>\n      <td></td>\n      <td>None</td>\n      <td></td>\n      <td></td>\n      <td></td>\n      <td></td>\n      <td></td>\n      <td></td>\n      <td></td>\n      <td></td>\n      <td></td>\n      <td></td>\n      <td></td>\n      <td>NaN</td>\n      <td></td>\n      <td></td>\n      <td></td>\n      <td></td>\n      <td></td>\n      <td>NaN</td>\n      <td>NaT</td>\n      <td>NaT</td>\n      <td></td>\n      <td></td>\n      <td></td>\n      <td></td>\n      <td></td>\n      <td>NaN</td>\n      <td>NaN</td>\n      <td>NaN</td>\n      <td>NaN</td>\n      <td>NaN</td>\n      <td></td>\n      <td></td>\n      <td></td>\n      <td></td>\n      <td></td>\n      <td></td>\n      <td></td>\n      <td></td>\n      <td></td>\n      <td></td>\n      <td></td>\n      <td></td>\n      <td></td>\n      <td></td>\n      <td></td>\n      <td>None</td>\n      <td></td>\n      <td></td>\n      <td></td>\n      <td></td>\n      <td></td>\n      <td></td>\n      <td>NaN</td>\n      <td>None</td>\n      <td>NaN</td>\n      <td>NaN</td>\n      <td>NaT</td>\n      <td></td>\n      <td>NaN</td>\n      <td>None</td>\n      <td></td>\n      <td></td>\n      <td></td>\n      <td>None</td>\n      <td></td>\n      <td></td>\n      <td>NaT</td>\n      <td>NaN</td>\n      <td></td>\n      <td></td>\n      <td></td>\n      <td></td>\n      <td></td>\n      <td></td>\n      <td>Azure</td>\n      <td></td>\n      <td></td>\n      <td></td>\n      <td></td>\n      <td>NaN</td>\n      <td></td>\n      <td></td>\n      <td>NaN</td>\n      <td>NaN</td>\n      <td>None</td>\n      <td>NaN</td>\n      <td>SecAudit</td>\n      <td>audit_event_shoebox</td>\n      <td>audit_session_for_shoebox</td>\n      <td>2021-01-31 17:14:20.322000+00:00</td>\n      <td>1.0</td>\n      <td>2021-01-31 17:14:19.561000+00:00</td>\n      <td>1.0</td>\n      <td>BCM</td>\n      <td>BATCH COMPLETED</td>\n      <td>true</td>\n      <td>false</td>\n      <td>61.0</td>\n      <td>0.0</td>\n      <td>5.0</td>\n      <td>0.0</td>\n      <td>0.0</td>\n      <td>5.0</td>\n      <td>0.0</td>\n      <td>0.0</td>\n      <td>DB</td>\n      <td>DATABASE</td>\n      <td>DATABASE</td>\n      <td>35.0</td>\n      <td>1.0</td>\n      <td>1.0</td>\n      <td>131.107.174.142</td>\n      <td>00000000-0000-0000-0000-000000000000</td>\n      <td>3cce1817-7aa2-44de-b7d7-5ded01f58f01</td>\n      <td>adslivesite</td>\n      <td>adslivesite</td>\n      <td>01060000000001640000000000000000cef04990da1423...</td>\n      <td>adslivesite</td>\n      <td></td>\n      <td></td>\n      <td></td>\n      <td>jukoesmasqldb</td>\n      <td>master</td>\n      <td></td>\n      <td>master</td>\n      <td>SELECT SERVERPROPERTY('EngineEdition'), SERVER...</td>\n      <td></td>\n      <td></td>\n      <td>azdata-GeneralConnection</td>\n      <td>3662a6c0-16da-4948-9ce5-743e7fabeec4</td>\n      <td></td>\n      <td>MSSQLGIRL-01</td>\n      <td></td>\n      <td>true</td>\n      <td>fa7d5951-a849-4e8b-b407-a3dd5427362c</td>\n      <td>None</td>\n      <td>AzureDiagnostics</td>\n    </tr>\n    <tr>\n      <th>2</th>\n      <td>2021-01-31 17:14:20.326000+00:00</td>\n      <td>SQLSecurityAuditEvents</td>\n      <td>MICROSOFT.SQL</td>\n      <td>MASTER</td>\n      <td>SERVERS/DATABASES</td>\n      <td>AuditEvent</td>\n      <td></td>\n      <td></td>\n      <td></td>\n      <td></td>\n      <td></td>\n      <td></td>\n      <td></td>\n      <td></td>\n      <td></td>\n      <td></td>\n      <td>NaN</td>\n      <td></td>\n      <td></td>\n      <td></td>\n      <td></td>\n      <td></td>\n      <td>jukoesmasqldb</td>\n      <td></td>\n      <td></td>\n      <td>NaN</td>\n      <td></td>\n      <td></td>\n      <td></td>\n      <td></td>\n      <td></td>\n      <td></td>\n      <td>None</td>\n      <td></td>\n      <td></td>\n      <td></td>\n      <td></td>\n      <td></td>\n      <td></td>\n      <td></td>\n      <td></td>\n      <td></td>\n      <td></td>\n      <td></td>\n      <td>NaN</td>\n      <td></td>\n      <td></td>\n      <td></td>\n      <td></td>\n      <td></td>\n      <td>NaN</td>\n      <td>NaT</td>\n      <td>NaT</td>\n      <td></td>\n      <td></td>\n      <td></td>\n      <td></td>\n      <td></td>\n      <td>NaN</td>\n      <td>NaN</td>\n      <td>NaN</td>\n      <td>NaN</td>\n      <td>NaN</td>\n      <td></td>\n      <td></td>\n      <td></td>\n      <td></td>\n      <td></td>\n      <td></td>\n      <td></td>\n      <td></td>\n      <td></td>\n      <td></td>\n      <td></td>\n      <td></td>\n      <td></td>\n      <td></td>\n      <td></td>\n      <td>None</td>\n      <td></td>\n      <td></td>\n      <td></td>\n      <td></td>\n      <td></td>\n      <td></td>\n      <td>NaN</td>\n      <td>None</td>\n      <td>NaN</td>\n      <td>NaN</td>\n      <td>NaT</td>\n      <td></td>\n      <td>NaN</td>\n      <td>None</td>\n      <td></td>\n      <td></td>\n      <td></td>\n      <td>None</td>\n      <td></td>\n      <td></td>\n      <td>NaT</td>\n      <td>NaN</td>\n      <td></td>\n      <td></td>\n      <td></td>\n      <td></td>\n      <td></td>\n      <td></td>\n      <td>Azure</td>\n      <td></td>\n      <td></td>\n      <td></td>\n      <td></td>\n      <td>NaN</td>\n      <td></td>\n      <td></td>\n      <td>NaN</td>\n      <td>NaN</td>\n      <td>None</td>\n      <td>NaN</td>\n      <td>SecAudit</td>\n      <td>audit_event_shoebox</td>\n      <td>audit_session_for_shoebox</td>\n      <td>2021-01-31 17:14:20.322000+00:00</td>\n      <td>1.0</td>\n      <td>2021-01-31 17:14:19.951000+00:00</td>\n      <td>1.0</td>\n      <td>BCM</td>\n      <td>BATCH COMPLETED</td>\n      <td>true</td>\n      <td>false</td>\n      <td>61.0</td>\n      <td>0.0</td>\n      <td>5.0</td>\n      <td>0.0</td>\n      <td>0.0</td>\n      <td>5.0</td>\n      <td>0.0</td>\n      <td>0.0</td>\n      <td>DB</td>\n      <td>DATABASE</td>\n      <td>DATABASE</td>\n      <td>0.0</td>\n      <td>1.0</td>\n      <td>1.0</td>\n      <td>131.107.174.142</td>\n      <td>00000000-0000-0000-0000-000000000000</td>\n      <td>df15b53b-19fa-4b1f-bb35-078a750ba0f3</td>\n      <td>adslivesite</td>\n      <td>adslivesite</td>\n      <td>01060000000001640000000000000000cef04990da1423...</td>\n      <td>adslivesite</td>\n      <td></td>\n      <td></td>\n      <td></td>\n      <td>jukoesmasqldb</td>\n      <td>master</td>\n      <td></td>\n      <td>master</td>\n      <td>SELECT ISNULL(SESSIONPROPERTY ('ANSI_NULLS'), ...</td>\n      <td></td>\n      <td></td>\n      <td>azdata-GeneralConnection</td>\n      <td>3662a6c0-16da-4948-9ce5-743e7fabeec4</td>\n      <td></td>\n      <td>MSSQLGIRL-01</td>\n      <td></td>\n      <td>true</td>\n      <td>e677f992-7263-483f-b6ee-c3ac3659b3a0</td>\n      <td>None</td>\n      <td>AzureDiagnostics</td>\n    </tr>\n    <tr>\n      <th>3</th>\n      <td>2021-01-31 17:14:20.326000+00:00</td>\n      <td>SQLSecurityAuditEvents</td>\n      <td>MICROSOFT.SQL</td>\n      <td>MASTER</td>\n      <td>SERVERS/DATABASES</td>\n      <td>AuditEvent</td>\n      <td></td>\n      <td></td>\n      <td></td>\n      <td></td>\n      <td></td>\n      <td></td>\n      <td></td>\n      <td></td>\n      <td></td>\n      <td></td>\n      <td>NaN</td>\n      <td></td>\n      <td></td>\n      <td></td>\n      <td></td>\n      <td></td>\n      <td>jukoesmasqldb</td>\n      <td></td>\n      <td></td>\n      <td>NaN</td>\n      <td></td>\n      <td></td>\n      <td></td>\n      <td></td>\n      <td></td>\n      <td></td>\n      <td>None</td>\n      <td></td>\n      <td></td>\n      <td></td>\n      <td></td>\n      <td></td>\n      <td></td>\n      <td></td>\n      <td></td>\n      <td></td>\n      <td></td>\n      <td></td>\n      <td>NaN</td>\n      <td></td>\n      <td></td>\n      <td></td>\n      <td></td>\n      <td></td>\n      <td>NaN</td>\n      <td>NaT</td>\n      <td>NaT</td>\n      <td></td>\n      <td></td>\n      <td></td>\n      <td></td>\n      <td></td>\n      <td>NaN</td>\n      <td>NaN</td>\n      <td>NaN</td>\n      <td>NaN</td>\n      <td>NaN</td>\n      <td></td>\n      <td></td>\n      <td></td>\n      <td></td>\n      <td></td>\n      <td></td>\n      <td></td>\n      <td></td>\n      <td></td>\n      <td></td>\n      <td></td>\n      <td></td>\n      <td></td>\n      <td></td>\n      <td></td>\n      <td>None</td>\n      <td></td>\n      <td></td>\n      <td></td>\n      <td></td>\n      <td></td>\n      <td></td>\n      <td>NaN</td>\n      <td>None</td>\n      <td>NaN</td>\n      <td>NaN</td>\n      <td>NaT</td>\n      <td></td>\n      <td>NaN</td>\n      <td>None</td>\n      <td></td>\n      <td></td>\n      <td></td>\n      <td>None</td>\n      <td></td>\n      <td></td>\n      <td>NaT</td>\n      <td>NaN</td>\n      <td></td>\n      <td></td>\n      <td></td>\n      <td></td>\n      <td></td>\n      <td></td>\n      <td>Azure</td>\n      <td></td>\n      <td></td>\n      <td></td>\n      <td></td>\n      <td>NaN</td>\n      <td></td>\n      <td></td>\n      <td>NaN</td>\n      <td>NaN</td>\n      <td>None</td>\n      <td>NaN</td>\n      <td>SecAudit</td>\n      <td>audit_event_shoebox</td>\n      <td>audit_session_for_shoebox</td>\n      <td>2021-01-31 17:14:20.322000+00:00</td>\n      <td>1.0</td>\n      <td>2021-01-31 17:14:20.045000+00:00</td>\n      <td>1.0</td>\n      <td>BCM</td>\n      <td>BATCH COMPLETED</td>\n      <td>true</td>\n      <td>false</td>\n      <td>61.0</td>\n      <td>0.0</td>\n      <td>5.0</td>\n      <td>0.0</td>\n      <td>0.0</td>\n      <td>5.0</td>\n      <td>0.0</td>\n      <td>0.0</td>\n      <td>DB</td>\n      <td>DATABASE</td>\n      <td>DATABASE</td>\n      <td>1.0</td>\n      <td>1.0</td>\n      <td>1.0</td>\n      <td>131.107.174.142</td>\n      <td>00000000-0000-0000-0000-000000000000</td>\n      <td>9ccbde6d-7423-4e0a-bcea-ca6abbe44aa9</td>\n      <td>adslivesite</td>\n      <td>adslivesite</td>\n      <td>01060000000001640000000000000000cef04990da1423...</td>\n      <td>adslivesite</td>\n      <td></td>\n      <td></td>\n      <td></td>\n      <td>jukoesmasqldb</td>\n      <td>master</td>\n      <td></td>\n      <td>master</td>\n      <td>SELECT SERVERPROPERTY('EngineEdition'), SERVER...</td>\n      <td></td>\n      <td></td>\n      <td>azdata-GeneralConnection</td>\n      <td>3662a6c0-16da-4948-9ce5-743e7fabeec4</td>\n      <td></td>\n      <td>MSSQLGIRL-01</td>\n      <td></td>\n      <td>true</td>\n      <td>5ec4a5aa-2bea-47ca-a5a4-f17d3cda43b1</td>\n      <td>None</td>\n      <td>AzureDiagnostics</td>\n    </tr>\n    <tr>\n      <th>4</th>\n      <td>2021-01-31 17:14:20.326000+00:00</td>\n      <td>SQLSecurityAuditEvents</td>\n      <td>MICROSOFT.SQL</td>\n      <td>MASTER</td>\n      <td>SERVERS/DATABASES</td>\n      <td>AuditEvent</td>\n      <td></td>\n      <td></td>\n      <td></td>\n      <td></td>\n      <td></td>\n      <td></td>\n      <td></td>\n      <td></td>\n      <td></td>\n      <td></td>\n      <td>NaN</td>\n      <td></td>\n      <td></td>\n      <td></td>\n      <td></td>\n      <td></td>\n      <td>jukoesmasqldb</td>\n      <td></td>\n      <td></td>\n      <td>NaN</td>\n      <td></td>\n      <td></td>\n      <td></td>\n      <td></td>\n      <td></td>\n      <td></td>\n      <td>None</td>\n      <td></td>\n      <td></td>\n      <td></td>\n      <td></td>\n      <td></td>\n      <td></td>\n      <td></td>\n      <td></td>\n      <td></td>\n      <td></td>\n      <td></td>\n      <td>NaN</td>\n      <td></td>\n      <td></td>\n      <td></td>\n      <td></td>\n      <td></td>\n      <td>NaN</td>\n      <td>NaT</td>\n      <td>NaT</td>\n      <td></td>\n      <td></td>\n      <td></td>\n      <td></td>\n      <td></td>\n      <td>NaN</td>\n      <td>NaN</td>\n      <td>NaN</td>\n      <td>NaN</td>\n      <td>NaN</td>\n      <td></td>\n      <td></td>\n      <td></td>\n      <td></td>\n      <td></td>\n      <td></td>\n      <td></td>\n      <td></td>\n      <td></td>\n      <td></td>\n      <td></td>\n      <td></td>\n      <td></td>\n      <td></td>\n      <td></td>\n      <td>None</td>\n      <td></td>\n      <td></td>\n      <td></td>\n      <td></td>\n      <td></td>\n      <td></td>\n      <td>NaN</td>\n      <td>None</td>\n      <td>NaN</td>\n      <td>NaN</td>\n      <td>NaT</td>\n      <td></td>\n      <td>NaN</td>\n      <td>None</td>\n      <td></td>\n      <td></td>\n      <td></td>\n      <td>None</td>\n      <td></td>\n      <td></td>\n      <td>NaT</td>\n      <td>NaN</td>\n      <td></td>\n      <td></td>\n      <td></td>\n      <td></td>\n      <td></td>\n      <td></td>\n      <td>Azure</td>\n      <td></td>\n      <td></td>\n      <td></td>\n      <td></td>\n      <td>NaN</td>\n      <td></td>\n      <td></td>\n      <td>NaN</td>\n      <td>NaN</td>\n      <td>None</td>\n      <td>NaN</td>\n      <td>SecAudit</td>\n      <td>audit_event_shoebox</td>\n      <td>audit_session_for_shoebox</td>\n      <td>2021-01-31 17:14:20.322000+00:00</td>\n      <td>1.0</td>\n      <td>2021-01-31 17:14:20.154000+00:00</td>\n      <td>1.0</td>\n      <td>BCM</td>\n      <td>BATCH COMPLETED</td>\n      <td>true</td>\n      <td>false</td>\n      <td>61.0</td>\n      <td>0.0</td>\n      <td>5.0</td>\n      <td>0.0</td>\n      <td>0.0</td>\n      <td>5.0</td>\n      <td>0.0</td>\n      <td>0.0</td>\n      <td>DB</td>\n      <td>DATABASE</td>\n      <td>DATABASE</td>\n      <td>0.0</td>\n      <td>1.0</td>\n      <td>1.0</td>\n      <td>131.107.174.142</td>\n      <td>00000000-0000-0000-0000-000000000000</td>\n      <td>a12ef4f2-6268-44a8-9cf0-23b2b0b79bee</td>\n      <td>adslivesite</td>\n      <td>adslivesite</td>\n      <td>01060000000001640000000000000000cef04990da1423...</td>\n      <td>adslivesite</td>\n      <td></td>\n      <td></td>\n      <td></td>\n      <td>jukoesmasqldb</td>\n      <td>master</td>\n      <td></td>\n      <td>master</td>\n      <td>SELECT ISNULL(SESSIONPROPERTY ('ANSI_NULLS'), ...</td>\n      <td></td>\n      <td></td>\n      <td>azdata-GeneralConnection</td>\n      <td>3662a6c0-16da-4948-9ce5-743e7fabeec4</td>\n      <td></td>\n      <td>MSSQLGIRL-01</td>\n      <td></td>\n      <td>true</td>\n      <td>9ab63513-2564-418b-9ff2-c7fed837a7e3</td>\n      <td>None</td>\n      <td>AzureDiagnostics</td>\n    </tr>\n    <tr>\n      <th>5</th>\n      <td>2021-01-31 17:14:21.326000+00:00</td>\n      <td>SQLSecurityAuditEvents</td>\n      <td>MICROSOFT.SQL</td>\n      <td>MASTER</td>\n      <td>SERVERS/DATABASES</td>\n      <td>AuditEvent</td>\n      <td></td>\n      <td></td>\n      <td></td>\n      <td></td>\n      <td></td>\n      <td></td>\n      <td></td>\n      <td></td>\n      <td></td>\n      <td></td>\n      <td>NaN</td>\n      <td></td>\n      <td></td>\n      <td></td>\n      <td></td>\n      <td></td>\n      <td>jukoesmasqldb</td>\n      <td></td>\n      <td></td>\n      <td>NaN</td>\n      <td></td>\n      <td></td>\n      <td></td>\n      <td></td>\n      <td></td>\n      <td></td>\n      <td>None</td>\n      <td></td>\n      <td></td>\n      <td></td>\n      <td></td>\n      <td></td>\n      <td></td>\n      <td></td>\n      <td></td>\n      <td></td>\n      <td></td>\n      <td></td>\n      <td>NaN</td>\n      <td></td>\n      <td></td>\n      <td></td>\n      <td></td>\n      <td></td>\n      <td>NaN</td>\n      <td>NaT</td>\n      <td>NaT</td>\n      <td></td>\n      <td></td>\n      <td></td>\n      <td></td>\n      <td></td>\n      <td>NaN</td>\n      <td>NaN</td>\n      <td>NaN</td>\n      <td>NaN</td>\n      <td>NaN</td>\n      <td></td>\n      <td></td>\n      <td></td>\n      <td></td>\n      <td></td>\n      <td></td>\n      <td></td>\n      <td></td>\n      <td></td>\n      <td></td>\n      <td></td>\n      <td></td>\n      <td></td>\n      <td></td>\n      <td></td>\n      <td>None</td>\n      <td></td>\n      <td></td>\n      <td></td>\n      <td></td>\n      <td></td>\n      <td></td>\n      <td>NaN</td>\n      <td>None</td>\n      <td>NaN</td>\n      <td>NaN</td>\n      <td>NaT</td>\n      <td></td>\n      <td>NaN</td>\n      <td>None</td>\n      <td></td>\n      <td></td>\n      <td></td>\n      <td>None</td>\n      <td></td>\n      <td></td>\n      <td>NaT</td>\n      <td>NaN</td>\n      <td></td>\n      <td></td>\n      <td></td>\n      <td></td>\n      <td></td>\n      <td></td>\n      <td>Azure</td>\n      <td></td>\n      <td></td>\n      <td></td>\n      <td></td>\n      <td>NaN</td>\n      <td></td>\n      <td></td>\n      <td>NaN</td>\n      <td>NaN</td>\n      <td>None</td>\n      <td>NaN</td>\n      <td>SecAudit</td>\n      <td>audit_event_shoebox</td>\n      <td>audit_session_for_shoebox</td>\n      <td>2021-01-31 17:14:21.320000+00:00</td>\n      <td>1.0</td>\n      <td>2021-01-31 17:14:20.561000+00:00</td>\n      <td>1.0</td>\n      <td>BCM</td>\n      <td>BATCH COMPLETED</td>\n      <td>true</td>\n      <td>false</td>\n      <td>61.0</td>\n      <td>0.0</td>\n      <td>5.0</td>\n      <td>0.0</td>\n      <td>0.0</td>\n      <td>5.0</td>\n      <td>0.0</td>\n      <td>0.0</td>\n      <td>DB</td>\n      <td>DATABASE</td>\n      <td>DATABASE</td>\n      <td>0.0</td>\n      <td>1.0</td>\n      <td>1.0</td>\n      <td>131.107.174.142</td>\n      <td>00000000-0000-0000-0000-000000000000</td>\n      <td>0f4a9b7e-5351-41c4-9ca0-89f6fd94f101</td>\n      <td>adslivesite</td>\n      <td>adslivesite</td>\n      <td>01060000000001640000000000000000cef04990da1423...</td>\n      <td>adslivesite</td>\n      <td></td>\n      <td></td>\n      <td></td>\n      <td>jukoesmasqldb</td>\n      <td>master</td>\n      <td></td>\n      <td>master</td>\n      <td>SELECT CONVERT(NVARCHAR(36), CONTEXT_INFO())</td>\n      <td></td>\n      <td></td>\n      <td>azdata-GeneralConnection</td>\n      <td>3662a6c0-16da-4948-9ce5-743e7fabeec4</td>\n      <td></td>\n      <td>MSSQLGIRL-01</td>\n      <td></td>\n      <td>true</td>\n      <td>f7fda07f-4a2f-4509-afff-5e2062761c2c</td>\n      <td>None</td>\n      <td>AzureDiagnostics</td>\n    </tr>\n    <tr>\n      <th>6</th>\n      <td>2021-01-31 17:14:21.326000+00:00</td>\n      <td>SQLSecurityAuditEvents</td>\n      <td>MICROSOFT.SQL</td>\n      <td>MASTER</td>\n      <td>SERVERS/DATABASES</td>\n      <td>AuditEvent</td>\n      <td></td>\n      <td></td>\n      <td></td>\n      <td></td>\n      <td></td>\n      <td></td>\n      <td></td>\n      <td></td>\n      <td></td>\n      <td></td>\n      <td>NaN</td>\n      <td></td>\n      <td></td>\n      <td></td>\n      <td></td>\n      <td></td>\n      <td>jukoesmasqldb</td>\n      <td></td>\n      <td></td>\n      <td>NaN</td>\n      <td></td>\n      <td></td>\n      <td></td>\n      <td></td>\n      <td></td>\n      <td></td>\n      <td>None</td>\n      <td></td>\n      <td></td>\n      <td></td>\n      <td></td>\n      <td></td>\n      <td></td>\n      <td></td>\n      <td></td>\n      <td></td>\n      <td></td>\n      <td></td>\n      <td>NaN</td>\n      <td></td>\n      <td></td>\n      <td></td>\n      <td></td>\n      <td></td>\n      <td>NaN</td>\n      <td>NaT</td>\n      <td>NaT</td>\n      <td></td>\n      <td></td>\n      <td></td>\n      <td></td>\n      <td></td>\n      <td>NaN</td>\n      <td>NaN</td>\n      <td>NaN</td>\n      <td>NaN</td>\n      <td>NaN</td>\n      <td></td>\n      <td></td>\n      <td></td>\n      <td></td>\n      <td></td>\n      <td></td>\n      <td></td>\n      <td></td>\n      <td></td>\n      <td></td>\n      <td></td>\n      <td></td>\n      <td></td>\n      <td></td>\n      <td></td>\n      <td>None</td>\n      <td></td>\n      <td></td>\n      <td></td>\n      <td></td>\n      <td></td>\n      <td></td>\n      <td>NaN</td>\n      <td>None</td>\n      <td>NaN</td>\n      <td>NaN</td>\n      <td>NaT</td>\n      <td></td>\n      <td>NaN</td>\n      <td>None</td>\n      <td></td>\n      <td></td>\n      <td></td>\n      <td>None</td>\n      <td></td>\n      <td></td>\n      <td>NaT</td>\n      <td>NaN</td>\n      <td></td>\n      <td></td>\n      <td></td>\n      <td></td>\n      <td></td>\n      <td></td>\n      <td>Azure</td>\n      <td></td>\n      <td></td>\n      <td></td>\n      <td></td>\n      <td>NaN</td>\n      <td></td>\n      <td></td>\n      <td>NaN</td>\n      <td>NaN</td>\n      <td>None</td>\n      <td>NaN</td>\n      <td>SecAudit</td>\n      <td>audit_event_shoebox</td>\n      <td>audit_session_for_shoebox</td>\n      <td>2021-01-31 17:14:21.320000+00:00</td>\n      <td>1.0</td>\n      <td>2021-01-31 17:14:21.170000+00:00</td>\n      <td>1.0</td>\n      <td>BCM</td>\n      <td>BATCH COMPLETED</td>\n      <td>true</td>\n      <td>false</td>\n      <td>61.0</td>\n      <td>0.0</td>\n      <td>5.0</td>\n      <td>0.0</td>\n      <td>0.0</td>\n      <td>5.0</td>\n      <td>0.0</td>\n      <td>0.0</td>\n      <td>DB</td>\n      <td>DATABASE</td>\n      <td>DATABASE</td>\n      <td>0.0</td>\n      <td>1.0</td>\n      <td>1.0</td>\n      <td>131.107.174.142</td>\n      <td>00000000-0000-0000-0000-000000000000</td>\n      <td>13bcac03-040f-4cc5-9a34-db7ce3cefa9b</td>\n      <td>adslivesite</td>\n      <td>adslivesite</td>\n      <td>01060000000001640000000000000000cef04990da1423...</td>\n      <td>adslivesite</td>\n      <td></td>\n      <td></td>\n      <td></td>\n      <td>jukoesmasqldb</td>\n      <td>master</td>\n      <td></td>\n      <td>master</td>\n      <td>SELECT ISNULL(SESSIONPROPERTY ('ANSI_NULLS'), ...</td>\n      <td></td>\n      <td></td>\n      <td>azdata-GeneralConnection</td>\n      <td>3662a6c0-16da-4948-9ce5-743e7fabeec4</td>\n      <td></td>\n      <td>MSSQLGIRL-01</td>\n      <td></td>\n      <td>true</td>\n      <td>ff25e791-7b44-4dbf-8289-90e9e6fe351f</td>\n      <td>None</td>\n      <td>AzureDiagnostics</td>\n    </tr>\n    <tr>\n      <th>7</th>\n      <td>2021-01-31 17:14:25.327000+00:00</td>\n      <td>SQLSecurityAuditEvents</td>\n      <td>MICROSOFT.SQL</td>\n      <td>MASTER</td>\n      <td>SERVERS/DATABASES</td>\n      <td>AuditEvent</td>\n      <td></td>\n      <td></td>\n      <td></td>\n      <td></td>\n      <td></td>\n      <td></td>\n      <td></td>\n      <td></td>\n      <td></td>\n      <td></td>\n      <td>NaN</td>\n      <td></td>\n      <td></td>\n      <td></td>\n      <td></td>\n      <td></td>\n      <td>jukoesmasqldb</td>\n      <td></td>\n      <td></td>\n      <td>NaN</td>\n      <td></td>\n      <td></td>\n      <td></td>\n      <td></td>\n      <td></td>\n      <td></td>\n      <td>None</td>\n      <td></td>\n      <td></td>\n      <td></td>\n      <td></td>\n      <td></td>\n      <td></td>\n      <td></td>\n      <td></td>\n      <td></td>\n      <td></td>\n      <td></td>\n      <td>NaN</td>\n      <td></td>\n      <td></td>\n      <td></td>\n      <td></td>\n      <td></td>\n      <td>NaN</td>\n      <td>NaT</td>\n      <td>NaT</td>\n      <td></td>\n      <td></td>\n      <td></td>\n      <td></td>\n      <td></td>\n      <td>NaN</td>\n      <td>NaN</td>\n      <td>NaN</td>\n      <td>NaN</td>\n      <td>NaN</td>\n      <td></td>\n      <td></td>\n      <td></td>\n      <td></td>\n      <td></td>\n      <td></td>\n      <td></td>\n      <td></td>\n      <td></td>\n      <td></td>\n      <td></td>\n      <td></td>\n      <td></td>\n      <td></td>\n      <td></td>\n      <td>None</td>\n      <td></td>\n      <td></td>\n      <td></td>\n      <td></td>\n      <td></td>\n      <td></td>\n      <td>NaN</td>\n      <td>None</td>\n      <td>NaN</td>\n      <td>NaN</td>\n      <td>NaT</td>\n      <td></td>\n      <td>NaN</td>\n      <td>None</td>\n      <td></td>\n      <td></td>\n      <td></td>\n      <td>None</td>\n      <td></td>\n      <td></td>\n      <td>NaT</td>\n      <td>NaN</td>\n      <td></td>\n      <td></td>\n      <td></td>\n      <td></td>\n      <td></td>\n      <td></td>\n      <td>Azure</td>\n      <td></td>\n      <td></td>\n      <td></td>\n      <td></td>\n      <td>NaN</td>\n      <td></td>\n      <td></td>\n      <td>NaN</td>\n      <td>NaN</td>\n      <td>None</td>\n      <td>NaN</td>\n      <td>SecAudit</td>\n      <td>audit_event_shoebox</td>\n      <td>audit_session_for_shoebox</td>\n      <td>2021-01-31 17:14:25.315000+00:00</td>\n      <td>1.0</td>\n      <td>2021-01-31 17:14:25.061000+00:00</td>\n      <td>1.0</td>\n      <td>BCM</td>\n      <td>BATCH COMPLETED</td>\n      <td>true</td>\n      <td>false</td>\n      <td>61.0</td>\n      <td>0.0</td>\n      <td>5.0</td>\n      <td>0.0</td>\n      <td>0.0</td>\n      <td>5.0</td>\n      <td>0.0</td>\n      <td>0.0</td>\n      <td>DB</td>\n      <td>DATABASE</td>\n      <td>DATABASE</td>\n      <td>0.0</td>\n      <td>1.0</td>\n      <td>1.0</td>\n      <td>131.107.174.142</td>\n      <td>00000000-0000-0000-0000-000000000000</td>\n      <td>288dd012-0f63-422f-b178-c1b9c46b18ca</td>\n      <td>adslivesite</td>\n      <td>adslivesite</td>\n      <td>01060000000001640000000000000000cef04990da1423...</td>\n      <td>adslivesite</td>\n      <td></td>\n      <td></td>\n      <td></td>\n      <td>jukoesmasqldb</td>\n      <td>master</td>\n      <td></td>\n      <td>master</td>\n      <td>SELECT CONVERT(NVARCHAR(36), CONTEXT_INFO())</td>\n      <td></td>\n      <td></td>\n      <td>azdata-GeneralConnection</td>\n      <td>3662a6c0-16da-4948-9ce5-743e7fabeec4</td>\n      <td></td>\n      <td>MSSQLGIRL-01</td>\n      <td></td>\n      <td>true</td>\n      <td>4a8600ef-ee42-4197-80cc-6b4824da1043</td>\n      <td>None</td>\n      <td>AzureDiagnostics</td>\n    </tr>\n    <tr>\n      <th>8</th>\n      <td>2021-01-31 17:14:25.327000+00:00</td>\n      <td>SQLSecurityAuditEvents</td>\n      <td>MICROSOFT.SQL</td>\n      <td>MASTER</td>\n      <td>SERVERS/DATABASES</td>\n      <td>AuditEvent</td>\n      <td></td>\n      <td></td>\n      <td></td>\n      <td></td>\n      <td></td>\n      <td></td>\n      <td></td>\n      <td></td>\n      <td></td>\n      <td></td>\n      <td>NaN</td>\n      <td></td>\n      <td></td>\n      <td></td>\n      <td></td>\n      <td></td>\n      <td>jukoesmasqldb</td>\n      <td></td>\n      <td></td>\n      <td>NaN</td>\n      <td></td>\n      <td></td>\n      <td></td>\n      <td></td>\n      <td></td>\n      <td></td>\n      <td>None</td>\n      <td></td>\n      <td></td>\n      <td></td>\n      <td></td>\n      <td></td>\n      <td></td>\n      <td></td>\n      <td></td>\n      <td></td>\n      <td></td>\n      <td></td>\n      <td>NaN</td>\n      <td></td>\n      <td></td>\n      <td></td>\n      <td></td>\n      <td></td>\n      <td>NaN</td>\n      <td>NaT</td>\n      <td>NaT</td>\n      <td></td>\n      <td></td>\n      <td></td>\n      <td></td>\n      <td></td>\n      <td>NaN</td>\n      <td>NaN</td>\n      <td>NaN</td>\n      <td>NaN</td>\n      <td>NaN</td>\n      <td></td>\n      <td></td>\n      <td></td>\n      <td></td>\n      <td></td>\n      <td></td>\n      <td></td>\n      <td></td>\n      <td></td>\n      <td></td>\n      <td></td>\n      <td></td>\n      <td></td>\n      <td></td>\n      <td></td>\n      <td>None</td>\n      <td></td>\n      <td></td>\n      <td></td>\n      <td></td>\n      <td></td>\n      <td></td>\n      <td>NaN</td>\n      <td>None</td>\n      <td>NaN</td>\n      <td>NaN</td>\n      <td>NaT</td>\n      <td></td>\n      <td>NaN</td>\n      <td>None</td>\n      <td></td>\n      <td></td>\n      <td></td>\n      <td>None</td>\n      <td></td>\n      <td></td>\n      <td>NaT</td>\n      <td>NaN</td>\n      <td></td>\n      <td></td>\n      <td></td>\n      <td></td>\n      <td></td>\n      <td></td>\n      <td>Azure</td>\n      <td></td>\n      <td></td>\n      <td></td>\n      <td></td>\n      <td>NaN</td>\n      <td></td>\n      <td></td>\n      <td>NaN</td>\n      <td>NaN</td>\n      <td>None</td>\n      <td>NaN</td>\n      <td>SecAudit</td>\n      <td>audit_event_shoebox</td>\n      <td>audit_session_for_shoebox</td>\n      <td>2021-01-31 17:14:25.315000+00:00</td>\n      <td>1.0</td>\n      <td>2021-01-31 17:14:25.170000+00:00</td>\n      <td>1.0</td>\n      <td>BCM</td>\n      <td>BATCH COMPLETED</td>\n      <td>true</td>\n      <td>false</td>\n      <td>61.0</td>\n      <td>0.0</td>\n      <td>5.0</td>\n      <td>0.0</td>\n      <td>0.0</td>\n      <td>5.0</td>\n      <td>0.0</td>\n      <td>0.0</td>\n      <td>DB</td>\n      <td>DATABASE</td>\n      <td>DATABASE</td>\n      <td>0.0</td>\n      <td>0.0</td>\n      <td>0.0</td>\n      <td>131.107.174.142</td>\n      <td>00000000-0000-0000-0000-000000000000</td>\n      <td>9f4665c9-7a38-448e-99fc-93fa7abe51d0</td>\n      <td>adslivesite</td>\n      <td>adslivesite</td>\n      <td>01060000000001640000000000000000cef04990da1423...</td>\n      <td>adslivesite</td>\n      <td></td>\n      <td></td>\n      <td></td>\n      <td>jukoesmasqldb</td>\n      <td>master</td>\n      <td></td>\n      <td>master</td>\n      <td>set LOCK_TIMEOUT 5000</td>\n      <td></td>\n      <td></td>\n      <td>azdata-GeneralConnection</td>\n      <td>3662a6c0-16da-4948-9ce5-743e7fabeec4</td>\n      <td></td>\n      <td>MSSQLGIRL-01</td>\n      <td></td>\n      <td>true</td>\n      <td>59dac3f7-2033-4b04-9851-d7fd19afeb1a</td>\n      <td>None</td>\n      <td>AzureDiagnostics</td>\n    </tr>\n    <tr>\n      <th>9</th>\n      <td>2021-01-31 17:14:26.327000+00:00</td>\n      <td>SQLSecurityAuditEvents</td>\n      <td>MICROSOFT.SQL</td>\n      <td>MASTER</td>\n      <td>SERVERS/DATABASES</td>\n      <td>AuditEvent</td>\n      <td></td>\n      <td></td>\n      <td></td>\n      <td></td>\n      <td></td>\n      <td></td>\n      <td></td>\n      <td></td>\n      <td></td>\n      <td></td>\n      <td>NaN</td>\n      <td></td>\n      <td></td>\n      <td></td>\n      <td></td>\n      <td></td>\n      <td>jukoesmasqldb</td>\n      <td></td>\n      <td></td>\n      <td>NaN</td>\n      <td></td>\n      <td></td>\n      <td></td>\n      <td></td>\n      <td></td>\n      <td></td>\n      <td>None</td>\n      <td></td>\n      <td></td>\n      <td></td>\n      <td></td>\n      <td></td>\n      <td></td>\n      <td></td>\n      <td></td>\n      <td></td>\n      <td></td>\n      <td></td>\n      <td>NaN</td>\n      <td></td>\n      <td></td>\n      <td></td>\n      <td></td>\n      <td></td>\n      <td>NaN</td>\n      <td>NaT</td>\n      <td>NaT</td>\n      <td></td>\n      <td></td>\n      <td></td>\n      <td></td>\n      <td></td>\n      <td>NaN</td>\n      <td>NaN</td>\n      <td>NaN</td>\n      <td>NaN</td>\n      <td>NaN</td>\n      <td></td>\n      <td></td>\n      <td></td>\n      <td></td>\n      <td></td>\n      <td></td>\n      <td></td>\n      <td></td>\n      <td></td>\n      <td></td>\n      <td></td>\n      <td></td>\n      <td></td>\n      <td></td>\n      <td></td>\n      <td>None</td>\n      <td></td>\n      <td></td>\n      <td></td>\n      <td></td>\n      <td></td>\n      <td></td>\n      <td>NaN</td>\n      <td>None</td>\n      <td>NaN</td>\n      <td>NaN</td>\n      <td>NaT</td>\n      <td></td>\n      <td>NaN</td>\n      <td>None</td>\n      <td></td>\n      <td></td>\n      <td></td>\n      <td>None</td>\n      <td></td>\n      <td></td>\n      <td>NaT</td>\n      <td>NaN</td>\n      <td></td>\n      <td></td>\n      <td></td>\n      <td></td>\n      <td></td>\n      <td></td>\n      <td>Azure</td>\n      <td></td>\n      <td></td>\n      <td></td>\n      <td></td>\n      <td>NaN</td>\n      <td></td>\n      <td></td>\n      <td>NaN</td>\n      <td>NaN</td>\n      <td>None</td>\n      <td>NaN</td>\n      <td>SecAudit</td>\n      <td>audit_event_shoebox</td>\n      <td>audit_session_for_shoebox</td>\n      <td>2021-01-31 17:14:26.319000+00:00</td>\n      <td>1.0</td>\n      <td>2021-01-31 17:14:25.889000+00:00</td>\n      <td>1.0</td>\n      <td>BCM</td>\n      <td>BATCH COMPLETED</td>\n      <td>true</td>\n      <td>false</td>\n      <td>61.0</td>\n      <td>0.0</td>\n      <td>5.0</td>\n      <td>0.0</td>\n      <td>0.0</td>\n      <td>5.0</td>\n      <td>0.0</td>\n      <td>0.0</td>\n      <td>DB</td>\n      <td>DATABASE</td>\n      <td>DATABASE</td>\n      <td>0.0</td>\n      <td>0.0</td>\n      <td>0.0</td>\n      <td>131.107.174.142</td>\n      <td>00000000-0000-0000-0000-000000000000</td>\n      <td>620f1339-15e5-48d4-9e4c-52d42875d01b</td>\n      <td>adslivesite</td>\n      <td>adslivesite</td>\n      <td>01060000000001640000000000000000cef04990da1423...</td>\n      <td>adslivesite</td>\n      <td></td>\n      <td></td>\n      <td></td>\n      <td>jukoesmasqldb</td>\n      <td>master</td>\n      <td></td>\n      <td>master</td>\n      <td>SET ANSI_NULLS, ANSI_PADDING, ANSI_WARNINGS, A...</td>\n      <td></td>\n      <td></td>\n      <td>azdata-GeneralConnection</td>\n      <td>3662a6c0-16da-4948-9ce5-743e7fabeec4</td>\n      <td></td>\n      <td>MSSQLGIRL-01</td>\n      <td></td>\n      <td>true</td>\n      <td>9b180e35-0a5a-4fb2-b688-8a7f2ecd8ed0</td>\n      <td>None</td>\n      <td>AzureDiagnostics</td>\n    </tr>\n  </tbody>\n</table>\n</div>",
                        "application/vnd.dataresource+json": {
                            "schema": {
                                "fields": [
                                    {
                                        "name": "TimeGenerated",
                                        "type": "datetime",
                                        "tz": "UTC"
                                    },
                                    {
                                        "name": "Category",
                                        "type": "string"
                                    },
                                    {
                                        "name": "ResourceProvider",
                                        "type": "string"
                                    },
                                    {
                                        "name": "Resource",
                                        "type": "string"
                                    },
                                    {
                                        "name": "ResourceType",
                                        "type": "string"
                                    },
                                    {
                                        "name": "OperationName",
                                        "type": "string"
                                    },
                                    {
                                        "name": "ResultType",
                                        "type": "string"
                                    },
                                    {
                                        "name": "CorrelationId",
                                        "type": "string"
                                    },
                                    {
                                        "name": "ResultDescription",
                                        "type": "string"
                                    },
                                    {
                                        "name": "Tenant_g",
                                        "type": "string"
                                    },
                                    {
                                        "name": "JobId_g",
                                        "type": "string"
                                    },
                                    {
                                        "name": "RunbookName_s",
                                        "type": "string"
                                    },
                                    {
                                        "name": "StreamType_s",
                                        "type": "string"
                                    },
                                    {
                                        "name": "Caller_s",
                                        "type": "string"
                                    },
                                    {
                                        "name": "requestUri_s",
                                        "type": "string"
                                    },
                                    {
                                        "name": "Level",
                                        "type": "string"
                                    },
                                    {
                                        "name": "DurationMs",
                                        "type": "number"
                                    },
                                    {
                                        "name": "CallerIPAddress",
                                        "type": "string"
                                    },
                                    {
                                        "name": "OperationVersion",
                                        "type": "string"
                                    },
                                    {
                                        "name": "ResultSignature",
                                        "type": "string"
                                    },
                                    {
                                        "name": "id_s",
                                        "type": "string"
                                    },
                                    {
                                        "name": "status_s",
                                        "type": "string"
                                    },
                                    {
                                        "name": "LogicalServerName_s",
                                        "type": "string"
                                    },
                                    {
                                        "name": "Message",
                                        "type": "string"
                                    },
                                    {
                                        "name": "clientInfo_s",
                                        "type": "string"
                                    },
                                    {
                                        "name": "httpStatusCode_d",
                                        "type": "number"
                                    },
                                    {
                                        "name": "identity_claim_appid_g",
                                        "type": "string"
                                    },
                                    {
                                        "name": "identity_claim_http_schemas_microsoft_com_identity_claims_objectidentifier_g",
                                        "type": "string"
                                    },
                                    {
                                        "name": "userAgent_s",
                                        "type": "string"
                                    },
                                    {
                                        "name": "ruleName_s",
                                        "type": "string"
                                    },
                                    {
                                        "name": "identity_claim_http_schemas_xmlsoap_org_ws_2005_05_identity_claims_upn_s",
                                        "type": "string"
                                    },
                                    {
                                        "name": "systemId_g",
                                        "type": "string"
                                    },
                                    {
                                        "name": "isAccessPolicyMatch_b",
                                        "type": "string"
                                    },
                                    {
                                        "name": "EventName_s",
                                        "type": "string"
                                    },
                                    {
                                        "name": "httpMethod_s",
                                        "type": "string"
                                    },
                                    {
                                        "name": "subnetId_s",
                                        "type": "string"
                                    },
                                    {
                                        "name": "type_s",
                                        "type": "string"
                                    },
                                    {
                                        "name": "instanceId_s",
                                        "type": "string"
                                    },
                                    {
                                        "name": "macAddress_s",
                                        "type": "string"
                                    },
                                    {
                                        "name": "vnetResourceGuid_g",
                                        "type": "string"
                                    },
                                    {
                                        "name": "direction_s",
                                        "type": "string"
                                    },
                                    {
                                        "name": "subnetPrefix_s",
                                        "type": "string"
                                    },
                                    {
                                        "name": "primaryIPv4Address_s",
                                        "type": "string"
                                    },
                                    {
                                        "name": "conditions_sourcePortRange_s",
                                        "type": "string"
                                    },
                                    {
                                        "name": "priority_d",
                                        "type": "number"
                                    },
                                    {
                                        "name": "conditions_destinationPortRange_s",
                                        "type": "string"
                                    },
                                    {
                                        "name": "conditions_destinationIP_s",
                                        "type": "string"
                                    },
                                    {
                                        "name": "conditions_None_s",
                                        "type": "string"
                                    },
                                    {
                                        "name": "conditions_sourceIP_s",
                                        "type": "string"
                                    },
                                    {
                                        "name": "httpVersion_s",
                                        "type": "string"
                                    },
                                    {
                                        "name": "matchedConnections_d",
                                        "type": "number"
                                    },
                                    {
                                        "name": "startTime_t",
                                        "type": "datetime"
                                    },
                                    {
                                        "name": "endTime_t",
                                        "type": "datetime"
                                    },
                                    {
                                        "name": "DatabaseName_s",
                                        "type": "string"
                                    },
                                    {
                                        "name": "clientIP_s",
                                        "type": "string"
                                    },
                                    {
                                        "name": "host_s",
                                        "type": "string"
                                    },
                                    {
                                        "name": "requestQuery_s",
                                        "type": "string"
                                    },
                                    {
                                        "name": "sslEnabled_s",
                                        "type": "string"
                                    },
                                    {
                                        "name": "clientPort_d",
                                        "type": "number"
                                    },
                                    {
                                        "name": "httpStatus_d",
                                        "type": "number"
                                    },
                                    {
                                        "name": "receivedBytes_d",
                                        "type": "number"
                                    },
                                    {
                                        "name": "sentBytes_d",
                                        "type": "number"
                                    },
                                    {
                                        "name": "timeTaken_d",
                                        "type": "number"
                                    },
                                    {
                                        "name": "resultDescription_ErrorJobs_s",
                                        "type": "string"
                                    },
                                    {
                                        "name": "resultDescription_ChildJobs_s",
                                        "type": "string"
                                    },
                                    {
                                        "name": "identity_claim_http_schemas_microsoft_com_identity_claims_scope_s",
                                        "type": "string"
                                    },
                                    {
                                        "name": "workflowId_s",
                                        "type": "string"
                                    },
                                    {
                                        "name": "resource_location_s",
                                        "type": "string"
                                    },
                                    {
                                        "name": "resource_workflowId_g",
                                        "type": "string"
                                    },
                                    {
                                        "name": "resource_resourceGroupName_s",
                                        "type": "string"
                                    },
                                    {
                                        "name": "resource_subscriptionId_g",
                                        "type": "string"
                                    },
                                    {
                                        "name": "resource_runId_s",
                                        "type": "string"
                                    },
                                    {
                                        "name": "resource_workflowName_s",
                                        "type": "string"
                                    },
                                    {
                                        "name": "_schema_s",
                                        "type": "string"
                                    },
                                    {
                                        "name": "correlation_clientTrackingId_s",
                                        "type": "string"
                                    },
                                    {
                                        "name": "properties_sku_Family_s",
                                        "type": "string"
                                    },
                                    {
                                        "name": "properties_sku_Name_s",
                                        "type": "string"
                                    },
                                    {
                                        "name": "properties_tenantId_g",
                                        "type": "string"
                                    },
                                    {
                                        "name": "properties_enabledForDeployment_b",
                                        "type": "string"
                                    },
                                    {
                                        "name": "code_s",
                                        "type": "string"
                                    },
                                    {
                                        "name": "resultDescription_Summary_MachineId_s",
                                        "type": "string"
                                    },
                                    {
                                        "name": "resultDescription_Summary_ScheduleName_s",
                                        "type": "string"
                                    },
                                    {
                                        "name": "resultDescription_Summary_Status_s",
                                        "type": "string"
                                    },
                                    {
                                        "name": "resultDescription_Summary_StatusDescription_s",
                                        "type": "string"
                                    },
                                    {
                                        "name": "resultDescription_Summary_MachineName_s",
                                        "type": "string"
                                    },
                                    {
                                        "name": "resultDescription_Summary_TotalUpdatesInstalled_d",
                                        "type": "number"
                                    },
                                    {
                                        "name": "resultDescription_Summary_RebootRequired_b",
                                        "type": "string"
                                    },
                                    {
                                        "name": "resultDescription_Summary_TotalUpdatesFailed_d",
                                        "type": "number"
                                    },
                                    {
                                        "name": "resultDescription_Summary_InstallPercentage_d",
                                        "type": "number"
                                    },
                                    {
                                        "name": "resultDescription_Summary_StartDateTimeUtc_t",
                                        "type": "datetime"
                                    },
                                    {
                                        "name": "resource_triggerName_s",
                                        "type": "string"
                                    },
                                    {
                                        "name": "resultDescription_Summary_InitialRequiredUpdatesCount_d",
                                        "type": "number"
                                    },
                                    {
                                        "name": "properties_enabledForTemplateDeployment_b",
                                        "type": "string"
                                    },
                                    {
                                        "name": "resultDescription_Summary_EndDateTimeUtc_s",
                                        "type": "string"
                                    },
                                    {
                                        "name": "resultDescription_Summary_DurationInMinutes_s",
                                        "type": "string"
                                    },
                                    {
                                        "name": "resource_originRunId_s",
                                        "type": "string"
                                    },
                                    {
                                        "name": "properties_enabledForDiskEncryption_b",
                                        "type": "string"
                                    },
                                    {
                                        "name": "resource_actionName_s",
                                        "type": "string"
                                    },
                                    {
                                        "name": "correlation_actionTrackingId_g",
                                        "type": "string"
                                    },
                                    {
                                        "name": "resultDescription_Summary_EndDateTimeUtc_t",
                                        "type": "datetime"
                                    },
                                    {
                                        "name": "resultDescription_Summary_DurationInMinutes_d",
                                        "type": "number"
                                    },
                                    {
                                        "name": "conditions_protocols_s",
                                        "type": "string"
                                    },
                                    {
                                        "name": "identity_claim_ipaddr_s",
                                        "type": "string"
                                    },
                                    {
                                        "name": "ElasticPoolName_s",
                                        "type": "string"
                                    },
                                    {
                                        "name": "identity_claim_http_schemas_microsoft_com_claims_authnmethodsreferences_s",
                                        "type": "string"
                                    },
                                    {
                                        "name": "RunOn_s",
                                        "type": "string"
                                    },
                                    {
                                        "name": "query_hash_s",
                                        "type": "string"
                                    },
                                    {
                                        "name": "SourceSystem",
                                        "type": "string"
                                    },
                                    {
                                        "name": "MG",
                                        "type": "string"
                                    },
                                    {
                                        "name": "ManagementGroupName",
                                        "type": "string"
                                    },
                                    {
                                        "name": "Computer",
                                        "type": "string"
                                    },
                                    {
                                        "name": "RawData",
                                        "type": "string"
                                    },
                                    {
                                        "name": "error_state_d",
                                        "type": "number"
                                    },
                                    {
                                        "name": "deadlock_xml_s",
                                        "type": "string"
                                    },
                                    {
                                        "name": "query_plan_hash_s",
                                        "type": "string"
                                    },
                                    {
                                        "name": "error_number_d",
                                        "type": "number"
                                    },
                                    {
                                        "name": "Severity",
                                        "type": "number"
                                    },
                                    {
                                        "name": "user_defined_b",
                                        "type": "string"
                                    },
                                    {
                                        "name": "state_d",
                                        "type": "number"
                                    },
                                    {
                                        "name": "package_s",
                                        "type": "string"
                                    },
                                    {
                                        "name": "event_s",
                                        "type": "string"
                                    },
                                    {
                                        "name": "sessionName_s",
                                        "type": "string"
                                    },
                                    {
                                        "name": "originalEventTimestamp_t",
                                        "type": "datetime",
                                        "tz": "UTC"
                                    },
                                    {
                                        "name": "audit_schema_version_d",
                                        "type": "number"
                                    },
                                    {
                                        "name": "event_time_t",
                                        "type": "datetime",
                                        "tz": "UTC"
                                    },
                                    {
                                        "name": "sequence_number_d",
                                        "type": "number"
                                    },
                                    {
                                        "name": "action_id_s",
                                        "type": "string"
                                    },
                                    {
                                        "name": "action_name_s",
                                        "type": "string"
                                    },
                                    {
                                        "name": "succeeded_s",
                                        "type": "string"
                                    },
                                    {
                                        "name": "is_column_permission_s",
                                        "type": "string"
                                    },
                                    {
                                        "name": "session_id_d",
                                        "type": "number"
                                    },
                                    {
                                        "name": "server_principal_id_d",
                                        "type": "number"
                                    },
                                    {
                                        "name": "database_principal_id_d",
                                        "type": "number"
                                    },
                                    {
                                        "name": "target_server_principal_id_d",
                                        "type": "number"
                                    },
                                    {
                                        "name": "target_database_principal_id_d",
                                        "type": "number"
                                    },
                                    {
                                        "name": "object_id_d",
                                        "type": "number"
                                    },
                                    {
                                        "name": "user_defined_event_id_d",
                                        "type": "number"
                                    },
                                    {
                                        "name": "transaction_id_d",
                                        "type": "number"
                                    },
                                    {
                                        "name": "class_type_s",
                                        "type": "string"
                                    },
                                    {
                                        "name": "class_type_description_s",
                                        "type": "string"
                                    },
                                    {
                                        "name": "securable_class_type_s",
                                        "type": "string"
                                    },
                                    {
                                        "name": "duration_milliseconds_d",
                                        "type": "number"
                                    },
                                    {
                                        "name": "response_rows_d",
                                        "type": "number"
                                    },
                                    {
                                        "name": "affected_rows_d",
                                        "type": "number"
                                    },
                                    {
                                        "name": "client_ip_s",
                                        "type": "string"
                                    },
                                    {
                                        "name": "permission_bitmask_g",
                                        "type": "string"
                                    },
                                    {
                                        "name": "sequence_group_id_g",
                                        "type": "string"
                                    },
                                    {
                                        "name": "session_server_principal_name_s",
                                        "type": "string"
                                    },
                                    {
                                        "name": "server_principal_name_s",
                                        "type": "string"
                                    },
                                    {
                                        "name": "server_principal_sid_s",
                                        "type": "string"
                                    },
                                    {
                                        "name": "database_principal_name_s",
                                        "type": "string"
                                    },
                                    {
                                        "name": "target_server_principal_name_s",
                                        "type": "string"
                                    },
                                    {
                                        "name": "target_server_principal_sid_s",
                                        "type": "string"
                                    },
                                    {
                                        "name": "target_database_principal_name_s",
                                        "type": "string"
                                    },
                                    {
                                        "name": "server_instance_name_s",
                                        "type": "string"
                                    },
                                    {
                                        "name": "database_name_s",
                                        "type": "string"
                                    },
                                    {
                                        "name": "schema_name_s",
                                        "type": "string"
                                    },
                                    {
                                        "name": "object_name_s",
                                        "type": "string"
                                    },
                                    {
                                        "name": "statement_s",
                                        "type": "string"
                                    },
                                    {
                                        "name": "additional_information_s",
                                        "type": "string"
                                    },
                                    {
                                        "name": "user_defined_information_s",
                                        "type": "string"
                                    },
                                    {
                                        "name": "application_name_s",
                                        "type": "string"
                                    },
                                    {
                                        "name": "connection_id_g",
                                        "type": "string"
                                    },
                                    {
                                        "name": "data_sensitivity_information_s",
                                        "type": "string"
                                    },
                                    {
                                        "name": "host_name_s",
                                        "type": "string"
                                    },
                                    {
                                        "name": "session_context_s",
                                        "type": "string"
                                    },
                                    {
                                        "name": "is_server_level_audit_s",
                                        "type": "string"
                                    },
                                    {
                                        "name": "event_id_g",
                                        "type": "string"
                                    },
                                    {
                                        "name": "AdditionalFields",
                                        "type": "string"
                                    },
                                    {
                                        "name": "Type",
                                        "type": "string"
                                    }
                                ],
                                "kqmagic_version": "0.1.113.post1"
                            },
                            "data": [
                                {
                                    "TimeGenerated": "2021-01-31T17:14:07.326Z",
                                    "Category": "SQLSecurityAuditEvents",
                                    "ResourceProvider": "MICROSOFT.SQL",
                                    "Resource": "MASTER",
                                    "ResourceType": "SERVERS/DATABASES",
                                    "OperationName": "AuditEvent",
                                    "ResultType": "",
                                    "CorrelationId": "",
                                    "ResultDescription": "",
                                    "Tenant_g": "",
                                    "JobId_g": "",
                                    "RunbookName_s": "",
                                    "StreamType_s": "",
                                    "Caller_s": "",
                                    "requestUri_s": "",
                                    "Level": "",
                                    "DurationMs": null,
                                    "CallerIPAddress": "",
                                    "OperationVersion": "",
                                    "ResultSignature": "",
                                    "id_s": "",
                                    "status_s": "",
                                    "LogicalServerName_s": "jukoesmasqldb",
                                    "Message": "",
                                    "clientInfo_s": "",
                                    "httpStatusCode_d": null,
                                    "identity_claim_appid_g": "",
                                    "identity_claim_http_schemas_microsoft_com_identity_claims_objectidentifier_g": "",
                                    "userAgent_s": "",
                                    "ruleName_s": "",
                                    "identity_claim_http_schemas_xmlsoap_org_ws_2005_05_identity_claims_upn_s": "",
                                    "systemId_g": "",
                                    "isAccessPolicyMatch_b": null,
                                    "EventName_s": "",
                                    "httpMethod_s": "",
                                    "subnetId_s": "",
                                    "type_s": "",
                                    "instanceId_s": "",
                                    "macAddress_s": "",
                                    "vnetResourceGuid_g": "",
                                    "direction_s": "",
                                    "subnetPrefix_s": "",
                                    "primaryIPv4Address_s": "",
                                    "conditions_sourcePortRange_s": "",
                                    "priority_d": null,
                                    "conditions_destinationPortRange_s": "",
                                    "conditions_destinationIP_s": "",
                                    "conditions_None_s": "",
                                    "conditions_sourceIP_s": "",
                                    "httpVersion_s": "",
                                    "matchedConnections_d": null,
                                    "startTime_t": null,
                                    "endTime_t": null,
                                    "DatabaseName_s": "",
                                    "clientIP_s": "",
                                    "host_s": "",
                                    "requestQuery_s": "",
                                    "sslEnabled_s": "",
                                    "clientPort_d": null,
                                    "httpStatus_d": null,
                                    "receivedBytes_d": null,
                                    "sentBytes_d": null,
                                    "timeTaken_d": null,
                                    "resultDescription_ErrorJobs_s": "",
                                    "resultDescription_ChildJobs_s": "",
                                    "identity_claim_http_schemas_microsoft_com_identity_claims_scope_s": "",
                                    "workflowId_s": "",
                                    "resource_location_s": "",
                                    "resource_workflowId_g": "",
                                    "resource_resourceGroupName_s": "",
                                    "resource_subscriptionId_g": "",
                                    "resource_runId_s": "",
                                    "resource_workflowName_s": "",
                                    "_schema_s": "",
                                    "correlation_clientTrackingId_s": "",
                                    "properties_sku_Family_s": "",
                                    "properties_sku_Name_s": "",
                                    "properties_tenantId_g": "",
                                    "properties_enabledForDeployment_b": null,
                                    "code_s": "",
                                    "resultDescription_Summary_MachineId_s": "",
                                    "resultDescription_Summary_ScheduleName_s": "",
                                    "resultDescription_Summary_Status_s": "",
                                    "resultDescription_Summary_StatusDescription_s": "",
                                    "resultDescription_Summary_MachineName_s": "",
                                    "resultDescription_Summary_TotalUpdatesInstalled_d": null,
                                    "resultDescription_Summary_RebootRequired_b": null,
                                    "resultDescription_Summary_TotalUpdatesFailed_d": null,
                                    "resultDescription_Summary_InstallPercentage_d": null,
                                    "resultDescription_Summary_StartDateTimeUtc_t": null,
                                    "resource_triggerName_s": "",
                                    "resultDescription_Summary_InitialRequiredUpdatesCount_d": null,
                                    "properties_enabledForTemplateDeployment_b": null,
                                    "resultDescription_Summary_EndDateTimeUtc_s": "",
                                    "resultDescription_Summary_DurationInMinutes_s": "",
                                    "resource_originRunId_s": "",
                                    "properties_enabledForDiskEncryption_b": null,
                                    "resource_actionName_s": "",
                                    "correlation_actionTrackingId_g": "",
                                    "resultDescription_Summary_EndDateTimeUtc_t": null,
                                    "resultDescription_Summary_DurationInMinutes_d": null,
                                    "conditions_protocols_s": "",
                                    "identity_claim_ipaddr_s": "",
                                    "ElasticPoolName_s": "",
                                    "identity_claim_http_schemas_microsoft_com_claims_authnmethodsreferences_s": "",
                                    "RunOn_s": "",
                                    "query_hash_s": "",
                                    "SourceSystem": "Azure",
                                    "MG": "",
                                    "ManagementGroupName": "",
                                    "Computer": "",
                                    "RawData": "",
                                    "error_state_d": null,
                                    "deadlock_xml_s": "",
                                    "query_plan_hash_s": "",
                                    "error_number_d": null,
                                    "Severity": null,
                                    "user_defined_b": null,
                                    "state_d": null,
                                    "package_s": "SecAudit",
                                    "event_s": "audit_event_shoebox",
                                    "sessionName_s": "audit_session_for_shoebox",
                                    "originalEventTimestamp_t": "2021-01-31T17:14:07.325Z",
                                    "audit_schema_version_d": 1,
                                    "event_time_t": "2021-01-31T17:14:06.420Z",
                                    "sequence_number_d": 1,
                                    "action_id_s": "DBAS",
                                    "action_name_s": "DATABASE AUTHENTICATION SUCCEEDED",
                                    "succeeded_s": "true",
                                    "is_column_permission_s": "false",
                                    "session_id_d": 61,
                                    "server_principal_id_d": 0,
                                    "database_principal_id_d": 5,
                                    "target_server_principal_id_d": 0,
                                    "target_database_principal_id_d": 0,
                                    "object_id_d": 5,
                                    "user_defined_event_id_d": 0,
                                    "transaction_id_d": 0,
                                    "class_type_s": "DB",
                                    "class_type_description_s": "DATABASE",
                                    "securable_class_type_s": "DATABASE",
                                    "duration_milliseconds_d": 0,
                                    "response_rows_d": 0,
                                    "affected_rows_d": 0,
                                    "client_ip_s": "131.107.174.142",
                                    "permission_bitmask_g": "00000000-0000-0000-0000-000000000000",
                                    "sequence_group_id_g": "f2eaa417-f826-46f6-abe7-c258359014e5",
                                    "session_server_principal_name_s": "adslivesite",
                                    "server_principal_name_s": "adslivesite",
                                    "server_principal_sid_s": "01060000000001640000000000000000cef04990da142347be1357149f87e7c1",
                                    "database_principal_name_s": "adslivesite",
                                    "target_server_principal_name_s": "",
                                    "target_server_principal_sid_s": "",
                                    "target_database_principal_name_s": "",
                                    "server_instance_name_s": "jukoesmasqldb",
                                    "database_name_s": "master",
                                    "schema_name_s": "",
                                    "object_name_s": "master",
                                    "statement_s": "",
                                    "additional_information_s": "",
                                    "user_defined_information_s": "",
                                    "application_name_s": "azdata-GeneralConnection",
                                    "connection_id_g": "3662a6c0-16da-4948-9ce5-743e7fabeec4",
                                    "data_sensitivity_information_s": "",
                                    "host_name_s": "MSSQLGIRL-01",
                                    "session_context_s": "",
                                    "is_server_level_audit_s": "true",
                                    "event_id_g": "93069c52-03da-4b4d-8f17-190e35c7b7ed",
                                    "AdditionalFields": "None",
                                    "Type": "AzureDiagnostics"
                                },
                                {
                                    "TimeGenerated": "2021-01-31T17:14:20.326Z",
                                    "Category": "SQLSecurityAuditEvents",
                                    "ResourceProvider": "MICROSOFT.SQL",
                                    "Resource": "MASTER",
                                    "ResourceType": "SERVERS/DATABASES",
                                    "OperationName": "AuditEvent",
                                    "ResultType": "",
                                    "CorrelationId": "",
                                    "ResultDescription": "",
                                    "Tenant_g": "",
                                    "JobId_g": "",
                                    "RunbookName_s": "",
                                    "StreamType_s": "",
                                    "Caller_s": "",
                                    "requestUri_s": "",
                                    "Level": "",
                                    "DurationMs": null,
                                    "CallerIPAddress": "",
                                    "OperationVersion": "",
                                    "ResultSignature": "",
                                    "id_s": "",
                                    "status_s": "",
                                    "LogicalServerName_s": "jukoesmasqldb",
                                    "Message": "",
                                    "clientInfo_s": "",
                                    "httpStatusCode_d": null,
                                    "identity_claim_appid_g": "",
                                    "identity_claim_http_schemas_microsoft_com_identity_claims_objectidentifier_g": "",
                                    "userAgent_s": "",
                                    "ruleName_s": "",
                                    "identity_claim_http_schemas_xmlsoap_org_ws_2005_05_identity_claims_upn_s": "",
                                    "systemId_g": "",
                                    "isAccessPolicyMatch_b": null,
                                    "EventName_s": "",
                                    "httpMethod_s": "",
                                    "subnetId_s": "",
                                    "type_s": "",
                                    "instanceId_s": "",
                                    "macAddress_s": "",
                                    "vnetResourceGuid_g": "",
                                    "direction_s": "",
                                    "subnetPrefix_s": "",
                                    "primaryIPv4Address_s": "",
                                    "conditions_sourcePortRange_s": "",
                                    "priority_d": null,
                                    "conditions_destinationPortRange_s": "",
                                    "conditions_destinationIP_s": "",
                                    "conditions_None_s": "",
                                    "conditions_sourceIP_s": "",
                                    "httpVersion_s": "",
                                    "matchedConnections_d": null,
                                    "startTime_t": null,
                                    "endTime_t": null,
                                    "DatabaseName_s": "",
                                    "clientIP_s": "",
                                    "host_s": "",
                                    "requestQuery_s": "",
                                    "sslEnabled_s": "",
                                    "clientPort_d": null,
                                    "httpStatus_d": null,
                                    "receivedBytes_d": null,
                                    "sentBytes_d": null,
                                    "timeTaken_d": null,
                                    "resultDescription_ErrorJobs_s": "",
                                    "resultDescription_ChildJobs_s": "",
                                    "identity_claim_http_schemas_microsoft_com_identity_claims_scope_s": "",
                                    "workflowId_s": "",
                                    "resource_location_s": "",
                                    "resource_workflowId_g": "",
                                    "resource_resourceGroupName_s": "",
                                    "resource_subscriptionId_g": "",
                                    "resource_runId_s": "",
                                    "resource_workflowName_s": "",
                                    "_schema_s": "",
                                    "correlation_clientTrackingId_s": "",
                                    "properties_sku_Family_s": "",
                                    "properties_sku_Name_s": "",
                                    "properties_tenantId_g": "",
                                    "properties_enabledForDeployment_b": null,
                                    "code_s": "",
                                    "resultDescription_Summary_MachineId_s": "",
                                    "resultDescription_Summary_ScheduleName_s": "",
                                    "resultDescription_Summary_Status_s": "",
                                    "resultDescription_Summary_StatusDescription_s": "",
                                    "resultDescription_Summary_MachineName_s": "",
                                    "resultDescription_Summary_TotalUpdatesInstalled_d": null,
                                    "resultDescription_Summary_RebootRequired_b": null,
                                    "resultDescription_Summary_TotalUpdatesFailed_d": null,
                                    "resultDescription_Summary_InstallPercentage_d": null,
                                    "resultDescription_Summary_StartDateTimeUtc_t": null,
                                    "resource_triggerName_s": "",
                                    "resultDescription_Summary_InitialRequiredUpdatesCount_d": null,
                                    "properties_enabledForTemplateDeployment_b": null,
                                    "resultDescription_Summary_EndDateTimeUtc_s": "",
                                    "resultDescription_Summary_DurationInMinutes_s": "",
                                    "resource_originRunId_s": "",
                                    "properties_enabledForDiskEncryption_b": null,
                                    "resource_actionName_s": "",
                                    "correlation_actionTrackingId_g": "",
                                    "resultDescription_Summary_EndDateTimeUtc_t": null,
                                    "resultDescription_Summary_DurationInMinutes_d": null,
                                    "conditions_protocols_s": "",
                                    "identity_claim_ipaddr_s": "",
                                    "ElasticPoolName_s": "",
                                    "identity_claim_http_schemas_microsoft_com_claims_authnmethodsreferences_s": "",
                                    "RunOn_s": "",
                                    "query_hash_s": "",
                                    "SourceSystem": "Azure",
                                    "MG": "",
                                    "ManagementGroupName": "",
                                    "Computer": "",
                                    "RawData": "",
                                    "error_state_d": null,
                                    "deadlock_xml_s": "",
                                    "query_plan_hash_s": "",
                                    "error_number_d": null,
                                    "Severity": null,
                                    "user_defined_b": null,
                                    "state_d": null,
                                    "package_s": "SecAudit",
                                    "event_s": "audit_event_shoebox",
                                    "sessionName_s": "audit_session_for_shoebox",
                                    "originalEventTimestamp_t": "2021-01-31T17:14:20.322Z",
                                    "audit_schema_version_d": 1,
                                    "event_time_t": "2021-01-31T17:14:19.561Z",
                                    "sequence_number_d": 1,
                                    "action_id_s": "BCM ",
                                    "action_name_s": "BATCH COMPLETED",
                                    "succeeded_s": "true",
                                    "is_column_permission_s": "false",
                                    "session_id_d": 61,
                                    "server_principal_id_d": 0,
                                    "database_principal_id_d": 5,
                                    "target_server_principal_id_d": 0,
                                    "target_database_principal_id_d": 0,
                                    "object_id_d": 5,
                                    "user_defined_event_id_d": 0,
                                    "transaction_id_d": 0,
                                    "class_type_s": "DB",
                                    "class_type_description_s": "DATABASE",
                                    "securable_class_type_s": "DATABASE",
                                    "duration_milliseconds_d": 35,
                                    "response_rows_d": 1,
                                    "affected_rows_d": 1,
                                    "client_ip_s": "131.107.174.142",
                                    "permission_bitmask_g": "00000000-0000-0000-0000-000000000000",
                                    "sequence_group_id_g": "3cce1817-7aa2-44de-b7d7-5ded01f58f01",
                                    "session_server_principal_name_s": "adslivesite",
                                    "server_principal_name_s": "adslivesite",
                                    "server_principal_sid_s": "01060000000001640000000000000000cef04990da142347be1357149f87e7c1",
                                    "database_principal_name_s": "adslivesite",
                                    "target_server_principal_name_s": "",
                                    "target_server_principal_sid_s": "",
                                    "target_database_principal_name_s": "",
                                    "server_instance_name_s": "jukoesmasqldb",
                                    "database_name_s": "master",
                                    "schema_name_s": "",
                                    "object_name_s": "master",
                                    "statement_s": "SELECT SERVERPROPERTY('EngineEdition'), SERVERPROPERTY('productversion'), SERVERPROPERTY ('productlevel'), SERVERPROPERTY ('edition'), SERVERPROPERTY ('MachineName'), SERVERPROPERTY ('ServerName'), (SELECT CASE WHEN EXISTS (SELECT TOP 1 1 from [sys].[all_columns] WITH (NOLOCK) WHERE name = N'xml_index_type' AND OBJECT_ID(N'sys.xml_indexes') = object_id) THEN 1 ELSE 0 END AS SXI_PRESENT)",
                                    "additional_information_s": "",
                                    "user_defined_information_s": "",
                                    "application_name_s": "azdata-GeneralConnection",
                                    "connection_id_g": "3662a6c0-16da-4948-9ce5-743e7fabeec4",
                                    "data_sensitivity_information_s": "",
                                    "host_name_s": "MSSQLGIRL-01",
                                    "session_context_s": "",
                                    "is_server_level_audit_s": "true",
                                    "event_id_g": "fa7d5951-a849-4e8b-b407-a3dd5427362c",
                                    "AdditionalFields": "None",
                                    "Type": "AzureDiagnostics"
                                },
                                {
                                    "TimeGenerated": "2021-01-31T17:14:20.326Z",
                                    "Category": "SQLSecurityAuditEvents",
                                    "ResourceProvider": "MICROSOFT.SQL",
                                    "Resource": "MASTER",
                                    "ResourceType": "SERVERS/DATABASES",
                                    "OperationName": "AuditEvent",
                                    "ResultType": "",
                                    "CorrelationId": "",
                                    "ResultDescription": "",
                                    "Tenant_g": "",
                                    "JobId_g": "",
                                    "RunbookName_s": "",
                                    "StreamType_s": "",
                                    "Caller_s": "",
                                    "requestUri_s": "",
                                    "Level": "",
                                    "DurationMs": null,
                                    "CallerIPAddress": "",
                                    "OperationVersion": "",
                                    "ResultSignature": "",
                                    "id_s": "",
                                    "status_s": "",
                                    "LogicalServerName_s": "jukoesmasqldb",
                                    "Message": "",
                                    "clientInfo_s": "",
                                    "httpStatusCode_d": null,
                                    "identity_claim_appid_g": "",
                                    "identity_claim_http_schemas_microsoft_com_identity_claims_objectidentifier_g": "",
                                    "userAgent_s": "",
                                    "ruleName_s": "",
                                    "identity_claim_http_schemas_xmlsoap_org_ws_2005_05_identity_claims_upn_s": "",
                                    "systemId_g": "",
                                    "isAccessPolicyMatch_b": null,
                                    "EventName_s": "",
                                    "httpMethod_s": "",
                                    "subnetId_s": "",
                                    "type_s": "",
                                    "instanceId_s": "",
                                    "macAddress_s": "",
                                    "vnetResourceGuid_g": "",
                                    "direction_s": "",
                                    "subnetPrefix_s": "",
                                    "primaryIPv4Address_s": "",
                                    "conditions_sourcePortRange_s": "",
                                    "priority_d": null,
                                    "conditions_destinationPortRange_s": "",
                                    "conditions_destinationIP_s": "",
                                    "conditions_None_s": "",
                                    "conditions_sourceIP_s": "",
                                    "httpVersion_s": "",
                                    "matchedConnections_d": null,
                                    "startTime_t": null,
                                    "endTime_t": null,
                                    "DatabaseName_s": "",
                                    "clientIP_s": "",
                                    "host_s": "",
                                    "requestQuery_s": "",
                                    "sslEnabled_s": "",
                                    "clientPort_d": null,
                                    "httpStatus_d": null,
                                    "receivedBytes_d": null,
                                    "sentBytes_d": null,
                                    "timeTaken_d": null,
                                    "resultDescription_ErrorJobs_s": "",
                                    "resultDescription_ChildJobs_s": "",
                                    "identity_claim_http_schemas_microsoft_com_identity_claims_scope_s": "",
                                    "workflowId_s": "",
                                    "resource_location_s": "",
                                    "resource_workflowId_g": "",
                                    "resource_resourceGroupName_s": "",
                                    "resource_subscriptionId_g": "",
                                    "resource_runId_s": "",
                                    "resource_workflowName_s": "",
                                    "_schema_s": "",
                                    "correlation_clientTrackingId_s": "",
                                    "properties_sku_Family_s": "",
                                    "properties_sku_Name_s": "",
                                    "properties_tenantId_g": "",
                                    "properties_enabledForDeployment_b": null,
                                    "code_s": "",
                                    "resultDescription_Summary_MachineId_s": "",
                                    "resultDescription_Summary_ScheduleName_s": "",
                                    "resultDescription_Summary_Status_s": "",
                                    "resultDescription_Summary_StatusDescription_s": "",
                                    "resultDescription_Summary_MachineName_s": "",
                                    "resultDescription_Summary_TotalUpdatesInstalled_d": null,
                                    "resultDescription_Summary_RebootRequired_b": null,
                                    "resultDescription_Summary_TotalUpdatesFailed_d": null,
                                    "resultDescription_Summary_InstallPercentage_d": null,
                                    "resultDescription_Summary_StartDateTimeUtc_t": null,
                                    "resource_triggerName_s": "",
                                    "resultDescription_Summary_InitialRequiredUpdatesCount_d": null,
                                    "properties_enabledForTemplateDeployment_b": null,
                                    "resultDescription_Summary_EndDateTimeUtc_s": "",
                                    "resultDescription_Summary_DurationInMinutes_s": "",
                                    "resource_originRunId_s": "",
                                    "properties_enabledForDiskEncryption_b": null,
                                    "resource_actionName_s": "",
                                    "correlation_actionTrackingId_g": "",
                                    "resultDescription_Summary_EndDateTimeUtc_t": null,
                                    "resultDescription_Summary_DurationInMinutes_d": null,
                                    "conditions_protocols_s": "",
                                    "identity_claim_ipaddr_s": "",
                                    "ElasticPoolName_s": "",
                                    "identity_claim_http_schemas_microsoft_com_claims_authnmethodsreferences_s": "",
                                    "RunOn_s": "",
                                    "query_hash_s": "",
                                    "SourceSystem": "Azure",
                                    "MG": "",
                                    "ManagementGroupName": "",
                                    "Computer": "",
                                    "RawData": "",
                                    "error_state_d": null,
                                    "deadlock_xml_s": "",
                                    "query_plan_hash_s": "",
                                    "error_number_d": null,
                                    "Severity": null,
                                    "user_defined_b": null,
                                    "state_d": null,
                                    "package_s": "SecAudit",
                                    "event_s": "audit_event_shoebox",
                                    "sessionName_s": "audit_session_for_shoebox",
                                    "originalEventTimestamp_t": "2021-01-31T17:14:20.322Z",
                                    "audit_schema_version_d": 1,
                                    "event_time_t": "2021-01-31T17:14:19.951Z",
                                    "sequence_number_d": 1,
                                    "action_id_s": "BCM ",
                                    "action_name_s": "BATCH COMPLETED",
                                    "succeeded_s": "true",
                                    "is_column_permission_s": "false",
                                    "session_id_d": 61,
                                    "server_principal_id_d": 0,
                                    "database_principal_id_d": 5,
                                    "target_server_principal_id_d": 0,
                                    "target_database_principal_id_d": 0,
                                    "object_id_d": 5,
                                    "user_defined_event_id_d": 0,
                                    "transaction_id_d": 0,
                                    "class_type_s": "DB",
                                    "class_type_description_s": "DATABASE",
                                    "securable_class_type_s": "DATABASE",
                                    "duration_milliseconds_d": 0,
                                    "response_rows_d": 1,
                                    "affected_rows_d": 1,
                                    "client_ip_s": "131.107.174.142",
                                    "permission_bitmask_g": "00000000-0000-0000-0000-000000000000",
                                    "sequence_group_id_g": "df15b53b-19fa-4b1f-bb35-078a750ba0f3",
                                    "session_server_principal_name_s": "adslivesite",
                                    "server_principal_name_s": "adslivesite",
                                    "server_principal_sid_s": "01060000000001640000000000000000cef04990da142347be1357149f87e7c1",
                                    "database_principal_name_s": "adslivesite",
                                    "target_server_principal_name_s": "",
                                    "target_server_principal_sid_s": "",
                                    "target_database_principal_name_s": "",
                                    "server_instance_name_s": "jukoesmasqldb",
                                    "database_name_s": "master",
                                    "schema_name_s": "",
                                    "object_name_s": "master",
                                    "statement_s": "SELECT ISNULL(SESSIONPROPERTY ('ANSI_NULLS'), 0), ISNULL(SESSIONPROPERTY ('QUOTED_IDENTIFIER'), 1)",
                                    "additional_information_s": "",
                                    "user_defined_information_s": "",
                                    "application_name_s": "azdata-GeneralConnection",
                                    "connection_id_g": "3662a6c0-16da-4948-9ce5-743e7fabeec4",
                                    "data_sensitivity_information_s": "",
                                    "host_name_s": "MSSQLGIRL-01",
                                    "session_context_s": "",
                                    "is_server_level_audit_s": "true",
                                    "event_id_g": "e677f992-7263-483f-b6ee-c3ac3659b3a0",
                                    "AdditionalFields": "None",
                                    "Type": "AzureDiagnostics"
                                },
                                {
                                    "TimeGenerated": "2021-01-31T17:14:20.326Z",
                                    "Category": "SQLSecurityAuditEvents",
                                    "ResourceProvider": "MICROSOFT.SQL",
                                    "Resource": "MASTER",
                                    "ResourceType": "SERVERS/DATABASES",
                                    "OperationName": "AuditEvent",
                                    "ResultType": "",
                                    "CorrelationId": "",
                                    "ResultDescription": "",
                                    "Tenant_g": "",
                                    "JobId_g": "",
                                    "RunbookName_s": "",
                                    "StreamType_s": "",
                                    "Caller_s": "",
                                    "requestUri_s": "",
                                    "Level": "",
                                    "DurationMs": null,
                                    "CallerIPAddress": "",
                                    "OperationVersion": "",
                                    "ResultSignature": "",
                                    "id_s": "",
                                    "status_s": "",
                                    "LogicalServerName_s": "jukoesmasqldb",
                                    "Message": "",
                                    "clientInfo_s": "",
                                    "httpStatusCode_d": null,
                                    "identity_claim_appid_g": "",
                                    "identity_claim_http_schemas_microsoft_com_identity_claims_objectidentifier_g": "",
                                    "userAgent_s": "",
                                    "ruleName_s": "",
                                    "identity_claim_http_schemas_xmlsoap_org_ws_2005_05_identity_claims_upn_s": "",
                                    "systemId_g": "",
                                    "isAccessPolicyMatch_b": null,
                                    "EventName_s": "",
                                    "httpMethod_s": "",
                                    "subnetId_s": "",
                                    "type_s": "",
                                    "instanceId_s": "",
                                    "macAddress_s": "",
                                    "vnetResourceGuid_g": "",
                                    "direction_s": "",
                                    "subnetPrefix_s": "",
                                    "primaryIPv4Address_s": "",
                                    "conditions_sourcePortRange_s": "",
                                    "priority_d": null,
                                    "conditions_destinationPortRange_s": "",
                                    "conditions_destinationIP_s": "",
                                    "conditions_None_s": "",
                                    "conditions_sourceIP_s": "",
                                    "httpVersion_s": "",
                                    "matchedConnections_d": null,
                                    "startTime_t": null,
                                    "endTime_t": null,
                                    "DatabaseName_s": "",
                                    "clientIP_s": "",
                                    "host_s": "",
                                    "requestQuery_s": "",
                                    "sslEnabled_s": "",
                                    "clientPort_d": null,
                                    "httpStatus_d": null,
                                    "receivedBytes_d": null,
                                    "sentBytes_d": null,
                                    "timeTaken_d": null,
                                    "resultDescription_ErrorJobs_s": "",
                                    "resultDescription_ChildJobs_s": "",
                                    "identity_claim_http_schemas_microsoft_com_identity_claims_scope_s": "",
                                    "workflowId_s": "",
                                    "resource_location_s": "",
                                    "resource_workflowId_g": "",
                                    "resource_resourceGroupName_s": "",
                                    "resource_subscriptionId_g": "",
                                    "resource_runId_s": "",
                                    "resource_workflowName_s": "",
                                    "_schema_s": "",
                                    "correlation_clientTrackingId_s": "",
                                    "properties_sku_Family_s": "",
                                    "properties_sku_Name_s": "",
                                    "properties_tenantId_g": "",
                                    "properties_enabledForDeployment_b": null,
                                    "code_s": "",
                                    "resultDescription_Summary_MachineId_s": "",
                                    "resultDescription_Summary_ScheduleName_s": "",
                                    "resultDescription_Summary_Status_s": "",
                                    "resultDescription_Summary_StatusDescription_s": "",
                                    "resultDescription_Summary_MachineName_s": "",
                                    "resultDescription_Summary_TotalUpdatesInstalled_d": null,
                                    "resultDescription_Summary_RebootRequired_b": null,
                                    "resultDescription_Summary_TotalUpdatesFailed_d": null,
                                    "resultDescription_Summary_InstallPercentage_d": null,
                                    "resultDescription_Summary_StartDateTimeUtc_t": null,
                                    "resource_triggerName_s": "",
                                    "resultDescription_Summary_InitialRequiredUpdatesCount_d": null,
                                    "properties_enabledForTemplateDeployment_b": null,
                                    "resultDescription_Summary_EndDateTimeUtc_s": "",
                                    "resultDescription_Summary_DurationInMinutes_s": "",
                                    "resource_originRunId_s": "",
                                    "properties_enabledForDiskEncryption_b": null,
                                    "resource_actionName_s": "",
                                    "correlation_actionTrackingId_g": "",
                                    "resultDescription_Summary_EndDateTimeUtc_t": null,
                                    "resultDescription_Summary_DurationInMinutes_d": null,
                                    "conditions_protocols_s": "",
                                    "identity_claim_ipaddr_s": "",
                                    "ElasticPoolName_s": "",
                                    "identity_claim_http_schemas_microsoft_com_claims_authnmethodsreferences_s": "",
                                    "RunOn_s": "",
                                    "query_hash_s": "",
                                    "SourceSystem": "Azure",
                                    "MG": "",
                                    "ManagementGroupName": "",
                                    "Computer": "",
                                    "RawData": "",
                                    "error_state_d": null,
                                    "deadlock_xml_s": "",
                                    "query_plan_hash_s": "",
                                    "error_number_d": null,
                                    "Severity": null,
                                    "user_defined_b": null,
                                    "state_d": null,
                                    "package_s": "SecAudit",
                                    "event_s": "audit_event_shoebox",
                                    "sessionName_s": "audit_session_for_shoebox",
                                    "originalEventTimestamp_t": "2021-01-31T17:14:20.322Z",
                                    "audit_schema_version_d": 1,
                                    "event_time_t": "2021-01-31T17:14:20.045Z",
                                    "sequence_number_d": 1,
                                    "action_id_s": "BCM ",
                                    "action_name_s": "BATCH COMPLETED",
                                    "succeeded_s": "true",
                                    "is_column_permission_s": "false",
                                    "session_id_d": 61,
                                    "server_principal_id_d": 0,
                                    "database_principal_id_d": 5,
                                    "target_server_principal_id_d": 0,
                                    "target_database_principal_id_d": 0,
                                    "object_id_d": 5,
                                    "user_defined_event_id_d": 0,
                                    "transaction_id_d": 0,
                                    "class_type_s": "DB",
                                    "class_type_description_s": "DATABASE",
                                    "securable_class_type_s": "DATABASE",
                                    "duration_milliseconds_d": 1,
                                    "response_rows_d": 1,
                                    "affected_rows_d": 1,
                                    "client_ip_s": "131.107.174.142",
                                    "permission_bitmask_g": "00000000-0000-0000-0000-000000000000",
                                    "sequence_group_id_g": "9ccbde6d-7423-4e0a-bcea-ca6abbe44aa9",
                                    "session_server_principal_name_s": "adslivesite",
                                    "server_principal_name_s": "adslivesite",
                                    "server_principal_sid_s": "01060000000001640000000000000000cef04990da142347be1357149f87e7c1",
                                    "database_principal_name_s": "adslivesite",
                                    "target_server_principal_name_s": "",
                                    "target_server_principal_sid_s": "",
                                    "target_database_principal_name_s": "",
                                    "server_instance_name_s": "jukoesmasqldb",
                                    "database_name_s": "master",
                                    "schema_name_s": "",
                                    "object_name_s": "master",
                                    "statement_s": "SELECT SERVERPROPERTY('EngineEdition'), SERVERPROPERTY('productversion'), SERVERPROPERTY ('productlevel'), SERVERPROPERTY ('edition'), SERVERPROPERTY ('MachineName'), SERVERPROPERTY ('ServerName'), (SELECT CASE WHEN EXISTS (SELECT TOP 1 1 from [sys].[all_columns] WITH (NOLOCK) WHERE name = N'xml_index_type' AND OBJECT_ID(N'sys.xml_indexes') = object_id) THEN 1 ELSE 0 END AS SXI_PRESENT)",
                                    "additional_information_s": "",
                                    "user_defined_information_s": "",
                                    "application_name_s": "azdata-GeneralConnection",
                                    "connection_id_g": "3662a6c0-16da-4948-9ce5-743e7fabeec4",
                                    "data_sensitivity_information_s": "",
                                    "host_name_s": "MSSQLGIRL-01",
                                    "session_context_s": "",
                                    "is_server_level_audit_s": "true",
                                    "event_id_g": "5ec4a5aa-2bea-47ca-a5a4-f17d3cda43b1",
                                    "AdditionalFields": "None",
                                    "Type": "AzureDiagnostics"
                                },
                                {
                                    "TimeGenerated": "2021-01-31T17:14:20.326Z",
                                    "Category": "SQLSecurityAuditEvents",
                                    "ResourceProvider": "MICROSOFT.SQL",
                                    "Resource": "MASTER",
                                    "ResourceType": "SERVERS/DATABASES",
                                    "OperationName": "AuditEvent",
                                    "ResultType": "",
                                    "CorrelationId": "",
                                    "ResultDescription": "",
                                    "Tenant_g": "",
                                    "JobId_g": "",
                                    "RunbookName_s": "",
                                    "StreamType_s": "",
                                    "Caller_s": "",
                                    "requestUri_s": "",
                                    "Level": "",
                                    "DurationMs": null,
                                    "CallerIPAddress": "",
                                    "OperationVersion": "",
                                    "ResultSignature": "",
                                    "id_s": "",
                                    "status_s": "",
                                    "LogicalServerName_s": "jukoesmasqldb",
                                    "Message": "",
                                    "clientInfo_s": "",
                                    "httpStatusCode_d": null,
                                    "identity_claim_appid_g": "",
                                    "identity_claim_http_schemas_microsoft_com_identity_claims_objectidentifier_g": "",
                                    "userAgent_s": "",
                                    "ruleName_s": "",
                                    "identity_claim_http_schemas_xmlsoap_org_ws_2005_05_identity_claims_upn_s": "",
                                    "systemId_g": "",
                                    "isAccessPolicyMatch_b": null,
                                    "EventName_s": "",
                                    "httpMethod_s": "",
                                    "subnetId_s": "",
                                    "type_s": "",
                                    "instanceId_s": "",
                                    "macAddress_s": "",
                                    "vnetResourceGuid_g": "",
                                    "direction_s": "",
                                    "subnetPrefix_s": "",
                                    "primaryIPv4Address_s": "",
                                    "conditions_sourcePortRange_s": "",
                                    "priority_d": null,
                                    "conditions_destinationPortRange_s": "",
                                    "conditions_destinationIP_s": "",
                                    "conditions_None_s": "",
                                    "conditions_sourceIP_s": "",
                                    "httpVersion_s": "",
                                    "matchedConnections_d": null,
                                    "startTime_t": null,
                                    "endTime_t": null,
                                    "DatabaseName_s": "",
                                    "clientIP_s": "",
                                    "host_s": "",
                                    "requestQuery_s": "",
                                    "sslEnabled_s": "",
                                    "clientPort_d": null,
                                    "httpStatus_d": null,
                                    "receivedBytes_d": null,
                                    "sentBytes_d": null,
                                    "timeTaken_d": null,
                                    "resultDescription_ErrorJobs_s": "",
                                    "resultDescription_ChildJobs_s": "",
                                    "identity_claim_http_schemas_microsoft_com_identity_claims_scope_s": "",
                                    "workflowId_s": "",
                                    "resource_location_s": "",
                                    "resource_workflowId_g": "",
                                    "resource_resourceGroupName_s": "",
                                    "resource_subscriptionId_g": "",
                                    "resource_runId_s": "",
                                    "resource_workflowName_s": "",
                                    "_schema_s": "",
                                    "correlation_clientTrackingId_s": "",
                                    "properties_sku_Family_s": "",
                                    "properties_sku_Name_s": "",
                                    "properties_tenantId_g": "",
                                    "properties_enabledForDeployment_b": null,
                                    "code_s": "",
                                    "resultDescription_Summary_MachineId_s": "",
                                    "resultDescription_Summary_ScheduleName_s": "",
                                    "resultDescription_Summary_Status_s": "",
                                    "resultDescription_Summary_StatusDescription_s": "",
                                    "resultDescription_Summary_MachineName_s": "",
                                    "resultDescription_Summary_TotalUpdatesInstalled_d": null,
                                    "resultDescription_Summary_RebootRequired_b": null,
                                    "resultDescription_Summary_TotalUpdatesFailed_d": null,
                                    "resultDescription_Summary_InstallPercentage_d": null,
                                    "resultDescription_Summary_StartDateTimeUtc_t": null,
                                    "resource_triggerName_s": "",
                                    "resultDescription_Summary_InitialRequiredUpdatesCount_d": null,
                                    "properties_enabledForTemplateDeployment_b": null,
                                    "resultDescription_Summary_EndDateTimeUtc_s": "",
                                    "resultDescription_Summary_DurationInMinutes_s": "",
                                    "resource_originRunId_s": "",
                                    "properties_enabledForDiskEncryption_b": null,
                                    "resource_actionName_s": "",
                                    "correlation_actionTrackingId_g": "",
                                    "resultDescription_Summary_EndDateTimeUtc_t": null,
                                    "resultDescription_Summary_DurationInMinutes_d": null,
                                    "conditions_protocols_s": "",
                                    "identity_claim_ipaddr_s": "",
                                    "ElasticPoolName_s": "",
                                    "identity_claim_http_schemas_microsoft_com_claims_authnmethodsreferences_s": "",
                                    "RunOn_s": "",
                                    "query_hash_s": "",
                                    "SourceSystem": "Azure",
                                    "MG": "",
                                    "ManagementGroupName": "",
                                    "Computer": "",
                                    "RawData": "",
                                    "error_state_d": null,
                                    "deadlock_xml_s": "",
                                    "query_plan_hash_s": "",
                                    "error_number_d": null,
                                    "Severity": null,
                                    "user_defined_b": null,
                                    "state_d": null,
                                    "package_s": "SecAudit",
                                    "event_s": "audit_event_shoebox",
                                    "sessionName_s": "audit_session_for_shoebox",
                                    "originalEventTimestamp_t": "2021-01-31T17:14:20.322Z",
                                    "audit_schema_version_d": 1,
                                    "event_time_t": "2021-01-31T17:14:20.154Z",
                                    "sequence_number_d": 1,
                                    "action_id_s": "BCM ",
                                    "action_name_s": "BATCH COMPLETED",
                                    "succeeded_s": "true",
                                    "is_column_permission_s": "false",
                                    "session_id_d": 61,
                                    "server_principal_id_d": 0,
                                    "database_principal_id_d": 5,
                                    "target_server_principal_id_d": 0,
                                    "target_database_principal_id_d": 0,
                                    "object_id_d": 5,
                                    "user_defined_event_id_d": 0,
                                    "transaction_id_d": 0,
                                    "class_type_s": "DB",
                                    "class_type_description_s": "DATABASE",
                                    "securable_class_type_s": "DATABASE",
                                    "duration_milliseconds_d": 0,
                                    "response_rows_d": 1,
                                    "affected_rows_d": 1,
                                    "client_ip_s": "131.107.174.142",
                                    "permission_bitmask_g": "00000000-0000-0000-0000-000000000000",
                                    "sequence_group_id_g": "a12ef4f2-6268-44a8-9cf0-23b2b0b79bee",
                                    "session_server_principal_name_s": "adslivesite",
                                    "server_principal_name_s": "adslivesite",
                                    "server_principal_sid_s": "01060000000001640000000000000000cef04990da142347be1357149f87e7c1",
                                    "database_principal_name_s": "adslivesite",
                                    "target_server_principal_name_s": "",
                                    "target_server_principal_sid_s": "",
                                    "target_database_principal_name_s": "",
                                    "server_instance_name_s": "jukoesmasqldb",
                                    "database_name_s": "master",
                                    "schema_name_s": "",
                                    "object_name_s": "master",
                                    "statement_s": "SELECT ISNULL(SESSIONPROPERTY ('ANSI_NULLS'), 0), ISNULL(SESSIONPROPERTY ('QUOTED_IDENTIFIER'), 1)",
                                    "additional_information_s": "",
                                    "user_defined_information_s": "",
                                    "application_name_s": "azdata-GeneralConnection",
                                    "connection_id_g": "3662a6c0-16da-4948-9ce5-743e7fabeec4",
                                    "data_sensitivity_information_s": "",
                                    "host_name_s": "MSSQLGIRL-01",
                                    "session_context_s": "",
                                    "is_server_level_audit_s": "true",
                                    "event_id_g": "9ab63513-2564-418b-9ff2-c7fed837a7e3",
                                    "AdditionalFields": "None",
                                    "Type": "AzureDiagnostics"
                                },
                                {
                                    "TimeGenerated": "2021-01-31T17:14:21.326Z",
                                    "Category": "SQLSecurityAuditEvents",
                                    "ResourceProvider": "MICROSOFT.SQL",
                                    "Resource": "MASTER",
                                    "ResourceType": "SERVERS/DATABASES",
                                    "OperationName": "AuditEvent",
                                    "ResultType": "",
                                    "CorrelationId": "",
                                    "ResultDescription": "",
                                    "Tenant_g": "",
                                    "JobId_g": "",
                                    "RunbookName_s": "",
                                    "StreamType_s": "",
                                    "Caller_s": "",
                                    "requestUri_s": "",
                                    "Level": "",
                                    "DurationMs": null,
                                    "CallerIPAddress": "",
                                    "OperationVersion": "",
                                    "ResultSignature": "",
                                    "id_s": "",
                                    "status_s": "",
                                    "LogicalServerName_s": "jukoesmasqldb",
                                    "Message": "",
                                    "clientInfo_s": "",
                                    "httpStatusCode_d": null,
                                    "identity_claim_appid_g": "",
                                    "identity_claim_http_schemas_microsoft_com_identity_claims_objectidentifier_g": "",
                                    "userAgent_s": "",
                                    "ruleName_s": "",
                                    "identity_claim_http_schemas_xmlsoap_org_ws_2005_05_identity_claims_upn_s": "",
                                    "systemId_g": "",
                                    "isAccessPolicyMatch_b": null,
                                    "EventName_s": "",
                                    "httpMethod_s": "",
                                    "subnetId_s": "",
                                    "type_s": "",
                                    "instanceId_s": "",
                                    "macAddress_s": "",
                                    "vnetResourceGuid_g": "",
                                    "direction_s": "",
                                    "subnetPrefix_s": "",
                                    "primaryIPv4Address_s": "",
                                    "conditions_sourcePortRange_s": "",
                                    "priority_d": null,
                                    "conditions_destinationPortRange_s": "",
                                    "conditions_destinationIP_s": "",
                                    "conditions_None_s": "",
                                    "conditions_sourceIP_s": "",
                                    "httpVersion_s": "",
                                    "matchedConnections_d": null,
                                    "startTime_t": null,
                                    "endTime_t": null,
                                    "DatabaseName_s": "",
                                    "clientIP_s": "",
                                    "host_s": "",
                                    "requestQuery_s": "",
                                    "sslEnabled_s": "",
                                    "clientPort_d": null,
                                    "httpStatus_d": null,
                                    "receivedBytes_d": null,
                                    "sentBytes_d": null,
                                    "timeTaken_d": null,
                                    "resultDescription_ErrorJobs_s": "",
                                    "resultDescription_ChildJobs_s": "",
                                    "identity_claim_http_schemas_microsoft_com_identity_claims_scope_s": "",
                                    "workflowId_s": "",
                                    "resource_location_s": "",
                                    "resource_workflowId_g": "",
                                    "resource_resourceGroupName_s": "",
                                    "resource_subscriptionId_g": "",
                                    "resource_runId_s": "",
                                    "resource_workflowName_s": "",
                                    "_schema_s": "",
                                    "correlation_clientTrackingId_s": "",
                                    "properties_sku_Family_s": "",
                                    "properties_sku_Name_s": "",
                                    "properties_tenantId_g": "",
                                    "properties_enabledForDeployment_b": null,
                                    "code_s": "",
                                    "resultDescription_Summary_MachineId_s": "",
                                    "resultDescription_Summary_ScheduleName_s": "",
                                    "resultDescription_Summary_Status_s": "",
                                    "resultDescription_Summary_StatusDescription_s": "",
                                    "resultDescription_Summary_MachineName_s": "",
                                    "resultDescription_Summary_TotalUpdatesInstalled_d": null,
                                    "resultDescription_Summary_RebootRequired_b": null,
                                    "resultDescription_Summary_TotalUpdatesFailed_d": null,
                                    "resultDescription_Summary_InstallPercentage_d": null,
                                    "resultDescription_Summary_StartDateTimeUtc_t": null,
                                    "resource_triggerName_s": "",
                                    "resultDescription_Summary_InitialRequiredUpdatesCount_d": null,
                                    "properties_enabledForTemplateDeployment_b": null,
                                    "resultDescription_Summary_EndDateTimeUtc_s": "",
                                    "resultDescription_Summary_DurationInMinutes_s": "",
                                    "resource_originRunId_s": "",
                                    "properties_enabledForDiskEncryption_b": null,
                                    "resource_actionName_s": "",
                                    "correlation_actionTrackingId_g": "",
                                    "resultDescription_Summary_EndDateTimeUtc_t": null,
                                    "resultDescription_Summary_DurationInMinutes_d": null,
                                    "conditions_protocols_s": "",
                                    "identity_claim_ipaddr_s": "",
                                    "ElasticPoolName_s": "",
                                    "identity_claim_http_schemas_microsoft_com_claims_authnmethodsreferences_s": "",
                                    "RunOn_s": "",
                                    "query_hash_s": "",
                                    "SourceSystem": "Azure",
                                    "MG": "",
                                    "ManagementGroupName": "",
                                    "Computer": "",
                                    "RawData": "",
                                    "error_state_d": null,
                                    "deadlock_xml_s": "",
                                    "query_plan_hash_s": "",
                                    "error_number_d": null,
                                    "Severity": null,
                                    "user_defined_b": null,
                                    "state_d": null,
                                    "package_s": "SecAudit",
                                    "event_s": "audit_event_shoebox",
                                    "sessionName_s": "audit_session_for_shoebox",
                                    "originalEventTimestamp_t": "2021-01-31T17:14:21.320Z",
                                    "audit_schema_version_d": 1,
                                    "event_time_t": "2021-01-31T17:14:20.561Z",
                                    "sequence_number_d": 1,
                                    "action_id_s": "BCM ",
                                    "action_name_s": "BATCH COMPLETED",
                                    "succeeded_s": "true",
                                    "is_column_permission_s": "false",
                                    "session_id_d": 61,
                                    "server_principal_id_d": 0,
                                    "database_principal_id_d": 5,
                                    "target_server_principal_id_d": 0,
                                    "target_database_principal_id_d": 0,
                                    "object_id_d": 5,
                                    "user_defined_event_id_d": 0,
                                    "transaction_id_d": 0,
                                    "class_type_s": "DB",
                                    "class_type_description_s": "DATABASE",
                                    "securable_class_type_s": "DATABASE",
                                    "duration_milliseconds_d": 0,
                                    "response_rows_d": 1,
                                    "affected_rows_d": 1,
                                    "client_ip_s": "131.107.174.142",
                                    "permission_bitmask_g": "00000000-0000-0000-0000-000000000000",
                                    "sequence_group_id_g": "0f4a9b7e-5351-41c4-9ca0-89f6fd94f101",
                                    "session_server_principal_name_s": "adslivesite",
                                    "server_principal_name_s": "adslivesite",
                                    "server_principal_sid_s": "01060000000001640000000000000000cef04990da142347be1357149f87e7c1",
                                    "database_principal_name_s": "adslivesite",
                                    "target_server_principal_name_s": "",
                                    "target_server_principal_sid_s": "",
                                    "target_database_principal_name_s": "",
                                    "server_instance_name_s": "jukoesmasqldb",
                                    "database_name_s": "master",
                                    "schema_name_s": "",
                                    "object_name_s": "master",
                                    "statement_s": "SELECT CONVERT(NVARCHAR(36), CONTEXT_INFO())",
                                    "additional_information_s": "",
                                    "user_defined_information_s": "",
                                    "application_name_s": "azdata-GeneralConnection",
                                    "connection_id_g": "3662a6c0-16da-4948-9ce5-743e7fabeec4",
                                    "data_sensitivity_information_s": "",
                                    "host_name_s": "MSSQLGIRL-01",
                                    "session_context_s": "",
                                    "is_server_level_audit_s": "true",
                                    "event_id_g": "f7fda07f-4a2f-4509-afff-5e2062761c2c",
                                    "AdditionalFields": "None",
                                    "Type": "AzureDiagnostics"
                                },
                                {
                                    "TimeGenerated": "2021-01-31T17:14:21.326Z",
                                    "Category": "SQLSecurityAuditEvents",
                                    "ResourceProvider": "MICROSOFT.SQL",
                                    "Resource": "MASTER",
                                    "ResourceType": "SERVERS/DATABASES",
                                    "OperationName": "AuditEvent",
                                    "ResultType": "",
                                    "CorrelationId": "",
                                    "ResultDescription": "",
                                    "Tenant_g": "",
                                    "JobId_g": "",
                                    "RunbookName_s": "",
                                    "StreamType_s": "",
                                    "Caller_s": "",
                                    "requestUri_s": "",
                                    "Level": "",
                                    "DurationMs": null,
                                    "CallerIPAddress": "",
                                    "OperationVersion": "",
                                    "ResultSignature": "",
                                    "id_s": "",
                                    "status_s": "",
                                    "LogicalServerName_s": "jukoesmasqldb",
                                    "Message": "",
                                    "clientInfo_s": "",
                                    "httpStatusCode_d": null,
                                    "identity_claim_appid_g": "",
                                    "identity_claim_http_schemas_microsoft_com_identity_claims_objectidentifier_g": "",
                                    "userAgent_s": "",
                                    "ruleName_s": "",
                                    "identity_claim_http_schemas_xmlsoap_org_ws_2005_05_identity_claims_upn_s": "",
                                    "systemId_g": "",
                                    "isAccessPolicyMatch_b": null,
                                    "EventName_s": "",
                                    "httpMethod_s": "",
                                    "subnetId_s": "",
                                    "type_s": "",
                                    "instanceId_s": "",
                                    "macAddress_s": "",
                                    "vnetResourceGuid_g": "",
                                    "direction_s": "",
                                    "subnetPrefix_s": "",
                                    "primaryIPv4Address_s": "",
                                    "conditions_sourcePortRange_s": "",
                                    "priority_d": null,
                                    "conditions_destinationPortRange_s": "",
                                    "conditions_destinationIP_s": "",
                                    "conditions_None_s": "",
                                    "conditions_sourceIP_s": "",
                                    "httpVersion_s": "",
                                    "matchedConnections_d": null,
                                    "startTime_t": null,
                                    "endTime_t": null,
                                    "DatabaseName_s": "",
                                    "clientIP_s": "",
                                    "host_s": "",
                                    "requestQuery_s": "",
                                    "sslEnabled_s": "",
                                    "clientPort_d": null,
                                    "httpStatus_d": null,
                                    "receivedBytes_d": null,
                                    "sentBytes_d": null,
                                    "timeTaken_d": null,
                                    "resultDescription_ErrorJobs_s": "",
                                    "resultDescription_ChildJobs_s": "",
                                    "identity_claim_http_schemas_microsoft_com_identity_claims_scope_s": "",
                                    "workflowId_s": "",
                                    "resource_location_s": "",
                                    "resource_workflowId_g": "",
                                    "resource_resourceGroupName_s": "",
                                    "resource_subscriptionId_g": "",
                                    "resource_runId_s": "",
                                    "resource_workflowName_s": "",
                                    "_schema_s": "",
                                    "correlation_clientTrackingId_s": "",
                                    "properties_sku_Family_s": "",
                                    "properties_sku_Name_s": "",
                                    "properties_tenantId_g": "",
                                    "properties_enabledForDeployment_b": null,
                                    "code_s": "",
                                    "resultDescription_Summary_MachineId_s": "",
                                    "resultDescription_Summary_ScheduleName_s": "",
                                    "resultDescription_Summary_Status_s": "",
                                    "resultDescription_Summary_StatusDescription_s": "",
                                    "resultDescription_Summary_MachineName_s": "",
                                    "resultDescription_Summary_TotalUpdatesInstalled_d": null,
                                    "resultDescription_Summary_RebootRequired_b": null,
                                    "resultDescription_Summary_TotalUpdatesFailed_d": null,
                                    "resultDescription_Summary_InstallPercentage_d": null,
                                    "resultDescription_Summary_StartDateTimeUtc_t": null,
                                    "resource_triggerName_s": "",
                                    "resultDescription_Summary_InitialRequiredUpdatesCount_d": null,
                                    "properties_enabledForTemplateDeployment_b": null,
                                    "resultDescription_Summary_EndDateTimeUtc_s": "",
                                    "resultDescription_Summary_DurationInMinutes_s": "",
                                    "resource_originRunId_s": "",
                                    "properties_enabledForDiskEncryption_b": null,
                                    "resource_actionName_s": "",
                                    "correlation_actionTrackingId_g": "",
                                    "resultDescription_Summary_EndDateTimeUtc_t": null,
                                    "resultDescription_Summary_DurationInMinutes_d": null,
                                    "conditions_protocols_s": "",
                                    "identity_claim_ipaddr_s": "",
                                    "ElasticPoolName_s": "",
                                    "identity_claim_http_schemas_microsoft_com_claims_authnmethodsreferences_s": "",
                                    "RunOn_s": "",
                                    "query_hash_s": "",
                                    "SourceSystem": "Azure",
                                    "MG": "",
                                    "ManagementGroupName": "",
                                    "Computer": "",
                                    "RawData": "",
                                    "error_state_d": null,
                                    "deadlock_xml_s": "",
                                    "query_plan_hash_s": "",
                                    "error_number_d": null,
                                    "Severity": null,
                                    "user_defined_b": null,
                                    "state_d": null,
                                    "package_s": "SecAudit",
                                    "event_s": "audit_event_shoebox",
                                    "sessionName_s": "audit_session_for_shoebox",
                                    "originalEventTimestamp_t": "2021-01-31T17:14:21.320Z",
                                    "audit_schema_version_d": 1,
                                    "event_time_t": "2021-01-31T17:14:21.170Z",
                                    "sequence_number_d": 1,
                                    "action_id_s": "BCM ",
                                    "action_name_s": "BATCH COMPLETED",
                                    "succeeded_s": "true",
                                    "is_column_permission_s": "false",
                                    "session_id_d": 61,
                                    "server_principal_id_d": 0,
                                    "database_principal_id_d": 5,
                                    "target_server_principal_id_d": 0,
                                    "target_database_principal_id_d": 0,
                                    "object_id_d": 5,
                                    "user_defined_event_id_d": 0,
                                    "transaction_id_d": 0,
                                    "class_type_s": "DB",
                                    "class_type_description_s": "DATABASE",
                                    "securable_class_type_s": "DATABASE",
                                    "duration_milliseconds_d": 0,
                                    "response_rows_d": 1,
                                    "affected_rows_d": 1,
                                    "client_ip_s": "131.107.174.142",
                                    "permission_bitmask_g": "00000000-0000-0000-0000-000000000000",
                                    "sequence_group_id_g": "13bcac03-040f-4cc5-9a34-db7ce3cefa9b",
                                    "session_server_principal_name_s": "adslivesite",
                                    "server_principal_name_s": "adslivesite",
                                    "server_principal_sid_s": "01060000000001640000000000000000cef04990da142347be1357149f87e7c1",
                                    "database_principal_name_s": "adslivesite",
                                    "target_server_principal_name_s": "",
                                    "target_server_principal_sid_s": "",
                                    "target_database_principal_name_s": "",
                                    "server_instance_name_s": "jukoesmasqldb",
                                    "database_name_s": "master",
                                    "schema_name_s": "",
                                    "object_name_s": "master",
                                    "statement_s": "SELECT ISNULL(SESSIONPROPERTY ('ANSI_NULLS'), 0), ISNULL(SESSIONPROPERTY ('QUOTED_IDENTIFIER'), 1)",
                                    "additional_information_s": "",
                                    "user_defined_information_s": "",
                                    "application_name_s": "azdata-GeneralConnection",
                                    "connection_id_g": "3662a6c0-16da-4948-9ce5-743e7fabeec4",
                                    "data_sensitivity_information_s": "",
                                    "host_name_s": "MSSQLGIRL-01",
                                    "session_context_s": "",
                                    "is_server_level_audit_s": "true",
                                    "event_id_g": "ff25e791-7b44-4dbf-8289-90e9e6fe351f",
                                    "AdditionalFields": "None",
                                    "Type": "AzureDiagnostics"
                                },
                                {
                                    "TimeGenerated": "2021-01-31T17:14:25.327Z",
                                    "Category": "SQLSecurityAuditEvents",
                                    "ResourceProvider": "MICROSOFT.SQL",
                                    "Resource": "MASTER",
                                    "ResourceType": "SERVERS/DATABASES",
                                    "OperationName": "AuditEvent",
                                    "ResultType": "",
                                    "CorrelationId": "",
                                    "ResultDescription": "",
                                    "Tenant_g": "",
                                    "JobId_g": "",
                                    "RunbookName_s": "",
                                    "StreamType_s": "",
                                    "Caller_s": "",
                                    "requestUri_s": "",
                                    "Level": "",
                                    "DurationMs": null,
                                    "CallerIPAddress": "",
                                    "OperationVersion": "",
                                    "ResultSignature": "",
                                    "id_s": "",
                                    "status_s": "",
                                    "LogicalServerName_s": "jukoesmasqldb",
                                    "Message": "",
                                    "clientInfo_s": "",
                                    "httpStatusCode_d": null,
                                    "identity_claim_appid_g": "",
                                    "identity_claim_http_schemas_microsoft_com_identity_claims_objectidentifier_g": "",
                                    "userAgent_s": "",
                                    "ruleName_s": "",
                                    "identity_claim_http_schemas_xmlsoap_org_ws_2005_05_identity_claims_upn_s": "",
                                    "systemId_g": "",
                                    "isAccessPolicyMatch_b": null,
                                    "EventName_s": "",
                                    "httpMethod_s": "",
                                    "subnetId_s": "",
                                    "type_s": "",
                                    "instanceId_s": "",
                                    "macAddress_s": "",
                                    "vnetResourceGuid_g": "",
                                    "direction_s": "",
                                    "subnetPrefix_s": "",
                                    "primaryIPv4Address_s": "",
                                    "conditions_sourcePortRange_s": "",
                                    "priority_d": null,
                                    "conditions_destinationPortRange_s": "",
                                    "conditions_destinationIP_s": "",
                                    "conditions_None_s": "",
                                    "conditions_sourceIP_s": "",
                                    "httpVersion_s": "",
                                    "matchedConnections_d": null,
                                    "startTime_t": null,
                                    "endTime_t": null,
                                    "DatabaseName_s": "",
                                    "clientIP_s": "",
                                    "host_s": "",
                                    "requestQuery_s": "",
                                    "sslEnabled_s": "",
                                    "clientPort_d": null,
                                    "httpStatus_d": null,
                                    "receivedBytes_d": null,
                                    "sentBytes_d": null,
                                    "timeTaken_d": null,
                                    "resultDescription_ErrorJobs_s": "",
                                    "resultDescription_ChildJobs_s": "",
                                    "identity_claim_http_schemas_microsoft_com_identity_claims_scope_s": "",
                                    "workflowId_s": "",
                                    "resource_location_s": "",
                                    "resource_workflowId_g": "",
                                    "resource_resourceGroupName_s": "",
                                    "resource_subscriptionId_g": "",
                                    "resource_runId_s": "",
                                    "resource_workflowName_s": "",
                                    "_schema_s": "",
                                    "correlation_clientTrackingId_s": "",
                                    "properties_sku_Family_s": "",
                                    "properties_sku_Name_s": "",
                                    "properties_tenantId_g": "",
                                    "properties_enabledForDeployment_b": null,
                                    "code_s": "",
                                    "resultDescription_Summary_MachineId_s": "",
                                    "resultDescription_Summary_ScheduleName_s": "",
                                    "resultDescription_Summary_Status_s": "",
                                    "resultDescription_Summary_StatusDescription_s": "",
                                    "resultDescription_Summary_MachineName_s": "",
                                    "resultDescription_Summary_TotalUpdatesInstalled_d": null,
                                    "resultDescription_Summary_RebootRequired_b": null,
                                    "resultDescription_Summary_TotalUpdatesFailed_d": null,
                                    "resultDescription_Summary_InstallPercentage_d": null,
                                    "resultDescription_Summary_StartDateTimeUtc_t": null,
                                    "resource_triggerName_s": "",
                                    "resultDescription_Summary_InitialRequiredUpdatesCount_d": null,
                                    "properties_enabledForTemplateDeployment_b": null,
                                    "resultDescription_Summary_EndDateTimeUtc_s": "",
                                    "resultDescription_Summary_DurationInMinutes_s": "",
                                    "resource_originRunId_s": "",
                                    "properties_enabledForDiskEncryption_b": null,
                                    "resource_actionName_s": "",
                                    "correlation_actionTrackingId_g": "",
                                    "resultDescription_Summary_EndDateTimeUtc_t": null,
                                    "resultDescription_Summary_DurationInMinutes_d": null,
                                    "conditions_protocols_s": "",
                                    "identity_claim_ipaddr_s": "",
                                    "ElasticPoolName_s": "",
                                    "identity_claim_http_schemas_microsoft_com_claims_authnmethodsreferences_s": "",
                                    "RunOn_s": "",
                                    "query_hash_s": "",
                                    "SourceSystem": "Azure",
                                    "MG": "",
                                    "ManagementGroupName": "",
                                    "Computer": "",
                                    "RawData": "",
                                    "error_state_d": null,
                                    "deadlock_xml_s": "",
                                    "query_plan_hash_s": "",
                                    "error_number_d": null,
                                    "Severity": null,
                                    "user_defined_b": null,
                                    "state_d": null,
                                    "package_s": "SecAudit",
                                    "event_s": "audit_event_shoebox",
                                    "sessionName_s": "audit_session_for_shoebox",
                                    "originalEventTimestamp_t": "2021-01-31T17:14:25.315Z",
                                    "audit_schema_version_d": 1,
                                    "event_time_t": "2021-01-31T17:14:25.061Z",
                                    "sequence_number_d": 1,
                                    "action_id_s": "BCM ",
                                    "action_name_s": "BATCH COMPLETED",
                                    "succeeded_s": "true",
                                    "is_column_permission_s": "false",
                                    "session_id_d": 61,
                                    "server_principal_id_d": 0,
                                    "database_principal_id_d": 5,
                                    "target_server_principal_id_d": 0,
                                    "target_database_principal_id_d": 0,
                                    "object_id_d": 5,
                                    "user_defined_event_id_d": 0,
                                    "transaction_id_d": 0,
                                    "class_type_s": "DB",
                                    "class_type_description_s": "DATABASE",
                                    "securable_class_type_s": "DATABASE",
                                    "duration_milliseconds_d": 0,
                                    "response_rows_d": 1,
                                    "affected_rows_d": 1,
                                    "client_ip_s": "131.107.174.142",
                                    "permission_bitmask_g": "00000000-0000-0000-0000-000000000000",
                                    "sequence_group_id_g": "288dd012-0f63-422f-b178-c1b9c46b18ca",
                                    "session_server_principal_name_s": "adslivesite",
                                    "server_principal_name_s": "adslivesite",
                                    "server_principal_sid_s": "01060000000001640000000000000000cef04990da142347be1357149f87e7c1",
                                    "database_principal_name_s": "adslivesite",
                                    "target_server_principal_name_s": "",
                                    "target_server_principal_sid_s": "",
                                    "target_database_principal_name_s": "",
                                    "server_instance_name_s": "jukoesmasqldb",
                                    "database_name_s": "master",
                                    "schema_name_s": "",
                                    "object_name_s": "master",
                                    "statement_s": "SELECT CONVERT(NVARCHAR(36), CONTEXT_INFO())",
                                    "additional_information_s": "",
                                    "user_defined_information_s": "",
                                    "application_name_s": "azdata-GeneralConnection",
                                    "connection_id_g": "3662a6c0-16da-4948-9ce5-743e7fabeec4",
                                    "data_sensitivity_information_s": "",
                                    "host_name_s": "MSSQLGIRL-01",
                                    "session_context_s": "",
                                    "is_server_level_audit_s": "true",
                                    "event_id_g": "4a8600ef-ee42-4197-80cc-6b4824da1043",
                                    "AdditionalFields": "None",
                                    "Type": "AzureDiagnostics"
                                },
                                {
                                    "TimeGenerated": "2021-01-31T17:14:25.327Z",
                                    "Category": "SQLSecurityAuditEvents",
                                    "ResourceProvider": "MICROSOFT.SQL",
                                    "Resource": "MASTER",
                                    "ResourceType": "SERVERS/DATABASES",
                                    "OperationName": "AuditEvent",
                                    "ResultType": "",
                                    "CorrelationId": "",
                                    "ResultDescription": "",
                                    "Tenant_g": "",
                                    "JobId_g": "",
                                    "RunbookName_s": "",
                                    "StreamType_s": "",
                                    "Caller_s": "",
                                    "requestUri_s": "",
                                    "Level": "",
                                    "DurationMs": null,
                                    "CallerIPAddress": "",
                                    "OperationVersion": "",
                                    "ResultSignature": "",
                                    "id_s": "",
                                    "status_s": "",
                                    "LogicalServerName_s": "jukoesmasqldb",
                                    "Message": "",
                                    "clientInfo_s": "",
                                    "httpStatusCode_d": null,
                                    "identity_claim_appid_g": "",
                                    "identity_claim_http_schemas_microsoft_com_identity_claims_objectidentifier_g": "",
                                    "userAgent_s": "",
                                    "ruleName_s": "",
                                    "identity_claim_http_schemas_xmlsoap_org_ws_2005_05_identity_claims_upn_s": "",
                                    "systemId_g": "",
                                    "isAccessPolicyMatch_b": null,
                                    "EventName_s": "",
                                    "httpMethod_s": "",
                                    "subnetId_s": "",
                                    "type_s": "",
                                    "instanceId_s": "",
                                    "macAddress_s": "",
                                    "vnetResourceGuid_g": "",
                                    "direction_s": "",
                                    "subnetPrefix_s": "",
                                    "primaryIPv4Address_s": "",
                                    "conditions_sourcePortRange_s": "",
                                    "priority_d": null,
                                    "conditions_destinationPortRange_s": "",
                                    "conditions_destinationIP_s": "",
                                    "conditions_None_s": "",
                                    "conditions_sourceIP_s": "",
                                    "httpVersion_s": "",
                                    "matchedConnections_d": null,
                                    "startTime_t": null,
                                    "endTime_t": null,
                                    "DatabaseName_s": "",
                                    "clientIP_s": "",
                                    "host_s": "",
                                    "requestQuery_s": "",
                                    "sslEnabled_s": "",
                                    "clientPort_d": null,
                                    "httpStatus_d": null,
                                    "receivedBytes_d": null,
                                    "sentBytes_d": null,
                                    "timeTaken_d": null,
                                    "resultDescription_ErrorJobs_s": "",
                                    "resultDescription_ChildJobs_s": "",
                                    "identity_claim_http_schemas_microsoft_com_identity_claims_scope_s": "",
                                    "workflowId_s": "",
                                    "resource_location_s": "",
                                    "resource_workflowId_g": "",
                                    "resource_resourceGroupName_s": "",
                                    "resource_subscriptionId_g": "",
                                    "resource_runId_s": "",
                                    "resource_workflowName_s": "",
                                    "_schema_s": "",
                                    "correlation_clientTrackingId_s": "",
                                    "properties_sku_Family_s": "",
                                    "properties_sku_Name_s": "",
                                    "properties_tenantId_g": "",
                                    "properties_enabledForDeployment_b": null,
                                    "code_s": "",
                                    "resultDescription_Summary_MachineId_s": "",
                                    "resultDescription_Summary_ScheduleName_s": "",
                                    "resultDescription_Summary_Status_s": "",
                                    "resultDescription_Summary_StatusDescription_s": "",
                                    "resultDescription_Summary_MachineName_s": "",
                                    "resultDescription_Summary_TotalUpdatesInstalled_d": null,
                                    "resultDescription_Summary_RebootRequired_b": null,
                                    "resultDescription_Summary_TotalUpdatesFailed_d": null,
                                    "resultDescription_Summary_InstallPercentage_d": null,
                                    "resultDescription_Summary_StartDateTimeUtc_t": null,
                                    "resource_triggerName_s": "",
                                    "resultDescription_Summary_InitialRequiredUpdatesCount_d": null,
                                    "properties_enabledForTemplateDeployment_b": null,
                                    "resultDescription_Summary_EndDateTimeUtc_s": "",
                                    "resultDescription_Summary_DurationInMinutes_s": "",
                                    "resource_originRunId_s": "",
                                    "properties_enabledForDiskEncryption_b": null,
                                    "resource_actionName_s": "",
                                    "correlation_actionTrackingId_g": "",
                                    "resultDescription_Summary_EndDateTimeUtc_t": null,
                                    "resultDescription_Summary_DurationInMinutes_d": null,
                                    "conditions_protocols_s": "",
                                    "identity_claim_ipaddr_s": "",
                                    "ElasticPoolName_s": "",
                                    "identity_claim_http_schemas_microsoft_com_claims_authnmethodsreferences_s": "",
                                    "RunOn_s": "",
                                    "query_hash_s": "",
                                    "SourceSystem": "Azure",
                                    "MG": "",
                                    "ManagementGroupName": "",
                                    "Computer": "",
                                    "RawData": "",
                                    "error_state_d": null,
                                    "deadlock_xml_s": "",
                                    "query_plan_hash_s": "",
                                    "error_number_d": null,
                                    "Severity": null,
                                    "user_defined_b": null,
                                    "state_d": null,
                                    "package_s": "SecAudit",
                                    "event_s": "audit_event_shoebox",
                                    "sessionName_s": "audit_session_for_shoebox",
                                    "originalEventTimestamp_t": "2021-01-31T17:14:25.315Z",
                                    "audit_schema_version_d": 1,
                                    "event_time_t": "2021-01-31T17:14:25.170Z",
                                    "sequence_number_d": 1,
                                    "action_id_s": "BCM ",
                                    "action_name_s": "BATCH COMPLETED",
                                    "succeeded_s": "true",
                                    "is_column_permission_s": "false",
                                    "session_id_d": 61,
                                    "server_principal_id_d": 0,
                                    "database_principal_id_d": 5,
                                    "target_server_principal_id_d": 0,
                                    "target_database_principal_id_d": 0,
                                    "object_id_d": 5,
                                    "user_defined_event_id_d": 0,
                                    "transaction_id_d": 0,
                                    "class_type_s": "DB",
                                    "class_type_description_s": "DATABASE",
                                    "securable_class_type_s": "DATABASE",
                                    "duration_milliseconds_d": 0,
                                    "response_rows_d": 0,
                                    "affected_rows_d": 0,
                                    "client_ip_s": "131.107.174.142",
                                    "permission_bitmask_g": "00000000-0000-0000-0000-000000000000",
                                    "sequence_group_id_g": "9f4665c9-7a38-448e-99fc-93fa7abe51d0",
                                    "session_server_principal_name_s": "adslivesite",
                                    "server_principal_name_s": "adslivesite",
                                    "server_principal_sid_s": "01060000000001640000000000000000cef04990da142347be1357149f87e7c1",
                                    "database_principal_name_s": "adslivesite",
                                    "target_server_principal_name_s": "",
                                    "target_server_principal_sid_s": "",
                                    "target_database_principal_name_s": "",
                                    "server_instance_name_s": "jukoesmasqldb",
                                    "database_name_s": "master",
                                    "schema_name_s": "",
                                    "object_name_s": "master",
                                    "statement_s": "set LOCK_TIMEOUT 5000",
                                    "additional_information_s": "",
                                    "user_defined_information_s": "",
                                    "application_name_s": "azdata-GeneralConnection",
                                    "connection_id_g": "3662a6c0-16da-4948-9ce5-743e7fabeec4",
                                    "data_sensitivity_information_s": "",
                                    "host_name_s": "MSSQLGIRL-01",
                                    "session_context_s": "",
                                    "is_server_level_audit_s": "true",
                                    "event_id_g": "59dac3f7-2033-4b04-9851-d7fd19afeb1a",
                                    "AdditionalFields": "None",
                                    "Type": "AzureDiagnostics"
                                },
                                {
                                    "TimeGenerated": "2021-01-31T17:14:26.327Z",
                                    "Category": "SQLSecurityAuditEvents",
                                    "ResourceProvider": "MICROSOFT.SQL",
                                    "Resource": "MASTER",
                                    "ResourceType": "SERVERS/DATABASES",
                                    "OperationName": "AuditEvent",
                                    "ResultType": "",
                                    "CorrelationId": "",
                                    "ResultDescription": "",
                                    "Tenant_g": "",
                                    "JobId_g": "",
                                    "RunbookName_s": "",
                                    "StreamType_s": "",
                                    "Caller_s": "",
                                    "requestUri_s": "",
                                    "Level": "",
                                    "DurationMs": null,
                                    "CallerIPAddress": "",
                                    "OperationVersion": "",
                                    "ResultSignature": "",
                                    "id_s": "",
                                    "status_s": "",
                                    "LogicalServerName_s": "jukoesmasqldb",
                                    "Message": "",
                                    "clientInfo_s": "",
                                    "httpStatusCode_d": null,
                                    "identity_claim_appid_g": "",
                                    "identity_claim_http_schemas_microsoft_com_identity_claims_objectidentifier_g": "",
                                    "userAgent_s": "",
                                    "ruleName_s": "",
                                    "identity_claim_http_schemas_xmlsoap_org_ws_2005_05_identity_claims_upn_s": "",
                                    "systemId_g": "",
                                    "isAccessPolicyMatch_b": null,
                                    "EventName_s": "",
                                    "httpMethod_s": "",
                                    "subnetId_s": "",
                                    "type_s": "",
                                    "instanceId_s": "",
                                    "macAddress_s": "",
                                    "vnetResourceGuid_g": "",
                                    "direction_s": "",
                                    "subnetPrefix_s": "",
                                    "primaryIPv4Address_s": "",
                                    "conditions_sourcePortRange_s": "",
                                    "priority_d": null,
                                    "conditions_destinationPortRange_s": "",
                                    "conditions_destinationIP_s": "",
                                    "conditions_None_s": "",
                                    "conditions_sourceIP_s": "",
                                    "httpVersion_s": "",
                                    "matchedConnections_d": null,
                                    "startTime_t": null,
                                    "endTime_t": null,
                                    "DatabaseName_s": "",
                                    "clientIP_s": "",
                                    "host_s": "",
                                    "requestQuery_s": "",
                                    "sslEnabled_s": "",
                                    "clientPort_d": null,
                                    "httpStatus_d": null,
                                    "receivedBytes_d": null,
                                    "sentBytes_d": null,
                                    "timeTaken_d": null,
                                    "resultDescription_ErrorJobs_s": "",
                                    "resultDescription_ChildJobs_s": "",
                                    "identity_claim_http_schemas_microsoft_com_identity_claims_scope_s": "",
                                    "workflowId_s": "",
                                    "resource_location_s": "",
                                    "resource_workflowId_g": "",
                                    "resource_resourceGroupName_s": "",
                                    "resource_subscriptionId_g": "",
                                    "resource_runId_s": "",
                                    "resource_workflowName_s": "",
                                    "_schema_s": "",
                                    "correlation_clientTrackingId_s": "",
                                    "properties_sku_Family_s": "",
                                    "properties_sku_Name_s": "",
                                    "properties_tenantId_g": "",
                                    "properties_enabledForDeployment_b": null,
                                    "code_s": "",
                                    "resultDescription_Summary_MachineId_s": "",
                                    "resultDescription_Summary_ScheduleName_s": "",
                                    "resultDescription_Summary_Status_s": "",
                                    "resultDescription_Summary_StatusDescription_s": "",
                                    "resultDescription_Summary_MachineName_s": "",
                                    "resultDescription_Summary_TotalUpdatesInstalled_d": null,
                                    "resultDescription_Summary_RebootRequired_b": null,
                                    "resultDescription_Summary_TotalUpdatesFailed_d": null,
                                    "resultDescription_Summary_InstallPercentage_d": null,
                                    "resultDescription_Summary_StartDateTimeUtc_t": null,
                                    "resource_triggerName_s": "",
                                    "resultDescription_Summary_InitialRequiredUpdatesCount_d": null,
                                    "properties_enabledForTemplateDeployment_b": null,
                                    "resultDescription_Summary_EndDateTimeUtc_s": "",
                                    "resultDescription_Summary_DurationInMinutes_s": "",
                                    "resource_originRunId_s": "",
                                    "properties_enabledForDiskEncryption_b": null,
                                    "resource_actionName_s": "",
                                    "correlation_actionTrackingId_g": "",
                                    "resultDescription_Summary_EndDateTimeUtc_t": null,
                                    "resultDescription_Summary_DurationInMinutes_d": null,
                                    "conditions_protocols_s": "",
                                    "identity_claim_ipaddr_s": "",
                                    "ElasticPoolName_s": "",
                                    "identity_claim_http_schemas_microsoft_com_claims_authnmethodsreferences_s": "",
                                    "RunOn_s": "",
                                    "query_hash_s": "",
                                    "SourceSystem": "Azure",
                                    "MG": "",
                                    "ManagementGroupName": "",
                                    "Computer": "",
                                    "RawData": "",
                                    "error_state_d": null,
                                    "deadlock_xml_s": "",
                                    "query_plan_hash_s": "",
                                    "error_number_d": null,
                                    "Severity": null,
                                    "user_defined_b": null,
                                    "state_d": null,
                                    "package_s": "SecAudit",
                                    "event_s": "audit_event_shoebox",
                                    "sessionName_s": "audit_session_for_shoebox",
                                    "originalEventTimestamp_t": "2021-01-31T17:14:26.319Z",
                                    "audit_schema_version_d": 1,
                                    "event_time_t": "2021-01-31T17:14:25.889Z",
                                    "sequence_number_d": 1,
                                    "action_id_s": "BCM ",
                                    "action_name_s": "BATCH COMPLETED",
                                    "succeeded_s": "true",
                                    "is_column_permission_s": "false",
                                    "session_id_d": 61,
                                    "server_principal_id_d": 0,
                                    "database_principal_id_d": 5,
                                    "target_server_principal_id_d": 0,
                                    "target_database_principal_id_d": 0,
                                    "object_id_d": 5,
                                    "user_defined_event_id_d": 0,
                                    "transaction_id_d": 0,
                                    "class_type_s": "DB",
                                    "class_type_description_s": "DATABASE",
                                    "securable_class_type_s": "DATABASE",
                                    "duration_milliseconds_d": 0,
                                    "response_rows_d": 0,
                                    "affected_rows_d": 0,
                                    "client_ip_s": "131.107.174.142",
                                    "permission_bitmask_g": "00000000-0000-0000-0000-000000000000",
                                    "sequence_group_id_g": "620f1339-15e5-48d4-9e4c-52d42875d01b",
                                    "session_server_principal_name_s": "adslivesite",
                                    "server_principal_name_s": "adslivesite",
                                    "server_principal_sid_s": "01060000000001640000000000000000cef04990da142347be1357149f87e7c1",
                                    "database_principal_name_s": "adslivesite",
                                    "target_server_principal_name_s": "",
                                    "target_server_principal_sid_s": "",
                                    "target_database_principal_name_s": "",
                                    "server_instance_name_s": "jukoesmasqldb",
                                    "database_name_s": "master",
                                    "schema_name_s": "",
                                    "object_name_s": "master",
                                    "statement_s": "SET ANSI_NULLS, ANSI_PADDING, ANSI_WARNINGS, ARITHABORT, CONCAT_NULL_YIELDS_NULL, QUOTED_IDENTIFIER ON;\r\nSET NUMERIC_ROUNDABORT OFF;",
                                    "additional_information_s": "",
                                    "user_defined_information_s": "",
                                    "application_name_s": "azdata-GeneralConnection",
                                    "connection_id_g": "3662a6c0-16da-4948-9ce5-743e7fabeec4",
                                    "data_sensitivity_information_s": "",
                                    "host_name_s": "MSSQLGIRL-01",
                                    "session_context_s": "",
                                    "is_server_level_audit_s": "true",
                                    "event_id_g": "9b180e35-0a5a-4fb2-b688-8a7f2ecd8ed0",
                                    "AdditionalFields": "None",
                                    "Type": "AzureDiagnostics"
                                }
                            ]
                        }
                    },
                    "metadata": {},
                    "output_type": "display_data"
                },
                {
                    "data": {
                        "text/plain": "<IPython.core.display.HTML object>",
                        "text/html": "<html>\n        <head>\n            \n            \n        </head>\n        <body>\n            <div><p style='padding: 10px; color: #3a87ad; background-color: #d9edf7; border-color: #bce9f1'>Done&nbsp;(00:00.327):&nbsp;10&nbsp;records</p></div>\n        </body>\n        </html>"
                    },
                    "metadata": {},
                    "output_type": "display_data"
                },
                {
                    "data": {
                        "text/plain": "[{'TimeGenerated': datetime.datetime(2021, 1, 31, 17, 14, 7, 326000, tzinfo=tzutc()), 'Category': 'SQLSecurityAuditEvents', 'ResourceProvider': 'MICROSOFT.SQL', 'Resource': 'MASTER', 'ResourceType': 'SERVERS/DATABASES', 'OperationName': 'AuditEvent', 'ResultType': '', 'CorrelationId': '', 'ResultDescription': '', 'Tenant_g': '', 'JobId_g': '', 'RunbookName_s': '', 'StreamType_s': '', 'Caller_s': '', 'requestUri_s': '', 'Level': '', 'DurationMs': None, 'CallerIPAddress': '', 'OperationVersion': '', 'ResultSignature': '', 'id_s': '', 'status_s': '', 'LogicalServerName_s': 'jukoesmasqldb', 'Message': '', 'clientInfo_s': '', 'httpStatusCode_d': None, 'identity_claim_appid_g': '', 'identity_claim_http_schemas_microsoft_com_identity_claims_objectidentifier_g': '', 'userAgent_s': '', 'ruleName_s': '', 'identity_claim_http_schemas_xmlsoap_org_ws_2005_05_identity_claims_upn_s': '', 'systemId_g': '', 'isAccessPolicyMatch_b': None, 'EventName_s': '', 'httpMethod_s': '', 'subnetId_s': '', 'type_s': '', 'instanceId_s': '', 'macAddress_s': '', 'vnetResourceGuid_g': '', 'direction_s': '', 'subnetPrefix_s': '', 'primaryIPv4Address_s': '', 'conditions_sourcePortRange_s': '', 'priority_d': None, 'conditions_destinationPortRange_s': '', 'conditions_destinationIP_s': '', 'conditions_None_s': '', 'conditions_sourceIP_s': '', 'httpVersion_s': '', 'matchedConnections_d': None, 'startTime_t': None, 'endTime_t': None, 'DatabaseName_s': '', 'clientIP_s': '', 'host_s': '', 'requestQuery_s': '', 'sslEnabled_s': '', 'clientPort_d': None, 'httpStatus_d': None, 'receivedBytes_d': None, 'sentBytes_d': None, 'timeTaken_d': None, 'resultDescription_ErrorJobs_s': '', 'resultDescription_ChildJobs_s': '', 'identity_claim_http_schemas_microsoft_com_identity_claims_scope_s': '', 'workflowId_s': '', 'resource_location_s': '', 'resource_workflowId_g': '', 'resource_resourceGroupName_s': '', 'resource_subscriptionId_g': '', 'resource_runId_s': '', 'resource_workflowName_s': '', '_schema_s': '', 'correlation_clientTrackingId_s': '', 'properties_sku_Family_s': '', 'properties_sku_Name_s': '', 'properties_tenantId_g': '', 'properties_enabledForDeployment_b': None, 'code_s': '', 'resultDescription_Summary_MachineId_s': '', 'resultDescription_Summary_ScheduleName_s': '', 'resultDescription_Summary_Status_s': '', 'resultDescription_Summary_StatusDescription_s': '', 'resultDescription_Summary_MachineName_s': '', 'resultDescription_Summary_TotalUpdatesInstalled_d': None, 'resultDescription_Summary_RebootRequired_b': None, 'resultDescription_Summary_TotalUpdatesFailed_d': None, 'resultDescription_Summary_InstallPercentage_d': None, 'resultDescription_Summary_StartDateTimeUtc_t': None, 'resource_triggerName_s': '', 'resultDescription_Summary_InitialRequiredUpdatesCount_d': None, 'properties_enabledForTemplateDeployment_b': None, 'resultDescription_Summary_EndDateTimeUtc_s': '', 'resultDescription_Summary_DurationInMinutes_s': '', 'resource_originRunId_s': '', 'properties_enabledForDiskEncryption_b': None, 'resource_actionName_s': '', 'correlation_actionTrackingId_g': '', 'resultDescription_Summary_EndDateTimeUtc_t': None, 'resultDescription_Summary_DurationInMinutes_d': None, 'conditions_protocols_s': '', 'identity_claim_ipaddr_s': '', 'ElasticPoolName_s': '', 'identity_claim_http_schemas_microsoft_com_claims_authnmethodsreferences_s': '', 'RunOn_s': '', 'query_hash_s': '', 'SourceSystem': 'Azure', 'MG': '', 'ManagementGroupName': '', 'Computer': '', 'RawData': '', 'error_state_d': None, 'deadlock_xml_s': '', 'query_plan_hash_s': '', 'error_number_d': None, 'Severity': None, 'user_defined_b': None, 'state_d': None, 'package_s': 'SecAudit', 'event_s': 'audit_event_shoebox', 'sessionName_s': 'audit_session_for_shoebox', 'originalEventTimestamp_t': datetime.datetime(2021, 1, 31, 17, 14, 7, 325000, tzinfo=tzutc()), 'audit_schema_version_d': 1, 'event_time_t': datetime.datetime(2021, 1, 31, 17, 14, 6, 420000, tzinfo=tzutc()), 'sequence_number_d': 1, 'action_id_s': 'DBAS', 'action_name_s': 'DATABASE AUTHENTICATION SUCCEEDED', 'succeeded_s': 'true', 'is_column_permission_s': 'false', 'session_id_d': 61, 'server_principal_id_d': 0, 'database_principal_id_d': 5, 'target_server_principal_id_d': 0, 'target_database_principal_id_d': 0, 'object_id_d': 5, 'user_defined_event_id_d': 0, 'transaction_id_d': 0, 'class_type_s': 'DB', 'class_type_description_s': 'DATABASE', 'securable_class_type_s': 'DATABASE', 'duration_milliseconds_d': 0, 'response_rows_d': 0, 'affected_rows_d': 0, 'client_ip_s': '131.107.174.142', 'permission_bitmask_g': '00000000-0000-0000-0000-000000000000', 'sequence_group_id_g': 'f2eaa417-f826-46f6-abe7-c258359014e5', 'session_server_principal_name_s': 'adslivesite', 'server_principal_name_s': 'adslivesite', 'server_principal_sid_s': '01060000000001640000000000000000cef04990da142347be1357149f87e7c1', 'database_principal_name_s': 'adslivesite', 'target_server_principal_name_s': '', 'target_server_principal_sid_s': '', 'target_database_principal_name_s': '', 'server_instance_name_s': 'jukoesmasqldb', 'database_name_s': 'master', 'schema_name_s': '', 'object_name_s': 'master', 'statement_s': '', 'additional_information_s': '', 'user_defined_information_s': '', 'application_name_s': 'azdata-GeneralConnection', 'connection_id_g': '3662a6c0-16da-4948-9ce5-743e7fabeec4', 'data_sensitivity_information_s': '', 'host_name_s': 'MSSQLGIRL-01', 'session_context_s': '', 'is_server_level_audit_s': 'true', 'event_id_g': '93069c52-03da-4b4d-8f17-190e35c7b7ed', 'AdditionalFields': None, 'Type': 'AzureDiagnostics'},\n {'TimeGenerated': datetime.datetime(2021, 1, 31, 17, 14, 20, 326000, tzinfo=tzutc()), 'Category': 'SQLSecurityAuditEvents', 'ResourceProvider': 'MICROSOFT.SQL', 'Resource': 'MASTER', 'ResourceType': 'SERVERS/DATABASES', 'OperationName': 'AuditEvent', 'ResultType': '', 'CorrelationId': '', 'ResultDescription': '', 'Tenant_g': '', 'JobId_g': '', 'RunbookName_s': '', 'StreamType_s': '', 'Caller_s': '', 'requestUri_s': '', 'Level': '', 'DurationMs': None, 'CallerIPAddress': '', 'OperationVersion': '', 'ResultSignature': '', 'id_s': '', 'status_s': '', 'LogicalServerName_s': 'jukoesmasqldb', 'Message': '', 'clientInfo_s': '', 'httpStatusCode_d': None, 'identity_claim_appid_g': '', 'identity_claim_http_schemas_microsoft_com_identity_claims_objectidentifier_g': '', 'userAgent_s': '', 'ruleName_s': '', 'identity_claim_http_schemas_xmlsoap_org_ws_2005_05_identity_claims_upn_s': '', 'systemId_g': '', 'isAccessPolicyMatch_b': None, 'EventName_s': '', 'httpMethod_s': '', 'subnetId_s': '', 'type_s': '', 'instanceId_s': '', 'macAddress_s': '', 'vnetResourceGuid_g': '', 'direction_s': '', 'subnetPrefix_s': '', 'primaryIPv4Address_s': '', 'conditions_sourcePortRange_s': '', 'priority_d': None, 'conditions_destinationPortRange_s': '', 'conditions_destinationIP_s': '', 'conditions_None_s': '', 'conditions_sourceIP_s': '', 'httpVersion_s': '', 'matchedConnections_d': None, 'startTime_t': None, 'endTime_t': None, 'DatabaseName_s': '', 'clientIP_s': '', 'host_s': '', 'requestQuery_s': '', 'sslEnabled_s': '', 'clientPort_d': None, 'httpStatus_d': None, 'receivedBytes_d': None, 'sentBytes_d': None, 'timeTaken_d': None, 'resultDescription_ErrorJobs_s': '', 'resultDescription_ChildJobs_s': '', 'identity_claim_http_schemas_microsoft_com_identity_claims_scope_s': '', 'workflowId_s': '', 'resource_location_s': '', 'resource_workflowId_g': '', 'resource_resourceGroupName_s': '', 'resource_subscriptionId_g': '', 'resource_runId_s': '', 'resource_workflowName_s': '', '_schema_s': '', 'correlation_clientTrackingId_s': '', 'properties_sku_Family_s': '', 'properties_sku_Name_s': '', 'properties_tenantId_g': '', 'properties_enabledForDeployment_b': None, 'code_s': '', 'resultDescription_Summary_MachineId_s': '', 'resultDescription_Summary_ScheduleName_s': '', 'resultDescription_Summary_Status_s': '', 'resultDescription_Summary_StatusDescription_s': '', 'resultDescription_Summary_MachineName_s': '', 'resultDescription_Summary_TotalUpdatesInstalled_d': None, 'resultDescription_Summary_RebootRequired_b': None, 'resultDescription_Summary_TotalUpdatesFailed_d': None, 'resultDescription_Summary_InstallPercentage_d': None, 'resultDescription_Summary_StartDateTimeUtc_t': None, 'resource_triggerName_s': '', 'resultDescription_Summary_InitialRequiredUpdatesCount_d': None, 'properties_enabledForTemplateDeployment_b': None, 'resultDescription_Summary_EndDateTimeUtc_s': '', 'resultDescription_Summary_DurationInMinutes_s': '', 'resource_originRunId_s': '', 'properties_enabledForDiskEncryption_b': None, 'resource_actionName_s': '', 'correlation_actionTrackingId_g': '', 'resultDescription_Summary_EndDateTimeUtc_t': None, 'resultDescription_Summary_DurationInMinutes_d': None, 'conditions_protocols_s': '', 'identity_claim_ipaddr_s': '', 'ElasticPoolName_s': '', 'identity_claim_http_schemas_microsoft_com_claims_authnmethodsreferences_s': '', 'RunOn_s': '', 'query_hash_s': '', 'SourceSystem': 'Azure', 'MG': '', 'ManagementGroupName': '', 'Computer': '', 'RawData': '', 'error_state_d': None, 'deadlock_xml_s': '', 'query_plan_hash_s': '', 'error_number_d': None, 'Severity': None, 'user_defined_b': None, 'state_d': None, 'package_s': 'SecAudit', 'event_s': 'audit_event_shoebox', 'sessionName_s': 'audit_session_for_shoebox', 'originalEventTimestamp_t': datetime.datetime(2021, 1, 31, 17, 14, 20, 322000, tzinfo=tzutc()), 'audit_schema_version_d': 1, 'event_time_t': datetime.datetime(2021, 1, 31, 17, 14, 19, 561000, tzinfo=tzutc()), 'sequence_number_d': 1, 'action_id_s': 'BCM ', 'action_name_s': 'BATCH COMPLETED', 'succeeded_s': 'true', 'is_column_permission_s': 'false', 'session_id_d': 61, 'server_principal_id_d': 0, 'database_principal_id_d': 5, 'target_server_principal_id_d': 0, 'target_database_principal_id_d': 0, 'object_id_d': 5, 'user_defined_event_id_d': 0, 'transaction_id_d': 0, 'class_type_s': 'DB', 'class_type_description_s': 'DATABASE', 'securable_class_type_s': 'DATABASE', 'duration_milliseconds_d': 35, 'response_rows_d': 1, 'affected_rows_d': 1, 'client_ip_s': '131.107.174.142', 'permission_bitmask_g': '00000000-0000-0000-0000-000000000000', 'sequence_group_id_g': '3cce1817-7aa2-44de-b7d7-5ded01f58f01', 'session_server_principal_name_s': 'adslivesite', 'server_principal_name_s': 'adslivesite', 'server_principal_sid_s': '01060000000001640000000000000000cef04990da142347be1357149f87e7c1', 'database_principal_name_s': 'adslivesite', 'target_server_principal_name_s': '', 'target_server_principal_sid_s': '', 'target_database_principal_name_s': '', 'server_instance_name_s': 'jukoesmasqldb', 'database_name_s': 'master', 'schema_name_s': '', 'object_name_s': 'master', 'statement_s': \"SELECT SERVERPROPERTY('EngineEdition'), SERVERPROPERTY('productversion'), SERVERPROPERTY ('productlevel'), SERVERPROPERTY ('edition'), SERVERPROPERTY ('MachineName'), SERVERPROPERTY ('ServerName'), (SELECT CASE WHEN EXISTS (SELECT TOP 1 1 from [sys].[all_columns] WITH (NOLOCK) WHERE name = N'xml_index_type' AND OBJECT_ID(N'sys.xml_indexes') = object_id) THEN 1 ELSE 0 END AS SXI_PRESENT)\", 'additional_information_s': '', 'user_defined_information_s': '', 'application_name_s': 'azdata-GeneralConnection', 'connection_id_g': '3662a6c0-16da-4948-9ce5-743e7fabeec4', 'data_sensitivity_information_s': '', 'host_name_s': 'MSSQLGIRL-01', 'session_context_s': '', 'is_server_level_audit_s': 'true', 'event_id_g': 'fa7d5951-a849-4e8b-b407-a3dd5427362c', 'AdditionalFields': None, 'Type': 'AzureDiagnostics'},\n {'TimeGenerated': datetime.datetime(2021, 1, 31, 17, 14, 20, 326000, tzinfo=tzutc()), 'Category': 'SQLSecurityAuditEvents', 'ResourceProvider': 'MICROSOFT.SQL', 'Resource': 'MASTER', 'ResourceType': 'SERVERS/DATABASES', 'OperationName': 'AuditEvent', 'ResultType': '', 'CorrelationId': '', 'ResultDescription': '', 'Tenant_g': '', 'JobId_g': '', 'RunbookName_s': '', 'StreamType_s': '', 'Caller_s': '', 'requestUri_s': '', 'Level': '', 'DurationMs': None, 'CallerIPAddress': '', 'OperationVersion': '', 'ResultSignature': '', 'id_s': '', 'status_s': '', 'LogicalServerName_s': 'jukoesmasqldb', 'Message': '', 'clientInfo_s': '', 'httpStatusCode_d': None, 'identity_claim_appid_g': '', 'identity_claim_http_schemas_microsoft_com_identity_claims_objectidentifier_g': '', 'userAgent_s': '', 'ruleName_s': '', 'identity_claim_http_schemas_xmlsoap_org_ws_2005_05_identity_claims_upn_s': '', 'systemId_g': '', 'isAccessPolicyMatch_b': None, 'EventName_s': '', 'httpMethod_s': '', 'subnetId_s': '', 'type_s': '', 'instanceId_s': '', 'macAddress_s': '', 'vnetResourceGuid_g': '', 'direction_s': '', 'subnetPrefix_s': '', 'primaryIPv4Address_s': '', 'conditions_sourcePortRange_s': '', 'priority_d': None, 'conditions_destinationPortRange_s': '', 'conditions_destinationIP_s': '', 'conditions_None_s': '', 'conditions_sourceIP_s': '', 'httpVersion_s': '', 'matchedConnections_d': None, 'startTime_t': None, 'endTime_t': None, 'DatabaseName_s': '', 'clientIP_s': '', 'host_s': '', 'requestQuery_s': '', 'sslEnabled_s': '', 'clientPort_d': None, 'httpStatus_d': None, 'receivedBytes_d': None, 'sentBytes_d': None, 'timeTaken_d': None, 'resultDescription_ErrorJobs_s': '', 'resultDescription_ChildJobs_s': '', 'identity_claim_http_schemas_microsoft_com_identity_claims_scope_s': '', 'workflowId_s': '', 'resource_location_s': '', 'resource_workflowId_g': '', 'resource_resourceGroupName_s': '', 'resource_subscriptionId_g': '', 'resource_runId_s': '', 'resource_workflowName_s': '', '_schema_s': '', 'correlation_clientTrackingId_s': '', 'properties_sku_Family_s': '', 'properties_sku_Name_s': '', 'properties_tenantId_g': '', 'properties_enabledForDeployment_b': None, 'code_s': '', 'resultDescription_Summary_MachineId_s': '', 'resultDescription_Summary_ScheduleName_s': '', 'resultDescription_Summary_Status_s': '', 'resultDescription_Summary_StatusDescription_s': '', 'resultDescription_Summary_MachineName_s': '', 'resultDescription_Summary_TotalUpdatesInstalled_d': None, 'resultDescription_Summary_RebootRequired_b': None, 'resultDescription_Summary_TotalUpdatesFailed_d': None, 'resultDescription_Summary_InstallPercentage_d': None, 'resultDescription_Summary_StartDateTimeUtc_t': None, 'resource_triggerName_s': '', 'resultDescription_Summary_InitialRequiredUpdatesCount_d': None, 'properties_enabledForTemplateDeployment_b': None, 'resultDescription_Summary_EndDateTimeUtc_s': '', 'resultDescription_Summary_DurationInMinutes_s': '', 'resource_originRunId_s': '', 'properties_enabledForDiskEncryption_b': None, 'resource_actionName_s': '', 'correlation_actionTrackingId_g': '', 'resultDescription_Summary_EndDateTimeUtc_t': None, 'resultDescription_Summary_DurationInMinutes_d': None, 'conditions_protocols_s': '', 'identity_claim_ipaddr_s': '', 'ElasticPoolName_s': '', 'identity_claim_http_schemas_microsoft_com_claims_authnmethodsreferences_s': '', 'RunOn_s': '', 'query_hash_s': '', 'SourceSystem': 'Azure', 'MG': '', 'ManagementGroupName': '', 'Computer': '', 'RawData': '', 'error_state_d': None, 'deadlock_xml_s': '', 'query_plan_hash_s': '', 'error_number_d': None, 'Severity': None, 'user_defined_b': None, 'state_d': None, 'package_s': 'SecAudit', 'event_s': 'audit_event_shoebox', 'sessionName_s': 'audit_session_for_shoebox', 'originalEventTimestamp_t': datetime.datetime(2021, 1, 31, 17, 14, 20, 322000, tzinfo=tzutc()), 'audit_schema_version_d': 1, 'event_time_t': datetime.datetime(2021, 1, 31, 17, 14, 19, 951000, tzinfo=tzutc()), 'sequence_number_d': 1, 'action_id_s': 'BCM ', 'action_name_s': 'BATCH COMPLETED', 'succeeded_s': 'true', 'is_column_permission_s': 'false', 'session_id_d': 61, 'server_principal_id_d': 0, 'database_principal_id_d': 5, 'target_server_principal_id_d': 0, 'target_database_principal_id_d': 0, 'object_id_d': 5, 'user_defined_event_id_d': 0, 'transaction_id_d': 0, 'class_type_s': 'DB', 'class_type_description_s': 'DATABASE', 'securable_class_type_s': 'DATABASE', 'duration_milliseconds_d': 0, 'response_rows_d': 1, 'affected_rows_d': 1, 'client_ip_s': '131.107.174.142', 'permission_bitmask_g': '00000000-0000-0000-0000-000000000000', 'sequence_group_id_g': 'df15b53b-19fa-4b1f-bb35-078a750ba0f3', 'session_server_principal_name_s': 'adslivesite', 'server_principal_name_s': 'adslivesite', 'server_principal_sid_s': '01060000000001640000000000000000cef04990da142347be1357149f87e7c1', 'database_principal_name_s': 'adslivesite', 'target_server_principal_name_s': '', 'target_server_principal_sid_s': '', 'target_database_principal_name_s': '', 'server_instance_name_s': 'jukoesmasqldb', 'database_name_s': 'master', 'schema_name_s': '', 'object_name_s': 'master', 'statement_s': \"SELECT ISNULL(SESSIONPROPERTY ('ANSI_NULLS'), 0), ISNULL(SESSIONPROPERTY ('QUOTED_IDENTIFIER'), 1)\", 'additional_information_s': '', 'user_defined_information_s': '', 'application_name_s': 'azdata-GeneralConnection', 'connection_id_g': '3662a6c0-16da-4948-9ce5-743e7fabeec4', 'data_sensitivity_information_s': '', 'host_name_s': 'MSSQLGIRL-01', 'session_context_s': '', 'is_server_level_audit_s': 'true', 'event_id_g': 'e677f992-7263-483f-b6ee-c3ac3659b3a0', 'AdditionalFields': None, 'Type': 'AzureDiagnostics'},\n {'TimeGenerated': datetime.datetime(2021, 1, 31, 17, 14, 20, 326000, tzinfo=tzutc()), 'Category': 'SQLSecurityAuditEvents', 'ResourceProvider': 'MICROSOFT.SQL', 'Resource': 'MASTER', 'ResourceType': 'SERVERS/DATABASES', 'OperationName': 'AuditEvent', 'ResultType': '', 'CorrelationId': '', 'ResultDescription': '', 'Tenant_g': '', 'JobId_g': '', 'RunbookName_s': '', 'StreamType_s': '', 'Caller_s': '', 'requestUri_s': '', 'Level': '', 'DurationMs': None, 'CallerIPAddress': '', 'OperationVersion': '', 'ResultSignature': '', 'id_s': '', 'status_s': '', 'LogicalServerName_s': 'jukoesmasqldb', 'Message': '', 'clientInfo_s': '', 'httpStatusCode_d': None, 'identity_claim_appid_g': '', 'identity_claim_http_schemas_microsoft_com_identity_claims_objectidentifier_g': '', 'userAgent_s': '', 'ruleName_s': '', 'identity_claim_http_schemas_xmlsoap_org_ws_2005_05_identity_claims_upn_s': '', 'systemId_g': '', 'isAccessPolicyMatch_b': None, 'EventName_s': '', 'httpMethod_s': '', 'subnetId_s': '', 'type_s': '', 'instanceId_s': '', 'macAddress_s': '', 'vnetResourceGuid_g': '', 'direction_s': '', 'subnetPrefix_s': '', 'primaryIPv4Address_s': '', 'conditions_sourcePortRange_s': '', 'priority_d': None, 'conditions_destinationPortRange_s': '', 'conditions_destinationIP_s': '', 'conditions_None_s': '', 'conditions_sourceIP_s': '', 'httpVersion_s': '', 'matchedConnections_d': None, 'startTime_t': None, 'endTime_t': None, 'DatabaseName_s': '', 'clientIP_s': '', 'host_s': '', 'requestQuery_s': '', 'sslEnabled_s': '', 'clientPort_d': None, 'httpStatus_d': None, 'receivedBytes_d': None, 'sentBytes_d': None, 'timeTaken_d': None, 'resultDescription_ErrorJobs_s': '', 'resultDescription_ChildJobs_s': '', 'identity_claim_http_schemas_microsoft_com_identity_claims_scope_s': '', 'workflowId_s': '', 'resource_location_s': '', 'resource_workflowId_g': '', 'resource_resourceGroupName_s': '', 'resource_subscriptionId_g': '', 'resource_runId_s': '', 'resource_workflowName_s': '', '_schema_s': '', 'correlation_clientTrackingId_s': '', 'properties_sku_Family_s': '', 'properties_sku_Name_s': '', 'properties_tenantId_g': '', 'properties_enabledForDeployment_b': None, 'code_s': '', 'resultDescription_Summary_MachineId_s': '', 'resultDescription_Summary_ScheduleName_s': '', 'resultDescription_Summary_Status_s': '', 'resultDescription_Summary_StatusDescription_s': '', 'resultDescription_Summary_MachineName_s': '', 'resultDescription_Summary_TotalUpdatesInstalled_d': None, 'resultDescription_Summary_RebootRequired_b': None, 'resultDescription_Summary_TotalUpdatesFailed_d': None, 'resultDescription_Summary_InstallPercentage_d': None, 'resultDescription_Summary_StartDateTimeUtc_t': None, 'resource_triggerName_s': '', 'resultDescription_Summary_InitialRequiredUpdatesCount_d': None, 'properties_enabledForTemplateDeployment_b': None, 'resultDescription_Summary_EndDateTimeUtc_s': '', 'resultDescription_Summary_DurationInMinutes_s': '', 'resource_originRunId_s': '', 'properties_enabledForDiskEncryption_b': None, 'resource_actionName_s': '', 'correlation_actionTrackingId_g': '', 'resultDescription_Summary_EndDateTimeUtc_t': None, 'resultDescription_Summary_DurationInMinutes_d': None, 'conditions_protocols_s': '', 'identity_claim_ipaddr_s': '', 'ElasticPoolName_s': '', 'identity_claim_http_schemas_microsoft_com_claims_authnmethodsreferences_s': '', 'RunOn_s': '', 'query_hash_s': '', 'SourceSystem': 'Azure', 'MG': '', 'ManagementGroupName': '', 'Computer': '', 'RawData': '', 'error_state_d': None, 'deadlock_xml_s': '', 'query_plan_hash_s': '', 'error_number_d': None, 'Severity': None, 'user_defined_b': None, 'state_d': None, 'package_s': 'SecAudit', 'event_s': 'audit_event_shoebox', 'sessionName_s': 'audit_session_for_shoebox', 'originalEventTimestamp_t': datetime.datetime(2021, 1, 31, 17, 14, 20, 322000, tzinfo=tzutc()), 'audit_schema_version_d': 1, 'event_time_t': datetime.datetime(2021, 1, 31, 17, 14, 20, 45000, tzinfo=tzutc()), 'sequence_number_d': 1, 'action_id_s': 'BCM ', 'action_name_s': 'BATCH COMPLETED', 'succeeded_s': 'true', 'is_column_permission_s': 'false', 'session_id_d': 61, 'server_principal_id_d': 0, 'database_principal_id_d': 5, 'target_server_principal_id_d': 0, 'target_database_principal_id_d': 0, 'object_id_d': 5, 'user_defined_event_id_d': 0, 'transaction_id_d': 0, 'class_type_s': 'DB', 'class_type_description_s': 'DATABASE', 'securable_class_type_s': 'DATABASE', 'duration_milliseconds_d': 1, 'response_rows_d': 1, 'affected_rows_d': 1, 'client_ip_s': '131.107.174.142', 'permission_bitmask_g': '00000000-0000-0000-0000-000000000000', 'sequence_group_id_g': '9ccbde6d-7423-4e0a-bcea-ca6abbe44aa9', 'session_server_principal_name_s': 'adslivesite', 'server_principal_name_s': 'adslivesite', 'server_principal_sid_s': '01060000000001640000000000000000cef04990da142347be1357149f87e7c1', 'database_principal_name_s': 'adslivesite', 'target_server_principal_name_s': '', 'target_server_principal_sid_s': '', 'target_database_principal_name_s': '', 'server_instance_name_s': 'jukoesmasqldb', 'database_name_s': 'master', 'schema_name_s': '', 'object_name_s': 'master', 'statement_s': \"SELECT SERVERPROPERTY('EngineEdition'), SERVERPROPERTY('productversion'), SERVERPROPERTY ('productlevel'), SERVERPROPERTY ('edition'), SERVERPROPERTY ('MachineName'), SERVERPROPERTY ('ServerName'), (SELECT CASE WHEN EXISTS (SELECT TOP 1 1 from [sys].[all_columns] WITH (NOLOCK) WHERE name = N'xml_index_type' AND OBJECT_ID(N'sys.xml_indexes') = object_id) THEN 1 ELSE 0 END AS SXI_PRESENT)\", 'additional_information_s': '', 'user_defined_information_s': '', 'application_name_s': 'azdata-GeneralConnection', 'connection_id_g': '3662a6c0-16da-4948-9ce5-743e7fabeec4', 'data_sensitivity_information_s': '', 'host_name_s': 'MSSQLGIRL-01', 'session_context_s': '', 'is_server_level_audit_s': 'true', 'event_id_g': '5ec4a5aa-2bea-47ca-a5a4-f17d3cda43b1', 'AdditionalFields': None, 'Type': 'AzureDiagnostics'},\n {'TimeGenerated': datetime.datetime(2021, 1, 31, 17, 14, 20, 326000, tzinfo=tzutc()), 'Category': 'SQLSecurityAuditEvents', 'ResourceProvider': 'MICROSOFT.SQL', 'Resource': 'MASTER', 'ResourceType': 'SERVERS/DATABASES', 'OperationName': 'AuditEvent', 'ResultType': '', 'CorrelationId': '', 'ResultDescription': '', 'Tenant_g': '', 'JobId_g': '', 'RunbookName_s': '', 'StreamType_s': '', 'Caller_s': '', 'requestUri_s': '', 'Level': '', 'DurationMs': None, 'CallerIPAddress': '', 'OperationVersion': '', 'ResultSignature': '', 'id_s': '', 'status_s': '', 'LogicalServerName_s': 'jukoesmasqldb', 'Message': '', 'clientInfo_s': '', 'httpStatusCode_d': None, 'identity_claim_appid_g': '', 'identity_claim_http_schemas_microsoft_com_identity_claims_objectidentifier_g': '', 'userAgent_s': '', 'ruleName_s': '', 'identity_claim_http_schemas_xmlsoap_org_ws_2005_05_identity_claims_upn_s': '', 'systemId_g': '', 'isAccessPolicyMatch_b': None, 'EventName_s': '', 'httpMethod_s': '', 'subnetId_s': '', 'type_s': '', 'instanceId_s': '', 'macAddress_s': '', 'vnetResourceGuid_g': '', 'direction_s': '', 'subnetPrefix_s': '', 'primaryIPv4Address_s': '', 'conditions_sourcePortRange_s': '', 'priority_d': None, 'conditions_destinationPortRange_s': '', 'conditions_destinationIP_s': '', 'conditions_None_s': '', 'conditions_sourceIP_s': '', 'httpVersion_s': '', 'matchedConnections_d': None, 'startTime_t': None, 'endTime_t': None, 'DatabaseName_s': '', 'clientIP_s': '', 'host_s': '', 'requestQuery_s': '', 'sslEnabled_s': '', 'clientPort_d': None, 'httpStatus_d': None, 'receivedBytes_d': None, 'sentBytes_d': None, 'timeTaken_d': None, 'resultDescription_ErrorJobs_s': '', 'resultDescription_ChildJobs_s': '', 'identity_claim_http_schemas_microsoft_com_identity_claims_scope_s': '', 'workflowId_s': '', 'resource_location_s': '', 'resource_workflowId_g': '', 'resource_resourceGroupName_s': '', 'resource_subscriptionId_g': '', 'resource_runId_s': '', 'resource_workflowName_s': '', '_schema_s': '', 'correlation_clientTrackingId_s': '', 'properties_sku_Family_s': '', 'properties_sku_Name_s': '', 'properties_tenantId_g': '', 'properties_enabledForDeployment_b': None, 'code_s': '', 'resultDescription_Summary_MachineId_s': '', 'resultDescription_Summary_ScheduleName_s': '', 'resultDescription_Summary_Status_s': '', 'resultDescription_Summary_StatusDescription_s': '', 'resultDescription_Summary_MachineName_s': '', 'resultDescription_Summary_TotalUpdatesInstalled_d': None, 'resultDescription_Summary_RebootRequired_b': None, 'resultDescription_Summary_TotalUpdatesFailed_d': None, 'resultDescription_Summary_InstallPercentage_d': None, 'resultDescription_Summary_StartDateTimeUtc_t': None, 'resource_triggerName_s': '', 'resultDescription_Summary_InitialRequiredUpdatesCount_d': None, 'properties_enabledForTemplateDeployment_b': None, 'resultDescription_Summary_EndDateTimeUtc_s': '', 'resultDescription_Summary_DurationInMinutes_s': '', 'resource_originRunId_s': '', 'properties_enabledForDiskEncryption_b': None, 'resource_actionName_s': '', 'correlation_actionTrackingId_g': '', 'resultDescription_Summary_EndDateTimeUtc_t': None, 'resultDescription_Summary_DurationInMinutes_d': None, 'conditions_protocols_s': '', 'identity_claim_ipaddr_s': '', 'ElasticPoolName_s': '', 'identity_claim_http_schemas_microsoft_com_claims_authnmethodsreferences_s': '', 'RunOn_s': '', 'query_hash_s': '', 'SourceSystem': 'Azure', 'MG': '', 'ManagementGroupName': '', 'Computer': '', 'RawData': '', 'error_state_d': None, 'deadlock_xml_s': '', 'query_plan_hash_s': '', 'error_number_d': None, 'Severity': None, 'user_defined_b': None, 'state_d': None, 'package_s': 'SecAudit', 'event_s': 'audit_event_shoebox', 'sessionName_s': 'audit_session_for_shoebox', 'originalEventTimestamp_t': datetime.datetime(2021, 1, 31, 17, 14, 20, 322000, tzinfo=tzutc()), 'audit_schema_version_d': 1, 'event_time_t': datetime.datetime(2021, 1, 31, 17, 14, 20, 154000, tzinfo=tzutc()), 'sequence_number_d': 1, 'action_id_s': 'BCM ', 'action_name_s': 'BATCH COMPLETED', 'succeeded_s': 'true', 'is_column_permission_s': 'false', 'session_id_d': 61, 'server_principal_id_d': 0, 'database_principal_id_d': 5, 'target_server_principal_id_d': 0, 'target_database_principal_id_d': 0, 'object_id_d': 5, 'user_defined_event_id_d': 0, 'transaction_id_d': 0, 'class_type_s': 'DB', 'class_type_description_s': 'DATABASE', 'securable_class_type_s': 'DATABASE', 'duration_milliseconds_d': 0, 'response_rows_d': 1, 'affected_rows_d': 1, 'client_ip_s': '131.107.174.142', 'permission_bitmask_g': '00000000-0000-0000-0000-000000000000', 'sequence_group_id_g': 'a12ef4f2-6268-44a8-9cf0-23b2b0b79bee', 'session_server_principal_name_s': 'adslivesite', 'server_principal_name_s': 'adslivesite', 'server_principal_sid_s': '01060000000001640000000000000000cef04990da142347be1357149f87e7c1', 'database_principal_name_s': 'adslivesite', 'target_server_principal_name_s': '', 'target_server_principal_sid_s': '', 'target_database_principal_name_s': '', 'server_instance_name_s': 'jukoesmasqldb', 'database_name_s': 'master', 'schema_name_s': '', 'object_name_s': 'master', 'statement_s': \"SELECT ISNULL(SESSIONPROPERTY ('ANSI_NULLS'), 0), ISNULL(SESSIONPROPERTY ('QUOTED_IDENTIFIER'), 1)\", 'additional_information_s': '', 'user_defined_information_s': '', 'application_name_s': 'azdata-GeneralConnection', 'connection_id_g': '3662a6c0-16da-4948-9ce5-743e7fabeec4', 'data_sensitivity_information_s': '', 'host_name_s': 'MSSQLGIRL-01', 'session_context_s': '', 'is_server_level_audit_s': 'true', 'event_id_g': '9ab63513-2564-418b-9ff2-c7fed837a7e3', 'AdditionalFields': None, 'Type': 'AzureDiagnostics'},\n {'TimeGenerated': datetime.datetime(2021, 1, 31, 17, 14, 21, 326000, tzinfo=tzutc()), 'Category': 'SQLSecurityAuditEvents', 'ResourceProvider': 'MICROSOFT.SQL', 'Resource': 'MASTER', 'ResourceType': 'SERVERS/DATABASES', 'OperationName': 'AuditEvent', 'ResultType': '', 'CorrelationId': '', 'ResultDescription': '', 'Tenant_g': '', 'JobId_g': '', 'RunbookName_s': '', 'StreamType_s': '', 'Caller_s': '', 'requestUri_s': '', 'Level': '', 'DurationMs': None, 'CallerIPAddress': '', 'OperationVersion': '', 'ResultSignature': '', 'id_s': '', 'status_s': '', 'LogicalServerName_s': 'jukoesmasqldb', 'Message': '', 'clientInfo_s': '', 'httpStatusCode_d': None, 'identity_claim_appid_g': '', 'identity_claim_http_schemas_microsoft_com_identity_claims_objectidentifier_g': '', 'userAgent_s': '', 'ruleName_s': '', 'identity_claim_http_schemas_xmlsoap_org_ws_2005_05_identity_claims_upn_s': '', 'systemId_g': '', 'isAccessPolicyMatch_b': None, 'EventName_s': '', 'httpMethod_s': '', 'subnetId_s': '', 'type_s': '', 'instanceId_s': '', 'macAddress_s': '', 'vnetResourceGuid_g': '', 'direction_s': '', 'subnetPrefix_s': '', 'primaryIPv4Address_s': '', 'conditions_sourcePortRange_s': '', 'priority_d': None, 'conditions_destinationPortRange_s': '', 'conditions_destinationIP_s': '', 'conditions_None_s': '', 'conditions_sourceIP_s': '', 'httpVersion_s': '', 'matchedConnections_d': None, 'startTime_t': None, 'endTime_t': None, 'DatabaseName_s': '', 'clientIP_s': '', 'host_s': '', 'requestQuery_s': '', 'sslEnabled_s': '', 'clientPort_d': None, 'httpStatus_d': None, 'receivedBytes_d': None, 'sentBytes_d': None, 'timeTaken_d': None, 'resultDescription_ErrorJobs_s': '', 'resultDescription_ChildJobs_s': '', 'identity_claim_http_schemas_microsoft_com_identity_claims_scope_s': '', 'workflowId_s': '', 'resource_location_s': '', 'resource_workflowId_g': '', 'resource_resourceGroupName_s': '', 'resource_subscriptionId_g': '', 'resource_runId_s': '', 'resource_workflowName_s': '', '_schema_s': '', 'correlation_clientTrackingId_s': '', 'properties_sku_Family_s': '', 'properties_sku_Name_s': '', 'properties_tenantId_g': '', 'properties_enabledForDeployment_b': None, 'code_s': '', 'resultDescription_Summary_MachineId_s': '', 'resultDescription_Summary_ScheduleName_s': '', 'resultDescription_Summary_Status_s': '', 'resultDescription_Summary_StatusDescription_s': '', 'resultDescription_Summary_MachineName_s': '', 'resultDescription_Summary_TotalUpdatesInstalled_d': None, 'resultDescription_Summary_RebootRequired_b': None, 'resultDescription_Summary_TotalUpdatesFailed_d': None, 'resultDescription_Summary_InstallPercentage_d': None, 'resultDescription_Summary_StartDateTimeUtc_t': None, 'resource_triggerName_s': '', 'resultDescription_Summary_InitialRequiredUpdatesCount_d': None, 'properties_enabledForTemplateDeployment_b': None, 'resultDescription_Summary_EndDateTimeUtc_s': '', 'resultDescription_Summary_DurationInMinutes_s': '', 'resource_originRunId_s': '', 'properties_enabledForDiskEncryption_b': None, 'resource_actionName_s': '', 'correlation_actionTrackingId_g': '', 'resultDescription_Summary_EndDateTimeUtc_t': None, 'resultDescription_Summary_DurationInMinutes_d': None, 'conditions_protocols_s': '', 'identity_claim_ipaddr_s': '', 'ElasticPoolName_s': '', 'identity_claim_http_schemas_microsoft_com_claims_authnmethodsreferences_s': '', 'RunOn_s': '', 'query_hash_s': '', 'SourceSystem': 'Azure', 'MG': '', 'ManagementGroupName': '', 'Computer': '', 'RawData': '', 'error_state_d': None, 'deadlock_xml_s': '', 'query_plan_hash_s': '', 'error_number_d': None, 'Severity': None, 'user_defined_b': None, 'state_d': None, 'package_s': 'SecAudit', 'event_s': 'audit_event_shoebox', 'sessionName_s': 'audit_session_for_shoebox', 'originalEventTimestamp_t': datetime.datetime(2021, 1, 31, 17, 14, 21, 320000, tzinfo=tzutc()), 'audit_schema_version_d': 1, 'event_time_t': datetime.datetime(2021, 1, 31, 17, 14, 20, 561000, tzinfo=tzutc()), 'sequence_number_d': 1, 'action_id_s': 'BCM ', 'action_name_s': 'BATCH COMPLETED', 'succeeded_s': 'true', 'is_column_permission_s': 'false', 'session_id_d': 61, 'server_principal_id_d': 0, 'database_principal_id_d': 5, 'target_server_principal_id_d': 0, 'target_database_principal_id_d': 0, 'object_id_d': 5, 'user_defined_event_id_d': 0, 'transaction_id_d': 0, 'class_type_s': 'DB', 'class_type_description_s': 'DATABASE', 'securable_class_type_s': 'DATABASE', 'duration_milliseconds_d': 0, 'response_rows_d': 1, 'affected_rows_d': 1, 'client_ip_s': '131.107.174.142', 'permission_bitmask_g': '00000000-0000-0000-0000-000000000000', 'sequence_group_id_g': '0f4a9b7e-5351-41c4-9ca0-89f6fd94f101', 'session_server_principal_name_s': 'adslivesite', 'server_principal_name_s': 'adslivesite', 'server_principal_sid_s': '01060000000001640000000000000000cef04990da142347be1357149f87e7c1', 'database_principal_name_s': 'adslivesite', 'target_server_principal_name_s': '', 'target_server_principal_sid_s': '', 'target_database_principal_name_s': '', 'server_instance_name_s': 'jukoesmasqldb', 'database_name_s': 'master', 'schema_name_s': '', 'object_name_s': 'master', 'statement_s': 'SELECT CONVERT(NVARCHAR(36), CONTEXT_INFO())', 'additional_information_s': '', 'user_defined_information_s': '', 'application_name_s': 'azdata-GeneralConnection', 'connection_id_g': '3662a6c0-16da-4948-9ce5-743e7fabeec4', 'data_sensitivity_information_s': '', 'host_name_s': 'MSSQLGIRL-01', 'session_context_s': '', 'is_server_level_audit_s': 'true', 'event_id_g': 'f7fda07f-4a2f-4509-afff-5e2062761c2c', 'AdditionalFields': None, 'Type': 'AzureDiagnostics'},\n {'TimeGenerated': datetime.datetime(2021, 1, 31, 17, 14, 21, 326000, tzinfo=tzutc()), 'Category': 'SQLSecurityAuditEvents', 'ResourceProvider': 'MICROSOFT.SQL', 'Resource': 'MASTER', 'ResourceType': 'SERVERS/DATABASES', 'OperationName': 'AuditEvent', 'ResultType': '', 'CorrelationId': '', 'ResultDescription': '', 'Tenant_g': '', 'JobId_g': '', 'RunbookName_s': '', 'StreamType_s': '', 'Caller_s': '', 'requestUri_s': '', 'Level': '', 'DurationMs': None, 'CallerIPAddress': '', 'OperationVersion': '', 'ResultSignature': '', 'id_s': '', 'status_s': '', 'LogicalServerName_s': 'jukoesmasqldb', 'Message': '', 'clientInfo_s': '', 'httpStatusCode_d': None, 'identity_claim_appid_g': '', 'identity_claim_http_schemas_microsoft_com_identity_claims_objectidentifier_g': '', 'userAgent_s': '', 'ruleName_s': '', 'identity_claim_http_schemas_xmlsoap_org_ws_2005_05_identity_claims_upn_s': '', 'systemId_g': '', 'isAccessPolicyMatch_b': None, 'EventName_s': '', 'httpMethod_s': '', 'subnetId_s': '', 'type_s': '', 'instanceId_s': '', 'macAddress_s': '', 'vnetResourceGuid_g': '', 'direction_s': '', 'subnetPrefix_s': '', 'primaryIPv4Address_s': '', 'conditions_sourcePortRange_s': '', 'priority_d': None, 'conditions_destinationPortRange_s': '', 'conditions_destinationIP_s': '', 'conditions_None_s': '', 'conditions_sourceIP_s': '', 'httpVersion_s': '', 'matchedConnections_d': None, 'startTime_t': None, 'endTime_t': None, 'DatabaseName_s': '', 'clientIP_s': '', 'host_s': '', 'requestQuery_s': '', 'sslEnabled_s': '', 'clientPort_d': None, 'httpStatus_d': None, 'receivedBytes_d': None, 'sentBytes_d': None, 'timeTaken_d': None, 'resultDescription_ErrorJobs_s': '', 'resultDescription_ChildJobs_s': '', 'identity_claim_http_schemas_microsoft_com_identity_claims_scope_s': '', 'workflowId_s': '', 'resource_location_s': '', 'resource_workflowId_g': '', 'resource_resourceGroupName_s': '', 'resource_subscriptionId_g': '', 'resource_runId_s': '', 'resource_workflowName_s': '', '_schema_s': '', 'correlation_clientTrackingId_s': '', 'properties_sku_Family_s': '', 'properties_sku_Name_s': '', 'properties_tenantId_g': '', 'properties_enabledForDeployment_b': None, 'code_s': '', 'resultDescription_Summary_MachineId_s': '', 'resultDescription_Summary_ScheduleName_s': '', 'resultDescription_Summary_Status_s': '', 'resultDescription_Summary_StatusDescription_s': '', 'resultDescription_Summary_MachineName_s': '', 'resultDescription_Summary_TotalUpdatesInstalled_d': None, 'resultDescription_Summary_RebootRequired_b': None, 'resultDescription_Summary_TotalUpdatesFailed_d': None, 'resultDescription_Summary_InstallPercentage_d': None, 'resultDescription_Summary_StartDateTimeUtc_t': None, 'resource_triggerName_s': '', 'resultDescription_Summary_InitialRequiredUpdatesCount_d': None, 'properties_enabledForTemplateDeployment_b': None, 'resultDescription_Summary_EndDateTimeUtc_s': '', 'resultDescription_Summary_DurationInMinutes_s': '', 'resource_originRunId_s': '', 'properties_enabledForDiskEncryption_b': None, 'resource_actionName_s': '', 'correlation_actionTrackingId_g': '', 'resultDescription_Summary_EndDateTimeUtc_t': None, 'resultDescription_Summary_DurationInMinutes_d': None, 'conditions_protocols_s': '', 'identity_claim_ipaddr_s': '', 'ElasticPoolName_s': '', 'identity_claim_http_schemas_microsoft_com_claims_authnmethodsreferences_s': '', 'RunOn_s': '', 'query_hash_s': '', 'SourceSystem': 'Azure', 'MG': '', 'ManagementGroupName': '', 'Computer': '', 'RawData': '', 'error_state_d': None, 'deadlock_xml_s': '', 'query_plan_hash_s': '', 'error_number_d': None, 'Severity': None, 'user_defined_b': None, 'state_d': None, 'package_s': 'SecAudit', 'event_s': 'audit_event_shoebox', 'sessionName_s': 'audit_session_for_shoebox', 'originalEventTimestamp_t': datetime.datetime(2021, 1, 31, 17, 14, 21, 320000, tzinfo=tzutc()), 'audit_schema_version_d': 1, 'event_time_t': datetime.datetime(2021, 1, 31, 17, 14, 21, 170000, tzinfo=tzutc()), 'sequence_number_d': 1, 'action_id_s': 'BCM ', 'action_name_s': 'BATCH COMPLETED', 'succeeded_s': 'true', 'is_column_permission_s': 'false', 'session_id_d': 61, 'server_principal_id_d': 0, 'database_principal_id_d': 5, 'target_server_principal_id_d': 0, 'target_database_principal_id_d': 0, 'object_id_d': 5, 'user_defined_event_id_d': 0, 'transaction_id_d': 0, 'class_type_s': 'DB', 'class_type_description_s': 'DATABASE', 'securable_class_type_s': 'DATABASE', 'duration_milliseconds_d': 0, 'response_rows_d': 1, 'affected_rows_d': 1, 'client_ip_s': '131.107.174.142', 'permission_bitmask_g': '00000000-0000-0000-0000-000000000000', 'sequence_group_id_g': '13bcac03-040f-4cc5-9a34-db7ce3cefa9b', 'session_server_principal_name_s': 'adslivesite', 'server_principal_name_s': 'adslivesite', 'server_principal_sid_s': '01060000000001640000000000000000cef04990da142347be1357149f87e7c1', 'database_principal_name_s': 'adslivesite', 'target_server_principal_name_s': '', 'target_server_principal_sid_s': '', 'target_database_principal_name_s': '', 'server_instance_name_s': 'jukoesmasqldb', 'database_name_s': 'master', 'schema_name_s': '', 'object_name_s': 'master', 'statement_s': \"SELECT ISNULL(SESSIONPROPERTY ('ANSI_NULLS'), 0), ISNULL(SESSIONPROPERTY ('QUOTED_IDENTIFIER'), 1)\", 'additional_information_s': '', 'user_defined_information_s': '', 'application_name_s': 'azdata-GeneralConnection', 'connection_id_g': '3662a6c0-16da-4948-9ce5-743e7fabeec4', 'data_sensitivity_information_s': '', 'host_name_s': 'MSSQLGIRL-01', 'session_context_s': '', 'is_server_level_audit_s': 'true', 'event_id_g': 'ff25e791-7b44-4dbf-8289-90e9e6fe351f', 'AdditionalFields': None, 'Type': 'AzureDiagnostics'},\n {'TimeGenerated': datetime.datetime(2021, 1, 31, 17, 14, 25, 327000, tzinfo=tzutc()), 'Category': 'SQLSecurityAuditEvents', 'ResourceProvider': 'MICROSOFT.SQL', 'Resource': 'MASTER', 'ResourceType': 'SERVERS/DATABASES', 'OperationName': 'AuditEvent', 'ResultType': '', 'CorrelationId': '', 'ResultDescription': '', 'Tenant_g': '', 'JobId_g': '', 'RunbookName_s': '', 'StreamType_s': '', 'Caller_s': '', 'requestUri_s': '', 'Level': '', 'DurationMs': None, 'CallerIPAddress': '', 'OperationVersion': '', 'ResultSignature': '', 'id_s': '', 'status_s': '', 'LogicalServerName_s': 'jukoesmasqldb', 'Message': '', 'clientInfo_s': '', 'httpStatusCode_d': None, 'identity_claim_appid_g': '', 'identity_claim_http_schemas_microsoft_com_identity_claims_objectidentifier_g': '', 'userAgent_s': '', 'ruleName_s': '', 'identity_claim_http_schemas_xmlsoap_org_ws_2005_05_identity_claims_upn_s': '', 'systemId_g': '', 'isAccessPolicyMatch_b': None, 'EventName_s': '', 'httpMethod_s': '', 'subnetId_s': '', 'type_s': '', 'instanceId_s': '', 'macAddress_s': '', 'vnetResourceGuid_g': '', 'direction_s': '', 'subnetPrefix_s': '', 'primaryIPv4Address_s': '', 'conditions_sourcePortRange_s': '', 'priority_d': None, 'conditions_destinationPortRange_s': '', 'conditions_destinationIP_s': '', 'conditions_None_s': '', 'conditions_sourceIP_s': '', 'httpVersion_s': '', 'matchedConnections_d': None, 'startTime_t': None, 'endTime_t': None, 'DatabaseName_s': '', 'clientIP_s': '', 'host_s': '', 'requestQuery_s': '', 'sslEnabled_s': '', 'clientPort_d': None, 'httpStatus_d': None, 'receivedBytes_d': None, 'sentBytes_d': None, 'timeTaken_d': None, 'resultDescription_ErrorJobs_s': '', 'resultDescription_ChildJobs_s': '', 'identity_claim_http_schemas_microsoft_com_identity_claims_scope_s': '', 'workflowId_s': '', 'resource_location_s': '', 'resource_workflowId_g': '', 'resource_resourceGroupName_s': '', 'resource_subscriptionId_g': '', 'resource_runId_s': '', 'resource_workflowName_s': '', '_schema_s': '', 'correlation_clientTrackingId_s': '', 'properties_sku_Family_s': '', 'properties_sku_Name_s': '', 'properties_tenantId_g': '', 'properties_enabledForDeployment_b': None, 'code_s': '', 'resultDescription_Summary_MachineId_s': '', 'resultDescription_Summary_ScheduleName_s': '', 'resultDescription_Summary_Status_s': '', 'resultDescription_Summary_StatusDescription_s': '', 'resultDescription_Summary_MachineName_s': '', 'resultDescription_Summary_TotalUpdatesInstalled_d': None, 'resultDescription_Summary_RebootRequired_b': None, 'resultDescription_Summary_TotalUpdatesFailed_d': None, 'resultDescription_Summary_InstallPercentage_d': None, 'resultDescription_Summary_StartDateTimeUtc_t': None, 'resource_triggerName_s': '', 'resultDescription_Summary_InitialRequiredUpdatesCount_d': None, 'properties_enabledForTemplateDeployment_b': None, 'resultDescription_Summary_EndDateTimeUtc_s': '', 'resultDescription_Summary_DurationInMinutes_s': '', 'resource_originRunId_s': '', 'properties_enabledForDiskEncryption_b': None, 'resource_actionName_s': '', 'correlation_actionTrackingId_g': '', 'resultDescription_Summary_EndDateTimeUtc_t': None, 'resultDescription_Summary_DurationInMinutes_d': None, 'conditions_protocols_s': '', 'identity_claim_ipaddr_s': '', 'ElasticPoolName_s': '', 'identity_claim_http_schemas_microsoft_com_claims_authnmethodsreferences_s': '', 'RunOn_s': '', 'query_hash_s': '', 'SourceSystem': 'Azure', 'MG': '', 'ManagementGroupName': '', 'Computer': '', 'RawData': '', 'error_state_d': None, 'deadlock_xml_s': '', 'query_plan_hash_s': '', 'error_number_d': None, 'Severity': None, 'user_defined_b': None, 'state_d': None, 'package_s': 'SecAudit', 'event_s': 'audit_event_shoebox', 'sessionName_s': 'audit_session_for_shoebox', 'originalEventTimestamp_t': datetime.datetime(2021, 1, 31, 17, 14, 25, 315000, tzinfo=tzutc()), 'audit_schema_version_d': 1, 'event_time_t': datetime.datetime(2021, 1, 31, 17, 14, 25, 61000, tzinfo=tzutc()), 'sequence_number_d': 1, 'action_id_s': 'BCM ', 'action_name_s': 'BATCH COMPLETED', 'succeeded_s': 'true', 'is_column_permission_s': 'false', 'session_id_d': 61, 'server_principal_id_d': 0, 'database_principal_id_d': 5, 'target_server_principal_id_d': 0, 'target_database_principal_id_d': 0, 'object_id_d': 5, 'user_defined_event_id_d': 0, 'transaction_id_d': 0, 'class_type_s': 'DB', 'class_type_description_s': 'DATABASE', 'securable_class_type_s': 'DATABASE', 'duration_milliseconds_d': 0, 'response_rows_d': 1, 'affected_rows_d': 1, 'client_ip_s': '131.107.174.142', 'permission_bitmask_g': '00000000-0000-0000-0000-000000000000', 'sequence_group_id_g': '288dd012-0f63-422f-b178-c1b9c46b18ca', 'session_server_principal_name_s': 'adslivesite', 'server_principal_name_s': 'adslivesite', 'server_principal_sid_s': '01060000000001640000000000000000cef04990da142347be1357149f87e7c1', 'database_principal_name_s': 'adslivesite', 'target_server_principal_name_s': '', 'target_server_principal_sid_s': '', 'target_database_principal_name_s': '', 'server_instance_name_s': 'jukoesmasqldb', 'database_name_s': 'master', 'schema_name_s': '', 'object_name_s': 'master', 'statement_s': 'SELECT CONVERT(NVARCHAR(36), CONTEXT_INFO())', 'additional_information_s': '', 'user_defined_information_s': '', 'application_name_s': 'azdata-GeneralConnection', 'connection_id_g': '3662a6c0-16da-4948-9ce5-743e7fabeec4', 'data_sensitivity_information_s': '', 'host_name_s': 'MSSQLGIRL-01', 'session_context_s': '', 'is_server_level_audit_s': 'true', 'event_id_g': '4a8600ef-ee42-4197-80cc-6b4824da1043', 'AdditionalFields': None, 'Type': 'AzureDiagnostics'},\n {'TimeGenerated': datetime.datetime(2021, 1, 31, 17, 14, 25, 327000, tzinfo=tzutc()), 'Category': 'SQLSecurityAuditEvents', 'ResourceProvider': 'MICROSOFT.SQL', 'Resource': 'MASTER', 'ResourceType': 'SERVERS/DATABASES', 'OperationName': 'AuditEvent', 'ResultType': '', 'CorrelationId': '', 'ResultDescription': '', 'Tenant_g': '', 'JobId_g': '', 'RunbookName_s': '', 'StreamType_s': '', 'Caller_s': '', 'requestUri_s': '', 'Level': '', 'DurationMs': None, 'CallerIPAddress': '', 'OperationVersion': '', 'ResultSignature': '', 'id_s': '', 'status_s': '', 'LogicalServerName_s': 'jukoesmasqldb', 'Message': '', 'clientInfo_s': '', 'httpStatusCode_d': None, 'identity_claim_appid_g': '', 'identity_claim_http_schemas_microsoft_com_identity_claims_objectidentifier_g': '', 'userAgent_s': '', 'ruleName_s': '', 'identity_claim_http_schemas_xmlsoap_org_ws_2005_05_identity_claims_upn_s': '', 'systemId_g': '', 'isAccessPolicyMatch_b': None, 'EventName_s': '', 'httpMethod_s': '', 'subnetId_s': '', 'type_s': '', 'instanceId_s': '', 'macAddress_s': '', 'vnetResourceGuid_g': '', 'direction_s': '', 'subnetPrefix_s': '', 'primaryIPv4Address_s': '', 'conditions_sourcePortRange_s': '', 'priority_d': None, 'conditions_destinationPortRange_s': '', 'conditions_destinationIP_s': '', 'conditions_None_s': '', 'conditions_sourceIP_s': '', 'httpVersion_s': '', 'matchedConnections_d': None, 'startTime_t': None, 'endTime_t': None, 'DatabaseName_s': '', 'clientIP_s': '', 'host_s': '', 'requestQuery_s': '', 'sslEnabled_s': '', 'clientPort_d': None, 'httpStatus_d': None, 'receivedBytes_d': None, 'sentBytes_d': None, 'timeTaken_d': None, 'resultDescription_ErrorJobs_s': '', 'resultDescription_ChildJobs_s': '', 'identity_claim_http_schemas_microsoft_com_identity_claims_scope_s': '', 'workflowId_s': '', 'resource_location_s': '', 'resource_workflowId_g': '', 'resource_resourceGroupName_s': '', 'resource_subscriptionId_g': '', 'resource_runId_s': '', 'resource_workflowName_s': '', '_schema_s': '', 'correlation_clientTrackingId_s': '', 'properties_sku_Family_s': '', 'properties_sku_Name_s': '', 'properties_tenantId_g': '', 'properties_enabledForDeployment_b': None, 'code_s': '', 'resultDescription_Summary_MachineId_s': '', 'resultDescription_Summary_ScheduleName_s': '', 'resultDescription_Summary_Status_s': '', 'resultDescription_Summary_StatusDescription_s': '', 'resultDescription_Summary_MachineName_s': '', 'resultDescription_Summary_TotalUpdatesInstalled_d': None, 'resultDescription_Summary_RebootRequired_b': None, 'resultDescription_Summary_TotalUpdatesFailed_d': None, 'resultDescription_Summary_InstallPercentage_d': None, 'resultDescription_Summary_StartDateTimeUtc_t': None, 'resource_triggerName_s': '', 'resultDescription_Summary_InitialRequiredUpdatesCount_d': None, 'properties_enabledForTemplateDeployment_b': None, 'resultDescription_Summary_EndDateTimeUtc_s': '', 'resultDescription_Summary_DurationInMinutes_s': '', 'resource_originRunId_s': '', 'properties_enabledForDiskEncryption_b': None, 'resource_actionName_s': '', 'correlation_actionTrackingId_g': '', 'resultDescription_Summary_EndDateTimeUtc_t': None, 'resultDescription_Summary_DurationInMinutes_d': None, 'conditions_protocols_s': '', 'identity_claim_ipaddr_s': '', 'ElasticPoolName_s': '', 'identity_claim_http_schemas_microsoft_com_claims_authnmethodsreferences_s': '', 'RunOn_s': '', 'query_hash_s': '', 'SourceSystem': 'Azure', 'MG': '', 'ManagementGroupName': '', 'Computer': '', 'RawData': '', 'error_state_d': None, 'deadlock_xml_s': '', 'query_plan_hash_s': '', 'error_number_d': None, 'Severity': None, 'user_defined_b': None, 'state_d': None, 'package_s': 'SecAudit', 'event_s': 'audit_event_shoebox', 'sessionName_s': 'audit_session_for_shoebox', 'originalEventTimestamp_t': datetime.datetime(2021, 1, 31, 17, 14, 25, 315000, tzinfo=tzutc()), 'audit_schema_version_d': 1, 'event_time_t': datetime.datetime(2021, 1, 31, 17, 14, 25, 170000, tzinfo=tzutc()), 'sequence_number_d': 1, 'action_id_s': 'BCM ', 'action_name_s': 'BATCH COMPLETED', 'succeeded_s': 'true', 'is_column_permission_s': 'false', 'session_id_d': 61, 'server_principal_id_d': 0, 'database_principal_id_d': 5, 'target_server_principal_id_d': 0, 'target_database_principal_id_d': 0, 'object_id_d': 5, 'user_defined_event_id_d': 0, 'transaction_id_d': 0, 'class_type_s': 'DB', 'class_type_description_s': 'DATABASE', 'securable_class_type_s': 'DATABASE', 'duration_milliseconds_d': 0, 'response_rows_d': 0, 'affected_rows_d': 0, 'client_ip_s': '131.107.174.142', 'permission_bitmask_g': '00000000-0000-0000-0000-000000000000', 'sequence_group_id_g': '9f4665c9-7a38-448e-99fc-93fa7abe51d0', 'session_server_principal_name_s': 'adslivesite', 'server_principal_name_s': 'adslivesite', 'server_principal_sid_s': '01060000000001640000000000000000cef04990da142347be1357149f87e7c1', 'database_principal_name_s': 'adslivesite', 'target_server_principal_name_s': '', 'target_server_principal_sid_s': '', 'target_database_principal_name_s': '', 'server_instance_name_s': 'jukoesmasqldb', 'database_name_s': 'master', 'schema_name_s': '', 'object_name_s': 'master', 'statement_s': 'set LOCK_TIMEOUT 5000', 'additional_information_s': '', 'user_defined_information_s': '', 'application_name_s': 'azdata-GeneralConnection', 'connection_id_g': '3662a6c0-16da-4948-9ce5-743e7fabeec4', 'data_sensitivity_information_s': '', 'host_name_s': 'MSSQLGIRL-01', 'session_context_s': '', 'is_server_level_audit_s': 'true', 'event_id_g': '59dac3f7-2033-4b04-9851-d7fd19afeb1a', 'AdditionalFields': None, 'Type': 'AzureDiagnostics'},\n {'TimeGenerated': datetime.datetime(2021, 1, 31, 17, 14, 26, 327000, tzinfo=tzutc()), 'Category': 'SQLSecurityAuditEvents', 'ResourceProvider': 'MICROSOFT.SQL', 'Resource': 'MASTER', 'ResourceType': 'SERVERS/DATABASES', 'OperationName': 'AuditEvent', 'ResultType': '', 'CorrelationId': '', 'ResultDescription': '', 'Tenant_g': '', 'JobId_g': '', 'RunbookName_s': '', 'StreamType_s': '', 'Caller_s': '', 'requestUri_s': '', 'Level': '', 'DurationMs': None, 'CallerIPAddress': '', 'OperationVersion': '', 'ResultSignature': '', 'id_s': '', 'status_s': '', 'LogicalServerName_s': 'jukoesmasqldb', 'Message': '', 'clientInfo_s': '', 'httpStatusCode_d': None, 'identity_claim_appid_g': '', 'identity_claim_http_schemas_microsoft_com_identity_claims_objectidentifier_g': '', 'userAgent_s': '', 'ruleName_s': '', 'identity_claim_http_schemas_xmlsoap_org_ws_2005_05_identity_claims_upn_s': '', 'systemId_g': '', 'isAccessPolicyMatch_b': None, 'EventName_s': '', 'httpMethod_s': '', 'subnetId_s': '', 'type_s': '', 'instanceId_s': '', 'macAddress_s': '', 'vnetResourceGuid_g': '', 'direction_s': '', 'subnetPrefix_s': '', 'primaryIPv4Address_s': '', 'conditions_sourcePortRange_s': '', 'priority_d': None, 'conditions_destinationPortRange_s': '', 'conditions_destinationIP_s': '', 'conditions_None_s': '', 'conditions_sourceIP_s': '', 'httpVersion_s': '', 'matchedConnections_d': None, 'startTime_t': None, 'endTime_t': None, 'DatabaseName_s': '', 'clientIP_s': '', 'host_s': '', 'requestQuery_s': '', 'sslEnabled_s': '', 'clientPort_d': None, 'httpStatus_d': None, 'receivedBytes_d': None, 'sentBytes_d': None, 'timeTaken_d': None, 'resultDescription_ErrorJobs_s': '', 'resultDescription_ChildJobs_s': '', 'identity_claim_http_schemas_microsoft_com_identity_claims_scope_s': '', 'workflowId_s': '', 'resource_location_s': '', 'resource_workflowId_g': '', 'resource_resourceGroupName_s': '', 'resource_subscriptionId_g': '', 'resource_runId_s': '', 'resource_workflowName_s': '', '_schema_s': '', 'correlation_clientTrackingId_s': '', 'properties_sku_Family_s': '', 'properties_sku_Name_s': '', 'properties_tenantId_g': '', 'properties_enabledForDeployment_b': None, 'code_s': '', 'resultDescription_Summary_MachineId_s': '', 'resultDescription_Summary_ScheduleName_s': '', 'resultDescription_Summary_Status_s': '', 'resultDescription_Summary_StatusDescription_s': '', 'resultDescription_Summary_MachineName_s': '', 'resultDescription_Summary_TotalUpdatesInstalled_d': None, 'resultDescription_Summary_RebootRequired_b': None, 'resultDescription_Summary_TotalUpdatesFailed_d': None, 'resultDescription_Summary_InstallPercentage_d': None, 'resultDescription_Summary_StartDateTimeUtc_t': None, 'resource_triggerName_s': '', 'resultDescription_Summary_InitialRequiredUpdatesCount_d': None, 'properties_enabledForTemplateDeployment_b': None, 'resultDescription_Summary_EndDateTimeUtc_s': '', 'resultDescription_Summary_DurationInMinutes_s': '', 'resource_originRunId_s': '', 'properties_enabledForDiskEncryption_b': None, 'resource_actionName_s': '', 'correlation_actionTrackingId_g': '', 'resultDescription_Summary_EndDateTimeUtc_t': None, 'resultDescription_Summary_DurationInMinutes_d': None, 'conditions_protocols_s': '', 'identity_claim_ipaddr_s': '', 'ElasticPoolName_s': '', 'identity_claim_http_schemas_microsoft_com_claims_authnmethodsreferences_s': '', 'RunOn_s': '', 'query_hash_s': '', 'SourceSystem': 'Azure', 'MG': '', 'ManagementGroupName': '', 'Computer': '', 'RawData': '', 'error_state_d': None, 'deadlock_xml_s': '', 'query_plan_hash_s': '', 'error_number_d': None, 'Severity': None, 'user_defined_b': None, 'state_d': None, 'package_s': 'SecAudit', 'event_s': 'audit_event_shoebox', 'sessionName_s': 'audit_session_for_shoebox', 'originalEventTimestamp_t': datetime.datetime(2021, 1, 31, 17, 14, 26, 319000, tzinfo=tzutc()), 'audit_schema_version_d': 1, 'event_time_t': datetime.datetime(2021, 1, 31, 17, 14, 25, 889000, tzinfo=tzutc()), 'sequence_number_d': 1, 'action_id_s': 'BCM ', 'action_name_s': 'BATCH COMPLETED', 'succeeded_s': 'true', 'is_column_permission_s': 'false', 'session_id_d': 61, 'server_principal_id_d': 0, 'database_principal_id_d': 5, 'target_server_principal_id_d': 0, 'target_database_principal_id_d': 0, 'object_id_d': 5, 'user_defined_event_id_d': 0, 'transaction_id_d': 0, 'class_type_s': 'DB', 'class_type_description_s': 'DATABASE', 'securable_class_type_s': 'DATABASE', 'duration_milliseconds_d': 0, 'response_rows_d': 0, 'affected_rows_d': 0, 'client_ip_s': '131.107.174.142', 'permission_bitmask_g': '00000000-0000-0000-0000-000000000000', 'sequence_group_id_g': '620f1339-15e5-48d4-9e4c-52d42875d01b', 'session_server_principal_name_s': 'adslivesite', 'server_principal_name_s': 'adslivesite', 'server_principal_sid_s': '01060000000001640000000000000000cef04990da142347be1357149f87e7c1', 'database_principal_name_s': 'adslivesite', 'target_server_principal_name_s': '', 'target_server_principal_sid_s': '', 'target_database_principal_name_s': '', 'server_instance_name_s': 'jukoesmasqldb', 'database_name_s': 'master', 'schema_name_s': '', 'object_name_s': 'master', 'statement_s': 'SET ANSI_NULLS, ANSI_PADDING, ANSI_WARNINGS, ARITHABORT, CONCAT_NULL_YIELDS_NULL, QUOTED_IDENTIFIER ON;\\r\\nSET NUMERIC_ROUNDABORT OFF;', 'additional_information_s': '', 'user_defined_information_s': '', 'application_name_s': 'azdata-GeneralConnection', 'connection_id_g': '3662a6c0-16da-4948-9ce5-743e7fabeec4', 'data_sensitivity_information_s': '', 'host_name_s': 'MSSQLGIRL-01', 'session_context_s': '', 'is_server_level_audit_s': 'true', 'event_id_g': '9b180e35-0a5a-4fb2-b688-8a7f2ecd8ed0', 'AdditionalFields': None, 'Type': 'AzureDiagnostics'}]",
                        "text/html": ""
                    },
                    "metadata": {},
                    "execution_count": 38,
                    "output_type": "execute_result"
                }
            ],
            "execution_count": 38
        },
        {
            "cell_type": "markdown",
            "source": [
                "## Deadlock Analysis"
            ],
            "metadata": {
                "azdata_cell_guid": "a1661835-fcb5-4af9-a353-4e7a0c70cb56"
            }
        },
        {
            "cell_type": "code",
            "source": [
                "%%kql\r\n",
                "AzureDiagnostics\r\n",
                "| where OperationName == \"DeadlockEvent\"\r\n",
                "| project TimeGenerated, Category, Resource, OperationName, Type, deadlock_xml_s\r\n",
                "| sort by TimeGenerated desc\r\n",
                "| take 50"
            ],
            "metadata": {
                "azdata_cell_guid": "60a7b4cb-076c-4222-a80f-a6e11cf51a4e"
            },
            "outputs": [
                {
                    "data": {
                        "text/plain": "<IPython.core.display.HTML object>",
                        "text/html": "<html>\n        <head>\n            \n            \n        </head>\n        <body>\n            <div><p style='padding: 10px; color: #3a87ad; background-color: #d9edf7; border-color: #bce9f1'>&nbsp;*&nbsp;myLogAnalyticsWorkspace@loganalytics</p></div>\n        </body>\n        </html>"
                    },
                    "metadata": {},
                    "output_type": "display_data"
                },
                {
                    "data": {
                        "text/plain": "                     TimeGenerated   Category        Resource  OperationName  \\\n0 2021-01-31 17:52:44.755000+00:00  Deadlocks  ADVENTUREWORKS  DeadlockEvent   \n1 2021-01-31 17:49:57.021000+00:00  Deadlocks  ADVENTUREWORKS  DeadlockEvent   \n2 2021-01-31 17:41:58.653000+00:00  Deadlocks  ADVENTUREWORKS  DeadlockEvent   \n\n               Type                                     deadlock_xml_s  \n0  AzureDiagnostics  <deadlock>   <victim-list>    <victimProcess i...  \n1  AzureDiagnostics  <deadlock>   <victim-list>    <victimProcess i...  \n2  AzureDiagnostics  <deadlock>   <victim-list>    <victimProcess i...  ",
                        "text/html": "<div>\n<style scoped>\n    .dataframe tbody tr th:only-of-type {\n        vertical-align: middle;\n    }\n\n    .dataframe tbody tr th {\n        vertical-align: top;\n    }\n\n    .dataframe thead th {\n        text-align: right;\n    }\n</style>\n<table border=\"1\" class=\"dataframe\">\n  <thead>\n    <tr style=\"text-align: right;\">\n      <th></th>\n      <th>TimeGenerated</th>\n      <th>Category</th>\n      <th>Resource</th>\n      <th>OperationName</th>\n      <th>Type</th>\n      <th>deadlock_xml_s</th>\n    </tr>\n  </thead>\n  <tbody>\n    <tr>\n      <th>0</th>\n      <td>2021-01-31 17:52:44.755000+00:00</td>\n      <td>Deadlocks</td>\n      <td>ADVENTUREWORKS</td>\n      <td>DeadlockEvent</td>\n      <td>AzureDiagnostics</td>\n      <td>&lt;deadlock&gt;   &lt;victim-list&gt;    &lt;victimProcess i...</td>\n    </tr>\n    <tr>\n      <th>1</th>\n      <td>2021-01-31 17:49:57.021000+00:00</td>\n      <td>Deadlocks</td>\n      <td>ADVENTUREWORKS</td>\n      <td>DeadlockEvent</td>\n      <td>AzureDiagnostics</td>\n      <td>&lt;deadlock&gt;   &lt;victim-list&gt;    &lt;victimProcess i...</td>\n    </tr>\n    <tr>\n      <th>2</th>\n      <td>2021-01-31 17:41:58.653000+00:00</td>\n      <td>Deadlocks</td>\n      <td>ADVENTUREWORKS</td>\n      <td>DeadlockEvent</td>\n      <td>AzureDiagnostics</td>\n      <td>&lt;deadlock&gt;   &lt;victim-list&gt;    &lt;victimProcess i...</td>\n    </tr>\n  </tbody>\n</table>\n</div>",
                        "application/vnd.dataresource+json": {
                            "schema": {
                                "fields": [
                                    {
                                        "name": "TimeGenerated",
                                        "type": "datetime",
                                        "tz": "UTC"
                                    },
                                    {
                                        "name": "Category",
                                        "type": "string"
                                    },
                                    {
                                        "name": "Resource",
                                        "type": "string"
                                    },
                                    {
                                        "name": "OperationName",
                                        "type": "string"
                                    },
                                    {
                                        "name": "Type",
                                        "type": "string"
                                    },
                                    {
                                        "name": "deadlock_xml_s",
                                        "type": "string"
                                    }
                                ],
                                "kqmagic_version": "0.1.113.post1"
                            },
                            "data": [
                                {
                                    "TimeGenerated": "2021-01-31T17:52:44.755Z",
                                    "Category": "Deadlocks",
                                    "Resource": "ADVENTUREWORKS",
                                    "OperationName": "DeadlockEvent",
                                    "Type": "AzureDiagnostics",
                                    "deadlock_xml_s": "<deadlock>   <victim-list>    <victimProcess id='process1e2a5639468'/>   </victim-list>   <process-list>    <process id='process1e2a5639468' taskpriority='0' logused='280' waitresource='KEY: 5:72057594046447616 (5495ec521809)' waittime='9481' ownerId='3893462' transactionname='user_transaction' lasttranstarted='2021-01-31T17:52:35.270' XDES='0x1e2aa214428' lockMode='U' schedulerid='1' kpid='55800' status='suspended' spid='106' sbid='0' ecid='0' priority='0' trancount='2' lastbatchstarted='2021-01-31T17:52:35.270' lastbatchcompleted='2021-01-31T17:52:34.847' lastattention='1900-01-01T00:00:00.847' clientapp='azdata-Query' hostname='filtered' hostpid='30132' loginname='filtered' isolationlevel='read committed (2)' xactid='3893462' currentdb='5' currentdbname='AdventureWorks' lockTimeout='4294967295' clientoption1='671156320' clientoption2='390200'>     <executionStack>      <frame procname='unknown' queryhash='0xfb56c41f149be1bf' queryplanhash='0x61108d8e53ae0281' line='6' stmtstart='194' stmtend='356' sqlhandle='0x0200000076fe5d1c0c6a574e5832f3b8ff93e633e3a1d6ae0000000000000000000000000000000000000000'>  unknown    </frame>      <frame procname='unknown' queryhash='0xfb56c41f149be1bf' queryplanhash='0x61108d8e53ae0281' line='6' stmtstart='194' stmtend='356' sqlhandle='0x020000000df1110986de8e95f385d65ef83110141c59d4800000000000000000000000000000000000000000'>  unknown    </frame>     </executionStack>     <inputbuf>  filtered   </inputbuf>    </process>    <process id='process1e29e0d7c28' taskpriority='0' logused='524' waitresource='KEY: 5:72057594046382080 (8194443284a0)' waittime='4470' ownerId='3893464' transactionname='user_transaction' lasttranstarted='2021-01-31T17:52:35.270' XDES='0x1e2b1a20428' lockMode='U' schedulerid='2' kpid='58920' status='suspended' spid='99' sbid='0' ecid='0' priority='0' trancount='2' lastbatchstarted='2021-01-31T17:52:35.270' lastbatchcompleted='2021-01-31T17:52:34.847' lastattention='2021-01-31T17:49:38.033' clientapp='azdata-Query' hostname='filtered' hostpid='30132' loginname='filtered' isolationlevel='read committed (2)' xactid='3893464' currentdb='5' currentdbname='AdventureWorks' lockTimeout='4294967295' clientoption1='671156320' clientoption2='390200'>     <executionStack>      <frame procname='unknown' queryhash='0xa57159d12cb813fb' queryplanhash='0x10cbf3310dab2eb5' line='8' stmtstart='58' stmtend='186' sqlhandle='0x020000009897910214549261257b982dc5f67c7e4f562ee10000000000000000000000000000000000000000'>  unknown    </frame>      <frame procname='unknown' queryhash='0xa57159d12cb813fb' queryplanhash='0x10cbf3310dab2eb5' line='8' stmtstart='274' stmtend='412' sqlhandle='0x0200000097c0ba25141e65dbe8b66da5a6d53b0fb9435de90000000000000000000000000000000000000000'>  unknown    </frame>     </executionStack>     <inputbuf>  filtered   </inputbuf>    </process>   </process-list>   <resource-list>    <keylock hobtid='72057594046447616' dbid='5' objectname='filtered' indexname='filtered' id='lock1e2b8428380' mode='X' associatedObjectId='72057594046447616'>     <owner-list>      <owner id='process1e29e0d7c28' mode='X'/>     </owner-list>     <waiter-list>      <waiter id='process1e2a5639468' mode='U' requestType='wait'/>     </waiter-list>    </keylock>    <keylock hobtid='72057594046382080' dbid='5' objectname='filtered' indexname='filtered' id='lock1e2b842f000' mode='X' associatedObjectId='72057594046382080'>     <owner-list>      <owner id='process1e2a5639468' mode='X'/>     </owner-list>     <waiter-list>      <waiter id='process1e29e0d7c28' mode='U' requestType='wait'/>     </waiter-list>    </keylock>   </resource-list>  </deadlock>  "
                                },
                                {
                                    "TimeGenerated": "2021-01-31T17:49:57.021Z",
                                    "Category": "Deadlocks",
                                    "Resource": "ADVENTUREWORKS",
                                    "OperationName": "DeadlockEvent",
                                    "Type": "AzureDiagnostics",
                                    "deadlock_xml_s": "<deadlock>   <victim-list>    <victimProcess id='process1e298f13848'/>   </victim-list>   <process-list>    <process id='process1e298f13848' taskpriority='0' logused='280' waitresource='KEY: 5:72057594046447616 (5495ec521809)' waittime='6427' ownerId='3892244' transactionname='user_transaction' lasttranstarted='2021-01-31T17:49:50.583' XDES='0x1e2aa214428' lockMode='U' schedulerid='1' kpid='73884' status='suspended' spid='106' sbid='0' ecid='0' priority='0' trancount='2' lastbatchstarted='2021-01-31T17:49:50.580' lastbatchcompleted='2021-01-31T17:49:50.150' lastattention='1900-01-01T00:00:00.150' clientapp='azdata-Query' hostname='filtered' hostpid='30132' loginname='filtered' isolationlevel='read committed (2)' xactid='3892244' currentdb='5' currentdbname='AdventureWorks' lockTimeout='4294967295' clientoption1='671156320' clientoption2='390200'>     <executionStack>      <frame procname='unknown' queryhash='0xfb56c41f149be1bf' queryplanhash='0x61108d8e53ae0281' line='6' stmtstart='194' stmtend='356' sqlhandle='0x0200000076fe5d1c0c6a574e5832f3b8ff93e633e3a1d6ae0000000000000000000000000000000000000000'>  unknown    </frame>      <frame procname='unknown' queryhash='0xfb56c41f149be1bf' queryplanhash='0x61108d8e53ae0281' line='6' stmtstart='194' stmtend='356' sqlhandle='0x020000000df1110986de8e95f385d65ef83110141c59d4800000000000000000000000000000000000000000'>  unknown    </frame>     </executionStack>     <inputbuf>  filtered   </inputbuf>    </process>    <process id='process1e29c4764e8' taskpriority='0' logused='848' waitresource='KEY: 5:72057594046382080 (8194443284a0)' waittime='2455' ownerId='3891323' transactionname='user_transaction' lasttranstarted='2021-01-31T17:49:25.457' XDES='0x1e2b1a20428' lockMode='U' schedulerid='2' kpid='49644' status='suspended' spid='99' sbid='0' ecid='0' priority='0' trancount='3' lastbatchstarted='2021-01-31T17:49:49.533' lastbatchcompleted='2021-01-31T17:49:49.117' lastattention='2021-01-31T17:49:38.033' clientapp='azdata-Query' hostname='filtered' hostpid='30132' loginname='filtered' isolationlevel='read committed (2)' xactid='3891323' currentdb='5' currentdbname='AdventureWorks' lockTimeout='4294967295' clientoption1='671156320' clientoption2='390200'>     <executionStack>      <frame procname='unknown' queryhash='0xa57159d12cb813fb' queryplanhash='0x10cbf3310dab2eb5' line='8' stmtstart='58' stmtend='186' sqlhandle='0x020000009897910214549261257b982dc5f67c7e4f562ee10000000000000000000000000000000000000000'>  unknown    </frame>      <frame procname='unknown' queryhash='0xa57159d12cb813fb' queryplanhash='0x10cbf3310dab2eb5' line='8' stmtstart='274' stmtend='412' sqlhandle='0x0200000097c0ba25141e65dbe8b66da5a6d53b0fb9435de90000000000000000000000000000000000000000'>  unknown    </frame>     </executionStack>     <inputbuf>  filtered   </inputbuf>    </process>   </process-list>   <resource-list>    <keylock hobtid='72057594046447616' dbid='5' objectname='filtered' indexname='filtered' id='lock1e2a52c8400' mode='X' associatedObjectId='72057594046447616'>     <owner-list>      <owner id='process1e29c4764e8' mode='X'/>     </owner-list>     <waiter-list>      <waiter id='process1e298f13848' mode='U' requestType='wait'/>     </waiter-list>    </keylock>    <keylock hobtid='72057594046382080' dbid='5' objectname='filtered' indexname='filtered' id='lock1e2b842f480' mode='X' associatedObjectId='72057594046382080'>     <owner-list>      <owner id='process1e298f13848' mode='X'/>     </owner-list>     <waiter-list>      <waiter id='process1e29c4764e8' mode='U' requestType='wait'/>     </waiter-list>    </keylock>   </resource-list>  </deadlock>  "
                                },
                                {
                                    "TimeGenerated": "2021-01-31T17:41:58.653Z",
                                    "Category": "Deadlocks",
                                    "Resource": "ADVENTUREWORKS",
                                    "OperationName": "DeadlockEvent",
                                    "Type": "AzureDiagnostics",
                                    "deadlock_xml_s": "<deadlock>   <victim-list>    <victimProcess id='process1e298f128c8'/>   </victim-list>   <process-list>    <process id='process1e298f128c8' taskpriority='0' logused='384' waitresource='KEY: 5:72057594046447616 (5495ec521809)' waittime='54780' ownerId='3884006' transactionname='user_transaction' lasttranstarted='2021-01-31T17:41:03.853' XDES='0x1e2aa21c428' lockMode='U' schedulerid='1' kpid='57492' status='suspended' spid='106' sbid='0' ecid='0' priority='0' trancount='2' lastbatchstarted='2021-01-31T17:41:03.827' lastbatchcompleted='2021-01-31T17:41:02.987' lastattention='1900-01-01T00:00:00.987' clientapp='azdata-Query' hostname='filtered' hostpid='30132' loginname='filtered' isolationlevel='read committed (2)' xactid='0' currentdb='5' currentdbname='AdventureWorks' lockTimeout='4294967295' clientoption1='671156320' clientoption2='390200'>     <executionStack>      <frame procname='unknown' queryhash='0xfb56c41f149be1bf' queryplanhash='0x61108d8e53ae0281' line='6' stmtstart='194' stmtend='356' sqlhandle='0x0200000076fe5d1c0c6a574e5832f3b8ff93e633e3a1d6ae0000000000000000000000000000000000000000'>  unknown    </frame>      <frame procname='unknown' queryhash='0xfb56c41f149be1bf' queryplanhash='0x61108d8e53ae0281' line='6' stmtstart='194' stmtend='356' sqlhandle='0x02000000bcbc6d06ee7254b8fa360aef243c3cd785054d440000000000000000000000000000000000000000'>  unknown    </frame>     </executionStack>     <inputbuf>  filtered   </inputbuf>    </process>    <process id='process1e29e0d6ca8' taskpriority='0' logused='628' waitresource='KEY: 5:72057594046382080 (8194443284a0)' waittime='4776' ownerId='3881310' transactionname='user_transaction' lasttranstarted='2021-01-31T17:37:20.030' XDES='0x1e2aa214428' lockMode='U' schedulerid='2' kpid='18980' status='suspended' spid='99' sbid='0' ecid='0' priority='0' trancount='3' lastbatchstarted='2021-01-31T17:41:03.833' lastbatchcompleted='2021-01-31T17:40:39.953' lastattention='1900-01-01T00:00:00.953' clientapp='azdata-Query' hostname='filtered' hostpid='30132' loginname='filtered' isolationlevel='read committed (2)' xactid='0' currentdb='5' currentdbname='AdventureWorks' lockTimeout='4294967295' clientoption1='671156320' clientoption2='390200'>     <executionStack>      <frame procname='unknown' queryhash='0xa57159d12cb813fb' queryplanhash='0x10cbf3310dab2eb5' line='8' stmtstart='58' stmtend='186' sqlhandle='0x020000009897910214549261257b982dc5f67c7e4f562ee10000000000000000000000000000000000000000'>  unknown    </frame>      <frame procname='unknown' queryhash='0xa57159d12cb813fb' queryplanhash='0x10cbf3310dab2eb5' line='8' stmtstart='274' stmtend='412' sqlhandle='0x0200000078bd6c09d507568a60bc156bb797a23ff6e3eea10000000000000000000000000000000000000000'>  unknown    </frame>     </executionStack>     <inputbuf>  filtered   </inputbuf>    </process>   </process-list>   <resource-list>    <keylock hobtid='72057594046447616' dbid='5' objectname='filtered' indexname='filtered' id='lock1e2b842a080' mode='X' associatedObjectId='72057594046447616'>     <owner-list>      <owner id='process1e29e0d6ca8' mode='X'/>     </owner-list>     <waiter-list>      <waiter id='process1e298f128c8' mode='U' requestType='wait'/>     </waiter-list>    </keylock>    <keylock hobtid='72057594046382080' dbid='5' objectname='filtered' indexname='filtered' id='lock1e2b842ee80' mode='X' associatedObjectId='72057594046382080'>     <owner-list>      <owner id='process1e298f128c8' mode='X'/>     </owner-list>     <waiter-list>      <waiter id='process1e29e0d6ca8' mode='U' requestType='wait'/>     </waiter-list>    </keylock>   </resource-list>  </deadlock>  "
                                }
                            ]
                        }
                    },
                    "metadata": {},
                    "output_type": "display_data"
                },
                {
                    "data": {
                        "text/plain": "<IPython.core.display.HTML object>",
                        "text/html": "<html>\n        <head>\n            \n            \n        </head>\n        <body>\n            <div><p style='padding: 10px; color: #3a87ad; background-color: #d9edf7; border-color: #bce9f1'>Done&nbsp;(00:00.567):&nbsp;3&nbsp;records</p></div>\n        </body>\n        </html>"
                    },
                    "metadata": {},
                    "output_type": "display_data"
                },
                {
                    "data": {
                        "text/plain": "[{'TimeGenerated': datetime.datetime(2021, 1, 31, 17, 52, 44, 755000, tzinfo=tzutc()), 'Category': 'Deadlocks', 'Resource': 'ADVENTUREWORKS', 'OperationName': 'DeadlockEvent', 'Type': 'AzureDiagnostics', 'deadlock_xml_s': \"<deadlock>   <victim-list>    <victimProcess id='process1e2a5639468'/>   </victim-list>   <process-list>    <process id='process1e2a5639468' taskpriority='0' logused='280' waitresource='KEY: 5:72057594046447616 (5495ec521809)' waittime='9481' ownerId='3893462' transactionname='user_transaction' lasttranstarted='2021-01-31T17:52:35.270' XDES='0x1e2aa214428' lockMode='U' schedulerid='1' kpid='55800' status='suspended' spid='106' sbid='0' ecid='0' priority='0' trancount='2' lastbatchstarted='2021-01-31T17:52:35.270' lastbatchcompleted='2021-01-31T17:52:34.847' lastattention='1900-01-01T00:00:00.847' clientapp='azdata-Query' hostname='filtered' hostpid='30132' loginname='filtered' isolationlevel='read committed (2)' xactid='3893462' currentdb='5' currentdbname='AdventureWorks' lockTimeout='4294967295' clientoption1='671156320' clientoption2='390200'>     <executionStack>      <frame procname='unknown' queryhash='0xfb56c41f149be1bf' queryplanhash='0x61108d8e53ae0281' line='6' stmtstart='194' stmtend='356' sqlhandle='0x0200000076fe5d1c0c6a574e5832f3b8ff93e633e3a1d6ae0000000000000000000000000000000000000000'>  unknown    </frame>      <frame procname='unknown' queryhash='0xfb56c41f149be1bf' queryplanhash='0x61108d8e53ae0281' line='6' stmtstart='194' stmtend='356' sqlhandle='0x020000000df1110986de8e95f385d65ef83110141c59d4800000000000000000000000000000000000000000'>  unknown    </frame>     </executionStack>     <inputbuf>  filtered   </inputbuf>    </process>    <process id='process1e29e0d7c28' taskpriority='0' logused='524' waitresource='KEY: 5:72057594046382080 (8194443284a0)' waittime='4470' ownerId='3893464' transactionname='user_transaction' lasttranstarted='2021-01-31T17:52:35.270' XDES='0x1e2b1a20428' lockMode='U' schedulerid='2' kpid='58920' status='suspended' spid='99' sbid='0' ecid='0' priority='0' trancount='2' lastbatchstarted='2021-01-31T17:52:35.270' lastbatchcompleted='2021-01-31T17:52:34.847' lastattention='2021-01-31T17:49:38.033' clientapp='azdata-Query' hostname='filtered' hostpid='30132' loginname='filtered' isolationlevel='read committed (2)' xactid='3893464' currentdb='5' currentdbname='AdventureWorks' lockTimeout='4294967295' clientoption1='671156320' clientoption2='390200'>     <executionStack>      <frame procname='unknown' queryhash='0xa57159d12cb813fb' queryplanhash='0x10cbf3310dab2eb5' line='8' stmtstart='58' stmtend='186' sqlhandle='0x020000009897910214549261257b982dc5f67c7e4f562ee10000000000000000000000000000000000000000'>  unknown    </frame>      <frame procname='unknown' queryhash='0xa57159d12cb813fb' queryplanhash='0x10cbf3310dab2eb5' line='8' stmtstart='274' stmtend='412' sqlhandle='0x0200000097c0ba25141e65dbe8b66da5a6d53b0fb9435de90000000000000000000000000000000000000000'>  unknown    </frame>     </executionStack>     <inputbuf>  filtered   </inputbuf>    </process>   </process-list>   <resource-list>    <keylock hobtid='72057594046447616' dbid='5' objectname='filtered' indexname='filtered' id='lock1e2b8428380' mode='X' associatedObjectId='72057594046447616'>     <owner-list>      <owner id='process1e29e0d7c28' mode='X'/>     </owner-list>     <waiter-list>      <waiter id='process1e2a5639468' mode='U' requestType='wait'/>     </waiter-list>    </keylock>    <keylock hobtid='72057594046382080' dbid='5' objectname='filtered' indexname='filtered' id='lock1e2b842f000' mode='X' associatedObjectId='72057594046382080'>     <owner-list>      <owner id='process1e2a5639468' mode='X'/>     </owner-list>     <waiter-list>      <waiter id='process1e29e0d7c28' mode='U' requestType='wait'/>     </waiter-list>    </keylock>   </resource-list>  </deadlock>  \"},\n {'TimeGenerated': datetime.datetime(2021, 1, 31, 17, 49, 57, 21000, tzinfo=tzutc()), 'Category': 'Deadlocks', 'Resource': 'ADVENTUREWORKS', 'OperationName': 'DeadlockEvent', 'Type': 'AzureDiagnostics', 'deadlock_xml_s': \"<deadlock>   <victim-list>    <victimProcess id='process1e298f13848'/>   </victim-list>   <process-list>    <process id='process1e298f13848' taskpriority='0' logused='280' waitresource='KEY: 5:72057594046447616 (5495ec521809)' waittime='6427' ownerId='3892244' transactionname='user_transaction' lasttranstarted='2021-01-31T17:49:50.583' XDES='0x1e2aa214428' lockMode='U' schedulerid='1' kpid='73884' status='suspended' spid='106' sbid='0' ecid='0' priority='0' trancount='2' lastbatchstarted='2021-01-31T17:49:50.580' lastbatchcompleted='2021-01-31T17:49:50.150' lastattention='1900-01-01T00:00:00.150' clientapp='azdata-Query' hostname='filtered' hostpid='30132' loginname='filtered' isolationlevel='read committed (2)' xactid='3892244' currentdb='5' currentdbname='AdventureWorks' lockTimeout='4294967295' clientoption1='671156320' clientoption2='390200'>     <executionStack>      <frame procname='unknown' queryhash='0xfb56c41f149be1bf' queryplanhash='0x61108d8e53ae0281' line='6' stmtstart='194' stmtend='356' sqlhandle='0x0200000076fe5d1c0c6a574e5832f3b8ff93e633e3a1d6ae0000000000000000000000000000000000000000'>  unknown    </frame>      <frame procname='unknown' queryhash='0xfb56c41f149be1bf' queryplanhash='0x61108d8e53ae0281' line='6' stmtstart='194' stmtend='356' sqlhandle='0x020000000df1110986de8e95f385d65ef83110141c59d4800000000000000000000000000000000000000000'>  unknown    </frame>     </executionStack>     <inputbuf>  filtered   </inputbuf>    </process>    <process id='process1e29c4764e8' taskpriority='0' logused='848' waitresource='KEY: 5:72057594046382080 (8194443284a0)' waittime='2455' ownerId='3891323' transactionname='user_transaction' lasttranstarted='2021-01-31T17:49:25.457' XDES='0x1e2b1a20428' lockMode='U' schedulerid='2' kpid='49644' status='suspended' spid='99' sbid='0' ecid='0' priority='0' trancount='3' lastbatchstarted='2021-01-31T17:49:49.533' lastbatchcompleted='2021-01-31T17:49:49.117' lastattention='2021-01-31T17:49:38.033' clientapp='azdata-Query' hostname='filtered' hostpid='30132' loginname='filtered' isolationlevel='read committed (2)' xactid='3891323' currentdb='5' currentdbname='AdventureWorks' lockTimeout='4294967295' clientoption1='671156320' clientoption2='390200'>     <executionStack>      <frame procname='unknown' queryhash='0xa57159d12cb813fb' queryplanhash='0x10cbf3310dab2eb5' line='8' stmtstart='58' stmtend='186' sqlhandle='0x020000009897910214549261257b982dc5f67c7e4f562ee10000000000000000000000000000000000000000'>  unknown    </frame>      <frame procname='unknown' queryhash='0xa57159d12cb813fb' queryplanhash='0x10cbf3310dab2eb5' line='8' stmtstart='274' stmtend='412' sqlhandle='0x0200000097c0ba25141e65dbe8b66da5a6d53b0fb9435de90000000000000000000000000000000000000000'>  unknown    </frame>     </executionStack>     <inputbuf>  filtered   </inputbuf>    </process>   </process-list>   <resource-list>    <keylock hobtid='72057594046447616' dbid='5' objectname='filtered' indexname='filtered' id='lock1e2a52c8400' mode='X' associatedObjectId='72057594046447616'>     <owner-list>      <owner id='process1e29c4764e8' mode='X'/>     </owner-list>     <waiter-list>      <waiter id='process1e298f13848' mode='U' requestType='wait'/>     </waiter-list>    </keylock>    <keylock hobtid='72057594046382080' dbid='5' objectname='filtered' indexname='filtered' id='lock1e2b842f480' mode='X' associatedObjectId='72057594046382080'>     <owner-list>      <owner id='process1e298f13848' mode='X'/>     </owner-list>     <waiter-list>      <waiter id='process1e29c4764e8' mode='U' requestType='wait'/>     </waiter-list>    </keylock>   </resource-list>  </deadlock>  \"},\n {'TimeGenerated': datetime.datetime(2021, 1, 31, 17, 41, 58, 653000, tzinfo=tzutc()), 'Category': 'Deadlocks', 'Resource': 'ADVENTUREWORKS', 'OperationName': 'DeadlockEvent', 'Type': 'AzureDiagnostics', 'deadlock_xml_s': \"<deadlock>   <victim-list>    <victimProcess id='process1e298f128c8'/>   </victim-list>   <process-list>    <process id='process1e298f128c8' taskpriority='0' logused='384' waitresource='KEY: 5:72057594046447616 (5495ec521809)' waittime='54780' ownerId='3884006' transactionname='user_transaction' lasttranstarted='2021-01-31T17:41:03.853' XDES='0x1e2aa21c428' lockMode='U' schedulerid='1' kpid='57492' status='suspended' spid='106' sbid='0' ecid='0' priority='0' trancount='2' lastbatchstarted='2021-01-31T17:41:03.827' lastbatchcompleted='2021-01-31T17:41:02.987' lastattention='1900-01-01T00:00:00.987' clientapp='azdata-Query' hostname='filtered' hostpid='30132' loginname='filtered' isolationlevel='read committed (2)' xactid='0' currentdb='5' currentdbname='AdventureWorks' lockTimeout='4294967295' clientoption1='671156320' clientoption2='390200'>     <executionStack>      <frame procname='unknown' queryhash='0xfb56c41f149be1bf' queryplanhash='0x61108d8e53ae0281' line='6' stmtstart='194' stmtend='356' sqlhandle='0x0200000076fe5d1c0c6a574e5832f3b8ff93e633e3a1d6ae0000000000000000000000000000000000000000'>  unknown    </frame>      <frame procname='unknown' queryhash='0xfb56c41f149be1bf' queryplanhash='0x61108d8e53ae0281' line='6' stmtstart='194' stmtend='356' sqlhandle='0x02000000bcbc6d06ee7254b8fa360aef243c3cd785054d440000000000000000000000000000000000000000'>  unknown    </frame>     </executionStack>     <inputbuf>  filtered   </inputbuf>    </process>    <process id='process1e29e0d6ca8' taskpriority='0' logused='628' waitresource='KEY: 5:72057594046382080 (8194443284a0)' waittime='4776' ownerId='3881310' transactionname='user_transaction' lasttranstarted='2021-01-31T17:37:20.030' XDES='0x1e2aa214428' lockMode='U' schedulerid='2' kpid='18980' status='suspended' spid='99' sbid='0' ecid='0' priority='0' trancount='3' lastbatchstarted='2021-01-31T17:41:03.833' lastbatchcompleted='2021-01-31T17:40:39.953' lastattention='1900-01-01T00:00:00.953' clientapp='azdata-Query' hostname='filtered' hostpid='30132' loginname='filtered' isolationlevel='read committed (2)' xactid='0' currentdb='5' currentdbname='AdventureWorks' lockTimeout='4294967295' clientoption1='671156320' clientoption2='390200'>     <executionStack>      <frame procname='unknown' queryhash='0xa57159d12cb813fb' queryplanhash='0x10cbf3310dab2eb5' line='8' stmtstart='58' stmtend='186' sqlhandle='0x020000009897910214549261257b982dc5f67c7e4f562ee10000000000000000000000000000000000000000'>  unknown    </frame>      <frame procname='unknown' queryhash='0xa57159d12cb813fb' queryplanhash='0x10cbf3310dab2eb5' line='8' stmtstart='274' stmtend='412' sqlhandle='0x0200000078bd6c09d507568a60bc156bb797a23ff6e3eea10000000000000000000000000000000000000000'>  unknown    </frame>     </executionStack>     <inputbuf>  filtered   </inputbuf>    </process>   </process-list>   <resource-list>    <keylock hobtid='72057594046447616' dbid='5' objectname='filtered' indexname='filtered' id='lock1e2b842a080' mode='X' associatedObjectId='72057594046447616'>     <owner-list>      <owner id='process1e29e0d6ca8' mode='X'/>     </owner-list>     <waiter-list>      <waiter id='process1e298f128c8' mode='U' requestType='wait'/>     </waiter-list>    </keylock>    <keylock hobtid='72057594046382080' dbid='5' objectname='filtered' indexname='filtered' id='lock1e2b842ee80' mode='X' associatedObjectId='72057594046382080'>     <owner-list>      <owner id='process1e298f128c8' mode='X'/>     </owner-list>     <waiter-list>      <waiter id='process1e29e0d6ca8' mode='U' requestType='wait'/>     </waiter-list>    </keylock>   </resource-list>  </deadlock>  \"}]",
                        "text/html": ""
                    },
                    "metadata": {},
                    "execution_count": 41,
                    "output_type": "execute_result"
                }
            ],
            "execution_count": 41
        },
        {
            "cell_type": "markdown",
            "source": [
                "Find the deadlock query plan"
            ],
            "metadata": {
                "azdata_cell_guid": "af8b22fa-3396-4e95-b1d6-1a96fa400f03"
            }
        },
        {
            "cell_type": "code",
            "source": [
                "%%kql\r\n",
                "AzureDiagnostics\r\n",
                "| where OperationName == \"DeadlockEvent\"\r\n",
                "| extend d = parse_xml(deadlock_xml_s)\r\n",
                "| project TimeGenerated, QuerhPlanHash = d.deadlock.[\"process-list\"].process[0].executionStack.frame[0][\"@queryplanhash\"], QueryHash = d.deadlock.[\"process-list\"].process[0].executionStack.frame[0][\"@queryhash\"]\r\n",
                "//| sort by TimeGenerated desc\r\n",
                "| take 50"
            ],
            "metadata": {
                "azdata_cell_guid": "9b024cd2-768f-4ad4-9031-19f22dee9ecd",
                "tags": []
            },
            "outputs": [
                {
                    "data": {
                        "text/plain": "<IPython.core.display.HTML object>",
                        "text/html": "<html>\n        <head>\n            \n            \n        </head>\n        <body>\n            <div><p style='padding: 10px; color: #3a87ad; background-color: #d9edf7; border-color: #bce9f1'>&nbsp;*&nbsp;myLogAnalyticsWorkspace@loganalytics</p></div>\n        </body>\n        </html>"
                    },
                    "metadata": {},
                    "output_type": "display_data"
                },
                {
                    "data": {
                        "text/plain": "                     TimeGenerated       QuerhPlanHash           QueryHash\n0 2021-01-31 23:17:10.991000+00:00  0x61108d8e53ae0281  0xfb56c41f149be1bf\n1 2021-01-31 17:41:58.653000+00:00  0x61108d8e53ae0281  0xfb56c41f149be1bf\n2 2021-01-31 17:49:57.021000+00:00  0x61108d8e53ae0281  0xfb56c41f149be1bf\n3 2021-01-31 17:52:44.755000+00:00  0x61108d8e53ae0281  0xfb56c41f149be1bf",
                        "text/html": "<div>\n<style scoped>\n    .dataframe tbody tr th:only-of-type {\n        vertical-align: middle;\n    }\n\n    .dataframe tbody tr th {\n        vertical-align: top;\n    }\n\n    .dataframe thead th {\n        text-align: right;\n    }\n</style>\n<table border=\"1\" class=\"dataframe\">\n  <thead>\n    <tr style=\"text-align: right;\">\n      <th></th>\n      <th>TimeGenerated</th>\n      <th>QuerhPlanHash</th>\n      <th>QueryHash</th>\n    </tr>\n  </thead>\n  <tbody>\n    <tr>\n      <th>0</th>\n      <td>2021-01-31 23:17:10.991000+00:00</td>\n      <td>0x61108d8e53ae0281</td>\n      <td>0xfb56c41f149be1bf</td>\n    </tr>\n    <tr>\n      <th>1</th>\n      <td>2021-01-31 17:41:58.653000+00:00</td>\n      <td>0x61108d8e53ae0281</td>\n      <td>0xfb56c41f149be1bf</td>\n    </tr>\n    <tr>\n      <th>2</th>\n      <td>2021-01-31 17:49:57.021000+00:00</td>\n      <td>0x61108d8e53ae0281</td>\n      <td>0xfb56c41f149be1bf</td>\n    </tr>\n    <tr>\n      <th>3</th>\n      <td>2021-01-31 17:52:44.755000+00:00</td>\n      <td>0x61108d8e53ae0281</td>\n      <td>0xfb56c41f149be1bf</td>\n    </tr>\n  </tbody>\n</table>\n</div>",
                        "application/vnd.dataresource+json": {
                            "schema": {
                                "fields": [
                                    {
                                        "name": "TimeGenerated",
                                        "type": "datetime",
                                        "tz": "UTC"
                                    },
                                    {
                                        "name": "QuerhPlanHash",
                                        "type": "string"
                                    },
                                    {
                                        "name": "QueryHash",
                                        "type": "string"
                                    }
                                ],
                                "kqmagic_version": "0.1.113.post1"
                            },
                            "data": [
                                {
                                    "TimeGenerated": "2021-01-31T23:17:10.991Z",
                                    "QuerhPlanHash": "0x61108d8e53ae0281",
                                    "QueryHash": "0xfb56c41f149be1bf"
                                },
                                {
                                    "TimeGenerated": "2021-01-31T17:41:58.653Z",
                                    "QuerhPlanHash": "0x61108d8e53ae0281",
                                    "QueryHash": "0xfb56c41f149be1bf"
                                },
                                {
                                    "TimeGenerated": "2021-01-31T17:49:57.021Z",
                                    "QuerhPlanHash": "0x61108d8e53ae0281",
                                    "QueryHash": "0xfb56c41f149be1bf"
                                },
                                {
                                    "TimeGenerated": "2021-01-31T17:52:44.755Z",
                                    "QuerhPlanHash": "0x61108d8e53ae0281",
                                    "QueryHash": "0xfb56c41f149be1bf"
                                }
                            ]
                        }
                    },
                    "metadata": {},
                    "output_type": "display_data"
                },
                {
                    "data": {
                        "text/plain": "<IPython.core.display.HTML object>",
                        "text/html": "<html>\n        <head>\n            \n            \n        </head>\n        <body>\n            <div><p style='padding: 10px; color: #3a87ad; background-color: #d9edf7; border-color: #bce9f1'>Done&nbsp;(00:00.332):&nbsp;4&nbsp;records</p></div>\n        </body>\n        </html>"
                    },
                    "metadata": {},
                    "output_type": "display_data"
                },
                {
                    "data": {
                        "text/plain": "[{'TimeGenerated': datetime.datetime(2021, 1, 31, 23, 17, 10, 991000, tzinfo=tzutc()), 'QuerhPlanHash': '0x61108d8e53ae0281', 'QueryHash': '0xfb56c41f149be1bf'},\n {'TimeGenerated': datetime.datetime(2021, 1, 31, 17, 41, 58, 653000, tzinfo=tzutc()), 'QuerhPlanHash': '0x61108d8e53ae0281', 'QueryHash': '0xfb56c41f149be1bf'},\n {'TimeGenerated': datetime.datetime(2021, 1, 31, 17, 49, 57, 21000, tzinfo=tzutc()), 'QuerhPlanHash': '0x61108d8e53ae0281', 'QueryHash': '0xfb56c41f149be1bf'},\n {'TimeGenerated': datetime.datetime(2021, 1, 31, 17, 52, 44, 755000, tzinfo=tzutc()), 'QuerhPlanHash': '0x61108d8e53ae0281', 'QueryHash': '0xfb56c41f149be1bf'}]",
                        "text/html": ""
                    },
                    "metadata": {},
                    "execution_count": 8,
                    "output_type": "execute_result"
                }
            ],
            "execution_count": 8
        },
        {
            "cell_type": "code",
            "source": [
                "%%kql\r\n",
                "AzureDiagnostics\r\n",
                "| where OperationName == \"QueryStoreRuntimeStatisticsEvent\"\r\n",
                "| project TimeGenerated, query_hash_s, statement_sql_handle_s, query_plan_hash_s\r\n",
                "| take 50"
            ],
            "metadata": {
                "azdata_cell_guid": "f99877c9-38ab-4907-b939-f2d8207fbc71"
            },
            "outputs": [
                {
                    "data": {
                        "text/plain": "<IPython.core.display.HTML object>",
                        "text/html": "<html>\n        <head>\n            \n            \n        </head>\n        <body>\n            <div><p style='padding: 10px; color: #3a87ad; background-color: #d9edf7; border-color: #bce9f1'>&nbsp;*&nbsp;myLogAnalyticsWorkspace@loganalytics</p></div>\n        </body>\n        </html>"
                    },
                    "metadata": {},
                    "output_type": "display_data"
                },
                {
                    "data": {
                        "text/plain": "                     TimeGenerated        query_hash_s  \\\n0 2021-01-31 23:43:11.998000+00:00  0xE8E6F7DC2D2909FE   \n1 2021-01-31 23:28:11.744000+00:00  0xE8E6F7DC2D2909FE   \n2 2021-01-31 23:28:11.744000+00:00  0xD47FA8AE1E407243   \n\n                              statement_sql_handle_s   query_plan_hash_s  \\\n0  0x0900B90F6497028D7C84720EFD387ECE8C2F00000000...  0x037E2E7A34FBE1AD   \n1  0x0900B90F6497028D7C84720EFD387ECE8C2F00000000...  0x037E2E7A34FBE1AD   \n2  0x0900B10677BE63CAE65A693887D6502113BC00000000...  0xFA26A5F6A84C8679   \n\n  statement_s  \n0              \n1              \n2              ",
                        "text/html": "<div>\n<style scoped>\n    .dataframe tbody tr th:only-of-type {\n        vertical-align: middle;\n    }\n\n    .dataframe tbody tr th {\n        vertical-align: top;\n    }\n\n    .dataframe thead th {\n        text-align: right;\n    }\n</style>\n<table border=\"1\" class=\"dataframe\">\n  <thead>\n    <tr style=\"text-align: right;\">\n      <th></th>\n      <th>TimeGenerated</th>\n      <th>query_hash_s</th>\n      <th>statement_sql_handle_s</th>\n      <th>query_plan_hash_s</th>\n      <th>statement_s</th>\n    </tr>\n  </thead>\n  <tbody>\n    <tr>\n      <th>0</th>\n      <td>2021-01-31 23:43:11.998000+00:00</td>\n      <td>0xE8E6F7DC2D2909FE</td>\n      <td>0x0900B90F6497028D7C84720EFD387ECE8C2F00000000...</td>\n      <td>0x037E2E7A34FBE1AD</td>\n      <td></td>\n    </tr>\n    <tr>\n      <th>1</th>\n      <td>2021-01-31 23:28:11.744000+00:00</td>\n      <td>0xE8E6F7DC2D2909FE</td>\n      <td>0x0900B90F6497028D7C84720EFD387ECE8C2F00000000...</td>\n      <td>0x037E2E7A34FBE1AD</td>\n      <td></td>\n    </tr>\n    <tr>\n      <th>2</th>\n      <td>2021-01-31 23:28:11.744000+00:00</td>\n      <td>0xD47FA8AE1E407243</td>\n      <td>0x0900B10677BE63CAE65A693887D6502113BC00000000...</td>\n      <td>0xFA26A5F6A84C8679</td>\n      <td></td>\n    </tr>\n  </tbody>\n</table>\n</div>",
                        "application/vnd.dataresource+json": {
                            "schema": {
                                "fields": [
                                    {
                                        "name": "TimeGenerated",
                                        "type": "datetime",
                                        "tz": "UTC"
                                    },
                                    {
                                        "name": "query_hash_s",
                                        "type": "string"
                                    },
                                    {
                                        "name": "statement_sql_handle_s",
                                        "type": "string"
                                    },
                                    {
                                        "name": "query_plan_hash_s",
                                        "type": "string"
                                    },
                                    {
                                        "name": "statement_s",
                                        "type": "string"
                                    }
                                ],
                                "kqmagic_version": "0.1.113.post1"
                            },
                            "data": [
                                {
                                    "TimeGenerated": "2021-01-31T23:43:11.998Z",
                                    "query_hash_s": "0xE8E6F7DC2D2909FE",
                                    "statement_sql_handle_s": "0x0900B90F6497028D7C84720EFD387ECE8C2F0000000000000000000000000000000000000000000000000000",
                                    "query_plan_hash_s": "0x037E2E7A34FBE1AD",
                                    "statement_s": ""
                                },
                                {
                                    "TimeGenerated": "2021-01-31T23:28:11.744Z",
                                    "query_hash_s": "0xE8E6F7DC2D2909FE",
                                    "statement_sql_handle_s": "0x0900B90F6497028D7C84720EFD387ECE8C2F0000000000000000000000000000000000000000000000000000",
                                    "query_plan_hash_s": "0x037E2E7A34FBE1AD",
                                    "statement_s": ""
                                },
                                {
                                    "TimeGenerated": "2021-01-31T23:28:11.744Z",
                                    "query_hash_s": "0xD47FA8AE1E407243",
                                    "statement_sql_handle_s": "0x0900B10677BE63CAE65A693887D6502113BC0000000000000000000000000000000000000000000000000000",
                                    "query_plan_hash_s": "0xFA26A5F6A84C8679",
                                    "statement_s": ""
                                }
                            ]
                        }
                    },
                    "metadata": {},
                    "output_type": "display_data"
                },
                {
                    "data": {
                        "text/plain": "<IPython.core.display.HTML object>",
                        "text/html": "<html>\n        <head>\n            \n            \n        </head>\n        <body>\n            <div><p style='padding: 10px; color: #3a87ad; background-color: #d9edf7; border-color: #bce9f1'>Done&nbsp;(00:00.736):&nbsp;3&nbsp;records</p></div>\n        </body>\n        </html>"
                    },
                    "metadata": {},
                    "output_type": "display_data"
                },
                {
                    "data": {
                        "text/plain": "[{'TimeGenerated': datetime.datetime(2021, 1, 31, 23, 43, 11, 998000, tzinfo=tzutc()), 'query_hash_s': '0xE8E6F7DC2D2909FE', 'statement_sql_handle_s': '0x0900B90F6497028D7C84720EFD387ECE8C2F0000000000000000000000000000000000000000000000000000', 'query_plan_hash_s': '0x037E2E7A34FBE1AD', 'statement_s': ''},\n {'TimeGenerated': datetime.datetime(2021, 1, 31, 23, 28, 11, 744000, tzinfo=tzutc()), 'query_hash_s': '0xE8E6F7DC2D2909FE', 'statement_sql_handle_s': '0x0900B90F6497028D7C84720EFD387ECE8C2F0000000000000000000000000000000000000000000000000000', 'query_plan_hash_s': '0x037E2E7A34FBE1AD', 'statement_s': ''},\n {'TimeGenerated': datetime.datetime(2021, 1, 31, 23, 28, 11, 744000, tzinfo=tzutc()), 'query_hash_s': '0xD47FA8AE1E407243', 'statement_sql_handle_s': '0x0900B10677BE63CAE65A693887D6502113BC0000000000000000000000000000000000000000000000000000', 'query_plan_hash_s': '0xFA26A5F6A84C8679', 'statement_s': ''}]",
                        "text/html": ""
                    },
                    "metadata": {},
                    "execution_count": 6,
                    "output_type": "execute_result"
                }
            ],
            "execution_count": 6
        },
        {
            "cell_type": "code",
            "source": [
                "%%kql \r\n",
                "AzureDiagnostics\r\n",
                "| summarize event_count=count() by bin(TimeGenerated, 10m), OperationName\r\n",
                "| where OperationName <> \"AuditEvent\"\r\n",
                "| render timechart "
            ],
            "metadata": {
                "azdata_cell_guid": "b0794fb8-5a03-47c1-90ea-1639a07d665b"
            },
            "outputs": [
                {
                    "data": {
                        "text/plain": "<IPython.core.display.HTML object>",
                        "text/html": "<html>\n        <head>\n            \n            \n        </head>\n        <body>\n            <div><p style='padding: 10px; color: #3a87ad; background-color: #d9edf7; border-color: #bce9f1'>&nbsp;*&nbsp;myLogAnalyticsWorkspace@loganalytics</p></div>\n        </body>\n        </html>"
                    },
                    "metadata": {},
                    "output_type": "display_data"
                },
                {
                    "data": {
                        "application/vnd.plotly.v1+json": {
                            "config": {
                                "plotlyServerURL": "https://plot.ly"
                            },
                            "data": [
                                {
                                    "line": {
                                        "color": "rgb(31, 118, 179)",
                                        "width": 1
                                    },
                                    "name": "ErrorEvent:event_count",
                                    "opacity": 0.8,
                                    "type": "scatter",
                                    "x": [
                                        "2021-01-24T02:50:00+00:00",
                                        "2021-01-24T03:00:00+00:00",
                                        "2021-01-24T03:10:00+00:00",
                                        "2021-01-24T03:20:00+00:00",
                                        "2021-01-31T17:10:00+00:00",
                                        "2021-01-31T17:30:00+00:00",
                                        "2021-01-31T17:40:00+00:00",
                                        "2021-01-31T17:50:00+00:00",
                                        "2021-01-31T18:00:00+00:00",
                                        "2021-01-31T19:50:00+00:00",
                                        "2021-01-31T23:10:00+00:00",
                                        "2021-01-31T23:20:00+00:00",
                                        "2021-01-31T23:30:00+00:00",
                                        "2021-01-31T23:40:00+00:00",
                                        "2021-01-31T23:50:00+00:00"
                                    ],
                                    "y": [
                                        1,
                                        37,
                                        31,
                                        8,
                                        5,
                                        9,
                                        1,
                                        4,
                                        1,
                                        16,
                                        1,
                                        null,
                                        2,
                                        null,
                                        4
                                    ]
                                },
                                {
                                    "line": {
                                        "color": "rgb(254, 127, 14)",
                                        "width": 1
                                    },
                                    "name": "DeadlockEvent:event_count",
                                    "opacity": 0.8,
                                    "type": "scatter",
                                    "x": [
                                        "2021-01-24T02:50:00+00:00",
                                        "2021-01-24T03:00:00+00:00",
                                        "2021-01-24T03:10:00+00:00",
                                        "2021-01-24T03:20:00+00:00",
                                        "2021-01-31T17:10:00+00:00",
                                        "2021-01-31T17:30:00+00:00",
                                        "2021-01-31T17:40:00+00:00",
                                        "2021-01-31T17:50:00+00:00",
                                        "2021-01-31T18:00:00+00:00",
                                        "2021-01-31T19:50:00+00:00",
                                        "2021-01-31T23:10:00+00:00",
                                        "2021-01-31T23:20:00+00:00",
                                        "2021-01-31T23:30:00+00:00",
                                        "2021-01-31T23:40:00+00:00",
                                        "2021-01-31T23:50:00+00:00"
                                    ],
                                    "y": [
                                        null,
                                        null,
                                        null,
                                        null,
                                        null,
                                        null,
                                        2,
                                        1,
                                        null,
                                        null,
                                        1,
                                        null,
                                        null,
                                        null,
                                        null
                                    ]
                                },
                                {
                                    "line": {
                                        "color": "rgb(44, 160, 44)",
                                        "width": 1
                                    },
                                    "name": "TimeoutEvent:event_count",
                                    "opacity": 0.8,
                                    "type": "scatter",
                                    "x": [
                                        "2021-01-24T02:50:00+00:00",
                                        "2021-01-24T03:00:00+00:00",
                                        "2021-01-24T03:10:00+00:00",
                                        "2021-01-24T03:20:00+00:00",
                                        "2021-01-31T17:10:00+00:00",
                                        "2021-01-31T17:30:00+00:00",
                                        "2021-01-31T17:40:00+00:00",
                                        "2021-01-31T17:50:00+00:00",
                                        "2021-01-31T18:00:00+00:00",
                                        "2021-01-31T19:50:00+00:00",
                                        "2021-01-31T23:10:00+00:00",
                                        "2021-01-31T23:20:00+00:00",
                                        "2021-01-31T23:30:00+00:00",
                                        "2021-01-31T23:40:00+00:00",
                                        "2021-01-31T23:50:00+00:00"
                                    ],
                                    "y": [
                                        null,
                                        null,
                                        null,
                                        null,
                                        null,
                                        null,
                                        1,
                                        null,
                                        null,
                                        null,
                                        null,
                                        null,
                                        null,
                                        null,
                                        null
                                    ]
                                },
                                {
                                    "line": {
                                        "color": "rgb(214, 39, 39)",
                                        "width": 1
                                    },
                                    "name": "QueryStoreRuntimeStatisticsEvent:event_count",
                                    "opacity": 0.8,
                                    "type": "scatter",
                                    "x": [
                                        "2021-01-24T02:50:00+00:00",
                                        "2021-01-24T03:00:00+00:00",
                                        "2021-01-24T03:10:00+00:00",
                                        "2021-01-24T03:20:00+00:00",
                                        "2021-01-31T17:10:00+00:00",
                                        "2021-01-31T17:30:00+00:00",
                                        "2021-01-31T17:40:00+00:00",
                                        "2021-01-31T17:50:00+00:00",
                                        "2021-01-31T18:00:00+00:00",
                                        "2021-01-31T19:50:00+00:00",
                                        "2021-01-31T23:10:00+00:00",
                                        "2021-01-31T23:20:00+00:00",
                                        "2021-01-31T23:30:00+00:00",
                                        "2021-01-31T23:40:00+00:00",
                                        "2021-01-31T23:50:00+00:00"
                                    ],
                                    "y": [
                                        null,
                                        null,
                                        null,
                                        null,
                                        null,
                                        null,
                                        null,
                                        null,
                                        null,
                                        null,
                                        null,
                                        2,
                                        null,
                                        1,
                                        null
                                    ]
                                }
                            ],
                            "layout": {
                                "showlegend": true,
                                "template": {
                                    "data": {
                                        "bar": [
                                            {
                                                "error_x": {
                                                    "color": "#2a3f5f"
                                                },
                                                "error_y": {
                                                    "color": "#2a3f5f"
                                                },
                                                "marker": {
                                                    "line": {
                                                        "color": "#E5ECF6",
                                                        "width": 0.5
                                                    }
                                                },
                                                "type": "bar"
                                            }
                                        ],
                                        "barpolar": [
                                            {
                                                "marker": {
                                                    "line": {
                                                        "color": "#E5ECF6",
                                                        "width": 0.5
                                                    }
                                                },
                                                "type": "barpolar"
                                            }
                                        ],
                                        "carpet": [
                                            {
                                                "aaxis": {
                                                    "endlinecolor": "#2a3f5f",
                                                    "gridcolor": "white",
                                                    "linecolor": "white",
                                                    "minorgridcolor": "white",
                                                    "startlinecolor": "#2a3f5f"
                                                },
                                                "baxis": {
                                                    "endlinecolor": "#2a3f5f",
                                                    "gridcolor": "white",
                                                    "linecolor": "white",
                                                    "minorgridcolor": "white",
                                                    "startlinecolor": "#2a3f5f"
                                                },
                                                "type": "carpet"
                                            }
                                        ],
                                        "choropleth": [
                                            {
                                                "colorbar": {
                                                    "outlinewidth": 0,
                                                    "ticks": ""
                                                },
                                                "type": "choropleth"
                                            }
                                        ],
                                        "contour": [
                                            {
                                                "colorbar": {
                                                    "outlinewidth": 0,
                                                    "ticks": ""
                                                },
                                                "colorscale": [
                                                    [
                                                        0,
                                                        "#0d0887"
                                                    ],
                                                    [
                                                        0.1111111111111111,
                                                        "#46039f"
                                                    ],
                                                    [
                                                        0.2222222222222222,
                                                        "#7201a8"
                                                    ],
                                                    [
                                                        0.3333333333333333,
                                                        "#9c179e"
                                                    ],
                                                    [
                                                        0.4444444444444444,
                                                        "#bd3786"
                                                    ],
                                                    [
                                                        0.5555555555555556,
                                                        "#d8576b"
                                                    ],
                                                    [
                                                        0.6666666666666666,
                                                        "#ed7953"
                                                    ],
                                                    [
                                                        0.7777777777777778,
                                                        "#fb9f3a"
                                                    ],
                                                    [
                                                        0.8888888888888888,
                                                        "#fdca26"
                                                    ],
                                                    [
                                                        1,
                                                        "#f0f921"
                                                    ]
                                                ],
                                                "type": "contour"
                                            }
                                        ],
                                        "contourcarpet": [
                                            {
                                                "colorbar": {
                                                    "outlinewidth": 0,
                                                    "ticks": ""
                                                },
                                                "type": "contourcarpet"
                                            }
                                        ],
                                        "heatmap": [
                                            {
                                                "colorbar": {
                                                    "outlinewidth": 0,
                                                    "ticks": ""
                                                },
                                                "colorscale": [
                                                    [
                                                        0,
                                                        "#0d0887"
                                                    ],
                                                    [
                                                        0.1111111111111111,
                                                        "#46039f"
                                                    ],
                                                    [
                                                        0.2222222222222222,
                                                        "#7201a8"
                                                    ],
                                                    [
                                                        0.3333333333333333,
                                                        "#9c179e"
                                                    ],
                                                    [
                                                        0.4444444444444444,
                                                        "#bd3786"
                                                    ],
                                                    [
                                                        0.5555555555555556,
                                                        "#d8576b"
                                                    ],
                                                    [
                                                        0.6666666666666666,
                                                        "#ed7953"
                                                    ],
                                                    [
                                                        0.7777777777777778,
                                                        "#fb9f3a"
                                                    ],
                                                    [
                                                        0.8888888888888888,
                                                        "#fdca26"
                                                    ],
                                                    [
                                                        1,
                                                        "#f0f921"
                                                    ]
                                                ],
                                                "type": "heatmap"
                                            }
                                        ],
                                        "heatmapgl": [
                                            {
                                                "colorbar": {
                                                    "outlinewidth": 0,
                                                    "ticks": ""
                                                },
                                                "colorscale": [
                                                    [
                                                        0,
                                                        "#0d0887"
                                                    ],
                                                    [
                                                        0.1111111111111111,
                                                        "#46039f"
                                                    ],
                                                    [
                                                        0.2222222222222222,
                                                        "#7201a8"
                                                    ],
                                                    [
                                                        0.3333333333333333,
                                                        "#9c179e"
                                                    ],
                                                    [
                                                        0.4444444444444444,
                                                        "#bd3786"
                                                    ],
                                                    [
                                                        0.5555555555555556,
                                                        "#d8576b"
                                                    ],
                                                    [
                                                        0.6666666666666666,
                                                        "#ed7953"
                                                    ],
                                                    [
                                                        0.7777777777777778,
                                                        "#fb9f3a"
                                                    ],
                                                    [
                                                        0.8888888888888888,
                                                        "#fdca26"
                                                    ],
                                                    [
                                                        1,
                                                        "#f0f921"
                                                    ]
                                                ],
                                                "type": "heatmapgl"
                                            }
                                        ],
                                        "histogram": [
                                            {
                                                "marker": {
                                                    "colorbar": {
                                                        "outlinewidth": 0,
                                                        "ticks": ""
                                                    }
                                                },
                                                "type": "histogram"
                                            }
                                        ],
                                        "histogram2d": [
                                            {
                                                "colorbar": {
                                                    "outlinewidth": 0,
                                                    "ticks": ""
                                                },
                                                "colorscale": [
                                                    [
                                                        0,
                                                        "#0d0887"
                                                    ],
                                                    [
                                                        0.1111111111111111,
                                                        "#46039f"
                                                    ],
                                                    [
                                                        0.2222222222222222,
                                                        "#7201a8"
                                                    ],
                                                    [
                                                        0.3333333333333333,
                                                        "#9c179e"
                                                    ],
                                                    [
                                                        0.4444444444444444,
                                                        "#bd3786"
                                                    ],
                                                    [
                                                        0.5555555555555556,
                                                        "#d8576b"
                                                    ],
                                                    [
                                                        0.6666666666666666,
                                                        "#ed7953"
                                                    ],
                                                    [
                                                        0.7777777777777778,
                                                        "#fb9f3a"
                                                    ],
                                                    [
                                                        0.8888888888888888,
                                                        "#fdca26"
                                                    ],
                                                    [
                                                        1,
                                                        "#f0f921"
                                                    ]
                                                ],
                                                "type": "histogram2d"
                                            }
                                        ],
                                        "histogram2dcontour": [
                                            {
                                                "colorbar": {
                                                    "outlinewidth": 0,
                                                    "ticks": ""
                                                },
                                                "colorscale": [
                                                    [
                                                        0,
                                                        "#0d0887"
                                                    ],
                                                    [
                                                        0.1111111111111111,
                                                        "#46039f"
                                                    ],
                                                    [
                                                        0.2222222222222222,
                                                        "#7201a8"
                                                    ],
                                                    [
                                                        0.3333333333333333,
                                                        "#9c179e"
                                                    ],
                                                    [
                                                        0.4444444444444444,
                                                        "#bd3786"
                                                    ],
                                                    [
                                                        0.5555555555555556,
                                                        "#d8576b"
                                                    ],
                                                    [
                                                        0.6666666666666666,
                                                        "#ed7953"
                                                    ],
                                                    [
                                                        0.7777777777777778,
                                                        "#fb9f3a"
                                                    ],
                                                    [
                                                        0.8888888888888888,
                                                        "#fdca26"
                                                    ],
                                                    [
                                                        1,
                                                        "#f0f921"
                                                    ]
                                                ],
                                                "type": "histogram2dcontour"
                                            }
                                        ],
                                        "mesh3d": [
                                            {
                                                "colorbar": {
                                                    "outlinewidth": 0,
                                                    "ticks": ""
                                                },
                                                "type": "mesh3d"
                                            }
                                        ],
                                        "parcoords": [
                                            {
                                                "line": {
                                                    "colorbar": {
                                                        "outlinewidth": 0,
                                                        "ticks": ""
                                                    }
                                                },
                                                "type": "parcoords"
                                            }
                                        ],
                                        "pie": [
                                            {
                                                "automargin": true,
                                                "type": "pie"
                                            }
                                        ],
                                        "scatter": [
                                            {
                                                "marker": {
                                                    "colorbar": {
                                                        "outlinewidth": 0,
                                                        "ticks": ""
                                                    }
                                                },
                                                "type": "scatter"
                                            }
                                        ],
                                        "scatter3d": [
                                            {
                                                "line": {
                                                    "colorbar": {
                                                        "outlinewidth": 0,
                                                        "ticks": ""
                                                    }
                                                },
                                                "marker": {
                                                    "colorbar": {
                                                        "outlinewidth": 0,
                                                        "ticks": ""
                                                    }
                                                },
                                                "type": "scatter3d"
                                            }
                                        ],
                                        "scattercarpet": [
                                            {
                                                "marker": {
                                                    "colorbar": {
                                                        "outlinewidth": 0,
                                                        "ticks": ""
                                                    }
                                                },
                                                "type": "scattercarpet"
                                            }
                                        ],
                                        "scattergeo": [
                                            {
                                                "marker": {
                                                    "colorbar": {
                                                        "outlinewidth": 0,
                                                        "ticks": ""
                                                    }
                                                },
                                                "type": "scattergeo"
                                            }
                                        ],
                                        "scattergl": [
                                            {
                                                "marker": {
                                                    "colorbar": {
                                                        "outlinewidth": 0,
                                                        "ticks": ""
                                                    }
                                                },
                                                "type": "scattergl"
                                            }
                                        ],
                                        "scattermapbox": [
                                            {
                                                "marker": {
                                                    "colorbar": {
                                                        "outlinewidth": 0,
                                                        "ticks": ""
                                                    }
                                                },
                                                "type": "scattermapbox"
                                            }
                                        ],
                                        "scatterpolar": [
                                            {
                                                "marker": {
                                                    "colorbar": {
                                                        "outlinewidth": 0,
                                                        "ticks": ""
                                                    }
                                                },
                                                "type": "scatterpolar"
                                            }
                                        ],
                                        "scatterpolargl": [
                                            {
                                                "marker": {
                                                    "colorbar": {
                                                        "outlinewidth": 0,
                                                        "ticks": ""
                                                    }
                                                },
                                                "type": "scatterpolargl"
                                            }
                                        ],
                                        "scatterternary": [
                                            {
                                                "marker": {
                                                    "colorbar": {
                                                        "outlinewidth": 0,
                                                        "ticks": ""
                                                    }
                                                },
                                                "type": "scatterternary"
                                            }
                                        ],
                                        "surface": [
                                            {
                                                "colorbar": {
                                                    "outlinewidth": 0,
                                                    "ticks": ""
                                                },
                                                "colorscale": [
                                                    [
                                                        0,
                                                        "#0d0887"
                                                    ],
                                                    [
                                                        0.1111111111111111,
                                                        "#46039f"
                                                    ],
                                                    [
                                                        0.2222222222222222,
                                                        "#7201a8"
                                                    ],
                                                    [
                                                        0.3333333333333333,
                                                        "#9c179e"
                                                    ],
                                                    [
                                                        0.4444444444444444,
                                                        "#bd3786"
                                                    ],
                                                    [
                                                        0.5555555555555556,
                                                        "#d8576b"
                                                    ],
                                                    [
                                                        0.6666666666666666,
                                                        "#ed7953"
                                                    ],
                                                    [
                                                        0.7777777777777778,
                                                        "#fb9f3a"
                                                    ],
                                                    [
                                                        0.8888888888888888,
                                                        "#fdca26"
                                                    ],
                                                    [
                                                        1,
                                                        "#f0f921"
                                                    ]
                                                ],
                                                "type": "surface"
                                            }
                                        ],
                                        "table": [
                                            {
                                                "cells": {
                                                    "fill": {
                                                        "color": "#EBF0F8"
                                                    },
                                                    "line": {
                                                        "color": "white"
                                                    }
                                                },
                                                "header": {
                                                    "fill": {
                                                        "color": "#C8D4E3"
                                                    },
                                                    "line": {
                                                        "color": "white"
                                                    }
                                                },
                                                "type": "table"
                                            }
                                        ]
                                    },
                                    "layout": {
                                        "annotationdefaults": {
                                            "arrowcolor": "#2a3f5f",
                                            "arrowhead": 0,
                                            "arrowwidth": 1
                                        },
                                        "coloraxis": {
                                            "colorbar": {
                                                "outlinewidth": 0,
                                                "ticks": ""
                                            }
                                        },
                                        "colorscale": {
                                            "diverging": [
                                                [
                                                    0,
                                                    "#8e0152"
                                                ],
                                                [
                                                    0.1,
                                                    "#c51b7d"
                                                ],
                                                [
                                                    0.2,
                                                    "#de77ae"
                                                ],
                                                [
                                                    0.3,
                                                    "#f1b6da"
                                                ],
                                                [
                                                    0.4,
                                                    "#fde0ef"
                                                ],
                                                [
                                                    0.5,
                                                    "#f7f7f7"
                                                ],
                                                [
                                                    0.6,
                                                    "#e6f5d0"
                                                ],
                                                [
                                                    0.7,
                                                    "#b8e186"
                                                ],
                                                [
                                                    0.8,
                                                    "#7fbc41"
                                                ],
                                                [
                                                    0.9,
                                                    "#4d9221"
                                                ],
                                                [
                                                    1,
                                                    "#276419"
                                                ]
                                            ],
                                            "sequential": [
                                                [
                                                    0,
                                                    "#0d0887"
                                                ],
                                                [
                                                    0.1111111111111111,
                                                    "#46039f"
                                                ],
                                                [
                                                    0.2222222222222222,
                                                    "#7201a8"
                                                ],
                                                [
                                                    0.3333333333333333,
                                                    "#9c179e"
                                                ],
                                                [
                                                    0.4444444444444444,
                                                    "#bd3786"
                                                ],
                                                [
                                                    0.5555555555555556,
                                                    "#d8576b"
                                                ],
                                                [
                                                    0.6666666666666666,
                                                    "#ed7953"
                                                ],
                                                [
                                                    0.7777777777777778,
                                                    "#fb9f3a"
                                                ],
                                                [
                                                    0.8888888888888888,
                                                    "#fdca26"
                                                ],
                                                [
                                                    1,
                                                    "#f0f921"
                                                ]
                                            ],
                                            "sequentialminus": [
                                                [
                                                    0,
                                                    "#0d0887"
                                                ],
                                                [
                                                    0.1111111111111111,
                                                    "#46039f"
                                                ],
                                                [
                                                    0.2222222222222222,
                                                    "#7201a8"
                                                ],
                                                [
                                                    0.3333333333333333,
                                                    "#9c179e"
                                                ],
                                                [
                                                    0.4444444444444444,
                                                    "#bd3786"
                                                ],
                                                [
                                                    0.5555555555555556,
                                                    "#d8576b"
                                                ],
                                                [
                                                    0.6666666666666666,
                                                    "#ed7953"
                                                ],
                                                [
                                                    0.7777777777777778,
                                                    "#fb9f3a"
                                                ],
                                                [
                                                    0.8888888888888888,
                                                    "#fdca26"
                                                ],
                                                [
                                                    1,
                                                    "#f0f921"
                                                ]
                                            ]
                                        },
                                        "colorway": [
                                            "#636efa",
                                            "#EF553B",
                                            "#00cc96",
                                            "#ab63fa",
                                            "#FFA15A",
                                            "#19d3f3",
                                            "#FF6692",
                                            "#B6E880",
                                            "#FF97FF",
                                            "#FECB52"
                                        ],
                                        "font": {
                                            "color": "#2a3f5f"
                                        },
                                        "geo": {
                                            "bgcolor": "white",
                                            "lakecolor": "white",
                                            "landcolor": "#E5ECF6",
                                            "showlakes": true,
                                            "showland": true,
                                            "subunitcolor": "white"
                                        },
                                        "hoverlabel": {
                                            "align": "left"
                                        },
                                        "hovermode": "closest",
                                        "mapbox": {
                                            "style": "light"
                                        },
                                        "paper_bgcolor": "white",
                                        "plot_bgcolor": "#E5ECF6",
                                        "polar": {
                                            "angularaxis": {
                                                "gridcolor": "white",
                                                "linecolor": "white",
                                                "ticks": ""
                                            },
                                            "bgcolor": "#E5ECF6",
                                            "radialaxis": {
                                                "gridcolor": "white",
                                                "linecolor": "white",
                                                "ticks": ""
                                            }
                                        },
                                        "scene": {
                                            "xaxis": {
                                                "backgroundcolor": "#E5ECF6",
                                                "gridcolor": "white",
                                                "gridwidth": 2,
                                                "linecolor": "white",
                                                "showbackground": true,
                                                "ticks": "",
                                                "zerolinecolor": "white"
                                            },
                                            "yaxis": {
                                                "backgroundcolor": "#E5ECF6",
                                                "gridcolor": "white",
                                                "gridwidth": 2,
                                                "linecolor": "white",
                                                "showbackground": true,
                                                "ticks": "",
                                                "zerolinecolor": "white"
                                            },
                                            "zaxis": {
                                                "backgroundcolor": "#E5ECF6",
                                                "gridcolor": "white",
                                                "gridwidth": 2,
                                                "linecolor": "white",
                                                "showbackground": true,
                                                "ticks": "",
                                                "zerolinecolor": "white"
                                            }
                                        },
                                        "shapedefaults": {
                                            "line": {
                                                "color": "#2a3f5f"
                                            }
                                        },
                                        "ternary": {
                                            "aaxis": {
                                                "gridcolor": "white",
                                                "linecolor": "white",
                                                "ticks": ""
                                            },
                                            "baxis": {
                                                "gridcolor": "white",
                                                "linecolor": "white",
                                                "ticks": ""
                                            },
                                            "bgcolor": "#E5ECF6",
                                            "caxis": {
                                                "gridcolor": "white",
                                                "linecolor": "white",
                                                "ticks": ""
                                            }
                                        },
                                        "title": {
                                            "x": 0.05
                                        },
                                        "xaxis": {
                                            "automargin": true,
                                            "gridcolor": "white",
                                            "linecolor": "white",
                                            "ticks": "",
                                            "title": {
                                                "standoff": 15
                                            },
                                            "zerolinecolor": "white",
                                            "zerolinewidth": 2
                                        },
                                        "yaxis": {
                                            "automargin": true,
                                            "gridcolor": "white",
                                            "linecolor": "white",
                                            "ticks": "",
                                            "title": {
                                                "standoff": 15
                                            },
                                            "zerolinecolor": "white",
                                            "zerolinewidth": 2
                                        }
                                    }
                                },
                                "title": {
                                    "text": "timechart"
                                },
                                "xaxis": {
                                    "autorange": true,
                                    "title": {
                                        "text": "TimeGenerated"
                                    },
                                    "type": "date"
                                },
                                "yaxis": {
                                    "ticksuffix": "",
                                    "title": {
                                        "text": "event_count"
                                    },
                                    "type": "linear"
                                }
                            }
                        }
                    },
                    "metadata": {},
                    "output_type": "display_data"
                },
                {
                    "data": {
                        "text/plain": "<IPython.core.display.HTML object>",
                        "text/html": "<html>\n        <head>\n            \n            \n        </head>\n        <body>\n            <div><p style='padding: 10px; color: #3a87ad; background-color: #d9edf7; border-color: #bce9f1'>Done&nbsp;(00:00.750):&nbsp;19&nbsp;records</p></div>\n        </body>\n        </html>"
                    },
                    "metadata": {},
                    "output_type": "display_data"
                },
                {
                    "data": {
                        "text/plain": "[{'TimeGenerated': datetime.datetime(2021, 1, 31, 23, 10, tzinfo=tzutc()), 'OperationName': 'DeadlockEvent', 'event_count': 1},\n {'TimeGenerated': datetime.datetime(2021, 1, 31, 23, 30, tzinfo=tzutc()), 'OperationName': 'ErrorEvent', 'event_count': 2},\n {'TimeGenerated': datetime.datetime(2021, 1, 31, 17, 40, tzinfo=tzutc()), 'OperationName': 'ErrorEvent', 'event_count': 1},\n {'TimeGenerated': datetime.datetime(2021, 1, 31, 17, 40, tzinfo=tzutc()), 'OperationName': 'DeadlockEvent', 'event_count': 2},\n {'TimeGenerated': datetime.datetime(2021, 1, 31, 17, 50, tzinfo=tzutc()), 'OperationName': 'DeadlockEvent', 'event_count': 1},\n {'TimeGenerated': datetime.datetime(2021, 1, 31, 17, 50, tzinfo=tzutc()), 'OperationName': 'ErrorEvent', 'event_count': 4},\n {'TimeGenerated': datetime.datetime(2021, 1, 31, 19, 50, tzinfo=tzutc()), 'OperationName': 'ErrorEvent', 'event_count': 16},\n {'TimeGenerated': datetime.datetime(2021, 1, 31, 23, 50, tzinfo=tzutc()), 'OperationName': 'ErrorEvent', 'event_count': 4},\n {'TimeGenerated': datetime.datetime(2021, 1, 31, 17, 10, tzinfo=tzutc()), 'OperationName': 'ErrorEvent', 'event_count': 5},\n {'TimeGenerated': datetime.datetime(2021, 1, 31, 17, 30, tzinfo=tzutc()), 'OperationName': 'ErrorEvent', 'event_count': 9},\n {'TimeGenerated': datetime.datetime(2021, 1, 31, 18, 0, tzinfo=tzutc()), 'OperationName': 'ErrorEvent', 'event_count': 1},\n {'TimeGenerated': datetime.datetime(2021, 1, 31, 23, 10, tzinfo=tzutc()), 'OperationName': 'ErrorEvent', 'event_count': 1},\n {'TimeGenerated': datetime.datetime(2021, 1, 31, 23, 40, tzinfo=tzutc()), 'OperationName': 'QueryStoreRuntimeStatisticsEvent', 'event_count': 1},\n {'TimeGenerated': datetime.datetime(2021, 1, 24, 2, 50, tzinfo=tzutc()), 'OperationName': 'ErrorEvent', 'event_count': 1},\n {'TimeGenerated': datetime.datetime(2021, 1, 24, 3, 0, tzinfo=tzutc()), 'OperationName': 'ErrorEvent', 'event_count': 37},\n {'TimeGenerated': datetime.datetime(2021, 1, 24, 3, 10, tzinfo=tzutc()), 'OperationName': 'ErrorEvent', 'event_count': 31},\n {'TimeGenerated': datetime.datetime(2021, 1, 24, 3, 20, tzinfo=tzutc()), 'OperationName': 'ErrorEvent', 'event_count': 8},\n {'TimeGenerated': datetime.datetime(2021, 1, 31, 17, 40, tzinfo=tzutc()), 'OperationName': 'TimeoutEvent', 'event_count': 1},\n {'TimeGenerated': datetime.datetime(2021, 1, 31, 23, 20, tzinfo=tzutc()), 'OperationName': 'QueryStoreRuntimeStatisticsEvent', 'event_count': 2}]",
                        "text/html": ""
                    },
                    "metadata": {},
                    "execution_count": 10,
                    "output_type": "execute_result"
                }
            ],
            "execution_count": 10
        },
        {
            "cell_type": "markdown",
            "source": [
                "## Analyze Errors"
            ],
            "metadata": {
                "azdata_cell_guid": "92c68e36-87a2-4355-8d4b-56d001462d1e"
            }
        },
        {
            "cell_type": "code",
            "source": [
                "%%kql \r\n",
                "AzureDiagnostics\r\n",
                "| where OperationName == \"ErrorEvent\"\r\n",
                "| extend ErrorNumber =  tostring(error_number_d) \r\n",
                "| summarize event_count=count() by EventTime = bin(TimeGenerated, 10m), ErrorNumber\r\n",
                "| render timechart "
            ],
            "metadata": {
                "azdata_cell_guid": "229543f7-f24c-48c1-a9d5-0a3d0d708e25"
            },
            "outputs": [
                {
                    "data": {
                        "text/plain": "<IPython.core.display.HTML object>",
                        "text/html": "<html>\n        <head>\n            \n            \n        </head>\n        <body>\n            <div><p style='padding: 10px; color: #3a87ad; background-color: #d9edf7; border-color: #bce9f1'>&nbsp;*&nbsp;myLogAnalyticsWorkspace@loganalytics</p></div>\n        </body>\n        </html>"
                    },
                    "metadata": {},
                    "output_type": "display_data"
                },
                {
                    "data": {
                        "application/vnd.plotly.v1+json": {
                            "config": {
                                "plotlyServerURL": "https://plot.ly"
                            },
                            "data": [
                                {
                                    "line": {
                                        "color": "rgb(31, 118, 179)",
                                        "width": 1
                                    },
                                    "name": "208.0:event_count",
                                    "opacity": 0.8,
                                    "type": "scatter",
                                    "x": [
                                        "2021-01-24T02:50:00+00:00",
                                        "2021-01-24T03:00:00+00:00",
                                        "2021-01-24T03:10:00+00:00",
                                        "2021-01-24T03:20:00+00:00",
                                        "2021-01-31T17:10:00+00:00",
                                        "2021-01-31T17:30:00+00:00",
                                        "2021-01-31T17:40:00+00:00",
                                        "2021-01-31T17:50:00+00:00",
                                        "2021-01-31T18:00:00+00:00",
                                        "2021-01-31T19:50:00+00:00",
                                        "2021-01-31T23:10:00+00:00",
                                        "2021-01-31T23:30:00+00:00",
                                        "2021-01-31T23:50:00+00:00"
                                    ],
                                    "y": [
                                        1,
                                        37,
                                        28,
                                        5,
                                        5,
                                        9,
                                        1,
                                        3,
                                        null,
                                        12,
                                        1,
                                        1,
                                        null
                                    ]
                                },
                                {
                                    "line": {
                                        "color": "rgb(254, 127, 14)",
                                        "width": 1
                                    },
                                    "name": "1222.0:event_count",
                                    "opacity": 0.8,
                                    "type": "scatter",
                                    "x": [
                                        "2021-01-24T02:50:00+00:00",
                                        "2021-01-24T03:00:00+00:00",
                                        "2021-01-24T03:10:00+00:00",
                                        "2021-01-24T03:20:00+00:00",
                                        "2021-01-31T17:10:00+00:00",
                                        "2021-01-31T17:30:00+00:00",
                                        "2021-01-31T17:40:00+00:00",
                                        "2021-01-31T17:50:00+00:00",
                                        "2021-01-31T18:00:00+00:00",
                                        "2021-01-31T19:50:00+00:00",
                                        "2021-01-31T23:10:00+00:00",
                                        "2021-01-31T23:30:00+00:00",
                                        "2021-01-31T23:50:00+00:00"
                                    ],
                                    "y": [
                                        null,
                                        null,
                                        2,
                                        2,
                                        null,
                                        null,
                                        null,
                                        null,
                                        null,
                                        2,
                                        null,
                                        null,
                                        null
                                    ]
                                },
                                {
                                    "line": {
                                        "color": "rgb(44, 160, 44)",
                                        "width": 1
                                    },
                                    "name": "2714.0:event_count",
                                    "opacity": 0.8,
                                    "type": "scatter",
                                    "x": [
                                        "2021-01-24T02:50:00+00:00",
                                        "2021-01-24T03:00:00+00:00",
                                        "2021-01-24T03:10:00+00:00",
                                        "2021-01-24T03:20:00+00:00",
                                        "2021-01-31T17:10:00+00:00",
                                        "2021-01-31T17:30:00+00:00",
                                        "2021-01-31T17:40:00+00:00",
                                        "2021-01-31T17:50:00+00:00",
                                        "2021-01-31T18:00:00+00:00",
                                        "2021-01-31T19:50:00+00:00",
                                        "2021-01-31T23:10:00+00:00",
                                        "2021-01-31T23:30:00+00:00",
                                        "2021-01-31T23:50:00+00:00"
                                    ],
                                    "y": [
                                        null,
                                        null,
                                        1,
                                        null,
                                        null,
                                        null,
                                        null,
                                        null,
                                        null,
                                        null,
                                        null,
                                        null,
                                        null
                                    ]
                                },
                                {
                                    "line": {
                                        "color": "rgb(214, 39, 39)",
                                        "width": 1
                                    },
                                    "name": "3903.0:event_count",
                                    "opacity": 0.8,
                                    "type": "scatter",
                                    "x": [
                                        "2021-01-24T02:50:00+00:00",
                                        "2021-01-24T03:00:00+00:00",
                                        "2021-01-24T03:10:00+00:00",
                                        "2021-01-24T03:20:00+00:00",
                                        "2021-01-31T17:10:00+00:00",
                                        "2021-01-31T17:30:00+00:00",
                                        "2021-01-31T17:40:00+00:00",
                                        "2021-01-31T17:50:00+00:00",
                                        "2021-01-31T18:00:00+00:00",
                                        "2021-01-31T19:50:00+00:00",
                                        "2021-01-31T23:10:00+00:00",
                                        "2021-01-31T23:30:00+00:00",
                                        "2021-01-31T23:50:00+00:00"
                                    ],
                                    "y": [
                                        null,
                                        null,
                                        null,
                                        1,
                                        null,
                                        null,
                                        null,
                                        null,
                                        null,
                                        null,
                                        null,
                                        null,
                                        null
                                    ]
                                },
                                {
                                    "line": {
                                        "color": "rgb(147, 102, 189)",
                                        "width": 1
                                    },
                                    "name": "8134.0:event_count",
                                    "opacity": 0.8,
                                    "type": "scatter",
                                    "x": [
                                        "2021-01-24T02:50:00+00:00",
                                        "2021-01-24T03:00:00+00:00",
                                        "2021-01-24T03:10:00+00:00",
                                        "2021-01-24T03:20:00+00:00",
                                        "2021-01-31T17:10:00+00:00",
                                        "2021-01-31T17:30:00+00:00",
                                        "2021-01-31T17:40:00+00:00",
                                        "2021-01-31T17:50:00+00:00",
                                        "2021-01-31T18:00:00+00:00",
                                        "2021-01-31T19:50:00+00:00",
                                        "2021-01-31T23:10:00+00:00",
                                        "2021-01-31T23:30:00+00:00",
                                        "2021-01-31T23:50:00+00:00"
                                    ],
                                    "y": [
                                        null,
                                        null,
                                        null,
                                        null,
                                        null,
                                        null,
                                        null,
                                        1,
                                        1,
                                        null,
                                        null,
                                        null,
                                        null
                                    ]
                                },
                                {
                                    "line": {
                                        "color": "rgb(140, 86, 74)",
                                        "width": 1
                                    },
                                    "name": "257.0:event_count",
                                    "opacity": 0.8,
                                    "type": "scatter",
                                    "x": [
                                        "2021-01-24T02:50:00+00:00",
                                        "2021-01-24T03:00:00+00:00",
                                        "2021-01-24T03:10:00+00:00",
                                        "2021-01-24T03:20:00+00:00",
                                        "2021-01-31T17:10:00+00:00",
                                        "2021-01-31T17:30:00+00:00",
                                        "2021-01-31T17:40:00+00:00",
                                        "2021-01-31T17:50:00+00:00",
                                        "2021-01-31T18:00:00+00:00",
                                        "2021-01-31T19:50:00+00:00",
                                        "2021-01-31T23:10:00+00:00",
                                        "2021-01-31T23:30:00+00:00",
                                        "2021-01-31T23:50:00+00:00"
                                    ],
                                    "y": [
                                        null,
                                        null,
                                        null,
                                        null,
                                        null,
                                        null,
                                        null,
                                        null,
                                        null,
                                        2,
                                        null,
                                        null,
                                        null
                                    ]
                                },
                                {
                                    "line": {
                                        "color": "rgb(227, 119, 193)",
                                        "width": 1
                                    },
                                    "name": "2809.0:event_count",
                                    "opacity": 0.8,
                                    "type": "scatter",
                                    "x": [
                                        "2021-01-24T02:50:00+00:00",
                                        "2021-01-24T03:00:00+00:00",
                                        "2021-01-24T03:10:00+00:00",
                                        "2021-01-24T03:20:00+00:00",
                                        "2021-01-31T17:10:00+00:00",
                                        "2021-01-31T17:30:00+00:00",
                                        "2021-01-31T17:40:00+00:00",
                                        "2021-01-31T17:50:00+00:00",
                                        "2021-01-31T18:00:00+00:00",
                                        "2021-01-31T19:50:00+00:00",
                                        "2021-01-31T23:10:00+00:00",
                                        "2021-01-31T23:30:00+00:00",
                                        "2021-01-31T23:50:00+00:00"
                                    ],
                                    "y": [
                                        null,
                                        null,
                                        null,
                                        null,
                                        null,
                                        null,
                                        null,
                                        null,
                                        null,
                                        null,
                                        null,
                                        1,
                                        null
                                    ]
                                },
                                {
                                    "line": {
                                        "color": "rgb(127, 127, 127)",
                                        "width": 1
                                    },
                                    "name": "12413.0:event_count",
                                    "opacity": 0.8,
                                    "type": "scatter",
                                    "x": [
                                        "2021-01-24T02:50:00+00:00",
                                        "2021-01-24T03:00:00+00:00",
                                        "2021-01-24T03:10:00+00:00",
                                        "2021-01-24T03:20:00+00:00",
                                        "2021-01-31T17:10:00+00:00",
                                        "2021-01-31T17:30:00+00:00",
                                        "2021-01-31T17:40:00+00:00",
                                        "2021-01-31T17:50:00+00:00",
                                        "2021-01-31T18:00:00+00:00",
                                        "2021-01-31T19:50:00+00:00",
                                        "2021-01-31T23:10:00+00:00",
                                        "2021-01-31T23:30:00+00:00",
                                        "2021-01-31T23:50:00+00:00"
                                    ],
                                    "y": [
                                        null,
                                        null,
                                        null,
                                        null,
                                        null,
                                        null,
                                        null,
                                        null,
                                        null,
                                        null,
                                        null,
                                        null,
                                        3
                                    ]
                                },
                                {
                                    "line": {
                                        "color": "rgb(188, 189, 33)",
                                        "width": 1
                                    },
                                    "name": "215.0:event_count",
                                    "opacity": 0.8,
                                    "type": "scatter",
                                    "x": [
                                        "2021-01-24T02:50:00+00:00",
                                        "2021-01-24T03:00:00+00:00",
                                        "2021-01-24T03:10:00+00:00",
                                        "2021-01-24T03:20:00+00:00",
                                        "2021-01-31T17:10:00+00:00",
                                        "2021-01-31T17:30:00+00:00",
                                        "2021-01-31T17:40:00+00:00",
                                        "2021-01-31T17:50:00+00:00",
                                        "2021-01-31T18:00:00+00:00",
                                        "2021-01-31T19:50:00+00:00",
                                        "2021-01-31T23:10:00+00:00",
                                        "2021-01-31T23:30:00+00:00",
                                        "2021-01-31T23:50:00+00:00"
                                    ],
                                    "y": [
                                        null,
                                        null,
                                        null,
                                        null,
                                        null,
                                        null,
                                        null,
                                        null,
                                        null,
                                        null,
                                        null,
                                        null,
                                        1
                                    ]
                                }
                            ],
                            "layout": {
                                "showlegend": true,
                                "template": {
                                    "data": {
                                        "bar": [
                                            {
                                                "error_x": {
                                                    "color": "#2a3f5f"
                                                },
                                                "error_y": {
                                                    "color": "#2a3f5f"
                                                },
                                                "marker": {
                                                    "line": {
                                                        "color": "#E5ECF6",
                                                        "width": 0.5
                                                    }
                                                },
                                                "type": "bar"
                                            }
                                        ],
                                        "barpolar": [
                                            {
                                                "marker": {
                                                    "line": {
                                                        "color": "#E5ECF6",
                                                        "width": 0.5
                                                    }
                                                },
                                                "type": "barpolar"
                                            }
                                        ],
                                        "carpet": [
                                            {
                                                "aaxis": {
                                                    "endlinecolor": "#2a3f5f",
                                                    "gridcolor": "white",
                                                    "linecolor": "white",
                                                    "minorgridcolor": "white",
                                                    "startlinecolor": "#2a3f5f"
                                                },
                                                "baxis": {
                                                    "endlinecolor": "#2a3f5f",
                                                    "gridcolor": "white",
                                                    "linecolor": "white",
                                                    "minorgridcolor": "white",
                                                    "startlinecolor": "#2a3f5f"
                                                },
                                                "type": "carpet"
                                            }
                                        ],
                                        "choropleth": [
                                            {
                                                "colorbar": {
                                                    "outlinewidth": 0,
                                                    "ticks": ""
                                                },
                                                "type": "choropleth"
                                            }
                                        ],
                                        "contour": [
                                            {
                                                "colorbar": {
                                                    "outlinewidth": 0,
                                                    "ticks": ""
                                                },
                                                "colorscale": [
                                                    [
                                                        0,
                                                        "#0d0887"
                                                    ],
                                                    [
                                                        0.1111111111111111,
                                                        "#46039f"
                                                    ],
                                                    [
                                                        0.2222222222222222,
                                                        "#7201a8"
                                                    ],
                                                    [
                                                        0.3333333333333333,
                                                        "#9c179e"
                                                    ],
                                                    [
                                                        0.4444444444444444,
                                                        "#bd3786"
                                                    ],
                                                    [
                                                        0.5555555555555556,
                                                        "#d8576b"
                                                    ],
                                                    [
                                                        0.6666666666666666,
                                                        "#ed7953"
                                                    ],
                                                    [
                                                        0.7777777777777778,
                                                        "#fb9f3a"
                                                    ],
                                                    [
                                                        0.8888888888888888,
                                                        "#fdca26"
                                                    ],
                                                    [
                                                        1,
                                                        "#f0f921"
                                                    ]
                                                ],
                                                "type": "contour"
                                            }
                                        ],
                                        "contourcarpet": [
                                            {
                                                "colorbar": {
                                                    "outlinewidth": 0,
                                                    "ticks": ""
                                                },
                                                "type": "contourcarpet"
                                            }
                                        ],
                                        "heatmap": [
                                            {
                                                "colorbar": {
                                                    "outlinewidth": 0,
                                                    "ticks": ""
                                                },
                                                "colorscale": [
                                                    [
                                                        0,
                                                        "#0d0887"
                                                    ],
                                                    [
                                                        0.1111111111111111,
                                                        "#46039f"
                                                    ],
                                                    [
                                                        0.2222222222222222,
                                                        "#7201a8"
                                                    ],
                                                    [
                                                        0.3333333333333333,
                                                        "#9c179e"
                                                    ],
                                                    [
                                                        0.4444444444444444,
                                                        "#bd3786"
                                                    ],
                                                    [
                                                        0.5555555555555556,
                                                        "#d8576b"
                                                    ],
                                                    [
                                                        0.6666666666666666,
                                                        "#ed7953"
                                                    ],
                                                    [
                                                        0.7777777777777778,
                                                        "#fb9f3a"
                                                    ],
                                                    [
                                                        0.8888888888888888,
                                                        "#fdca26"
                                                    ],
                                                    [
                                                        1,
                                                        "#f0f921"
                                                    ]
                                                ],
                                                "type": "heatmap"
                                            }
                                        ],
                                        "heatmapgl": [
                                            {
                                                "colorbar": {
                                                    "outlinewidth": 0,
                                                    "ticks": ""
                                                },
                                                "colorscale": [
                                                    [
                                                        0,
                                                        "#0d0887"
                                                    ],
                                                    [
                                                        0.1111111111111111,
                                                        "#46039f"
                                                    ],
                                                    [
                                                        0.2222222222222222,
                                                        "#7201a8"
                                                    ],
                                                    [
                                                        0.3333333333333333,
                                                        "#9c179e"
                                                    ],
                                                    [
                                                        0.4444444444444444,
                                                        "#bd3786"
                                                    ],
                                                    [
                                                        0.5555555555555556,
                                                        "#d8576b"
                                                    ],
                                                    [
                                                        0.6666666666666666,
                                                        "#ed7953"
                                                    ],
                                                    [
                                                        0.7777777777777778,
                                                        "#fb9f3a"
                                                    ],
                                                    [
                                                        0.8888888888888888,
                                                        "#fdca26"
                                                    ],
                                                    [
                                                        1,
                                                        "#f0f921"
                                                    ]
                                                ],
                                                "type": "heatmapgl"
                                            }
                                        ],
                                        "histogram": [
                                            {
                                                "marker": {
                                                    "colorbar": {
                                                        "outlinewidth": 0,
                                                        "ticks": ""
                                                    }
                                                },
                                                "type": "histogram"
                                            }
                                        ],
                                        "histogram2d": [
                                            {
                                                "colorbar": {
                                                    "outlinewidth": 0,
                                                    "ticks": ""
                                                },
                                                "colorscale": [
                                                    [
                                                        0,
                                                        "#0d0887"
                                                    ],
                                                    [
                                                        0.1111111111111111,
                                                        "#46039f"
                                                    ],
                                                    [
                                                        0.2222222222222222,
                                                        "#7201a8"
                                                    ],
                                                    [
                                                        0.3333333333333333,
                                                        "#9c179e"
                                                    ],
                                                    [
                                                        0.4444444444444444,
                                                        "#bd3786"
                                                    ],
                                                    [
                                                        0.5555555555555556,
                                                        "#d8576b"
                                                    ],
                                                    [
                                                        0.6666666666666666,
                                                        "#ed7953"
                                                    ],
                                                    [
                                                        0.7777777777777778,
                                                        "#fb9f3a"
                                                    ],
                                                    [
                                                        0.8888888888888888,
                                                        "#fdca26"
                                                    ],
                                                    [
                                                        1,
                                                        "#f0f921"
                                                    ]
                                                ],
                                                "type": "histogram2d"
                                            }
                                        ],
                                        "histogram2dcontour": [
                                            {
                                                "colorbar": {
                                                    "outlinewidth": 0,
                                                    "ticks": ""
                                                },
                                                "colorscale": [
                                                    [
                                                        0,
                                                        "#0d0887"
                                                    ],
                                                    [
                                                        0.1111111111111111,
                                                        "#46039f"
                                                    ],
                                                    [
                                                        0.2222222222222222,
                                                        "#7201a8"
                                                    ],
                                                    [
                                                        0.3333333333333333,
                                                        "#9c179e"
                                                    ],
                                                    [
                                                        0.4444444444444444,
                                                        "#bd3786"
                                                    ],
                                                    [
                                                        0.5555555555555556,
                                                        "#d8576b"
                                                    ],
                                                    [
                                                        0.6666666666666666,
                                                        "#ed7953"
                                                    ],
                                                    [
                                                        0.7777777777777778,
                                                        "#fb9f3a"
                                                    ],
                                                    [
                                                        0.8888888888888888,
                                                        "#fdca26"
                                                    ],
                                                    [
                                                        1,
                                                        "#f0f921"
                                                    ]
                                                ],
                                                "type": "histogram2dcontour"
                                            }
                                        ],
                                        "mesh3d": [
                                            {
                                                "colorbar": {
                                                    "outlinewidth": 0,
                                                    "ticks": ""
                                                },
                                                "type": "mesh3d"
                                            }
                                        ],
                                        "parcoords": [
                                            {
                                                "line": {
                                                    "colorbar": {
                                                        "outlinewidth": 0,
                                                        "ticks": ""
                                                    }
                                                },
                                                "type": "parcoords"
                                            }
                                        ],
                                        "pie": [
                                            {
                                                "automargin": true,
                                                "type": "pie"
                                            }
                                        ],
                                        "scatter": [
                                            {
                                                "marker": {
                                                    "colorbar": {
                                                        "outlinewidth": 0,
                                                        "ticks": ""
                                                    }
                                                },
                                                "type": "scatter"
                                            }
                                        ],
                                        "scatter3d": [
                                            {
                                                "line": {
                                                    "colorbar": {
                                                        "outlinewidth": 0,
                                                        "ticks": ""
                                                    }
                                                },
                                                "marker": {
                                                    "colorbar": {
                                                        "outlinewidth": 0,
                                                        "ticks": ""
                                                    }
                                                },
                                                "type": "scatter3d"
                                            }
                                        ],
                                        "scattercarpet": [
                                            {
                                                "marker": {
                                                    "colorbar": {
                                                        "outlinewidth": 0,
                                                        "ticks": ""
                                                    }
                                                },
                                                "type": "scattercarpet"
                                            }
                                        ],
                                        "scattergeo": [
                                            {
                                                "marker": {
                                                    "colorbar": {
                                                        "outlinewidth": 0,
                                                        "ticks": ""
                                                    }
                                                },
                                                "type": "scattergeo"
                                            }
                                        ],
                                        "scattergl": [
                                            {
                                                "marker": {
                                                    "colorbar": {
                                                        "outlinewidth": 0,
                                                        "ticks": ""
                                                    }
                                                },
                                                "type": "scattergl"
                                            }
                                        ],
                                        "scattermapbox": [
                                            {
                                                "marker": {
                                                    "colorbar": {
                                                        "outlinewidth": 0,
                                                        "ticks": ""
                                                    }
                                                },
                                                "type": "scattermapbox"
                                            }
                                        ],
                                        "scatterpolar": [
                                            {
                                                "marker": {
                                                    "colorbar": {
                                                        "outlinewidth": 0,
                                                        "ticks": ""
                                                    }
                                                },
                                                "type": "scatterpolar"
                                            }
                                        ],
                                        "scatterpolargl": [
                                            {
                                                "marker": {
                                                    "colorbar": {
                                                        "outlinewidth": 0,
                                                        "ticks": ""
                                                    }
                                                },
                                                "type": "scatterpolargl"
                                            }
                                        ],
                                        "scatterternary": [
                                            {
                                                "marker": {
                                                    "colorbar": {
                                                        "outlinewidth": 0,
                                                        "ticks": ""
                                                    }
                                                },
                                                "type": "scatterternary"
                                            }
                                        ],
                                        "surface": [
                                            {
                                                "colorbar": {
                                                    "outlinewidth": 0,
                                                    "ticks": ""
                                                },
                                                "colorscale": [
                                                    [
                                                        0,
                                                        "#0d0887"
                                                    ],
                                                    [
                                                        0.1111111111111111,
                                                        "#46039f"
                                                    ],
                                                    [
                                                        0.2222222222222222,
                                                        "#7201a8"
                                                    ],
                                                    [
                                                        0.3333333333333333,
                                                        "#9c179e"
                                                    ],
                                                    [
                                                        0.4444444444444444,
                                                        "#bd3786"
                                                    ],
                                                    [
                                                        0.5555555555555556,
                                                        "#d8576b"
                                                    ],
                                                    [
                                                        0.6666666666666666,
                                                        "#ed7953"
                                                    ],
                                                    [
                                                        0.7777777777777778,
                                                        "#fb9f3a"
                                                    ],
                                                    [
                                                        0.8888888888888888,
                                                        "#fdca26"
                                                    ],
                                                    [
                                                        1,
                                                        "#f0f921"
                                                    ]
                                                ],
                                                "type": "surface"
                                            }
                                        ],
                                        "table": [
                                            {
                                                "cells": {
                                                    "fill": {
                                                        "color": "#EBF0F8"
                                                    },
                                                    "line": {
                                                        "color": "white"
                                                    }
                                                },
                                                "header": {
                                                    "fill": {
                                                        "color": "#C8D4E3"
                                                    },
                                                    "line": {
                                                        "color": "white"
                                                    }
                                                },
                                                "type": "table"
                                            }
                                        ]
                                    },
                                    "layout": {
                                        "annotationdefaults": {
                                            "arrowcolor": "#2a3f5f",
                                            "arrowhead": 0,
                                            "arrowwidth": 1
                                        },
                                        "coloraxis": {
                                            "colorbar": {
                                                "outlinewidth": 0,
                                                "ticks": ""
                                            }
                                        },
                                        "colorscale": {
                                            "diverging": [
                                                [
                                                    0,
                                                    "#8e0152"
                                                ],
                                                [
                                                    0.1,
                                                    "#c51b7d"
                                                ],
                                                [
                                                    0.2,
                                                    "#de77ae"
                                                ],
                                                [
                                                    0.3,
                                                    "#f1b6da"
                                                ],
                                                [
                                                    0.4,
                                                    "#fde0ef"
                                                ],
                                                [
                                                    0.5,
                                                    "#f7f7f7"
                                                ],
                                                [
                                                    0.6,
                                                    "#e6f5d0"
                                                ],
                                                [
                                                    0.7,
                                                    "#b8e186"
                                                ],
                                                [
                                                    0.8,
                                                    "#7fbc41"
                                                ],
                                                [
                                                    0.9,
                                                    "#4d9221"
                                                ],
                                                [
                                                    1,
                                                    "#276419"
                                                ]
                                            ],
                                            "sequential": [
                                                [
                                                    0,
                                                    "#0d0887"
                                                ],
                                                [
                                                    0.1111111111111111,
                                                    "#46039f"
                                                ],
                                                [
                                                    0.2222222222222222,
                                                    "#7201a8"
                                                ],
                                                [
                                                    0.3333333333333333,
                                                    "#9c179e"
                                                ],
                                                [
                                                    0.4444444444444444,
                                                    "#bd3786"
                                                ],
                                                [
                                                    0.5555555555555556,
                                                    "#d8576b"
                                                ],
                                                [
                                                    0.6666666666666666,
                                                    "#ed7953"
                                                ],
                                                [
                                                    0.7777777777777778,
                                                    "#fb9f3a"
                                                ],
                                                [
                                                    0.8888888888888888,
                                                    "#fdca26"
                                                ],
                                                [
                                                    1,
                                                    "#f0f921"
                                                ]
                                            ],
                                            "sequentialminus": [
                                                [
                                                    0,
                                                    "#0d0887"
                                                ],
                                                [
                                                    0.1111111111111111,
                                                    "#46039f"
                                                ],
                                                [
                                                    0.2222222222222222,
                                                    "#7201a8"
                                                ],
                                                [
                                                    0.3333333333333333,
                                                    "#9c179e"
                                                ],
                                                [
                                                    0.4444444444444444,
                                                    "#bd3786"
                                                ],
                                                [
                                                    0.5555555555555556,
                                                    "#d8576b"
                                                ],
                                                [
                                                    0.6666666666666666,
                                                    "#ed7953"
                                                ],
                                                [
                                                    0.7777777777777778,
                                                    "#fb9f3a"
                                                ],
                                                [
                                                    0.8888888888888888,
                                                    "#fdca26"
                                                ],
                                                [
                                                    1,
                                                    "#f0f921"
                                                ]
                                            ]
                                        },
                                        "colorway": [
                                            "#636efa",
                                            "#EF553B",
                                            "#00cc96",
                                            "#ab63fa",
                                            "#FFA15A",
                                            "#19d3f3",
                                            "#FF6692",
                                            "#B6E880",
                                            "#FF97FF",
                                            "#FECB52"
                                        ],
                                        "font": {
                                            "color": "#2a3f5f"
                                        },
                                        "geo": {
                                            "bgcolor": "white",
                                            "lakecolor": "white",
                                            "landcolor": "#E5ECF6",
                                            "showlakes": true,
                                            "showland": true,
                                            "subunitcolor": "white"
                                        },
                                        "hoverlabel": {
                                            "align": "left"
                                        },
                                        "hovermode": "closest",
                                        "mapbox": {
                                            "style": "light"
                                        },
                                        "paper_bgcolor": "white",
                                        "plot_bgcolor": "#E5ECF6",
                                        "polar": {
                                            "angularaxis": {
                                                "gridcolor": "white",
                                                "linecolor": "white",
                                                "ticks": ""
                                            },
                                            "bgcolor": "#E5ECF6",
                                            "radialaxis": {
                                                "gridcolor": "white",
                                                "linecolor": "white",
                                                "ticks": ""
                                            }
                                        },
                                        "scene": {
                                            "xaxis": {
                                                "backgroundcolor": "#E5ECF6",
                                                "gridcolor": "white",
                                                "gridwidth": 2,
                                                "linecolor": "white",
                                                "showbackground": true,
                                                "ticks": "",
                                                "zerolinecolor": "white"
                                            },
                                            "yaxis": {
                                                "backgroundcolor": "#E5ECF6",
                                                "gridcolor": "white",
                                                "gridwidth": 2,
                                                "linecolor": "white",
                                                "showbackground": true,
                                                "ticks": "",
                                                "zerolinecolor": "white"
                                            },
                                            "zaxis": {
                                                "backgroundcolor": "#E5ECF6",
                                                "gridcolor": "white",
                                                "gridwidth": 2,
                                                "linecolor": "white",
                                                "showbackground": true,
                                                "ticks": "",
                                                "zerolinecolor": "white"
                                            }
                                        },
                                        "shapedefaults": {
                                            "line": {
                                                "color": "#2a3f5f"
                                            }
                                        },
                                        "ternary": {
                                            "aaxis": {
                                                "gridcolor": "white",
                                                "linecolor": "white",
                                                "ticks": ""
                                            },
                                            "baxis": {
                                                "gridcolor": "white",
                                                "linecolor": "white",
                                                "ticks": ""
                                            },
                                            "bgcolor": "#E5ECF6",
                                            "caxis": {
                                                "gridcolor": "white",
                                                "linecolor": "white",
                                                "ticks": ""
                                            }
                                        },
                                        "title": {
                                            "x": 0.05
                                        },
                                        "xaxis": {
                                            "automargin": true,
                                            "gridcolor": "white",
                                            "linecolor": "white",
                                            "ticks": "",
                                            "title": {
                                                "standoff": 15
                                            },
                                            "zerolinecolor": "white",
                                            "zerolinewidth": 2
                                        },
                                        "yaxis": {
                                            "automargin": true,
                                            "gridcolor": "white",
                                            "linecolor": "white",
                                            "ticks": "",
                                            "title": {
                                                "standoff": 15
                                            },
                                            "zerolinecolor": "white",
                                            "zerolinewidth": 2
                                        }
                                    }
                                },
                                "title": {
                                    "text": "timechart"
                                },
                                "xaxis": {
                                    "autorange": true,
                                    "title": {
                                        "text": "EventTime"
                                    },
                                    "type": "date"
                                },
                                "yaxis": {
                                    "ticksuffix": "",
                                    "title": {
                                        "text": "event_count"
                                    },
                                    "type": "linear"
                                }
                            }
                        }
                    },
                    "metadata": {},
                    "output_type": "display_data"
                },
                {
                    "data": {
                        "text/plain": "<IPython.core.display.HTML object>",
                        "text/html": "<html>\n        <head>\n            \n            \n        </head>\n        <body>\n            <div><p style='padding: 10px; color: #3a87ad; background-color: #d9edf7; border-color: #bce9f1'>Done&nbsp;(00:01.108):&nbsp;22&nbsp;records</p></div>\n        </body>\n        </html>"
                    },
                    "metadata": {},
                    "output_type": "display_data"
                },
                {
                    "data": {
                        "text/plain": "[{'EventTime': datetime.datetime(2021, 1, 31, 23, 30, tzinfo=tzutc()), 'ErrorNumber': '208.0', 'event_count': 1},\n {'EventTime': datetime.datetime(2021, 1, 31, 17, 10, tzinfo=tzutc()), 'ErrorNumber': '208.0', 'event_count': 5},\n {'EventTime': datetime.datetime(2021, 1, 31, 17, 30, tzinfo=tzutc()), 'ErrorNumber': '208.0', 'event_count': 9},\n {'EventTime': datetime.datetime(2021, 1, 31, 18, 0, tzinfo=tzutc()), 'ErrorNumber': '8134.0', 'event_count': 1},\n {'EventTime': datetime.datetime(2021, 1, 31, 23, 10, tzinfo=tzutc()), 'ErrorNumber': '208.0', 'event_count': 1},\n {'EventTime': datetime.datetime(2021, 1, 31, 23, 50, tzinfo=tzutc()), 'ErrorNumber': '12413.0', 'event_count': 3},\n {'EventTime': datetime.datetime(2021, 1, 31, 19, 50, tzinfo=tzutc()), 'ErrorNumber': '257.0', 'event_count': 2},\n {'EventTime': datetime.datetime(2021, 1, 31, 19, 50, tzinfo=tzutc()), 'ErrorNumber': '208.0', 'event_count': 12},\n {'EventTime': datetime.datetime(2021, 1, 31, 19, 50, tzinfo=tzutc()), 'ErrorNumber': '1222.0', 'event_count': 2},\n {'EventTime': datetime.datetime(2021, 1, 31, 23, 30, tzinfo=tzutc()), 'ErrorNumber': '2809.0', 'event_count': 1},\n {'EventTime': datetime.datetime(2021, 1, 31, 23, 50, tzinfo=tzutc()), 'ErrorNumber': '215.0', 'event_count': 1},\n {'EventTime': datetime.datetime(2021, 1, 31, 17, 40, tzinfo=tzutc()), 'ErrorNumber': '208.0', 'event_count': 1},\n {'EventTime': datetime.datetime(2021, 1, 31, 17, 50, tzinfo=tzutc()), 'ErrorNumber': '208.0', 'event_count': 3},\n {'EventTime': datetime.datetime(2021, 1, 31, 17, 50, tzinfo=tzutc()), 'ErrorNumber': '8134.0', 'event_count': 1},\n {'EventTime': datetime.datetime(2021, 1, 24, 2, 50, tzinfo=tzutc()), 'ErrorNumber': '208.0', 'event_count': 1},\n {'EventTime': datetime.datetime(2021, 1, 24, 3, 0, tzinfo=tzutc()), 'ErrorNumber': '208.0', 'event_count': 37},\n {'EventTime': datetime.datetime(2021, 1, 24, 3, 10, tzinfo=tzutc()), 'ErrorNumber': '208.0', 'event_count': 28},\n {'EventTime': datetime.datetime(2021, 1, 24, 3, 10, tzinfo=tzutc()), 'ErrorNumber': '1222.0', 'event_count': 2},\n {'EventTime': datetime.datetime(2021, 1, 24, 3, 20, tzinfo=tzutc()), 'ErrorNumber': '208.0', 'event_count': 5},\n {'EventTime': datetime.datetime(2021, 1, 24, 3, 20, tzinfo=tzutc()), 'ErrorNumber': '3903.0', 'event_count': 1},\n {'EventTime': datetime.datetime(2021, 1, 24, 3, 20, tzinfo=tzutc()), 'ErrorNumber': '1222.0', 'event_count': 2},\n {'EventTime': datetime.datetime(2021, 1, 24, 3, 10, tzinfo=tzutc()), 'ErrorNumber': '2714.0', 'event_count': 1}]",
                        "text/html": ""
                    },
                    "metadata": {},
                    "execution_count": 40,
                    "output_type": "execute_result"
                }
            ],
            "execution_count": 40
        },
        {
            "cell_type": "markdown",
            "source": [
                "## Find Deleted table"
            ],
            "metadata": {
                "azdata_cell_guid": "6d450c21-8628-459c-b8c1-c37c8aba8d6d"
            }
        },
        {
            "cell_type": "code",
            "source": [
                "%%kql \r\n",
                "AzureDiagnostics\r\n",
                "| where action_name_s in ('BATCH COMPLETED')\r\n",
                "| project TimeGenerated, Category, action_name_s, statement_s\r\n",
                "| where statement_s contains \"DROP TABLE\"\r\n",
                "| sort by TimeGenerated desc \r\n",
                "| take 10\r\n",
                "\r\n",
                ""
            ],
            "metadata": {
                "azdata_cell_guid": "3b6d232d-a2f4-441e-81f2-33ef59fdb4c6",
                "tags": []
            },
            "outputs": [
                {
                    "data": {
                        "text/plain": "<IPython.core.display.HTML object>",
                        "text/html": "<html>\n        <head>\n            \n            \n        </head>\n        <body>\n            <div><p style='padding: 10px; color: #3a87ad; background-color: #d9edf7; border-color: #bce9f1'>&nbsp;*&nbsp;myLogAnalyticsWorkspace@loganalytics</p></div>\n        </body>\n        </html>"
                    },
                    "metadata": {},
                    "output_type": "display_data"
                },
                {
                    "data": {
                        "text/plain": "                     TimeGenerated                Category    action_name_s  \\\n0 2021-01-24 03:13:41.751000+00:00  SQLSecurityAuditEvents  BATCH COMPLETED   \n1 2021-01-24 03:13:41.751000+00:00  SQLSecurityAuditEvents  BATCH COMPLETED   \n2 2021-01-24 03:09:53.703000+00:00  SQLSecurityAuditEvents  BATCH COMPLETED   \n3 2021-01-24 03:09:53.703000+00:00  SQLSecurityAuditEvents  BATCH COMPLETED   \n\n                                         statement_s  \n0  DROP TABLE dbo.Suppliers\\r\\nDROP TABLE dbo.Emp...  \n1  DROP TABLE dbo.Suppliers\\r\\nDROP TABLE dbo.Emp...  \n2  DROP TABLE dbo.Suppliers\\r\\nDROP TABLE dbo.Emp...  \n3  DROP TABLE dbo.Suppliers\\r\\nDROP TABLE dbo.Emp...  ",
                        "text/html": "<div>\n<style scoped>\n    .dataframe tbody tr th:only-of-type {\n        vertical-align: middle;\n    }\n\n    .dataframe tbody tr th {\n        vertical-align: top;\n    }\n\n    .dataframe thead th {\n        text-align: right;\n    }\n</style>\n<table border=\"1\" class=\"dataframe\">\n  <thead>\n    <tr style=\"text-align: right;\">\n      <th></th>\n      <th>TimeGenerated</th>\n      <th>Category</th>\n      <th>action_name_s</th>\n      <th>statement_s</th>\n    </tr>\n  </thead>\n  <tbody>\n    <tr>\n      <th>0</th>\n      <td>2021-01-24 03:13:41.751000+00:00</td>\n      <td>SQLSecurityAuditEvents</td>\n      <td>BATCH COMPLETED</td>\n      <td>DROP TABLE dbo.Suppliers\\r\\nDROP TABLE dbo.Emp...</td>\n    </tr>\n    <tr>\n      <th>1</th>\n      <td>2021-01-24 03:13:41.751000+00:00</td>\n      <td>SQLSecurityAuditEvents</td>\n      <td>BATCH COMPLETED</td>\n      <td>DROP TABLE dbo.Suppliers\\r\\nDROP TABLE dbo.Emp...</td>\n    </tr>\n    <tr>\n      <th>2</th>\n      <td>2021-01-24 03:09:53.703000+00:00</td>\n      <td>SQLSecurityAuditEvents</td>\n      <td>BATCH COMPLETED</td>\n      <td>DROP TABLE dbo.Suppliers\\r\\nDROP TABLE dbo.Emp...</td>\n    </tr>\n    <tr>\n      <th>3</th>\n      <td>2021-01-24 03:09:53.703000+00:00</td>\n      <td>SQLSecurityAuditEvents</td>\n      <td>BATCH COMPLETED</td>\n      <td>DROP TABLE dbo.Suppliers\\r\\nDROP TABLE dbo.Emp...</td>\n    </tr>\n  </tbody>\n</table>\n</div>",
                        "application/vnd.dataresource+json": {
                            "schema": {
                                "fields": [
                                    {
                                        "name": "TimeGenerated",
                                        "type": "datetime",
                                        "tz": "UTC"
                                    },
                                    {
                                        "name": "Category",
                                        "type": "string"
                                    },
                                    {
                                        "name": "action_name_s",
                                        "type": "string"
                                    },
                                    {
                                        "name": "statement_s",
                                        "type": "string"
                                    }
                                ],
                                "kqmagic_version": "0.1.113.post1"
                            },
                            "data": [
                                {
                                    "TimeGenerated": "2021-01-24T03:13:41.751Z",
                                    "Category": "SQLSecurityAuditEvents",
                                    "action_name_s": "BATCH COMPLETED",
                                    "statement_s": "DROP TABLE dbo.Suppliers\r\nDROP TABLE dbo.Employees"
                                },
                                {
                                    "TimeGenerated": "2021-01-24T03:13:41.751Z",
                                    "Category": "SQLSecurityAuditEvents",
                                    "action_name_s": "BATCH COMPLETED",
                                    "statement_s": "DROP TABLE dbo.Suppliers\r\nDROP TABLE dbo.Employees"
                                },
                                {
                                    "TimeGenerated": "2021-01-24T03:09:53.703Z",
                                    "Category": "SQLSecurityAuditEvents",
                                    "action_name_s": "BATCH COMPLETED",
                                    "statement_s": "DROP TABLE dbo.Suppliers\r\nDROP TABLE dbo.Employees"
                                },
                                {
                                    "TimeGenerated": "2021-01-24T03:09:53.703Z",
                                    "Category": "SQLSecurityAuditEvents",
                                    "action_name_s": "BATCH COMPLETED",
                                    "statement_s": "DROP TABLE dbo.Suppliers\r\nDROP TABLE dbo.Employees"
                                }
                            ]
                        }
                    },
                    "metadata": {},
                    "output_type": "display_data"
                },
                {
                    "data": {
                        "text/plain": "<IPython.core.display.HTML object>",
                        "text/html": "<html>\n        <head>\n            \n            \n        </head>\n        <body>\n            <div><p style='padding: 10px; color: #3a87ad; background-color: #d9edf7; border-color: #bce9f1'>Done&nbsp;(00:07.075):&nbsp;4&nbsp;records</p></div>\n        </body>\n        </html>"
                    },
                    "metadata": {},
                    "output_type": "display_data"
                },
                {
                    "data": {
                        "text/plain": "[{'TimeGenerated': datetime.datetime(2021, 1, 24, 3, 13, 41, 751000, tzinfo=tzutc()), 'Category': 'SQLSecurityAuditEvents', 'action_name_s': 'BATCH COMPLETED', 'statement_s': 'DROP TABLE dbo.Suppliers\\r\\nDROP TABLE dbo.Employees'},\n {'TimeGenerated': datetime.datetime(2021, 1, 24, 3, 13, 41, 751000, tzinfo=tzutc()), 'Category': 'SQLSecurityAuditEvents', 'action_name_s': 'BATCH COMPLETED', 'statement_s': 'DROP TABLE dbo.Suppliers\\r\\nDROP TABLE dbo.Employees'},\n {'TimeGenerated': datetime.datetime(2021, 1, 24, 3, 9, 53, 703000, tzinfo=tzutc()), 'Category': 'SQLSecurityAuditEvents', 'action_name_s': 'BATCH COMPLETED', 'statement_s': 'DROP TABLE dbo.Suppliers\\r\\nDROP TABLE dbo.Employees'},\n {'TimeGenerated': datetime.datetime(2021, 1, 24, 3, 9, 53, 703000, tzinfo=tzutc()), 'Category': 'SQLSecurityAuditEvents', 'action_name_s': 'BATCH COMPLETED', 'statement_s': 'DROP TABLE dbo.Suppliers\\r\\nDROP TABLE dbo.Employees'}]",
                        "text/html": ""
                    },
                    "metadata": {},
                    "execution_count": 41,
                    "output_type": "execute_result"
                }
            ],
            "execution_count": 41
        }
    ]
}