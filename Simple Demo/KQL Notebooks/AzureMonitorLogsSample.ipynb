{
    "metadata": {
        "kernelspec": {
            "name": "SQL",
            "display_name": "SQL",
            "language": "sql"
        },
        "language_info": {
            "name": "loganalytics",
            "version": ""
        }
    },
    "nbformat_minor": 2,
    "nbformat": 4,
    "cells": [
        {
            "cell_type": "markdown",
            "source": [
                "# Using Kqlmagic to analyze Azure SQL logs and metrics\r\n",
                "\r\n",
                "There are two main tables in Azure Log Analytics (Azure Monitor Logs) workspace that capture Azure SQL events:\r\n",
                "1. AzureDiagnostics\r\n",
                "2. AzureMetric\r\n",
                ""
            ],
            "metadata": {
                "azdata_cell_guid": "2e215b87-477c-47c1-88fd-15701f9d849c"
            }
        },
        {
            "cell_type": "markdown",
            "source": [
                "## 1\\. Connect to Azure Monitor Logs (Log Analytics) workspace\n",
                "\n",
                "Workspace is similar to what a database is to SQL. You connect to Log Analytics workspace to start querying data.\n",
                "\n",
                "### 1.1 Install Azure Monitor Logs extension first\n",
                "\n",
                "Go to the Extension viewlet and type in Azure Monitor Logs. Install it and restart ADS."
            ],
            "metadata": {
                "azdata_cell_guid": "62a95fa9-3573-46fc-ba99-f8ea5ba0ea05"
            },
            "attachments": {}
        },
        {
            "cell_type": "markdown",
            "source": [
                "### 1.2 Connect to the desired Azure Monitor Logs workspace\n",
                "\n",
                "Change the Kernel to \"Log Analytics\". Set Attach to to a new or existing connection to the workspace. Note: you will need a workspace Id that you can obtain from Azure portal."
            ],
            "metadata": {
                "azdata_cell_guid": "1ccf6cc8-49df-4c8c-8cf4-08b36776ec78"
            },
            "attachments": {}
        },
        {
            "cell_type": "markdown",
            "source": [
                "## 2. Analyze events by Diagnostic Settings\n",
                "\n",
                "Let's do a simple query first to analyze the number of events by Operation Name. \n",
                "\n",
                "> **Note**: Each row in AzureDiagnostic represents an event for specific Operation or category. Some SQL actions may result in generating multiple events of different types.\n",
                "\n",
                ""
            ],
            "metadata": {
                "azdata_cell_guid": "eb6417a2-3f1d-4d21-9c2d-1ccd9f65f935"
            }
        },
        {
            "cell_type": "code",
            "source": [
                "AzureDiagnostics\r\n",
                "| summarize count() by OperationName"
            ],
            "metadata": {
                "azdata_cell_guid": "e0d388fb-3ba1-4579-81d4-e46b41063738"
            },
            "outputs": [
                {
                    "output_type": "display_data",
                    "data": {
                        "text/html": "Commands completed successfully."
                    },
                    "metadata": {}
                },
                {
                    "output_type": "display_data",
                    "data": {
                        "text/html": "Total execution time: 00:00:00.581"
                    },
                    "metadata": {}
                },
                {
                    "output_type": "execute_result",
                    "execution_count": 1,
                    "data": {
                        "application/vnd.dataresource+json": {
                            "schema": {
                                "fields": [
                                    {
                                        "name": "OperationName"
                                    },
                                    {
                                        "name": "count_"
                                    }
                                ]
                            },
                            "data": [
                                {
                                    "0": "AuditEvent",
                                    "1": "1105"
                                },
                                {
                                    "0": "ErrorEvent",
                                    "1": "10"
                                },
                                {
                                    "0": "QueryStoreRuntimeStatisticsEvent",
                                    "1": "32"
                                },
                                {
                                    "0": "DatabaseWaitStatistcsEvent",
                                    "1": "9"
                                }
                            ]
                        },
                        "text/html": "<table><tr><th>OperationName</th><th>count_</th></tr><tr><td>AuditEvent</td><td>1105</td></tr><tr><td>ErrorEvent</td><td>10</td></tr><tr><td>QueryStoreRuntimeStatisticsEvent</td><td>32</td></tr><tr><td>DatabaseWaitStatistcsEvent</td><td>9</td></tr></table>"
                    },
                    "metadata": {}
                }
            ],
            "execution_count": 1
        },
        {
            "cell_type": "markdown",
            "source": [
                "\r\n",
                "The above query's equivalent in SQL is:\r\n",
                "```\r\n",
                "SELECT COUNT(*) AS [count_]\r\n",
                "FROM AzureDiagnostics\r\n",
                "GROUP BY OperationName\r\n",
                "```\r\n",
                ""
            ],
            "metadata": {
                "azdata_cell_guid": "70c58547-b1b4-4724-b20b-a5bfc11d4dc4"
            }
        },
        {
            "cell_type": "markdown",
            "source": [
                "Count my Azure SQL DB events by category / diagnostic settings."
            ],
            "metadata": {
                "azdata_cell_guid": "8303ed68-ca14-4063-8464-9492f9304121"
            }
        },
        {
            "cell_type": "code",
            "source": [
                "AzureDiagnostics\r\n",
                "| where LogicalServerName_s == \"jukoesmasqldb\"\r\n",
                "| where TimeGenerated >= ago(5d)\r\n",
                "| summarize count() by Category\r\n",
                "| render barchart with (title = \"Azure SQL DB Diagnostic Category\")"
            ],
            "metadata": {
                "azdata_cell_guid": "6eaa8a7b-0b34-4a5a-b49b-80f9286539b2"
            },
            "outputs": [
                {
                    "output_type": "display_data",
                    "data": {
                        "text/html": "Commands completed successfully."
                    },
                    "metadata": {}
                },
                {
                    "output_type": "display_data",
                    "data": {
                        "text/html": "Total execution time: 00:00:00.336"
                    },
                    "metadata": {}
                },
                {
                    "output_type": "execute_result",
                    "execution_count": 1,
                    "data": {
                        "application/vnd.dataresource+json": {
                            "schema": {
                                "fields": [
                                    {
                                        "name": "Category"
                                    },
                                    {
                                        "name": "count_"
                                    }
                                ]
                            },
                            "data": [
                                {
                                    "0": "SQLSecurityAuditEvents",
                                    "1": "290"
                                },
                                {
                                    "0": "Errors",
                                    "1": "8"
                                },
                                {
                                    "0": "QueryStoreRuntimeStatistics",
                                    "1": "12"
                                },
                                {
                                    "0": "DatabaseWaitStatistics",
                                    "1": "4"
                                }
                            ]
                        },
                        "text/html": "<table><tr><th>Category</th><th>count_</th></tr><tr><td>SQLSecurityAuditEvents</td><td>290</td></tr><tr><td>Errors</td><td>8</td></tr><tr><td>QueryStoreRuntimeStatistics</td><td>12</td></tr><tr><td>DatabaseWaitStatistics</td><td>4</td></tr></table>"
                    },
                    "metadata": {}
                }
            ],
            "execution_count": 1
        },
        {
            "cell_type": "markdown",
            "source": [
                "## 3. Performance troubleshooting Query (from Azure Portal)\n",
                "\n",
                "Potentially a query or deadlock on the system that could lead to poor performance. The following is a query suggested by Azure Portal."
            ],
            "metadata": {
                "azdata_cell_guid": "3e2e80b4-88b4-494e-931e-15a4139389d7"
            }
        },
        {
            "cell_type": "code",
            "source": [
                "AzureMetrics\r\n",
                "| where ResourceProvider == \"MICROSOFT.SQL\"\r\n",
                "| where TimeGenerated >=ago(60min)\r\n",
                "| where MetricName in ('deadlock')\r\n",
                "| parse _ResourceId with * \"/microsoft.sql/servers/\" Resource // subtract Resource name for _ResourceId\r\n",
                "| summarize Deadlock_max_60Mins = max(Maximum) by Resource, MetricName"
            ],
            "metadata": {
                "azdata_cell_guid": "d7bc7a1e-c348-448b-af47-b310a0fe55e7"
            },
            "outputs": [
                {
                    "output_type": "display_data",
                    "data": {
                        "text/html": "Commands completed successfully."
                    },
                    "metadata": {}
                },
                {
                    "output_type": "display_data",
                    "data": {
                        "text/html": "Total execution time: 00:00:00.424"
                    },
                    "metadata": {}
                },
                {
                    "output_type": "execute_result",
                    "execution_count": 3,
                    "data": {
                        "application/vnd.dataresource+json": {
                            "schema": {
                                "fields": [
                                    {
                                        "name": "Resource"
                                    },
                                    {
                                        "name": "MetricName"
                                    },
                                    {
                                        "name": "Deadlock_max_60Mins"
                                    }
                                ]
                            },
                            "data": []
                        },
                        "text/html": "<table><tr><th>Resource</th><th>MetricName</th><th>Deadlock_max_60Mins</th></tr></table>"
                    },
                    "metadata": {}
                }
            ],
            "execution_count": 3
        },
        {
            "cell_type": "markdown",
            "source": [
                "# AzureMetrics\r\n",
                "\r\n",
                "This is a sample query to dig into AzureMetrics"
            ],
            "metadata": {
                "azdata_cell_guid": "188a4592-423d-44b6-ad47-902101257761"
            }
        },
        {
            "cell_type": "code",
            "source": [
                "AzureMetrics\r\n",
                "| project-away TenantId, ResourceId, SubscriptionId, _ResourceId, ResourceGroup // hide sensitive info\r\n",
                "| project TimeGenerated, MetricName, Total, Count, UnitName\r\n",
                "| take 10"
            ],
            "metadata": {
                "azdata_cell_guid": "1ac3f92f-b292-4c74-8020-47de93aebb6f"
            },
            "outputs": [
                {
                    "output_type": "display_data",
                    "data": {
                        "text/html": "Commands completed successfully."
                    },
                    "metadata": {}
                },
                {
                    "output_type": "display_data",
                    "data": {
                        "text/html": "Total execution time: 00:00:00.675"
                    },
                    "metadata": {}
                },
                {
                    "output_type": "execute_result",
                    "execution_count": 2,
                    "data": {
                        "application/vnd.dataresource+json": {
                            "schema": {
                                "fields": [
                                    {
                                        "name": "TimeGenerated"
                                    },
                                    {
                                        "name": "MetricName"
                                    },
                                    {
                                        "name": "Total"
                                    },
                                    {
                                        "name": "Count"
                                    },
                                    {
                                        "name": "UnitName"
                                    }
                                ]
                            },
                            "data": [
                                {
                                    "0": "2021-07-17 12:21:00",
                                    "1": "storage_percent",
                                    "2": "0",
                                    "3": "1",
                                    "4": "Percent"
                                },
                                {
                                    "0": "2021-07-17 12:21:00",
                                    "1": "physical_data_read_percent",
                                    "2": "0",
                                    "3": "4",
                                    "4": "Percent"
                                },
                                {
                                    "0": "2021-07-17 12:21:00",
                                    "1": "log_write_percent",
                                    "2": "0",
                                    "3": "4",
                                    "4": "Percent"
                                },
                                {
                                    "0": "2021-07-17 12:21:00",
                                    "1": "allocated_data_storage",
                                    "2": "33554432",
                                    "3": "1",
                                    "4": "Bytes"
                                },
                                {
                                    "0": "2021-07-17 12:21:00",
                                    "1": "sessions_percent",
                                    "2": "0",
                                    "3": "4",
                                    "4": "Percent"
                                },
                                {
                                    "0": "2021-07-17 12:21:00",
                                    "1": "cpu_used",
                                    "2": "0",
                                    "3": "1",
                                    "4": "Count"
                                },
                                {
                                    "0": "2021-07-17 12:21:00",
                                    "1": "cpu_limit",
                                    "2": "10",
                                    "3": "5",
                                    "4": "Count"
                                },
                                {
                                    "0": "2021-07-17 12:21:00",
                                    "1": "xtp_storage_percent",
                                    "2": "0",
                                    "3": "4",
                                    "4": "Percent"
                                },
                                {
                                    "0": "2021-07-17 12:21:00",
                                    "1": "cpu_percent",
                                    "2": "0",
                                    "3": "4",
                                    "4": "Percent"
                                },
                                {
                                    "0": "2021-07-17 12:21:00",
                                    "1": "storage",
                                    "2": "29097984",
                                    "3": "1",
                                    "4": "Bytes"
                                }
                            ]
                        },
                        "text/html": "<table><tr><th>TimeGenerated</th><th>MetricName</th><th>Total</th><th>Count</th><th>UnitName</th></tr><tr><td>2021-07-17 12:21:00</td><td>storage_percent</td><td>0</td><td>1</td><td>Percent</td></tr><tr><td>2021-07-17 12:21:00</td><td>physical_data_read_percent</td><td>0</td><td>4</td><td>Percent</td></tr><tr><td>2021-07-17 12:21:00</td><td>log_write_percent</td><td>0</td><td>4</td><td>Percent</td></tr><tr><td>2021-07-17 12:21:00</td><td>allocated_data_storage</td><td>33554432</td><td>1</td><td>Bytes</td></tr><tr><td>2021-07-17 12:21:00</td><td>sessions_percent</td><td>0</td><td>4</td><td>Percent</td></tr><tr><td>2021-07-17 12:21:00</td><td>cpu_used</td><td>0</td><td>1</td><td>Count</td></tr><tr><td>2021-07-17 12:21:00</td><td>cpu_limit</td><td>10</td><td>5</td><td>Count</td></tr><tr><td>2021-07-17 12:21:00</td><td>xtp_storage_percent</td><td>0</td><td>4</td><td>Percent</td></tr><tr><td>2021-07-17 12:21:00</td><td>cpu_percent</td><td>0</td><td>4</td><td>Percent</td></tr><tr><td>2021-07-17 12:21:00</td><td>storage</td><td>29097984</td><td>1</td><td>Bytes</td></tr></table>"
                    },
                    "metadata": {}
                }
            ],
            "execution_count": 2
        },
        {
            "cell_type": "markdown",
            "source": [
                "# AzureDiagnostics\n",
                "\n",
                "This is a sample query to dig into AzureDiagnostics. This table tends to have more details than AzureMetrics."
            ],
            "metadata": {
                "azdata_cell_guid": "b7d842a1-4228-48c8-ab44-126adf65d1ed"
            }
        },
        {
            "cell_type": "code",
            "source": [
                "AzureDiagnostics\r\n",
                "| project-away TenantId, ResourceId, SubscriptionId, ResourceGroup, _ResourceId // Hide sensitive columns :) \r\n",
                "| project TimeGenerated, Category, OperationName\r\n",
                "| take 10"
            ],
            "metadata": {
                "azdata_cell_guid": "f26730a6-bc2c-4341-b781-88268a93dfcb"
            },
            "outputs": [
                {
                    "output_type": "display_data",
                    "data": {
                        "text/html": "Commands completed successfully."
                    },
                    "metadata": {}
                },
                {
                    "output_type": "display_data",
                    "data": {
                        "text/html": "Total execution time: 00:00:00.307"
                    },
                    "metadata": {}
                },
                {
                    "output_type": "execute_result",
                    "metadata": {},
                    "execution_count": 1,
                    "data": {
                        "application/vnd.dataresource+json": {
                            "schema": {
                                "fields": [
                                    {
                                        "name": "TimeGenerated"
                                    },
                                    {
                                        "name": "Category"
                                    },
                                    {
                                        "name": "OperationName"
                                    }
                                ]
                            },
                            "data": [
                                {
                                    "0": "2021-07-08 20:22:25",
                                    "1": "SQLSecurityAuditEvents",
                                    "2": "AuditEvent"
                                },
                                {
                                    "0": "2021-07-08 20:55:53",
                                    "1": "QueryStoreRuntimeStatistics",
                                    "2": "QueryStoreRuntimeStatisticsEvent"
                                },
                                {
                                    "0": "2021-07-08 22:04:55",
                                    "1": "SQLSecurityAuditEvents",
                                    "2": "AuditEvent"
                                },
                                {
                                    "0": "2021-07-08 22:04:55",
                                    "1": "SQLSecurityAuditEvents",
                                    "2": "AuditEvent"
                                },
                                {
                                    "0": "2021-07-08 21:10:49",
                                    "1": "SQLSecurityAuditEvents",
                                    "2": "AuditEvent"
                                },
                                {
                                    "0": "2021-07-08 21:10:13",
                                    "1": "QueryStoreRuntimeStatistics",
                                    "2": "QueryStoreRuntimeStatisticsEvent"
                                },
                                {
                                    "0": "2021-07-08 21:02:12",
                                    "1": "SQLSecurityAuditEvents",
                                    "2": "AuditEvent"
                                },
                                {
                                    "0": "2021-07-08 21:25:06",
                                    "1": "SQLSecurityAuditEvents",
                                    "2": "AuditEvent"
                                },
                                {
                                    "0": "2021-07-08 21:25:06",
                                    "1": "SQLSecurityAuditEvents",
                                    "2": "AuditEvent"
                                },
                                {
                                    "0": "2021-07-08 22:15:35",
                                    "1": "SQLSecurityAuditEvents",
                                    "2": "AuditEvent"
                                }
                            ]
                        },
                        "text/html": [
                            "<table>",
                            "<tr><th>TimeGenerated</th><th>Category</th><th>OperationName</th></tr>",
                            "<tr><td>2021-07-08 20:22:25</td><td>SQLSecurityAuditEvents</td><td>AuditEvent</td></tr>",
                            "<tr><td>2021-07-08 20:55:53</td><td>QueryStoreRuntimeStatistics</td><td>QueryStoreRuntimeStatisticsEvent</td></tr>",
                            "<tr><td>2021-07-08 22:04:55</td><td>SQLSecurityAuditEvents</td><td>AuditEvent</td></tr>",
                            "<tr><td>2021-07-08 22:04:55</td><td>SQLSecurityAuditEvents</td><td>AuditEvent</td></tr>",
                            "<tr><td>2021-07-08 21:10:49</td><td>SQLSecurityAuditEvents</td><td>AuditEvent</td></tr>",
                            "<tr><td>2021-07-08 21:10:13</td><td>QueryStoreRuntimeStatistics</td><td>QueryStoreRuntimeStatisticsEvent</td></tr>",
                            "<tr><td>2021-07-08 21:02:12</td><td>SQLSecurityAuditEvents</td><td>AuditEvent</td></tr>",
                            "<tr><td>2021-07-08 21:25:06</td><td>SQLSecurityAuditEvents</td><td>AuditEvent</td></tr>",
                            "<tr><td>2021-07-08 21:25:06</td><td>SQLSecurityAuditEvents</td><td>AuditEvent</td></tr>",
                            "<tr><td>2021-07-08 22:15:35</td><td>SQLSecurityAuditEvents</td><td>AuditEvent</td></tr>",
                            "</table>"
                        ]
                    }
                }
            ],
            "execution_count": 1
        },
        {
            "cell_type": "markdown",
            "source": [
                "## Analyze (non-audit) Events"
            ],
            "metadata": {
                "azdata_cell_guid": "19ee8932-d9da-4d77-ad62-005f38918138"
            }
        },
        {
            "cell_type": "code",
            "source": [
                "AzureDiagnostics\r\n",
                "| summarize event_count = count() by bin(TimeGenerated, 2d), OperationName\r\n",
                "| where OperationName <> \"AuditEvent\"\r\n",
                "| evaluate pivot(OperationName, sum(event_count))\r\n",
                "| sort by TimeGenerated asc"
            ],
            "metadata": {
                "azdata_cell_guid": "69257930-b10f-4645-bb6a-df77045aad50",
                "tags": []
            },
            "outputs": [
                {
                    "output_type": "display_data",
                    "data": {
                        "text/html": "Commands completed successfully."
                    },
                    "metadata": {}
                },
                {
                    "output_type": "display_data",
                    "data": {
                        "text/html": "Total execution time: 00:00:00.579"
                    },
                    "metadata": {}
                },
                {
                    "output_type": "execute_result",
                    "execution_count": 15,
                    "data": {
                        "application/vnd.dataresource+json": {
                            "schema": {
                                "fields": [
                                    {
                                        "name": "TimeGenerated"
                                    },
                                    {
                                        "name": "DatabaseWaitStatistcsEvent"
                                    },
                                    {
                                        "name": "ErrorEvent"
                                    },
                                    {
                                        "name": "QueryStoreRuntimeStatisticsEvent"
                                    }
                                ]
                            },
                            "data": [
                                {
                                    "0": "2021-06-17 17:00:00",
                                    "1": "0",
                                    "2": "0",
                                    "3": "2"
                                },
                                {
                                    "0": "2021-06-21 17:00:00",
                                    "1": "4",
                                    "2": "0",
                                    "3": "9"
                                },
                                {
                                    "0": "2021-06-23 17:00:00",
                                    "1": "0",
                                    "2": "0",
                                    "3": "2"
                                },
                                {
                                    "0": "2021-06-29 17:00:00",
                                    "1": "1",
                                    "2": "2",
                                    "3": "2"
                                },
                                {
                                    "0": "2021-07-01 17:00:00",
                                    "1": "0",
                                    "2": "0",
                                    "3": "2"
                                },
                                {
                                    "0": "2021-07-05 17:00:00",
                                    "1": "0",
                                    "2": "0",
                                    "3": "1"
                                },
                                {
                                    "0": "2021-07-07 17:00:00",
                                    "1": "0",
                                    "2": "0",
                                    "3": "2"
                                },
                                {
                                    "0": "2021-07-13 17:00:00",
                                    "1": "4",
                                    "2": "0",
                                    "3": "9"
                                },
                                {
                                    "0": "2021-07-15 17:00:00",
                                    "1": "0",
                                    "2": "8",
                                    "3": "3"
                                }
                            ]
                        },
                        "text/html": "<table><tr><th>TimeGenerated</th><th>DatabaseWaitStatistcsEvent</th><th>ErrorEvent</th><th>QueryStoreRuntimeStatisticsEvent</th></tr><tr><td>2021-06-17 17:00:00</td><td>0</td><td>0</td><td>2</td></tr><tr><td>2021-06-21 17:00:00</td><td>4</td><td>0</td><td>9</td></tr><tr><td>2021-06-23 17:00:00</td><td>0</td><td>0</td><td>2</td></tr><tr><td>2021-06-29 17:00:00</td><td>1</td><td>2</td><td>2</td></tr><tr><td>2021-07-01 17:00:00</td><td>0</td><td>0</td><td>2</td></tr><tr><td>2021-07-05 17:00:00</td><td>0</td><td>0</td><td>1</td></tr><tr><td>2021-07-07 17:00:00</td><td>0</td><td>0</td><td>2</td></tr><tr><td>2021-07-13 17:00:00</td><td>4</td><td>0</td><td>9</td></tr><tr><td>2021-07-15 17:00:00</td><td>0</td><td>8</td><td>3</td></tr></table>"
                    },
                    "metadata": {
                        "azdata_chartOptions": {
                            "type": "line",
                            "dataDirection": "vertical",
                            "columnsAsLabels": true,
                            "labelFirstColumn": false,
                            "legendPosition": "top",
                            "dataType": "number"
                        }
                    }
                }
            ],
            "execution_count": 15
        },
        {
            "cell_type": "code",
            "source": [
                "AzureDiagnostics\r\n",
                "| summarize event_count=count() by bin(TimeGenerated, 2d), OperationName\r\n",
                "| where OperationName <> \"AuditEvent\""
            ],
            "metadata": {
                "azdata_cell_guid": "19b5684a-5f1f-4277-a565-241e6bae295a"
            },
            "outputs": [
                {
                    "output_type": "display_data",
                    "data": {
                        "text/html": "Commands completed successfully."
                    },
                    "metadata": {}
                },
                {
                    "output_type": "display_data",
                    "data": {
                        "text/html": "Total execution time: 00:00:00.417"
                    },
                    "metadata": {}
                },
                {
                    "output_type": "execute_result",
                    "execution_count": 6,
                    "data": {
                        "application/vnd.dataresource+json": {
                            "schema": {
                                "fields": [
                                    {
                                        "name": "TimeGenerated"
                                    },
                                    {
                                        "name": "OperationName"
                                    },
                                    {
                                        "name": "event_count"
                                    }
                                ]
                            },
                            "data": [
                                {
                                    "0": "2021-07-15 17:00:00",
                                    "1": "ErrorEvent",
                                    "2": "8"
                                },
                                {
                                    "0": "2021-07-15 17:00:00",
                                    "1": "QueryStoreRuntimeStatisticsEvent",
                                    "2": "3"
                                },
                                {
                                    "0": "2021-07-07 17:00:00",
                                    "1": "QueryStoreRuntimeStatisticsEvent",
                                    "2": "2"
                                },
                                {
                                    "0": "2021-06-21 17:00:00",
                                    "1": "QueryStoreRuntimeStatisticsEvent",
                                    "2": "9"
                                },
                                {
                                    "0": "2021-06-21 17:00:00",
                                    "1": "DatabaseWaitStatistcsEvent",
                                    "2": "4"
                                },
                                {
                                    "0": "2021-06-17 17:00:00",
                                    "1": "QueryStoreRuntimeStatisticsEvent",
                                    "2": "2"
                                },
                                {
                                    "0": "2021-07-01 17:00:00",
                                    "1": "QueryStoreRuntimeStatisticsEvent",
                                    "2": "2"
                                },
                                {
                                    "0": "2021-06-23 17:00:00",
                                    "1": "QueryStoreRuntimeStatisticsEvent",
                                    "2": "2"
                                },
                                {
                                    "0": "2021-06-29 17:00:00",
                                    "1": "QueryStoreRuntimeStatisticsEvent",
                                    "2": "2"
                                },
                                {
                                    "0": "2021-06-29 17:00:00",
                                    "1": "DatabaseWaitStatistcsEvent",
                                    "2": "1"
                                },
                                {
                                    "0": "2021-06-29 17:00:00",
                                    "1": "ErrorEvent",
                                    "2": "2"
                                },
                                {
                                    "0": "2021-07-13 17:00:00",
                                    "1": "QueryStoreRuntimeStatisticsEvent",
                                    "2": "9"
                                },
                                {
                                    "0": "2021-07-13 17:00:00",
                                    "1": "DatabaseWaitStatistcsEvent",
                                    "2": "4"
                                },
                                {
                                    "0": "2021-07-05 17:00:00",
                                    "1": "QueryStoreRuntimeStatisticsEvent",
                                    "2": "1"
                                }
                            ]
                        },
                        "text/html": "<table><tr><th>TimeGenerated</th><th>OperationName</th><th>event_count</th></tr><tr><td>2021-07-15 17:00:00</td><td>ErrorEvent</td><td>8</td></tr><tr><td>2021-07-15 17:00:00</td><td>QueryStoreRuntimeStatisticsEvent</td><td>3</td></tr><tr><td>2021-07-07 17:00:00</td><td>QueryStoreRuntimeStatisticsEvent</td><td>2</td></tr><tr><td>2021-06-21 17:00:00</td><td>QueryStoreRuntimeStatisticsEvent</td><td>9</td></tr><tr><td>2021-06-21 17:00:00</td><td>DatabaseWaitStatistcsEvent</td><td>4</td></tr><tr><td>2021-06-17 17:00:00</td><td>QueryStoreRuntimeStatisticsEvent</td><td>2</td></tr><tr><td>2021-07-01 17:00:00</td><td>QueryStoreRuntimeStatisticsEvent</td><td>2</td></tr><tr><td>2021-06-23 17:00:00</td><td>QueryStoreRuntimeStatisticsEvent</td><td>2</td></tr><tr><td>2021-06-29 17:00:00</td><td>QueryStoreRuntimeStatisticsEvent</td><td>2</td></tr><tr><td>2021-06-29 17:00:00</td><td>DatabaseWaitStatistcsEvent</td><td>1</td></tr><tr><td>2021-06-29 17:00:00</td><td>ErrorEvent</td><td>2</td></tr><tr><td>2021-07-13 17:00:00</td><td>QueryStoreRuntimeStatisticsEvent</td><td>9</td></tr><tr><td>2021-07-13 17:00:00</td><td>DatabaseWaitStatistcsEvent</td><td>4</td></tr><tr><td>2021-07-05 17:00:00</td><td>QueryStoreRuntimeStatisticsEvent</td><td>1</td></tr></table>"
                    },
                    "metadata": {}
                }
            ],
            "execution_count": 6
        },
        {
            "cell_type": "markdown",
            "source": [
                "## Deadlock Analysis"
            ],
            "metadata": {
                "azdata_cell_guid": "a1661835-fcb5-4af9-a353-4e7a0c70cb56"
            }
        },
        {
            "cell_type": "code",
            "source": [
                "AzureDiagnostics\r\n",
                "| where OperationName == \"DeadlockEvent\"\r\n",
                "| project TimeGenerated, Category, Resource, OperationName, Type, deadlock_xml_s\r\n",
                "| sort by TimeGenerated desc\r\n",
                "| take 50"
            ],
            "metadata": {
                "azdata_cell_guid": "60a7b4cb-076c-4222-a80f-a6e11cf51a4e"
            },
            "outputs": [
                {
                    "output_type": "display_data",
                    "data": {
                        "text/html": "Commands completed successfully."
                    },
                    "metadata": {}
                },
                {
                    "output_type": "display_data",
                    "data": {
                        "text/html": "Total execution time: 00:00:00.297"
                    },
                    "metadata": {}
                },
                {
                    "output_type": "execute_result",
                    "execution_count": 18,
                    "data": {
                        "application/vnd.dataresource+json": {
                            "schema": {
                                "fields": [
                                    {
                                        "name": "TimeGenerated"
                                    },
                                    {
                                        "name": "Category"
                                    },
                                    {
                                        "name": "Resource"
                                    },
                                    {
                                        "name": "OperationName"
                                    },
                                    {
                                        "name": "Type"
                                    },
                                    {
                                        "name": "deadlock_xml_s"
                                    }
                                ]
                            },
                            "data": []
                        },
                        "text/html": "<table><tr><th>TimeGenerated</th><th>Category</th><th>Resource</th><th>OperationName</th><th>Type</th><th>deadlock_xml_s</th></tr></table>"
                    },
                    "metadata": {}
                }
            ],
            "execution_count": 18
        },
        {
            "cell_type": "markdown",
            "source": [
                "Find the deadlock query plan"
            ],
            "metadata": {
                "azdata_cell_guid": "af8b22fa-3396-4e95-b1d6-1a96fa400f03"
            }
        },
        {
            "cell_type": "code",
            "source": [
                "AzureDiagnostics\r\n",
                "| where OperationName == \"DeadlockEvent\"\r\n",
                "| extend d = parse_xml(deadlock_xml_s)\r\n",
                "| project TimeGenerated, QueryPlanHash = d.deadlock.[\"process-list\"].process[0].executionStack.frame[0][\"@queryplanhash\"], QueryHash = d.deadlock.[\"process-list\"].process[0].executionStack.frame[0][\"@queryhash\"]\r\n",
                "| take 50"
            ],
            "metadata": {
                "azdata_cell_guid": "9b024cd2-768f-4ad4-9031-19f22dee9ecd",
                "tags": []
            },
            "outputs": [
                {
                    "output_type": "display_data",
                    "data": {
                        "text/html": "Commands completed successfully."
                    },
                    "metadata": {}
                },
                {
                    "output_type": "display_data",
                    "data": {
                        "text/html": "Total execution time: 00:00:00.817"
                    },
                    "metadata": {}
                },
                {
                    "output_type": "execute_result",
                    "execution_count": 17,
                    "data": {
                        "application/vnd.dataresource+json": {
                            "schema": {
                                "fields": [
                                    {
                                        "name": "TimeGenerated"
                                    },
                                    {
                                        "name": "QuerhPlanHash"
                                    },
                                    {
                                        "name": "QueryHash"
                                    }
                                ]
                            },
                            "data": []
                        },
                        "text/html": "<table><tr><th>TimeGenerated</th><th>QuerhPlanHash</th><th>QueryHash</th></tr></table>"
                    },
                    "metadata": {}
                }
            ],
            "execution_count": 17
        },
        {
            "cell_type": "markdown",
            "source": [
                "## Query Store Runtime Statistics Events"
            ],
            "metadata": {
                "azdata_cell_guid": "c793f2df-65ec-455a-8ec1-bd152d842158"
            }
        },
        {
            "cell_type": "code",
            "source": [
                "AzureDiagnostics\r\n",
                "| where OperationName == \"QueryStoreRuntimeStatisticsEvent\"\r\n",
                "| project TimeGenerated, query_hash_s, statement_sql_handle_s, query_plan_hash_s\r\n",
                "| take 10"
            ],
            "metadata": {
                "azdata_cell_guid": "f99877c9-38ab-4907-b939-f2d8207fbc71"
            },
            "outputs": [
                {
                    "output_type": "display_data",
                    "data": {
                        "text/html": "Commands completed successfully."
                    },
                    "metadata": {}
                },
                {
                    "output_type": "display_data",
                    "data": {
                        "text/html": "Total execution time: 00:00:00.681"
                    },
                    "metadata": {}
                },
                {
                    "output_type": "execute_result",
                    "execution_count": 19,
                    "data": {
                        "application/vnd.dataresource+json": {
                            "schema": {
                                "fields": [
                                    {
                                        "name": "TimeGenerated"
                                    },
                                    {
                                        "name": "query_hash_s"
                                    },
                                    {
                                        "name": "statement_sql_handle_s"
                                    },
                                    {
                                        "name": "query_plan_hash_s"
                                    }
                                ]
                            },
                            "data": [
                                {
                                    "0": "2021-06-17 21:31:47",
                                    "1": "0xD0B172EC3AC90AB2",
                                    "2": "0x0900F0816A25DA2ADDAACB957F82B882EC160000000000000000000000000000000000000000000000000000",
                                    "3": "0x07C5C286730ED585"
                                },
                                {
                                    "0": "2021-06-17 21:27:36",
                                    "1": "0xD0B172EC3AC90AB2",
                                    "2": "0x0900F0816A25DA2ADDAACB957F82B882EC160000000000000000000000000000000000000000000000000000",
                                    "3": "0x2B9A3A3B55B4B6CB"
                                },
                                {
                                    "0": "2021-06-21 23:49:13",
                                    "1": "0xE9A90E6DF072038B",
                                    "2": "0x09003A8994953FDD36568246F07679879BA60000000000000000000000000000000000000000000000000000",
                                    "3": "0x034C49FD4D7CD726"
                                },
                                {
                                    "0": "2021-06-21 23:49:13",
                                    "1": "0x1952171B581C894D",
                                    "2": "0x0900506DB841E46B2920275FF14C13E8BFC70000000000000000000000000000000000000000000000000000",
                                    "3": "0xB496791006554667"
                                },
                                {
                                    "0": "2021-06-21 23:49:13",
                                    "1": "0x1952171B581C894D",
                                    "2": "0x0900FA2BFA7C760AF0B2E9D5ED64A043458D0000000000000000000000000000000000000000000000000000",
                                    "3": "0xF3695F01D8FE0E91"
                                },
                                {
                                    "0": "2021-06-21 23:49:13",
                                    "1": "0x5D10B550067140CF",
                                    "2": "0x0900C2E90943F6588EBCEBF060DC800B68AB0000000000000000000000000000000000000000000000000000",
                                    "3": "0x754D0416154A71D1"
                                },
                                {
                                    "0": "2021-06-21 23:49:13",
                                    "1": "0x82C4887635CEB06D",
                                    "2": "0x09006EFFD14D9A2EA5112AD9C2FCDB049B200000000000000000000000000000000000000000000000000000",
                                    "3": "0xA0268D84A1CF355E"
                                },
                                {
                                    "0": "2021-06-21 23:49:13",
                                    "1": "0xADCF2ECC6A4FE6E4",
                                    "2": "0x090048201C1EC9E32104315E4CD4D45627F90000000000000000000000000000000000000000000000000000",
                                    "3": "0x54B4226B7D07F982"
                                },
                                {
                                    "0": "2021-06-21 23:49:13",
                                    "1": "0x6FABBDFDEF26BD6E",
                                    "2": "0x09005D81DADE14DA3419C53961A61D5563170000000000000000000000000000000000000000000000000000",
                                    "3": "0xEA952D63A06CA802"
                                },
                                {
                                    "0": "2021-06-21 23:49:13",
                                    "1": "0x2BAD38CE65D68382",
                                    "2": "0x0900AAB3AB4F6E5FC9AA33F1E8C27322462F0000000000000000000000000000000000000000000000000000",
                                    "3": "0x1EE62D991B0D0DFC"
                                },
                                {
                                    "0": "2021-06-21 23:49:13",
                                    "1": "0xBFF62AACFBA65B36",
                                    "2": "0x09003A6D9CF985A71FC31E6DA205A64791B50000000000000000000000000000000000000000000000000000",
                                    "3": "0x49B97B4E31BA3E36"
                                },
                                {
                                    "0": "2021-06-24 20:19:34",
                                    "1": "0xD0B172EC3AC90AB2",
                                    "2": "0x0900F0816A25DA2ADDAACB957F82B882EC160000000000000000000000000000000000000000000000000000",
                                    "3": "0x07C5C286730ED585"
                                },
                                {
                                    "0": "2021-06-24 21:00:21",
                                    "1": "0xD0B172EC3AC90AB2",
                                    "2": "0x0900F0816A25DA2ADDAACB957F82B882EC160000000000000000000000000000000000000000000000000000",
                                    "3": "0x2B9A3A3B55B4B6CB"
                                },
                                {
                                    "0": "2021-07-01 21:23:08",
                                    "1": "0xD0B172EC3AC90AB2",
                                    "2": "0x0900F0816A25DA2ADDAACB957F82B882EC160000000000000000000000000000000000000000000000000000",
                                    "3": "0x2B9A3A3B55B4B6CB"
                                },
                                {
                                    "0": "2021-07-17 13:28:43",
                                    "1": "0xD47FA8AE1E407243",
                                    "2": "0x0900B10677BE63CAE65A693887D6502113BC0000000000000000000000000000000000000000000000000000",
                                    "3": "0xFA26A5F6A84C8679"
                                },
                                {
                                    "0": "2021-07-08 20:55:53",
                                    "1": "0xD0B172EC3AC90AB2",
                                    "2": "0x0900F0816A25DA2ADDAACB957F82B882EC160000000000000000000000000000000000000000000000000000",
                                    "3": "0x2B9A3A3B55B4B6CB"
                                },
                                {
                                    "0": "2021-07-08 21:10:13",
                                    "1": "0xD0B172EC3AC90AB2",
                                    "2": "0x0900F0816A25DA2ADDAACB957F82B882EC160000000000000000000000000000000000000000000000000000",
                                    "3": "0x07C5C286730ED585"
                                },
                                {
                                    "0": "2021-07-06 02:54:07",
                                    "1": "0x6B4B44D6B25ADD20",
                                    "2": "0x090077EE742616D2343B59A6A7DD4F1BCDD10000000000000000000000000000000000000000000000000000",
                                    "3": "0x083AA300570224D3"
                                },
                                {
                                    "0": "2021-06-30 10:21:49",
                                    "1": "0xD47FA8AE1E407243",
                                    "2": "0x0900B10677BE63CAE65A693887D6502113BC0000000000000000000000000000000000000000000000000000",
                                    "3": "0xFA26A5F6A84C8679"
                                },
                                {
                                    "0": "2021-06-30 11:21:50",
                                    "1": "0xD47FA8AE1E407243",
                                    "2": "0x0900B10677BE63CAE65A693887D6502113BC0000000000000000000000000000000000000000000000000000",
                                    "3": "0xFA26A5F6A84C8679"
                                },
                                {
                                    "0": "2021-07-01 20:22:23",
                                    "1": "0xD0B172EC3AC90AB2",
                                    "2": "0x0900F0816A25DA2ADDAACB957F82B882EC160000000000000000000000000000000000000000000000000000",
                                    "3": "0x07C5C286730ED585"
                                },
                                {
                                    "0": "2021-07-15 20:43:02",
                                    "1": "0xD0B172EC3AC90AB2",
                                    "2": "0x0900F0816A25DA2ADDAACB957F82B882EC160000000000000000000000000000000000000000000000000000",
                                    "3": "0x07C5C286730ED585"
                                },
                                {
                                    "0": "2021-07-15 12:58:31",
                                    "1": "0xE9A90E6DF072038B",
                                    "2": "0x09003A8994953FDD36568246F07679879BA60000000000000000000000000000000000000000000000000000",
                                    "3": "0x034C49FD4D7CD726"
                                },
                                {
                                    "0": "2021-07-15 12:58:31",
                                    "1": "0x1952171B581C894D",
                                    "2": "0x0900506DB841E46B2920275FF14C13E8BFC70000000000000000000000000000000000000000000000000000",
                                    "3": "0xB496791006554667"
                                },
                                {
                                    "0": "2021-07-15 12:58:31",
                                    "1": "0x1952171B581C894D",
                                    "2": "0x0900FA2BFA7C760AF0B2E9D5ED64A043458D0000000000000000000000000000000000000000000000000000",
                                    "3": "0xF3695F01D8FE0E91"
                                },
                                {
                                    "0": "2021-07-15 12:58:31",
                                    "1": "0x5D10B550067140CF",
                                    "2": "0x0900C2E90943F6588EBCEBF060DC800B68AB0000000000000000000000000000000000000000000000000000",
                                    "3": "0x754D0416154A71D1"
                                },
                                {
                                    "0": "2021-07-15 12:58:31",
                                    "1": "0x82C4887635CEB06D",
                                    "2": "0x09006EFFD14D9A2EA5112AD9C2FCDB049B200000000000000000000000000000000000000000000000000000",
                                    "3": "0xA0268D84A1CF355E"
                                },
                                {
                                    "0": "2021-07-15 12:58:31",
                                    "1": "0xADCF2ECC6A4FE6E4",
                                    "2": "0x090048201C1EC9E32104315E4CD4D45627F90000000000000000000000000000000000000000000000000000",
                                    "3": "0x54B4226B7D07F982"
                                },
                                {
                                    "0": "2021-07-15 12:58:31",
                                    "1": "0x6FABBDFDEF26BD6E",
                                    "2": "0x09005D81DADE14DA3419C53961A61D5563170000000000000000000000000000000000000000000000000000",
                                    "3": "0xEA952D63A06CA802"
                                },
                                {
                                    "0": "2021-07-15 12:58:31",
                                    "1": "0x2BAD38CE65D68382",
                                    "2": "0x0900AAB3AB4F6E5FC9AA33F1E8C27322462F0000000000000000000000000000000000000000000000000000",
                                    "3": "0x1EE62D991B0D0DFC"
                                },
                                {
                                    "0": "2021-07-15 12:58:31",
                                    "1": "0xBFF62AACFBA65B36",
                                    "2": "0x09003A6D9CF985A71FC31E6DA205A64791B50000000000000000000000000000000000000000000000000000",
                                    "3": "0x49B97B4E31BA3E36"
                                },
                                {
                                    "0": "2021-07-15 22:08:41",
                                    "1": "0xD0B172EC3AC90AB2",
                                    "2": "0x0900F0816A25DA2ADDAACB957F82B882EC160000000000000000000000000000000000000000000000000000",
                                    "3": "0x2B9A3A3B55B4B6CB"
                                }
                            ]
                        },
                        "text/html": "<table><tr><th>TimeGenerated</th><th>query_hash_s</th><th>statement_sql_handle_s</th><th>query_plan_hash_s</th></tr><tr><td>2021-06-17 21:31:47</td><td>0xD0B172EC3AC90AB2</td><td>0x0900F0816A25DA2ADDAACB957F82B882EC160000000000000000000000000000000000000000000000000000</td><td>0x07C5C286730ED585</td></tr><tr><td>2021-06-17 21:27:36</td><td>0xD0B172EC3AC90AB2</td><td>0x0900F0816A25DA2ADDAACB957F82B882EC160000000000000000000000000000000000000000000000000000</td><td>0x2B9A3A3B55B4B6CB</td></tr><tr><td>2021-06-21 23:49:13</td><td>0xE9A90E6DF072038B</td><td>0x09003A8994953FDD36568246F07679879BA60000000000000000000000000000000000000000000000000000</td><td>0x034C49FD4D7CD726</td></tr><tr><td>2021-06-21 23:49:13</td><td>0x1952171B581C894D</td><td>0x0900506DB841E46B2920275FF14C13E8BFC70000000000000000000000000000000000000000000000000000</td><td>0xB496791006554667</td></tr><tr><td>2021-06-21 23:49:13</td><td>0x1952171B581C894D</td><td>0x0900FA2BFA7C760AF0B2E9D5ED64A043458D0000000000000000000000000000000000000000000000000000</td><td>0xF3695F01D8FE0E91</td></tr><tr><td>2021-06-21 23:49:13</td><td>0x5D10B550067140CF</td><td>0x0900C2E90943F6588EBCEBF060DC800B68AB0000000000000000000000000000000000000000000000000000</td><td>0x754D0416154A71D1</td></tr><tr><td>2021-06-21 23:49:13</td><td>0x82C4887635CEB06D</td><td>0x09006EFFD14D9A2EA5112AD9C2FCDB049B200000000000000000000000000000000000000000000000000000</td><td>0xA0268D84A1CF355E</td></tr><tr><td>2021-06-21 23:49:13</td><td>0xADCF2ECC6A4FE6E4</td><td>0x090048201C1EC9E32104315E4CD4D45627F90000000000000000000000000000000000000000000000000000</td><td>0x54B4226B7D07F982</td></tr><tr><td>2021-06-21 23:49:13</td><td>0x6FABBDFDEF26BD6E</td><td>0x09005D81DADE14DA3419C53961A61D5563170000000000000000000000000000000000000000000000000000</td><td>0xEA952D63A06CA802</td></tr><tr><td>2021-06-21 23:49:13</td><td>0x2BAD38CE65D68382</td><td>0x0900AAB3AB4F6E5FC9AA33F1E8C27322462F0000000000000000000000000000000000000000000000000000</td><td>0x1EE62D991B0D0DFC</td></tr><tr><td>2021-06-21 23:49:13</td><td>0xBFF62AACFBA65B36</td><td>0x09003A6D9CF985A71FC31E6DA205A64791B50000000000000000000000000000000000000000000000000000</td><td>0x49B97B4E31BA3E36</td></tr><tr><td>2021-06-24 20:19:34</td><td>0xD0B172EC3AC90AB2</td><td>0x0900F0816A25DA2ADDAACB957F82B882EC160000000000000000000000000000000000000000000000000000</td><td>0x07C5C286730ED585</td></tr><tr><td>2021-06-24 21:00:21</td><td>0xD0B172EC3AC90AB2</td><td>0x0900F0816A25DA2ADDAACB957F82B882EC160000000000000000000000000000000000000000000000000000</td><td>0x2B9A3A3B55B4B6CB</td></tr><tr><td>2021-07-01 21:23:08</td><td>0xD0B172EC3AC90AB2</td><td>0x0900F0816A25DA2ADDAACB957F82B882EC160000000000000000000000000000000000000000000000000000</td><td>0x2B9A3A3B55B4B6CB</td></tr><tr><td>2021-07-17 13:28:43</td><td>0xD47FA8AE1E407243</td><td>0x0900B10677BE63CAE65A693887D6502113BC0000000000000000000000000000000000000000000000000000</td><td>0xFA26A5F6A84C8679</td></tr><tr><td>2021-07-08 20:55:53</td><td>0xD0B172EC3AC90AB2</td><td>0x0900F0816A25DA2ADDAACB957F82B882EC160000000000000000000000000000000000000000000000000000</td><td>0x2B9A3A3B55B4B6CB</td></tr><tr><td>2021-07-08 21:10:13</td><td>0xD0B172EC3AC90AB2</td><td>0x0900F0816A25DA2ADDAACB957F82B882EC160000000000000000000000000000000000000000000000000000</td><td>0x07C5C286730ED585</td></tr><tr><td>2021-07-06 02:54:07</td><td>0x6B4B44D6B25ADD20</td><td>0x090077EE742616D2343B59A6A7DD4F1BCDD10000000000000000000000000000000000000000000000000000</td><td>0x083AA300570224D3</td></tr><tr><td>2021-06-30 10:21:49</td><td>0xD47FA8AE1E407243</td><td>0x0900B10677BE63CAE65A693887D6502113BC0000000000000000000000000000000000000000000000000000</td><td>0xFA26A5F6A84C8679</td></tr><tr><td>2021-06-30 11:21:50</td><td>0xD47FA8AE1E407243</td><td>0x0900B10677BE63CAE65A693887D6502113BC0000000000000000000000000000000000000000000000000000</td><td>0xFA26A5F6A84C8679</td></tr><tr><td>2021-07-01 20:22:23</td><td>0xD0B172EC3AC90AB2</td><td>0x0900F0816A25DA2ADDAACB957F82B882EC160000000000000000000000000000000000000000000000000000</td><td>0x07C5C286730ED585</td></tr><tr><td>2021-07-15 20:43:02</td><td>0xD0B172EC3AC90AB2</td><td>0x0900F0816A25DA2ADDAACB957F82B882EC160000000000000000000000000000000000000000000000000000</td><td>0x07C5C286730ED585</td></tr><tr><td>2021-07-15 12:58:31</td><td>0xE9A90E6DF072038B</td><td>0x09003A8994953FDD36568246F07679879BA60000000000000000000000000000000000000000000000000000</td><td>0x034C49FD4D7CD726</td></tr><tr><td>2021-07-15 12:58:31</td><td>0x1952171B581C894D</td><td>0x0900506DB841E46B2920275FF14C13E8BFC70000000000000000000000000000000000000000000000000000</td><td>0xB496791006554667</td></tr><tr><td>2021-07-15 12:58:31</td><td>0x1952171B581C894D</td><td>0x0900FA2BFA7C760AF0B2E9D5ED64A043458D0000000000000000000000000000000000000000000000000000</td><td>0xF3695F01D8FE0E91</td></tr><tr><td>2021-07-15 12:58:31</td><td>0x5D10B550067140CF</td><td>0x0900C2E90943F6588EBCEBF060DC800B68AB0000000000000000000000000000000000000000000000000000</td><td>0x754D0416154A71D1</td></tr><tr><td>2021-07-15 12:58:31</td><td>0x82C4887635CEB06D</td><td>0x09006EFFD14D9A2EA5112AD9C2FCDB049B200000000000000000000000000000000000000000000000000000</td><td>0xA0268D84A1CF355E</td></tr><tr><td>2021-07-15 12:58:31</td><td>0xADCF2ECC6A4FE6E4</td><td>0x090048201C1EC9E32104315E4CD4D45627F90000000000000000000000000000000000000000000000000000</td><td>0x54B4226B7D07F982</td></tr><tr><td>2021-07-15 12:58:31</td><td>0x6FABBDFDEF26BD6E</td><td>0x09005D81DADE14DA3419C53961A61D5563170000000000000000000000000000000000000000000000000000</td><td>0xEA952D63A06CA802</td></tr><tr><td>2021-07-15 12:58:31</td><td>0x2BAD38CE65D68382</td><td>0x0900AAB3AB4F6E5FC9AA33F1E8C27322462F0000000000000000000000000000000000000000000000000000</td><td>0x1EE62D991B0D0DFC</td></tr><tr><td>2021-07-15 12:58:31</td><td>0xBFF62AACFBA65B36</td><td>0x09003A6D9CF985A71FC31E6DA205A64791B50000000000000000000000000000000000000000000000000000</td><td>0x49B97B4E31BA3E36</td></tr><tr><td>2021-07-15 22:08:41</td><td>0xD0B172EC3AC90AB2</td><td>0x0900F0816A25DA2ADDAACB957F82B882EC160000000000000000000000000000000000000000000000000000</td><td>0x2B9A3A3B55B4B6CB</td></tr></table>"
                    },
                    "metadata": {}
                }
            ],
            "execution_count": 19
        },
        {
            "cell_type": "markdown",
            "source": [
                "## Analyze Errors"
            ],
            "metadata": {
                "azdata_cell_guid": "92c68e36-87a2-4355-8d4b-56d001462d1e"
            }
        },
        {
            "cell_type": "code",
            "source": [
                "AzureDiagnostics\r\n",
                "| where OperationName == \"ErrorEvent\"\r\n",
                "| extend ErrorNumber =  tostring(error_number_d) \r\n",
                "| summarize event_count=count() by EventTime = bin(TimeGenerated, 2d),  ErrorNumber\r\n",
                "| evaluate pivot(ErrorNumber, sum(event_count))\r\n",
                "| sort by EventTime asc\r\n",
                ""
            ],
            "metadata": {
                "azdata_cell_guid": "229543f7-f24c-48c1-a9d5-0a3d0d708e25"
            },
            "outputs": [
                {
                    "output_type": "display_data",
                    "data": {
                        "text/html": "Commands completed successfully."
                    },
                    "metadata": {}
                },
                {
                    "output_type": "display_data",
                    "data": {
                        "text/html": "Total execution time: 00:00:00.279"
                    },
                    "metadata": {}
                },
                {
                    "output_type": "execute_result",
                    "metadata": {
                        "azdata_chartOptions": {
                            "type": "line",
                            "dataDirection": "vertical",
                            "columnsAsLabels": true,
                            "labelFirstColumn": false,
                            "legendPosition": "top",
                            "dataType": "number"
                        }
                    },
                    "execution_count": 3,
                    "data": {
                        "application/vnd.dataresource+json": {
                            "schema": {
                                "fields": [
                                    {
                                        "name": "EventTime"
                                    },
                                    {
                                        "name": "208.0"
                                    },
                                    {
                                        "name": "3902.0"
                                    }
                                ]
                            },
                            "data": [
                                {
                                    "0": "2021-06-29 17:00:00",
                                    "1": "2",
                                    "2": "0"
                                },
                                {
                                    "0": "2021-07-15 17:00:00",
                                    "1": "27",
                                    "2": "1"
                                },
                                {
                                    "0": "2021-07-17 17:00:00",
                                    "1": "20",
                                    "2": "1"
                                },
                                {
                                    "0": "2021-07-19 17:00:00",
                                    "1": "6",
                                    "2": "0"
                                }
                            ]
                        },
                        "text/html": [
                            "<table>",
                            "<tr><th>EventTime</th><th>208.0</th><th>3902.0</th></tr>",
                            "<tr><td>2021-06-29 17:00:00</td><td>2</td><td>0</td></tr>",
                            "<tr><td>2021-07-15 17:00:00</td><td>27</td><td>1</td></tr>",
                            "<tr><td>2021-07-17 17:00:00</td><td>20</td><td>1</td></tr>",
                            "<tr><td>2021-07-19 17:00:00</td><td>6</td><td>0</td></tr>",
                            "</table>"
                        ]
                    }
                }
            ],
            "execution_count": 3
        },
        {
            "cell_type": "markdown",
            "source": [
                "## Find Deleted table"
            ],
            "metadata": {
                "azdata_cell_guid": "6d450c21-8628-459c-b8c1-c37c8aba8d6d"
            }
        },
        {
            "cell_type": "code",
            "source": [
                "AzureDiagnostics\r\n",
                "| where action_name_s in ('BATCH COMPLETED')\r\n",
                "| project TimeGenerated, Category, action_name_s, statement_s\r\n",
                "| where statement_s contains \"DROP TABLE\"\r\n",
                "| sort by TimeGenerated desc \r\n",
                "| take 10\r\n",
                "\r\n",
                ""
            ],
            "metadata": {
                "azdata_cell_guid": "3b6d232d-a2f4-441e-81f2-33ef59fdb4c6",
                "tags": []
            },
            "outputs": [
                {
                    "output_type": "display_data",
                    "data": {
                        "text/html": "Commands completed successfully."
                    },
                    "metadata": {}
                },
                {
                    "output_type": "display_data",
                    "data": {
                        "text/html": "Total execution time: 00:00:01.604"
                    },
                    "metadata": {}
                },
                {
                    "output_type": "execute_result",
                    "execution_count": 16,
                    "data": {
                        "application/vnd.dataresource+json": {
                            "schema": {
                                "fields": [
                                    {
                                        "name": "TimeGenerated"
                                    },
                                    {
                                        "name": "Category"
                                    },
                                    {
                                        "name": "action_name_s"
                                    },
                                    {
                                        "name": "statement_s"
                                    }
                                ]
                            },
                            "data": []
                        },
                        "text/html": "<table><tr><th>TimeGenerated</th><th>Category</th><th>action_name_s</th><th>statement_s</th></tr></table>"
                    },
                    "metadata": {}
                }
            ],
            "execution_count": 16
        }
    ]
}