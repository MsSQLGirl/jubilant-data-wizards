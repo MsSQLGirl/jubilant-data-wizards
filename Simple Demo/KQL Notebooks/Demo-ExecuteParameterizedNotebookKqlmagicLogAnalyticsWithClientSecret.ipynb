{
    "metadata": {
        "kernelspec": {
            "name": "python3",
            "display_name": "Python 3",
            "language": "python"
        },
        "language_info": {
            "name": "python",
            "version": "3.6.6",
            "mimetype": "text/x-python",
            "codemirror_mode": {
                "name": "ipython",
                "version": 3
            },
            "pygments_lexer": "ipython3",
            "nbconvert_exporter": "python",
            "file_extension": ".py"
        }
    },
    "nbformat_minor": 2,
    "nbformat": 4,
    "cells": [
        {
            "cell_type": "markdown",
            "source": [
                "# Demo: Execute a notebook using Papermill\r\n",
                "\r\n",
                "-   Author: Julie Koesmarno ([@MsSQLGirl](http://twitter.com/MsSQLgirl))\r\n",
                "-   Last updated: Nov 8, 2020\r\n",
                "\r\n",
                "This notebook provides an example of executing a **parameterized** notebook.\r\n",
                "\r\n",
                "## What you need to provide\r\n",
                "1. inputNotebook - this is the local path to the parameterized notebook that you want to execute. \r\n",
                "In the example below, I'm executing  [Demo-KqlmagicLogAnalyticsWithClientSecret.ipynb](https://github.com/MsSQLGirl/jubilant-data-wizards/blob/main/Simple%20Demo/KQL%20Notebooks/Demo-KqlmagicLogAnalyticsWithClientSecret.ipynb) that is downloaded to my local path.  \r\n",
                "2. outputNotebook - this is the local path to the output of the notebook once executed. \r\n",
                "3. parameters to the inputNotebook. \r\n",
                "    For more info about what the parameters mean, please go to [Demo-KqlmagicLogAnalyticsWithClientSecret.ipynb](https://github.com/MsSQLGirl/jubilant-data-wizards/blob/main/Simple%20Demo/KQL%20Notebooks/Demo-KqlmagicLogAnalyticsWithClientSecret.ipynb).\r\n",
                "\r\n",
                "## Pre-requisites\r\n",
                "1. Azure Data Studio v1.24.0 November release. http://aka.ms/getAzureDataStudio.\r\n",
                "2. Papermill package installed on your Python environment for Azure Data Studio. \r\n",
                "3. Kqlmagic package installed on your Python environment for Azure Data Studio.\r\n",
                "\r\n",
                "## Known Issues\r\n",
                "* [Parameterized notebook errors on a line break after %%kql which is supposed to work](https://github.com/microsoft/azuredatastudio/issues/13305)\r\n",
                "* [Parameterized notebook reorders column values when executed](https://github.com/microsoft/azuredatastudio/issues/13304)\r\n",
                "\r\n",
                "\r\n",
                "\r\n",
                "\r\n",
                "\r\n",
                "\r\n",
                "\r\n",
                "\r\n",
                "\r\n",
                "\r\n",
                ""
            ],
            "metadata": {
                "azdata_cell_guid": "510bb4d4-e013-4fd4-b894-c3dc15a59dd1"
            }
        },
        {
            "cell_type": "code",
            "source": [
                "import papermill as pm\r\n",
                "\r\n",
                "inputNotebook = 'c:/temp/Demo-KqlmagicLogAnalyticsWithClientSecret.ipynb'\r\n",
                "outputNotebook = 'c:/temp/Output-Demo-KqlmagicLogAnalytics-ClientSecret.ipynb'\r\n",
                "\r\n",
                "silent = pm.execute_notebook(\r\n",
                "   inputNotebook,\r\n",
                "   outputNotebook,\r\n",
                "   parameters = dict(laConnFile  = 'c:\\Temp\\LAConnection.txt', showClearText = 'N', laAlias = 'myLAConnection', logicalServerName = 'mssqlgirl02')\r\n",
                ")"
            ],
            "metadata": {
                "azdata_cell_guid": "6af8603a-c534-45bb-80d5-3cd1f742a2e7",
                "tags": []
            },
            "outputs": [
                {
                    "output_type": "stream",
                    "name": "stderr",
                    "text": "\rExecuting:   0%|          | 0/20 [00:00<?, ?cell/s]"
                },
                {
                    "output_type": "stream",
                    "name": "stderr",
                    "text": "\rExecuting:   5%|▌         | 1/20 [00:01<00:24,  1.31s/cell]"
                },
                {
                    "output_type": "stream",
                    "name": "stderr",
                    "text": "\rExecuting:  25%|██▌       | 5/20 [00:01<00:13,  1.08cell/s]"
                },
                {
                    "output_type": "stream",
                    "name": "stderr",
                    "text": "\rExecuting:  40%|████      | 8/20 [00:07<00:14,  1.23s/cell]"
                },
                {
                    "output_type": "stream",
                    "name": "stderr",
                    "text": "\rExecuting:  50%|█████     | 10/20 [00:07<00:09,  1.04cell/s]"
                },
                {
                    "output_type": "stream",
                    "name": "stderr",
                    "text": "\rExecuting:  60%|██████    | 12/20 [00:09<00:06,  1.19cell/s]"
                },
                {
                    "output_type": "stream",
                    "name": "stderr",
                    "text": "\rExecuting:  70%|███████   | 14/20 [00:09<00:03,  1.51cell/s]"
                },
                {
                    "output_type": "stream",
                    "name": "stderr",
                    "text": "\rExecuting:  80%|████████  | 16/20 [00:09<00:02,  1.96cell/s]"
                },
                {
                    "output_type": "stream",
                    "name": "stderr",
                    "text": "\rExecuting:  90%|█████████ | 18/20 [00:09<00:00,  2.66cell/s]"
                },
                {
                    "output_type": "stream",
                    "name": "stderr",
                    "text": "\rExecuting: 100%|██████████| 20/20 [00:10<00:00,  3.54cell/s]"
                },
                {
                    "output_type": "stream",
                    "name": "stderr",
                    "text": "\rExecuting: 100%|██████████| 20/20 [00:10<00:00,  1.89cell/s]"
                },
                {
                    "output_type": "stream",
                    "name": "stderr",
                    "text": "\n"
                }
            ],
            "execution_count": 10
        }
    ]
}
