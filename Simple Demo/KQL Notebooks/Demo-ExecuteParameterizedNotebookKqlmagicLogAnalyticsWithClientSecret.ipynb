{
    "metadata": {
        "kernelspec": {
            "name": "python3",
            "display_name": "Python 3",
            "language": "python"
        },
        "language_info": {
            "name": "python",
            "version": "3.6.6",
            "mimetype": "text/x-python",
            "codemirror_mode": {
                "name": "ipython",
                "version": 3
            },
            "pygments_lexer": "ipython3",
            "nbconvert_exporter": "python",
            "file_extension": ".py"
        }
    },
    "nbformat_minor": 2,
    "nbformat": 4,
    "cells": [
        {
            "cell_type": "markdown",
            "source": [
                "# Demo: Execute a notebook using Papermill\r\n",
                "\r\n",
                "-   Author: Julie Koesmarno ([@MsSQLGirl](http://twitter.com/MsSQLgirl))\r\n",
                "-   Last updated: Nov 8, 2020\r\n",
                "\r\n",
                "This notebook provides an example of executing a **parameterized** notebook.\r\n",
                "\r\n",
                "## What you need to provide\r\n",
                "1. inputNotebook - this is the local path to the parameterized notebook that you want to execute. \r\n",
                "In the example below, I'm executing  [Demo-KqlmagicLogAnalyticsWithClientSecret.ipynb](https://github.com/MsSQLGirl/jubilant-data-wizards/tree/main/Simple%20Demo/KQL%20Notebooks) that is downloaded to my local path.  \r\n",
                "2. outputNotebook - this is the local path to the output of the notebook once executed. \r\n",
                "3. parameters to the inputNotebook. \r\n",
                "    For more info about what the parameters mean, please go to [Demo-KqlmagicLogAnalyticsWithClientSecret.ipynb](https://github.com/MsSQLGirl/jubilant-data-wizards/tree/main/Simple%20Demo/KQL%20Notebooks).\r\n",
                "\r\n",
                "## Pre-requisites\r\n",
                "1. Azure Data Studio v1.24.0 November release. http://aka.ms/getAzureDataStudio.\r\n",
                "2. Papermill package installed on your Python environment for Azure Data Studio. \r\n",
                "3. Kqlmagic package installed on your Python environment for Azure Data Studio.\r\n",
                "\r\n",
                "## Known Issues\r\n",
                "* [Parameterized notebook errors on a line break after %%kql which is supposed to work](https://github.com/microsoft/azuredatastudio/issues/13305)\r\n",
                "* [Parameterized notebook reorders column values when executed](https://github.com/microsoft/azuredatastudio/issues/13304)\r\n",
                "\r\n",
                "\r\n",
                "\r\n",
                "\r\n",
                "\r\n",
                "\r\n",
                "\r\n",
                "\r\n",
                "\r\n",
                "\r\n",
                ""
            ],
            "metadata": {
                "azdata_cell_guid": "510bb4d4-e013-4fd4-b894-c3dc15a59dd1"
            }
        },
        {
            "cell_type": "code",
            "source": [
                "import papermill as pm\r\n",
                "\r\n",
                "inputNotebook = 'C:/Temp/KqlmagicDemo/Demo-KqlmagicLogAnalyticsWithClientSecret.ipynb'\r\n",
                "outputNotebook = 'c:/Temp/KqlmagicDemo/Output-Demo-KqlmagicLogAnalytics-ClientSecret.ipynb'\r\n",
                "\r\n",
                "silent = pm.execute_notebook(\r\n",
                "   inputNotebook,\r\n",
                "   outputNotebook,\r\n",
                "   parameters = dict(laConnFile  = 'c:/Temp/myLAConnection.txt', showClearText = 'N', laAlias = 'myLAConnection', logicalServerName = 'mySQLDBServerName')\r\n",
                ")"
            ],
            "metadata": {
                "azdata_cell_guid": "6af8603a-c534-45bb-80d5-3cd1f742a2e7",
                "tags": []
            },
            "outputs": [
                {
                    "name": "stderr",
                    "text": "\rExecuting:   0%|          | 0/20 [00:00<?, ?cell/s]",
                    "output_type": "stream"
                },
                {
                    "name": "stderr",
                    "text": "\rExecuting:   5%|▌         | 1/20 [00:01<00:34,  1.82s/cell]",
                    "output_type": "stream"
                },
                {
                    "name": "stderr",
                    "text": "\rExecuting:  20%|██        | 4/20 [00:01<00:20,  1.28s/cell]",
                    "output_type": "stream"
                },
                {
                    "name": "stderr",
                    "text": "\rExecuting:  35%|███▌      | 7/20 [00:02<00:11,  1.10cell/s]",
                    "output_type": "stream"
                },
                {
                    "name": "stderr",
                    "text": "\rExecuting:  45%|████▌     | 9/20 [00:08<00:17,  1.58s/cell]",
                    "output_type": "stream"
                },
                {
                    "name": "stderr",
                    "text": "\rExecuting:  55%|█████▌    | 11/20 [00:10<00:13,  1.48s/cell]",
                    "output_type": "stream"
                },
                {
                    "name": "stderr",
                    "text": "\rExecuting:  60%|██████    | 12/20 [00:11<00:10,  1.36s/cell]",
                    "output_type": "stream"
                },
                {
                    "name": "stderr",
                    "text": "\rExecuting:  70%|███████   | 14/20 [00:15<00:08,  1.43s/cell]",
                    "output_type": "stream"
                },
                {
                    "name": "stderr",
                    "text": "\rExecuting:  80%|████████  | 16/20 [00:17<00:05,  1.35s/cell]",
                    "output_type": "stream"
                },
                {
                    "name": "stderr",
                    "text": "\rExecuting:  90%|█████████ | 18/20 [00:17<00:01,  1.04cell/s]",
                    "output_type": "stream"
                },
                {
                    "name": "stderr",
                    "text": "\rExecuting: 100%|██████████| 20/20 [00:17<00:00,  1.44cell/s]",
                    "output_type": "stream"
                },
                {
                    "name": "stderr",
                    "text": "\rExecuting: 100%|██████████| 20/20 [00:18<00:00,  1.10cell/s]",
                    "output_type": "stream"
                },
                {
                    "name": "stderr",
                    "text": "\n",
                    "output_type": "stream"
                }
            ],
            "execution_count": 3
        }
    ]
}