{
    "metadata": {
        "kernelspec": {
            "name": "SQL",
            "display_name": "SQL",
            "language": "sql"
        },
        "language_info": {
            "name": "sql",
            "version": ""
        }
    },
    "nbformat_minor": 2,
    "nbformat": 4,
    "cells": [
        {
            "cell_type": "markdown",
            "source": [
                "# Troubleshooting az-cli login issue\n",
                "\n",
                "  \n",
                "\n",
                "## What does the error look like?\n",
                "\n",
                "```\n",
                "---------------------------------------------------------------------------\n",
                "ModuleNotFoundError                       Traceback (most recent call last)\n",
                "~\\azuredatastudio-python\\0.0.1\\lib\\site-packages\\Kqlmagic\\my_aad_helper.py in _get_azcli_token(self, subscription)\n",
                "    634             # from azure.cli.core._profile import _CLIENT_ID as AZCLI_CLIENT_ID\n",
                "--> 635             from azure.common.credentials import get_cli_profile\n",
                "    636             try:\n",
                " \n",
                "ModuleNotFoundError: No module named 'azure.common'\n",
                " \n",
                "During handling of the above exception, another exception occurred:\n",
                " \n",
                "TypeError                                 Traceback (most recent call last)\n",
                "~\\azuredatastudio-python\\0.0.1\\lib\\site-packages\\Kqlmagic\\my_aad_helper.py in acquire_token(self)\n",
                "    221                 if self._options.get(\"try_azcli_login\"):\n",
                "--> 222                     token = self._get_azcli_token()\n",
                "    223                     self._current_token = self._validate_and_refresh_token(token)\n",
                " \n",
                "~\\azuredatastudio-python\\0.0.1\\lib\\site-packages\\Kqlmagic\\my_aad_helper.py in _get_azcli_token(self, subscription)\n",
                "    641                 pass\n",
                "--> 642         except [ImportError, ModuleNotFoundError]:\n",
                "    643             raise AuthenticationError(\"Azure CLI authentication requires 'azure-cli-core' to be installed.\")\n",
                " \n",
                "TypeError: catching classes that do not inherit from BaseException is not allowed\n",
                " \n",
                "During handling of the above exception, another exception occurred:\n",
                " \n",
                "AuthenticationError                       Traceback (most recent call last)\n",
                "<ipython-input-6-f5848af324be> in <module>\n",
                "----> 1 get_ipython().run_line_magic('kql', 'loganalytics://code;tenant=\"72f988bf-86f1-41af-91ab-2d7cd011db47\";workspace=\"c3de7517-0d7c-45df-90c1-a4e43fc03131\";alias=\"myLogAnalyticsWorkspace\" -try-azcli_login -!se')\n",
                " \n",
                "~\\azuredatastudio-python\\0.0.1\\lib\\site-packages\\IPython\\core\\interactiveshell.py in run_line_magic(self, magic_name, line, _stack_depth)\n",
                "   2305                 kwargs['local_ns'] = sys._getframe(stack_depth).f_locals\n",
                "   2306             with self.builtin_trap:\n",
                "-> 2307                 result = fn(*args, **kwargs)\n",
                "   2308             return result\n",
                "   2309 \n",
                " \n",
                "<C:\\Users\\jukoesma\\azuredatastudio-python\\0.0.1\\lib\\site-packages\\decorator.py:decorator-gen-128> in execute(self, line, cell, local_ns, override_vars, override_options, override_query_properties, override_connection, override_result_set)\n",
                " \n",
                "~\\azuredatastudio-python\\0.0.1\\lib\\site-packages\\IPython\\core\\magic.py in <lambda>(f, *a, **k)\n",
                "    185     # but it's overkill for just that one bit of state.\n",
                "    186     def magic_deco(arg):\n",
                "--> 187         call = lambda f, *a, **k: f(*a, **k)\n",
                "    188 \n",
                "    189         if callable(arg):\n",
                " \n",
                "<C:\\Users\\jukoesma\\azuredatastudio-python\\0.0.1\\lib\\site-packages\\decorator.py:decorator-gen-127> in execute(self, line, cell, local_ns, override_vars, override_options, override_query_properties, override_connection, override_result_set)\n",
                " \n",
                "~\\azuredatastudio-python\\0.0.1\\lib\\site-packages\\IPython\\core\\magic.py in <lambda>(f, *a, **k)\n",
                "    185     # but it's overkill for just that one bit of state.\n",
                "    186     def magic_deco(arg):\n",
                "--> 187         call = lambda f, *a, **k: f(*a, **k)\n",
                "    188 \n",
                "    189         if callable(arg):\n",
                " \n",
                "~\\azuredatastudio-python\\0.0.1\\lib\\site-packages\\Kqlmagic\\kql_magic.py in execute(self, line, cell, local_ns, override_vars, override_options, override_query_properties, override_connection, override_result_set)\n",
                "    671             override_query_properties=override_query_properties,\n",
                "    672             override_connection=override_connection,\n",
                "--> 673             override_result_set=override_result_set)\n",
                "    674 \n",
                "    675         return result\n",
                " \n",
                "~\\azuredatastudio-python\\0.0.1\\lib\\site-packages\\Kqlmagic\\kql_magic_core.py in execute(self, line, cell, local_ns, override_vars, override_options, override_query_properties, override_connection, override_result_set)\n",
                "    679 \n",
                "    680                 if command is None or command == \"submit\":\n",
                "--> 681                     result = self._execute_query(parsed, user_ns, result_set=override_result_set, override_vars=override_vars)\n",
                "    682                     if type(result) == ResultSet:\n",
                "    683                         # can't just return result as is, it fails when used with table package pandas_show_schema\n",
                " \n",
                "~\\azuredatastudio-python\\0.0.1\\lib\\site-packages\\Kqlmagic\\kql_magic_core.py in _execute_query(self, parsed, user_ns, result_set, override_vars)\n",
                "   1102                 return None\n",
                "   1103             else:\n",
                "-> 1104                 raise e\n",
                "   1105 \n",
                "   1106 \n",
                " \n",
                "~\\azuredatastudio-python\\0.0.1\\lib\\site-packages\\Kqlmagic\\kql_magic_core.py in _execute_query(self, parsed, user_ns, result_set, override_vars)\n",
                "    929                         retry_with_code = True\n",
                "    930                     else:\n",
                "--> 931                         raise e\n",
                "    932 \n",
                "    933                 if retry_with_code:\n",
                " \n",
                "~\\azuredatastudio-python\\0.0.1\\lib\\site-packages\\Kqlmagic\\kql_magic_core.py in _execute_query(self, parsed, user_ns, result_set, override_vars)\n",
                "    921                 retry_with_code = False\n",
                "    922                 try:\n",
                "--> 923                     conn.validate(**options)\n",
                "    924                     conn.set_validation_result(True)\n",
                "    925                 except Exception as e:\n",
                " \n",
                "~\\azuredatastudio-python\\0.0.1\\lib\\site-packages\\Kqlmagic\\kql_engine.py in validate(self, **options)\n",
                "    155             raise KqlEngineError(\"Client is not defined.\")\n",
                "    156         query = \"range c from 1 to 10 step 1 | count\"\n",
                "--> 157         response = client.execute(self.get_database(), query, accept_partial_results=False, **options)\n",
                "    158         # print(f\">>> json_response: {response.json_response}\")\n",
                "    159         table = KqlResponse(response, **options).tables[0]\n",
                " \n",
                "~\\azuredatastudio-python\\0.0.1\\lib\\site-packages\\Kqlmagic\\draft_client.py in execute(self, id, query, accept_partial_results, **options)\n",
                "    175 \n",
                "    176         if self._aad_helper is not None:\n",
                "--> 177             request_headers[\"Authorization\"] = self._aad_helper.acquire_token()\n",
                "    178         elif self._appkey is not None:\n",
                "    179             request_headers[\"x-api-key\"] = self._appkey\n",
                " \n",
                "~\\azuredatastudio-python\\0.0.1\\lib\\site-packages\\Kqlmagic\\my_aad_helper.py in acquire_token(self)\n",
                "    399         except Exception as e:\n",
                "    400             kwargs = self._get_authentication_error_kwargs()\n",
                "--> 401             raise AuthenticationError(e, **kwargs)\n",
                "    402 \n",
                "    403 \n",
                " \n",
                "AuthenticationError: AuthenticationError('azcli_login', 'TypeError('catching classes that do not inherit from BaseException is not allowed',)', '{'authority': 'azcli_login', 'authentication_method': 'azcli_login', 'resource': 'https://api.loganalytics.io'}')\n",
                "\n",
                "```"
            ],
            "metadata": {
                "azdata_cell_guid": "56c7edfd-ed80-42c8-a55c-23b257e60660"
            }
        },
        {
            "cell_type": "markdown",
            "source": [
                "It usually means that azure.common is not installed properly. Check in `azuredatastudio-python/lib/site-packages/azure/common/__init__.py exists`.\n",
                "\n",
                "If it does exist, then it's best to upgrade azure.common package or reinstall. For mine, I just upgraded because I was using an older version on azure.common (from1.1.23 to 1.1.26)"
            ],
            "metadata": {
                "azdata_cell_guid": "32492fa9-f641-4917-b356-7d2fe3626db1"
            }
        },
        {
            "cell_type": "markdown",
            "source": [
                "This is to quickly check that azure.common works or not."
            ],
            "metadata": {
                "azdata_cell_guid": "9804a025-b53f-45ce-8a2c-20c4a9b3f1f6"
            }
        },
        {
            "cell_type": "code",
            "source": [
                "from azure.common.credentials import get_cli_profile"
            ],
            "metadata": {
                "azdata_cell_guid": "251c6071-e565-4132-9713-aaba2262cee1"
            },
            "outputs": [],
            "execution_count": null
        },
        {
            "cell_type": "markdown",
            "source": [
                "Check my current environment."
            ],
            "metadata": {
                "azdata_cell_guid": "b3392dc0-9aa5-41c3-9180-07306c1d4c47"
            }
        },
        {
            "cell_type": "code",
            "source": [
                "import sys\r\n",
                "print(sys.path)"
            ],
            "metadata": {
                "azdata_cell_guid": "41fd9a7a-ae59-4bea-a237-9c28c272e2aa"
            },
            "outputs": [],
            "execution_count": null
        },
        {
            "cell_type": "markdown",
            "source": [
                "May have to reinstall a new azure-common from the ADS Package UI."
            ],
            "metadata": {
                "azdata_cell_guid": "d8bf9097-fed4-44a0-bf48-86d6f1747044"
            }
        }
    ]
}