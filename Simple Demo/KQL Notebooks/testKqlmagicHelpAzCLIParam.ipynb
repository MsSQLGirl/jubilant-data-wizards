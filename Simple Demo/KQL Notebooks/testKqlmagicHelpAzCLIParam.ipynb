{
    "metadata": {
        "kernelspec": {
            "name": "python3",
            "display_name": "Python 3",
            "language": "python"
        },
        "language_info": {
            "name": "python",
            "version": "3.6.6",
            "mimetype": "text/x-python",
            "codemirror_mode": {
                "name": "ipython",
                "version": 3
            },
            "pygments_lexer": "ipython3",
            "nbconvert_exporter": "python",
            "file_extension": ".py"
        }
    },
    "nbformat_minor": 2,
    "nbformat": 4,
    "cells": [
        {
            "cell_type": "markdown",
            "source": [
                "# Testing Kqlmagic with parameterized query\r\n",
                "\r\n",
                "The purpose of this notebook is to query Samples database in the Help ADX cluster. The default parameter is set to GEORGIA. When invoking this notebook, users can change the filter to something else.\r\n",
                "\r\n",
                "The login is provided with az cli. If users already logged in, they won't have to do SSO anymore. \r\n",
                "\r\n",
                ""
            ],
            "metadata": {
                "azdata_cell_guid": "20381b60-8ed9-4c00-b61c-4f04e0b9f8b0"
            }
        },
        {
            "cell_type": "markdown",
            "source": [
                "## Set the stateFilter parameter\r\n",
                "\r\n",
                "Default value for stateFilter is GEORGIA. It can be set to something else. "
            ],
            "metadata": {
                "azdata_cell_guid": "a7387bee-4449-457d-a52a-17a23f62acab"
            }
        },
        {
            "cell_type": "code",
            "source": [
                "stateFilter = \"GEORGIA\";"
            ],
            "metadata": {
                "azdata_cell_guid": "7cd71a72-6990-403e-bc90-f88e7aa8d059",
                "tags": [
                    "parameters"
                ]
            },
            "outputs": [],
            "execution_count": 7
        },
        {
            "cell_type": "markdown",
            "source": [
                "## Get the Azure login going via Azure CLI\r\n",
                "\r\n",
                "The following snippet of code cells are borrowed from the Azure Data Studio Deployment script :)"
            ],
            "metadata": {
                "azdata_cell_guid": "0de46467-a0a6-42be-b91b-ebb44d149ba7"
            }
        },
        {
            "cell_type": "code",
            "source": [
                "import sys, os, json, time, string, random, subprocess\r\n",
                "def run_command(command, json_decode = True, printOutput = True):\r\n",
                "    print(command)\r\n",
                "    process = subprocess.Popen(command.split(), stdout=subprocess.PIPE, stderr=subprocess.PIPE, shell=True)\r\n",
                "    output, error = process.communicate()\r\n",
                "    if process.returncode != 0: \r\n",
                "        print(\"Process failed %d \\n%s\" % (process.returncode, error.decode(\"utf-8\")))\r\n",
                "        raise Exception()\r\n",
                "    if output:\r\n",
                "        output = output.decode(\"utf-8\")\r\n",
                "        if printOutput:\r\n",
                "            print(output)\r\n",
                "        try:\r\n",
                "            return json.loads(output)\r\n",
                "        except:\r\n",
                "            return output\r\n",
                ""
            ],
            "metadata": {
                "azdata_cell_guid": "bf60cae4-93cc-4c16-b326-a8750ac8a394"
            },
            "outputs": [],
            "execution_count": 8
        },
        {
            "cell_type": "markdown",
            "source": [
                "The following will perform login if you have not logged into your Azure Account yet.\r\n",
                "\r\n",
                "> **Tip**: if you have multiple Azure Active Directory account you may want to check if you are logged in to the account that have the correct subscription, by replacing this line\r\n",
                "```\r\n",
                "if len(subscriptions) < 1:\r\n",
                "```\r\n",
                "with   \r\n",
                "```\r\n",
                "myLA_Subscription = '<insert your Log Analytics subscription>'\r\n",
                "if myLA_subscription not in (subscription[\"id\"] for subscription in subscriptions):\r\n",
                "```\r\n",
                ""
            ],
            "metadata": {
                "azdata_cell_guid": "03b74d60-619f-46ec-9505-b922a9831eaa"
            }
        },
        {
            "cell_type": "code",
            "source": [
                "subscriptions = run_command('az account list', printOutput = False)\r\n",
                "\r\n",
                "if len(subscriptions) < 1:\r\n",
                "    silent = run_command('az login', printOutput = False)"
            ],
            "metadata": {
                "azdata_cell_guid": "01208885-4335-4d10-884c-cfda6eb1c596"
            },
            "outputs": [
                {
                    "name": "stdout",
                    "text": "az account list\n",
                    "output_type": "stream"
                }
            ],
            "execution_count": 9
        },
        {
            "cell_type": "markdown",
            "source": [
                "## Load Kqlmagic first\r\n",
                "\r\n",
                "This assumes that Kqlmagic has been installed."
            ],
            "metadata": {
                "azdata_cell_guid": "2bec6e83-8dec-448c-bc73-13ec7b79df27"
            }
        },
        {
            "cell_type": "code",
            "source": [
                "%reload_ext Kqlmagic"
            ],
            "metadata": {
                "azdata_cell_guid": "662ad3dd-5934-4265-976a-8c0d18cc9676"
            },
            "outputs": [],
            "execution_count": 10
        },
        {
            "cell_type": "markdown",
            "source": [
                "## Setup the connection"
            ],
            "metadata": {
                "azdata_cell_guid": "393052fc-020b-4eb6-96b6-feb166972d22"
            }
        },
        {
            "cell_type": "code",
            "source": [
                "%kql azureDataExplorer://code;cluster='help';database='Samples' -try-azcli_login"
            ],
            "metadata": {
                "azdata_cell_guid": "573614bc-73ae-4887-835e-06b63ecb01f1"
            },
            "outputs": [],
            "execution_count": 11
        },
        {
            "cell_type": "markdown",
            "source": [
                "## The query that would use the parameters"
            ],
            "metadata": {
                "azdata_cell_guid": "2362df1d-e14f-492a-a8d5-48e161c14a66"
            }
        },
        {
            "cell_type": "code",
            "source": [
                "%%kql \r\n",
                "let _state = stateFilter;\r\n",
                "StormEvents \r\n",
                "| where State == _state\r\n",
                "| limit 10"
            ],
            "metadata": {
                "azdata_cell_guid": "a24b0ed9-7b4c-417f-87dd-753cbd80f3b2"
            },
            "outputs": [
{
    "data": {
        "text/plain": "<IPython.core.display.HTML object>",
        "text/html": "<html>\n        <head>\n            \n            \n        </head>\n        <body>\n            <div><p style='padding: 10px; color: #3a87ad; background-color: #d9edf7; border-color: #bce9f1'>&nbsp;*&nbsp;Samples@help</p></div>\n        </body>\n        </html>"
    },
    "metadata": {},
    "output_type": "display_data"
}, {
    "data": {
        "text/plain": "                  StartTime                   EndTime  EpisodeId  EventId  \\\n0 2007-12-30 16:00:00+00:00 2007-12-30 16:05:00+00:00      11749    64588   \n1 2007-12-30 18:30:00+00:00 2007-12-30 18:30:00+00:00      11833    64921   \n2 2007-12-21 09:00:00+00:00 2007-12-21 10:00:00+00:00      11824    64901   \n3 2007-12-21 07:45:00+00:00 2007-12-21 10:00:00+00:00      11824    64899   \n4 2007-12-21 09:35:00+00:00 2007-12-21 10:00:00+00:00      11824    64902   \n5 2007-12-21 09:35:00+00:00 2007-12-21 10:00:00+00:00      11824    64903   \n6 2007-12-21 11:15:00+00:00 2007-12-21 12:00:00+00:00      11824    64904   \n7 2007-12-21 08:25:00+00:00 2007-12-21 10:00:00+00:00      11824    64900   \n8 2007-08-26 13:20:00+00:00 2007-08-26 13:20:00+00:00      10444    58115   \n9 2007-08-23 14:20:00+00:00 2007-08-23 14:20:00+00:00      10412    57947   \n\n     State          EventType  InjuriesDirect  InjuriesIndirect  DeathsDirect  \\\n0  GEORGIA  Thunderstorm Wind               0                 0             0   \n1  GEORGIA  Thunderstorm Wind               0                 0             0   \n2  GEORGIA        Flash Flood               0                 0             0   \n3  GEORGIA        Flash Flood               0                 0             0   \n4  GEORGIA        Flash Flood               0                 0             0   \n5  GEORGIA        Flash Flood               0                 0             0   \n6  GEORGIA        Flash Flood               0                 0             0   \n7  GEORGIA        Flash Flood               0                 0             0   \n8  GEORGIA  Thunderstorm Wind               0                 0             0   \n9  GEORGIA               Hail               0                 0             0   \n\n   DeathsIndirect  DamageProperty  DamageCrops               Source  \\\n0               0            2000            0      Law Enforcement   \n1               0           25000            0    Emergency Manager   \n2               0            6000            0      Law Enforcement   \n3               0               0            0    Emergency Manager   \n4               0            5000            0    Emergency Manager   \n5               0               0            0    Emergency Manager   \n6               0               0            0    Emergency Manager   \n7               0               0            0    Emergency Manager   \n8               0               0            0      Trained Spotter   \n9               0               0            0  Park/Forest Service   \n\n          BeginLocation     EndLocation  BeginLat  BeginLon   EndLat   EndLon  \\\n0                 LOTTS           LOTTS   31.5600  -82.8900  31.5600 -82.8900   \n1                MIDWAY          MIDWAY   31.8100  -81.4300  31.8100 -81.4300   \n2            BONA BELLA      BONA BELLA   32.1000  -81.1800  32.0880 -81.1799   \n3        PORT WENTWORTH  PORT WENTWORTH   32.1500  -81.1800  32.1604 -81.1830   \n4              SAVANNAH        SAVANNAH   32.0600  -81.0900  32.0599 -81.0929   \n5  (SAV)SAVANNAH INTL A     GARDEN CITY   32.1288  -81.1885  32.1229 -81.1842   \n6              SAVANNAH        SAVANNAH   32.0500  -81.0800  32.0744 -81.0810   \n7           CENTRAL JCT     CENTRAL JCT   32.0878  -81.1193  32.0785 -81.1179   \n8         MOUNTAIN CITY   MOUNTAIN CITY   34.9200  -83.3800  34.9200 -83.3800   \n9               CLAYTON         CLAYTON   34.7778  -83.5245  34.7778 -83.5245   \n\n                                    EpisodeNarrative  \\\n0  An area of low pressure developed near the cen...   \n1  A strong cold front pushed through southeaster...   \n2  Low pressure developed off the coast of South ...   \n3  Low pressure developed off the coast of South ...   \n4  Low pressure developed off the coast of South ...   \n5  Low pressure developed off the coast of South ...   \n6  Low pressure developed off the coast of South ...   \n7  Low pressure developed off the coast of South ...   \n8  An isolated severe storm affected extreme nort...   \n9  An isolated severe storm produced large hail i...   \n\n                                      EventNarrative  \\\n0  The county dispatch reported several trees wer...   \n1  Eight homes were reported to have sustained da...   \n2  Heavy rain completely flooded parts of Commerc...   \n3  Bonnie bridge Road was reported to be flooded ...   \n4  One house was evacuated due to flooding on Eas...   \n5  The intersection of Robert Miller and Highway ...   \n6  Chatham County Emergency Management reported t...   \n7  The Chatham County Emergency Manager reported ...   \n8         Six trees blown down around Mountain City.   \n9  Ping-pong ball size hail reported on Seed Lake...   \n\n                                        StormSummary  \n0  {'TotalDamages': 2000, 'StartTime': '2007-12-3...  \n1  {'TotalDamages': 25000, 'StartTime': '2007-12-...  \n2  {'TotalDamages': 6000, 'StartTime': '2007-12-2...  \n3  {'TotalDamages': 0, 'StartTime': '2007-12-21T0...  \n4  {'TotalDamages': 5000, 'StartTime': '2007-12-2...  \n5  {'TotalDamages': 0, 'StartTime': '2007-12-21T0...  \n6  {'TotalDamages': 0, 'StartTime': '2007-12-21T1...  \n7  {'TotalDamages': 0, 'StartTime': '2007-12-21T0...  \n8  {'TotalDamages': 0, 'StartTime': '2007-08-26T1...  \n9  {'TotalDamages': 0, 'StartTime': '2007-08-23T1...  ",
        "text/html": "<div>\n<style scoped>\n    .dataframe tbody tr th:only-of-type {\n        vertical-align: middle;\n    }\n\n    .dataframe tbody tr th {\n        vertical-align: top;\n    }\n\n    .dataframe thead th {\n        text-align: right;\n    }\n</style>\n<table border=\"1\" class=\"dataframe\">\n  <thead>\n    <tr style=\"text-align: right;\">\n      <th></th>\n      <th>StartTime</th>\n      <th>EndTime</th>\n      <th>EpisodeId</th>\n      <th>EventId</th>\n      <th>State</th>\n      <th>EventType</th>\n      <th>InjuriesDirect</th>\n      <th>InjuriesIndirect</th>\n      <th>DeathsDirect</th>\n      <th>DeathsIndirect</th>\n      <th>DamageProperty</th>\n      <th>DamageCrops</th>\n      <th>Source</th>\n      <th>BeginLocation</th>\n      <th>EndLocation</th>\n      <th>BeginLat</th>\n      <th>BeginLon</th>\n      <th>EndLat</th>\n      <th>EndLon</th>\n      <th>EpisodeNarrative</th>\n      <th>EventNarrative</th>\n      <th>StormSummary</th>\n    </tr>\n  </thead>\n  <tbody>\n    <tr>\n      <th>0</th>\n      <td>2007-12-30 16:00:00+00:00</td>\n      <td>2007-12-30 16:05:00+00:00</td>\n      <td>11749</td>\n      <td>64588</td>\n      <td>GEORGIA</td>\n      <td>Thunderstorm Wind</td>\n      <td>0</td>\n      <td>0</td>\n      <td>0</td>\n      <td>0</td>\n      <td>2000</td>\n      <td>0</td>\n      <td>Law Enforcement</td>\n      <td>LOTTS</td>\n      <td>LOTTS</td>\n      <td>31.5600</td>\n      <td>-82.8900</td>\n      <td>31.5600</td>\n      <td>-82.8900</td>\n      <td>An area of low pressure developed near the cen...</td>\n      <td>The county dispatch reported several trees wer...</td>\n      <td>{'TotalDamages': 2000, 'StartTime': '2007-12-3...</td>\n    </tr>\n    <tr>\n      <th>1</th>\n      <td>2007-12-30 18:30:00+00:00</td>\n      <td>2007-12-30 18:30:00+00:00</td>\n      <td>11833</td>\n      <td>64921</td>\n      <td>GEORGIA</td>\n      <td>Thunderstorm Wind</td>\n      <td>0</td>\n      <td>0</td>\n      <td>0</td>\n      <td>0</td>\n      <td>25000</td>\n      <td>0</td>\n      <td>Emergency Manager</td>\n      <td>MIDWAY</td>\n      <td>MIDWAY</td>\n      <td>31.8100</td>\n      <td>-81.4300</td>\n      <td>31.8100</td>\n      <td>-81.4300</td>\n      <td>A strong cold front pushed through southeaster...</td>\n      <td>Eight homes were reported to have sustained da...</td>\n      <td>{'TotalDamages': 25000, 'StartTime': '2007-12-...</td>\n    </tr>\n    <tr>\n      <th>2</th>\n      <td>2007-12-21 09:00:00+00:00</td>\n      <td>2007-12-21 10:00:00+00:00</td>\n      <td>11824</td>\n      <td>64901</td>\n      <td>GEORGIA</td>\n      <td>Flash Flood</td>\n      <td>0</td>\n      <td>0</td>\n      <td>0</td>\n      <td>0</td>\n      <td>6000</td>\n      <td>0</td>\n      <td>Law Enforcement</td>\n      <td>BONA BELLA</td>\n      <td>BONA BELLA</td>\n      <td>32.1000</td>\n      <td>-81.1800</td>\n      <td>32.0880</td>\n      <td>-81.1799</td>\n      <td>Low pressure developed off the coast of South ...</td>\n      <td>Heavy rain completely flooded parts of Commerc...</td>\n      <td>{'TotalDamages': 6000, 'StartTime': '2007-12-2...</td>\n    </tr>\n    <tr>\n      <th>3</th>\n      <td>2007-12-21 07:45:00+00:00</td>\n      <td>2007-12-21 10:00:00+00:00</td>\n      <td>11824</td>\n      <td>64899</td>\n      <td>GEORGIA</td>\n      <td>Flash Flood</td>\n      <td>0</td>\n      <td>0</td>\n      <td>0</td>\n      <td>0</td>\n      <td>0</td>\n      <td>0</td>\n      <td>Emergency Manager</td>\n      <td>PORT WENTWORTH</td>\n      <td>PORT WENTWORTH</td>\n      <td>32.1500</td>\n      <td>-81.1800</td>\n      <td>32.1604</td>\n      <td>-81.1830</td>\n      <td>Low pressure developed off the coast of South ...</td>\n      <td>Bonnie bridge Road was reported to be flooded ...</td>\n      <td>{'TotalDamages': 0, 'StartTime': '2007-12-21T0...</td>\n    </tr>\n    <tr>\n      <th>4</th>\n      <td>2007-12-21 09:35:00+00:00</td>\n      <td>2007-12-21 10:00:00+00:00</td>\n      <td>11824</td>\n      <td>64902</td>\n      <td>GEORGIA</td>\n      <td>Flash Flood</td>\n      <td>0</td>\n      <td>0</td>\n      <td>0</td>\n      <td>0</td>\n      <td>5000</td>\n      <td>0</td>\n      <td>Emergency Manager</td>\n      <td>SAVANNAH</td>\n      <td>SAVANNAH</td>\n      <td>32.0600</td>\n      <td>-81.0900</td>\n      <td>32.0599</td>\n      <td>-81.0929</td>\n      <td>Low pressure developed off the coast of South ...</td>\n      <td>One house was evacuated due to flooding on Eas...</td>\n      <td>{'TotalDamages': 5000, 'StartTime': '2007-12-2...</td>\n    </tr>\n    <tr>\n      <th>5</th>\n      <td>2007-12-21 09:35:00+00:00</td>\n      <td>2007-12-21 10:00:00+00:00</td>\n      <td>11824</td>\n      <td>64903</td>\n      <td>GEORGIA</td>\n      <td>Flash Flood</td>\n      <td>0</td>\n      <td>0</td>\n      <td>0</td>\n      <td>0</td>\n      <td>0</td>\n      <td>0</td>\n      <td>Emergency Manager</td>\n      <td>(SAV)SAVANNAH INTL A</td>\n      <td>GARDEN CITY</td>\n      <td>32.1288</td>\n      <td>-81.1885</td>\n      <td>32.1229</td>\n      <td>-81.1842</td>\n      <td>Low pressure developed off the coast of South ...</td>\n      <td>The intersection of Robert Miller and Highway ...</td>\n      <td>{'TotalDamages': 0, 'StartTime': '2007-12-21T0...</td>\n    </tr>\n    <tr>\n      <th>6</th>\n      <td>2007-12-21 11:15:00+00:00</td>\n      <td>2007-12-21 12:00:00+00:00</td>\n      <td>11824</td>\n      <td>64904</td>\n      <td>GEORGIA</td>\n      <td>Flash Flood</td>\n      <td>0</td>\n      <td>0</td>\n      <td>0</td>\n      <td>0</td>\n      <td>0</td>\n      <td>0</td>\n      <td>Emergency Manager</td>\n      <td>SAVANNAH</td>\n      <td>SAVANNAH</td>\n      <td>32.0500</td>\n      <td>-81.0800</td>\n      <td>32.0744</td>\n      <td>-81.0810</td>\n      <td>Low pressure developed off the coast of South ...</td>\n      <td>Chatham County Emergency Management reported t...</td>\n      <td>{'TotalDamages': 0, 'StartTime': '2007-12-21T1...</td>\n    </tr>\n    <tr>\n      <th>7</th>\n      <td>2007-12-21 08:25:00+00:00</td>\n      <td>2007-12-21 10:00:00+00:00</td>\n      <td>11824</td>\n      <td>64900</td>\n      <td>GEORGIA</td>\n      <td>Flash Flood</td>\n      <td>0</td>\n      <td>0</td>\n      <td>0</td>\n      <td>0</td>\n      <td>0</td>\n      <td>0</td>\n      <td>Emergency Manager</td>\n      <td>CENTRAL JCT</td>\n      <td>CENTRAL JCT</td>\n      <td>32.0878</td>\n      <td>-81.1193</td>\n      <td>32.0785</td>\n      <td>-81.1179</td>\n      <td>Low pressure developed off the coast of South ...</td>\n      <td>The Chatham County Emergency Manager reported ...</td>\n      <td>{'TotalDamages': 0, 'StartTime': '2007-12-21T0...</td>\n    </tr>\n    <tr>\n      <th>8</th>\n      <td>2007-08-26 13:20:00+00:00</td>\n      <td>2007-08-26 13:20:00+00:00</td>\n      <td>10444</td>\n      <td>58115</td>\n      <td>GEORGIA</td>\n      <td>Thunderstorm Wind</td>\n      <td>0</td>\n      <td>0</td>\n      <td>0</td>\n      <td>0</td>\n      <td>0</td>\n      <td>0</td>\n      <td>Trained Spotter</td>\n      <td>MOUNTAIN CITY</td>\n      <td>MOUNTAIN CITY</td>\n      <td>34.9200</td>\n      <td>-83.3800</td>\n      <td>34.9200</td>\n      <td>-83.3800</td>\n      <td>An isolated severe storm affected extreme nort...</td>\n      <td>Six trees blown down around Mountain City.</td>\n      <td>{'TotalDamages': 0, 'StartTime': '2007-08-26T1...</td>\n    </tr>\n    <tr>\n      <th>9</th>\n      <td>2007-08-23 14:20:00+00:00</td>\n      <td>2007-08-23 14:20:00+00:00</td>\n      <td>10412</td>\n      <td>57947</td>\n      <td>GEORGIA</td>\n      <td>Hail</td>\n      <td>0</td>\n      <td>0</td>\n      <td>0</td>\n      <td>0</td>\n      <td>0</td>\n      <td>0</td>\n      <td>Park/Forest Service</td>\n      <td>CLAYTON</td>\n      <td>CLAYTON</td>\n      <td>34.7778</td>\n      <td>-83.5245</td>\n      <td>34.7778</td>\n      <td>-83.5245</td>\n      <td>An isolated severe storm produced large hail i...</td>\n      <td>Ping-pong ball size hail reported on Seed Lake...</td>\n      <td>{'TotalDamages': 0, 'StartTime': '2007-08-23T1...</td>\n    </tr>\n  </tbody>\n</table>\n</div>",
        "application/vnd.dataresource+json": {
            "schema": {
                "fields": [
                    {
                        "name": "StartTime",
                        "type": "datetime",
                        "tz": "UTC"
                    },
                    {
                        "name": "EndTime",
                        "type": "datetime",
                        "tz": "UTC"
                    },
                    {
                        "name": "EpisodeId",
                        "type": "integer"
                    },
                    {
                        "name": "EventId",
                        "type": "integer"
                    },
                    {
                        "name": "State",
                        "type": "string"
                    },
                    {
                        "name": "EventType",
                        "type": "string"
                    },
                    {
                        "name": "InjuriesDirect",
                        "type": "integer"
                    },
                    {
                        "name": "InjuriesIndirect",
                        "type": "integer"
                    },
                    {
                        "name": "DeathsDirect",
                        "type": "integer"
                    },
                    {
                        "name": "DeathsIndirect",
                        "type": "integer"
                    },
                    {
                        "name": "DamageProperty",
                        "type": "integer"
                    },
                    {
                        "name": "DamageCrops",
                        "type": "integer"
                    },
                    {
                        "name": "Source",
                        "type": "string"
                    },
                    {
                        "name": "BeginLocation",
                        "type": "string"
                    },
                    {
                        "name": "EndLocation",
                        "type": "string"
                    },
                    {
                        "name": "BeginLat",
                        "type": "number"
                    },
                    {
                        "name": "BeginLon",
                        "type": "number"
                    },
                    {
                        "name": "EndLat",
                        "type": "number"
                    },
                    {
                        "name": "EndLon",
                        "type": "number"
                    },
                    {
                        "name": "EpisodeNarrative",
                        "type": "string"
                    },
                    {
                        "name": "EventNarrative",
                        "type": "string"
                    },
                    {
                        "name": "StormSummary",
                        "type": "string"
                    }
                ],
                "kqmagic_version": "0.1.113.post1"
            },
            "data": [
                {
                    "StartTime": "2007-12-30T16:00:00.000Z",
                    "EndTime": "2007-12-30T16:05:00.000Z",
                    "EpisodeId": 11749,
                    "EventId": 64588,
                    "State": "GEORGIA",
                    "EventType": "Thunderstorm Wind",
                    "InjuriesDirect": 0,
                    "InjuriesIndirect": 0,
                    "DeathsDirect": 0,
                    "DeathsIndirect": 0,
                    "DamageProperty": 2000,
                    "DamageCrops": 0,
                    "Source": "Law Enforcement",
                    "BeginLocation": "LOTTS",
                    "EndLocation": "LOTTS",
                    "BeginLat": 31.56,
                    "BeginLon": -82.89,
                    "EndLat": 31.56,
                    "EndLon": -82.89,
                    "EpisodeNarrative": "An area of low pressure developed near the central Gulf coast states and tracked northeast along a nearly stationary front across south Georgia during the late afternoon of December 30th.  Pre-frontal storms developed across south Georgia where surface based lifted indices were near -2 to -3. Storms had persistent mesocyclone rotations and several storms developed bow echo signatures with outbound velocities around 40 to 50 knots along the leading edge of the bow around 3-4 kft above ground level prior to warning issuance.",
                    "EventNarrative": "The county dispatch reported several trees were blown down along Quincey Batten Loop near State Road 206. The cost of tree removal was estimated.",
                    "StormSummary": "{'TotalDamages': 2000, 'StartTime': '2007-12-30T16:00:00.0000000Z', 'EndTime': '2007-12-30T16:05:00.0000000Z', 'Details': {'Description': 'The county dispatch reported several trees were blown down along Quincey Batten Loop near State Road 206. The cost of tree removal was estimated.', 'Location': 'GEORGIA'}}"
                },
                {
                    "StartTime": "2007-12-30T18:30:00.000Z",
                    "EndTime": "2007-12-30T18:30:00.000Z",
                    "EpisodeId": 11833,
                    "EventId": 64921,
                    "State": "GEORGIA",
                    "EventType": "Thunderstorm Wind",
                    "InjuriesDirect": 0,
                    "InjuriesIndirect": 0,
                    "DeathsDirect": 0,
                    "DeathsIndirect": 0,
                    "DamageProperty": 25000,
                    "DamageCrops": 0,
                    "Source": "Emergency Manager",
                    "BeginLocation": "MIDWAY",
                    "EndLocation": "MIDWAY",
                    "BeginLat": 31.81,
                    "BeginLon": -81.43,
                    "EndLat": 31.81,
                    "EndLon": -81.43,
                    "EpisodeNarrative": "A strong cold front pushed through southeastern Georgia resulting in a couple strong thunderstorms.",
                    "EventNarrative": "Eight homes were reported to have sustained damage by debris and tree branches. One home had brick siding separate from the home. Several trees were reported to have snapped off at the base.",
                    "StormSummary": "{'TotalDamages': 25000, 'StartTime': '2007-12-30T18:30:00.0000000Z', 'EndTime': '2007-12-30T18:30:00.0000000Z', 'Details': {'Description': 'Eight homes were reported to have sustained damage by debris and tree branches. One home had brick siding separate from the home. Several trees were reported to have snapped off at the base.', 'Location': 'GEORGIA'}}"
                },
                {
                    "StartTime": "2007-12-21T09:00:00.000Z",
                    "EndTime": "2007-12-21T10:00:00.000Z",
                    "EpisodeId": 11824,
                    "EventId": 64901,
                    "State": "GEORGIA",
                    "EventType": "Flash Flood",
                    "InjuriesDirect": 0,
                    "InjuriesIndirect": 0,
                    "DeathsDirect": 0,
                    "DeathsIndirect": 0,
                    "DamageProperty": 6000,
                    "DamageCrops": 0,
                    "Source": "Law Enforcement",
                    "BeginLocation": "BONA BELLA",
                    "EndLocation": "BONA BELLA",
                    "BeginLat": 32.1,
                    "BeginLon": -81.18,
                    "EndLat": 32.088,
                    "EndLon": -81.1799,
                    "EpisodeNarrative": "Low pressure developed off the coast of South Carolina and Georgia as a potent upper level disturbance moved across the region. Moderate to heavy rains fell across the area, bringing much needed rainfall to some drought stricken areas. The pressure gradient between the area of low pressure and a wedge of high pressure across the piedmont of South Carolina and Georgia, associated with strong cold air damming, produced strong winds along the coast.",
                    "EventNarrative": "Heavy rain completely flooded parts of Commerce Boulevard in Garden City, Georgia. The depth of the water was as high as 6 feet in places and several cars were reported to be completely submerged.",
                    "StormSummary": "{'TotalDamages': 6000, 'StartTime': '2007-12-21T09:00:00.0000000Z', 'EndTime': '2007-12-21T10:00:00.0000000Z', 'Details': {'Description': 'Heavy rain completely flooded parts of Commerce Boulevard in Garden City, Georgia. The depth of the water was as high as 6 feet in places and several cars were reported to be completely submerged.', 'Location': 'GEORGIA'}}"
                },
                {
                    "StartTime": "2007-12-21T07:45:00.000Z",
                    "EndTime": "2007-12-21T10:00:00.000Z",
                    "EpisodeId": 11824,
                    "EventId": 64899,
                    "State": "GEORGIA",
                    "EventType": "Flash Flood",
                    "InjuriesDirect": 0,
                    "InjuriesIndirect": 0,
                    "DeathsDirect": 0,
                    "DeathsIndirect": 0,
                    "DamageProperty": 0,
                    "DamageCrops": 0,
                    "Source": "Emergency Manager",
                    "BeginLocation": "PORT WENTWORTH",
                    "EndLocation": "PORT WENTWORTH",
                    "BeginLat": 32.15,
                    "BeginLon": -81.18,
                    "EndLat": 32.1604,
                    "EndLon": -81.183,
                    "EpisodeNarrative": "Low pressure developed off the coast of South Carolina and Georgia as a potent upper level disturbance moved across the region. Moderate to heavy rains fell across the area, bringing much needed rainfall to some drought stricken areas. The pressure gradient between the area of low pressure and a wedge of high pressure across the piedmont of South Carolina and Georgia, associated with strong cold air damming, produced strong winds along the coast.",
                    "EventNarrative": "Bonnie bridge Road was reported to be flooded by the Chatham County Emergency Manager.",
                    "StormSummary": "{'TotalDamages': 0, 'StartTime': '2007-12-21T07:45:00.0000000Z', 'EndTime': '2007-12-21T10:00:00.0000000Z', 'Details': {'Description': 'Bonnie bridge Road was reported to be flooded by the Chatham County Emergency Manager.', 'Location': 'GEORGIA'}}"
                },
                {
                    "StartTime": "2007-12-21T09:35:00.000Z",
                    "EndTime": "2007-12-21T10:00:00.000Z",
                    "EpisodeId": 11824,
                    "EventId": 64902,
                    "State": "GEORGIA",
                    "EventType": "Flash Flood",
                    "InjuriesDirect": 0,
                    "InjuriesIndirect": 0,
                    "DeathsDirect": 0,
                    "DeathsIndirect": 0,
                    "DamageProperty": 5000,
                    "DamageCrops": 0,
                    "Source": "Emergency Manager",
                    "BeginLocation": "SAVANNAH",
                    "EndLocation": "SAVANNAH",
                    "BeginLat": 32.06,
                    "BeginLon": -81.09,
                    "EndLat": 32.0599,
                    "EndLon": -81.0929,
                    "EpisodeNarrative": "Low pressure developed off the coast of South Carolina and Georgia as a potent upper level disturbance moved across the region. Moderate to heavy rains fell across the area, bringing much needed rainfall to some drought stricken areas. The pressure gradient between the area of low pressure and a wedge of high pressure across the piedmont of South Carolina and Georgia, associated with strong cold air damming, produced strong winds along the coast.",
                    "EventNarrative": "One house was evacuated due to flooding on East 33rd street.",
                    "StormSummary": "{'TotalDamages': 5000, 'StartTime': '2007-12-21T09:35:00.0000000Z', 'EndTime': '2007-12-21T10:00:00.0000000Z', 'Details': {'Description': 'One house was evacuated due to flooding on East 33rd street.', 'Location': 'GEORGIA'}}"
                },
                {
                    "StartTime": "2007-12-21T09:35:00.000Z",
                    "EndTime": "2007-12-21T10:00:00.000Z",
                    "EpisodeId": 11824,
                    "EventId": 64903,
                    "State": "GEORGIA",
                    "EventType": "Flash Flood",
                    "InjuriesDirect": 0,
                    "InjuriesIndirect": 0,
                    "DeathsDirect": 0,
                    "DeathsIndirect": 0,
                    "DamageProperty": 0,
                    "DamageCrops": 0,
                    "Source": "Emergency Manager",
                    "BeginLocation": "(SAV)SAVANNAH INTL A",
                    "EndLocation": "GARDEN CITY",
                    "BeginLat": 32.1288,
                    "BeginLon": -81.1885,
                    "EndLat": 32.1229,
                    "EndLon": -81.1842,
                    "EpisodeNarrative": "Low pressure developed off the coast of South Carolina and Georgia as a potent upper level disturbance moved across the region. Moderate to heavy rains fell across the area, bringing much needed rainfall to some drought stricken areas. The pressure gradient between the area of low pressure and a wedge of high pressure across the piedmont of South Carolina and Georgia, associated with strong cold air damming, produced strong winds along the coast.",
                    "EventNarrative": "The intersection of Robert Miller and Highway 301 was reported to be flooded under the railroad crossing.",
                    "StormSummary": "{'TotalDamages': 0, 'StartTime': '2007-12-21T09:35:00.0000000Z', 'EndTime': '2007-12-21T10:00:00.0000000Z', 'Details': {'Description': 'The intersection of Robert Miller and Highway 301 was reported to be flooded under the railroad crossing.', 'Location': 'GEORGIA'}}"
                },
                {
                    "StartTime": "2007-12-21T11:15:00.000Z",
                    "EndTime": "2007-12-21T12:00:00.000Z",
                    "EpisodeId": 11824,
                    "EventId": 64904,
                    "State": "GEORGIA",
                    "EventType": "Flash Flood",
                    "InjuriesDirect": 0,
                    "InjuriesIndirect": 0,
                    "DeathsDirect": 0,
                    "DeathsIndirect": 0,
                    "DamageProperty": 0,
                    "DamageCrops": 0,
                    "Source": "Emergency Manager",
                    "BeginLocation": "SAVANNAH",
                    "EndLocation": "SAVANNAH",
                    "BeginLat": 32.05,
                    "BeginLon": -81.08,
                    "EndLat": 32.0744,
                    "EndLon": -81.081,
                    "EpisodeNarrative": "Low pressure developed off the coast of South Carolina and Georgia as a potent upper level disturbance moved across the region. Moderate to heavy rains fell across the area, bringing much needed rainfall to some drought stricken areas. The pressure gradient between the area of low pressure and a wedge of high pressure across the piedmont of South Carolina and Georgia, associated with strong cold air damming, produced strong winds along the coast.",
                    "EventNarrative": "Chatham County Emergency Management reported that several roads were closed due to flash flooding throughout northern Chatham County, including the city of Savannah, Georgia.",
                    "StormSummary": "{'TotalDamages': 0, 'StartTime': '2007-12-21T11:15:00.0000000Z', 'EndTime': '2007-12-21T12:00:00.0000000Z', 'Details': {'Description': 'Chatham County Emergency Management reported that several roads were closed due to flash flooding throughout northern Chatham County, including the city of Savannah, Georgia.', 'Location': 'GEORGIA'}}"
                },
                {
                    "StartTime": "2007-12-21T08:25:00.000Z",
                    "EndTime": "2007-12-21T10:00:00.000Z",
                    "EpisodeId": 11824,
                    "EventId": 64900,
                    "State": "GEORGIA",
                    "EventType": "Flash Flood",
                    "InjuriesDirect": 0,
                    "InjuriesIndirect": 0,
                    "DeathsDirect": 0,
                    "DeathsIndirect": 0,
                    "DamageProperty": 0,
                    "DamageCrops": 0,
                    "Source": "Emergency Manager",
                    "BeginLocation": "CENTRAL JCT",
                    "EndLocation": "CENTRAL JCT",
                    "BeginLat": 32.0878,
                    "BeginLon": -81.1193,
                    "EndLat": 32.0785,
                    "EndLon": -81.1179,
                    "EpisodeNarrative": "Low pressure developed off the coast of South Carolina and Georgia as a potent upper level disturbance moved across the region. Moderate to heavy rains fell across the area, bringing much needed rainfall to some drought stricken areas. The pressure gradient between the area of low pressure and a wedge of high pressure across the piedmont of South Carolina and Georgia, associated with strong cold air damming, produced strong winds along the coast.",
                    "EventNarrative": "The Chatham County Emergency Manager reported flooding on more than 10 roads in and north of Savannah, Georgia.",
                    "StormSummary": "{'TotalDamages': 0, 'StartTime': '2007-12-21T08:25:00.0000000Z', 'EndTime': '2007-12-21T10:00:00.0000000Z', 'Details': {'Description': 'The Chatham County Emergency Manager reported flooding on more than 10 roads in and north of Savannah, Georgia.', 'Location': 'GEORGIA'}}"
                },
                {
                    "StartTime": "2007-08-26T13:20:00.000Z",
                    "EndTime": "2007-08-26T13:20:00.000Z",
                    "EpisodeId": 10444,
                    "EventId": 58115,
                    "State": "GEORGIA",
                    "EventType": "Thunderstorm Wind",
                    "InjuriesDirect": 0,
                    "InjuriesIndirect": 0,
                    "DeathsDirect": 0,
                    "DeathsIndirect": 0,
                    "DamageProperty": 0,
                    "DamageCrops": 0,
                    "Source": "Trained Spotter",
                    "BeginLocation": "MOUNTAIN CITY",
                    "EndLocation": "MOUNTAIN CITY",
                    "BeginLat": 34.92,
                    "BeginLon": -83.38,
                    "EndLat": 34.92,
                    "EndLon": -83.38,
                    "EpisodeNarrative": "An isolated severe storm affected extreme northeast Georgia during the afternoon hours.",
                    "EventNarrative": "Six trees blown down around Mountain City.",
                    "StormSummary": "{'TotalDamages': 0, 'StartTime': '2007-08-26T13:20:00.0000000Z', 'EndTime': '2007-08-26T13:20:00.0000000Z', 'Details': {'Description': 'Six trees blown down around Mountain City.', 'Location': 'GEORGIA'}}"
                },
                {
                    "StartTime": "2007-08-23T14:20:00.000Z",
                    "EndTime": "2007-08-23T14:20:00.000Z",
                    "EpisodeId": 10412,
                    "EventId": 57947,
                    "State": "GEORGIA",
                    "EventType": "Hail",
                    "InjuriesDirect": 0,
                    "InjuriesIndirect": 0,
                    "DeathsDirect": 0,
                    "DeathsIndirect": 0,
                    "DamageProperty": 0,
                    "DamageCrops": 0,
                    "Source": "Park/Forest Service",
                    "BeginLocation": "CLAYTON",
                    "EndLocation": "CLAYTON",
                    "BeginLat": 34.7778,
                    "BeginLon": -83.5245,
                    "EndLat": 34.7778,
                    "EndLon": -83.5245,
                    "EpisodeNarrative": "An isolated severe storm produced large hail in extreme northeast Georgia.",
                    "EventNarrative": "Ping-pong ball size hail reported on Seed Lake Rd.",
                    "StormSummary": "{'TotalDamages': 0, 'StartTime': '2007-08-23T14:20:00.0000000Z', 'EndTime': '2007-08-23T14:20:00.0000000Z', 'Details': {'Description': 'Ping-pong ball size hail reported on Seed Lake Rd.', 'Location': 'GEORGIA'}}"
                }
            ]
        }
    },
    "metadata": {},
    "output_type": "display_data"
}, {
    "data": {
        "text/plain": "<IPython.core.display.HTML object>",
        "text/html": "<html>\n        <head>\n            \n            \n        </head>\n        <body>\n            <div><p style='padding: 10px; color: #3a87ad; background-color: #d9edf7; border-color: #bce9f1'>Done&nbsp;(00:00.450):&nbsp;10&nbsp;records</p></div>\n        </body>\n        </html>"
    },
    "metadata": {},
    "output_type": "display_data"
}, {
    "data": {
        "text/plain": "[{'StartTime': datetime.datetime(2007, 12, 30, 16, 0, tzinfo=tzutc()), 'EndTime': datetime.datetime(2007, 12, 30, 16, 5, tzinfo=tzutc()), 'EpisodeId': 11749, 'EventId': 64588, 'State': 'GEORGIA', 'EventType': 'Thunderstorm Wind', 'InjuriesDirect': 0, 'InjuriesIndirect': 0, 'DeathsDirect': 0, 'DeathsIndirect': 0, 'DamageProperty': 2000, 'DamageCrops': 0, 'Source': 'Law Enforcement', 'BeginLocation': 'LOTTS', 'EndLocation': 'LOTTS', 'BeginLat': 31.56, 'BeginLon': -82.89, 'EndLat': 31.56, 'EndLon': -82.89, 'EpisodeNarrative': 'An area of low pressure developed near the central Gulf coast states and tracked northeast along a nearly stationary front across south Georgia during the late afternoon of December 30th.  Pre-frontal storms developed across south Georgia where surface based lifted indices were near -2 to -3. Storms had persistent mesocyclone rotations and several storms developed bow echo signatures with outbound velocities around 40 to 50 knots along the leading edge of the bow around 3-4 kft above ground level prior to warning issuance.', 'EventNarrative': 'The county dispatch reported several trees were blown down along Quincey Batten Loop near State Road 206. The cost of tree removal was estimated.', 'StormSummary': {'TotalDamages': 2000, 'StartTime': '2007-12-30T16:00:00.0000000Z', 'EndTime': '2007-12-30T16:05:00.0000000Z', 'Details': {'Description': 'The county dispatch reported several trees were blown down along Quincey Batten Loop near State Road 206. The cost of tree removal was estimated.', 'Location': 'GEORGIA'}}},\n {'StartTime': datetime.datetime(2007, 12, 30, 18, 30, tzinfo=tzutc()), 'EndTime': datetime.datetime(2007, 12, 30, 18, 30, tzinfo=tzutc()), 'EpisodeId': 11833, 'EventId': 64921, 'State': 'GEORGIA', 'EventType': 'Thunderstorm Wind', 'InjuriesDirect': 0, 'InjuriesIndirect': 0, 'DeathsDirect': 0, 'DeathsIndirect': 0, 'DamageProperty': 25000, 'DamageCrops': 0, 'Source': 'Emergency Manager', 'BeginLocation': 'MIDWAY', 'EndLocation': 'MIDWAY', 'BeginLat': 31.81, 'BeginLon': -81.43, 'EndLat': 31.81, 'EndLon': -81.43, 'EpisodeNarrative': 'A strong cold front pushed through southeastern Georgia resulting in a couple strong thunderstorms.', 'EventNarrative': 'Eight homes were reported to have sustained damage by debris and tree branches. One home had brick siding separate from the home. Several trees were reported to have snapped off at the base.', 'StormSummary': {'TotalDamages': 25000, 'StartTime': '2007-12-30T18:30:00.0000000Z', 'EndTime': '2007-12-30T18:30:00.0000000Z', 'Details': {'Description': 'Eight homes were reported to have sustained damage by debris and tree branches. One home had brick siding separate from the home. Several trees were reported to have snapped off at the base.', 'Location': 'GEORGIA'}}},\n {'StartTime': datetime.datetime(2007, 12, 21, 9, 0, tzinfo=tzutc()), 'EndTime': datetime.datetime(2007, 12, 21, 10, 0, tzinfo=tzutc()), 'EpisodeId': 11824, 'EventId': 64901, 'State': 'GEORGIA', 'EventType': 'Flash Flood', 'InjuriesDirect': 0, 'InjuriesIndirect': 0, 'DeathsDirect': 0, 'DeathsIndirect': 0, 'DamageProperty': 6000, 'DamageCrops': 0, 'Source': 'Law Enforcement', 'BeginLocation': 'BONA BELLA', 'EndLocation': 'BONA BELLA', 'BeginLat': 32.1, 'BeginLon': -81.18, 'EndLat': 32.088, 'EndLon': -81.1799, 'EpisodeNarrative': 'Low pressure developed off the coast of South Carolina and Georgia as a potent upper level disturbance moved across the region. Moderate to heavy rains fell across the area, bringing much needed rainfall to some drought stricken areas. The pressure gradient between the area of low pressure and a wedge of high pressure across the piedmont of South Carolina and Georgia, associated with strong cold air damming, produced strong winds along the coast.', 'EventNarrative': 'Heavy rain completely flooded parts of Commerce Boulevard in Garden City, Georgia. The depth of the water was as high as 6 feet in places and several cars were reported to be completely submerged.', 'StormSummary': {'TotalDamages': 6000, 'StartTime': '2007-12-21T09:00:00.0000000Z', 'EndTime': '2007-12-21T10:00:00.0000000Z', 'Details': {'Description': 'Heavy rain completely flooded parts of Commerce Boulevard in Garden City, Georgia. The depth of the water was as high as 6 feet in places and several cars were reported to be completely submerged.', 'Location': 'GEORGIA'}}},\n {'StartTime': datetime.datetime(2007, 12, 21, 7, 45, tzinfo=tzutc()), 'EndTime': datetime.datetime(2007, 12, 21, 10, 0, tzinfo=tzutc()), 'EpisodeId': 11824, 'EventId': 64899, 'State': 'GEORGIA', 'EventType': 'Flash Flood', 'InjuriesDirect': 0, 'InjuriesIndirect': 0, 'DeathsDirect': 0, 'DeathsIndirect': 0, 'DamageProperty': 0, 'DamageCrops': 0, 'Source': 'Emergency Manager', 'BeginLocation': 'PORT WENTWORTH', 'EndLocation': 'PORT WENTWORTH', 'BeginLat': 32.15, 'BeginLon': -81.18, 'EndLat': 32.1604, 'EndLon': -81.183, 'EpisodeNarrative': 'Low pressure developed off the coast of South Carolina and Georgia as a potent upper level disturbance moved across the region. Moderate to heavy rains fell across the area, bringing much needed rainfall to some drought stricken areas. The pressure gradient between the area of low pressure and a wedge of high pressure across the piedmont of South Carolina and Georgia, associated with strong cold air damming, produced strong winds along the coast.', 'EventNarrative': 'Bonnie bridge Road was reported to be flooded by the Chatham County Emergency Manager.', 'StormSummary': {'TotalDamages': 0, 'StartTime': '2007-12-21T07:45:00.0000000Z', 'EndTime': '2007-12-21T10:00:00.0000000Z', 'Details': {'Description': 'Bonnie bridge Road was reported to be flooded by the Chatham County Emergency Manager.', 'Location': 'GEORGIA'}}},\n {'StartTime': datetime.datetime(2007, 12, 21, 9, 35, tzinfo=tzutc()), 'EndTime': datetime.datetime(2007, 12, 21, 10, 0, tzinfo=tzutc()), 'EpisodeId': 11824, 'EventId': 64902, 'State': 'GEORGIA', 'EventType': 'Flash Flood', 'InjuriesDirect': 0, 'InjuriesIndirect': 0, 'DeathsDirect': 0, 'DeathsIndirect': 0, 'DamageProperty': 5000, 'DamageCrops': 0, 'Source': 'Emergency Manager', 'BeginLocation': 'SAVANNAH', 'EndLocation': 'SAVANNAH', 'BeginLat': 32.06, 'BeginLon': -81.09, 'EndLat': 32.0599, 'EndLon': -81.0929, 'EpisodeNarrative': 'Low pressure developed off the coast of South Carolina and Georgia as a potent upper level disturbance moved across the region. Moderate to heavy rains fell across the area, bringing much needed rainfall to some drought stricken areas. The pressure gradient between the area of low pressure and a wedge of high pressure across the piedmont of South Carolina and Georgia, associated with strong cold air damming, produced strong winds along the coast.', 'EventNarrative': 'One house was evacuated due to flooding on East 33rd street.', 'StormSummary': {'TotalDamages': 5000, 'StartTime': '2007-12-21T09:35:00.0000000Z', 'EndTime': '2007-12-21T10:00:00.0000000Z', 'Details': {'Description': 'One house was evacuated due to flooding on East 33rd street.', 'Location': 'GEORGIA'}}},\n {'StartTime': datetime.datetime(2007, 12, 21, 9, 35, tzinfo=tzutc()), 'EndTime': datetime.datetime(2007, 12, 21, 10, 0, tzinfo=tzutc()), 'EpisodeId': 11824, 'EventId': 64903, 'State': 'GEORGIA', 'EventType': 'Flash Flood', 'InjuriesDirect': 0, 'InjuriesIndirect': 0, 'DeathsDirect': 0, 'DeathsIndirect': 0, 'DamageProperty': 0, 'DamageCrops': 0, 'Source': 'Emergency Manager', 'BeginLocation': '(SAV)SAVANNAH INTL A', 'EndLocation': 'GARDEN CITY', 'BeginLat': 32.1288, 'BeginLon': -81.1885, 'EndLat': 32.1229, 'EndLon': -81.1842, 'EpisodeNarrative': 'Low pressure developed off the coast of South Carolina and Georgia as a potent upper level disturbance moved across the region. Moderate to heavy rains fell across the area, bringing much needed rainfall to some drought stricken areas. The pressure gradient between the area of low pressure and a wedge of high pressure across the piedmont of South Carolina and Georgia, associated with strong cold air damming, produced strong winds along the coast.', 'EventNarrative': 'The intersection of Robert Miller and Highway 301 was reported to be flooded under the railroad crossing.', 'StormSummary': {'TotalDamages': 0, 'StartTime': '2007-12-21T09:35:00.0000000Z', 'EndTime': '2007-12-21T10:00:00.0000000Z', 'Details': {'Description': 'The intersection of Robert Miller and Highway 301 was reported to be flooded under the railroad crossing.', 'Location': 'GEORGIA'}}},\n {'StartTime': datetime.datetime(2007, 12, 21, 11, 15, tzinfo=tzutc()), 'EndTime': datetime.datetime(2007, 12, 21, 12, 0, tzinfo=tzutc()), 'EpisodeId': 11824, 'EventId': 64904, 'State': 'GEORGIA', 'EventType': 'Flash Flood', 'InjuriesDirect': 0, 'InjuriesIndirect': 0, 'DeathsDirect': 0, 'DeathsIndirect': 0, 'DamageProperty': 0, 'DamageCrops': 0, 'Source': 'Emergency Manager', 'BeginLocation': 'SAVANNAH', 'EndLocation': 'SAVANNAH', 'BeginLat': 32.05, 'BeginLon': -81.08, 'EndLat': 32.0744, 'EndLon': -81.081, 'EpisodeNarrative': 'Low pressure developed off the coast of South Carolina and Georgia as a potent upper level disturbance moved across the region. Moderate to heavy rains fell across the area, bringing much needed rainfall to some drought stricken areas. The pressure gradient between the area of low pressure and a wedge of high pressure across the piedmont of South Carolina and Georgia, associated with strong cold air damming, produced strong winds along the coast.', 'EventNarrative': 'Chatham County Emergency Management reported that several roads were closed due to flash flooding throughout northern Chatham County, including the city of Savannah, Georgia.', 'StormSummary': {'TotalDamages': 0, 'StartTime': '2007-12-21T11:15:00.0000000Z', 'EndTime': '2007-12-21T12:00:00.0000000Z', 'Details': {'Description': 'Chatham County Emergency Management reported that several roads were closed due to flash flooding throughout northern Chatham County, including the city of Savannah, Georgia.', 'Location': 'GEORGIA'}}},\n {'StartTime': datetime.datetime(2007, 12, 21, 8, 25, tzinfo=tzutc()), 'EndTime': datetime.datetime(2007, 12, 21, 10, 0, tzinfo=tzutc()), 'EpisodeId': 11824, 'EventId': 64900, 'State': 'GEORGIA', 'EventType': 'Flash Flood', 'InjuriesDirect': 0, 'InjuriesIndirect': 0, 'DeathsDirect': 0, 'DeathsIndirect': 0, 'DamageProperty': 0, 'DamageCrops': 0, 'Source': 'Emergency Manager', 'BeginLocation': 'CENTRAL JCT', 'EndLocation': 'CENTRAL JCT', 'BeginLat': 32.0878, 'BeginLon': -81.1193, 'EndLat': 32.0785, 'EndLon': -81.1179, 'EpisodeNarrative': 'Low pressure developed off the coast of South Carolina and Georgia as a potent upper level disturbance moved across the region. Moderate to heavy rains fell across the area, bringing much needed rainfall to some drought stricken areas. The pressure gradient between the area of low pressure and a wedge of high pressure across the piedmont of South Carolina and Georgia, associated with strong cold air damming, produced strong winds along the coast.', 'EventNarrative': 'The Chatham County Emergency Manager reported flooding on more than 10 roads in and north of Savannah, Georgia.', 'StormSummary': {'TotalDamages': 0, 'StartTime': '2007-12-21T08:25:00.0000000Z', 'EndTime': '2007-12-21T10:00:00.0000000Z', 'Details': {'Description': 'The Chatham County Emergency Manager reported flooding on more than 10 roads in and north of Savannah, Georgia.', 'Location': 'GEORGIA'}}},\n {'StartTime': datetime.datetime(2007, 8, 26, 13, 20, tzinfo=tzutc()), 'EndTime': datetime.datetime(2007, 8, 26, 13, 20, tzinfo=tzutc()), 'EpisodeId': 10444, 'EventId': 58115, 'State': 'GEORGIA', 'EventType': 'Thunderstorm Wind', 'InjuriesDirect': 0, 'InjuriesIndirect': 0, 'DeathsDirect': 0, 'DeathsIndirect': 0, 'DamageProperty': 0, 'DamageCrops': 0, 'Source': 'Trained Spotter', 'BeginLocation': 'MOUNTAIN CITY', 'EndLocation': 'MOUNTAIN CITY', 'BeginLat': 34.92, 'BeginLon': -83.38, 'EndLat': 34.92, 'EndLon': -83.38, 'EpisodeNarrative': 'An isolated severe storm affected extreme northeast Georgia during the afternoon hours.', 'EventNarrative': 'Six trees blown down around Mountain City.', 'StormSummary': {'TotalDamages': 0, 'StartTime': '2007-08-26T13:20:00.0000000Z', 'EndTime': '2007-08-26T13:20:00.0000000Z', 'Details': {'Description': 'Six trees blown down around Mountain City.', 'Location': 'GEORGIA'}}},\n {'StartTime': datetime.datetime(2007, 8, 23, 14, 20, tzinfo=tzutc()), 'EndTime': datetime.datetime(2007, 8, 23, 14, 20, tzinfo=tzutc()), 'EpisodeId': 10412, 'EventId': 57947, 'State': 'GEORGIA', 'EventType': 'Hail', 'InjuriesDirect': 0, 'InjuriesIndirect': 0, 'DeathsDirect': 0, 'DeathsIndirect': 0, 'DamageProperty': 0, 'DamageCrops': 0, 'Source': 'Park/Forest Service', 'BeginLocation': 'CLAYTON', 'EndLocation': 'CLAYTON', 'BeginLat': 34.7778, 'BeginLon': -83.5245, 'EndLat': 34.7778, 'EndLon': -83.5245, 'EpisodeNarrative': 'An isolated severe storm produced large hail in extreme northeast Georgia.', 'EventNarrative': 'Ping-pong ball size hail reported on Seed Lake Rd.', 'StormSummary': {'TotalDamages': 0, 'StartTime': '2007-08-23T14:20:00.0000000Z', 'EndTime': '2007-08-23T14:20:00.0000000Z', 'Details': {'Description': 'Ping-pong ball size hail reported on Seed Lake Rd.', 'Location': 'GEORGIA'}}}]",
        "text/html": ""
    },
    "metadata": {},
    "execution_count": 12,
    "output_type": "execute_result"
}
],
            "execution_count": 12
        }
    ]
}