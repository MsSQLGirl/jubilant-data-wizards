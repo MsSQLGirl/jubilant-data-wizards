{
    "metadata": {
        "kernelspec": {
            "name": "SQL",
            "display_name": "SQL",
            "language": "sql"
        },
        "language_info": {
            "name": "kusto",
            "version": ""
        }
    },
    "nbformat_minor": 2,
    "nbformat": 4,
    "cells": [
        {
            "cell_type": "markdown",
            "source": [
                "# Cross cluster querying with Kusto Notebook in Azure Data Studio\n",
                "\n",
                "This example uses help.kusto.windows.net StormEvents data and joining it with my own private Azure Data Explorer cluster jukoesmaadx that is in the West Us region. \n",
                "\n",
                "The goal is to get the number of Storm Event Counts for the top 3 most populated State. \n",
                "\n",
                "This example exhibits using `cluster('cluster.region').databse('dbname')` syntax.\n",
                ""
            ],
            "metadata": {
                "azdata_cell_guid": "9001d8c9-6602-4938-a50e-41cfa3598f3a"
            }
        },
        {
            "cell_type": "markdown",
            "source": [
                "First, change the Kernel to **Kusto** and Attach to **help.kusto.windows.net** and set the database to **Samples**. Run the following query to ensure that it works. "
            ],
            "metadata": {
                "azdata_cell_guid": "4a911ec4-318d-46be-a3b5-7617def51e64"
            }
        },
        {
            "cell_type": "code",
            "source": [
                "StormEvents \r\n",
                "| summarize EventCount = count() by State\r\n",
                "| take 3"
            ],
            "metadata": {
                "azdata_cell_guid": "9842e645-5c75-4a5f-86c6-a7d3fb718880",
                "tags": []
            },
            "outputs": [
                {
                    "output_type": "display_data",
                    "data": {
                        "text/html": "Commands completed successfully."
                    },
                    "metadata": {}
                },
                {
                    "output_type": "display_data",
                    "data": {
                        "text/html": "Total execution time: 00:00:00.194"
                    },
                    "metadata": {}
                },
                {
                    "output_type": "execute_result",
                    "metadata": {
                        "resultSet": {
                            "id": 0,
                            "batchId": 0,
                            "rowCount": 3,
                            "complete": false,
                            "columnInfo": [
                                {
                                    "isBytes": false,
                                    "isChars": false,
                                    "isSqlVariant": false,
                                    "isUdt": false,
                                    "isXml": false,
                                    "isJson": false,
                                    "sqlDbType": 0,
                                    "isHierarchyId": false,
                                    "isUnknownType": false,
                                    "allowDBNull": true,
                                    "baseCatalogName": "NewDataSet",
                                    "baseColumnName": "State",
                                    "baseSchemaName": null,
                                    "baseServerName": null,
                                    "baseTableName": "Table_0",
                                    "columnName": "State",
                                    "columnOrdinal": 0,
                                    "columnSize": -1,
                                    "isAliased": null,
                                    "isAutoIncrement": false,
                                    "isExpression": null,
                                    "isHidden": null,
                                    "isIdentity": null,
                                    "isKey": false,
                                    "isLong": false,
                                    "isReadOnly": false,
                                    "isUnique": false,
                                    "numericPrecision": null,
                                    "numericScale": null,
                                    "udtAssemblyQualifiedName": null,
                                    "dataType": "System.String, System.Private.CoreLib, Version=4.0.0.0, Culture=neutral, PublicKeyToken=7cec85d7bea7798e",
                                    "dataTypeName": "dynamic"
                                },
                                {
                                    "isBytes": false,
                                    "isChars": false,
                                    "isSqlVariant": false,
                                    "isUdt": false,
                                    "isXml": false,
                                    "isJson": false,
                                    "sqlDbType": 0,
                                    "isHierarchyId": false,
                                    "isUnknownType": false,
                                    "allowDBNull": true,
                                    "baseCatalogName": "NewDataSet",
                                    "baseColumnName": "EventCount",
                                    "baseSchemaName": null,
                                    "baseServerName": null,
                                    "baseTableName": "Table_0",
                                    "columnName": "EventCount",
                                    "columnOrdinal": 1,
                                    "columnSize": -1,
                                    "isAliased": null,
                                    "isAutoIncrement": false,
                                    "isExpression": null,
                                    "isHidden": null,
                                    "isIdentity": null,
                                    "isKey": false,
                                    "isLong": false,
                                    "isReadOnly": false,
                                    "isUnique": false,
                                    "numericPrecision": null,
                                    "numericScale": null,
                                    "udtAssemblyQualifiedName": null,
                                    "dataType": "System.Int64, System.Private.CoreLib, Version=4.0.0.0, Culture=neutral, PublicKeyToken=7cec85d7bea7798e",
                                    "dataTypeName": "dynamic"
                                }
                            ],
                            "specialAction": null
                        }
                    },
                    "execution_count": 1,
                    "data": {
                        "application/vnd.dataresource+json": {
                            "schema": {
                                "fields": [
                                    {
                                        "name": "State"
                                    },
                                    {
                                        "name": "EventCount"
                                    }
                                ]
                            },
                            "data": [
                                {
                                    "0": "ATLANTIC SOUTH",
                                    "1": "193"
                                },
                                {
                                    "0": "FLORIDA",
                                    "1": "1042"
                                },
                                {
                                    "0": "GEORGIA",
                                    "1": "1983"
                                }
                            ]
                        },
                        "text/html": [
                            "<table>",
                            "<tr><th>State</th><th>EventCount</th></tr>",
                            "<tr><td>ATLANTIC SOUTH</td><td>193</td></tr>",
                            "<tr><td>FLORIDA</td><td>1042</td></tr>",
                            "<tr><td>GEORGIA</td><td>1983</td></tr>",
                            "</table>"
                        ]
                    }
                }
            ],
            "execution_count": 1
        },
        {
            "cell_type": "markdown",
            "source": [
                "The AAD account that I used earlier to connect to **help.kusto.windows.net**, should also allow me to connect to my **jukoesmaadx** cluster. \r\n",
                "\r\n",
                "> **Tip**: since I have multiple accounts, I need to ensure that I'm logging in to the right AAD account :)\r\n",
                "\r\n",
                "\r\n",
                "The following query allows me to perform cross cluster querying with joins. This retrieves the number of Storm Event Counts for the top 3 most populated State. "
            ],
            "metadata": {
                "azdata_cell_guid": "ec635ab5-a4b7-4c2d-afb6-844429f2b218"
            }
        },
        {
            "cell_type": "code",
            "source": [
                "let stormSummarized = StormEvents \r\n",
                "| summarize EventCount = count() by State = toupper(State);\r\n",
                "cluster('jukoesmaadx.westus').database('mykustodb').StatePopulation\r\n",
                "| project State = toupper(State), Population\r\n",
                "| join (stormSummarized) on State\r\n",
                "| project State, Population, EventCount\r\n",
                "| sort by Population \r\n",
                "| take 3\r\n",
                "\r\n",
                ""
            ],
            "metadata": {
                "azdata_cell_guid": "6e716161-996b-45de-af18-2c79fc6984c5"
            },
            "outputs": [
                {
                    "output_type": "display_data",
                    "data": {
                        "text/html": "Commands completed successfully."
                    },
                    "metadata": {}
                },
                {
                    "output_type": "display_data",
                    "data": {
                        "text/html": "Total execution time: 00:00:00.297"
                    },
                    "metadata": {}
                },
                {
                    "output_type": "execute_result",
                    "execution_count": 1,
                    "data": {
                        "application/vnd.dataresource+json": {
                            "schema": {
                                "fields": [
                                    {
                                        "name": "State"
                                    },
                                    {
                                        "name": "Population"
                                    },
                                    {
                                        "name": "EventCount"
                                    }
                                ]
                            },
                            "data": [
                                {
                                    "0": "CALIFORNIA",
                                    "1": "39512223",
                                    "2": "898"
                                },
                                {
                                    "0": "TEXAS",
                                    "1": "28995881",
                                    "2": "4701"
                                },
                                {
                                    "0": "FLORIDA",
                                    "1": "21477737",
                                    "2": "1042"
                                }
                            ]
                        },
                        "text/html": "<table><tr><th>State</th><th>Population</th><th>EventCount</th></tr><tr><td>CALIFORNIA</td><td>39512223</td><td>898</td></tr><tr><td>TEXAS</td><td>28995881</td><td>4701</td></tr><tr><td>FLORIDA</td><td>21477737</td><td>1042</td></tr></table>"
                    },
                    "metadata": {
                        "resultSet": {
                            "id": 0,
                            "batchId": 0,
                            "rowCount": 3,
                            "complete": true,
                            "columnInfo": [
                                {
                                    "isBytes": false,
                                    "isChars": false,
                                    "isSqlVariant": false,
                                    "isUdt": false,
                                    "isXml": false,
                                    "isJson": false,
                                    "sqlDbType": 0,
                                    "isHierarchyId": false,
                                    "isUnknownType": false,
                                    "allowDBNull": true,
                                    "baseCatalogName": "NewDataSet",
                                    "baseColumnName": "State",
                                    "baseSchemaName": null,
                                    "baseServerName": null,
                                    "baseTableName": "Table_0",
                                    "columnName": "State",
                                    "columnOrdinal": 0,
                                    "columnSize": -1,
                                    "isAliased": null,
                                    "isAutoIncrement": false,
                                    "isExpression": null,
                                    "isHidden": null,
                                    "isIdentity": null,
                                    "isKey": false,
                                    "isLong": false,
                                    "isReadOnly": false,
                                    "isUnique": false,
                                    "numericPrecision": null,
                                    "numericScale": null,
                                    "udtAssemblyQualifiedName": null,
                                    "dataType": "System.String, System.Private.CoreLib, Version=4.0.0.0, Culture=neutral, PublicKeyToken=7cec85d7bea7798e",
                                    "dataTypeName": "dynamic"
                                },
                                {
                                    "isBytes": false,
                                    "isChars": false,
                                    "isSqlVariant": false,
                                    "isUdt": false,
                                    "isXml": false,
                                    "isJson": false,
                                    "sqlDbType": 0,
                                    "isHierarchyId": false,
                                    "isUnknownType": false,
                                    "allowDBNull": true,
                                    "baseCatalogName": "NewDataSet",
                                    "baseColumnName": "Population",
                                    "baseSchemaName": null,
                                    "baseServerName": null,
                                    "baseTableName": "Table_0",
                                    "columnName": "Population",
                                    "columnOrdinal": 1,
                                    "columnSize": -1,
                                    "isAliased": null,
                                    "isAutoIncrement": false,
                                    "isExpression": null,
                                    "isHidden": null,
                                    "isIdentity": null,
                                    "isKey": false,
                                    "isLong": false,
                                    "isReadOnly": false,
                                    "isUnique": false,
                                    "numericPrecision": null,
                                    "numericScale": null,
                                    "udtAssemblyQualifiedName": null,
                                    "dataType": "System.Int32, System.Private.CoreLib, Version=4.0.0.0, Culture=neutral, PublicKeyToken=7cec85d7bea7798e",
                                    "dataTypeName": "dynamic"
                                },
                                {
                                    "isBytes": false,
                                    "isChars": false,
                                    "isSqlVariant": false,
                                    "isUdt": false,
                                    "isXml": false,
                                    "isJson": false,
                                    "sqlDbType": 0,
                                    "isHierarchyId": false,
                                    "isUnknownType": false,
                                    "allowDBNull": true,
                                    "baseCatalogName": "NewDataSet",
                                    "baseColumnName": "EventCount",
                                    "baseSchemaName": null,
                                    "baseServerName": null,
                                    "baseTableName": "Table_0",
                                    "columnName": "EventCount",
                                    "columnOrdinal": 2,
                                    "columnSize": -1,
                                    "isAliased": null,
                                    "isAutoIncrement": false,
                                    "isExpression": null,
                                    "isHidden": null,
                                    "isIdentity": null,
                                    "isKey": false,
                                    "isLong": false,
                                    "isReadOnly": false,
                                    "isUnique": false,
                                    "numericPrecision": null,
                                    "numericScale": null,
                                    "udtAssemblyQualifiedName": null,
                                    "dataType": "System.Int64, System.Private.CoreLib, Version=4.0.0.0, Culture=neutral, PublicKeyToken=7cec85d7bea7798e",
                                    "dataTypeName": "dynamic"
                                }
                            ],
                            "specialAction": {
                                "none": true,
                                "expectYukonXMLShowPlan": false
                            }
                        }
                    }
                }
            ],
            "execution_count": 1
        }
    ]
}