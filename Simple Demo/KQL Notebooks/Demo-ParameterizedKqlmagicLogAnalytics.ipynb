{
    "metadata": {
        "kernelspec": {
            "name": "python3",
            "display_name": "Python 3",
            "language": "python"
        },
        "language_info": {
            "name": "python",
            "version": "3.6.6",
            "mimetype": "text/x-python",
            "codemirror_mode": {
                "name": "ipython",
                "version": 3
            },
            "pygments_lexer": "ipython3",
            "nbconvert_exporter": "python",
            "file_extension": ".py"
        }
    },
    "nbformat_minor": 2,
    "nbformat": 4,
    "cells": [
        {
            "cell_type": "markdown",
            "source": [
                "# Test Parameterized Log Analytics notebook\n",
                "\n",
                "Users need to provide the Log Analytics workspace name and the App Key to be able to connect.\n",
                "\n",
                "This example specifically analyzes Kubernetes Nodes.\n",
                "\n",
                "These are the paramters that you can use:\n",
                "\n",
                "1. workspace='DEMO\\_WORKSPACE'\n",
                "2. appkey='DEMO\\_KEY'\n",
                "\n",
                "This notebook queries data and uses the render operator to visualize it. The visualization uses the ploy.ly library in Python. \n",
                "\n",
                "> Kqlmagic is a command that extends the capabilities of the Python kernel in Azure Data Studio notebooks. You can combine Python and Kusto query language (KQL) to query and visualize data using rich Plot.ly library integrated with render commands. Kqlmagic brings you the benefit of notebooks, data analysis, and rich Python capabilities all in the same location. Supported data sources with Kqlmagic include Azure Data Explorer, Application Insights, and Azure Monitor logs.\n",
                "\n",
                "  \n",
                "\n",
                "Prerequisites:\n",
                "\n",
                "1. Azure Data Studio \n",
                "2. Python \n",
                "3. Install and set up Kqlmagic in a notebook \n",
                "\n",
                "More info: [Notebooks with Kqlmagic (Kusto Query Language) in Azure Data Studio - Azure Data Studio | Microsoft Docs](https://docs.microsoft.com/en-us/sql/azure-data-studio/notebooks/notebooks-kqlmagic?view=sql-server-ver15#kqlmagic-with-application-insights)"
            ],
            "metadata": {
                "azdata_cell_guid": "cd509d75-db79-43d9-a3b7-a6a8960c358b"
            }
        },
        {
            "cell_type": "code",
            "source": [
                "logAnalyticsWorkspace = ''\r\n",
                "logAnalyticsAppKey = ''"
            ],
            "metadata": {
                "azdata_cell_guid": "0796c087-d81e-4ad5-bbaf-c93afee7ac56",
                "tags": [
                    "parameters"
                ]
            },
            "outputs": [],
            "execution_count": null
        },
        {
            "cell_type": "code",
            "source": [
                "%reload_ext Kqlmagic"
            ],
            "metadata": {
                "azdata_cell_guid": "abb045ac-dee8-4c58-b912-8e4f25bac4b2"
            },
            "outputs": [],
            "execution_count": null
        },
        {
            "cell_type": "markdown",
            "source": [
                "Connect to Azure Log Analytics (Azure Monitor Log)"
            ],
            "metadata": {
                "azdata_cell_guid": "07579cb8-09e8-4ab8-90af-dbc74f767322"
            }
        },
        {
            "cell_type": "code",
            "source": [
                "%kql loganalytics://workspace=logAnalyticsWorkspace;appkey=logAnalyticsAppKey;alias='myworkspace'"
            ],
            "metadata": {
                "azdata_cell_guid": "d80ff325-0f0c-465d-b3ff-33181117d166"
            },
            "outputs": [],
            "execution_count": null
        },
        {
            "cell_type": "markdown",
            "source": [
                "Analyze Kubernetes Nodes  by Status"
            ],
            "metadata": {
                "azdata_cell_guid": "e04e130b-d614-4e85-9f0e-8fc501ad3bf8"
            }
        },
        {
            "cell_type": "code",
            "source": [
                "%%kql\r\n",
                "KubeNodeInventory\r\n",
                "| summarize event_count=count() by Status, bin(TimeGenerated, 1d)\r\n",
                "| render timechart title= 'Daily Kubernetes Nodes'"
            ],
            "metadata": {
                "azdata_cell_guid": "6bb1dc83-0f23-4662-96de-c4be344ec2b7"
            },
            "outputs": [],
            "execution_count": null
        }
    ]
}