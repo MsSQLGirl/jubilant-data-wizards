{
    "metadata": {
        "kernelspec": {
            "name": "python3",
            "display_name": "Python 3",
            "language": "python"
        },
        "language_info": {
            "name": "python",
            "version": "3.6.6",
            "mimetype": "text/x-python",
            "codemirror_mode": {
                "name": "ipython",
                "version": 3
            },
            "pygments_lexer": "ipython3",
            "nbconvert_exporter": "python",
            "file_extension": ".py"
        }
    },
    "nbformat_minor": 2,
    "nbformat": 4,
    "cells": [
        {
            "cell_type": "markdown",
            "source": [
                "# Demo: Analyzing Log Analytics DAta with Azure Log Reader App Client Secret authentication\r\n",
                "\r\n",
                "-   Author: Julie Koesmarno ([@MsSQLGirl](http://twitter.com/MsSQLgirl))\r\n",
                "-   Last updated: Nov 8, 2020\r\n",
                "\r\n",
                "This notebook also serves as an example of a **parameterized** notebook. Based on the parameters, the notebook will connect to Log Analytics based on a Log Anaytics connection file and execute queries. In the examples below, the Log Analytics workspace I'm using here, stores Azure SQL log data. \r\n",
                "\r\n",
                "### **Parameters (variables)**\r\n",
                "\r\n",
                "1. laConnFile = Provide the file path that contains the Log Analytics workspace connection details.  \r\n",
                "    The expected content format in the file is:  \r\n",
                "    ```\r\n",
                "    tenantId:<your Azure Tenant ID>  \r\n",
                "    clientId:<your Log Reader App ID that has Log Analytics Reader access to your Log Analytics workspace>  \r\n",
                "    clientSecret:<the Client Secret value of your Log Reader App ID>  \r\n",
                "    workspaceId:<the Workspace ID of your Log Analytics worspace>  \r\n",
                "    ```\r\n",
                "2. showClearText = put `Y` for debugging purposes. The default value is `N`.  \r\n",
                "\r\n",
                "3. laAlias = an alias to your connection. Provide a value here so that the Workspace ID is not printed in clear text. The default value is `myLAConnection`.\r\n",
                "\r\n",
                "4. logicalServerName = this is a parameter that will be passed to the KQL queries to filter AzureDiagnostics table.  \r\n",
                "\r\n",
                "This notebook was wrirten in Azure Data Studio; and can be executed using as is or via papermill. \r\n",
                "\r\n",
                "### **How to execute?**\r\n",
                "\r\n",
                "There are two ways of running this:\r\n",
                "1. For testing purposes, you can run each cell at a time. Modifiying the Parameters code cell to ensure that it works. \r\n",
                "2. For parameterized run, you can use papermill. Here's a notebook on how to do so. \r\n",
                "\r\n",
                "\r\n",
                "> **Announcement**: Join my presentation on 28 Nov 2020 at 11:30am SGT on [Kusto Query Language (KQL) in Azure Data Studio](https://www.sqlsaturday.com/1019/Sessions/Details/sid/108601)\r\n",
                "\r\n",
                "\r\n",
                "### **Pre-requisites**\r\n",
                "If you are new to Kqlmagic, the following would be handy for you to get up to speed:\r\n",
                "\r\n",
                "-   [Kqlmagic in Azure Data Studio](https://docs.microsoft.com/sql/azure-data-studio/notebooks/notebooks-kqlmagic) - this explains what Kqlmagic is, how to install, and some of the use cases.\r\n",
                "-   [Check Kqlmagic Installation](https://github.com/MsSQLGirl/jubilant-data-wizards/blob/main/Useful%20Notebooks/CheckKqlmagicInstallation.ipynb) - this is the notebook that you can use to follow and install Kqlmagic.\r\n",
                "-   Get Azure Data Studio - [http://aka.ms/getAzureDataStudio](http://aka.ms/getAzureDataStudio)\r\n",
                "\r\n",
                "**Let's get started!**\r\n",
                "\r\n",
                "This notebook will show you how to:\r\n",
                "\r\n",
                "1. Define parameters\r\n",
                "2. Read Log Analytics connection file\r\n",
                "3. Load Kqlmagic extension\r\n",
                "4. Connect to the Log Analytics workspace as per the configuration defined in the Log Analtyics connectionfile. \r\n",
                "5. Run some KQL queries\r\n",
                "    Example 1: Get 10 rows from AzureDiagnostics with some filters  \r\n",
                "    Example 2: Create a timechart  \r\n",
                "    Example 3: Summarize Action Name from the AzureDiagnostic table  \r\n",
                "\r\n",
                "Lastly, I've added FAQ section at the end of the notebook, in case you are new to setting up Log Analytics reader app, and/or setting up Log Analytics to capture log / diagnosis for Azure SQL servers/databases.\r\n",
                "\r\n",
                "> **Tip**: Please ensure that this notebook Kernel is set to Python.\r\n",
                ""
            ],
            "metadata": {
                "azdata_cell_guid": "08fc5c65-96cb-429b-8cfa-e6297ae009a8"
            }
        },
        {
            "cell_type": "markdown",
            "source": [
                "## Step 1. Define Parameters"
            ],
            "metadata": {
                "azdata_cell_guid": "19036dbd-831d-464e-babc-ce28d959cf02"
            }
        },
        {
            "cell_type": "code",
            "source": [
                "laConnFile = 'c:\\Temp\\LAConnection.txt'\r\n",
                "showClearText = 'N'\r\n",
                "laAlias = 'myLAConnection'\r\n",
                "logicalServerName = 'myDatabaseName'"
            ],
            "metadata": {
                "azdata_cell_guid": "3295895f-1aa8-4d4d-a49b-362308bd5d38",
                "tags": [
                    "parameters"
                ]
            },
            "outputs": [],
            "execution_count": 1
        },
        {
            "cell_type": "markdown",
            "source": [
                "## Step 2. Read Log Analytics Connection file\r\n",
                "\r\n",
                "This code will read the file from the path provided. \r\n",
                "\r\n",
                "> **Note**: you can create an empty txt file with the details below. Replace them with real values of course! :D  \r\n",
                "Not sure how to start? Check out The Solution section in this blog post by Dennes Torres: https://www.red-gate.com/simple-talk/blogs/connecting-log-analytics-using-azure-data-studio-kql/\r\n",
                "\r\n",
                "    ```\r\n",
                "    tenantId:<your Azure Tenant ID>  \r\n",
                "    clientId:<your Log Reader App ID that has Log Analytics Reader access to your Log Analytics workspace>  \r\n",
                "    clientSecret:<the Client Secret value of your Log Reader App ID>  \r\n",
                "    workspaceId:<the Workspace ID of your Log Analytics worspace>  \r\n",
                "    ```"
            ],
            "metadata": {
                "azdata_cell_guid": "9ea07afd-7d48-41e9-b1dd-20026730b656"
            }
        },
        {
            "cell_type": "code",
            "source": [
                " with open(laConnFile, 'r') as reader:\r\n",
                "        tenantId = reader.readline().replace('tenantId:','').rstrip()\r\n",
                "        clientId = reader.readline().replace('clientId:','').rstrip()\r\n",
                "        clientSecret = reader.readline().replace('clientSecret:','').rstrip()\r\n",
                "        workspaceId = reader.readline().replace('workspaceId:','').rstrip()\r\n",
                "\r\n",
                "if showClearText == 'Y' :\r\n",
                "        print(\"tenantId:\" + tenantId)\r\n",
                "        print(\"clientId:\" + clientId)\r\n",
                "        print(\"clientSecret:\" + clientSecret)\r\n",
                "        print(\"workspaceId:\" + workspaceId)\r\n",
                "else : \r\n",
                "        print(\"tenantId:XXXX\")\r\n",
                "        print(\"clientId:XXXX\")\r\n",
                "        print(\"clientSecret:XXXX\")\r\n",
                "        print(\"workspaceId:XXXX\")"
            ],
            "metadata": {
                "azdata_cell_guid": "7b0bbced-1a0e-4bbc-a535-f05f28b975c3"
            },
            "outputs": [
                {
                    "output_type": "stream",
                    "name": "stdout",
                    "text": "tenantId:XXXX\nclientId:XXXX\nclientSecret:XXXX\nworkspaceId:XXXX\n"
                }
            ],
            "execution_count": 2
        },
        {
            "cell_type": "markdown",
            "source": [
                "## Step 3. Load Kqlmagic extension"
            ],
            "metadata": {
                "azdata_cell_guid": "c9a11ece-64fb-4bfd-96b8-fe706056001f"
            }
        },
        {
            "cell_type": "code",
            "source": [
                "%reload_ext Kqlmagic"
            ],
            "metadata": {
                "azdata_cell_guid": "c75679ee-4756-4ae2-bac2-ee6a4b973d90"
            },
            "outputs": [
                {
                    "output_type": "display_data",
                    "data": {
                        "text/plain": "<IPython.core.display.HTML object>",
                        "text/html": "<html>\n            <head>\n            <title>Kqlmagic - banner</title>\n            <style>\n            .kql-magic-banner {\n                display: flex; \n                background-color: #d9edf7;\n            }\n            .kql-magic-banner > div {\n                margin: 10px; \n                padding: 20px; \n                color: #3a87ad; \n                font-size: 13px;\n            }\n            </style>\n            </head>\n            <body>\n                <div class='kql-magic-banner'>\n                    <div><img src='data:image/png;base64,iVBORw0KGgoAAAANSUhEUgAAALsAAACcCAYAAAAnOdrkAAAQeklEQVR42u2di5MVxRXGe5cFFhEQQcGVx4KgLg8XLFCDCigqkvgCSVQqIgRNTP6R/AcmMRpjaWLQEEWRCGrEIKXIGxUMIvJUkKcisryWfB9zVm8w1Hbfnefe76vq6ru70zO9c3/Tc6bnnNM14347z0lSJahGp0AS7JIk2CVJsEuSYJckwS5Jgl2SBLskCXZJEuySJNglwS5Jgl2SBLskVQbsp0+fvgRVT8/Nv66qqtqp0y6Bm1pUdSi1HpsfR9kDdg5nBjs63A/Vb1DGeDZZjzZPotMb9XVXNOhVqKag3G3At6Z9KK+h3fNgpymrkf0ilInowI88/0luvwhFsFe2uqIMR7kD7PTy4OYIqt0EHiUz2Dt43oZaxG2r9V1XvDiyd0Tp7Ll9F5RO1k4PqJIk2CVJsEuCXZIEuyQJdkkS7JIk2CVJsEuSYJckwS5Jgl2SBLsk2CVJsEuSYJckwS5Jgl2SBLskCXZJEuySJNjbiSyJUA8XpZ1gFP7ZkfUnUI66KPHU1zpjFQ47gGG6htoymjYBoBMZwF1npT/KAKsvRunmorQl323uovwpe1E+R9ttqDehbEfZhb6fDDxuR49NT2G/3wr2fILeiOp6g8U33wgh4ii5Bu2XhkDThn72cVHCIGZVG41ymfWZo3oP9KGqlfZMIHSQ0Lso+dT7+N37/IymR1ppy2MywVVvj65+he1XYJ9LBXu+QCfkc1AmoVwY0JS5BJcZKCcT7iNzZI5FmYgyDmUojnlh6H7QpquZOkxFeA32exvqdShv4fObvHCxTfM5RnSC/gjKII9DMSPX+Wj3IfZ3ULDnA/RrUf0SZTq+lPMC225B9TZHxwT7180gu91AH45+dopr/9gXL6JLcJyrUV+H8jI+L8bvPz9r0442og/C38736Pdgu+N0KiobNe0MdJoBD6NMKwP09aj+iPIc2u5PqH8NqO60MhbH6ZzUucC+CeZUHPNK1JejnovfrdMDavsAfZTdkqf7jFRpgm5ZazmKz0D5iY2+qQjHasDxCX5f1E8V2eYW7P8L+v34Mi/IGegcvX+MMhtlcpwmSwDwvdCPGWZzV+Pnt10bk4QK9mxBfwBfYs/AtqtQ/QllbkKg05S6h6YV9n9TlueJJhP6w3zoTTaD87lgLxbojW0AfTmqP6C8iLaHEjJdOKI/iv3fGNM+Obd+quUBM/Quwe0NeF7Yi51/ymjBnjHofNibY6ZLKOjvGujz0PabhLo4AeWhtoCOfrJvfGH0mY3EnPI7ZibIefh7X/f9y6dLcayOHsB3R7tpbI/S3VXQW/SagoI+FNUslPtC56bTAN36dz/KrWW2/xLVGpT3UFaibDHQObKfdN8n8+eDOB8+ebwxaMepxsbWZqLw9wE2wh/B51rBnm/QOaI/aNNreQOdo+VdNGHKmVq0Ps5H+RfKx60smrXfRv4VaPcGQecFhs+c8RnWCvB9ZLMXA/SZodN3KZku1ESUe3GM/oH9I9QLOStE0ENXhsP2vBu8zjecqD9C/QDqSfi9nP2KBnsRQMdxhtjsy3VlmC0voDyN/q1o46zLF9jfX8zGP0BzJfQFm2DPFnS+qp6d8xGdok/O+Nact87q3yEbzR9Hsw1xdML8ejjK00uxGfX0JN/WCvb4QKc58HOWPIOOY9Fb8WYc57LAplzu8Nm4QD8L+mV8iYSPnGO/N+QiFOzpg05PvpkumsLrn1fQTfTLGRvYR3pY/hX9W5lUp+gegONw1oazVjcL9vyC/iDNF3xhg/MMuvmk04QZEtBmB6q/26xL0uIxON04sIw7j2BPCfQ5oV9OBiM6Rc/Ca3xe6lgfGSTCqcKFrQVYxDS6H8MhX8fHRtSPVOoMTY1Ab3N/+cqevuOXBzTj9OCr6OOmtM4rjrUFfV3kIl/6UYI9e9BpDtA77xdlgE5PPnovzk9xRKf4LEHf9N4BbeiXszKDU8xpzXdwrkZU4uhekyPQe6H6GcosfBFDAtsy/Oz3KAvQtinlrvN5oiGgr5z/Xo5+bkv7HDNaCcd/Cx/pgTlcsGcHOt/40RW2oQzQH0N5JYOMANVmvtQFNNuKsiHD081opdWCPVvQ+eB0VVFAN12EcoXzi85v0acouzI85Uy3sRrnjr47vQS7QPcV564H4/jVnn2mv8snLnLgykQ8V+gH7yw7UQR7SqDTB/2+AoNOXRxowhDyzSk/QJ9rdKc51SjYk1VHCwC+02z0UNDXuiiULmvQKQZPhASOfGmgZS1mEtuMc3k8i5jYSoGdxxvoouk6ugCMLmMfvP1uzBp0S61HX52QTAZ7sjRhSsRAEEY/HbK7k2BP6LZ/B0dEwFruiw1OS47kCI99nM7w3HUxmzfEfXYfStYmDO12ekJ+4aIMaII9oZPMKJ7b27iPK/FF0Wf8Y5dg5i5P2Hta7XMnOI7qgIsy7+ZBe/Nw4VXEA2obxZciG5i9FvDvyagP9A/vHuA2e8zMhqacnMPDVgR7nsVESACdD7j0MflbRt3oGGjCEPavrM6DmgR7cYC/iikhUBiUvLYAsNOM+SaNNNgBsH8l2ItlznwA4LcDogMpH7uDC0sydDJHo/p3F59gL87o3hugM20F3wjOy2Bkry0w7MwsRj/3Zt83wII9RvF1Ok58t0DgmRxoqpkzH6U8sncKhL0pR6e75eI76Qqcc72QsANWho5xiZRRgDZ0enKSmTM7UlxMq8qFZcJtNrDyNLIfFezpg97i68J58/FcggXQevttYNu+ls6NI/uCFGEJgbeD81uoK03YT9lFKJs9JdAZG8nAi1fMI4+xmUygPyAwYSmXl7kH7TalFO5G0ENWjyPoXXL03bdcfNWCPXnI+aqf6d4YSrewxdeFadzwp5ddFFwwNWB0r0a7yS5K/bYrhUDm0AfODq68ZSqT/O675Oxu0/5g5wwAR3Ib0Rf9Hx8Xxme+xPWAQiKXsG0/Pqy6aHZmUcL/xonAkb0mZ7CfudP4ZkQQ7G0D/TGc6MXngPa0mTMjmBEscI0k5lm8G+3oN/5pgv8KZ1ZClkjkQyCXeemEfh3PyXdfMemqsxrZOeL+7lyglwDP4GCmbh6BMiVgdKe//BQzZ55gzpSE/g+O6vtxjGOeeRQJFtd74rZ5gP3MxSfYkxvVd9uo/qZnk/fNnLk8JLUGtq0vmZ1ZkiTsVvvAXuolmQeflDOObII9OdHrb6uvf4jNzvAOMNIyWYW8nr/RZme2oF3s0UFM2YF90+PyiPOIVrIH6F45mpHp5sKirAR7GWoOhGorIHnJZmduCmhXyxUozJz5c0KRTQyAoDNVP8/tmQSqR06++94a2fMpprV7kWmhuR5QAPBDSmZnliXQL8aUhjignVl8F2V9Ds5pX9nsORSg/RbQvmbmzOzA1G032uzMZ3zoTcAs2xkIOy/ANxgal9X5xPFpwvTXyJ5f4D+x2RmaM+MC2nG6j3GvH6J+Jua4VY7qjNLnqnNdPbZnUqUGq/dkeDppq9eHLnsv2NPVUpSXuewM/WECgG+wuNWNLkruGdcF+DX2y30ynrOrx/bVtn5rXcawX+oCcskL9mxGd8K1wEb3BwObT7SH1W22slxc2uyihEP1ntufyY7gonVOsxLzyQ8Q7PkHnsBy7r2BvuwB7Xpa3Crn3uOMW+W0Jt2Lx/sEQWCbgdj2epQlSUyJetjrtNXpNNdPsBdDSzi644urD8mLTrdhmjNxxq0yuwH2t8JGd9/lcOjSMNplkx2MCydcV4mLiRU1u8ABM2doDvw0sPkke1iNM251nd0xfGGn3X4L+rAafdiR4qheZ///MFeBKnJ2gTVmztAzcmRAu97mSsC593/EaLdzRYtxPmmgzX+H0NEd4pkUTxuXmJlQSZ6O7QJ2E0P5RtgqcN0DgB9j5sx/4ohbtfcAXOaGSy9O9mzTYLGzDDZZnsKoztH8DrsbOsFevNF9d4ln5J2BzW+12Zm44lZpyizC/hoDpkVvQdmGNnu5wFeCoNNNYRovxEpe+Lc9LCLFh0O6EgxlHsiACyXWuFVzDOOdhi+8pnu26cZET/jIh9ynkkjlh/12N9AfCF0hXLDnb3RvtjjWlkCPrgHNOQV3d4xxq/R5WWCr0V3p2X8uxstVvI+jfg4/fxEj6PSfv9dFCycPcxWudrE8IL7InSVxq5MD2rXErW6II27VIqw4ujeGXHhmvz+Kj91Rz8XPG2MAfYCN6DPLzIMv2HOs91DmmzkzOADQ/iXmzOIYLrwd2B9neRhscldAu6Fo9yt8rEPNZd6XlXPx2SLEfNlG94hplbx8e7uF3ZYsX2TmzMOBy6dwSo6zM5/GFLdKd+I+2F9v7C/EaY3PEQ+5aLnJhTbDQxProAfkdOqiK8INLsqBPz40u5pgLxbwW0o8IycEtOtkcat82fRkW+NWzZyhSzJdFM4LWWXELtIJaDfcZmtW4jNnevi2lS7FjF9lcqNq+/74AErHLq5NdQ3K1dhHndBu57CXjKrzLdCjXwBk9SUvm5bEcOEdMXOmC+pfhy5mbG4Qt9KPxkVBIvSsZMwrM+8yrJF5aBjix+Up6TLcVyN5hcFukP3TRYEeswLnlW+w2ZlY4lbNreEFA56m1dAy9sEc8PXO36vS17ZnIAtXy6sX7MUG/mN8mS+6yAfk2hCwzopbPRlDX/ji61mOxpxiDMlhmZRsec3X7WGYd4RawV5sLTVzhp6RfQJnRVoCPZbFdPExB87T+HiQD6D4eUKGoNOP/gmUVbyLuXxlFhbsZQJ2CF/sqy5yJZgR2HyCje5b4nrJg/0wodJztL05p++iV/e9UoScD7ac3eFd5hV7wD3hKkjteWQnYOtpzligx+iAdqVxq8/GFbdKlwIXvWGlW+8nZjKNCgwgLwf0bag4O8Tnh6VMv2dB13pAbWd6yx5W60NSYPP1uqXh4HqrK2K+CNdh38xKsJojPD4zA8IVcS+tjv3ut77zDvca9r9ZszHli6nf+MbQd5aBMxypLlpl5gNdCQahvs15BEabmOqC89VclW9d3MlI2S8XBY/zYZHpAMfhM6OI+GLo0nLXOcI+aINzJP/InjlouqxNMOdlOaL5xNW+P0N/B3lsz7SJnH49niXsvB3P5cn03J5urKmPLviiV+GkPu6iIOcLAi9mjsCnE+wbB4Dt6N+/XeRiwGeMRvM/b8ntwunHH6SXtozIXCqG5tEh+z74AopBIR/QVDLTKW/mJT1E37UffcIqmXVthc+b5MRgx8EPo9PPO//8hU0JpaHz6es7FisaaiocTWPtUhxjn412y83/vM5gp1suXxr1NDub4FfZKHfYID9gF+VWXjgxZ09I6v/lm2Eu2uwTNXWKATKZ2+wGQiFWSrZb+bEC9JN+7SwMPawywDkX3rkEjmb7X5rsgizczIrddVK781TCA2rRZ5RoQh2xIgl2SRLskiTYJcEuSYJdkgS7JAl2SRLskiTYJUmwS5JglyTBLkmCXRLskiTYJUmwS5JglyTBLkmCXZIEuyQJdkkS7JIk2KUfiEmWmFZuo2cKOi5ewERMxwS7VCjZgmvMA8ncmz4pAbndeqYCF+xSEYHn+lFcA9aHg1Nxpe4W7FKW0FfE6huCXdIDqiQJdkkS7JIk2CVJsEuSYJckwS5Jgl2SBLskCXZJsEuSYJckwS5JxdB/ASH5FI/5dHZAAAAAAElFTkSuQmCC'></div>\n                    <div>\n                        <p>Kql Query Language, aka kql, is the query language for advanced analytics on Azure Monitor resources. The current supported data sources are \n                        Azure Data Explorer (Kusto), Log Analytics and Application Insights. To get more information execute '%kql --help \"kql\"'</p>\n                        <p>   \n                          &bull; \n                kql reference: Click on 'Help' tab > and Select 'kql reference' or execute '%kql --help \"kql\"'<br>\n                          &bull; \n                Kqlmagic configuration: execute '%config Kqlmagic'<br>\n                          &bull; \n                Kqlmagic usage: execute '%kql --usage'<br>\n                        </p> \n                    </div>\n                </div>\n            </body>\n            </html>"
                    },
                    "metadata": {}
                },
                {
                    "output_type": "display_data",
                    "data": {
                        "text/plain": "<IPython.core.display.HTML object>",
                        "text/html": "<html>\n        <head>\n            \n            \n        </head>\n        <body>\n            <div><p style='padding: 10px; color: #3a87ad; background-color: #d9edf7; border-color: #bce9f1'>Kqlmagic&nbsp;package&nbsp;is&nbsp;updated&nbsp;frequently.&nbsp;Run&nbsp;&apos;!pip&nbsp;install&nbsp;Kqlmagic&nbsp;--no-cache-dir&nbsp;--upgrade&apos;&nbsp;to&nbsp;use&nbsp;the&nbsp;latest&nbsp;version.<br>Kqlmagic&nbsp;version:&nbsp;0.1.113.post1,&nbsp;source:&nbsp;https://github.com/Microsoft/jupyter-Kqlmagic</p></div>\n        </body>\n        </html>"
                    },
                    "metadata": {}
                },
                {
                    "output_type": "display_data",
                    "data": {
                        "text/plain": "<IPython.core.display.HTML object>",
                        "text/html": "<!DOCTYPE html>\n            <html><body>\n            <div style='padding: 10px; color: #3a87ad; background-color: #d9edf7; border-color: #bce9f1'>\n            Click&nbsp;to&nbsp;find&nbsp;out&nbsp;what's&nbsp;new&nbsp;in&nbsp;Kqlmagic&nbsp;&nbsp;<a href='http://127.0.0.1:59416/webbrowser?url=http%3A//127.0.0.1%3A59416/files/.kqlmagic/temp_files/01558db4-5367-46d4-851b-7b3437bc3c77/popup_what_new_history.html%3Fkernelid%3D01558db4-5367-46d4-851b-7b3437bc3c77&kernelid=01558db4-5367-46d4-851b-7b3437bc3c77' style='padding: 2px 6px 2px 6px; color: #333333; background-color: #EEEEEE; border-top: 1px solid #CCCCCC; border-right: 1px solid #333333; border-bottom: 1px solid #333333; border-left: 1px solid #CCCCCC' target='popup_what_new_history'>What's New? </a>\n            </div>\n            </body></html>"
                    },
                    "metadata": {}
                }
            ],
            "execution_count": 3
        },
        {
            "cell_type": "markdown",
            "source": [
                "## Step 4. Connect to the Log Analytics workspace.\r\n",
                "\r\n",
                "This step really requires `laConnFile` to provide Tenant ID, Client ID, Client Secret and Workspace ID. If not, it will not work properly."
            ],
            "metadata": {
                "azdata_cell_guid": "5b2361fb-ddda-4bdc-8dfc-579b9618c5e9"
            }
        },
        {
            "cell_type": "code",
            "source": [
                "%kql loganalytics://tenant=tenantId;clientid=clientId;clientsecret=clientSecret;workspace=workspaceId;alias=laAlias"
            ],
            "metadata": {
                "azdata_cell_guid": "edfb7a0e-68c2-4b9f-8ccc-d667610d15b1"
            },
            "outputs": [],
            "execution_count": null
        },
        {
            "cell_type": "markdown",
            "source": [
                "## Step 5. Let's run some KQL queries!\r\n",
                "\r\n",
                "### **Example 1: Get 10 rows from AzureDiagnostics with some filters**\r\n",
                "\r\n",
                "In the scenario below, my Log Analytics workspace is linked to my Azure SQL DB account. This allows me to do some analysis like seeing how many BATCH COMPLETED events.\r\n",
                "\r\n",
                "The `let _server = logicalServerName;` allows the **logicalServerName** parameter / variable that is defined earlier to be passed to Kqlmagic as _server variable. "
            ],
            "metadata": {
                "azdata_cell_guid": "f7d157f5-f5f2-46ad-acab-10aa076ceaf5"
            }
        },
        {
            "cell_type": "code",
            "source": [
                "%%kql let _server = logicalServerName;\r\n",
                "AzureDiagnostics\r\n",
                "| where LogicalServerName_s == _server and action_name_s == \"BATCH COMPLETED\"\r\n",
                "| project Event = action_name_s, SQLStatement = statement_s, TimeStamp = originalEventTimestamp_t\r\n",
                "| take 10"
            ],
            "metadata": {
                "azdata_cell_guid": "b04b2bb2-ea8a-4dbf-b2c8-9e6b4b3fdc10"
            },
            "outputs": [
                {
                    "output_type": "display_data",
                    "data": {
                        "text/plain": "<IPython.core.display.HTML object>",
                        "text/html": "<html>\n        <head>\n            \n            \n        </head>\n        <body>\n            <div><p style='padding: 10px; color: #3a87ad; background-color: #d9edf7; border-color: #bce9f1'>&nbsp;*&nbsp;myLAConnection@loganalytics</p></div>\n        </body>\n        </html>"
                    },
                    "metadata": {}
                },
                {
                    "output_type": "display_data",
                    "data": {
                        "text/plain": "                         TimeStamp            Event  \\\n0 2020-11-08 20:58:59.410000+00:00  BATCH COMPLETED   \n1 2020-11-08 20:58:59.410000+00:00  BATCH COMPLETED   \n2 2020-11-08 20:58:59.410000+00:00  BATCH COMPLETED   \n3 2020-11-08 20:58:59.410000+00:00  BATCH COMPLETED   \n4 2020-11-08 20:58:59.410000+00:00  BATCH COMPLETED   \n5 2020-11-08 20:58:59.410000+00:00  BATCH COMPLETED   \n6 2020-11-08 20:58:59.410000+00:00  BATCH COMPLETED   \n7 2020-11-08 20:58:59.410000+00:00  BATCH COMPLETED   \n8 2020-11-08 20:58:59.410000+00:00  BATCH COMPLETED   \n9 2020-11-08 20:59:02.415000+00:00  BATCH COMPLETED   \n\n                                        SQLStatement  \n0  SELECT ISNULL(SESSIONPROPERTY ('ANSI_NULLS'), ...  \n1       SELECT CONVERT(NVARCHAR(36), CONTEXT_INFO())  \n2  SELECT ISNULL(SESSIONPROPERTY ('ANSI_NULLS'), ...  \n3       SELECT CONVERT(NVARCHAR(36), CONTEXT_INFO())  \n4                              set LOCK_TIMEOUT 5000  \n5  DECLARE @edition sysname;\\r\\nSET @edition = ca...  \n6  SET ANSI_NULLS, ANSI_PADDING, ANSI_WARNINGS, A...  \n7  SELECT SERVERPROPERTY('EngineEdition'), SERVER...  \n8  SELECT windows_release FROM sys.dm_os_windows_...  \n9  DECLARE @edition sysname;\\r\\nSET @edition = ca...  ",
                        "text/html": "<div>\n<style scoped>\n    .dataframe tbody tr th:only-of-type {\n        vertical-align: middle;\n    }\n\n    .dataframe tbody tr th {\n        vertical-align: top;\n    }\n\n    .dataframe thead th {\n        text-align: right;\n    }\n</style>\n<table border=\"1\" class=\"dataframe\">\n  <thead>\n    <tr style=\"text-align: right;\">\n      <th></th>\n      <th>TimeStamp</th>\n      <th>Event</th>\n      <th>SQLStatement</th>\n    </tr>\n  </thead>\n  <tbody>\n    <tr>\n      <th>0</th>\n      <td>2020-11-08 20:58:59.410000+00:00</td>\n      <td>BATCH COMPLETED</td>\n      <td>SELECT ISNULL(SESSIONPROPERTY ('ANSI_NULLS'), ...</td>\n    </tr>\n    <tr>\n      <th>1</th>\n      <td>2020-11-08 20:58:59.410000+00:00</td>\n      <td>BATCH COMPLETED</td>\n      <td>SELECT CONVERT(NVARCHAR(36), CONTEXT_INFO())</td>\n    </tr>\n    <tr>\n      <th>2</th>\n      <td>2020-11-08 20:58:59.410000+00:00</td>\n      <td>BATCH COMPLETED</td>\n      <td>SELECT ISNULL(SESSIONPROPERTY ('ANSI_NULLS'), ...</td>\n    </tr>\n    <tr>\n      <th>3</th>\n      <td>2020-11-08 20:58:59.410000+00:00</td>\n      <td>BATCH COMPLETED</td>\n      <td>SELECT CONVERT(NVARCHAR(36), CONTEXT_INFO())</td>\n    </tr>\n    <tr>\n      <th>4</th>\n      <td>2020-11-08 20:58:59.410000+00:00</td>\n      <td>BATCH COMPLETED</td>\n      <td>set LOCK_TIMEOUT 5000</td>\n    </tr>\n    <tr>\n      <th>5</th>\n      <td>2020-11-08 20:58:59.410000+00:00</td>\n      <td>BATCH COMPLETED</td>\n      <td>DECLARE @edition sysname;\\r\\nSET @edition = ca...</td>\n    </tr>\n    <tr>\n      <th>6</th>\n      <td>2020-11-08 20:58:59.410000+00:00</td>\n      <td>BATCH COMPLETED</td>\n      <td>SET ANSI_NULLS, ANSI_PADDING, ANSI_WARNINGS, A...</td>\n    </tr>\n    <tr>\n      <th>7</th>\n      <td>2020-11-08 20:58:59.410000+00:00</td>\n      <td>BATCH COMPLETED</td>\n      <td>SELECT SERVERPROPERTY('EngineEdition'), SERVER...</td>\n    </tr>\n    <tr>\n      <th>8</th>\n      <td>2020-11-08 20:58:59.410000+00:00</td>\n      <td>BATCH COMPLETED</td>\n      <td>SELECT windows_release FROM sys.dm_os_windows_...</td>\n    </tr>\n    <tr>\n      <th>9</th>\n      <td>2020-11-08 20:59:02.415000+00:00</td>\n      <td>BATCH COMPLETED</td>\n      <td>DECLARE @edition sysname;\\r\\nSET @edition = ca...</td>\n    </tr>\n  </tbody>\n</table>\n</div>",
                        "application/vnd.dataresource+json": {
                            "schema": {
                                "fields": [
                                    {
                                        "name": "TimeStamp",
                                        "type": "datetime",
                                        "tz": "UTC"
                                    },
                                    {
                                        "name": "Event",
                                        "type": "string"
                                    },
                                    {
                                        "name": "SQLStatement",
                                        "type": "string"
                                    }
                                ],
                                "kqmagic_version": "0.1.113.post1"
                            },
                            "data": [
                                {
                                    "TimeStamp": "2020-11-08T20:58:59.410Z",
                                    "Event": "BATCH COMPLETED",
                                    "SQLStatement": "SELECT ISNULL(SESSIONPROPERTY ('ANSI_NULLS'), 0), ISNULL(SESSIONPROPERTY ('QUOTED_IDENTIFIER'), 1)"
                                },
                                {
                                    "TimeStamp": "2020-11-08T20:58:59.410Z",
                                    "Event": "BATCH COMPLETED",
                                    "SQLStatement": "SELECT CONVERT(NVARCHAR(36), CONTEXT_INFO())"
                                },
                                {
                                    "TimeStamp": "2020-11-08T20:58:59.410Z",
                                    "Event": "BATCH COMPLETED",
                                    "SQLStatement": "SELECT ISNULL(SESSIONPROPERTY ('ANSI_NULLS'), 0), ISNULL(SESSIONPROPERTY ('QUOTED_IDENTIFIER'), 1)"
                                },
                                {
                                    "TimeStamp": "2020-11-08T20:58:59.410Z",
                                    "Event": "BATCH COMPLETED",
                                    "SQLStatement": "SELECT CONVERT(NVARCHAR(36), CONTEXT_INFO())"
                                },
                                {
                                    "TimeStamp": "2020-11-08T20:58:59.410Z",
                                    "Event": "BATCH COMPLETED",
                                    "SQLStatement": "set LOCK_TIMEOUT 5000"
                                },
                                {
                                    "TimeStamp": "2020-11-08T20:58:59.410Z",
                                    "Event": "BATCH COMPLETED",
                                    "SQLStatement": "DECLARE @edition sysname;\r\nSET @edition = cast(SERVERPROPERTY(N'EDITION') as sysname);\r\nSELECT case when @edition = N'SQL Azure' then 2 else 1 end as 'DatabaseEngineType',\r\nSERVERPROPERTY('EngineEdition') AS DatabaseEngineEdition,\r\nSERVERPROPERTY('ProductVersion') AS ProductVersion,\r\n@@MICROSOFTVERSION AS MicrosoftVersion;\r\nselect N'Windows' as host_platform\r\nif @edition = N'SQL Azure' \r\n  select 'TCP' as ConnectionProtocol\r\nelse\r\n  exec ('select CONVERT(nvarchar(40),CONNECTIONPROPERTY(''net_transport'')) as ConnectionProtocol')\r\n"
                                },
                                {
                                    "TimeStamp": "2020-11-08T20:58:59.410Z",
                                    "Event": "BATCH COMPLETED",
                                    "SQLStatement": "SET ANSI_NULLS, ANSI_PADDING, ANSI_WARNINGS, ARITHABORT, CONCAT_NULL_YIELDS_NULL, QUOTED_IDENTIFIER ON;\r\nSET NUMERIC_ROUNDABORT OFF;"
                                },
                                {
                                    "TimeStamp": "2020-11-08T20:58:59.410Z",
                                    "Event": "BATCH COMPLETED",
                                    "SQLStatement": "SELECT SERVERPROPERTY('EngineEdition'), SERVERPROPERTY('productversion'), SERVERPROPERTY ('productlevel'), SERVERPROPERTY ('edition'), SERVERPROPERTY ('MachineName'), SERVERPROPERTY ('ServerName'), (SELECT CASE WHEN EXISTS (SELECT TOP 1 1 from [sys].[all_columns] WITH (NOLOCK) WHERE name = N'xml_index_type' AND OBJECT_ID(N'sys.xml_indexes') = object_id) THEN 1 ELSE 0 END AS SXI_PRESENT)"
                                },
                                {
                                    "TimeStamp": "2020-11-08T20:58:59.410Z",
                                    "Event": "BATCH COMPLETED",
                                    "SQLStatement": "SELECT windows_release FROM sys.dm_os_windows_info"
                                },
                                {
                                    "TimeStamp": "2020-11-08T20:59:02.415Z",
                                    "Event": "BATCH COMPLETED",
                                    "SQLStatement": "DECLARE @edition sysname;\r\nSET @edition = cast(SERVERPROPERTY(N'EDITION') as sysname);\r\nSELECT case when @edition = N'SQL Azure' then 2 else 1 end as 'DatabaseEngineType',\r\nSERVERPROPERTY('EngineEdition') AS DatabaseEngineEdition,\r\nSERVERPROPERTY('ProductVersion') AS ProductVersion,\r\n@@MICROSOFTVERSION AS MicrosoftVersion;\r\nselect N'Windows' as host_platform\r\nif @edition = N'SQL Azure' \r\n  select 'TCP' as ConnectionProtocol\r\nelse\r\n  exec ('select CONVERT(nvarchar(40),CONNECTIONPROPERTY(''net_transport'')) as ConnectionProtocol')\r\n"
                                }
                            ]
                        }
                    },
                    "metadata": {}
                },
                {
                    "output_type": "display_data",
                    "data": {
                        "text/plain": "<IPython.core.display.HTML object>",
                        "text/html": "<html>\n        <head>\n            \n            \n        </head>\n        <body>\n            <div><p style='padding: 10px; color: #3a87ad; background-color: #d9edf7; border-color: #bce9f1'>Done&nbsp;(00:01.234):&nbsp;10&nbsp;records</p></div>\n        </body>\n        </html>"
                    },
                    "metadata": {}
                },
                {
                    "output_type": "execute_result",
                    "execution_count": 9,
                    "data": {
                        "text/plain": "[{'TimeStamp': datetime.datetime(2020, 11, 8, 20, 58, 59, 410000, tzinfo=tzutc()), 'Event': 'BATCH COMPLETED', 'SQLStatement': \"SELECT ISNULL(SESSIONPROPERTY ('ANSI_NULLS'), 0), ISNULL(SESSIONPROPERTY ('QUOTED_IDENTIFIER'), 1)\"},\n {'TimeStamp': datetime.datetime(2020, 11, 8, 20, 58, 59, 410000, tzinfo=tzutc()), 'Event': 'BATCH COMPLETED', 'SQLStatement': 'SELECT CONVERT(NVARCHAR(36), CONTEXT_INFO())'},\n {'TimeStamp': datetime.datetime(2020, 11, 8, 20, 58, 59, 410000, tzinfo=tzutc()), 'Event': 'BATCH COMPLETED', 'SQLStatement': \"SELECT ISNULL(SESSIONPROPERTY ('ANSI_NULLS'), 0), ISNULL(SESSIONPROPERTY ('QUOTED_IDENTIFIER'), 1)\"},\n {'TimeStamp': datetime.datetime(2020, 11, 8, 20, 58, 59, 410000, tzinfo=tzutc()), 'Event': 'BATCH COMPLETED', 'SQLStatement': 'SELECT CONVERT(NVARCHAR(36), CONTEXT_INFO())'},\n {'TimeStamp': datetime.datetime(2020, 11, 8, 20, 58, 59, 410000, tzinfo=tzutc()), 'Event': 'BATCH COMPLETED', 'SQLStatement': 'set LOCK_TIMEOUT 5000'},\n {'TimeStamp': datetime.datetime(2020, 11, 8, 20, 58, 59, 410000, tzinfo=tzutc()), 'Event': 'BATCH COMPLETED', 'SQLStatement': \"DECLARE @edition sysname;\\r\\nSET @edition = cast(SERVERPROPERTY(N'EDITION') as sysname);\\r\\nSELECT case when @edition = N'SQL Azure' then 2 else 1 end as 'DatabaseEngineType',\\r\\nSERVERPROPERTY('EngineEdition') AS DatabaseEngineEdition,\\r\\nSERVERPROPERTY('ProductVersion') AS ProductVersion,\\r\\n@@MICROSOFTVERSION AS MicrosoftVersion;\\r\\nselect N'Windows' as host_platform\\r\\nif @edition = N'SQL Azure' \\r\\n  select 'TCP' as ConnectionProtocol\\r\\nelse\\r\\n  exec ('select CONVERT(nvarchar(40),CONNECTIONPROPERTY(''net_transport'')) as ConnectionProtocol')\\r\\n\"},\n {'TimeStamp': datetime.datetime(2020, 11, 8, 20, 58, 59, 410000, tzinfo=tzutc()), 'Event': 'BATCH COMPLETED', 'SQLStatement': 'SET ANSI_NULLS, ANSI_PADDING, ANSI_WARNINGS, ARITHABORT, CONCAT_NULL_YIELDS_NULL, QUOTED_IDENTIFIER ON;\\r\\nSET NUMERIC_ROUNDABORT OFF;'},\n {'TimeStamp': datetime.datetime(2020, 11, 8, 20, 58, 59, 410000, tzinfo=tzutc()), 'Event': 'BATCH COMPLETED', 'SQLStatement': \"SELECT SERVERPROPERTY('EngineEdition'), SERVERPROPERTY('productversion'), SERVERPROPERTY ('productlevel'), SERVERPROPERTY ('edition'), SERVERPROPERTY ('MachineName'), SERVERPROPERTY ('ServerName'), (SELECT CASE WHEN EXISTS (SELECT TOP 1 1 from [sys].[all_columns] WITH (NOLOCK) WHERE name = N'xml_index_type' AND OBJECT_ID(N'sys.xml_indexes') = object_id) THEN 1 ELSE 0 END AS SXI_PRESENT)\"},\n {'TimeStamp': datetime.datetime(2020, 11, 8, 20, 58, 59, 410000, tzinfo=tzutc()), 'Event': 'BATCH COMPLETED', 'SQLStatement': 'SELECT windows_release FROM sys.dm_os_windows_info'},\n {'TimeStamp': datetime.datetime(2020, 11, 8, 20, 59, 2, 415000, tzinfo=tzutc()), 'Event': 'BATCH COMPLETED', 'SQLStatement': \"DECLARE @edition sysname;\\r\\nSET @edition = cast(SERVERPROPERTY(N'EDITION') as sysname);\\r\\nSELECT case when @edition = N'SQL Azure' then 2 else 1 end as 'DatabaseEngineType',\\r\\nSERVERPROPERTY('EngineEdition') AS DatabaseEngineEdition,\\r\\nSERVERPROPERTY('ProductVersion') AS ProductVersion,\\r\\n@@MICROSOFTVERSION AS MicrosoftVersion;\\r\\nselect N'Windows' as host_platform\\r\\nif @edition = N'SQL Azure' \\r\\n  select 'TCP' as ConnectionProtocol\\r\\nelse\\r\\n  exec ('select CONVERT(nvarchar(40),CONNECTIONPROPERTY(''net_transport'')) as ConnectionProtocol')\\r\\n\"}]",
                        "text/html": ""
                    },
                    "metadata": {}
                }
            ],
            "execution_count": 9
        },
        {
            "cell_type": "markdown",
            "source": [
                "### **Example 2: Create a timechart**\r\n",
                "\r\n",
                "In the scenario below, my Log Analytics workspace is linked to my Azure SQL DB account. This allows me to do some timechart analysis for specific actions.\r\n",
                "\r\n",
                "The `let _server = logicalServerName;` allows the **logicalServerName** parameter / variable that is defined earlier to be passed to Kqlmagic as _server variable. "
            ],
            "metadata": {
                "azdata_cell_guid": "f81208f4-6695-49d0-80c0-b669a0d32733"
            }
        },
        {
            "cell_type": "code",
            "source": [
                "%%kql let _server = logicalServerName;\r\n",
                "AzureDiagnostics\r\n",
                "| where LogicalServerName_s == _server\r\n",
                "| summarize event_count=count() by bin(originalEventTimestamp_t, 10m), action_name_s\r\n",
                "| render timechart \r\n",
                ""
            ],
            "metadata": {
                "azdata_cell_guid": "d4bdac3b-5941-4d6c-87d9-923aed476b76"
            },
            "outputs": [
                {
                    "output_type": "display_data",
                    "data": {
                        "text/plain": "<IPython.core.display.HTML object>",
                        "text/html": "<html>\n        <head>\n            \n            \n        </head>\n        <body>\n            <div><p style='padding: 10px; color: #3a87ad; background-color: #d9edf7; border-color: #bce9f1'>&nbsp;*&nbsp;myLAConnection@loganalytics</p></div>\n        </body>\n        </html>"
                    },
                    "metadata": {}
                },
                {
                    "output_type": "display_data",
                    "data": {
                        "application/vnd.plotly.v1+json": {
                            "config": {
                                "plotlyServerURL": "https://plot.ly"
                            },
                            "data": [
                                {
                                    "line": {
                                        "color": "rgb(31, 118, 179)",
                                        "width": 1
                                    },
                                    "name": "AUDIT SESSION CHANGED:event_count",
                                    "opacity": 0.8,
                                    "type": "scatter",
                                    "x": [
                                        "2020-11-01T04:00:00+00:00",
                                        "2020-11-01T04:30:00+00:00",
                                        "2020-11-07T23:50:00+00:00",
                                        "2020-11-08T20:50:00+00:00"
                                    ],
                                    "y": [
                                        2,
                                        null,
                                        null,
                                        null
                                    ]
                                },
                                {
                                    "line": {
                                        "color": "rgb(254, 127, 14)",
                                        "width": 1
                                    },
                                    "name": "DATABASE AUTHENTICATION SUCCEEDED:event_count",
                                    "opacity": 0.8,
                                    "type": "scatter",
                                    "x": [
                                        "2020-11-01T04:00:00+00:00",
                                        "2020-11-01T04:30:00+00:00",
                                        "2020-11-07T23:50:00+00:00",
                                        "2020-11-08T20:50:00+00:00"
                                    ],
                                    "y": [
                                        null,
                                        19,
                                        6,
                                        7
                                    ]
                                },
                                {
                                    "line": {
                                        "color": "rgb(44, 160, 44)",
                                        "width": 1
                                    },
                                    "name": "BATCH COMPLETED:event_count",
                                    "opacity": 0.8,
                                    "type": "scatter",
                                    "x": [
                                        "2020-11-01T04:00:00+00:00",
                                        "2020-11-01T04:30:00+00:00",
                                        "2020-11-07T23:50:00+00:00",
                                        "2020-11-08T20:50:00+00:00"
                                    ],
                                    "y": [
                                        null,
                                        109,
                                        26,
                                        29
                                    ]
                                },
                                {
                                    "line": {
                                        "color": "rgb(214, 39, 39)",
                                        "width": 1
                                    },
                                    "name": "RPC COMPLETED:event_count",
                                    "opacity": 0.8,
                                    "type": "scatter",
                                    "x": [
                                        "2020-11-01T04:00:00+00:00",
                                        "2020-11-01T04:30:00+00:00",
                                        "2020-11-07T23:50:00+00:00",
                                        "2020-11-08T20:50:00+00:00"
                                    ],
                                    "y": [
                                        null,
                                        32,
                                        1,
                                        3
                                    ]
                                }
                            ],
                            "layout": {
                                "showlegend": true,
                                "template": {
                                    "data": {
                                        "bar": [
                                            {
                                                "error_x": {
                                                    "color": "#2a3f5f"
                                                },
                                                "error_y": {
                                                    "color": "#2a3f5f"
                                                },
                                                "marker": {
                                                    "line": {
                                                        "color": "#E5ECF6",
                                                        "width": 0.5
                                                    }
                                                },
                                                "type": "bar"
                                            }
                                        ],
                                        "barpolar": [
                                            {
                                                "marker": {
                                                    "line": {
                                                        "color": "#E5ECF6",
                                                        "width": 0.5
                                                    }
                                                },
                                                "type": "barpolar"
                                            }
                                        ],
                                        "carpet": [
                                            {
                                                "aaxis": {
                                                    "endlinecolor": "#2a3f5f",
                                                    "gridcolor": "white",
                                                    "linecolor": "white",
                                                    "minorgridcolor": "white",
                                                    "startlinecolor": "#2a3f5f"
                                                },
                                                "baxis": {
                                                    "endlinecolor": "#2a3f5f",
                                                    "gridcolor": "white",
                                                    "linecolor": "white",
                                                    "minorgridcolor": "white",
                                                    "startlinecolor": "#2a3f5f"
                                                },
                                                "type": "carpet"
                                            }
                                        ],
                                        "choropleth": [
                                            {
                                                "colorbar": {
                                                    "outlinewidth": 0,
                                                    "ticks": ""
                                                },
                                                "type": "choropleth"
                                            }
                                        ],
                                        "contour": [
                                            {
                                                "colorbar": {
                                                    "outlinewidth": 0,
                                                    "ticks": ""
                                                },
                                                "colorscale": [
                                                    [
                                                        0,
                                                        "#0d0887"
                                                    ],
                                                    [
                                                        0.1111111111111111,
                                                        "#46039f"
                                                    ],
                                                    [
                                                        0.2222222222222222,
                                                        "#7201a8"
                                                    ],
                                                    [
                                                        0.3333333333333333,
                                                        "#9c179e"
                                                    ],
                                                    [
                                                        0.4444444444444444,
                                                        "#bd3786"
                                                    ],
                                                    [
                                                        0.5555555555555556,
                                                        "#d8576b"
                                                    ],
                                                    [
                                                        0.6666666666666666,
                                                        "#ed7953"
                                                    ],
                                                    [
                                                        0.7777777777777778,
                                                        "#fb9f3a"
                                                    ],
                                                    [
                                                        0.8888888888888888,
                                                        "#fdca26"
                                                    ],
                                                    [
                                                        1,
                                                        "#f0f921"
                                                    ]
                                                ],
                                                "type": "contour"
                                            }
                                        ],
                                        "contourcarpet": [
                                            {
                                                "colorbar": {
                                                    "outlinewidth": 0,
                                                    "ticks": ""
                                                },
                                                "type": "contourcarpet"
                                            }
                                        ],
                                        "heatmap": [
                                            {
                                                "colorbar": {
                                                    "outlinewidth": 0,
                                                    "ticks": ""
                                                },
                                                "colorscale": [
                                                    [
                                                        0,
                                                        "#0d0887"
                                                    ],
                                                    [
                                                        0.1111111111111111,
                                                        "#46039f"
                                                    ],
                                                    [
                                                        0.2222222222222222,
                                                        "#7201a8"
                                                    ],
                                                    [
                                                        0.3333333333333333,
                                                        "#9c179e"
                                                    ],
                                                    [
                                                        0.4444444444444444,
                                                        "#bd3786"
                                                    ],
                                                    [
                                                        0.5555555555555556,
                                                        "#d8576b"
                                                    ],
                                                    [
                                                        0.6666666666666666,
                                                        "#ed7953"
                                                    ],
                                                    [
                                                        0.7777777777777778,
                                                        "#fb9f3a"
                                                    ],
                                                    [
                                                        0.8888888888888888,
                                                        "#fdca26"
                                                    ],
                                                    [
                                                        1,
                                                        "#f0f921"
                                                    ]
                                                ],
                                                "type": "heatmap"
                                            }
                                        ],
                                        "heatmapgl": [
                                            {
                                                "colorbar": {
                                                    "outlinewidth": 0,
                                                    "ticks": ""
                                                },
                                                "colorscale": [
                                                    [
                                                        0,
                                                        "#0d0887"
                                                    ],
                                                    [
                                                        0.1111111111111111,
                                                        "#46039f"
                                                    ],
                                                    [
                                                        0.2222222222222222,
                                                        "#7201a8"
                                                    ],
                                                    [
                                                        0.3333333333333333,
                                                        "#9c179e"
                                                    ],
                                                    [
                                                        0.4444444444444444,
                                                        "#bd3786"
                                                    ],
                                                    [
                                                        0.5555555555555556,
                                                        "#d8576b"
                                                    ],
                                                    [
                                                        0.6666666666666666,
                                                        "#ed7953"
                                                    ],
                                                    [
                                                        0.7777777777777778,
                                                        "#fb9f3a"
                                                    ],
                                                    [
                                                        0.8888888888888888,
                                                        "#fdca26"
                                                    ],
                                                    [
                                                        1,
                                                        "#f0f921"
                                                    ]
                                                ],
                                                "type": "heatmapgl"
                                            }
                                        ],
                                        "histogram": [
                                            {
                                                "marker": {
                                                    "colorbar": {
                                                        "outlinewidth": 0,
                                                        "ticks": ""
                                                    }
                                                },
                                                "type": "histogram"
                                            }
                                        ],
                                        "histogram2d": [
                                            {
                                                "colorbar": {
                                                    "outlinewidth": 0,
                                                    "ticks": ""
                                                },
                                                "colorscale": [
                                                    [
                                                        0,
                                                        "#0d0887"
                                                    ],
                                                    [
                                                        0.1111111111111111,
                                                        "#46039f"
                                                    ],
                                                    [
                                                        0.2222222222222222,
                                                        "#7201a8"
                                                    ],
                                                    [
                                                        0.3333333333333333,
                                                        "#9c179e"
                                                    ],
                                                    [
                                                        0.4444444444444444,
                                                        "#bd3786"
                                                    ],
                                                    [
                                                        0.5555555555555556,
                                                        "#d8576b"
                                                    ],
                                                    [
                                                        0.6666666666666666,
                                                        "#ed7953"
                                                    ],
                                                    [
                                                        0.7777777777777778,
                                                        "#fb9f3a"
                                                    ],
                                                    [
                                                        0.8888888888888888,
                                                        "#fdca26"
                                                    ],
                                                    [
                                                        1,
                                                        "#f0f921"
                                                    ]
                                                ],
                                                "type": "histogram2d"
                                            }
                                        ],
                                        "histogram2dcontour": [
                                            {
                                                "colorbar": {
                                                    "outlinewidth": 0,
                                                    "ticks": ""
                                                },
                                                "colorscale": [
                                                    [
                                                        0,
                                                        "#0d0887"
                                                    ],
                                                    [
                                                        0.1111111111111111,
                                                        "#46039f"
                                                    ],
                                                    [
                                                        0.2222222222222222,
                                                        "#7201a8"
                                                    ],
                                                    [
                                                        0.3333333333333333,
                                                        "#9c179e"
                                                    ],
                                                    [
                                                        0.4444444444444444,
                                                        "#bd3786"
                                                    ],
                                                    [
                                                        0.5555555555555556,
                                                        "#d8576b"
                                                    ],
                                                    [
                                                        0.6666666666666666,
                                                        "#ed7953"
                                                    ],
                                                    [
                                                        0.7777777777777778,
                                                        "#fb9f3a"
                                                    ],
                                                    [
                                                        0.8888888888888888,
                                                        "#fdca26"
                                                    ],
                                                    [
                                                        1,
                                                        "#f0f921"
                                                    ]
                                                ],
                                                "type": "histogram2dcontour"
                                            }
                                        ],
                                        "mesh3d": [
                                            {
                                                "colorbar": {
                                                    "outlinewidth": 0,
                                                    "ticks": ""
                                                },
                                                "type": "mesh3d"
                                            }
                                        ],
                                        "parcoords": [
                                            {
                                                "line": {
                                                    "colorbar": {
                                                        "outlinewidth": 0,
                                                        "ticks": ""
                                                    }
                                                },
                                                "type": "parcoords"
                                            }
                                        ],
                                        "pie": [
                                            {
                                                "automargin": true,
                                                "type": "pie"
                                            }
                                        ],
                                        "scatter": [
                                            {
                                                "marker": {
                                                    "colorbar": {
                                                        "outlinewidth": 0,
                                                        "ticks": ""
                                                    }
                                                },
                                                "type": "scatter"
                                            }
                                        ],
                                        "scatter3d": [
                                            {
                                                "line": {
                                                    "colorbar": {
                                                        "outlinewidth": 0,
                                                        "ticks": ""
                                                    }
                                                },
                                                "marker": {
                                                    "colorbar": {
                                                        "outlinewidth": 0,
                                                        "ticks": ""
                                                    }
                                                },
                                                "type": "scatter3d"
                                            }
                                        ],
                                        "scattercarpet": [
                                            {
                                                "marker": {
                                                    "colorbar": {
                                                        "outlinewidth": 0,
                                                        "ticks": ""
                                                    }
                                                },
                                                "type": "scattercarpet"
                                            }
                                        ],
                                        "scattergeo": [
                                            {
                                                "marker": {
                                                    "colorbar": {
                                                        "outlinewidth": 0,
                                                        "ticks": ""
                                                    }
                                                },
                                                "type": "scattergeo"
                                            }
                                        ],
                                        "scattergl": [
                                            {
                                                "marker": {
                                                    "colorbar": {
                                                        "outlinewidth": 0,
                                                        "ticks": ""
                                                    }
                                                },
                                                "type": "scattergl"
                                            }
                                        ],
                                        "scattermapbox": [
                                            {
                                                "marker": {
                                                    "colorbar": {
                                                        "outlinewidth": 0,
                                                        "ticks": ""
                                                    }
                                                },
                                                "type": "scattermapbox"
                                            }
                                        ],
                                        "scatterpolar": [
                                            {
                                                "marker": {
                                                    "colorbar": {
                                                        "outlinewidth": 0,
                                                        "ticks": ""
                                                    }
                                                },
                                                "type": "scatterpolar"
                                            }
                                        ],
                                        "scatterpolargl": [
                                            {
                                                "marker": {
                                                    "colorbar": {
                                                        "outlinewidth": 0,
                                                        "ticks": ""
                                                    }
                                                },
                                                "type": "scatterpolargl"
                                            }
                                        ],
                                        "scatterternary": [
                                            {
                                                "marker": {
                                                    "colorbar": {
                                                        "outlinewidth": 0,
                                                        "ticks": ""
                                                    }
                                                },
                                                "type": "scatterternary"
                                            }
                                        ],
                                        "surface": [
                                            {
                                                "colorbar": {
                                                    "outlinewidth": 0,
                                                    "ticks": ""
                                                },
                                                "colorscale": [
                                                    [
                                                        0,
                                                        "#0d0887"
                                                    ],
                                                    [
                                                        0.1111111111111111,
                                                        "#46039f"
                                                    ],
                                                    [
                                                        0.2222222222222222,
                                                        "#7201a8"
                                                    ],
                                                    [
                                                        0.3333333333333333,
                                                        "#9c179e"
                                                    ],
                                                    [
                                                        0.4444444444444444,
                                                        "#bd3786"
                                                    ],
                                                    [
                                                        0.5555555555555556,
                                                        "#d8576b"
                                                    ],
                                                    [
                                                        0.6666666666666666,
                                                        "#ed7953"
                                                    ],
                                                    [
                                                        0.7777777777777778,
                                                        "#fb9f3a"
                                                    ],
                                                    [
                                                        0.8888888888888888,
                                                        "#fdca26"
                                                    ],
                                                    [
                                                        1,
                                                        "#f0f921"
                                                    ]
                                                ],
                                                "type": "surface"
                                            }
                                        ],
                                        "table": [
                                            {
                                                "cells": {
                                                    "fill": {
                                                        "color": "#EBF0F8"
                                                    },
                                                    "line": {
                                                        "color": "white"
                                                    }
                                                },
                                                "header": {
                                                    "fill": {
                                                        "color": "#C8D4E3"
                                                    },
                                                    "line": {
                                                        "color": "white"
                                                    }
                                                },
                                                "type": "table"
                                            }
                                        ]
                                    },
                                    "layout": {
                                        "annotationdefaults": {
                                            "arrowcolor": "#2a3f5f",
                                            "arrowhead": 0,
                                            "arrowwidth": 1
                                        },
                                        "coloraxis": {
                                            "colorbar": {
                                                "outlinewidth": 0,
                                                "ticks": ""
                                            }
                                        },
                                        "colorscale": {
                                            "diverging": [
                                                [
                                                    0,
                                                    "#8e0152"
                                                ],
                                                [
                                                    0.1,
                                                    "#c51b7d"
                                                ],
                                                [
                                                    0.2,
                                                    "#de77ae"
                                                ],
                                                [
                                                    0.3,
                                                    "#f1b6da"
                                                ],
                                                [
                                                    0.4,
                                                    "#fde0ef"
                                                ],
                                                [
                                                    0.5,
                                                    "#f7f7f7"
                                                ],
                                                [
                                                    0.6,
                                                    "#e6f5d0"
                                                ],
                                                [
                                                    0.7,
                                                    "#b8e186"
                                                ],
                                                [
                                                    0.8,
                                                    "#7fbc41"
                                                ],
                                                [
                                                    0.9,
                                                    "#4d9221"
                                                ],
                                                [
                                                    1,
                                                    "#276419"
                                                ]
                                            ],
                                            "sequential": [
                                                [
                                                    0,
                                                    "#0d0887"
                                                ],
                                                [
                                                    0.1111111111111111,
                                                    "#46039f"
                                                ],
                                                [
                                                    0.2222222222222222,
                                                    "#7201a8"
                                                ],
                                                [
                                                    0.3333333333333333,
                                                    "#9c179e"
                                                ],
                                                [
                                                    0.4444444444444444,
                                                    "#bd3786"
                                                ],
                                                [
                                                    0.5555555555555556,
                                                    "#d8576b"
                                                ],
                                                [
                                                    0.6666666666666666,
                                                    "#ed7953"
                                                ],
                                                [
                                                    0.7777777777777778,
                                                    "#fb9f3a"
                                                ],
                                                [
                                                    0.8888888888888888,
                                                    "#fdca26"
                                                ],
                                                [
                                                    1,
                                                    "#f0f921"
                                                ]
                                            ],
                                            "sequentialminus": [
                                                [
                                                    0,
                                                    "#0d0887"
                                                ],
                                                [
                                                    0.1111111111111111,
                                                    "#46039f"
                                                ],
                                                [
                                                    0.2222222222222222,
                                                    "#7201a8"
                                                ],
                                                [
                                                    0.3333333333333333,
                                                    "#9c179e"
                                                ],
                                                [
                                                    0.4444444444444444,
                                                    "#bd3786"
                                                ],
                                                [
                                                    0.5555555555555556,
                                                    "#d8576b"
                                                ],
                                                [
                                                    0.6666666666666666,
                                                    "#ed7953"
                                                ],
                                                [
                                                    0.7777777777777778,
                                                    "#fb9f3a"
                                                ],
                                                [
                                                    0.8888888888888888,
                                                    "#fdca26"
                                                ],
                                                [
                                                    1,
                                                    "#f0f921"
                                                ]
                                            ]
                                        },
                                        "colorway": [
                                            "#636efa",
                                            "#EF553B",
                                            "#00cc96",
                                            "#ab63fa",
                                            "#FFA15A",
                                            "#19d3f3",
                                            "#FF6692",
                                            "#B6E880",
                                            "#FF97FF",
                                            "#FECB52"
                                        ],
                                        "font": {
                                            "color": "#2a3f5f"
                                        },
                                        "geo": {
                                            "bgcolor": "white",
                                            "lakecolor": "white",
                                            "landcolor": "#E5ECF6",
                                            "showlakes": true,
                                            "showland": true,
                                            "subunitcolor": "white"
                                        },
                                        "hoverlabel": {
                                            "align": "left"
                                        },
                                        "hovermode": "closest",
                                        "mapbox": {
                                            "style": "light"
                                        },
                                        "paper_bgcolor": "white",
                                        "plot_bgcolor": "#E5ECF6",
                                        "polar": {
                                            "angularaxis": {
                                                "gridcolor": "white",
                                                "linecolor": "white",
                                                "ticks": ""
                                            },
                                            "bgcolor": "#E5ECF6",
                                            "radialaxis": {
                                                "gridcolor": "white",
                                                "linecolor": "white",
                                                "ticks": ""
                                            }
                                        },
                                        "scene": {
                                            "xaxis": {
                                                "backgroundcolor": "#E5ECF6",
                                                "gridcolor": "white",
                                                "gridwidth": 2,
                                                "linecolor": "white",
                                                "showbackground": true,
                                                "ticks": "",
                                                "zerolinecolor": "white"
                                            },
                                            "yaxis": {
                                                "backgroundcolor": "#E5ECF6",
                                                "gridcolor": "white",
                                                "gridwidth": 2,
                                                "linecolor": "white",
                                                "showbackground": true,
                                                "ticks": "",
                                                "zerolinecolor": "white"
                                            },
                                            "zaxis": {
                                                "backgroundcolor": "#E5ECF6",
                                                "gridcolor": "white",
                                                "gridwidth": 2,
                                                "linecolor": "white",
                                                "showbackground": true,
                                                "ticks": "",
                                                "zerolinecolor": "white"
                                            }
                                        },
                                        "shapedefaults": {
                                            "line": {
                                                "color": "#2a3f5f"
                                            }
                                        },
                                        "ternary": {
                                            "aaxis": {
                                                "gridcolor": "white",
                                                "linecolor": "white",
                                                "ticks": ""
                                            },
                                            "baxis": {
                                                "gridcolor": "white",
                                                "linecolor": "white",
                                                "ticks": ""
                                            },
                                            "bgcolor": "#E5ECF6",
                                            "caxis": {
                                                "gridcolor": "white",
                                                "linecolor": "white",
                                                "ticks": ""
                                            }
                                        },
                                        "title": {
                                            "x": 0.05
                                        },
                                        "xaxis": {
                                            "automargin": true,
                                            "gridcolor": "white",
                                            "linecolor": "white",
                                            "ticks": "",
                                            "title": {
                                                "standoff": 15
                                            },
                                            "zerolinecolor": "white",
                                            "zerolinewidth": 2
                                        },
                                        "yaxis": {
                                            "automargin": true,
                                            "gridcolor": "white",
                                            "linecolor": "white",
                                            "ticks": "",
                                            "title": {
                                                "standoff": 15
                                            },
                                            "zerolinecolor": "white",
                                            "zerolinewidth": 2
                                        }
                                    }
                                },
                                "title": {
                                    "text": "timechart"
                                },
                                "xaxis": {
                                    "autorange": true,
                                    "title": {
                                        "text": "originalEventTimestamp_t"
                                    },
                                    "type": "date"
                                },
                                "yaxis": {
                                    "ticksuffix": "",
                                    "title": {
                                        "text": "event_count"
                                    },
                                    "type": "linear"
                                }
                            }
                        }
                    },
                    "metadata": {}
                },
                {
                    "output_type": "display_data",
                    "data": {
                        "text/plain": "<IPython.core.display.HTML object>",
                        "text/html": "<html>\n        <head>\n            \n            \n        </head>\n        <body>\n            <div><p style='padding: 10px; color: #3a87ad; background-color: #d9edf7; border-color: #bce9f1'>Done&nbsp;(00:02.833):&nbsp;10&nbsp;records</p></div>\n        </body>\n        </html>"
                    },
                    "metadata": {}
                },
                {
                    "output_type": "execute_result",
                    "execution_count": 6,
                    "data": {
                        "text/plain": "[{'originalEventTimestamp_t': datetime.datetime(2020, 11, 1, 4, 30, tzinfo=tzutc()), 'action_name_s': 'DATABASE AUTHENTICATION SUCCEEDED', 'event_count': 19},\n {'originalEventTimestamp_t': datetime.datetime(2020, 11, 1, 4, 30, tzinfo=tzutc()), 'action_name_s': 'BATCH COMPLETED', 'event_count': 109},\n {'originalEventTimestamp_t': datetime.datetime(2020, 11, 1, 4, 30, tzinfo=tzutc()), 'action_name_s': 'RPC COMPLETED', 'event_count': 32},\n {'originalEventTimestamp_t': datetime.datetime(2020, 11, 1, 4, 0, tzinfo=tzutc()), 'action_name_s': 'AUDIT SESSION CHANGED', 'event_count': 2},\n {'originalEventTimestamp_t': datetime.datetime(2020, 11, 7, 23, 50, tzinfo=tzutc()), 'action_name_s': 'DATABASE AUTHENTICATION SUCCEEDED', 'event_count': 6},\n {'originalEventTimestamp_t': datetime.datetime(2020, 11, 7, 23, 50, tzinfo=tzutc()), 'action_name_s': 'BATCH COMPLETED', 'event_count': 26},\n {'originalEventTimestamp_t': datetime.datetime(2020, 11, 7, 23, 50, tzinfo=tzutc()), 'action_name_s': 'RPC COMPLETED', 'event_count': 1},\n {'originalEventTimestamp_t': datetime.datetime(2020, 11, 8, 20, 50, tzinfo=tzutc()), 'action_name_s': 'DATABASE AUTHENTICATION SUCCEEDED', 'event_count': 7},\n {'originalEventTimestamp_t': datetime.datetime(2020, 11, 8, 20, 50, tzinfo=tzutc()), 'action_name_s': 'BATCH COMPLETED', 'event_count': 29},\n {'originalEventTimestamp_t': datetime.datetime(2020, 11, 8, 20, 50, tzinfo=tzutc()), 'action_name_s': 'RPC COMPLETED', 'event_count': 3}]",
                        "text/html": ""
                    },
                    "metadata": {}
                }
            ],
            "execution_count": 6
        },
        {
            "cell_type": "markdown",
            "source": [
                "### **Example 3: Summarize Action Name from the AzureDiagnostic table**\r\n",
                "\r\n",
                "Let's summarize the actions captured in Azure Diagnostic for the specific Azure SQL database server."
            ],
            "metadata": {
                "azdata_cell_guid": "419315d9-049a-4fa0-bce8-a0e5a62a6fd8"
            }
        },
        {
            "cell_type": "code",
            "source": [
                "%%kql let _server = logicalServerName;\r\n",
                "AzureDiagnostics\r\n",
                "| where LogicalServerName_s == _server\r\n",
                "| summarize EventCount = count() by Action = action_name_s\r\n",
                "| render barchart with (title = _server)"
            ],
            "metadata": {
                "azdata_cell_guid": "4149a258-6851-4037-8b8a-caca1bec3289"
            },
            "outputs": [
                {
                    "output_type": "display_data",
                    "data": {
                        "text/plain": "<IPython.core.display.HTML object>",
                        "text/html": "<html>\n        <head>\n            \n            \n        </head>\n        <body>\n            <div><p style='padding: 10px; color: #3a87ad; background-color: #d9edf7; border-color: #bce9f1'>&nbsp;*&nbsp;myLAConnection@loganalytics</p></div>\n        </body>\n        </html>"
                    },
                    "metadata": {}
                },
                {
                    "output_type": "display_data",
                    "data": {
                        "application/vnd.plotly.v1+json": {
                            "config": {
                                "plotlyServerURL": "https://plot.ly"
                            },
                            "data": [
                                {
                                    "marker": {
                                        "color": "rgb(31, 118, 179)"
                                    },
                                    "name": "EventCount",
                                    "orientation": "h",
                                    "type": "bar",
                                    "x": [
                                        32,
                                        164,
                                        36,
                                        2
                                    ],
                                    "y": [
                                        "DATABASE AUTHENTICATION SUCCEEDED",
                                        "BATCH COMPLETED",
                                        "RPC COMPLETED",
                                        "AUDIT SESSION CHANGED"
                                    ]
                                }
                            ],
                            "layout": {
                                "showlegend": true,
                                "template": {
                                    "data": {
                                        "bar": [
                                            {
                                                "error_x": {
                                                    "color": "#2a3f5f"
                                                },
                                                "error_y": {
                                                    "color": "#2a3f5f"
                                                },
                                                "marker": {
                                                    "line": {
                                                        "color": "#E5ECF6",
                                                        "width": 0.5
                                                    }
                                                },
                                                "type": "bar"
                                            }
                                        ],
                                        "barpolar": [
                                            {
                                                "marker": {
                                                    "line": {
                                                        "color": "#E5ECF6",
                                                        "width": 0.5
                                                    }
                                                },
                                                "type": "barpolar"
                                            }
                                        ],
                                        "carpet": [
                                            {
                                                "aaxis": {
                                                    "endlinecolor": "#2a3f5f",
                                                    "gridcolor": "white",
                                                    "linecolor": "white",
                                                    "minorgridcolor": "white",
                                                    "startlinecolor": "#2a3f5f"
                                                },
                                                "baxis": {
                                                    "endlinecolor": "#2a3f5f",
                                                    "gridcolor": "white",
                                                    "linecolor": "white",
                                                    "minorgridcolor": "white",
                                                    "startlinecolor": "#2a3f5f"
                                                },
                                                "type": "carpet"
                                            }
                                        ],
                                        "choropleth": [
                                            {
                                                "colorbar": {
                                                    "outlinewidth": 0,
                                                    "ticks": ""
                                                },
                                                "type": "choropleth"
                                            }
                                        ],
                                        "contour": [
                                            {
                                                "colorbar": {
                                                    "outlinewidth": 0,
                                                    "ticks": ""
                                                },
                                                "colorscale": [
                                                    [
                                                        0,
                                                        "#0d0887"
                                                    ],
                                                    [
                                                        0.1111111111111111,
                                                        "#46039f"
                                                    ],
                                                    [
                                                        0.2222222222222222,
                                                        "#7201a8"
                                                    ],
                                                    [
                                                        0.3333333333333333,
                                                        "#9c179e"
                                                    ],
                                                    [
                                                        0.4444444444444444,
                                                        "#bd3786"
                                                    ],
                                                    [
                                                        0.5555555555555556,
                                                        "#d8576b"
                                                    ],
                                                    [
                                                        0.6666666666666666,
                                                        "#ed7953"
                                                    ],
                                                    [
                                                        0.7777777777777778,
                                                        "#fb9f3a"
                                                    ],
                                                    [
                                                        0.8888888888888888,
                                                        "#fdca26"
                                                    ],
                                                    [
                                                        1,
                                                        "#f0f921"
                                                    ]
                                                ],
                                                "type": "contour"
                                            }
                                        ],
                                        "contourcarpet": [
                                            {
                                                "colorbar": {
                                                    "outlinewidth": 0,
                                                    "ticks": ""
                                                },
                                                "type": "contourcarpet"
                                            }
                                        ],
                                        "heatmap": [
                                            {
                                                "colorbar": {
                                                    "outlinewidth": 0,
                                                    "ticks": ""
                                                },
                                                "colorscale": [
                                                    [
                                                        0,
                                                        "#0d0887"
                                                    ],
                                                    [
                                                        0.1111111111111111,
                                                        "#46039f"
                                                    ],
                                                    [
                                                        0.2222222222222222,
                                                        "#7201a8"
                                                    ],
                                                    [
                                                        0.3333333333333333,
                                                        "#9c179e"
                                                    ],
                                                    [
                                                        0.4444444444444444,
                                                        "#bd3786"
                                                    ],
                                                    [
                                                        0.5555555555555556,
                                                        "#d8576b"
                                                    ],
                                                    [
                                                        0.6666666666666666,
                                                        "#ed7953"
                                                    ],
                                                    [
                                                        0.7777777777777778,
                                                        "#fb9f3a"
                                                    ],
                                                    [
                                                        0.8888888888888888,
                                                        "#fdca26"
                                                    ],
                                                    [
                                                        1,
                                                        "#f0f921"
                                                    ]
                                                ],
                                                "type": "heatmap"
                                            }
                                        ],
                                        "heatmapgl": [
                                            {
                                                "colorbar": {
                                                    "outlinewidth": 0,
                                                    "ticks": ""
                                                },
                                                "colorscale": [
                                                    [
                                                        0,
                                                        "#0d0887"
                                                    ],
                                                    [
                                                        0.1111111111111111,
                                                        "#46039f"
                                                    ],
                                                    [
                                                        0.2222222222222222,
                                                        "#7201a8"
                                                    ],
                                                    [
                                                        0.3333333333333333,
                                                        "#9c179e"
                                                    ],
                                                    [
                                                        0.4444444444444444,
                                                        "#bd3786"
                                                    ],
                                                    [
                                                        0.5555555555555556,
                                                        "#d8576b"
                                                    ],
                                                    [
                                                        0.6666666666666666,
                                                        "#ed7953"
                                                    ],
                                                    [
                                                        0.7777777777777778,
                                                        "#fb9f3a"
                                                    ],
                                                    [
                                                        0.8888888888888888,
                                                        "#fdca26"
                                                    ],
                                                    [
                                                        1,
                                                        "#f0f921"
                                                    ]
                                                ],
                                                "type": "heatmapgl"
                                            }
                                        ],
                                        "histogram": [
                                            {
                                                "marker": {
                                                    "colorbar": {
                                                        "outlinewidth": 0,
                                                        "ticks": ""
                                                    }
                                                },
                                                "type": "histogram"
                                            }
                                        ],
                                        "histogram2d": [
                                            {
                                                "colorbar": {
                                                    "outlinewidth": 0,
                                                    "ticks": ""
                                                },
                                                "colorscale": [
                                                    [
                                                        0,
                                                        "#0d0887"
                                                    ],
                                                    [
                                                        0.1111111111111111,
                                                        "#46039f"
                                                    ],
                                                    [
                                                        0.2222222222222222,
                                                        "#7201a8"
                                                    ],
                                                    [
                                                        0.3333333333333333,
                                                        "#9c179e"
                                                    ],
                                                    [
                                                        0.4444444444444444,
                                                        "#bd3786"
                                                    ],
                                                    [
                                                        0.5555555555555556,
                                                        "#d8576b"
                                                    ],
                                                    [
                                                        0.6666666666666666,
                                                        "#ed7953"
                                                    ],
                                                    [
                                                        0.7777777777777778,
                                                        "#fb9f3a"
                                                    ],
                                                    [
                                                        0.8888888888888888,
                                                        "#fdca26"
                                                    ],
                                                    [
                                                        1,
                                                        "#f0f921"
                                                    ]
                                                ],
                                                "type": "histogram2d"
                                            }
                                        ],
                                        "histogram2dcontour": [
                                            {
                                                "colorbar": {
                                                    "outlinewidth": 0,
                                                    "ticks": ""
                                                },
                                                "colorscale": [
                                                    [
                                                        0,
                                                        "#0d0887"
                                                    ],
                                                    [
                                                        0.1111111111111111,
                                                        "#46039f"
                                                    ],
                                                    [
                                                        0.2222222222222222,
                                                        "#7201a8"
                                                    ],
                                                    [
                                                        0.3333333333333333,
                                                        "#9c179e"
                                                    ],
                                                    [
                                                        0.4444444444444444,
                                                        "#bd3786"
                                                    ],
                                                    [
                                                        0.5555555555555556,
                                                        "#d8576b"
                                                    ],
                                                    [
                                                        0.6666666666666666,
                                                        "#ed7953"
                                                    ],
                                                    [
                                                        0.7777777777777778,
                                                        "#fb9f3a"
                                                    ],
                                                    [
                                                        0.8888888888888888,
                                                        "#fdca26"
                                                    ],
                                                    [
                                                        1,
                                                        "#f0f921"
                                                    ]
                                                ],
                                                "type": "histogram2dcontour"
                                            }
                                        ],
                                        "mesh3d": [
                                            {
                                                "colorbar": {
                                                    "outlinewidth": 0,
                                                    "ticks": ""
                                                },
                                                "type": "mesh3d"
                                            }
                                        ],
                                        "parcoords": [
                                            {
                                                "line": {
                                                    "colorbar": {
                                                        "outlinewidth": 0,
                                                        "ticks": ""
                                                    }
                                                },
                                                "type": "parcoords"
                                            }
                                        ],
                                        "pie": [
                                            {
                                                "automargin": true,
                                                "type": "pie"
                                            }
                                        ],
                                        "scatter": [
                                            {
                                                "marker": {
                                                    "colorbar": {
                                                        "outlinewidth": 0,
                                                        "ticks": ""
                                                    }
                                                },
                                                "type": "scatter"
                                            }
                                        ],
                                        "scatter3d": [
                                            {
                                                "line": {
                                                    "colorbar": {
                                                        "outlinewidth": 0,
                                                        "ticks": ""
                                                    }
                                                },
                                                "marker": {
                                                    "colorbar": {
                                                        "outlinewidth": 0,
                                                        "ticks": ""
                                                    }
                                                },
                                                "type": "scatter3d"
                                            }
                                        ],
                                        "scattercarpet": [
                                            {
                                                "marker": {
                                                    "colorbar": {
                                                        "outlinewidth": 0,
                                                        "ticks": ""
                                                    }
                                                },
                                                "type": "scattercarpet"
                                            }
                                        ],
                                        "scattergeo": [
                                            {
                                                "marker": {
                                                    "colorbar": {
                                                        "outlinewidth": 0,
                                                        "ticks": ""
                                                    }
                                                },
                                                "type": "scattergeo"
                                            }
                                        ],
                                        "scattergl": [
                                            {
                                                "marker": {
                                                    "colorbar": {
                                                        "outlinewidth": 0,
                                                        "ticks": ""
                                                    }
                                                },
                                                "type": "scattergl"
                                            }
                                        ],
                                        "scattermapbox": [
                                            {
                                                "marker": {
                                                    "colorbar": {
                                                        "outlinewidth": 0,
                                                        "ticks": ""
                                                    }
                                                },
                                                "type": "scattermapbox"
                                            }
                                        ],
                                        "scatterpolar": [
                                            {
                                                "marker": {
                                                    "colorbar": {
                                                        "outlinewidth": 0,
                                                        "ticks": ""
                                                    }
                                                },
                                                "type": "scatterpolar"
                                            }
                                        ],
                                        "scatterpolargl": [
                                            {
                                                "marker": {
                                                    "colorbar": {
                                                        "outlinewidth": 0,
                                                        "ticks": ""
                                                    }
                                                },
                                                "type": "scatterpolargl"
                                            }
                                        ],
                                        "scatterternary": [
                                            {
                                                "marker": {
                                                    "colorbar": {
                                                        "outlinewidth": 0,
                                                        "ticks": ""
                                                    }
                                                },
                                                "type": "scatterternary"
                                            }
                                        ],
                                        "surface": [
                                            {
                                                "colorbar": {
                                                    "outlinewidth": 0,
                                                    "ticks": ""
                                                },
                                                "colorscale": [
                                                    [
                                                        0,
                                                        "#0d0887"
                                                    ],
                                                    [
                                                        0.1111111111111111,
                                                        "#46039f"
                                                    ],
                                                    [
                                                        0.2222222222222222,
                                                        "#7201a8"
                                                    ],
                                                    [
                                                        0.3333333333333333,
                                                        "#9c179e"
                                                    ],
                                                    [
                                                        0.4444444444444444,
                                                        "#bd3786"
                                                    ],
                                                    [
                                                        0.5555555555555556,
                                                        "#d8576b"
                                                    ],
                                                    [
                                                        0.6666666666666666,
                                                        "#ed7953"
                                                    ],
                                                    [
                                                        0.7777777777777778,
                                                        "#fb9f3a"
                                                    ],
                                                    [
                                                        0.8888888888888888,
                                                        "#fdca26"
                                                    ],
                                                    [
                                                        1,
                                                        "#f0f921"
                                                    ]
                                                ],
                                                "type": "surface"
                                            }
                                        ],
                                        "table": [
                                            {
                                                "cells": {
                                                    "fill": {
                                                        "color": "#EBF0F8"
                                                    },
                                                    "line": {
                                                        "color": "white"
                                                    }
                                                },
                                                "header": {
                                                    "fill": {
                                                        "color": "#C8D4E3"
                                                    },
                                                    "line": {
                                                        "color": "white"
                                                    }
                                                },
                                                "type": "table"
                                            }
                                        ]
                                    },
                                    "layout": {
                                        "annotationdefaults": {
                                            "arrowcolor": "#2a3f5f",
                                            "arrowhead": 0,
                                            "arrowwidth": 1
                                        },
                                        "coloraxis": {
                                            "colorbar": {
                                                "outlinewidth": 0,
                                                "ticks": ""
                                            }
                                        },
                                        "colorscale": {
                                            "diverging": [
                                                [
                                                    0,
                                                    "#8e0152"
                                                ],
                                                [
                                                    0.1,
                                                    "#c51b7d"
                                                ],
                                                [
                                                    0.2,
                                                    "#de77ae"
                                                ],
                                                [
                                                    0.3,
                                                    "#f1b6da"
                                                ],
                                                [
                                                    0.4,
                                                    "#fde0ef"
                                                ],
                                                [
                                                    0.5,
                                                    "#f7f7f7"
                                                ],
                                                [
                                                    0.6,
                                                    "#e6f5d0"
                                                ],
                                                [
                                                    0.7,
                                                    "#b8e186"
                                                ],
                                                [
                                                    0.8,
                                                    "#7fbc41"
                                                ],
                                                [
                                                    0.9,
                                                    "#4d9221"
                                                ],
                                                [
                                                    1,
                                                    "#276419"
                                                ]
                                            ],
                                            "sequential": [
                                                [
                                                    0,
                                                    "#0d0887"
                                                ],
                                                [
                                                    0.1111111111111111,
                                                    "#46039f"
                                                ],
                                                [
                                                    0.2222222222222222,
                                                    "#7201a8"
                                                ],
                                                [
                                                    0.3333333333333333,
                                                    "#9c179e"
                                                ],
                                                [
                                                    0.4444444444444444,
                                                    "#bd3786"
                                                ],
                                                [
                                                    0.5555555555555556,
                                                    "#d8576b"
                                                ],
                                                [
                                                    0.6666666666666666,
                                                    "#ed7953"
                                                ],
                                                [
                                                    0.7777777777777778,
                                                    "#fb9f3a"
                                                ],
                                                [
                                                    0.8888888888888888,
                                                    "#fdca26"
                                                ],
                                                [
                                                    1,
                                                    "#f0f921"
                                                ]
                                            ],
                                            "sequentialminus": [
                                                [
                                                    0,
                                                    "#0d0887"
                                                ],
                                                [
                                                    0.1111111111111111,
                                                    "#46039f"
                                                ],
                                                [
                                                    0.2222222222222222,
                                                    "#7201a8"
                                                ],
                                                [
                                                    0.3333333333333333,
                                                    "#9c179e"
                                                ],
                                                [
                                                    0.4444444444444444,
                                                    "#bd3786"
                                                ],
                                                [
                                                    0.5555555555555556,
                                                    "#d8576b"
                                                ],
                                                [
                                                    0.6666666666666666,
                                                    "#ed7953"
                                                ],
                                                [
                                                    0.7777777777777778,
                                                    "#fb9f3a"
                                                ],
                                                [
                                                    0.8888888888888888,
                                                    "#fdca26"
                                                ],
                                                [
                                                    1,
                                                    "#f0f921"
                                                ]
                                            ]
                                        },
                                        "colorway": [
                                            "#636efa",
                                            "#EF553B",
                                            "#00cc96",
                                            "#ab63fa",
                                            "#FFA15A",
                                            "#19d3f3",
                                            "#FF6692",
                                            "#B6E880",
                                            "#FF97FF",
                                            "#FECB52"
                                        ],
                                        "font": {
                                            "color": "#2a3f5f"
                                        },
                                        "geo": {
                                            "bgcolor": "white",
                                            "lakecolor": "white",
                                            "landcolor": "#E5ECF6",
                                            "showlakes": true,
                                            "showland": true,
                                            "subunitcolor": "white"
                                        },
                                        "hoverlabel": {
                                            "align": "left"
                                        },
                                        "hovermode": "closest",
                                        "mapbox": {
                                            "style": "light"
                                        },
                                        "paper_bgcolor": "white",
                                        "plot_bgcolor": "#E5ECF6",
                                        "polar": {
                                            "angularaxis": {
                                                "gridcolor": "white",
                                                "linecolor": "white",
                                                "ticks": ""
                                            },
                                            "bgcolor": "#E5ECF6",
                                            "radialaxis": {
                                                "gridcolor": "white",
                                                "linecolor": "white",
                                                "ticks": ""
                                            }
                                        },
                                        "scene": {
                                            "xaxis": {
                                                "backgroundcolor": "#E5ECF6",
                                                "gridcolor": "white",
                                                "gridwidth": 2,
                                                "linecolor": "white",
                                                "showbackground": true,
                                                "ticks": "",
                                                "zerolinecolor": "white"
                                            },
                                            "yaxis": {
                                                "backgroundcolor": "#E5ECF6",
                                                "gridcolor": "white",
                                                "gridwidth": 2,
                                                "linecolor": "white",
                                                "showbackground": true,
                                                "ticks": "",
                                                "zerolinecolor": "white"
                                            },
                                            "zaxis": {
                                                "backgroundcolor": "#E5ECF6",
                                                "gridcolor": "white",
                                                "gridwidth": 2,
                                                "linecolor": "white",
                                                "showbackground": true,
                                                "ticks": "",
                                                "zerolinecolor": "white"
                                            }
                                        },
                                        "shapedefaults": {
                                            "line": {
                                                "color": "#2a3f5f"
                                            }
                                        },
                                        "ternary": {
                                            "aaxis": {
                                                "gridcolor": "white",
                                                "linecolor": "white",
                                                "ticks": ""
                                            },
                                            "baxis": {
                                                "gridcolor": "white",
                                                "linecolor": "white",
                                                "ticks": ""
                                            },
                                            "bgcolor": "#E5ECF6",
                                            "caxis": {
                                                "gridcolor": "white",
                                                "linecolor": "white",
                                                "ticks": ""
                                            }
                                        },
                                        "title": {
                                            "x": 0.05
                                        },
                                        "xaxis": {
                                            "automargin": true,
                                            "gridcolor": "white",
                                            "linecolor": "white",
                                            "ticks": "",
                                            "title": {
                                                "standoff": 15
                                            },
                                            "zerolinecolor": "white",
                                            "zerolinewidth": 2
                                        },
                                        "yaxis": {
                                            "automargin": true,
                                            "gridcolor": "white",
                                            "linecolor": "white",
                                            "ticks": "",
                                            "title": {
                                                "standoff": 15
                                            },
                                            "zerolinecolor": "white",
                                            "zerolinewidth": 2
                                        }
                                    }
                                },
                                "title": {
                                    "text": "mssqlgirl02"
                                },
                                "xaxis": {
                                    "ticksuffix": "",
                                    "title": {
                                        "text": "EventCount"
                                    },
                                    "type": "linear"
                                },
                                "yaxis": {
                                    "title": {
                                        "text": "Action"
                                    },
                                    "type": "category"
                                }
                            }
                        }
                    },
                    "metadata": {}
                },
                {
                    "output_type": "display_data",
                    "data": {
                        "text/plain": "<IPython.core.display.HTML object>",
                        "text/html": "<html>\n        <head>\n            \n            \n        </head>\n        <body>\n            <div><p style='padding: 10px; color: #3a87ad; background-color: #d9edf7; border-color: #bce9f1'>Done&nbsp;(00:03.233):&nbsp;4&nbsp;records</p></div>\n        </body>\n        </html>"
                    },
                    "metadata": {}
                },
                {
                    "output_type": "execute_result",
                    "execution_count": 8,
                    "data": {
                        "text/plain": "[{'Action': 'DATABASE AUTHENTICATION SUCCEEDED', 'EventCount': 32},\n {'Action': 'BATCH COMPLETED', 'EventCount': 164},\n {'Action': 'RPC COMPLETED', 'EventCount': 36},\n {'Action': 'AUDIT SESSION CHANGED', 'EventCount': 2}]",
                        "text/html": ""
                    },
                    "metadata": {}
                }
            ],
            "execution_count": 8
        },
        {
            "cell_type": "markdown",
            "source": [
                "## Summary\r\n",
                "\r\n",
                "This notebook focuses on combining the new parameterization feature of Notebooks in Azure Data Studio in a practical Kqlmagic example. This show cases how you can use parameterize notebooks and analyze data in Azure Log Analytics about an Azure SQL database."
            ],
            "metadata": {
                "azdata_cell_guid": "28340bb8-0340-480f-94a1-5e66f2ca88c1"
            }
        },
        {
            "cell_type": "markdown",
            "source": [
                "# FAQ"
            ],
            "metadata": {
                "azdata_cell_guid": "26b5808e-3a5e-4f96-bf3a-636d6d7f1f78"
            }
        },
        {
            "cell_type": "markdown",
            "source": [
                "## 1. How do I setup an Azure Log Analytics Reader app for my Log Analytics workspace?  \n",
                "This notebook shows an example of how to query Log Analytics workspace via an authorized Azure app client, instead of an Azure User Authentication. To do this, simply:\n",
                "\n",
                "1. Create a new _app_ via **App registrations** from http://portal.azure.com.\n",
                "    You don't need to provide a web URL.      \n",
                "2. Create a new **API Permission** for the _app_ that you've just created.  \n",
                "    Set the API permision to **Log Analytics Read** as **Application Permission** (not Delegation).   \n",
                "    **Grant admin consent for Default Directory** for this API permission.\n",
                "3. Create a client secret for the _app_, and set the appropriate directory. Copy the Client Secret value. \n",
                "4. Now go back to your app's Overview. This should provide you Application (client) ID and Directory (tenant) ID.\n",
                "    So now you have the three values that you need for this notebook. \n",
                "\n",
                ".. and the last piece: **Don't forget to link the new _app_ to your Log Analytics workspace**. To do this:\n",
                "1. Navigate to the **Log Analytics workspace** > **Access control (IAM)** > **Role assignments**.  \n",
                "2. Add a new role assignment, with the following settings:  \\\n",
                "    Role: Log Analytics Reader  \n",
                "    Assign access to: User, group, or service principal  \n",
                "    Select: the new _app_ name that you created earlier. \n",
                "\n",
                "> **Tip**: Dennes Torres wrote \"The Solution\" section here that helped me to set this up too :)  \n",
                "Check it out here: https://www.red-gate.com/simple-talk/blogs/connecting-log-analytics-using-azure-data-studio-kql/"
            ],
            "metadata": {
                "azdata_cell_guid": "f578baa5-005e-4fec-8e4d-e93061888673"
            }
        },
        {
            "cell_type": "markdown",
            "source": [
                "## 2. Wait, backup a bit here, how do I setup an Azure Log Analytics workspace for my Azure SQL DB? \r\n",
                "\r\n",
                "The following blogs helped me with how to ensure that some diagnostic and/or log data of my Azure SQL server or database get sent to my Log Analytics workspace. \r\n",
                "\r\n",
                "1. [Azure SQL DB and Azure Log Analytics Better Together - Part 1](https://techcommunity.microsoft.com/t5/azure-database-support-blog/azure-sql-db-and-log-analytics-better-together-part-1/ba-p/794833#:~:text=%20AZURE%20SQL%20DB%20AND%20LOG%20ANALYTICS%20BETTER,the%20database%20using%20a%20language%20called...%20More%20) shows how to connect your Azure SQL databases with Azure Log Analytics.\r\n",
                "2. [Azure SQL DB - Restore to a point in time](https://docs.microsoft.com/en-us/learn/modules/azure-sql-high-availability/3-exercise-restore-point-in-time) module from Azure SQL Funamentals training has sparked some ideas on how you can better leverage Log Analytics for your Azure SQL server.\r\n",
                "\r\n",
                ""
            ],
            "metadata": {
                "azdata_cell_guid": "69699f40-f487-412d-b233-5e272a6ba9c1"
            }
        }
    ]
}