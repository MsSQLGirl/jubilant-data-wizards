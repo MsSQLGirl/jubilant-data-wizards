{
    "metadata": {
        "kernelspec": {
            "name": "SQL",
            "display_name": "SQL",
            "language": "sql"
        },
        "language_info": {
            "name": "sql",
            "version": ""
        }
    },
    "nbformat_minor": 2,
    "nbformat": 4,
    "cells": [
        {
            "cell_type": "markdown",
            "source": [
                "# **Executable TSG for WideWorldImporters**\n",
                "\n",
                "This notebook is adapted from Glenn Berry's [**Azure SQL Database Diagnostic Information Queries.** ](https://glennsqlperformance.com/2021/02/02/sql-server-diagnostic-information-queries-for-february-2021/).\n",
                "\n",
                "- Originally written by Glenn Berry\n",
                "- Version: August 2, 2020\n",
                "- Twitter: GlennAlanBerry\n",
                "- Blog: [https://glennsqlperformance.com/](https://glennsqlperformance.com/)\n",
                "- YouTube: [https://bit.ly/2PkoAM1](https://bit.ly/2PkoAM1)\n",
                "\n",
                "> **Copyright (C) 2020 Glenn Berry**  \n",
                "> All rights reserved.  \n",
                "> You may alter this code for your own _non-commercial_ purposes.  \n",
                "> You may republish altered code as long as you include this copyright and give due credit.  \n",
                ">   \n",
                "> THIS CODE AND INFORMATION ARE PROVIDED \"AS IS\" WITHOUT WARRANTY OF ANY KIND, EITHER EXPRESSED OR IMPLIED, INCLUDING BUT NOT LIMITED TO THE IMPLIED WARRANTIES OF MERCHANTABILITY AND/OR FITNESS FOR A PARTICULAR PURPOSE."
            ],
            "metadata": {
                "azdata_cell_guid": "8a4fe986-eb72-4be8-bab8-4dbd51627777"
            }
        },
        {
            "cell_type": "markdown",
            "source": [
                "# Server-Level Queries\r\n",
                "\r\n",
                "Make sure you are connected a user database, rather than the master system database"
            ],
            "metadata": {
                "azdata_cell_guid": "5b6ac5cd-cee9-4578-9504-08b1fa55c308"
            }
        },
        {
            "cell_type": "markdown",
            "source": [
                "## SQL and OS Version information for current instance  (Query 1) (Version Info)"
            ],
            "metadata": {
                "azdata_cell_guid": "30d70523-a17f-4cca-83f4-44c25c6cc12d"
            }
        },
        {
            "cell_type": "code",
            "source": [
                "-- SQL and OS Version information for current instance  (Query 1) (Version Info)\r\n",
                "SELECT @@SERVERNAME AS [Server Name], @@VERSION AS [SQL Server and OS Version Info];"
            ],
            "metadata": {
                "azdata_cell_guid": "56d600ed-93fd-4fff-8d3b-c0dfdf033fbf",
                "tags": [
                    "hide_input"
                ]
            },
            "outputs": [
                {
                    "output_type": "display_data",
                    "data": {
                        "text/html": "(1 row affected)"
                    },
                    "metadata": {}
                },
                {
                    "output_type": "display_data",
                    "data": {
                        "text/html": "Total execution time: 00:00:00.116"
                    },
                    "metadata": {}
                },
                {
                    "output_type": "execute_result",
                    "metadata": {},
                    "execution_count": 32,
                    "data": {
                        "application/vnd.dataresource+json": {
                            "schema": {
                                "fields": [
                                    {
                                        "name": "Server Name"
                                    },
                                    {
                                        "name": "SQL Server and OS Version Info"
                                    }
                                ]
                            },
                            "data": [
                                {
                                    "0": "jukoesmasqldb",
                                    "1": "Microsoft SQL Azure (RTM) - 12.0.2000.8 \n\tFeb 20 2021 17:51:58 \n\tCopyright (C) 2019 Microsoft Corporation\n"
                                }
                            ]
                        },
                        "text/html": [
                            "<table>",
                            "<tr><th>Server Name</th><th>SQL Server and OS Version Info</th></tr>",
                            "<tr><td>jukoesmasqldb</td><td>Microsoft SQL Azure (RTM) - 12.0.2000.8 \n\tFeb 20 2021 17:51:58 \n\tCopyright (C) 2019 Microsoft Corporation\n</td></tr>",
                            "</table>"
                        ]
                    }
                }
            ],
            "execution_count": 32
        },
        {
            "cell_type": "markdown",
            "source": [
                "Useful links related to the above query:\r\n",
                "* [Download and install Azure Data Studio](https://bit.ly/2vgke1A)"
            ],
            "metadata": {
                "azdata_cell_guid": "c67f68fc-4b1a-41b5-968c-80ef608bf9b3"
            }
        },
        {
            "cell_type": "markdown",
            "source": [
                "## Detect blocking (run multiple times)  (Query 9) (Detect Blocking)"
            ],
            "metadata": {
                "azdata_cell_guid": "76df2148-9a87-4642-9dfa-aae374ca8be1"
            }
        },
        {
            "cell_type": "code",
            "source": [
                "-- Detect blocking (run multiple times)  (Query 9) (Detect Blocking)\r\n",
                "SELECT t1.resource_type AS [lock type], DB_NAME(resource_database_id) AS [database],\r\n",
                "t1.resource_associated_entity_id AS [blk object],t1.request_mode AS [lock req],  -- lock requested\r\n",
                "t1.request_session_id AS [waiter sid], t2.wait_duration_ms AS [wait time],       -- spid of waiter  \r\n",
                "(SELECT [text] FROM sys.dm_exec_requests AS r WITH (NOLOCK)                      -- get sql for waiter\r\n",
                "CROSS APPLY sys.dm_exec_sql_text(r.[sql_handle]) \r\n",
                "WHERE r.session_id = t1.request_session_id) AS [waiter_batch],\r\n",
                "(SELECT SUBSTRING(qt.[text],r.statement_start_offset/2, \r\n",
                "    (CASE WHEN r.statement_end_offset = -1 \r\n",
                "    THEN LEN(CONVERT(nvarchar(max), qt.[text])) * 2 \r\n",
                "    ELSE r.statement_end_offset END - r.statement_start_offset)/2) \r\n",
                "FROM sys.dm_exec_requests AS r WITH (NOLOCK)\r\n",
                "CROSS APPLY sys.dm_exec_sql_text(r.[sql_handle]) AS qt\r\n",
                "WHERE r.session_id = t1.request_session_id) AS [waiter_stmt],\t\t\t\t\t-- statement blocked\r\n",
                "t2.blocking_session_id AS [blocker sid],\t\t\t\t\t\t\t\t\t\t-- spid of blocker\r\n",
                "(SELECT [text] FROM sys.sysprocesses AS p\t\t\t\t\t\t\t\t\t\t-- get sql for blocker\r\n",
                "CROSS APPLY sys.dm_exec_sql_text(p.[sql_handle]) \r\n",
                "WHERE p.spid = t2.blocking_session_id) AS [blocker_batch]\r\n",
                "FROM sys.dm_tran_locks AS t1 WITH (NOLOCK)\r\n",
                "INNER JOIN sys.dm_os_waiting_tasks AS t2 WITH (NOLOCK)\r\n",
                "ON t1.lock_owner_address = t2.resource_address OPTION (RECOMPILE);"
            ],
            "metadata": {
                "azdata_cell_guid": "b9bd2930-e5bc-4415-9d89-4ccfc0be9334",
                "tags": [
                    "hide_input"
                ]
            },
            "outputs": [
                {
                    "output_type": "display_data",
                    "data": {
                        "text/html": "(0 rows affected)"
                    },
                    "metadata": {}
                },
                {
                    "output_type": "display_data",
                    "data": {
                        "text/html": "Total execution time: 00:00:00.078"
                    },
                    "metadata": {}
                },
                {
                    "output_type": "execute_result",
                    "metadata": {},
                    "execution_count": 33,
                    "data": {
                        "application/vnd.dataresource+json": {
                            "schema": {
                                "fields": [
                                    {
                                        "name": "lock type"
                                    },
                                    {
                                        "name": "database"
                                    },
                                    {
                                        "name": "blk object"
                                    },
                                    {
                                        "name": "lock req"
                                    },
                                    {
                                        "name": "waiter sid"
                                    },
                                    {
                                        "name": "wait time"
                                    },
                                    {
                                        "name": "waiter_batch"
                                    },
                                    {
                                        "name": "waiter_stmt"
                                    },
                                    {
                                        "name": "blocker sid"
                                    },
                                    {
                                        "name": "blocker_batch"
                                    }
                                ]
                            },
                            "data": []
                        },
                        "text/html": [
                            "<table>",
                            "<tr><th>lock type</th><th>database</th><th>blk object</th><th>lock req</th><th>waiter sid</th><th>wait time</th><th>waiter_batch</th><th>waiter_stmt</th><th>blocker sid</th><th>blocker_batch</th></tr>",
                            "</table>"
                        ]
                    }
                }
            ],
            "execution_count": 33
        },
        {
            "cell_type": "markdown",
            "source": [
                "Helps troubleshoot blocking and deadlocking issues\r\n",
                "- The results will change from second to second on a busy system\r\n",
                "- You should run this query multiple times when you see signs of blocking"
            ],
            "metadata": {
                "azdata_cell_guid": "15412a8a-2e65-4b59-a904-ca3012cf6528"
            }
        },
        {
            "cell_type": "markdown",
            "source": [
                "## Find single-use, ad-hoc and prepared queries that are bloating the plan cache  (Query 13) (Ad hoc Queries)"
            ],
            "metadata": {
                "azdata_cell_guid": "8c166c58-ca7f-4fa5-9f6f-d4570ddf2020"
            }
        },
        {
            "cell_type": "code",
            "source": [
                "-- Find single-use, ad-hoc and prepared queries that are bloating the plan cache  (Query 13) (Ad hoc Queries)\r\n",
                "SELECT TOP(10) DB_NAME(t.[dbid]) AS [Database Name], t.[text] AS [Query Text], \r\n",
                "cp.objtype AS [Object Type], cp.cacheobjtype AS [Cache Object Type],  \r\n",
                "cp.size_in_bytes/1024 AS [Plan Size in KB]\r\n",
                "FROM sys.dm_exec_cached_plans AS cp WITH (NOLOCK)\r\n",
                "CROSS APPLY sys.dm_exec_sql_text(plan_handle) AS t\r\n",
                "WHERE cp.cacheobjtype = N'Compiled Plan' \r\n",
                "AND cp.objtype IN (N'Adhoc', N'Prepared') \r\n",
                "AND cp.usecounts = 1\r\n",
                "ORDER BY cp.size_in_bytes DESC, DB_NAME(t.[dbid]) OPTION (RECOMPILE);"
            ],
            "metadata": {
                "azdata_cell_guid": "50b90505-1385-4eab-b96e-7bef1d4a4e38",
                "tags": []
            },
            "outputs": [
                {
                    "output_type": "display_data",
                    "data": {
                        "text/html": "(10 rows affected)"
                    },
                    "metadata": {}
                },
                {
                    "output_type": "display_data",
                    "data": {
                        "text/html": "Total execution time: 00:00:00.521"
                    },
                    "metadata": {}
                },
                {
                    "output_type": "execute_result",
                    "metadata": {},
                    "execution_count": 34,
                    "data": {
                        "application/vnd.dataresource+json": {
                            "schema": {
                                "fields": [
                                    {
                                        "name": "Database Name"
                                    },
                                    {
                                        "name": "Query Text"
                                    },
                                    {
                                        "name": "Object Type"
                                    },
                                    {
                                        "name": "Cache Object Type"
                                    },
                                    {
                                        "name": "Plan Size in KB"
                                    }
                                ]
                            },
                            "data": [
                                {
                                    "0": "WideWorldImporters",
                                    "1": "(@_msparam_0 nvarchar(4000))SELECT\nSCHEMA_NAME(udf.schema_id) AS [Schema],\nudf.name AS [Name],\nudf.object_id AS [ID],\n(case when 'FN' = udf.type then 1 when 'FS' = udf.type then 1 when 'IF' = udf.type then 3 when 'TF' = udf.type then 2 when 'FT' = udf.type then 2 else 0 end) AS [FunctionType],\nCASE WHEN udf.type IN ('FN','IF','TF') THEN 1 WHEN udf.type IN ('FS','FT') THEN 2 ELSE 1 END AS [ImplementationType],\nCAST(\r\n        case\r\n          when udf.is_ms_shipped = 1 then 1\r\n          else 0\r\n        end\r\n       AS bit) AS [IsSystemObject],\nCAST(CASE WHEN ISNULL(smudf.definition, ssmudf.definition) IS NULL THEN 1 ELSE 0 END AS bit) AS [IsEncrypted],\nCAST(ISNULL(OBJECTPROPERTYEX(udf.object_id, N'IsSchemaBound'),0) AS bit) AS [IsSchemaBound],\nusrt.name AS [DataType],\nISNULL(baset.name, N'') AS [SystemType],\nCAST(CASE WHEN baset.name IN (N'nchar', N'nvarchar') AND ret_param.max_length <> -1 THEN ret_param.max_length/2 ELSE ret_param.max_length END AS int) AS [Length],\nCAST(ret_param.precision AS int) AS [NumericPrecision],\nCAST(ret_param.scale AS int) AS [NumericScale],\nISNULL(xscret_param.name, N'') AS [XmlSchemaNamespace],\nISNULL(s2ret_param.name, N'') AS [XmlSchemaNamespaceSchema],\nISNULL( (case ret_param.is_xml_document when 1 then 2 else 1 end), 0) AS [XmlDocumentConstraint],\ns1ret_param.name AS [DataTypeSchema]\nFROM\nsys.all_objects AS udf\nLEFT OUTER JOIN sys.sql_modules AS smudf ON smudf.object_id = udf.object_id\nLEFT OUTER JOIN sys.system_sql_modules AS ssmudf ON ssmudf.object_id = udf.object_id\nLEFT OUTER JOIN sys.all_parameters AS ret_param ON ret_param.object_id = udf.object_id and ret_param.is_output = @_msparam_0\nLEFT OUTER JOIN sys.types AS usrt ON usrt.user_type_id = ret_param.user_type_id\nLEFT OUTER JOIN sys.types AS baset ON (baset.user_type_id = ret_param.system_type_id and baset.user_type_id = baset.system_type_id) or ((baset.system_type_id = ret_param.system_type_id) and (baset.user_type_id = ret_param.user_type_id) and (baset.is_user_defined = 0) and (baset.is_assembly_type = 1)) \nLEFT OUTER JOIN sys.xml_schema_collections AS xscret_param ON xscret_param.xml_collection_id = ret_param.xml_collection_id\nLEFT OUTER JOIN sys.schemas AS s2ret_param ON s2ret_param.schema_id = xscret_param.schema_id\nLEFT OUTER JOIN sys.schemas AS s1ret_param ON s1ret_param.schema_id = usrt.schema_id\nWHERE\n(udf.type in ('TF', 'FN', 'IF', 'FS', 'FT'))\nORDER BY\n[Schema] ASC,[Name] ASC",
                                    "2": "Prepared",
                                    "3": "Compiled Plan",
                                    "4": "552"
                                },
                                {
                                    "0": "WideWorldImporters",
                                    "1": "(@_msparam_0 nvarchar(4000),@_msparam_1 nvarchar(4000))SELECT\nu.name AS [Name],\nu.principal_id AS [ID],\nCAST(CASE WHEN u.principal_id < 5 OR u.principal_id = 16382 OR u.principal_id = 16383 THEN 1 ELSE 0 END AS bit) AS [IsSystemObject],\nCASE WHEN N'U' = u.type THEN 0 WHEN N'G' = u.type THEN 1 WHEN N'S' = u.type THEN 2 WHEN N'C' = u.type THEN 3 WHEN N'K' = u.type THEN 4 WHEN N'E' = u.type THEN 5 WHEN N'X' = u.type THEN 6 END AS [LoginType],\nCAST(CASE dp.state WHEN N'G' THEN 1 WHEN 'W' THEN 1 ELSE 0 END AS bit) AS [HasDBAccess],\nu.sid AS [Sid],\nu.create_date AS [CreateDate],\nu.modify_date AS [DateLastModified],\nISNULL(u.default_schema_name,N'') AS [DefaultSchema],\nISNULL(ak.name,N'') AS [AsymmetricKey],\nISNULL(cert.name,N'') AS [Certificate],\n\r\n        CASE\r\n        WHEN N'C' = u.type THEN 1\r\n        WHEN N'K' = u.type THEN 2\r\n        WHEN N'S' = u.type AND u.authentication_type != 2 AND u.authentication_type != 1 THEN 3\r\n        WHEN N'E' = u.type or N'X' = u.type THEN 4\r\n        ELSE 0 END\r\n       AS [UserType],\nu.authentication_type AS [AuthenticationType]\nFROM\nsys.database_principals AS u\nLEFT OUTER JOIN sys.database_permissions AS dp ON dp.grantee_principal_id = u.principal_id and dp.type = @_msparam_0\nLEFT OUTER JOIN sys.asymmetric_keys AS ak ON ak.sid = u.sid\nLEFT OUTER JOIN sys.certificates AS cert ON cert.sid = u.sid\nWHERE\n(u.type in ('U', 'S', 'G', 'C', 'K' ,'E', 'X'))and(u.name=@_msparam_1)",
                                    "2": "Prepared",
                                    "3": "Compiled Plan",
                                    "4": "400"
                                },
                                {
                                    "0": "master",
                                    "1": " \r\n                DECLARE @serverUtcDate DATETIME\r\n                SET @serverUtcDate = CAST(SERVERPROPERTY('startutcdate') as DATETIME)\r\n                \r\n                DECLARE @lastUtcDate DATETIME\r\n                    \r\n                IF OBJECT_ID('tempdb.dbo.dmv_view_run_history') IS NOT NULL\r\n                    SELECT TOP 1 @lastUtcDate = last_updated_utc\r\n                    FROM tempdb.dbo.dmv_view_run_history\r\n                    WHERE view_id = 'MonDmDbHadrReplicaStates'\r\n                    ORDER BY\r\n                        last_updated_utc DESC\r\n\r\n                DECLARE @startUtcDate DATETIME\r\n                SET @startUtcDate = \r\n                    CASE \r\n                        WHEN @lastUtcDate > @serverUtcDate \r\n                            THEN @lastUtcDate \r\n                        ELSE @serverUtcDate \r\n                    END\r\n\r\n                DECLARE @endUtcDate DATETIME\r\n                SET @endUtcDate = GETUTCDATE();\r\n\r\n                IF OBJECT_ID('tempdb.dbo.dmv_view_run_history') IS NOT NULL\r\n                    IF EXISTS (SELECT * FROM tempdb.dbo.dmv_view_run_history WHERE view_id = 'MonDmDbHadrReplicaStates')\r\n                        UPDATE tempdb.dbo.dmv_view_run_history SET last_updated_utc = @endUtcDate WHERE view_id = 'MonDmDbHadrReplicaStates'\r\n                    ELSE\r\n                        INSERT tempdb.dbo.dmv_view_run_history VALUES ('MonDmDbHadrReplicaStates', @endUtcDate)\r\n                \r\n    SELECT @endUtcDate AS [end_utc_date], @startUtcDate AS [start_utc_date],s2.is_forwarder,s2.is_seeding_in_progress,s2.logical_database_name,s2.database_id,s2.group_id,s2.replica_id,s2.group_database_id,s2.is_local,s2.is_primary_replica,s2.synchronization_state,s2.synchronization_state_desc,s2.is_commit_participant,s2.synchronization_health,s2.synchronization_health_desc,s2.database_state,s2.database_state_desc,s2.is_suspended,s2.suspend_reason,s2.suspend_reason_desc,s2.recovery_lsn,s2.truncation_lsn,s2.last_sent_lsn,s2.last_sent_time,s2.last_received_lsn,s2.last_received_time,s2.last_hardened_lsn,s2.last_hardened_time,s2.last_redone_lsn,s2.last_redone_time,s2.log_send_queue_size,s2.log_send_rate,s2.redo_queue_size,s2.redo_rate,s2.filestream_send_rate,s2.end_of_log_lsn,s2.last_commit_lsn,s2.last_commit_time,s2.low_water_mark_for_ghosts,s2.secondary_lag_seconds,s2.quorum_commit_lsn,s2.quorum_commit_time\r\n    INTO tempdb.dbo.diff_MonDmDbHadrReplicaStates\r\n    FROM #dm_hadr_database_replica_states s2",
                                    "2": "Adhoc",
                                    "3": "Compiled Plan",
                                    "4": "328"
                                },
                                {
                                    "0": "master",
                                    "1": " \r\n                DECLARE @serverUtcDate DATETIME\r\n                SET @serverUtcDate = CAST(SERVERPROPERTY('startutcdate') as DATETIME)\r\n                \r\n                DECLARE @lastUtcDate DATETIME\r\n                    \r\n                IF OBJECT_ID('tempdb.dbo.dmv_view_run_history') IS NOT NULL\r\n                    SELECT TOP 1 @lastUtcDate = last_updated_utc\r\n                    FROM tempdb.dbo.dmv_view_run_history\r\n                    WHERE view_id = 'MonDmCloudDatabaseWaitStats'\r\n                    ORDER BY\r\n                        last_updated_utc DESC\r\n\r\n                DECLARE @startUtcDate DATETIME\r\n                SET @startUtcDate = \r\n                    CASE \r\n                        WHEN @lastUtcDate > @serverUtcDate \r\n                            THEN @lastUtcDate \r\n                        ELSE @serverUtcDate \r\n                    END\r\n\r\n                DECLARE @endUtcDate DATETIME\r\n                SET @endUtcDate = GETUTCDATE();\r\n\r\n                IF OBJECT_ID('tempdb.dbo.dmv_view_run_history') IS NOT NULL\r\n                    IF EXISTS (SELECT * FROM tempdb.dbo.dmv_view_run_history WHERE view_id = 'MonDmCloudDatabaseWaitStats')\r\n                        UPDATE tempdb.dbo.dmv_view_run_history SET last_updated_utc = @endUtcDate WHERE view_id = 'MonDmCloudDatabaseWaitStats'\r\n                    ELSE\r\n                        INSERT tempdb.dbo.dmv_view_run_history VALUES ('MonDmCloudDatabaseWaitStats', @endUtcDate)\r\n                \r\n    SELECT @endUtcDate AS [end_utc_date], @startUtcDate AS [start_utc_date],s2.database_id,s2.server_name,s2.database_name,s2.physical_database_guid,s2.wait_type,s2.waiting_tasks_count,s2.waiting_tasks_count-isnull(s1.waiting_tasks_count,0) AS [delta_waiting_tasks_count],s2.wait_time_ms,s2.wait_time_ms-isnull(s1.wait_time_ms,0) AS [delta_wait_time_ms],s2.max_wait_time_ms,s2.max_wait_time_ms-isnull(s1.max_wait_time_ms,0) AS [delta_max_wait_time_ms],s2.signal_wait_time_ms,s2.signal_wait_time_ms-isnull(s1.signal_wait_time_ms,0) AS [delta_signal_wait_time_ms], CAST(0 AS bit) as [delta_is_valid]\r\n    INTO tempdb.dbo.diff_MonDmCloudDatabaseWaitStats\r\n    FROM msdb.dbo.snapshot_current_MonDmCloudDatabaseWaitStats s2\r\n    LEFT JOIN msdb.dbo.snapshot_previous_MonDmCloudDatabaseWaitStats s1\r\n    ON  @startUtcDate > @serverUtcDate  AND s1.database_id = s2.database_id AND s1.server_name = s2.server_name AND s1.database_name = s2.database_name AND s1.physical_database_guid = s2.physical_database_guid AND s1.wait_type = s2.wait_type\r\n    WHERE ( 1=0  OR (s1.waiting_tasks_count != s2.waiting_tasks_count OR s1.waiting_tasks_count IS NULL) OR (s1.wait_time_ms != s2.wait_time_ms OR s1.wait_time_ms IS NULL) OR (s1.max_wait_time_ms != s2.max_wait_time_ms OR s1.max_wait_time_ms IS NULL) OR (s1.signal_wait_time_ms != s2.signal_wait_time_ms OR s1.signal_wait_time_ms IS NULL))",
                                    "2": "Adhoc",
                                    "3": "Compiled Plan",
                                    "4": "328"
                                },
                                {
                                    "0": "master",
                                    "1": " \r\n                DECLARE @serverUtcDate DATETIME\r\n                SET @serverUtcDate = CAST(SERVERPROPERTY('startutcdate') as DATETIME)\r\n                \r\n                DECLARE @lastUtcDate DATETIME\r\n                    \r\n                IF OBJECT_ID('tempdb.dbo.dmv_view_run_history') IS NOT NULL\r\n                    SELECT TOP 1 @lastUtcDate = last_updated_utc\r\n                    FROM tempdb.dbo.dmv_view_run_history\r\n                    WHERE view_id = 'MonDTAProgress'\r\n                    ORDER BY\r\n                        last_updated_utc DESC\r\n\r\n                DECLARE @startUtcDate DATETIME\r\n                SET @startUtcDate = \r\n                    CASE \r\n                        WHEN @lastUtcDate > @serverUtcDate \r\n                            THEN @lastUtcDate \r\n                        ELSE @serverUtcDate \r\n                    END\r\n\r\n                DECLARE @endUtcDate DATETIME\r\n                SET @endUtcDate = GETUTCDATE();\r\n\r\n                IF OBJECT_ID('tempdb.dbo.dmv_view_run_history') IS NOT NULL\r\n                    IF EXISTS (SELECT * FROM tempdb.dbo.dmv_view_run_history WHERE view_id = 'MonDTAProgress')\r\n                        UPDATE tempdb.dbo.dmv_view_run_history SET last_updated_utc = @endUtcDate WHERE view_id = 'MonDTAProgress'\r\n                    ELSE\r\n                        INSERT tempdb.dbo.dmv_view_run_history VALUES ('MonDTAProgress', @endUtcDate)\r\n                \r\n    SELECT @endUtcDate AS [end_utc_date], @startUtcDate AS [start_utc_date],s2.TuningDatabaseName,s2.ProgressEventID,s2.SessionID,s2.SessionID-isnull(s1.SessionID,0) AS [delta_SessionID],s2.GlobalSessionID,s2.TuningStage,s2.WorkloadConsumption,s2.EstImprovement,s2.ProgressEventTime,s2.ConsumingWorkLoadMessage,s2.PerformingAnalysisMessage,s2.GeneratingReportsMessage, CAST(0 AS bit) as [delta_is_valid]\r\n    INTO tempdb.dbo.diff_MonDTAProgress\r\n    FROM msdb.dbo.snapshot_current_MonDTAProgress s2\r\n    LEFT JOIN msdb.dbo.snapshot_previous_MonDTAProgress s1\r\n    ON  @startUtcDate > @serverUtcDate  AND s1.ProgressEventID = s2.ProgressEventID AND s1.GlobalSessionID = s2.GlobalSessionID AND s1.TuningStage = s2.TuningStage AND s1.WorkloadConsumption = s2.WorkloadConsumption AND s1.EstImprovement = s2.EstImprovement AND s1.ProgressEventTime = s2.ProgressEventTime\r\n    WHERE ( 1=0  OR (s1.SessionID != s2.SessionID OR s1.SessionID IS NULL))",
                                    "2": "Adhoc",
                                    "3": "Compiled Plan",
                                    "4": "320"
                                },
                                {
                                    "0": "WideWorldImporters",
                                    "1": "(@_msparam_0 nvarchar(4000))SELECT\ndtb.catalog_collation_type AS [CatalogCollation]\nFROM\nsys.databases AS dtb\nWHERE\n(dtb.name=@_msparam_0)",
                                    "2": "Prepared",
                                    "3": "Compiled Plan",
                                    "4": "320"
                                },
                                {
                                    "0": "master",
                                    "1": " \r\n                DECLARE @serverUtcDate DATETIME\r\n                SET @serverUtcDate = CAST(SERVERPROPERTY('startutcdate') as DATETIME)\r\n                \r\n                DECLARE @lastUtcDate DATETIME\r\n                    \r\n                IF OBJECT_ID('tempdb.dbo.dmv_view_run_history') IS NOT NULL\r\n                    SELECT TOP 1 @lastUtcDate = last_updated_utc\r\n                    FROM tempdb.dbo.dmv_view_run_history\r\n                    WHERE view_id = 'MonDTAInput'\r\n                    ORDER BY\r\n                        last_updated_utc DESC\r\n\r\n                DECLARE @startUtcDate DATETIME\r\n                SET @startUtcDate = \r\n                    CASE \r\n                        WHEN @lastUtcDate > @serverUtcDate \r\n                            THEN @lastUtcDate \r\n                        ELSE @serverUtcDate \r\n                    END\r\n\r\n                DECLARE @endUtcDate DATETIME\r\n                SET @endUtcDate = GETUTCDATE();\r\n\r\n                IF OBJECT_ID('tempdb.dbo.dmv_view_run_history') IS NOT NULL\r\n                    IF EXISTS (SELECT * FROM tempdb.dbo.dmv_view_run_history WHERE view_id = 'MonDTAInput')\r\n                        UPDATE tempdb.dbo.dmv_view_run_history SET last_updated_utc = @endUtcDate WHERE view_id = 'MonDTAInput'\r\n                    ELSE\r\n                        INSERT tempdb.dbo.dmv_view_run_history VALUES ('MonDTAInput', @endUtcDate)\r\n                \r\n    SELECT @endUtcDate AS [end_utc_date], @startUtcDate AS [start_utc_date],s2.TuningDatabaseName,s2.SessionName,s2.SessionID,s2.SessionID-isnull(s1.SessionID,0) AS [delta_SessionID],s2.TuningOptions,s2.CreationTime,s2.ScheduledStartTime,s2.ScheduledJobName,s2.InteractiveStatus,s2.LogTableName,s2.GlobalSessionID, CAST(0 AS bit) as [delta_is_valid]\r\n    INTO tempdb.dbo.diff_MonDTAInput\r\n    FROM msdb.dbo.snapshot_current_MonDTAInput s2\r\n    LEFT JOIN msdb.dbo.snapshot_previous_MonDTAInput s1\r\n    ON  @startUtcDate > @serverUtcDate  AND s1.InteractiveStatus = s2.InteractiveStatus AND s1.GlobalSessionID = s2.GlobalSessionID\r\n    WHERE ( 1=0  OR (s1.SessionID != s2.SessionID OR s1.SessionID IS NULL))",
                                    "2": "Adhoc",
                                    "3": "Compiled Plan",
                                    "4": "312"
                                },
                                {
                                    "0": "master",
                                    "1": " \r\n                DECLARE @serverUtcDate DATETIME\r\n                SET @serverUtcDate = CAST(SERVERPROPERTY('startutcdate') as DATETIME)\r\n                \r\n                DECLARE @lastUtcDate DATETIME\r\n                    \r\n                IF OBJECT_ID('tempdb.dbo.dmv_view_run_history') IS NOT NULL\r\n                    SELECT TOP 1 @lastUtcDate = last_updated_utc\r\n                    FROM tempdb.dbo.dmv_view_run_history\r\n                    WHERE view_id = 'MonDTATuningResults'\r\n                    ORDER BY\r\n                        last_updated_utc DESC\r\n\r\n                DECLARE @startUtcDate DATETIME\r\n                SET @startUtcDate = \r\n                    CASE \r\n                        WHEN @lastUtcDate > @serverUtcDate \r\n                            THEN @lastUtcDate \r\n                        ELSE @serverUtcDate \r\n                    END\r\n\r\n                DECLARE @endUtcDate DATETIME\r\n                SET @endUtcDate = GETUTCDATE();\r\n\r\n                IF OBJECT_ID('tempdb.dbo.dmv_view_run_history') IS NOT NULL\r\n                    IF EXISTS (SELECT * FROM tempdb.dbo.dmv_view_run_history WHERE view_id = 'MonDTATuningResults')\r\n                        UPDATE tempdb.dbo.dmv_view_run_history SET last_updated_utc = @endUtcDate WHERE view_id = 'MonDTATuningResults'\r\n                    ELSE\r\n                        INSERT tempdb.dbo.dmv_view_run_history VALUES ('MonDTATuningResults', @endUtcDate)\r\n                \r\n    SELECT @endUtcDate AS [end_utc_date], @startUtcDate AS [start_utc_date],s2.TuningDatabaseName,s2.SessionID,s2.SessionID-isnull(s1.SessionID,0) AS [delta_SessionID],s2.GlobalSessionID,s2.StopTime,s2.FinishStatus,s2.LastPartNumber, CAST(0 AS bit) as [delta_is_valid]\r\n    INTO tempdb.dbo.diff_MonDTATuningResults\r\n    FROM msdb.dbo.snapshot_current_MonDTATuningResults s2\r\n    LEFT JOIN msdb.dbo.snapshot_previous_MonDTATuningResults s1\r\n    ON  @startUtcDate > @serverUtcDate  AND s1.GlobalSessionID = s2.GlobalSessionID AND s1.StopTime = s2.StopTime AND s1.FinishStatus = s2.FinishStatus AND s1.LastPartNumber = s2.LastPartNumber\r\n    WHERE ( 1=0  OR (s1.SessionID != s2.SessionID OR s1.SessionID IS NULL))",
                                    "2": "Adhoc",
                                    "3": "Compiled Plan",
                                    "4": "304"
                                },
                                {
                                    "0": "master",
                                    "1": " \r\n                DECLARE @serverUtcDate DATETIME\r\n                SET @serverUtcDate = CAST(SERVERPROPERTY('startutcdate') as DATETIME)\r\n                \r\n                DECLARE @lastUtcDate DATETIME\r\n                    \r\n                IF OBJECT_ID('tempdb.dbo.dmv_view_run_history') IS NOT NULL\r\n                    SELECT TOP 1 @lastUtcDate = last_updated_utc\r\n                    FROM tempdb.dbo.dmv_view_run_history\r\n                    WHERE view_id = 'MonDTATuningResultsParts'\r\n                    ORDER BY\r\n                        last_updated_utc DESC\r\n\r\n                DECLARE @startUtcDate DATETIME\r\n                SET @startUtcDate = \r\n                    CASE \r\n                        WHEN @lastUtcDate > @serverUtcDate \r\n                            THEN @lastUtcDate \r\n                        ELSE @serverUtcDate \r\n                    END\r\n\r\n                DECLARE @endUtcDate DATETIME\r\n                SET @endUtcDate = GETUTCDATE();\r\n\r\n                IF OBJECT_ID('tempdb.dbo.dmv_view_run_history') IS NOT NULL\r\n                    IF EXISTS (SELECT * FROM tempdb.dbo.dmv_view_run_history WHERE view_id = 'MonDTATuningResultsParts')\r\n                        UPDATE tempdb.dbo.dmv_view_run_history SET last_updated_utc = @endUtcDate WHERE view_id = 'MonDTATuningResultsParts'\r\n                    ELSE\r\n                        INSERT tempdb.dbo.dmv_view_run_history VALUES ('MonDTATuningResultsParts', @endUtcDate)\r\n                \r\n    SELECT @endUtcDate AS [end_utc_date], @startUtcDate AS [start_utc_date],s2.TuningDatabaseName,s2.SessionID,s2.SessionID-isnull(s1.SessionID,0) AS [delta_SessionID],s2.GlobalSessionID,s2.PartNumber,s2.Content, CAST(0 AS bit) as [delta_is_valid]\r\n    INTO tempdb.dbo.diff_MonDTATuningResultsParts\r\n    FROM msdb.dbo.snapshot_current_MonDTATuningResultsParts s2\r\n    LEFT JOIN msdb.dbo.snapshot_previous_MonDTATuningResultsParts s1\r\n    ON  @startUtcDate > @serverUtcDate  AND s1.GlobalSessionID = s2.GlobalSessionID AND s1.PartNumber = s2.PartNumber\r\n    WHERE ( 1=0  OR (s1.SessionID != s2.SessionID OR s1.SessionID IS NULL))",
                                    "2": "Adhoc",
                                    "3": "Compiled Plan",
                                    "4": "304"
                                },
                                {
                                    "0": "master",
                                    "1": " \r\n                DECLARE @serverUtcDate DATETIME\r\n                SET @serverUtcDate = CAST(SERVERPROPERTY('startutcdate') as DATETIME)\r\n                \r\n                DECLARE @lastUtcDate DATETIME\r\n                    \r\n                IF OBJECT_ID('tempdb.dbo.dmv_view_run_history') IS NOT NULL\r\n                    SELECT TOP 1 @lastUtcDate = last_updated_utc\r\n                    FROM tempdb.dbo.dmv_view_run_history\r\n                    WHERE view_id = 'MonAutomaticTuningState'\r\n                    ORDER BY\r\n                        last_updated_utc DESC\r\n\r\n                DECLARE @startUtcDate DATETIME\r\n                SET @startUtcDate = \r\n                    CASE \r\n                        WHEN @lastUtcDate > @serverUtcDate \r\n                            THEN @lastUtcDate \r\n                        ELSE @serverUtcDate \r\n                    END\r\n\r\n                DECLARE @endUtcDate DATETIME\r\n                SET @endUtcDate = GETUTCDATE();\r\n\r\n                IF OBJECT_ID('tempdb.dbo.dmv_view_run_history') IS NOT NULL\r\n                    IF EXISTS (SELECT * FROM tempdb.dbo.dmv_view_run_history WHERE view_id = 'MonAutomaticTuningState')\r\n                        UPDATE tempdb.dbo.dmv_view_run_history SET last_updated_utc = @endUtcDate WHERE view_id = 'MonAutomaticTuningState'\r\n                    ELSE\r\n                        INSERT tempdb.dbo.dmv_view_run_history VALUES ('MonAutomaticTuningState', @endUtcDate)\r\n                \r\n    SELECT @endUtcDate AS [end_utc_date], @startUtcDate AS [start_utc_date],s2.logical_database_guid,s2.physical_database_guid,s2.logical_db_name,s2.physical_db_name,s2.option_name,s2.option_desired_state,s2.option_actual_state,s2.option_reason,s2.option_system_disabled,s2.mode_desired_state,s2.mode_actual_state\r\n    INTO tempdb.dbo.diff_MonAutomaticTuningState\r\n    FROM #automatic_tuning_state s2",
                                    "2": "Adhoc",
                                    "3": "Compiled Plan",
                                    "4": "296"
                                }
                            ]
                        },
                        "text/html": [
                            "<table>",
                            "<tr><th>Database Name</th><th>Query Text</th><th>Object Type</th><th>Cache Object Type</th><th>Plan Size in KB</th></tr>",
                            "<tr><td>WideWorldImporters</td><td>(@_msparam_0 nvarchar(4000))SELECT\nSCHEMA_NAME(udf.schema_id) AS [Schema],\nudf.name AS [Name],\nudf.object_id AS [ID],\n(case when 'FN' = udf.type then 1 when 'FS' = udf.type then 1 when 'IF' = udf.type then 3 when 'TF' = udf.type then 2 when 'FT' = udf.type then 2 else 0 end) AS [FunctionType],\nCASE WHEN udf.type IN ('FN','IF','TF') THEN 1 WHEN udf.type IN ('FS','FT') THEN 2 ELSE 1 END AS [ImplementationType],\nCAST(\r\n        case\r\n          when udf.is_ms_shipped = 1 then 1\r\n          else 0\r\n        end\r\n       AS bit) AS [IsSystemObject],\nCAST(CASE WHEN ISNULL(smudf.definition, ssmudf.definition) IS NULL THEN 1 ELSE 0 END AS bit) AS [IsEncrypted],\nCAST(ISNULL(OBJECTPROPERTYEX(udf.object_id, N'IsSchemaBound'),0) AS bit) AS [IsSchemaBound],\nusrt.name AS [DataType],\nISNULL(baset.name, N'') AS [SystemType],\nCAST(CASE WHEN baset.name IN (N'nchar', N'nvarchar') AND ret_param.max_length &lt;&gt; -1 THEN ret_param.max_length/2 ELSE ret_param.max_length END AS int) AS [Length],\nCAST(ret_param.precision AS int) AS [NumericPrecision],\nCAST(ret_param.scale AS int) AS [NumericScale],\nISNULL(xscret_param.name, N'') AS [XmlSchemaNamespace],\nISNULL(s2ret_param.name, N'') AS [XmlSchemaNamespaceSchema],\nISNULL( (case ret_param.is_xml_document when 1 then 2 else 1 end), 0) AS [XmlDocumentConstraint],\ns1ret_param.name AS [DataTypeSchema]\nFROM\nsys.all_objects AS udf\nLEFT OUTER JOIN sys.sql_modules AS smudf ON smudf.object_id = udf.object_id\nLEFT OUTER JOIN sys.system_sql_modules AS ssmudf ON ssmudf.object_id = udf.object_id\nLEFT OUTER JOIN sys.all_parameters AS ret_param ON ret_param.object_id = udf.object_id and ret_param.is_output = @_msparam_0\nLEFT OUTER JOIN sys.types AS usrt ON usrt.user_type_id = ret_param.user_type_id\nLEFT OUTER JOIN sys.types AS baset ON (baset.user_type_id = ret_param.system_type_id and baset.user_type_id = baset.system_type_id) or ((baset.system_type_id = ret_param.system_type_id) and (baset.user_type_id = ret_param.user_type_id) and (baset.is_user_defined = 0) and (baset.is_assembly_type = 1)) \nLEFT OUTER JOIN sys.xml_schema_collections AS xscret_param ON xscret_param.xml_collection_id = ret_param.xml_collection_id\nLEFT OUTER JOIN sys.schemas AS s2ret_param ON s2ret_param.schema_id = xscret_param.schema_id\nLEFT OUTER JOIN sys.schemas AS s1ret_param ON s1ret_param.schema_id = usrt.schema_id\nWHERE\n(udf.type in ('TF', 'FN', 'IF', 'FS', 'FT'))\nORDER BY\n[Schema] ASC,[Name] ASC</td><td>Prepared</td><td>Compiled Plan</td><td>552</td></tr>",
                            "<tr><td>WideWorldImporters</td><td>(@_msparam_0 nvarchar(4000),@_msparam_1 nvarchar(4000))SELECT\nu.name AS [Name],\nu.principal_id AS [ID],\nCAST(CASE WHEN u.principal_id &lt; 5 OR u.principal_id = 16382 OR u.principal_id = 16383 THEN 1 ELSE 0 END AS bit) AS [IsSystemObject],\nCASE WHEN N'U' = u.type THEN 0 WHEN N'G' = u.type THEN 1 WHEN N'S' = u.type THEN 2 WHEN N'C' = u.type THEN 3 WHEN N'K' = u.type THEN 4 WHEN N'E' = u.type THEN 5 WHEN N'X' = u.type THEN 6 END AS [LoginType],\nCAST(CASE dp.state WHEN N'G' THEN 1 WHEN 'W' THEN 1 ELSE 0 END AS bit) AS [HasDBAccess],\nu.sid AS [Sid],\nu.create_date AS [CreateDate],\nu.modify_date AS [DateLastModified],\nISNULL(u.default_schema_name,N'') AS [DefaultSchema],\nISNULL(ak.name,N'') AS [AsymmetricKey],\nISNULL(cert.name,N'') AS [Certificate],\n\r\n        CASE\r\n        WHEN N'C' = u.type THEN 1\r\n        WHEN N'K' = u.type THEN 2\r\n        WHEN N'S' = u.type AND u.authentication_type != 2 AND u.authentication_type != 1 THEN 3\r\n        WHEN N'E' = u.type or N'X' = u.type THEN 4\r\n        ELSE 0 END\r\n       AS [UserType],\nu.authentication_type AS [AuthenticationType]\nFROM\nsys.database_principals AS u\nLEFT OUTER JOIN sys.database_permissions AS dp ON dp.grantee_principal_id = u.principal_id and dp.type = @_msparam_0\nLEFT OUTER JOIN sys.asymmetric_keys AS ak ON ak.sid = u.sid\nLEFT OUTER JOIN sys.certificates AS cert ON cert.sid = u.sid\nWHERE\n(u.type in ('U', 'S', 'G', 'C', 'K' ,'E', 'X'))and(u.name=@_msparam_1)</td><td>Prepared</td><td>Compiled Plan</td><td>400</td></tr>",
                            "<tr><td>master</td><td> \r\n                DECLARE @serverUtcDate DATETIME\r\n                SET @serverUtcDate = CAST(SERVERPROPERTY('startutcdate') as DATETIME)\r\n                \r\n                DECLARE @lastUtcDate DATETIME\r\n                    \r\n                IF OBJECT_ID('tempdb.dbo.dmv_view_run_history') IS NOT NULL\r\n                    SELECT TOP 1 @lastUtcDate = last_updated_utc\r\n                    FROM tempdb.dbo.dmv_view_run_history\r\n                    WHERE view_id = 'MonDmDbHadrReplicaStates'\r\n                    ORDER BY\r\n                        last_updated_utc DESC\r\n\r\n                DECLARE @startUtcDate DATETIME\r\n                SET @startUtcDate = \r\n                    CASE \r\n                        WHEN @lastUtcDate &gt; @serverUtcDate \r\n                            THEN @lastUtcDate \r\n                        ELSE @serverUtcDate \r\n                    END\r\n\r\n                DECLARE @endUtcDate DATETIME\r\n                SET @endUtcDate = GETUTCDATE();\r\n\r\n                IF OBJECT_ID('tempdb.dbo.dmv_view_run_history') IS NOT NULL\r\n                    IF EXISTS (SELECT * FROM tempdb.dbo.dmv_view_run_history WHERE view_id = 'MonDmDbHadrReplicaStates')\r\n                        UPDATE tempdb.dbo.dmv_view_run_history SET last_updated_utc = @endUtcDate WHERE view_id = 'MonDmDbHadrReplicaStates'\r\n                    ELSE\r\n                        INSERT tempdb.dbo.dmv_view_run_history VALUES ('MonDmDbHadrReplicaStates', @endUtcDate)\r\n                \r\n    SELECT @endUtcDate AS [end_utc_date], @startUtcDate AS [start_utc_date],s2.is_forwarder,s2.is_seeding_in_progress,s2.logical_database_name,s2.database_id,s2.group_id,s2.replica_id,s2.group_database_id,s2.is_local,s2.is_primary_replica,s2.synchronization_state,s2.synchronization_state_desc,s2.is_commit_participant,s2.synchronization_health,s2.synchronization_health_desc,s2.database_state,s2.database_state_desc,s2.is_suspended,s2.suspend_reason,s2.suspend_reason_desc,s2.recovery_lsn,s2.truncation_lsn,s2.last_sent_lsn,s2.last_sent_time,s2.last_received_lsn,s2.last_received_time,s2.last_hardened_lsn,s2.last_hardened_time,s2.last_redone_lsn,s2.last_redone_time,s2.log_send_queue_size,s2.log_send_rate,s2.redo_queue_size,s2.redo_rate,s2.filestream_send_rate,s2.end_of_log_lsn,s2.last_commit_lsn,s2.last_commit_time,s2.low_water_mark_for_ghosts,s2.secondary_lag_seconds,s2.quorum_commit_lsn,s2.quorum_commit_time\r\n    INTO tempdb.dbo.diff_MonDmDbHadrReplicaStates\r\n    FROM #dm_hadr_database_replica_states s2</td><td>Adhoc</td><td>Compiled Plan</td><td>328</td></tr>",
                            "<tr><td>master</td><td> \r\n                DECLARE @serverUtcDate DATETIME\r\n                SET @serverUtcDate = CAST(SERVERPROPERTY('startutcdate') as DATETIME)\r\n                \r\n                DECLARE @lastUtcDate DATETIME\r\n                    \r\n                IF OBJECT_ID('tempdb.dbo.dmv_view_run_history') IS NOT NULL\r\n                    SELECT TOP 1 @lastUtcDate = last_updated_utc\r\n                    FROM tempdb.dbo.dmv_view_run_history\r\n                    WHERE view_id = 'MonDmCloudDatabaseWaitStats'\r\n                    ORDER BY\r\n                        last_updated_utc DESC\r\n\r\n                DECLARE @startUtcDate DATETIME\r\n                SET @startUtcDate = \r\n                    CASE \r\n                        WHEN @lastUtcDate &gt; @serverUtcDate \r\n                            THEN @lastUtcDate \r\n                        ELSE @serverUtcDate \r\n                    END\r\n\r\n                DECLARE @endUtcDate DATETIME\r\n                SET @endUtcDate = GETUTCDATE();\r\n\r\n                IF OBJECT_ID('tempdb.dbo.dmv_view_run_history') IS NOT NULL\r\n                    IF EXISTS (SELECT * FROM tempdb.dbo.dmv_view_run_history WHERE view_id = 'MonDmCloudDatabaseWaitStats')\r\n                        UPDATE tempdb.dbo.dmv_view_run_history SET last_updated_utc = @endUtcDate WHERE view_id = 'MonDmCloudDatabaseWaitStats'\r\n                    ELSE\r\n                        INSERT tempdb.dbo.dmv_view_run_history VALUES ('MonDmCloudDatabaseWaitStats', @endUtcDate)\r\n                \r\n    SELECT @endUtcDate AS [end_utc_date], @startUtcDate AS [start_utc_date],s2.database_id,s2.server_name,s2.database_name,s2.physical_database_guid,s2.wait_type,s2.waiting_tasks_count,s2.waiting_tasks_count-isnull(s1.waiting_tasks_count,0) AS [delta_waiting_tasks_count],s2.wait_time_ms,s2.wait_time_ms-isnull(s1.wait_time_ms,0) AS [delta_wait_time_ms],s2.max_wait_time_ms,s2.max_wait_time_ms-isnull(s1.max_wait_time_ms,0) AS [delta_max_wait_time_ms],s2.signal_wait_time_ms,s2.signal_wait_time_ms-isnull(s1.signal_wait_time_ms,0) AS [delta_signal_wait_time_ms], CAST(0 AS bit) as [delta_is_valid]\r\n    INTO tempdb.dbo.diff_MonDmCloudDatabaseWaitStats\r\n    FROM msdb.dbo.snapshot_current_MonDmCloudDatabaseWaitStats s2\r\n    LEFT JOIN msdb.dbo.snapshot_previous_MonDmCloudDatabaseWaitStats s1\r\n    ON  @startUtcDate &gt; @serverUtcDate  AND s1.database_id = s2.database_id AND s1.server_name = s2.server_name AND s1.database_name = s2.database_name AND s1.physical_database_guid = s2.physical_database_guid AND s1.wait_type = s2.wait_type\r\n    WHERE ( 1=0  OR (s1.waiting_tasks_count != s2.waiting_tasks_count OR s1.waiting_tasks_count IS NULL) OR (s1.wait_time_ms != s2.wait_time_ms OR s1.wait_time_ms IS NULL) OR (s1.max_wait_time_ms != s2.max_wait_time_ms OR s1.max_wait_time_ms IS NULL) OR (s1.signal_wait_time_ms != s2.signal_wait_time_ms OR s1.signal_wait_time_ms IS NULL))</td><td>Adhoc</td><td>Compiled Plan</td><td>328</td></tr>",
                            "<tr><td>master</td><td> \r\n                DECLARE @serverUtcDate DATETIME\r\n                SET @serverUtcDate = CAST(SERVERPROPERTY('startutcdate') as DATETIME)\r\n                \r\n                DECLARE @lastUtcDate DATETIME\r\n                    \r\n                IF OBJECT_ID('tempdb.dbo.dmv_view_run_history') IS NOT NULL\r\n                    SELECT TOP 1 @lastUtcDate = last_updated_utc\r\n                    FROM tempdb.dbo.dmv_view_run_history\r\n                    WHERE view_id = 'MonDTAProgress'\r\n                    ORDER BY\r\n                        last_updated_utc DESC\r\n\r\n                DECLARE @startUtcDate DATETIME\r\n                SET @startUtcDate = \r\n                    CASE \r\n                        WHEN @lastUtcDate &gt; @serverUtcDate \r\n                            THEN @lastUtcDate \r\n                        ELSE @serverUtcDate \r\n                    END\r\n\r\n                DECLARE @endUtcDate DATETIME\r\n                SET @endUtcDate = GETUTCDATE();\r\n\r\n                IF OBJECT_ID('tempdb.dbo.dmv_view_run_history') IS NOT NULL\r\n                    IF EXISTS (SELECT * FROM tempdb.dbo.dmv_view_run_history WHERE view_id = 'MonDTAProgress')\r\n                        UPDATE tempdb.dbo.dmv_view_run_history SET last_updated_utc = @endUtcDate WHERE view_id = 'MonDTAProgress'\r\n                    ELSE\r\n                        INSERT tempdb.dbo.dmv_view_run_history VALUES ('MonDTAProgress', @endUtcDate)\r\n                \r\n    SELECT @endUtcDate AS [end_utc_date], @startUtcDate AS [start_utc_date],s2.TuningDatabaseName,s2.ProgressEventID,s2.SessionID,s2.SessionID-isnull(s1.SessionID,0) AS [delta_SessionID],s2.GlobalSessionID,s2.TuningStage,s2.WorkloadConsumption,s2.EstImprovement,s2.ProgressEventTime,s2.ConsumingWorkLoadMessage,s2.PerformingAnalysisMessage,s2.GeneratingReportsMessage, CAST(0 AS bit) as [delta_is_valid]\r\n    INTO tempdb.dbo.diff_MonDTAProgress\r\n    FROM msdb.dbo.snapshot_current_MonDTAProgress s2\r\n    LEFT JOIN msdb.dbo.snapshot_previous_MonDTAProgress s1\r\n    ON  @startUtcDate &gt; @serverUtcDate  AND s1.ProgressEventID = s2.ProgressEventID AND s1.GlobalSessionID = s2.GlobalSessionID AND s1.TuningStage = s2.TuningStage AND s1.WorkloadConsumption = s2.WorkloadConsumption AND s1.EstImprovement = s2.EstImprovement AND s1.ProgressEventTime = s2.ProgressEventTime\r\n    WHERE ( 1=0  OR (s1.SessionID != s2.SessionID OR s1.SessionID IS NULL))</td><td>Adhoc</td><td>Compiled Plan</td><td>320</td></tr>",
                            "<tr><td>WideWorldImporters</td><td>(@_msparam_0 nvarchar(4000))SELECT\ndtb.catalog_collation_type AS [CatalogCollation]\nFROM\nsys.databases AS dtb\nWHERE\n(dtb.name=@_msparam_0)</td><td>Prepared</td><td>Compiled Plan</td><td>320</td></tr>",
                            "<tr><td>master</td><td> \r\n                DECLARE @serverUtcDate DATETIME\r\n                SET @serverUtcDate = CAST(SERVERPROPERTY('startutcdate') as DATETIME)\r\n                \r\n                DECLARE @lastUtcDate DATETIME\r\n                    \r\n                IF OBJECT_ID('tempdb.dbo.dmv_view_run_history') IS NOT NULL\r\n                    SELECT TOP 1 @lastUtcDate = last_updated_utc\r\n                    FROM tempdb.dbo.dmv_view_run_history\r\n                    WHERE view_id = 'MonDTAInput'\r\n                    ORDER BY\r\n                        last_updated_utc DESC\r\n\r\n                DECLARE @startUtcDate DATETIME\r\n                SET @startUtcDate = \r\n                    CASE \r\n                        WHEN @lastUtcDate &gt; @serverUtcDate \r\n                            THEN @lastUtcDate \r\n                        ELSE @serverUtcDate \r\n                    END\r\n\r\n                DECLARE @endUtcDate DATETIME\r\n                SET @endUtcDate = GETUTCDATE();\r\n\r\n                IF OBJECT_ID('tempdb.dbo.dmv_view_run_history') IS NOT NULL\r\n                    IF EXISTS (SELECT * FROM tempdb.dbo.dmv_view_run_history WHERE view_id = 'MonDTAInput')\r\n                        UPDATE tempdb.dbo.dmv_view_run_history SET last_updated_utc = @endUtcDate WHERE view_id = 'MonDTAInput'\r\n                    ELSE\r\n                        INSERT tempdb.dbo.dmv_view_run_history VALUES ('MonDTAInput', @endUtcDate)\r\n                \r\n    SELECT @endUtcDate AS [end_utc_date], @startUtcDate AS [start_utc_date],s2.TuningDatabaseName,s2.SessionName,s2.SessionID,s2.SessionID-isnull(s1.SessionID,0) AS [delta_SessionID],s2.TuningOptions,s2.CreationTime,s2.ScheduledStartTime,s2.ScheduledJobName,s2.InteractiveStatus,s2.LogTableName,s2.GlobalSessionID, CAST(0 AS bit) as [delta_is_valid]\r\n    INTO tempdb.dbo.diff_MonDTAInput\r\n    FROM msdb.dbo.snapshot_current_MonDTAInput s2\r\n    LEFT JOIN msdb.dbo.snapshot_previous_MonDTAInput s1\r\n    ON  @startUtcDate &gt; @serverUtcDate  AND s1.InteractiveStatus = s2.InteractiveStatus AND s1.GlobalSessionID = s2.GlobalSessionID\r\n    WHERE ( 1=0  OR (s1.SessionID != s2.SessionID OR s1.SessionID IS NULL))</td><td>Adhoc</td><td>Compiled Plan</td><td>312</td></tr>",
                            "<tr><td>master</td><td> \r\n                DECLARE @serverUtcDate DATETIME\r\n                SET @serverUtcDate = CAST(SERVERPROPERTY('startutcdate') as DATETIME)\r\n                \r\n                DECLARE @lastUtcDate DATETIME\r\n                    \r\n                IF OBJECT_ID('tempdb.dbo.dmv_view_run_history') IS NOT NULL\r\n                    SELECT TOP 1 @lastUtcDate = last_updated_utc\r\n                    FROM tempdb.dbo.dmv_view_run_history\r\n                    WHERE view_id = 'MonDTATuningResults'\r\n                    ORDER BY\r\n                        last_updated_utc DESC\r\n\r\n                DECLARE @startUtcDate DATETIME\r\n                SET @startUtcDate = \r\n                    CASE \r\n                        WHEN @lastUtcDate &gt; @serverUtcDate \r\n                            THEN @lastUtcDate \r\n                        ELSE @serverUtcDate \r\n                    END\r\n\r\n                DECLARE @endUtcDate DATETIME\r\n                SET @endUtcDate = GETUTCDATE();\r\n\r\n                IF OBJECT_ID('tempdb.dbo.dmv_view_run_history') IS NOT NULL\r\n                    IF EXISTS (SELECT * FROM tempdb.dbo.dmv_view_run_history WHERE view_id = 'MonDTATuningResults')\r\n                        UPDATE tempdb.dbo.dmv_view_run_history SET last_updated_utc = @endUtcDate WHERE view_id = 'MonDTATuningResults'\r\n                    ELSE\r\n                        INSERT tempdb.dbo.dmv_view_run_history VALUES ('MonDTATuningResults', @endUtcDate)\r\n                \r\n    SELECT @endUtcDate AS [end_utc_date], @startUtcDate AS [start_utc_date],s2.TuningDatabaseName,s2.SessionID,s2.SessionID-isnull(s1.SessionID,0) AS [delta_SessionID],s2.GlobalSessionID,s2.StopTime,s2.FinishStatus,s2.LastPartNumber, CAST(0 AS bit) as [delta_is_valid]\r\n    INTO tempdb.dbo.diff_MonDTATuningResults\r\n    FROM msdb.dbo.snapshot_current_MonDTATuningResults s2\r\n    LEFT JOIN msdb.dbo.snapshot_previous_MonDTATuningResults s1\r\n    ON  @startUtcDate &gt; @serverUtcDate  AND s1.GlobalSessionID = s2.GlobalSessionID AND s1.StopTime = s2.StopTime AND s1.FinishStatus = s2.FinishStatus AND s1.LastPartNumber = s2.LastPartNumber\r\n    WHERE ( 1=0  OR (s1.SessionID != s2.SessionID OR s1.SessionID IS NULL))</td><td>Adhoc</td><td>Compiled Plan</td><td>304</td></tr>",
                            "<tr><td>master</td><td> \r\n                DECLARE @serverUtcDate DATETIME\r\n                SET @serverUtcDate = CAST(SERVERPROPERTY('startutcdate') as DATETIME)\r\n                \r\n                DECLARE @lastUtcDate DATETIME\r\n                    \r\n                IF OBJECT_ID('tempdb.dbo.dmv_view_run_history') IS NOT NULL\r\n                    SELECT TOP 1 @lastUtcDate = last_updated_utc\r\n                    FROM tempdb.dbo.dmv_view_run_history\r\n                    WHERE view_id = 'MonDTATuningResultsParts'\r\n                    ORDER BY\r\n                        last_updated_utc DESC\r\n\r\n                DECLARE @startUtcDate DATETIME\r\n                SET @startUtcDate = \r\n                    CASE \r\n                        WHEN @lastUtcDate &gt; @serverUtcDate \r\n                            THEN @lastUtcDate \r\n                        ELSE @serverUtcDate \r\n                    END\r\n\r\n                DECLARE @endUtcDate DATETIME\r\n                SET @endUtcDate = GETUTCDATE();\r\n\r\n                IF OBJECT_ID('tempdb.dbo.dmv_view_run_history') IS NOT NULL\r\n                    IF EXISTS (SELECT * FROM tempdb.dbo.dmv_view_run_history WHERE view_id = 'MonDTATuningResultsParts')\r\n                        UPDATE tempdb.dbo.dmv_view_run_history SET last_updated_utc = @endUtcDate WHERE view_id = 'MonDTATuningResultsParts'\r\n                    ELSE\r\n                        INSERT tempdb.dbo.dmv_view_run_history VALUES ('MonDTATuningResultsParts', @endUtcDate)\r\n                \r\n    SELECT @endUtcDate AS [end_utc_date], @startUtcDate AS [start_utc_date],s2.TuningDatabaseName,s2.SessionID,s2.SessionID-isnull(s1.SessionID,0) AS [delta_SessionID],s2.GlobalSessionID,s2.PartNumber,s2.Content, CAST(0 AS bit) as [delta_is_valid]\r\n    INTO tempdb.dbo.diff_MonDTATuningResultsParts\r\n    FROM msdb.dbo.snapshot_current_MonDTATuningResultsParts s2\r\n    LEFT JOIN msdb.dbo.snapshot_previous_MonDTATuningResultsParts s1\r\n    ON  @startUtcDate &gt; @serverUtcDate  AND s1.GlobalSessionID = s2.GlobalSessionID AND s1.PartNumber = s2.PartNumber\r\n    WHERE ( 1=0  OR (s1.SessionID != s2.SessionID OR s1.SessionID IS NULL))</td><td>Adhoc</td><td>Compiled Plan</td><td>304</td></tr>",
                            "<tr><td>master</td><td> \r\n                DECLARE @serverUtcDate DATETIME\r\n                SET @serverUtcDate = CAST(SERVERPROPERTY('startutcdate') as DATETIME)\r\n                \r\n                DECLARE @lastUtcDate DATETIME\r\n                    \r\n                IF OBJECT_ID('tempdb.dbo.dmv_view_run_history') IS NOT NULL\r\n                    SELECT TOP 1 @lastUtcDate = last_updated_utc\r\n                    FROM tempdb.dbo.dmv_view_run_history\r\n                    WHERE view_id = 'MonAutomaticTuningState'\r\n                    ORDER BY\r\n                        last_updated_utc DESC\r\n\r\n                DECLARE @startUtcDate DATETIME\r\n                SET @startUtcDate = \r\n                    CASE \r\n                        WHEN @lastUtcDate &gt; @serverUtcDate \r\n                            THEN @lastUtcDate \r\n                        ELSE @serverUtcDate \r\n                    END\r\n\r\n                DECLARE @endUtcDate DATETIME\r\n                SET @endUtcDate = GETUTCDATE();\r\n\r\n                IF OBJECT_ID('tempdb.dbo.dmv_view_run_history') IS NOT NULL\r\n                    IF EXISTS (SELECT * FROM tempdb.dbo.dmv_view_run_history WHERE view_id = 'MonAutomaticTuningState')\r\n                        UPDATE tempdb.dbo.dmv_view_run_history SET last_updated_utc = @endUtcDate WHERE view_id = 'MonAutomaticTuningState'\r\n                    ELSE\r\n                        INSERT tempdb.dbo.dmv_view_run_history VALUES ('MonAutomaticTuningState', @endUtcDate)\r\n                \r\n    SELECT @endUtcDate AS [end_utc_date], @startUtcDate AS [start_utc_date],s2.logical_database_guid,s2.physical_database_guid,s2.logical_db_name,s2.physical_db_name,s2.option_name,s2.option_desired_state,s2.option_actual_state,s2.option_reason,s2.option_system_disabled,s2.mode_desired_state,s2.mode_actual_state\r\n    INTO tempdb.dbo.diff_MonAutomaticTuningState\r\n    FROM #automatic_tuning_state s2</td><td>Adhoc</td><td>Compiled Plan</td><td>296</td></tr>",
                            "</table>"
                        ]
                    }
                }
            ],
            "execution_count": 34
        },
        {
            "cell_type": "markdown",
            "source": [
                "Gives you the text, type and size of single-use ad-hoc and prepared queries that waste space in the plan cache\r\n",
                "- Enabling 'optimize for ad hoc workloads' for the instance can help (SQL Server 2008 and above only)\r\n",
                "- Running DBCC FREESYSTEMCACHE ('SQL Plans') periodically may be required to better control this\r\n",
                "- Enabling forced parameterization for the database can help, but test first!\r\n",
                "\r\n",
                "[Plan cache, adhoc workloads and clearing the single-use plan cache bloat](https://bit.ly/2EfYOkl)"
            ],
            "metadata": {
                "azdata_cell_guid": "c8da4d1c-4993-48f4-a9fa-2982490cdca0"
            }
        },
        {
            "cell_type": "markdown",
            "source": [
                "# Database specific queries\r\n",
                "\r\n",
                "> **Note**: Please switch to a user database that you are interested in!"
            ],
            "metadata": {
                "azdata_cell_guid": "f0445542-eea4-44a4-9bef-e0131ab94c09"
            }
        },
        {
            "cell_type": "code",
            "source": [
                "-- **** Please switch to a user database that you are interested in! *****\r\n",
                "--USE YourDatabaseName; -- make sure to change to an actual database on your instance, not the master system database\r\n",
                "--GO"
            ],
            "metadata": {
                "azdata_cell_guid": "3acaa59a-d091-4a10-bad5-f914c9338971",
                "tags": [
                    "hide_input"
                ]
            },
            "outputs": [
                {
                    "output_type": "display_data",
                    "data": {
                        "text/html": "Commands completed successfully."
                    },
                    "metadata": {}
                },
                {
                    "output_type": "display_data",
                    "data": {
                        "text/html": "Total execution time: 00:00:00.458"
                    },
                    "metadata": {}
                }
            ],
            "execution_count": 35
        },
        {
            "cell_type": "markdown",
            "source": [
                "## Individual File Sizes and space available for current database  (Query 15) (File Sizes and Space)"
            ],
            "metadata": {
                "azdata_cell_guid": "44dc42a9-0712-490c-a7d3-436cc3aad079"
            }
        },
        {
            "cell_type": "code",
            "source": [
                "-- Individual File Sizes and space available for current database  (Query 15) (File Sizes and Space)\r\n",
                "SELECT f.name AS [File Name] , f.physical_name AS [Physical Name], \r\n",
                "CAST((f.size/128.0) AS DECIMAL(15,2)) AS [Total Size in MB],\r\n",
                "CAST(f.size/128.0 - CAST(FILEPROPERTY(f.name, 'SpaceUsed') AS int)/128.0 AS DECIMAL(15,2)) \r\n",
                "AS [Available Space In MB], f.[file_id], fg.name AS [Filegroup Name],\r\n",
                "f.is_percent_growth, f.growth, fg.is_default, fg.is_read_only, \r\n",
                "fg.is_autogrow_all_files\r\n",
                "FROM sys.database_files AS f WITH (NOLOCK) \r\n",
                "LEFT OUTER JOIN sys.filegroups AS fg WITH (NOLOCK)\r\n",
                "ON f.data_space_id = fg.data_space_id\r\n",
                "ORDER BY f.[file_id] OPTION (RECOMPILE);"
            ],
            "metadata": {
                "azdata_cell_guid": "afab3607-97d0-406c-829f-e4eee79b1ee9",
                "tags": [
                    "hide_input"
                ]
            },
            "outputs": [
                {
                    "output_type": "display_data",
                    "data": {
                        "text/html": "(3 rows affected)"
                    },
                    "metadata": {}
                },
                {
                    "output_type": "display_data",
                    "data": {
                        "text/html": "Total execution time: 00:00:00.091"
                    },
                    "metadata": {}
                },
                {
                    "output_type": "execute_result",
                    "metadata": {},
                    "execution_count": 36,
                    "data": {
                        "application/vnd.dataresource+json": {
                            "schema": {
                                "fields": [
                                    {
                                        "name": "File Name"
                                    },
                                    {
                                        "name": "Physical Name"
                                    },
                                    {
                                        "name": "Total Size in MB"
                                    },
                                    {
                                        "name": "Available Space In MB"
                                    },
                                    {
                                        "name": "file_id"
                                    },
                                    {
                                        "name": "Filegroup Name"
                                    },
                                    {
                                        "name": "is_percent_growth"
                                    },
                                    {
                                        "name": "growth"
                                    },
                                    {
                                        "name": "is_default"
                                    },
                                    {
                                        "name": "is_read_only"
                                    },
                                    {
                                        "name": "is_autogrow_all_files"
                                    }
                                ]
                            },
                            "data": [
                                {
                                    "0": "data_0",
                                    "1": "1209ee52-887c-4af6-a30d-3e38cac61ff1_1.mdf",
                                    "2": "688.00",
                                    "3": "13.44",
                                    "4": "1",
                                    "5": "PRIMARY",
                                    "6": "0",
                                    "7": "2048",
                                    "8": "1",
                                    "9": "0",
                                    "10": "0"
                                },
                                {
                                    "0": "log",
                                    "1": "1209ee52-887c-4af6-a30d-3e38cac61ff1_2.ldf",
                                    "2": "1000.00",
                                    "3": "994.02",
                                    "4": "2",
                                    "5": "NULL",
                                    "6": "0",
                                    "7": "2048",
                                    "8": "NULL",
                                    "9": "NULL",
                                    "10": "NULL"
                                },
                                {
                                    "0": "XTP",
                                    "1": "7f375e7f-cd47-4c28-8924-ce9e7c543a4f.xtp",
                                    "2": "0.00",
                                    "3": "NULL",
                                    "4": "65537",
                                    "5": "NULL",
                                    "6": "0",
                                    "7": "0",
                                    "8": "NULL",
                                    "9": "NULL",
                                    "10": "NULL"
                                }
                            ]
                        },
                        "text/html": [
                            "<table>",
                            "<tr><th>File Name</th><th>Physical Name</th><th>Total Size in MB</th><th>Available Space In MB</th><th>file_id</th><th>Filegroup Name</th><th>is_percent_growth</th><th>growth</th><th>is_default</th><th>is_read_only</th><th>is_autogrow_all_files</th></tr>",
                            "<tr><td>data_0</td><td>1209ee52-887c-4af6-a30d-3e38cac61ff1_1.mdf</td><td>688.00</td><td>13.44</td><td>1</td><td>PRIMARY</td><td>0</td><td>2048</td><td>1</td><td>0</td><td>0</td></tr>",
                            "<tr><td>log</td><td>1209ee52-887c-4af6-a30d-3e38cac61ff1_2.ldf</td><td>1000.00</td><td>994.02</td><td>2</td><td>NULL</td><td>0</td><td>2048</td><td>NULL</td><td>NULL</td><td>NULL</td></tr>",
                            "<tr><td>XTP</td><td>7f375e7f-cd47-4c28-8924-ce9e7c543a4f.xtp</td><td>0.00</td><td>NULL</td><td>65537</td><td>NULL</td><td>0</td><td>0</td><td>NULL</td><td>NULL</td><td>NULL</td></tr>",
                            "</table>"
                        ]
                    }
                }
            ],
            "execution_count": 36
        },
        {
            "cell_type": "markdown",
            "source": [
                "Look at how large and how full the files are and where they are located\r\n",
                "- Make sure the transaction log is not full!!\r\n",
                "- is_autogrow_all_files was new for SQL Server 2016. Equivalent to TF 1117 for user databases\r\n",
                "\r\n",
                "[SQL Server 2016: Changes in default behavior for autogrow and allocations for tempdb and user databases](https://bit.ly/2evRZSR)"
            ],
            "metadata": {
                "azdata_cell_guid": "a05e2235-d5e1-496c-b4e4-1c9e4794d7a8"
            }
        },
        {
            "cell_type": "markdown",
            "source": [
                "## Log space usage for current database  (Query 16) (Log Space Usage)"
            ],
            "metadata": {
                "azdata_cell_guid": "d18709d8-7651-46a0-b69a-dd4b656f459d"
            }
        },
        {
            "cell_type": "code",
            "source": [
                "-- Log space usage for current database  (Query 16) (Log Space Usage)\r\n",
                "SELECT DB_NAME(lsu.database_id) AS [Database Name], db.recovery_model_desc AS [Recovery Model],\r\n",
                "\t\tCAST(lsu.total_log_size_in_bytes/1048576.0 AS DECIMAL(10, 2)) AS [Total Log Space (MB)],\r\n",
                "\t\tCAST(lsu.used_log_space_in_bytes/1048576.0 AS DECIMAL(10, 2)) AS [Used Log Space (MB)], \r\n",
                "\t\tCAST(lsu.used_log_space_in_percent AS DECIMAL(10, 2)) AS [Used Log Space %],\r\n",
                "\t\tCAST(lsu.log_space_in_bytes_since_last_backup/1048576.0 AS DECIMAL(10, 2)) AS [Used Log Space Since Last Backup (MB)],\r\n",
                "\t\tdb.log_reuse_wait_desc\t\t \r\n",
                "FROM sys.dm_db_log_space_usage AS lsu WITH (NOLOCK)\r\n",
                "INNER JOIN sys.databases AS db WITH (NOLOCK)\r\n",
                "ON lsu.database_id = db.database_id\r\n",
                "OPTION (RECOMPILE);"
            ],
            "metadata": {
                "azdata_cell_guid": "9a028009-ac0d-460f-8298-f924f90bfa25",
                "tags": [
                    "hide_input"
                ]
            },
            "outputs": [
                {
                    "output_type": "display_data",
                    "data": {
                        "text/html": "(1 row affected)"
                    },
                    "metadata": {}
                },
                {
                    "output_type": "display_data",
                    "data": {
                        "text/html": "Total execution time: 00:00:00.134"
                    },
                    "metadata": {}
                },
                {
                    "output_type": "execute_result",
                    "metadata": {},
                    "execution_count": 37,
                    "data": {
                        "application/vnd.dataresource+json": {
                            "schema": {
                                "fields": [
                                    {
                                        "name": "Database Name"
                                    },
                                    {
                                        "name": "Recovery Model"
                                    },
                                    {
                                        "name": "Total Log Space (MB)"
                                    },
                                    {
                                        "name": "Used Log Space (MB)"
                                    },
                                    {
                                        "name": "Used Log Space %"
                                    },
                                    {
                                        "name": "Used Log Space Since Last Backup (MB)"
                                    },
                                    {
                                        "name": "log_reuse_wait_desc"
                                    }
                                ]
                            },
                            "data": [
                                {
                                    "0": "WideWorldImporters",
                                    "1": "FULL",
                                    "2": "999.99",
                                    "3": "5.98",
                                    "4": "0.60",
                                    "5": "0.30",
                                    "6": "NOTHING"
                                }
                            ]
                        },
                        "text/html": [
                            "<table>",
                            "<tr><th>Database Name</th><th>Recovery Model</th><th>Total Log Space (MB)</th><th>Used Log Space (MB)</th><th>Used Log Space %</th><th>Used Log Space Since Last Backup (MB)</th><th>log_reuse_wait_desc</th></tr>",
                            "<tr><td>WideWorldImporters</td><td>FULL</td><td>999.99</td><td>5.98</td><td>0.60</td><td>0.30</td><td>NOTHING</td></tr>",
                            "</table>"
                        ]
                    }
                }
            ],
            "execution_count": 37
        },
        {
            "cell_type": "markdown",
            "source": [
                "Look at log file size and usage, along with the log reuse wait description for the current database\r\n",
                "\r\n",
                "[sys.dm_db_log_space_usage (Transact-SQL)](https://bit.ly/2H4MQw9)"
            ],
            "metadata": {
                "azdata_cell_guid": "c4a0d470-f1f1-481a-a65e-a671c2855ba2"
            }
        },
        {
            "cell_type": "markdown",
            "source": [
                "## Important database properties for current database   (Query 19) (Database Properties)"
            ],
            "metadata": {
                "azdata_cell_guid": "06150497-4a17-4f86-be43-164a803d1efa"
            }
        },
        {
            "cell_type": "code",
            "source": [
                "-- Important database properties for current database   (Query 19) (Database Properties)\r\n",
                "SELECT db.[name] AS [Database Name], db.recovery_model_desc AS [Recovery Model], \r\n",
                "db.state_desc, db.containment_desc, db.log_reuse_wait_desc AS [Log Reuse Wait Description], \r\n",
                "db.[compatibility_level] AS [DB Compatibility Level], \r\n",
                "db.is_mixed_page_allocation_on, db.page_verify_option_desc AS [Page Verify Option], \r\n",
                "db.is_auto_create_stats_on, db.is_auto_update_stats_on, db.is_auto_update_stats_async_on, db.is_parameterization_forced, \r\n",
                "db.snapshot_isolation_state_desc, db.is_read_committed_snapshot_on, db.is_auto_close_on, db.is_auto_shrink_on, \r\n",
                "db.target_recovery_time_in_seconds, db.is_cdc_enabled, db.is_memory_optimized_elevate_to_snapshot_on, \r\n",
                "db.delayed_durability_desc, db.is_auto_create_stats_incremental_on,\r\n",
                "db.is_query_store_on, db.is_sync_with_backup, db.is_temporal_history_retention_enabled,\r\n",
                "db.is_encrypted, is_result_set_caching_on, is_accelerated_database_recovery_on, is_tempdb_spill_to_remote_store  \r\n",
                "FROM sys.databases AS db WITH (NOLOCK)\r\n",
                "WHERE db.[name] <> N'master'\r\n",
                "ORDER BY db.[name] OPTION (RECOMPILE);"
            ],
            "metadata": {
                "azdata_cell_guid": "2717c53f-8199-4d3c-b7ad-55d633ac579d",
                "tags": []
            },
            "outputs": [
                {
                    "output_type": "display_data",
                    "data": {
                        "text/html": "(1 row affected)"
                    },
                    "metadata": {}
                },
                {
                    "output_type": "display_data",
                    "data": {
                        "text/html": "Total execution time: 00:00:00.301"
                    },
                    "metadata": {}
                },
                {
                    "output_type": "execute_result",
                    "metadata": {},
                    "execution_count": 38,
                    "data": {
                        "application/vnd.dataresource+json": {
                            "schema": {
                                "fields": [
                                    {
                                        "name": "Database Name"
                                    },
                                    {
                                        "name": "Recovery Model"
                                    },
                                    {
                                        "name": "state_desc"
                                    },
                                    {
                                        "name": "containment_desc"
                                    },
                                    {
                                        "name": "Log Reuse Wait Description"
                                    },
                                    {
                                        "name": "DB Compatibility Level"
                                    },
                                    {
                                        "name": "is_mixed_page_allocation_on"
                                    },
                                    {
                                        "name": "Page Verify Option"
                                    },
                                    {
                                        "name": "is_auto_create_stats_on"
                                    },
                                    {
                                        "name": "is_auto_update_stats_on"
                                    },
                                    {
                                        "name": "is_auto_update_stats_async_on"
                                    },
                                    {
                                        "name": "is_parameterization_forced"
                                    },
                                    {
                                        "name": "snapshot_isolation_state_desc"
                                    },
                                    {
                                        "name": "is_read_committed_snapshot_on"
                                    },
                                    {
                                        "name": "is_auto_close_on"
                                    },
                                    {
                                        "name": "is_auto_shrink_on"
                                    },
                                    {
                                        "name": "target_recovery_time_in_seconds"
                                    },
                                    {
                                        "name": "is_cdc_enabled"
                                    },
                                    {
                                        "name": "is_memory_optimized_elevate_to_snapshot_on"
                                    },
                                    {
                                        "name": "delayed_durability_desc"
                                    },
                                    {
                                        "name": "is_auto_create_stats_incremental_on"
                                    },
                                    {
                                        "name": "is_query_store_on"
                                    },
                                    {
                                        "name": "is_sync_with_backup"
                                    },
                                    {
                                        "name": "is_temporal_history_retention_enabled"
                                    },
                                    {
                                        "name": "is_encrypted"
                                    },
                                    {
                                        "name": "is_result_set_caching_on"
                                    },
                                    {
                                        "name": "is_accelerated_database_recovery_on"
                                    },
                                    {
                                        "name": "is_tempdb_spill_to_remote_store"
                                    }
                                ]
                            },
                            "data": [
                                {
                                    "0": "WideWorldImporters",
                                    "1": "FULL",
                                    "2": "ONLINE",
                                    "3": "NONE",
                                    "4": "NOTHING",
                                    "5": "130",
                                    "6": "0",
                                    "7": "CHECKSUM",
                                    "8": "1",
                                    "9": "1",
                                    "10": "1",
                                    "11": "0",
                                    "12": "OFF",
                                    "13": "1",
                                    "14": "0",
                                    "15": "0",
                                    "16": "120",
                                    "17": "0",
                                    "18": "0",
                                    "19": "DISABLED",
                                    "20": "0",
                                    "21": "1",
                                    "22": "0",
                                    "23": "1",
                                    "24": "1",
                                    "25": "0",
                                    "26": "1",
                                    "27": "0"
                                }
                            ]
                        },
                        "text/html": [
                            "<table>",
                            "<tr><th>Database Name</th><th>Recovery Model</th><th>state_desc</th><th>containment_desc</th><th>Log Reuse Wait Description</th><th>DB Compatibility Level</th><th>is_mixed_page_allocation_on</th><th>Page Verify Option</th><th>is_auto_create_stats_on</th><th>is_auto_update_stats_on</th><th>is_auto_update_stats_async_on</th><th>is_parameterization_forced</th><th>snapshot_isolation_state_desc</th><th>is_read_committed_snapshot_on</th><th>is_auto_close_on</th><th>is_auto_shrink_on</th><th>target_recovery_time_in_seconds</th><th>is_cdc_enabled</th><th>is_memory_optimized_elevate_to_snapshot_on</th><th>delayed_durability_desc</th><th>is_auto_create_stats_incremental_on</th><th>is_query_store_on</th><th>is_sync_with_backup</th><th>is_temporal_history_retention_enabled</th><th>is_encrypted</th><th>is_result_set_caching_on</th><th>is_accelerated_database_recovery_on</th><th>is_tempdb_spill_to_remote_store</th></tr>",
                            "<tr><td>WideWorldImporters</td><td>FULL</td><td>ONLINE</td><td>NONE</td><td>NOTHING</td><td>130</td><td>0</td><td>CHECKSUM</td><td>1</td><td>1</td><td>1</td><td>0</td><td>OFF</td><td>1</td><td>0</td><td>0</td><td>120</td><td>0</td><td>0</td><td>DISABLED</td><td>0</td><td>1</td><td>0</td><td>1</td><td>1</td><td>0</td><td>1</td><td>0</td></tr>",
                            "</table>"
                        ]
                    }
                }
            ],
            "execution_count": 38
        },
        {
            "cell_type": "markdown",
            "source": [
                "Things to look at:\r\n",
                "- What recovery model are you using?\r\n",
                "- What is the log reuse wait description?\r\n",
                "- What compatibility level is the database on? \r\n",
                "- What is the Page Verify Option? (should be CHECKSUM)\r\n",
                "- Is Auto Update Statistics Asynchronously enabled?\r\n",
                "- Is Delayed Durability enabled?"
            ],
            "metadata": {
                "azdata_cell_guid": "5700d9a2-f194-4f23-bc37-c7c842448f51"
            }
        },
        {
            "cell_type": "markdown",
            "source": [
                "## Get recent resource usage (Query 23) (Avg/Max Resource Usage)"
            ],
            "metadata": {
                "azdata_cell_guid": "acd5345c-2750-44cd-a8cd-c2d5f181869e"
            }
        },
        {
            "cell_type": "code",
            "source": [
                "-- Get recent resource usage (Query 23) (Avg/Max Resource Usage)\r\n",
                "SELECT CAST(AVG(avg_cpu_percent) AS DECIMAL(10,2)) AS [Average CPU Utilization In Percent],   \r\n",
                "       CAST(MAX(avg_cpu_percent) AS DECIMAL(10,2)) AS [Maximum CPU Utilization In Percent],   \r\n",
                "       CAST(AVG(avg_data_io_percent) AS DECIMAL(10,2)) AS [Average Data IO In Percent],   \r\n",
                "       CAST(MAX(avg_data_io_percent) AS DECIMAL(10,2)) AS [Maximum Data IO In Percent],   \r\n",
                "       CAST(AVG(avg_log_write_percent) AS DECIMAL(10,2)) AS [Average Log Write Utilization In Percent],   \r\n",
                "       CAST(MAX(avg_log_write_percent) AS DECIMAL(10,2)) AS [Maximum Log Write Utilization In Percent],   \r\n",
                "       CAST(AVG(avg_memory_usage_percent) AS DECIMAL(10,2)) AS [Average Memory Usage In Percent],   \r\n",
                "       CAST(MAX(avg_memory_usage_percent) AS DECIMAL(10,2)) AS [Maximum Memory Usage In Percent]   \r\n",
                "FROM sys.dm_db_resource_stats WITH (NOLOCK) OPTION (RECOMPILE); "
            ],
            "metadata": {
                "azdata_cell_guid": "8f93b397-9760-4253-b478-c3c105a28c79",
                "tags": [
                    "hide_input"
                ]
            },
            "outputs": [
                {
                    "output_type": "display_data",
                    "data": {
                        "text/html": "(1 row affected)"
                    },
                    "metadata": {}
                },
                {
                    "output_type": "display_data",
                    "data": {
                        "text/html": "Total execution time: 00:00:00.106"
                    },
                    "metadata": {}
                },
                {
                    "output_type": "execute_result",
                    "metadata": {},
                    "execution_count": 39,
                    "data": {
                        "application/vnd.dataresource+json": {
                            "schema": {
                                "fields": [
                                    {
                                        "name": "Average CPU Utilization In Percent"
                                    },
                                    {
                                        "name": "Maximum CPU Utilization In Percent"
                                    },
                                    {
                                        "name": "Average Data IO In Percent"
                                    },
                                    {
                                        "name": "Maximum Data IO In Percent"
                                    },
                                    {
                                        "name": "Average Log Write Utilization In Percent"
                                    },
                                    {
                                        "name": "Maximum Log Write Utilization In Percent"
                                    },
                                    {
                                        "name": "Average Memory Usage In Percent"
                                    },
                                    {
                                        "name": "Maximum Memory Usage In Percent"
                                    }
                                ]
                            },
                            "data": [
                                {
                                    "0": "2.08",
                                    "1": "53.69",
                                    "2": "0.00",
                                    "3": "0.00",
                                    "4": "0.00",
                                    "5": "0.04",
                                    "6": "1.46",
                                    "7": "1.48"
                                }
                            ]
                        },
                        "text/html": [
                            "<table>",
                            "<tr><th>Average CPU Utilization In Percent</th><th>Maximum CPU Utilization In Percent</th><th>Average Data IO In Percent</th><th>Maximum Data IO In Percent</th><th>Average Log Write Utilization In Percent</th><th>Maximum Log Write Utilization In Percent</th><th>Average Memory Usage In Percent</th><th>Maximum Memory Usage In Percent</th></tr>",
                            "<tr><td>2.08</td><td>53.69</td><td>0.00</td><td>0.00</td><td>0.00</td><td>0.04</td><td>1.46</td><td>1.48</td></tr>",
                            "</table>"
                        ]
                    }
                }
            ],
            "execution_count": 39
        },
        {
            "cell_type": "markdown",
            "source": [
                "## Isolate top waits for this database since last restart or failover (Query 24) (Top DB Waits)"
            ],
            "metadata": {
                "azdata_cell_guid": "27b72172-db5a-45b3-94ea-04850cc11c70"
            }
        },
        {
            "cell_type": "code",
            "source": [
                "-- Isolate top waits for this database since last restart or failover (Query 24) (Top DB Waits)\r\n",
                "WITH [Waits] \r\n",
                "AS (SELECT wait_type, wait_time_ms/ 1000.0 AS [WaitS],\r\n",
                "          (wait_time_ms - signal_wait_time_ms) / 1000.0 AS [ResourceS],\r\n",
                "           signal_wait_time_ms / 1000.0 AS [SignalS],\r\n",
                "           waiting_tasks_count AS [WaitCount],\r\n",
                "           100.0 *  wait_time_ms / SUM (wait_time_ms) OVER() AS [Percentage],\r\n",
                "           ROW_NUMBER() OVER(ORDER BY wait_time_ms DESC) AS [RowNum]\r\n",
                "    FROM sys.dm_db_wait_stats WITH (NOLOCK)\r\n",
                "    WHERE [wait_type] NOT IN (\r\n",
                "        N'BROKER_EVENTHANDLER', N'BROKER_RECEIVE_WAITFOR', N'BROKER_TASK_STOP',\r\n",
                "\t\tN'BROKER_TO_FLUSH', N'BROKER_TRANSMITTER', N'CHECKPOINT_QUEUE',\r\n",
                "        N'CHKPT', N'CLR_AUTO_EVENT', N'CLR_MANUAL_EVENT', N'CLR_SEMAPHORE',\r\n",
                "        N'DBMIRROR_DBM_EVENT', N'DBMIRROR_EVENTS_QUEUE', N'DBMIRROR_WORKER_QUEUE',\r\n",
                "\t\tN'DBMIRRORING_CMD', N'DIRTY_PAGE_POLL', N'DISPATCHER_QUEUE_SEMAPHORE',\r\n",
                "        N'EXECSYNC', N'FSAGENT', N'FT_IFTS_SCHEDULER_IDLE_WAIT', N'FT_IFTSHC_MUTEX',\r\n",
                "        N'HADR_CLUSAPI_CALL', N'HADR_FILESTREAM_IOMGR_IOCOMPLETION', N'HADR_LOGCAPTURE_WAIT', \r\n",
                "\t\tN'HADR_NOTIFICATION_DEQUEUE', N'HADR_TIMER_TASK', N'HADR_WORK_QUEUE',\r\n",
                "        N'KSOURCE_WAKEUP', N'LAZYWRITER_SLEEP', N'LOGMGR_QUEUE', \r\n",
                "\t\tN'MEMORY_ALLOCATION_EXT', N'ONDEMAND_TASK_QUEUE',\r\n",
                "\t\tN'PREEMPTIVE_HADR_LEASE_MECHANISM', N'PREEMPTIVE_SP_SERVER_DIAGNOSTICS',\r\n",
                "\t\tN'PREEMPTIVE_ODBCOPS',\r\n",
                "\t\tN'PREEMPTIVE_OS_LIBRARYOPS', N'PREEMPTIVE_OS_COMOPS', N'PREEMPTIVE_OS_CRYPTOPS',\r\n",
                "\t\tN'PREEMPTIVE_OS_PIPEOPS', N'PREEMPTIVE_OS_AUTHENTICATIONOPS',\r\n",
                "\t\tN'PREEMPTIVE_OS_GENERICOPS', N'PREEMPTIVE_OS_VERIFYTRUST',\r\n",
                "\t\tN'PREEMPTIVE_OS_FILEOPS', N'PREEMPTIVE_OS_DEVICEOPS', N'PREEMPTIVE_OS_QUERYREGISTRY',\r\n",
                "\t\tN'PREEMPTIVE_OS_WRITEFILE',\r\n",
                "\t\tN'PREEMPTIVE_XE_CALLBACKEXECUTE', N'PREEMPTIVE_XE_DISPATCHER',\r\n",
                "\t\tN'PREEMPTIVE_XE_GETTARGETSTATE', N'PREEMPTIVE_XE_SESSIONCOMMIT',\r\n",
                "\t\tN'PREEMPTIVE_XE_TARGETINIT', N'PREEMPTIVE_XE_TARGETFINALIZE',\r\n",
                "\t\tN'PREEMPTIVE_XHTTP',\r\n",
                "        N'PWAIT_ALL_COMPONENTS_INITIALIZED', N'PWAIT_DIRECTLOGCONSUMER_GETNEXT',\r\n",
                "\t\tN'QDS_PERSIST_TASK_MAIN_LOOP_SLEEP',\r\n",
                "\t\tN'QDS_ASYNC_QUEUE',\r\n",
                "        N'QDS_CLEANUP_STALE_QUERIES_TASK_MAIN_LOOP_SLEEP', N'REQUEST_FOR_DEADLOCK_SEARCH',\r\n",
                "\t\tN'RESOURCE_GOVERNOR_IDLE',\r\n",
                "\t\tN'RESOURCE_QUEUE', N'SERVER_IDLE_CHECK', N'SLEEP_BPOOL_FLUSH', N'SLEEP_DBSTARTUP',\r\n",
                "\t\tN'SLEEP_DCOMSTARTUP', N'SLEEP_MASTERDBREADY', N'SLEEP_MASTERMDREADY',\r\n",
                "        N'SLEEP_MASTERUPGRADED', N'SLEEP_MSDBSTARTUP', N'SLEEP_SYSTEMTASK', N'SLEEP_TASK',\r\n",
                "        N'SLEEP_TEMPDBSTARTUP', N'SNI_HTTP_ACCEPT', N'SP_SERVER_DIAGNOSTICS_SLEEP',\r\n",
                "\t\tN'SQLTRACE_BUFFER_FLUSH', N'SQLTRACE_INCREMENTAL_FLUSH_SLEEP', N'SQLTRACE_WAIT_ENTRIES',\r\n",
                "\t\tN'WAIT_FOR_RESULTS', N'WAITFOR', N'WAITFOR_TASKSHUTDOWN', N'WAIT_XTP_HOST_WAIT',\r\n",
                "\t\tN'WAIT_XTP_OFFLINE_CKPT_NEW_LOG', N'WAIT_XTP_CKPT_CLOSE', N'WAIT_XTP_RECOVERY',\r\n",
                "\t\tN'XE_BUFFERMGR_ALLPROCESSED_EVENT', N'XE_DISPATCHER_JOIN',\r\n",
                "        N'XE_DISPATCHER_WAIT', N'XE_LIVE_TARGET_TVF', N'XE_TIMER_EVENT')\r\n",
                "    AND waiting_tasks_count > 0)\r\n",
                "SELECT\r\n",
                "    MAX (W1.wait_type) AS [WaitType],\r\n",
                "\tCAST (MAX (W1.Percentage) AS DECIMAL (5,2)) AS [Wait Percentage],\r\n",
                "\tCAST ((MAX (W1.WaitS) / MAX (W1.WaitCount)) AS DECIMAL (16,4)) AS [AvgWait_Sec],\r\n",
                "    CAST ((MAX (W1.ResourceS) / MAX (W1.WaitCount)) AS DECIMAL (16,4)) AS [AvgRes_Sec],\r\n",
                "    CAST ((MAX (W1.SignalS) / MAX (W1.WaitCount)) AS DECIMAL (16,4)) AS [AvgSig_Sec],\r\n",
                "    CAST (MAX (W1.WaitS) AS DECIMAL (16,2)) AS [Total_Wait_Sec],\r\n",
                "    CAST (MAX (W1.ResourceS) AS DECIMAL (16,2)) AS [Resource_Sec],\r\n",
                "    CAST (MAX (W1.SignalS) AS DECIMAL (16,2)) AS [Signal_Sec],\r\n",
                "    MAX (W1.WaitCount) AS [Wait Count]   \r\n",
                "FROM Waits AS W1\r\n",
                "INNER JOIN Waits AS W2\r\n",
                "ON W2.RowNum <= W1.RowNum\r\n",
                "GROUP BY W1.RowNum\r\n",
                "HAVING SUM (W2.Percentage) - MAX (W1.Percentage) < 99 -- percentage threshold\r\n",
                "OPTION (RECOMPILE);"
            ],
            "metadata": {
                "azdata_cell_guid": "7d10e589-3b70-48d0-8741-18dafd5152c9",
                "tags": [
                    "hide_input"
                ]
            },
            "outputs": [
                {
                    "output_type": "display_data",
                    "data": {
                        "text/html": "(4 rows affected)"
                    },
                    "metadata": {}
                },
                {
                    "output_type": "display_data",
                    "data": {
                        "text/html": "Total execution time: 00:00:00.137"
                    },
                    "metadata": {}
                },
                {
                    "output_type": "execute_result",
                    "metadata": {},
                    "execution_count": 40,
                    "data": {
                        "application/vnd.dataresource+json": {
                            "schema": {
                                "fields": [
                                    {
                                        "name": "WaitType"
                                    },
                                    {
                                        "name": "Wait Percentage"
                                    },
                                    {
                                        "name": "AvgWait_Sec"
                                    },
                                    {
                                        "name": "AvgRes_Sec"
                                    },
                                    {
                                        "name": "AvgSig_Sec"
                                    },
                                    {
                                        "name": "Total_Wait_Sec"
                                    },
                                    {
                                        "name": "Resource_Sec"
                                    },
                                    {
                                        "name": "Signal_Sec"
                                    },
                                    {
                                        "name": "Wait Count"
                                    }
                                ]
                            },
                            "data": [
                                {
                                    "0": "SOS_SCHEDULER_YIELD",
                                    "1": "73.47",
                                    "2": "0.0111",
                                    "3": "0.0000",
                                    "4": "0.0111",
                                    "5": "50.20",
                                    "6": "0.00",
                                    "7": "50.20",
                                    "8": "4507"
                                },
                                {
                                    "0": "PAGEIOLATCH_SH",
                                    "1": "14.34",
                                    "2": "0.0265",
                                    "3": "0.0260",
                                    "4": "0.0005",
                                    "5": "9.80",
                                    "6": "9.60",
                                    "7": "0.19",
                                    "8": "370"
                                },
                                {
                                    "0": "PWAIT_SECURITY_FEDAUTH_AADLOOKUP",
                                    "1": "10.67",
                                    "2": "1.2148",
                                    "3": "1.2148",
                                    "4": "0.0000",
                                    "5": "7.29",
                                    "6": "7.29",
                                    "7": "0.00",
                                    "8": "6"
                                },
                                {
                                    "0": "WRITELOG",
                                    "1": "1.10",
                                    "2": "0.0142",
                                    "3": "0.0138",
                                    "4": "0.0003",
                                    "5": "0.75",
                                    "6": "0.73",
                                    "7": "0.02",
                                    "8": "53"
                                }
                            ]
                        },
                        "text/html": [
                            "<table>",
                            "<tr><th>WaitType</th><th>Wait Percentage</th><th>AvgWait_Sec</th><th>AvgRes_Sec</th><th>AvgSig_Sec</th><th>Total_Wait_Sec</th><th>Resource_Sec</th><th>Signal_Sec</th><th>Wait Count</th></tr>",
                            "<tr><td>SOS_SCHEDULER_YIELD</td><td>73.47</td><td>0.0111</td><td>0.0000</td><td>0.0111</td><td>50.20</td><td>0.00</td><td>50.20</td><td>4507</td></tr>",
                            "<tr><td>PAGEIOLATCH_SH</td><td>14.34</td><td>0.0265</td><td>0.0260</td><td>0.0005</td><td>9.80</td><td>9.60</td><td>0.19</td><td>370</td></tr>",
                            "<tr><td>PWAIT_SECURITY_FEDAUTH_AADLOOKUP</td><td>10.67</td><td>1.2148</td><td>1.2148</td><td>0.0000</td><td>7.29</td><td>7.29</td><td>0.00</td><td>6</td></tr>",
                            "<tr><td>WRITELOG</td><td>1.10</td><td>0.0142</td><td>0.0138</td><td>0.0003</td><td>0.75</td><td>0.73</td><td>0.02</td><td>53</td></tr>",
                            "</table>"
                        ]
                    }
                }
            ],
            "execution_count": 40
        },
        {
            "cell_type": "markdown",
            "source": [
                "Cumulative wait stats are not as useful on an idle instance that is not under load or performance pressure\r\n",
                "\r\n",
                "[SQL Server Wait Types Library](https://bit.ly/2ePzYO2)\r\n",
                "\r\n",
                "[The SQL Server Wait Type Repository](https://bit.ly/1afzfjC)\r\n",
                "\r\n",
                "[Wait statistics, or please tell me where it hurts](https://bit.ly/2wsQHQE)\r\n",
                "\r\n",
                "[SQL Server 2005 Performance Tuning using the Waits and Queues](https://bit.ly/1o2NFoF)\r\n",
                "\r\n",
                "[sys.dm_os_wait_stats (Transact-SQL)](https://bit.ly/2Hjq9Yl)\r\n",
                ""
            ],
            "metadata": {
                "azdata_cell_guid": "1eecc47c-52fd-4f87-ac3d-da61635dc177"
            }
        },
        {
            "cell_type": "markdown",
            "source": [
                "## Get most frequently executed queries for this database (Query 25) (Query Execution Counts)"
            ],
            "metadata": {
                "azdata_cell_guid": "3cea974b-f126-4cab-86fc-4ce7e006de36"
            }
        },
        {
            "cell_type": "code",
            "source": [
                "-- Get most frequently executed queries for this database (Query 25) (Query Execution Counts)\r\n",
                "SELECT TOP(5) LEFT(t.[text], 50) AS [Short Query Text], qs.execution_count AS [Execution Count],\r\n",
                "qs.total_logical_reads AS [Total Logical Reads],\r\n",
                "qs.total_logical_reads/qs.execution_count AS [Avg Logical Reads],\r\n",
                "qs.total_worker_time AS [Total Worker Time],\r\n",
                "qs.total_worker_time/qs.execution_count AS [Avg Worker Time], \r\n",
                "qs.total_elapsed_time AS [Total Elapsed Time],\r\n",
                "qs.total_elapsed_time/qs.execution_count AS [Avg Elapsed Time],\r\n",
                "CASE WHEN CONVERT(nvarchar(max), qp.query_plan) COLLATE Latin1_General_BIN2 LIKE N'%<MissingIndexes>%' THEN 1 ELSE 0 END AS [Has Missing Index],\r\n",
                "qs.creation_time AS [Creation Time]\r\n",
                "--,t.[text] AS [Complete Query Text], qp.query_plan AS [Query Plan] -- uncomment out these columns if not copying results to Excel\r\n",
                "FROM sys.dm_exec_query_stats AS qs WITH (NOLOCK)\r\n",
                "CROSS APPLY sys.dm_exec_sql_text(plan_handle) AS t \r\n",
                "CROSS APPLY sys.dm_exec_query_plan(plan_handle) AS qp \r\n",
                "WHERE t.dbid = DB_ID()\r\n",
                "ORDER BY qs.execution_count DESC OPTION (RECOMPILE);"
            ],
            "metadata": {
                "azdata_cell_guid": "fc55c63f-8afc-473d-b713-3e6a347a2100",
                "tags": []
            },
            "outputs": [
                {
                    "output_type": "display_data",
                    "data": {
                        "text/html": "(5 rows affected)"
                    },
                    "metadata": {}
                },
                {
                    "output_type": "display_data",
                    "data": {
                        "text/html": "Total execution time: 00:00:00.085"
                    },
                    "metadata": {}
                },
                {
                    "output_type": "execute_result",
                    "metadata": {},
                    "execution_count": 41,
                    "data": {
                        "application/vnd.dataresource+json": {
                            "schema": {
                                "fields": [
                                    {
                                        "name": "Short Query Text"
                                    },
                                    {
                                        "name": "Execution Count"
                                    },
                                    {
                                        "name": "Total Logical Reads"
                                    },
                                    {
                                        "name": "Avg Logical Reads"
                                    },
                                    {
                                        "name": "Total Worker Time"
                                    },
                                    {
                                        "name": "Avg Worker Time"
                                    },
                                    {
                                        "name": "Total Elapsed Time"
                                    },
                                    {
                                        "name": "Avg Elapsed Time"
                                    },
                                    {
                                        "name": "Has Missing Index"
                                    },
                                    {
                                        "name": "Creation Time"
                                    }
                                ]
                            },
                            "data": [
                                {
                                    "0": "(@ip_address_value BIGINT, @is_present INT OUT) DE",
                                    "1": "392",
                                    "2": "0",
                                    "3": "0",
                                    "4": "15498",
                                    "5": "39",
                                    "6": "15661",
                                    "7": "39",
                                    "8": "0",
                                    "9": "2021-04-30 00:53:09.193"
                                },
                                {
                                    "0": "(@ip_address_value BIGINT, @is_present INT OUT) DE",
                                    "1": "392",
                                    "2": "0",
                                    "3": "0",
                                    "4": "6586",
                                    "5": "16",
                                    "6": "6651",
                                    "7": "16",
                                    "8": "0",
                                    "9": "2021-04-30 00:53:09.197"
                                },
                                {
                                    "0": "SELECT SERVERPROPERTY('EngineEdition'), SERVERPROP",
                                    "1": "165",
                                    "2": "1155",
                                    "3": "7",
                                    "4": "44125",
                                    "5": "267",
                                    "6": "44226",
                                    "7": "268",
                                    "8": "0",
                                    "9": "2021-04-30 00:53:09.397"
                                },
                                {
                                    "0": "(@_msparam_0 nvarchar(4000),@_msparam_1 nvarchar(4",
                                    "1": "34",
                                    "2": "15607",
                                    "3": "459",
                                    "4": "62138",
                                    "5": "1827",
                                    "6": "62153",
                                    "7": "1828",
                                    "8": "0",
                                    "9": "2021-04-30 01:46:00.223"
                                },
                                {
                                    "0": "(@_msparam_0 nvarchar(4000),@_msparam_1 nvarchar(4",
                                    "1": "15",
                                    "2": "264",
                                    "3": "17",
                                    "4": "6042",
                                    "5": "402",
                                    "6": "6049",
                                    "7": "403",
                                    "8": "0",
                                    "9": "2021-04-30 01:47:26.520"
                                }
                            ]
                        },
                        "text/html": [
                            "<table>",
                            "<tr><th>Short Query Text</th><th>Execution Count</th><th>Total Logical Reads</th><th>Avg Logical Reads</th><th>Total Worker Time</th><th>Avg Worker Time</th><th>Total Elapsed Time</th><th>Avg Elapsed Time</th><th>Has Missing Index</th><th>Creation Time</th></tr>",
                            "<tr><td>(@ip_address_value BIGINT, @is_present INT OUT) DE</td><td>392</td><td>0</td><td>0</td><td>15498</td><td>39</td><td>15661</td><td>39</td><td>0</td><td>2021-04-30 00:53:09.193</td></tr>",
                            "<tr><td>(@ip_address_value BIGINT, @is_present INT OUT) DE</td><td>392</td><td>0</td><td>0</td><td>6586</td><td>16</td><td>6651</td><td>16</td><td>0</td><td>2021-04-30 00:53:09.197</td></tr>",
                            "<tr><td>SELECT SERVERPROPERTY('EngineEdition'), SERVERPROP</td><td>165</td><td>1155</td><td>7</td><td>44125</td><td>267</td><td>44226</td><td>268</td><td>0</td><td>2021-04-30 00:53:09.397</td></tr>",
                            "<tr><td>(@_msparam_0 nvarchar(4000),@_msparam_1 nvarchar(4</td><td>34</td><td>15607</td><td>459</td><td>62138</td><td>1827</td><td>62153</td><td>1828</td><td>0</td><td>2021-04-30 01:46:00.223</td></tr>",
                            "<tr><td>(@_msparam_0 nvarchar(4000),@_msparam_1 nvarchar(4</td><td>15</td><td>264</td><td>17</td><td>6042</td><td>402</td><td>6049</td><td>403</td><td>0</td><td>2021-04-30 01:47:26.520</td></tr>",
                            "</table>"
                        ]
                    }
                }
            ],
            "execution_count": 41
        },
        {
            "cell_type": "markdown",
            "source": [
                "Tells you which cached queries are called the most often\r\n",
                "- This helps you characterize and baseline your workload\r\n",
                "- It also helps you find possible caching opportunities"
            ],
            "metadata": {
                "azdata_cell_guid": "d1fc8481-722e-4f0b-a0ba-e05b91b99298"
            }
        },
        {
            "cell_type": "markdown",
            "source": [
                "## Get top total worker time queries for this database (Query 26) (Top Worker Time Queries)"
            ],
            "metadata": {
                "azdata_cell_guid": "890b9229-47c8-4872-9a2c-5d9569603ba4"
            }
        },
        {
            "cell_type": "code",
            "source": [
                "-- Get top total worker time queries for this database (Query 26) (Top Worker Time Queries)\t\t\r\n",
                "SELECT TOP(5) DB_NAME(t.[dbid]) AS [Database Name], \r\n",
                "REPLACE(REPLACE(LEFT(t.[text], 50), CHAR(10),''), CHAR(13),'') AS [Short Query Text],  \r\n",
                "qs.total_worker_time AS [Total Worker Time], qs.min_worker_time AS [Min Worker Time],\r\n",
                "qs.total_worker_time/qs.execution_count AS [Avg Worker Time], \r\n",
                "qs.max_worker_time AS [Max Worker Time], \r\n",
                "qs.min_elapsed_time AS [Min Elapsed Time], \r\n",
                "qs.total_elapsed_time/qs.execution_count AS [Avg Elapsed Time], \r\n",
                "qs.max_elapsed_time AS [Max Elapsed Time],\r\n",
                "qs.min_logical_reads AS [Min Logical Reads],\r\n",
                "qs.total_logical_reads/qs.execution_count AS [Avg Logical Reads],\r\n",
                "qs.max_logical_reads AS [Max Logical Reads], \r\n",
                "qs.execution_count AS [Execution Count],\r\n",
                "CASE WHEN CONVERT(nvarchar(max), qp.query_plan) LIKE N'%<MissingIndexes>%' THEN 1 ELSE 0 END AS [Has Missing Index],  \r\n",
                "qs.creation_time AS [Creation Time]\r\n",
                "--,t.[text] AS [Query Text], qp.query_plan AS [Query Plan] -- uncomment out these columns if not copying results to Excel\r\n",
                "FROM sys.dm_exec_query_stats AS qs WITH (NOLOCK)\r\n",
                "CROSS APPLY sys.dm_exec_sql_text(plan_handle) AS t \r\n",
                "CROSS APPLY sys.dm_exec_query_plan(plan_handle) AS qp\r\n",
                "WHERE t.dbid = DB_ID() \r\n",
                "ORDER BY qs.total_worker_time DESC OPTION (RECOMPILE);"
            ],
            "metadata": {
                "azdata_cell_guid": "fa49d625-e688-45a7-84ee-1760095914dd",
                "tags": []
            },
            "outputs": [
                {
                    "output_type": "display_data",
                    "data": {
                        "text/html": "(5 rows affected)"
                    },
                    "metadata": {}
                },
                {
                    "output_type": "display_data",
                    "data": {
                        "text/html": "Total execution time: 00:00:00.648"
                    },
                    "metadata": {}
                },
                {
                    "output_type": "execute_result",
                    "metadata": {},
                    "execution_count": 42,
                    "data": {
                        "application/vnd.dataresource+json": {
                            "schema": {
                                "fields": [
                                    {
                                        "name": "Database Name"
                                    },
                                    {
                                        "name": "Short Query Text"
                                    },
                                    {
                                        "name": "Total Worker Time"
                                    },
                                    {
                                        "name": "Min Worker Time"
                                    },
                                    {
                                        "name": "Avg Worker Time"
                                    },
                                    {
                                        "name": "Max Worker Time"
                                    },
                                    {
                                        "name": "Min Elapsed Time"
                                    },
                                    {
                                        "name": "Avg Elapsed Time"
                                    },
                                    {
                                        "name": "Max Elapsed Time"
                                    },
                                    {
                                        "name": "Min Logical Reads"
                                    },
                                    {
                                        "name": "Avg Logical Reads"
                                    },
                                    {
                                        "name": "Max Logical Reads"
                                    },
                                    {
                                        "name": "Execution Count"
                                    },
                                    {
                                        "name": "Has Missing Index"
                                    },
                                    {
                                        "name": "Creation Time"
                                    }
                                ]
                            },
                            "data": [
                                {
                                    "0": "WideWorldImporters",
                                    "1": "(@_msparam_0 nvarchar(4000),@_msparam_1 nvarchar(4",
                                    "2": "125460",
                                    "3": "16433",
                                    "4": "20910",
                                    "5": "23966",
                                    "6": "16433",
                                    "7": "70040",
                                    "8": "238141",
                                    "9": "194",
                                    "10": "194",
                                    "11": "195",
                                    "12": "6",
                                    "13": "0",
                                    "14": "2021-04-30 01:47:25.690"
                                },
                                {
                                    "0": "WideWorldImporters",
                                    "1": "(@_msparam_0 nvarchar(4000),@_msparam_1 nvarchar(4",
                                    "2": "62138",
                                    "3": "579",
                                    "4": "1827",
                                    "5": "4546",
                                    "6": "579",
                                    "7": "1828",
                                    "8": "4546",
                                    "9": "47",
                                    "10": "459",
                                    "11": "1598",
                                    "12": "34",
                                    "13": "0",
                                    "14": "2021-04-30 01:46:00.223"
                                },
                                {
                                    "0": "WideWorldImporters",
                                    "1": "SELECT SERVERPROPERTY('EngineEdition'), SERVERPROP",
                                    "2": "44317",
                                    "3": "139",
                                    "4": "266",
                                    "5": "485",
                                    "6": "139",
                                    "7": "267",
                                    "8": "486",
                                    "9": "7",
                                    "10": "7",
                                    "11": "7",
                                    "12": "166",
                                    "13": "0",
                                    "14": "2021-04-30 00:53:09.397"
                                },
                                {
                                    "0": "WideWorldImporters",
                                    "1": "(@_msparam_0 nvarchar(4000),@_msparam_1 nvarchar(4",
                                    "2": "42180",
                                    "3": "42180",
                                    "4": "42180",
                                    "5": "42180",
                                    "6": "44213",
                                    "7": "44213",
                                    "8": "44213",
                                    "9": "16780",
                                    "10": "16780",
                                    "11": "16780",
                                    "12": "1",
                                    "13": "0",
                                    "14": "2021-04-30 01:45:35.020"
                                },
                                {
                                    "0": "WideWorldImporters",
                                    "1": "(@_msparam_0 nvarchar(4000))SELECTSCHEMA_NAME(udf",
                                    "2": "29028",
                                    "3": "29028",
                                    "4": "29028",
                                    "5": "29028",
                                    "6": "154729",
                                    "7": "154729",
                                    "8": "154729",
                                    "9": "4717",
                                    "10": "4717",
                                    "11": "4717",
                                    "12": "1",
                                    "13": "0",
                                    "14": "2021-04-30 01:45:33.370"
                                }
                            ]
                        },
                        "text/html": [
                            "<table>",
                            "<tr><th>Database Name</th><th>Short Query Text</th><th>Total Worker Time</th><th>Min Worker Time</th><th>Avg Worker Time</th><th>Max Worker Time</th><th>Min Elapsed Time</th><th>Avg Elapsed Time</th><th>Max Elapsed Time</th><th>Min Logical Reads</th><th>Avg Logical Reads</th><th>Max Logical Reads</th><th>Execution Count</th><th>Has Missing Index</th><th>Creation Time</th></tr>",
                            "<tr><td>WideWorldImporters</td><td>(@_msparam_0 nvarchar(4000),@_msparam_1 nvarchar(4</td><td>125460</td><td>16433</td><td>20910</td><td>23966</td><td>16433</td><td>70040</td><td>238141</td><td>194</td><td>194</td><td>195</td><td>6</td><td>0</td><td>2021-04-30 01:47:25.690</td></tr>",
                            "<tr><td>WideWorldImporters</td><td>(@_msparam_0 nvarchar(4000),@_msparam_1 nvarchar(4</td><td>62138</td><td>579</td><td>1827</td><td>4546</td><td>579</td><td>1828</td><td>4546</td><td>47</td><td>459</td><td>1598</td><td>34</td><td>0</td><td>2021-04-30 01:46:00.223</td></tr>",
                            "<tr><td>WideWorldImporters</td><td>SELECT SERVERPROPERTY('EngineEdition'), SERVERPROP</td><td>44317</td><td>139</td><td>266</td><td>485</td><td>139</td><td>267</td><td>486</td><td>7</td><td>7</td><td>7</td><td>166</td><td>0</td><td>2021-04-30 00:53:09.397</td></tr>",
                            "<tr><td>WideWorldImporters</td><td>(@_msparam_0 nvarchar(4000),@_msparam_1 nvarchar(4</td><td>42180</td><td>42180</td><td>42180</td><td>42180</td><td>44213</td><td>44213</td><td>44213</td><td>16780</td><td>16780</td><td>16780</td><td>1</td><td>0</td><td>2021-04-30 01:45:35.020</td></tr>",
                            "<tr><td>WideWorldImporters</td><td>(@_msparam_0 nvarchar(4000))SELECTSCHEMA_NAME(udf</td><td>29028</td><td>29028</td><td>29028</td><td>29028</td><td>154729</td><td>154729</td><td>154729</td><td>4717</td><td>4717</td><td>4717</td><td>1</td><td>0</td><td>2021-04-30 01:45:33.370</td></tr>",
                            "</table>"
                        ]
                    }
                }
            ],
            "execution_count": 42
        },
        {
            "cell_type": "markdown",
            "source": [
                "- Helps you find the most expensive queries from a CPU perspective for this database\r\n",
                "- Can also help track down parameter sniffing issues"
            ],
            "metadata": {
                "azdata_cell_guid": "4ff5babc-c7c2-4d9b-8ed4-9db63538045a"
            }
        },
        {
            "cell_type": "markdown",
            "source": [
                "## Get top 5 total logical reads queries for this database (Query 27) (Top Logical Reads Queries)"
            ],
            "metadata": {
                "azdata_cell_guid": "d478f882-9868-4b67-8550-56fb413b1006"
            }
        },
        {
            "cell_type": "code",
            "source": [
                "SELECT TOP(5) DB_NAME(t.[dbid]) AS [Database Name],\r\n",
                "REPLACE(REPLACE(LEFT(t.[text], 50), CHAR(10),''), CHAR(13),'') AS [Short Query Text], \r\n",
                "qs.total_logical_reads AS [Total Logical Reads],\r\n",
                "qs.min_logical_reads AS [Min Logical Reads],\r\n",
                "qs.total_logical_reads/qs.execution_count AS [Avg Logical Reads],\r\n",
                "qs.max_logical_reads AS [Max Logical Reads],   \r\n",
                "qs.min_worker_time AS [Min Worker Time],\r\n",
                "qs.total_worker_time/qs.execution_count AS [Avg Worker Time], \r\n",
                "qs.max_worker_time AS [Max Worker Time], \r\n",
                "qs.min_elapsed_time AS [Min Elapsed Time], \r\n",
                "qs.total_elapsed_time/qs.execution_count AS [Avg Elapsed Time], \r\n",
                "qs.max_elapsed_time AS [Max Elapsed Time],\r\n",
                "qs.execution_count AS [Execution Count],\r\n",
                "CASE WHEN CONVERT(nvarchar(max), qp.query_plan) LIKE N'%<MissingIndexes>%' THEN 1 ELSE 0 END AS [Has Missing Index],   \r\n",
                "qs.creation_time AS [Creation Time]\r\n",
                "--,t.[text] AS [Complete Query Text], qp.query_plan AS [Query Plan] -- uncomment out these columns if not copying results to Excel\r\n",
                "FROM sys.dm_exec_query_stats AS qs WITH (NOLOCK)\r\n",
                "CROSS APPLY sys.dm_exec_sql_text(plan_handle) AS t \r\n",
                "CROSS APPLY sys.dm_exec_query_plan(plan_handle) AS qp\r\n",
                "WHERE t.dbid = DB_ID()  \r\n",
                "ORDER BY qs.total_logical_reads DESC OPTION (RECOMPILE);"
            ],
            "metadata": {
                "azdata_cell_guid": "93db448c-7b02-486f-8d5e-1590c1ed03b8",
                "tags": [
                    "hide_input"
                ]
            },
            "outputs": [
                {
                    "output_type": "display_data",
                    "data": {
                        "text/html": "(5 rows affected)"
                    },
                    "metadata": {}
                },
                {
                    "output_type": "display_data",
                    "data": {
                        "text/html": "Total execution time: 00:00:00.164"
                    },
                    "metadata": {}
                },
                {
                    "output_type": "execute_result",
                    "metadata": {},
                    "execution_count": 43,
                    "data": {
                        "application/vnd.dataresource+json": {
                            "schema": {
                                "fields": [
                                    {
                                        "name": "Database Name"
                                    },
                                    {
                                        "name": "Short Query Text"
                                    },
                                    {
                                        "name": "Total Logical Reads"
                                    },
                                    {
                                        "name": "Min Logical Reads"
                                    },
                                    {
                                        "name": "Avg Logical Reads"
                                    },
                                    {
                                        "name": "Max Logical Reads"
                                    },
                                    {
                                        "name": "Min Worker Time"
                                    },
                                    {
                                        "name": "Avg Worker Time"
                                    },
                                    {
                                        "name": "Max Worker Time"
                                    },
                                    {
                                        "name": "Min Elapsed Time"
                                    },
                                    {
                                        "name": "Avg Elapsed Time"
                                    },
                                    {
                                        "name": "Max Elapsed Time"
                                    },
                                    {
                                        "name": "Execution Count"
                                    },
                                    {
                                        "name": "Has Missing Index"
                                    },
                                    {
                                        "name": "Creation Time"
                                    }
                                ]
                            },
                            "data": [
                                {
                                    "0": "WideWorldImporters",
                                    "1": "(@_msparam_0 nvarchar(4000),@_msparam_1 nvarchar(4",
                                    "2": "16780",
                                    "3": "16780",
                                    "4": "16780",
                                    "5": "16780",
                                    "6": "42180",
                                    "7": "42180",
                                    "8": "42180",
                                    "9": "44213",
                                    "10": "44213",
                                    "11": "44213",
                                    "12": "1",
                                    "13": "0",
                                    "14": "2021-04-30 01:45:35.020"
                                },
                                {
                                    "0": "WideWorldImporters",
                                    "1": "(@_msparam_0 nvarchar(4000),@_msparam_1 nvarchar(4",
                                    "2": "15607",
                                    "3": "47",
                                    "4": "459",
                                    "5": "1598",
                                    "6": "579",
                                    "7": "1827",
                                    "8": "4546",
                                    "9": "579",
                                    "10": "1828",
                                    "11": "4546",
                                    "12": "34",
                                    "13": "0",
                                    "14": "2021-04-30 01:46:00.223"
                                },
                                {
                                    "0": "WideWorldImporters",
                                    "1": "(@_msparam_0 nvarchar(4000))SELECTSCHEMA_NAME(udf",
                                    "2": "4717",
                                    "3": "4717",
                                    "4": "4717",
                                    "5": "4717",
                                    "6": "29028",
                                    "7": "29028",
                                    "8": "29028",
                                    "9": "154729",
                                    "10": "154729",
                                    "11": "154729",
                                    "12": "1",
                                    "13": "0",
                                    "14": "2021-04-30 01:45:33.370"
                                },
                                {
                                    "0": "WideWorldImporters",
                                    "1": "(@_msparam_0 nvarchar(4000),@_msparam_1 nvarchar(4",
                                    "2": "1720",
                                    "3": "59",
                                    "4": "286",
                                    "5": "831",
                                    "6": "678",
                                    "7": "1433",
                                    "8": "2621",
                                    "9": "678",
                                    "10": "5788",
                                    "11": "27897",
                                    "12": "6",
                                    "13": "0",
                                    "14": "2021-04-30 01:47:26.927"
                                },
                                {
                                    "0": "WideWorldImporters",
                                    "1": "SELECT SERVERPROPERTY('EngineEdition'), SERVERPROP",
                                    "2": "1169",
                                    "3": "7",
                                    "4": "7",
                                    "5": "7",
                                    "6": "139",
                                    "7": "267",
                                    "8": "485",
                                    "9": "139",
                                    "10": "267",
                                    "11": "486",
                                    "12": "167",
                                    "13": "0",
                                    "14": "2021-04-30 00:53:09.397"
                                }
                            ]
                        },
                        "text/html": [
                            "<table>",
                            "<tr><th>Database Name</th><th>Short Query Text</th><th>Total Logical Reads</th><th>Min Logical Reads</th><th>Avg Logical Reads</th><th>Max Logical Reads</th><th>Min Worker Time</th><th>Avg Worker Time</th><th>Max Worker Time</th><th>Min Elapsed Time</th><th>Avg Elapsed Time</th><th>Max Elapsed Time</th><th>Execution Count</th><th>Has Missing Index</th><th>Creation Time</th></tr>",
                            "<tr><td>WideWorldImporters</td><td>(@_msparam_0 nvarchar(4000),@_msparam_1 nvarchar(4</td><td>16780</td><td>16780</td><td>16780</td><td>16780</td><td>42180</td><td>42180</td><td>42180</td><td>44213</td><td>44213</td><td>44213</td><td>1</td><td>0</td><td>2021-04-30 01:45:35.020</td></tr>",
                            "<tr><td>WideWorldImporters</td><td>(@_msparam_0 nvarchar(4000),@_msparam_1 nvarchar(4</td><td>15607</td><td>47</td><td>459</td><td>1598</td><td>579</td><td>1827</td><td>4546</td><td>579</td><td>1828</td><td>4546</td><td>34</td><td>0</td><td>2021-04-30 01:46:00.223</td></tr>",
                            "<tr><td>WideWorldImporters</td><td>(@_msparam_0 nvarchar(4000))SELECTSCHEMA_NAME(udf</td><td>4717</td><td>4717</td><td>4717</td><td>4717</td><td>29028</td><td>29028</td><td>29028</td><td>154729</td><td>154729</td><td>154729</td><td>1</td><td>0</td><td>2021-04-30 01:45:33.370</td></tr>",
                            "<tr><td>WideWorldImporters</td><td>(@_msparam_0 nvarchar(4000),@_msparam_1 nvarchar(4</td><td>1720</td><td>59</td><td>286</td><td>831</td><td>678</td><td>1433</td><td>2621</td><td>678</td><td>5788</td><td>27897</td><td>6</td><td>0</td><td>2021-04-30 01:47:26.927</td></tr>",
                            "<tr><td>WideWorldImporters</td><td>SELECT SERVERPROPERTY('EngineEdition'), SERVERPROP</td><td>1169</td><td>7</td><td>7</td><td>7</td><td>139</td><td>267</td><td>485</td><td>139</td><td>267</td><td>486</td><td>167</td><td>0</td><td>2021-04-30 00:53:09.397</td></tr>",
                            "</table>"
                        ]
                    }
                }
            ],
            "execution_count": 43
        },
        {
            "cell_type": "markdown",
            "source": [
                "- Helps you find the most expensive queries from a memory perspective for this database\r\n",
                "- Can also help track down parameter sniffing issues"
            ],
            "metadata": {
                "azdata_cell_guid": "6afd9b3b-e2da-4b8e-a519-53bc1acc8b70"
            }
        },
        {
            "cell_type": "markdown",
            "source": [
                "## Get top average elapsed time queries for this database (Query 28) (Top Avg Elapsed Time Queries)"
            ],
            "metadata": {
                "azdata_cell_guid": "78425e5c-0f4a-40ad-8d4b-a310d6975e7b"
            }
        },
        {
            "cell_type": "code",
            "source": [
                "SELECT TOP(5) DB_NAME(t.[dbid]) AS [Database Name], \r\n",
                "REPLACE(REPLACE(LEFT(t.[text], 255), CHAR(10),''), CHAR(13),'') AS [Short Query Text],  \r\n",
                "qs.total_elapsed_time/qs.execution_count AS [Avg Elapsed Time],\r\n",
                "qs.min_elapsed_time, qs.max_elapsed_time, qs.last_elapsed_time,\r\n",
                "qs.execution_count AS [Execution Count],  \r\n",
                "qs.total_logical_reads/qs.execution_count AS [Avg Logical Reads], \r\n",
                "qs.total_physical_reads/qs.execution_count AS [Avg Physical Reads], \r\n",
                "qs.total_worker_time/qs.execution_count AS [Avg Worker Time],\r\n",
                "CASE WHEN CONVERT(nvarchar(max), qp.query_plan) LIKE N'%<MissingIndexes>%' THEN 1 ELSE 0 END AS [Has Missing Index],  \r\n",
                "qs.creation_time AS [Creation Time]\r\n",
                "-- , qp.query_plan AS [Query Plan] -- comment out this column if copying results to Excel\r\n",
                "FROM sys.dm_exec_query_stats AS qs WITH (NOLOCK)\r\n",
                "CROSS APPLY sys.dm_exec_sql_text(plan_handle) AS t \r\n",
                "CROSS APPLY sys.dm_exec_query_plan(plan_handle) AS qp\r\n",
                "WHERE t.dbid = DB_ID()  \r\n",
                "ORDER BY qs.total_elapsed_time/qs.execution_count DESC OPTION (RECOMPILE);"
            ],
            "metadata": {
                "azdata_cell_guid": "e8f4602a-17d7-4d1e-94f4-e870d9d1a6e0",
                "tags": []
            },
            "outputs": [
                {
                    "output_type": "display_data",
                    "data": {
                        "text/html": "(5 rows affected)"
                    },
                    "metadata": {}
                },
                {
                    "output_type": "display_data",
                    "data": {
                        "text/html": "Total execution time: 00:00:01.430"
                    },
                    "metadata": {}
                },
                {
                    "output_type": "execute_result",
                    "metadata": {},
                    "execution_count": 44,
                    "data": {
                        "application/vnd.dataresource+json": {
                            "schema": {
                                "fields": [
                                    {
                                        "name": "Database Name"
                                    },
                                    {
                                        "name": "Short Query Text"
                                    },
                                    {
                                        "name": "Avg Elapsed Time"
                                    },
                                    {
                                        "name": "min_elapsed_time"
                                    },
                                    {
                                        "name": "max_elapsed_time"
                                    },
                                    {
                                        "name": "last_elapsed_time"
                                    },
                                    {
                                        "name": "Execution Count"
                                    },
                                    {
                                        "name": "Avg Logical Reads"
                                    },
                                    {
                                        "name": "Avg Physical Reads"
                                    },
                                    {
                                        "name": "Avg Worker Time"
                                    },
                                    {
                                        "name": "Has Missing Index"
                                    },
                                    {
                                        "name": "Creation Time"
                                    }
                                ]
                            },
                            "data": [
                                {
                                    "0": "WideWorldImporters",
                                    "1": "(@_msparam_0 nvarchar(4000))SELECTSCHEMA_NAME(udf.schema_id) AS [Schema],udf.name AS [Name],udf.object_id AS [ID],(case when 'FN' = udf.type then 1 when 'FS' = udf.type then 1 when 'IF' = udf.type then 3 when 'TF' = udf.type then 2 when 'FT' = udf.typ",
                                    "2": "154729",
                                    "3": "154729",
                                    "4": "154729",
                                    "5": "154729",
                                    "6": "1",
                                    "7": "4717",
                                    "8": "0",
                                    "9": "29028",
                                    "10": "0",
                                    "11": "2021-04-30 01:45:33.370"
                                },
                                {
                                    "0": "WideWorldImporters",
                                    "1": "(@_msparam_0 nvarchar(4000),@_msparam_1 nvarchar(4000),@_msparam_2 nvarchar(4000))SELECTudf.name AS [Name],udf.object_id AS [ID],udf.create_date AS [CreateDate],udf.modify_date AS [DateLastModified],ISNULL(sudf.name, N'') AS [Owner],CAST(case when u",
                                    "2": "70040",
                                    "3": "16433",
                                    "4": "238141",
                                    "5": "22644",
                                    "6": "6",
                                    "7": "194",
                                    "8": "0",
                                    "9": "20910",
                                    "10": "0",
                                    "11": "2021-04-30 01:47:25.690"
                                },
                                {
                                    "0": "WideWorldImporters",
                                    "1": "(@_msparam_0 nvarchar(4000),@_msparam_1 nvarchar(4000),@_msparam_2 nvarchar(4000))SELECTSCHEMA_NAME(sp.schema_id) AS [Schema],sp.name AS [Name],sp.object_id AS [ID],CAST(        case          when sp.is_ms_shipped = 1 then 1          else 0   ",
                                    "2": "44213",
                                    "3": "44213",
                                    "4": "44213",
                                    "5": "44213",
                                    "6": "1",
                                    "7": "16780",
                                    "8": "0",
                                    "9": "42180",
                                    "10": "0",
                                    "11": "2021-04-30 01:45:35.020"
                                },
                                {
                                    "0": "WideWorldImporters",
                                    "1": "SELECTtr.name AS [Name],tr.object_id AS [ID],CAST(                tr.is_ms_shipped            AS bit) AS [IsSystemObject],CASE WHEN tr.type = N'TR' THEN 1 WHEN tr.type = N'TA' THEN 2 ELSE 1 END AS [ImplementationType],CAST(CASE WHEN ISNULL(smtr.d",
                                    "2": "28407",
                                    "3": "28407",
                                    "4": "28407",
                                    "5": "28407",
                                    "6": "1",
                                    "7": "79",
                                    "8": "0",
                                    "9": "1385",
                                    "10": "0",
                                    "11": "2021-04-30 01:45:26.083"
                                },
                                {
                                    "0": "WideWorldImporters",
                                    "1": "SELECTSCHEMA_NAME(tbl.schema_id) AS [Schema],tbl.name AS [Name],tbl.object_id AS [ID]FROMsys.tables AS tblORDER BY[Schema] ASC,[Name] ASC",
                                    "2": "15112",
                                    "3": "15112",
                                    "4": "15112",
                                    "5": "15112",
                                    "6": "1",
                                    "7": "525",
                                    "8": "0",
                                    "9": "3462",
                                    "10": "0",
                                    "11": "2021-04-30 01:45:30.190"
                                }
                            ]
                        },
                        "text/html": [
                            "<table>",
                            "<tr><th>Database Name</th><th>Short Query Text</th><th>Avg Elapsed Time</th><th>min_elapsed_time</th><th>max_elapsed_time</th><th>last_elapsed_time</th><th>Execution Count</th><th>Avg Logical Reads</th><th>Avg Physical Reads</th><th>Avg Worker Time</th><th>Has Missing Index</th><th>Creation Time</th></tr>",
                            "<tr><td>WideWorldImporters</td><td>(@_msparam_0 nvarchar(4000))SELECTSCHEMA_NAME(udf.schema_id) AS [Schema],udf.name AS [Name],udf.object_id AS [ID],(case when 'FN' = udf.type then 1 when 'FS' = udf.type then 1 when 'IF' = udf.type then 3 when 'TF' = udf.type then 2 when 'FT' = udf.typ</td><td>154729</td><td>154729</td><td>154729</td><td>154729</td><td>1</td><td>4717</td><td>0</td><td>29028</td><td>0</td><td>2021-04-30 01:45:33.370</td></tr>",
                            "<tr><td>WideWorldImporters</td><td>(@_msparam_0 nvarchar(4000),@_msparam_1 nvarchar(4000),@_msparam_2 nvarchar(4000))SELECTudf.name AS [Name],udf.object_id AS [ID],udf.create_date AS [CreateDate],udf.modify_date AS [DateLastModified],ISNULL(sudf.name, N'') AS [Owner],CAST(case when u</td><td>70040</td><td>16433</td><td>238141</td><td>22644</td><td>6</td><td>194</td><td>0</td><td>20910</td><td>0</td><td>2021-04-30 01:47:25.690</td></tr>",
                            "<tr><td>WideWorldImporters</td><td>(@_msparam_0 nvarchar(4000),@_msparam_1 nvarchar(4000),@_msparam_2 nvarchar(4000))SELECTSCHEMA_NAME(sp.schema_id) AS [Schema],sp.name AS [Name],sp.object_id AS [ID],CAST(        case          when sp.is_ms_shipped = 1 then 1          else 0   </td><td>44213</td><td>44213</td><td>44213</td><td>44213</td><td>1</td><td>16780</td><td>0</td><td>42180</td><td>0</td><td>2021-04-30 01:45:35.020</td></tr>",
                            "<tr><td>WideWorldImporters</td><td>SELECTtr.name AS [Name],tr.object_id AS [ID],CAST(                tr.is_ms_shipped            AS bit) AS [IsSystemObject],CASE WHEN tr.type = N'TR' THEN 1 WHEN tr.type = N'TA' THEN 2 ELSE 1 END AS [ImplementationType],CAST(CASE WHEN ISNULL(smtr.d</td><td>28407</td><td>28407</td><td>28407</td><td>28407</td><td>1</td><td>79</td><td>0</td><td>1385</td><td>0</td><td>2021-04-30 01:45:26.083</td></tr>",
                            "<tr><td>WideWorldImporters</td><td>SELECTSCHEMA_NAME(tbl.schema_id) AS [Schema],tbl.name AS [Name],tbl.object_id AS [ID]FROMsys.tables AS tblORDER BY[Schema] ASC,[Name] ASC</td><td>15112</td><td>15112</td><td>15112</td><td>15112</td><td>1</td><td>525</td><td>0</td><td>3462</td><td>0</td><td>2021-04-30 01:45:30.190</td></tr>",
                            "</table>"
                        ]
                    }
                }
            ],
            "execution_count": 44
        },
        {
            "cell_type": "markdown",
            "source": [
                "- Helps you find the highest average elapsed time queries for this database\r\n",
                "- Can also help track down parameter sniffing issues"
            ],
            "metadata": {
                "azdata_cell_guid": "d78f5df6-24cc-413b-8ad7-22f17e5f4083"
            }
        },
        {
            "cell_type": "markdown",
            "source": [
                "## Missing Indexes for current database by Index Advantage  (Query 38) (Missing Indexes)"
            ],
            "metadata": {
                "azdata_cell_guid": "533323aa-8cb7-4093-8d82-93d0090ec47d"
            }
        },
        {
            "cell_type": "code",
            "source": [
                "-- Missing Indexes for current database by Index Advantage  (Query 38) (Missing Indexes)\r\n",
                "SELECT CONVERT(decimal(18,2), migs.user_seeks * migs.avg_total_user_cost * (migs.avg_user_impact * 0.01)) AS [index_advantage], \r\n",
                "FORMAT(migs.last_user_seek, 'yyyy-MM-dd HH:mm:ss') AS [last_user_seek], mid.[statement] AS [Database.Schema.Table], \r\n",
                "COUNT(1) OVER(PARTITION BY mid.[statement]) AS [missing_indexes_for_table], \r\n",
                "COUNT(1) OVER(PARTITION BY mid.[statement], mid.equality_columns) AS [similar_missing_indexes_for_table], \r\n",
                "mid.equality_columns, mid.inequality_columns, mid.included_columns, migs.user_seeks, \r\n",
                "CONVERT(decimal(18,2), migs.avg_total_user_cost) AS [avg_total_user_,cost], migs.avg_user_impact,\r\n",
                "REPLACE(REPLACE(LEFT(st.[text], 255), CHAR(10),''), CHAR(13),'') AS [Short Query Text],\r\n",
                "OBJECT_NAME(mid.[object_id]) AS [Table Name], p.rows AS [Table Rows]\r\n",
                "FROM sys.dm_db_missing_index_groups AS mig WITH (NOLOCK) \r\n",
                "INNER JOIN sys.dm_db_missing_index_group_stats_query AS migs WITH(NOLOCK) \r\n",
                "ON mig.index_group_handle = migs.group_handle \r\n",
                "CROSS APPLY sys.dm_exec_sql_text(migs.last_sql_handle) AS st \r\n",
                "INNER JOIN sys.dm_db_missing_index_details AS mid WITH (NOLOCK) \r\n",
                "ON mig.index_handle = mid.index_handle\r\n",
                "INNER JOIN sys.partitions AS p WITH (NOLOCK)\r\n",
                "ON p.[object_id] = mid.[object_id]\r\n",
                "WHERE mid.database_id = DB_ID()\r\n",
                "AND p.index_id < 2 \r\n",
                "ORDER BY index_advantage DESC OPTION (RECOMPILE);"
            ],
            "metadata": {
                "azdata_cell_guid": "e4ca4552-1b71-4293-885d-1a04bb843c0a",
                "tags": []
            },
            "outputs": [
                {
                    "output_type": "display_data",
                    "data": {
                        "text/html": "(0 rows affected)"
                    },
                    "metadata": {}
                },
                {
                    "output_type": "display_data",
                    "data": {
                        "text/html": "Total execution time: 00:00:00.155"
                    },
                    "metadata": {}
                },
                {
                    "output_type": "execute_result",
                    "metadata": {},
                    "execution_count": 45,
                    "data": {
                        "application/vnd.dataresource+json": {
                            "schema": {
                                "fields": [
                                    {
                                        "name": "index_advantage"
                                    },
                                    {
                                        "name": "last_user_seek"
                                    },
                                    {
                                        "name": "Database.Schema.Table"
                                    },
                                    {
                                        "name": "missing_indexes_for_table"
                                    },
                                    {
                                        "name": "similar_missing_indexes_for_table"
                                    },
                                    {
                                        "name": "equality_columns"
                                    },
                                    {
                                        "name": "inequality_columns"
                                    },
                                    {
                                        "name": "included_columns"
                                    },
                                    {
                                        "name": "user_seeks"
                                    },
                                    {
                                        "name": "avg_total_user_,cost"
                                    },
                                    {
                                        "name": "avg_user_impact"
                                    },
                                    {
                                        "name": "Short Query Text"
                                    },
                                    {
                                        "name": "Table Name"
                                    },
                                    {
                                        "name": "Table Rows"
                                    }
                                ]
                            },
                            "data": []
                        },
                        "text/html": [
                            "<table>",
                            "<tr><th>index_advantage</th><th>last_user_seek</th><th>Database.Schema.Table</th><th>missing_indexes_for_table</th><th>similar_missing_indexes_for_table</th><th>equality_columns</th><th>inequality_columns</th><th>included_columns</th><th>user_seeks</th><th>avg_total_user_,cost</th><th>avg_user_impact</th><th>Short Query Text</th><th>Table Name</th><th>Table Rows</th></tr>",
                            "</table>"
                        ]
                    }
                }
            ],
            "execution_count": 45
        },
        {
            "cell_type": "markdown",
            "source": [
                "Look at index advantage, last user seek time, number of user seeks to help determine source and importance\r\n",
                "- SQL Server is overly eager to add included columns, so beware\r\n",
                "- Do not just blindly add indexes that show up from this query!!!\r\n",
                "\r\n",
                "Håkan Winther has given me some great suggestions for this query"
            ],
            "metadata": {
                "azdata_cell_guid": "0f638adc-52a3-4699-b890-f14128b3f4a8"
            }
        },
        {
            "cell_type": "markdown",
            "source": [
                "## Find missing index warnings for cached plans in the current database  (Query 39) (Missing Index Warnings)"
            ],
            "metadata": {
                "azdata_cell_guid": "642e72dd-3375-470f-a36d-6a5e40151c0a"
            }
        },
        {
            "cell_type": "code",
            "source": [
                "-- Find missing index warnings for cached plans in the current database  (Query 39) (Missing Index Warnings)\r\n",
                "-- Note: This query could take some time on a busy instance\r\n",
                "SELECT TOP(25) OBJECT_NAME(objectid) AS [ObjectName], \r\n",
                "               cp.objtype, cp.usecounts, cp.size_in_bytes, qp.query_plan\r\n",
                "FROM sys.dm_exec_cached_plans AS cp WITH (NOLOCK)\r\n",
                "CROSS APPLY sys.dm_exec_query_plan(cp.plan_handle) AS qp\r\n",
                "WHERE CAST(query_plan AS NVARCHAR(MAX)) LIKE N'%MissingIndex%'\r\n",
                "AND dbid = DB_ID()\r\n",
                "ORDER BY cp.usecounts DESC OPTION (RECOMPILE);"
            ],
            "metadata": {
                "azdata_cell_guid": "09c74348-103b-49a4-a88a-d9da6ef20045",
                "tags": [
                    "hide_input"
                ]
            },
            "outputs": [
                {
                    "output_type": "display_data",
                    "data": {
                        "text/html": "(0 rows affected)"
                    },
                    "metadata": {}
                },
                {
                    "output_type": "display_data",
                    "data": {
                        "text/html": "Total execution time: 00:00:07.428"
                    },
                    "metadata": {}
                },
                {
                    "output_type": "execute_result",
                    "metadata": {},
                    "execution_count": 46,
                    "data": {
                        "application/vnd.dataresource+json": {
                            "schema": {
                                "fields": [
                                    {
                                        "name": "ObjectName"
                                    },
                                    {
                                        "name": "objtype"
                                    },
                                    {
                                        "name": "usecounts"
                                    },
                                    {
                                        "name": "size_in_bytes"
                                    },
                                    {
                                        "name": "query_plan"
                                    }
                                ]
                            },
                            "data": []
                        },
                        "text/html": [
                            "<table>",
                            "<tr><th>ObjectName</th><th>objtype</th><th>usecounts</th><th>size_in_bytes</th><th>query_plan</th></tr>",
                            "</table>"
                        ]
                    }
                }
            ],
            "execution_count": 46
        },
        {
            "cell_type": "markdown",
            "source": [
                "Helps you connect missing indexes to specific stored procedures or queries\r\n",
                "- This can help you decide whether to add them or not"
            ],
            "metadata": {
                "azdata_cell_guid": "8a0cf94b-3603-424b-9015-51215a0c23d9"
            }
        },
        {
            "cell_type": "markdown",
            "source": [
                "## Get Table names, row counts, and compression status for clustered index or heap  (Query 41) (Table Sizes)"
            ],
            "metadata": {
                "azdata_cell_guid": "0180bfe5-9ef8-4155-95e5-1014e1ba6b2f"
            }
        },
        {
            "cell_type": "code",
            "source": [
                "-- Get Table names, row counts, and compression status for clustered index or heap  (Query 41) (Table Sizes)\r\n",
                "SELECT TOP 10 SCHEMA_NAME(o.Schema_ID) AS [Schema Name], OBJECT_NAME(p.object_id) AS [ObjectName], \r\n",
                "SUM(p.Rows) AS [RowCount], p.data_compression_desc AS [Compression Type]\r\n",
                "FROM sys.partitions AS p WITH (NOLOCK)\r\n",
                "INNER JOIN sys.objects AS o WITH (NOLOCK)\r\n",
                "ON p.object_id = o.object_id\r\n",
                "WHERE index_id < 2 --ignore the partitions from the non-clustered index if any\r\n",
                "AND OBJECT_NAME(p.object_id) NOT LIKE N'sys%'\r\n",
                "AND OBJECT_NAME(p.object_id) NOT LIKE N'spt_%'\r\n",
                "AND OBJECT_NAME(p.object_id) NOT LIKE N'queue_%' \r\n",
                "AND OBJECT_NAME(p.object_id) NOT LIKE N'filestream_tombstone%' \r\n",
                "AND OBJECT_NAME(p.object_id) NOT LIKE N'fulltext%'\r\n",
                "AND OBJECT_NAME(p.object_id) NOT LIKE N'ifts_comp_fragment%'\r\n",
                "AND OBJECT_NAME(p.object_id) NOT LIKE N'filetable_updates%'\r\n",
                "AND OBJECT_NAME(p.object_id) NOT LIKE N'xml_index_nodes%'\r\n",
                "AND OBJECT_NAME(p.object_id) NOT LIKE N'sqlagent_job%'\r\n",
                "AND OBJECT_NAME(p.object_id) NOT LIKE N'plan_persist%'\r\n",
                "GROUP BY  SCHEMA_NAME(o.Schema_ID), p.object_id, data_compression_desc\r\n",
                "ORDER BY SUM(p.Rows) DESC OPTION (RECOMPILE);"
            ],
            "metadata": {
                "azdata_cell_guid": "701f9349-8d63-45ec-bdb6-268c38fb52dd",
                "tags": []
            },
            "outputs": [
                {
                    "output_type": "display_data",
                    "data": {
                        "text/html": "(10 rows affected)"
                    },
                    "metadata": {}
                },
                {
                    "output_type": "display_data",
                    "data": {
                        "text/html": "Total execution time: 00:00:00.115"
                    },
                    "metadata": {}
                },
                {
                    "output_type": "execute_result",
                    "metadata": {},
                    "execution_count": 47,
                    "data": {
                        "application/vnd.dataresource+json": {
                            "schema": {
                                "fields": [
                                    {
                                        "name": "Schema Name"
                                    },
                                    {
                                        "name": "ObjectName"
                                    },
                                    {
                                        "name": "RowCount"
                                    },
                                    {
                                        "name": "Compression Type"
                                    }
                                ]
                            },
                            "data": [
                                {
                                    "0": "Warehouse",
                                    "1": "ColdRoomTemperatures_Archive",
                                    "2": "3654736",
                                    "3": "NONE"
                                },
                                {
                                    "0": "Warehouse",
                                    "1": "StockItemTransactions",
                                    "2": "236667",
                                    "3": "NONE"
                                },
                                {
                                    "0": "Sales",
                                    "1": "OrderLines",
                                    "2": "231412",
                                    "3": "NONE"
                                },
                                {
                                    "0": "Sales",
                                    "1": "InvoiceLines",
                                    "2": "228265",
                                    "3": "NONE"
                                },
                                {
                                    "0": "Sales",
                                    "1": "CustomerTransactions",
                                    "2": "97147",
                                    "3": "NONE"
                                },
                                {
                                    "0": "Sales",
                                    "1": "Orders",
                                    "2": "73595",
                                    "3": "NONE"
                                },
                                {
                                    "0": "Sales",
                                    "1": "Invoices",
                                    "2": "70510",
                                    "3": "NONE"
                                },
                                {
                                    "0": "Warehouse",
                                    "1": "VehicleTemperatures",
                                    "2": "65998",
                                    "3": "NONE"
                                },
                                {
                                    "0": "Application",
                                    "1": "Cities",
                                    "2": "37940",
                                    "3": "NONE"
                                },
                                {
                                    "0": "Purchasing",
                                    "1": "PurchaseOrderLines",
                                    "2": "8367",
                                    "3": "NONE"
                                }
                            ]
                        },
                        "text/html": [
                            "<table>",
                            "<tr><th>Schema Name</th><th>ObjectName</th><th>RowCount</th><th>Compression Type</th></tr>",
                            "<tr><td>Warehouse</td><td>ColdRoomTemperatures_Archive</td><td>3654736</td><td>NONE</td></tr>",
                            "<tr><td>Warehouse</td><td>StockItemTransactions</td><td>236667</td><td>NONE</td></tr>",
                            "<tr><td>Sales</td><td>OrderLines</td><td>231412</td><td>NONE</td></tr>",
                            "<tr><td>Sales</td><td>InvoiceLines</td><td>228265</td><td>NONE</td></tr>",
                            "<tr><td>Sales</td><td>CustomerTransactions</td><td>97147</td><td>NONE</td></tr>",
                            "<tr><td>Sales</td><td>Orders</td><td>73595</td><td>NONE</td></tr>",
                            "<tr><td>Sales</td><td>Invoices</td><td>70510</td><td>NONE</td></tr>",
                            "<tr><td>Warehouse</td><td>VehicleTemperatures</td><td>65998</td><td>NONE</td></tr>",
                            "<tr><td>Application</td><td>Cities</td><td>37940</td><td>NONE</td></tr>",
                            "<tr><td>Purchasing</td><td>PurchaseOrderLines</td><td>8367</td><td>NONE</td></tr>",
                            "</table>"
                        ]
                    }
                }
            ],
            "execution_count": 47
        },
        {
            "cell_type": "markdown",
            "source": [
                "Gives you an idea of table sizes, and possible data compression opportunities"
            ],
            "metadata": {
                "azdata_cell_guid": "7d2279f7-f275-4cee-b0ab-4ee8622e6d30"
            }
        },
        {
            "cell_type": "markdown",
            "source": [
                "## When were Statistics last updated on for 10 oldest ones? (Query 43) (Statistics Update)"
            ],
            "metadata": {
                "azdata_cell_guid": "8f276f88-0917-4dfd-b558-362066d8b3af"
            }
        },
        {
            "cell_type": "code",
            "source": [
                "-- When were Statistics last updated on all indexes?  (Query 43) (Statistics Update)\r\n",
                "SELECT TOP 10  SCHEMA_NAME(o.Schema_ID) + N'.' + o.[NAME] AS [Object Name], o.[type_desc] AS [Object Type],\r\n",
                "      i.[name] AS [Index Name], STATS_DATE(i.[object_id], i.index_id) AS [Statistics Date], \r\n",
                "      s.auto_created, s.no_recompute, s.user_created, s.is_incremental, s.is_temporary,\r\n",
                "\t  st.row_count, st.used_page_count\r\n",
                "FROM sys.objects AS o WITH (NOLOCK)\r\n",
                "INNER JOIN sys.indexes AS i WITH (NOLOCK)\r\n",
                "ON o.[object_id] = i.[object_id]\r\n",
                "INNER JOIN sys.stats AS s WITH (NOLOCK)\r\n",
                "ON i.[object_id] = s.[object_id] \r\n",
                "AND i.index_id = s.stats_id\r\n",
                "INNER JOIN sys.dm_db_partition_stats AS st WITH (NOLOCK)\r\n",
                "ON o.[object_id] = st.[object_id]\r\n",
                "AND i.[index_id] = st.[index_id]\r\n",
                "WHERE o.[type] IN ('U', 'V')\r\n",
                "AND st.row_count > 0\r\n",
                "AND STATS_DATE(i.[object_id], i.index_id) < DATEADD(DAY, -10, GETDATE())\r\n",
                "ORDER BY STATS_DATE(i.[object_id], i.index_id) ASC OPTION (RECOMPILE);"
            ],
            "metadata": {
                "azdata_cell_guid": "fe8f81d9-14fe-4c7a-86c4-b3b2b495a368",
                "tags": []
            },
            "outputs": [
                {
                    "output_type": "display_data",
                    "data": {
                        "text/html": "(10 rows affected)"
                    },
                    "metadata": {}
                },
                {
                    "output_type": "display_data",
                    "data": {
                        "text/html": "Total execution time: 00:00:00.383"
                    },
                    "metadata": {}
                },
                {
                    "output_type": "execute_result",
                    "metadata": {},
                    "execution_count": 48,
                    "data": {
                        "application/vnd.dataresource+json": {
                            "schema": {
                                "fields": [
                                    {
                                        "name": "Object Name"
                                    },
                                    {
                                        "name": "Object Type"
                                    },
                                    {
                                        "name": "Index Name"
                                    },
                                    {
                                        "name": "Statistics Date"
                                    },
                                    {
                                        "name": "auto_created"
                                    },
                                    {
                                        "name": "no_recompute"
                                    },
                                    {
                                        "name": "user_created"
                                    },
                                    {
                                        "name": "is_incremental"
                                    },
                                    {
                                        "name": "is_temporary"
                                    },
                                    {
                                        "name": "row_count"
                                    },
                                    {
                                        "name": "used_page_count"
                                    }
                                ]
                            },
                            "data": [
                                {
                                    "0": "Application.Cities",
                                    "1": "USER_TABLE",
                                    "2": "FK_Application_Cities_StateProvinceID",
                                    "3": "2020-10-24 06:27:51.327",
                                    "4": "0",
                                    "5": "0",
                                    "6": "0",
                                    "7": "0",
                                    "8": "0",
                                    "9": "37940",
                                    "10": "138"
                                },
                                {
                                    "0": "Application.Countries",
                                    "1": "USER_TABLE",
                                    "2": "UQ_Application_Countries_CountryName",
                                    "3": "2020-10-24 06:27:51.360",
                                    "4": "0",
                                    "5": "0",
                                    "6": "0",
                                    "7": "0",
                                    "8": "0",
                                    "9": "190",
                                    "10": "4"
                                },
                                {
                                    "0": "Application.Countries",
                                    "1": "USER_TABLE",
                                    "2": "UQ_Application_Countries_FormalName",
                                    "3": "2020-10-24 06:27:51.380",
                                    "4": "0",
                                    "5": "0",
                                    "6": "0",
                                    "7": "0",
                                    "8": "0",
                                    "9": "190",
                                    "10": "4"
                                },
                                {
                                    "0": "Application.DeliveryMethods",
                                    "1": "USER_TABLE",
                                    "2": "UQ_Application_DeliveryMethods_DeliveryMethodName",
                                    "3": "2020-10-24 06:27:51.430",
                                    "4": "0",
                                    "5": "0",
                                    "6": "0",
                                    "7": "0",
                                    "8": "0",
                                    "9": "10",
                                    "10": "2"
                                },
                                {
                                    "0": "Application.PaymentMethods",
                                    "1": "USER_TABLE",
                                    "2": "UQ_Application_PaymentMethods_PaymentMethodName",
                                    "3": "2020-10-24 06:27:51.443",
                                    "4": "0",
                                    "5": "0",
                                    "6": "0",
                                    "7": "0",
                                    "8": "0",
                                    "9": "4",
                                    "10": "2"
                                },
                                {
                                    "0": "Application.People",
                                    "1": "USER_TABLE",
                                    "2": "IX_Application_People_FullName",
                                    "3": "2020-10-24 06:27:51.590",
                                    "4": "0",
                                    "5": "0",
                                    "6": "0",
                                    "7": "0",
                                    "8": "0",
                                    "9": "1111",
                                    "10": "10"
                                },
                                {
                                    "0": "Application.People",
                                    "1": "USER_TABLE",
                                    "2": "IX_Application_People_IsEmployee",
                                    "3": "2020-10-24 06:27:51.853",
                                    "4": "0",
                                    "5": "0",
                                    "6": "0",
                                    "7": "0",
                                    "8": "0",
                                    "9": "1111",
                                    "10": "6"
                                },
                                {
                                    "0": "Application.People",
                                    "1": "USER_TABLE",
                                    "2": "IX_Application_People_IsSalesperson",
                                    "3": "2020-10-24 06:27:51.877",
                                    "4": "0",
                                    "5": "0",
                                    "6": "0",
                                    "7": "0",
                                    "8": "0",
                                    "9": "1111",
                                    "10": "6"
                                },
                                {
                                    "0": "Application.People",
                                    "1": "USER_TABLE",
                                    "2": "IX_Application_People_Perf_20160301_05",
                                    "3": "2020-10-24 06:27:52.120",
                                    "4": "0",
                                    "5": "0",
                                    "6": "0",
                                    "7": "0",
                                    "8": "0",
                                    "9": "1111",
                                    "10": "17"
                                },
                                {
                                    "0": "Application.StateProvinces",
                                    "1": "USER_TABLE",
                                    "2": "FK_Application_StateProvinces_CountryID",
                                    "3": "2020-10-24 06:27:52.163",
                                    "4": "0",
                                    "5": "0",
                                    "6": "0",
                                    "7": "0",
                                    "8": "0",
                                    "9": "53",
                                    "10": "2"
                                }
                            ]
                        },
                        "text/html": [
                            "<table>",
                            "<tr><th>Object Name</th><th>Object Type</th><th>Index Name</th><th>Statistics Date</th><th>auto_created</th><th>no_recompute</th><th>user_created</th><th>is_incremental</th><th>is_temporary</th><th>row_count</th><th>used_page_count</th></tr>",
                            "<tr><td>Application.Cities</td><td>USER_TABLE</td><td>FK_Application_Cities_StateProvinceID</td><td>2020-10-24 06:27:51.327</td><td>0</td><td>0</td><td>0</td><td>0</td><td>0</td><td>37940</td><td>138</td></tr>",
                            "<tr><td>Application.Countries</td><td>USER_TABLE</td><td>UQ_Application_Countries_CountryName</td><td>2020-10-24 06:27:51.360</td><td>0</td><td>0</td><td>0</td><td>0</td><td>0</td><td>190</td><td>4</td></tr>",
                            "<tr><td>Application.Countries</td><td>USER_TABLE</td><td>UQ_Application_Countries_FormalName</td><td>2020-10-24 06:27:51.380</td><td>0</td><td>0</td><td>0</td><td>0</td><td>0</td><td>190</td><td>4</td></tr>",
                            "<tr><td>Application.DeliveryMethods</td><td>USER_TABLE</td><td>UQ_Application_DeliveryMethods_DeliveryMethodName</td><td>2020-10-24 06:27:51.430</td><td>0</td><td>0</td><td>0</td><td>0</td><td>0</td><td>10</td><td>2</td></tr>",
                            "<tr><td>Application.PaymentMethods</td><td>USER_TABLE</td><td>UQ_Application_PaymentMethods_PaymentMethodName</td><td>2020-10-24 06:27:51.443</td><td>0</td><td>0</td><td>0</td><td>0</td><td>0</td><td>4</td><td>2</td></tr>",
                            "<tr><td>Application.People</td><td>USER_TABLE</td><td>IX_Application_People_FullName</td><td>2020-10-24 06:27:51.590</td><td>0</td><td>0</td><td>0</td><td>0</td><td>0</td><td>1111</td><td>10</td></tr>",
                            "<tr><td>Application.People</td><td>USER_TABLE</td><td>IX_Application_People_IsEmployee</td><td>2020-10-24 06:27:51.853</td><td>0</td><td>0</td><td>0</td><td>0</td><td>0</td><td>1111</td><td>6</td></tr>",
                            "<tr><td>Application.People</td><td>USER_TABLE</td><td>IX_Application_People_IsSalesperson</td><td>2020-10-24 06:27:51.877</td><td>0</td><td>0</td><td>0</td><td>0</td><td>0</td><td>1111</td><td>6</td></tr>",
                            "<tr><td>Application.People</td><td>USER_TABLE</td><td>IX_Application_People_Perf_20160301_05</td><td>2020-10-24 06:27:52.120</td><td>0</td><td>0</td><td>0</td><td>0</td><td>0</td><td>1111</td><td>17</td></tr>",
                            "<tr><td>Application.StateProvinces</td><td>USER_TABLE</td><td>FK_Application_StateProvinces_CountryID</td><td>2020-10-24 06:27:52.163</td><td>0</td><td>0</td><td>0</td><td>0</td><td>0</td><td>53</td><td>2</td></tr>",
                            "</table>"
                        ]
                    }
                }
            ],
            "execution_count": 48
        },
        {
            "cell_type": "markdown",
            "source": [
                "Helps discover possible problems with out-of-date statistics\r\n",
                "- Also gives you an idea which indexes are the most active\r\n",
                "\r\n",
                "[sys.stats (Transact-SQL)](https://bit.ly/2GyAxrn)\r\n",
                "\r\n",
                "[UPDATEs to Statistics (Erin Stellato)](https://bit.ly/2vhrYQy)"
            ],
            "metadata": {
                "azdata_cell_guid": "063735c2-add0-43b4-9bec-2eebbe54a4f7"
            }
        },
        {
            "cell_type": "markdown",
            "source": [
                "## Look at most frequently modified indexes and statistics (Query 44) (Volatile Indexes)"
            ],
            "metadata": {
                "azdata_cell_guid": "1c6607f6-bb73-48cd-bd31-3d265f109012"
            }
        },
        {
            "cell_type": "code",
            "source": [
                "-- Look at most frequently modified indexes and statistics (Query 44) (Volatile Indexes)\r\n",
                "SELECT o.[name] AS [Object Name], o.[object_id], o.[type_desc], s.[name] AS [Statistics Name], \r\n",
                "       s.stats_id, s.no_recompute, s.auto_created, s.is_incremental, s.is_temporary,\r\n",
                "\t   sp.modification_counter, sp.[rows], sp.rows_sampled, sp.last_updated\r\n",
                "FROM sys.objects AS o WITH (NOLOCK)\r\n",
                "INNER JOIN sys.stats AS s WITH (NOLOCK)\r\n",
                "ON s.object_id = o.object_id\r\n",
                "CROSS APPLY sys.dm_db_stats_properties(s.object_id, s.stats_id) AS sp\r\n",
                "WHERE o.[type_desc] NOT IN (N'SYSTEM_TABLE', N'INTERNAL_TABLE')\r\n",
                "AND sp.modification_counter > 0\r\n",
                "ORDER BY sp.modification_counter DESC, o.name OPTION (RECOMPILE);"
            ],
            "metadata": {
                "azdata_cell_guid": "a1964ddc-e7a6-42f2-b6d6-b030418c331d",
                "tags": [
                    "hide_input"
                ]
            },
            "outputs": [
                {
                    "output_type": "display_data",
                    "data": {
                        "text/html": "(0 rows affected)"
                    },
                    "metadata": {}
                },
                {
                    "output_type": "display_data",
                    "data": {
                        "text/html": "Total execution time: 00:00:00.480"
                    },
                    "metadata": {}
                },
                {
                    "output_type": "execute_result",
                    "metadata": {},
                    "execution_count": 49,
                    "data": {
                        "application/vnd.dataresource+json": {
                            "schema": {
                                "fields": [
                                    {
                                        "name": "Object Name"
                                    },
                                    {
                                        "name": "object_id"
                                    },
                                    {
                                        "name": "type_desc"
                                    },
                                    {
                                        "name": "Statistics Name"
                                    },
                                    {
                                        "name": "stats_id"
                                    },
                                    {
                                        "name": "no_recompute"
                                    },
                                    {
                                        "name": "auto_created"
                                    },
                                    {
                                        "name": "is_incremental"
                                    },
                                    {
                                        "name": "is_temporary"
                                    },
                                    {
                                        "name": "modification_counter"
                                    },
                                    {
                                        "name": "rows"
                                    },
                                    {
                                        "name": "rows_sampled"
                                    },
                                    {
                                        "name": "last_updated"
                                    }
                                ]
                            },
                            "data": []
                        },
                        "text/html": [
                            "<table>",
                            "<tr><th>Object Name</th><th>object_id</th><th>type_desc</th><th>Statistics Name</th><th>stats_id</th><th>no_recompute</th><th>auto_created</th><th>is_incremental</th><th>is_temporary</th><th>modification_counter</th><th>rows</th><th>rows_sampled</th><th>last_updated</th></tr>",
                            "</table>"
                        ]
                    }
                }
            ],
            "execution_count": 49
        },
        {
            "cell_type": "markdown",
            "source": [
                "This helps you understand your workload and make better decisions about things like data compression and adding new indexes to a table"
            ],
            "metadata": {
                "azdata_cell_guid": "6d8ab598-686e-4a10-9b94-8484328efb20"
            }
        },
        {
            "cell_type": "markdown",
            "source": [
                "## Get fragmentation info for all indexes above a certain size in the current database  (Query 45) (Index Fragmentation)"
            ],
            "metadata": {
                "azdata_cell_guid": "9031de0d-fc38-4219-8a88-9728f0ebc79d"
            }
        },
        {
            "cell_type": "code",
            "source": [
                "-- Get fragmentation info for all indexes above a certain size in the current database  (Query 45) (Index Fragmentation)\r\n",
                "-- Note: This query could take some time on a very large database\r\n",
                "SELECT DB_NAME(ps.database_id) AS [Database Name], SCHEMA_NAME(o.[schema_id]) AS [Schema Name],\r\n",
                "OBJECT_NAME(ps.OBJECT_ID) AS [Object Name], i.[name] AS [Index Name], ps.index_id, \r\n",
                "ps.index_type_desc, ps.avg_fragmentation_in_percent, \r\n",
                "ps.fragment_count, ps.page_count, i.fill_factor, i.has_filter, \r\n",
                "i.filter_definition, i.[allow_page_locks]\r\n",
                "FROM sys.dm_db_index_physical_stats(DB_ID(),NULL, NULL, NULL , N'LIMITED') AS ps\r\n",
                "INNER JOIN sys.indexes AS i WITH (NOLOCK)\r\n",
                "ON ps.[object_id] = i.[object_id] \r\n",
                "AND ps.index_id = i.index_id\r\n",
                "INNER JOIN sys.objects AS o WITH (NOLOCK)\r\n",
                "ON i.[object_id] = o.[object_id]\r\n",
                "WHERE ps.database_id = DB_ID()\r\n",
                "AND ps.page_count > 2500\r\n",
                "ORDER BY ps.avg_fragmentation_in_percent DESC OPTION (RECOMPILE);"
            ],
            "metadata": {
                "azdata_cell_guid": "6b898df7-b614-4bc5-a032-d475485e7dad",
                "tags": [
                    "hide_input"
                ]
            },
            "outputs": [
                {
                    "output_type": "display_data",
                    "data": {
                        "text/html": "(5 rows affected)"
                    },
                    "metadata": {}
                },
                {
                    "output_type": "display_data",
                    "data": {
                        "text/html": "Total execution time: 00:00:00.231"
                    },
                    "metadata": {}
                },
                {
                    "output_type": "execute_result",
                    "metadata": {},
                    "execution_count": 50,
                    "data": {
                        "application/vnd.dataresource+json": {
                            "schema": {
                                "fields": [
                                    {
                                        "name": "Database Name"
                                    },
                                    {
                                        "name": "Schema Name"
                                    },
                                    {
                                        "name": "Object Name"
                                    },
                                    {
                                        "name": "Index Name"
                                    },
                                    {
                                        "name": "index_id"
                                    },
                                    {
                                        "name": "index_type_desc"
                                    },
                                    {
                                        "name": "avg_fragmentation_in_percent"
                                    },
                                    {
                                        "name": "fragment_count"
                                    },
                                    {
                                        "name": "page_count"
                                    },
                                    {
                                        "name": "fill_factor"
                                    },
                                    {
                                        "name": "has_filter"
                                    },
                                    {
                                        "name": "filter_definition"
                                    },
                                    {
                                        "name": "allow_page_locks"
                                    }
                                ]
                            },
                            "data": [
                                {
                                    "0": "WideWorldImporters",
                                    "1": "Sales",
                                    "2": "InvoiceLines",
                                    "3": "PK_Sales_InvoiceLines",
                                    "4": "1",
                                    "5": "CLUSTERED INDEX",
                                    "6": "0.27824151363383415",
                                    "7": "41",
                                    "8": "5391",
                                    "9": "0",
                                    "10": "0",
                                    "11": "NULL",
                                    "12": "1"
                                },
                                {
                                    "0": "WideWorldImporters",
                                    "1": "Warehouse",
                                    "2": "ColdRoomTemperatures_Archive",
                                    "3": "ix_ColdRoomTemperatures_Archive",
                                    "4": "1",
                                    "5": "CLUSTERED INDEX",
                                    "6": "0.2354413780771294",
                                    "7": "684",
                                    "8": "33554",
                                    "9": "0",
                                    "10": "0",
                                    "11": "NULL",
                                    "12": "1"
                                },
                                {
                                    "0": "WideWorldImporters",
                                    "1": "Warehouse",
                                    "2": "VehicleTemperatures",
                                    "3": "PK_Warehouse_VehicleTemperatures",
                                    "4": "1",
                                    "5": "CLUSTERED INDEX",
                                    "6": "0.23166023166023164",
                                    "7": "24",
                                    "8": "3885",
                                    "9": "0",
                                    "10": "0",
                                    "11": "NULL",
                                    "12": "1"
                                },
                                {
                                    "0": "WideWorldImporters",
                                    "1": "Sales",
                                    "2": "Invoices",
                                    "3": "PK_Sales_Invoices",
                                    "4": "1",
                                    "5": "CLUSTERED INDEX",
                                    "6": "0.21703051193667816",
                                    "7": "58",
                                    "8": "7833",
                                    "9": "0",
                                    "10": "0",
                                    "11": "NULL",
                                    "12": "1"
                                },
                                {
                                    "0": "WideWorldImporters",
                                    "1": "Sales",
                                    "2": "OrderLines",
                                    "3": "PK_Sales_OrderLines",
                                    "4": "1",
                                    "5": "CLUSTERED INDEX",
                                    "6": "0.17917579135974518",
                                    "7": "29",
                                    "8": "5023",
                                    "9": "0",
                                    "10": "0",
                                    "11": "NULL",
                                    "12": "1"
                                }
                            ]
                        },
                        "text/html": [
                            "<table>",
                            "<tr><th>Database Name</th><th>Schema Name</th><th>Object Name</th><th>Index Name</th><th>index_id</th><th>index_type_desc</th><th>avg_fragmentation_in_percent</th><th>fragment_count</th><th>page_count</th><th>fill_factor</th><th>has_filter</th><th>filter_definition</th><th>allow_page_locks</th></tr>",
                            "<tr><td>WideWorldImporters</td><td>Sales</td><td>InvoiceLines</td><td>PK_Sales_InvoiceLines</td><td>1</td><td>CLUSTERED INDEX</td><td>0.27824151363383415</td><td>41</td><td>5391</td><td>0</td><td>0</td><td>NULL</td><td>1</td></tr>",
                            "<tr><td>WideWorldImporters</td><td>Warehouse</td><td>ColdRoomTemperatures_Archive</td><td>ix_ColdRoomTemperatures_Archive</td><td>1</td><td>CLUSTERED INDEX</td><td>0.2354413780771294</td><td>684</td><td>33554</td><td>0</td><td>0</td><td>NULL</td><td>1</td></tr>",
                            "<tr><td>WideWorldImporters</td><td>Warehouse</td><td>VehicleTemperatures</td><td>PK_Warehouse_VehicleTemperatures</td><td>1</td><td>CLUSTERED INDEX</td><td>0.23166023166023164</td><td>24</td><td>3885</td><td>0</td><td>0</td><td>NULL</td><td>1</td></tr>",
                            "<tr><td>WideWorldImporters</td><td>Sales</td><td>Invoices</td><td>PK_Sales_Invoices</td><td>1</td><td>CLUSTERED INDEX</td><td>0.21703051193667816</td><td>58</td><td>7833</td><td>0</td><td>0</td><td>NULL</td><td>1</td></tr>",
                            "<tr><td>WideWorldImporters</td><td>Sales</td><td>OrderLines</td><td>PK_Sales_OrderLines</td><td>1</td><td>CLUSTERED INDEX</td><td>0.17917579135974518</td><td>29</td><td>5023</td><td>0</td><td>0</td><td>NULL</td><td>1</td></tr>",
                            "</table>"
                        ]
                    }
                }
            ],
            "execution_count": 50
        },
        {
            "cell_type": "markdown",
            "source": [
                "Helps determine whether you have framentation in your relational indexes and how effective your index maintenance strategy is.\r\n",
                ""
            ],
            "metadata": {
                "azdata_cell_guid": "fca99494-6705-40ff-9c22-5aa40f158c82"
            }
        },
        {
            "cell_type": "markdown",
            "source": [
                "## Index Read/Write stats (TOP 20 in current DB) ordered by Reads (Query 46) (Overall Index Usage - Reads)"
            ],
            "metadata": {
                "azdata_cell_guid": "1a3ff6ab-165b-411d-8baf-713b6f322dc2"
            }
        },
        {
            "cell_type": "code",
            "source": [
                "--- Index Read/Write stats (all tables in current DB) ordered by Reads  (Query 46) (Overall Index Usage - Reads)\r\n",
                "SELECT top 20 \r\n",
                "\t\tOBJECT_NAME(i.[object_id]) AS [ObjectName], i.[name] AS [IndexName], i.index_id, \r\n",
                "       s.user_seeks, s.user_scans, s.user_lookups,\r\n",
                "\t   s.user_seeks + s.user_scans + s.user_lookups AS [Total Reads], \r\n",
                "\t   s.user_updates AS [Writes],  \r\n",
                "\t   i.[type_desc] AS [Index Type], i.fill_factor AS [Fill Factor], i.has_filter, i.filter_definition, \r\n",
                "\t   s.last_user_scan, s.last_user_lookup, s.last_user_seek\r\n",
                "FROM sys.indexes AS i WITH (NOLOCK)\r\n",
                "LEFT OUTER JOIN sys.dm_db_index_usage_stats AS s WITH (NOLOCK)\r\n",
                "ON i.[object_id] = s.[object_id]\r\n",
                "AND i.index_id = s.index_id\r\n",
                "AND s.database_id = DB_ID()\r\n",
                "WHERE OBJECTPROPERTY(i.[object_id],'IsUserTable') = 1\r\n",
                "AND ISNULL(s.user_seeks + s.user_scans + s.user_lookups, 0) > 0\r\n",
                "ORDER BY s.user_seeks + s.user_scans + s.user_lookups DESC OPTION (RECOMPILE); -- Order by reads"
            ],
            "metadata": {
                "azdata_cell_guid": "f2c4b007-fcfb-4e9b-ac40-d7db4caca72f",
                "tags": []
            },
            "outputs": [
                {
                    "output_type": "display_data",
                    "data": {
                        "text/html": "(0 rows affected)"
                    },
                    "metadata": {}
                },
                {
                    "output_type": "display_data",
                    "data": {
                        "text/html": "Total execution time: 00:00:00.123"
                    },
                    "metadata": {}
                },
                {
                    "output_type": "execute_result",
                    "metadata": {},
                    "execution_count": 51,
                    "data": {
                        "application/vnd.dataresource+json": {
                            "schema": {
                                "fields": [
                                    {
                                        "name": "ObjectName"
                                    },
                                    {
                                        "name": "IndexName"
                                    },
                                    {
                                        "name": "index_id"
                                    },
                                    {
                                        "name": "user_seeks"
                                    },
                                    {
                                        "name": "user_scans"
                                    },
                                    {
                                        "name": "user_lookups"
                                    },
                                    {
                                        "name": "Total Reads"
                                    },
                                    {
                                        "name": "Writes"
                                    },
                                    {
                                        "name": "Index Type"
                                    },
                                    {
                                        "name": "Fill Factor"
                                    },
                                    {
                                        "name": "has_filter"
                                    },
                                    {
                                        "name": "filter_definition"
                                    },
                                    {
                                        "name": "last_user_scan"
                                    },
                                    {
                                        "name": "last_user_lookup"
                                    },
                                    {
                                        "name": "last_user_seek"
                                    }
                                ]
                            },
                            "data": []
                        },
                        "text/html": [
                            "<table>",
                            "<tr><th>ObjectName</th><th>IndexName</th><th>index_id</th><th>user_seeks</th><th>user_scans</th><th>user_lookups</th><th>Total Reads</th><th>Writes</th><th>Index Type</th><th>Fill Factor</th><th>has_filter</th><th>filter_definition</th><th>last_user_scan</th><th>last_user_lookup</th><th>last_user_seek</th></tr>",
                            "</table>"
                        ]
                    }
                }
            ],
            "execution_count": 51
        },
        {
            "cell_type": "markdown",
            "source": [
                "Show which indexes in the current database are most active for Reads"
            ],
            "metadata": {
                "azdata_cell_guid": "3235069d-8003-4494-8145-67cf065d3ee6"
            }
        },
        {
            "cell_type": "markdown",
            "source": [
                "## Index Read/Write stats (TOP 20 in current DB) ordered by Writes (Query 47) (Overall Index Usage - Writes)"
            ],
            "metadata": {
                "azdata_cell_guid": "a3dafd2f-5693-492e-8e7b-f558c4ec624e"
            }
        },
        {
            "cell_type": "code",
            "source": [
                "--- Index Read/Write stats (all tables in current DB) ordered by Writes  (Query 47) (Overall Index Usage - Writes)\r\n",
                "SELECT TOP 20 OBJECT_NAME(i.[object_id]) AS [ObjectName], i.[name] AS [IndexName], i.index_id,\r\n",
                "\t   s.user_updates AS [Writes], s.user_seeks + s.user_scans + s.user_lookups AS [Total Reads], \r\n",
                "\t   i.[type_desc] AS [Index Type], i.fill_factor AS [Fill Factor], i.has_filter, i.filter_definition,\r\n",
                "\t   s.last_system_update, s.last_user_update\r\n",
                "FROM sys.indexes AS i WITH (NOLOCK)\r\n",
                "LEFT OUTER JOIN sys.dm_db_index_usage_stats AS s WITH (NOLOCK)\r\n",
                "ON i.[object_id] = s.[object_id]\r\n",
                "AND i.index_id = s.index_id\r\n",
                "AND s.database_id = DB_ID()\r\n",
                "WHERE OBJECTPROPERTY(i.[object_id],'IsUserTable') = 1\r\n",
                "AND (s.user_seeks > 0 OR s.user_scans > 0 OR s.user_lookups > 0)\r\n",
                "ORDER BY s.user_updates DESC OPTION (RECOMPILE);\t\t\t\t\t\t -- Order by writes"
            ],
            "metadata": {
                "azdata_cell_guid": "093a4673-62b7-49ec-af4c-8e9568308ddd",
                "tags": []
            },
            "outputs": [
                {
                    "output_type": "display_data",
                    "data": {
                        "text/html": "(0 rows affected)"
                    },
                    "metadata": {}
                },
                {
                    "output_type": "display_data",
                    "data": {
                        "text/html": "Total execution time: 00:00:00.121"
                    },
                    "metadata": {}
                },
                {
                    "output_type": "execute_result",
                    "metadata": {},
                    "execution_count": 52,
                    "data": {
                        "application/vnd.dataresource+json": {
                            "schema": {
                                "fields": [
                                    {
                                        "name": "ObjectName"
                                    },
                                    {
                                        "name": "IndexName"
                                    },
                                    {
                                        "name": "index_id"
                                    },
                                    {
                                        "name": "Writes"
                                    },
                                    {
                                        "name": "Total Reads"
                                    },
                                    {
                                        "name": "Index Type"
                                    },
                                    {
                                        "name": "Fill Factor"
                                    },
                                    {
                                        "name": "has_filter"
                                    },
                                    {
                                        "name": "filter_definition"
                                    },
                                    {
                                        "name": "last_system_update"
                                    },
                                    {
                                        "name": "last_user_update"
                                    }
                                ]
                            },
                            "data": []
                        },
                        "text/html": [
                            "<table>",
                            "<tr><th>ObjectName</th><th>IndexName</th><th>index_id</th><th>Writes</th><th>Total Reads</th><th>Index Type</th><th>Fill Factor</th><th>has_filter</th><th>filter_definition</th><th>last_system_update</th><th>last_user_update</th></tr>",
                            "</table>"
                        ]
                    }
                }
            ],
            "execution_count": 52
        },
        {
            "cell_type": "markdown",
            "source": [
                "Show which indexes in the current database are most active for Writes"
            ],
            "metadata": {
                "azdata_cell_guid": "9462fedd-8cc2-48ff-9e59-ec9bb6d0e1e1"
            }
        },
        {
            "cell_type": "markdown",
            "source": [
                "## Get in-memory OLTP index usage (Query 48) (XTP Index Usage)"
            ],
            "metadata": {
                "azdata_cell_guid": "7fb895d5-7d7c-49d1-b459-bea8648eee59"
            }
        },
        {
            "cell_type": "code",
            "source": [
                "-- Get in-memory OLTP index usage (Query 48) (XTP Index Usage)\r\n",
                "SELECT OBJECT_NAME(i.[object_id]) AS [Object Name], i.index_id, i.[name] AS [Index Name],\r\n",
                "       i.[type_desc], xis.scans_started, xis.scans_retries, \r\n",
                "\t   xis.rows_touched, xis.rows_returned\r\n",
                "FROM sys.dm_db_xtp_index_stats AS xis WITH (NOLOCK)\r\n",
                "INNER JOIN sys.indexes AS i WITH (NOLOCK)\r\n",
                "ON i.[object_id] = xis.[object_id] \r\n",
                "AND i.index_id = xis.index_id \r\n",
                "ORDER BY OBJECT_NAME(i.[object_id]) OPTION (RECOMPILE);"
            ],
            "metadata": {
                "azdata_cell_guid": "b597c25f-b779-4e85-8936-e00ebb16749a",
                "tags": [
                    "hide_input"
                ]
            },
            "outputs": [
                {
                    "output_type": "display_data",
                    "data": {
                        "text/html": "(0 rows affected)"
                    },
                    "metadata": {}
                },
                {
                    "output_type": "display_data",
                    "data": {
                        "text/html": "Total execution time: 00:00:00.060"
                    },
                    "metadata": {}
                },
                {
                    "output_type": "execute_result",
                    "metadata": {},
                    "execution_count": 53,
                    "data": {
                        "application/vnd.dataresource+json": {
                            "schema": {
                                "fields": [
                                    {
                                        "name": "Object Name"
                                    },
                                    {
                                        "name": "index_id"
                                    },
                                    {
                                        "name": "Index Name"
                                    },
                                    {
                                        "name": "type_desc"
                                    },
                                    {
                                        "name": "scans_started"
                                    },
                                    {
                                        "name": "scans_retries"
                                    },
                                    {
                                        "name": "rows_touched"
                                    },
                                    {
                                        "name": "rows_returned"
                                    }
                                ]
                            },
                            "data": []
                        },
                        "text/html": [
                            "<table>",
                            "<tr><th>Object Name</th><th>index_id</th><th>Index Name</th><th>type_desc</th><th>scans_started</th><th>scans_retries</th><th>rows_touched</th><th>rows_returned</th></tr>",
                            "</table>"
                        ]
                    }
                }
            ],
            "execution_count": 53
        },
        {
            "cell_type": "markdown",
            "source": [
                "This gives you some index usage statistics for in-memory OLTP\r\n",
                "- Returns no data if you are not using in-memory OLTP\r\n",
                "\r\n",
                "[Guidelines for Using Indexes on Memory-Optimized Tables](https://bit.ly/2GCP8lF)"
            ],
            "metadata": {
                "azdata_cell_guid": "aa0d0dc8-bf0d-4e26-bc90-6c9d674600c1"
            }
        },
        {
            "cell_type": "markdown",
            "source": [
                "## Get database automatic tuning options (Query 56) (Automatic Tuning Options)"
            ],
            "metadata": {
                "azdata_cell_guid": "5b5aa22a-ec08-4883-9ba3-5b493dcfad62"
            }
        },
        {
            "cell_type": "code",
            "source": [
                "-- Get database automatic tuning options (Query 56) (Automatic Tuning Options)\r\n",
                "SELECT [name], desired_state_desc, actual_state_desc, reason_desc\r\n",
                "FROM sys.database_automatic_tuning_options WITH (NOLOCK)\r\n",
                "OPTION (RECOMPILE);"
            ],
            "metadata": {
                "azdata_cell_guid": "92e12733-6eab-464e-bad6-8e193a5bb024",
                "tags": [
                    "hide_input"
                ]
            },
            "outputs": [
                {
                    "output_type": "display_data",
                    "data": {
                        "text/html": "(4 rows affected)"
                    },
                    "metadata": {}
                },
                {
                    "output_type": "display_data",
                    "data": {
                        "text/html": "Total execution time: 00:00:00.046"
                    },
                    "metadata": {}
                },
                {
                    "output_type": "execute_result",
                    "metadata": {},
                    "execution_count": 54,
                    "data": {
                        "application/vnd.dataresource+json": {
                            "schema": {
                                "fields": [
                                    {
                                        "name": "name"
                                    },
                                    {
                                        "name": "desired_state_desc"
                                    },
                                    {
                                        "name": "actual_state_desc"
                                    },
                                    {
                                        "name": "reason_desc"
                                    }
                                ]
                            },
                            "data": [
                                {
                                    "0": "FORCE_LAST_GOOD_PLAN",
                                    "1": "DEFAULT",
                                    "2": "ON",
                                    "3": "INHERITED_FROM_SERVER"
                                },
                                {
                                    "0": "CREATE_INDEX",
                                    "1": "DEFAULT",
                                    "2": "OFF",
                                    "3": "INHERITED_FROM_SERVER"
                                },
                                {
                                    "0": "DROP_INDEX",
                                    "1": "DEFAULT",
                                    "2": "OFF",
                                    "3": "INHERITED_FROM_SERVER"
                                },
                                {
                                    "0": "MAINTAIN_INDEX",
                                    "1": "DEFAULT",
                                    "2": "OFF",
                                    "3": "INHERITED_FROM_SERVER"
                                }
                            ]
                        },
                        "text/html": [
                            "<table>",
                            "<tr><th>name</th><th>desired_state_desc</th><th>actual_state_desc</th><th>reason_desc</th></tr>",
                            "<tr><td>FORCE_LAST_GOOD_PLAN</td><td>DEFAULT</td><td>ON</td><td>INHERITED_FROM_SERVER</td></tr>",
                            "<tr><td>CREATE_INDEX</td><td>DEFAULT</td><td>OFF</td><td>INHERITED_FROM_SERVER</td></tr>",
                            "<tr><td>DROP_INDEX</td><td>DEFAULT</td><td>OFF</td><td>INHERITED_FROM_SERVER</td></tr>",
                            "<tr><td>MAINTAIN_INDEX</td><td>DEFAULT</td><td>OFF</td><td>INHERITED_FROM_SERVER</td></tr>",
                            "</table>"
                        ]
                    }
                }
            ],
            "execution_count": 54
        },
        {
            "cell_type": "markdown",
            "source": [
                "[sys.database_automatic_tuning_options (Transact-SQL)](https://bit.ly/2FHhLkL)"
            ],
            "metadata": {
                "azdata_cell_guid": "0739c550-fd16-4268-9146-858c7d33ab84"
            }
        },
        {
            "cell_type": "markdown",
            "source": [
                "## Retrieve some Azure SQL Database properties (Query 58) (Azure SQL DB Properties)"
            ],
            "metadata": {
                "azdata_cell_guid": "c6705624-b8e9-4015-89dd-df10814b2591"
            }
        },
        {
            "cell_type": "code",
            "source": [
                "-- Retrieve some Azure SQL Database properties (Query 58) (Azure SQL DB Properties)\r\n",
                "SELECT DATABASEPROPERTYEX (DB_NAME(DB_ID()), 'Edition') AS [Database Edition],\r\n",
                "\t   DATABASEPROPERTYEX (DB_NAME(DB_ID()), 'ServiceObjective') AS [Service Objective],\r\n",
                "\t   DATABASEPROPERTYEX (DB_NAME(DB_ID()), 'MaxSizeInBytes') AS [Max Size In Bytes],\r\n",
                "\t   DATABASEPROPERTYEX (DB_NAME(DB_ID()), 'IsXTPSupported') AS [Is XTP Supported]\r\n",
                "\t   OPTION (RECOMPILE);   "
            ],
            "metadata": {
                "azdata_cell_guid": "2975ca3e-c10a-425b-aebc-3db37f38855c",
                "tags": [
                    "hide_input"
                ]
            },
            "outputs": [
                {
                    "output_type": "display_data",
                    "data": {
                        "text/html": "(1 row affected)"
                    },
                    "metadata": {}
                },
                {
                    "output_type": "display_data",
                    "data": {
                        "text/html": "Total execution time: 00:00:00.119"
                    },
                    "metadata": {}
                },
                {
                    "output_type": "execute_result",
                    "metadata": {},
                    "execution_count": 55,
                    "data": {
                        "application/vnd.dataresource+json": {
                            "schema": {
                                "fields": [
                                    {
                                        "name": "Database Edition"
                                    },
                                    {
                                        "name": "Service Objective"
                                    },
                                    {
                                        "name": "Max Size In Bytes"
                                    },
                                    {
                                        "name": "Is XTP Supported"
                                    }
                                ]
                            },
                            "data": [
                                {
                                    "0": "Standard",
                                    "1": "S0",
                                    "2": "268435456000",
                                    "3": "0"
                                }
                            ]
                        },
                        "text/html": [
                            "<table>",
                            "<tr><th>Database Edition</th><th>Service Objective</th><th>Max Size In Bytes</th><th>Is XTP Supported</th></tr>",
                            "<tr><td>Standard</td><td>S0</td><td>268435456000</td><td>0</td></tr>",
                            "</table>"
                        ]
                    }
                }
            ],
            "execution_count": 55
        },
        {
            "cell_type": "markdown",
            "source": [
                "# Appendix\r\n",
                "\r\n",
                "**These six Pluralsight Courses go into more detail about how to run these queries and interpret the results**\r\n",
                "\r\n",
                "- [Azure SQL Database: Diagnosing Performance Issues with DMVs](https://bit.ly/2meDRCN)\r\n",
                "- [SQL Server 2017: Diagnosing Performance Issues with DMVs](https://bit.ly/2FqCeti)\r\n",
                "- [SQL Server 2017: Diagnosing Configuration Issues with DMVs](https://bit.ly/2MSUDUL)\r\n",
                "- [SQL Server 2014 DMV Diagnostic Queries – Part 1](https://bit.ly/2plxCer) \r\n",
                "- [SQL Server 2014 DMV Diagnostic Queries – Part 2](https://bit.ly/2IuJpzI)\r\n",
                "- [SQL Server 2014 DMV Diagnostic Queries – Part 3](https://bit.ly/2FIlCPb)\r\n",
                "\r\n",
                "\r\n",
                "\r\n",
                "\r\n",
                "[Microsoft Visual Studio Dev Essentials](https://bit.ly/2qjNRxi)\r\n",
                "\r\n",
                "[Microsoft Azure Learn](https://bit.ly/2O0Hacc)"
            ],
            "metadata": {
                "azdata_cell_guid": "e0569096-089f-44d7-99cb-9adaf1e3e8e7"
            }
        }
    ]
}