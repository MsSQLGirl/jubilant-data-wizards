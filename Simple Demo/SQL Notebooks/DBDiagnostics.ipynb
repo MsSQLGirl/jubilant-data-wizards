{
    "metadata": {
        "kernelspec": {
            "name": "SQL",
            "display_name": "SQL",
            "language": "sql"
        },
        "language_info": {
            "name": "sql",
            "version": ""
        }
    },
    "nbformat_minor": 2,
    "nbformat": 4,
    "cells": [
        {
            "cell_type": "markdown",
            "source": [
                "# **Executable TSG for WideWorldImporters**\n",
                "\n",
                "This notebook is adapted from Glenn Berry's [**Azure SQL Database Diagnostic Information Queries.** ](https://glennsqlperformance.com/2021/02/02/sql-server-diagnostic-information-queries-for-february-2021/).\n",
                "\n",
                "- Originally written by Glenn Berry\n",
                "- Version: August 2, 2020\n",
                "- Twitter: GlennAlanBerry\n",
                "- Blog: [https://glennsqlperformance.com/](https://glennsqlperformance.com/)\n",
                "- YouTube: [https://bit.ly/2PkoAM1](https://bit.ly/2PkoAM1)\n",
                "\n",
                "> **Copyright (C) 2020 Glenn Berry**  \n",
                "> All rights reserved.  \n",
                "> You may alter this code for your own _non-commercial_ purposes.  \n",
                "> You may republish altered code as long as you include this copyright and give due credit.  \n",
                ">   \n",
                "> THIS CODE AND INFORMATION ARE PROVIDED \"AS IS\" WITHOUT WARRANTY OF ANY KIND, EITHER EXPRESSED OR IMPLIED, INCLUDING BUT NOT LIMITED TO THE IMPLIED WARRANTIES OF MERCHANTABILITY AND/OR FITNESS FOR A PARTICULAR PURPOSE."
            ],
            "metadata": {
                "azdata_cell_guid": "8a4fe986-eb72-4be8-bab8-4dbd51627777"
            }
        },
        {
            "cell_type": "markdown",
            "source": [
                "# Server-Level Queries\r\n",
                "\r\n",
                "Make sure you are connected a user database, rather than the master system database"
            ],
            "metadata": {
                "azdata_cell_guid": "5b6ac5cd-cee9-4578-9504-08b1fa55c308"
            }
        },
        {
            "cell_type": "markdown",
            "source": [
                "## SQL and OS Version information for current instance  (Query 1) (Version Info)"
            ],
            "metadata": {
                "azdata_cell_guid": "30d70523-a17f-4cca-83f4-44c25c6cc12d"
            }
        },
        {
            "cell_type": "code",
            "source": [
                "-- SQL and OS Version information for current instance  (Query 1) (Version Info)\r\n",
                "SELECT @@SERVERNAME AS [Server Name], @@VERSION AS [SQL Server and OS Version Info];"
            ],
            "metadata": {
                "azdata_cell_guid": "56d600ed-93fd-4fff-8d3b-c0dfdf033fbf",
                "tags": [
                    "hide_input"
                ]
            },
            "outputs": [],
            "execution_count": null
        },
        {
            "cell_type": "markdown",
            "source": [
                "Useful links related to the above query:\r\n",
                "* [Download and install Azure Data Studio](https://bit.ly/2vgke1A)"
            ],
            "metadata": {
                "azdata_cell_guid": "c67f68fc-4b1a-41b5-968c-80ef608bf9b3"
            }
        },
        {
            "cell_type": "markdown",
            "source": [
                "## Detect blocking (run multiple times)  (Query 9) (Detect Blocking)"
            ],
            "metadata": {
                "azdata_cell_guid": "76df2148-9a87-4642-9dfa-aae374ca8be1"
            }
        },
        {
            "cell_type": "code",
            "source": [
                "-- Detect blocking (run multiple times)  (Query 9) (Detect Blocking)\r\n",
                "SELECT t1.resource_type AS [lock type], DB_NAME(resource_database_id) AS [database],\r\n",
                "t1.resource_associated_entity_id AS [blk object],t1.request_mode AS [lock req],  -- lock requested\r\n",
                "t1.request_session_id AS [waiter sid], t2.wait_duration_ms AS [wait time],       -- spid of waiter  \r\n",
                "(SELECT [text] FROM sys.dm_exec_requests AS r WITH (NOLOCK)                      -- get sql for waiter\r\n",
                "CROSS APPLY sys.dm_exec_sql_text(r.[sql_handle]) \r\n",
                "WHERE r.session_id = t1.request_session_id) AS [waiter_batch],\r\n",
                "(SELECT SUBSTRING(qt.[text],r.statement_start_offset/2, \r\n",
                "    (CASE WHEN r.statement_end_offset = -1 \r\n",
                "    THEN LEN(CONVERT(nvarchar(max), qt.[text])) * 2 \r\n",
                "    ELSE r.statement_end_offset END - r.statement_start_offset)/2) \r\n",
                "FROM sys.dm_exec_requests AS r WITH (NOLOCK)\r\n",
                "CROSS APPLY sys.dm_exec_sql_text(r.[sql_handle]) AS qt\r\n",
                "WHERE r.session_id = t1.request_session_id) AS [waiter_stmt],\t\t\t\t\t-- statement blocked\r\n",
                "t2.blocking_session_id AS [blocker sid],\t\t\t\t\t\t\t\t\t\t-- spid of blocker\r\n",
                "(SELECT [text] FROM sys.sysprocesses AS p\t\t\t\t\t\t\t\t\t\t-- get sql for blocker\r\n",
                "CROSS APPLY sys.dm_exec_sql_text(p.[sql_handle]) \r\n",
                "WHERE p.spid = t2.blocking_session_id) AS [blocker_batch]\r\n",
                "FROM sys.dm_tran_locks AS t1 WITH (NOLOCK)\r\n",
                "INNER JOIN sys.dm_os_waiting_tasks AS t2 WITH (NOLOCK)\r\n",
                "ON t1.lock_owner_address = t2.resource_address OPTION (RECOMPILE);"
            ],
            "metadata": {
                "azdata_cell_guid": "b9bd2930-e5bc-4415-9d89-4ccfc0be9334",
                "tags": [
                    "hide_input"
                ]
            },
            "outputs": [],
            "execution_count": null
        },
        {
            "cell_type": "markdown",
            "source": [
                "Helps troubleshoot blocking and deadlocking issues\r\n",
                "- The results will change from second to second on a busy system\r\n",
                "- You should run this query multiple times when you see signs of blocking"
            ],
            "metadata": {
                "azdata_cell_guid": "15412a8a-2e65-4b59-a904-ca3012cf6528"
            }
        },
        {
            "cell_type": "markdown",
            "source": [
                "## Find single-use, ad-hoc and prepared queries that are bloating the plan cache  (Query 13) (Ad hoc Queries)"
            ],
            "metadata": {
                "azdata_cell_guid": "8c166c58-ca7f-4fa5-9f6f-d4570ddf2020"
            }
        },
        {
            "cell_type": "code",
            "source": [
                "-- Find single-use, ad-hoc and prepared queries that are bloating the plan cache  (Query 13) (Ad hoc Queries)\r\n",
                "SELECT TOP(10) DB_NAME(t.[dbid]) AS [Database Name], t.[text] AS [Query Text], \r\n",
                "cp.objtype AS [Object Type], cp.cacheobjtype AS [Cache Object Type],  \r\n",
                "cp.size_in_bytes/1024 AS [Plan Size in KB]\r\n",
                "FROM sys.dm_exec_cached_plans AS cp WITH (NOLOCK)\r\n",
                "CROSS APPLY sys.dm_exec_sql_text(plan_handle) AS t\r\n",
                "WHERE cp.cacheobjtype = N'Compiled Plan' \r\n",
                "AND cp.objtype IN (N'Adhoc', N'Prepared') \r\n",
                "AND cp.usecounts = 1\r\n",
                "ORDER BY cp.size_in_bytes DESC, DB_NAME(t.[dbid]) OPTION (RECOMPILE);"
            ],
            "metadata": {
                "azdata_cell_guid": "50b90505-1385-4eab-b96e-7bef1d4a4e38",
                "tags": []
            },
            "outputs": [],
            "execution_count": null
        },
        {
            "cell_type": "markdown",
            "source": [
                "Gives you the text, type and size of single-use ad-hoc and prepared queries that waste space in the plan cache\r\n",
                "- Enabling 'optimize for ad hoc workloads' for the instance can help (SQL Server 2008 and above only)\r\n",
                "- Running DBCC FREESYSTEMCACHE ('SQL Plans') periodically may be required to better control this\r\n",
                "- Enabling forced parameterization for the database can help, but test first!\r\n",
                "\r\n",
                "[Plan cache, adhoc workloads and clearing the single-use plan cache bloat](https://bit.ly/2EfYOkl)"
            ],
            "metadata": {
                "azdata_cell_guid": "c8da4d1c-4993-48f4-a9fa-2982490cdca0"
            }
        },
        {
            "cell_type": "markdown",
            "source": [
                "# Database specific queries\r\n",
                "\r\n",
                "> **Note**: Please switch to a user database that you are interested in!"
            ],
            "metadata": {
                "azdata_cell_guid": "f0445542-eea4-44a4-9bef-e0131ab94c09"
            }
        },
        {
            "cell_type": "code",
            "source": [
                "-- **** Please switch to a user database that you are interested in! *****\r\n",
                "--USE YourDatabaseName; -- make sure to change to an actual database on your instance, not the master system database\r\n",
                "--GO"
            ],
            "metadata": {
                "azdata_cell_guid": "3acaa59a-d091-4a10-bad5-f914c9338971",
                "tags": [
                    "hide_input"
                ]
            },
            "outputs": [],
            "execution_count": null
        },
        {
            "cell_type": "markdown",
            "source": [
                "## Individual File Sizes and space available for current database  (Query 15) (File Sizes and Space)"
            ],
            "metadata": {
                "azdata_cell_guid": "44dc42a9-0712-490c-a7d3-436cc3aad079"
            }
        },
        {
            "cell_type": "code",
            "source": [
                "-- Individual File Sizes and space available for current database  (Query 15) (File Sizes and Space)\r\n",
                "SELECT f.name AS [File Name] , f.physical_name AS [Physical Name], \r\n",
                "CAST((f.size/128.0) AS DECIMAL(15,2)) AS [Total Size in MB],\r\n",
                "CAST(f.size/128.0 - CAST(FILEPROPERTY(f.name, 'SpaceUsed') AS int)/128.0 AS DECIMAL(15,2)) \r\n",
                "AS [Available Space In MB], f.[file_id], fg.name AS [Filegroup Name],\r\n",
                "f.is_percent_growth, f.growth, fg.is_default, fg.is_read_only, \r\n",
                "fg.is_autogrow_all_files\r\n",
                "FROM sys.database_files AS f WITH (NOLOCK) \r\n",
                "LEFT OUTER JOIN sys.filegroups AS fg WITH (NOLOCK)\r\n",
                "ON f.data_space_id = fg.data_space_id\r\n",
                "ORDER BY f.[file_id] OPTION (RECOMPILE);"
            ],
            "metadata": {
                "azdata_cell_guid": "afab3607-97d0-406c-829f-e4eee79b1ee9",
                "tags": [
                    "hide_input"
                ]
            },
            "outputs": [],
            "execution_count": null
        },
        {
            "cell_type": "markdown",
            "source": [
                "Look at how large and how full the files are and where they are located\r\n",
                "- Make sure the transaction log is not full!!\r\n",
                "- is_autogrow_all_files was new for SQL Server 2016. Equivalent to TF 1117 for user databases\r\n",
                "\r\n",
                "[SQL Server 2016: Changes in default behavior for autogrow and allocations for tempdb and user databases](https://bit.ly/2evRZSR)"
            ],
            "metadata": {
                "azdata_cell_guid": "a05e2235-d5e1-496c-b4e4-1c9e4794d7a8"
            }
        },
        {
            "cell_type": "markdown",
            "source": [
                "## Log space usage for current database  (Query 16) (Log Space Usage)"
            ],
            "metadata": {
                "azdata_cell_guid": "d18709d8-7651-46a0-b69a-dd4b656f459d"
            }
        },
        {
            "cell_type": "code",
            "source": [
                "-- Log space usage for current database  (Query 16) (Log Space Usage)\r\n",
                "SELECT DB_NAME(lsu.database_id) AS [Database Name], db.recovery_model_desc AS [Recovery Model],\r\n",
                "\t\tCAST(lsu.total_log_size_in_bytes/1048576.0 AS DECIMAL(10, 2)) AS [Total Log Space (MB)],\r\n",
                "\t\tCAST(lsu.used_log_space_in_bytes/1048576.0 AS DECIMAL(10, 2)) AS [Used Log Space (MB)], \r\n",
                "\t\tCAST(lsu.used_log_space_in_percent AS DECIMAL(10, 2)) AS [Used Log Space %],\r\n",
                "\t\tCAST(lsu.log_space_in_bytes_since_last_backup/1048576.0 AS DECIMAL(10, 2)) AS [Used Log Space Since Last Backup (MB)],\r\n",
                "\t\tdb.log_reuse_wait_desc\t\t \r\n",
                "FROM sys.dm_db_log_space_usage AS lsu WITH (NOLOCK)\r\n",
                "INNER JOIN sys.databases AS db WITH (NOLOCK)\r\n",
                "ON lsu.database_id = db.database_id\r\n",
                "OPTION (RECOMPILE);"
            ],
            "metadata": {
                "azdata_cell_guid": "9a028009-ac0d-460f-8298-f924f90bfa25",
                "tags": [
                    "hide_input"
                ]
            },
            "outputs": [],
            "execution_count": null
        },
        {
            "cell_type": "markdown",
            "source": [
                "Look at log file size and usage, along with the log reuse wait description for the current database\r\n",
                "\r\n",
                "[sys.dm_db_log_space_usage (Transact-SQL)](https://bit.ly/2H4MQw9)"
            ],
            "metadata": {
                "azdata_cell_guid": "c4a0d470-f1f1-481a-a65e-a671c2855ba2"
            }
        },
        {
            "cell_type": "markdown",
            "source": [
                "## Important database properties for current database   (Query 19) (Database Properties)"
            ],
            "metadata": {
                "azdata_cell_guid": "06150497-4a17-4f86-be43-164a803d1efa"
            }
        },
        {
            "cell_type": "code",
            "source": [
                "-- Important database properties for current database   (Query 19) (Database Properties)\r\n",
                "SELECT db.[name] AS [Database Name], db.recovery_model_desc AS [Recovery Model], \r\n",
                "db.state_desc, db.containment_desc, db.log_reuse_wait_desc AS [Log Reuse Wait Description], \r\n",
                "db.[compatibility_level] AS [DB Compatibility Level], \r\n",
                "db.is_mixed_page_allocation_on, db.page_verify_option_desc AS [Page Verify Option], \r\n",
                "db.is_auto_create_stats_on, db.is_auto_update_stats_on, db.is_auto_update_stats_async_on, db.is_parameterization_forced, \r\n",
                "db.snapshot_isolation_state_desc, db.is_read_committed_snapshot_on, db.is_auto_close_on, db.is_auto_shrink_on, \r\n",
                "db.target_recovery_time_in_seconds, db.is_cdc_enabled, db.is_memory_optimized_elevate_to_snapshot_on, \r\n",
                "db.delayed_durability_desc, db.is_auto_create_stats_incremental_on,\r\n",
                "db.is_query_store_on, db.is_sync_with_backup, db.is_temporal_history_retention_enabled,\r\n",
                "db.is_encrypted, is_result_set_caching_on, is_accelerated_database_recovery_on, is_tempdb_spill_to_remote_store  \r\n",
                "FROM sys.databases AS db WITH (NOLOCK)\r\n",
                "WHERE db.[name] <> N'master'\r\n",
                "ORDER BY db.[name] OPTION (RECOMPILE);"
            ],
            "metadata": {
                "azdata_cell_guid": "2717c53f-8199-4d3c-b7ad-55d633ac579d",
                "tags": []
            },
            "outputs": [],
            "execution_count": null
        },
        {
            "cell_type": "markdown",
            "source": [
                "Things to look at:\r\n",
                "- What recovery model are you using?\r\n",
                "- What is the log reuse wait description?\r\n",
                "- What compatibility level is the database on? \r\n",
                "- What is the Page Verify Option? (should be CHECKSUM)\r\n",
                "- Is Auto Update Statistics Asynchronously enabled?\r\n",
                "- Is Delayed Durability enabled?"
            ],
            "metadata": {
                "azdata_cell_guid": "5700d9a2-f194-4f23-bc37-c7c842448f51"
            }
        },
        {
            "cell_type": "markdown",
            "source": [
                "## Get recent resource usage (Query 23) (Avg/Max Resource Usage)"
            ],
            "metadata": {
                "azdata_cell_guid": "acd5345c-2750-44cd-a8cd-c2d5f181869e"
            }
        },
        {
            "cell_type": "code",
            "source": [
                "-- Get recent resource usage (Query 23) (Avg/Max Resource Usage)\r\n",
                "SELECT CAST(AVG(avg_cpu_percent) AS DECIMAL(10,2)) AS [Average CPU Utilization In Percent],   \r\n",
                "       CAST(MAX(avg_cpu_percent) AS DECIMAL(10,2)) AS [Maximum CPU Utilization In Percent],   \r\n",
                "       CAST(AVG(avg_data_io_percent) AS DECIMAL(10,2)) AS [Average Data IO In Percent],   \r\n",
                "       CAST(MAX(avg_data_io_percent) AS DECIMAL(10,2)) AS [Maximum Data IO In Percent],   \r\n",
                "       CAST(AVG(avg_log_write_percent) AS DECIMAL(10,2)) AS [Average Log Write Utilization In Percent],   \r\n",
                "       CAST(MAX(avg_log_write_percent) AS DECIMAL(10,2)) AS [Maximum Log Write Utilization In Percent],   \r\n",
                "       CAST(AVG(avg_memory_usage_percent) AS DECIMAL(10,2)) AS [Average Memory Usage In Percent],   \r\n",
                "       CAST(MAX(avg_memory_usage_percent) AS DECIMAL(10,2)) AS [Maximum Memory Usage In Percent]   \r\n",
                "FROM sys.dm_db_resource_stats WITH (NOLOCK) OPTION (RECOMPILE); "
            ],
            "metadata": {
                "azdata_cell_guid": "8f93b397-9760-4253-b478-c3c105a28c79",
                "tags": [
                    "hide_input"
                ]
            },
            "outputs": [],
            "execution_count": null
        },
        {
            "cell_type": "markdown",
            "source": [
                "## Isolate top waits for this database since last restart or failover (Query 24) (Top DB Waits)"
            ],
            "metadata": {
                "azdata_cell_guid": "27b72172-db5a-45b3-94ea-04850cc11c70"
            }
        },
        {
            "cell_type": "code",
            "source": [
                "-- Isolate top waits for this database since last restart or failover (Query 24) (Top DB Waits)\r\n",
                "WITH [Waits] \r\n",
                "AS (SELECT wait_type, wait_time_ms/ 1000.0 AS [WaitS],\r\n",
                "          (wait_time_ms - signal_wait_time_ms) / 1000.0 AS [ResourceS],\r\n",
                "           signal_wait_time_ms / 1000.0 AS [SignalS],\r\n",
                "           waiting_tasks_count AS [WaitCount],\r\n",
                "           100.0 *  wait_time_ms / SUM (wait_time_ms) OVER() AS [Percentage],\r\n",
                "           ROW_NUMBER() OVER(ORDER BY wait_time_ms DESC) AS [RowNum]\r\n",
                "    FROM sys.dm_db_wait_stats WITH (NOLOCK)\r\n",
                "    WHERE [wait_type] NOT IN (\r\n",
                "        N'BROKER_EVENTHANDLER', N'BROKER_RECEIVE_WAITFOR', N'BROKER_TASK_STOP',\r\n",
                "\t\tN'BROKER_TO_FLUSH', N'BROKER_TRANSMITTER', N'CHECKPOINT_QUEUE',\r\n",
                "        N'CHKPT', N'CLR_AUTO_EVENT', N'CLR_MANUAL_EVENT', N'CLR_SEMAPHORE',\r\n",
                "        N'DBMIRROR_DBM_EVENT', N'DBMIRROR_EVENTS_QUEUE', N'DBMIRROR_WORKER_QUEUE',\r\n",
                "\t\tN'DBMIRRORING_CMD', N'DIRTY_PAGE_POLL', N'DISPATCHER_QUEUE_SEMAPHORE',\r\n",
                "        N'EXECSYNC', N'FSAGENT', N'FT_IFTS_SCHEDULER_IDLE_WAIT', N'FT_IFTSHC_MUTEX',\r\n",
                "        N'HADR_CLUSAPI_CALL', N'HADR_FILESTREAM_IOMGR_IOCOMPLETION', N'HADR_LOGCAPTURE_WAIT', \r\n",
                "\t\tN'HADR_NOTIFICATION_DEQUEUE', N'HADR_TIMER_TASK', N'HADR_WORK_QUEUE',\r\n",
                "        N'KSOURCE_WAKEUP', N'LAZYWRITER_SLEEP', N'LOGMGR_QUEUE', \r\n",
                "\t\tN'MEMORY_ALLOCATION_EXT', N'ONDEMAND_TASK_QUEUE',\r\n",
                "\t\tN'PREEMPTIVE_HADR_LEASE_MECHANISM', N'PREEMPTIVE_SP_SERVER_DIAGNOSTICS',\r\n",
                "\t\tN'PREEMPTIVE_ODBCOPS',\r\n",
                "\t\tN'PREEMPTIVE_OS_LIBRARYOPS', N'PREEMPTIVE_OS_COMOPS', N'PREEMPTIVE_OS_CRYPTOPS',\r\n",
                "\t\tN'PREEMPTIVE_OS_PIPEOPS', N'PREEMPTIVE_OS_AUTHENTICATIONOPS',\r\n",
                "\t\tN'PREEMPTIVE_OS_GENERICOPS', N'PREEMPTIVE_OS_VERIFYTRUST',\r\n",
                "\t\tN'PREEMPTIVE_OS_FILEOPS', N'PREEMPTIVE_OS_DEVICEOPS', N'PREEMPTIVE_OS_QUERYREGISTRY',\r\n",
                "\t\tN'PREEMPTIVE_OS_WRITEFILE',\r\n",
                "\t\tN'PREEMPTIVE_XE_CALLBACKEXECUTE', N'PREEMPTIVE_XE_DISPATCHER',\r\n",
                "\t\tN'PREEMPTIVE_XE_GETTARGETSTATE', N'PREEMPTIVE_XE_SESSIONCOMMIT',\r\n",
                "\t\tN'PREEMPTIVE_XE_TARGETINIT', N'PREEMPTIVE_XE_TARGETFINALIZE',\r\n",
                "\t\tN'PREEMPTIVE_XHTTP',\r\n",
                "        N'PWAIT_ALL_COMPONENTS_INITIALIZED', N'PWAIT_DIRECTLOGCONSUMER_GETNEXT',\r\n",
                "\t\tN'QDS_PERSIST_TASK_MAIN_LOOP_SLEEP',\r\n",
                "\t\tN'QDS_ASYNC_QUEUE',\r\n",
                "        N'QDS_CLEANUP_STALE_QUERIES_TASK_MAIN_LOOP_SLEEP', N'REQUEST_FOR_DEADLOCK_SEARCH',\r\n",
                "\t\tN'RESOURCE_GOVERNOR_IDLE',\r\n",
                "\t\tN'RESOURCE_QUEUE', N'SERVER_IDLE_CHECK', N'SLEEP_BPOOL_FLUSH', N'SLEEP_DBSTARTUP',\r\n",
                "\t\tN'SLEEP_DCOMSTARTUP', N'SLEEP_MASTERDBREADY', N'SLEEP_MASTERMDREADY',\r\n",
                "        N'SLEEP_MASTERUPGRADED', N'SLEEP_MSDBSTARTUP', N'SLEEP_SYSTEMTASK', N'SLEEP_TASK',\r\n",
                "        N'SLEEP_TEMPDBSTARTUP', N'SNI_HTTP_ACCEPT', N'SP_SERVER_DIAGNOSTICS_SLEEP',\r\n",
                "\t\tN'SQLTRACE_BUFFER_FLUSH', N'SQLTRACE_INCREMENTAL_FLUSH_SLEEP', N'SQLTRACE_WAIT_ENTRIES',\r\n",
                "\t\tN'WAIT_FOR_RESULTS', N'WAITFOR', N'WAITFOR_TASKSHUTDOWN', N'WAIT_XTP_HOST_WAIT',\r\n",
                "\t\tN'WAIT_XTP_OFFLINE_CKPT_NEW_LOG', N'WAIT_XTP_CKPT_CLOSE', N'WAIT_XTP_RECOVERY',\r\n",
                "\t\tN'XE_BUFFERMGR_ALLPROCESSED_EVENT', N'XE_DISPATCHER_JOIN',\r\n",
                "        N'XE_DISPATCHER_WAIT', N'XE_LIVE_TARGET_TVF', N'XE_TIMER_EVENT')\r\n",
                "    AND waiting_tasks_count > 0)\r\n",
                "SELECT\r\n",
                "    MAX (W1.wait_type) AS [WaitType],\r\n",
                "\tCAST (MAX (W1.Percentage) AS DECIMAL (5,2)) AS [Wait Percentage],\r\n",
                "\tCAST ((MAX (W1.WaitS) / MAX (W1.WaitCount)) AS DECIMAL (16,4)) AS [AvgWait_Sec],\r\n",
                "    CAST ((MAX (W1.ResourceS) / MAX (W1.WaitCount)) AS DECIMAL (16,4)) AS [AvgRes_Sec],\r\n",
                "    CAST ((MAX (W1.SignalS) / MAX (W1.WaitCount)) AS DECIMAL (16,4)) AS [AvgSig_Sec],\r\n",
                "    CAST (MAX (W1.WaitS) AS DECIMAL (16,2)) AS [Total_Wait_Sec],\r\n",
                "    CAST (MAX (W1.ResourceS) AS DECIMAL (16,2)) AS [Resource_Sec],\r\n",
                "    CAST (MAX (W1.SignalS) AS DECIMAL (16,2)) AS [Signal_Sec],\r\n",
                "    MAX (W1.WaitCount) AS [Wait Count]   \r\n",
                "FROM Waits AS W1\r\n",
                "INNER JOIN Waits AS W2\r\n",
                "ON W2.RowNum <= W1.RowNum\r\n",
                "GROUP BY W1.RowNum\r\n",
                "HAVING SUM (W2.Percentage) - MAX (W1.Percentage) < 99 -- percentage threshold\r\n",
                "OPTION (RECOMPILE);"
            ],
            "metadata": {
                "azdata_cell_guid": "7d10e589-3b70-48d0-8741-18dafd5152c9",
                "tags": [
                    "hide_input"
                ]
            },
            "outputs": [],
            "execution_count": null
        },
        {
            "cell_type": "markdown",
            "source": [
                "Cumulative wait stats are not as useful on an idle instance that is not under load or performance pressure\r\n",
                "\r\n",
                "[SQL Server Wait Types Library](https://bit.ly/2ePzYO2)\r\n",
                "\r\n",
                "[The SQL Server Wait Type Repository](https://bit.ly/1afzfjC)\r\n",
                "\r\n",
                "[Wait statistics, or please tell me where it hurts](https://bit.ly/2wsQHQE)\r\n",
                "\r\n",
                "[SQL Server 2005 Performance Tuning using the Waits and Queues](https://bit.ly/1o2NFoF)\r\n",
                "\r\n",
                "[sys.dm_os_wait_stats (Transact-SQL)](https://bit.ly/2Hjq9Yl)\r\n",
                ""
            ],
            "metadata": {
                "azdata_cell_guid": "1eecc47c-52fd-4f87-ac3d-da61635dc177"
            }
        },
        {
            "cell_type": "markdown",
            "source": [
                "## Get most frequently executed queries for this database (Query 25) (Query Execution Counts)"
            ],
            "metadata": {
                "azdata_cell_guid": "3cea974b-f126-4cab-86fc-4ce7e006de36"
            }
        },
        {
            "cell_type": "code",
            "source": [
                "-- Get most frequently executed queries for this database (Query 25) (Query Execution Counts)\r\n",
                "SELECT TOP(5) LEFT(t.[text], 50) AS [Short Query Text], qs.execution_count AS [Execution Count],\r\n",
                "qs.total_logical_reads AS [Total Logical Reads],\r\n",
                "qs.total_logical_reads/qs.execution_count AS [Avg Logical Reads],\r\n",
                "qs.total_worker_time AS [Total Worker Time],\r\n",
                "qs.total_worker_time/qs.execution_count AS [Avg Worker Time], \r\n",
                "qs.total_elapsed_time AS [Total Elapsed Time],\r\n",
                "qs.total_elapsed_time/qs.execution_count AS [Avg Elapsed Time],\r\n",
                "CASE WHEN CONVERT(nvarchar(max), qp.query_plan) COLLATE Latin1_General_BIN2 LIKE N'%<MissingIndexes>%' THEN 1 ELSE 0 END AS [Has Missing Index],\r\n",
                "qs.creation_time AS [Creation Time]\r\n",
                "--,t.[text] AS [Complete Query Text], qp.query_plan AS [Query Plan] -- uncomment out these columns if not copying results to Excel\r\n",
                "FROM sys.dm_exec_query_stats AS qs WITH (NOLOCK)\r\n",
                "CROSS APPLY sys.dm_exec_sql_text(plan_handle) AS t \r\n",
                "CROSS APPLY sys.dm_exec_query_plan(plan_handle) AS qp \r\n",
                "WHERE t.dbid = DB_ID()\r\n",
                "ORDER BY qs.execution_count DESC OPTION (RECOMPILE);"
            ],
            "metadata": {
                "azdata_cell_guid": "fc55c63f-8afc-473d-b713-3e6a347a2100",
                "tags": []
            },
            "outputs": [],
            "execution_count": null
        },
        {
            "cell_type": "markdown",
            "source": [
                "Tells you which cached queries are called the most often\r\n",
                "- This helps you characterize and baseline your workload\r\n",
                "- It also helps you find possible caching opportunities"
            ],
            "metadata": {
                "azdata_cell_guid": "d1fc8481-722e-4f0b-a0ba-e05b91b99298"
            }
        },
        {
            "cell_type": "markdown",
            "source": [
                "## Get top total worker time queries for this database (Query 26) (Top Worker Time Queries)"
            ],
            "metadata": {
                "azdata_cell_guid": "890b9229-47c8-4872-9a2c-5d9569603ba4"
            }
        },
        {
            "cell_type": "code",
            "source": [
                "-- Get top total worker time queries for this database (Query 26) (Top Worker Time Queries)\t\t\r\n",
                "SELECT TOP(5) DB_NAME(t.[dbid]) AS [Database Name], \r\n",
                "REPLACE(REPLACE(LEFT(t.[text], 50), CHAR(10),''), CHAR(13),'') AS [Short Query Text],  \r\n",
                "qs.total_worker_time AS [Total Worker Time], qs.min_worker_time AS [Min Worker Time],\r\n",
                "qs.total_worker_time/qs.execution_count AS [Avg Worker Time], \r\n",
                "qs.max_worker_time AS [Max Worker Time], \r\n",
                "qs.min_elapsed_time AS [Min Elapsed Time], \r\n",
                "qs.total_elapsed_time/qs.execution_count AS [Avg Elapsed Time], \r\n",
                "qs.max_elapsed_time AS [Max Elapsed Time],\r\n",
                "qs.min_logical_reads AS [Min Logical Reads],\r\n",
                "qs.total_logical_reads/qs.execution_count AS [Avg Logical Reads],\r\n",
                "qs.max_logical_reads AS [Max Logical Reads], \r\n",
                "qs.execution_count AS [Execution Count],\r\n",
                "CASE WHEN CONVERT(nvarchar(max), qp.query_plan) LIKE N'%<MissingIndexes>%' THEN 1 ELSE 0 END AS [Has Missing Index],  \r\n",
                "qs.creation_time AS [Creation Time]\r\n",
                "--,t.[text] AS [Query Text], qp.query_plan AS [Query Plan] -- uncomment out these columns if not copying results to Excel\r\n",
                "FROM sys.dm_exec_query_stats AS qs WITH (NOLOCK)\r\n",
                "CROSS APPLY sys.dm_exec_sql_text(plan_handle) AS t \r\n",
                "CROSS APPLY sys.dm_exec_query_plan(plan_handle) AS qp\r\n",
                "WHERE t.dbid = DB_ID() \r\n",
                "ORDER BY qs.total_worker_time DESC OPTION (RECOMPILE);"
            ],
            "metadata": {
                "azdata_cell_guid": "fa49d625-e688-45a7-84ee-1760095914dd",
                "tags": []
            },
            "outputs": [],
            "execution_count": null
        },
        {
            "cell_type": "markdown",
            "source": [
                "- Helps you find the most expensive queries from a CPU perspective for this database\r\n",
                "- Can also help track down parameter sniffing issues"
            ],
            "metadata": {
                "azdata_cell_guid": "4ff5babc-c7c2-4d9b-8ed4-9db63538045a"
            }
        },
        {
            "cell_type": "markdown",
            "source": [
                "## Get top 5 total logical reads queries for this database (Query 27) (Top Logical Reads Queries)"
            ],
            "metadata": {
                "azdata_cell_guid": "d478f882-9868-4b67-8550-56fb413b1006"
            }
        },
        {
            "cell_type": "code",
            "source": [
                "SELECT TOP(5) DB_NAME(t.[dbid]) AS [Database Name],\r\n",
                "REPLACE(REPLACE(LEFT(t.[text], 50), CHAR(10),''), CHAR(13),'') AS [Short Query Text], \r\n",
                "qs.total_logical_reads AS [Total Logical Reads],\r\n",
                "qs.min_logical_reads AS [Min Logical Reads],\r\n",
                "qs.total_logical_reads/qs.execution_count AS [Avg Logical Reads],\r\n",
                "qs.max_logical_reads AS [Max Logical Reads],   \r\n",
                "qs.min_worker_time AS [Min Worker Time],\r\n",
                "qs.total_worker_time/qs.execution_count AS [Avg Worker Time], \r\n",
                "qs.max_worker_time AS [Max Worker Time], \r\n",
                "qs.min_elapsed_time AS [Min Elapsed Time], \r\n",
                "qs.total_elapsed_time/qs.execution_count AS [Avg Elapsed Time], \r\n",
                "qs.max_elapsed_time AS [Max Elapsed Time],\r\n",
                "qs.execution_count AS [Execution Count],\r\n",
                "CASE WHEN CONVERT(nvarchar(max), qp.query_plan) LIKE N'%<MissingIndexes>%' THEN 1 ELSE 0 END AS [Has Missing Index],   \r\n",
                "qs.creation_time AS [Creation Time]\r\n",
                "--,t.[text] AS [Complete Query Text], qp.query_plan AS [Query Plan] -- uncomment out these columns if not copying results to Excel\r\n",
                "FROM sys.dm_exec_query_stats AS qs WITH (NOLOCK)\r\n",
                "CROSS APPLY sys.dm_exec_sql_text(plan_handle) AS t \r\n",
                "CROSS APPLY sys.dm_exec_query_plan(plan_handle) AS qp\r\n",
                "WHERE t.dbid = DB_ID()  \r\n",
                "ORDER BY qs.total_logical_reads DESC OPTION (RECOMPILE);"
            ],
            "metadata": {
                "azdata_cell_guid": "93db448c-7b02-486f-8d5e-1590c1ed03b8",
                "tags": [
                    "hide_input"
                ]
            },
            "outputs": [],
            "execution_count": null
        },
        {
            "cell_type": "markdown",
            "source": [
                "- Helps you find the most expensive queries from a memory perspective for this database\r\n",
                "- Can also help track down parameter sniffing issues"
            ],
            "metadata": {
                "azdata_cell_guid": "6afd9b3b-e2da-4b8e-a519-53bc1acc8b70"
            }
        },
        {
            "cell_type": "markdown",
            "source": [
                "## Get top average elapsed time queries for this database (Query 28) (Top Avg Elapsed Time Queries)"
            ],
            "metadata": {
                "azdata_cell_guid": "78425e5c-0f4a-40ad-8d4b-a310d6975e7b"
            }
        },
        {
            "cell_type": "code",
            "source": [
                "SELECT TOP(5) DB_NAME(t.[dbid]) AS [Database Name], \r\n",
                "REPLACE(REPLACE(LEFT(t.[text], 255), CHAR(10),''), CHAR(13),'') AS [Short Query Text],  \r\n",
                "qs.total_elapsed_time/qs.execution_count AS [Avg Elapsed Time],\r\n",
                "qs.min_elapsed_time, qs.max_elapsed_time, qs.last_elapsed_time,\r\n",
                "qs.execution_count AS [Execution Count],  \r\n",
                "qs.total_logical_reads/qs.execution_count AS [Avg Logical Reads], \r\n",
                "qs.total_physical_reads/qs.execution_count AS [Avg Physical Reads], \r\n",
                "qs.total_worker_time/qs.execution_count AS [Avg Worker Time],\r\n",
                "CASE WHEN CONVERT(nvarchar(max), qp.query_plan) LIKE N'%<MissingIndexes>%' THEN 1 ELSE 0 END AS [Has Missing Index],  \r\n",
                "qs.creation_time AS [Creation Time]\r\n",
                "-- , qp.query_plan AS [Query Plan] -- comment out this column if copying results to Excel\r\n",
                "FROM sys.dm_exec_query_stats AS qs WITH (NOLOCK)\r\n",
                "CROSS APPLY sys.dm_exec_sql_text(plan_handle) AS t \r\n",
                "CROSS APPLY sys.dm_exec_query_plan(plan_handle) AS qp\r\n",
                "WHERE t.dbid = DB_ID()  \r\n",
                "ORDER BY qs.total_elapsed_time/qs.execution_count DESC OPTION (RECOMPILE);"
            ],
            "metadata": {
                "azdata_cell_guid": "e8f4602a-17d7-4d1e-94f4-e870d9d1a6e0",
                "tags": []
            },
            "outputs": [],
            "execution_count": null
        },
        {
            "cell_type": "markdown",
            "source": [
                "- Helps you find the highest average elapsed time queries for this database\r\n",
                "- Can also help track down parameter sniffing issues"
            ],
            "metadata": {
                "azdata_cell_guid": "d78f5df6-24cc-413b-8ad7-22f17e5f4083"
            }
        },
        {
            "cell_type": "markdown",
            "source": [
                "## Missing Indexes for current database by Index Advantage  (Query 38) (Missing Indexes)"
            ],
            "metadata": {
                "azdata_cell_guid": "533323aa-8cb7-4093-8d82-93d0090ec47d"
            }
        },
        {
            "cell_type": "code",
            "source": [
                "-- Missing Indexes for current database by Index Advantage  (Query 38) (Missing Indexes)\r\n",
                "SELECT CONVERT(decimal(18,2), migs.user_seeks * migs.avg_total_user_cost * (migs.avg_user_impact * 0.01)) AS [index_advantage], \r\n",
                "FORMAT(migs.last_user_seek, 'yyyy-MM-dd HH:mm:ss') AS [last_user_seek], mid.[statement] AS [Database.Schema.Table], \r\n",
                "COUNT(1) OVER(PARTITION BY mid.[statement]) AS [missing_indexes_for_table], \r\n",
                "COUNT(1) OVER(PARTITION BY mid.[statement], mid.equality_columns) AS [similar_missing_indexes_for_table], \r\n",
                "mid.equality_columns, mid.inequality_columns, mid.included_columns, migs.user_seeks, \r\n",
                "CONVERT(decimal(18,2), migs.avg_total_user_cost) AS [avg_total_user_,cost], migs.avg_user_impact,\r\n",
                "REPLACE(REPLACE(LEFT(st.[text], 255), CHAR(10),''), CHAR(13),'') AS [Short Query Text],\r\n",
                "OBJECT_NAME(mid.[object_id]) AS [Table Name], p.rows AS [Table Rows]\r\n",
                "FROM sys.dm_db_missing_index_groups AS mig WITH (NOLOCK) \r\n",
                "INNER JOIN sys.dm_db_missing_index_group_stats_query AS migs WITH(NOLOCK) \r\n",
                "ON mig.index_group_handle = migs.group_handle \r\n",
                "CROSS APPLY sys.dm_exec_sql_text(migs.last_sql_handle) AS st \r\n",
                "INNER JOIN sys.dm_db_missing_index_details AS mid WITH (NOLOCK) \r\n",
                "ON mig.index_handle = mid.index_handle\r\n",
                "INNER JOIN sys.partitions AS p WITH (NOLOCK)\r\n",
                "ON p.[object_id] = mid.[object_id]\r\n",
                "WHERE mid.database_id = DB_ID()\r\n",
                "AND p.index_id < 2 \r\n",
                "ORDER BY index_advantage DESC OPTION (RECOMPILE);"
            ],
            "metadata": {
                "azdata_cell_guid": "e4ca4552-1b71-4293-885d-1a04bb843c0a",
                "tags": []
            },
            "outputs": [],
            "execution_count": null
        },
        {
            "cell_type": "markdown",
            "source": [
                "Look at index advantage, last user seek time, number of user seeks to help determine source and importance\r\n",
                "- SQL Server is overly eager to add included columns, so beware\r\n",
                "- Do not just blindly add indexes that show up from this query!!!\r\n",
                "\r\n",
                "Håkan Winther has given me some great suggestions for this query"
            ],
            "metadata": {
                "azdata_cell_guid": "0f638adc-52a3-4699-b890-f14128b3f4a8"
            }
        },
        {
            "cell_type": "markdown",
            "source": [
                "## Find missing index warnings for cached plans in the current database  (Query 39) (Missing Index Warnings)"
            ],
            "metadata": {
                "azdata_cell_guid": "642e72dd-3375-470f-a36d-6a5e40151c0a"
            }
        },
        {
            "cell_type": "code",
            "source": [
                "-- Find missing index warnings for cached plans in the current database  (Query 39) (Missing Index Warnings)\r\n",
                "-- Note: This query could take some time on a busy instance\r\n",
                "SELECT TOP(25) OBJECT_NAME(objectid) AS [ObjectName], \r\n",
                "               cp.objtype, cp.usecounts, cp.size_in_bytes, qp.query_plan\r\n",
                "FROM sys.dm_exec_cached_plans AS cp WITH (NOLOCK)\r\n",
                "CROSS APPLY sys.dm_exec_query_plan(cp.plan_handle) AS qp\r\n",
                "WHERE CAST(query_plan AS NVARCHAR(MAX)) LIKE N'%MissingIndex%'\r\n",
                "AND dbid = DB_ID()\r\n",
                "ORDER BY cp.usecounts DESC OPTION (RECOMPILE);"
            ],
            "metadata": {
                "azdata_cell_guid": "09c74348-103b-49a4-a88a-d9da6ef20045",
                "tags": [
                    "hide_input"
                ]
            },
            "outputs": [],
            "execution_count": null
        },
        {
            "cell_type": "markdown",
            "source": [
                "Helps you connect missing indexes to specific stored procedures or queries\r\n",
                "- This can help you decide whether to add them or not"
            ],
            "metadata": {
                "azdata_cell_guid": "8a0cf94b-3603-424b-9015-51215a0c23d9"
            }
        },
        {
            "cell_type": "markdown",
            "source": [
                "## Get Table names, row counts, and compression status for clustered index or heap  (Query 41) (Table Sizes)"
            ],
            "metadata": {
                "azdata_cell_guid": "0180bfe5-9ef8-4155-95e5-1014e1ba6b2f"
            }
        },
        {
            "cell_type": "code",
            "source": [
                "-- Get Table names, row counts, and compression status for clustered index or heap  (Query 41) (Table Sizes)\r\n",
                "SELECT TOP 10 SCHEMA_NAME(o.Schema_ID) AS [Schema Name], OBJECT_NAME(p.object_id) AS [ObjectName], \r\n",
                "SUM(p.Rows) AS [RowCount], p.data_compression_desc AS [Compression Type]\r\n",
                "FROM sys.partitions AS p WITH (NOLOCK)\r\n",
                "INNER JOIN sys.objects AS o WITH (NOLOCK)\r\n",
                "ON p.object_id = o.object_id\r\n",
                "WHERE index_id < 2 --ignore the partitions from the non-clustered index if any\r\n",
                "AND OBJECT_NAME(p.object_id) NOT LIKE N'sys%'\r\n",
                "AND OBJECT_NAME(p.object_id) NOT LIKE N'spt_%'\r\n",
                "AND OBJECT_NAME(p.object_id) NOT LIKE N'queue_%' \r\n",
                "AND OBJECT_NAME(p.object_id) NOT LIKE N'filestream_tombstone%' \r\n",
                "AND OBJECT_NAME(p.object_id) NOT LIKE N'fulltext%'\r\n",
                "AND OBJECT_NAME(p.object_id) NOT LIKE N'ifts_comp_fragment%'\r\n",
                "AND OBJECT_NAME(p.object_id) NOT LIKE N'filetable_updates%'\r\n",
                "AND OBJECT_NAME(p.object_id) NOT LIKE N'xml_index_nodes%'\r\n",
                "AND OBJECT_NAME(p.object_id) NOT LIKE N'sqlagent_job%'\r\n",
                "AND OBJECT_NAME(p.object_id) NOT LIKE N'plan_persist%'\r\n",
                "GROUP BY  SCHEMA_NAME(o.Schema_ID), p.object_id, data_compression_desc\r\n",
                "ORDER BY SUM(p.Rows) DESC OPTION (RECOMPILE);"
            ],
            "metadata": {
                "azdata_cell_guid": "701f9349-8d63-45ec-bdb6-268c38fb52dd",
                "tags": []
            },
            "outputs": [],
            "execution_count": null
        },
        {
            "cell_type": "markdown",
            "source": [
                "Gives you an idea of table sizes, and possible data compression opportunities"
            ],
            "metadata": {
                "azdata_cell_guid": "7d2279f7-f275-4cee-b0ab-4ee8622e6d30"
            }
        },
        {
            "cell_type": "markdown",
            "source": [
                "## When were Statistics last updated on for 10 oldest ones? (Query 43) (Statistics Update)"
            ],
            "metadata": {
                "azdata_cell_guid": "8f276f88-0917-4dfd-b558-362066d8b3af"
            }
        },
        {
            "cell_type": "code",
            "source": [
                "-- When were Statistics last updated on all indexes?  (Query 43) (Statistics Update)\r\n",
                "SELECT TOP 10  SCHEMA_NAME(o.Schema_ID) + N'.' + o.[NAME] AS [Object Name], o.[type_desc] AS [Object Type],\r\n",
                "      i.[name] AS [Index Name], STATS_DATE(i.[object_id], i.index_id) AS [Statistics Date], \r\n",
                "      s.auto_created, s.no_recompute, s.user_created, s.is_incremental, s.is_temporary,\r\n",
                "\t  st.row_count, st.used_page_count\r\n",
                "FROM sys.objects AS o WITH (NOLOCK)\r\n",
                "INNER JOIN sys.indexes AS i WITH (NOLOCK)\r\n",
                "ON o.[object_id] = i.[object_id]\r\n",
                "INNER JOIN sys.stats AS s WITH (NOLOCK)\r\n",
                "ON i.[object_id] = s.[object_id] \r\n",
                "AND i.index_id = s.stats_id\r\n",
                "INNER JOIN sys.dm_db_partition_stats AS st WITH (NOLOCK)\r\n",
                "ON o.[object_id] = st.[object_id]\r\n",
                "AND i.[index_id] = st.[index_id]\r\n",
                "WHERE o.[type] IN ('U', 'V')\r\n",
                "AND st.row_count > 0\r\n",
                "AND STATS_DATE(i.[object_id], i.index_id) < DATEADD(DAY, -10, GETDATE())\r\n",
                "ORDER BY STATS_DATE(i.[object_id], i.index_id) ASC OPTION (RECOMPILE);"
            ],
            "metadata": {
                "azdata_cell_guid": "fe8f81d9-14fe-4c7a-86c4-b3b2b495a368",
                "tags": []
            },
            "outputs": [],
            "execution_count": null
        },
        {
            "cell_type": "markdown",
            "source": [
                "Helps discover possible problems with out-of-date statistics\r\n",
                "- Also gives you an idea which indexes are the most active\r\n",
                "\r\n",
                "[sys.stats (Transact-SQL)](https://bit.ly/2GyAxrn)\r\n",
                "\r\n",
                "[UPDATEs to Statistics (Erin Stellato)](https://bit.ly/2vhrYQy)"
            ],
            "metadata": {
                "azdata_cell_guid": "063735c2-add0-43b4-9bec-2eebbe54a4f7"
            }
        },
        {
            "cell_type": "markdown",
            "source": [
                "## Look at most frequently modified indexes and statistics (Query 44) (Volatile Indexes)"
            ],
            "metadata": {
                "azdata_cell_guid": "1c6607f6-bb73-48cd-bd31-3d265f109012"
            }
        },
        {
            "cell_type": "code",
            "source": [
                "-- Look at most frequently modified indexes and statistics (Query 44) (Volatile Indexes)\r\n",
                "SELECT o.[name] AS [Object Name], o.[object_id], o.[type_desc], s.[name] AS [Statistics Name], \r\n",
                "       s.stats_id, s.no_recompute, s.auto_created, s.is_incremental, s.is_temporary,\r\n",
                "\t   sp.modification_counter, sp.[rows], sp.rows_sampled, sp.last_updated\r\n",
                "FROM sys.objects AS o WITH (NOLOCK)\r\n",
                "INNER JOIN sys.stats AS s WITH (NOLOCK)\r\n",
                "ON s.object_id = o.object_id\r\n",
                "CROSS APPLY sys.dm_db_stats_properties(s.object_id, s.stats_id) AS sp\r\n",
                "WHERE o.[type_desc] NOT IN (N'SYSTEM_TABLE', N'INTERNAL_TABLE')\r\n",
                "AND sp.modification_counter > 0\r\n",
                "ORDER BY sp.modification_counter DESC, o.name OPTION (RECOMPILE);"
            ],
            "metadata": {
                "azdata_cell_guid": "a1964ddc-e7a6-42f2-b6d6-b030418c331d",
                "tags": [
                    "hide_input"
                ]
            },
            "outputs": [],
            "execution_count": null
        },
        {
            "cell_type": "markdown",
            "source": [
                "This helps you understand your workload and make better decisions about things like data compression and adding new indexes to a table"
            ],
            "metadata": {
                "azdata_cell_guid": "6d8ab598-686e-4a10-9b94-8484328efb20"
            }
        },
        {
            "cell_type": "markdown",
            "source": [
                "## Get fragmentation info for all indexes above a certain size in the current database  (Query 45) (Index Fragmentation)"
            ],
            "metadata": {
                "azdata_cell_guid": "9031de0d-fc38-4219-8a88-9728f0ebc79d"
            }
        },
        {
            "cell_type": "code",
            "source": [
                "-- Get fragmentation info for all indexes above a certain size in the current database  (Query 45) (Index Fragmentation)\r\n",
                "-- Note: This query could take some time on a very large database\r\n",
                "SELECT DB_NAME(ps.database_id) AS [Database Name], SCHEMA_NAME(o.[schema_id]) AS [Schema Name],\r\n",
                "OBJECT_NAME(ps.OBJECT_ID) AS [Object Name], i.[name] AS [Index Name], ps.index_id, \r\n",
                "ps.index_type_desc, ps.avg_fragmentation_in_percent, \r\n",
                "ps.fragment_count, ps.page_count, i.fill_factor, i.has_filter, \r\n",
                "i.filter_definition, i.[allow_page_locks]\r\n",
                "FROM sys.dm_db_index_physical_stats(DB_ID(),NULL, NULL, NULL , N'LIMITED') AS ps\r\n",
                "INNER JOIN sys.indexes AS i WITH (NOLOCK)\r\n",
                "ON ps.[object_id] = i.[object_id] \r\n",
                "AND ps.index_id = i.index_id\r\n",
                "INNER JOIN sys.objects AS o WITH (NOLOCK)\r\n",
                "ON i.[object_id] = o.[object_id]\r\n",
                "WHERE ps.database_id = DB_ID()\r\n",
                "AND ps.page_count > 2500\r\n",
                "ORDER BY ps.avg_fragmentation_in_percent DESC OPTION (RECOMPILE);"
            ],
            "metadata": {
                "azdata_cell_guid": "6b898df7-b614-4bc5-a032-d475485e7dad",
                "tags": [
                    "hide_input"
                ]
            },
            "outputs": [],
            "execution_count": null
        },
        {
            "cell_type": "markdown",
            "source": [
                "Helps determine whether you have framentation in your relational indexes and how effective your index maintenance strategy is.\r\n",
                ""
            ],
            "metadata": {
                "azdata_cell_guid": "fca99494-6705-40ff-9c22-5aa40f158c82"
            }
        },
        {
            "cell_type": "markdown",
            "source": [
                "## Index Read/Write stats (TOP 20 in current DB) ordered by Reads (Query 46) (Overall Index Usage - Reads)"
            ],
            "metadata": {
                "azdata_cell_guid": "1a3ff6ab-165b-411d-8baf-713b6f322dc2"
            }
        },
        {
            "cell_type": "code",
            "source": [
                "--- Index Read/Write stats (all tables in current DB) ordered by Reads  (Query 46) (Overall Index Usage - Reads)\r\n",
                "SELECT top 20 \r\n",
                "\t\tOBJECT_NAME(i.[object_id]) AS [ObjectName], i.[name] AS [IndexName], i.index_id, \r\n",
                "       s.user_seeks, s.user_scans, s.user_lookups,\r\n",
                "\t   s.user_seeks + s.user_scans + s.user_lookups AS [Total Reads], \r\n",
                "\t   s.user_updates AS [Writes],  \r\n",
                "\t   i.[type_desc] AS [Index Type], i.fill_factor AS [Fill Factor], i.has_filter, i.filter_definition, \r\n",
                "\t   s.last_user_scan, s.last_user_lookup, s.last_user_seek\r\n",
                "FROM sys.indexes AS i WITH (NOLOCK)\r\n",
                "LEFT OUTER JOIN sys.dm_db_index_usage_stats AS s WITH (NOLOCK)\r\n",
                "ON i.[object_id] = s.[object_id]\r\n",
                "AND i.index_id = s.index_id\r\n",
                "AND s.database_id = DB_ID()\r\n",
                "WHERE OBJECTPROPERTY(i.[object_id],'IsUserTable') = 1\r\n",
                "AND ISNULL(s.user_seeks + s.user_scans + s.user_lookups, 0) > 0\r\n",
                "ORDER BY s.user_seeks + s.user_scans + s.user_lookups DESC OPTION (RECOMPILE); -- Order by reads"
            ],
            "metadata": {
                "azdata_cell_guid": "f2c4b007-fcfb-4e9b-ac40-d7db4caca72f",
                "tags": []
            },
            "outputs": [],
            "execution_count": null
        },
        {
            "cell_type": "markdown",
            "source": [
                "Show which indexes in the current database are most active for Reads"
            ],
            "metadata": {
                "azdata_cell_guid": "3235069d-8003-4494-8145-67cf065d3ee6"
            }
        },
        {
            "cell_type": "markdown",
            "source": [
                "## Index Read/Write stats (TOP 20 in current DB) ordered by Writes (Query 47) (Overall Index Usage - Writes)"
            ],
            "metadata": {
                "azdata_cell_guid": "a3dafd2f-5693-492e-8e7b-f558c4ec624e"
            }
        },
        {
            "cell_type": "code",
            "source": [
                "--- Index Read/Write stats (all tables in current DB) ordered by Writes  (Query 47) (Overall Index Usage - Writes)\r\n",
                "SELECT TOP 20 OBJECT_NAME(i.[object_id]) AS [ObjectName], i.[name] AS [IndexName], i.index_id,\r\n",
                "\t   s.user_updates AS [Writes], s.user_seeks + s.user_scans + s.user_lookups AS [Total Reads], \r\n",
                "\t   i.[type_desc] AS [Index Type], i.fill_factor AS [Fill Factor], i.has_filter, i.filter_definition,\r\n",
                "\t   s.last_system_update, s.last_user_update\r\n",
                "FROM sys.indexes AS i WITH (NOLOCK)\r\n",
                "LEFT OUTER JOIN sys.dm_db_index_usage_stats AS s WITH (NOLOCK)\r\n",
                "ON i.[object_id] = s.[object_id]\r\n",
                "AND i.index_id = s.index_id\r\n",
                "AND s.database_id = DB_ID()\r\n",
                "WHERE OBJECTPROPERTY(i.[object_id],'IsUserTable') = 1\r\n",
                "AND (s.user_seeks > 0 OR s.user_scans > 0 OR s.user_lookups > 0)\r\n",
                "ORDER BY s.user_updates DESC OPTION (RECOMPILE);\t\t\t\t\t\t -- Order by writes"
            ],
            "metadata": {
                "azdata_cell_guid": "093a4673-62b7-49ec-af4c-8e9568308ddd",
                "tags": []
            },
            "outputs": [],
            "execution_count": null
        },
        {
            "cell_type": "markdown",
            "source": [
                "Show which indexes in the current database are most active for Writes"
            ],
            "metadata": {
                "azdata_cell_guid": "9462fedd-8cc2-48ff-9e59-ec9bb6d0e1e1"
            }
        },
        {
            "cell_type": "markdown",
            "source": [
                "## Get in-memory OLTP index usage (Query 48) (XTP Index Usage)"
            ],
            "metadata": {
                "azdata_cell_guid": "7fb895d5-7d7c-49d1-b459-bea8648eee59"
            }
        },
        {
            "cell_type": "code",
            "source": [
                "-- Get in-memory OLTP index usage (Query 48) (XTP Index Usage)\r\n",
                "SELECT OBJECT_NAME(i.[object_id]) AS [Object Name], i.index_id, i.[name] AS [Index Name],\r\n",
                "       i.[type_desc], xis.scans_started, xis.scans_retries, \r\n",
                "\t   xis.rows_touched, xis.rows_returned\r\n",
                "FROM sys.dm_db_xtp_index_stats AS xis WITH (NOLOCK)\r\n",
                "INNER JOIN sys.indexes AS i WITH (NOLOCK)\r\n",
                "ON i.[object_id] = xis.[object_id] \r\n",
                "AND i.index_id = xis.index_id \r\n",
                "ORDER BY OBJECT_NAME(i.[object_id]) OPTION (RECOMPILE);"
            ],
            "metadata": {
                "azdata_cell_guid": "b597c25f-b779-4e85-8936-e00ebb16749a",
                "tags": [
                    "hide_input"
                ]
            },
            "outputs": [],
            "execution_count": null
        },
        {
            "cell_type": "markdown",
            "source": [
                "This gives you some index usage statistics for in-memory OLTP\r\n",
                "- Returns no data if you are not using in-memory OLTP\r\n",
                "\r\n",
                "[Guidelines for Using Indexes on Memory-Optimized Tables](https://bit.ly/2GCP8lF)"
            ],
            "metadata": {
                "azdata_cell_guid": "aa0d0dc8-bf0d-4e26-bc90-6c9d674600c1"
            }
        },
        {
            "cell_type": "markdown",
            "source": [
                "## Get database automatic tuning options (Query 56) (Automatic Tuning Options)"
            ],
            "metadata": {
                "azdata_cell_guid": "5b5aa22a-ec08-4883-9ba3-5b493dcfad62"
            }
        },
        {
            "cell_type": "code",
            "source": [
                "-- Get database automatic tuning options (Query 56) (Automatic Tuning Options)\r\n",
                "SELECT [name], desired_state_desc, actual_state_desc, reason_desc\r\n",
                "FROM sys.database_automatic_tuning_options WITH (NOLOCK)\r\n",
                "OPTION (RECOMPILE);"
            ],
            "metadata": {
                "azdata_cell_guid": "92e12733-6eab-464e-bad6-8e193a5bb024",
                "tags": [
                    "hide_input"
                ]
            },
            "outputs": [],
            "execution_count": null
        },
        {
            "cell_type": "markdown",
            "source": [
                "[sys.database_automatic_tuning_options (Transact-SQL)](https://bit.ly/2FHhLkL)"
            ],
            "metadata": {
                "azdata_cell_guid": "0739c550-fd16-4268-9146-858c7d33ab84"
            }
        },
        {
            "cell_type": "markdown",
            "source": [
                "## Retrieve some Azure SQL Database properties (Query 58) (Azure SQL DB Properties)"
            ],
            "metadata": {
                "azdata_cell_guid": "c6705624-b8e9-4015-89dd-df10814b2591"
            }
        },
        {
            "cell_type": "code",
            "source": [
                "-- Retrieve some Azure SQL Database properties (Query 58) (Azure SQL DB Properties)\r\n",
                "SELECT DATABASEPROPERTYEX (DB_NAME(DB_ID()), 'Edition') AS [Database Edition],\r\n",
                "\t   DATABASEPROPERTYEX (DB_NAME(DB_ID()), 'ServiceObjective') AS [Service Objective],\r\n",
                "\t   DATABASEPROPERTYEX (DB_NAME(DB_ID()), 'MaxSizeInBytes') AS [Max Size In Bytes],\r\n",
                "\t   DATABASEPROPERTYEX (DB_NAME(DB_ID()), 'IsXTPSupported') AS [Is XTP Supported]\r\n",
                "\t   OPTION (RECOMPILE);   "
            ],
            "metadata": {
                "azdata_cell_guid": "2975ca3e-c10a-425b-aebc-3db37f38855c",
                "tags": [
                    "hide_input"
                ]
            },
            "outputs": [],
            "execution_count": null
        },
        {
            "cell_type": "markdown",
            "source": [
                "# Appendix\r\n",
                "\r\n",
                "**These six Pluralsight Courses go into more detail about how to run these queries and interpret the results**\r\n",
                "\r\n",
                "- [Azure SQL Database: Diagnosing Performance Issues with DMVs](https://bit.ly/2meDRCN)\r\n",
                "- [SQL Server 2017: Diagnosing Performance Issues with DMVs](https://bit.ly/2FqCeti)\r\n",
                "- [SQL Server 2017: Diagnosing Configuration Issues with DMVs](https://bit.ly/2MSUDUL)\r\n",
                "- [SQL Server 2014 DMV Diagnostic Queries – Part 1](https://bit.ly/2plxCer) \r\n",
                "- [SQL Server 2014 DMV Diagnostic Queries – Part 2](https://bit.ly/2IuJpzI)\r\n",
                "- [SQL Server 2014 DMV Diagnostic Queries – Part 3](https://bit.ly/2FIlCPb)\r\n",
                "\r\n",
                "\r\n",
                "\r\n",
                "\r\n",
                "[Microsoft Visual Studio Dev Essentials](https://bit.ly/2qjNRxi)\r\n",
                "\r\n",
                "[Microsoft Azure Learn](https://bit.ly/2O0Hacc)"
            ],
            "metadata": {
                "azdata_cell_guid": "e0569096-089f-44d7-99cb-9adaf1e3e8e7"
            }
        }
    ]
}