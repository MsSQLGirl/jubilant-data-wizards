{
    "metadata": {
        "kernelspec": {
            "name": "SQL",
            "display_name": "SQL",
            "language": "sql"
        },
        "language_info": {
            "name": "sql",
            "version": ""
        }
    },
    "nbformat_minor": 2,
    "nbformat": 4,
    "cells": [
        {
            "cell_type": "markdown",
            "source": [
                "Happy \"What ever day of the week is this\" Day 🤩\r\n",
                ""
            ],
            "metadata": {
                "azdata_cell_guid": "2ae68e7b-be77-4aef-8bae-a90a26792f7a"
            }
        },
        {
            "cell_type": "code",
            "source": [
                "SELECT DATEDIFF(DAY, '20200303', GETDATE()) AS DayNumber"
            ],
            "metadata": {
                "azdata_cell_guid": "3ff47c9e-6a53-4928-acc5-0dd388f9fa35"
            },
            "outputs": [
                {
                    "output_type": "display_data",
                    "data": {
                        "text/html": "(1 row affected)"
                    },
                    "metadata": {}
                },
                {
                    "output_type": "display_data",
                    "data": {
                        "text/html": "Total execution time: 00:00:00.052"
                    },
                    "metadata": {}
                },
                {
                    "output_type": "execute_result",
                    "metadata": {},
                    "execution_count": 1,
                    "data": {
                        "application/vnd.dataresource+json": {
                            "schema": {
                                "fields": [
                                    {
                                        "name": "DayNumber"
                                    }
                                ]
                            },
                            "data": [
                                {
                                    "0": "513"
                                }
                            ]
                        },
                        "text/html": [
                            "<table>",
                            "<tr><th>DayNumber</th></tr>",
                            "<tr><td>513</td></tr>",
                            "</table>"
                        ]
                    }
                }
            ],
            "execution_count": 1
        },
        {
            "cell_type": "markdown",
            "source": [
                "\r\n",
                "![](https://i.pinimg.com/originals/0d/d9/fe/0dd9fec410bd390145ccb28e9b00f029.gif)"
            ],
            "metadata": {
                "azdata_cell_guid": "c0d22195-7b3e-4b11-9aa2-59e7d7359f84"
            }
        }
    ]
}